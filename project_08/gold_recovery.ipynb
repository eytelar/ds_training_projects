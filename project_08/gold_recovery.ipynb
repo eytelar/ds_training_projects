{
 "cells": [
  {
   "cell_type": "markdown",
   "metadata": {
    "toc": true
   },
   "source": [
    "<h1>Содержание<span class=\"tocSkip\"></span></h1>\n",
    "<div class=\"toc\"><ul class=\"toc-item\"><li><span><a href=\"#Импорт-библиотек-и-изучение-общей-информации\" data-toc-modified-id=\"Импорт-библиотек-и-изучение-общей-информации-1\"><span class=\"toc-item-num\">1&nbsp;&nbsp;</span>Импорт библиотек и изучение общей информации</a></span><ul class=\"toc-item\"><li><span><a href=\"#✅-Вывод:\" data-toc-modified-id=\"✅-Вывод:-1.1\"><span class=\"toc-item-num\">1.1&nbsp;&nbsp;</span>✅ Вывод:</a></span></li></ul></li><li><span><a href=\"#Предобработка-данных\" data-toc-modified-id=\"Предобработка-данных-2\"><span class=\"toc-item-num\">2&nbsp;&nbsp;</span>Предобработка данных</a></span><ul class=\"toc-item\"><li><span><a href=\"#Первичная-предобработка-данных\" data-toc-modified-id=\"Первичная-предобработка-данных-2.1\"><span class=\"toc-item-num\">2.1&nbsp;&nbsp;</span>Первичная предобработка данных</a></span></li><li><span><a href=\"#Проверка-расчёта-эффективности-обогащения\" data-toc-modified-id=\"Проверка-расчёта-эффективности-обогащения-2.2\"><span class=\"toc-item-num\">2.2&nbsp;&nbsp;</span>Проверка расчёта эффективности обогащения</a></span></li><li><span><a href=\"#Анализ-признаков,-недоступных-в-тестовой-выборке\" data-toc-modified-id=\"Анализ-признаков,-недоступных-в-тестовой-выборке-2.3\"><span class=\"toc-item-num\">2.3&nbsp;&nbsp;</span>Анализ признаков, недоступных в тестовой выборке</a></span></li><li><span><a href=\"#Вторичная-предобработка-данных\" data-toc-modified-id=\"Вторичная-предобработка-данных-2.4\"><span class=\"toc-item-num\">2.4&nbsp;&nbsp;</span>Вторичная предобработка данных</a></span></li><li><span><a href=\"#✅-Вывод:\" data-toc-modified-id=\"✅-Вывод:-2.5\"><span class=\"toc-item-num\">2.5&nbsp;&nbsp;</span>✅ Вывод:</a></span></li></ul></li><li><span><a href=\"#Анализ-данных\" data-toc-modified-id=\"Анализ-данных-3\"><span class=\"toc-item-num\">3&nbsp;&nbsp;</span>Анализ данных</a></span><ul class=\"toc-item\"><li><span><a href=\"#Исследование-изменения-концентрации-элементов-на-каждом-этапе\" data-toc-modified-id=\"Исследование-изменения-концентрации-элементов-на-каждом-этапе-3.1\"><span class=\"toc-item-num\">3.1&nbsp;&nbsp;</span>Исследование изменения концентрации элементов на каждом этапе</a></span></li><li><span><a href=\"#Анализ-распределения-размеров-гранул-на-обучающей-и-тестовой-выборках\" data-toc-modified-id=\"Анализ-распределения-размеров-гранул-на-обучающей-и-тестовой-выборках-3.2\"><span class=\"toc-item-num\">3.2&nbsp;&nbsp;</span>Анализ распределения размеров гранул на обучающей и тестовой выборках</a></span></li><li><span><a href=\"#Исследование-суммарных-концентраций\" data-toc-modified-id=\"Исследование-суммарных-концентраций-3.3\"><span class=\"toc-item-num\">3.3&nbsp;&nbsp;</span>Исследование суммарных концентраций</a></span></li><li><span><a href=\"#✅-Вывод:\" data-toc-modified-id=\"✅-Вывод:-3.4\"><span class=\"toc-item-num\">3.4&nbsp;&nbsp;</span>✅ Вывод:</a></span></li></ul></li><li><span><a href=\"#Модель\" data-toc-modified-id=\"Модель-4\"><span class=\"toc-item-num\">4&nbsp;&nbsp;</span>Модель</a></span><ul class=\"toc-item\"><li><span><a href=\"#Функция-для-вычисления-итогового-sMAPE\" data-toc-modified-id=\"Функция-для-вычисления-итогового-sMAPE-4.1\"><span class=\"toc-item-num\">4.1&nbsp;&nbsp;</span>Функция для вычисления итогового sMAPE</a></span></li><li><span><a href=\"#Обучение-и-проверка-моделей\" data-toc-modified-id=\"Обучение-и-проверка-моделей-4.2\"><span class=\"toc-item-num\">4.2&nbsp;&nbsp;</span>Обучение и проверка моделей</a></span><ul class=\"toc-item\"><li><span><a href=\"#Решающее-дерево\" data-toc-modified-id=\"Решающее-дерево-4.2.1\"><span class=\"toc-item-num\">4.2.1&nbsp;&nbsp;</span>Решающее дерево</a></span></li><li><span><a href=\"#Случайный-лес\" data-toc-modified-id=\"Случайный-лес-4.2.2\"><span class=\"toc-item-num\">4.2.2&nbsp;&nbsp;</span>Случайный лес</a></span></li><li><span><a href=\"#Линейная-регрессия\" data-toc-modified-id=\"Линейная-регрессия-4.2.3\"><span class=\"toc-item-num\">4.2.3&nbsp;&nbsp;</span>Линейная регрессия</a></span></li></ul></li><li><span><a href=\"#✅-Вывод:\" data-toc-modified-id=\"✅-Вывод:-4.3\"><span class=\"toc-item-num\">4.3&nbsp;&nbsp;</span>✅ Вывод:</a></span></li></ul></li><li><span><a href=\"#Проверка-модели-на-тестовом-наборе-данных\" data-toc-modified-id=\"Проверка-модели-на-тестовом-наборе-данных-5\"><span class=\"toc-item-num\">5&nbsp;&nbsp;</span>Проверка модели на тестовом наборе данных</a></span><ul class=\"toc-item\"><li><span><a href=\"#Проверка-модели-случайного-леса\" data-toc-modified-id=\"Проверка-модели-случайного-леса-5.1\"><span class=\"toc-item-num\">5.1&nbsp;&nbsp;</span>Проверка модели случайного леса</a></span></li><li><span><a href=\"#Проверка-константной-модели\" data-toc-modified-id=\"Проверка-константной-модели-5.2\"><span class=\"toc-item-num\">5.2&nbsp;&nbsp;</span>Проверка константной модели</a></span></li><li><span><a href=\"#✅-Вывод:\" data-toc-modified-id=\"✅-Вывод:-5.3\"><span class=\"toc-item-num\">5.3&nbsp;&nbsp;</span>✅ Вывод:</a></span></li></ul></li><li><span><a href=\"#Общий-вывод\" data-toc-modified-id=\"Общий-вывод-6\"><span class=\"toc-item-num\">6&nbsp;&nbsp;</span>Общий вывод</a></span></li><li><span><a href=\"#Чек-лист-готовности-проекта\" data-toc-modified-id=\"Чек-лист-готовности-проекта-7\"><span class=\"toc-item-num\">7&nbsp;&nbsp;</span>Чек-лист готовности проекта</a></span></li></ul></div>"
   ]
  },
  {
   "cell_type": "markdown",
   "metadata": {},
   "source": [
    "# Восстановление золота из руды"
   ]
  },
  {
   "cell_type": "markdown",
   "metadata": {},
   "source": [
    "Подготовьте прототип модели машинного обучения для «Цифры». Компания разрабатывает решения для эффективной работы промышленных предприятий.\n",
    "\n",
    "Модель должна предсказать коэффициент восстановления золота из золотосодержащей руды. Используйте данные с параметрами добычи и очистки. \n",
    "\n",
    "Модель поможет оптимизировать производство, чтобы не запускать предприятие с убыточными характеристиками.\n",
    "\n",
    "Вам нужно:\n",
    "\n",
    "1. Подготовить данные;\n",
    "2. Провести исследовательский анализ данных;\n",
    "3. Построить и обучить модель.\n",
    "\n",
    "Чтобы выполнить проект, обращайтесь к библиотекам *pandas*, *matplotlib* и *sklearn.* Вам поможет их документация."
   ]
  },
  {
   "cell_type": "markdown",
   "metadata": {},
   "source": [
    "# Подготовка данных"
   ]
  },
  {
   "cell_type": "markdown",
   "metadata": {},
   "source": [
    "## Импорт библиотек и изучение общей информации"
   ]
  },
  {
   "cell_type": "code",
   "execution_count": 1,
   "metadata": {},
   "outputs": [],
   "source": [
    "import pandas as pd\n",
    "import numpy as np\n",
    "\n",
    "# графики\n",
    "import seaborn as sns\n",
    "import matplotlib.pyplot as plt\n",
    "\n",
    "# метрики\n",
    "from sklearn.metrics import mean_absolute_error, make_scorer\n",
    "\n",
    "# модели\n",
    "from sklearn.tree import DecisionTreeRegressor\n",
    "from sklearn.ensemble import RandomForestRegressor\n",
    "from sklearn.linear_model import LinearRegression\n",
    "from sklearn.dummy import DummyRegressor\n",
    "\n",
    "# пайплайн\n",
    "from sklearn.pipeline import make_pipeline\n",
    "\n",
    "# кросс-валидация и нормализация \n",
    "from sklearn.preprocessing import StandardScaler\n",
    "from sklearn.model_selection import cross_val_score\n",
    "from sklearn.model_selection import RandomizedSearchCV\n",
    "\n",
    "# отображение данных\n",
    "pd.set_option('max_rows', None)\n",
    "pd.set_option('display.max_columns', None)\n",
    "\n",
    "# отключение предупреждений\n",
    "import warnings\n",
    "warnings.simplefilter(action='ignore', category=FutureWarning)"
   ]
  },
  {
   "cell_type": "code",
   "execution_count": 2,
   "metadata": {},
   "outputs": [],
   "source": [
    "data_train = pd.read_csv('/datasets/gold_recovery_train_new.csv')\n",
    "data_test = pd.read_csv('/datasets/gold_recovery_test_new.csv')\n",
    "data_full = pd.read_csv('/datasets/gold_recovery_full_new.csv')"
   ]
  },
  {
   "cell_type": "markdown",
   "metadata": {},
   "source": [
    "<div>\n",
    "    <br> Для лучшего понимания процессов разбёрем подробнее что же представляет из себя технологический процесс восстановления золота из золотосодержащей руды\n",
    "    <br>\n",
    "    <br>Когда добытая руда проходит первичную обработку, получается дроблёная смесь (rougher feed). Её отправляют на флотацию и двухэтапную очистку.\n",
    "    <br>\n",
    "    <br><strong>Флотация</strong> (Rougher process) представляет собой метод обогащения полезных ископаемых. Этот способ основан на способности одних частиц – гидрофильных - легко смачиваться жидкостью и отделяться от других частиц – гидрофобных. Процесс происходит в жидкой среде, которая аэрируется воздухом.\n",
    "    <br>\n",
    "    <br> ► Разделение руды на элементы происходит на границе двух разных средств. Во флотационной установке (float banks) гидрофобные частички прилипают к пузырькам газа и поднимаются на поверхность, в то время как гидрофильные элементы оседают на дне емкости. Этот процесс имеет высокую эффективность и экономичность.\n",
    "    <br>► В процессе обогащения руд выделяются черновые концентраты (один или несколько) и отвальные хвосты (rougher tails).\n",
    "    <br>\n",
    "    <br><strong>Концентратом</strong> называется продукт обогащения, содержащий значительно больше ценного компонента по сравнению с исходным. Концентраты называют по основному металлу, входящему в их состав, например, свинцовый, молибденовый, литиевый и др.\n",
    "    <br><strong>Отвальными хвостами</strong> называют отходы обогащения, содержащие главным образом минералы вмещающих пород и незначительные количества ценных компонентов, извлечение которых при современном уровне технологии и техники обогащения затруднено или экономически невыгодно. \n",
    "    <br>\n",
    "    <br>► Черновой концентрат проходит две очистки (cleaner process). На выходе получается финальный концентрат и новые отвальные хвосты.\n",
    "    </div>"
   ]
  },
  {
   "cell_type": "code",
   "execution_count": 3,
   "metadata": {},
   "outputs": [],
   "source": [
    "# создадим список для удобства обработки датасетов\n",
    "data_list = [data_train, data_test, data_full]"
   ]
  },
  {
   "cell_type": "code",
   "execution_count": 4,
   "metadata": {
    "scrolled": false
   },
   "outputs": [
    {
     "data": {
      "text/html": [
       "<div>\n",
       "<style scoped>\n",
       "    .dataframe tbody tr th:only-of-type {\n",
       "        vertical-align: middle;\n",
       "    }\n",
       "\n",
       "    .dataframe tbody tr th {\n",
       "        vertical-align: top;\n",
       "    }\n",
       "\n",
       "    .dataframe thead th {\n",
       "        text-align: right;\n",
       "    }\n",
       "</style>\n",
       "<table border=\"1\" class=\"dataframe\">\n",
       "  <thead>\n",
       "    <tr style=\"text-align: right;\">\n",
       "      <th></th>\n",
       "      <th>date</th>\n",
       "      <th>final.output.concentrate_ag</th>\n",
       "      <th>final.output.concentrate_pb</th>\n",
       "      <th>final.output.concentrate_sol</th>\n",
       "      <th>final.output.concentrate_au</th>\n",
       "      <th>final.output.recovery</th>\n",
       "      <th>final.output.tail_ag</th>\n",
       "      <th>final.output.tail_pb</th>\n",
       "      <th>final.output.tail_sol</th>\n",
       "      <th>final.output.tail_au</th>\n",
       "      <th>primary_cleaner.input.sulfate</th>\n",
       "      <th>primary_cleaner.input.depressant</th>\n",
       "      <th>primary_cleaner.input.feed_size</th>\n",
       "      <th>primary_cleaner.input.xanthate</th>\n",
       "      <th>primary_cleaner.output.concentrate_ag</th>\n",
       "      <th>primary_cleaner.output.concentrate_pb</th>\n",
       "      <th>primary_cleaner.output.concentrate_sol</th>\n",
       "      <th>primary_cleaner.output.concentrate_au</th>\n",
       "      <th>primary_cleaner.output.tail_ag</th>\n",
       "      <th>primary_cleaner.output.tail_pb</th>\n",
       "      <th>primary_cleaner.output.tail_sol</th>\n",
       "      <th>primary_cleaner.output.tail_au</th>\n",
       "      <th>primary_cleaner.state.floatbank8_a_air</th>\n",
       "      <th>primary_cleaner.state.floatbank8_a_level</th>\n",
       "      <th>primary_cleaner.state.floatbank8_b_air</th>\n",
       "      <th>primary_cleaner.state.floatbank8_b_level</th>\n",
       "      <th>primary_cleaner.state.floatbank8_c_air</th>\n",
       "      <th>primary_cleaner.state.floatbank8_c_level</th>\n",
       "      <th>primary_cleaner.state.floatbank8_d_air</th>\n",
       "      <th>primary_cleaner.state.floatbank8_d_level</th>\n",
       "      <th>rougher.calculation.sulfate_to_au_concentrate</th>\n",
       "      <th>rougher.calculation.floatbank10_sulfate_to_au_feed</th>\n",
       "      <th>rougher.calculation.floatbank11_sulfate_to_au_feed</th>\n",
       "      <th>rougher.calculation.au_pb_ratio</th>\n",
       "      <th>rougher.input.feed_ag</th>\n",
       "      <th>rougher.input.feed_pb</th>\n",
       "      <th>rougher.input.feed_rate</th>\n",
       "      <th>rougher.input.feed_size</th>\n",
       "      <th>rougher.input.feed_sol</th>\n",
       "      <th>rougher.input.feed_au</th>\n",
       "      <th>rougher.input.floatbank10_sulfate</th>\n",
       "      <th>rougher.input.floatbank10_xanthate</th>\n",
       "      <th>rougher.input.floatbank11_sulfate</th>\n",
       "      <th>rougher.input.floatbank11_xanthate</th>\n",
       "      <th>rougher.output.concentrate_ag</th>\n",
       "      <th>rougher.output.concentrate_pb</th>\n",
       "      <th>rougher.output.concentrate_sol</th>\n",
       "      <th>rougher.output.concentrate_au</th>\n",
       "      <th>rougher.output.recovery</th>\n",
       "      <th>rougher.output.tail_ag</th>\n",
       "      <th>rougher.output.tail_pb</th>\n",
       "      <th>rougher.output.tail_sol</th>\n",
       "      <th>rougher.output.tail_au</th>\n",
       "      <th>rougher.state.floatbank10_a_air</th>\n",
       "      <th>rougher.state.floatbank10_a_level</th>\n",
       "      <th>rougher.state.floatbank10_b_air</th>\n",
       "      <th>rougher.state.floatbank10_b_level</th>\n",
       "      <th>rougher.state.floatbank10_c_air</th>\n",
       "      <th>rougher.state.floatbank10_c_level</th>\n",
       "      <th>rougher.state.floatbank10_d_air</th>\n",
       "      <th>rougher.state.floatbank10_d_level</th>\n",
       "      <th>rougher.state.floatbank10_e_air</th>\n",
       "      <th>rougher.state.floatbank10_e_level</th>\n",
       "      <th>rougher.state.floatbank10_f_air</th>\n",
       "      <th>rougher.state.floatbank10_f_level</th>\n",
       "      <th>secondary_cleaner.output.tail_ag</th>\n",
       "      <th>secondary_cleaner.output.tail_pb</th>\n",
       "      <th>secondary_cleaner.output.tail_sol</th>\n",
       "      <th>secondary_cleaner.output.tail_au</th>\n",
       "      <th>secondary_cleaner.state.floatbank2_a_air</th>\n",
       "      <th>secondary_cleaner.state.floatbank2_a_level</th>\n",
       "      <th>secondary_cleaner.state.floatbank2_b_air</th>\n",
       "      <th>secondary_cleaner.state.floatbank2_b_level</th>\n",
       "      <th>secondary_cleaner.state.floatbank3_a_air</th>\n",
       "      <th>secondary_cleaner.state.floatbank3_a_level</th>\n",
       "      <th>secondary_cleaner.state.floatbank3_b_air</th>\n",
       "      <th>secondary_cleaner.state.floatbank3_b_level</th>\n",
       "      <th>secondary_cleaner.state.floatbank4_a_air</th>\n",
       "      <th>secondary_cleaner.state.floatbank4_a_level</th>\n",
       "      <th>secondary_cleaner.state.floatbank4_b_air</th>\n",
       "      <th>secondary_cleaner.state.floatbank4_b_level</th>\n",
       "      <th>secondary_cleaner.state.floatbank5_a_air</th>\n",
       "      <th>secondary_cleaner.state.floatbank5_a_level</th>\n",
       "      <th>secondary_cleaner.state.floatbank5_b_air</th>\n",
       "      <th>secondary_cleaner.state.floatbank5_b_level</th>\n",
       "      <th>secondary_cleaner.state.floatbank6_a_air</th>\n",
       "      <th>secondary_cleaner.state.floatbank6_a_level</th>\n",
       "    </tr>\n",
       "  </thead>\n",
       "  <tbody>\n",
       "    <tr>\n",
       "      <th>0</th>\n",
       "      <td>2016-01-15 00:00:00</td>\n",
       "      <td>6.055403</td>\n",
       "      <td>9.889648</td>\n",
       "      <td>5.507324</td>\n",
       "      <td>42.192020</td>\n",
       "      <td>70.541216</td>\n",
       "      <td>10.411962</td>\n",
       "      <td>0.895447</td>\n",
       "      <td>16.904297</td>\n",
       "      <td>2.143149</td>\n",
       "      <td>127.092003</td>\n",
       "      <td>10.128295</td>\n",
       "      <td>7.25</td>\n",
       "      <td>0.988759</td>\n",
       "      <td>8.547551</td>\n",
       "      <td>10.389648</td>\n",
       "      <td>19.529297</td>\n",
       "      <td>34.174427</td>\n",
       "      <td>14.936526</td>\n",
       "      <td>2.534912</td>\n",
       "      <td>7.476074</td>\n",
       "      <td>2.106679</td>\n",
       "      <td>1549.775757</td>\n",
       "      <td>-498.912140</td>\n",
       "      <td>1551.434204</td>\n",
       "      <td>-516.403442</td>\n",
       "      <td>1549.873901</td>\n",
       "      <td>-498.666595</td>\n",
       "      <td>1554.367432</td>\n",
       "      <td>-493.428131</td>\n",
       "      <td>41885.707031</td>\n",
       "      <td>3481.779053</td>\n",
       "      <td>3520.337158</td>\n",
       "      <td>2.838687</td>\n",
       "      <td>6.100378</td>\n",
       "      <td>2.284912</td>\n",
       "      <td>523.546326</td>\n",
       "      <td>55.486599</td>\n",
       "      <td>36.808594</td>\n",
       "      <td>6.486150</td>\n",
       "      <td>11.986616</td>\n",
       "      <td>6.007990</td>\n",
       "      <td>11.836743</td>\n",
       "      <td>6.005818</td>\n",
       "      <td>11.500771</td>\n",
       "      <td>7.101074</td>\n",
       "      <td>28.029297</td>\n",
       "      <td>19.793808</td>\n",
       "      <td>87.107763</td>\n",
       "      <td>5.008018</td>\n",
       "      <td>0.508728</td>\n",
       "      <td>19.154297</td>\n",
       "      <td>1.170244</td>\n",
       "      <td>999.706909</td>\n",
       "      <td>-404.066986</td>\n",
       "      <td>1603.011353</td>\n",
       "      <td>-434.715027</td>\n",
       "      <td>1602.375000</td>\n",
       "      <td>-442.204468</td>\n",
       "      <td>1598.937256</td>\n",
       "      <td>-451.294128</td>\n",
       "      <td>1404.472046</td>\n",
       "      <td>-455.462982</td>\n",
       "      <td>1416.354980</td>\n",
       "      <td>-451.939636</td>\n",
       "      <td>14.500184</td>\n",
       "      <td>4.694824</td>\n",
       "      <td>8.764648</td>\n",
       "      <td>2.606185</td>\n",
       "      <td>25.853109</td>\n",
       "      <td>-498.526489</td>\n",
       "      <td>23.893660</td>\n",
       "      <td>-501.406281</td>\n",
       "      <td>23.961798</td>\n",
       "      <td>-495.262817</td>\n",
       "      <td>21.940409</td>\n",
       "      <td>-499.340973</td>\n",
       "      <td>14.016835</td>\n",
       "      <td>-502.488007</td>\n",
       "      <td>12.099931</td>\n",
       "      <td>-504.715942</td>\n",
       "      <td>9.925633</td>\n",
       "      <td>-498.310211</td>\n",
       "      <td>8.079666</td>\n",
       "      <td>-500.470978</td>\n",
       "      <td>14.151341</td>\n",
       "      <td>-605.841980</td>\n",
       "    </tr>\n",
       "    <tr>\n",
       "      <th>1</th>\n",
       "      <td>2016-01-15 01:00:00</td>\n",
       "      <td>6.029369</td>\n",
       "      <td>9.968944</td>\n",
       "      <td>5.257781</td>\n",
       "      <td>42.701629</td>\n",
       "      <td>69.266198</td>\n",
       "      <td>10.462676</td>\n",
       "      <td>0.927452</td>\n",
       "      <td>16.634514</td>\n",
       "      <td>2.224930</td>\n",
       "      <td>125.629232</td>\n",
       "      <td>10.296251</td>\n",
       "      <td>7.25</td>\n",
       "      <td>1.002663</td>\n",
       "      <td>8.558743</td>\n",
       "      <td>10.497069</td>\n",
       "      <td>19.369147</td>\n",
       "      <td>34.118526</td>\n",
       "      <td>16.250511</td>\n",
       "      <td>3.049646</td>\n",
       "      <td>6.733907</td>\n",
       "      <td>2.353017</td>\n",
       "      <td>1576.166671</td>\n",
       "      <td>-500.904965</td>\n",
       "      <td>1575.950626</td>\n",
       "      <td>-499.865889</td>\n",
       "      <td>1575.994189</td>\n",
       "      <td>-499.315107</td>\n",
       "      <td>1574.479259</td>\n",
       "      <td>-498.931665</td>\n",
       "      <td>42050.861809</td>\n",
       "      <td>3498.370979</td>\n",
       "      <td>3489.981857</td>\n",
       "      <td>2.858998</td>\n",
       "      <td>6.161113</td>\n",
       "      <td>2.266033</td>\n",
       "      <td>525.290581</td>\n",
       "      <td>57.278666</td>\n",
       "      <td>35.753385</td>\n",
       "      <td>6.478583</td>\n",
       "      <td>11.971193</td>\n",
       "      <td>6.005766</td>\n",
       "      <td>11.996163</td>\n",
       "      <td>6.012594</td>\n",
       "      <td>11.615865</td>\n",
       "      <td>7.278807</td>\n",
       "      <td>28.067063</td>\n",
       "      <td>20.050975</td>\n",
       "      <td>86.843261</td>\n",
       "      <td>4.955378</td>\n",
       "      <td>0.536689</td>\n",
       "      <td>18.965234</td>\n",
       "      <td>1.184827</td>\n",
       "      <td>1000.286398</td>\n",
       "      <td>-400.065196</td>\n",
       "      <td>1600.754587</td>\n",
       "      <td>-449.953435</td>\n",
       "      <td>1600.479580</td>\n",
       "      <td>-449.830646</td>\n",
       "      <td>1600.527589</td>\n",
       "      <td>-449.953649</td>\n",
       "      <td>1399.227084</td>\n",
       "      <td>-450.869848</td>\n",
       "      <td>1399.719514</td>\n",
       "      <td>-450.119001</td>\n",
       "      <td>14.265474</td>\n",
       "      <td>4.592547</td>\n",
       "      <td>9.001494</td>\n",
       "      <td>2.488248</td>\n",
       "      <td>25.880539</td>\n",
       "      <td>-499.989656</td>\n",
       "      <td>23.889530</td>\n",
       "      <td>-500.372428</td>\n",
       "      <td>23.970550</td>\n",
       "      <td>-500.085473</td>\n",
       "      <td>22.085714</td>\n",
       "      <td>-499.446897</td>\n",
       "      <td>13.992281</td>\n",
       "      <td>-505.503262</td>\n",
       "      <td>11.950531</td>\n",
       "      <td>-501.331529</td>\n",
       "      <td>10.039245</td>\n",
       "      <td>-500.169983</td>\n",
       "      <td>7.984757</td>\n",
       "      <td>-500.582168</td>\n",
       "      <td>13.998353</td>\n",
       "      <td>-599.787184</td>\n",
       "    </tr>\n",
       "    <tr>\n",
       "      <th>2</th>\n",
       "      <td>2016-01-15 02:00:00</td>\n",
       "      <td>6.055926</td>\n",
       "      <td>10.213995</td>\n",
       "      <td>5.383759</td>\n",
       "      <td>42.657501</td>\n",
       "      <td>68.116445</td>\n",
       "      <td>10.507046</td>\n",
       "      <td>0.953716</td>\n",
       "      <td>16.208849</td>\n",
       "      <td>2.257889</td>\n",
       "      <td>123.819808</td>\n",
       "      <td>11.316280</td>\n",
       "      <td>7.25</td>\n",
       "      <td>0.991265</td>\n",
       "      <td>8.603505</td>\n",
       "      <td>10.354494</td>\n",
       "      <td>19.167579</td>\n",
       "      <td>33.969464</td>\n",
       "      <td>16.491823</td>\n",
       "      <td>3.124664</td>\n",
       "      <td>6.471768</td>\n",
       "      <td>2.416800</td>\n",
       "      <td>1601.556163</td>\n",
       "      <td>-499.997791</td>\n",
       "      <td>1600.386685</td>\n",
       "      <td>-500.607762</td>\n",
       "      <td>1602.003542</td>\n",
       "      <td>-500.870069</td>\n",
       "      <td>1599.541515</td>\n",
       "      <td>-499.827444</td>\n",
       "      <td>42018.101184</td>\n",
       "      <td>3495.348910</td>\n",
       "      <td>3502.359819</td>\n",
       "      <td>2.945989</td>\n",
       "      <td>6.116455</td>\n",
       "      <td>2.159622</td>\n",
       "      <td>530.026610</td>\n",
       "      <td>57.510649</td>\n",
       "      <td>35.971630</td>\n",
       "      <td>6.362222</td>\n",
       "      <td>11.920603</td>\n",
       "      <td>6.197377</td>\n",
       "      <td>11.920305</td>\n",
       "      <td>6.204633</td>\n",
       "      <td>11.695753</td>\n",
       "      <td>7.216833</td>\n",
       "      <td>27.454037</td>\n",
       "      <td>19.737170</td>\n",
       "      <td>86.842308</td>\n",
       "      <td>4.843460</td>\n",
       "      <td>0.546416</td>\n",
       "      <td>18.808533</td>\n",
       "      <td>1.162562</td>\n",
       "      <td>999.719565</td>\n",
       "      <td>-400.074028</td>\n",
       "      <td>1599.337330</td>\n",
       "      <td>-450.008530</td>\n",
       "      <td>1599.672797</td>\n",
       "      <td>-449.954491</td>\n",
       "      <td>1599.849325</td>\n",
       "      <td>-449.954185</td>\n",
       "      <td>1399.180945</td>\n",
       "      <td>-449.937588</td>\n",
       "      <td>1400.316682</td>\n",
       "      <td>-450.527147</td>\n",
       "      <td>14.115662</td>\n",
       "      <td>4.624775</td>\n",
       "      <td>8.842896</td>\n",
       "      <td>2.458187</td>\n",
       "      <td>26.005245</td>\n",
       "      <td>-499.929616</td>\n",
       "      <td>23.886657</td>\n",
       "      <td>-499.951928</td>\n",
       "      <td>23.913535</td>\n",
       "      <td>-499.442343</td>\n",
       "      <td>23.957717</td>\n",
       "      <td>-499.901982</td>\n",
       "      <td>14.015015</td>\n",
       "      <td>-502.520901</td>\n",
       "      <td>11.912783</td>\n",
       "      <td>-501.133383</td>\n",
       "      <td>10.070913</td>\n",
       "      <td>-500.129135</td>\n",
       "      <td>8.013877</td>\n",
       "      <td>-500.517572</td>\n",
       "      <td>14.028663</td>\n",
       "      <td>-601.427363</td>\n",
       "    </tr>\n",
       "    <tr>\n",
       "      <th>3</th>\n",
       "      <td>2016-01-15 03:00:00</td>\n",
       "      <td>6.047977</td>\n",
       "      <td>9.977019</td>\n",
       "      <td>4.858634</td>\n",
       "      <td>42.689819</td>\n",
       "      <td>68.347543</td>\n",
       "      <td>10.422762</td>\n",
       "      <td>0.883763</td>\n",
       "      <td>16.532835</td>\n",
       "      <td>2.146849</td>\n",
       "      <td>122.270188</td>\n",
       "      <td>11.322140</td>\n",
       "      <td>7.25</td>\n",
       "      <td>0.996739</td>\n",
       "      <td>7.221879</td>\n",
       "      <td>8.496563</td>\n",
       "      <td>15.978538</td>\n",
       "      <td>28.260743</td>\n",
       "      <td>16.024359</td>\n",
       "      <td>2.960362</td>\n",
       "      <td>6.843791</td>\n",
       "      <td>2.262051</td>\n",
       "      <td>1599.968720</td>\n",
       "      <td>-500.951778</td>\n",
       "      <td>1600.659236</td>\n",
       "      <td>-499.677094</td>\n",
       "      <td>1600.304144</td>\n",
       "      <td>-500.727997</td>\n",
       "      <td>1600.449520</td>\n",
       "      <td>-500.052575</td>\n",
       "      <td>42029.447991</td>\n",
       "      <td>3498.578313</td>\n",
       "      <td>3499.162912</td>\n",
       "      <td>3.002340</td>\n",
       "      <td>6.043309</td>\n",
       "      <td>2.037807</td>\n",
       "      <td>542.590390</td>\n",
       "      <td>57.792734</td>\n",
       "      <td>36.862241</td>\n",
       "      <td>6.118189</td>\n",
       "      <td>11.630094</td>\n",
       "      <td>6.203177</td>\n",
       "      <td>11.692450</td>\n",
       "      <td>6.196578</td>\n",
       "      <td>11.915047</td>\n",
       "      <td>7.175616</td>\n",
       "      <td>27.341277</td>\n",
       "      <td>19.320810</td>\n",
       "      <td>87.226430</td>\n",
       "      <td>4.655288</td>\n",
       "      <td>0.542525</td>\n",
       "      <td>19.330200</td>\n",
       "      <td>1.079755</td>\n",
       "      <td>999.814770</td>\n",
       "      <td>-400.200179</td>\n",
       "      <td>1600.059442</td>\n",
       "      <td>-450.619948</td>\n",
       "      <td>1600.012842</td>\n",
       "      <td>-449.910497</td>\n",
       "      <td>1597.725177</td>\n",
       "      <td>-450.130127</td>\n",
       "      <td>1400.943157</td>\n",
       "      <td>-450.030142</td>\n",
       "      <td>1400.234743</td>\n",
       "      <td>-449.790835</td>\n",
       "      <td>13.732071</td>\n",
       "      <td>4.482453</td>\n",
       "      <td>9.122857</td>\n",
       "      <td>2.322062</td>\n",
       "      <td>25.942508</td>\n",
       "      <td>-499.176749</td>\n",
       "      <td>23.955516</td>\n",
       "      <td>-499.848796</td>\n",
       "      <td>23.966838</td>\n",
       "      <td>-500.008812</td>\n",
       "      <td>23.954443</td>\n",
       "      <td>-499.944710</td>\n",
       "      <td>14.036510</td>\n",
       "      <td>-500.857308</td>\n",
       "      <td>11.999550</td>\n",
       "      <td>-501.193686</td>\n",
       "      <td>9.970366</td>\n",
       "      <td>-499.201640</td>\n",
       "      <td>7.977324</td>\n",
       "      <td>-500.255908</td>\n",
       "      <td>14.005551</td>\n",
       "      <td>-599.996129</td>\n",
       "    </tr>\n",
       "    <tr>\n",
       "      <th>4</th>\n",
       "      <td>2016-01-15 04:00:00</td>\n",
       "      <td>6.148599</td>\n",
       "      <td>10.142511</td>\n",
       "      <td>4.939416</td>\n",
       "      <td>42.774141</td>\n",
       "      <td>66.927016</td>\n",
       "      <td>10.360302</td>\n",
       "      <td>0.792826</td>\n",
       "      <td>16.525686</td>\n",
       "      <td>2.055292</td>\n",
       "      <td>117.988169</td>\n",
       "      <td>11.913613</td>\n",
       "      <td>7.25</td>\n",
       "      <td>1.009869</td>\n",
       "      <td>9.089428</td>\n",
       "      <td>9.986786</td>\n",
       "      <td>19.199864</td>\n",
       "      <td>33.044932</td>\n",
       "      <td>16.480185</td>\n",
       "      <td>3.112100</td>\n",
       "      <td>6.550154</td>\n",
       "      <td>2.277073</td>\n",
       "      <td>1601.339707</td>\n",
       "      <td>-498.975456</td>\n",
       "      <td>1601.437854</td>\n",
       "      <td>-500.323246</td>\n",
       "      <td>1599.581894</td>\n",
       "      <td>-500.888152</td>\n",
       "      <td>1602.649541</td>\n",
       "      <td>-500.593010</td>\n",
       "      <td>42125.354245</td>\n",
       "      <td>3494.800771</td>\n",
       "      <td>3506.679315</td>\n",
       "      <td>3.169615</td>\n",
       "      <td>6.060915</td>\n",
       "      <td>1.786875</td>\n",
       "      <td>540.531893</td>\n",
       "      <td>56.047189</td>\n",
       "      <td>34.347666</td>\n",
       "      <td>5.663707</td>\n",
       "      <td>10.957755</td>\n",
       "      <td>6.198826</td>\n",
       "      <td>10.960521</td>\n",
       "      <td>6.194897</td>\n",
       "      <td>12.411054</td>\n",
       "      <td>7.240205</td>\n",
       "      <td>27.041023</td>\n",
       "      <td>19.216101</td>\n",
       "      <td>86.688794</td>\n",
       "      <td>4.552800</td>\n",
       "      <td>0.515438</td>\n",
       "      <td>19.267422</td>\n",
       "      <td>1.012642</td>\n",
       "      <td>999.678690</td>\n",
       "      <td>-399.752729</td>\n",
       "      <td>1600.208824</td>\n",
       "      <td>-449.599614</td>\n",
       "      <td>1600.357732</td>\n",
       "      <td>-450.034364</td>\n",
       "      <td>1599.759049</td>\n",
       "      <td>-449.909799</td>\n",
       "      <td>1401.560902</td>\n",
       "      <td>-448.877187</td>\n",
       "      <td>1401.160227</td>\n",
       "      <td>-450.407128</td>\n",
       "      <td>14.079996</td>\n",
       "      <td>4.470737</td>\n",
       "      <td>8.871028</td>\n",
       "      <td>2.330448</td>\n",
       "      <td>26.024787</td>\n",
       "      <td>-500.279091</td>\n",
       "      <td>23.955345</td>\n",
       "      <td>-500.593614</td>\n",
       "      <td>23.985703</td>\n",
       "      <td>-500.083811</td>\n",
       "      <td>23.958945</td>\n",
       "      <td>-499.990309</td>\n",
       "      <td>14.027298</td>\n",
       "      <td>-499.838632</td>\n",
       "      <td>11.953070</td>\n",
       "      <td>-501.053894</td>\n",
       "      <td>9.925709</td>\n",
       "      <td>-501.686727</td>\n",
       "      <td>7.894242</td>\n",
       "      <td>-500.356035</td>\n",
       "      <td>13.996647</td>\n",
       "      <td>-601.496691</td>\n",
       "    </tr>\n",
       "  </tbody>\n",
       "</table>\n",
       "</div>"
      ],
      "text/plain": [
       "                  date  final.output.concentrate_ag  \\\n",
       "0  2016-01-15 00:00:00                     6.055403   \n",
       "1  2016-01-15 01:00:00                     6.029369   \n",
       "2  2016-01-15 02:00:00                     6.055926   \n",
       "3  2016-01-15 03:00:00                     6.047977   \n",
       "4  2016-01-15 04:00:00                     6.148599   \n",
       "\n",
       "   final.output.concentrate_pb  final.output.concentrate_sol  \\\n",
       "0                     9.889648                      5.507324   \n",
       "1                     9.968944                      5.257781   \n",
       "2                    10.213995                      5.383759   \n",
       "3                     9.977019                      4.858634   \n",
       "4                    10.142511                      4.939416   \n",
       "\n",
       "   final.output.concentrate_au  final.output.recovery  final.output.tail_ag  \\\n",
       "0                    42.192020              70.541216             10.411962   \n",
       "1                    42.701629              69.266198             10.462676   \n",
       "2                    42.657501              68.116445             10.507046   \n",
       "3                    42.689819              68.347543             10.422762   \n",
       "4                    42.774141              66.927016             10.360302   \n",
       "\n",
       "   final.output.tail_pb  final.output.tail_sol  final.output.tail_au  \\\n",
       "0              0.895447              16.904297              2.143149   \n",
       "1              0.927452              16.634514              2.224930   \n",
       "2              0.953716              16.208849              2.257889   \n",
       "3              0.883763              16.532835              2.146849   \n",
       "4              0.792826              16.525686              2.055292   \n",
       "\n",
       "   primary_cleaner.input.sulfate  primary_cleaner.input.depressant  \\\n",
       "0                     127.092003                         10.128295   \n",
       "1                     125.629232                         10.296251   \n",
       "2                     123.819808                         11.316280   \n",
       "3                     122.270188                         11.322140   \n",
       "4                     117.988169                         11.913613   \n",
       "\n",
       "   primary_cleaner.input.feed_size  primary_cleaner.input.xanthate  \\\n",
       "0                             7.25                        0.988759   \n",
       "1                             7.25                        1.002663   \n",
       "2                             7.25                        0.991265   \n",
       "3                             7.25                        0.996739   \n",
       "4                             7.25                        1.009869   \n",
       "\n",
       "   primary_cleaner.output.concentrate_ag  \\\n",
       "0                               8.547551   \n",
       "1                               8.558743   \n",
       "2                               8.603505   \n",
       "3                               7.221879   \n",
       "4                               9.089428   \n",
       "\n",
       "   primary_cleaner.output.concentrate_pb  \\\n",
       "0                              10.389648   \n",
       "1                              10.497069   \n",
       "2                              10.354494   \n",
       "3                               8.496563   \n",
       "4                               9.986786   \n",
       "\n",
       "   primary_cleaner.output.concentrate_sol  \\\n",
       "0                               19.529297   \n",
       "1                               19.369147   \n",
       "2                               19.167579   \n",
       "3                               15.978538   \n",
       "4                               19.199864   \n",
       "\n",
       "   primary_cleaner.output.concentrate_au  primary_cleaner.output.tail_ag  \\\n",
       "0                              34.174427                       14.936526   \n",
       "1                              34.118526                       16.250511   \n",
       "2                              33.969464                       16.491823   \n",
       "3                              28.260743                       16.024359   \n",
       "4                              33.044932                       16.480185   \n",
       "\n",
       "   primary_cleaner.output.tail_pb  primary_cleaner.output.tail_sol  \\\n",
       "0                        2.534912                         7.476074   \n",
       "1                        3.049646                         6.733907   \n",
       "2                        3.124664                         6.471768   \n",
       "3                        2.960362                         6.843791   \n",
       "4                        3.112100                         6.550154   \n",
       "\n",
       "   primary_cleaner.output.tail_au  primary_cleaner.state.floatbank8_a_air  \\\n",
       "0                        2.106679                             1549.775757   \n",
       "1                        2.353017                             1576.166671   \n",
       "2                        2.416800                             1601.556163   \n",
       "3                        2.262051                             1599.968720   \n",
       "4                        2.277073                             1601.339707   \n",
       "\n",
       "   primary_cleaner.state.floatbank8_a_level  \\\n",
       "0                               -498.912140   \n",
       "1                               -500.904965   \n",
       "2                               -499.997791   \n",
       "3                               -500.951778   \n",
       "4                               -498.975456   \n",
       "\n",
       "   primary_cleaner.state.floatbank8_b_air  \\\n",
       "0                             1551.434204   \n",
       "1                             1575.950626   \n",
       "2                             1600.386685   \n",
       "3                             1600.659236   \n",
       "4                             1601.437854   \n",
       "\n",
       "   primary_cleaner.state.floatbank8_b_level  \\\n",
       "0                               -516.403442   \n",
       "1                               -499.865889   \n",
       "2                               -500.607762   \n",
       "3                               -499.677094   \n",
       "4                               -500.323246   \n",
       "\n",
       "   primary_cleaner.state.floatbank8_c_air  \\\n",
       "0                             1549.873901   \n",
       "1                             1575.994189   \n",
       "2                             1602.003542   \n",
       "3                             1600.304144   \n",
       "4                             1599.581894   \n",
       "\n",
       "   primary_cleaner.state.floatbank8_c_level  \\\n",
       "0                               -498.666595   \n",
       "1                               -499.315107   \n",
       "2                               -500.870069   \n",
       "3                               -500.727997   \n",
       "4                               -500.888152   \n",
       "\n",
       "   primary_cleaner.state.floatbank8_d_air  \\\n",
       "0                             1554.367432   \n",
       "1                             1574.479259   \n",
       "2                             1599.541515   \n",
       "3                             1600.449520   \n",
       "4                             1602.649541   \n",
       "\n",
       "   primary_cleaner.state.floatbank8_d_level  \\\n",
       "0                               -493.428131   \n",
       "1                               -498.931665   \n",
       "2                               -499.827444   \n",
       "3                               -500.052575   \n",
       "4                               -500.593010   \n",
       "\n",
       "   rougher.calculation.sulfate_to_au_concentrate  \\\n",
       "0                                   41885.707031   \n",
       "1                                   42050.861809   \n",
       "2                                   42018.101184   \n",
       "3                                   42029.447991   \n",
       "4                                   42125.354245   \n",
       "\n",
       "   rougher.calculation.floatbank10_sulfate_to_au_feed  \\\n",
       "0                                        3481.779053    \n",
       "1                                        3498.370979    \n",
       "2                                        3495.348910    \n",
       "3                                        3498.578313    \n",
       "4                                        3494.800771    \n",
       "\n",
       "   rougher.calculation.floatbank11_sulfate_to_au_feed  \\\n",
       "0                                        3520.337158    \n",
       "1                                        3489.981857    \n",
       "2                                        3502.359819    \n",
       "3                                        3499.162912    \n",
       "4                                        3506.679315    \n",
       "\n",
       "   rougher.calculation.au_pb_ratio  rougher.input.feed_ag  \\\n",
       "0                         2.838687               6.100378   \n",
       "1                         2.858998               6.161113   \n",
       "2                         2.945989               6.116455   \n",
       "3                         3.002340               6.043309   \n",
       "4                         3.169615               6.060915   \n",
       "\n",
       "   rougher.input.feed_pb  rougher.input.feed_rate  rougher.input.feed_size  \\\n",
       "0               2.284912               523.546326                55.486599   \n",
       "1               2.266033               525.290581                57.278666   \n",
       "2               2.159622               530.026610                57.510649   \n",
       "3               2.037807               542.590390                57.792734   \n",
       "4               1.786875               540.531893                56.047189   \n",
       "\n",
       "   rougher.input.feed_sol  rougher.input.feed_au  \\\n",
       "0               36.808594               6.486150   \n",
       "1               35.753385               6.478583   \n",
       "2               35.971630               6.362222   \n",
       "3               36.862241               6.118189   \n",
       "4               34.347666               5.663707   \n",
       "\n",
       "   rougher.input.floatbank10_sulfate  rougher.input.floatbank10_xanthate  \\\n",
       "0                          11.986616                            6.007990   \n",
       "1                          11.971193                            6.005766   \n",
       "2                          11.920603                            6.197377   \n",
       "3                          11.630094                            6.203177   \n",
       "4                          10.957755                            6.198826   \n",
       "\n",
       "   rougher.input.floatbank11_sulfate  rougher.input.floatbank11_xanthate  \\\n",
       "0                          11.836743                            6.005818   \n",
       "1                          11.996163                            6.012594   \n",
       "2                          11.920305                            6.204633   \n",
       "3                          11.692450                            6.196578   \n",
       "4                          10.960521                            6.194897   \n",
       "\n",
       "   rougher.output.concentrate_ag  rougher.output.concentrate_pb  \\\n",
       "0                      11.500771                       7.101074   \n",
       "1                      11.615865                       7.278807   \n",
       "2                      11.695753                       7.216833   \n",
       "3                      11.915047                       7.175616   \n",
       "4                      12.411054                       7.240205   \n",
       "\n",
       "   rougher.output.concentrate_sol  rougher.output.concentrate_au  \\\n",
       "0                       28.029297                      19.793808   \n",
       "1                       28.067063                      20.050975   \n",
       "2                       27.454037                      19.737170   \n",
       "3                       27.341277                      19.320810   \n",
       "4                       27.041023                      19.216101   \n",
       "\n",
       "   rougher.output.recovery  rougher.output.tail_ag  rougher.output.tail_pb  \\\n",
       "0                87.107763                5.008018                0.508728   \n",
       "1                86.843261                4.955378                0.536689   \n",
       "2                86.842308                4.843460                0.546416   \n",
       "3                87.226430                4.655288                0.542525   \n",
       "4                86.688794                4.552800                0.515438   \n",
       "\n",
       "   rougher.output.tail_sol  rougher.output.tail_au  \\\n",
       "0                19.154297                1.170244   \n",
       "1                18.965234                1.184827   \n",
       "2                18.808533                1.162562   \n",
       "3                19.330200                1.079755   \n",
       "4                19.267422                1.012642   \n",
       "\n",
       "   rougher.state.floatbank10_a_air  rougher.state.floatbank10_a_level  \\\n",
       "0                       999.706909                        -404.066986   \n",
       "1                      1000.286398                        -400.065196   \n",
       "2                       999.719565                        -400.074028   \n",
       "3                       999.814770                        -400.200179   \n",
       "4                       999.678690                        -399.752729   \n",
       "\n",
       "   rougher.state.floatbank10_b_air  rougher.state.floatbank10_b_level  \\\n",
       "0                      1603.011353                        -434.715027   \n",
       "1                      1600.754587                        -449.953435   \n",
       "2                      1599.337330                        -450.008530   \n",
       "3                      1600.059442                        -450.619948   \n",
       "4                      1600.208824                        -449.599614   \n",
       "\n",
       "   rougher.state.floatbank10_c_air  rougher.state.floatbank10_c_level  \\\n",
       "0                      1602.375000                        -442.204468   \n",
       "1                      1600.479580                        -449.830646   \n",
       "2                      1599.672797                        -449.954491   \n",
       "3                      1600.012842                        -449.910497   \n",
       "4                      1600.357732                        -450.034364   \n",
       "\n",
       "   rougher.state.floatbank10_d_air  rougher.state.floatbank10_d_level  \\\n",
       "0                      1598.937256                        -451.294128   \n",
       "1                      1600.527589                        -449.953649   \n",
       "2                      1599.849325                        -449.954185   \n",
       "3                      1597.725177                        -450.130127   \n",
       "4                      1599.759049                        -449.909799   \n",
       "\n",
       "   rougher.state.floatbank10_e_air  rougher.state.floatbank10_e_level  \\\n",
       "0                      1404.472046                        -455.462982   \n",
       "1                      1399.227084                        -450.869848   \n",
       "2                      1399.180945                        -449.937588   \n",
       "3                      1400.943157                        -450.030142   \n",
       "4                      1401.560902                        -448.877187   \n",
       "\n",
       "   rougher.state.floatbank10_f_air  rougher.state.floatbank10_f_level  \\\n",
       "0                      1416.354980                        -451.939636   \n",
       "1                      1399.719514                        -450.119001   \n",
       "2                      1400.316682                        -450.527147   \n",
       "3                      1400.234743                        -449.790835   \n",
       "4                      1401.160227                        -450.407128   \n",
       "\n",
       "   secondary_cleaner.output.tail_ag  secondary_cleaner.output.tail_pb  \\\n",
       "0                         14.500184                          4.694824   \n",
       "1                         14.265474                          4.592547   \n",
       "2                         14.115662                          4.624775   \n",
       "3                         13.732071                          4.482453   \n",
       "4                         14.079996                          4.470737   \n",
       "\n",
       "   secondary_cleaner.output.tail_sol  secondary_cleaner.output.tail_au  \\\n",
       "0                           8.764648                          2.606185   \n",
       "1                           9.001494                          2.488248   \n",
       "2                           8.842896                          2.458187   \n",
       "3                           9.122857                          2.322062   \n",
       "4                           8.871028                          2.330448   \n",
       "\n",
       "   secondary_cleaner.state.floatbank2_a_air  \\\n",
       "0                                 25.853109   \n",
       "1                                 25.880539   \n",
       "2                                 26.005245   \n",
       "3                                 25.942508   \n",
       "4                                 26.024787   \n",
       "\n",
       "   secondary_cleaner.state.floatbank2_a_level  \\\n",
       "0                                 -498.526489   \n",
       "1                                 -499.989656   \n",
       "2                                 -499.929616   \n",
       "3                                 -499.176749   \n",
       "4                                 -500.279091   \n",
       "\n",
       "   secondary_cleaner.state.floatbank2_b_air  \\\n",
       "0                                 23.893660   \n",
       "1                                 23.889530   \n",
       "2                                 23.886657   \n",
       "3                                 23.955516   \n",
       "4                                 23.955345   \n",
       "\n",
       "   secondary_cleaner.state.floatbank2_b_level  \\\n",
       "0                                 -501.406281   \n",
       "1                                 -500.372428   \n",
       "2                                 -499.951928   \n",
       "3                                 -499.848796   \n",
       "4                                 -500.593614   \n",
       "\n",
       "   secondary_cleaner.state.floatbank3_a_air  \\\n",
       "0                                 23.961798   \n",
       "1                                 23.970550   \n",
       "2                                 23.913535   \n",
       "3                                 23.966838   \n",
       "4                                 23.985703   \n",
       "\n",
       "   secondary_cleaner.state.floatbank3_a_level  \\\n",
       "0                                 -495.262817   \n",
       "1                                 -500.085473   \n",
       "2                                 -499.442343   \n",
       "3                                 -500.008812   \n",
       "4                                 -500.083811   \n",
       "\n",
       "   secondary_cleaner.state.floatbank3_b_air  \\\n",
       "0                                 21.940409   \n",
       "1                                 22.085714   \n",
       "2                                 23.957717   \n",
       "3                                 23.954443   \n",
       "4                                 23.958945   \n",
       "\n",
       "   secondary_cleaner.state.floatbank3_b_level  \\\n",
       "0                                 -499.340973   \n",
       "1                                 -499.446897   \n",
       "2                                 -499.901982   \n",
       "3                                 -499.944710   \n",
       "4                                 -499.990309   \n",
       "\n",
       "   secondary_cleaner.state.floatbank4_a_air  \\\n",
       "0                                 14.016835   \n",
       "1                                 13.992281   \n",
       "2                                 14.015015   \n",
       "3                                 14.036510   \n",
       "4                                 14.027298   \n",
       "\n",
       "   secondary_cleaner.state.floatbank4_a_level  \\\n",
       "0                                 -502.488007   \n",
       "1                                 -505.503262   \n",
       "2                                 -502.520901   \n",
       "3                                 -500.857308   \n",
       "4                                 -499.838632   \n",
       "\n",
       "   secondary_cleaner.state.floatbank4_b_air  \\\n",
       "0                                 12.099931   \n",
       "1                                 11.950531   \n",
       "2                                 11.912783   \n",
       "3                                 11.999550   \n",
       "4                                 11.953070   \n",
       "\n",
       "   secondary_cleaner.state.floatbank4_b_level  \\\n",
       "0                                 -504.715942   \n",
       "1                                 -501.331529   \n",
       "2                                 -501.133383   \n",
       "3                                 -501.193686   \n",
       "4                                 -501.053894   \n",
       "\n",
       "   secondary_cleaner.state.floatbank5_a_air  \\\n",
       "0                                  9.925633   \n",
       "1                                 10.039245   \n",
       "2                                 10.070913   \n",
       "3                                  9.970366   \n",
       "4                                  9.925709   \n",
       "\n",
       "   secondary_cleaner.state.floatbank5_a_level  \\\n",
       "0                                 -498.310211   \n",
       "1                                 -500.169983   \n",
       "2                                 -500.129135   \n",
       "3                                 -499.201640   \n",
       "4                                 -501.686727   \n",
       "\n",
       "   secondary_cleaner.state.floatbank5_b_air  \\\n",
       "0                                  8.079666   \n",
       "1                                  7.984757   \n",
       "2                                  8.013877   \n",
       "3                                  7.977324   \n",
       "4                                  7.894242   \n",
       "\n",
       "   secondary_cleaner.state.floatbank5_b_level  \\\n",
       "0                                 -500.470978   \n",
       "1                                 -500.582168   \n",
       "2                                 -500.517572   \n",
       "3                                 -500.255908   \n",
       "4                                 -500.356035   \n",
       "\n",
       "   secondary_cleaner.state.floatbank6_a_air  \\\n",
       "0                                 14.151341   \n",
       "1                                 13.998353   \n",
       "2                                 14.028663   \n",
       "3                                 14.005551   \n",
       "4                                 13.996647   \n",
       "\n",
       "   secondary_cleaner.state.floatbank6_a_level  \n",
       "0                                 -605.841980  \n",
       "1                                 -599.787184  \n",
       "2                                 -601.427363  \n",
       "3                                 -599.996129  \n",
       "4                                 -601.496691  "
      ]
     },
     "metadata": {},
     "output_type": "display_data"
    },
    {
     "name": "stdout",
     "output_type": "stream",
     "text": [
      "\n"
     ]
    },
    {
     "data": {
      "text/html": [
       "<div>\n",
       "<style scoped>\n",
       "    .dataframe tbody tr th:only-of-type {\n",
       "        vertical-align: middle;\n",
       "    }\n",
       "\n",
       "    .dataframe tbody tr th {\n",
       "        vertical-align: top;\n",
       "    }\n",
       "\n",
       "    .dataframe thead th {\n",
       "        text-align: right;\n",
       "    }\n",
       "</style>\n",
       "<table border=\"1\" class=\"dataframe\">\n",
       "  <thead>\n",
       "    <tr style=\"text-align: right;\">\n",
       "      <th></th>\n",
       "      <th>date</th>\n",
       "      <th>primary_cleaner.input.sulfate</th>\n",
       "      <th>primary_cleaner.input.depressant</th>\n",
       "      <th>primary_cleaner.input.feed_size</th>\n",
       "      <th>primary_cleaner.input.xanthate</th>\n",
       "      <th>primary_cleaner.state.floatbank8_a_air</th>\n",
       "      <th>primary_cleaner.state.floatbank8_a_level</th>\n",
       "      <th>primary_cleaner.state.floatbank8_b_air</th>\n",
       "      <th>primary_cleaner.state.floatbank8_b_level</th>\n",
       "      <th>primary_cleaner.state.floatbank8_c_air</th>\n",
       "      <th>primary_cleaner.state.floatbank8_c_level</th>\n",
       "      <th>primary_cleaner.state.floatbank8_d_air</th>\n",
       "      <th>primary_cleaner.state.floatbank8_d_level</th>\n",
       "      <th>rougher.input.feed_ag</th>\n",
       "      <th>rougher.input.feed_pb</th>\n",
       "      <th>rougher.input.feed_rate</th>\n",
       "      <th>rougher.input.feed_size</th>\n",
       "      <th>rougher.input.feed_sol</th>\n",
       "      <th>rougher.input.feed_au</th>\n",
       "      <th>rougher.input.floatbank10_sulfate</th>\n",
       "      <th>rougher.input.floatbank10_xanthate</th>\n",
       "      <th>rougher.input.floatbank11_sulfate</th>\n",
       "      <th>rougher.input.floatbank11_xanthate</th>\n",
       "      <th>rougher.state.floatbank10_a_air</th>\n",
       "      <th>rougher.state.floatbank10_a_level</th>\n",
       "      <th>rougher.state.floatbank10_b_air</th>\n",
       "      <th>rougher.state.floatbank10_b_level</th>\n",
       "      <th>rougher.state.floatbank10_c_air</th>\n",
       "      <th>rougher.state.floatbank10_c_level</th>\n",
       "      <th>rougher.state.floatbank10_d_air</th>\n",
       "      <th>rougher.state.floatbank10_d_level</th>\n",
       "      <th>rougher.state.floatbank10_e_air</th>\n",
       "      <th>rougher.state.floatbank10_e_level</th>\n",
       "      <th>rougher.state.floatbank10_f_air</th>\n",
       "      <th>rougher.state.floatbank10_f_level</th>\n",
       "      <th>secondary_cleaner.state.floatbank2_a_air</th>\n",
       "      <th>secondary_cleaner.state.floatbank2_a_level</th>\n",
       "      <th>secondary_cleaner.state.floatbank2_b_air</th>\n",
       "      <th>secondary_cleaner.state.floatbank2_b_level</th>\n",
       "      <th>secondary_cleaner.state.floatbank3_a_air</th>\n",
       "      <th>secondary_cleaner.state.floatbank3_a_level</th>\n",
       "      <th>secondary_cleaner.state.floatbank3_b_air</th>\n",
       "      <th>secondary_cleaner.state.floatbank3_b_level</th>\n",
       "      <th>secondary_cleaner.state.floatbank4_a_air</th>\n",
       "      <th>secondary_cleaner.state.floatbank4_a_level</th>\n",
       "      <th>secondary_cleaner.state.floatbank4_b_air</th>\n",
       "      <th>secondary_cleaner.state.floatbank4_b_level</th>\n",
       "      <th>secondary_cleaner.state.floatbank5_a_air</th>\n",
       "      <th>secondary_cleaner.state.floatbank5_a_level</th>\n",
       "      <th>secondary_cleaner.state.floatbank5_b_air</th>\n",
       "      <th>secondary_cleaner.state.floatbank5_b_level</th>\n",
       "      <th>secondary_cleaner.state.floatbank6_a_air</th>\n",
       "      <th>secondary_cleaner.state.floatbank6_a_level</th>\n",
       "    </tr>\n",
       "  </thead>\n",
       "  <tbody>\n",
       "    <tr>\n",
       "      <th>0</th>\n",
       "      <td>2016-09-01 00:59:59</td>\n",
       "      <td>210.800909</td>\n",
       "      <td>14.993118</td>\n",
       "      <td>8.080000</td>\n",
       "      <td>1.005021</td>\n",
       "      <td>1398.981301</td>\n",
       "      <td>-500.225577</td>\n",
       "      <td>1399.144926</td>\n",
       "      <td>-499.919735</td>\n",
       "      <td>1400.102998</td>\n",
       "      <td>-500.704369</td>\n",
       "      <td>1399.001695</td>\n",
       "      <td>-499.485144</td>\n",
       "      <td>13.128569</td>\n",
       "      <td>5.636710</td>\n",
       "      <td>489.793655</td>\n",
       "      <td>62.710452</td>\n",
       "      <td>42.022440</td>\n",
       "      <td>12.084103</td>\n",
       "      <td>16.922877</td>\n",
       "      <td>6.153479</td>\n",
       "      <td>16.867518</td>\n",
       "      <td>6.150709</td>\n",
       "      <td>1001.849317</td>\n",
       "      <td>-350.301265</td>\n",
       "      <td>1249.738612</td>\n",
       "      <td>-399.107531</td>\n",
       "      <td>1249.750520</td>\n",
       "      <td>-399.396730</td>\n",
       "      <td>1198.287855</td>\n",
       "      <td>-399.488594</td>\n",
       "      <td>999.472250</td>\n",
       "      <td>-399.530962</td>\n",
       "      <td>949.566189</td>\n",
       "      <td>-398.180807</td>\n",
       "      <td>24.938200</td>\n",
       "      <td>-500.490963</td>\n",
       "      <td>14.947607</td>\n",
       "      <td>-500.013837</td>\n",
       "      <td>20.018166</td>\n",
       "      <td>-450.395995</td>\n",
       "      <td>13.987058</td>\n",
       "      <td>-449.831513</td>\n",
       "      <td>12.023554</td>\n",
       "      <td>-497.795834</td>\n",
       "      <td>8.016656</td>\n",
       "      <td>-501.289139</td>\n",
       "      <td>7.946562</td>\n",
       "      <td>-432.317850</td>\n",
       "      <td>4.872511</td>\n",
       "      <td>-500.037437</td>\n",
       "      <td>26.705889</td>\n",
       "      <td>-499.709414</td>\n",
       "    </tr>\n",
       "    <tr>\n",
       "      <th>1</th>\n",
       "      <td>2016-09-01 01:59:59</td>\n",
       "      <td>215.392455</td>\n",
       "      <td>14.987471</td>\n",
       "      <td>8.080000</td>\n",
       "      <td>0.990469</td>\n",
       "      <td>1398.777912</td>\n",
       "      <td>-500.057435</td>\n",
       "      <td>1398.055362</td>\n",
       "      <td>-499.778182</td>\n",
       "      <td>1396.151033</td>\n",
       "      <td>-499.240168</td>\n",
       "      <td>1399.508091</td>\n",
       "      <td>-500.416324</td>\n",
       "      <td>13.036280</td>\n",
       "      <td>5.526065</td>\n",
       "      <td>490.104534</td>\n",
       "      <td>61.961163</td>\n",
       "      <td>41.187903</td>\n",
       "      <td>11.918977</td>\n",
       "      <td>17.002532</td>\n",
       "      <td>5.999043</td>\n",
       "      <td>16.996063</td>\n",
       "      <td>6.002315</td>\n",
       "      <td>998.690785</td>\n",
       "      <td>-350.425704</td>\n",
       "      <td>1248.395457</td>\n",
       "      <td>-399.946025</td>\n",
       "      <td>1249.514451</td>\n",
       "      <td>-399.630810</td>\n",
       "      <td>1200.506459</td>\n",
       "      <td>-399.942434</td>\n",
       "      <td>1000.002114</td>\n",
       "      <td>-399.491528</td>\n",
       "      <td>950.200009</td>\n",
       "      <td>-405.787514</td>\n",
       "      <td>24.923466</td>\n",
       "      <td>-499.813963</td>\n",
       "      <td>14.930873</td>\n",
       "      <td>-500.764452</td>\n",
       "      <td>19.988503</td>\n",
       "      <td>-450.114024</td>\n",
       "      <td>14.092981</td>\n",
       "      <td>-450.059163</td>\n",
       "      <td>12.058140</td>\n",
       "      <td>-498.695773</td>\n",
       "      <td>8.130979</td>\n",
       "      <td>-499.634209</td>\n",
       "      <td>7.958270</td>\n",
       "      <td>-525.839648</td>\n",
       "      <td>4.878850</td>\n",
       "      <td>-500.162375</td>\n",
       "      <td>25.019940</td>\n",
       "      <td>-499.819438</td>\n",
       "    </tr>\n",
       "    <tr>\n",
       "      <th>2</th>\n",
       "      <td>2016-09-01 02:59:59</td>\n",
       "      <td>215.259946</td>\n",
       "      <td>12.884934</td>\n",
       "      <td>7.786667</td>\n",
       "      <td>0.996043</td>\n",
       "      <td>1398.493666</td>\n",
       "      <td>-500.868360</td>\n",
       "      <td>1398.860436</td>\n",
       "      <td>-499.764529</td>\n",
       "      <td>1398.075709</td>\n",
       "      <td>-502.151509</td>\n",
       "      <td>1399.497088</td>\n",
       "      <td>-499.715479</td>\n",
       "      <td>13.138412</td>\n",
       "      <td>5.426561</td>\n",
       "      <td>489.617969</td>\n",
       "      <td>66.903807</td>\n",
       "      <td>42.546294</td>\n",
       "      <td>12.091332</td>\n",
       "      <td>16.992520</td>\n",
       "      <td>5.850632</td>\n",
       "      <td>16.982096</td>\n",
       "      <td>5.853594</td>\n",
       "      <td>998.516720</td>\n",
       "      <td>-349.783538</td>\n",
       "      <td>1247.440748</td>\n",
       "      <td>-400.264330</td>\n",
       "      <td>1248.207204</td>\n",
       "      <td>-401.074405</td>\n",
       "      <td>1199.770026</td>\n",
       "      <td>-400.790582</td>\n",
       "      <td>999.925519</td>\n",
       "      <td>-399.236999</td>\n",
       "      <td>950.320481</td>\n",
       "      <td>-400.864340</td>\n",
       "      <td>24.908732</td>\n",
       "      <td>-500.304035</td>\n",
       "      <td>14.996511</td>\n",
       "      <td>-500.993821</td>\n",
       "      <td>20.039689</td>\n",
       "      <td>-450.263164</td>\n",
       "      <td>14.077881</td>\n",
       "      <td>-449.660997</td>\n",
       "      <td>11.962366</td>\n",
       "      <td>-498.767484</td>\n",
       "      <td>8.096893</td>\n",
       "      <td>-500.827423</td>\n",
       "      <td>8.071056</td>\n",
       "      <td>-500.801673</td>\n",
       "      <td>4.905125</td>\n",
       "      <td>-499.828510</td>\n",
       "      <td>24.994862</td>\n",
       "      <td>-500.622559</td>\n",
       "    </tr>\n",
       "    <tr>\n",
       "      <th>3</th>\n",
       "      <td>2016-09-01 03:59:59</td>\n",
       "      <td>215.336236</td>\n",
       "      <td>12.006805</td>\n",
       "      <td>7.640000</td>\n",
       "      <td>0.863514</td>\n",
       "      <td>1399.618111</td>\n",
       "      <td>-498.863574</td>\n",
       "      <td>1397.440120</td>\n",
       "      <td>-499.211024</td>\n",
       "      <td>1400.129303</td>\n",
       "      <td>-498.355873</td>\n",
       "      <td>1401.065165</td>\n",
       "      <td>-501.038738</td>\n",
       "      <td>12.400507</td>\n",
       "      <td>5.114758</td>\n",
       "      <td>476.618130</td>\n",
       "      <td>59.865919</td>\n",
       "      <td>41.060195</td>\n",
       "      <td>12.181597</td>\n",
       "      <td>16.532144</td>\n",
       "      <td>5.801935</td>\n",
       "      <td>16.515277</td>\n",
       "      <td>5.803657</td>\n",
       "      <td>1000.276604</td>\n",
       "      <td>-350.172597</td>\n",
       "      <td>1251.322675</td>\n",
       "      <td>-398.655289</td>\n",
       "      <td>1250.493702</td>\n",
       "      <td>-399.746728</td>\n",
       "      <td>1199.398691</td>\n",
       "      <td>-397.503052</td>\n",
       "      <td>1001.930679</td>\n",
       "      <td>-400.437573</td>\n",
       "      <td>950.735324</td>\n",
       "      <td>-399.802986</td>\n",
       "      <td>24.893998</td>\n",
       "      <td>-499.382374</td>\n",
       "      <td>14.916674</td>\n",
       "      <td>-499.862299</td>\n",
       "      <td>20.031100</td>\n",
       "      <td>-449.372570</td>\n",
       "      <td>14.013968</td>\n",
       "      <td>-449.526900</td>\n",
       "      <td>12.033091</td>\n",
       "      <td>-498.350935</td>\n",
       "      <td>8.074946</td>\n",
       "      <td>-499.474407</td>\n",
       "      <td>7.897085</td>\n",
       "      <td>-500.868509</td>\n",
       "      <td>4.931400</td>\n",
       "      <td>-499.963623</td>\n",
       "      <td>24.948919</td>\n",
       "      <td>-498.709987</td>\n",
       "    </tr>\n",
       "    <tr>\n",
       "      <th>4</th>\n",
       "      <td>2016-09-01 04:59:59</td>\n",
       "      <td>199.099327</td>\n",
       "      <td>10.682530</td>\n",
       "      <td>7.530000</td>\n",
       "      <td>0.805575</td>\n",
       "      <td>1401.268123</td>\n",
       "      <td>-500.808305</td>\n",
       "      <td>1398.128818</td>\n",
       "      <td>-499.504543</td>\n",
       "      <td>1402.172226</td>\n",
       "      <td>-500.810606</td>\n",
       "      <td>1399.480508</td>\n",
       "      <td>-499.374053</td>\n",
       "      <td>11.327427</td>\n",
       "      <td>4.767383</td>\n",
       "      <td>488.248117</td>\n",
       "      <td>63.315324</td>\n",
       "      <td>41.269161</td>\n",
       "      <td>11.290425</td>\n",
       "      <td>13.607257</td>\n",
       "      <td>5.738081</td>\n",
       "      <td>13.650053</td>\n",
       "      <td>5.739634</td>\n",
       "      <td>996.541302</td>\n",
       "      <td>-350.562517</td>\n",
       "      <td>1304.658848</td>\n",
       "      <td>-399.511519</td>\n",
       "      <td>1306.455515</td>\n",
       "      <td>-399.050685</td>\n",
       "      <td>1248.699349</td>\n",
       "      <td>-400.876894</td>\n",
       "      <td>1058.839106</td>\n",
       "      <td>-398.988239</td>\n",
       "      <td>949.645313</td>\n",
       "      <td>-399.277632</td>\n",
       "      <td>24.886905</td>\n",
       "      <td>-499.357375</td>\n",
       "      <td>14.979233</td>\n",
       "      <td>-500.186804</td>\n",
       "      <td>19.962364</td>\n",
       "      <td>-450.638828</td>\n",
       "      <td>14.009245</td>\n",
       "      <td>-450.022259</td>\n",
       "      <td>12.025367</td>\n",
       "      <td>-500.786497</td>\n",
       "      <td>8.054678</td>\n",
       "      <td>-500.397500</td>\n",
       "      <td>8.107890</td>\n",
       "      <td>-509.526725</td>\n",
       "      <td>4.957674</td>\n",
       "      <td>-500.360026</td>\n",
       "      <td>25.003331</td>\n",
       "      <td>-500.856333</td>\n",
       "    </tr>\n",
       "  </tbody>\n",
       "</table>\n",
       "</div>"
      ],
      "text/plain": [
       "                  date  primary_cleaner.input.sulfate  \\\n",
       "0  2016-09-01 00:59:59                     210.800909   \n",
       "1  2016-09-01 01:59:59                     215.392455   \n",
       "2  2016-09-01 02:59:59                     215.259946   \n",
       "3  2016-09-01 03:59:59                     215.336236   \n",
       "4  2016-09-01 04:59:59                     199.099327   \n",
       "\n",
       "   primary_cleaner.input.depressant  primary_cleaner.input.feed_size  \\\n",
       "0                         14.993118                         8.080000   \n",
       "1                         14.987471                         8.080000   \n",
       "2                         12.884934                         7.786667   \n",
       "3                         12.006805                         7.640000   \n",
       "4                         10.682530                         7.530000   \n",
       "\n",
       "   primary_cleaner.input.xanthate  primary_cleaner.state.floatbank8_a_air  \\\n",
       "0                        1.005021                             1398.981301   \n",
       "1                        0.990469                             1398.777912   \n",
       "2                        0.996043                             1398.493666   \n",
       "3                        0.863514                             1399.618111   \n",
       "4                        0.805575                             1401.268123   \n",
       "\n",
       "   primary_cleaner.state.floatbank8_a_level  \\\n",
       "0                               -500.225577   \n",
       "1                               -500.057435   \n",
       "2                               -500.868360   \n",
       "3                               -498.863574   \n",
       "4                               -500.808305   \n",
       "\n",
       "   primary_cleaner.state.floatbank8_b_air  \\\n",
       "0                             1399.144926   \n",
       "1                             1398.055362   \n",
       "2                             1398.860436   \n",
       "3                             1397.440120   \n",
       "4                             1398.128818   \n",
       "\n",
       "   primary_cleaner.state.floatbank8_b_level  \\\n",
       "0                               -499.919735   \n",
       "1                               -499.778182   \n",
       "2                               -499.764529   \n",
       "3                               -499.211024   \n",
       "4                               -499.504543   \n",
       "\n",
       "   primary_cleaner.state.floatbank8_c_air  \\\n",
       "0                             1400.102998   \n",
       "1                             1396.151033   \n",
       "2                             1398.075709   \n",
       "3                             1400.129303   \n",
       "4                             1402.172226   \n",
       "\n",
       "   primary_cleaner.state.floatbank8_c_level  \\\n",
       "0                               -500.704369   \n",
       "1                               -499.240168   \n",
       "2                               -502.151509   \n",
       "3                               -498.355873   \n",
       "4                               -500.810606   \n",
       "\n",
       "   primary_cleaner.state.floatbank8_d_air  \\\n",
       "0                             1399.001695   \n",
       "1                             1399.508091   \n",
       "2                             1399.497088   \n",
       "3                             1401.065165   \n",
       "4                             1399.480508   \n",
       "\n",
       "   primary_cleaner.state.floatbank8_d_level  rougher.input.feed_ag  \\\n",
       "0                               -499.485144              13.128569   \n",
       "1                               -500.416324              13.036280   \n",
       "2                               -499.715479              13.138412   \n",
       "3                               -501.038738              12.400507   \n",
       "4                               -499.374053              11.327427   \n",
       "\n",
       "   rougher.input.feed_pb  rougher.input.feed_rate  rougher.input.feed_size  \\\n",
       "0               5.636710               489.793655                62.710452   \n",
       "1               5.526065               490.104534                61.961163   \n",
       "2               5.426561               489.617969                66.903807   \n",
       "3               5.114758               476.618130                59.865919   \n",
       "4               4.767383               488.248117                63.315324   \n",
       "\n",
       "   rougher.input.feed_sol  rougher.input.feed_au  \\\n",
       "0               42.022440              12.084103   \n",
       "1               41.187903              11.918977   \n",
       "2               42.546294              12.091332   \n",
       "3               41.060195              12.181597   \n",
       "4               41.269161              11.290425   \n",
       "\n",
       "   rougher.input.floatbank10_sulfate  rougher.input.floatbank10_xanthate  \\\n",
       "0                          16.922877                            6.153479   \n",
       "1                          17.002532                            5.999043   \n",
       "2                          16.992520                            5.850632   \n",
       "3                          16.532144                            5.801935   \n",
       "4                          13.607257                            5.738081   \n",
       "\n",
       "   rougher.input.floatbank11_sulfate  rougher.input.floatbank11_xanthate  \\\n",
       "0                          16.867518                            6.150709   \n",
       "1                          16.996063                            6.002315   \n",
       "2                          16.982096                            5.853594   \n",
       "3                          16.515277                            5.803657   \n",
       "4                          13.650053                            5.739634   \n",
       "\n",
       "   rougher.state.floatbank10_a_air  rougher.state.floatbank10_a_level  \\\n",
       "0                      1001.849317                        -350.301265   \n",
       "1                       998.690785                        -350.425704   \n",
       "2                       998.516720                        -349.783538   \n",
       "3                      1000.276604                        -350.172597   \n",
       "4                       996.541302                        -350.562517   \n",
       "\n",
       "   rougher.state.floatbank10_b_air  rougher.state.floatbank10_b_level  \\\n",
       "0                      1249.738612                        -399.107531   \n",
       "1                      1248.395457                        -399.946025   \n",
       "2                      1247.440748                        -400.264330   \n",
       "3                      1251.322675                        -398.655289   \n",
       "4                      1304.658848                        -399.511519   \n",
       "\n",
       "   rougher.state.floatbank10_c_air  rougher.state.floatbank10_c_level  \\\n",
       "0                      1249.750520                        -399.396730   \n",
       "1                      1249.514451                        -399.630810   \n",
       "2                      1248.207204                        -401.074405   \n",
       "3                      1250.493702                        -399.746728   \n",
       "4                      1306.455515                        -399.050685   \n",
       "\n",
       "   rougher.state.floatbank10_d_air  rougher.state.floatbank10_d_level  \\\n",
       "0                      1198.287855                        -399.488594   \n",
       "1                      1200.506459                        -399.942434   \n",
       "2                      1199.770026                        -400.790582   \n",
       "3                      1199.398691                        -397.503052   \n",
       "4                      1248.699349                        -400.876894   \n",
       "\n",
       "   rougher.state.floatbank10_e_air  rougher.state.floatbank10_e_level  \\\n",
       "0                       999.472250                        -399.530962   \n",
       "1                      1000.002114                        -399.491528   \n",
       "2                       999.925519                        -399.236999   \n",
       "3                      1001.930679                        -400.437573   \n",
       "4                      1058.839106                        -398.988239   \n",
       "\n",
       "   rougher.state.floatbank10_f_air  rougher.state.floatbank10_f_level  \\\n",
       "0                       949.566189                        -398.180807   \n",
       "1                       950.200009                        -405.787514   \n",
       "2                       950.320481                        -400.864340   \n",
       "3                       950.735324                        -399.802986   \n",
       "4                       949.645313                        -399.277632   \n",
       "\n",
       "   secondary_cleaner.state.floatbank2_a_air  \\\n",
       "0                                 24.938200   \n",
       "1                                 24.923466   \n",
       "2                                 24.908732   \n",
       "3                                 24.893998   \n",
       "4                                 24.886905   \n",
       "\n",
       "   secondary_cleaner.state.floatbank2_a_level  \\\n",
       "0                                 -500.490963   \n",
       "1                                 -499.813963   \n",
       "2                                 -500.304035   \n",
       "3                                 -499.382374   \n",
       "4                                 -499.357375   \n",
       "\n",
       "   secondary_cleaner.state.floatbank2_b_air  \\\n",
       "0                                 14.947607   \n",
       "1                                 14.930873   \n",
       "2                                 14.996511   \n",
       "3                                 14.916674   \n",
       "4                                 14.979233   \n",
       "\n",
       "   secondary_cleaner.state.floatbank2_b_level  \\\n",
       "0                                 -500.013837   \n",
       "1                                 -500.764452   \n",
       "2                                 -500.993821   \n",
       "3                                 -499.862299   \n",
       "4                                 -500.186804   \n",
       "\n",
       "   secondary_cleaner.state.floatbank3_a_air  \\\n",
       "0                                 20.018166   \n",
       "1                                 19.988503   \n",
       "2                                 20.039689   \n",
       "3                                 20.031100   \n",
       "4                                 19.962364   \n",
       "\n",
       "   secondary_cleaner.state.floatbank3_a_level  \\\n",
       "0                                 -450.395995   \n",
       "1                                 -450.114024   \n",
       "2                                 -450.263164   \n",
       "3                                 -449.372570   \n",
       "4                                 -450.638828   \n",
       "\n",
       "   secondary_cleaner.state.floatbank3_b_air  \\\n",
       "0                                 13.987058   \n",
       "1                                 14.092981   \n",
       "2                                 14.077881   \n",
       "3                                 14.013968   \n",
       "4                                 14.009245   \n",
       "\n",
       "   secondary_cleaner.state.floatbank3_b_level  \\\n",
       "0                                 -449.831513   \n",
       "1                                 -450.059163   \n",
       "2                                 -449.660997   \n",
       "3                                 -449.526900   \n",
       "4                                 -450.022259   \n",
       "\n",
       "   secondary_cleaner.state.floatbank4_a_air  \\\n",
       "0                                 12.023554   \n",
       "1                                 12.058140   \n",
       "2                                 11.962366   \n",
       "3                                 12.033091   \n",
       "4                                 12.025367   \n",
       "\n",
       "   secondary_cleaner.state.floatbank4_a_level  \\\n",
       "0                                 -497.795834   \n",
       "1                                 -498.695773   \n",
       "2                                 -498.767484   \n",
       "3                                 -498.350935   \n",
       "4                                 -500.786497   \n",
       "\n",
       "   secondary_cleaner.state.floatbank4_b_air  \\\n",
       "0                                  8.016656   \n",
       "1                                  8.130979   \n",
       "2                                  8.096893   \n",
       "3                                  8.074946   \n",
       "4                                  8.054678   \n",
       "\n",
       "   secondary_cleaner.state.floatbank4_b_level  \\\n",
       "0                                 -501.289139   \n",
       "1                                 -499.634209   \n",
       "2                                 -500.827423   \n",
       "3                                 -499.474407   \n",
       "4                                 -500.397500   \n",
       "\n",
       "   secondary_cleaner.state.floatbank5_a_air  \\\n",
       "0                                  7.946562   \n",
       "1                                  7.958270   \n",
       "2                                  8.071056   \n",
       "3                                  7.897085   \n",
       "4                                  8.107890   \n",
       "\n",
       "   secondary_cleaner.state.floatbank5_a_level  \\\n",
       "0                                 -432.317850   \n",
       "1                                 -525.839648   \n",
       "2                                 -500.801673   \n",
       "3                                 -500.868509   \n",
       "4                                 -509.526725   \n",
       "\n",
       "   secondary_cleaner.state.floatbank5_b_air  \\\n",
       "0                                  4.872511   \n",
       "1                                  4.878850   \n",
       "2                                  4.905125   \n",
       "3                                  4.931400   \n",
       "4                                  4.957674   \n",
       "\n",
       "   secondary_cleaner.state.floatbank5_b_level  \\\n",
       "0                                 -500.037437   \n",
       "1                                 -500.162375   \n",
       "2                                 -499.828510   \n",
       "3                                 -499.963623   \n",
       "4                                 -500.360026   \n",
       "\n",
       "   secondary_cleaner.state.floatbank6_a_air  \\\n",
       "0                                 26.705889   \n",
       "1                                 25.019940   \n",
       "2                                 24.994862   \n",
       "3                                 24.948919   \n",
       "4                                 25.003331   \n",
       "\n",
       "   secondary_cleaner.state.floatbank6_a_level  \n",
       "0                                 -499.709414  \n",
       "1                                 -499.819438  \n",
       "2                                 -500.622559  \n",
       "3                                 -498.709987  \n",
       "4                                 -500.856333  "
      ]
     },
     "metadata": {},
     "output_type": "display_data"
    },
    {
     "name": "stdout",
     "output_type": "stream",
     "text": [
      "\n"
     ]
    },
    {
     "data": {
      "text/html": [
       "<div>\n",
       "<style scoped>\n",
       "    .dataframe tbody tr th:only-of-type {\n",
       "        vertical-align: middle;\n",
       "    }\n",
       "\n",
       "    .dataframe tbody tr th {\n",
       "        vertical-align: top;\n",
       "    }\n",
       "\n",
       "    .dataframe thead th {\n",
       "        text-align: right;\n",
       "    }\n",
       "</style>\n",
       "<table border=\"1\" class=\"dataframe\">\n",
       "  <thead>\n",
       "    <tr style=\"text-align: right;\">\n",
       "      <th></th>\n",
       "      <th>date</th>\n",
       "      <th>final.output.concentrate_ag</th>\n",
       "      <th>final.output.concentrate_pb</th>\n",
       "      <th>final.output.concentrate_sol</th>\n",
       "      <th>final.output.concentrate_au</th>\n",
       "      <th>final.output.recovery</th>\n",
       "      <th>final.output.tail_ag</th>\n",
       "      <th>final.output.tail_pb</th>\n",
       "      <th>final.output.tail_sol</th>\n",
       "      <th>final.output.tail_au</th>\n",
       "      <th>primary_cleaner.input.sulfate</th>\n",
       "      <th>primary_cleaner.input.depressant</th>\n",
       "      <th>primary_cleaner.input.feed_size</th>\n",
       "      <th>primary_cleaner.input.xanthate</th>\n",
       "      <th>primary_cleaner.output.concentrate_ag</th>\n",
       "      <th>primary_cleaner.output.concentrate_pb</th>\n",
       "      <th>primary_cleaner.output.concentrate_sol</th>\n",
       "      <th>primary_cleaner.output.concentrate_au</th>\n",
       "      <th>primary_cleaner.output.tail_ag</th>\n",
       "      <th>primary_cleaner.output.tail_pb</th>\n",
       "      <th>primary_cleaner.output.tail_sol</th>\n",
       "      <th>primary_cleaner.output.tail_au</th>\n",
       "      <th>primary_cleaner.state.floatbank8_a_air</th>\n",
       "      <th>primary_cleaner.state.floatbank8_a_level</th>\n",
       "      <th>primary_cleaner.state.floatbank8_b_air</th>\n",
       "      <th>primary_cleaner.state.floatbank8_b_level</th>\n",
       "      <th>primary_cleaner.state.floatbank8_c_air</th>\n",
       "      <th>primary_cleaner.state.floatbank8_c_level</th>\n",
       "      <th>primary_cleaner.state.floatbank8_d_air</th>\n",
       "      <th>primary_cleaner.state.floatbank8_d_level</th>\n",
       "      <th>rougher.calculation.sulfate_to_au_concentrate</th>\n",
       "      <th>rougher.calculation.floatbank10_sulfate_to_au_feed</th>\n",
       "      <th>rougher.calculation.floatbank11_sulfate_to_au_feed</th>\n",
       "      <th>rougher.calculation.au_pb_ratio</th>\n",
       "      <th>rougher.input.feed_ag</th>\n",
       "      <th>rougher.input.feed_pb</th>\n",
       "      <th>rougher.input.feed_rate</th>\n",
       "      <th>rougher.input.feed_size</th>\n",
       "      <th>rougher.input.feed_sol</th>\n",
       "      <th>rougher.input.feed_au</th>\n",
       "      <th>rougher.input.floatbank10_sulfate</th>\n",
       "      <th>rougher.input.floatbank10_xanthate</th>\n",
       "      <th>rougher.input.floatbank11_sulfate</th>\n",
       "      <th>rougher.input.floatbank11_xanthate</th>\n",
       "      <th>rougher.output.concentrate_ag</th>\n",
       "      <th>rougher.output.concentrate_pb</th>\n",
       "      <th>rougher.output.concentrate_sol</th>\n",
       "      <th>rougher.output.concentrate_au</th>\n",
       "      <th>rougher.output.recovery</th>\n",
       "      <th>rougher.output.tail_ag</th>\n",
       "      <th>rougher.output.tail_pb</th>\n",
       "      <th>rougher.output.tail_sol</th>\n",
       "      <th>rougher.output.tail_au</th>\n",
       "      <th>rougher.state.floatbank10_a_air</th>\n",
       "      <th>rougher.state.floatbank10_a_level</th>\n",
       "      <th>rougher.state.floatbank10_b_air</th>\n",
       "      <th>rougher.state.floatbank10_b_level</th>\n",
       "      <th>rougher.state.floatbank10_c_air</th>\n",
       "      <th>rougher.state.floatbank10_c_level</th>\n",
       "      <th>rougher.state.floatbank10_d_air</th>\n",
       "      <th>rougher.state.floatbank10_d_level</th>\n",
       "      <th>rougher.state.floatbank10_e_air</th>\n",
       "      <th>rougher.state.floatbank10_e_level</th>\n",
       "      <th>rougher.state.floatbank10_f_air</th>\n",
       "      <th>rougher.state.floatbank10_f_level</th>\n",
       "      <th>secondary_cleaner.output.tail_ag</th>\n",
       "      <th>secondary_cleaner.output.tail_pb</th>\n",
       "      <th>secondary_cleaner.output.tail_sol</th>\n",
       "      <th>secondary_cleaner.output.tail_au</th>\n",
       "      <th>secondary_cleaner.state.floatbank2_a_air</th>\n",
       "      <th>secondary_cleaner.state.floatbank2_a_level</th>\n",
       "      <th>secondary_cleaner.state.floatbank2_b_air</th>\n",
       "      <th>secondary_cleaner.state.floatbank2_b_level</th>\n",
       "      <th>secondary_cleaner.state.floatbank3_a_air</th>\n",
       "      <th>secondary_cleaner.state.floatbank3_a_level</th>\n",
       "      <th>secondary_cleaner.state.floatbank3_b_air</th>\n",
       "      <th>secondary_cleaner.state.floatbank3_b_level</th>\n",
       "      <th>secondary_cleaner.state.floatbank4_a_air</th>\n",
       "      <th>secondary_cleaner.state.floatbank4_a_level</th>\n",
       "      <th>secondary_cleaner.state.floatbank4_b_air</th>\n",
       "      <th>secondary_cleaner.state.floatbank4_b_level</th>\n",
       "      <th>secondary_cleaner.state.floatbank5_a_air</th>\n",
       "      <th>secondary_cleaner.state.floatbank5_a_level</th>\n",
       "      <th>secondary_cleaner.state.floatbank5_b_air</th>\n",
       "      <th>secondary_cleaner.state.floatbank5_b_level</th>\n",
       "      <th>secondary_cleaner.state.floatbank6_a_air</th>\n",
       "      <th>secondary_cleaner.state.floatbank6_a_level</th>\n",
       "    </tr>\n",
       "  </thead>\n",
       "  <tbody>\n",
       "    <tr>\n",
       "      <th>0</th>\n",
       "      <td>2016-01-15 00:00:00</td>\n",
       "      <td>6.055403</td>\n",
       "      <td>9.889648</td>\n",
       "      <td>5.507324</td>\n",
       "      <td>42.192020</td>\n",
       "      <td>70.541216</td>\n",
       "      <td>10.411962</td>\n",
       "      <td>0.895447</td>\n",
       "      <td>16.904297</td>\n",
       "      <td>2.143149</td>\n",
       "      <td>127.092003</td>\n",
       "      <td>10.128295</td>\n",
       "      <td>7.25</td>\n",
       "      <td>0.988759</td>\n",
       "      <td>8.547551</td>\n",
       "      <td>10.389648</td>\n",
       "      <td>19.529297</td>\n",
       "      <td>34.174427</td>\n",
       "      <td>14.936526</td>\n",
       "      <td>2.534912</td>\n",
       "      <td>7.476074</td>\n",
       "      <td>2.106679</td>\n",
       "      <td>1549.775757</td>\n",
       "      <td>-498.912140</td>\n",
       "      <td>1551.434204</td>\n",
       "      <td>-516.403442</td>\n",
       "      <td>1549.873901</td>\n",
       "      <td>-498.666595</td>\n",
       "      <td>1554.367432</td>\n",
       "      <td>-493.428131</td>\n",
       "      <td>41885.707031</td>\n",
       "      <td>3481.779053</td>\n",
       "      <td>3520.337158</td>\n",
       "      <td>2.838687</td>\n",
       "      <td>6.100378</td>\n",
       "      <td>2.284912</td>\n",
       "      <td>523.546326</td>\n",
       "      <td>55.486599</td>\n",
       "      <td>36.808594</td>\n",
       "      <td>6.486150</td>\n",
       "      <td>11.986616</td>\n",
       "      <td>6.007990</td>\n",
       "      <td>11.836743</td>\n",
       "      <td>6.005818</td>\n",
       "      <td>11.500771</td>\n",
       "      <td>7.101074</td>\n",
       "      <td>28.029297</td>\n",
       "      <td>19.793808</td>\n",
       "      <td>87.107763</td>\n",
       "      <td>5.008018</td>\n",
       "      <td>0.508728</td>\n",
       "      <td>19.154297</td>\n",
       "      <td>1.170244</td>\n",
       "      <td>999.706909</td>\n",
       "      <td>-404.066986</td>\n",
       "      <td>1603.011353</td>\n",
       "      <td>-434.715027</td>\n",
       "      <td>1602.375000</td>\n",
       "      <td>-442.204468</td>\n",
       "      <td>1598.937256</td>\n",
       "      <td>-451.294128</td>\n",
       "      <td>1404.472046</td>\n",
       "      <td>-455.462982</td>\n",
       "      <td>1416.354980</td>\n",
       "      <td>-451.939636</td>\n",
       "      <td>14.500184</td>\n",
       "      <td>4.694824</td>\n",
       "      <td>8.764648</td>\n",
       "      <td>2.606185</td>\n",
       "      <td>25.853109</td>\n",
       "      <td>-498.526489</td>\n",
       "      <td>23.893660</td>\n",
       "      <td>-501.406281</td>\n",
       "      <td>23.961798</td>\n",
       "      <td>-495.262817</td>\n",
       "      <td>21.940409</td>\n",
       "      <td>-499.340973</td>\n",
       "      <td>14.016835</td>\n",
       "      <td>-502.488007</td>\n",
       "      <td>12.099931</td>\n",
       "      <td>-504.715942</td>\n",
       "      <td>9.925633</td>\n",
       "      <td>-498.310211</td>\n",
       "      <td>8.079666</td>\n",
       "      <td>-500.470978</td>\n",
       "      <td>14.151341</td>\n",
       "      <td>-605.841980</td>\n",
       "    </tr>\n",
       "    <tr>\n",
       "      <th>1</th>\n",
       "      <td>2016-01-15 01:00:00</td>\n",
       "      <td>6.029369</td>\n",
       "      <td>9.968944</td>\n",
       "      <td>5.257781</td>\n",
       "      <td>42.701629</td>\n",
       "      <td>69.266198</td>\n",
       "      <td>10.462676</td>\n",
       "      <td>0.927452</td>\n",
       "      <td>16.634514</td>\n",
       "      <td>2.224930</td>\n",
       "      <td>125.629232</td>\n",
       "      <td>10.296251</td>\n",
       "      <td>7.25</td>\n",
       "      <td>1.002663</td>\n",
       "      <td>8.558743</td>\n",
       "      <td>10.497069</td>\n",
       "      <td>19.369147</td>\n",
       "      <td>34.118526</td>\n",
       "      <td>16.250511</td>\n",
       "      <td>3.049646</td>\n",
       "      <td>6.733907</td>\n",
       "      <td>2.353017</td>\n",
       "      <td>1576.166671</td>\n",
       "      <td>-500.904965</td>\n",
       "      <td>1575.950626</td>\n",
       "      <td>-499.865889</td>\n",
       "      <td>1575.994189</td>\n",
       "      <td>-499.315107</td>\n",
       "      <td>1574.479259</td>\n",
       "      <td>-498.931665</td>\n",
       "      <td>42050.861809</td>\n",
       "      <td>3498.370979</td>\n",
       "      <td>3489.981857</td>\n",
       "      <td>2.858998</td>\n",
       "      <td>6.161113</td>\n",
       "      <td>2.266033</td>\n",
       "      <td>525.290581</td>\n",
       "      <td>57.278666</td>\n",
       "      <td>35.753385</td>\n",
       "      <td>6.478583</td>\n",
       "      <td>11.971193</td>\n",
       "      <td>6.005766</td>\n",
       "      <td>11.996163</td>\n",
       "      <td>6.012594</td>\n",
       "      <td>11.615865</td>\n",
       "      <td>7.278807</td>\n",
       "      <td>28.067063</td>\n",
       "      <td>20.050975</td>\n",
       "      <td>86.843261</td>\n",
       "      <td>4.955378</td>\n",
       "      <td>0.536689</td>\n",
       "      <td>18.965234</td>\n",
       "      <td>1.184827</td>\n",
       "      <td>1000.286398</td>\n",
       "      <td>-400.065196</td>\n",
       "      <td>1600.754587</td>\n",
       "      <td>-449.953435</td>\n",
       "      <td>1600.479580</td>\n",
       "      <td>-449.830646</td>\n",
       "      <td>1600.527589</td>\n",
       "      <td>-449.953649</td>\n",
       "      <td>1399.227084</td>\n",
       "      <td>-450.869848</td>\n",
       "      <td>1399.719514</td>\n",
       "      <td>-450.119001</td>\n",
       "      <td>14.265474</td>\n",
       "      <td>4.592547</td>\n",
       "      <td>9.001494</td>\n",
       "      <td>2.488248</td>\n",
       "      <td>25.880539</td>\n",
       "      <td>-499.989656</td>\n",
       "      <td>23.889530</td>\n",
       "      <td>-500.372428</td>\n",
       "      <td>23.970550</td>\n",
       "      <td>-500.085473</td>\n",
       "      <td>22.085714</td>\n",
       "      <td>-499.446897</td>\n",
       "      <td>13.992281</td>\n",
       "      <td>-505.503262</td>\n",
       "      <td>11.950531</td>\n",
       "      <td>-501.331529</td>\n",
       "      <td>10.039245</td>\n",
       "      <td>-500.169983</td>\n",
       "      <td>7.984757</td>\n",
       "      <td>-500.582168</td>\n",
       "      <td>13.998353</td>\n",
       "      <td>-599.787184</td>\n",
       "    </tr>\n",
       "    <tr>\n",
       "      <th>2</th>\n",
       "      <td>2016-01-15 02:00:00</td>\n",
       "      <td>6.055926</td>\n",
       "      <td>10.213995</td>\n",
       "      <td>5.383759</td>\n",
       "      <td>42.657501</td>\n",
       "      <td>68.116445</td>\n",
       "      <td>10.507046</td>\n",
       "      <td>0.953716</td>\n",
       "      <td>16.208849</td>\n",
       "      <td>2.257889</td>\n",
       "      <td>123.819808</td>\n",
       "      <td>11.316280</td>\n",
       "      <td>7.25</td>\n",
       "      <td>0.991265</td>\n",
       "      <td>8.603505</td>\n",
       "      <td>10.354494</td>\n",
       "      <td>19.167579</td>\n",
       "      <td>33.969464</td>\n",
       "      <td>16.491823</td>\n",
       "      <td>3.124664</td>\n",
       "      <td>6.471768</td>\n",
       "      <td>2.416800</td>\n",
       "      <td>1601.556163</td>\n",
       "      <td>-499.997791</td>\n",
       "      <td>1600.386685</td>\n",
       "      <td>-500.607762</td>\n",
       "      <td>1602.003542</td>\n",
       "      <td>-500.870069</td>\n",
       "      <td>1599.541515</td>\n",
       "      <td>-499.827444</td>\n",
       "      <td>42018.101184</td>\n",
       "      <td>3495.348910</td>\n",
       "      <td>3502.359819</td>\n",
       "      <td>2.945989</td>\n",
       "      <td>6.116455</td>\n",
       "      <td>2.159622</td>\n",
       "      <td>530.026610</td>\n",
       "      <td>57.510649</td>\n",
       "      <td>35.971630</td>\n",
       "      <td>6.362222</td>\n",
       "      <td>11.920603</td>\n",
       "      <td>6.197377</td>\n",
       "      <td>11.920305</td>\n",
       "      <td>6.204633</td>\n",
       "      <td>11.695753</td>\n",
       "      <td>7.216833</td>\n",
       "      <td>27.454037</td>\n",
       "      <td>19.737170</td>\n",
       "      <td>86.842308</td>\n",
       "      <td>4.843460</td>\n",
       "      <td>0.546416</td>\n",
       "      <td>18.808533</td>\n",
       "      <td>1.162562</td>\n",
       "      <td>999.719565</td>\n",
       "      <td>-400.074028</td>\n",
       "      <td>1599.337330</td>\n",
       "      <td>-450.008530</td>\n",
       "      <td>1599.672797</td>\n",
       "      <td>-449.954491</td>\n",
       "      <td>1599.849325</td>\n",
       "      <td>-449.954185</td>\n",
       "      <td>1399.180945</td>\n",
       "      <td>-449.937588</td>\n",
       "      <td>1400.316682</td>\n",
       "      <td>-450.527147</td>\n",
       "      <td>14.115662</td>\n",
       "      <td>4.624775</td>\n",
       "      <td>8.842896</td>\n",
       "      <td>2.458187</td>\n",
       "      <td>26.005245</td>\n",
       "      <td>-499.929616</td>\n",
       "      <td>23.886657</td>\n",
       "      <td>-499.951928</td>\n",
       "      <td>23.913535</td>\n",
       "      <td>-499.442343</td>\n",
       "      <td>23.957717</td>\n",
       "      <td>-499.901982</td>\n",
       "      <td>14.015015</td>\n",
       "      <td>-502.520901</td>\n",
       "      <td>11.912783</td>\n",
       "      <td>-501.133383</td>\n",
       "      <td>10.070913</td>\n",
       "      <td>-500.129135</td>\n",
       "      <td>8.013877</td>\n",
       "      <td>-500.517572</td>\n",
       "      <td>14.028663</td>\n",
       "      <td>-601.427363</td>\n",
       "    </tr>\n",
       "    <tr>\n",
       "      <th>3</th>\n",
       "      <td>2016-01-15 03:00:00</td>\n",
       "      <td>6.047977</td>\n",
       "      <td>9.977019</td>\n",
       "      <td>4.858634</td>\n",
       "      <td>42.689819</td>\n",
       "      <td>68.347543</td>\n",
       "      <td>10.422762</td>\n",
       "      <td>0.883763</td>\n",
       "      <td>16.532835</td>\n",
       "      <td>2.146849</td>\n",
       "      <td>122.270188</td>\n",
       "      <td>11.322140</td>\n",
       "      <td>7.25</td>\n",
       "      <td>0.996739</td>\n",
       "      <td>7.221879</td>\n",
       "      <td>8.496563</td>\n",
       "      <td>15.978538</td>\n",
       "      <td>28.260743</td>\n",
       "      <td>16.024359</td>\n",
       "      <td>2.960362</td>\n",
       "      <td>6.843791</td>\n",
       "      <td>2.262051</td>\n",
       "      <td>1599.968720</td>\n",
       "      <td>-500.951778</td>\n",
       "      <td>1600.659236</td>\n",
       "      <td>-499.677094</td>\n",
       "      <td>1600.304144</td>\n",
       "      <td>-500.727997</td>\n",
       "      <td>1600.449520</td>\n",
       "      <td>-500.052575</td>\n",
       "      <td>42029.447991</td>\n",
       "      <td>3498.578313</td>\n",
       "      <td>3499.162912</td>\n",
       "      <td>3.002340</td>\n",
       "      <td>6.043309</td>\n",
       "      <td>2.037807</td>\n",
       "      <td>542.590390</td>\n",
       "      <td>57.792734</td>\n",
       "      <td>36.862241</td>\n",
       "      <td>6.118189</td>\n",
       "      <td>11.630094</td>\n",
       "      <td>6.203177</td>\n",
       "      <td>11.692450</td>\n",
       "      <td>6.196578</td>\n",
       "      <td>11.915047</td>\n",
       "      <td>7.175616</td>\n",
       "      <td>27.341277</td>\n",
       "      <td>19.320810</td>\n",
       "      <td>87.226430</td>\n",
       "      <td>4.655288</td>\n",
       "      <td>0.542525</td>\n",
       "      <td>19.330200</td>\n",
       "      <td>1.079755</td>\n",
       "      <td>999.814770</td>\n",
       "      <td>-400.200179</td>\n",
       "      <td>1600.059442</td>\n",
       "      <td>-450.619948</td>\n",
       "      <td>1600.012842</td>\n",
       "      <td>-449.910497</td>\n",
       "      <td>1597.725177</td>\n",
       "      <td>-450.130127</td>\n",
       "      <td>1400.943157</td>\n",
       "      <td>-450.030142</td>\n",
       "      <td>1400.234743</td>\n",
       "      <td>-449.790835</td>\n",
       "      <td>13.732071</td>\n",
       "      <td>4.482453</td>\n",
       "      <td>9.122857</td>\n",
       "      <td>2.322062</td>\n",
       "      <td>25.942508</td>\n",
       "      <td>-499.176749</td>\n",
       "      <td>23.955516</td>\n",
       "      <td>-499.848796</td>\n",
       "      <td>23.966838</td>\n",
       "      <td>-500.008812</td>\n",
       "      <td>23.954443</td>\n",
       "      <td>-499.944710</td>\n",
       "      <td>14.036510</td>\n",
       "      <td>-500.857308</td>\n",
       "      <td>11.999550</td>\n",
       "      <td>-501.193686</td>\n",
       "      <td>9.970366</td>\n",
       "      <td>-499.201640</td>\n",
       "      <td>7.977324</td>\n",
       "      <td>-500.255908</td>\n",
       "      <td>14.005551</td>\n",
       "      <td>-599.996129</td>\n",
       "    </tr>\n",
       "    <tr>\n",
       "      <th>4</th>\n",
       "      <td>2016-01-15 04:00:00</td>\n",
       "      <td>6.148599</td>\n",
       "      <td>10.142511</td>\n",
       "      <td>4.939416</td>\n",
       "      <td>42.774141</td>\n",
       "      <td>66.927016</td>\n",
       "      <td>10.360302</td>\n",
       "      <td>0.792826</td>\n",
       "      <td>16.525686</td>\n",
       "      <td>2.055292</td>\n",
       "      <td>117.988169</td>\n",
       "      <td>11.913613</td>\n",
       "      <td>7.25</td>\n",
       "      <td>1.009869</td>\n",
       "      <td>9.089428</td>\n",
       "      <td>9.986786</td>\n",
       "      <td>19.199864</td>\n",
       "      <td>33.044932</td>\n",
       "      <td>16.480185</td>\n",
       "      <td>3.112100</td>\n",
       "      <td>6.550154</td>\n",
       "      <td>2.277073</td>\n",
       "      <td>1601.339707</td>\n",
       "      <td>-498.975456</td>\n",
       "      <td>1601.437854</td>\n",
       "      <td>-500.323246</td>\n",
       "      <td>1599.581894</td>\n",
       "      <td>-500.888152</td>\n",
       "      <td>1602.649541</td>\n",
       "      <td>-500.593010</td>\n",
       "      <td>42125.354245</td>\n",
       "      <td>3494.800771</td>\n",
       "      <td>3506.679315</td>\n",
       "      <td>3.169615</td>\n",
       "      <td>6.060915</td>\n",
       "      <td>1.786875</td>\n",
       "      <td>540.531893</td>\n",
       "      <td>56.047189</td>\n",
       "      <td>34.347666</td>\n",
       "      <td>5.663707</td>\n",
       "      <td>10.957755</td>\n",
       "      <td>6.198826</td>\n",
       "      <td>10.960521</td>\n",
       "      <td>6.194897</td>\n",
       "      <td>12.411054</td>\n",
       "      <td>7.240205</td>\n",
       "      <td>27.041023</td>\n",
       "      <td>19.216101</td>\n",
       "      <td>86.688794</td>\n",
       "      <td>4.552800</td>\n",
       "      <td>0.515438</td>\n",
       "      <td>19.267422</td>\n",
       "      <td>1.012642</td>\n",
       "      <td>999.678690</td>\n",
       "      <td>-399.752729</td>\n",
       "      <td>1600.208824</td>\n",
       "      <td>-449.599614</td>\n",
       "      <td>1600.357732</td>\n",
       "      <td>-450.034364</td>\n",
       "      <td>1599.759049</td>\n",
       "      <td>-449.909799</td>\n",
       "      <td>1401.560902</td>\n",
       "      <td>-448.877187</td>\n",
       "      <td>1401.160227</td>\n",
       "      <td>-450.407128</td>\n",
       "      <td>14.079996</td>\n",
       "      <td>4.470737</td>\n",
       "      <td>8.871028</td>\n",
       "      <td>2.330448</td>\n",
       "      <td>26.024787</td>\n",
       "      <td>-500.279091</td>\n",
       "      <td>23.955345</td>\n",
       "      <td>-500.593614</td>\n",
       "      <td>23.985703</td>\n",
       "      <td>-500.083811</td>\n",
       "      <td>23.958945</td>\n",
       "      <td>-499.990309</td>\n",
       "      <td>14.027298</td>\n",
       "      <td>-499.838632</td>\n",
       "      <td>11.953070</td>\n",
       "      <td>-501.053894</td>\n",
       "      <td>9.925709</td>\n",
       "      <td>-501.686727</td>\n",
       "      <td>7.894242</td>\n",
       "      <td>-500.356035</td>\n",
       "      <td>13.996647</td>\n",
       "      <td>-601.496691</td>\n",
       "    </tr>\n",
       "  </tbody>\n",
       "</table>\n",
       "</div>"
      ],
      "text/plain": [
       "                  date  final.output.concentrate_ag  \\\n",
       "0  2016-01-15 00:00:00                     6.055403   \n",
       "1  2016-01-15 01:00:00                     6.029369   \n",
       "2  2016-01-15 02:00:00                     6.055926   \n",
       "3  2016-01-15 03:00:00                     6.047977   \n",
       "4  2016-01-15 04:00:00                     6.148599   \n",
       "\n",
       "   final.output.concentrate_pb  final.output.concentrate_sol  \\\n",
       "0                     9.889648                      5.507324   \n",
       "1                     9.968944                      5.257781   \n",
       "2                    10.213995                      5.383759   \n",
       "3                     9.977019                      4.858634   \n",
       "4                    10.142511                      4.939416   \n",
       "\n",
       "   final.output.concentrate_au  final.output.recovery  final.output.tail_ag  \\\n",
       "0                    42.192020              70.541216             10.411962   \n",
       "1                    42.701629              69.266198             10.462676   \n",
       "2                    42.657501              68.116445             10.507046   \n",
       "3                    42.689819              68.347543             10.422762   \n",
       "4                    42.774141              66.927016             10.360302   \n",
       "\n",
       "   final.output.tail_pb  final.output.tail_sol  final.output.tail_au  \\\n",
       "0              0.895447              16.904297              2.143149   \n",
       "1              0.927452              16.634514              2.224930   \n",
       "2              0.953716              16.208849              2.257889   \n",
       "3              0.883763              16.532835              2.146849   \n",
       "4              0.792826              16.525686              2.055292   \n",
       "\n",
       "   primary_cleaner.input.sulfate  primary_cleaner.input.depressant  \\\n",
       "0                     127.092003                         10.128295   \n",
       "1                     125.629232                         10.296251   \n",
       "2                     123.819808                         11.316280   \n",
       "3                     122.270188                         11.322140   \n",
       "4                     117.988169                         11.913613   \n",
       "\n",
       "   primary_cleaner.input.feed_size  primary_cleaner.input.xanthate  \\\n",
       "0                             7.25                        0.988759   \n",
       "1                             7.25                        1.002663   \n",
       "2                             7.25                        0.991265   \n",
       "3                             7.25                        0.996739   \n",
       "4                             7.25                        1.009869   \n",
       "\n",
       "   primary_cleaner.output.concentrate_ag  \\\n",
       "0                               8.547551   \n",
       "1                               8.558743   \n",
       "2                               8.603505   \n",
       "3                               7.221879   \n",
       "4                               9.089428   \n",
       "\n",
       "   primary_cleaner.output.concentrate_pb  \\\n",
       "0                              10.389648   \n",
       "1                              10.497069   \n",
       "2                              10.354494   \n",
       "3                               8.496563   \n",
       "4                               9.986786   \n",
       "\n",
       "   primary_cleaner.output.concentrate_sol  \\\n",
       "0                               19.529297   \n",
       "1                               19.369147   \n",
       "2                               19.167579   \n",
       "3                               15.978538   \n",
       "4                               19.199864   \n",
       "\n",
       "   primary_cleaner.output.concentrate_au  primary_cleaner.output.tail_ag  \\\n",
       "0                              34.174427                       14.936526   \n",
       "1                              34.118526                       16.250511   \n",
       "2                              33.969464                       16.491823   \n",
       "3                              28.260743                       16.024359   \n",
       "4                              33.044932                       16.480185   \n",
       "\n",
       "   primary_cleaner.output.tail_pb  primary_cleaner.output.tail_sol  \\\n",
       "0                        2.534912                         7.476074   \n",
       "1                        3.049646                         6.733907   \n",
       "2                        3.124664                         6.471768   \n",
       "3                        2.960362                         6.843791   \n",
       "4                        3.112100                         6.550154   \n",
       "\n",
       "   primary_cleaner.output.tail_au  primary_cleaner.state.floatbank8_a_air  \\\n",
       "0                        2.106679                             1549.775757   \n",
       "1                        2.353017                             1576.166671   \n",
       "2                        2.416800                             1601.556163   \n",
       "3                        2.262051                             1599.968720   \n",
       "4                        2.277073                             1601.339707   \n",
       "\n",
       "   primary_cleaner.state.floatbank8_a_level  \\\n",
       "0                               -498.912140   \n",
       "1                               -500.904965   \n",
       "2                               -499.997791   \n",
       "3                               -500.951778   \n",
       "4                               -498.975456   \n",
       "\n",
       "   primary_cleaner.state.floatbank8_b_air  \\\n",
       "0                             1551.434204   \n",
       "1                             1575.950626   \n",
       "2                             1600.386685   \n",
       "3                             1600.659236   \n",
       "4                             1601.437854   \n",
       "\n",
       "   primary_cleaner.state.floatbank8_b_level  \\\n",
       "0                               -516.403442   \n",
       "1                               -499.865889   \n",
       "2                               -500.607762   \n",
       "3                               -499.677094   \n",
       "4                               -500.323246   \n",
       "\n",
       "   primary_cleaner.state.floatbank8_c_air  \\\n",
       "0                             1549.873901   \n",
       "1                             1575.994189   \n",
       "2                             1602.003542   \n",
       "3                             1600.304144   \n",
       "4                             1599.581894   \n",
       "\n",
       "   primary_cleaner.state.floatbank8_c_level  \\\n",
       "0                               -498.666595   \n",
       "1                               -499.315107   \n",
       "2                               -500.870069   \n",
       "3                               -500.727997   \n",
       "4                               -500.888152   \n",
       "\n",
       "   primary_cleaner.state.floatbank8_d_air  \\\n",
       "0                             1554.367432   \n",
       "1                             1574.479259   \n",
       "2                             1599.541515   \n",
       "3                             1600.449520   \n",
       "4                             1602.649541   \n",
       "\n",
       "   primary_cleaner.state.floatbank8_d_level  \\\n",
       "0                               -493.428131   \n",
       "1                               -498.931665   \n",
       "2                               -499.827444   \n",
       "3                               -500.052575   \n",
       "4                               -500.593010   \n",
       "\n",
       "   rougher.calculation.sulfate_to_au_concentrate  \\\n",
       "0                                   41885.707031   \n",
       "1                                   42050.861809   \n",
       "2                                   42018.101184   \n",
       "3                                   42029.447991   \n",
       "4                                   42125.354245   \n",
       "\n",
       "   rougher.calculation.floatbank10_sulfate_to_au_feed  \\\n",
       "0                                        3481.779053    \n",
       "1                                        3498.370979    \n",
       "2                                        3495.348910    \n",
       "3                                        3498.578313    \n",
       "4                                        3494.800771    \n",
       "\n",
       "   rougher.calculation.floatbank11_sulfate_to_au_feed  \\\n",
       "0                                        3520.337158    \n",
       "1                                        3489.981857    \n",
       "2                                        3502.359819    \n",
       "3                                        3499.162912    \n",
       "4                                        3506.679315    \n",
       "\n",
       "   rougher.calculation.au_pb_ratio  rougher.input.feed_ag  \\\n",
       "0                         2.838687               6.100378   \n",
       "1                         2.858998               6.161113   \n",
       "2                         2.945989               6.116455   \n",
       "3                         3.002340               6.043309   \n",
       "4                         3.169615               6.060915   \n",
       "\n",
       "   rougher.input.feed_pb  rougher.input.feed_rate  rougher.input.feed_size  \\\n",
       "0               2.284912               523.546326                55.486599   \n",
       "1               2.266033               525.290581                57.278666   \n",
       "2               2.159622               530.026610                57.510649   \n",
       "3               2.037807               542.590390                57.792734   \n",
       "4               1.786875               540.531893                56.047189   \n",
       "\n",
       "   rougher.input.feed_sol  rougher.input.feed_au  \\\n",
       "0               36.808594               6.486150   \n",
       "1               35.753385               6.478583   \n",
       "2               35.971630               6.362222   \n",
       "3               36.862241               6.118189   \n",
       "4               34.347666               5.663707   \n",
       "\n",
       "   rougher.input.floatbank10_sulfate  rougher.input.floatbank10_xanthate  \\\n",
       "0                          11.986616                            6.007990   \n",
       "1                          11.971193                            6.005766   \n",
       "2                          11.920603                            6.197377   \n",
       "3                          11.630094                            6.203177   \n",
       "4                          10.957755                            6.198826   \n",
       "\n",
       "   rougher.input.floatbank11_sulfate  rougher.input.floatbank11_xanthate  \\\n",
       "0                          11.836743                            6.005818   \n",
       "1                          11.996163                            6.012594   \n",
       "2                          11.920305                            6.204633   \n",
       "3                          11.692450                            6.196578   \n",
       "4                          10.960521                            6.194897   \n",
       "\n",
       "   rougher.output.concentrate_ag  rougher.output.concentrate_pb  \\\n",
       "0                      11.500771                       7.101074   \n",
       "1                      11.615865                       7.278807   \n",
       "2                      11.695753                       7.216833   \n",
       "3                      11.915047                       7.175616   \n",
       "4                      12.411054                       7.240205   \n",
       "\n",
       "   rougher.output.concentrate_sol  rougher.output.concentrate_au  \\\n",
       "0                       28.029297                      19.793808   \n",
       "1                       28.067063                      20.050975   \n",
       "2                       27.454037                      19.737170   \n",
       "3                       27.341277                      19.320810   \n",
       "4                       27.041023                      19.216101   \n",
       "\n",
       "   rougher.output.recovery  rougher.output.tail_ag  rougher.output.tail_pb  \\\n",
       "0                87.107763                5.008018                0.508728   \n",
       "1                86.843261                4.955378                0.536689   \n",
       "2                86.842308                4.843460                0.546416   \n",
       "3                87.226430                4.655288                0.542525   \n",
       "4                86.688794                4.552800                0.515438   \n",
       "\n",
       "   rougher.output.tail_sol  rougher.output.tail_au  \\\n",
       "0                19.154297                1.170244   \n",
       "1                18.965234                1.184827   \n",
       "2                18.808533                1.162562   \n",
       "3                19.330200                1.079755   \n",
       "4                19.267422                1.012642   \n",
       "\n",
       "   rougher.state.floatbank10_a_air  rougher.state.floatbank10_a_level  \\\n",
       "0                       999.706909                        -404.066986   \n",
       "1                      1000.286398                        -400.065196   \n",
       "2                       999.719565                        -400.074028   \n",
       "3                       999.814770                        -400.200179   \n",
       "4                       999.678690                        -399.752729   \n",
       "\n",
       "   rougher.state.floatbank10_b_air  rougher.state.floatbank10_b_level  \\\n",
       "0                      1603.011353                        -434.715027   \n",
       "1                      1600.754587                        -449.953435   \n",
       "2                      1599.337330                        -450.008530   \n",
       "3                      1600.059442                        -450.619948   \n",
       "4                      1600.208824                        -449.599614   \n",
       "\n",
       "   rougher.state.floatbank10_c_air  rougher.state.floatbank10_c_level  \\\n",
       "0                      1602.375000                        -442.204468   \n",
       "1                      1600.479580                        -449.830646   \n",
       "2                      1599.672797                        -449.954491   \n",
       "3                      1600.012842                        -449.910497   \n",
       "4                      1600.357732                        -450.034364   \n",
       "\n",
       "   rougher.state.floatbank10_d_air  rougher.state.floatbank10_d_level  \\\n",
       "0                      1598.937256                        -451.294128   \n",
       "1                      1600.527589                        -449.953649   \n",
       "2                      1599.849325                        -449.954185   \n",
       "3                      1597.725177                        -450.130127   \n",
       "4                      1599.759049                        -449.909799   \n",
       "\n",
       "   rougher.state.floatbank10_e_air  rougher.state.floatbank10_e_level  \\\n",
       "0                      1404.472046                        -455.462982   \n",
       "1                      1399.227084                        -450.869848   \n",
       "2                      1399.180945                        -449.937588   \n",
       "3                      1400.943157                        -450.030142   \n",
       "4                      1401.560902                        -448.877187   \n",
       "\n",
       "   rougher.state.floatbank10_f_air  rougher.state.floatbank10_f_level  \\\n",
       "0                      1416.354980                        -451.939636   \n",
       "1                      1399.719514                        -450.119001   \n",
       "2                      1400.316682                        -450.527147   \n",
       "3                      1400.234743                        -449.790835   \n",
       "4                      1401.160227                        -450.407128   \n",
       "\n",
       "   secondary_cleaner.output.tail_ag  secondary_cleaner.output.tail_pb  \\\n",
       "0                         14.500184                          4.694824   \n",
       "1                         14.265474                          4.592547   \n",
       "2                         14.115662                          4.624775   \n",
       "3                         13.732071                          4.482453   \n",
       "4                         14.079996                          4.470737   \n",
       "\n",
       "   secondary_cleaner.output.tail_sol  secondary_cleaner.output.tail_au  \\\n",
       "0                           8.764648                          2.606185   \n",
       "1                           9.001494                          2.488248   \n",
       "2                           8.842896                          2.458187   \n",
       "3                           9.122857                          2.322062   \n",
       "4                           8.871028                          2.330448   \n",
       "\n",
       "   secondary_cleaner.state.floatbank2_a_air  \\\n",
       "0                                 25.853109   \n",
       "1                                 25.880539   \n",
       "2                                 26.005245   \n",
       "3                                 25.942508   \n",
       "4                                 26.024787   \n",
       "\n",
       "   secondary_cleaner.state.floatbank2_a_level  \\\n",
       "0                                 -498.526489   \n",
       "1                                 -499.989656   \n",
       "2                                 -499.929616   \n",
       "3                                 -499.176749   \n",
       "4                                 -500.279091   \n",
       "\n",
       "   secondary_cleaner.state.floatbank2_b_air  \\\n",
       "0                                 23.893660   \n",
       "1                                 23.889530   \n",
       "2                                 23.886657   \n",
       "3                                 23.955516   \n",
       "4                                 23.955345   \n",
       "\n",
       "   secondary_cleaner.state.floatbank2_b_level  \\\n",
       "0                                 -501.406281   \n",
       "1                                 -500.372428   \n",
       "2                                 -499.951928   \n",
       "3                                 -499.848796   \n",
       "4                                 -500.593614   \n",
       "\n",
       "   secondary_cleaner.state.floatbank3_a_air  \\\n",
       "0                                 23.961798   \n",
       "1                                 23.970550   \n",
       "2                                 23.913535   \n",
       "3                                 23.966838   \n",
       "4                                 23.985703   \n",
       "\n",
       "   secondary_cleaner.state.floatbank3_a_level  \\\n",
       "0                                 -495.262817   \n",
       "1                                 -500.085473   \n",
       "2                                 -499.442343   \n",
       "3                                 -500.008812   \n",
       "4                                 -500.083811   \n",
       "\n",
       "   secondary_cleaner.state.floatbank3_b_air  \\\n",
       "0                                 21.940409   \n",
       "1                                 22.085714   \n",
       "2                                 23.957717   \n",
       "3                                 23.954443   \n",
       "4                                 23.958945   \n",
       "\n",
       "   secondary_cleaner.state.floatbank3_b_level  \\\n",
       "0                                 -499.340973   \n",
       "1                                 -499.446897   \n",
       "2                                 -499.901982   \n",
       "3                                 -499.944710   \n",
       "4                                 -499.990309   \n",
       "\n",
       "   secondary_cleaner.state.floatbank4_a_air  \\\n",
       "0                                 14.016835   \n",
       "1                                 13.992281   \n",
       "2                                 14.015015   \n",
       "3                                 14.036510   \n",
       "4                                 14.027298   \n",
       "\n",
       "   secondary_cleaner.state.floatbank4_a_level  \\\n",
       "0                                 -502.488007   \n",
       "1                                 -505.503262   \n",
       "2                                 -502.520901   \n",
       "3                                 -500.857308   \n",
       "4                                 -499.838632   \n",
       "\n",
       "   secondary_cleaner.state.floatbank4_b_air  \\\n",
       "0                                 12.099931   \n",
       "1                                 11.950531   \n",
       "2                                 11.912783   \n",
       "3                                 11.999550   \n",
       "4                                 11.953070   \n",
       "\n",
       "   secondary_cleaner.state.floatbank4_b_level  \\\n",
       "0                                 -504.715942   \n",
       "1                                 -501.331529   \n",
       "2                                 -501.133383   \n",
       "3                                 -501.193686   \n",
       "4                                 -501.053894   \n",
       "\n",
       "   secondary_cleaner.state.floatbank5_a_air  \\\n",
       "0                                  9.925633   \n",
       "1                                 10.039245   \n",
       "2                                 10.070913   \n",
       "3                                  9.970366   \n",
       "4                                  9.925709   \n",
       "\n",
       "   secondary_cleaner.state.floatbank5_a_level  \\\n",
       "0                                 -498.310211   \n",
       "1                                 -500.169983   \n",
       "2                                 -500.129135   \n",
       "3                                 -499.201640   \n",
       "4                                 -501.686727   \n",
       "\n",
       "   secondary_cleaner.state.floatbank5_b_air  \\\n",
       "0                                  8.079666   \n",
       "1                                  7.984757   \n",
       "2                                  8.013877   \n",
       "3                                  7.977324   \n",
       "4                                  7.894242   \n",
       "\n",
       "   secondary_cleaner.state.floatbank5_b_level  \\\n",
       "0                                 -500.470978   \n",
       "1                                 -500.582168   \n",
       "2                                 -500.517572   \n",
       "3                                 -500.255908   \n",
       "4                                 -500.356035   \n",
       "\n",
       "   secondary_cleaner.state.floatbank6_a_air  \\\n",
       "0                                 14.151341   \n",
       "1                                 13.998353   \n",
       "2                                 14.028663   \n",
       "3                                 14.005551   \n",
       "4                                 13.996647   \n",
       "\n",
       "   secondary_cleaner.state.floatbank6_a_level  \n",
       "0                                 -605.841980  \n",
       "1                                 -599.787184  \n",
       "2                                 -601.427363  \n",
       "3                                 -599.996129  \n",
       "4                                 -601.496691  "
      ]
     },
     "metadata": {},
     "output_type": "display_data"
    },
    {
     "name": "stdout",
     "output_type": "stream",
     "text": [
      "\n"
     ]
    }
   ],
   "source": [
    "# проверим содержимое столбцов\n",
    "for df in data_list:\n",
    "    display(df.head())\n",
    "    print()"
   ]
  },
  {
   "cell_type": "code",
   "execution_count": 5,
   "metadata": {
    "scrolled": false
   },
   "outputs": [
    {
     "name": "stdout",
     "output_type": "stream",
     "text": [
      "<class 'pandas.core.frame.DataFrame'>\n",
      "RangeIndex: 14149 entries, 0 to 14148\n",
      "Data columns (total 87 columns):\n",
      " #   Column                                              Non-Null Count  Dtype  \n",
      "---  ------                                              --------------  -----  \n",
      " 0   date                                                14149 non-null  object \n",
      " 1   final.output.concentrate_ag                         14148 non-null  float64\n",
      " 2   final.output.concentrate_pb                         14148 non-null  float64\n",
      " 3   final.output.concentrate_sol                        13938 non-null  float64\n",
      " 4   final.output.concentrate_au                         14149 non-null  float64\n",
      " 5   final.output.recovery                               14149 non-null  float64\n",
      " 6   final.output.tail_ag                                14149 non-null  float64\n",
      " 7   final.output.tail_pb                                14049 non-null  float64\n",
      " 8   final.output.tail_sol                               14144 non-null  float64\n",
      " 9   final.output.tail_au                                14149 non-null  float64\n",
      " 10  primary_cleaner.input.sulfate                       14129 non-null  float64\n",
      " 11  primary_cleaner.input.depressant                    14117 non-null  float64\n",
      " 12  primary_cleaner.input.feed_size                     14149 non-null  float64\n",
      " 13  primary_cleaner.input.xanthate                      14049 non-null  float64\n",
      " 14  primary_cleaner.output.concentrate_ag               14149 non-null  float64\n",
      " 15  primary_cleaner.output.concentrate_pb               14063 non-null  float64\n",
      " 16  primary_cleaner.output.concentrate_sol              13863 non-null  float64\n",
      " 17  primary_cleaner.output.concentrate_au               14149 non-null  float64\n",
      " 18  primary_cleaner.output.tail_ag                      14148 non-null  float64\n",
      " 19  primary_cleaner.output.tail_pb                      14134 non-null  float64\n",
      " 20  primary_cleaner.output.tail_sol                     14103 non-null  float64\n",
      " 21  primary_cleaner.output.tail_au                      14149 non-null  float64\n",
      " 22  primary_cleaner.state.floatbank8_a_air              14145 non-null  float64\n",
      " 23  primary_cleaner.state.floatbank8_a_level            14148 non-null  float64\n",
      " 24  primary_cleaner.state.floatbank8_b_air              14145 non-null  float64\n",
      " 25  primary_cleaner.state.floatbank8_b_level            14148 non-null  float64\n",
      " 26  primary_cleaner.state.floatbank8_c_air              14147 non-null  float64\n",
      " 27  primary_cleaner.state.floatbank8_c_level            14148 non-null  float64\n",
      " 28  primary_cleaner.state.floatbank8_d_air              14146 non-null  float64\n",
      " 29  primary_cleaner.state.floatbank8_d_level            14148 non-null  float64\n",
      " 30  rougher.calculation.sulfate_to_au_concentrate       14148 non-null  float64\n",
      " 31  rougher.calculation.floatbank10_sulfate_to_au_feed  14148 non-null  float64\n",
      " 32  rougher.calculation.floatbank11_sulfate_to_au_feed  14148 non-null  float64\n",
      " 33  rougher.calculation.au_pb_ratio                     14149 non-null  float64\n",
      " 34  rougher.input.feed_ag                               14149 non-null  float64\n",
      " 35  rougher.input.feed_pb                               14049 non-null  float64\n",
      " 36  rougher.input.feed_rate                             14141 non-null  float64\n",
      " 37  rougher.input.feed_size                             14005 non-null  float64\n",
      " 38  rougher.input.feed_sol                              14071 non-null  float64\n",
      " 39  rougher.input.feed_au                               14149 non-null  float64\n",
      " 40  rougher.input.floatbank10_sulfate                   14120 non-null  float64\n",
      " 41  rougher.input.floatbank10_xanthate                  14141 non-null  float64\n",
      " 42  rougher.input.floatbank11_sulfate                   14113 non-null  float64\n",
      " 43  rougher.input.floatbank11_xanthate                  13721 non-null  float64\n",
      " 44  rougher.output.concentrate_ag                       14149 non-null  float64\n",
      " 45  rougher.output.concentrate_pb                       14149 non-null  float64\n",
      " 46  rougher.output.concentrate_sol                      14127 non-null  float64\n",
      " 47  rougher.output.concentrate_au                       14149 non-null  float64\n",
      " 48  rougher.output.recovery                             14149 non-null  float64\n",
      " 49  rougher.output.tail_ag                              14148 non-null  float64\n",
      " 50  rougher.output.tail_pb                              14149 non-null  float64\n",
      " 51  rougher.output.tail_sol                             14149 non-null  float64\n",
      " 52  rougher.output.tail_au                              14149 non-null  float64\n",
      " 53  rougher.state.floatbank10_a_air                     14148 non-null  float64\n",
      " 54  rougher.state.floatbank10_a_level                   14148 non-null  float64\n",
      " 55  rougher.state.floatbank10_b_air                     14148 non-null  float64\n",
      " 56  rougher.state.floatbank10_b_level                   14148 non-null  float64\n",
      " 57  rougher.state.floatbank10_c_air                     14148 non-null  float64\n",
      " 58  rougher.state.floatbank10_c_level                   14148 non-null  float64\n",
      " 59  rougher.state.floatbank10_d_air                     14149 non-null  float64\n",
      " 60  rougher.state.floatbank10_d_level                   14149 non-null  float64\n",
      " 61  rougher.state.floatbank10_e_air                     13713 non-null  float64\n",
      " 62  rougher.state.floatbank10_e_level                   14149 non-null  float64\n",
      " 63  rougher.state.floatbank10_f_air                     14149 non-null  float64\n",
      " 64  rougher.state.floatbank10_f_level                   14149 non-null  float64\n",
      " 65  secondary_cleaner.output.tail_ag                    14147 non-null  float64\n",
      " 66  secondary_cleaner.output.tail_pb                    14139 non-null  float64\n",
      " 67  secondary_cleaner.output.tail_sol                   12544 non-null  float64\n",
      " 68  secondary_cleaner.output.tail_au                    14149 non-null  float64\n",
      " 69  secondary_cleaner.state.floatbank2_a_air            13932 non-null  float64\n",
      " 70  secondary_cleaner.state.floatbank2_a_level          14148 non-null  float64\n",
      " 71  secondary_cleaner.state.floatbank2_b_air            14128 non-null  float64\n",
      " 72  secondary_cleaner.state.floatbank2_b_level          14148 non-null  float64\n",
      " 73  secondary_cleaner.state.floatbank3_a_air            14145 non-null  float64\n",
      " 74  secondary_cleaner.state.floatbank3_a_level          14148 non-null  float64\n",
      " 75  secondary_cleaner.state.floatbank3_b_air            14148 non-null  float64\n",
      " 76  secondary_cleaner.state.floatbank3_b_level          14148 non-null  float64\n",
      " 77  secondary_cleaner.state.floatbank4_a_air            14143 non-null  float64\n",
      " 78  secondary_cleaner.state.floatbank4_a_level          14148 non-null  float64\n",
      " 79  secondary_cleaner.state.floatbank4_b_air            14148 non-null  float64\n",
      " 80  secondary_cleaner.state.floatbank4_b_level          14148 non-null  float64\n",
      " 81  secondary_cleaner.state.floatbank5_a_air            14148 non-null  float64\n",
      " 82  secondary_cleaner.state.floatbank5_a_level          14148 non-null  float64\n",
      " 83  secondary_cleaner.state.floatbank5_b_air            14148 non-null  float64\n",
      " 84  secondary_cleaner.state.floatbank5_b_level          14148 non-null  float64\n",
      " 85  secondary_cleaner.state.floatbank6_a_air            14147 non-null  float64\n",
      " 86  secondary_cleaner.state.floatbank6_a_level          14148 non-null  float64\n",
      "dtypes: float64(86), object(1)\n",
      "memory usage: 9.4+ MB\n"
     ]
    },
    {
     "data": {
      "text/plain": [
       "None"
      ]
     },
     "metadata": {},
     "output_type": "display_data"
    },
    {
     "name": "stdout",
     "output_type": "stream",
     "text": [
      "_____________________________________________________________________________________\n",
      "\n",
      "<class 'pandas.core.frame.DataFrame'>\n",
      "RangeIndex: 5290 entries, 0 to 5289\n",
      "Data columns (total 53 columns):\n",
      " #   Column                                      Non-Null Count  Dtype  \n",
      "---  ------                                      --------------  -----  \n",
      " 0   date                                        5290 non-null   object \n",
      " 1   primary_cleaner.input.sulfate               5286 non-null   float64\n",
      " 2   primary_cleaner.input.depressant            5285 non-null   float64\n",
      " 3   primary_cleaner.input.feed_size             5290 non-null   float64\n",
      " 4   primary_cleaner.input.xanthate              5286 non-null   float64\n",
      " 5   primary_cleaner.state.floatbank8_a_air      5290 non-null   float64\n",
      " 6   primary_cleaner.state.floatbank8_a_level    5290 non-null   float64\n",
      " 7   primary_cleaner.state.floatbank8_b_air      5290 non-null   float64\n",
      " 8   primary_cleaner.state.floatbank8_b_level    5290 non-null   float64\n",
      " 9   primary_cleaner.state.floatbank8_c_air      5290 non-null   float64\n",
      " 10  primary_cleaner.state.floatbank8_c_level    5290 non-null   float64\n",
      " 11  primary_cleaner.state.floatbank8_d_air      5290 non-null   float64\n",
      " 12  primary_cleaner.state.floatbank8_d_level    5290 non-null   float64\n",
      " 13  rougher.input.feed_ag                       5290 non-null   float64\n",
      " 14  rougher.input.feed_pb                       5290 non-null   float64\n",
      " 15  rougher.input.feed_rate                     5287 non-null   float64\n",
      " 16  rougher.input.feed_size                     5289 non-null   float64\n",
      " 17  rougher.input.feed_sol                      5269 non-null   float64\n",
      " 18  rougher.input.feed_au                       5290 non-null   float64\n",
      " 19  rougher.input.floatbank10_sulfate           5285 non-null   float64\n",
      " 20  rougher.input.floatbank10_xanthate          5290 non-null   float64\n",
      " 21  rougher.input.floatbank11_sulfate           5282 non-null   float64\n",
      " 22  rougher.input.floatbank11_xanthate          5265 non-null   float64\n",
      " 23  rougher.state.floatbank10_a_air             5290 non-null   float64\n",
      " 24  rougher.state.floatbank10_a_level           5290 non-null   float64\n",
      " 25  rougher.state.floatbank10_b_air             5290 non-null   float64\n",
      " 26  rougher.state.floatbank10_b_level           5290 non-null   float64\n",
      " 27  rougher.state.floatbank10_c_air             5290 non-null   float64\n",
      " 28  rougher.state.floatbank10_c_level           5290 non-null   float64\n",
      " 29  rougher.state.floatbank10_d_air             5290 non-null   float64\n",
      " 30  rougher.state.floatbank10_d_level           5290 non-null   float64\n",
      " 31  rougher.state.floatbank10_e_air             5290 non-null   float64\n",
      " 32  rougher.state.floatbank10_e_level           5290 non-null   float64\n",
      " 33  rougher.state.floatbank10_f_air             5290 non-null   float64\n",
      " 34  rougher.state.floatbank10_f_level           5290 non-null   float64\n",
      " 35  secondary_cleaner.state.floatbank2_a_air    5287 non-null   float64\n",
      " 36  secondary_cleaner.state.floatbank2_a_level  5290 non-null   float64\n",
      " 37  secondary_cleaner.state.floatbank2_b_air    5288 non-null   float64\n",
      " 38  secondary_cleaner.state.floatbank2_b_level  5290 non-null   float64\n",
      " 39  secondary_cleaner.state.floatbank3_a_air    5281 non-null   float64\n",
      " 40  secondary_cleaner.state.floatbank3_a_level  5290 non-null   float64\n",
      " 41  secondary_cleaner.state.floatbank3_b_air    5290 non-null   float64\n",
      " 42  secondary_cleaner.state.floatbank3_b_level  5290 non-null   float64\n",
      " 43  secondary_cleaner.state.floatbank4_a_air    5290 non-null   float64\n",
      " 44  secondary_cleaner.state.floatbank4_a_level  5290 non-null   float64\n",
      " 45  secondary_cleaner.state.floatbank4_b_air    5290 non-null   float64\n",
      " 46  secondary_cleaner.state.floatbank4_b_level  5290 non-null   float64\n",
      " 47  secondary_cleaner.state.floatbank5_a_air    5290 non-null   float64\n",
      " 48  secondary_cleaner.state.floatbank5_a_level  5290 non-null   float64\n",
      " 49  secondary_cleaner.state.floatbank5_b_air    5290 non-null   float64\n",
      " 50  secondary_cleaner.state.floatbank5_b_level  5290 non-null   float64\n",
      " 51  secondary_cleaner.state.floatbank6_a_air    5290 non-null   float64\n",
      " 52  secondary_cleaner.state.floatbank6_a_level  5290 non-null   float64\n",
      "dtypes: float64(52), object(1)\n",
      "memory usage: 2.1+ MB\n"
     ]
    },
    {
     "data": {
      "text/plain": [
       "None"
      ]
     },
     "metadata": {},
     "output_type": "display_data"
    },
    {
     "name": "stdout",
     "output_type": "stream",
     "text": [
      "_____________________________________________________________________________________\n",
      "\n",
      "<class 'pandas.core.frame.DataFrame'>\n",
      "RangeIndex: 19439 entries, 0 to 19438\n",
      "Data columns (total 87 columns):\n",
      " #   Column                                              Non-Null Count  Dtype  \n",
      "---  ------                                              --------------  -----  \n",
      " 0   date                                                19439 non-null  object \n",
      " 1   final.output.concentrate_ag                         19438 non-null  float64\n",
      " 2   final.output.concentrate_pb                         19438 non-null  float64\n",
      " 3   final.output.concentrate_sol                        19228 non-null  float64\n",
      " 4   final.output.concentrate_au                         19439 non-null  float64\n",
      " 5   final.output.recovery                               19439 non-null  float64\n",
      " 6   final.output.tail_ag                                19438 non-null  float64\n",
      " 7   final.output.tail_pb                                19338 non-null  float64\n",
      " 8   final.output.tail_sol                               19433 non-null  float64\n",
      " 9   final.output.tail_au                                19439 non-null  float64\n",
      " 10  primary_cleaner.input.sulfate                       19415 non-null  float64\n",
      " 11  primary_cleaner.input.depressant                    19402 non-null  float64\n",
      " 12  primary_cleaner.input.feed_size                     19439 non-null  float64\n",
      " 13  primary_cleaner.input.xanthate                      19335 non-null  float64\n",
      " 14  primary_cleaner.output.concentrate_ag               19439 non-null  float64\n",
      " 15  primary_cleaner.output.concentrate_pb               19323 non-null  float64\n",
      " 16  primary_cleaner.output.concentrate_sol              19069 non-null  float64\n",
      " 17  primary_cleaner.output.concentrate_au               19439 non-null  float64\n",
      " 18  primary_cleaner.output.tail_ag                      19435 non-null  float64\n",
      " 19  primary_cleaner.output.tail_pb                      19418 non-null  float64\n",
      " 20  primary_cleaner.output.tail_sol                     19377 non-null  float64\n",
      " 21  primary_cleaner.output.tail_au                      19439 non-null  float64\n",
      " 22  primary_cleaner.state.floatbank8_a_air              19435 non-null  float64\n",
      " 23  primary_cleaner.state.floatbank8_a_level            19438 non-null  float64\n",
      " 24  primary_cleaner.state.floatbank8_b_air              19435 non-null  float64\n",
      " 25  primary_cleaner.state.floatbank8_b_level            19438 non-null  float64\n",
      " 26  primary_cleaner.state.floatbank8_c_air              19437 non-null  float64\n",
      " 27  primary_cleaner.state.floatbank8_c_level            19438 non-null  float64\n",
      " 28  primary_cleaner.state.floatbank8_d_air              19436 non-null  float64\n",
      " 29  primary_cleaner.state.floatbank8_d_level            19438 non-null  float64\n",
      " 30  rougher.calculation.sulfate_to_au_concentrate       19437 non-null  float64\n",
      " 31  rougher.calculation.floatbank10_sulfate_to_au_feed  19437 non-null  float64\n",
      " 32  rougher.calculation.floatbank11_sulfate_to_au_feed  19437 non-null  float64\n",
      " 33  rougher.calculation.au_pb_ratio                     19439 non-null  float64\n",
      " 34  rougher.input.feed_ag                               19439 non-null  float64\n",
      " 35  rougher.input.feed_pb                               19339 non-null  float64\n",
      " 36  rougher.input.feed_rate                             19428 non-null  float64\n",
      " 37  rougher.input.feed_size                             19294 non-null  float64\n",
      " 38  rougher.input.feed_sol                              19340 non-null  float64\n",
      " 39  rougher.input.feed_au                               19439 non-null  float64\n",
      " 40  rougher.input.floatbank10_sulfate                   19405 non-null  float64\n",
      " 41  rougher.input.floatbank10_xanthate                  19431 non-null  float64\n",
      " 42  rougher.input.floatbank11_sulfate                   19395 non-null  float64\n",
      " 43  rougher.input.floatbank11_xanthate                  18986 non-null  float64\n",
      " 44  rougher.output.concentrate_ag                       19439 non-null  float64\n",
      " 45  rougher.output.concentrate_pb                       19439 non-null  float64\n",
      " 46  rougher.output.concentrate_sol                      19416 non-null  float64\n",
      " 47  rougher.output.concentrate_au                       19439 non-null  float64\n",
      " 48  rougher.output.recovery                             19439 non-null  float64\n",
      " 49  rougher.output.tail_ag                              19438 non-null  float64\n",
      " 50  rougher.output.tail_pb                              19439 non-null  float64\n",
      " 51  rougher.output.tail_sol                             19439 non-null  float64\n",
      " 52  rougher.output.tail_au                              19439 non-null  float64\n",
      " 53  rougher.state.floatbank10_a_air                     19438 non-null  float64\n",
      " 54  rougher.state.floatbank10_a_level                   19438 non-null  float64\n",
      " 55  rougher.state.floatbank10_b_air                     19438 non-null  float64\n",
      " 56  rougher.state.floatbank10_b_level                   19438 non-null  float64\n",
      " 57  rougher.state.floatbank10_c_air                     19438 non-null  float64\n",
      " 58  rougher.state.floatbank10_c_level                   19438 non-null  float64\n",
      " 59  rougher.state.floatbank10_d_air                     19439 non-null  float64\n",
      " 60  rougher.state.floatbank10_d_level                   19439 non-null  float64\n",
      " 61  rougher.state.floatbank10_e_air                     19003 non-null  float64\n",
      " 62  rougher.state.floatbank10_e_level                   19439 non-null  float64\n",
      " 63  rougher.state.floatbank10_f_air                     19439 non-null  float64\n",
      " 64  rougher.state.floatbank10_f_level                   19439 non-null  float64\n",
      " 65  secondary_cleaner.output.tail_ag                    19437 non-null  float64\n",
      " 66  secondary_cleaner.output.tail_pb                    19427 non-null  float64\n",
      " 67  secondary_cleaner.output.tail_sol                   17691 non-null  float64\n",
      " 68  secondary_cleaner.output.tail_au                    19439 non-null  float64\n",
      " 69  secondary_cleaner.state.floatbank2_a_air            19219 non-null  float64\n",
      " 70  secondary_cleaner.state.floatbank2_a_level          19438 non-null  float64\n",
      " 71  secondary_cleaner.state.floatbank2_b_air            19416 non-null  float64\n",
      " 72  secondary_cleaner.state.floatbank2_b_level          19438 non-null  float64\n",
      " 73  secondary_cleaner.state.floatbank3_a_air            19426 non-null  float64\n",
      " 74  secondary_cleaner.state.floatbank3_a_level          19438 non-null  float64\n",
      " 75  secondary_cleaner.state.floatbank3_b_air            19438 non-null  float64\n",
      " 76  secondary_cleaner.state.floatbank3_b_level          19438 non-null  float64\n",
      " 77  secondary_cleaner.state.floatbank4_a_air            19433 non-null  float64\n",
      " 78  secondary_cleaner.state.floatbank4_a_level          19438 non-null  float64\n",
      " 79  secondary_cleaner.state.floatbank4_b_air            19438 non-null  float64\n",
      " 80  secondary_cleaner.state.floatbank4_b_level          19438 non-null  float64\n",
      " 81  secondary_cleaner.state.floatbank5_a_air            19438 non-null  float64\n",
      " 82  secondary_cleaner.state.floatbank5_a_level          19438 non-null  float64\n",
      " 83  secondary_cleaner.state.floatbank5_b_air            19438 non-null  float64\n",
      " 84  secondary_cleaner.state.floatbank5_b_level          19438 non-null  float64\n",
      " 85  secondary_cleaner.state.floatbank6_a_air            19437 non-null  float64\n",
      " 86  secondary_cleaner.state.floatbank6_a_level          19438 non-null  float64\n",
      "dtypes: float64(86), object(1)\n",
      "memory usage: 12.9+ MB\n"
     ]
    },
    {
     "data": {
      "text/plain": [
       "None"
      ]
     },
     "metadata": {},
     "output_type": "display_data"
    },
    {
     "name": "stdout",
     "output_type": "stream",
     "text": [
      "_____________________________________________________________________________________\n",
      "\n"
     ]
    }
   ],
   "source": [
    "# проверим типы данных и возможное наличие пропусков\n",
    "for df in data_list:\n",
    "    display(df.info())\n",
    "    print('_' * 85)\n",
    "    print()"
   ]
  },
  {
   "cell_type": "code",
   "execution_count": 6,
   "metadata": {},
   "outputs": [
    {
     "data": {
      "text/html": [
       "<div>\n",
       "<style scoped>\n",
       "    .dataframe tbody tr th:only-of-type {\n",
       "        vertical-align: middle;\n",
       "    }\n",
       "\n",
       "    .dataframe tbody tr th {\n",
       "        vertical-align: top;\n",
       "    }\n",
       "\n",
       "    .dataframe thead th {\n",
       "        text-align: right;\n",
       "    }\n",
       "</style>\n",
       "<table border=\"1\" class=\"dataframe\">\n",
       "  <thead>\n",
       "    <tr style=\"text-align: right;\">\n",
       "      <th></th>\n",
       "      <th>Выборка</th>\n",
       "      <th>Количество строк</th>\n",
       "      <th>Количество колонок</th>\n",
       "    </tr>\n",
       "  </thead>\n",
       "  <tbody>\n",
       "    <tr>\n",
       "      <th>0</th>\n",
       "      <td>Обучающая</td>\n",
       "      <td>14149</td>\n",
       "      <td>87</td>\n",
       "    </tr>\n",
       "    <tr>\n",
       "      <th>1</th>\n",
       "      <td>Тестовая</td>\n",
       "      <td>5290</td>\n",
       "      <td>53</td>\n",
       "    </tr>\n",
       "    <tr>\n",
       "      <th>2</th>\n",
       "      <td>До разделения</td>\n",
       "      <td>19439</td>\n",
       "      <td>87</td>\n",
       "    </tr>\n",
       "  </tbody>\n",
       "</table>\n",
       "</div>"
      ],
      "text/plain": [
       "         Выборка  Количество строк  Количество колонок\n",
       "0      Обучающая             14149                  87\n",
       "1       Тестовая              5290                  53\n",
       "2  До разделения             19439                  87"
      ]
     },
     "execution_count": 6,
     "metadata": {},
     "output_type": "execute_result"
    }
   ],
   "source": [
    "table_1 = pd.DataFrame({\n",
    "    'Выборка': ['Обучающая', 'Тестовая', 'До разделения'],\n",
    "    'Количество строк': [data_train.shape[0], data_test.shape[0], data_full.shape[0]],\n",
    "    'Количество колонок': [data_train.shape[1], data_test.shape[1], data_full.shape[1]]\n",
    "})\n",
    "\n",
    "table_1"
   ]
  },
  {
   "cell_type": "markdown",
   "metadata": {},
   "source": [
    "### ✅ Вывод:\n",
    "<div>\n",
    "    <br>► Названия колонок соблюдают единый стиль и записаны по правилу [этап].[тип_параметра].[название_параметра]\n",
    "    <br>► С типами данных практически всё в порядке, все численные столбцы имеют тип float. Данные индексируются датой и временем получения информации (признак date), но в обучении модели этот признак не понадобится, поэтому менять тип данных не будет смысла\n",
    "    <br>► В каждой выборке наблюдаются пропуски и отрицательные значения, которые, скорее всего, является выбросами\n",
    "    <br>► В конце каждого этапа технологического процесса (_.output.concentrate_) получается максимум 4 финальных концентрата: ag – серебро, pb – свинец, sol – скорее всего, техническая соль, и  au – золото\n",
    "</div>"
   ]
  },
  {
   "cell_type": "markdown",
   "metadata": {},
   "source": [
    "## Предобработка данных"
   ]
  },
  {
   "cell_type": "markdown",
   "metadata": {},
   "source": [
    "### Первичная предобработка данных"
   ]
  },
  {
   "cell_type": "markdown",
   "metadata": {},
   "source": [
    "В нашем распоряжении сырые данные: их просто выгрузили из хранилища. Прежде чем приступить к построению модели, проверим их на корректность."
   ]
  },
  {
   "cell_type": "code",
   "execution_count": 7,
   "metadata": {},
   "outputs": [
    {
     "data": {
      "text/plain": [
       "True"
      ]
     },
     "execution_count": 7,
     "metadata": {},
     "output_type": "execute_result"
    }
   ],
   "source": [
    "# сохраним первоначальное количество строк и столбцов\n",
    "data_train_old_shape = data_train.shape\n",
    "data_test_old_shape = data_test.shape\n",
    "data_full_old_shape = data_full.shape\n",
    "\n",
    "# проверим равны ли разделенные выборки исходной\n",
    "data_full.shape[0] == data_train.shape[0] + data_test.shape[0]"
   ]
  },
  {
   "cell_type": "code",
   "execution_count": 8,
   "metadata": {
    "scrolled": true
   },
   "outputs": [
    {
     "data": {
      "text/plain": [
       "date                                                  0\n",
       "final.output.concentrate_ag                           0\n",
       "final.output.concentrate_pb                           0\n",
       "final.output.concentrate_sol                          0\n",
       "final.output.concentrate_au                           0\n",
       "final.output.recovery                                 0\n",
       "final.output.tail_ag                                  0\n",
       "final.output.tail_pb                                  0\n",
       "final.output.tail_sol                                 0\n",
       "final.output.tail_au                                  0\n",
       "primary_cleaner.input.sulfate                         0\n",
       "primary_cleaner.input.depressant                      0\n",
       "primary_cleaner.input.feed_size                       0\n",
       "primary_cleaner.input.xanthate                        0\n",
       "primary_cleaner.output.concentrate_ag                 0\n",
       "primary_cleaner.output.concentrate_pb                 0\n",
       "primary_cleaner.output.concentrate_sol                0\n",
       "primary_cleaner.output.concentrate_au                 0\n",
       "primary_cleaner.output.tail_ag                        0\n",
       "primary_cleaner.output.tail_pb                        0\n",
       "primary_cleaner.output.tail_sol                       0\n",
       "primary_cleaner.output.tail_au                        0\n",
       "primary_cleaner.state.floatbank8_a_air                0\n",
       "primary_cleaner.state.floatbank8_a_level              0\n",
       "primary_cleaner.state.floatbank8_b_air                0\n",
       "primary_cleaner.state.floatbank8_b_level              0\n",
       "primary_cleaner.state.floatbank8_c_air                0\n",
       "primary_cleaner.state.floatbank8_c_level              0\n",
       "primary_cleaner.state.floatbank8_d_air                0\n",
       "primary_cleaner.state.floatbank8_d_level              0\n",
       "rougher.calculation.sulfate_to_au_concentrate         0\n",
       "rougher.calculation.floatbank10_sulfate_to_au_feed    0\n",
       "rougher.calculation.floatbank11_sulfate_to_au_feed    0\n",
       "rougher.calculation.au_pb_ratio                       0\n",
       "rougher.input.feed_ag                                 0\n",
       "rougher.input.feed_pb                                 0\n",
       "rougher.input.feed_rate                               0\n",
       "rougher.input.feed_size                               0\n",
       "rougher.input.feed_sol                                0\n",
       "rougher.input.feed_au                                 0\n",
       "rougher.input.floatbank10_sulfate                     0\n",
       "rougher.input.floatbank10_xanthate                    0\n",
       "rougher.input.floatbank11_sulfate                     0\n",
       "rougher.input.floatbank11_xanthate                    0\n",
       "rougher.output.concentrate_ag                         0\n",
       "rougher.output.concentrate_pb                         0\n",
       "rougher.output.concentrate_sol                        0\n",
       "rougher.output.concentrate_au                         0\n",
       "rougher.output.recovery                               0\n",
       "rougher.output.tail_ag                                0\n",
       "rougher.output.tail_pb                                0\n",
       "rougher.output.tail_sol                               0\n",
       "rougher.output.tail_au                                0\n",
       "rougher.state.floatbank10_a_air                       0\n",
       "rougher.state.floatbank10_a_level                     0\n",
       "rougher.state.floatbank10_b_air                       0\n",
       "rougher.state.floatbank10_b_level                     0\n",
       "rougher.state.floatbank10_c_air                       0\n",
       "rougher.state.floatbank10_c_level                     0\n",
       "rougher.state.floatbank10_d_air                       0\n",
       "rougher.state.floatbank10_d_level                     0\n",
       "rougher.state.floatbank10_e_air                       0\n",
       "rougher.state.floatbank10_e_level                     0\n",
       "rougher.state.floatbank10_f_air                       0\n",
       "rougher.state.floatbank10_f_level                     0\n",
       "secondary_cleaner.output.tail_ag                      0\n",
       "secondary_cleaner.output.tail_pb                      0\n",
       "secondary_cleaner.output.tail_sol                     0\n",
       "secondary_cleaner.output.tail_au                      0\n",
       "secondary_cleaner.state.floatbank2_a_air              0\n",
       "secondary_cleaner.state.floatbank2_a_level            0\n",
       "secondary_cleaner.state.floatbank2_b_air              0\n",
       "secondary_cleaner.state.floatbank2_b_level            0\n",
       "secondary_cleaner.state.floatbank3_a_air              0\n",
       "secondary_cleaner.state.floatbank3_a_level            0\n",
       "secondary_cleaner.state.floatbank3_b_air              0\n",
       "secondary_cleaner.state.floatbank3_b_level            0\n",
       "secondary_cleaner.state.floatbank4_a_air              0\n",
       "secondary_cleaner.state.floatbank4_a_level            0\n",
       "secondary_cleaner.state.floatbank4_b_air              0\n",
       "secondary_cleaner.state.floatbank4_b_level            0\n",
       "secondary_cleaner.state.floatbank5_a_air              0\n",
       "secondary_cleaner.state.floatbank5_a_level            0\n",
       "secondary_cleaner.state.floatbank5_b_air              0\n",
       "secondary_cleaner.state.floatbank5_b_level            0\n",
       "secondary_cleaner.state.floatbank6_a_air              0\n",
       "secondary_cleaner.state.floatbank6_a_level            0\n",
       "dtype: int64"
      ]
     },
     "metadata": {},
     "output_type": "display_data"
    },
    {
     "name": "stdout",
     "output_type": "stream",
     "text": [
      "___________________________________________________________________________\n"
     ]
    },
    {
     "data": {
      "text/plain": [
       "date                                          0\n",
       "primary_cleaner.input.sulfate                 0\n",
       "primary_cleaner.input.depressant              0\n",
       "primary_cleaner.input.feed_size               0\n",
       "primary_cleaner.input.xanthate                0\n",
       "primary_cleaner.state.floatbank8_a_air        0\n",
       "primary_cleaner.state.floatbank8_a_level      0\n",
       "primary_cleaner.state.floatbank8_b_air        0\n",
       "primary_cleaner.state.floatbank8_b_level      0\n",
       "primary_cleaner.state.floatbank8_c_air        0\n",
       "primary_cleaner.state.floatbank8_c_level      0\n",
       "primary_cleaner.state.floatbank8_d_air        0\n",
       "primary_cleaner.state.floatbank8_d_level      0\n",
       "rougher.input.feed_ag                         0\n",
       "rougher.input.feed_pb                         0\n",
       "rougher.input.feed_rate                       0\n",
       "rougher.input.feed_size                       0\n",
       "rougher.input.feed_sol                        0\n",
       "rougher.input.feed_au                         0\n",
       "rougher.input.floatbank10_sulfate             0\n",
       "rougher.input.floatbank10_xanthate            0\n",
       "rougher.input.floatbank11_sulfate             0\n",
       "rougher.input.floatbank11_xanthate            0\n",
       "rougher.state.floatbank10_a_air               0\n",
       "rougher.state.floatbank10_a_level             0\n",
       "rougher.state.floatbank10_b_air               0\n",
       "rougher.state.floatbank10_b_level             0\n",
       "rougher.state.floatbank10_c_air               0\n",
       "rougher.state.floatbank10_c_level             0\n",
       "rougher.state.floatbank10_d_air               0\n",
       "rougher.state.floatbank10_d_level             0\n",
       "rougher.state.floatbank10_e_air               0\n",
       "rougher.state.floatbank10_e_level             0\n",
       "rougher.state.floatbank10_f_air               0\n",
       "rougher.state.floatbank10_f_level             0\n",
       "secondary_cleaner.state.floatbank2_a_air      0\n",
       "secondary_cleaner.state.floatbank2_a_level    0\n",
       "secondary_cleaner.state.floatbank2_b_air      0\n",
       "secondary_cleaner.state.floatbank2_b_level    0\n",
       "secondary_cleaner.state.floatbank3_a_air      0\n",
       "secondary_cleaner.state.floatbank3_a_level    0\n",
       "secondary_cleaner.state.floatbank3_b_air      0\n",
       "secondary_cleaner.state.floatbank3_b_level    0\n",
       "secondary_cleaner.state.floatbank4_a_air      0\n",
       "secondary_cleaner.state.floatbank4_a_level    0\n",
       "secondary_cleaner.state.floatbank4_b_air      0\n",
       "secondary_cleaner.state.floatbank4_b_level    0\n",
       "secondary_cleaner.state.floatbank5_a_air      0\n",
       "secondary_cleaner.state.floatbank5_a_level    0\n",
       "secondary_cleaner.state.floatbank5_b_air      0\n",
       "secondary_cleaner.state.floatbank5_b_level    0\n",
       "secondary_cleaner.state.floatbank6_a_air      0\n",
       "secondary_cleaner.state.floatbank6_a_level    0\n",
       "dtype: int64"
      ]
     },
     "metadata": {},
     "output_type": "display_data"
    },
    {
     "name": "stdout",
     "output_type": "stream",
     "text": [
      "___________________________________________________________________________\n"
     ]
    },
    {
     "data": {
      "text/plain": [
       "date                                                  0\n",
       "final.output.concentrate_ag                           0\n",
       "final.output.concentrate_pb                           0\n",
       "final.output.concentrate_sol                          0\n",
       "final.output.concentrate_au                           0\n",
       "final.output.recovery                                 0\n",
       "final.output.tail_ag                                  0\n",
       "final.output.tail_pb                                  0\n",
       "final.output.tail_sol                                 0\n",
       "final.output.tail_au                                  0\n",
       "primary_cleaner.input.sulfate                         0\n",
       "primary_cleaner.input.depressant                      0\n",
       "primary_cleaner.input.feed_size                       0\n",
       "primary_cleaner.input.xanthate                        0\n",
       "primary_cleaner.output.concentrate_ag                 0\n",
       "primary_cleaner.output.concentrate_pb                 0\n",
       "primary_cleaner.output.concentrate_sol                0\n",
       "primary_cleaner.output.concentrate_au                 0\n",
       "primary_cleaner.output.tail_ag                        0\n",
       "primary_cleaner.output.tail_pb                        0\n",
       "primary_cleaner.output.tail_sol                       0\n",
       "primary_cleaner.output.tail_au                        0\n",
       "primary_cleaner.state.floatbank8_a_air                0\n",
       "primary_cleaner.state.floatbank8_a_level              0\n",
       "primary_cleaner.state.floatbank8_b_air                0\n",
       "primary_cleaner.state.floatbank8_b_level              0\n",
       "primary_cleaner.state.floatbank8_c_air                0\n",
       "primary_cleaner.state.floatbank8_c_level              0\n",
       "primary_cleaner.state.floatbank8_d_air                0\n",
       "primary_cleaner.state.floatbank8_d_level              0\n",
       "rougher.calculation.sulfate_to_au_concentrate         0\n",
       "rougher.calculation.floatbank10_sulfate_to_au_feed    0\n",
       "rougher.calculation.floatbank11_sulfate_to_au_feed    0\n",
       "rougher.calculation.au_pb_ratio                       0\n",
       "rougher.input.feed_ag                                 0\n",
       "rougher.input.feed_pb                                 0\n",
       "rougher.input.feed_rate                               0\n",
       "rougher.input.feed_size                               0\n",
       "rougher.input.feed_sol                                0\n",
       "rougher.input.feed_au                                 0\n",
       "rougher.input.floatbank10_sulfate                     0\n",
       "rougher.input.floatbank10_xanthate                    0\n",
       "rougher.input.floatbank11_sulfate                     0\n",
       "rougher.input.floatbank11_xanthate                    0\n",
       "rougher.output.concentrate_ag                         0\n",
       "rougher.output.concentrate_pb                         0\n",
       "rougher.output.concentrate_sol                        0\n",
       "rougher.output.concentrate_au                         0\n",
       "rougher.output.recovery                               0\n",
       "rougher.output.tail_ag                                0\n",
       "rougher.output.tail_pb                                0\n",
       "rougher.output.tail_sol                               0\n",
       "rougher.output.tail_au                                0\n",
       "rougher.state.floatbank10_a_air                       0\n",
       "rougher.state.floatbank10_a_level                     0\n",
       "rougher.state.floatbank10_b_air                       0\n",
       "rougher.state.floatbank10_b_level                     0\n",
       "rougher.state.floatbank10_c_air                       0\n",
       "rougher.state.floatbank10_c_level                     0\n",
       "rougher.state.floatbank10_d_air                       0\n",
       "rougher.state.floatbank10_d_level                     0\n",
       "rougher.state.floatbank10_e_air                       0\n",
       "rougher.state.floatbank10_e_level                     0\n",
       "rougher.state.floatbank10_f_air                       0\n",
       "rougher.state.floatbank10_f_level                     0\n",
       "secondary_cleaner.output.tail_ag                      0\n",
       "secondary_cleaner.output.tail_pb                      0\n",
       "secondary_cleaner.output.tail_sol                     0\n",
       "secondary_cleaner.output.tail_au                      0\n",
       "secondary_cleaner.state.floatbank2_a_air              0\n",
       "secondary_cleaner.state.floatbank2_a_level            0\n",
       "secondary_cleaner.state.floatbank2_b_air              0\n",
       "secondary_cleaner.state.floatbank2_b_level            0\n",
       "secondary_cleaner.state.floatbank3_a_air              0\n",
       "secondary_cleaner.state.floatbank3_a_level            0\n",
       "secondary_cleaner.state.floatbank3_b_air              0\n",
       "secondary_cleaner.state.floatbank3_b_level            0\n",
       "secondary_cleaner.state.floatbank4_a_air              0\n",
       "secondary_cleaner.state.floatbank4_a_level            0\n",
       "secondary_cleaner.state.floatbank4_b_air              0\n",
       "secondary_cleaner.state.floatbank4_b_level            0\n",
       "secondary_cleaner.state.floatbank5_a_air              0\n",
       "secondary_cleaner.state.floatbank5_a_level            0\n",
       "secondary_cleaner.state.floatbank5_b_air              0\n",
       "secondary_cleaner.state.floatbank5_b_level            0\n",
       "secondary_cleaner.state.floatbank6_a_air              0\n",
       "secondary_cleaner.state.floatbank6_a_level            0\n",
       "dtype: int64"
      ]
     },
     "metadata": {},
     "output_type": "display_data"
    },
    {
     "name": "stdout",
     "output_type": "stream",
     "text": [
      "___________________________________________________________________________\n"
     ]
    }
   ],
   "source": [
    "# проверим наличие дубликатов\n",
    "for df in data_list:\n",
    "    display(df[df.duplicated(keep=False)].count())\n",
    "    print('_' * 75)"
   ]
  },
  {
   "cell_type": "code",
   "execution_count": 9,
   "metadata": {
    "scrolled": false
   },
   "outputs": [
    {
     "data": {
      "text/plain": [
       "secondary_cleaner.output.tail_sol                     1605\n",
       "rougher.state.floatbank10_e_air                        436\n",
       "rougher.input.floatbank11_xanthate                     428\n",
       "primary_cleaner.output.concentrate_sol                 286\n",
       "secondary_cleaner.state.floatbank2_a_air               217\n",
       "final.output.concentrate_sol                           211\n",
       "rougher.input.feed_size                                144\n",
       "primary_cleaner.input.xanthate                         100\n",
       "rougher.input.feed_pb                                  100\n",
       "final.output.tail_pb                                   100\n",
       "primary_cleaner.output.concentrate_pb                   86\n",
       "rougher.input.feed_sol                                  78\n",
       "primary_cleaner.output.tail_sol                         46\n",
       "rougher.input.floatbank11_sulfate                       36\n",
       "primary_cleaner.input.depressant                        32\n",
       "rougher.input.floatbank10_sulfate                       29\n",
       "rougher.output.concentrate_sol                          22\n",
       "secondary_cleaner.state.floatbank2_b_air                21\n",
       "primary_cleaner.input.sulfate                           20\n",
       "primary_cleaner.output.tail_pb                          15\n",
       "secondary_cleaner.output.tail_pb                        10\n",
       "rougher.input.feed_rate                                  8\n",
       "rougher.input.floatbank10_xanthate                       8\n",
       "secondary_cleaner.state.floatbank4_a_air                 6\n",
       "final.output.tail_sol                                    5\n",
       "secondary_cleaner.state.floatbank3_a_air                 4\n",
       "primary_cleaner.state.floatbank8_a_air                   4\n",
       "primary_cleaner.state.floatbank8_b_air                   4\n",
       "primary_cleaner.state.floatbank8_d_air                   3\n",
       "primary_cleaner.state.floatbank8_c_air                   2\n",
       "secondary_cleaner.output.tail_ag                         2\n",
       "secondary_cleaner.state.floatbank6_a_air                 2\n",
       "rougher.state.floatbank10_b_level                        1\n",
       "rougher.state.floatbank10_b_air                          1\n",
       "rougher.state.floatbank10_c_level                        1\n",
       "rougher.state.floatbank10_c_air                          1\n",
       "secondary_cleaner.state.floatbank3_a_level               1\n",
       "secondary_cleaner.state.floatbank2_a_level               1\n",
       "secondary_cleaner.state.floatbank2_b_level               1\n",
       "rougher.state.floatbank10_a_air                          1\n",
       "secondary_cleaner.state.floatbank3_b_air                 1\n",
       "secondary_cleaner.state.floatbank3_b_level               1\n",
       "secondary_cleaner.state.floatbank4_a_level               1\n",
       "secondary_cleaner.state.floatbank4_b_air                 1\n",
       "secondary_cleaner.state.floatbank4_b_level               1\n",
       "secondary_cleaner.state.floatbank5_a_air                 1\n",
       "secondary_cleaner.state.floatbank5_a_level               1\n",
       "secondary_cleaner.state.floatbank5_b_air                 1\n",
       "secondary_cleaner.state.floatbank5_b_level               1\n",
       "rougher.state.floatbank10_a_level                        1\n",
       "secondary_cleaner.state.floatbank6_a_level               1\n",
       "rougher.calculation.floatbank11_sulfate_to_au_feed       1\n",
       "rougher.calculation.floatbank10_sulfate_to_au_feed       1\n",
       "primary_cleaner.state.floatbank8_d_level                 1\n",
       "primary_cleaner.state.floatbank8_c_level                 1\n",
       "primary_cleaner.state.floatbank8_b_level                 1\n",
       "primary_cleaner.state.floatbank8_a_level                 1\n",
       "primary_cleaner.output.tail_ag                           1\n",
       "final.output.concentrate_ag                              1\n",
       "rougher.calculation.sulfate_to_au_concentrate            1\n",
       "rougher.output.tail_ag                                   1\n",
       "final.output.concentrate_pb                              1\n",
       "primary_cleaner.input.feed_size                          0\n",
       "final.output.tail_au                                     0\n",
       "primary_cleaner.output.concentrate_au                    0\n",
       "final.output.tail_ag                                     0\n",
       "primary_cleaner.output.tail_au                           0\n",
       "final.output.recovery                                    0\n",
       "final.output.concentrate_au                              0\n",
       "primary_cleaner.output.concentrate_ag                    0\n",
       "rougher.output.tail_sol                                  0\n",
       "rougher.output.tail_au                                   0\n",
       "secondary_cleaner.output.tail_au                         0\n",
       "rougher.calculation.au_pb_ratio                          0\n",
       "rougher.input.feed_ag                                    0\n",
       "rougher.input.feed_au                                    0\n",
       "rougher.state.floatbank10_f_level                        0\n",
       "rougher.state.floatbank10_f_air                          0\n",
       "rougher.state.floatbank10_e_level                        0\n",
       "rougher.state.floatbank10_d_level                        0\n",
       "rougher.state.floatbank10_d_air                          0\n",
       "rougher.output.concentrate_ag                            0\n",
       "rougher.output.concentrate_pb                            0\n",
       "rougher.output.concentrate_au                            0\n",
       "rougher.output.recovery                                  0\n",
       "rougher.output.tail_pb                                   0\n",
       "date                                                     0\n",
       "dtype: int64"
      ]
     },
     "metadata": {},
     "output_type": "display_data"
    },
    {
     "name": "stdout",
     "output_type": "stream",
     "text": [
      "___________________________________________________________________________\n",
      "\n"
     ]
    },
    {
     "data": {
      "text/plain": [
       "rougher.input.floatbank11_xanthate            25\n",
       "rougher.input.feed_sol                        21\n",
       "secondary_cleaner.state.floatbank3_a_air       9\n",
       "rougher.input.floatbank11_sulfate              8\n",
       "primary_cleaner.input.depressant               5\n",
       "rougher.input.floatbank10_sulfate              5\n",
       "primary_cleaner.input.xanthate                 4\n",
       "primary_cleaner.input.sulfate                  4\n",
       "rougher.input.feed_rate                        3\n",
       "secondary_cleaner.state.floatbank2_a_air       3\n",
       "secondary_cleaner.state.floatbank2_b_air       2\n",
       "rougher.input.feed_size                        1\n",
       "secondary_cleaner.state.floatbank2_b_level     0\n",
       "rougher.state.floatbank10_f_level              0\n",
       "rougher.state.floatbank10_f_air                0\n",
       "secondary_cleaner.state.floatbank3_a_level     0\n",
       "secondary_cleaner.state.floatbank2_a_level     0\n",
       "date                                           0\n",
       "rougher.state.floatbank10_e_air                0\n",
       "secondary_cleaner.state.floatbank3_b_air       0\n",
       "secondary_cleaner.state.floatbank3_b_level     0\n",
       "secondary_cleaner.state.floatbank4_a_air       0\n",
       "secondary_cleaner.state.floatbank4_a_level     0\n",
       "secondary_cleaner.state.floatbank4_b_air       0\n",
       "secondary_cleaner.state.floatbank4_b_level     0\n",
       "secondary_cleaner.state.floatbank5_a_air       0\n",
       "secondary_cleaner.state.floatbank5_a_level     0\n",
       "secondary_cleaner.state.floatbank5_b_air       0\n",
       "secondary_cleaner.state.floatbank5_b_level     0\n",
       "secondary_cleaner.state.floatbank6_a_air       0\n",
       "rougher.state.floatbank10_e_level              0\n",
       "rougher.state.floatbank10_b_level              0\n",
       "rougher.state.floatbank10_d_level              0\n",
       "primary_cleaner.state.floatbank8_d_level       0\n",
       "primary_cleaner.input.feed_size                0\n",
       "primary_cleaner.state.floatbank8_a_air         0\n",
       "primary_cleaner.state.floatbank8_a_level       0\n",
       "primary_cleaner.state.floatbank8_b_air         0\n",
       "primary_cleaner.state.floatbank8_b_level       0\n",
       "primary_cleaner.state.floatbank8_c_air         0\n",
       "primary_cleaner.state.floatbank8_c_level       0\n",
       "primary_cleaner.state.floatbank8_d_air         0\n",
       "rougher.input.feed_ag                          0\n",
       "rougher.state.floatbank10_d_air                0\n",
       "rougher.input.feed_pb                          0\n",
       "rougher.input.feed_au                          0\n",
       "rougher.input.floatbank10_xanthate             0\n",
       "rougher.state.floatbank10_a_air                0\n",
       "rougher.state.floatbank10_a_level              0\n",
       "rougher.state.floatbank10_b_air                0\n",
       "rougher.state.floatbank10_c_air                0\n",
       "rougher.state.floatbank10_c_level              0\n",
       "secondary_cleaner.state.floatbank6_a_level     0\n",
       "dtype: int64"
      ]
     },
     "metadata": {},
     "output_type": "display_data"
    },
    {
     "name": "stdout",
     "output_type": "stream",
     "text": [
      "___________________________________________________________________________\n",
      "\n"
     ]
    },
    {
     "data": {
      "text/plain": [
       "secondary_cleaner.output.tail_sol                     1748\n",
       "rougher.input.floatbank11_xanthate                     453\n",
       "rougher.state.floatbank10_e_air                        436\n",
       "primary_cleaner.output.concentrate_sol                 370\n",
       "secondary_cleaner.state.floatbank2_a_air               220\n",
       "final.output.concentrate_sol                           211\n",
       "rougher.input.feed_size                                145\n",
       "primary_cleaner.output.concentrate_pb                  116\n",
       "primary_cleaner.input.xanthate                         104\n",
       "final.output.tail_pb                                   101\n",
       "rougher.input.feed_pb                                  100\n",
       "rougher.input.feed_sol                                  99\n",
       "primary_cleaner.output.tail_sol                         62\n",
       "rougher.input.floatbank11_sulfate                       44\n",
       "primary_cleaner.input.depressant                        37\n",
       "rougher.input.floatbank10_sulfate                       34\n",
       "primary_cleaner.input.sulfate                           24\n",
       "rougher.output.concentrate_sol                          23\n",
       "secondary_cleaner.state.floatbank2_b_air                23\n",
       "primary_cleaner.output.tail_pb                          21\n",
       "secondary_cleaner.state.floatbank3_a_air                13\n",
       "secondary_cleaner.output.tail_pb                        12\n",
       "rougher.input.feed_rate                                 11\n",
       "rougher.input.floatbank10_xanthate                       8\n",
       "final.output.tail_sol                                    6\n",
       "secondary_cleaner.state.floatbank4_a_air                 6\n",
       "primary_cleaner.output.tail_ag                           4\n",
       "primary_cleaner.state.floatbank8_b_air                   4\n",
       "primary_cleaner.state.floatbank8_a_air                   4\n",
       "primary_cleaner.state.floatbank8_d_air                   3\n",
       "rougher.calculation.floatbank11_sulfate_to_au_feed       2\n",
       "secondary_cleaner.output.tail_ag                         2\n",
       "primary_cleaner.state.floatbank8_c_air                   2\n",
       "rougher.calculation.sulfate_to_au_concentrate            2\n",
       "secondary_cleaner.state.floatbank6_a_air                 2\n",
       "rougher.calculation.floatbank10_sulfate_to_au_feed       2\n",
       "secondary_cleaner.state.floatbank2_b_level               1\n",
       "secondary_cleaner.state.floatbank5_a_air                 1\n",
       "rougher.state.floatbank10_b_level                        1\n",
       "rougher.state.floatbank10_c_air                          1\n",
       "rougher.state.floatbank10_c_level                        1\n",
       "secondary_cleaner.state.floatbank5_b_level               1\n",
       "secondary_cleaner.state.floatbank5_b_air                 1\n",
       "secondary_cleaner.state.floatbank5_a_level               1\n",
       "secondary_cleaner.state.floatbank4_b_level               1\n",
       "secondary_cleaner.state.floatbank4_b_air                 1\n",
       "secondary_cleaner.state.floatbank4_a_level               1\n",
       "secondary_cleaner.state.floatbank3_b_level               1\n",
       "secondary_cleaner.state.floatbank2_a_level               1\n",
       "secondary_cleaner.state.floatbank3_b_air                 1\n",
       "rougher.state.floatbank10_a_level                        1\n",
       "secondary_cleaner.state.floatbank3_a_level               1\n",
       "rougher.state.floatbank10_b_air                          1\n",
       "secondary_cleaner.state.floatbank6_a_level               1\n",
       "rougher.state.floatbank10_a_air                          1\n",
       "final.output.tail_ag                                     1\n",
       "final.output.concentrate_ag                              1\n",
       "primary_cleaner.state.floatbank8_c_level                 1\n",
       "primary_cleaner.state.floatbank8_b_level                 1\n",
       "primary_cleaner.state.floatbank8_a_level                 1\n",
       "primary_cleaner.state.floatbank8_d_level                 1\n",
       "rougher.output.tail_ag                                   1\n",
       "final.output.concentrate_pb                              1\n",
       "final.output.tail_au                                     0\n",
       "rougher.calculation.au_pb_ratio                          0\n",
       "primary_cleaner.output.concentrate_ag                    0\n",
       "primary_cleaner.output.concentrate_au                    0\n",
       "primary_cleaner.output.tail_au                           0\n",
       "final.output.recovery                                    0\n",
       "final.output.concentrate_au                              0\n",
       "primary_cleaner.input.feed_size                          0\n",
       "rougher.input.feed_au                                    0\n",
       "rougher.input.feed_ag                                    0\n",
       "rougher.output.tail_au                                   0\n",
       "secondary_cleaner.output.tail_au                         0\n",
       "rougher.output.concentrate_ag                            0\n",
       "rougher.output.concentrate_pb                            0\n",
       "rougher.output.concentrate_au                            0\n",
       "rougher.state.floatbank10_f_level                        0\n",
       "rougher.state.floatbank10_f_air                          0\n",
       "rougher.state.floatbank10_e_level                        0\n",
       "rougher.output.recovery                                  0\n",
       "rougher.state.floatbank10_d_level                        0\n",
       "rougher.state.floatbank10_d_air                          0\n",
       "rougher.output.tail_pb                                   0\n",
       "rougher.output.tail_sol                                  0\n",
       "date                                                     0\n",
       "dtype: int64"
      ]
     },
     "metadata": {},
     "output_type": "display_data"
    },
    {
     "name": "stdout",
     "output_type": "stream",
     "text": [
      "___________________________________________________________________________\n",
      "\n"
     ]
    }
   ],
   "source": [
    "# проверим количество пропущенных значений и в каких столбцах они содержатся\n",
    "for df in data_list:\n",
    "    display(df.isna().sum().sort_values(ascending=False))\n",
    "    print('_' * 75)\n",
    "    print()"
   ]
  },
  {
   "cell_type": "markdown",
   "metadata": {},
   "source": [
    "- В тестовой выборке незначительное количество пропусков. В основном они связаны с параметрами флотационной установки и параметрами сырья, отправляемого в первичную очистку\n",
    "- В обучающей и исходной выборках наблюдаются пропуски более 100 значений в столбцах на разных этапах золотодобычи:\n",
    "    - final.output.concentrate_sol\n",
    "    - final.output.tail_pb\n",
    "    - primary_cleaner.output.concentrate_sol \n",
    "    - rougher.input.feed_size\n",
    "    - rougher.input.floatbank11_xanthate  \n",
    "    - rougher.state.floatbank10_e_air \n",
    "    - secondary_cleaner.state.floatbank2_a_air\n",
    "    - Столбец secondary_cleaner.output.tail_sol отличился больше остальных – пропущенных значений в нем более 1600 – это отвальные хвосты после второй очистки технической соли\n",
    "- Так как данные определены по дате и времени, то правильнее всего будет заполнить пропуски соседним значением"
   ]
  },
  {
   "cell_type": "code",
   "execution_count": 10,
   "metadata": {
    "scrolled": false
   },
   "outputs": [
    {
     "data": {
      "text/plain": [
       "date                                                  0\n",
       "rougher.state.floatbank10_b_air                       0\n",
       "rougher.state.floatbank10_f_air                       0\n",
       "rougher.state.floatbank10_e_level                     0\n",
       "rougher.state.floatbank10_e_air                       0\n",
       "rougher.state.floatbank10_d_level                     0\n",
       "rougher.state.floatbank10_d_air                       0\n",
       "rougher.state.floatbank10_c_level                     0\n",
       "rougher.state.floatbank10_c_air                       0\n",
       "rougher.state.floatbank10_b_level                     0\n",
       "rougher.state.floatbank10_a_level                     0\n",
       "secondary_cleaner.output.tail_ag                      0\n",
       "rougher.state.floatbank10_a_air                       0\n",
       "rougher.output.tail_au                                0\n",
       "rougher.output.tail_sol                               0\n",
       "rougher.output.tail_pb                                0\n",
       "rougher.output.tail_ag                                0\n",
       "rougher.output.recovery                               0\n",
       "rougher.output.concentrate_au                         0\n",
       "rougher.output.concentrate_sol                        0\n",
       "rougher.state.floatbank10_f_level                     0\n",
       "secondary_cleaner.output.tail_pb                      0\n",
       "rougher.output.concentrate_ag                         0\n",
       "secondary_cleaner.state.floatbank4_a_air              0\n",
       "secondary_cleaner.state.floatbank6_a_air              0\n",
       "secondary_cleaner.state.floatbank5_b_level            0\n",
       "secondary_cleaner.state.floatbank5_b_air              0\n",
       "secondary_cleaner.state.floatbank5_a_level            0\n",
       "secondary_cleaner.state.floatbank5_a_air              0\n",
       "secondary_cleaner.state.floatbank4_b_level            0\n",
       "secondary_cleaner.state.floatbank4_b_air              0\n",
       "secondary_cleaner.state.floatbank4_a_level            0\n",
       "secondary_cleaner.state.floatbank3_b_level            0\n",
       "secondary_cleaner.output.tail_sol                     0\n",
       "secondary_cleaner.state.floatbank3_b_air              0\n",
       "secondary_cleaner.state.floatbank3_a_level            0\n",
       "secondary_cleaner.state.floatbank3_a_air              0\n",
       "secondary_cleaner.state.floatbank2_b_level            0\n",
       "secondary_cleaner.state.floatbank2_b_air              0\n",
       "secondary_cleaner.state.floatbank2_a_level            0\n",
       "secondary_cleaner.state.floatbank2_a_air              0\n",
       "secondary_cleaner.output.tail_au                      0\n",
       "rougher.output.concentrate_pb                         0\n",
       "rougher.input.floatbank11_xanthate                    0\n",
       "final.output.concentrate_ag                           0\n",
       "primary_cleaner.input.depressant                      0\n",
       "primary_cleaner.output.tail_pb                        0\n",
       "primary_cleaner.output.tail_ag                        0\n",
       "primary_cleaner.output.concentrate_au                 0\n",
       "primary_cleaner.output.concentrate_sol                0\n",
       "primary_cleaner.output.concentrate_pb                 0\n",
       "primary_cleaner.output.concentrate_ag                 0\n",
       "primary_cleaner.input.xanthate                        0\n",
       "primary_cleaner.input.feed_size                       0\n",
       "primary_cleaner.input.sulfate                         0\n",
       "primary_cleaner.output.tail_au                        0\n",
       "final.output.tail_au                                  0\n",
       "final.output.tail_sol                                 0\n",
       "final.output.tail_pb                                  0\n",
       "final.output.tail_ag                                  0\n",
       "final.output.recovery                                 0\n",
       "final.output.concentrate_au                           0\n",
       "final.output.concentrate_sol                          0\n",
       "final.output.concentrate_pb                           0\n",
       "primary_cleaner.output.tail_sol                       0\n",
       "primary_cleaner.state.floatbank8_a_air                0\n",
       "rougher.input.floatbank11_sulfate                     0\n",
       "rougher.calculation.au_pb_ratio                       0\n",
       "rougher.input.floatbank10_xanthate                    0\n",
       "rougher.input.floatbank10_sulfate                     0\n",
       "rougher.input.feed_au                                 0\n",
       "rougher.input.feed_sol                                0\n",
       "rougher.input.feed_size                               0\n",
       "rougher.input.feed_rate                               0\n",
       "rougher.input.feed_pb                                 0\n",
       "rougher.input.feed_ag                                 0\n",
       "rougher.calculation.floatbank11_sulfate_to_au_feed    0\n",
       "primary_cleaner.state.floatbank8_a_level              0\n",
       "rougher.calculation.floatbank10_sulfate_to_au_feed    0\n",
       "rougher.calculation.sulfate_to_au_concentrate         0\n",
       "primary_cleaner.state.floatbank8_d_level              0\n",
       "primary_cleaner.state.floatbank8_d_air                0\n",
       "primary_cleaner.state.floatbank8_c_level              0\n",
       "primary_cleaner.state.floatbank8_c_air                0\n",
       "primary_cleaner.state.floatbank8_b_level              0\n",
       "primary_cleaner.state.floatbank8_b_air                0\n",
       "secondary_cleaner.state.floatbank6_a_level            0\n",
       "dtype: int64"
      ]
     },
     "metadata": {},
     "output_type": "display_data"
    },
    {
     "name": "stdout",
     "output_type": "stream",
     "text": [
      "___________________________________________________________________________\n",
      "\n"
     ]
    },
    {
     "data": {
      "text/plain": [
       "date                                          0\n",
       "rougher.state.floatbank10_c_air               0\n",
       "rougher.state.floatbank10_d_air               0\n",
       "rougher.state.floatbank10_d_level             0\n",
       "rougher.state.floatbank10_e_air               0\n",
       "rougher.state.floatbank10_e_level             0\n",
       "rougher.state.floatbank10_f_air               0\n",
       "rougher.state.floatbank10_f_level             0\n",
       "secondary_cleaner.state.floatbank2_a_air      0\n",
       "secondary_cleaner.state.floatbank2_a_level    0\n",
       "secondary_cleaner.state.floatbank2_b_air      0\n",
       "secondary_cleaner.state.floatbank2_b_level    0\n",
       "secondary_cleaner.state.floatbank3_a_air      0\n",
       "secondary_cleaner.state.floatbank3_a_level    0\n",
       "secondary_cleaner.state.floatbank3_b_air      0\n",
       "secondary_cleaner.state.floatbank3_b_level    0\n",
       "secondary_cleaner.state.floatbank4_a_air      0\n",
       "secondary_cleaner.state.floatbank4_a_level    0\n",
       "secondary_cleaner.state.floatbank4_b_air      0\n",
       "secondary_cleaner.state.floatbank4_b_level    0\n",
       "secondary_cleaner.state.floatbank5_a_air      0\n",
       "secondary_cleaner.state.floatbank5_a_level    0\n",
       "secondary_cleaner.state.floatbank5_b_air      0\n",
       "secondary_cleaner.state.floatbank5_b_level    0\n",
       "secondary_cleaner.state.floatbank6_a_air      0\n",
       "rougher.state.floatbank10_c_level             0\n",
       "rougher.state.floatbank10_b_level             0\n",
       "primary_cleaner.input.sulfate                 0\n",
       "rougher.state.floatbank10_b_air               0\n",
       "primary_cleaner.input.depressant              0\n",
       "primary_cleaner.input.feed_size               0\n",
       "primary_cleaner.input.xanthate                0\n",
       "primary_cleaner.state.floatbank8_a_air        0\n",
       "primary_cleaner.state.floatbank8_a_level      0\n",
       "primary_cleaner.state.floatbank8_b_air        0\n",
       "primary_cleaner.state.floatbank8_b_level      0\n",
       "primary_cleaner.state.floatbank8_c_air        0\n",
       "primary_cleaner.state.floatbank8_c_level      0\n",
       "primary_cleaner.state.floatbank8_d_air        0\n",
       "primary_cleaner.state.floatbank8_d_level      0\n",
       "rougher.input.feed_ag                         0\n",
       "rougher.input.feed_pb                         0\n",
       "rougher.input.feed_rate                       0\n",
       "rougher.input.feed_size                       0\n",
       "rougher.input.feed_sol                        0\n",
       "rougher.input.feed_au                         0\n",
       "rougher.input.floatbank10_sulfate             0\n",
       "rougher.input.floatbank10_xanthate            0\n",
       "rougher.input.floatbank11_sulfate             0\n",
       "rougher.input.floatbank11_xanthate            0\n",
       "rougher.state.floatbank10_a_air               0\n",
       "rougher.state.floatbank10_a_level             0\n",
       "secondary_cleaner.state.floatbank6_a_level    0\n",
       "dtype: int64"
      ]
     },
     "metadata": {},
     "output_type": "display_data"
    },
    {
     "name": "stdout",
     "output_type": "stream",
     "text": [
      "___________________________________________________________________________\n",
      "\n"
     ]
    },
    {
     "data": {
      "text/plain": [
       "date                                                  0\n",
       "rougher.state.floatbank10_b_air                       0\n",
       "rougher.state.floatbank10_f_air                       0\n",
       "rougher.state.floatbank10_e_level                     0\n",
       "rougher.state.floatbank10_e_air                       0\n",
       "rougher.state.floatbank10_d_level                     0\n",
       "rougher.state.floatbank10_d_air                       0\n",
       "rougher.state.floatbank10_c_level                     0\n",
       "rougher.state.floatbank10_c_air                       0\n",
       "rougher.state.floatbank10_b_level                     0\n",
       "rougher.state.floatbank10_a_level                     0\n",
       "secondary_cleaner.output.tail_ag                      0\n",
       "rougher.state.floatbank10_a_air                       0\n",
       "rougher.output.tail_au                                0\n",
       "rougher.output.tail_sol                               0\n",
       "rougher.output.tail_pb                                0\n",
       "rougher.output.tail_ag                                0\n",
       "rougher.output.recovery                               0\n",
       "rougher.output.concentrate_au                         0\n",
       "rougher.output.concentrate_sol                        0\n",
       "rougher.state.floatbank10_f_level                     0\n",
       "secondary_cleaner.output.tail_pb                      0\n",
       "rougher.output.concentrate_ag                         0\n",
       "secondary_cleaner.state.floatbank4_a_air              0\n",
       "secondary_cleaner.state.floatbank6_a_air              0\n",
       "secondary_cleaner.state.floatbank5_b_level            0\n",
       "secondary_cleaner.state.floatbank5_b_air              0\n",
       "secondary_cleaner.state.floatbank5_a_level            0\n",
       "secondary_cleaner.state.floatbank5_a_air              0\n",
       "secondary_cleaner.state.floatbank4_b_level            0\n",
       "secondary_cleaner.state.floatbank4_b_air              0\n",
       "secondary_cleaner.state.floatbank4_a_level            0\n",
       "secondary_cleaner.state.floatbank3_b_level            0\n",
       "secondary_cleaner.output.tail_sol                     0\n",
       "secondary_cleaner.state.floatbank3_b_air              0\n",
       "secondary_cleaner.state.floatbank3_a_level            0\n",
       "secondary_cleaner.state.floatbank3_a_air              0\n",
       "secondary_cleaner.state.floatbank2_b_level            0\n",
       "secondary_cleaner.state.floatbank2_b_air              0\n",
       "secondary_cleaner.state.floatbank2_a_level            0\n",
       "secondary_cleaner.state.floatbank2_a_air              0\n",
       "secondary_cleaner.output.tail_au                      0\n",
       "rougher.output.concentrate_pb                         0\n",
       "rougher.input.floatbank11_xanthate                    0\n",
       "final.output.concentrate_ag                           0\n",
       "primary_cleaner.input.depressant                      0\n",
       "primary_cleaner.output.tail_pb                        0\n",
       "primary_cleaner.output.tail_ag                        0\n",
       "primary_cleaner.output.concentrate_au                 0\n",
       "primary_cleaner.output.concentrate_sol                0\n",
       "primary_cleaner.output.concentrate_pb                 0\n",
       "primary_cleaner.output.concentrate_ag                 0\n",
       "primary_cleaner.input.xanthate                        0\n",
       "primary_cleaner.input.feed_size                       0\n",
       "primary_cleaner.input.sulfate                         0\n",
       "primary_cleaner.output.tail_au                        0\n",
       "final.output.tail_au                                  0\n",
       "final.output.tail_sol                                 0\n",
       "final.output.tail_pb                                  0\n",
       "final.output.tail_ag                                  0\n",
       "final.output.recovery                                 0\n",
       "final.output.concentrate_au                           0\n",
       "final.output.concentrate_sol                          0\n",
       "final.output.concentrate_pb                           0\n",
       "primary_cleaner.output.tail_sol                       0\n",
       "primary_cleaner.state.floatbank8_a_air                0\n",
       "rougher.input.floatbank11_sulfate                     0\n",
       "rougher.calculation.au_pb_ratio                       0\n",
       "rougher.input.floatbank10_xanthate                    0\n",
       "rougher.input.floatbank10_sulfate                     0\n",
       "rougher.input.feed_au                                 0\n",
       "rougher.input.feed_sol                                0\n",
       "rougher.input.feed_size                               0\n",
       "rougher.input.feed_rate                               0\n",
       "rougher.input.feed_pb                                 0\n",
       "rougher.input.feed_ag                                 0\n",
       "rougher.calculation.floatbank11_sulfate_to_au_feed    0\n",
       "primary_cleaner.state.floatbank8_a_level              0\n",
       "rougher.calculation.floatbank10_sulfate_to_au_feed    0\n",
       "rougher.calculation.sulfate_to_au_concentrate         0\n",
       "primary_cleaner.state.floatbank8_d_level              0\n",
       "primary_cleaner.state.floatbank8_d_air                0\n",
       "primary_cleaner.state.floatbank8_c_level              0\n",
       "primary_cleaner.state.floatbank8_c_air                0\n",
       "primary_cleaner.state.floatbank8_b_level              0\n",
       "primary_cleaner.state.floatbank8_b_air                0\n",
       "secondary_cleaner.state.floatbank6_a_level            0\n",
       "dtype: int64"
      ]
     },
     "metadata": {},
     "output_type": "display_data"
    },
    {
     "name": "stdout",
     "output_type": "stream",
     "text": [
      "___________________________________________________________________________\n",
      "\n"
     ]
    },
    {
     "data": {
      "text/plain": [
       "date                                                  0\n",
       "rougher.state.floatbank10_b_air                       0\n",
       "rougher.state.floatbank10_f_air                       0\n",
       "rougher.state.floatbank10_e_level                     0\n",
       "rougher.state.floatbank10_e_air                       0\n",
       "rougher.state.floatbank10_d_level                     0\n",
       "rougher.state.floatbank10_d_air                       0\n",
       "rougher.state.floatbank10_c_level                     0\n",
       "rougher.state.floatbank10_c_air                       0\n",
       "rougher.state.floatbank10_b_level                     0\n",
       "rougher.state.floatbank10_a_level                     0\n",
       "secondary_cleaner.output.tail_ag                      0\n",
       "rougher.state.floatbank10_a_air                       0\n",
       "rougher.output.tail_au                                0\n",
       "rougher.output.tail_sol                               0\n",
       "rougher.output.tail_pb                                0\n",
       "rougher.output.tail_ag                                0\n",
       "rougher.output.recovery                               0\n",
       "rougher.output.concentrate_au                         0\n",
       "rougher.output.concentrate_sol                        0\n",
       "rougher.state.floatbank10_f_level                     0\n",
       "secondary_cleaner.output.tail_pb                      0\n",
       "rougher.output.concentrate_ag                         0\n",
       "secondary_cleaner.state.floatbank4_a_air              0\n",
       "secondary_cleaner.state.floatbank6_a_air              0\n",
       "secondary_cleaner.state.floatbank5_b_level            0\n",
       "secondary_cleaner.state.floatbank5_b_air              0\n",
       "secondary_cleaner.state.floatbank5_a_level            0\n",
       "secondary_cleaner.state.floatbank5_a_air              0\n",
       "secondary_cleaner.state.floatbank4_b_level            0\n",
       "secondary_cleaner.state.floatbank4_b_air              0\n",
       "secondary_cleaner.state.floatbank4_a_level            0\n",
       "secondary_cleaner.state.floatbank3_b_level            0\n",
       "secondary_cleaner.output.tail_sol                     0\n",
       "secondary_cleaner.state.floatbank3_b_air              0\n",
       "secondary_cleaner.state.floatbank3_a_level            0\n",
       "secondary_cleaner.state.floatbank3_a_air              0\n",
       "secondary_cleaner.state.floatbank2_b_level            0\n",
       "secondary_cleaner.state.floatbank2_b_air              0\n",
       "secondary_cleaner.state.floatbank2_a_level            0\n",
       "secondary_cleaner.state.floatbank2_a_air              0\n",
       "secondary_cleaner.output.tail_au                      0\n",
       "rougher.output.concentrate_pb                         0\n",
       "rougher.input.floatbank11_xanthate                    0\n",
       "final.output.concentrate_ag                           0\n",
       "primary_cleaner.input.depressant                      0\n",
       "primary_cleaner.output.tail_pb                        0\n",
       "primary_cleaner.output.tail_ag                        0\n",
       "primary_cleaner.output.concentrate_au                 0\n",
       "primary_cleaner.output.concentrate_sol                0\n",
       "primary_cleaner.output.concentrate_pb                 0\n",
       "primary_cleaner.output.concentrate_ag                 0\n",
       "primary_cleaner.input.xanthate                        0\n",
       "primary_cleaner.input.feed_size                       0\n",
       "primary_cleaner.input.sulfate                         0\n",
       "primary_cleaner.output.tail_au                        0\n",
       "final.output.tail_au                                  0\n",
       "final.output.tail_sol                                 0\n",
       "final.output.tail_pb                                  0\n",
       "final.output.tail_ag                                  0\n",
       "final.output.recovery                                 0\n",
       "final.output.concentrate_au                           0\n",
       "final.output.concentrate_sol                          0\n",
       "final.output.concentrate_pb                           0\n",
       "primary_cleaner.output.tail_sol                       0\n",
       "primary_cleaner.state.floatbank8_a_air                0\n",
       "rougher.input.floatbank11_sulfate                     0\n",
       "rougher.calculation.au_pb_ratio                       0\n",
       "rougher.input.floatbank10_xanthate                    0\n",
       "rougher.input.floatbank10_sulfate                     0\n",
       "rougher.input.feed_au                                 0\n",
       "rougher.input.feed_sol                                0\n",
       "rougher.input.feed_size                               0\n",
       "rougher.input.feed_rate                               0\n",
       "rougher.input.feed_pb                                 0\n",
       "rougher.input.feed_ag                                 0\n",
       "rougher.calculation.floatbank11_sulfate_to_au_feed    0\n",
       "primary_cleaner.state.floatbank8_a_level              0\n",
       "rougher.calculation.floatbank10_sulfate_to_au_feed    0\n",
       "rougher.calculation.sulfate_to_au_concentrate         0\n",
       "primary_cleaner.state.floatbank8_d_level              0\n",
       "primary_cleaner.state.floatbank8_d_air                0\n",
       "primary_cleaner.state.floatbank8_c_level              0\n",
       "primary_cleaner.state.floatbank8_c_air                0\n",
       "primary_cleaner.state.floatbank8_b_level              0\n",
       "primary_cleaner.state.floatbank8_b_air                0\n",
       "secondary_cleaner.state.floatbank6_a_level            0\n",
       "dtype: int64"
      ]
     },
     "metadata": {},
     "output_type": "display_data"
    }
   ],
   "source": [
    "# заполним пропуски соседним значением и проверим заполнение\n",
    "# логичнее будет заполнить данными из предыдущей строки, поэтому выберем метод ffill\n",
    "for df in data_list:\n",
    "    df.fillna(method='ffill', inplace=True)\n",
    "    df.reset_index(drop=True, inplace=True)\n",
    "    display(df.isna().sum().sort_values(ascending=False))\n",
    "    print('_' * 75)\n",
    "    print()\n",
    "\n",
    "display(data_train.isna().sum().sort_values(ascending=False))"
   ]
  },
  {
   "cell_type": "markdown",
   "metadata": {},
   "source": [
    "### Проверка расчёта эффективности обогащения"
   ]
  },
  {
   "attachments": {
    "image.png": {
     "image/png": "[encoded data removed]"
    }
   },
   "cell_type": "markdown",
   "metadata": {},
   "source": [
    "Эффективность обогащения рассчитывается по формуле\n",
    "\n",
    "![image.png](attachment:image.png)\n",
    "\n",
    "где:\n",
    "- C — доля золота в концентрате после флотации/очистки – **rougher.output.concentrate_au**\n",
    "- F — доля золота в сырье/концентрате до флотации/очистки – **rougher.input.feed_au**\n",
    "- T — доля золота в отвальных хвостах после флотации/очистки – **rougher.output.tail_au**"
   ]
  },
  {
   "cell_type": "code",
   "execution_count": 11,
   "metadata": {},
   "outputs": [
    {
     "data": {
      "text/plain": [
       "9.73512347450521e-15"
      ]
     },
     "execution_count": 11,
     "metadata": {},
     "output_type": "execute_result"
    }
   ],
   "source": [
    "# сохраним нужные признаки в переменные как в формуле\n",
    "C = data_train['rougher.output.concentrate_au']\n",
    "F = data_train['rougher.input.feed_au']\n",
    "T = data_train['rougher.output.tail_au']\n",
    "\n",
    "# сохраним результаты формулы\n",
    "recovery = (C * (F - T) / (F * (C - T))) * 100\n",
    "\n",
    "# найдём MAE между нашими расчётами и значением признака rougher.output.recovery\n",
    "mean_absolute_error(data_train['rougher.output.recovery'], recovery)"
   ]
  },
  {
   "cell_type": "markdown",
   "metadata": {},
   "source": [
    "► Средняя абсолютная ошибка – это величина отклонения между парными наблюдениями, выражающими одно и то же явление. Здесь же значение получилось очень маленьким: $9.73512347450521e-15 = 9.73512347450521 ∙ 10^{-15} = 0.00000000000000974$, что означает верный расчёт эффективности обогащения"
   ]
  },
  {
   "cell_type": "markdown",
   "metadata": {},
   "source": [
    "### Анализ признаков, недоступных в тестовой выборке"
   ]
  },
  {
   "cell_type": "markdown",
   "metadata": {},
   "source": [
    "Проанализируйте признаки, недоступные в тестовой выборке. Что это за параметры? К какому типу относятся?"
   ]
  },
  {
   "cell_type": "code",
   "execution_count": 12,
   "metadata": {
    "scrolled": false
   },
   "outputs": [
    {
     "name": "stdout",
     "output_type": "stream",
     "text": [
      "В тестовую выборку не попало 34 признака\n"
     ]
    },
    {
     "data": {
      "text/plain": [
       "{'final.output.concentrate_ag',\n",
       " 'final.output.concentrate_au',\n",
       " 'final.output.concentrate_pb',\n",
       " 'final.output.concentrate_sol',\n",
       " 'final.output.recovery',\n",
       " 'final.output.tail_ag',\n",
       " 'final.output.tail_au',\n",
       " 'final.output.tail_pb',\n",
       " 'final.output.tail_sol',\n",
       " 'primary_cleaner.output.concentrate_ag',\n",
       " 'primary_cleaner.output.concentrate_au',\n",
       " 'primary_cleaner.output.concentrate_pb',\n",
       " 'primary_cleaner.output.concentrate_sol',\n",
       " 'primary_cleaner.output.tail_ag',\n",
       " 'primary_cleaner.output.tail_au',\n",
       " 'primary_cleaner.output.tail_pb',\n",
       " 'primary_cleaner.output.tail_sol',\n",
       " 'rougher.calculation.au_pb_ratio',\n",
       " 'rougher.calculation.floatbank10_sulfate_to_au_feed',\n",
       " 'rougher.calculation.floatbank11_sulfate_to_au_feed',\n",
       " 'rougher.calculation.sulfate_to_au_concentrate',\n",
       " 'rougher.output.concentrate_ag',\n",
       " 'rougher.output.concentrate_au',\n",
       " 'rougher.output.concentrate_pb',\n",
       " 'rougher.output.concentrate_sol',\n",
       " 'rougher.output.recovery',\n",
       " 'rougher.output.tail_ag',\n",
       " 'rougher.output.tail_au',\n",
       " 'rougher.output.tail_pb',\n",
       " 'rougher.output.tail_sol',\n",
       " 'secondary_cleaner.output.tail_ag',\n",
       " 'secondary_cleaner.output.tail_au',\n",
       " 'secondary_cleaner.output.tail_pb',\n",
       " 'secondary_cleaner.output.tail_sol'}"
      ]
     },
     "metadata": {},
     "output_type": "display_data"
    }
   ],
   "source": [
    "# сохраним колонки, отсутствующие в тестовой выборке \n",
    "df_compare = set(data_train.columns) - set(data_test.columns)\n",
    "\n",
    "print(f'В тестовую выборку не попало {len(df_compare)} признака')\n",
    "display(df_compare)"
   ]
  },
  {
   "cell_type": "markdown",
   "metadata": {},
   "source": [
    "► В тестовой выборке отсутствуют расчётные характеристики **calculation**, а также итоговые результаты **output**, являющиеся параметрами продукта (концентраты и отвальные хвосты) каждой ступени технологического процесса, а именно: \n",
    "- флотация(rougher)\n",
    "- первичная очистка(primary_cleaner)\n",
    "- вторичная очистка(secondary_cleaner) \n",
    "- финальные характеристики(final)\n",
    "\n",
    "► Согласно ТЗ, некоторые параметры недоступны, потому что замеряются и/или рассчитываются значительно позже. Из-за этого в тестовой выборке отсутствуют некоторые признаки, которые могут быть в обучающей. Также в тестовом наборе нет целевых признаков."
   ]
  },
  {
   "cell_type": "markdown",
   "metadata": {},
   "source": [
    "### Вторичная предобработка данных"
   ]
  },
  {
   "cell_type": "markdown",
   "metadata": {},
   "source": [
    "► В предыдущем шаге 2.3 мы убедились, что в тестовом наборе отсутствуют те признаки, которые при обучении модели могут повлиять на утечку данных, из-за того, что являются итогами этапов технологического процесса, поэтому удалим их из обучающей выборки, исключив из списка целевые признаки"
   ]
  },
  {
   "cell_type": "code",
   "execution_count": 13,
   "metadata": {},
   "outputs": [
    {
     "name": "stdout",
     "output_type": "stream",
     "text": [
      "Добавлено колонок: 2\n",
      "В тестовую выборку не попало 32 признака\n"
     ]
    }
   ],
   "source": [
    "# добавляем в тестовую выборку целевые признаки по дате из исходного набора\n",
    "data_test = data_test.merge(data_full[['date', 'final.output.recovery', 'rougher.output.recovery']], on='date', how='left')\n",
    "print(f'Добавлено колонок: {data_test.shape[1] - data_test_old_shape[1]}')\n",
    "\n",
    "# убедимся, что целевые признаки теперь не учитываются\n",
    "df_compare_after = set(data_train.columns) - set(data_test.columns)\n",
    "print(f'В тестовую выборку не попало {len(df_compare_after)} признака')"
   ]
  },
  {
   "cell_type": "code",
   "execution_count": 14,
   "metadata": {},
   "outputs": [
    {
     "data": {
      "text/plain": [
       "True"
      ]
     },
     "execution_count": 14,
     "metadata": {},
     "output_type": "execute_result"
    }
   ],
   "source": [
    "# удалим оставшиеся признаки\n",
    "data_train.drop(df_compare_after, axis=1, inplace=True)\n",
    "# и дату\n",
    "data_train.drop(columns='date', axis=1, inplace=True)\n",
    "data_test.drop(columns='date', axis=1, inplace=True)\n",
    "\n",
    "# проверим, что в обучающей и тестовой выборке теперь одинаковое количество столбцов\n",
    "data_train.shape[1] == data_test.shape[1]"
   ]
  },
  {
   "cell_type": "markdown",
   "metadata": {},
   "source": [
    "### ✅ Вывод:\n",
    "<div>\n",
    "    <br>► На выходе у нас были сырые данные, поэтому в первую очередь проверили их на дубликаты\n",
    "    <br>► Пропуски также присутствовали в достаточно большом количестве, и так как данные связаны между собой по дате и времени – мы заполнили пропущенные значения данными из предыдущей строки\n",
    "    <br>► Проверили формулу вычисления эффективности обогащения и убедились, что всё подсчитано правильно\n",
    "    <br>► Провели анализ признаков, недоступных в тестовой выборке и выяснили, что они могут повлечь утечку данных, поэтому все такие признаки, за исключением целевых, мы удалили из обучающей выборки. Целевые же добавили в тестовый набор\n",
    "</div>"
   ]
  },
  {
   "cell_type": "markdown",
   "metadata": {},
   "source": [
    "## Анализ данных"
   ]
  },
  {
   "cell_type": "markdown",
   "metadata": {},
   "source": [
    "### Исследование изменения концентрации элементов на каждом этапе"
   ]
  },
  {
   "cell_type": "markdown",
   "metadata": {},
   "source": [
    "Посмотрим, как меняется концентрация металлов (Au, Ag, Pb) на различных этапах очистки – rougher, primary_cleaner, secondary_cleaner, final"
   ]
  },
  {
   "cell_type": "code",
   "execution_count": 15,
   "metadata": {},
   "outputs": [],
   "source": [
    "count_bins = 50\n",
    "\n",
    "def make_distplot(col_1, col_2, col_3, col_4):\n",
    "    \n",
    "    plt.figure(figsize=(20, 10))\n",
    "    sns.set()\n",
    "    \n",
    "    sns.distplot(col_1, \n",
    "             bins=count_bins,  \n",
    "             norm_hist=True,\n",
    "             label=\"Концентрация в дроблёной смеси\",\n",
    "             kde_kws = {'linewidth': 3})\n",
    "    \n",
    "    sns.distplot(col_2, \n",
    "             bins=count_bins, \n",
    "             norm_hist=True, \n",
    "             label=\"Концентрация после флотации\",\n",
    "             kde_kws = {'linewidth': 3})\n",
    "    \n",
    "    sns.distplot(col_3, \n",
    "             bins=count_bins, \n",
    "             norm_hist=True, \n",
    "             label=\"Концентрация после первичной очистки\",\n",
    "             kde_kws = {'linewidth': 3})\n",
    "    \n",
    "    sns.distplot(col_4, \n",
    "             bins=count_bins, \n",
    "             norm_hist=True, \n",
    "             label=\"Финальная концентрация после вторичной очистки\",\n",
    "             kde_kws = {'linewidth': 3})\n",
    "    \n",
    "    plt.xlabel('Концентрация металла', fontsize=15) \n",
    "    plt.ylabel('Плотность распределения', fontsize=15)\n",
    "    plt.legend(loc='upper right', fontsize=15);"
   ]
  },
  {
   "cell_type": "code",
   "execution_count": 16,
   "metadata": {},
   "outputs": [
    {
     "data": {
      "image/png": "[encoded data removed]",
      "text/plain": [
       "<Figure size 1440x720 with 1 Axes>"
      ]
     },
     "metadata": {
      "needs_background": "light"
     },
     "output_type": "display_data"
    }
   ],
   "source": [
    "make_distplot(data_full['rougher.input.feed_au'],\n",
    "              data_full['rougher.output.concentrate_au'], \n",
    "              data_full['primary_cleaner.output.concentrate_au'],\n",
    "              data_full['final.output.concentrate_au'])\n",
    "plt.title(label=\"Изменение концентрации золота на разных этапах\",\n",
    "          fontsize=25);"
   ]
  },
  {
   "cell_type": "code",
   "execution_count": 17,
   "metadata": {},
   "outputs": [
    {
     "data": {
      "image/png": "[encoded data removed]",
      "text/plain": [
       "<Figure size 1440x720 with 1 Axes>"
      ]
     },
     "metadata": {},
     "output_type": "display_data"
    }
   ],
   "source": [
    "make_distplot(data_full['rougher.input.feed_ag'],\n",
    "              data_full['rougher.output.concentrate_ag'],\n",
    "              data_full['primary_cleaner.output.concentrate_ag'],\n",
    "              data_full['final.output.concentrate_ag'])\n",
    "plt.title(label=\"Изменение концентрации серебра на разных этапах\",\n",
    "          fontsize=25);"
   ]
  },
  {
   "cell_type": "code",
   "execution_count": 18,
   "metadata": {},
   "outputs": [
    {
     "data": {
      "image/png": "[encoded data removed]",
      "text/plain": [
       "<Figure size 1440x720 with 1 Axes>"
      ]
     },
     "metadata": {},
     "output_type": "display_data"
    }
   ],
   "source": [
    "make_distplot(data_full['rougher.input.feed_pb'],\n",
    "              data_full['rougher.output.concentrate_pb'],\n",
    "              data_full['primary_cleaner.output.concentrate_pb'],\n",
    "              data_full['final.output.concentrate_pb'])\n",
    "plt.title(label=\"Изменение концентрации свинца на разных этапах\",\n",
    "          fontsize=25);"
   ]
  },
  {
   "cell_type": "markdown",
   "metadata": {},
   "source": [
    "<div>\n",
    "    <br>► Отмечаются незначительные выбросы нулевых значений у каждого металла\n",
    "    <br>► Концентрация золота начала расти с момента подачи на вход в виде сырья и до последнего этапа включительно, т.е. после каждого этапа технологического процесса концентрация Au увеличивалась\n",
    "    <br>► Концентрация серебра после этапа флотации значительно возросла, и далее больше не увеличивалась\n",
    "    <br>► Концентрация свинца росла до первичной очистки включительно, после нее уже практически осталась неизменной"
   ]
  },
  {
   "cell_type": "markdown",
   "metadata": {},
   "source": [
    "### Анализ распределения размеров гранул на обучающей и тестовой выборках"
   ]
  },
  {
   "cell_type": "markdown",
   "metadata": {},
   "source": [
    "За размер гранул сырья отвечает признак **feed size**"
   ]
  },
  {
   "cell_type": "code",
   "execution_count": 19,
   "metadata": {},
   "outputs": [
    {
     "data": {
      "text/html": [
       "<div>\n",
       "<style scoped>\n",
       "    .dataframe tbody tr th:only-of-type {\n",
       "        vertical-align: middle;\n",
       "    }\n",
       "\n",
       "    .dataframe tbody tr th {\n",
       "        vertical-align: top;\n",
       "    }\n",
       "\n",
       "    .dataframe thead th {\n",
       "        text-align: right;\n",
       "    }\n",
       "</style>\n",
       "<table border=\"1\" class=\"dataframe\">\n",
       "  <thead>\n",
       "    <tr style=\"text-align: right;\">\n",
       "      <th></th>\n",
       "      <th>Выборка</th>\n",
       "      <th>Средний размер гранул</th>\n",
       "    </tr>\n",
       "  </thead>\n",
       "  <tbody>\n",
       "    <tr>\n",
       "      <th>0</th>\n",
       "      <td>Обучающая</td>\n",
       "      <td>60.239856</td>\n",
       "    </tr>\n",
       "    <tr>\n",
       "      <th>1</th>\n",
       "      <td>Тестовая</td>\n",
       "      <td>55.952754</td>\n",
       "    </tr>\n",
       "  </tbody>\n",
       "</table>\n",
       "</div>"
      ],
      "text/plain": [
       "     Выборка  Средний размер гранул\n",
       "0  Обучающая              60.239856\n",
       "1   Тестовая              55.952754"
      ]
     },
     "metadata": {},
     "output_type": "display_data"
    },
    {
     "data": {
      "image/png": "[encoded data removed]",
      "text/plain": [
       "<Figure size 1080x504 with 1 Axes>"
      ]
     },
     "metadata": {},
     "output_type": "display_data"
    }
   ],
   "source": [
    "table_2 = pd.DataFrame({\n",
    "    'Выборка': ['Обучающая', 'Тестовая'],\n",
    "    'Средний размер гранул': [data_train['rougher.input.feed_size'].mean(), data_test['rougher.input.feed_size'].mean()]\n",
    "})\n",
    "\n",
    "display(table_2)\n",
    "\n",
    "\n",
    "plt.figure(figsize=(15, 7))\n",
    "sns.set()\n",
    "\n",
    "sns.distplot(data_train['rougher.input.feed_size'], \n",
    "             bins=30,\n",
    "             label=\"Обучающая выборка\",\n",
    "             kde_kws = {'linewidth': 3})\n",
    "    \n",
    "sns.distplot(data_test['rougher.input.feed_size'], \n",
    "             bins=30,\n",
    "             label=\"Тестовая выборка\",\n",
    "             kde_kws = {'linewidth': 3})\n",
    "\n",
    "\n",
    "plt.title(label=\"Сравнение размеров гранул сырья на обучающей и тестовой выборках\", fontsize=20)\n",
    "plt.xlabel('Размер гранул сырья', fontsize=15)\n",
    "plt.ylabel('Количество наблюдений', fontsize=15)\n",
    "plt.legend(loc='upper right', fontsize=15);"
   ]
  },
  {
   "cell_type": "markdown",
   "metadata": {},
   "source": [
    "► Размеры гранул отличаются, но незначительно, что может означать корректное распределение данных"
   ]
  },
  {
   "cell_type": "markdown",
   "metadata": {},
   "source": [
    "### Исследование суммарных концентраций"
   ]
  },
  {
   "cell_type": "markdown",
   "metadata": {},
   "source": [
    "Теперь рассмотрим суммарную концентрацию всех веществ (Au, Ag, Pb, Sol) на разных стадиях: в сырье(rougher.input.feed_), в черновом(rougher.output.concentrate_) и финальном(final.output.concentrate_) концентратах."
   ]
  },
  {
   "cell_type": "code",
   "execution_count": 20,
   "metadata": {},
   "outputs": [],
   "source": [
    "# сырьё\n",
    "rougher_input_feed_sum = data_full['rougher.input.feed_au'] + data_full['rougher.input.feed_ag'] + \\\n",
    "data_full['rougher.input.feed_pb'] + data_full['rougher.input.feed_sol']\n",
    "\n",
    "# черновой концентрат\n",
    "rougher_output_concentrate_sum = data_full['rougher.output.concentrate_au'] + \\\n",
    "data_full['rougher.output.concentrate_ag'] + data_full['rougher.output.concentrate_pb'] + \\\n",
    "data_full['rougher.output.concentrate_sol']\n",
    "\n",
    "# финальный концентрат\n",
    "final_output_concentrate_sum = data_full['final.output.concentrate_au'] + \\\n",
    "data_full['final.output.concentrate_ag'] + data_full['final.output.concentrate_pb'] + \\\n",
    "data_full['final.output.concentrate_sol']"
   ]
  },
  {
   "cell_type": "code",
   "execution_count": 21,
   "metadata": {},
   "outputs": [
    {
     "data": {
      "image/png": "[encoded data removed]",
      "text/plain": [
       "<Figure size 1440x720 with 1 Axes>"
      ]
     },
     "metadata": {},
     "output_type": "display_data"
    }
   ],
   "source": [
    "plt.figure(figsize=(20, 10))\n",
    "sns.set()\n",
    "\n",
    "sns.histplot(rougher_input_feed_sum, \n",
    "             bins=count_bins,\n",
    "             label=\"Суммарная концентрация всех веществ в сырье\",\n",
    "             kde_kws = {'linewidth': 3},\n",
    "             alpha=0.7,\n",
    "             color='#6600FF',\n",
    "             ec=\"#000000\")\n",
    "\n",
    "sns.histplot(rougher_output_concentrate_sum, \n",
    "             bins=count_bins,\n",
    "             label=\"Суммарная концентрация всех веществ в черновом концентрате\",\n",
    "             kde_kws = {'linewidth': 3},\n",
    "             alpha=0.7,\n",
    "             color='#FFA420',\n",
    "             ec=\"#000000\")\n",
    "\n",
    "sns.histplot(final_output_concentrate_sum, \n",
    "             bins=count_bins,\n",
    "             label=\"Суммарная концентрация всех веществ в финальном концентрате\",\n",
    "             kde_kws = {'linewidth': 3},\n",
    "             alpha=0.7,\n",
    "             color='#18FFDB',\n",
    "             ec=\"#000000\")\n",
    "\n",
    "plt.title(label=\"Суммарная концентрация всех веществ (Au, Ag, Pb, Sol) на разных стадиях\", fontsize=20)\n",
    "plt.xlabel('Концентрация всех веществ', fontsize=15)\n",
    "plt.ylabel('Количество наблюдений', fontsize=15)\n",
    "plt.legend(loc='upper left', fontsize=15);"
   ]
  },
  {
   "cell_type": "markdown",
   "metadata": {},
   "source": [
    "<div>\n",
    "    <br>► Самая большая суммарная концентрация всех веществ отмечается после вторичной очистки в финальном концентрате\n",
    "    <br>► Cуммарная концентрация не может равняться нулю, но так как эти признаки отсутствуют в обучающей и тестовой выборках, то удалим их только из исходной, если в будущем эта выборка вдруг пригодится </div>"
   ]
  },
  {
   "cell_type": "code",
   "execution_count": 22,
   "metadata": {},
   "outputs": [],
   "source": [
    "data_full = data_full.drop(data_full[data_full.filter(like='rougher.output.concentrate_').sum(axis=1) < 1].index)\n",
    "\n",
    "data_full = data_full.drop(data_full[data_full.filter(like='final.output.concentrate_').sum(axis=1) < 1].index)"
   ]
  },
  {
   "cell_type": "markdown",
   "metadata": {},
   "source": [
    "### ✅ Вывод:\n",
    "<div>\n",
    "    <br>► Были исследованы изменения концентрации металлов Au, Ag и Pb на каждом этапе технического процесса\n",
    "    <br>► Проанализированы распределения размеров гранул на обучающей и тестовой выборках, определено, что размеры незначительно отличаются друг от друга\n",
    "    <br>► Исследована суммарная концентрация всех веществ на разных стадиях, в результате чего выявлено, что максимальный ее размер достигается после вторичной очистки. Также исходная выборка была очищена от аномальных нулевых значений\n",
    "</div>"
   ]
  },
  {
   "cell_type": "markdown",
   "metadata": {},
   "source": [
    "## Модель"
   ]
  },
  {
   "cell_type": "markdown",
   "metadata": {},
   "source": [
    "### Функция для вычисления итогового sMAPE"
   ]
  },
  {
   "cell_type": "code",
   "execution_count": 23,
   "metadata": {},
   "outputs": [],
   "source": [
    "def smape(target, predict):\n",
    "    return 1 / len(target) * (abs(target - predict) / ((abs(target) + abs(predict)) / 2)).sum() * 100\n",
    "\n",
    "def final_smape(smape_rougher, smape_final):\n",
    "    return 0.25 * smape_rougher + 0.75 * smape_final\n",
    "\n",
    "smape_score = make_scorer(smape, greater_is_better=False)"
   ]
  },
  {
   "cell_type": "markdown",
   "metadata": {},
   "source": [
    "### Обучение и проверка моделей"
   ]
  },
  {
   "cell_type": "markdown",
   "metadata": {},
   "source": [
    "Так как целевых признака у нас два – **rougher.output.recovery** и **final.output.recovery**, то обучать каждую модель будем по два раза. Для этой задачи нам подходят три модели: решающее дерево, случайный лес и линейная регрессия"
   ]
  },
  {
   "cell_type": "code",
   "execution_count": 24,
   "metadata": {},
   "outputs": [],
   "source": [
    "# обучающий набор\n",
    "features_train = data_train.drop(['final.output.recovery', 'rougher.output.recovery'], axis=1)\n",
    "target_train_rougher = data_train['rougher.output.recovery']\n",
    "target_train_final = data_train['final.output.recovery']\n",
    "\n",
    "# тестовый набор\n",
    "features_test = data_test.drop(['final.output.recovery', 'rougher.output.recovery'], axis=1)\n",
    "target_test_rougher = data_test['rougher.output.recovery']\n",
    "target_test_final = data_test['final.output.recovery']\n",
    "\n",
    "# зафиксируем случайное значение для random_state\n",
    "SEED = 12345"
   ]
  },
  {
   "cell_type": "markdown",
   "metadata": {},
   "source": [
    "#### Решающее дерево"
   ]
  },
  {
   "cell_type": "code",
   "execution_count": 25,
   "metadata": {},
   "outputs": [
    {
     "name": "stdout",
     "output_type": "stream",
     "text": [
      "Лучшие параметры модели для чернового концентрата: {'min_samples_split': 4, 'max_depth': 4}\n",
      "---\n",
      "Лучшие параметры модели для финального концентрата: {'min_samples_split': 4, 'max_depth': 4}\n",
      "---\n",
      "Итоговая sMAPE равна -11.131361247263943\n",
      "\n",
      "CPU times: user 34.9 s, sys: 117 ms, total: 35 s\n",
      "Wall time: 35 s\n"
     ]
    }
   ],
   "source": [
    "%%time\n",
    "\n",
    "model_tree = DecisionTreeRegressor(random_state=SEED)\n",
    "\n",
    "parameters = {\n",
    "    'max_depth': range(1, 11),\n",
    "    'min_samples_split': range (2, 16, 2)\n",
    "}\n",
    "\n",
    "# черновой концентрат\n",
    "grid_rougher = RandomizedSearchCV(model_tree, parameters, scoring=smape_score, cv=5, n_jobs=-1, random_state=SEED)\n",
    "grid_rougher.fit(features_train, target_train_rougher)\n",
    "best_score_mt_rougher = grid_rougher.best_score_\n",
    "\n",
    "# финальный концентрат\n",
    "grid_final = RandomizedSearchCV(model_tree, parameters, scoring=smape_score, cv=5, n_jobs=-1, random_state=SEED)\n",
    "grid_final.fit(features_train, target_train_final)\n",
    "best_score_mt_final = grid_final.best_score_\n",
    "\n",
    "# итоговая sMAPE\n",
    "total_smape_t = final_smape(best_score_mt_rougher, best_score_mt_final)\n",
    "\n",
    "print('Лучшие параметры модели для чернового концентрата:', grid_rougher.best_params_)\n",
    "print('---')\n",
    "print('Лучшие параметры модели для финального концентрата:', grid_final.best_params_)\n",
    "print('---')\n",
    "print('Итоговая sMAPE равна', total_smape_t)\n",
    "print()"
   ]
  },
  {
   "cell_type": "markdown",
   "metadata": {},
   "source": [
    "#### Случайный лес"
   ]
  },
  {
   "cell_type": "code",
   "execution_count": 26,
   "metadata": {},
   "outputs": [
    {
     "name": "stdout",
     "output_type": "stream",
     "text": [
      "Лучшие параметры модели для чернового концентрата: {'n_estimators': 20, 'min_samples_split': 12, 'max_depth': 7}\n",
      "---\n",
      "Лучшие параметры модели для финального концентрата: {'n_estimators': 10, 'min_samples_split': 6, 'max_depth': 5}\n",
      "---\n",
      "Итоговая sMAPE равна -10.432933250000076\n",
      "\n",
      "CPU times: user 4min 23s, sys: 308 ms, total: 4min 23s\n",
      "Wall time: 4min 23s\n"
     ]
    }
   ],
   "source": [
    "%%time\n",
    "\n",
    "model_rf = RandomForestRegressor(random_state=SEED)\n",
    "\n",
    "parameters = {\n",
    "    'n_estimators': range(10, 21, 10),\n",
    "    'max_depth': range(1, 11),\n",
    "    'min_samples_split': range (2, 16, 2)\n",
    "}\n",
    "\n",
    "# черновой концентрат\n",
    "grid_rougher = RandomizedSearchCV(model_rf, parameters, scoring=smape_score, cv=5, n_jobs=-1, random_state=SEED)\n",
    "grid_rougher.fit(features_train, target_train_rougher)\n",
    "best_score_mrf_rougher = grid_rougher.best_score_\n",
    "\n",
    "# финальный концентрат\n",
    "grid_final = RandomizedSearchCV(model_rf, parameters, scoring=smape_score, cv=5, n_jobs=-1, random_state=SEED)\n",
    "grid_final.fit(features_train, target_train_final)\n",
    "best_score_mrf_final = grid_final.best_score_\n",
    "\n",
    "# итоговая sMAPE\n",
    "total_smape_rf = final_smape(best_score_mrf_rougher, best_score_mrf_final)\n",
    "\n",
    "print('Лучшие параметры модели для чернового концентрата:', grid_rougher.best_params_)\n",
    "print('---')\n",
    "print('Лучшие параметры модели для финального концентрата:', grid_final.best_params_)\n",
    "print('---')\n",
    "print('Итоговая sMAPE равна', total_smape_rf)\n",
    "print()"
   ]
  },
  {
   "cell_type": "markdown",
   "metadata": {},
   "source": [
    "#### Линейная регрессия"
   ]
  },
  {
   "cell_type": "code",
   "execution_count": 27,
   "metadata": {},
   "outputs": [
    {
     "name": "stdout",
     "output_type": "stream",
     "text": [
      "Итоговая sMAPE равна -12.384596104847178\n",
      "\n",
      "CPU times: user 943 ms, sys: 2.01 s, total: 2.95 s\n",
      "Wall time: 2.94 s\n"
     ]
    }
   ],
   "source": [
    "%%time\n",
    "\n",
    "pipe = make_pipeline(StandardScaler(), LinearRegression())\n",
    "\n",
    "# черновой концентрат\n",
    "cv_mlr_rougher = np.mean(cross_val_score(pipe, features_train, target_train_rougher,\n",
    "                                         scoring=smape_score, cv=5))\n",
    "# финальный концентрат\n",
    "cv_mlr_final = np.mean(cross_val_score(pipe, features_train, target_train_final,\n",
    "                                       scoring=smape_score, cv=5))\n",
    "\n",
    "# итоговая sMAPE\n",
    "total_smape_lr = final_smape(cv_mlr_rougher, cv_mlr_final)\n",
    "\n",
    "print('Итоговая sMAPE равна', total_smape_lr)\n",
    "print()"
   ]
  },
  {
   "cell_type": "code",
   "execution_count": 28,
   "metadata": {},
   "outputs": [
    {
     "data": {
      "text/html": [
       "<div>\n",
       "<style scoped>\n",
       "    .dataframe tbody tr th:only-of-type {\n",
       "        vertical-align: middle;\n",
       "    }\n",
       "\n",
       "    .dataframe tbody tr th {\n",
       "        vertical-align: top;\n",
       "    }\n",
       "\n",
       "    .dataframe thead th {\n",
       "        text-align: right;\n",
       "    }\n",
       "</style>\n",
       "<table border=\"1\" class=\"dataframe\">\n",
       "  <thead>\n",
       "    <tr style=\"text-align: right;\">\n",
       "      <th></th>\n",
       "      <th>Модель</th>\n",
       "      <th>Итоговая sMAPE</th>\n",
       "    </tr>\n",
       "  </thead>\n",
       "  <tbody>\n",
       "    <tr>\n",
       "      <th>0</th>\n",
       "      <td>Решающее дерево</td>\n",
       "      <td>-11.131361</td>\n",
       "    </tr>\n",
       "    <tr>\n",
       "      <th>1</th>\n",
       "      <td>Случайный лес</td>\n",
       "      <td>-10.432933</td>\n",
       "    </tr>\n",
       "    <tr>\n",
       "      <th>2</th>\n",
       "      <td>Линейная регрессия</td>\n",
       "      <td>-12.384596</td>\n",
       "    </tr>\n",
       "  </tbody>\n",
       "</table>\n",
       "</div>"
      ],
      "text/plain": [
       "               Модель  Итоговая sMAPE\n",
       "0     Решающее дерево      -11.131361\n",
       "1       Случайный лес      -10.432933\n",
       "2  Линейная регрессия      -12.384596"
      ]
     },
     "execution_count": 28,
     "metadata": {},
     "output_type": "execute_result"
    }
   ],
   "source": [
    "table_3 = pd.DataFrame({\n",
    "    'Модель': ['Решающее дерево', 'Случайный лес', 'Линейная регрессия'],\n",
    "    'Итоговая sMAPE': [total_smape_t, total_smape_rf, total_smape_lr]\n",
    "})\n",
    "\n",
    "table_3"
   ]
  },
  {
   "cell_type": "markdown",
   "metadata": {},
   "source": [
    "### ✅ Вывод:\n",
    "<div>\n",
    "    <br>► Показатели итоговой sMAPE у всех алгоритмов регрессии не сильно отличаются, но для теста необходимо выбрать только одну модель. Самое маленькое значение получилось у случайного леса: -10, поэтому именно он проходит дальше\n",
    "    <br>► Худшее значение sMAPE, относительно остальных, показала линейная регрессия: -12 </div>"
   ]
  },
  {
   "cell_type": "markdown",
   "metadata": {},
   "source": [
    "## Проверка модели на тестовом наборе данных"
   ]
  },
  {
   "cell_type": "markdown",
   "metadata": {},
   "source": [
    "### Проверка модели случайного леса"
   ]
  },
  {
   "cell_type": "code",
   "execution_count": 29,
   "metadata": {},
   "outputs": [
    {
     "name": "stdout",
     "output_type": "stream",
     "text": [
      "Итоговая sMAPE равна 9.980594358022353\n",
      "\n",
      "CPU times: user 7.25 s, sys: 36 ms, total: 7.29 s\n",
      "Wall time: 7.33 s\n"
     ]
    }
   ],
   "source": [
    "%%time\n",
    "\n",
    "# черновой концентрат\n",
    "test_model_rougher = RandomForestRegressor(n_estimators=20, min_samples_split=12, max_depth=7, random_state=SEED)\n",
    "test_model_rougher.fit(features_train, target_train_rougher)\n",
    "test_predict_rougher = test_model_rougher.predict(features_test)\n",
    "# расчёт smape\n",
    "smape_lr_rougher = smape(target_test_rougher, test_predict_rougher)\n",
    "\n",
    "# финальный концентрат\n",
    "test_model_final = RandomForestRegressor(n_estimators=10, min_samples_split=6, max_depth=5, random_state=SEED)\n",
    "test_model_final.fit(features_train, target_train_final)\n",
    "test_predict_final = test_model_final.predict(features_test)\n",
    "# расчёт smape\n",
    "smape_lr_final = smape(target_test_final, test_predict_final)\n",
    "\n",
    "# итоговая sMAPE\n",
    "total_smape_test_model = final_smape(smape_lr_rougher, smape_lr_final)\n",
    "\n",
    "print('Итоговая sMAPE равна', total_smape_test_model)\n",
    "print()"
   ]
  },
  {
   "cell_type": "markdown",
   "metadata": {},
   "source": [
    "### Проверка константной модели"
   ]
  },
  {
   "cell_type": "code",
   "execution_count": 30,
   "metadata": {},
   "outputs": [
    {
     "name": "stdout",
     "output_type": "stream",
     "text": [
      "Итоговая sMAPE равна 13.13386791905072\n",
      "\n"
     ]
    }
   ],
   "source": [
    "# черновой концентрат\n",
    "constant_model_rougher = DummyRegressor(strategy='median')\n",
    "constant_model_rougher.fit(features_train, target_train_rougher)\n",
    "cm_predict_rougher = constant_model_rougher.predict(features_test)\n",
    "# расчёт smape\n",
    "smape_cm_rougher = smape(target_test_final, cm_predict_rougher)\n",
    "\n",
    "# финальный концентрат\n",
    "constant_model_final = DummyRegressor(strategy='median')\n",
    "constant_model_final.fit(features_train, target_train_final)\n",
    "cm_predict_final = constant_model_final.predict(features_test)\n",
    "# расчёт smape\n",
    "smape_cm_final = smape(target_test_final, cm_predict_final)\n",
    "\n",
    "# итоговая sMAPE\n",
    "total_smape_cm = final_smape(smape_cm_rougher, smape_cm_final)\n",
    "print('Итоговая sMAPE равна', total_smape_cm)\n",
    "print()"
   ]
  },
  {
   "cell_type": "code",
   "execution_count": 31,
   "metadata": {},
   "outputs": [
    {
     "data": {
      "text/html": [
       "<div>\n",
       "<style scoped>\n",
       "    .dataframe tbody tr th:only-of-type {\n",
       "        vertical-align: middle;\n",
       "    }\n",
       "\n",
       "    .dataframe tbody tr th {\n",
       "        vertical-align: top;\n",
       "    }\n",
       "\n",
       "    .dataframe thead th {\n",
       "        text-align: right;\n",
       "    }\n",
       "</style>\n",
       "<table border=\"1\" class=\"dataframe\">\n",
       "  <thead>\n",
       "    <tr style=\"text-align: right;\">\n",
       "      <th></th>\n",
       "      <th>Модель</th>\n",
       "      <th>Итоговая sMAPE</th>\n",
       "    </tr>\n",
       "  </thead>\n",
       "  <tbody>\n",
       "    <tr>\n",
       "      <th>0</th>\n",
       "      <td>Случайный лес</td>\n",
       "      <td>9.980594</td>\n",
       "    </tr>\n",
       "    <tr>\n",
       "      <th>1</th>\n",
       "      <td>Константная модель</td>\n",
       "      <td>13.133868</td>\n",
       "    </tr>\n",
       "  </tbody>\n",
       "</table>\n",
       "</div>"
      ],
      "text/plain": [
       "               Модель  Итоговая sMAPE\n",
       "0       Случайный лес        9.980594\n",
       "1  Константная модель       13.133868"
      ]
     },
     "execution_count": 31,
     "metadata": {},
     "output_type": "execute_result"
    }
   ],
   "source": [
    "table_4 = pd.DataFrame({\n",
    "    'Модель': ['Случайный лес', 'Константная модель'],\n",
    "    'Итоговая sMAPE': [total_smape_test_model, total_smape_cm]\n",
    "})\n",
    "\n",
    "table_4"
   ]
  },
  {
   "cell_type": "markdown",
   "metadata": {},
   "source": [
    "###  ✅ Вывод:\n",
    "<div> \n",
    "    <br>► Показатель итоговой sMAPE на тестовой выборке у модели случайного леса лучше чем у константной модели, это означает, что данный алгоритм успешно обучился и может выдавать адекватные предсказания </div>"
   ]
  },
  {
   "cell_type": "markdown",
   "metadata": {},
   "source": [
    "##  Общий вывод\n",
    "\n",
    "<div>\n",
    "    <br>►Главная цель исследования – это подготовка прототип модели машинного обучения для нашего заказчика (компания «Цифра», которая разрабатывает решения для эффективной работы промышленных предприятий). Модель должна предсказать коэффициент восстановления золота из золотосодержащей руды, чем поможет оптимизировать производство, чтобы не запускать предприятие с убыточными характеристиками.\n",
    "    <br>\n",
    "    <br>► Нами получены сырые данные, в которых в большом количестве присутствовали пропуски, которые мы смогли заполнить данными из предыдущей строки, так как все значения последовательны и индексируются датой и временем\n",
    "    <br>► Провена формула вычисления эффективности обогащения\n",
    "    <br>► Проведен анализ признаков, недоступных в тестовой выборке, в результате которого определено, что они могут повлечь утечку данных, поэтому все такие признаки, за исключением целевых, мы удалили из обучающей выборки. Целевые же добавили в тестовый набор\n",
    "    <br>► Проведен исследовательский анализ данных, исследованы изменения концентрации металлов Au, Ag и Pb на каждом этапе технического процесса, проанализированы распределения размеров гранул на обучающей и тестовой выборках, определено, что размеры незначительно отличаются друг от друга и исследована суммарная концентрация всех веществ на разных стадиях, в результате чего исходная выборка была очищена от аномальных нулевых значений\n",
    "    <br>\n",
    "    <br>► Были построены и обучены три алгоритма и выбран один лучший по показателю итоговой sMAPE – случайный лес, который также успешно прошел проверку на тестовом наборе данных и сравнение с константной моделью\n",
    "    <br>\n",
    "    <br>► На основании вышеисзложенного, компании «Цифра» стоит порекомендовать модель случайного леса"
   ]
  },
  {
   "cell_type": "markdown",
   "metadata": {},
   "source": [
    "## Чек-лист готовности проекта"
   ]
  },
  {
   "cell_type": "markdown",
   "metadata": {},
   "source": [
    "- [x]  Jupyter Notebook открыт\n",
    "- [x]  Весь код выполняется без ошибок\n",
    "- [x]  Ячейки с кодом расположены в порядке выполнения\n",
    "- [x]  Выполнен шаг 1: данные подготовлены\n",
    "    - [x]  Проверена формула вычисления эффективности обогащения\n",
    "    - [x]  Проанализированы признаки, недоступные в тестовой выборке\n",
    "    - [x]  Проведена предобработка данных\n",
    "- [x]  Выполнен шаг 2: данные проанализированы\n",
    "    - [x]  Исследовано изменение концентрации элементов на каждом этапе\n",
    "    - [x]  Проанализированы распределения размеров гранул на обучающей и тестовой выборках\n",
    "    - [x]  Исследованы суммарные концентрации\n",
    "- [x]  Выполнен шаг 3: построена модель прогнозирования\n",
    "    - [x]  Написана функция для вычисления итогового *sMAPE*\n",
    "    - [x]  Обучено и проверено несколько моделей\n",
    "    - [x]  Выбрана лучшая модель, её качество проверено на тестовой выборке"
   ]
  }
 ],
 "metadata": {
  "ExecuteTimeLog": [
   {
    "duration": 445,
    "start_time": "2022-12-28T06:24:03.673Z"
   },
   {
    "duration": 3,
    "start_time": "2022-12-28T06:25:09.399Z"
   },
   {
    "duration": 2887,
    "start_time": "2022-12-28T06:25:09.529Z"
   },
   {
    "duration": 18,
    "start_time": "2022-12-28T06:25:28.800Z"
   },
   {
    "duration": 24,
    "start_time": "2022-12-28T06:25:54.660Z"
   },
   {
    "duration": 6828,
    "start_time": "2022-12-28T06:26:10.161Z"
   },
   {
    "duration": 22,
    "start_time": "2022-12-28T06:27:58.395Z"
   },
   {
    "duration": 3,
    "start_time": "2022-12-28T06:28:20.269Z"
   },
   {
    "duration": 75,
    "start_time": "2022-12-28T06:28:46.897Z"
   },
   {
    "duration": 3,
    "start_time": "2022-12-28T06:28:51.963Z"
   },
   {
    "duration": 39,
    "start_time": "2022-12-28T06:28:52.163Z"
   },
   {
    "duration": 36,
    "start_time": "2022-12-28T06:29:16.399Z"
   },
   {
    "duration": 35,
    "start_time": "2022-12-28T06:29:23.151Z"
   },
   {
    "duration": 39,
    "start_time": "2022-12-28T06:29:31.453Z"
   },
   {
    "duration": 36,
    "start_time": "2022-12-28T06:29:37.581Z"
   },
   {
    "duration": 35,
    "start_time": "2022-12-28T06:30:29.574Z"
   },
   {
    "duration": 4,
    "start_time": "2022-12-28T06:31:16.670Z"
   },
   {
    "duration": 3,
    "start_time": "2022-12-28T06:31:53.343Z"
   },
   {
    "duration": 3,
    "start_time": "2022-12-28T06:32:03.897Z"
   },
   {
    "duration": 35,
    "start_time": "2022-12-28T06:32:42.544Z"
   },
   {
    "duration": 35,
    "start_time": "2022-12-28T06:32:51.448Z"
   },
   {
    "duration": 38,
    "start_time": "2022-12-28T06:32:58.880Z"
   },
   {
    "duration": 10,
    "start_time": "2022-12-28T06:37:47.012Z"
   },
   {
    "duration": 10,
    "start_time": "2022-12-28T06:38:03.229Z"
   },
   {
    "duration": 9,
    "start_time": "2022-12-28T06:38:43.055Z"
   },
   {
    "duration": 10,
    "start_time": "2022-12-28T06:39:54.966Z"
   },
   {
    "duration": 8,
    "start_time": "2022-12-28T06:43:04.850Z"
   },
   {
    "duration": 9,
    "start_time": "2022-12-28T06:50:41.345Z"
   },
   {
    "duration": 3,
    "start_time": "2022-12-28T06:58:46.143Z"
   },
   {
    "duration": 45,
    "start_time": "2022-12-28T06:58:46.552Z"
   },
   {
    "duration": 510,
    "start_time": "2022-12-28T06:59:01.327Z"
   },
   {
    "duration": 507,
    "start_time": "2022-12-28T06:59:27.472Z"
   },
   {
    "duration": 507,
    "start_time": "2022-12-28T06:59:47.721Z"
   },
   {
    "duration": 27,
    "start_time": "2022-12-28T07:01:06.142Z"
   },
   {
    "duration": 24,
    "start_time": "2022-12-28T07:01:12.010Z"
   },
   {
    "duration": 11,
    "start_time": "2022-12-28T07:02:09.958Z"
   },
   {
    "duration": 3,
    "start_time": "2022-12-28T07:03:34.372Z"
   },
   {
    "duration": 54,
    "start_time": "2022-12-28T07:03:34.695Z"
   },
   {
    "duration": 3,
    "start_time": "2022-12-28T07:03:34.972Z"
   },
   {
    "duration": 38,
    "start_time": "2022-12-28T07:03:35.379Z"
   },
   {
    "duration": 9,
    "start_time": "2022-12-28T07:03:36.533Z"
   },
   {
    "duration": 10,
    "start_time": "2022-12-28T07:03:37.068Z"
   },
   {
    "duration": 5,
    "start_time": "2022-12-28T07:04:05.644Z"
   },
   {
    "duration": 60,
    "start_time": "2022-12-28T07:04:05.973Z"
   },
   {
    "duration": 711,
    "start_time": "2022-12-28T07:04:11.613Z"
   },
   {
    "duration": 6,
    "start_time": "2022-12-28T07:04:25.197Z"
   },
   {
    "duration": 2,
    "start_time": "2022-12-28T07:04:29.526Z"
   },
   {
    "duration": 5,
    "start_time": "2022-12-28T07:04:29.780Z"
   },
   {
    "duration": 10,
    "start_time": "2022-12-28T07:04:47.670Z"
   },
   {
    "duration": 37,
    "start_time": "2022-12-28T07:04:51.653Z"
   },
   {
    "duration": 42,
    "start_time": "2022-12-28T07:04:58.791Z"
   },
   {
    "duration": 6,
    "start_time": "2022-12-28T07:05:14.733Z"
   },
   {
    "duration": 3,
    "start_time": "2022-12-28T07:05:21.665Z"
   },
   {
    "duration": 5,
    "start_time": "2022-12-28T07:05:24.661Z"
   },
   {
    "duration": 70,
    "start_time": "2022-12-28T07:05:34.078Z"
   },
   {
    "duration": 56,
    "start_time": "2022-12-28T07:05:45.695Z"
   },
   {
    "duration": 58,
    "start_time": "2022-12-28T07:05:49.409Z"
   },
   {
    "duration": 66,
    "start_time": "2022-12-28T07:05:53.443Z"
   },
   {
    "duration": 61,
    "start_time": "2022-12-28T07:05:59.433Z"
   },
   {
    "duration": 30,
    "start_time": "2022-12-28T07:06:10.051Z"
   },
   {
    "duration": 6760,
    "start_time": "2022-12-28T07:07:11.832Z"
   },
   {
    "duration": 6940,
    "start_time": "2022-12-28T07:07:23.674Z"
   },
   {
    "duration": 56,
    "start_time": "2022-12-28T07:07:39.334Z"
   },
   {
    "duration": 48,
    "start_time": "2022-12-28T07:07:47.272Z"
   },
   {
    "duration": 43,
    "start_time": "2022-12-28T07:08:05.000Z"
   },
   {
    "duration": 41,
    "start_time": "2022-12-28T07:08:13.712Z"
   },
   {
    "duration": 66,
    "start_time": "2022-12-28T07:09:27.412Z"
   },
   {
    "duration": 42,
    "start_time": "2022-12-28T07:09:45.382Z"
   },
   {
    "duration": 23,
    "start_time": "2022-12-28T07:10:30.130Z"
   },
   {
    "duration": 24,
    "start_time": "2022-12-28T07:10:45.171Z"
   },
   {
    "duration": 29,
    "start_time": "2022-12-28T07:10:55.870Z"
   },
   {
    "duration": 23,
    "start_time": "2022-12-28T07:11:02.053Z"
   },
   {
    "duration": 11,
    "start_time": "2022-12-28T07:11:21.452Z"
   },
   {
    "duration": 691,
    "start_time": "2022-12-28T07:11:21.770Z"
   },
   {
    "duration": 3,
    "start_time": "2022-12-28T07:11:22.463Z"
   },
   {
    "duration": 4,
    "start_time": "2022-12-28T07:12:26.981Z"
   },
   {
    "duration": 750,
    "start_time": "2022-12-28T07:12:27.941Z"
   },
   {
    "duration": 3,
    "start_time": "2022-12-28T07:12:28.693Z"
   },
   {
    "duration": 179,
    "start_time": "2022-12-28T07:12:28.698Z"
   },
   {
    "duration": 25,
    "start_time": "2022-12-28T07:13:41.388Z"
   },
   {
    "duration": 57,
    "start_time": "2022-12-28T07:14:01.678Z"
   },
   {
    "duration": 418,
    "start_time": "2022-12-28T07:14:49.967Z"
   },
   {
    "duration": 722,
    "start_time": "2022-12-28T07:14:50.387Z"
   },
   {
    "duration": 4,
    "start_time": "2022-12-28T07:14:51.111Z"
   },
   {
    "duration": 181,
    "start_time": "2022-12-28T07:14:51.117Z"
   },
   {
    "duration": 47,
    "start_time": "2022-12-28T07:14:51.300Z"
   },
   {
    "duration": 9,
    "start_time": "2022-12-28T07:14:51.349Z"
   },
   {
    "duration": 37,
    "start_time": "2022-12-28T07:14:51.360Z"
   },
   {
    "duration": 980,
    "start_time": "2022-12-28T07:14:51.399Z"
   },
   {
    "duration": 25,
    "start_time": "2022-12-28T07:15:15.409Z"
   },
   {
    "duration": 32,
    "start_time": "2022-12-28T08:22:29.567Z"
   },
   {
    "duration": 8,
    "start_time": "2022-12-28T08:30:26.313Z"
   },
   {
    "duration": 29,
    "start_time": "2022-12-28T08:30:39.417Z"
   },
   {
    "duration": 7,
    "start_time": "2022-12-28T08:30:49.730Z"
   },
   {
    "duration": 9,
    "start_time": "2022-12-28T08:31:04.503Z"
   },
   {
    "duration": 29,
    "start_time": "2022-12-28T08:31:41.459Z"
   },
   {
    "duration": 411,
    "start_time": "2022-12-28T08:31:49.778Z"
   },
   {
    "duration": 1111,
    "start_time": "2022-12-28T08:31:50.191Z"
   },
   {
    "duration": 3,
    "start_time": "2022-12-28T08:31:51.304Z"
   },
   {
    "duration": 382,
    "start_time": "2022-12-28T08:31:51.309Z"
   },
   {
    "duration": 103,
    "start_time": "2022-12-28T08:31:51.692Z"
   },
   {
    "duration": 9,
    "start_time": "2022-12-28T08:31:51.797Z"
   },
   {
    "duration": 88,
    "start_time": "2022-12-28T08:31:51.807Z"
   },
   {
    "duration": 8,
    "start_time": "2022-12-28T08:31:51.897Z"
   },
   {
    "duration": 824,
    "start_time": "2022-12-28T08:31:51.906Z"
   },
   {
    "duration": 10,
    "start_time": "2022-12-28T08:35:49.406Z"
   },
   {
    "duration": 32,
    "start_time": "2022-12-28T08:38:08.512Z"
   },
   {
    "duration": 33,
    "start_time": "2022-12-28T08:38:28.368Z"
   },
   {
    "duration": 23,
    "start_time": "2022-12-28T08:38:40.396Z"
   },
   {
    "duration": 3,
    "start_time": "2022-12-28T08:39:24.435Z"
   },
   {
    "duration": 4,
    "start_time": "2022-12-28T08:39:31.591Z"
   },
   {
    "duration": 3,
    "start_time": "2022-12-28T08:39:54.135Z"
   },
   {
    "duration": 3,
    "start_time": "2022-12-28T08:40:15.950Z"
   },
   {
    "duration": 4,
    "start_time": "2022-12-28T08:40:48.344Z"
   },
   {
    "duration": 3,
    "start_time": "2022-12-28T08:40:57.163Z"
   },
   {
    "duration": 4,
    "start_time": "2022-12-28T08:41:23.156Z"
   },
   {
    "duration": 442,
    "start_time": "2022-12-28T08:41:30.971Z"
   },
   {
    "duration": 985,
    "start_time": "2022-12-28T08:41:31.415Z"
   },
   {
    "duration": 2,
    "start_time": "2022-12-28T08:41:32.402Z"
   },
   {
    "duration": 394,
    "start_time": "2022-12-28T08:41:32.407Z"
   },
   {
    "duration": 105,
    "start_time": "2022-12-28T08:41:32.803Z"
   },
   {
    "duration": 9,
    "start_time": "2022-12-28T08:41:32.909Z"
   },
   {
    "duration": 59,
    "start_time": "2022-12-28T08:41:32.919Z"
   },
   {
    "duration": 47,
    "start_time": "2022-12-28T08:41:32.980Z"
   },
   {
    "duration": 164,
    "start_time": "2022-12-28T08:41:33.028Z"
   },
   {
    "duration": 4,
    "start_time": "2022-12-28T08:41:33.194Z"
   },
   {
    "duration": 78,
    "start_time": "2022-12-28T08:41:33.200Z"
   },
   {
    "duration": 651,
    "start_time": "2022-12-28T08:41:33.280Z"
   },
   {
    "duration": 4,
    "start_time": "2022-12-28T08:42:31.015Z"
   },
   {
    "duration": 7,
    "start_time": "2022-12-28T08:42:45.395Z"
   },
   {
    "duration": 7,
    "start_time": "2022-12-28T08:43:19.235Z"
   },
   {
    "duration": 6,
    "start_time": "2022-12-28T08:43:25.283Z"
   },
   {
    "duration": 4,
    "start_time": "2022-12-28T08:43:52.586Z"
   },
   {
    "duration": 4,
    "start_time": "2022-12-28T08:44:11.111Z"
   },
   {
    "duration": 28,
    "start_time": "2022-12-28T08:44:35.920Z"
   },
   {
    "duration": 3,
    "start_time": "2022-12-28T08:45:23.258Z"
   },
   {
    "duration": 3,
    "start_time": "2022-12-28T08:45:29.539Z"
   },
   {
    "duration": 29,
    "start_time": "2022-12-28T08:45:43.626Z"
   },
   {
    "duration": 26,
    "start_time": "2022-12-28T08:45:54.425Z"
   },
   {
    "duration": 435,
    "start_time": "2022-12-28T08:46:05.766Z"
   },
   {
    "duration": 738,
    "start_time": "2022-12-28T08:46:06.203Z"
   },
   {
    "duration": 3,
    "start_time": "2022-12-28T08:46:06.943Z"
   },
   {
    "duration": 183,
    "start_time": "2022-12-28T08:46:06.948Z"
   },
   {
    "duration": 63,
    "start_time": "2022-12-28T08:46:07.133Z"
   },
   {
    "duration": 9,
    "start_time": "2022-12-28T08:46:07.198Z"
   },
   {
    "duration": 6,
    "start_time": "2022-12-28T08:46:07.209Z"
   },
   {
    "duration": 30,
    "start_time": "2022-12-28T08:46:07.217Z"
   },
   {
    "duration": 34,
    "start_time": "2022-12-28T08:46:07.277Z"
   },
   {
    "duration": 439,
    "start_time": "2022-12-28T08:46:07.314Z"
   },
   {
    "duration": 42,
    "start_time": "2022-12-28T08:48:32.358Z"
   },
   {
    "duration": 189,
    "start_time": "2022-12-28T08:48:36.146Z"
   },
   {
    "duration": 4,
    "start_time": "2022-12-28T08:48:46.842Z"
   },
   {
    "duration": 22,
    "start_time": "2022-12-28T08:48:49.391Z"
   },
   {
    "duration": 182,
    "start_time": "2022-12-28T08:48:53.195Z"
   },
   {
    "duration": 37,
    "start_time": "2022-12-28T08:48:59.068Z"
   },
   {
    "duration": 183,
    "start_time": "2022-12-28T08:49:03.796Z"
   },
   {
    "duration": 163,
    "start_time": "2022-12-28T08:49:06.730Z"
   },
   {
    "duration": 39,
    "start_time": "2022-12-28T08:49:09.907Z"
   },
   {
    "duration": 3,
    "start_time": "2022-12-28T08:49:14.219Z"
   },
   {
    "duration": 24,
    "start_time": "2022-12-28T08:49:16.132Z"
   },
   {
    "duration": 3,
    "start_time": "2022-12-28T08:53:53.432Z"
   },
   {
    "duration": 3,
    "start_time": "2022-12-28T08:54:11.624Z"
   },
   {
    "duration": 3,
    "start_time": "2022-12-28T08:54:36.761Z"
   },
   {
    "duration": 6,
    "start_time": "2022-12-28T08:55:52.473Z"
   },
   {
    "duration": 194,
    "start_time": "2022-12-28T08:55:55.818Z"
   },
   {
    "duration": 117,
    "start_time": "2022-12-28T08:57:03.251Z"
   },
   {
    "duration": 117,
    "start_time": "2022-12-28T08:57:09.111Z"
   },
   {
    "duration": 7,
    "start_time": "2022-12-28T08:58:07.462Z"
   },
   {
    "duration": 70,
    "start_time": "2022-12-28T08:59:51.465Z"
   },
   {
    "duration": 768,
    "start_time": "2022-12-28T09:00:04.407Z"
   },
   {
    "duration": 1787,
    "start_time": "2022-12-28T09:00:11.915Z"
   },
   {
    "duration": 1583,
    "start_time": "2022-12-28T09:00:13.704Z"
   },
   {
    "duration": 3,
    "start_time": "2022-12-28T09:00:15.289Z"
   },
   {
    "duration": 395,
    "start_time": "2022-12-28T09:00:15.294Z"
   },
   {
    "duration": 107,
    "start_time": "2022-12-28T09:00:15.691Z"
   },
   {
    "duration": 9,
    "start_time": "2022-12-28T09:00:15.800Z"
   },
   {
    "duration": 67,
    "start_time": "2022-12-28T09:00:15.811Z"
   },
   {
    "duration": 103,
    "start_time": "2022-12-28T09:00:15.880Z"
   },
   {
    "duration": 36,
    "start_time": "2022-12-28T09:00:15.985Z"
   },
   {
    "duration": 62,
    "start_time": "2022-12-28T09:00:16.024Z"
   },
   {
    "duration": 328,
    "start_time": "2022-12-28T09:00:16.088Z"
   },
   {
    "duration": 481,
    "start_time": "2022-12-28T09:00:16.418Z"
   },
   {
    "duration": 9,
    "start_time": "2022-12-28T09:01:18.561Z"
   },
   {
    "duration": 10,
    "start_time": "2022-12-28T09:03:27.514Z"
   },
   {
    "duration": 1101,
    "start_time": "2022-12-28T09:03:57.294Z"
   },
   {
    "duration": 1482,
    "start_time": "2022-12-28T09:03:58.399Z"
   },
   {
    "duration": 3,
    "start_time": "2022-12-28T09:03:59.883Z"
   },
   {
    "duration": 395,
    "start_time": "2022-12-28T09:03:59.888Z"
   },
   {
    "duration": 51,
    "start_time": "2022-12-28T09:04:00.285Z"
   },
   {
    "duration": 9,
    "start_time": "2022-12-28T09:04:00.378Z"
   },
   {
    "duration": 38,
    "start_time": "2022-12-28T09:04:00.389Z"
   },
   {
    "duration": 55,
    "start_time": "2022-12-28T09:04:00.429Z"
   },
   {
    "duration": 33,
    "start_time": "2022-12-28T09:04:00.485Z"
   },
   {
    "duration": 463,
    "start_time": "2022-12-28T09:04:00.521Z"
   },
   {
    "duration": 9,
    "start_time": "2022-12-28T09:04:04.660Z"
   },
   {
    "duration": 9,
    "start_time": "2022-12-28T09:04:37.468Z"
   },
   {
    "duration": 9,
    "start_time": "2022-12-28T09:04:41.960Z"
   },
   {
    "duration": 9,
    "start_time": "2022-12-28T09:04:46.124Z"
   },
   {
    "duration": 9,
    "start_time": "2022-12-28T09:04:50.974Z"
   },
   {
    "duration": 8,
    "start_time": "2022-12-28T09:04:54.489Z"
   },
   {
    "duration": 8,
    "start_time": "2022-12-28T09:04:57.101Z"
   },
   {
    "duration": 8,
    "start_time": "2022-12-28T09:05:01.109Z"
   },
   {
    "duration": 8,
    "start_time": "2022-12-28T09:05:06.725Z"
   },
   {
    "duration": 10,
    "start_time": "2022-12-28T09:05:22.295Z"
   },
   {
    "duration": 9,
    "start_time": "2022-12-28T09:05:34.461Z"
   },
   {
    "duration": 9,
    "start_time": "2022-12-28T09:06:28.639Z"
   },
   {
    "duration": 9,
    "start_time": "2022-12-28T09:06:34.838Z"
   },
   {
    "duration": 9,
    "start_time": "2022-12-28T09:07:26.647Z"
   },
   {
    "duration": 9,
    "start_time": "2022-12-28T09:07:33.855Z"
   },
   {
    "duration": 5,
    "start_time": "2022-12-28T09:07:46.959Z"
   },
   {
    "duration": 5,
    "start_time": "2022-12-28T09:08:01.935Z"
   },
   {
    "duration": 4,
    "start_time": "2022-12-28T09:17:08.209Z"
   },
   {
    "duration": 83,
    "start_time": "2022-12-28T09:17:32.969Z"
   },
   {
    "duration": 9,
    "start_time": "2022-12-28T09:25:49.061Z"
   },
   {
    "duration": 12,
    "start_time": "2022-12-28T09:26:08.498Z"
   },
   {
    "duration": 4,
    "start_time": "2022-12-28T09:30:12.810Z"
   },
   {
    "duration": 6,
    "start_time": "2022-12-28T09:30:48.067Z"
   },
   {
    "duration": 98,
    "start_time": "2022-12-28T09:30:59.713Z"
   },
   {
    "duration": 5,
    "start_time": "2022-12-28T09:31:05.218Z"
   },
   {
    "duration": 9,
    "start_time": "2022-12-28T09:31:37.440Z"
   },
   {
    "duration": 8,
    "start_time": "2022-12-28T09:31:48.185Z"
   },
   {
    "duration": 5,
    "start_time": "2022-12-28T09:31:54.471Z"
   },
   {
    "duration": 1100,
    "start_time": "2022-12-28T09:31:59.725Z"
   },
   {
    "duration": 1432,
    "start_time": "2022-12-28T09:32:00.877Z"
   },
   {
    "duration": 3,
    "start_time": "2022-12-28T09:32:02.311Z"
   },
   {
    "duration": 314,
    "start_time": "2022-12-28T09:32:02.317Z"
   },
   {
    "duration": 71,
    "start_time": "2022-12-28T09:32:02.633Z"
   },
   {
    "duration": 9,
    "start_time": "2022-12-28T09:32:02.706Z"
   },
   {
    "duration": 9,
    "start_time": "2022-12-28T09:32:02.717Z"
   },
   {
    "duration": 58,
    "start_time": "2022-12-28T09:32:02.728Z"
   },
   {
    "duration": 34,
    "start_time": "2022-12-28T09:32:02.789Z"
   },
   {
    "duration": 7,
    "start_time": "2022-12-28T09:32:02.825Z"
   },
   {
    "duration": 7,
    "start_time": "2022-12-28T09:32:02.834Z"
   },
   {
    "duration": 35,
    "start_time": "2022-12-28T09:32:02.843Z"
   },
   {
    "duration": 101,
    "start_time": "2022-12-28T09:33:11.264Z"
   },
   {
    "duration": 10,
    "start_time": "2022-12-28T09:33:14.168Z"
   },
   {
    "duration": 4,
    "start_time": "2022-12-28T09:33:21.721Z"
   },
   {
    "duration": 5,
    "start_time": "2022-12-28T09:34:12.569Z"
   },
   {
    "duration": 6,
    "start_time": "2022-12-28T09:34:19.075Z"
   },
   {
    "duration": 5,
    "start_time": "2022-12-28T09:34:22.849Z"
   },
   {
    "duration": 7,
    "start_time": "2022-12-28T09:34:26.001Z"
   },
   {
    "duration": 6,
    "start_time": "2022-12-28T09:36:05.020Z"
   },
   {
    "duration": 6,
    "start_time": "2022-12-28T09:36:12.498Z"
   },
   {
    "duration": 8,
    "start_time": "2022-12-28T09:36:41.841Z"
   },
   {
    "duration": 6,
    "start_time": "2022-12-28T09:36:48.179Z"
   },
   {
    "duration": 6,
    "start_time": "2022-12-28T09:37:00.204Z"
   },
   {
    "duration": 7,
    "start_time": "2022-12-28T09:37:08.533Z"
   },
   {
    "duration": 58,
    "start_time": "2022-12-28T09:54:42.853Z"
   },
   {
    "duration": 9,
    "start_time": "2022-12-28T09:54:48.089Z"
   },
   {
    "duration": 1464,
    "start_time": "2022-12-28T09:54:59.845Z"
   },
   {
    "duration": 1317,
    "start_time": "2022-12-28T09:55:01.311Z"
   },
   {
    "duration": 4,
    "start_time": "2022-12-28T09:55:02.629Z"
   },
   {
    "duration": 182,
    "start_time": "2022-12-28T09:55:02.635Z"
   },
   {
    "duration": 68,
    "start_time": "2022-12-28T09:55:02.818Z"
   },
   {
    "duration": 9,
    "start_time": "2022-12-28T09:55:02.887Z"
   },
   {
    "duration": 126,
    "start_time": "2022-12-28T09:55:02.898Z"
   },
   {
    "duration": 0,
    "start_time": "2022-12-28T09:55:03.026Z"
   },
   {
    "duration": 0,
    "start_time": "2022-12-28T09:55:03.027Z"
   },
   {
    "duration": 0,
    "start_time": "2022-12-28T09:55:03.028Z"
   },
   {
    "duration": 0,
    "start_time": "2022-12-28T09:55:03.029Z"
   },
   {
    "duration": 0,
    "start_time": "2022-12-28T09:55:03.030Z"
   },
   {
    "duration": 6,
    "start_time": "2022-12-28T09:55:12.799Z"
   },
   {
    "duration": 509,
    "start_time": "2022-12-28T09:56:19.183Z"
   },
   {
    "duration": 486,
    "start_time": "2022-12-28T09:56:44.264Z"
   },
   {
    "duration": 466,
    "start_time": "2022-12-28T09:56:49.617Z"
   },
   {
    "duration": 517,
    "start_time": "2022-12-28T09:56:57.824Z"
   },
   {
    "duration": 537,
    "start_time": "2022-12-28T09:57:08.120Z"
   },
   {
    "duration": 514,
    "start_time": "2022-12-28T09:57:18.403Z"
   },
   {
    "duration": 510,
    "start_time": "2022-12-28T09:57:27.401Z"
   },
   {
    "duration": 2,
    "start_time": "2022-12-28T09:59:18.651Z"
   },
   {
    "duration": 8,
    "start_time": "2022-12-28T10:22:15.890Z"
   },
   {
    "duration": 19,
    "start_time": "2022-12-28T10:29:31.858Z"
   },
   {
    "duration": 18,
    "start_time": "2022-12-28T10:31:40.309Z"
   },
   {
    "duration": 16,
    "start_time": "2022-12-28T10:32:11.549Z"
   },
   {
    "duration": 17,
    "start_time": "2022-12-28T10:33:04.310Z"
   },
   {
    "duration": 18,
    "start_time": "2022-12-28T10:33:24.614Z"
   },
   {
    "duration": 18,
    "start_time": "2022-12-28T10:40:26.627Z"
   },
   {
    "duration": 19,
    "start_time": "2022-12-28T10:40:56.676Z"
   },
   {
    "duration": 1044,
    "start_time": "2022-12-28T10:46:48.316Z"
   },
   {
    "duration": 655,
    "start_time": "2022-12-28T10:46:49.363Z"
   },
   {
    "duration": 3,
    "start_time": "2022-12-28T10:46:50.020Z"
   },
   {
    "duration": 185,
    "start_time": "2022-12-28T10:46:50.024Z"
   },
   {
    "duration": 68,
    "start_time": "2022-12-28T10:46:50.211Z"
   },
   {
    "duration": 10,
    "start_time": "2022-12-28T10:46:50.281Z"
   },
   {
    "duration": 9,
    "start_time": "2022-12-28T10:46:50.292Z"
   },
   {
    "duration": 513,
    "start_time": "2022-12-28T10:46:50.303Z"
   },
   {
    "duration": 22,
    "start_time": "2022-12-28T10:46:50.817Z"
   },
   {
    "duration": 56,
    "start_time": "2022-12-28T10:46:50.841Z"
   },
   {
    "duration": 9,
    "start_time": "2022-12-28T10:46:50.900Z"
   },
   {
    "duration": 17,
    "start_time": "2022-12-28T10:46:50.910Z"
   },
   {
    "duration": 33,
    "start_time": "2022-12-28T10:46:50.929Z"
   },
   {
    "duration": 4,
    "start_time": "2022-12-28T10:50:57.435Z"
   },
   {
    "duration": 6,
    "start_time": "2022-12-28T10:51:29.328Z"
   },
   {
    "duration": 5,
    "start_time": "2022-12-28T10:51:32.527Z"
   },
   {
    "duration": 6,
    "start_time": "2022-12-28T10:51:48.581Z"
   },
   {
    "duration": 10,
    "start_time": "2022-12-28T10:52:29.940Z"
   },
   {
    "duration": 14,
    "start_time": "2022-12-28T10:52:34.741Z"
   },
   {
    "duration": 86,
    "start_time": "2022-12-28T10:52:38.112Z"
   },
   {
    "duration": 6,
    "start_time": "2022-12-28T10:52:42.869Z"
   },
   {
    "duration": 103,
    "start_time": "2022-12-28T10:52:47.221Z"
   },
   {
    "duration": 13,
    "start_time": "2022-12-28T10:52:52.073Z"
   },
   {
    "duration": 16,
    "start_time": "2022-12-28T10:53:01.925Z"
   },
   {
    "duration": 14,
    "start_time": "2022-12-28T10:53:02.421Z"
   },
   {
    "duration": 15,
    "start_time": "2022-12-28T10:53:09.094Z"
   },
   {
    "duration": 14,
    "start_time": "2022-12-28T10:53:10.615Z"
   },
   {
    "duration": 73,
    "start_time": "2022-12-28T10:53:18.325Z"
   },
   {
    "duration": 15,
    "start_time": "2022-12-28T10:53:22.278Z"
   },
   {
    "duration": 5,
    "start_time": "2022-12-28T10:53:30.405Z"
   },
   {
    "duration": 10,
    "start_time": "2022-12-28T10:53:35.920Z"
   },
   {
    "duration": 10,
    "start_time": "2022-12-28T10:53:39.366Z"
   },
   {
    "duration": 5,
    "start_time": "2022-12-28T10:54:57.507Z"
   },
   {
    "duration": 9,
    "start_time": "2022-12-28T10:55:05.811Z"
   },
   {
    "duration": 14,
    "start_time": "2022-12-28T10:55:10.255Z"
   },
   {
    "duration": 450,
    "start_time": "2022-12-28T10:58:45.111Z"
   },
   {
    "duration": 21,
    "start_time": "2022-12-28T10:59:28.725Z"
   },
   {
    "duration": 87,
    "start_time": "2022-12-28T10:59:34.075Z"
   },
   {
    "duration": 1399,
    "start_time": "2022-12-28T10:59:39.618Z"
   },
   {
    "duration": 1278,
    "start_time": "2022-12-28T10:59:41.020Z"
   },
   {
    "duration": 2,
    "start_time": "2022-12-28T10:59:42.301Z"
   },
   {
    "duration": 183,
    "start_time": "2022-12-28T10:59:42.305Z"
   },
   {
    "duration": 45,
    "start_time": "2022-12-28T10:59:42.490Z"
   },
   {
    "duration": 9,
    "start_time": "2022-12-28T10:59:42.536Z"
   },
   {
    "duration": 32,
    "start_time": "2022-12-28T10:59:42.546Z"
   },
   {
    "duration": 488,
    "start_time": "2022-12-28T10:59:42.579Z"
   },
   {
    "duration": 36,
    "start_time": "2022-12-28T10:59:43.068Z"
   },
   {
    "duration": 35,
    "start_time": "2022-12-28T10:59:43.106Z"
   },
   {
    "duration": 8,
    "start_time": "2022-12-28T10:59:43.143Z"
   },
   {
    "duration": 30,
    "start_time": "2022-12-28T10:59:43.152Z"
   },
   {
    "duration": 22,
    "start_time": "2022-12-28T10:59:43.183Z"
   },
   {
    "duration": 4,
    "start_time": "2022-12-28T10:59:43.207Z"
   },
   {
    "duration": 442,
    "start_time": "2022-12-28T10:59:43.213Z"
   },
   {
    "duration": 13,
    "start_time": "2022-12-28T10:59:51.219Z"
   },
   {
    "duration": 1474,
    "start_time": "2022-12-28T10:59:54.917Z"
   },
   {
    "duration": 1149,
    "start_time": "2022-12-28T10:59:56.393Z"
   },
   {
    "duration": 2,
    "start_time": "2022-12-28T10:59:57.544Z"
   },
   {
    "duration": 186,
    "start_time": "2022-12-28T10:59:57.548Z"
   },
   {
    "duration": 63,
    "start_time": "2022-12-28T10:59:57.735Z"
   },
   {
    "duration": 10,
    "start_time": "2022-12-28T10:59:57.800Z"
   },
   {
    "duration": 7,
    "start_time": "2022-12-28T10:59:57.812Z"
   },
   {
    "duration": 562,
    "start_time": "2022-12-28T10:59:57.821Z"
   },
   {
    "duration": 30,
    "start_time": "2022-12-28T10:59:58.385Z"
   },
   {
    "duration": 65,
    "start_time": "2022-12-28T10:59:58.419Z"
   },
   {
    "duration": 8,
    "start_time": "2022-12-28T10:59:58.486Z"
   },
   {
    "duration": 12,
    "start_time": "2022-12-28T10:59:58.496Z"
   },
   {
    "duration": 21,
    "start_time": "2022-12-28T10:59:58.509Z"
   },
   {
    "duration": 4,
    "start_time": "2022-12-28T10:59:58.532Z"
   },
   {
    "duration": 43,
    "start_time": "2022-12-28T10:59:58.538Z"
   },
   {
    "duration": 90,
    "start_time": "2022-12-28T11:00:30.774Z"
   },
   {
    "duration": 5,
    "start_time": "2022-12-28T11:00:48.915Z"
   },
   {
    "duration": 5,
    "start_time": "2022-12-28T11:01:21.125Z"
   },
   {
    "duration": 5,
    "start_time": "2022-12-28T11:01:24.661Z"
   },
   {
    "duration": 23,
    "start_time": "2022-12-28T11:01:37.157Z"
   },
   {
    "duration": 22,
    "start_time": "2022-12-28T11:01:49.648Z"
   },
   {
    "duration": 22,
    "start_time": "2022-12-28T11:02:04.716Z"
   },
   {
    "duration": 88,
    "start_time": "2022-12-28T11:02:10.707Z"
   },
   {
    "duration": 93,
    "start_time": "2022-12-28T11:07:51.238Z"
   },
   {
    "duration": 48,
    "start_time": "2022-12-28T11:08:26.052Z"
   },
   {
    "duration": 27,
    "start_time": "2022-12-28T11:10:07.072Z"
   },
   {
    "duration": 1348,
    "start_time": "2022-12-28T11:10:13.057Z"
   },
   {
    "duration": 1510,
    "start_time": "2022-12-28T11:10:14.407Z"
   },
   {
    "duration": 3,
    "start_time": "2022-12-28T11:10:15.920Z"
   },
   {
    "duration": 329,
    "start_time": "2022-12-28T11:10:15.925Z"
   },
   {
    "duration": 78,
    "start_time": "2022-12-28T11:10:16.257Z"
   },
   {
    "duration": 149,
    "start_time": "2022-12-28T11:10:16.337Z"
   },
   {
    "duration": 110,
    "start_time": "2022-12-28T11:10:16.489Z"
   },
   {
    "duration": 619,
    "start_time": "2022-12-28T11:10:16.602Z"
   },
   {
    "duration": 28,
    "start_time": "2022-12-28T11:10:17.224Z"
   },
   {
    "duration": 67,
    "start_time": "2022-12-28T11:10:17.255Z"
   },
   {
    "duration": 11,
    "start_time": "2022-12-28T11:10:17.324Z"
   },
   {
    "duration": 42,
    "start_time": "2022-12-28T11:10:17.337Z"
   },
   {
    "duration": 60,
    "start_time": "2022-12-28T11:10:17.381Z"
   },
   {
    "duration": 44,
    "start_time": "2022-12-28T11:10:17.445Z"
   },
   {
    "duration": 99,
    "start_time": "2022-12-28T11:10:17.490Z"
   },
   {
    "duration": 233,
    "start_time": "2022-12-28T11:10:17.591Z"
   },
   {
    "duration": 5438,
    "start_time": "2022-12-28T11:11:39.603Z"
   },
   {
    "duration": 1018,
    "start_time": "2022-12-28T11:11:55.328Z"
   },
   {
    "duration": 706,
    "start_time": "2022-12-28T11:11:56.348Z"
   },
   {
    "duration": 3,
    "start_time": "2022-12-28T11:11:57.055Z"
   },
   {
    "duration": 174,
    "start_time": "2022-12-28T11:11:57.060Z"
   },
   {
    "duration": 73,
    "start_time": "2022-12-28T11:11:57.237Z"
   },
   {
    "duration": 9,
    "start_time": "2022-12-28T11:11:57.313Z"
   },
   {
    "duration": 24,
    "start_time": "2022-12-28T11:11:57.324Z"
   },
   {
    "duration": 528,
    "start_time": "2022-12-28T11:11:57.350Z"
   },
   {
    "duration": 27,
    "start_time": "2022-12-28T11:11:57.880Z"
   },
   {
    "duration": 4932,
    "start_time": "2022-12-28T11:11:57.908Z"
   },
   {
    "duration": 10,
    "start_time": "2022-12-28T11:12:02.842Z"
   },
   {
    "duration": 41,
    "start_time": "2022-12-28T11:12:02.854Z"
   },
   {
    "duration": 35,
    "start_time": "2022-12-28T11:12:02.897Z"
   },
   {
    "duration": 19,
    "start_time": "2022-12-28T11:12:02.935Z"
   },
   {
    "duration": 35,
    "start_time": "2022-12-28T11:12:02.955Z"
   },
   {
    "duration": 69,
    "start_time": "2022-12-28T11:12:02.992Z"
   },
   {
    "duration": 33,
    "start_time": "2022-12-28T11:15:21.509Z"
   },
   {
    "duration": 42,
    "start_time": "2022-12-28T11:15:45.129Z"
   },
   {
    "duration": 8,
    "start_time": "2022-12-28T11:16:06.585Z"
   },
   {
    "duration": 1412,
    "start_time": "2022-12-28T11:16:12.686Z"
   },
   {
    "duration": 1335,
    "start_time": "2022-12-28T11:16:14.101Z"
   },
   {
    "duration": 3,
    "start_time": "2022-12-28T11:16:15.439Z"
   },
   {
    "duration": 308,
    "start_time": "2022-12-28T11:16:15.444Z"
   },
   {
    "duration": 66,
    "start_time": "2022-12-28T11:16:15.754Z"
   },
   {
    "duration": 11,
    "start_time": "2022-12-28T11:16:15.822Z"
   },
   {
    "duration": 49,
    "start_time": "2022-12-28T11:16:15.836Z"
   },
   {
    "duration": 592,
    "start_time": "2022-12-28T11:16:15.887Z"
   },
   {
    "duration": 25,
    "start_time": "2022-12-28T11:16:16.481Z"
   },
   {
    "duration": 70,
    "start_time": "2022-12-28T11:16:16.508Z"
   },
   {
    "duration": 125,
    "start_time": "2022-12-28T11:16:16.580Z"
   },
   {
    "duration": 42,
    "start_time": "2022-12-28T11:16:16.707Z"
   },
   {
    "duration": 13,
    "start_time": "2022-12-28T11:16:16.751Z"
   },
   {
    "duration": 11,
    "start_time": "2022-12-28T11:16:16.780Z"
   },
   {
    "duration": 40,
    "start_time": "2022-12-28T11:16:16.793Z"
   },
   {
    "duration": 59,
    "start_time": "2022-12-28T11:16:16.836Z"
   },
   {
    "duration": 27,
    "start_time": "2022-12-28T11:16:16.897Z"
   },
   {
    "duration": 89,
    "start_time": "2022-12-28T11:16:16.927Z"
   },
   {
    "duration": 8,
    "start_time": "2022-12-28T11:16:31.221Z"
   },
   {
    "duration": 5242,
    "start_time": "2022-12-28T11:16:48.301Z"
   },
   {
    "duration": 7,
    "start_time": "2022-12-28T11:16:53.545Z"
   },
   {
    "duration": 32,
    "start_time": "2022-12-28T11:18:06.512Z"
   },
   {
    "duration": 7,
    "start_time": "2022-12-28T11:18:06.911Z"
   },
   {
    "duration": 24,
    "start_time": "2022-12-28T11:18:29.112Z"
   },
   {
    "duration": 7,
    "start_time": "2022-12-28T11:18:29.780Z"
   },
   {
    "duration": 7,
    "start_time": "2022-12-28T11:18:49.618Z"
   },
   {
    "duration": 7,
    "start_time": "2022-12-28T11:19:01.582Z"
   },
   {
    "duration": 23,
    "start_time": "2022-12-28T11:19:20.411Z"
   },
   {
    "duration": 25,
    "start_time": "2022-12-28T11:19:46.462Z"
   },
   {
    "duration": 8,
    "start_time": "2022-12-28T11:19:47.068Z"
   },
   {
    "duration": 24,
    "start_time": "2022-12-28T11:19:59.575Z"
   },
   {
    "duration": 10,
    "start_time": "2022-12-28T11:20:00.174Z"
   },
   {
    "duration": 1588,
    "start_time": "2022-12-28T11:20:17.736Z"
   },
   {
    "duration": 1035,
    "start_time": "2022-12-28T11:20:19.377Z"
   },
   {
    "duration": 3,
    "start_time": "2022-12-28T11:20:20.413Z"
   },
   {
    "duration": 173,
    "start_time": "2022-12-28T11:20:20.417Z"
   },
   {
    "duration": 51,
    "start_time": "2022-12-28T11:20:20.592Z"
   },
   {
    "duration": 38,
    "start_time": "2022-12-28T11:20:20.645Z"
   },
   {
    "duration": 38,
    "start_time": "2022-12-28T11:20:20.685Z"
   },
   {
    "duration": 523,
    "start_time": "2022-12-28T11:20:20.724Z"
   },
   {
    "duration": 34,
    "start_time": "2022-12-28T11:20:21.249Z"
   },
   {
    "duration": 7,
    "start_time": "2022-12-28T11:20:21.285Z"
   },
   {
    "duration": 40,
    "start_time": "2022-12-28T11:20:21.293Z"
   },
   {
    "duration": 7,
    "start_time": "2022-12-28T11:20:21.335Z"
   },
   {
    "duration": 41,
    "start_time": "2022-12-28T11:20:21.343Z"
   },
   {
    "duration": 5,
    "start_time": "2022-12-28T11:20:21.387Z"
   },
   {
    "duration": 20,
    "start_time": "2022-12-28T11:20:21.394Z"
   },
   {
    "duration": 4,
    "start_time": "2022-12-28T11:20:21.416Z"
   },
   {
    "duration": 19,
    "start_time": "2022-12-28T11:20:21.422Z"
   },
   {
    "duration": 80,
    "start_time": "2022-12-28T11:20:21.442Z"
   },
   {
    "duration": 10,
    "start_time": "2022-12-28T11:20:38.310Z"
   },
   {
    "duration": 9,
    "start_time": "2022-12-28T11:21:01.672Z"
   },
   {
    "duration": 7,
    "start_time": "2022-12-28T11:21:02.413Z"
   },
   {
    "duration": 5,
    "start_time": "2022-12-28T11:21:56.207Z"
   },
   {
    "duration": 94,
    "start_time": "2022-12-28T11:21:56.436Z"
   },
   {
    "duration": 7,
    "start_time": "2022-12-28T11:21:56.863Z"
   },
   {
    "duration": 661,
    "start_time": "2022-12-28T11:22:55.872Z"
   },
   {
    "duration": 17,
    "start_time": "2022-12-28T11:22:56.535Z"
   },
   {
    "duration": 29,
    "start_time": "2022-12-28T11:23:15.545Z"
   },
   {
    "duration": 16,
    "start_time": "2022-12-28T11:23:17.520Z"
   },
   {
    "duration": 1830,
    "start_time": "2022-12-28T11:25:04.483Z"
   },
   {
    "duration": 16,
    "start_time": "2022-12-28T11:25:06.315Z"
   },
   {
    "duration": 23,
    "start_time": "2022-12-28T11:25:15.029Z"
   },
   {
    "duration": 1247,
    "start_time": "2022-12-28T11:25:24.340Z"
   },
   {
    "duration": 1347,
    "start_time": "2022-12-28T11:25:25.589Z"
   },
   {
    "duration": 3,
    "start_time": "2022-12-28T11:25:26.938Z"
   },
   {
    "duration": 192,
    "start_time": "2022-12-28T11:25:26.943Z"
   },
   {
    "duration": 63,
    "start_time": "2022-12-28T11:25:27.136Z"
   },
   {
    "duration": 8,
    "start_time": "2022-12-28T11:25:27.201Z"
   },
   {
    "duration": 23,
    "start_time": "2022-12-28T11:25:27.211Z"
   },
   {
    "duration": 514,
    "start_time": "2022-12-28T11:25:27.235Z"
   },
   {
    "duration": 32,
    "start_time": "2022-12-28T11:25:27.751Z"
   },
   {
    "duration": 1227,
    "start_time": "2022-12-28T11:25:27.785Z"
   },
   {
    "duration": 23,
    "start_time": "2022-12-28T11:25:29.014Z"
   },
   {
    "duration": 850,
    "start_time": "2022-12-28T11:25:29.039Z"
   },
   {
    "duration": 0,
    "start_time": "2022-12-28T11:25:29.890Z"
   },
   {
    "duration": 0,
    "start_time": "2022-12-28T11:25:29.892Z"
   },
   {
    "duration": 0,
    "start_time": "2022-12-28T11:25:29.894Z"
   },
   {
    "duration": 0,
    "start_time": "2022-12-28T11:25:29.895Z"
   },
   {
    "duration": 0,
    "start_time": "2022-12-28T11:25:29.896Z"
   },
   {
    "duration": 16,
    "start_time": "2022-12-28T11:25:49.979Z"
   },
   {
    "duration": 1555,
    "start_time": "2022-12-28T11:27:01.231Z"
   },
   {
    "duration": 1031,
    "start_time": "2022-12-28T11:27:02.789Z"
   },
   {
    "duration": 3,
    "start_time": "2022-12-28T11:27:03.822Z"
   },
   {
    "duration": 199,
    "start_time": "2022-12-28T11:27:03.826Z"
   },
   {
    "duration": 63,
    "start_time": "2022-12-28T11:27:04.027Z"
   },
   {
    "duration": 8,
    "start_time": "2022-12-28T11:27:04.092Z"
   },
   {
    "duration": 35,
    "start_time": "2022-12-28T11:27:04.102Z"
   },
   {
    "duration": 535,
    "start_time": "2022-12-28T11:27:04.139Z"
   },
   {
    "duration": 26,
    "start_time": "2022-12-28T11:27:04.678Z"
   },
   {
    "duration": 4869,
    "start_time": "2022-12-28T11:27:04.706Z"
   },
   {
    "duration": 1112,
    "start_time": "2022-12-28T11:27:09.576Z"
   },
   {
    "duration": 15,
    "start_time": "2022-12-28T11:27:10.690Z"
   },
   {
    "duration": 927,
    "start_time": "2022-12-28T11:27:10.706Z"
   },
   {
    "duration": 0,
    "start_time": "2022-12-28T11:27:11.635Z"
   },
   {
    "duration": 0,
    "start_time": "2022-12-28T11:27:11.636Z"
   },
   {
    "duration": 0,
    "start_time": "2022-12-28T11:27:11.637Z"
   },
   {
    "duration": 0,
    "start_time": "2022-12-28T11:27:11.638Z"
   },
   {
    "duration": 0,
    "start_time": "2022-12-28T11:27:11.639Z"
   },
   {
    "duration": 1694,
    "start_time": "2022-12-28T11:27:32.612Z"
   },
   {
    "duration": 1402,
    "start_time": "2022-12-28T11:27:34.308Z"
   },
   {
    "duration": 2,
    "start_time": "2022-12-28T11:27:35.712Z"
   },
   {
    "duration": 387,
    "start_time": "2022-12-28T11:27:35.716Z"
   },
   {
    "duration": 100,
    "start_time": "2022-12-28T11:27:36.105Z"
   },
   {
    "duration": 9,
    "start_time": "2022-12-28T11:27:36.206Z"
   },
   {
    "duration": 63,
    "start_time": "2022-12-28T11:27:36.216Z"
   },
   {
    "duration": 647,
    "start_time": "2022-12-28T11:27:36.281Z"
   },
   {
    "duration": 23,
    "start_time": "2022-12-28T11:27:36.929Z"
   },
   {
    "duration": 4966,
    "start_time": "2022-12-28T11:27:36.954Z"
   },
   {
    "duration": 1122,
    "start_time": "2022-12-28T11:27:41.922Z"
   },
   {
    "duration": 16,
    "start_time": "2022-12-28T11:27:43.046Z"
   },
   {
    "duration": 958,
    "start_time": "2022-12-28T11:27:43.064Z"
   },
   {
    "duration": 0,
    "start_time": "2022-12-28T11:27:44.025Z"
   },
   {
    "duration": 0,
    "start_time": "2022-12-28T11:27:44.026Z"
   },
   {
    "duration": 0,
    "start_time": "2022-12-28T11:27:44.027Z"
   },
   {
    "duration": 0,
    "start_time": "2022-12-28T11:27:44.028Z"
   },
   {
    "duration": 0,
    "start_time": "2022-12-28T11:27:44.030Z"
   },
   {
    "duration": 1108,
    "start_time": "2022-12-28T11:28:10.717Z"
   },
   {
    "duration": 697,
    "start_time": "2022-12-28T11:28:11.827Z"
   },
   {
    "duration": 3,
    "start_time": "2022-12-28T11:28:12.526Z"
   },
   {
    "duration": 170,
    "start_time": "2022-12-28T11:28:12.530Z"
   },
   {
    "duration": 82,
    "start_time": "2022-12-28T11:28:12.702Z"
   },
   {
    "duration": 9,
    "start_time": "2022-12-28T11:28:12.785Z"
   },
   {
    "duration": 8,
    "start_time": "2022-12-28T11:28:12.796Z"
   },
   {
    "duration": 996,
    "start_time": "2022-12-28T11:28:12.806Z"
   },
   {
    "duration": 75,
    "start_time": "2022-12-28T11:28:13.805Z"
   },
   {
    "duration": 5380,
    "start_time": "2022-12-28T11:28:13.882Z"
   },
   {
    "duration": 16,
    "start_time": "2022-12-28T11:28:19.264Z"
   },
   {
    "duration": 6,
    "start_time": "2022-12-28T11:28:19.281Z"
   },
   {
    "duration": 18,
    "start_time": "2022-12-28T11:28:19.289Z"
   },
   {
    "duration": 5,
    "start_time": "2022-12-28T11:28:19.311Z"
   },
   {
    "duration": 68,
    "start_time": "2022-12-28T11:28:19.318Z"
   },
   {
    "duration": 47,
    "start_time": "2022-12-28T11:28:19.388Z"
   },
   {
    "duration": 5423,
    "start_time": "2022-12-28T11:31:17.925Z"
   },
   {
    "duration": 5901,
    "start_time": "2022-12-28T11:31:57.303Z"
   },
   {
    "duration": 5641,
    "start_time": "2022-12-28T11:34:03.579Z"
   },
   {
    "duration": 5584,
    "start_time": "2022-12-28T11:34:14.865Z"
   },
   {
    "duration": 5677,
    "start_time": "2022-12-28T11:34:25.562Z"
   },
   {
    "duration": 10,
    "start_time": "2022-12-28T11:34:39.107Z"
   },
   {
    "duration": 1925,
    "start_time": "2022-12-28T11:35:06.410Z"
   },
   {
    "duration": 5356,
    "start_time": "2022-12-28T11:35:33.009Z"
   },
   {
    "duration": 1468,
    "start_time": "2022-12-28T11:36:15.835Z"
   },
   {
    "duration": 1220,
    "start_time": "2022-12-28T11:36:17.305Z"
   },
   {
    "duration": 3,
    "start_time": "2022-12-28T11:36:18.527Z"
   },
   {
    "duration": 180,
    "start_time": "2022-12-28T11:36:18.532Z"
   },
   {
    "duration": 65,
    "start_time": "2022-12-28T11:36:18.713Z"
   },
   {
    "duration": 9,
    "start_time": "2022-12-28T11:36:18.780Z"
   },
   {
    "duration": 6,
    "start_time": "2022-12-28T11:36:18.791Z"
   },
   {
    "duration": 536,
    "start_time": "2022-12-28T11:36:18.799Z"
   },
   {
    "duration": 23,
    "start_time": "2022-12-28T11:36:19.337Z"
   },
   {
    "duration": 5095,
    "start_time": "2022-12-28T11:36:19.379Z"
   },
   {
    "duration": 16,
    "start_time": "2022-12-28T11:36:24.478Z"
   },
   {
    "duration": 65,
    "start_time": "2022-12-28T11:36:24.497Z"
   },
   {
    "duration": 176,
    "start_time": "2022-12-28T11:36:24.564Z"
   },
   {
    "duration": 100,
    "start_time": "2022-12-28T11:36:24.742Z"
   },
   {
    "duration": 62,
    "start_time": "2022-12-28T11:36:24.844Z"
   },
   {
    "duration": 104,
    "start_time": "2022-12-28T11:36:24.908Z"
   },
   {
    "duration": 738,
    "start_time": "2022-12-28T11:37:02.176Z"
   },
   {
    "duration": 1071,
    "start_time": "2022-12-28T11:37:28.130Z"
   },
   {
    "duration": 720,
    "start_time": "2022-12-28T11:37:29.203Z"
   },
   {
    "duration": 3,
    "start_time": "2022-12-28T11:37:29.924Z"
   },
   {
    "duration": 181,
    "start_time": "2022-12-28T11:37:29.929Z"
   },
   {
    "duration": 72,
    "start_time": "2022-12-28T11:37:30.111Z"
   },
   {
    "duration": 11,
    "start_time": "2022-12-28T11:37:30.185Z"
   },
   {
    "duration": 64,
    "start_time": "2022-12-28T11:37:30.198Z"
   },
   {
    "duration": 527,
    "start_time": "2022-12-28T11:37:30.264Z"
   },
   {
    "duration": 24,
    "start_time": "2022-12-28T11:37:30.793Z"
   },
   {
    "duration": 6049,
    "start_time": "2022-12-28T11:37:30.820Z"
   },
   {
    "duration": 17,
    "start_time": "2022-12-28T11:37:36.871Z"
   },
   {
    "duration": 5,
    "start_time": "2022-12-28T11:37:36.890Z"
   },
   {
    "duration": 34,
    "start_time": "2022-12-28T11:37:36.897Z"
   },
   {
    "duration": 5,
    "start_time": "2022-12-28T11:37:36.933Z"
   },
   {
    "duration": 41,
    "start_time": "2022-12-28T11:37:36.940Z"
   },
   {
    "duration": 52,
    "start_time": "2022-12-28T11:37:36.983Z"
   },
   {
    "duration": 4,
    "start_time": "2022-12-28T11:40:00.159Z"
   },
   {
    "duration": 56,
    "start_time": "2022-12-28T11:40:40.578Z"
   },
   {
    "duration": 4,
    "start_time": "2022-12-28T11:42:00.041Z"
   },
   {
    "duration": 19,
    "start_time": "2022-12-28T11:44:21.349Z"
   },
   {
    "duration": 3,
    "start_time": "2022-12-28T11:44:39.412Z"
   },
   {
    "duration": 160,
    "start_time": "2022-12-28T11:44:44.203Z"
   },
   {
    "duration": 4,
    "start_time": "2022-12-28T11:45:03.108Z"
   },
   {
    "duration": 5,
    "start_time": "2022-12-28T11:45:13.573Z"
   },
   {
    "duration": 21,
    "start_time": "2022-12-28T11:45:19.940Z"
   },
   {
    "duration": 1032,
    "start_time": "2022-12-28T11:45:31.206Z"
   },
   {
    "duration": 1164,
    "start_time": "2022-12-28T11:45:32.240Z"
   },
   {
    "duration": 3,
    "start_time": "2022-12-28T11:45:33.405Z"
   },
   {
    "duration": 376,
    "start_time": "2022-12-28T11:45:33.410Z"
   },
   {
    "duration": 102,
    "start_time": "2022-12-28T11:45:33.788Z"
   },
   {
    "duration": 10,
    "start_time": "2022-12-28T11:45:33.892Z"
   },
   {
    "duration": 77,
    "start_time": "2022-12-28T11:45:33.904Z"
   },
   {
    "duration": 739,
    "start_time": "2022-12-28T11:45:33.983Z"
   },
   {
    "duration": 22,
    "start_time": "2022-12-28T11:45:34.724Z"
   },
   {
    "duration": 5171,
    "start_time": "2022-12-28T11:45:34.748Z"
   },
   {
    "duration": 4,
    "start_time": "2022-12-28T11:45:39.921Z"
   },
   {
    "duration": 27,
    "start_time": "2022-12-28T11:45:39.927Z"
   },
   {
    "duration": 5,
    "start_time": "2022-12-28T11:45:39.956Z"
   },
   {
    "duration": 40,
    "start_time": "2022-12-28T11:45:39.962Z"
   },
   {
    "duration": 4,
    "start_time": "2022-12-28T11:45:40.004Z"
   },
   {
    "duration": 27,
    "start_time": "2022-12-28T11:45:40.010Z"
   },
   {
    "duration": 55,
    "start_time": "2022-12-28T11:45:40.038Z"
   },
   {
    "duration": 23,
    "start_time": "2022-12-28T11:45:56.213Z"
   },
   {
    "duration": 4,
    "start_time": "2022-12-28T11:46:16.349Z"
   },
   {
    "duration": 20,
    "start_time": "2022-12-28T11:47:12.822Z"
   },
   {
    "duration": 17,
    "start_time": "2022-12-28T11:47:27.342Z"
   },
   {
    "duration": 1088,
    "start_time": "2022-12-28T11:47:36.745Z"
   },
   {
    "duration": 1345,
    "start_time": "2022-12-28T11:47:37.834Z"
   },
   {
    "duration": 3,
    "start_time": "2022-12-28T11:47:39.181Z"
   },
   {
    "duration": 330,
    "start_time": "2022-12-28T11:47:39.186Z"
   },
   {
    "duration": 94,
    "start_time": "2022-12-28T11:47:39.518Z"
   },
   {
    "duration": 8,
    "start_time": "2022-12-28T11:47:39.614Z"
   },
   {
    "duration": 57,
    "start_time": "2022-12-28T11:47:39.623Z"
   },
   {
    "duration": 604,
    "start_time": "2022-12-28T11:47:39.682Z"
   },
   {
    "duration": 21,
    "start_time": "2022-12-28T11:47:40.288Z"
   },
   {
    "duration": 5022,
    "start_time": "2022-12-28T11:47:40.311Z"
   },
   {
    "duration": 4,
    "start_time": "2022-12-28T11:47:45.335Z"
   },
   {
    "duration": 31,
    "start_time": "2022-12-28T11:47:45.340Z"
   },
   {
    "duration": 17,
    "start_time": "2022-12-28T11:47:45.373Z"
   },
   {
    "duration": 40,
    "start_time": "2022-12-28T11:47:45.392Z"
   },
   {
    "duration": 6,
    "start_time": "2022-12-28T11:47:45.434Z"
   },
   {
    "duration": 36,
    "start_time": "2022-12-28T11:47:45.441Z"
   },
   {
    "duration": 20,
    "start_time": "2022-12-28T11:47:45.479Z"
   },
   {
    "duration": 49,
    "start_time": "2022-12-28T11:48:03.548Z"
   },
   {
    "duration": 24,
    "start_time": "2022-12-28T11:48:07.237Z"
   },
   {
    "duration": 25,
    "start_time": "2022-12-28T11:48:18.951Z"
   },
   {
    "duration": 3,
    "start_time": "2022-12-28T11:49:48.305Z"
   },
   {
    "duration": 4,
    "start_time": "2022-12-28T11:49:51.967Z"
   },
   {
    "duration": 3,
    "start_time": "2022-12-28T11:50:26.608Z"
   },
   {
    "duration": 5,
    "start_time": "2022-12-28T11:50:55.544Z"
   },
   {
    "duration": 3,
    "start_time": "2022-12-28T11:51:35.353Z"
   },
   {
    "duration": 19,
    "start_time": "2022-12-28T11:52:02.109Z"
   },
   {
    "duration": 4,
    "start_time": "2022-12-28T11:52:06.810Z"
   },
   {
    "duration": 11,
    "start_time": "2022-12-28T12:18:04.582Z"
   },
   {
    "duration": 33,
    "start_time": "2022-12-28T12:18:13.010Z"
   },
   {
    "duration": 1676,
    "start_time": "2022-12-28T12:18:32.928Z"
   },
   {
    "duration": 961,
    "start_time": "2022-12-28T12:18:34.606Z"
   },
   {
    "duration": 8,
    "start_time": "2022-12-28T12:18:35.569Z"
   },
   {
    "duration": 166,
    "start_time": "2022-12-28T12:18:35.579Z"
   },
   {
    "duration": 64,
    "start_time": "2022-12-28T12:18:35.747Z"
   },
   {
    "duration": 8,
    "start_time": "2022-12-28T12:18:35.812Z"
   },
   {
    "duration": 9,
    "start_time": "2022-12-28T12:18:35.822Z"
   },
   {
    "duration": 557,
    "start_time": "2022-12-28T12:18:35.833Z"
   },
   {
    "duration": 23,
    "start_time": "2022-12-28T12:18:36.392Z"
   },
   {
    "duration": 4960,
    "start_time": "2022-12-28T12:18:36.417Z"
   },
   {
    "duration": 5,
    "start_time": "2022-12-28T12:18:41.378Z"
   },
   {
    "duration": 19,
    "start_time": "2022-12-28T12:18:41.384Z"
   },
   {
    "duration": 6,
    "start_time": "2022-12-28T12:18:41.404Z"
   },
   {
    "duration": 31,
    "start_time": "2022-12-28T12:18:41.412Z"
   },
   {
    "duration": 33,
    "start_time": "2022-12-28T12:18:41.445Z"
   },
   {
    "duration": 17,
    "start_time": "2022-12-28T12:18:41.480Z"
   },
   {
    "duration": 25,
    "start_time": "2022-12-28T12:18:41.499Z"
   },
   {
    "duration": 4,
    "start_time": "2022-12-28T12:18:41.527Z"
   },
   {
    "duration": 15,
    "start_time": "2022-12-28T12:18:41.533Z"
   },
   {
    "duration": 35,
    "start_time": "2022-12-28T12:18:41.578Z"
   },
   {
    "duration": 4,
    "start_time": "2022-12-28T12:19:21.633Z"
   },
   {
    "duration": 21,
    "start_time": "2022-12-28T12:19:57.473Z"
   },
   {
    "duration": 20,
    "start_time": "2022-12-28T12:20:32.913Z"
   },
   {
    "duration": 1880,
    "start_time": "2022-12-28T12:20:42.025Z"
   },
   {
    "duration": 1390,
    "start_time": "2022-12-28T12:20:43.907Z"
   },
   {
    "duration": 3,
    "start_time": "2022-12-28T12:20:45.299Z"
   },
   {
    "duration": 409,
    "start_time": "2022-12-28T12:20:45.305Z"
   },
   {
    "duration": 164,
    "start_time": "2022-12-28T12:20:45.716Z"
   },
   {
    "duration": 11,
    "start_time": "2022-12-28T12:20:45.882Z"
   },
   {
    "duration": 38,
    "start_time": "2022-12-28T12:20:45.895Z"
   },
   {
    "duration": 802,
    "start_time": "2022-12-28T12:20:45.935Z"
   },
   {
    "duration": 38,
    "start_time": "2022-12-28T12:20:46.739Z"
   },
   {
    "duration": 5239,
    "start_time": "2022-12-28T12:20:46.780Z"
   },
   {
    "duration": 4,
    "start_time": "2022-12-28T12:20:52.020Z"
   },
   {
    "duration": 25,
    "start_time": "2022-12-28T12:20:52.026Z"
   },
   {
    "duration": 7,
    "start_time": "2022-12-28T12:20:52.052Z"
   },
   {
    "duration": 42,
    "start_time": "2022-12-28T12:20:52.060Z"
   },
   {
    "duration": 5,
    "start_time": "2022-12-28T12:20:52.104Z"
   },
   {
    "duration": 29,
    "start_time": "2022-12-28T12:20:52.111Z"
   },
   {
    "duration": 26,
    "start_time": "2022-12-28T12:20:52.142Z"
   },
   {
    "duration": 20,
    "start_time": "2022-12-28T12:20:52.169Z"
   },
   {
    "duration": 6,
    "start_time": "2022-12-28T12:20:52.192Z"
   },
   {
    "duration": 112,
    "start_time": "2022-12-28T12:21:35.409Z"
   },
   {
    "duration": 1447,
    "start_time": "2022-12-28T12:21:45.742Z"
   },
   {
    "duration": 1308,
    "start_time": "2022-12-28T12:21:47.191Z"
   },
   {
    "duration": 3,
    "start_time": "2022-12-28T12:21:48.501Z"
   },
   {
    "duration": 216,
    "start_time": "2022-12-28T12:21:48.507Z"
   },
   {
    "duration": 68,
    "start_time": "2022-12-28T12:21:48.725Z"
   },
   {
    "duration": 8,
    "start_time": "2022-12-28T12:21:48.795Z"
   },
   {
    "duration": 11,
    "start_time": "2022-12-28T12:21:48.805Z"
   },
   {
    "duration": 534,
    "start_time": "2022-12-28T12:21:48.818Z"
   },
   {
    "duration": 34,
    "start_time": "2022-12-28T12:21:49.353Z"
   },
   {
    "duration": 5010,
    "start_time": "2022-12-28T12:21:49.389Z"
   },
   {
    "duration": 4,
    "start_time": "2022-12-28T12:21:54.402Z"
   },
   {
    "duration": 25,
    "start_time": "2022-12-28T12:21:54.408Z"
   },
   {
    "duration": 5,
    "start_time": "2022-12-28T12:21:54.434Z"
   },
   {
    "duration": 48,
    "start_time": "2022-12-28T12:21:54.441Z"
   },
   {
    "duration": 4,
    "start_time": "2022-12-28T12:21:54.491Z"
   },
   {
    "duration": 18,
    "start_time": "2022-12-28T12:21:54.497Z"
   },
   {
    "duration": 22,
    "start_time": "2022-12-28T12:21:54.516Z"
   },
   {
    "duration": 14,
    "start_time": "2022-12-28T12:21:54.540Z"
   },
   {
    "duration": 24,
    "start_time": "2022-12-28T12:25:38.424Z"
   },
   {
    "duration": 105,
    "start_time": "2022-12-28T12:56:22.483Z"
   },
   {
    "duration": 338,
    "start_time": "2022-12-28T12:56:39.381Z"
   },
   {
    "duration": 730,
    "start_time": "2022-12-28T13:14:33.666Z"
   },
   {
    "duration": 586,
    "start_time": "2022-12-28T13:14:43.172Z"
   },
   {
    "duration": 4,
    "start_time": "2022-12-28T13:18:21.123Z"
   },
   {
    "duration": 63,
    "start_time": "2022-12-28T13:19:00.876Z"
   },
   {
    "duration": 193,
    "start_time": "2022-12-28T13:19:40.205Z"
   },
   {
    "duration": 185,
    "start_time": "2022-12-28T13:20:20.612Z"
   },
   {
    "duration": 60,
    "start_time": "2022-12-28T13:20:40.310Z"
   },
   {
    "duration": 34,
    "start_time": "2022-12-28T13:21:04.460Z"
   },
   {
    "duration": 35,
    "start_time": "2022-12-28T13:21:15.030Z"
   },
   {
    "duration": 33,
    "start_time": "2022-12-28T13:21:22.126Z"
   },
   {
    "duration": 1480,
    "start_time": "2022-12-28T13:21:32.300Z"
   },
   {
    "duration": 1320,
    "start_time": "2022-12-28T13:21:33.782Z"
   },
   {
    "duration": 2,
    "start_time": "2022-12-28T13:21:35.104Z"
   },
   {
    "duration": 385,
    "start_time": "2022-12-28T13:21:35.108Z"
   },
   {
    "duration": 105,
    "start_time": "2022-12-28T13:21:35.495Z"
   },
   {
    "duration": 10,
    "start_time": "2022-12-28T13:21:35.601Z"
   },
   {
    "duration": 67,
    "start_time": "2022-12-28T13:21:35.612Z"
   },
   {
    "duration": 598,
    "start_time": "2022-12-28T13:21:35.681Z"
   },
   {
    "duration": 24,
    "start_time": "2022-12-28T13:21:36.281Z"
   },
   {
    "duration": 23,
    "start_time": "2022-12-28T13:21:36.307Z"
   },
   {
    "duration": 5089,
    "start_time": "2022-12-28T13:21:36.331Z"
   },
   {
    "duration": 4,
    "start_time": "2022-12-28T13:21:41.421Z"
   },
   {
    "duration": 22,
    "start_time": "2022-12-28T13:21:41.426Z"
   },
   {
    "duration": 6,
    "start_time": "2022-12-28T13:21:41.449Z"
   },
   {
    "duration": 5,
    "start_time": "2022-12-28T13:21:41.478Z"
   },
   {
    "duration": 25,
    "start_time": "2022-12-28T13:21:41.484Z"
   },
   {
    "duration": 20,
    "start_time": "2022-12-28T13:21:41.511Z"
   },
   {
    "duration": 15,
    "start_time": "2022-12-28T13:21:41.532Z"
   },
   {
    "duration": 333,
    "start_time": "2022-12-28T13:21:41.548Z"
   },
   {
    "duration": 0,
    "start_time": "2022-12-28T13:21:41.883Z"
   },
   {
    "duration": 0,
    "start_time": "2022-12-28T13:21:41.884Z"
   },
   {
    "duration": 34,
    "start_time": "2022-12-28T13:21:52.126Z"
   },
   {
    "duration": 1419,
    "start_time": "2022-12-28T13:21:59.513Z"
   },
   {
    "duration": 950,
    "start_time": "2022-12-28T13:22:00.934Z"
   },
   {
    "duration": 3,
    "start_time": "2022-12-28T13:22:01.886Z"
   },
   {
    "duration": 388,
    "start_time": "2022-12-28T13:22:01.892Z"
   },
   {
    "duration": 103,
    "start_time": "2022-12-28T13:22:02.281Z"
   },
   {
    "duration": 12,
    "start_time": "2022-12-28T13:22:02.386Z"
   },
   {
    "duration": 79,
    "start_time": "2022-12-28T13:22:02.400Z"
   },
   {
    "duration": 1040,
    "start_time": "2022-12-28T13:22:02.481Z"
   },
   {
    "duration": 25,
    "start_time": "2022-12-28T13:22:03.523Z"
   },
   {
    "duration": 40,
    "start_time": "2022-12-28T13:22:03.550Z"
   },
   {
    "duration": 5334,
    "start_time": "2022-12-28T13:22:03.592Z"
   },
   {
    "duration": 59,
    "start_time": "2022-12-28T13:22:08.928Z"
   },
   {
    "duration": 5,
    "start_time": "2022-12-28T13:22:08.989Z"
   },
   {
    "duration": 17,
    "start_time": "2022-12-28T13:22:08.996Z"
   },
   {
    "duration": 6,
    "start_time": "2022-12-28T13:22:09.015Z"
   },
   {
    "duration": 8,
    "start_time": "2022-12-28T13:22:09.023Z"
   },
   {
    "duration": 51,
    "start_time": "2022-12-28T13:22:09.033Z"
   },
   {
    "duration": 18,
    "start_time": "2022-12-28T13:22:09.085Z"
   },
   {
    "duration": 21,
    "start_time": "2022-12-28T13:22:09.104Z"
   },
   {
    "duration": 315,
    "start_time": "2022-12-28T13:22:09.126Z"
   },
   {
    "duration": 0,
    "start_time": "2022-12-28T13:22:09.443Z"
   },
   {
    "duration": 0,
    "start_time": "2022-12-28T13:22:09.445Z"
   },
   {
    "duration": 1330,
    "start_time": "2022-12-28T13:25:46.316Z"
   },
   {
    "duration": 759,
    "start_time": "2022-12-28T13:25:47.648Z"
   },
   {
    "duration": 5,
    "start_time": "2022-12-28T13:25:48.409Z"
   },
   {
    "duration": 236,
    "start_time": "2022-12-28T13:25:48.417Z"
   },
   {
    "duration": 68,
    "start_time": "2022-12-28T13:25:48.656Z"
   },
   {
    "duration": 12,
    "start_time": "2022-12-28T13:25:48.726Z"
   },
   {
    "duration": 40,
    "start_time": "2022-12-28T13:25:48.739Z"
   },
   {
    "duration": 811,
    "start_time": "2022-12-28T13:25:48.781Z"
   },
   {
    "duration": 23,
    "start_time": "2022-12-28T13:25:49.594Z"
   },
   {
    "duration": 71,
    "start_time": "2022-12-28T13:25:49.619Z"
   },
   {
    "duration": 3924,
    "start_time": "2022-12-28T13:25:49.692Z"
   },
   {
    "duration": 16,
    "start_time": "2022-12-28T13:25:53.618Z"
   },
   {
    "duration": 14,
    "start_time": "2022-12-28T13:25:53.636Z"
   },
   {
    "duration": 25,
    "start_time": "2022-12-28T13:25:53.652Z"
   },
   {
    "duration": 16,
    "start_time": "2022-12-28T13:25:53.678Z"
   },
   {
    "duration": 22,
    "start_time": "2022-12-28T13:25:53.696Z"
   },
   {
    "duration": 24,
    "start_time": "2022-12-28T13:25:53.719Z"
   },
   {
    "duration": 35,
    "start_time": "2022-12-28T13:25:53.745Z"
   },
   {
    "duration": 20,
    "start_time": "2022-12-28T13:25:53.783Z"
   },
   {
    "duration": 318,
    "start_time": "2022-12-28T13:25:53.806Z"
   },
   {
    "duration": 0,
    "start_time": "2022-12-28T13:25:54.127Z"
   },
   {
    "duration": 0,
    "start_time": "2022-12-28T13:25:54.128Z"
   },
   {
    "duration": 2073,
    "start_time": "2022-12-28T13:26:37.948Z"
   },
   {
    "duration": 34,
    "start_time": "2022-12-28T13:26:40.024Z"
   },
   {
    "duration": 1426,
    "start_time": "2022-12-28T13:26:46.093Z"
   },
   {
    "duration": 737,
    "start_time": "2022-12-28T13:26:47.521Z"
   },
   {
    "duration": 3,
    "start_time": "2022-12-28T13:26:48.260Z"
   },
   {
    "duration": 232,
    "start_time": "2022-12-28T13:26:48.265Z"
   },
   {
    "duration": 49,
    "start_time": "2022-12-28T13:26:48.499Z"
   },
   {
    "duration": 37,
    "start_time": "2022-12-28T13:26:48.549Z"
   },
   {
    "duration": 6,
    "start_time": "2022-12-28T13:26:48.587Z"
   },
   {
    "duration": 1094,
    "start_time": "2022-12-28T13:26:48.595Z"
   },
   {
    "duration": 24,
    "start_time": "2022-12-28T13:26:49.691Z"
   },
   {
    "duration": 72,
    "start_time": "2022-12-28T13:26:49.717Z"
   },
   {
    "duration": 5489,
    "start_time": "2022-12-28T13:26:49.792Z"
   },
   {
    "duration": 54,
    "start_time": "2022-12-28T13:26:55.282Z"
   },
   {
    "duration": 3,
    "start_time": "2022-12-28T13:26:55.338Z"
   },
   {
    "duration": 35,
    "start_time": "2022-12-28T13:26:55.344Z"
   },
   {
    "duration": 5,
    "start_time": "2022-12-28T13:26:55.381Z"
   },
   {
    "duration": 22,
    "start_time": "2022-12-28T13:26:55.388Z"
   },
   {
    "duration": 78,
    "start_time": "2022-12-28T13:26:55.412Z"
   },
   {
    "duration": 21,
    "start_time": "2022-12-28T13:26:55.492Z"
   },
   {
    "duration": 38,
    "start_time": "2022-12-28T13:26:55.515Z"
   },
   {
    "duration": 321,
    "start_time": "2022-12-28T13:26:55.555Z"
   },
   {
    "duration": 0,
    "start_time": "2022-12-28T13:26:55.878Z"
   },
   {
    "duration": 0,
    "start_time": "2022-12-28T13:26:55.880Z"
   },
   {
    "duration": 1437,
    "start_time": "2022-12-28T13:27:23.200Z"
   },
   {
    "duration": 1157,
    "start_time": "2022-12-28T13:27:24.639Z"
   },
   {
    "duration": 3,
    "start_time": "2022-12-28T13:27:25.798Z"
   },
   {
    "duration": 416,
    "start_time": "2022-12-28T13:27:25.803Z"
   },
   {
    "duration": 156,
    "start_time": "2022-12-28T13:27:26.221Z"
   },
   {
    "duration": 11,
    "start_time": "2022-12-28T13:27:26.379Z"
   },
   {
    "duration": 8,
    "start_time": "2022-12-28T13:27:26.392Z"
   },
   {
    "duration": 856,
    "start_time": "2022-12-28T13:27:26.402Z"
   },
   {
    "duration": 31,
    "start_time": "2022-12-28T13:27:27.260Z"
   },
   {
    "duration": 16,
    "start_time": "2022-12-28T13:27:27.294Z"
   },
   {
    "duration": 3350,
    "start_time": "2022-12-28T13:27:27.312Z"
   },
   {
    "duration": 23,
    "start_time": "2022-12-28T13:27:30.664Z"
   },
   {
    "duration": 24,
    "start_time": "2022-12-28T13:27:30.689Z"
   },
   {
    "duration": 22,
    "start_time": "2022-12-28T13:27:30.715Z"
   },
   {
    "duration": 21,
    "start_time": "2022-12-28T13:27:30.739Z"
   },
   {
    "duration": 15,
    "start_time": "2022-12-28T13:27:30.761Z"
   },
   {
    "duration": 30,
    "start_time": "2022-12-28T13:27:30.778Z"
   },
   {
    "duration": 25,
    "start_time": "2022-12-28T13:27:30.810Z"
   },
   {
    "duration": 30,
    "start_time": "2022-12-28T13:27:30.836Z"
   },
   {
    "duration": 314,
    "start_time": "2022-12-28T13:27:30.868Z"
   },
   {
    "duration": 0,
    "start_time": "2022-12-28T13:27:31.184Z"
   },
   {
    "duration": 0,
    "start_time": "2022-12-28T13:27:31.185Z"
   },
   {
    "duration": 1344,
    "start_time": "2022-12-28T13:27:56.117Z"
   },
   {
    "duration": 716,
    "start_time": "2022-12-28T13:27:57.463Z"
   },
   {
    "duration": 3,
    "start_time": "2022-12-28T13:27:58.181Z"
   },
   {
    "duration": 251,
    "start_time": "2022-12-28T13:27:58.186Z"
   },
   {
    "duration": 65,
    "start_time": "2022-12-28T13:27:58.440Z"
   },
   {
    "duration": 10,
    "start_time": "2022-12-28T13:27:58.507Z"
   },
   {
    "duration": 16,
    "start_time": "2022-12-28T13:27:58.519Z"
   },
   {
    "duration": 752,
    "start_time": "2022-12-28T13:27:58.538Z"
   },
   {
    "duration": 24,
    "start_time": "2022-12-28T13:27:59.292Z"
   },
   {
    "duration": 75,
    "start_time": "2022-12-28T13:27:59.317Z"
   },
   {
    "duration": 3983,
    "start_time": "2022-12-28T13:27:59.394Z"
   },
   {
    "duration": 17,
    "start_time": "2022-12-28T13:28:03.379Z"
   },
   {
    "duration": 26,
    "start_time": "2022-12-28T13:28:03.398Z"
   },
   {
    "duration": 57,
    "start_time": "2022-12-28T13:28:03.427Z"
   },
   {
    "duration": 34,
    "start_time": "2022-12-28T13:28:03.485Z"
   },
   {
    "duration": 10,
    "start_time": "2022-12-28T13:28:03.521Z"
   },
   {
    "duration": 57,
    "start_time": "2022-12-28T13:28:03.532Z"
   },
   {
    "duration": 102,
    "start_time": "2022-12-28T13:28:03.591Z"
   },
   {
    "duration": 8,
    "start_time": "2022-12-28T13:28:03.695Z"
   },
   {
    "duration": 613,
    "start_time": "2022-12-28T13:28:03.705Z"
   },
   {
    "duration": 0,
    "start_time": "2022-12-28T13:28:04.320Z"
   },
   {
    "duration": 0,
    "start_time": "2022-12-28T13:28:04.321Z"
   },
   {
    "duration": 275,
    "start_time": "2022-12-28T13:28:22.006Z"
   },
   {
    "duration": 1713,
    "start_time": "2022-12-28T13:28:29.610Z"
   },
   {
    "duration": 1279,
    "start_time": "2022-12-28T13:28:31.325Z"
   },
   {
    "duration": 3,
    "start_time": "2022-12-28T13:28:32.606Z"
   },
   {
    "duration": 193,
    "start_time": "2022-12-28T13:28:32.610Z"
   },
   {
    "duration": 49,
    "start_time": "2022-12-28T13:28:32.806Z"
   },
   {
    "duration": 9,
    "start_time": "2022-12-28T13:28:32.879Z"
   },
   {
    "duration": 39,
    "start_time": "2022-12-28T13:28:32.890Z"
   },
   {
    "duration": 859,
    "start_time": "2022-12-28T13:28:32.931Z"
   },
   {
    "duration": 22,
    "start_time": "2022-12-28T13:28:33.791Z"
   },
   {
    "duration": 74,
    "start_time": "2022-12-28T13:28:33.814Z"
   },
   {
    "duration": 111,
    "start_time": "2022-12-28T13:28:33.890Z"
   },
   {
    "duration": 18,
    "start_time": "2022-12-28T13:28:34.002Z"
   },
   {
    "duration": 58,
    "start_time": "2022-12-28T13:28:34.021Z"
   },
   {
    "duration": 44,
    "start_time": "2022-12-28T13:28:34.081Z"
   },
   {
    "duration": 55,
    "start_time": "2022-12-28T13:28:34.126Z"
   },
   {
    "duration": 96,
    "start_time": "2022-12-28T13:28:34.183Z"
   },
   {
    "duration": 46,
    "start_time": "2022-12-28T13:28:34.281Z"
   },
   {
    "duration": 61,
    "start_time": "2022-12-28T13:28:34.329Z"
   },
   {
    "duration": 27,
    "start_time": "2022-12-28T13:28:34.391Z"
   },
   {
    "duration": 2220,
    "start_time": "2022-12-28T13:28:34.420Z"
   },
   {
    "duration": 745,
    "start_time": "2022-12-28T13:28:36.642Z"
   },
   {
    "duration": 19,
    "start_time": "2022-12-28T13:28:37.389Z"
   },
   {
    "duration": 58,
    "start_time": "2022-12-28T13:28:52.841Z"
   },
   {
    "duration": 4,
    "start_time": "2022-12-28T13:29:44.406Z"
   },
   {
    "duration": 4,
    "start_time": "2022-12-28T13:30:10.986Z"
   },
   {
    "duration": 20,
    "start_time": "2022-12-28T13:31:05.280Z"
   },
   {
    "duration": 128,
    "start_time": "2022-12-28T13:33:28.857Z"
   },
   {
    "duration": 17,
    "start_time": "2022-12-28T13:34:14.609Z"
   },
   {
    "duration": 1787,
    "start_time": "2022-12-28T13:34:27.213Z"
   },
   {
    "duration": 1137,
    "start_time": "2022-12-28T13:34:29.002Z"
   },
   {
    "duration": 3,
    "start_time": "2022-12-28T13:34:30.140Z"
   },
   {
    "duration": 171,
    "start_time": "2022-12-28T13:34:30.145Z"
   },
   {
    "duration": 69,
    "start_time": "2022-12-28T13:34:30.318Z"
   },
   {
    "duration": 9,
    "start_time": "2022-12-28T13:34:30.388Z"
   },
   {
    "duration": 39,
    "start_time": "2022-12-28T13:34:30.398Z"
   },
   {
    "duration": 536,
    "start_time": "2022-12-28T13:34:30.439Z"
   },
   {
    "duration": 25,
    "start_time": "2022-12-28T13:34:30.978Z"
   },
   {
    "duration": 118,
    "start_time": "2022-12-28T13:34:31.005Z"
   },
   {
    "duration": 5,
    "start_time": "2022-12-28T13:34:31.125Z"
   },
   {
    "duration": 24,
    "start_time": "2022-12-28T13:34:31.132Z"
   },
   {
    "duration": 38,
    "start_time": "2022-12-28T13:34:31.159Z"
   },
   {
    "duration": 44,
    "start_time": "2022-12-28T13:34:31.200Z"
   },
   {
    "duration": 50,
    "start_time": "2022-12-28T13:34:31.246Z"
   },
   {
    "duration": 1854,
    "start_time": "2022-12-28T13:34:31.298Z"
   },
   {
    "duration": 763,
    "start_time": "2022-12-28T13:34:33.155Z"
   },
   {
    "duration": 21,
    "start_time": "2022-12-28T13:34:33.920Z"
   },
   {
    "duration": 122,
    "start_time": "2022-12-28T13:34:58.025Z"
   },
   {
    "duration": 2276,
    "start_time": "2022-12-28T13:35:03.025Z"
   },
   {
    "duration": 1601,
    "start_time": "2022-12-28T13:35:05.304Z"
   },
   {
    "duration": 2,
    "start_time": "2022-12-28T13:35:06.907Z"
   },
   {
    "duration": 397,
    "start_time": "2022-12-28T13:35:06.911Z"
   },
   {
    "duration": 86,
    "start_time": "2022-12-28T13:35:07.310Z"
   },
   {
    "duration": 11,
    "start_time": "2022-12-28T13:35:07.398Z"
   },
   {
    "duration": 40,
    "start_time": "2022-12-28T13:35:07.411Z"
   },
   {
    "duration": 576,
    "start_time": "2022-12-28T13:35:07.454Z"
   },
   {
    "duration": 23,
    "start_time": "2022-12-28T13:35:08.032Z"
   },
   {
    "duration": 63,
    "start_time": "2022-12-28T13:35:08.080Z"
   },
   {
    "duration": 5,
    "start_time": "2022-12-28T13:35:08.145Z"
   },
   {
    "duration": 13,
    "start_time": "2022-12-28T13:35:08.177Z"
   },
   {
    "duration": 38,
    "start_time": "2022-12-28T13:35:08.191Z"
   },
   {
    "duration": 24,
    "start_time": "2022-12-28T13:35:08.233Z"
   },
   {
    "duration": 35,
    "start_time": "2022-12-28T13:35:08.260Z"
   },
   {
    "duration": 1961,
    "start_time": "2022-12-28T13:35:08.297Z"
   },
   {
    "duration": 841,
    "start_time": "2022-12-28T13:35:10.260Z"
   },
   {
    "duration": 20,
    "start_time": "2022-12-28T13:35:11.103Z"
   },
   {
    "duration": 18,
    "start_time": "2022-12-28T13:35:16.521Z"
   },
   {
    "duration": 15,
    "start_time": "2022-12-28T13:35:25.410Z"
   },
   {
    "duration": 5,
    "start_time": "2022-12-28T13:37:02.852Z"
   },
   {
    "duration": 126,
    "start_time": "2022-12-28T13:37:24.835Z"
   },
   {
    "duration": 14,
    "start_time": "2022-12-28T13:38:47.107Z"
   },
   {
    "duration": 322,
    "start_time": "2022-12-28T13:38:58.735Z"
   },
   {
    "duration": 313,
    "start_time": "2022-12-28T13:39:41.362Z"
   },
   {
    "duration": 446,
    "start_time": "2022-12-28T13:40:19.151Z"
   },
   {
    "duration": 330,
    "start_time": "2022-12-28T13:40:39.047Z"
   },
   {
    "duration": 321,
    "start_time": "2022-12-28T13:41:07.909Z"
   },
   {
    "duration": 338,
    "start_time": "2022-12-28T13:41:15.978Z"
   },
   {
    "duration": 358,
    "start_time": "2022-12-28T13:41:21.849Z"
   },
   {
    "duration": 346,
    "start_time": "2022-12-28T13:41:29.613Z"
   },
   {
    "duration": 479,
    "start_time": "2022-12-28T13:42:35.713Z"
   },
   {
    "duration": 327,
    "start_time": "2022-12-28T13:42:44.711Z"
   },
   {
    "duration": 335,
    "start_time": "2022-12-28T13:42:57.330Z"
   },
   {
    "duration": 334,
    "start_time": "2022-12-28T13:43:18.570Z"
   },
   {
    "duration": 337,
    "start_time": "2022-12-28T13:43:51.633Z"
   },
   {
    "duration": 460,
    "start_time": "2022-12-28T13:45:08.435Z"
   },
   {
    "duration": 323,
    "start_time": "2022-12-28T13:45:15.483Z"
   },
   {
    "duration": 332,
    "start_time": "2022-12-28T13:45:26.973Z"
   },
   {
    "duration": 327,
    "start_time": "2022-12-28T13:45:36.235Z"
   },
   {
    "duration": 325,
    "start_time": "2022-12-28T13:46:14.914Z"
   },
   {
    "duration": 343,
    "start_time": "2022-12-28T13:46:34.717Z"
   },
   {
    "duration": 496,
    "start_time": "2022-12-28T13:46:41.421Z"
   },
   {
    "duration": 375,
    "start_time": "2022-12-28T13:46:45.712Z"
   },
   {
    "duration": 314,
    "start_time": "2022-12-28T13:46:53.166Z"
   },
   {
    "duration": 313,
    "start_time": "2022-12-28T13:46:58.493Z"
   },
   {
    "duration": 340,
    "start_time": "2022-12-28T13:47:02.077Z"
   },
   {
    "duration": 428,
    "start_time": "2022-12-28T13:47:37.613Z"
   },
   {
    "duration": 365,
    "start_time": "2022-12-28T13:47:45.504Z"
   },
   {
    "duration": 464,
    "start_time": "2022-12-28T13:48:01.863Z"
   },
   {
    "duration": 487,
    "start_time": "2022-12-28T13:48:11.222Z"
   },
   {
    "duration": 601,
    "start_time": "2022-12-28T13:48:14.911Z"
   },
   {
    "duration": 158,
    "start_time": "2022-12-28T13:58:35.846Z"
   },
   {
    "duration": 187,
    "start_time": "2022-12-28T13:58:44.678Z"
   },
   {
    "duration": 2358,
    "start_time": "2022-12-28T13:59:52.304Z"
   },
   {
    "duration": 6,
    "start_time": "2022-12-28T14:00:10.425Z"
   },
   {
    "duration": 2220,
    "start_time": "2022-12-28T14:00:14.495Z"
   },
   {
    "duration": 717,
    "start_time": "2022-12-28T14:03:47.097Z"
   },
   {
    "duration": 4,
    "start_time": "2022-12-28T14:05:31.899Z"
   },
   {
    "duration": 5,
    "start_time": "2022-12-28T14:05:38.347Z"
   },
   {
    "duration": 4,
    "start_time": "2022-12-28T14:05:38.994Z"
   },
   {
    "duration": 4,
    "start_time": "2022-12-28T14:05:41.538Z"
   },
   {
    "duration": 556,
    "start_time": "2022-12-28T14:05:43.189Z"
   },
   {
    "duration": 4,
    "start_time": "2022-12-28T14:07:58.740Z"
   },
   {
    "duration": 4,
    "start_time": "2022-12-28T14:08:03.901Z"
   },
   {
    "duration": 695,
    "start_time": "2022-12-28T14:08:04.986Z"
   },
   {
    "duration": 697,
    "start_time": "2022-12-28T14:08:24.985Z"
   },
   {
    "duration": 241,
    "start_time": "2022-12-28T14:09:12.575Z"
   },
   {
    "duration": 800,
    "start_time": "2022-12-28T14:09:18.493Z"
   },
   {
    "duration": 744,
    "start_time": "2022-12-28T14:09:44.166Z"
   },
   {
    "duration": 681,
    "start_time": "2022-12-28T14:09:56.122Z"
   },
   {
    "duration": 1731,
    "start_time": "2022-12-28T14:11:18.168Z"
   },
   {
    "duration": 774,
    "start_time": "2022-12-28T14:11:25.263Z"
   },
   {
    "duration": 920,
    "start_time": "2022-12-28T14:12:02.800Z"
   },
   {
    "duration": 719,
    "start_time": "2022-12-28T14:12:26.515Z"
   },
   {
    "duration": 772,
    "start_time": "2022-12-28T14:12:30.953Z"
   },
   {
    "duration": 687,
    "start_time": "2022-12-28T14:12:33.729Z"
   },
   {
    "duration": 5,
    "start_time": "2022-12-28T14:12:40.474Z"
   },
   {
    "duration": 700,
    "start_time": "2022-12-28T14:12:42.769Z"
   },
   {
    "duration": 710,
    "start_time": "2022-12-28T14:12:52.873Z"
   },
   {
    "duration": 4,
    "start_time": "2022-12-28T14:12:57.521Z"
   },
   {
    "duration": 844,
    "start_time": "2022-12-28T14:12:59.329Z"
   },
   {
    "duration": 2567,
    "start_time": "2022-12-28T14:13:07.237Z"
   },
   {
    "duration": 1487,
    "start_time": "2022-12-28T14:13:09.806Z"
   },
   {
    "duration": 3,
    "start_time": "2022-12-28T14:13:11.295Z"
   },
   {
    "duration": 302,
    "start_time": "2022-12-28T14:13:11.300Z"
   },
   {
    "duration": 103,
    "start_time": "2022-12-28T14:13:11.604Z"
   },
   {
    "duration": 10,
    "start_time": "2022-12-28T14:13:11.708Z"
   },
   {
    "duration": 70,
    "start_time": "2022-12-28T14:13:11.719Z"
   },
   {
    "duration": 1001,
    "start_time": "2022-12-28T14:13:11.791Z"
   },
   {
    "duration": 23,
    "start_time": "2022-12-28T14:13:12.794Z"
   },
   {
    "duration": 164,
    "start_time": "2022-12-28T14:13:12.819Z"
   },
   {
    "duration": 4,
    "start_time": "2022-12-28T14:13:12.984Z"
   },
   {
    "duration": 13,
    "start_time": "2022-12-28T14:13:12.989Z"
   },
   {
    "duration": 4,
    "start_time": "2022-12-28T14:13:13.004Z"
   },
   {
    "duration": 72,
    "start_time": "2022-12-28T14:13:13.010Z"
   },
   {
    "duration": 14,
    "start_time": "2022-12-28T14:13:13.084Z"
   },
   {
    "duration": 641,
    "start_time": "2022-12-28T14:13:13.100Z"
   },
   {
    "duration": 4,
    "start_time": "2022-12-28T14:13:13.742Z"
   },
   {
    "duration": 719,
    "start_time": "2022-12-28T14:13:13.748Z"
   },
   {
    "duration": 766,
    "start_time": "2022-12-28T14:14:21.835Z"
   },
   {
    "duration": 716,
    "start_time": "2022-12-28T14:14:40.122Z"
   },
   {
    "duration": 717,
    "start_time": "2022-12-28T14:15:02.492Z"
   },
   {
    "duration": 1813,
    "start_time": "2022-12-28T14:19:28.263Z"
   },
   {
    "duration": 64,
    "start_time": "2022-12-28T14:19:51.344Z"
   },
   {
    "duration": 45,
    "start_time": "2022-12-28T14:19:59.889Z"
   },
   {
    "duration": 1810,
    "start_time": "2022-12-28T14:20:07.929Z"
   },
   {
    "duration": 1711,
    "start_time": "2022-12-28T14:20:31.745Z"
   },
   {
    "duration": 1822,
    "start_time": "2022-12-28T14:21:15.243Z"
   },
   {
    "duration": 1735,
    "start_time": "2022-12-28T14:22:50.939Z"
   },
   {
    "duration": 1777,
    "start_time": "2022-12-28T14:24:21.964Z"
   },
   {
    "duration": 1881,
    "start_time": "2022-12-28T14:24:32.092Z"
   },
   {
    "duration": 1751,
    "start_time": "2022-12-28T14:25:35.991Z"
   },
   {
    "duration": 436,
    "start_time": "2022-12-28T14:26:41.295Z"
   },
   {
    "duration": 112,
    "start_time": "2022-12-28T14:26:55.297Z"
   },
   {
    "duration": 1972,
    "start_time": "2022-12-28T14:27:01.511Z"
   },
   {
    "duration": 4,
    "start_time": "2022-12-28T14:30:20.521Z"
   },
   {
    "duration": 1784,
    "start_time": "2022-12-28T14:30:23.857Z"
   },
   {
    "duration": 1944,
    "start_time": "2022-12-28T14:30:38.529Z"
   },
   {
    "duration": 1839,
    "start_time": "2022-12-28T14:30:46.713Z"
   },
   {
    "duration": 658,
    "start_time": "2022-12-28T14:31:27.905Z"
   },
   {
    "duration": 1828,
    "start_time": "2022-12-28T14:31:48.243Z"
   },
   {
    "duration": 1349,
    "start_time": "2022-12-28T14:31:57.547Z"
   },
   {
    "duration": 1864,
    "start_time": "2022-12-28T14:32:09.218Z"
   },
   {
    "duration": 560,
    "start_time": "2022-12-28T14:33:08.115Z"
   },
   {
    "duration": 399,
    "start_time": "2022-12-28T14:37:33.883Z"
   },
   {
    "duration": 64,
    "start_time": "2022-12-28T14:38:15.291Z"
   },
   {
    "duration": 524,
    "start_time": "2022-12-28T14:38:16.975Z"
   },
   {
    "duration": 45,
    "start_time": "2022-12-28T14:38:29.792Z"
   },
   {
    "duration": 2024,
    "start_time": "2022-12-28T14:40:00.586Z"
   },
   {
    "duration": 1789,
    "start_time": "2022-12-28T14:40:25.802Z"
   },
   {
    "duration": 1819,
    "start_time": "2022-12-28T14:40:46.581Z"
   },
   {
    "duration": 5,
    "start_time": "2022-12-28T14:47:47.279Z"
   },
   {
    "duration": 4,
    "start_time": "2022-12-28T14:48:21.508Z"
   },
   {
    "duration": 1896,
    "start_time": "2022-12-28T14:48:21.906Z"
   },
   {
    "duration": 5,
    "start_time": "2022-12-28T14:48:38.886Z"
   },
   {
    "duration": 1770,
    "start_time": "2022-12-28T14:48:39.442Z"
   },
   {
    "duration": 2038,
    "start_time": "2022-12-28T14:48:59.114Z"
   },
   {
    "duration": 51,
    "start_time": "2022-12-28T17:15:44.491Z"
   },
   {
    "duration": 2271,
    "start_time": "2022-12-28T17:15:51.306Z"
   },
   {
    "duration": 1857,
    "start_time": "2022-12-28T17:15:53.579Z"
   },
   {
    "duration": 3,
    "start_time": "2022-12-28T17:15:55.438Z"
   },
   {
    "duration": 169,
    "start_time": "2022-12-28T17:15:55.443Z"
   },
   {
    "duration": 69,
    "start_time": "2022-12-28T17:15:55.614Z"
   },
   {
    "duration": 11,
    "start_time": "2022-12-28T17:15:55.684Z"
   },
   {
    "duration": 6,
    "start_time": "2022-12-28T17:15:55.697Z"
   },
   {
    "duration": 536,
    "start_time": "2022-12-28T17:15:55.705Z"
   },
   {
    "duration": 25,
    "start_time": "2022-12-28T17:15:56.243Z"
   },
   {
    "duration": 81,
    "start_time": "2022-12-28T17:15:56.270Z"
   },
   {
    "duration": 5,
    "start_time": "2022-12-28T17:15:56.353Z"
   },
   {
    "duration": 20,
    "start_time": "2022-12-28T17:15:56.359Z"
   },
   {
    "duration": 5,
    "start_time": "2022-12-28T17:15:56.381Z"
   },
   {
    "duration": 17,
    "start_time": "2022-12-28T17:15:56.388Z"
   },
   {
    "duration": 16,
    "start_time": "2022-12-28T17:15:56.407Z"
   },
   {
    "duration": 124,
    "start_time": "2022-12-28T17:15:56.451Z"
   },
   {
    "duration": 0,
    "start_time": "2022-12-28T17:15:56.577Z"
   },
   {
    "duration": 0,
    "start_time": "2022-12-28T17:15:56.578Z"
   },
   {
    "duration": 1882,
    "start_time": "2022-12-28T17:16:59.291Z"
   },
   {
    "duration": 1910,
    "start_time": "2022-12-28T17:17:07.384Z"
   },
   {
    "duration": 1798,
    "start_time": "2022-12-28T17:17:17.277Z"
   },
   {
    "duration": 2294,
    "start_time": "2022-12-28T17:17:23.483Z"
   },
   {
    "duration": 1834,
    "start_time": "2022-12-28T17:17:34.075Z"
   },
   {
    "duration": 1840,
    "start_time": "2022-12-28T17:17:40.810Z"
   },
   {
    "duration": 1820,
    "start_time": "2022-12-28T17:17:50.152Z"
   },
   {
    "duration": 1885,
    "start_time": "2022-12-28T17:18:01.220Z"
   },
   {
    "duration": 1823,
    "start_time": "2022-12-28T17:18:07.545Z"
   },
   {
    "duration": 1916,
    "start_time": "2022-12-28T17:18:14.282Z"
   },
   {
    "duration": 1858,
    "start_time": "2022-12-28T17:18:19.703Z"
   },
   {
    "duration": 6,
    "start_time": "2022-12-28T17:20:21.920Z"
   },
   {
    "duration": 5,
    "start_time": "2022-12-28T17:20:57.608Z"
   },
   {
    "duration": 10,
    "start_time": "2022-12-28T17:20:57.978Z"
   },
   {
    "duration": 11,
    "start_time": "2022-12-28T17:20:58.314Z"
   },
   {
    "duration": 10,
    "start_time": "2022-12-28T17:20:58.614Z"
   },
   {
    "duration": 5,
    "start_time": "2022-12-28T17:21:09.624Z"
   },
   {
    "duration": 1771,
    "start_time": "2022-12-28T17:21:09.883Z"
   },
   {
    "duration": 1903,
    "start_time": "2022-12-28T17:21:11.656Z"
   },
   {
    "duration": 1833,
    "start_time": "2022-12-28T17:21:13.561Z"
   },
   {
    "duration": 1941,
    "start_time": "2022-12-28T17:21:23.810Z"
   },
   {
    "duration": 1876,
    "start_time": "2022-12-28T17:21:37.966Z"
   },
   {
    "duration": 1922,
    "start_time": "2022-12-28T17:21:48.681Z"
   },
   {
    "duration": 7,
    "start_time": "2022-12-28T17:22:14.646Z"
   },
   {
    "duration": 1677,
    "start_time": "2022-12-28T17:22:22.539Z"
   },
   {
    "duration": 737,
    "start_time": "2022-12-28T17:22:24.219Z"
   },
   {
    "duration": 3,
    "start_time": "2022-12-28T17:22:24.958Z"
   },
   {
    "duration": 197,
    "start_time": "2022-12-28T17:22:24.963Z"
   },
   {
    "duration": 54,
    "start_time": "2022-12-28T17:22:25.162Z"
   },
   {
    "duration": 40,
    "start_time": "2022-12-28T17:22:25.218Z"
   },
   {
    "duration": 13,
    "start_time": "2022-12-28T17:22:25.260Z"
   },
   {
    "duration": 549,
    "start_time": "2022-12-28T17:22:25.275Z"
   },
   {
    "duration": 38,
    "start_time": "2022-12-28T17:22:25.826Z"
   },
   {
    "duration": 58,
    "start_time": "2022-12-28T17:22:25.867Z"
   },
   {
    "duration": 5,
    "start_time": "2022-12-28T17:22:25.951Z"
   },
   {
    "duration": 18,
    "start_time": "2022-12-28T17:22:25.958Z"
   },
   {
    "duration": 6,
    "start_time": "2022-12-28T17:22:25.978Z"
   },
   {
    "duration": 19,
    "start_time": "2022-12-28T17:22:25.986Z"
   },
   {
    "duration": 44,
    "start_time": "2022-12-28T17:22:26.007Z"
   },
   {
    "duration": 7,
    "start_time": "2022-12-28T17:22:26.053Z"
   },
   {
    "duration": 1838,
    "start_time": "2022-12-28T17:22:26.062Z"
   },
   {
    "duration": 1969,
    "start_time": "2022-12-28T17:22:27.902Z"
   },
   {
    "duration": 1932,
    "start_time": "2022-12-28T17:22:29.873Z"
   },
   {
    "duration": 6,
    "start_time": "2022-12-28T17:23:17.188Z"
   },
   {
    "duration": 1946,
    "start_time": "2022-12-28T17:23:18.407Z"
   },
   {
    "duration": 6,
    "start_time": "2022-12-28T17:23:27.044Z"
   },
   {
    "duration": 1885,
    "start_time": "2022-12-28T17:23:31.938Z"
   },
   {
    "duration": 7,
    "start_time": "2022-12-28T17:23:40.184Z"
   },
   {
    "duration": 1960,
    "start_time": "2022-12-28T17:23:45.059Z"
   },
   {
    "duration": 6,
    "start_time": "2022-12-28T17:23:53.431Z"
   },
   {
    "duration": 1785,
    "start_time": "2022-12-28T17:23:53.677Z"
   },
   {
    "duration": 1900,
    "start_time": "2022-12-28T17:23:55.464Z"
   },
   {
    "duration": 1821,
    "start_time": "2022-12-28T17:23:57.366Z"
   },
   {
    "duration": 5,
    "start_time": "2022-12-28T17:35:22.163Z"
   },
   {
    "duration": 319,
    "start_time": "2022-12-28T17:35:22.687Z"
   },
   {
    "duration": 5,
    "start_time": "2022-12-28T17:35:31.014Z"
   },
   {
    "duration": 1891,
    "start_time": "2022-12-28T17:35:31.754Z"
   },
   {
    "duration": 1801,
    "start_time": "2022-12-28T17:37:14.805Z"
   },
   {
    "duration": 1901,
    "start_time": "2022-12-28T17:37:25.564Z"
   },
   {
    "duration": 1780,
    "start_time": "2022-12-28T17:37:52.816Z"
   },
   {
    "duration": 1873,
    "start_time": "2022-12-28T17:37:58.733Z"
   },
   {
    "duration": 2020,
    "start_time": "2022-12-28T17:38:21.782Z"
   },
   {
    "duration": 1776,
    "start_time": "2022-12-28T17:38:40.093Z"
   },
   {
    "duration": 2170,
    "start_time": "2022-12-28T17:38:58.679Z"
   },
   {
    "duration": 1832,
    "start_time": "2022-12-28T17:39:04.881Z"
   },
   {
    "duration": 2052,
    "start_time": "2022-12-28T17:39:23.691Z"
   },
   {
    "duration": 7,
    "start_time": "2022-12-28T17:39:53.985Z"
   },
   {
    "duration": 1803,
    "start_time": "2022-12-28T17:39:54.474Z"
   },
   {
    "duration": 1943,
    "start_time": "2022-12-28T17:39:58.492Z"
   },
   {
    "duration": 1876,
    "start_time": "2022-12-28T17:40:00.437Z"
   },
   {
    "duration": 7,
    "start_time": "2022-12-28T17:40:42.537Z"
   },
   {
    "duration": 2031,
    "start_time": "2022-12-28T17:40:42.945Z"
   },
   {
    "duration": 7,
    "start_time": "2022-12-28T17:40:51.801Z"
   },
   {
    "duration": 1901,
    "start_time": "2022-12-28T17:40:52.088Z"
   },
   {
    "duration": 2051,
    "start_time": "2022-12-28T17:41:05.148Z"
   },
   {
    "duration": 2057,
    "start_time": "2022-12-28T17:41:07.201Z"
   },
   {
    "duration": 8,
    "start_time": "2022-12-28T17:42:02.933Z"
   },
   {
    "duration": 1783,
    "start_time": "2022-12-28T17:42:03.317Z"
   },
   {
    "duration": 1989,
    "start_time": "2022-12-28T17:42:05.102Z"
   },
   {
    "duration": 1840,
    "start_time": "2022-12-28T17:42:07.092Z"
   },
   {
    "duration": 8,
    "start_time": "2022-12-28T17:42:16.390Z"
   },
   {
    "duration": 1908,
    "start_time": "2022-12-28T17:42:16.564Z"
   },
   {
    "duration": 6,
    "start_time": "2022-12-28T17:42:23.019Z"
   },
   {
    "duration": 2082,
    "start_time": "2022-12-28T17:42:23.239Z"
   },
   {
    "duration": 12,
    "start_time": "2022-12-28T17:42:29.739Z"
   },
   {
    "duration": 1998,
    "start_time": "2022-12-28T17:42:29.983Z"
   },
   {
    "duration": 1833,
    "start_time": "2022-12-28T17:42:34.490Z"
   },
   {
    "duration": 2015,
    "start_time": "2022-12-28T17:42:36.325Z"
   },
   {
    "duration": 6,
    "start_time": "2022-12-28T17:52:30.030Z"
   },
   {
    "duration": 1614,
    "start_time": "2022-12-28T17:52:30.222Z"
   },
   {
    "duration": 1602,
    "start_time": "2022-12-28T17:52:31.839Z"
   },
   {
    "duration": 1602,
    "start_time": "2022-12-28T17:52:33.443Z"
   },
   {
    "duration": 70,
    "start_time": "2022-12-28T17:55:20.318Z"
   },
   {
    "duration": 879,
    "start_time": "2022-12-28T17:55:24.706Z"
   },
   {
    "duration": 608,
    "start_time": "2022-12-28T17:55:36.679Z"
   },
   {
    "duration": 621,
    "start_time": "2022-12-28T17:55:41.484Z"
   },
   {
    "duration": 526,
    "start_time": "2022-12-28T17:55:47.445Z"
   },
   {
    "duration": 549,
    "start_time": "2022-12-28T17:56:00.332Z"
   },
   {
    "duration": 585,
    "start_time": "2022-12-28T17:56:08.380Z"
   },
   {
    "duration": 663,
    "start_time": "2022-12-28T17:56:14.819Z"
   },
   {
    "duration": 634,
    "start_time": "2022-12-28T17:56:20.457Z"
   },
   {
    "duration": 577,
    "start_time": "2022-12-28T17:56:28.314Z"
   },
   {
    "duration": 614,
    "start_time": "2022-12-28T17:56:34.387Z"
   },
   {
    "duration": 673,
    "start_time": "2022-12-28T17:56:40.221Z"
   },
   {
    "duration": 752,
    "start_time": "2022-12-28T17:56:44.689Z"
   },
   {
    "duration": 710,
    "start_time": "2022-12-28T17:56:55.478Z"
   },
   {
    "duration": 565,
    "start_time": "2022-12-28T17:57:00.731Z"
   },
   {
    "duration": 73,
    "start_time": "2022-12-28T17:58:16.246Z"
   },
   {
    "duration": 569,
    "start_time": "2022-12-28T17:58:46.642Z"
   },
   {
    "duration": 661,
    "start_time": "2022-12-28T17:59:03.702Z"
   },
   {
    "duration": 830,
    "start_time": "2022-12-28T17:59:32.958Z"
   },
   {
    "duration": 682,
    "start_time": "2022-12-28T17:59:38.335Z"
   },
   {
    "duration": 815,
    "start_time": "2022-12-28T18:00:33.163Z"
   },
   {
    "duration": 611,
    "start_time": "2022-12-28T18:00:37.384Z"
   },
   {
    "duration": 6,
    "start_time": "2022-12-28T18:01:24.231Z"
   },
   {
    "duration": 6,
    "start_time": "2022-12-28T18:01:33.718Z"
   },
   {
    "duration": 11,
    "start_time": "2022-12-28T18:02:38.078Z"
   },
   {
    "duration": 712,
    "start_time": "2022-12-28T18:02:49.486Z"
   },
   {
    "duration": 700,
    "start_time": "2022-12-28T18:03:06.370Z"
   },
   {
    "duration": 1128,
    "start_time": "2022-12-28T18:03:12.731Z"
   },
   {
    "duration": 819,
    "start_time": "2022-12-28T18:03:19.319Z"
   },
   {
    "duration": 728,
    "start_time": "2022-12-28T18:04:24.133Z"
   },
   {
    "duration": 680,
    "start_time": "2022-12-28T18:04:53.045Z"
   },
   {
    "duration": 636,
    "start_time": "2022-12-28T18:05:07.297Z"
   },
   {
    "duration": 572,
    "start_time": "2022-12-28T18:06:41.004Z"
   },
   {
    "duration": 867,
    "start_time": "2022-12-28T18:06:49.991Z"
   },
   {
    "duration": 599,
    "start_time": "2022-12-28T18:07:02.788Z"
   },
   {
    "duration": 561,
    "start_time": "2022-12-28T18:07:33.228Z"
   },
   {
    "duration": 685,
    "start_time": "2022-12-28T18:07:37.232Z"
   },
   {
    "duration": 561,
    "start_time": "2022-12-28T18:08:13.941Z"
   },
   {
    "duration": 929,
    "start_time": "2022-12-28T18:08:29.949Z"
   },
   {
    "duration": 72,
    "start_time": "2022-12-28T18:10:09.547Z"
   },
   {
    "duration": 9,
    "start_time": "2022-12-28T18:18:32.883Z"
   },
   {
    "duration": 177,
    "start_time": "2022-12-28T18:18:38.201Z"
   },
   {
    "duration": 8,
    "start_time": "2022-12-28T18:21:05.780Z"
   },
   {
    "duration": 8,
    "start_time": "2022-12-28T18:21:40.847Z"
   },
   {
    "duration": 6,
    "start_time": "2022-12-28T18:22:13.512Z"
   },
   {
    "duration": 7,
    "start_time": "2022-12-28T18:22:26.024Z"
   },
   {
    "duration": 9,
    "start_time": "2022-12-28T18:22:30.435Z"
   },
   {
    "duration": 1598,
    "start_time": "2022-12-28T18:23:35.911Z"
   },
   {
    "duration": 12,
    "start_time": "2022-12-28T18:25:08.475Z"
   },
   {
    "duration": 7,
    "start_time": "2022-12-28T18:25:11.481Z"
   },
   {
    "duration": 231,
    "start_time": "2022-12-28T18:25:13.522Z"
   },
   {
    "duration": 5,
    "start_time": "2022-12-28T18:25:26.236Z"
   },
   {
    "duration": 546,
    "start_time": "2022-12-28T18:25:26.983Z"
   },
   {
    "duration": 4,
    "start_time": "2022-12-28T18:25:55.840Z"
   },
   {
    "duration": 508,
    "start_time": "2022-12-28T18:25:56.333Z"
   },
   {
    "duration": 5,
    "start_time": "2022-12-28T18:26:58.574Z"
   },
   {
    "duration": 685,
    "start_time": "2022-12-28T18:27:01.154Z"
   },
   {
    "duration": 6,
    "start_time": "2022-12-28T18:27:17.851Z"
   },
   {
    "duration": 589,
    "start_time": "2022-12-28T18:27:18.940Z"
   },
   {
    "duration": 6,
    "start_time": "2022-12-28T18:27:35.909Z"
   },
   {
    "duration": 495,
    "start_time": "2022-12-28T18:27:36.275Z"
   },
   {
    "duration": 5,
    "start_time": "2022-12-28T18:27:56.129Z"
   },
   {
    "duration": 636,
    "start_time": "2022-12-28T18:27:57.040Z"
   },
   {
    "duration": 5,
    "start_time": "2022-12-28T18:28:47.303Z"
   },
   {
    "duration": 539,
    "start_time": "2022-12-28T18:28:48.212Z"
   },
   {
    "duration": 569,
    "start_time": "2022-12-28T18:29:29.042Z"
   },
   {
    "duration": 580,
    "start_time": "2022-12-28T18:30:11.260Z"
   },
   {
    "duration": 739,
    "start_time": "2022-12-28T18:30:30.141Z"
   },
   {
    "duration": 863,
    "start_time": "2022-12-28T18:31:01.040Z"
   },
   {
    "duration": 709,
    "start_time": "2022-12-28T18:31:09.590Z"
   },
   {
    "duration": 542,
    "start_time": "2022-12-28T18:31:18.061Z"
   },
   {
    "duration": 729,
    "start_time": "2022-12-28T18:31:22.517Z"
   },
   {
    "duration": 749,
    "start_time": "2022-12-28T18:31:37.520Z"
   },
   {
    "duration": 428,
    "start_time": "2022-12-28T18:32:17.438Z"
   },
   {
    "duration": 566,
    "start_time": "2022-12-28T18:32:31.644Z"
   },
   {
    "duration": 703,
    "start_time": "2022-12-28T18:32:37.807Z"
   },
   {
    "duration": 409,
    "start_time": "2022-12-28T18:33:46.845Z"
   },
   {
    "duration": 550,
    "start_time": "2022-12-28T18:33:57.379Z"
   },
   {
    "duration": 569,
    "start_time": "2022-12-28T18:34:07.576Z"
   },
   {
    "duration": 27,
    "start_time": "2022-12-28T18:34:30.904Z"
   },
   {
    "duration": 20,
    "start_time": "2022-12-28T18:34:33.999Z"
   },
   {
    "duration": 751,
    "start_time": "2022-12-28T18:34:40.710Z"
   },
   {
    "duration": 846,
    "start_time": "2022-12-28T18:39:39.682Z"
   },
   {
    "duration": 616,
    "start_time": "2022-12-28T18:40:29.202Z"
   },
   {
    "duration": 681,
    "start_time": "2022-12-28T18:40:47.999Z"
   },
   {
    "duration": 552,
    "start_time": "2022-12-28T18:41:07.057Z"
   },
   {
    "duration": 672,
    "start_time": "2022-12-28T18:41:22.383Z"
   },
   {
    "duration": 588,
    "start_time": "2022-12-28T18:41:28.957Z"
   },
   {
    "duration": 852,
    "start_time": "2022-12-28T18:41:34.835Z"
   },
   {
    "duration": 593,
    "start_time": "2022-12-28T18:41:41.180Z"
   },
   {
    "duration": 559,
    "start_time": "2022-12-28T18:42:01.089Z"
   },
   {
    "duration": 23,
    "start_time": "2022-12-28T18:44:34.829Z"
   },
   {
    "duration": 665,
    "start_time": "2022-12-28T18:44:38.030Z"
   },
   {
    "duration": 5,
    "start_time": "2022-12-28T18:44:46.881Z"
   },
   {
    "duration": 1510,
    "start_time": "2022-12-28T18:44:47.790Z"
   },
   {
    "duration": 8,
    "start_time": "2022-12-28T18:44:51.798Z"
   },
   {
    "duration": 1668,
    "start_time": "2022-12-28T18:44:51.997Z"
   },
   {
    "duration": 1691,
    "start_time": "2022-12-28T18:44:53.668Z"
   },
   {
    "duration": 2127,
    "start_time": "2022-12-28T18:44:55.361Z"
   },
   {
    "duration": 712,
    "start_time": "2022-12-28T18:44:57.491Z"
   },
   {
    "duration": 8,
    "start_time": "2022-12-28T18:44:58.205Z"
   },
   {
    "duration": 572,
    "start_time": "2022-12-28T18:44:58.215Z"
   },
   {
    "duration": 13,
    "start_time": "2022-12-28T18:52:02.163Z"
   },
   {
    "duration": 55,
    "start_time": "2022-12-28T18:55:16.497Z"
   },
   {
    "duration": 2190,
    "start_time": "2022-12-28T18:57:18.170Z"
   },
   {
    "duration": 1235,
    "start_time": "2022-12-28T18:57:20.363Z"
   },
   {
    "duration": 3,
    "start_time": "2022-12-28T18:57:21.600Z"
   },
   {
    "duration": 196,
    "start_time": "2022-12-28T18:57:21.605Z"
   },
   {
    "duration": 68,
    "start_time": "2022-12-28T18:57:21.803Z"
   },
   {
    "duration": 10,
    "start_time": "2022-12-28T18:57:21.873Z"
   },
   {
    "duration": 23,
    "start_time": "2022-12-28T18:57:21.884Z"
   },
   {
    "duration": 549,
    "start_time": "2022-12-28T18:57:21.909Z"
   },
   {
    "duration": 24,
    "start_time": "2022-12-28T18:57:22.460Z"
   },
   {
    "duration": 97,
    "start_time": "2022-12-28T18:57:22.487Z"
   },
   {
    "duration": 4,
    "start_time": "2022-12-28T18:57:22.586Z"
   },
   {
    "duration": 28,
    "start_time": "2022-12-28T18:57:22.593Z"
   },
   {
    "duration": 27,
    "start_time": "2022-12-28T18:57:22.626Z"
   },
   {
    "duration": 30,
    "start_time": "2022-12-28T18:57:22.655Z"
   },
   {
    "duration": 62,
    "start_time": "2022-12-28T18:57:22.687Z"
   },
   {
    "duration": 41,
    "start_time": "2022-12-28T18:57:22.751Z"
   },
   {
    "duration": 1847,
    "start_time": "2022-12-28T18:57:22.794Z"
   },
   {
    "duration": 1686,
    "start_time": "2022-12-28T18:57:24.643Z"
   },
   {
    "duration": 1623,
    "start_time": "2022-12-28T18:57:26.330Z"
   },
   {
    "duration": 535,
    "start_time": "2022-12-28T18:57:27.955Z"
   },
   {
    "duration": 7,
    "start_time": "2022-12-28T18:57:28.492Z"
   },
   {
    "duration": 553,
    "start_time": "2022-12-28T18:57:28.501Z"
   },
   {
    "duration": 3,
    "start_time": "2022-12-28T18:57:29.056Z"
   },
   {
    "duration": 10,
    "start_time": "2022-12-29T06:23:12.284Z"
   },
   {
    "duration": 44,
    "start_time": "2022-12-29T06:23:34.952Z"
   },
   {
    "duration": 2542,
    "start_time": "2022-12-29T06:23:42.821Z"
   },
   {
    "duration": 3239,
    "start_time": "2022-12-29T06:23:45.365Z"
   },
   {
    "duration": 3,
    "start_time": "2022-12-29T06:23:48.605Z"
   },
   {
    "duration": 176,
    "start_time": "2022-12-29T06:23:48.610Z"
   },
   {
    "duration": 64,
    "start_time": "2022-12-29T06:23:48.788Z"
   },
   {
    "duration": 8,
    "start_time": "2022-12-29T06:23:48.854Z"
   },
   {
    "duration": 21,
    "start_time": "2022-12-29T06:23:48.863Z"
   },
   {
    "duration": 532,
    "start_time": "2022-12-29T06:23:48.885Z"
   },
   {
    "duration": 26,
    "start_time": "2022-12-29T06:23:49.419Z"
   },
   {
    "duration": 94,
    "start_time": "2022-12-29T06:23:49.449Z"
   },
   {
    "duration": 4,
    "start_time": "2022-12-29T06:23:49.544Z"
   },
   {
    "duration": 20,
    "start_time": "2022-12-29T06:23:49.550Z"
   },
   {
    "duration": 18,
    "start_time": "2022-12-29T06:23:49.572Z"
   },
   {
    "duration": 26,
    "start_time": "2022-12-29T06:23:49.592Z"
   },
   {
    "duration": 16,
    "start_time": "2022-12-29T06:23:49.620Z"
   },
   {
    "duration": 6,
    "start_time": "2022-12-29T06:23:49.638Z"
   },
   {
    "duration": 1754,
    "start_time": "2022-12-29T06:23:49.646Z"
   },
   {
    "duration": 6,
    "start_time": "2022-12-29T06:23:51.402Z"
   },
   {
    "duration": 308,
    "start_time": "2022-12-29T06:23:51.410Z"
   },
   {
    "duration": 0,
    "start_time": "2022-12-29T06:23:51.720Z"
   },
   {
    "duration": 0,
    "start_time": "2022-12-29T06:23:51.722Z"
   },
   {
    "duration": 0,
    "start_time": "2022-12-29T06:23:51.724Z"
   },
   {
    "duration": 0,
    "start_time": "2022-12-29T06:23:51.725Z"
   },
   {
    "duration": 0,
    "start_time": "2022-12-29T06:23:51.726Z"
   },
   {
    "duration": 0,
    "start_time": "2022-12-29T06:23:51.728Z"
   },
   {
    "duration": 5,
    "start_time": "2022-12-29T06:24:05.035Z"
   },
   {
    "duration": 231,
    "start_time": "2022-12-29T06:24:05.586Z"
   },
   {
    "duration": 4,
    "start_time": "2022-12-29T06:24:26.890Z"
   },
   {
    "duration": 220,
    "start_time": "2022-12-29T06:24:27.185Z"
   },
   {
    "duration": 4,
    "start_time": "2022-12-29T06:25:00.763Z"
   },
   {
    "duration": 227,
    "start_time": "2022-12-29T06:25:01.200Z"
   },
   {
    "duration": 1511,
    "start_time": "2022-12-29T06:25:26.909Z"
   },
   {
    "duration": 768,
    "start_time": "2022-12-29T06:25:28.422Z"
   },
   {
    "duration": 2,
    "start_time": "2022-12-29T06:25:29.192Z"
   },
   {
    "duration": 171,
    "start_time": "2022-12-29T06:25:29.196Z"
   },
   {
    "duration": 64,
    "start_time": "2022-12-29T06:25:29.369Z"
   },
   {
    "duration": 9,
    "start_time": "2022-12-29T06:25:29.435Z"
   },
   {
    "duration": 25,
    "start_time": "2022-12-29T06:25:29.445Z"
   },
   {
    "duration": 485,
    "start_time": "2022-12-29T06:25:29.472Z"
   },
   {
    "duration": 25,
    "start_time": "2022-12-29T06:25:29.958Z"
   },
   {
    "duration": 83,
    "start_time": "2022-12-29T06:25:29.986Z"
   },
   {
    "duration": 4,
    "start_time": "2022-12-29T06:25:30.071Z"
   },
   {
    "duration": 40,
    "start_time": "2022-12-29T06:25:30.077Z"
   },
   {
    "duration": 36,
    "start_time": "2022-12-29T06:25:30.119Z"
   },
   {
    "duration": 52,
    "start_time": "2022-12-29T06:25:30.156Z"
   },
   {
    "duration": 36,
    "start_time": "2022-12-29T06:25:30.209Z"
   },
   {
    "duration": 42,
    "start_time": "2022-12-29T06:25:30.247Z"
   },
   {
    "duration": 1646,
    "start_time": "2022-12-29T06:25:30.290Z"
   },
   {
    "duration": 1649,
    "start_time": "2022-12-29T06:25:31.938Z"
   },
   {
    "duration": 1611,
    "start_time": "2022-12-29T06:25:33.589Z"
   },
   {
    "duration": 526,
    "start_time": "2022-12-29T06:25:35.202Z"
   },
   {
    "duration": 8,
    "start_time": "2022-12-29T06:25:35.730Z"
   },
   {
    "duration": 532,
    "start_time": "2022-12-29T06:25:35.741Z"
   },
   {
    "duration": 5,
    "start_time": "2022-12-29T06:25:36.277Z"
   },
   {
    "duration": 121,
    "start_time": "2022-12-29T06:27:06.635Z"
   },
   {
    "duration": 643,
    "start_time": "2022-12-29T06:27:10.654Z"
   },
   {
    "duration": 5,
    "start_time": "2022-12-29T06:32:59.847Z"
   },
   {
    "duration": 9,
    "start_time": "2022-12-29T06:34:55.144Z"
   },
   {
    "duration": 4,
    "start_time": "2022-12-29T06:34:56.482Z"
   },
   {
    "duration": 18,
    "start_time": "2022-12-29T06:35:30.811Z"
   },
   {
    "duration": 4,
    "start_time": "2022-12-29T06:35:31.230Z"
   },
   {
    "duration": 11,
    "start_time": "2022-12-29T06:35:54.939Z"
   },
   {
    "duration": 7,
    "start_time": "2022-12-29T06:35:55.259Z"
   },
   {
    "duration": 539,
    "start_time": "2022-12-29T06:35:55.634Z"
   },
   {
    "duration": 1486,
    "start_time": "2022-12-29T06:36:07.172Z"
   },
   {
    "duration": 1169,
    "start_time": "2022-12-29T06:36:08.661Z"
   },
   {
    "duration": 3,
    "start_time": "2022-12-29T06:36:09.832Z"
   },
   {
    "duration": 380,
    "start_time": "2022-12-29T06:36:09.839Z"
   },
   {
    "duration": 108,
    "start_time": "2022-12-29T06:36:10.222Z"
   },
   {
    "duration": 8,
    "start_time": "2022-12-29T06:36:10.334Z"
   },
   {
    "duration": 8,
    "start_time": "2022-12-29T06:36:10.344Z"
   },
   {
    "duration": 861,
    "start_time": "2022-12-29T06:36:10.354Z"
   },
   {
    "duration": 29,
    "start_time": "2022-12-29T06:36:11.222Z"
   },
   {
    "duration": 95,
    "start_time": "2022-12-29T06:36:11.254Z"
   },
   {
    "duration": 6,
    "start_time": "2022-12-29T06:36:11.352Z"
   },
   {
    "duration": 19,
    "start_time": "2022-12-29T06:36:11.361Z"
   },
   {
    "duration": 32,
    "start_time": "2022-12-29T06:36:11.384Z"
   },
   {
    "duration": 30,
    "start_time": "2022-12-29T06:36:11.418Z"
   },
   {
    "duration": 18,
    "start_time": "2022-12-29T06:36:11.450Z"
   },
   {
    "duration": 8,
    "start_time": "2022-12-29T06:36:11.470Z"
   },
   {
    "duration": 1692,
    "start_time": "2022-12-29T06:36:11.480Z"
   },
   {
    "duration": 1775,
    "start_time": "2022-12-29T06:36:13.174Z"
   },
   {
    "duration": 1631,
    "start_time": "2022-12-29T06:36:14.951Z"
   },
   {
    "duration": 583,
    "start_time": "2022-12-29T06:36:16.584Z"
   },
   {
    "duration": 8,
    "start_time": "2022-12-29T06:36:17.170Z"
   },
   {
    "duration": 596,
    "start_time": "2022-12-29T06:36:17.179Z"
   },
   {
    "duration": 16,
    "start_time": "2022-12-29T06:36:17.777Z"
   },
   {
    "duration": 23,
    "start_time": "2022-12-29T06:36:17.795Z"
   },
   {
    "duration": 689,
    "start_time": "2022-12-29T06:36:17.820Z"
   },
   {
    "duration": 6,
    "start_time": "2022-12-29T06:36:18.510Z"
   },
   {
    "duration": 15,
    "start_time": "2022-12-29T06:38:10.501Z"
   },
   {
    "duration": 7,
    "start_time": "2022-12-29T06:38:24.453Z"
   },
   {
    "duration": 582,
    "start_time": "2022-12-29T06:38:24.733Z"
   },
   {
    "duration": 24,
    "start_time": "2022-12-29T06:42:58.152Z"
   },
   {
    "duration": 18,
    "start_time": "2022-12-29T06:45:49.506Z"
   },
   {
    "duration": 19,
    "start_time": "2022-12-29T06:46:04.411Z"
   },
   {
    "duration": 3,
    "start_time": "2022-12-29T06:57:24.704Z"
   },
   {
    "duration": 120,
    "start_time": "2022-12-29T07:07:27.065Z"
   },
   {
    "duration": 8,
    "start_time": "2022-12-29T07:07:40.855Z"
   },
   {
    "duration": 7,
    "start_time": "2022-12-29T07:08:06.486Z"
   },
   {
    "duration": 7,
    "start_time": "2022-12-29T07:08:37.075Z"
   },
   {
    "duration": 2,
    "start_time": "2022-12-29T07:09:32.160Z"
   },
   {
    "duration": 10,
    "start_time": "2022-12-29T07:10:44.385Z"
   },
   {
    "duration": 4,
    "start_time": "2022-12-29T07:10:55.234Z"
   },
   {
    "duration": 7,
    "start_time": "2022-12-29T07:10:55.745Z"
   },
   {
    "duration": 2,
    "start_time": "2022-12-29T07:10:55.880Z"
   },
   {
    "duration": 4704,
    "start_time": "2022-12-29T07:10:56.059Z"
   },
   {
    "duration": 3,
    "start_time": "2022-12-29T07:12:19.779Z"
   },
   {
    "duration": 7,
    "start_time": "2022-12-29T07:12:20.915Z"
   },
   {
    "duration": 2,
    "start_time": "2022-12-29T07:12:21.098Z"
   },
   {
    "duration": 4541,
    "start_time": "2022-12-29T07:12:21.298Z"
   },
   {
    "duration": 3,
    "start_time": "2022-12-29T07:12:44.348Z"
   },
   {
    "duration": 6,
    "start_time": "2022-12-29T07:12:44.836Z"
   },
   {
    "duration": 3,
    "start_time": "2022-12-29T07:12:45.005Z"
   },
   {
    "duration": 4754,
    "start_time": "2022-12-29T07:12:45.171Z"
   },
   {
    "duration": 9,
    "start_time": "2022-12-29T07:12:49.926Z"
   },
   {
    "duration": 7,
    "start_time": "2022-12-29T07:13:06.491Z"
   },
   {
    "duration": 7,
    "start_time": "2022-12-29T07:13:17.692Z"
   },
   {
    "duration": 3,
    "start_time": "2022-12-29T07:15:17.231Z"
   },
   {
    "duration": 3,
    "start_time": "2022-12-29T07:15:20.277Z"
   },
   {
    "duration": 7,
    "start_time": "2022-12-29T07:15:22.711Z"
   },
   {
    "duration": 4598,
    "start_time": "2022-12-29T07:15:24.718Z"
   },
   {
    "duration": 4826,
    "start_time": "2022-12-29T07:19:00.627Z"
   },
   {
    "duration": 9633,
    "start_time": "2022-12-29T07:19:16.113Z"
   },
   {
    "duration": 9862,
    "start_time": "2022-12-29T07:21:04.432Z"
   },
   {
    "duration": 10112,
    "start_time": "2022-12-29T07:32:16.612Z"
   },
   {
    "duration": 10150,
    "start_time": "2022-12-29T07:32:30.681Z"
   },
   {
    "duration": 4047,
    "start_time": "2022-12-29T07:34:44.337Z"
   },
   {
    "duration": 4013,
    "start_time": "2022-12-29T07:35:09.080Z"
   },
   {
    "duration": 134,
    "start_time": "2022-12-29T07:40:11.603Z"
   },
   {
    "duration": 52,
    "start_time": "2022-12-29T07:40:25.758Z"
   },
   {
    "duration": 9,
    "start_time": "2022-12-29T07:42:30.631Z"
   },
   {
    "duration": 4,
    "start_time": "2022-12-29T07:42:40.783Z"
   },
   {
    "duration": 5,
    "start_time": "2022-12-29T07:43:01.159Z"
   },
   {
    "duration": 80,
    "start_time": "2022-12-29T07:43:05.679Z"
   },
   {
    "duration": 98,
    "start_time": "2022-12-29T07:43:15.679Z"
   },
   {
    "duration": 1772,
    "start_time": "2022-12-29T07:43:36.465Z"
   },
   {
    "duration": 1541,
    "start_time": "2022-12-29T07:43:38.239Z"
   },
   {
    "duration": 2,
    "start_time": "2022-12-29T07:43:39.782Z"
   },
   {
    "duration": 177,
    "start_time": "2022-12-29T07:43:39.787Z"
   },
   {
    "duration": 69,
    "start_time": "2022-12-29T07:43:39.965Z"
   },
   {
    "duration": 8,
    "start_time": "2022-12-29T07:43:40.036Z"
   },
   {
    "duration": 19,
    "start_time": "2022-12-29T07:43:40.045Z"
   },
   {
    "duration": 522,
    "start_time": "2022-12-29T07:43:40.065Z"
   },
   {
    "duration": 58,
    "start_time": "2022-12-29T07:43:40.589Z"
   },
   {
    "duration": 59,
    "start_time": "2022-12-29T07:43:40.650Z"
   },
   {
    "duration": 5,
    "start_time": "2022-12-29T07:43:40.715Z"
   },
   {
    "duration": 25,
    "start_time": "2022-12-29T07:43:40.721Z"
   },
   {
    "duration": 9,
    "start_time": "2022-12-29T07:43:40.748Z"
   },
   {
    "duration": 22,
    "start_time": "2022-12-29T07:43:40.759Z"
   },
   {
    "duration": 17,
    "start_time": "2022-12-29T07:43:40.783Z"
   },
   {
    "duration": 8,
    "start_time": "2022-12-29T07:43:40.802Z"
   },
   {
    "duration": 1764,
    "start_time": "2022-12-29T07:43:40.812Z"
   },
   {
    "duration": 1747,
    "start_time": "2022-12-29T07:43:42.578Z"
   },
   {
    "duration": 1608,
    "start_time": "2022-12-29T07:43:44.331Z"
   },
   {
    "duration": 737,
    "start_time": "2022-12-29T07:43:45.941Z"
   },
   {
    "duration": 8,
    "start_time": "2022-12-29T07:43:46.679Z"
   },
   {
    "duration": 546,
    "start_time": "2022-12-29T07:43:46.688Z"
   },
   {
    "duration": 22,
    "start_time": "2022-12-29T07:43:47.236Z"
   },
   {
    "duration": 4,
    "start_time": "2022-12-29T07:43:47.260Z"
   },
   {
    "duration": 19,
    "start_time": "2022-12-29T07:43:47.265Z"
   },
   {
    "duration": 179,
    "start_time": "2022-12-29T07:43:47.286Z"
   },
   {
    "duration": 4035,
    "start_time": "2022-12-29T07:43:47.467Z"
   },
   {
    "duration": 376216,
    "start_time": "2022-12-29T07:44:52.153Z"
   },
   {
    "duration": 9,
    "start_time": "2022-12-29T07:51:08.371Z"
   },
   {
    "duration": 216310,
    "start_time": "2022-12-29T07:51:29.288Z"
   },
   {
    "duration": 4,
    "start_time": "2022-12-29T07:55:05.600Z"
   },
   {
    "duration": 1440,
    "start_time": "2022-12-29T07:55:32.134Z"
   },
   {
    "duration": 781,
    "start_time": "2022-12-29T07:55:33.576Z"
   },
   {
    "duration": 3,
    "start_time": "2022-12-29T07:55:34.358Z"
   },
   {
    "duration": 180,
    "start_time": "2022-12-29T07:55:34.363Z"
   },
   {
    "duration": 79,
    "start_time": "2022-12-29T07:55:34.545Z"
   },
   {
    "duration": 15,
    "start_time": "2022-12-29T07:55:34.626Z"
   },
   {
    "duration": 9,
    "start_time": "2022-12-29T07:55:34.643Z"
   },
   {
    "duration": 520,
    "start_time": "2022-12-29T07:55:34.654Z"
   },
   {
    "duration": 42,
    "start_time": "2022-12-29T07:55:35.175Z"
   },
   {
    "duration": 63,
    "start_time": "2022-12-29T07:55:35.219Z"
   },
   {
    "duration": 4,
    "start_time": "2022-12-29T07:55:35.284Z"
   },
   {
    "duration": 42,
    "start_time": "2022-12-29T07:55:35.290Z"
   },
   {
    "duration": 18,
    "start_time": "2022-12-29T07:55:35.334Z"
   },
   {
    "duration": 16,
    "start_time": "2022-12-29T07:55:35.355Z"
   },
   {
    "duration": 16,
    "start_time": "2022-12-29T07:55:35.373Z"
   },
   {
    "duration": 37,
    "start_time": "2022-12-29T07:55:35.391Z"
   },
   {
    "duration": 2340,
    "start_time": "2022-12-29T07:55:35.432Z"
   },
   {
    "duration": 2229,
    "start_time": "2022-12-29T07:55:37.774Z"
   },
   {
    "duration": 1533,
    "start_time": "2022-12-29T07:55:40.005Z"
   },
   {
    "duration": 640,
    "start_time": "2022-12-29T07:55:41.540Z"
   },
   {
    "duration": 9,
    "start_time": "2022-12-29T07:55:42.182Z"
   },
   {
    "duration": 608,
    "start_time": "2022-12-29T07:55:42.193Z"
   },
   {
    "duration": 32,
    "start_time": "2022-12-29T07:55:42.803Z"
   },
   {
    "duration": 4,
    "start_time": "2022-12-29T07:55:42.836Z"
   },
   {
    "duration": 12,
    "start_time": "2022-12-29T07:55:42.842Z"
   },
   {
    "duration": 65111,
    "start_time": "2022-12-29T07:55:42.856Z"
   },
   {
    "duration": 135,
    "start_time": "2022-12-29T07:56:47.969Z"
   },
   {
    "duration": 64013,
    "start_time": "2022-12-29T07:57:02.186Z"
   },
   {
    "duration": 159595,
    "start_time": "2022-12-29T08:04:22.430Z"
   },
   {
    "duration": 7,
    "start_time": "2022-12-29T08:07:02.028Z"
   },
   {
    "duration": 157707,
    "start_time": "2022-12-29T08:11:15.359Z"
   },
   {
    "duration": 95285,
    "start_time": "2022-12-29T08:15:16.669Z"
   },
   {
    "duration": 42242,
    "start_time": "2022-12-29T08:20:37.914Z"
   },
   {
    "duration": 41951,
    "start_time": "2022-12-29T08:36:08.354Z"
   },
   {
    "duration": 41856,
    "start_time": "2022-12-29T08:38:43.203Z"
   },
   {
    "duration": 172423,
    "start_time": "2022-12-29T08:39:25.061Z"
   },
   {
    "duration": 9,
    "start_time": "2022-12-29T08:42:52.950Z"
   },
   {
    "duration": 9,
    "start_time": "2022-12-29T08:43:01.105Z"
   },
   {
    "duration": 4,
    "start_time": "2022-12-29T08:43:03.641Z"
   },
   {
    "duration": 172428,
    "start_time": "2022-12-29T08:43:08.811Z"
   },
   {
    "duration": 0,
    "start_time": "2022-12-29T08:46:01.255Z"
   },
   {
    "duration": 12,
    "start_time": "2022-12-29T08:46:08.863Z"
   },
   {
    "duration": 23,
    "start_time": "2022-12-29T08:46:13.800Z"
   },
   {
    "duration": 57,
    "start_time": "2022-12-29T08:47:47.834Z"
   },
   {
    "duration": 74,
    "start_time": "2022-12-29T08:48:03.180Z"
   },
   {
    "duration": 63,
    "start_time": "2022-12-29T08:48:22.732Z"
   },
   {
    "duration": 3640,
    "start_time": "2022-12-29T09:52:25.698Z"
   },
   {
    "duration": 9,
    "start_time": "2022-12-29T09:52:54.387Z"
   },
   {
    "duration": 50,
    "start_time": "2022-12-30T08:38:04.674Z"
   },
   {
    "duration": 3037,
    "start_time": "2022-12-30T09:03:26.936Z"
   },
   {
    "duration": 1585,
    "start_time": "2023-01-01T11:26:09.918Z"
   },
   {
    "duration": 4,
    "start_time": "2023-01-01T11:26:35.508Z"
   },
   {
    "duration": 157,
    "start_time": "2023-01-01T11:27:31.015Z"
   },
   {
    "duration": 1324,
    "start_time": "2023-01-01T11:27:39.913Z"
   },
   {
    "duration": 3071,
    "start_time": "2023-01-01T11:27:41.239Z"
   },
   {
    "duration": 2,
    "start_time": "2023-01-01T11:27:44.312Z"
   },
   {
    "duration": 155,
    "start_time": "2023-01-01T11:27:44.316Z"
   },
   {
    "duration": 61,
    "start_time": "2023-01-01T11:27:44.473Z"
   },
   {
    "duration": 8,
    "start_time": "2023-01-01T11:27:44.535Z"
   },
   {
    "duration": 5,
    "start_time": "2023-01-01T11:27:44.544Z"
   },
   {
    "duration": 477,
    "start_time": "2023-01-01T11:27:44.551Z"
   },
   {
    "duration": 20,
    "start_time": "2023-01-01T11:27:45.030Z"
   },
   {
    "duration": 84,
    "start_time": "2023-01-01T11:27:45.052Z"
   },
   {
    "duration": 4,
    "start_time": "2023-01-01T11:27:45.138Z"
   },
   {
    "duration": 11,
    "start_time": "2023-01-01T11:27:45.143Z"
   },
   {
    "duration": 4,
    "start_time": "2023-01-01T11:27:45.155Z"
   },
   {
    "duration": 14,
    "start_time": "2023-01-01T11:27:45.162Z"
   },
   {
    "duration": 40,
    "start_time": "2023-01-01T11:27:45.178Z"
   },
   {
    "duration": 5,
    "start_time": "2023-01-01T11:27:45.219Z"
   },
   {
    "duration": 1661,
    "start_time": "2023-01-01T11:27:45.226Z"
   },
   {
    "duration": 1654,
    "start_time": "2023-01-01T11:27:46.889Z"
   },
   {
    "duration": 1522,
    "start_time": "2023-01-01T11:27:48.544Z"
   },
   {
    "duration": 524,
    "start_time": "2023-01-01T11:27:50.068Z"
   },
   {
    "duration": 6,
    "start_time": "2023-01-01T11:27:50.594Z"
   },
   {
    "duration": 482,
    "start_time": "2023-01-01T11:27:50.602Z"
   },
   {
    "duration": 28,
    "start_time": "2023-01-01T11:27:51.086Z"
   },
   {
    "duration": 4,
    "start_time": "2023-01-01T11:27:51.115Z"
   },
   {
    "duration": 13,
    "start_time": "2023-01-01T11:27:51.121Z"
   },
   {
    "duration": 124,
    "start_time": "2023-01-01T11:27:51.135Z"
   },
   {
    "duration": 37135,
    "start_time": "2023-01-01T11:27:51.261Z"
   },
   {
    "duration": 154258,
    "start_time": "2023-01-01T11:28:28.398Z"
   },
   {
    "duration": 4169,
    "start_time": "2023-01-01T11:31:02.657Z"
   },
   {
    "duration": 87,
    "start_time": "2023-01-01T11:31:06.831Z"
   },
   {
    "duration": 3514,
    "start_time": "2023-01-01T11:31:06.920Z"
   },
   {
    "duration": 2908,
    "start_time": "2023-01-01T11:34:19.610Z"
   },
   {
    "duration": 613919,
    "start_time": "2023-01-01T11:40:50.166Z"
   },
   {
    "duration": 393798,
    "start_time": "2023-01-01T11:51:07.639Z"
   },
   {
    "duration": 4,
    "start_time": "2023-01-01T11:57:41.439Z"
   },
   {
    "duration": 427706,
    "start_time": "2023-01-01T12:00:00.596Z"
   },
   {
    "duration": 15,
    "start_time": "2023-01-01T12:07:08.304Z"
   },
   {
    "duration": 270327,
    "start_time": "2023-01-01T12:07:52.250Z"
   },
   {
    "duration": 8,
    "start_time": "2023-01-01T12:12:22.579Z"
   },
   {
    "duration": 17,
    "start_time": "2023-01-01T12:12:22.604Z"
   },
   {
    "duration": 4,
    "start_time": "2023-01-01T12:12:37.711Z"
   },
   {
    "duration": 4,
    "start_time": "2023-01-01T12:13:10.829Z"
   },
   {
    "duration": 4,
    "start_time": "2023-01-01T12:13:53.305Z"
   },
   {
    "duration": 7333,
    "start_time": "2023-01-01T12:14:42.468Z"
   },
   {
    "duration": 8,
    "start_time": "2023-01-01T12:18:53.212Z"
   },
   {
    "duration": 7108,
    "start_time": "2023-01-01T12:19:47.688Z"
   },
   {
    "duration": 2988,
    "start_time": "2023-01-01T12:20:07.056Z"
   },
   {
    "duration": 269119,
    "start_time": "2023-01-01T12:20:28.624Z"
   },
   {
    "duration": 5858,
    "start_time": "2023-01-01T12:26:33.893Z"
   },
   {
    "duration": 267614,
    "start_time": "2023-01-01T12:27:17.637Z"
   },
   {
    "duration": 8,
    "start_time": "2023-01-01T12:31:45.253Z"
   },
   {
    "duration": 7208,
    "start_time": "2023-01-01T12:33:31.833Z"
   },
   {
    "duration": 7,
    "start_time": "2023-01-01T12:33:39.043Z"
   },
   {
    "duration": 5,
    "start_time": "2023-01-01T12:35:36.533Z"
   },
   {
    "duration": 1579,
    "start_time": "2023-01-01T12:35:38.068Z"
   },
   {
    "duration": 5,
    "start_time": "2023-01-01T12:35:43.004Z"
   },
   {
    "duration": 1577,
    "start_time": "2023-01-01T12:35:43.269Z"
   },
   {
    "duration": 1322,
    "start_time": "2023-01-01T12:45:27.875Z"
   },
   {
    "duration": 697,
    "start_time": "2023-01-01T12:45:29.199Z"
   },
   {
    "duration": 3,
    "start_time": "2023-01-01T12:45:29.897Z"
   },
   {
    "duration": 237,
    "start_time": "2023-01-01T12:45:29.902Z"
   },
   {
    "duration": 47,
    "start_time": "2023-01-01T12:45:30.141Z"
   },
   {
    "duration": 8,
    "start_time": "2023-01-01T12:45:30.213Z"
   },
   {
    "duration": 58,
    "start_time": "2023-01-01T12:45:30.223Z"
   },
   {
    "duration": 468,
    "start_time": "2023-01-01T12:45:30.283Z"
   },
   {
    "duration": 22,
    "start_time": "2023-01-01T12:45:30.753Z"
   },
   {
    "duration": 85,
    "start_time": "2023-01-01T12:45:30.777Z"
   },
   {
    "duration": 4,
    "start_time": "2023-01-01T12:45:30.863Z"
   },
   {
    "duration": 79,
    "start_time": "2023-01-01T12:45:30.868Z"
   },
   {
    "duration": 26,
    "start_time": "2023-01-01T12:45:30.948Z"
   },
   {
    "duration": 18,
    "start_time": "2023-01-01T12:45:30.976Z"
   },
   {
    "duration": 18,
    "start_time": "2023-01-01T12:45:30.995Z"
   },
   {
    "duration": 7,
    "start_time": "2023-01-01T12:45:31.015Z"
   },
   {
    "duration": 1668,
    "start_time": "2023-01-01T12:45:31.024Z"
   },
   {
    "duration": 1662,
    "start_time": "2023-01-01T12:45:32.693Z"
   },
   {
    "duration": 1601,
    "start_time": "2023-01-01T12:45:34.356Z"
   },
   {
    "duration": 609,
    "start_time": "2023-01-01T12:45:35.958Z"
   },
   {
    "duration": 7,
    "start_time": "2023-01-01T12:45:36.568Z"
   },
   {
    "duration": 490,
    "start_time": "2023-01-01T12:45:36.577Z"
   },
   {
    "duration": 23,
    "start_time": "2023-01-01T12:45:37.069Z"
   },
   {
    "duration": 5,
    "start_time": "2023-01-01T12:45:37.093Z"
   },
   {
    "duration": 13,
    "start_time": "2023-01-01T12:45:37.111Z"
   },
   {
    "duration": 13,
    "start_time": "2023-01-02T08:00:58.873Z"
   },
   {
    "duration": 4,
    "start_time": "2023-01-02T08:00:59.487Z"
   },
   {
    "duration": 3,
    "start_time": "2023-01-02T08:01:00.883Z"
   },
   {
    "duration": 4,
    "start_time": "2023-01-02T08:01:08.945Z"
   },
   {
    "duration": 4,
    "start_time": "2023-01-02T08:01:09.446Z"
   },
   {
    "duration": 3,
    "start_time": "2023-01-02T08:01:53.174Z"
   },
   {
    "duration": 2186,
    "start_time": "2023-01-02T08:02:18.021Z"
   },
   {
    "duration": 2930,
    "start_time": "2023-01-02T08:02:20.209Z"
   },
   {
    "duration": 2,
    "start_time": "2023-01-02T08:02:23.141Z"
   },
   {
    "duration": 168,
    "start_time": "2023-01-02T08:02:23.145Z"
   },
   {
    "duration": 41,
    "start_time": "2023-01-02T08:02:23.314Z"
   },
   {
    "duration": 8,
    "start_time": "2023-01-02T08:02:23.357Z"
   },
   {
    "duration": 33,
    "start_time": "2023-01-02T08:02:23.366Z"
   },
   {
    "duration": 454,
    "start_time": "2023-01-02T08:02:23.401Z"
   },
   {
    "duration": 20,
    "start_time": "2023-01-02T08:02:23.857Z"
   },
   {
    "duration": 4,
    "start_time": "2023-01-02T08:02:23.896Z"
   },
   {
    "duration": 124,
    "start_time": "2023-01-02T08:02:23.902Z"
   },
   {
    "duration": 0,
    "start_time": "2023-01-02T08:02:24.028Z"
   },
   {
    "duration": 0,
    "start_time": "2023-01-02T08:02:24.029Z"
   },
   {
    "duration": 0,
    "start_time": "2023-01-02T08:02:24.030Z"
   },
   {
    "duration": 0,
    "start_time": "2023-01-02T08:02:24.031Z"
   },
   {
    "duration": 0,
    "start_time": "2023-01-02T08:02:24.033Z"
   },
   {
    "duration": 0,
    "start_time": "2023-01-02T08:02:24.034Z"
   },
   {
    "duration": 0,
    "start_time": "2023-01-02T08:02:24.035Z"
   },
   {
    "duration": 0,
    "start_time": "2023-01-02T08:02:24.036Z"
   },
   {
    "duration": 0,
    "start_time": "2023-01-02T08:02:24.037Z"
   },
   {
    "duration": 0,
    "start_time": "2023-01-02T08:02:24.038Z"
   },
   {
    "duration": 0,
    "start_time": "2023-01-02T08:02:24.040Z"
   },
   {
    "duration": 0,
    "start_time": "2023-01-02T08:02:24.041Z"
   },
   {
    "duration": 0,
    "start_time": "2023-01-02T08:02:24.042Z"
   },
   {
    "duration": 0,
    "start_time": "2023-01-02T08:02:24.043Z"
   },
   {
    "duration": 0,
    "start_time": "2023-01-02T08:02:24.044Z"
   },
   {
    "duration": 0,
    "start_time": "2023-01-02T08:02:24.045Z"
   },
   {
    "duration": 0,
    "start_time": "2023-01-02T08:02:24.046Z"
   },
   {
    "duration": 0,
    "start_time": "2023-01-02T08:02:24.047Z"
   },
   {
    "duration": 0,
    "start_time": "2023-01-02T08:02:24.048Z"
   },
   {
    "duration": 0,
    "start_time": "2023-01-02T08:02:24.049Z"
   },
   {
    "duration": 0,
    "start_time": "2023-01-02T08:02:24.050Z"
   },
   {
    "duration": 0,
    "start_time": "2023-01-02T08:02:24.051Z"
   },
   {
    "duration": 13,
    "start_time": "2023-01-02T08:06:54.180Z"
   },
   {
    "duration": 37,
    "start_time": "2023-01-02T08:08:40.214Z"
   },
   {
    "duration": 20,
    "start_time": "2023-01-02T08:08:40.948Z"
   },
   {
    "duration": 1715,
    "start_time": "2023-01-02T08:08:50.789Z"
   },
   {
    "duration": 1053,
    "start_time": "2023-01-02T08:08:52.506Z"
   },
   {
    "duration": 3,
    "start_time": "2023-01-02T08:08:53.560Z"
   },
   {
    "duration": 161,
    "start_time": "2023-01-02T08:08:53.565Z"
   },
   {
    "duration": 41,
    "start_time": "2023-01-02T08:08:53.728Z"
   },
   {
    "duration": 31,
    "start_time": "2023-01-02T08:08:53.770Z"
   },
   {
    "duration": 5,
    "start_time": "2023-01-02T08:08:53.802Z"
   },
   {
    "duration": 445,
    "start_time": "2023-01-02T08:08:53.809Z"
   },
   {
    "duration": 19,
    "start_time": "2023-01-02T08:08:54.255Z"
   },
   {
    "duration": 20,
    "start_time": "2023-01-02T08:08:54.277Z"
   },
   {
    "duration": 35,
    "start_time": "2023-01-02T08:08:54.298Z"
   },
   {
    "duration": 9,
    "start_time": "2023-01-02T08:08:54.335Z"
   },
   {
    "duration": 21,
    "start_time": "2023-01-02T08:08:54.345Z"
   },
   {
    "duration": 33,
    "start_time": "2023-01-02T08:08:54.368Z"
   },
   {
    "duration": 11,
    "start_time": "2023-01-02T08:08:54.403Z"
   },
   {
    "duration": 5,
    "start_time": "2023-01-02T08:08:54.415Z"
   },
   {
    "duration": 1564,
    "start_time": "2023-01-02T08:08:54.422Z"
   },
   {
    "duration": 1442,
    "start_time": "2023-01-02T08:08:55.988Z"
   },
   {
    "duration": 1483,
    "start_time": "2023-01-02T08:08:57.432Z"
   },
   {
    "duration": 584,
    "start_time": "2023-01-02T08:08:58.917Z"
   },
   {
    "duration": 7,
    "start_time": "2023-01-02T08:08:59.502Z"
   },
   {
    "duration": 525,
    "start_time": "2023-01-02T08:08:59.510Z"
   },
   {
    "duration": 25,
    "start_time": "2023-01-02T08:09:00.037Z"
   },
   {
    "duration": 3,
    "start_time": "2023-01-02T08:09:00.064Z"
   },
   {
    "duration": 33,
    "start_time": "2023-01-02T08:09:00.069Z"
   },
   {
    "duration": 39,
    "start_time": "2023-01-02T08:09:00.103Z"
   },
   {
    "duration": 18,
    "start_time": "2023-01-02T08:09:00.144Z"
   },
   {
    "duration": 19,
    "start_time": "2023-01-02T08:09:00.166Z"
   },
   {
    "duration": 129,
    "start_time": "2023-01-02T08:09:00.187Z"
   },
   {
    "duration": 0,
    "start_time": "2023-01-02T08:09:00.318Z"
   },
   {
    "duration": 0,
    "start_time": "2023-01-02T08:09:00.319Z"
   },
   {
    "duration": 0,
    "start_time": "2023-01-02T08:09:00.321Z"
   },
   {
    "duration": 51,
    "start_time": "2023-01-02T08:11:23.038Z"
   },
   {
    "duration": 83,
    "start_time": "2023-01-02T08:11:39.342Z"
   },
   {
    "duration": 1323,
    "start_time": "2023-01-02T08:11:49.105Z"
   },
   {
    "duration": 620,
    "start_time": "2023-01-02T08:11:50.432Z"
   },
   {
    "duration": 2,
    "start_time": "2023-01-02T08:11:51.054Z"
   },
   {
    "duration": 158,
    "start_time": "2023-01-02T08:11:51.058Z"
   },
   {
    "duration": 39,
    "start_time": "2023-01-02T08:11:51.218Z"
   },
   {
    "duration": 8,
    "start_time": "2023-01-02T08:11:51.259Z"
   },
   {
    "duration": 28,
    "start_time": "2023-01-02T08:11:51.269Z"
   },
   {
    "duration": 432,
    "start_time": "2023-01-02T08:11:51.299Z"
   },
   {
    "duration": 22,
    "start_time": "2023-01-02T08:11:51.733Z"
   },
   {
    "duration": 4,
    "start_time": "2023-01-02T08:11:51.757Z"
   },
   {
    "duration": 80,
    "start_time": "2023-01-02T08:11:51.762Z"
   },
   {
    "duration": 8,
    "start_time": "2023-01-02T08:11:51.843Z"
   },
   {
    "duration": 5,
    "start_time": "2023-01-02T08:11:51.852Z"
   },
   {
    "duration": 43,
    "start_time": "2023-01-02T08:11:51.858Z"
   },
   {
    "duration": 15,
    "start_time": "2023-01-02T08:11:51.903Z"
   },
   {
    "duration": 9,
    "start_time": "2023-01-02T08:11:51.919Z"
   },
   {
    "duration": 1508,
    "start_time": "2023-01-02T08:11:51.929Z"
   },
   {
    "duration": 1361,
    "start_time": "2023-01-02T08:11:53.439Z"
   },
   {
    "duration": 1580,
    "start_time": "2023-01-02T08:11:54.802Z"
   },
   {
    "duration": 490,
    "start_time": "2023-01-02T08:11:56.383Z"
   },
   {
    "duration": 6,
    "start_time": "2023-01-02T08:11:56.875Z"
   },
   {
    "duration": 465,
    "start_time": "2023-01-02T08:11:56.882Z"
   },
   {
    "duration": 22,
    "start_time": "2023-01-02T08:11:57.349Z"
   },
   {
    "duration": 4,
    "start_time": "2023-01-02T08:11:57.373Z"
   },
   {
    "duration": 7,
    "start_time": "2023-01-02T08:11:57.396Z"
   },
   {
    "duration": 9,
    "start_time": "2023-01-02T08:11:57.405Z"
   },
   {
    "duration": 5,
    "start_time": "2023-01-02T08:11:57.416Z"
   },
   {
    "duration": 3078,
    "start_time": "2023-01-02T08:11:57.424Z"
   },
   {
    "duration": 192,
    "start_time": "2023-01-02T08:12:00.597Z"
   },
   {
    "duration": 0,
    "start_time": "2023-01-02T08:12:00.790Z"
   },
   {
    "duration": 0,
    "start_time": "2023-01-02T08:12:00.791Z"
   },
   {
    "duration": 0,
    "start_time": "2023-01-02T08:12:00.796Z"
   },
   {
    "duration": 35,
    "start_time": "2023-01-02T08:13:01.899Z"
   },
   {
    "duration": 1703,
    "start_time": "2023-01-02T08:13:09.496Z"
   },
   {
    "duration": 1230,
    "start_time": "2023-01-02T08:13:11.202Z"
   },
   {
    "duration": 3,
    "start_time": "2023-01-02T08:13:12.434Z"
   },
   {
    "duration": 196,
    "start_time": "2023-01-02T08:13:12.439Z"
   },
   {
    "duration": 64,
    "start_time": "2023-01-02T08:13:12.639Z"
   },
   {
    "duration": 10,
    "start_time": "2023-01-02T08:13:12.704Z"
   },
   {
    "duration": 6,
    "start_time": "2023-01-02T08:13:12.715Z"
   },
   {
    "duration": 494,
    "start_time": "2023-01-02T08:13:12.723Z"
   },
   {
    "duration": 19,
    "start_time": "2023-01-02T08:13:13.219Z"
   },
   {
    "duration": 4,
    "start_time": "2023-01-02T08:13:13.240Z"
   },
   {
    "duration": 82,
    "start_time": "2023-01-02T08:13:13.246Z"
   },
   {
    "duration": 9,
    "start_time": "2023-01-02T08:13:13.329Z"
   },
   {
    "duration": 5,
    "start_time": "2023-01-02T08:13:13.339Z"
   },
   {
    "duration": 14,
    "start_time": "2023-01-02T08:13:13.347Z"
   },
   {
    "duration": 15,
    "start_time": "2023-01-02T08:13:13.396Z"
   },
   {
    "duration": 5,
    "start_time": "2023-01-02T08:13:13.412Z"
   },
   {
    "duration": 1526,
    "start_time": "2023-01-02T08:13:13.419Z"
   },
   {
    "duration": 1544,
    "start_time": "2023-01-02T08:13:14.947Z"
   },
   {
    "duration": 1337,
    "start_time": "2023-01-02T08:13:16.492Z"
   },
   {
    "duration": 555,
    "start_time": "2023-01-02T08:13:17.831Z"
   },
   {
    "duration": 12,
    "start_time": "2023-01-02T08:13:18.388Z"
   },
   {
    "duration": 468,
    "start_time": "2023-01-02T08:13:18.402Z"
   },
   {
    "duration": 38,
    "start_time": "2023-01-02T08:13:18.871Z"
   },
   {
    "duration": 3,
    "start_time": "2023-01-02T08:13:18.911Z"
   },
   {
    "duration": 14,
    "start_time": "2023-01-02T08:13:18.916Z"
   },
   {
    "duration": 15,
    "start_time": "2023-01-02T08:13:18.932Z"
   },
   {
    "duration": 6,
    "start_time": "2023-01-02T08:13:18.949Z"
   },
   {
    "duration": 3346,
    "start_time": "2023-01-02T08:13:18.957Z"
   },
   {
    "duration": 292,
    "start_time": "2023-01-02T08:13:22.305Z"
   },
   {
    "duration": 0,
    "start_time": "2023-01-02T08:13:22.599Z"
   },
   {
    "duration": 0,
    "start_time": "2023-01-02T08:13:22.600Z"
   },
   {
    "duration": 0,
    "start_time": "2023-01-02T08:13:22.601Z"
   },
   {
    "duration": 43,
    "start_time": "2023-01-02T08:19:11.190Z"
   },
   {
    "duration": 16,
    "start_time": "2023-01-02T08:23:04.777Z"
   },
   {
    "duration": 12,
    "start_time": "2023-01-02T08:23:14.838Z"
   },
   {
    "duration": 1511,
    "start_time": "2023-01-02T08:23:23.904Z"
   },
   {
    "duration": 1296,
    "start_time": "2023-01-02T08:23:25.417Z"
   },
   {
    "duration": 3,
    "start_time": "2023-01-02T08:23:26.714Z"
   },
   {
    "duration": 165,
    "start_time": "2023-01-02T08:23:26.718Z"
   },
   {
    "duration": 39,
    "start_time": "2023-01-02T08:23:26.896Z"
   },
   {
    "duration": 7,
    "start_time": "2023-01-02T08:23:26.937Z"
   },
   {
    "duration": 6,
    "start_time": "2023-01-02T08:23:26.945Z"
   },
   {
    "duration": 453,
    "start_time": "2023-01-02T08:23:26.953Z"
   },
   {
    "duration": 19,
    "start_time": "2023-01-02T08:23:27.407Z"
   },
   {
    "duration": 35,
    "start_time": "2023-01-02T08:23:27.428Z"
   },
   {
    "duration": 38,
    "start_time": "2023-01-02T08:23:27.464Z"
   },
   {
    "duration": 8,
    "start_time": "2023-01-02T08:23:27.503Z"
   },
   {
    "duration": 25,
    "start_time": "2023-01-02T08:23:27.512Z"
   },
   {
    "duration": 111,
    "start_time": "2023-01-02T08:23:27.539Z"
   },
   {
    "duration": 0,
    "start_time": "2023-01-02T08:23:27.652Z"
   },
   {
    "duration": 0,
    "start_time": "2023-01-02T08:23:27.653Z"
   },
   {
    "duration": 0,
    "start_time": "2023-01-02T08:23:27.654Z"
   },
   {
    "duration": 0,
    "start_time": "2023-01-02T08:23:27.655Z"
   },
   {
    "duration": 0,
    "start_time": "2023-01-02T08:23:27.657Z"
   },
   {
    "duration": 0,
    "start_time": "2023-01-02T08:23:27.658Z"
   },
   {
    "duration": 0,
    "start_time": "2023-01-02T08:23:27.659Z"
   },
   {
    "duration": 0,
    "start_time": "2023-01-02T08:23:27.660Z"
   },
   {
    "duration": 0,
    "start_time": "2023-01-02T08:23:27.661Z"
   },
   {
    "duration": 0,
    "start_time": "2023-01-02T08:23:27.663Z"
   },
   {
    "duration": 0,
    "start_time": "2023-01-02T08:23:27.663Z"
   },
   {
    "duration": 0,
    "start_time": "2023-01-02T08:23:27.665Z"
   },
   {
    "duration": 0,
    "start_time": "2023-01-02T08:23:27.666Z"
   },
   {
    "duration": 0,
    "start_time": "2023-01-02T08:23:27.667Z"
   },
   {
    "duration": 0,
    "start_time": "2023-01-02T08:23:27.667Z"
   },
   {
    "duration": 0,
    "start_time": "2023-01-02T08:23:27.669Z"
   },
   {
    "duration": 0,
    "start_time": "2023-01-02T08:23:27.696Z"
   },
   {
    "duration": 10,
    "start_time": "2023-01-02T08:23:37.495Z"
   },
   {
    "duration": 1924,
    "start_time": "2023-01-02T08:23:48.985Z"
   },
   {
    "duration": 827,
    "start_time": "2023-01-02T08:23:50.911Z"
   },
   {
    "duration": 2,
    "start_time": "2023-01-02T08:23:51.740Z"
   },
   {
    "duration": 164,
    "start_time": "2023-01-02T08:23:51.744Z"
   },
   {
    "duration": 42,
    "start_time": "2023-01-02T08:23:51.910Z"
   },
   {
    "duration": 8,
    "start_time": "2023-01-02T08:23:51.954Z"
   },
   {
    "duration": 34,
    "start_time": "2023-01-02T08:23:51.963Z"
   },
   {
    "duration": 429,
    "start_time": "2023-01-02T08:23:51.999Z"
   },
   {
    "duration": 18,
    "start_time": "2023-01-02T08:23:52.430Z"
   },
   {
    "duration": 61,
    "start_time": "2023-01-02T08:23:52.451Z"
   },
   {
    "duration": 8,
    "start_time": "2023-01-02T08:23:52.513Z"
   },
   {
    "duration": 7,
    "start_time": "2023-01-02T08:23:52.522Z"
   },
   {
    "duration": 31,
    "start_time": "2023-01-02T08:23:52.530Z"
   },
   {
    "duration": 15,
    "start_time": "2023-01-02T08:23:52.562Z"
   },
   {
    "duration": 18,
    "start_time": "2023-01-02T08:23:52.579Z"
   },
   {
    "duration": 1568,
    "start_time": "2023-01-02T08:23:52.598Z"
   },
   {
    "duration": 1525,
    "start_time": "2023-01-02T08:23:54.167Z"
   },
   {
    "duration": 1337,
    "start_time": "2023-01-02T08:23:55.696Z"
   },
   {
    "duration": 537,
    "start_time": "2023-01-02T08:23:57.034Z"
   },
   {
    "duration": 6,
    "start_time": "2023-01-02T08:23:57.573Z"
   },
   {
    "duration": 471,
    "start_time": "2023-01-02T08:23:57.580Z"
   },
   {
    "duration": 22,
    "start_time": "2023-01-02T08:23:58.053Z"
   },
   {
    "duration": 4,
    "start_time": "2023-01-02T08:23:58.077Z"
   },
   {
    "duration": 8,
    "start_time": "2023-01-02T08:23:58.096Z"
   },
   {
    "duration": 13,
    "start_time": "2023-01-02T08:23:58.105Z"
   },
   {
    "duration": 10,
    "start_time": "2023-01-02T08:23:58.120Z"
   },
   {
    "duration": 3364,
    "start_time": "2023-01-02T08:23:58.132Z"
   },
   {
    "duration": 258,
    "start_time": "2023-01-02T08:24:01.500Z"
   },
   {
    "duration": 0,
    "start_time": "2023-01-02T08:24:01.760Z"
   },
   {
    "duration": 0,
    "start_time": "2023-01-02T08:24:01.761Z"
   },
   {
    "duration": 0,
    "start_time": "2023-01-02T08:24:01.763Z"
   },
   {
    "duration": 18,
    "start_time": "2023-01-02T08:25:14.467Z"
   },
   {
    "duration": 1387,
    "start_time": "2023-01-02T08:25:22.485Z"
   },
   {
    "duration": 1060,
    "start_time": "2023-01-02T08:25:23.874Z"
   },
   {
    "duration": 3,
    "start_time": "2023-01-02T08:25:24.935Z"
   },
   {
    "duration": 371,
    "start_time": "2023-01-02T08:25:24.939Z"
   },
   {
    "duration": 95,
    "start_time": "2023-01-02T08:25:25.313Z"
   },
   {
    "duration": 9,
    "start_time": "2023-01-02T08:25:25.409Z"
   },
   {
    "duration": 6,
    "start_time": "2023-01-02T08:25:25.419Z"
   },
   {
    "duration": 909,
    "start_time": "2023-01-02T08:25:25.426Z"
   },
   {
    "duration": 19,
    "start_time": "2023-01-02T08:25:26.336Z"
   },
   {
    "duration": 62,
    "start_time": "2023-01-02T08:25:26.357Z"
   },
   {
    "duration": 7,
    "start_time": "2023-01-02T08:25:26.421Z"
   },
   {
    "duration": 7,
    "start_time": "2023-01-02T08:25:26.430Z"
   },
   {
    "duration": 14,
    "start_time": "2023-01-02T08:25:26.438Z"
   },
   {
    "duration": 54,
    "start_time": "2023-01-02T08:25:26.454Z"
   },
   {
    "duration": 6,
    "start_time": "2023-01-02T08:25:26.509Z"
   },
   {
    "duration": 1586,
    "start_time": "2023-01-02T08:25:26.516Z"
   },
   {
    "duration": 1423,
    "start_time": "2023-01-02T08:25:28.104Z"
   },
   {
    "duration": 1635,
    "start_time": "2023-01-02T08:25:29.529Z"
   },
   {
    "duration": 538,
    "start_time": "2023-01-02T08:25:31.166Z"
   },
   {
    "duration": 8,
    "start_time": "2023-01-02T08:25:31.706Z"
   },
   {
    "duration": 517,
    "start_time": "2023-01-02T08:25:31.716Z"
   },
   {
    "duration": 22,
    "start_time": "2023-01-02T08:25:32.235Z"
   },
   {
    "duration": 3,
    "start_time": "2023-01-02T08:25:32.259Z"
   },
   {
    "duration": 13,
    "start_time": "2023-01-02T08:25:32.263Z"
   },
   {
    "duration": 19,
    "start_time": "2023-01-02T08:25:32.278Z"
   },
   {
    "duration": 19,
    "start_time": "2023-01-02T08:25:32.299Z"
   },
   {
    "duration": 4682,
    "start_time": "2023-01-02T08:25:32.319Z"
   },
   {
    "duration": 227,
    "start_time": "2023-01-02T08:25:37.005Z"
   },
   {
    "duration": 0,
    "start_time": "2023-01-02T08:25:37.234Z"
   },
   {
    "duration": 0,
    "start_time": "2023-01-02T08:25:37.235Z"
   },
   {
    "duration": 0,
    "start_time": "2023-01-02T08:25:37.236Z"
   },
   {
    "duration": 8,
    "start_time": "2023-01-02T08:32:16.632Z"
   },
   {
    "duration": 2317,
    "start_time": "2023-01-02T08:32:24.680Z"
   },
   {
    "duration": 990,
    "start_time": "2023-01-02T08:32:26.999Z"
   },
   {
    "duration": 6,
    "start_time": "2023-01-02T08:32:27.991Z"
   },
   {
    "duration": 165,
    "start_time": "2023-01-02T08:32:27.999Z"
   },
   {
    "duration": 60,
    "start_time": "2023-01-02T08:32:28.165Z"
   },
   {
    "duration": 9,
    "start_time": "2023-01-02T08:32:28.227Z"
   },
   {
    "duration": 7,
    "start_time": "2023-01-02T08:32:28.238Z"
   },
   {
    "duration": 470,
    "start_time": "2023-01-02T08:32:28.247Z"
   },
   {
    "duration": 25,
    "start_time": "2023-01-02T08:32:28.719Z"
   },
   {
    "duration": 78,
    "start_time": "2023-01-02T08:32:28.747Z"
   },
   {
    "duration": 10,
    "start_time": "2023-01-02T08:32:28.827Z"
   },
   {
    "duration": 6,
    "start_time": "2023-01-02T08:32:28.839Z"
   },
   {
    "duration": 19,
    "start_time": "2023-01-02T08:32:28.846Z"
   },
   {
    "duration": 38,
    "start_time": "2023-01-02T08:32:28.867Z"
   },
   {
    "duration": 16,
    "start_time": "2023-01-02T08:32:28.909Z"
   },
   {
    "duration": 5,
    "start_time": "2023-01-02T08:32:28.927Z"
   },
   {
    "duration": 1576,
    "start_time": "2023-01-02T08:32:28.934Z"
   },
   {
    "duration": 1419,
    "start_time": "2023-01-02T08:32:30.512Z"
   },
   {
    "duration": 1434,
    "start_time": "2023-01-02T08:32:31.933Z"
   },
   {
    "duration": 525,
    "start_time": "2023-01-02T08:32:33.368Z"
   },
   {
    "duration": 16,
    "start_time": "2023-01-02T08:32:33.900Z"
   },
   {
    "duration": 508,
    "start_time": "2023-01-02T08:32:33.918Z"
   },
   {
    "duration": 25,
    "start_time": "2023-01-02T08:32:34.428Z"
   },
   {
    "duration": 3,
    "start_time": "2023-01-02T08:32:34.455Z"
   },
   {
    "duration": 16,
    "start_time": "2023-01-02T08:32:34.460Z"
   },
   {
    "duration": 26,
    "start_time": "2023-01-02T08:32:34.478Z"
   },
   {
    "duration": 18,
    "start_time": "2023-01-02T08:32:34.505Z"
   },
   {
    "duration": 3980,
    "start_time": "2023-01-02T08:32:34.526Z"
   },
   {
    "duration": 274,
    "start_time": "2023-01-02T08:32:38.508Z"
   },
   {
    "duration": 0,
    "start_time": "2023-01-02T08:32:38.783Z"
   },
   {
    "duration": 0,
    "start_time": "2023-01-02T08:32:38.784Z"
   },
   {
    "duration": 0,
    "start_time": "2023-01-02T08:32:38.785Z"
   },
   {
    "duration": 362,
    "start_time": "2023-01-02T08:38:23.052Z"
   },
   {
    "duration": 362,
    "start_time": "2023-01-02T08:39:57.810Z"
   },
   {
    "duration": 2065,
    "start_time": "2023-01-02T08:40:07.838Z"
   },
   {
    "duration": 1028,
    "start_time": "2023-01-02T08:40:09.913Z"
   },
   {
    "duration": 2,
    "start_time": "2023-01-02T08:40:10.943Z"
   },
   {
    "duration": 193,
    "start_time": "2023-01-02T08:40:10.947Z"
   },
   {
    "duration": 72,
    "start_time": "2023-01-02T08:40:11.141Z"
   },
   {
    "duration": 9,
    "start_time": "2023-01-02T08:40:11.215Z"
   },
   {
    "duration": 6,
    "start_time": "2023-01-02T08:40:11.225Z"
   },
   {
    "duration": 485,
    "start_time": "2023-01-02T08:40:11.233Z"
   },
   {
    "duration": 19,
    "start_time": "2023-01-02T08:40:11.720Z"
   },
   {
    "duration": 65,
    "start_time": "2023-01-02T08:40:11.742Z"
   },
   {
    "duration": 10,
    "start_time": "2023-01-02T08:40:11.809Z"
   },
   {
    "duration": 7,
    "start_time": "2023-01-02T08:40:11.821Z"
   },
   {
    "duration": 17,
    "start_time": "2023-01-02T08:40:11.830Z"
   },
   {
    "duration": 17,
    "start_time": "2023-01-02T08:40:11.849Z"
   },
   {
    "duration": 35,
    "start_time": "2023-01-02T08:40:11.868Z"
   },
   {
    "duration": 1573,
    "start_time": "2023-01-02T08:40:11.904Z"
   },
   {
    "duration": 1673,
    "start_time": "2023-01-02T08:40:13.480Z"
   },
   {
    "duration": 1553,
    "start_time": "2023-01-02T08:40:15.155Z"
   },
   {
    "duration": 628,
    "start_time": "2023-01-02T08:40:16.709Z"
   },
   {
    "duration": 8,
    "start_time": "2023-01-02T08:40:17.339Z"
   },
   {
    "duration": 504,
    "start_time": "2023-01-02T08:40:17.349Z"
   },
   {
    "duration": 24,
    "start_time": "2023-01-02T08:40:17.854Z"
   },
   {
    "duration": 23,
    "start_time": "2023-01-02T08:40:17.880Z"
   },
   {
    "duration": 33,
    "start_time": "2023-01-02T08:40:17.905Z"
   },
   {
    "duration": 12,
    "start_time": "2023-01-02T08:40:17.940Z"
   },
   {
    "duration": 20,
    "start_time": "2023-01-02T08:40:17.954Z"
   },
   {
    "duration": 4831,
    "start_time": "2023-01-02T08:40:17.976Z"
   },
   {
    "duration": 295,
    "start_time": "2023-01-02T08:40:22.815Z"
   },
   {
    "duration": 0,
    "start_time": "2023-01-02T08:40:23.112Z"
   },
   {
    "duration": 0,
    "start_time": "2023-01-02T08:40:23.113Z"
   },
   {
    "duration": 0,
    "start_time": "2023-01-02T08:40:23.114Z"
   },
   {
    "duration": 371,
    "start_time": "2023-01-02T08:46:00.187Z"
   },
   {
    "duration": 175,
    "start_time": "2023-01-02T08:46:07.597Z"
   },
   {
    "duration": 175,
    "start_time": "2023-01-02T08:46:22.250Z"
   },
   {
    "duration": 12,
    "start_time": "2023-01-02T08:47:08.966Z"
   },
   {
    "duration": 30,
    "start_time": "2023-01-02T08:47:19.301Z"
   },
   {
    "duration": 1860,
    "start_time": "2023-01-02T09:16:37.083Z"
   },
   {
    "duration": 879,
    "start_time": "2023-01-02T09:16:38.997Z"
   },
   {
    "duration": 2,
    "start_time": "2023-01-02T09:16:39.878Z"
   },
   {
    "duration": 256,
    "start_time": "2023-01-02T09:16:39.882Z"
   },
   {
    "duration": 59,
    "start_time": "2023-01-02T09:16:40.140Z"
   },
   {
    "duration": 10,
    "start_time": "2023-01-02T09:16:40.200Z"
   },
   {
    "duration": 13,
    "start_time": "2023-01-02T09:16:40.211Z"
   },
   {
    "duration": 259,
    "start_time": "2023-01-02T09:16:40.226Z"
   },
   {
    "duration": 24,
    "start_time": "2023-01-02T09:16:40.487Z"
   },
   {
    "duration": 35,
    "start_time": "2023-01-02T09:16:40.513Z"
   },
   {
    "duration": 8,
    "start_time": "2023-01-02T09:16:40.550Z"
   },
   {
    "duration": 41,
    "start_time": "2023-01-02T09:16:40.559Z"
   },
   {
    "duration": 16,
    "start_time": "2023-01-02T09:16:40.602Z"
   },
   {
    "duration": 15,
    "start_time": "2023-01-02T09:16:40.620Z"
   },
   {
    "duration": 5,
    "start_time": "2023-01-02T09:16:40.637Z"
   },
   {
    "duration": 1613,
    "start_time": "2023-01-02T09:16:40.644Z"
   },
   {
    "duration": 1565,
    "start_time": "2023-01-02T09:16:42.259Z"
   },
   {
    "duration": 1467,
    "start_time": "2023-01-02T09:16:43.826Z"
   },
   {
    "duration": 501,
    "start_time": "2023-01-02T09:16:45.295Z"
   },
   {
    "duration": 6,
    "start_time": "2023-01-02T09:16:45.798Z"
   },
   {
    "duration": 543,
    "start_time": "2023-01-02T09:16:45.806Z"
   },
   {
    "duration": 22,
    "start_time": "2023-01-02T09:16:46.351Z"
   },
   {
    "duration": 3,
    "start_time": "2023-01-02T09:16:46.375Z"
   },
   {
    "duration": 24,
    "start_time": "2023-01-02T09:16:46.379Z"
   },
   {
    "duration": 34984,
    "start_time": "2023-01-02T09:16:46.405Z"
   },
   {
    "duration": 263305,
    "start_time": "2023-01-02T09:17:21.391Z"
   },
   {
    "duration": 2705,
    "start_time": "2023-01-02T09:21:44.698Z"
   },
   {
    "duration": 98,
    "start_time": "2023-01-02T09:21:47.404Z"
   },
   {
    "duration": 7099,
    "start_time": "2023-01-02T09:21:47.503Z"
   },
   {
    "duration": 106,
    "start_time": "2023-01-02T09:21:54.603Z"
   },
   {
    "duration": 0,
    "start_time": "2023-01-02T09:21:54.710Z"
   },
   {
    "duration": 10,
    "start_time": "2023-01-02T09:25:01.480Z"
   },
   {
    "duration": 8,
    "start_time": "2023-01-02T09:25:04.337Z"
   },
   {
    "duration": 1549,
    "start_time": "2023-01-02T09:25:12.965Z"
   },
   {
    "duration": 1188,
    "start_time": "2023-01-02T09:25:14.515Z"
   },
   {
    "duration": 3,
    "start_time": "2023-01-02T09:25:15.704Z"
   },
   {
    "duration": 165,
    "start_time": "2023-01-02T09:25:15.709Z"
   },
   {
    "duration": 56,
    "start_time": "2023-01-02T09:25:15.875Z"
   },
   {
    "duration": 11,
    "start_time": "2023-01-02T09:25:15.933Z"
   },
   {
    "duration": 5,
    "start_time": "2023-01-02T09:25:15.946Z"
   },
   {
    "duration": 295,
    "start_time": "2023-01-02T09:25:15.953Z"
   },
   {
    "duration": 19,
    "start_time": "2023-01-02T09:25:16.250Z"
   },
   {
    "duration": 51,
    "start_time": "2023-01-02T09:25:16.271Z"
   },
   {
    "duration": 8,
    "start_time": "2023-01-02T09:25:16.324Z"
   },
   {
    "duration": 5,
    "start_time": "2023-01-02T09:25:16.333Z"
   },
   {
    "duration": 15,
    "start_time": "2023-01-02T09:25:16.339Z"
   },
   {
    "duration": 46,
    "start_time": "2023-01-02T09:25:16.355Z"
   },
   {
    "duration": 6,
    "start_time": "2023-01-02T09:25:16.402Z"
   },
   {
    "duration": 1648,
    "start_time": "2023-01-02T09:25:16.409Z"
   },
   {
    "duration": 1565,
    "start_time": "2023-01-02T09:25:18.059Z"
   },
   {
    "duration": 1535,
    "start_time": "2023-01-02T09:25:19.626Z"
   },
   {
    "duration": 516,
    "start_time": "2023-01-02T09:25:21.164Z"
   },
   {
    "duration": 6,
    "start_time": "2023-01-02T09:25:21.681Z"
   },
   {
    "duration": 469,
    "start_time": "2023-01-02T09:25:21.689Z"
   },
   {
    "duration": 24,
    "start_time": "2023-01-02T09:25:22.160Z"
   },
   {
    "duration": 11,
    "start_time": "2023-01-02T09:25:22.185Z"
   },
   {
    "duration": 9,
    "start_time": "2023-01-02T09:25:22.198Z"
   },
   {
    "duration": 35003,
    "start_time": "2023-01-02T09:25:22.209Z"
   },
   {
    "duration": 263839,
    "start_time": "2023-01-02T09:25:57.213Z"
   },
   {
    "duration": 2947,
    "start_time": "2023-01-02T09:30:21.054Z"
   },
   {
    "duration": 93,
    "start_time": "2023-01-02T09:30:24.010Z"
   },
   {
    "duration": 7352,
    "start_time": "2023-01-02T09:30:24.104Z"
   },
   {
    "duration": 10,
    "start_time": "2023-01-02T09:30:31.458Z"
   },
   {
    "duration": 31,
    "start_time": "2023-01-02T09:30:31.470Z"
   }
  ],
  "kernelspec": {
   "display_name": "Python 3 (ipykernel)",
   "language": "python",
   "name": "python3"
  },
  "language_info": {
   "codemirror_mode": {
    "name": "ipython",
    "version": 3
   },
   "file_extension": ".py",
   "mimetype": "text/x-python",
   "name": "python",
   "nbconvert_exporter": "python",
   "pygments_lexer": "ipython3",
   "version": "3.9.12"
  },
  "toc": {
   "base_numbering": 1,
   "nav_menu": {},
   "number_sections": true,
   "sideBar": true,
   "skip_h1_title": true,
   "title_cell": "Содержание",
   "title_sidebar": "Contents",
   "toc_cell": true,
   "toc_position": {
    "height": "calc(100% - 180px)",
    "left": "10px",
    "top": "150px",
    "width": "165px"
   },
   "toc_section_display": true,
   "toc_window_display": true
  }
 },
 "nbformat": 4,
 "nbformat_minor": 2
}
