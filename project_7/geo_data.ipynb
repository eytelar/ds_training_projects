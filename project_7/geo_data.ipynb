{
 "cells": [
  {
   "cell_type": "markdown",
   "metadata": {},
   "source": [
    "# Выбор локации для скважины"
   ]
  },
  {
   "cell_type": "markdown",
   "metadata": {},
   "source": [
    "Допустим, вы работаете в добывающей компании «ГлавРосГосНефть». Нужно решить, где бурить новую скважину.\n",
    "\n",
    "Вам предоставлены пробы нефти в трёх регионах: в каждом 10 000 месторождений, где измерили качество нефти и объём её запасов. Постройте модель машинного обучения, которая поможет определить регион, где добыча принесёт наибольшую прибыль. Проанализируйте возможную прибыль и риски техникой *Bootstrap.*\n",
    "\n",
    "Шаги для выбора локации:\n",
    "\n",
    "- В избранном регионе ищут месторождения, для каждого определяют значения признаков;\n",
    "- Строят модель и оценивают объём запасов;\n",
    "- Выбирают месторождения с самым высокими оценками значений. Количество месторождений зависит от бюджета компании и стоимости разработки одной скважины;\n",
    "- Прибыль равна суммарной прибыли отобранных месторождений."
   ]
  },
  {
   "cell_type": "markdown",
   "metadata": {},
   "source": [
    "# Загрузка и подготовка данных"
   ]
  },
  {
   "cell_type": "markdown",
   "metadata": {},
   "source": [
    "## Импорт библиотек и изучение общей информации"
   ]
  },
  {
   "cell_type": "code",
   "execution_count": 1,
   "metadata": {},
   "outputs": [],
   "source": [
    "import pandas as pd\n",
    "import matplotlib.pyplot as plt\n",
    "import seaborn as sns\n",
    "import numpy as np\n",
    "from scipy import stats as st\n",
    "\n",
    "from sklearn.model_selection import train_test_split\n",
    "from sklearn.preprocessing import StandardScaler\n",
    "\n",
    "from sklearn.linear_model import LinearRegression\n",
    "from sklearn.metrics import mean_squared_error\n",
    "from statistics import mean\n",
    "\n",
    "# снизим размерность чисел\n",
    "pd.options.display.float_format = '{:.3f}'.format"
   ]
  },
  {
   "cell_type": "code",
   "execution_count": 2,
   "metadata": {},
   "outputs": [],
   "source": [
    "data_0 = pd.read_csv('/datasets/geo_data_0.csv')\n",
    "data_1 = pd.read_csv('/datasets/geo_data_1.csv')\n",
    "data_2 = pd.read_csv('/datasets/geo_data_2.csv')"
   ]
  },
  {
   "cell_type": "code",
   "execution_count": 3,
   "metadata": {
    "scrolled": false
   },
   "outputs": [
    {
     "data": {
      "text/html": [
       "<div>\n",
       "<style scoped>\n",
       "    .dataframe tbody tr th:only-of-type {\n",
       "        vertical-align: middle;\n",
       "    }\n",
       "\n",
       "    .dataframe tbody tr th {\n",
       "        vertical-align: top;\n",
       "    }\n",
       "\n",
       "    .dataframe thead th {\n",
       "        text-align: right;\n",
       "    }\n",
       "</style>\n",
       "<table border=\"1\" class=\"dataframe\">\n",
       "  <thead>\n",
       "    <tr style=\"text-align: right;\">\n",
       "      <th></th>\n",
       "      <th>id</th>\n",
       "      <th>f0</th>\n",
       "      <th>f1</th>\n",
       "      <th>f2</th>\n",
       "      <th>product</th>\n",
       "    </tr>\n",
       "  </thead>\n",
       "  <tbody>\n",
       "    <tr>\n",
       "      <th>0</th>\n",
       "      <td>txEyH</td>\n",
       "      <td>0.706</td>\n",
       "      <td>-0.498</td>\n",
       "      <td>1.221</td>\n",
       "      <td>105.280</td>\n",
       "    </tr>\n",
       "    <tr>\n",
       "      <th>1</th>\n",
       "      <td>2acmU</td>\n",
       "      <td>1.335</td>\n",
       "      <td>-0.340</td>\n",
       "      <td>4.365</td>\n",
       "      <td>73.038</td>\n",
       "    </tr>\n",
       "    <tr>\n",
       "      <th>2</th>\n",
       "      <td>409Wp</td>\n",
       "      <td>1.023</td>\n",
       "      <td>0.152</td>\n",
       "      <td>1.420</td>\n",
       "      <td>85.266</td>\n",
       "    </tr>\n",
       "    <tr>\n",
       "      <th>3</th>\n",
       "      <td>iJLyR</td>\n",
       "      <td>-0.032</td>\n",
       "      <td>0.139</td>\n",
       "      <td>2.979</td>\n",
       "      <td>168.621</td>\n",
       "    </tr>\n",
       "    <tr>\n",
       "      <th>4</th>\n",
       "      <td>Xdl7t</td>\n",
       "      <td>1.988</td>\n",
       "      <td>0.155</td>\n",
       "      <td>4.752</td>\n",
       "      <td>154.037</td>\n",
       "    </tr>\n",
       "  </tbody>\n",
       "</table>\n",
       "</div>"
      ],
      "text/plain": [
       "      id     f0     f1    f2  product\n",
       "0  txEyH  0.706 -0.498 1.221  105.280\n",
       "1  2acmU  1.335 -0.340 4.365   73.038\n",
       "2  409Wp  1.023  0.152 1.420   85.266\n",
       "3  iJLyR -0.032  0.139 2.979  168.621\n",
       "4  Xdl7t  1.988  0.155 4.752  154.037"
      ]
     },
     "metadata": {},
     "output_type": "display_data"
    },
    {
     "name": "stdout",
     "output_type": "stream",
     "text": [
      "<class 'pandas.core.frame.DataFrame'>\n",
      "RangeIndex: 100000 entries, 0 to 99999\n",
      "Data columns (total 5 columns):\n",
      " #   Column   Non-Null Count   Dtype  \n",
      "---  ------   --------------   -----  \n",
      " 0   id       100000 non-null  object \n",
      " 1   f0       100000 non-null  float64\n",
      " 2   f1       100000 non-null  float64\n",
      " 3   f2       100000 non-null  float64\n",
      " 4   product  100000 non-null  float64\n",
      "dtypes: float64(4), object(1)\n",
      "memory usage: 3.8+ MB\n"
     ]
    },
    {
     "data": {
      "text/plain": [
       "None"
      ]
     },
     "metadata": {},
     "output_type": "display_data"
    },
    {
     "data": {
      "text/html": [
       "<div>\n",
       "<style scoped>\n",
       "    .dataframe tbody tr th:only-of-type {\n",
       "        vertical-align: middle;\n",
       "    }\n",
       "\n",
       "    .dataframe tbody tr th {\n",
       "        vertical-align: top;\n",
       "    }\n",
       "\n",
       "    .dataframe thead th {\n",
       "        text-align: right;\n",
       "    }\n",
       "</style>\n",
       "<table border=\"1\" class=\"dataframe\">\n",
       "  <thead>\n",
       "    <tr style=\"text-align: right;\">\n",
       "      <th></th>\n",
       "      <th>f0</th>\n",
       "      <th>f1</th>\n",
       "      <th>f2</th>\n",
       "      <th>product</th>\n",
       "    </tr>\n",
       "  </thead>\n",
       "  <tbody>\n",
       "    <tr>\n",
       "      <th>count</th>\n",
       "      <td>100000.000</td>\n",
       "      <td>100000.000</td>\n",
       "      <td>100000.000</td>\n",
       "      <td>100000.000</td>\n",
       "    </tr>\n",
       "    <tr>\n",
       "      <th>mean</th>\n",
       "      <td>0.500</td>\n",
       "      <td>0.250</td>\n",
       "      <td>2.503</td>\n",
       "      <td>92.500</td>\n",
       "    </tr>\n",
       "    <tr>\n",
       "      <th>std</th>\n",
       "      <td>0.872</td>\n",
       "      <td>0.504</td>\n",
       "      <td>3.248</td>\n",
       "      <td>44.289</td>\n",
       "    </tr>\n",
       "    <tr>\n",
       "      <th>min</th>\n",
       "      <td>-1.409</td>\n",
       "      <td>-0.848</td>\n",
       "      <td>-12.088</td>\n",
       "      <td>0.000</td>\n",
       "    </tr>\n",
       "    <tr>\n",
       "      <th>25%</th>\n",
       "      <td>-0.073</td>\n",
       "      <td>-0.201</td>\n",
       "      <td>0.288</td>\n",
       "      <td>56.498</td>\n",
       "    </tr>\n",
       "    <tr>\n",
       "      <th>50%</th>\n",
       "      <td>0.502</td>\n",
       "      <td>0.250</td>\n",
       "      <td>2.516</td>\n",
       "      <td>91.850</td>\n",
       "    </tr>\n",
       "    <tr>\n",
       "      <th>75%</th>\n",
       "      <td>1.074</td>\n",
       "      <td>0.701</td>\n",
       "      <td>4.715</td>\n",
       "      <td>128.564</td>\n",
       "    </tr>\n",
       "    <tr>\n",
       "      <th>max</th>\n",
       "      <td>2.362</td>\n",
       "      <td>1.344</td>\n",
       "      <td>16.004</td>\n",
       "      <td>185.364</td>\n",
       "    </tr>\n",
       "  </tbody>\n",
       "</table>\n",
       "</div>"
      ],
      "text/plain": [
       "              f0         f1         f2    product\n",
       "count 100000.000 100000.000 100000.000 100000.000\n",
       "mean       0.500      0.250      2.503     92.500\n",
       "std        0.872      0.504      3.248     44.289\n",
       "min       -1.409     -0.848    -12.088      0.000\n",
       "25%       -0.073     -0.201      0.288     56.498\n",
       "50%        0.502      0.250      2.516     91.850\n",
       "75%        1.074      0.701      4.715    128.564\n",
       "max        2.362      1.344     16.004    185.364"
      ]
     },
     "metadata": {},
     "output_type": "display_data"
    },
    {
     "name": "stdout",
     "output_type": "stream",
     "text": [
      "---------------------------------------------------------------------------\n"
     ]
    },
    {
     "data": {
      "text/html": [
       "<div>\n",
       "<style scoped>\n",
       "    .dataframe tbody tr th:only-of-type {\n",
       "        vertical-align: middle;\n",
       "    }\n",
       "\n",
       "    .dataframe tbody tr th {\n",
       "        vertical-align: top;\n",
       "    }\n",
       "\n",
       "    .dataframe thead th {\n",
       "        text-align: right;\n",
       "    }\n",
       "</style>\n",
       "<table border=\"1\" class=\"dataframe\">\n",
       "  <thead>\n",
       "    <tr style=\"text-align: right;\">\n",
       "      <th></th>\n",
       "      <th>id</th>\n",
       "      <th>f0</th>\n",
       "      <th>f1</th>\n",
       "      <th>f2</th>\n",
       "      <th>product</th>\n",
       "    </tr>\n",
       "  </thead>\n",
       "  <tbody>\n",
       "    <tr>\n",
       "      <th>0</th>\n",
       "      <td>kBEdx</td>\n",
       "      <td>-15.001</td>\n",
       "      <td>-8.276</td>\n",
       "      <td>-0.006</td>\n",
       "      <td>3.179</td>\n",
       "    </tr>\n",
       "    <tr>\n",
       "      <th>1</th>\n",
       "      <td>62mP7</td>\n",
       "      <td>14.272</td>\n",
       "      <td>-3.475</td>\n",
       "      <td>0.999</td>\n",
       "      <td>26.953</td>\n",
       "    </tr>\n",
       "    <tr>\n",
       "      <th>2</th>\n",
       "      <td>vyE1P</td>\n",
       "      <td>6.263</td>\n",
       "      <td>-5.948</td>\n",
       "      <td>5.001</td>\n",
       "      <td>134.766</td>\n",
       "    </tr>\n",
       "    <tr>\n",
       "      <th>3</th>\n",
       "      <td>KcrkZ</td>\n",
       "      <td>-13.081</td>\n",
       "      <td>-11.506</td>\n",
       "      <td>4.999</td>\n",
       "      <td>137.945</td>\n",
       "    </tr>\n",
       "    <tr>\n",
       "      <th>4</th>\n",
       "      <td>AHL4O</td>\n",
       "      <td>12.702</td>\n",
       "      <td>-8.147</td>\n",
       "      <td>5.004</td>\n",
       "      <td>134.766</td>\n",
       "    </tr>\n",
       "  </tbody>\n",
       "</table>\n",
       "</div>"
      ],
      "text/plain": [
       "      id      f0      f1     f2  product\n",
       "0  kBEdx -15.001  -8.276 -0.006    3.179\n",
       "1  62mP7  14.272  -3.475  0.999   26.953\n",
       "2  vyE1P   6.263  -5.948  5.001  134.766\n",
       "3  KcrkZ -13.081 -11.506  4.999  137.945\n",
       "4  AHL4O  12.702  -8.147  5.004  134.766"
      ]
     },
     "metadata": {},
     "output_type": "display_data"
    },
    {
     "name": "stdout",
     "output_type": "stream",
     "text": [
      "<class 'pandas.core.frame.DataFrame'>\n",
      "RangeIndex: 100000 entries, 0 to 99999\n",
      "Data columns (total 5 columns):\n",
      " #   Column   Non-Null Count   Dtype  \n",
      "---  ------   --------------   -----  \n",
      " 0   id       100000 non-null  object \n",
      " 1   f0       100000 non-null  float64\n",
      " 2   f1       100000 non-null  float64\n",
      " 3   f2       100000 non-null  float64\n",
      " 4   product  100000 non-null  float64\n",
      "dtypes: float64(4), object(1)\n",
      "memory usage: 3.8+ MB\n"
     ]
    },
    {
     "data": {
      "text/plain": [
       "None"
      ]
     },
     "metadata": {},
     "output_type": "display_data"
    },
    {
     "data": {
      "text/html": [
       "<div>\n",
       "<style scoped>\n",
       "    .dataframe tbody tr th:only-of-type {\n",
       "        vertical-align: middle;\n",
       "    }\n",
       "\n",
       "    .dataframe tbody tr th {\n",
       "        vertical-align: top;\n",
       "    }\n",
       "\n",
       "    .dataframe thead th {\n",
       "        text-align: right;\n",
       "    }\n",
       "</style>\n",
       "<table border=\"1\" class=\"dataframe\">\n",
       "  <thead>\n",
       "    <tr style=\"text-align: right;\">\n",
       "      <th></th>\n",
       "      <th>f0</th>\n",
       "      <th>f1</th>\n",
       "      <th>f2</th>\n",
       "      <th>product</th>\n",
       "    </tr>\n",
       "  </thead>\n",
       "  <tbody>\n",
       "    <tr>\n",
       "      <th>count</th>\n",
       "      <td>100000.000</td>\n",
       "      <td>100000.000</td>\n",
       "      <td>100000.000</td>\n",
       "      <td>100000.000</td>\n",
       "    </tr>\n",
       "    <tr>\n",
       "      <th>mean</th>\n",
       "      <td>1.141</td>\n",
       "      <td>-4.797</td>\n",
       "      <td>2.495</td>\n",
       "      <td>68.825</td>\n",
       "    </tr>\n",
       "    <tr>\n",
       "      <th>std</th>\n",
       "      <td>8.966</td>\n",
       "      <td>5.120</td>\n",
       "      <td>1.704</td>\n",
       "      <td>45.944</td>\n",
       "    </tr>\n",
       "    <tr>\n",
       "      <th>min</th>\n",
       "      <td>-31.610</td>\n",
       "      <td>-26.359</td>\n",
       "      <td>-0.018</td>\n",
       "      <td>0.000</td>\n",
       "    </tr>\n",
       "    <tr>\n",
       "      <th>25%</th>\n",
       "      <td>-6.299</td>\n",
       "      <td>-8.268</td>\n",
       "      <td>1.000</td>\n",
       "      <td>26.953</td>\n",
       "    </tr>\n",
       "    <tr>\n",
       "      <th>50%</th>\n",
       "      <td>1.153</td>\n",
       "      <td>-4.813</td>\n",
       "      <td>2.011</td>\n",
       "      <td>57.086</td>\n",
       "    </tr>\n",
       "    <tr>\n",
       "      <th>75%</th>\n",
       "      <td>8.621</td>\n",
       "      <td>-1.333</td>\n",
       "      <td>4.000</td>\n",
       "      <td>107.813</td>\n",
       "    </tr>\n",
       "    <tr>\n",
       "      <th>max</th>\n",
       "      <td>29.422</td>\n",
       "      <td>18.734</td>\n",
       "      <td>5.020</td>\n",
       "      <td>137.945</td>\n",
       "    </tr>\n",
       "  </tbody>\n",
       "</table>\n",
       "</div>"
      ],
      "text/plain": [
       "              f0         f1         f2    product\n",
       "count 100000.000 100000.000 100000.000 100000.000\n",
       "mean       1.141     -4.797      2.495     68.825\n",
       "std        8.966      5.120      1.704     45.944\n",
       "min      -31.610    -26.359     -0.018      0.000\n",
       "25%       -6.299     -8.268      1.000     26.953\n",
       "50%        1.153     -4.813      2.011     57.086\n",
       "75%        8.621     -1.333      4.000    107.813\n",
       "max       29.422     18.734      5.020    137.945"
      ]
     },
     "metadata": {},
     "output_type": "display_data"
    },
    {
     "name": "stdout",
     "output_type": "stream",
     "text": [
      "---------------------------------------------------------------------------\n"
     ]
    },
    {
     "data": {
      "text/html": [
       "<div>\n",
       "<style scoped>\n",
       "    .dataframe tbody tr th:only-of-type {\n",
       "        vertical-align: middle;\n",
       "    }\n",
       "\n",
       "    .dataframe tbody tr th {\n",
       "        vertical-align: top;\n",
       "    }\n",
       "\n",
       "    .dataframe thead th {\n",
       "        text-align: right;\n",
       "    }\n",
       "</style>\n",
       "<table border=\"1\" class=\"dataframe\">\n",
       "  <thead>\n",
       "    <tr style=\"text-align: right;\">\n",
       "      <th></th>\n",
       "      <th>id</th>\n",
       "      <th>f0</th>\n",
       "      <th>f1</th>\n",
       "      <th>f2</th>\n",
       "      <th>product</th>\n",
       "    </tr>\n",
       "  </thead>\n",
       "  <tbody>\n",
       "    <tr>\n",
       "      <th>0</th>\n",
       "      <td>fwXo0</td>\n",
       "      <td>-1.147</td>\n",
       "      <td>0.963</td>\n",
       "      <td>-0.829</td>\n",
       "      <td>27.759</td>\n",
       "    </tr>\n",
       "    <tr>\n",
       "      <th>1</th>\n",
       "      <td>WJtFt</td>\n",
       "      <td>0.263</td>\n",
       "      <td>0.270</td>\n",
       "      <td>-2.530</td>\n",
       "      <td>56.070</td>\n",
       "    </tr>\n",
       "    <tr>\n",
       "      <th>2</th>\n",
       "      <td>ovLUW</td>\n",
       "      <td>0.195</td>\n",
       "      <td>0.289</td>\n",
       "      <td>-5.586</td>\n",
       "      <td>62.872</td>\n",
       "    </tr>\n",
       "    <tr>\n",
       "      <th>3</th>\n",
       "      <td>q6cA6</td>\n",
       "      <td>2.236</td>\n",
       "      <td>-0.554</td>\n",
       "      <td>0.930</td>\n",
       "      <td>114.573</td>\n",
       "    </tr>\n",
       "    <tr>\n",
       "      <th>4</th>\n",
       "      <td>WPMUX</td>\n",
       "      <td>-0.516</td>\n",
       "      <td>1.716</td>\n",
       "      <td>5.899</td>\n",
       "      <td>149.601</td>\n",
       "    </tr>\n",
       "  </tbody>\n",
       "</table>\n",
       "</div>"
      ],
      "text/plain": [
       "      id     f0     f1     f2  product\n",
       "0  fwXo0 -1.147  0.963 -0.829   27.759\n",
       "1  WJtFt  0.263  0.270 -2.530   56.070\n",
       "2  ovLUW  0.195  0.289 -5.586   62.872\n",
       "3  q6cA6  2.236 -0.554  0.930  114.573\n",
       "4  WPMUX -0.516  1.716  5.899  149.601"
      ]
     },
     "metadata": {},
     "output_type": "display_data"
    },
    {
     "name": "stdout",
     "output_type": "stream",
     "text": [
      "<class 'pandas.core.frame.DataFrame'>\n",
      "RangeIndex: 100000 entries, 0 to 99999\n",
      "Data columns (total 5 columns):\n",
      " #   Column   Non-Null Count   Dtype  \n",
      "---  ------   --------------   -----  \n",
      " 0   id       100000 non-null  object \n",
      " 1   f0       100000 non-null  float64\n",
      " 2   f1       100000 non-null  float64\n",
      " 3   f2       100000 non-null  float64\n",
      " 4   product  100000 non-null  float64\n",
      "dtypes: float64(4), object(1)\n",
      "memory usage: 3.8+ MB\n"
     ]
    },
    {
     "data": {
      "text/plain": [
       "None"
      ]
     },
     "metadata": {},
     "output_type": "display_data"
    },
    {
     "data": {
      "text/html": [
       "<div>\n",
       "<style scoped>\n",
       "    .dataframe tbody tr th:only-of-type {\n",
       "        vertical-align: middle;\n",
       "    }\n",
       "\n",
       "    .dataframe tbody tr th {\n",
       "        vertical-align: top;\n",
       "    }\n",
       "\n",
       "    .dataframe thead th {\n",
       "        text-align: right;\n",
       "    }\n",
       "</style>\n",
       "<table border=\"1\" class=\"dataframe\">\n",
       "  <thead>\n",
       "    <tr style=\"text-align: right;\">\n",
       "      <th></th>\n",
       "      <th>f0</th>\n",
       "      <th>f1</th>\n",
       "      <th>f2</th>\n",
       "      <th>product</th>\n",
       "    </tr>\n",
       "  </thead>\n",
       "  <tbody>\n",
       "    <tr>\n",
       "      <th>count</th>\n",
       "      <td>100000.000</td>\n",
       "      <td>100000.000</td>\n",
       "      <td>100000.000</td>\n",
       "      <td>100000.000</td>\n",
       "    </tr>\n",
       "    <tr>\n",
       "      <th>mean</th>\n",
       "      <td>0.002</td>\n",
       "      <td>-0.002</td>\n",
       "      <td>2.495</td>\n",
       "      <td>95.000</td>\n",
       "    </tr>\n",
       "    <tr>\n",
       "      <th>std</th>\n",
       "      <td>1.732</td>\n",
       "      <td>1.730</td>\n",
       "      <td>3.473</td>\n",
       "      <td>44.750</td>\n",
       "    </tr>\n",
       "    <tr>\n",
       "      <th>min</th>\n",
       "      <td>-8.760</td>\n",
       "      <td>-7.084</td>\n",
       "      <td>-11.970</td>\n",
       "      <td>0.000</td>\n",
       "    </tr>\n",
       "    <tr>\n",
       "      <th>25%</th>\n",
       "      <td>-1.162</td>\n",
       "      <td>-1.175</td>\n",
       "      <td>0.130</td>\n",
       "      <td>59.450</td>\n",
       "    </tr>\n",
       "    <tr>\n",
       "      <th>50%</th>\n",
       "      <td>0.009</td>\n",
       "      <td>-0.009</td>\n",
       "      <td>2.484</td>\n",
       "      <td>94.926</td>\n",
       "    </tr>\n",
       "    <tr>\n",
       "      <th>75%</th>\n",
       "      <td>1.159</td>\n",
       "      <td>1.164</td>\n",
       "      <td>4.859</td>\n",
       "      <td>130.595</td>\n",
       "    </tr>\n",
       "    <tr>\n",
       "      <th>max</th>\n",
       "      <td>7.238</td>\n",
       "      <td>7.845</td>\n",
       "      <td>16.739</td>\n",
       "      <td>190.030</td>\n",
       "    </tr>\n",
       "  </tbody>\n",
       "</table>\n",
       "</div>"
      ],
      "text/plain": [
       "              f0         f1         f2    product\n",
       "count 100000.000 100000.000 100000.000 100000.000\n",
       "mean       0.002     -0.002      2.495     95.000\n",
       "std        1.732      1.730      3.473     44.750\n",
       "min       -8.760     -7.084    -11.970      0.000\n",
       "25%       -1.162     -1.175      0.130     59.450\n",
       "50%        0.009     -0.009      2.484     94.926\n",
       "75%        1.159      1.164      4.859    130.595\n",
       "max        7.238      7.845     16.739    190.030"
      ]
     },
     "metadata": {},
     "output_type": "display_data"
    },
    {
     "name": "stdout",
     "output_type": "stream",
     "text": [
      "---------------------------------------------------------------------------\n"
     ]
    }
   ],
   "source": [
    "# сделаем список датасетов для перебора\n",
    "data_list = [data_0, data_1, data_2]\n",
    "\n",
    "# посмотрим на общую информацию\n",
    "for df in data_list:\n",
    "    display(df.head())\n",
    "    display(df.info())\n",
    "    display(df.describe())\n",
    "    print('-' * 75)"
   ]
  },
  {
   "cell_type": "markdown",
   "metadata": {},
   "source": [
    "### ✅ Вывод:\n",
    "<div>\n",
    "    <br>► Каждый датасет содержит одинаковое количество данных, по 100 000 строк и 5 колонок\n",
    "    <br>► Пропуски отсутствуют\n",
    "    <br>► Названия колонок соблюдают единый стиль\n",
    "    <br>► С типами данных тоже всё в порядке, все численные столбцы имеют тип float\n",
    "    <br>► Столбец <strong>id</strong> можно удалить, так как он является категориальным и не будет нести никакого смысла для обучения модели линейной регрессии </div>"
   ]
  },
  {
   "cell_type": "markdown",
   "metadata": {},
   "source": [
    "## Предобработка данных"
   ]
  },
  {
   "cell_type": "code",
   "execution_count": 4,
   "metadata": {
    "scrolled": false
   },
   "outputs": [
    {
     "data": {
      "text/plain": [
       "0"
      ]
     },
     "metadata": {},
     "output_type": "display_data"
    },
    {
     "data": {
      "text/plain": [
       "id         0\n",
       "f0         0\n",
       "f1         0\n",
       "f2         0\n",
       "product    0\n",
       "dtype: int64"
      ]
     },
     "metadata": {},
     "output_type": "display_data"
    },
    {
     "name": "stdout",
     "output_type": "stream",
     "text": [
      "------------------------------\n"
     ]
    },
    {
     "data": {
      "text/plain": [
       "0"
      ]
     },
     "metadata": {},
     "output_type": "display_data"
    },
    {
     "data": {
      "text/plain": [
       "id         0\n",
       "f0         0\n",
       "f1         0\n",
       "f2         0\n",
       "product    0\n",
       "dtype: int64"
      ]
     },
     "metadata": {},
     "output_type": "display_data"
    },
    {
     "name": "stdout",
     "output_type": "stream",
     "text": [
      "------------------------------\n"
     ]
    },
    {
     "data": {
      "text/plain": [
       "0"
      ]
     },
     "metadata": {},
     "output_type": "display_data"
    },
    {
     "data": {
      "text/plain": [
       "id         0\n",
       "f0         0\n",
       "f1         0\n",
       "f2         0\n",
       "product    0\n",
       "dtype: int64"
      ]
     },
     "metadata": {},
     "output_type": "display_data"
    },
    {
     "name": "stdout",
     "output_type": "stream",
     "text": [
      "------------------------------\n"
     ]
    }
   ],
   "source": [
    "# проверим наличие явных и неявных дубликатов\n",
    "for df in data_list:\n",
    "    display(df.duplicated().sum())\n",
    "    display(df[df.duplicated(keep='first')].count())\n",
    "    print('-' * 30)"
   ]
  },
  {
   "cell_type": "markdown",
   "metadata": {},
   "source": [
    "📌 Дублей не наблюдается, значит спокойно удаляем не нужный для дальнейшего исследования столбец"
   ]
  },
  {
   "cell_type": "code",
   "execution_count": 5,
   "metadata": {},
   "outputs": [],
   "source": [
    "# удаляем категориальный столбец\n",
    "for df in data_list:\n",
    "    df = df.drop(['id'], axis=1, inplace=True)"
   ]
  },
  {
   "cell_type": "markdown",
   "metadata": {},
   "source": [
    "📌 После того, как мы убедились в отсутствии дублей и удалили лишнюю колонку, можем проверить корреляцию признаков"
   ]
  },
  {
   "cell_type": "code",
   "execution_count": 6,
   "metadata": {
    "scrolled": false
   },
   "outputs": [
    {
     "data": {
      "image/png": "[encoded data removed]",
      "text/plain": [
       "<Figure size 720x576 with 2 Axes>"
      ]
     },
     "metadata": {
      "needs_background": "light"
     },
     "output_type": "display_data"
    },
    {
     "data": {
      "image/png": "[encoded data removed]",
      "text/plain": [
       "<Figure size 720x576 with 2 Axes>"
      ]
     },
     "metadata": {
      "needs_background": "light"
     },
     "output_type": "display_data"
    },
    {
     "data": {
      "image/png": "[encoded data removed]",
      "text/plain": [
       "<Figure size 720x576 with 2 Axes>"
      ]
     },
     "metadata": {
      "needs_background": "light"
     },
     "output_type": "display_data"
    }
   ],
   "source": [
    "for df in data_list:\n",
    "    fig, ax = plt.subplots(figsize=(10, 8))\n",
    "    sns.heatmap(df.corr(), \n",
    "            annot=True, \n",
    "            cmap='BuPu', \n",
    "            vmin=-1, vmax=1, \n",
    "            center=0, fmt='.1g',\n",
    "            linewidths=3,\n",
    "            square=True);"
   ]
  },
  {
   "cell_type": "markdown",
   "metadata": {},
   "source": [
    "<div>\n",
    "    <br>📌 В нулевом и втором регионах наблюдается средняя положительная корреляция между f2 и целевым признаком. В первом регионе она отмечается в виде прямой связи. Скорее всего, f2 действительно сильно влияет на объём запасов в скважине\n",
    "    <br>📌 Также в нулевом регионе можно отметить среднюю положительную зависимость между f0 и f1\n",
    "    <br>📌 Каждый из признаков является значимым, но так как они зашифрованы, мы не сможем предположить что именно они означают, поэтому будем считать, что признак f2 имеет хорошую предсказательную силу </div>"
   ]
  },
  {
   "cell_type": "markdown",
   "metadata": {},
   "source": [
    "### ✅ Вывод:\n",
    "<div>\n",
    "    <br>► Дубликаты не обнаружены\n",
    "    <br>► Удален незначительный столбец с уникальным идентификатором скважины\n",
    "    <br>► Исследована мультиколлинеарность признаков"
   ]
  },
  {
   "cell_type": "markdown",
   "metadata": {},
   "source": [
    "## Обучение и проверка модели"
   ]
  },
  {
   "cell_type": "code",
   "execution_count": 7,
   "metadata": {},
   "outputs": [],
   "source": [
    "# зафиксируем псевдослучайность\n",
    "seed = 12345\n",
    "\n",
    "# выберем численные признаки, которые нужно привести к единому масштабу\n",
    "numeric = ['f0', 'f1', 'f2']"
   ]
  },
  {
   "cell_type": "markdown",
   "metadata": {},
   "source": [
    "<br>📌 Сначала разобъем данные на признаки и целевой признак, потом на две выборки \n",
    "<br>📌 Так как численные признаки измеряются в разных единицах, а значит покрывают разные диапазоны, и, чтобы алгоритм не решил, что какой-то признак важнее другого – приведем их к единому масштабу"
   ]
  },
  {
   "cell_type": "code",
   "execution_count": 8,
   "metadata": {},
   "outputs": [],
   "source": [
    "# поставим для игнорирования предупреждения SettingWithCopy\n",
    "pd.options.mode.chained_assignment = None\n",
    "\n",
    "# функция для разделения и масштабирования данных\n",
    "def train_valid_split_scaler(df):\n",
    "    \n",
    "    features = df.drop(['product'], axis=1) # признаки\n",
    "    target = df['product'] # целевой признак\n",
    "    \n",
    "    # разобъем данные на обучающую и валидационную выборки в соотношении 75% : 25%\n",
    "    features_train, features_valid, target_train, target_valid = train_test_split(features,\n",
    "                                                                                  target,\n",
    "                                                                                  test_size = 0.25,\n",
    "                                                                                  random_state = seed)\n",
    "    # проверим, что ничего не потеряли\n",
    "    display(df.shape[0] == features_train.shape[0] + features_valid.shape[0])\n",
    "    \n",
    "    scaler = StandardScaler() # создадим объект структуры\n",
    "    scaler.fit(features_train[numeric]) # настроим на обучающих данных\n",
    "    # преобразуем\n",
    "    features_train[numeric] = scaler.transform(features_train[numeric])\n",
    "    features_valid[numeric] = scaler.transform(features_valid[numeric])\n",
    "    \n",
    "    # проверим \n",
    "    display(features_train.head(2))\n",
    "    display(features_valid.head(2))\n",
    "    print('-' * 40)\n",
    "    \n",
    "    return features_train, features_valid, target_train, target_valid"
   ]
  },
  {
   "cell_type": "code",
   "execution_count": 9,
   "metadata": {
    "scrolled": false
   },
   "outputs": [
    {
     "data": {
      "text/plain": [
       "True"
      ]
     },
     "metadata": {},
     "output_type": "display_data"
    },
    {
     "data": {
      "text/html": [
       "<div>\n",
       "<style scoped>\n",
       "    .dataframe tbody tr th:only-of-type {\n",
       "        vertical-align: middle;\n",
       "    }\n",
       "\n",
       "    .dataframe tbody tr th {\n",
       "        vertical-align: top;\n",
       "    }\n",
       "\n",
       "    .dataframe thead th {\n",
       "        text-align: right;\n",
       "    }\n",
       "</style>\n",
       "<table border=\"1\" class=\"dataframe\">\n",
       "  <thead>\n",
       "    <tr style=\"text-align: right;\">\n",
       "      <th></th>\n",
       "      <th>f0</th>\n",
       "      <th>f1</th>\n",
       "      <th>f2</th>\n",
       "    </tr>\n",
       "  </thead>\n",
       "  <tbody>\n",
       "    <tr>\n",
       "      <th>27212</th>\n",
       "      <td>-0.545</td>\n",
       "      <td>1.390</td>\n",
       "      <td>-0.095</td>\n",
       "    </tr>\n",
       "    <tr>\n",
       "      <th>7866</th>\n",
       "      <td>1.456</td>\n",
       "      <td>-0.480</td>\n",
       "      <td>1.210</td>\n",
       "    </tr>\n",
       "  </tbody>\n",
       "</table>\n",
       "</div>"
      ],
      "text/plain": [
       "          f0     f1     f2\n",
       "27212 -0.545  1.390 -0.095\n",
       "7866   1.456 -0.480  1.210"
      ]
     },
     "metadata": {},
     "output_type": "display_data"
    },
    {
     "data": {
      "text/html": [
       "<div>\n",
       "<style scoped>\n",
       "    .dataframe tbody tr th:only-of-type {\n",
       "        vertical-align: middle;\n",
       "    }\n",
       "\n",
       "    .dataframe tbody tr th {\n",
       "        vertical-align: top;\n",
       "    }\n",
       "\n",
       "    .dataframe thead th {\n",
       "        text-align: right;\n",
       "    }\n",
       "</style>\n",
       "<table border=\"1\" class=\"dataframe\">\n",
       "  <thead>\n",
       "    <tr style=\"text-align: right;\">\n",
       "      <th></th>\n",
       "      <th>f0</th>\n",
       "      <th>f1</th>\n",
       "      <th>f2</th>\n",
       "    </tr>\n",
       "  </thead>\n",
       "  <tbody>\n",
       "    <tr>\n",
       "      <th>71751</th>\n",
       "      <td>0.518</td>\n",
       "      <td>-0.610</td>\n",
       "      <td>-0.126</td>\n",
       "    </tr>\n",
       "    <tr>\n",
       "      <th>80493</th>\n",
       "      <td>0.568</td>\n",
       "      <td>-0.086</td>\n",
       "      <td>-0.815</td>\n",
       "    </tr>\n",
       "  </tbody>\n",
       "</table>\n",
       "</div>"
      ],
      "text/plain": [
       "         f0     f1     f2\n",
       "71751 0.518 -0.610 -0.126\n",
       "80493 0.568 -0.086 -0.815"
      ]
     },
     "metadata": {},
     "output_type": "display_data"
    },
    {
     "name": "stdout",
     "output_type": "stream",
     "text": [
      "----------------------------------------\n"
     ]
    },
    {
     "data": {
      "text/plain": [
       "True"
      ]
     },
     "metadata": {},
     "output_type": "display_data"
    },
    {
     "data": {
      "text/html": [
       "<div>\n",
       "<style scoped>\n",
       "    .dataframe tbody tr th:only-of-type {\n",
       "        vertical-align: middle;\n",
       "    }\n",
       "\n",
       "    .dataframe tbody tr th {\n",
       "        vertical-align: top;\n",
       "    }\n",
       "\n",
       "    .dataframe thead th {\n",
       "        text-align: right;\n",
       "    }\n",
       "</style>\n",
       "<table border=\"1\" class=\"dataframe\">\n",
       "  <thead>\n",
       "    <tr style=\"text-align: right;\">\n",
       "      <th></th>\n",
       "      <th>f0</th>\n",
       "      <th>f1</th>\n",
       "      <th>f2</th>\n",
       "    </tr>\n",
       "  </thead>\n",
       "  <tbody>\n",
       "    <tr>\n",
       "      <th>27212</th>\n",
       "      <td>-0.851</td>\n",
       "      <td>0.624</td>\n",
       "      <td>0.297</td>\n",
       "    </tr>\n",
       "    <tr>\n",
       "      <th>7866</th>\n",
       "      <td>1.972</td>\n",
       "      <td>1.832</td>\n",
       "      <td>0.294</td>\n",
       "    </tr>\n",
       "  </tbody>\n",
       "</table>\n",
       "</div>"
      ],
      "text/plain": [
       "          f0    f1    f2\n",
       "27212 -0.851 0.624 0.297\n",
       "7866   1.972 1.832 0.294"
      ]
     },
     "metadata": {},
     "output_type": "display_data"
    },
    {
     "data": {
      "text/html": [
       "<div>\n",
       "<style scoped>\n",
       "    .dataframe tbody tr th:only-of-type {\n",
       "        vertical-align: middle;\n",
       "    }\n",
       "\n",
       "    .dataframe tbody tr th {\n",
       "        vertical-align: top;\n",
       "    }\n",
       "\n",
       "    .dataframe thead th {\n",
       "        text-align: right;\n",
       "    }\n",
       "</style>\n",
       "<table border=\"1\" class=\"dataframe\">\n",
       "  <thead>\n",
       "    <tr style=\"text-align: right;\">\n",
       "      <th></th>\n",
       "      <th>f0</th>\n",
       "      <th>f1</th>\n",
       "      <th>f2</th>\n",
       "    </tr>\n",
       "  </thead>\n",
       "  <tbody>\n",
       "    <tr>\n",
       "      <th>71751</th>\n",
       "      <td>-0.169</td>\n",
       "      <td>0.571</td>\n",
       "      <td>0.297</td>\n",
       "    </tr>\n",
       "    <tr>\n",
       "      <th>80493</th>\n",
       "      <td>0.878</td>\n",
       "      <td>-1.773</td>\n",
       "      <td>-0.294</td>\n",
       "    </tr>\n",
       "  </tbody>\n",
       "</table>\n",
       "</div>"
      ],
      "text/plain": [
       "          f0     f1     f2\n",
       "71751 -0.169  0.571  0.297\n",
       "80493  0.878 -1.773 -0.294"
      ]
     },
     "metadata": {},
     "output_type": "display_data"
    },
    {
     "name": "stdout",
     "output_type": "stream",
     "text": [
      "----------------------------------------\n"
     ]
    },
    {
     "data": {
      "text/plain": [
       "True"
      ]
     },
     "metadata": {},
     "output_type": "display_data"
    },
    {
     "data": {
      "text/html": [
       "<div>\n",
       "<style scoped>\n",
       "    .dataframe tbody tr th:only-of-type {\n",
       "        vertical-align: middle;\n",
       "    }\n",
       "\n",
       "    .dataframe tbody tr th {\n",
       "        vertical-align: top;\n",
       "    }\n",
       "\n",
       "    .dataframe thead th {\n",
       "        text-align: right;\n",
       "    }\n",
       "</style>\n",
       "<table border=\"1\" class=\"dataframe\">\n",
       "  <thead>\n",
       "    <tr style=\"text-align: right;\">\n",
       "      <th></th>\n",
       "      <th>f0</th>\n",
       "      <th>f1</th>\n",
       "      <th>f2</th>\n",
       "    </tr>\n",
       "  </thead>\n",
       "  <tbody>\n",
       "    <tr>\n",
       "      <th>27212</th>\n",
       "      <td>-0.526</td>\n",
       "      <td>0.776</td>\n",
       "      <td>-0.401</td>\n",
       "    </tr>\n",
       "    <tr>\n",
       "      <th>7866</th>\n",
       "      <td>-0.890</td>\n",
       "      <td>-0.404</td>\n",
       "      <td>-1.223</td>\n",
       "    </tr>\n",
       "  </tbody>\n",
       "</table>\n",
       "</div>"
      ],
      "text/plain": [
       "          f0     f1     f2\n",
       "27212 -0.526  0.776 -0.401\n",
       "7866  -0.890 -0.404 -1.223"
      ]
     },
     "metadata": {},
     "output_type": "display_data"
    },
    {
     "data": {
      "text/html": [
       "<div>\n",
       "<style scoped>\n",
       "    .dataframe tbody tr th:only-of-type {\n",
       "        vertical-align: middle;\n",
       "    }\n",
       "\n",
       "    .dataframe tbody tr th {\n",
       "        vertical-align: top;\n",
       "    }\n",
       "\n",
       "    .dataframe thead th {\n",
       "        text-align: right;\n",
       "    }\n",
       "</style>\n",
       "<table border=\"1\" class=\"dataframe\">\n",
       "  <thead>\n",
       "    <tr style=\"text-align: right;\">\n",
       "      <th></th>\n",
       "      <th>f0</th>\n",
       "      <th>f1</th>\n",
       "      <th>f2</th>\n",
       "    </tr>\n",
       "  </thead>\n",
       "  <tbody>\n",
       "    <tr>\n",
       "      <th>71751</th>\n",
       "      <td>-0.837</td>\n",
       "      <td>-2.227</td>\n",
       "      <td>-0.078</td>\n",
       "    </tr>\n",
       "    <tr>\n",
       "      <th>80493</th>\n",
       "      <td>-0.822</td>\n",
       "      <td>0.740</td>\n",
       "      <td>-1.001</td>\n",
       "    </tr>\n",
       "  </tbody>\n",
       "</table>\n",
       "</div>"
      ],
      "text/plain": [
       "          f0     f1     f2\n",
       "71751 -0.837 -2.227 -0.078\n",
       "80493 -0.822  0.740 -1.001"
      ]
     },
     "metadata": {},
     "output_type": "display_data"
    },
    {
     "name": "stdout",
     "output_type": "stream",
     "text": [
      "----------------------------------------\n"
     ]
    }
   ],
   "source": [
    "# проверяем нулевой регион\n",
    "features_train_0, features_valid_0, target_train_0, target_valid_0 = train_valid_split_scaler(data_0)\n",
    "\n",
    "# проверяем первый регион\n",
    "features_train_1, features_valid_1, target_train_1, target_valid_1 = train_valid_split_scaler(data_1)\n",
    "\n",
    "# проверяем второй регион\n",
    "features_train_2, features_valid_2, target_train_2, target_valid_2 = train_valid_split_scaler(data_2)"
   ]
  },
  {
   "cell_type": "markdown",
   "metadata": {},
   "source": [
    "<br>📌 После того, как убедились, что всё в порядке, можем инициализировать и обучить модель линейной регрессии, а также рассчитать истинный средний запас сырья, средний запас предсказанного сырья и RMSE модели\n",
    "<br>📌 Чем ниже RMSE, тем лучше модель соответствует набору данных"
   ]
  },
  {
   "cell_type": "code",
   "execution_count": 10,
   "metadata": {},
   "outputs": [],
   "source": [
    "def learn_model_stats(features_train, features_valid, target_train, target_valid):\n",
    "    \n",
    "    model = LinearRegression()\n",
    "    model.fit(features_train, target_train)\n",
    "    predictions = model.predict(features_valid)\n",
    "    \n",
    "    # вычисляем истинный средний запас сырья\n",
    "    target_valid_mean = target_valid.mean()\n",
    "    # вычисляем средний запас предсказанного сырья\n",
    "    predictions_mean = predictions.mean()\n",
    "    # вычисляем RMSE\n",
    "    rmse = mean_squared_error(target_valid, predictions)**0.5 \n",
    "    \n",
    "    print(f'Истинный средний запас сырья: {target_valid_mean:.3f} тыс. баррелей')\n",
    "    print()\n",
    "    print(f'Средний запас предсказанного сырья: {predictions_mean:.3f} тыс. баррелей')\n",
    "    print()\n",
    "    print(f'RMSE модели: {rmse:.0f}') \n",
    "    print()\n",
    "    print('-' * 75)\n",
    "    print()\n",
    "    \n",
    "    return predictions"
   ]
  },
  {
   "cell_type": "code",
   "execution_count": 11,
   "metadata": {},
   "outputs": [
    {
     "name": "stdout",
     "output_type": "stream",
     "text": [
      "Истинный средний запас сырья: 92.079 тыс. баррелей\n",
      "\n",
      "Средний запас предсказанного сырья: 92.593 тыс. баррелей\n",
      "\n",
      "RMSE модели: 38\n",
      "\n",
      "---------------------------------------------------------------------------\n",
      "\n",
      "Истинный средний запас сырья: 68.723 тыс. баррелей\n",
      "\n",
      "Средний запас предсказанного сырья: 68.729 тыс. баррелей\n",
      "\n",
      "RMSE модели: 1\n",
      "\n",
      "---------------------------------------------------------------------------\n",
      "\n",
      "Истинный средний запас сырья: 94.884 тыс. баррелей\n",
      "\n",
      "Средний запас предсказанного сырья: 94.965 тыс. баррелей\n",
      "\n",
      "RMSE модели: 40\n",
      "\n",
      "---------------------------------------------------------------------------\n",
      "\n"
     ]
    }
   ],
   "source": [
    "predictions_0_region = learn_model_stats(features_train_0, features_valid_0, target_train_0, target_valid_0)\n",
    "\n",
    "predictions_1_region = learn_model_stats(features_train_1, features_valid_1, target_train_1, target_valid_1)\n",
    "\n",
    "predictions_2_region = learn_model_stats(features_train_2, features_valid_2, target_train_2, target_valid_2)"
   ]
  },
  {
   "cell_type": "markdown",
   "metadata": {},
   "source": [
    "### ✅ Вывод:\n",
    "<div>\n",
    "    <br>► Показатели нулевого и второго региона практически на одном уровне как по запасам сырья, так и по разнице между прогнозируемыми и фактическими значениями\n",
    "    <br>► Наибольшая точность отмечается у модели, которая предсказывала данные для первого региона – среднеквадратическая ошибка составляет примерно 1 тыс. баррель, скорее всего, из-за влияния корреляции f2 и целевого признака. Но по объему запаса сырья данный регион является отстающим"
   ]
  },
  {
   "cell_type": "markdown",
   "metadata": {},
   "source": [
    "## Подготовка к расчёту прибыли"
   ]
  },
  {
   "cell_type": "markdown",
   "metadata": {},
   "source": [
    "📌 Создадим константы Python для всех ключевых значений, т.е. значения, которые никогда не меняются во время выполнения программы. Согласно PEP, константы записываются только заглавными буквами\n",
    "<br>\n",
    "<br>► При разведке региона исследуют 500 точек, значим определим это значение в константу TOTAL_POINTS\n",
    "<br>► Из которых с помощью машинного обучения выбирают 200 лучших для разработки – BEST_POINTS\n",
    "<br>► Бюджет на разработку скважин в регионе — 10 млрд рублей – BUDGET\n",
    "<br>► Доход с каждой единицы продукта составляет 450 тыс. рублей, поскольку объём указан в тысячах баррелей – BARREL_PRICE"
   ]
  },
  {
   "cell_type": "code",
   "execution_count": 12,
   "metadata": {},
   "outputs": [],
   "source": [
    "TOTAL_POINTS = 500\n",
    "BEST_POINTS = 200\n",
    "BUDGET = 10**10\n",
    "BARREL_PRICE = 450000"
   ]
  },
  {
   "cell_type": "code",
   "execution_count": 13,
   "metadata": {},
   "outputs": [
    {
     "name": "stdout",
     "output_type": "stream",
     "text": [
      "Достаточный объём сырья для безубыточной разработки новой скважины составляет 111 тыс. баррелей\n"
     ]
    }
   ],
   "source": [
    "# делим бюджет на разработку одной новой скважины на доход с каждой единицы продукта\n",
    "sufficient_product_quantity = BUDGET / BEST_POINTS / BARREL_PRICE\n",
    "\n",
    "print(f'Достаточный объём сырья для безубыточной разработки новой скважины составляет {sufficient_product_quantity:.0f} тыс. баррелей')"
   ]
  },
  {
   "cell_type": "code",
   "execution_count": 14,
   "metadata": {},
   "outputs": [],
   "source": [
    "target_valid_0 = pd.Series(target_valid_0).reset_index(drop=True)\n",
    "target_valid_1 = pd.Series(target_valid_1).reset_index(drop=True)\n",
    "target_valid_2 = pd.Series(target_valid_2).reset_index(drop=True)\n",
    "predictions_0_region = pd.Series(predictions_0_region).reset_index(drop=True)\n",
    "predictions_1_region = pd.Series(predictions_1_region).reset_index(drop=True)\n",
    "predictions_2_region = pd.Series(predictions_2_region).reset_index(drop=True)"
   ]
  },
  {
   "cell_type": "code",
   "execution_count": 20,
   "metadata": {},
   "outputs": [],
   "source": [
    "# функция расчёта прибыли для полученного объёма сырья\n",
    "def calc_profits(target, predictions):\n",
    "    predictions_sorted = predictions.sort_values(ascending=False) # сортируем предсказания по убыванию\n",
    "    top_200_predictions = target[predictions_sorted.index][:BEST_POINTS] # выбираем первые 200 предсказанных значений\n",
    "    profits = BARREL_PRICE * top_200_predictions.sum() - BUDGET # суммируем целевое значение объёма сырья\n",
    "    return profits                                          # и получаем прибыль от полученного объёма сырья"
   ]
  },
  {
   "cell_type": "code",
   "execution_count": 21,
   "metadata": {},
   "outputs": [
    {
     "name": "stdout",
     "output_type": "stream",
     "text": [
      "Прибыль для полученного объёма сырья нулевого региона составляет 3.3 млрд руб.\n",
      "\n",
      "Прибыль для полученного объёма сырья первого региона составляет 2.4 млрд руб.\n",
      "\n",
      "Прибыль для полученного объёма сырья второго региона составляет 2.7 млрд руб.\n",
      "\n"
     ]
    }
   ],
   "source": [
    "profits_0_region = calc_profits(target_valid_0, predictions_0_region)\n",
    "print(f'Прибыль для полученного объёма сырья нулевого региона составляет {profits_0_region/ 10**9:.1f} млрд руб.')\n",
    "print()\n",
    "\n",
    "profits_1_region = calc_profits(target_valid_1, predictions_1_region)\n",
    "print(f'Прибыль для полученного объёма сырья первого региона составляет {profits_1_region/ 10**9:.1f} млрд руб.')\n",
    "print()\n",
    "\n",
    "profits_2_region = calc_profits(target_valid_2, predictions_2_region)\n",
    "print(f'Прибыль для полученного объёма сырья второго региона составляет {profits_2_region/ 10**9:.1f} млрд руб.')\n",
    "print()"
   ]
  },
  {
   "cell_type": "markdown",
   "metadata": {},
   "source": [
    "### ✅ Вывод:\n",
    "<div>\n",
    "    <br>► Рассчитали достаточный объем сырья для безубыточной разработки новой скважины должен быть – 111 тыс. баррелей \n",
    "    <br>► Написана функция расчёта прибыли для полученного объёма сырья. Самым прибыльным показал себя нулевой регион с доходом более 3х миллиардов рублей </div>"
   ]
  },
  {
   "cell_type": "markdown",
   "metadata": {},
   "source": [
    "## Расчёт прибыли и рисков "
   ]
  },
  {
   "cell_type": "markdown",
   "metadata": {},
   "source": [
    "<div>Посчитаем риски и прибыль для каждого региона:\n",
    "<br>► Применим технику Bootstrap с 1000 выборок, чтобы найти распределение прибыли.\n",
    "<br>► Найдем среднюю прибыль, 95%-й доверительный интервал и риск убытков. Убыток — это отрицательная прибыль."
   ]
  },
  {
   "cell_type": "code",
   "execution_count": 22,
   "metadata": {},
   "outputs": [],
   "source": [
    "state = np.random.RandomState(12345)"
   ]
  },
  {
   "cell_type": "code",
   "execution_count": 24,
   "metadata": {},
   "outputs": [],
   "source": [
    "# Bootstrap с 1000 выборок\n",
    "\n",
    "def bootstap(target, predictions):\n",
    "    \n",
    "    values = []\n",
    "    \n",
    "    for i in range(1000):\n",
    "        # аргумент replace=True обеспечит выбор элементов с возвращением\n",
    "        target_sample = target.sample(n=TOTAL_POINTS, replace=True, random_state=state)\n",
    "        pred_sample = predictions[target_sample.index]\n",
    "        values.append(calc_profits(target_sample, pred_sample))\n",
    "    \n",
    "    # преобразуем тип для удобства\n",
    "    values = pd.Series(values)\n",
    "    \n",
    "    # считаем среднюю прибыль\n",
    "    mean_profit = values.mean()\n",
    "    \n",
    "    # находим 95% доверительный интервал\n",
    "    lower = values.quantile(0.025)\n",
    "    upper = values.quantile(0.975)\n",
    "    \n",
    "    # считаем риск убытков (тк это отрицательная прибыль, то подходят значения values меньше 0)\n",
    "    loss_risk = (values<0).mean()\n",
    "    \n",
    "    print(f'Средняя прибыль составляет {mean_profit/ 10**6:.1f} млн руб.')\n",
    "    print(f'95%-й доверительный интервал от {lower/ 10**6:.1f} до {upper/ 10**6:.1f} руб.')\n",
    "    print(f'Риск убытков: {loss_risk:.1%}')\n",
    "    print()\n",
    "    print('-' * 75)\n",
    "    print()\n",
    "    \n",
    "    return values, lower, upper, loss_risk"
   ]
  },
  {
   "cell_type": "code",
   "execution_count": 26,
   "metadata": {
    "scrolled": true
   },
   "outputs": [
    {
     "name": "stdout",
     "output_type": "stream",
     "text": [
      "Средняя прибыль составляет 424.4 млн руб.\n",
      "95%-й доверительный интервал от -102.9 до 976.6 руб.\n",
      "Риск убытков: 5.2%\n",
      "\n",
      "---------------------------------------------------------------------------\n",
      "\n",
      "Средняя прибыль составляет 504.7 млн руб.\n",
      "95%-й доверительный интервал от 77.4 до 932.9 руб.\n",
      "Риск убытков: 0.9%\n",
      "\n",
      "---------------------------------------------------------------------------\n",
      "\n",
      "Средняя прибыль составляет 410.2 млн руб.\n",
      "95%-й доверительный интервал от -195.4 до 961.3 руб.\n",
      "Риск убытков: 9.0%\n",
      "\n",
      "---------------------------------------------------------------------------\n",
      "\n"
     ]
    }
   ],
   "source": [
    "values_0, lower_0, upper_0, loss_risk_0 = bootstap(target_valid_0, predictions_0_region)\n",
    "\n",
    "values_1, lower_1, upper_1, loss_risk_1 = bootstap(target_valid_1, predictions_1_region)\n",
    "\n",
    "values_2, lower_2, upper_2, loss_risk_2 = bootstap(target_valid_2, predictions_2_region)"
   ]
  },
  {
   "cell_type": "markdown",
   "metadata": {},
   "source": [
    "### ✅ Вывод:\n",
    "<div>\n",
    "    <br>► Нулевой и второй регионы по средней прибыли примерно одинаковы, и, также, оба уходят в отрицательный доверительный интервал\n",
    "    <br>► После оценки рисков оставляем лишь те регионы, в которых вероятность убытков меньше 2.5%, и под данное условие нам подходит только первый регион, он же заодно является регионом с наибольшей средней прибылью\n",
    "    "
   ]
  },
  {
   "cell_type": "markdown",
   "metadata": {},
   "source": [
    "## Общий вывод"
   ]
  },
  {
   "cell_type": "markdown",
   "metadata": {},
   "source": [
    "<div>\n",
    "    <br>🔸 Мы получили три датасета, состоящих из 100 000 строк и 5 колонок, без пропусков и дубликатов, с правильными названиями колонок и нужными типами данных\n",
    "    <br>🔸 ИЗбавились от неинформативного для обучения модели столбца с уникальным идентификатором скважины\n",
    "    <br>🔸 Исследовали мультиколлинеарность признаков и отметили, что, скорее всего, f2 сильно влияет на объём запасов в скважине\n",
    "    <br>🔸 Разбили данные на две выборки – обучающую и валидационную, в соотношении 75% к 25%, обучили модель линейной регрессии и определили, что наибольшая точность у модели, предсказавшей данные для первого региона – среднеквадратическая ошибка составляет примерно 1 тыс. баррель\n",
    "    <br>🔸 Для всех ключевых значений создали константы Python, посчитали минимальное среднее количество продукта в месторождениях региона, достаточное для разработки – 111 тыс. баррелей\n",
    "    <br>🔸 Написали функцию расчёта прибыли для полученного объёма сырья. Самым прибыльным показал себя нулевой регион с доходом более 3х миллиардов рублей\n",
    "    <br>🔸 Провели процедура Bootstrap с 1000 выборок, нашли среднюю прибыль, 95%-й доверительный интервал и риск убытков по каждому региону\n",
    "    <br>\n",
    "    <br>📌 На основании вышеизложенного добывающей компании «ГлавРосГосНефть» при выборе региона, где добыча принесёт наибольшую прибыль стоит рекомендовать первый регион: по средней прибыли он превосходит остальные регионы, по риску убытков также является лучшим – риск составляет примерно 1%, у остальных же выше 2.5%, среднеквадратическая ошибка составляет примерно 1 тыс. баррель, в то время, как у остальных регионов 38 и 40 соответственно"
   ]
  },
  {
   "cell_type": "markdown",
   "metadata": {},
   "source": [
    "## Чек-лист готовности проекта"
   ]
  },
  {
   "cell_type": "markdown",
   "metadata": {},
   "source": [
    "Поставьте 'x' в выполненных пунктах. Далее нажмите Shift+Enter."
   ]
  },
  {
   "cell_type": "markdown",
   "metadata": {},
   "source": [
    "- [x]  Jupyter Notebook открыт\n",
    "- [x]  Весь код выполняется без ошибок\n",
    "- [x]  Ячейки с кодом расположены в порядке исполнения\n",
    "- [x]  Выполнен шаг 1: данные подготовлены\n",
    "- [x]  Выполнен шаг 2: модели обучены и проверены\n",
    "    - [x]  Данные корректно разбиты на обучающую и валидационную выборки\n",
    "    - [x]  Модели обучены, предсказания сделаны\n",
    "    - [x]  Предсказания и правильные ответы на валидационной выборке сохранены\n",
    "    - [x]  На экране напечатаны результаты\n",
    "    - [x]  Сделаны выводы\n",
    "- [x]  Выполнен шаг 3: проведена подготовка к расчёту прибыли\n",
    "    - [x]  Для всех ключевых значений созданы константы Python\n",
    "    - [x]  Посчитано минимальное среднее количество продукта в месторождениях региона, достаточное для разработки\n",
    "    - [x]  По предыдущему пункту сделаны выводы\n",
    "    - [x]  Написана функция расчёта прибыли\n",
    "- [x]  Выполнен шаг 4: посчитаны риски и прибыль\n",
    "    - [x]  Проведена процедура *Bootstrap*\n",
    "    - [x]  Все параметры бутстрепа соответствуют условию\n",
    "    - [x]  Найдены все нужные величины\n",
    "    - [x]  Предложен регион для разработки месторождения\n",
    "    - [x]  Выбор региона обоснован"
   ]
  }
 ],
 "metadata": {
  "ExecuteTimeLog": [
   {
    "duration": 418,
    "start_time": "2022-12-18T06:38:12.955Z"
   },
   {
    "duration": 1217,
    "start_time": "2022-12-18T06:38:59.422Z"
   },
   {
    "duration": 879,
    "start_time": "2022-12-18T06:39:09.533Z"
   },
   {
    "duration": 10,
    "start_time": "2022-12-18T06:49:10.612Z"
   },
   {
    "duration": 370,
    "start_time": "2022-12-18T06:49:14.305Z"
   },
   {
    "duration": 1192,
    "start_time": "2022-12-18T06:49:15.345Z"
   },
   {
    "duration": 753,
    "start_time": "2022-12-18T06:49:24.594Z"
   },
   {
    "duration": 743,
    "start_time": "2022-12-18T06:49:46.923Z"
   },
   {
    "duration": 4,
    "start_time": "2022-12-18T06:51:02.086Z"
   },
   {
    "duration": 4,
    "start_time": "2022-12-18T06:51:06.354Z"
   },
   {
    "duration": 60,
    "start_time": "2022-12-18T06:51:18.480Z"
   },
   {
    "duration": 58,
    "start_time": "2022-12-18T06:51:20.366Z"
   },
   {
    "duration": 61,
    "start_time": "2022-12-18T06:51:20.809Z"
   },
   {
    "duration": 3,
    "start_time": "2022-12-18T06:53:11.965Z"
   },
   {
    "duration": 58,
    "start_time": "2022-12-18T06:53:12.392Z"
   },
   {
    "duration": 54,
    "start_time": "2022-12-18T06:53:12.629Z"
   },
   {
    "duration": 56,
    "start_time": "2022-12-18T06:53:12.867Z"
   },
   {
    "duration": 76,
    "start_time": "2022-12-18T06:53:13.411Z"
   },
   {
    "duration": 3,
    "start_time": "2022-12-18T06:53:20.714Z"
   },
   {
    "duration": 72,
    "start_time": "2022-12-18T06:53:21.049Z"
   },
   {
    "duration": 4,
    "start_time": "2022-12-18T06:53:28.378Z"
   },
   {
    "duration": 60,
    "start_time": "2022-12-18T06:53:32.905Z"
   },
   {
    "duration": 56,
    "start_time": "2022-12-18T06:53:33.543Z"
   },
   {
    "duration": 3,
    "start_time": "2022-12-18T06:54:00.603Z"
   },
   {
    "duration": 58,
    "start_time": "2022-12-18T06:54:03.501Z"
   },
   {
    "duration": 5,
    "start_time": "2022-12-18T06:54:19.395Z"
   },
   {
    "duration": 71,
    "start_time": "2022-12-18T06:54:19.631Z"
   },
   {
    "duration": 3,
    "start_time": "2022-12-18T06:54:26.482Z"
   },
   {
    "duration": 55,
    "start_time": "2022-12-18T06:54:27.124Z"
   },
   {
    "duration": 3,
    "start_time": "2022-12-18T06:54:35.639Z"
   },
   {
    "duration": 53,
    "start_time": "2022-12-18T06:54:35.833Z"
   },
   {
    "duration": 57,
    "start_time": "2022-12-18T06:54:51.813Z"
   },
   {
    "duration": 55,
    "start_time": "2022-12-18T06:54:52.114Z"
   },
   {
    "duration": 71,
    "start_time": "2022-12-18T06:54:52.801Z"
   },
   {
    "duration": 223,
    "start_time": "2022-12-18T06:55:19.650Z"
   },
   {
    "duration": 4,
    "start_time": "2022-12-18T06:55:44.649Z"
   },
   {
    "duration": 4,
    "start_time": "2022-12-18T06:55:59.657Z"
   },
   {
    "duration": 173,
    "start_time": "2022-12-18T06:55:59.848Z"
   },
   {
    "duration": 3,
    "start_time": "2022-12-18T06:56:13.492Z"
   },
   {
    "duration": 187,
    "start_time": "2022-12-18T06:56:13.764Z"
   },
   {
    "duration": 3,
    "start_time": "2022-12-18T06:56:24.409Z"
   },
   {
    "duration": 185,
    "start_time": "2022-12-18T06:56:24.966Z"
   },
   {
    "duration": 3,
    "start_time": "2022-12-18T06:56:35.178Z"
   },
   {
    "duration": 163,
    "start_time": "2022-12-18T06:56:35.368Z"
   },
   {
    "duration": 3,
    "start_time": "2022-12-18T06:56:57.237Z"
   },
   {
    "duration": 183,
    "start_time": "2022-12-18T06:56:57.447Z"
   },
   {
    "duration": 4,
    "start_time": "2022-12-18T06:57:00.320Z"
   },
   {
    "duration": 196,
    "start_time": "2022-12-18T06:57:00.591Z"
   },
   {
    "duration": 3,
    "start_time": "2022-12-18T06:57:43.135Z"
   },
   {
    "duration": 168,
    "start_time": "2022-12-18T06:57:43.394Z"
   },
   {
    "duration": 3,
    "start_time": "2022-12-18T06:57:48.052Z"
   },
   {
    "duration": 180,
    "start_time": "2022-12-18T06:57:48.316Z"
   },
   {
    "duration": 3,
    "start_time": "2022-12-18T06:57:54.033Z"
   },
   {
    "duration": 160,
    "start_time": "2022-12-18T06:57:54.255Z"
   },
   {
    "duration": 3,
    "start_time": "2022-12-18T06:58:08.757Z"
   },
   {
    "duration": 167,
    "start_time": "2022-12-18T06:58:08.957Z"
   },
   {
    "duration": 394,
    "start_time": "2022-12-18T07:18:13.479Z"
   },
   {
    "duration": 3,
    "start_time": "2022-12-18T07:18:13.875Z"
   },
   {
    "duration": 203,
    "start_time": "2022-12-18T07:18:14.219Z"
   },
   {
    "duration": 3,
    "start_time": "2022-12-18T08:04:55.040Z"
   },
   {
    "duration": 404,
    "start_time": "2022-12-18T08:04:55.271Z"
   },
   {
    "duration": 3,
    "start_time": "2022-12-18T08:04:55.740Z"
   },
   {
    "duration": 158,
    "start_time": "2022-12-18T08:04:56.272Z"
   },
   {
    "duration": 8,
    "start_time": "2022-12-18T08:05:31.119Z"
   },
   {
    "duration": 63,
    "start_time": "2022-12-18T08:05:39.655Z"
   },
   {
    "duration": 378,
    "start_time": "2022-12-18T08:07:06.929Z"
   },
   {
    "duration": 3,
    "start_time": "2022-12-18T08:07:07.309Z"
   },
   {
    "duration": 194,
    "start_time": "2022-12-18T08:07:07.657Z"
   },
   {
    "duration": 3,
    "start_time": "2022-12-18T08:09:04.955Z"
   },
   {
    "duration": 118,
    "start_time": "2022-12-18T08:09:06.663Z"
   },
   {
    "duration": 148,
    "start_time": "2022-12-18T08:09:09.747Z"
   },
   {
    "duration": 132,
    "start_time": "2022-12-18T08:09:20.111Z"
   },
   {
    "duration": 138,
    "start_time": "2022-12-18T08:14:46.370Z"
   },
   {
    "duration": 273,
    "start_time": "2022-12-18T08:15:07.947Z"
   },
   {
    "duration": 259,
    "start_time": "2022-12-18T08:16:12.721Z"
   },
   {
    "duration": 266,
    "start_time": "2022-12-18T08:16:30.047Z"
   },
   {
    "duration": 260,
    "start_time": "2022-12-18T08:16:35.467Z"
   },
   {
    "duration": 292,
    "start_time": "2022-12-18T08:16:39.813Z"
   },
   {
    "duration": 211,
    "start_time": "2022-12-18T08:26:36.876Z"
   },
   {
    "duration": 71,
    "start_time": "2022-12-18T08:41:41.243Z"
   },
   {
    "duration": 26,
    "start_time": "2022-12-18T08:42:40.281Z"
   },
   {
    "duration": 24,
    "start_time": "2022-12-18T08:42:48.020Z"
   },
   {
    "duration": 22,
    "start_time": "2022-12-18T08:42:54.778Z"
   },
   {
    "duration": 198,
    "start_time": "2022-12-18T08:42:58.533Z"
   },
   {
    "duration": 34,
    "start_time": "2022-12-18T08:43:25.443Z"
   },
   {
    "duration": 29,
    "start_time": "2022-12-18T08:43:36.287Z"
   },
   {
    "duration": 29,
    "start_time": "2022-12-18T08:44:25.241Z"
   },
   {
    "duration": 268,
    "start_time": "2022-12-18T08:44:42.119Z"
   },
   {
    "duration": 278,
    "start_time": "2022-12-18T08:44:48.401Z"
   },
   {
    "duration": 12,
    "start_time": "2022-12-18T08:46:44.090Z"
   },
   {
    "duration": 22,
    "start_time": "2022-12-18T08:46:56.086Z"
   },
   {
    "duration": 15,
    "start_time": "2022-12-18T08:48:13.922Z"
   },
   {
    "duration": 13,
    "start_time": "2022-12-18T08:48:20.656Z"
   },
   {
    "duration": 437,
    "start_time": "2022-12-18T08:48:34.523Z"
   },
   {
    "duration": 404,
    "start_time": "2022-12-18T08:48:34.962Z"
   },
   {
    "duration": 3,
    "start_time": "2022-12-18T08:48:35.368Z"
   },
   {
    "duration": 213,
    "start_time": "2022-12-18T08:48:35.373Z"
   },
   {
    "duration": 325,
    "start_time": "2022-12-18T08:48:35.588Z"
   },
   {
    "duration": 20,
    "start_time": "2022-12-18T08:48:35.915Z"
   },
   {
    "duration": 177,
    "start_time": "2022-12-18T08:54:06.197Z"
   },
   {
    "duration": 199,
    "start_time": "2022-12-18T08:54:20.257Z"
   },
   {
    "duration": 397,
    "start_time": "2022-12-18T08:54:44.799Z"
   },
   {
    "duration": 405,
    "start_time": "2022-12-18T08:54:45.199Z"
   },
   {
    "duration": 194,
    "start_time": "2022-12-18T08:54:45.606Z"
   },
   {
    "duration": 320,
    "start_time": "2022-12-18T08:54:45.802Z"
   },
   {
    "duration": 32,
    "start_time": "2022-12-18T08:54:46.125Z"
   },
   {
    "duration": 164,
    "start_time": "2022-12-18T08:55:38.001Z"
   },
   {
    "duration": 174,
    "start_time": "2022-12-18T08:55:43.320Z"
   },
   {
    "duration": 144,
    "start_time": "2022-12-18T08:56:03.673Z"
   },
   {
    "duration": 72,
    "start_time": "2022-12-18T08:59:10.317Z"
   },
   {
    "duration": 8,
    "start_time": "2022-12-18T08:59:54.456Z"
   },
   {
    "duration": 763,
    "start_time": "2022-12-18T09:00:10.745Z"
   },
   {
    "duration": 1231,
    "start_time": "2022-12-18T09:00:17.425Z"
   },
   {
    "duration": 394,
    "start_time": "2022-12-18T09:00:18.658Z"
   },
   {
    "duration": 224,
    "start_time": "2022-12-18T09:00:19.054Z"
   },
   {
    "duration": 311,
    "start_time": "2022-12-18T09:00:19.279Z"
   },
   {
    "duration": 21,
    "start_time": "2022-12-18T09:00:19.593Z"
   },
   {
    "duration": 1188,
    "start_time": "2022-12-18T09:00:19.616Z"
   },
   {
    "duration": 71,
    "start_time": "2022-12-18T09:00:29.594Z"
   },
   {
    "duration": 1192,
    "start_time": "2022-12-18T09:00:36.813Z"
   },
   {
    "duration": 213,
    "start_time": "2022-12-18T09:00:53.525Z"
   },
   {
    "duration": 1182,
    "start_time": "2022-12-18T09:01:11.145Z"
   },
   {
    "duration": 1145,
    "start_time": "2022-12-18T09:07:48.380Z"
   },
   {
    "duration": 1050,
    "start_time": "2022-12-18T09:08:07.877Z"
   },
   {
    "duration": 1072,
    "start_time": "2022-12-18T09:09:00.139Z"
   },
   {
    "duration": 71,
    "start_time": "2022-12-18T09:09:07.854Z"
   },
   {
    "duration": 1175,
    "start_time": "2022-12-18T09:09:10.321Z"
   },
   {
    "duration": 1131,
    "start_time": "2022-12-18T09:09:18.742Z"
   },
   {
    "duration": 709,
    "start_time": "2022-12-18T09:09:23.015Z"
   },
   {
    "duration": 1022,
    "start_time": "2022-12-18T09:09:26.258Z"
   },
   {
    "duration": 2213,
    "start_time": "2022-12-18T09:10:11.894Z"
   },
   {
    "duration": 1096,
    "start_time": "2022-12-18T09:10:36.858Z"
   },
   {
    "duration": 1272,
    "start_time": "2022-12-18T09:10:44.691Z"
   },
   {
    "duration": 20,
    "start_time": "2022-12-18T09:10:50.625Z"
   },
   {
    "duration": 1069,
    "start_time": "2022-12-18T09:10:52.863Z"
   },
   {
    "duration": 1056,
    "start_time": "2022-12-18T09:10:56.050Z"
   },
   {
    "duration": 1123,
    "start_time": "2022-12-18T09:10:59.978Z"
   },
   {
    "duration": 1247,
    "start_time": "2022-12-18T09:11:04.198Z"
   },
   {
    "duration": 156,
    "start_time": "2022-12-18T09:12:23.689Z"
   },
   {
    "duration": 166,
    "start_time": "2022-12-18T09:12:25.789Z"
   },
   {
    "duration": 1157,
    "start_time": "2022-12-18T09:12:32.911Z"
   },
   {
    "duration": 769,
    "start_time": "2022-12-18T09:18:07.244Z"
   },
   {
    "duration": 1147,
    "start_time": "2022-12-18T09:18:13.271Z"
   },
   {
    "duration": 21,
    "start_time": "2022-12-18T09:23:58.796Z"
   },
   {
    "duration": 1188,
    "start_time": "2022-12-18T09:24:07.387Z"
   },
   {
    "duration": 390,
    "start_time": "2022-12-18T09:24:08.577Z"
   },
   {
    "duration": 229,
    "start_time": "2022-12-18T09:24:08.969Z"
   },
   {
    "duration": 366,
    "start_time": "2022-12-18T09:24:09.202Z"
   },
   {
    "duration": 23,
    "start_time": "2022-12-18T09:24:09.569Z"
   },
   {
    "duration": 1207,
    "start_time": "2022-12-18T09:24:09.594Z"
   },
   {
    "duration": 3,
    "start_time": "2022-12-18T09:43:04.067Z"
   },
   {
    "duration": 108,
    "start_time": "2022-12-18T09:49:08.840Z"
   },
   {
    "duration": 253,
    "start_time": "2022-12-18T09:49:26.136Z"
   },
   {
    "duration": 42,
    "start_time": "2022-12-18T09:49:29.746Z"
   },
   {
    "duration": 28,
    "start_time": "2022-12-18T09:49:48.248Z"
   },
   {
    "duration": 5,
    "start_time": "2022-12-18T09:50:06.248Z"
   },
   {
    "duration": 4,
    "start_time": "2022-12-18T09:50:12.720Z"
   },
   {
    "duration": 41,
    "start_time": "2022-12-18T09:50:24.858Z"
   },
   {
    "duration": 21,
    "start_time": "2022-12-18T09:51:18.015Z"
   },
   {
    "duration": 31,
    "start_time": "2022-12-18T09:54:50.266Z"
   },
   {
    "duration": 3,
    "start_time": "2022-12-18T09:55:02.175Z"
   },
   {
    "duration": 74,
    "start_time": "2022-12-18T09:55:05.608Z"
   },
   {
    "duration": 106,
    "start_time": "2022-12-18T09:55:31.681Z"
   },
   {
    "duration": 101,
    "start_time": "2022-12-18T09:55:51.929Z"
   },
   {
    "duration": 3,
    "start_time": "2022-12-18T09:56:32.113Z"
   },
   {
    "duration": 103,
    "start_time": "2022-12-18T09:56:58.409Z"
   },
   {
    "duration": 102,
    "start_time": "2022-12-18T09:58:31.709Z"
   },
   {
    "duration": 138,
    "start_time": "2022-12-18T09:58:39.535Z"
   },
   {
    "duration": 126,
    "start_time": "2022-12-18T09:58:52.727Z"
   },
   {
    "duration": 102,
    "start_time": "2022-12-18T09:59:06.573Z"
   },
   {
    "duration": 5,
    "start_time": "2022-12-18T10:01:16.431Z"
   },
   {
    "duration": 6,
    "start_time": "2022-12-18T10:01:40.913Z"
   },
   {
    "duration": 10,
    "start_time": "2022-12-18T10:02:50.159Z"
   },
   {
    "duration": 38,
    "start_time": "2022-12-18T10:02:56.047Z"
   },
   {
    "duration": 124,
    "start_time": "2022-12-18T10:03:35.835Z"
   },
   {
    "duration": 6,
    "start_time": "2022-12-18T10:03:54.219Z"
   },
   {
    "duration": 101,
    "start_time": "2022-12-18T10:04:32.286Z"
   },
   {
    "duration": 5,
    "start_time": "2022-12-18T10:09:36.002Z"
   },
   {
    "duration": 5,
    "start_time": "2022-12-18T10:13:14.467Z"
   },
   {
    "duration": 6,
    "start_time": "2022-12-18T10:14:30.799Z"
   },
   {
    "duration": 125,
    "start_time": "2022-12-18T10:14:31.497Z"
   },
   {
    "duration": 6,
    "start_time": "2022-12-18T10:14:35.479Z"
   },
   {
    "duration": 108,
    "start_time": "2022-12-18T10:14:35.673Z"
   },
   {
    "duration": 6,
    "start_time": "2022-12-18T10:15:42.526Z"
   },
   {
    "duration": 118,
    "start_time": "2022-12-18T10:15:42.963Z"
   },
   {
    "duration": 5,
    "start_time": "2022-12-18T10:18:03.360Z"
   },
   {
    "duration": 116,
    "start_time": "2022-12-18T10:18:03.711Z"
   },
   {
    "duration": 5,
    "start_time": "2022-12-18T10:22:23.649Z"
   },
   {
    "duration": 10,
    "start_time": "2022-12-18T10:22:34.925Z"
   },
   {
    "duration": 53,
    "start_time": "2022-12-18T10:22:40.701Z"
   },
   {
    "duration": 11,
    "start_time": "2022-12-18T10:22:59.092Z"
   },
   {
    "duration": 4,
    "start_time": "2022-12-18T10:23:02.863Z"
   },
   {
    "duration": 15,
    "start_time": "2022-12-18T10:23:03.178Z"
   },
   {
    "duration": 108,
    "start_time": "2022-12-18T10:23:43.686Z"
   },
   {
    "duration": 7,
    "start_time": "2022-12-18T10:34:03.293Z"
   },
   {
    "duration": 102,
    "start_time": "2022-12-18T10:34:04.551Z"
   },
   {
    "duration": 4,
    "start_time": "2022-12-18T10:34:21.827Z"
   },
   {
    "duration": 53,
    "start_time": "2022-12-18T10:34:22.403Z"
   },
   {
    "duration": 3,
    "start_time": "2022-12-18T10:36:35.262Z"
   },
   {
    "duration": 16,
    "start_time": "2022-12-18T10:36:35.586Z"
   },
   {
    "duration": 4,
    "start_time": "2022-12-18T10:36:58.515Z"
   },
   {
    "duration": 14,
    "start_time": "2022-12-18T10:36:58.873Z"
   },
   {
    "duration": 4,
    "start_time": "2022-12-18T10:37:36.504Z"
   },
   {
    "duration": 21,
    "start_time": "2022-12-18T10:37:36.750Z"
   },
   {
    "duration": 5,
    "start_time": "2022-12-18T10:37:53.247Z"
   },
   {
    "duration": 15,
    "start_time": "2022-12-18T10:37:54.782Z"
   },
   {
    "duration": 14,
    "start_time": "2022-12-18T10:38:10.727Z"
   },
   {
    "duration": 214,
    "start_time": "2022-12-18T10:38:35.740Z"
   },
   {
    "duration": 5,
    "start_time": "2022-12-18T10:38:54.676Z"
   },
   {
    "duration": 242,
    "start_time": "2022-12-18T10:38:55.023Z"
   },
   {
    "duration": 4,
    "start_time": "2022-12-18T10:39:14.647Z"
   },
   {
    "duration": 142,
    "start_time": "2022-12-18T10:39:15.014Z"
   },
   {
    "duration": 4,
    "start_time": "2022-12-18T10:39:25.092Z"
   },
   {
    "duration": 157,
    "start_time": "2022-12-18T10:39:25.298Z"
   },
   {
    "duration": 4,
    "start_time": "2022-12-18T10:39:31.166Z"
   },
   {
    "duration": 133,
    "start_time": "2022-12-18T10:39:31.518Z"
   },
   {
    "duration": 4,
    "start_time": "2022-12-18T10:39:42.497Z"
   },
   {
    "duration": 122,
    "start_time": "2022-12-18T10:39:42.832Z"
   },
   {
    "duration": 81,
    "start_time": "2022-12-18T10:41:46.462Z"
   },
   {
    "duration": 5,
    "start_time": "2022-12-18T10:42:12.365Z"
   },
   {
    "duration": 14,
    "start_time": "2022-12-18T10:42:20.849Z"
   },
   {
    "duration": 5,
    "start_time": "2022-12-18T10:43:18.824Z"
   },
   {
    "duration": 193,
    "start_time": "2022-12-18T10:43:19.062Z"
   },
   {
    "duration": 15,
    "start_time": "2022-12-18T10:43:22.646Z"
   },
   {
    "duration": 5,
    "start_time": "2022-12-18T10:44:03.873Z"
   },
   {
    "duration": 149,
    "start_time": "2022-12-18T10:44:04.204Z"
   },
   {
    "duration": 4,
    "start_time": "2022-12-18T10:45:48.620Z"
   },
   {
    "duration": 205,
    "start_time": "2022-12-18T10:45:48.950Z"
   },
   {
    "duration": 4,
    "start_time": "2022-12-18T10:47:11.935Z"
   },
   {
    "duration": 196,
    "start_time": "2022-12-18T10:47:12.160Z"
   },
   {
    "duration": 4,
    "start_time": "2022-12-18T10:47:35.088Z"
   },
   {
    "duration": 186,
    "start_time": "2022-12-18T10:47:35.370Z"
   },
   {
    "duration": 6,
    "start_time": "2022-12-18T10:47:39.716Z"
   },
   {
    "duration": 163,
    "start_time": "2022-12-18T10:47:39.998Z"
   },
   {
    "duration": 4,
    "start_time": "2022-12-18T10:47:46.276Z"
   },
   {
    "duration": 175,
    "start_time": "2022-12-18T10:47:46.485Z"
   },
   {
    "duration": 4,
    "start_time": "2022-12-18T10:47:54.726Z"
   },
   {
    "duration": 213,
    "start_time": "2022-12-18T10:47:54.943Z"
   },
   {
    "duration": 7,
    "start_time": "2022-12-18T10:48:02.946Z"
   },
   {
    "duration": 103,
    "start_time": "2022-12-18T10:48:03.195Z"
   },
   {
    "duration": 157,
    "start_time": "2022-12-18T10:48:11.197Z"
   },
   {
    "duration": 156,
    "start_time": "2022-12-18T10:48:17.623Z"
   },
   {
    "duration": 5,
    "start_time": "2022-12-18T10:48:33.722Z"
   },
   {
    "duration": 160,
    "start_time": "2022-12-18T10:48:34.003Z"
   },
   {
    "duration": 6,
    "start_time": "2022-12-18T10:48:40.593Z"
   },
   {
    "duration": 224,
    "start_time": "2022-12-18T10:48:40.827Z"
   },
   {
    "duration": 4,
    "start_time": "2022-12-18T10:48:45.257Z"
   },
   {
    "duration": 151,
    "start_time": "2022-12-18T10:48:45.505Z"
   },
   {
    "duration": 6,
    "start_time": "2022-12-18T10:48:53.235Z"
   },
   {
    "duration": 102,
    "start_time": "2022-12-18T10:48:53.492Z"
   },
   {
    "duration": 167,
    "start_time": "2022-12-18T10:49:01.411Z"
   },
   {
    "duration": 154,
    "start_time": "2022-12-18T10:49:07.601Z"
   },
   {
    "duration": 4,
    "start_time": "2022-12-18T10:49:42.226Z"
   },
   {
    "duration": 166,
    "start_time": "2022-12-18T10:49:42.690Z"
   },
   {
    "duration": 4,
    "start_time": "2022-12-18T10:50:53.620Z"
   },
   {
    "duration": 1256,
    "start_time": "2022-12-18T10:51:01.311Z"
   },
   {
    "duration": 7,
    "start_time": "2022-12-18T10:51:07.596Z"
   },
   {
    "duration": 128,
    "start_time": "2022-12-18T10:51:07.853Z"
   },
   {
    "duration": 6,
    "start_time": "2022-12-18T10:51:10.270Z"
   },
   {
    "duration": 201,
    "start_time": "2022-12-18T10:51:10.560Z"
   },
   {
    "duration": 1539,
    "start_time": "2022-12-18T10:51:20.165Z"
   },
   {
    "duration": 410,
    "start_time": "2022-12-18T10:51:21.706Z"
   },
   {
    "duration": 213,
    "start_time": "2022-12-18T10:51:22.117Z"
   },
   {
    "duration": 306,
    "start_time": "2022-12-18T10:51:22.350Z"
   },
   {
    "duration": 20,
    "start_time": "2022-12-18T10:51:22.658Z"
   },
   {
    "duration": 1163,
    "start_time": "2022-12-18T10:51:22.680Z"
   },
   {
    "duration": 6,
    "start_time": "2022-12-18T10:51:23.845Z"
   },
   {
    "duration": 5,
    "start_time": "2022-12-18T10:51:23.853Z"
   },
   {
    "duration": 139,
    "start_time": "2022-12-18T10:51:23.860Z"
   },
   {
    "duration": 5,
    "start_time": "2022-12-18T10:51:24.001Z"
   },
   {
    "duration": 155,
    "start_time": "2022-12-18T10:51:24.007Z"
   },
   {
    "duration": 5,
    "start_time": "2022-12-18T10:51:50.555Z"
   },
   {
    "duration": 164,
    "start_time": "2022-12-18T10:51:50.997Z"
   },
   {
    "duration": 4,
    "start_time": "2022-12-18T10:52:05.357Z"
   },
   {
    "duration": 151,
    "start_time": "2022-12-18T10:52:05.708Z"
   },
   {
    "duration": 78,
    "start_time": "2022-12-18T11:01:00.413Z"
   },
   {
    "duration": 313,
    "start_time": "2022-12-18T11:01:01.241Z"
   },
   {
    "duration": 71,
    "start_time": "2022-12-18T11:01:17.908Z"
   },
   {
    "duration": 142,
    "start_time": "2022-12-18T11:01:18.616Z"
   },
   {
    "duration": 5,
    "start_time": "2022-12-18T11:01:31.136Z"
   },
   {
    "duration": 146,
    "start_time": "2022-12-18T11:01:31.513Z"
   },
   {
    "duration": 5,
    "start_time": "2022-12-18T11:02:07.972Z"
   },
   {
    "duration": 185,
    "start_time": "2022-12-18T11:02:08.170Z"
   },
   {
    "duration": 5,
    "start_time": "2022-12-18T11:02:35.154Z"
   },
   {
    "duration": 121,
    "start_time": "2022-12-18T11:02:35.543Z"
   },
   {
    "duration": 5,
    "start_time": "2022-12-18T11:02:42.507Z"
   },
   {
    "duration": 308,
    "start_time": "2022-12-18T11:02:42.745Z"
   },
   {
    "duration": 5,
    "start_time": "2022-12-18T11:03:06.149Z"
   },
   {
    "duration": 298,
    "start_time": "2022-12-18T11:03:06.354Z"
   },
   {
    "duration": 5,
    "start_time": "2022-12-18T11:03:12.748Z"
   },
   {
    "duration": 124,
    "start_time": "2022-12-18T11:03:12.930Z"
   },
   {
    "duration": 4,
    "start_time": "2022-12-18T11:05:44.984Z"
   },
   {
    "duration": 160,
    "start_time": "2022-12-18T11:05:45.196Z"
   },
   {
    "duration": 4,
    "start_time": "2022-12-18T11:09:01.334Z"
   },
   {
    "duration": 128,
    "start_time": "2022-12-18T11:09:03.032Z"
   },
   {
    "duration": 3,
    "start_time": "2022-12-18T11:25:38.369Z"
   },
   {
    "duration": 394,
    "start_time": "2022-12-18T11:25:38.677Z"
   },
   {
    "duration": 175,
    "start_time": "2022-12-18T11:25:39.233Z"
   },
   {
    "duration": 1433,
    "start_time": "2022-12-18T11:25:46.899Z"
   },
   {
    "duration": 397,
    "start_time": "2022-12-18T11:25:48.334Z"
   },
   {
    "duration": 182,
    "start_time": "2022-12-18T11:25:48.733Z"
   },
   {
    "duration": 358,
    "start_time": "2022-12-18T11:25:48.916Z"
   },
   {
    "duration": 20,
    "start_time": "2022-12-18T11:25:49.276Z"
   },
   {
    "duration": 1125,
    "start_time": "2022-12-18T11:25:49.297Z"
   },
   {
    "duration": 3,
    "start_time": "2022-12-18T11:25:50.425Z"
   },
   {
    "duration": 12,
    "start_time": "2022-12-18T11:25:50.430Z"
   },
   {
    "duration": 136,
    "start_time": "2022-12-18T11:25:50.451Z"
   },
   {
    "duration": 6,
    "start_time": "2022-12-18T11:25:50.588Z"
   },
   {
    "duration": 260,
    "start_time": "2022-12-18T11:25:50.596Z"
   },
   {
    "duration": 3,
    "start_time": "2022-12-18T12:07:01.514Z"
   },
   {
    "duration": 2,
    "start_time": "2022-12-18T12:09:49.247Z"
   },
   {
    "duration": 118,
    "start_time": "2022-12-18T12:15:13.816Z"
   },
   {
    "duration": 3,
    "start_time": "2022-12-18T12:15:16.255Z"
   },
   {
    "duration": 3,
    "start_time": "2022-12-18T12:17:32.568Z"
   },
   {
    "duration": 5,
    "start_time": "2022-12-18T12:18:46.862Z"
   },
   {
    "duration": 4,
    "start_time": "2022-12-18T12:18:49.845Z"
   },
   {
    "duration": 66,
    "start_time": "2022-12-18T12:19:04.173Z"
   },
   {
    "duration": 5,
    "start_time": "2022-12-18T12:19:07.399Z"
   },
   {
    "duration": 3,
    "start_time": "2022-12-18T12:19:17.517Z"
   },
   {
    "duration": 3,
    "start_time": "2022-12-18T12:22:50.872Z"
   },
   {
    "duration": 4,
    "start_time": "2022-12-18T12:22:51.850Z"
   },
   {
    "duration": 16,
    "start_time": "2022-12-18T12:25:02.805Z"
   },
   {
    "duration": 5,
    "start_time": "2022-12-18T12:25:11.619Z"
   },
   {
    "duration": 5,
    "start_time": "2022-12-18T12:25:18.561Z"
   },
   {
    "duration": 3,
    "start_time": "2022-12-18T12:25:41.348Z"
   },
   {
    "duration": 4,
    "start_time": "2022-12-18T12:25:42.010Z"
   },
   {
    "duration": 3,
    "start_time": "2022-12-18T12:25:45.979Z"
   },
   {
    "duration": 5,
    "start_time": "2022-12-18T12:25:46.538Z"
   },
   {
    "duration": 4,
    "start_time": "2022-12-18T12:28:11.349Z"
   },
   {
    "duration": 5,
    "start_time": "2022-12-18T12:28:30.453Z"
   },
   {
    "duration": 4,
    "start_time": "2022-12-18T12:28:53.530Z"
   },
   {
    "duration": 4,
    "start_time": "2022-12-18T12:29:10.219Z"
   },
   {
    "duration": 4,
    "start_time": "2022-12-18T12:29:21.516Z"
   },
   {
    "duration": 5,
    "start_time": "2022-12-18T12:29:32.776Z"
   },
   {
    "duration": 4,
    "start_time": "2022-12-18T12:29:37.132Z"
   },
   {
    "duration": 4,
    "start_time": "2022-12-18T12:29:39.212Z"
   },
   {
    "duration": 4,
    "start_time": "2022-12-18T12:29:41.409Z"
   },
   {
    "duration": 4,
    "start_time": "2022-12-18T12:29:44.994Z"
   },
   {
    "duration": 4,
    "start_time": "2022-12-18T12:29:59.056Z"
   },
   {
    "duration": 4,
    "start_time": "2022-12-18T12:30:08.768Z"
   },
   {
    "duration": 6,
    "start_time": "2022-12-18T12:30:35.728Z"
   },
   {
    "duration": 4,
    "start_time": "2022-12-18T12:30:41.008Z"
   },
   {
    "duration": 3,
    "start_time": "2022-12-18T12:37:17.724Z"
   },
   {
    "duration": 2,
    "start_time": "2022-12-18T12:37:24.374Z"
   },
   {
    "duration": 5,
    "start_time": "2022-12-18T12:38:16.171Z"
   },
   {
    "duration": 4,
    "start_time": "2022-12-18T12:46:00.921Z"
   },
   {
    "duration": 5,
    "start_time": "2022-12-18T12:46:32.556Z"
   },
   {
    "duration": 65,
    "start_time": "2022-12-18T12:46:42.620Z"
   },
   {
    "duration": 5,
    "start_time": "2022-12-18T12:46:46.669Z"
   },
   {
    "duration": 71,
    "start_time": "2022-12-18T12:46:50.724Z"
   },
   {
    "duration": 5,
    "start_time": "2022-12-18T12:46:55.126Z"
   },
   {
    "duration": 4,
    "start_time": "2022-12-18T12:47:01.224Z"
   },
   {
    "duration": 5,
    "start_time": "2022-12-18T12:47:12.029Z"
   },
   {
    "duration": 4,
    "start_time": "2022-12-18T12:53:18.817Z"
   },
   {
    "duration": 24,
    "start_time": "2022-12-18T12:53:37.424Z"
   },
   {
    "duration": 12,
    "start_time": "2022-12-18T12:53:59.867Z"
   },
   {
    "duration": 4,
    "start_time": "2022-12-18T12:54:04.521Z"
   },
   {
    "duration": 17,
    "start_time": "2022-12-18T12:54:04.713Z"
   },
   {
    "duration": 12,
    "start_time": "2022-12-18T12:54:44.756Z"
   },
   {
    "duration": 4,
    "start_time": "2022-12-18T12:54:46.251Z"
   },
   {
    "duration": 18,
    "start_time": "2022-12-18T12:54:46.476Z"
   },
   {
    "duration": 21,
    "start_time": "2022-12-18T12:54:55.239Z"
   },
   {
    "duration": 4,
    "start_time": "2022-12-18T12:55:18.516Z"
   },
   {
    "duration": 14,
    "start_time": "2022-12-18T12:55:18.731Z"
   },
   {
    "duration": 3,
    "start_time": "2022-12-18T12:55:43.771Z"
   },
   {
    "duration": 14,
    "start_time": "2022-12-18T12:55:44.139Z"
   },
   {
    "duration": 3,
    "start_time": "2022-12-18T12:57:50.517Z"
   },
   {
    "duration": 15,
    "start_time": "2022-12-18T12:58:47.586Z"
   },
   {
    "duration": 3,
    "start_time": "2022-12-18T13:03:07.979Z"
   },
   {
    "duration": 3,
    "start_time": "2022-12-18T13:09:11.641Z"
   },
   {
    "duration": 4,
    "start_time": "2022-12-18T13:09:55.075Z"
   },
   {
    "duration": 10,
    "start_time": "2022-12-18T13:09:55.324Z"
   },
   {
    "duration": 6,
    "start_time": "2022-12-18T13:09:59.321Z"
   },
   {
    "duration": 6,
    "start_time": "2022-12-18T13:10:24.542Z"
   },
   {
    "duration": 6,
    "start_time": "2022-12-18T13:10:29.324Z"
   },
   {
    "duration": 6,
    "start_time": "2022-12-18T13:10:58.156Z"
   },
   {
    "duration": 7,
    "start_time": "2022-12-18T13:10:58.528Z"
   },
   {
    "duration": 3,
    "start_time": "2022-12-18T13:12:37.644Z"
   },
   {
    "duration": 4,
    "start_time": "2022-12-18T13:14:12.423Z"
   },
   {
    "duration": 25,
    "start_time": "2022-12-18T13:14:12.786Z"
   },
   {
    "duration": 19,
    "start_time": "2022-12-18T13:16:00.851Z"
   },
   {
    "duration": 22,
    "start_time": "2022-12-18T13:16:20.248Z"
   },
   {
    "duration": 3,
    "start_time": "2022-12-18T13:16:22.524Z"
   },
   {
    "duration": 10,
    "start_time": "2022-12-18T13:16:22.712Z"
   },
   {
    "duration": 16,
    "start_time": "2022-12-18T13:16:31.317Z"
   },
   {
    "duration": 3,
    "start_time": "2022-12-18T13:21:05.683Z"
   },
   {
    "duration": 10,
    "start_time": "2022-12-18T13:21:05.918Z"
   },
   {
    "duration": 13,
    "start_time": "2022-12-18T13:21:10.821Z"
   },
   {
    "duration": 13,
    "start_time": "2022-12-18T13:21:19.391Z"
   },
   {
    "duration": 4,
    "start_time": "2022-12-18T13:21:37.021Z"
   },
   {
    "duration": 15,
    "start_time": "2022-12-18T13:21:37.505Z"
   },
   {
    "duration": 5,
    "start_time": "2022-12-18T13:22:26.965Z"
   },
   {
    "duration": 13,
    "start_time": "2022-12-18T13:22:27.235Z"
   },
   {
    "duration": 72,
    "start_time": "2022-12-18T13:23:15.679Z"
   },
   {
    "duration": 11,
    "start_time": "2022-12-18T13:25:32.847Z"
   },
   {
    "duration": 13,
    "start_time": "2022-12-18T13:25:34.077Z"
   },
   {
    "duration": 11,
    "start_time": "2022-12-18T13:25:34.346Z"
   },
   {
    "duration": 6,
    "start_time": "2022-12-18T13:25:57.936Z"
   },
   {
    "duration": 12,
    "start_time": "2022-12-18T13:25:58.592Z"
   },
   {
    "duration": 5,
    "start_time": "2022-12-18T13:26:47.052Z"
   },
   {
    "duration": 11,
    "start_time": "2022-12-18T13:26:47.260Z"
   },
   {
    "duration": 11,
    "start_time": "2022-12-18T13:26:55.237Z"
   },
   {
    "duration": 9,
    "start_time": "2022-12-18T13:29:26.924Z"
   },
   {
    "duration": 3,
    "start_time": "2022-12-18T13:29:28.342Z"
   },
   {
    "duration": 14,
    "start_time": "2022-12-18T13:29:28.591Z"
   },
   {
    "duration": 3,
    "start_time": "2022-12-18T13:29:57.655Z"
   },
   {
    "duration": 7,
    "start_time": "2022-12-18T13:29:58.020Z"
   },
   {
    "duration": 9,
    "start_time": "2022-12-18T13:33:18.420Z"
   },
   {
    "duration": 3,
    "start_time": "2022-12-18T13:33:21.805Z"
   },
   {
    "duration": 5,
    "start_time": "2022-12-18T13:33:29.563Z"
   },
   {
    "duration": 5,
    "start_time": "2022-12-18T13:34:16.675Z"
   },
   {
    "duration": 339,
    "start_time": "2022-12-18T13:34:17.021Z"
   },
   {
    "duration": 5,
    "start_time": "2022-12-18T13:34:17.539Z"
   },
   {
    "duration": 6,
    "start_time": "2022-12-18T13:35:23.315Z"
   },
   {
    "duration": 6,
    "start_time": "2022-12-18T13:35:28.374Z"
   },
   {
    "duration": 387,
    "start_time": "2022-12-18T13:35:28.565Z"
   },
   {
    "duration": 3,
    "start_time": "2022-12-18T13:35:32.865Z"
   },
   {
    "duration": 11,
    "start_time": "2022-12-18T13:35:33.121Z"
   },
   {
    "duration": 5,
    "start_time": "2022-12-18T13:35:50.180Z"
   },
   {
    "duration": 9,
    "start_time": "2022-12-18T13:35:50.416Z"
   },
   {
    "duration": 4,
    "start_time": "2022-12-18T13:36:03.995Z"
   },
   {
    "duration": 10,
    "start_time": "2022-12-18T13:36:04.190Z"
   },
   {
    "duration": 5,
    "start_time": "2022-12-18T13:36:13.939Z"
   },
   {
    "duration": 10,
    "start_time": "2022-12-18T13:36:14.184Z"
   },
   {
    "duration": 10,
    "start_time": "2022-12-18T13:36:24.193Z"
   },
   {
    "duration": 24,
    "start_time": "2022-12-18T13:36:39.346Z"
   },
   {
    "duration": 4,
    "start_time": "2022-12-18T13:36:41.146Z"
   },
   {
    "duration": 10,
    "start_time": "2022-12-18T13:36:41.316Z"
   },
   {
    "duration": 8,
    "start_time": "2022-12-18T13:37:19.935Z"
   },
   {
    "duration": 14,
    "start_time": "2022-12-18T13:37:20.249Z"
   },
   {
    "duration": 3,
    "start_time": "2022-12-18T13:37:44.088Z"
   },
   {
    "duration": 11,
    "start_time": "2022-12-18T13:37:44.265Z"
   },
   {
    "duration": 4,
    "start_time": "2022-12-18T13:37:53.123Z"
   },
   {
    "duration": 29,
    "start_time": "2022-12-18T13:37:53.909Z"
   },
   {
    "duration": 3,
    "start_time": "2022-12-18T13:38:00.443Z"
   },
   {
    "duration": 10,
    "start_time": "2022-12-18T13:38:01.639Z"
   },
   {
    "duration": 3,
    "start_time": "2022-12-18T13:38:28.873Z"
   },
   {
    "duration": 9,
    "start_time": "2022-12-18T13:38:29.172Z"
   },
   {
    "duration": 4,
    "start_time": "2022-12-18T13:38:48.604Z"
   },
   {
    "duration": 10,
    "start_time": "2022-12-18T13:38:48.918Z"
   },
   {
    "duration": 4,
    "start_time": "2022-12-18T13:41:29.775Z"
   },
   {
    "duration": 11,
    "start_time": "2022-12-18T13:41:30.077Z"
   },
   {
    "duration": 5,
    "start_time": "2022-12-18T13:41:59.667Z"
   },
   {
    "duration": 11,
    "start_time": "2022-12-18T13:42:00.003Z"
   },
   {
    "duration": 5,
    "start_time": "2022-12-18T13:43:01.076Z"
   },
   {
    "duration": 16,
    "start_time": "2022-12-18T13:43:01.449Z"
   },
   {
    "duration": 4,
    "start_time": "2022-12-18T13:43:06.839Z"
   },
   {
    "duration": 11,
    "start_time": "2022-12-18T13:43:07.140Z"
   },
   {
    "duration": 24,
    "start_time": "2022-12-18T13:43:39.777Z"
   },
   {
    "duration": 21,
    "start_time": "2022-12-18T13:43:48.694Z"
   },
   {
    "duration": 24,
    "start_time": "2022-12-18T13:44:10.581Z"
   },
   {
    "duration": 20,
    "start_time": "2022-12-18T13:44:17.367Z"
   },
   {
    "duration": 20,
    "start_time": "2022-12-18T13:44:34.538Z"
   },
   {
    "duration": 21,
    "start_time": "2022-12-18T13:44:38.320Z"
   },
   {
    "duration": 21,
    "start_time": "2022-12-18T13:44:43.995Z"
   },
   {
    "duration": 20,
    "start_time": "2022-12-18T13:47:05.268Z"
   },
   {
    "duration": 22,
    "start_time": "2022-12-18T13:47:20.120Z"
   },
   {
    "duration": 69,
    "start_time": "2022-12-18T13:48:42.138Z"
   },
   {
    "duration": 23,
    "start_time": "2022-12-18T13:48:49.217Z"
   },
   {
    "duration": 20,
    "start_time": "2022-12-18T13:48:56.314Z"
   },
   {
    "duration": 23,
    "start_time": "2022-12-18T13:50:05.771Z"
   },
   {
    "duration": 22,
    "start_time": "2022-12-18T13:50:24.839Z"
   },
   {
    "duration": 25,
    "start_time": "2022-12-18T13:50:31.523Z"
   },
   {
    "duration": 27,
    "start_time": "2022-12-18T13:50:39.047Z"
   },
   {
    "duration": 21,
    "start_time": "2022-12-18T13:50:52.969Z"
   },
   {
    "duration": 30,
    "start_time": "2022-12-18T13:51:08.046Z"
   },
   {
    "duration": 5,
    "start_time": "2022-12-18T13:51:14.676Z"
   },
   {
    "duration": 21,
    "start_time": "2022-12-18T13:51:14.991Z"
   },
   {
    "duration": 4,
    "start_time": "2022-12-18T13:51:19.370Z"
   },
   {
    "duration": 25,
    "start_time": "2022-12-18T13:51:19.920Z"
   },
   {
    "duration": 24,
    "start_time": "2022-12-18T13:51:24.935Z"
   },
   {
    "duration": 23,
    "start_time": "2022-12-18T13:51:31.766Z"
   },
   {
    "duration": 25,
    "start_time": "2022-12-18T13:51:37.538Z"
   },
   {
    "duration": 22,
    "start_time": "2022-12-18T13:51:50.840Z"
   },
   {
    "duration": 26,
    "start_time": "2022-12-18T13:51:57.546Z"
   },
   {
    "duration": 23,
    "start_time": "2022-12-18T13:52:13.081Z"
   },
   {
    "duration": 69,
    "start_time": "2022-12-18T13:52:18.435Z"
   },
   {
    "duration": 135,
    "start_time": "2022-12-18T13:52:22.536Z"
   },
   {
    "duration": 20,
    "start_time": "2022-12-18T13:52:26.568Z"
   },
   {
    "duration": 22,
    "start_time": "2022-12-18T13:52:35.234Z"
   },
   {
    "duration": 24,
    "start_time": "2022-12-18T13:52:38.602Z"
   },
   {
    "duration": 25,
    "start_time": "2022-12-18T13:53:38.420Z"
   },
   {
    "duration": 4,
    "start_time": "2022-12-18T13:55:45.034Z"
   },
   {
    "duration": 4,
    "start_time": "2022-12-18T13:56:30.461Z"
   },
   {
    "duration": 3,
    "start_time": "2022-12-18T13:56:37.369Z"
   },
   {
    "duration": 22,
    "start_time": "2022-12-18T13:57:20.944Z"
   },
   {
    "duration": 25,
    "start_time": "2022-12-18T13:59:17.721Z"
   },
   {
    "duration": 22,
    "start_time": "2022-12-18T13:59:21.223Z"
   },
   {
    "duration": 25,
    "start_time": "2022-12-18T14:00:09.870Z"
   },
   {
    "duration": 5,
    "start_time": "2022-12-18T14:05:07.414Z"
   },
   {
    "duration": 5,
    "start_time": "2022-12-18T14:05:48.447Z"
   },
   {
    "duration": 14,
    "start_time": "2022-12-18T14:05:48.893Z"
   },
   {
    "duration": 13,
    "start_time": "2022-12-18T14:05:52.222Z"
   },
   {
    "duration": 4,
    "start_time": "2022-12-18T14:05:52.383Z"
   },
   {
    "duration": 14,
    "start_time": "2022-12-18T14:05:52.890Z"
   },
   {
    "duration": 4,
    "start_time": "2022-12-18T14:06:07.615Z"
   },
   {
    "duration": 5,
    "start_time": "2022-12-18T14:06:11.380Z"
   },
   {
    "duration": 15,
    "start_time": "2022-12-18T14:06:11.790Z"
   },
   {
    "duration": 4,
    "start_time": "2022-12-18T14:06:15.169Z"
   },
   {
    "duration": 5,
    "start_time": "2022-12-18T14:06:15.551Z"
   },
   {
    "duration": 1179,
    "start_time": "2022-12-18T14:06:15.971Z"
   },
   {
    "duration": 5,
    "start_time": "2022-12-18T14:06:33.718Z"
   },
   {
    "duration": 1161,
    "start_time": "2022-12-18T14:06:34.075Z"
   },
   {
    "duration": 4,
    "start_time": "2022-12-18T14:06:56.642Z"
   },
   {
    "duration": 4,
    "start_time": "2022-12-18T14:07:03.287Z"
   },
   {
    "duration": 7,
    "start_time": "2022-12-18T14:07:03.525Z"
   },
   {
    "duration": 1148,
    "start_time": "2022-12-18T14:07:03.981Z"
   },
   {
    "duration": 5,
    "start_time": "2022-12-18T14:07:31.707Z"
   },
   {
    "duration": 1391,
    "start_time": "2022-12-18T14:07:32.081Z"
   },
   {
    "duration": 6,
    "start_time": "2022-12-18T14:07:40.524Z"
   },
   {
    "duration": 1183,
    "start_time": "2022-12-18T14:07:40.856Z"
   },
   {
    "duration": 3,
    "start_time": "2022-12-18T14:07:50.521Z"
   },
   {
    "duration": 5,
    "start_time": "2022-12-18T14:07:50.820Z"
   },
   {
    "duration": 1207,
    "start_time": "2022-12-18T14:07:51.192Z"
   },
   {
    "duration": 1517,
    "start_time": "2022-12-18T14:08:08.140Z"
   },
   {
    "duration": 430,
    "start_time": "2022-12-18T14:08:09.660Z"
   },
   {
    "duration": 195,
    "start_time": "2022-12-18T14:08:10.092Z"
   },
   {
    "duration": 328,
    "start_time": "2022-12-18T14:08:10.288Z"
   },
   {
    "duration": 33,
    "start_time": "2022-12-18T14:08:10.619Z"
   },
   {
    "duration": 1057,
    "start_time": "2022-12-18T14:08:10.654Z"
   },
   {
    "duration": 3,
    "start_time": "2022-12-18T14:08:11.713Z"
   },
   {
    "duration": 10,
    "start_time": "2022-12-18T14:08:11.718Z"
   },
   {
    "duration": 141,
    "start_time": "2022-12-18T14:08:11.730Z"
   },
   {
    "duration": 5,
    "start_time": "2022-12-18T14:08:11.872Z"
   },
   {
    "duration": 286,
    "start_time": "2022-12-18T14:08:11.878Z"
   },
   {
    "duration": 86,
    "start_time": "2022-12-18T14:08:12.166Z"
   },
   {
    "duration": 11,
    "start_time": "2022-12-18T14:08:12.254Z"
   },
   {
    "duration": 12,
    "start_time": "2022-12-18T14:08:12.268Z"
   },
   {
    "duration": 78,
    "start_time": "2022-12-18T14:08:12.282Z"
   },
   {
    "duration": 4,
    "start_time": "2022-12-18T14:08:12.362Z"
   },
   {
    "duration": 12,
    "start_time": "2022-12-18T14:08:12.368Z"
   },
   {
    "duration": 130,
    "start_time": "2022-12-18T14:08:12.382Z"
   },
   {
    "duration": 6,
    "start_time": "2022-12-18T14:09:24.781Z"
   },
   {
    "duration": 1204,
    "start_time": "2022-12-18T14:09:25.368Z"
   },
   {
    "duration": 6,
    "start_time": "2022-12-18T14:09:29.727Z"
   },
   {
    "duration": 5,
    "start_time": "2022-12-18T14:09:29.959Z"
   },
   {
    "duration": 1169,
    "start_time": "2022-12-18T14:09:30.329Z"
   },
   {
    "duration": 3,
    "start_time": "2022-12-18T14:09:33.824Z"
   },
   {
    "duration": 6,
    "start_time": "2022-12-18T14:09:34.211Z"
   },
   {
    "duration": 1223,
    "start_time": "2022-12-18T14:09:34.594Z"
   },
   {
    "duration": 6,
    "start_time": "2022-12-18T14:16:34.978Z"
   },
   {
    "duration": 14,
    "start_time": "2022-12-18T14:16:35.700Z"
   },
   {
    "duration": 6,
    "start_time": "2022-12-18T14:16:41.703Z"
   },
   {
    "duration": 15,
    "start_time": "2022-12-18T14:16:41.884Z"
   },
   {
    "duration": 10,
    "start_time": "2022-12-18T14:17:15.089Z"
   },
   {
    "duration": 5,
    "start_time": "2022-12-18T14:17:16.352Z"
   },
   {
    "duration": 10,
    "start_time": "2022-12-18T14:17:16.554Z"
   },
   {
    "duration": 5,
    "start_time": "2022-12-18T14:17:44.727Z"
   },
   {
    "duration": 10,
    "start_time": "2022-12-18T14:17:44.993Z"
   },
   {
    "duration": 3,
    "start_time": "2022-12-18T14:17:50.520Z"
   },
   {
    "duration": 5,
    "start_time": "2022-12-18T14:17:51.189Z"
   },
   {
    "duration": 10,
    "start_time": "2022-12-18T14:17:51.658Z"
   },
   {
    "duration": 5,
    "start_time": "2022-12-18T14:19:20.673Z"
   },
   {
    "duration": 14,
    "start_time": "2022-12-18T14:19:20.987Z"
   },
   {
    "duration": 6,
    "start_time": "2022-12-18T14:19:56.433Z"
   },
   {
    "duration": 5001,
    "start_time": "2022-12-18T14:19:56.877Z"
   },
   {
    "duration": 4967,
    "start_time": "2022-12-18T14:20:19.938Z"
   },
   {
    "duration": 7,
    "start_time": "2022-12-18T14:25:29.803Z"
   },
   {
    "duration": 15,
    "start_time": "2022-12-18T14:25:52.275Z"
   },
   {
    "duration": 5,
    "start_time": "2022-12-18T14:26:24.255Z"
   },
   {
    "duration": 5,
    "start_time": "2022-12-18T14:26:26.873Z"
   },
   {
    "duration": 21,
    "start_time": "2022-12-18T14:26:27.272Z"
   },
   {
    "duration": 4,
    "start_time": "2022-12-18T14:26:33.600Z"
   },
   {
    "duration": 21,
    "start_time": "2022-12-18T14:26:33.913Z"
   },
   {
    "duration": 6,
    "start_time": "2022-12-18T14:27:29.736Z"
   },
   {
    "duration": 20,
    "start_time": "2022-12-18T14:27:29.933Z"
   },
   {
    "duration": 1442,
    "start_time": "2022-12-18T14:27:38.004Z"
   },
   {
    "duration": 464,
    "start_time": "2022-12-18T14:27:39.448Z"
   },
   {
    "duration": 197,
    "start_time": "2022-12-18T14:27:39.914Z"
   },
   {
    "duration": 356,
    "start_time": "2022-12-18T14:27:40.114Z"
   },
   {
    "duration": 20,
    "start_time": "2022-12-18T14:27:40.472Z"
   },
   {
    "duration": 1115,
    "start_time": "2022-12-18T14:27:40.494Z"
   },
   {
    "duration": 3,
    "start_time": "2022-12-18T14:27:41.611Z"
   },
   {
    "duration": 6,
    "start_time": "2022-12-18T14:27:41.616Z"
   },
   {
    "duration": 149,
    "start_time": "2022-12-18T14:27:41.624Z"
   },
   {
    "duration": 4,
    "start_time": "2022-12-18T14:27:41.776Z"
   },
   {
    "duration": 274,
    "start_time": "2022-12-18T14:27:41.782Z"
   },
   {
    "duration": 96,
    "start_time": "2022-12-18T14:27:42.060Z"
   },
   {
    "duration": 93,
    "start_time": "2022-12-18T14:27:42.159Z"
   },
   {
    "duration": 10,
    "start_time": "2022-12-18T14:27:42.254Z"
   },
   {
    "duration": 26,
    "start_time": "2022-12-18T14:27:42.266Z"
   },
   {
    "duration": 4,
    "start_time": "2022-12-18T14:27:42.293Z"
   },
   {
    "duration": 9,
    "start_time": "2022-12-18T14:27:42.299Z"
   },
   {
    "duration": 138,
    "start_time": "2022-12-18T14:27:42.310Z"
   },
   {
    "duration": 6,
    "start_time": "2022-12-18T14:29:17.247Z"
   },
   {
    "duration": 22,
    "start_time": "2022-12-18T14:29:17.674Z"
   },
   {
    "duration": 89,
    "start_time": "2022-12-18T14:30:44.979Z"
   },
   {
    "duration": 13,
    "start_time": "2022-12-18T14:30:45.187Z"
   },
   {
    "duration": 11,
    "start_time": "2022-12-18T14:30:52.391Z"
   },
   {
    "duration": 12,
    "start_time": "2022-12-18T14:30:58.196Z"
   },
   {
    "duration": 76,
    "start_time": "2022-12-18T14:31:13.961Z"
   },
   {
    "duration": 13,
    "start_time": "2022-12-18T14:31:14.265Z"
   },
   {
    "duration": 6,
    "start_time": "2022-12-18T14:31:21.284Z"
   },
   {
    "duration": 16,
    "start_time": "2022-12-18T14:31:21.640Z"
   },
   {
    "duration": 6,
    "start_time": "2022-12-18T14:31:39.639Z"
   },
   {
    "duration": 18,
    "start_time": "2022-12-18T14:31:40.065Z"
   },
   {
    "duration": 6,
    "start_time": "2022-12-18T14:32:07.731Z"
   },
   {
    "duration": 5087,
    "start_time": "2022-12-18T14:32:08.095Z"
   },
   {
    "duration": 4,
    "start_time": "2022-12-18T14:33:20.266Z"
   },
   {
    "duration": 16,
    "start_time": "2022-12-18T14:33:21.052Z"
   },
   {
    "duration": 5,
    "start_time": "2022-12-18T14:33:26.756Z"
   },
   {
    "duration": 21,
    "start_time": "2022-12-18T14:33:26.978Z"
   },
   {
    "duration": 4,
    "start_time": "2022-12-18T14:33:34.193Z"
   },
   {
    "duration": 4872,
    "start_time": "2022-12-18T14:33:34.449Z"
   },
   {
    "duration": 6,
    "start_time": "2022-12-18T14:35:33.062Z"
   },
   {
    "duration": 17,
    "start_time": "2022-12-18T14:35:33.441Z"
   },
   {
    "duration": 5,
    "start_time": "2022-12-18T14:35:46.444Z"
   },
   {
    "duration": 24,
    "start_time": "2022-12-18T14:35:46.949Z"
   },
   {
    "duration": 4,
    "start_time": "2022-12-18T14:36:38.662Z"
   },
   {
    "duration": 22,
    "start_time": "2022-12-18T14:36:39.078Z"
   },
   {
    "duration": 4,
    "start_time": "2022-12-18T14:37:02.840Z"
   },
   {
    "duration": 21,
    "start_time": "2022-12-18T14:37:03.304Z"
   },
   {
    "duration": 4,
    "start_time": "2022-12-18T14:38:43.116Z"
   },
   {
    "duration": 20,
    "start_time": "2022-12-18T14:38:43.456Z"
   },
   {
    "duration": 1508,
    "start_time": "2022-12-18T14:38:54.438Z"
   },
   {
    "duration": 414,
    "start_time": "2022-12-18T14:38:55.948Z"
   },
   {
    "duration": 201,
    "start_time": "2022-12-18T14:38:56.363Z"
   },
   {
    "duration": 306,
    "start_time": "2022-12-18T14:38:56.566Z"
   },
   {
    "duration": 19,
    "start_time": "2022-12-18T14:38:56.874Z"
   },
   {
    "duration": 1101,
    "start_time": "2022-12-18T14:38:56.894Z"
   },
   {
    "duration": 3,
    "start_time": "2022-12-18T14:38:57.996Z"
   },
   {
    "duration": 6,
    "start_time": "2022-12-18T14:38:58.001Z"
   },
   {
    "duration": 142,
    "start_time": "2022-12-18T14:38:58.009Z"
   },
   {
    "duration": 5,
    "start_time": "2022-12-18T14:38:58.155Z"
   },
   {
    "duration": 292,
    "start_time": "2022-12-18T14:38:58.161Z"
   },
   {
    "duration": 4,
    "start_time": "2022-12-18T14:38:58.456Z"
   },
   {
    "duration": 6,
    "start_time": "2022-12-18T14:38:58.552Z"
   },
   {
    "duration": 7,
    "start_time": "2022-12-18T14:38:58.560Z"
   },
   {
    "duration": 22,
    "start_time": "2022-12-18T14:38:58.569Z"
   },
   {
    "duration": 3,
    "start_time": "2022-12-18T14:38:58.593Z"
   },
   {
    "duration": 5,
    "start_time": "2022-12-18T14:38:58.598Z"
   },
   {
    "duration": 147,
    "start_time": "2022-12-18T14:38:58.605Z"
   },
   {
    "duration": 10,
    "start_time": "2022-12-18T14:48:28.036Z"
   },
   {
    "duration": 6,
    "start_time": "2022-12-18T14:48:29.666Z"
   },
   {
    "duration": 15,
    "start_time": "2022-12-18T14:48:29.893Z"
   },
   {
    "duration": 6,
    "start_time": "2022-12-18T14:48:37.733Z"
   },
   {
    "duration": 16,
    "start_time": "2022-12-18T14:48:37.981Z"
   },
   {
    "duration": 7,
    "start_time": "2022-12-18T14:49:29.845Z"
   },
   {
    "duration": 19,
    "start_time": "2022-12-18T14:49:30.196Z"
   },
   {
    "duration": 7,
    "start_time": "2022-12-18T14:49:43.406Z"
   },
   {
    "duration": 17,
    "start_time": "2022-12-18T14:49:44.040Z"
   },
   {
    "duration": 75,
    "start_time": "2022-12-18T14:50:06.909Z"
   },
   {
    "duration": 7,
    "start_time": "2022-12-18T14:50:10.870Z"
   },
   {
    "duration": 5255,
    "start_time": "2022-12-18T14:50:11.271Z"
   },
   {
    "duration": 11,
    "start_time": "2022-12-18T14:51:11.780Z"
   },
   {
    "duration": 8,
    "start_time": "2022-12-18T14:51:18.211Z"
   },
   {
    "duration": 10,
    "start_time": "2022-12-18T14:51:22.231Z"
   },
   {
    "duration": 11,
    "start_time": "2022-12-18T14:51:32.145Z"
   },
   {
    "duration": 8,
    "start_time": "2022-12-18T14:53:36.331Z"
   },
   {
    "duration": 31,
    "start_time": "2022-12-18T14:53:37.674Z"
   },
   {
    "duration": 1593,
    "start_time": "2022-12-18T14:54:02.697Z"
   },
   {
    "duration": 412,
    "start_time": "2022-12-18T14:54:04.292Z"
   },
   {
    "duration": 205,
    "start_time": "2022-12-18T14:54:04.706Z"
   },
   {
    "duration": 365,
    "start_time": "2022-12-18T14:54:04.913Z"
   },
   {
    "duration": 21,
    "start_time": "2022-12-18T14:54:05.281Z"
   },
   {
    "duration": 1150,
    "start_time": "2022-12-18T14:54:05.304Z"
   },
   {
    "duration": 3,
    "start_time": "2022-12-18T14:54:06.456Z"
   },
   {
    "duration": 6,
    "start_time": "2022-12-18T14:54:06.461Z"
   },
   {
    "duration": 138,
    "start_time": "2022-12-18T14:54:06.469Z"
   },
   {
    "duration": 5,
    "start_time": "2022-12-18T14:54:06.608Z"
   },
   {
    "duration": 247,
    "start_time": "2022-12-18T14:54:06.615Z"
   },
   {
    "duration": 4,
    "start_time": "2022-12-18T14:54:06.953Z"
   },
   {
    "duration": 101,
    "start_time": "2022-12-18T14:54:06.959Z"
   },
   {
    "duration": 22,
    "start_time": "2022-12-18T14:54:07.063Z"
   },
   {
    "duration": 183,
    "start_time": "2022-12-18T14:54:07.088Z"
   },
   {
    "duration": 0,
    "start_time": "2022-12-18T14:54:07.273Z"
   },
   {
    "duration": 0,
    "start_time": "2022-12-18T14:54:07.275Z"
   },
   {
    "duration": 0,
    "start_time": "2022-12-18T14:54:07.277Z"
   },
   {
    "duration": 9,
    "start_time": "2022-12-18T14:54:30.076Z"
   },
   {
    "duration": 20,
    "start_time": "2022-12-18T14:54:30.354Z"
   },
   {
    "duration": 3,
    "start_time": "2022-12-18T14:54:34.890Z"
   },
   {
    "duration": 6,
    "start_time": "2022-12-18T14:54:35.169Z"
   },
   {
    "duration": 5182,
    "start_time": "2022-12-18T14:54:35.655Z"
   },
   {
    "duration": 5,
    "start_time": "2022-12-18T14:54:43.452Z"
   },
   {
    "duration": 4835,
    "start_time": "2022-12-18T14:54:46.178Z"
   },
   {
    "duration": 8,
    "start_time": "2022-12-18T14:56:01.796Z"
   },
   {
    "duration": 26,
    "start_time": "2022-12-18T14:56:02.175Z"
   },
   {
    "duration": 3,
    "start_time": "2022-12-18T14:57:22.512Z"
   },
   {
    "duration": 6,
    "start_time": "2022-12-18T14:57:22.727Z"
   },
   {
    "duration": 1499,
    "start_time": "2022-12-18T14:57:23.143Z"
   },
   {
    "duration": 5,
    "start_time": "2022-12-18T14:59:35.208Z"
   },
   {
    "duration": 1368,
    "start_time": "2022-12-18T14:59:35.411Z"
   },
   {
    "duration": 6,
    "start_time": "2022-12-18T14:59:55.400Z"
   },
   {
    "duration": 10,
    "start_time": "2022-12-18T15:00:06.707Z"
   },
   {
    "duration": 5,
    "start_time": "2022-12-18T15:00:15.668Z"
   },
   {
    "duration": 3,
    "start_time": "2022-12-18T15:00:15.870Z"
   },
   {
    "duration": 6,
    "start_time": "2022-12-18T15:00:39.913Z"
   },
   {
    "duration": 5,
    "start_time": "2022-12-18T15:00:40.135Z"
   },
   {
    "duration": 24,
    "start_time": "2022-12-18T15:00:40.447Z"
   },
   {
    "duration": 4,
    "start_time": "2022-12-18T15:00:41.519Z"
   },
   {
    "duration": 5,
    "start_time": "2022-12-18T15:00:41.713Z"
   },
   {
    "duration": 16,
    "start_time": "2022-12-18T15:00:41.954Z"
   },
   {
    "duration": 1565,
    "start_time": "2022-12-18T15:01:03.065Z"
   },
   {
    "duration": 428,
    "start_time": "2022-12-18T15:01:04.632Z"
   },
   {
    "duration": 224,
    "start_time": "2022-12-18T15:01:05.062Z"
   },
   {
    "duration": 326,
    "start_time": "2022-12-18T15:01:05.288Z"
   },
   {
    "duration": 34,
    "start_time": "2022-12-18T15:01:05.617Z"
   },
   {
    "duration": 1079,
    "start_time": "2022-12-18T15:01:05.653Z"
   },
   {
    "duration": 4,
    "start_time": "2022-12-18T15:01:06.735Z"
   },
   {
    "duration": 12,
    "start_time": "2022-12-18T15:01:06.751Z"
   },
   {
    "duration": 151,
    "start_time": "2022-12-18T15:01:06.765Z"
   },
   {
    "duration": 6,
    "start_time": "2022-12-18T15:01:06.918Z"
   },
   {
    "duration": 233,
    "start_time": "2022-12-18T15:01:06.926Z"
   },
   {
    "duration": 91,
    "start_time": "2022-12-18T15:01:07.161Z"
   },
   {
    "duration": 99,
    "start_time": "2022-12-18T15:01:07.254Z"
   },
   {
    "duration": 32,
    "start_time": "2022-12-18T15:01:07.356Z"
   },
   {
    "duration": 26,
    "start_time": "2022-12-18T15:01:07.390Z"
   },
   {
    "duration": 43,
    "start_time": "2022-12-18T15:01:07.418Z"
   },
   {
    "duration": 5,
    "start_time": "2022-12-18T15:01:07.463Z"
   },
   {
    "duration": 24,
    "start_time": "2022-12-18T15:01:07.470Z"
   },
   {
    "duration": 156,
    "start_time": "2022-12-18T15:01:07.497Z"
   },
   {
    "duration": 4,
    "start_time": "2022-12-18T15:01:16.295Z"
   },
   {
    "duration": 23,
    "start_time": "2022-12-18T15:01:16.669Z"
   },
   {
    "duration": 4,
    "start_time": "2022-12-18T15:01:20.245Z"
   },
   {
    "duration": 7,
    "start_time": "2022-12-18T15:01:20.554Z"
   },
   {
    "duration": 1502,
    "start_time": "2022-12-18T15:01:20.879Z"
   },
   {
    "duration": 4,
    "start_time": "2022-12-18T15:04:06.672Z"
   },
   {
    "duration": 21,
    "start_time": "2022-12-18T15:04:06.990Z"
   },
   {
    "duration": 3,
    "start_time": "2022-12-18T15:04:09.746Z"
   },
   {
    "duration": 6,
    "start_time": "2022-12-18T15:04:10.055Z"
   },
   {
    "duration": 1487,
    "start_time": "2022-12-18T15:04:10.370Z"
   },
   {
    "duration": 5,
    "start_time": "2022-12-18T15:05:14.785Z"
   },
   {
    "duration": 1441,
    "start_time": "2022-12-18T15:05:14.923Z"
   },
   {
    "duration": 6,
    "start_time": "2022-12-18T15:07:38.796Z"
   },
   {
    "duration": 5,
    "start_time": "2022-12-18T15:07:43.092Z"
   },
   {
    "duration": 4,
    "start_time": "2022-12-18T15:08:32.736Z"
   },
   {
    "duration": 7,
    "start_time": "2022-12-18T15:08:33.021Z"
   },
   {
    "duration": 6,
    "start_time": "2022-12-18T15:10:23.021Z"
   },
   {
    "duration": 1550,
    "start_time": "2022-12-18T15:10:23.147Z"
   },
   {
    "duration": 5,
    "start_time": "2022-12-18T15:10:56.996Z"
   },
   {
    "duration": 1404,
    "start_time": "2022-12-18T15:10:57.153Z"
   },
   {
    "duration": 7,
    "start_time": "2022-12-18T15:11:43.656Z"
   },
   {
    "duration": 1428,
    "start_time": "2022-12-18T15:11:43.876Z"
   },
   {
    "duration": 5,
    "start_time": "2022-12-18T15:15:01.780Z"
   },
   {
    "duration": 1475,
    "start_time": "2022-12-18T15:15:02.136Z"
   },
   {
    "duration": 6,
    "start_time": "2022-12-18T15:15:07.600Z"
   },
   {
    "duration": 1404,
    "start_time": "2022-12-18T15:15:07.775Z"
   },
   {
    "duration": 6,
    "start_time": "2022-12-18T15:16:58.155Z"
   },
   {
    "duration": 1482,
    "start_time": "2022-12-18T15:16:59.265Z"
   },
   {
    "duration": 1397,
    "start_time": "2022-12-18T15:17:03.164Z"
   },
   {
    "duration": 5,
    "start_time": "2022-12-18T15:17:28.363Z"
   },
   {
    "duration": 1467,
    "start_time": "2022-12-18T15:17:29.035Z"
   },
   {
    "duration": 6,
    "start_time": "2022-12-18T15:18:55.899Z"
   },
   {
    "duration": 1393,
    "start_time": "2022-12-18T15:18:56.135Z"
   },
   {
    "duration": 5,
    "start_time": "2022-12-18T15:19:27.521Z"
   },
   {
    "duration": 1400,
    "start_time": "2022-12-18T15:19:27.757Z"
   },
   {
    "duration": 5,
    "start_time": "2022-12-18T15:19:38.420Z"
   },
   {
    "duration": 1387,
    "start_time": "2022-12-18T15:19:40.490Z"
   },
   {
    "duration": 6,
    "start_time": "2022-12-18T15:20:31.118Z"
   },
   {
    "duration": 1464,
    "start_time": "2022-12-18T15:20:31.239Z"
   },
   {
    "duration": 5,
    "start_time": "2022-12-18T15:20:43.741Z"
   },
   {
    "duration": 1422,
    "start_time": "2022-12-18T15:20:43.899Z"
   },
   {
    "duration": 5,
    "start_time": "2022-12-18T15:20:58.271Z"
   },
   {
    "duration": 1587,
    "start_time": "2022-12-18T15:20:58.420Z"
   },
   {
    "duration": 7,
    "start_time": "2022-12-18T15:21:36.276Z"
   },
   {
    "duration": 1454,
    "start_time": "2022-12-18T15:21:36.584Z"
   },
   {
    "duration": 8,
    "start_time": "2022-12-18T15:22:22.495Z"
   },
   {
    "duration": 1431,
    "start_time": "2022-12-18T15:22:22.718Z"
   },
   {
    "duration": 1405,
    "start_time": "2022-12-18T15:22:56.205Z"
   },
   {
    "duration": 6,
    "start_time": "2022-12-18T15:23:00.588Z"
   },
   {
    "duration": 1449,
    "start_time": "2022-12-18T15:23:00.596Z"
   },
   {
    "duration": 0,
    "start_time": "2022-12-18T15:23:02.046Z"
   },
   {
    "duration": 0,
    "start_time": "2022-12-18T15:23:02.050Z"
   },
   {
    "duration": 1435,
    "start_time": "2022-12-18T15:23:08.293Z"
   },
   {
    "duration": 1510,
    "start_time": "2022-12-18T15:23:09.730Z"
   },
   {
    "duration": 1440,
    "start_time": "2022-12-18T15:23:11.243Z"
   },
   {
    "duration": 1548,
    "start_time": "2022-12-18T15:23:16.780Z"
   },
   {
    "duration": 1629,
    "start_time": "2022-12-18T15:23:18.330Z"
   },
   {
    "duration": 1518,
    "start_time": "2022-12-18T15:23:19.961Z"
   },
   {
    "duration": 1452,
    "start_time": "2022-12-18T15:23:22.332Z"
   },
   {
    "duration": 1488,
    "start_time": "2022-12-18T15:23:23.786Z"
   },
   {
    "duration": 1487,
    "start_time": "2022-12-18T15:23:25.275Z"
   },
   {
    "duration": 1416,
    "start_time": "2022-12-18T15:23:33.266Z"
   },
   {
    "duration": 1423,
    "start_time": "2022-12-18T15:23:34.684Z"
   },
   {
    "duration": 1550,
    "start_time": "2022-12-18T15:23:36.109Z"
   },
   {
    "duration": 6,
    "start_time": "2022-12-18T15:23:44.425Z"
   },
   {
    "duration": 1539,
    "start_time": "2022-12-18T15:23:44.660Z"
   },
   {
    "duration": 1526,
    "start_time": "2022-12-18T15:23:46.209Z"
   },
   {
    "duration": 1514,
    "start_time": "2022-12-18T15:23:47.737Z"
   },
   {
    "duration": 1396,
    "start_time": "2022-12-18T15:24:05.815Z"
   },
   {
    "duration": 1425,
    "start_time": "2022-12-18T15:24:07.213Z"
   },
   {
    "duration": 1494,
    "start_time": "2022-12-18T15:24:08.641Z"
   },
   {
    "duration": 6,
    "start_time": "2022-12-18T15:24:24.026Z"
   },
   {
    "duration": 1462,
    "start_time": "2022-12-18T15:24:24.182Z"
   },
   {
    "duration": 1397,
    "start_time": "2022-12-18T15:24:25.650Z"
   },
   {
    "duration": 1402,
    "start_time": "2022-12-18T15:24:27.053Z"
   },
   {
    "duration": 5,
    "start_time": "2022-12-18T15:24:32.246Z"
   },
   {
    "duration": 1393,
    "start_time": "2022-12-18T15:24:32.501Z"
   },
   {
    "duration": 1439,
    "start_time": "2022-12-18T15:24:33.897Z"
   },
   {
    "duration": 6,
    "start_time": "2022-12-18T15:24:48.741Z"
   },
   {
    "duration": 1620,
    "start_time": "2022-12-18T15:24:48.956Z"
   },
   {
    "duration": 1484,
    "start_time": "2022-12-18T15:24:50.578Z"
   },
   {
    "duration": 6,
    "start_time": "2022-12-18T15:24:55.617Z"
   },
   {
    "duration": 1421,
    "start_time": "2022-12-18T15:24:55.813Z"
   },
   {
    "duration": 1386,
    "start_time": "2022-12-18T15:24:57.236Z"
   },
   {
    "duration": 1582,
    "start_time": "2022-12-18T15:24:58.624Z"
   },
   {
    "duration": 6,
    "start_time": "2022-12-18T15:25:04.994Z"
   },
   {
    "duration": 1430,
    "start_time": "2022-12-18T15:25:05.217Z"
   },
   {
    "duration": 1401,
    "start_time": "2022-12-18T15:25:06.651Z"
   },
   {
    "duration": 1411,
    "start_time": "2022-12-18T15:25:08.054Z"
   },
   {
    "duration": 6,
    "start_time": "2022-12-18T15:25:11.656Z"
   },
   {
    "duration": 1403,
    "start_time": "2022-12-18T15:25:11.853Z"
   },
   {
    "duration": 5,
    "start_time": "2022-12-18T15:25:24.260Z"
   },
   {
    "duration": 1427,
    "start_time": "2022-12-18T15:25:24.501Z"
   },
   {
    "duration": 1429,
    "start_time": "2022-12-18T15:25:25.931Z"
   },
   {
    "duration": 1439,
    "start_time": "2022-12-18T15:25:27.362Z"
   },
   {
    "duration": 22,
    "start_time": "2022-12-18T15:27:23.665Z"
   },
   {
    "duration": 3,
    "start_time": "2022-12-18T15:27:27.092Z"
   },
   {
    "duration": 24,
    "start_time": "2022-12-18T15:27:27.317Z"
   },
   {
    "duration": 22,
    "start_time": "2022-12-18T15:27:33.526Z"
   },
   {
    "duration": 20,
    "start_time": "2022-12-18T15:28:57.701Z"
   },
   {
    "duration": 19,
    "start_time": "2022-12-18T15:29:58.678Z"
   },
   {
    "duration": 6,
    "start_time": "2022-12-18T15:30:33.388Z"
   },
   {
    "duration": 1444,
    "start_time": "2022-12-18T15:30:34.012Z"
   },
   {
    "duration": 7,
    "start_time": "2022-12-18T15:31:08.843Z"
   },
   {
    "duration": 1756,
    "start_time": "2022-12-18T15:31:08.966Z"
   },
   {
    "duration": 1484,
    "start_time": "2022-12-18T15:31:10.724Z"
   },
   {
    "duration": 1438,
    "start_time": "2022-12-18T15:31:12.210Z"
   },
   {
    "duration": 6,
    "start_time": "2022-12-18T15:31:28.034Z"
   },
   {
    "duration": 1495,
    "start_time": "2022-12-18T15:31:28.247Z"
   },
   {
    "duration": 1401,
    "start_time": "2022-12-18T15:31:33.461Z"
   },
   {
    "duration": 1492,
    "start_time": "2022-12-18T15:31:34.864Z"
   },
   {
    "duration": 4604,
    "start_time": "2022-12-18T15:32:23.533Z"
   },
   {
    "duration": 6,
    "start_time": "2022-12-18T15:32:50.962Z"
   },
   {
    "duration": 4339,
    "start_time": "2022-12-18T15:32:51.324Z"
   },
   {
    "duration": 21,
    "start_time": "2022-12-18T15:33:31.385Z"
   },
   {
    "duration": 22,
    "start_time": "2022-12-18T15:33:38.197Z"
   },
   {
    "duration": 1515,
    "start_time": "2022-12-18T15:33:58.058Z"
   },
   {
    "duration": 538,
    "start_time": "2022-12-18T15:33:59.589Z"
   },
   {
    "duration": 234,
    "start_time": "2022-12-18T15:34:00.129Z"
   },
   {
    "duration": 383,
    "start_time": "2022-12-18T15:34:00.367Z"
   },
   {
    "duration": 26,
    "start_time": "2022-12-18T15:34:00.754Z"
   },
   {
    "duration": 1375,
    "start_time": "2022-12-18T15:34:00.782Z"
   },
   {
    "duration": 5,
    "start_time": "2022-12-18T15:34:02.160Z"
   },
   {
    "duration": 19,
    "start_time": "2022-12-18T15:34:02.166Z"
   },
   {
    "duration": 183,
    "start_time": "2022-12-18T15:34:02.187Z"
   },
   {
    "duration": 6,
    "start_time": "2022-12-18T15:34:02.373Z"
   },
   {
    "duration": 369,
    "start_time": "2022-12-18T15:34:02.381Z"
   },
   {
    "duration": 5,
    "start_time": "2022-12-18T15:34:02.754Z"
   },
   {
    "duration": 97,
    "start_time": "2022-12-18T15:34:02.762Z"
   },
   {
    "duration": 12,
    "start_time": "2022-12-18T15:34:02.865Z"
   },
   {
    "duration": 7,
    "start_time": "2022-12-18T15:34:02.879Z"
   },
   {
    "duration": 24,
    "start_time": "2022-12-18T15:34:02.889Z"
   },
   {
    "duration": 4,
    "start_time": "2022-12-18T15:34:02.915Z"
   },
   {
    "duration": 11,
    "start_time": "2022-12-18T15:34:02.921Z"
   },
   {
    "duration": 4365,
    "start_time": "2022-12-18T15:34:02.951Z"
   },
   {
    "duration": 4,
    "start_time": "2022-12-18T15:37:19.320Z"
   },
   {
    "duration": 20,
    "start_time": "2022-12-18T15:37:19.487Z"
   },
   {
    "duration": 3,
    "start_time": "2022-12-18T15:38:02.782Z"
   },
   {
    "duration": 6,
    "start_time": "2022-12-18T15:38:47.089Z"
   },
   {
    "duration": 5,
    "start_time": "2022-12-18T15:39:25.333Z"
   },
   {
    "duration": 4236,
    "start_time": "2022-12-18T15:39:25.632Z"
   },
   {
    "duration": 4280,
    "start_time": "2022-12-18T15:39:36.612Z"
   }
  ],
  "kernelspec": {
   "display_name": "Python 3 (ipykernel)",
   "language": "python",
   "name": "python3"
  },
  "language_info": {
   "codemirror_mode": {
    "name": "ipython",
    "version": 3
   },
   "file_extension": ".py",
   "mimetype": "text/x-python",
   "name": "python",
   "nbconvert_exporter": "python",
   "pygments_lexer": "ipython3",
   "version": "3.9.12"
  },
  "toc": {
   "base_numbering": 1,
   "nav_menu": {},
   "number_sections": true,
   "sideBar": true,
   "skip_h1_title": true,
   "title_cell": "Table of Contents",
   "title_sidebar": "Contents",
   "toc_cell": false,
   "toc_position": {},
   "toc_section_display": true,
   "toc_window_display": false
  }
 },
 "nbformat": 4,
 "nbformat_minor": 2
}
