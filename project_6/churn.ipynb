{
 "cells": [
  {
   "cell_type": "markdown",
   "metadata": {
    "toc": true
   },
   "source": [
    "<h1>Содержание<span class=\"tocSkip\"></span></h1>\n",
    "<div class=\"toc\"><ul class=\"toc-item\"><li><span><a href=\"#Импорт-библиотек-и-изучение-общей-информации\" data-toc-modified-id=\"Импорт-библиотек-и-изучение-общей-информации-1\"><span class=\"toc-item-num\">1&nbsp;&nbsp;</span>Импорт библиотек и изучение общей информации</a></span><ul class=\"toc-item\"><li><span><a href=\"#✅-Вывод:\" data-toc-modified-id=\"✅-Вывод:-1.1\"><span class=\"toc-item-num\">1.1&nbsp;&nbsp;</span>✅ Вывод:</a></span></li></ul></li><li><span><a href=\"#Предобработка-данных\" data-toc-modified-id=\"Предобработка-данных-2\"><span class=\"toc-item-num\">2&nbsp;&nbsp;</span>Предобработка данных</a></span><ul class=\"toc-item\"><li><span><a href=\"#Удаление-данных-и-приведение-имен-столбцов-к-единому-стилю\" data-toc-modified-id=\"Удаление-данных-и-приведение-имен-столбцов-к-единому-стилю-2.1\"><span class=\"toc-item-num\">2.1&nbsp;&nbsp;</span>Удаление данных и приведение имен столбцов к единому стилю</a></span></li><li><span><a href=\"#Поиск-дубликатов-и-аномалий\" data-toc-modified-id=\"Поиск-дубликатов-и-аномалий-2.2\"><span class=\"toc-item-num\">2.2&nbsp;&nbsp;</span>Поиск дубликатов и аномалий</a></span></li><li><span><a href=\"#Определение-взяимосвязи-в-переменных\" data-toc-modified-id=\"Определение-взяимосвязи-в-переменных-2.3\"><span class=\"toc-item-num\">2.3&nbsp;&nbsp;</span>Определение взяимосвязи в переменных</a></span></li><li><span><a href=\"#Кодирование-данных\" data-toc-modified-id=\"Кодирование-данных-2.4\"><span class=\"toc-item-num\">2.4&nbsp;&nbsp;</span>Кодирование данных</a></span></li><li><span><a href=\"#Разделение-данных-на-выборки-и-масштабирование\" data-toc-modified-id=\"Разделение-данных-на-выборки-и-масштабирование-2.5\"><span class=\"toc-item-num\">2.5&nbsp;&nbsp;</span>Разделение данных на выборки и масштабирование</a></span></li><li><span><a href=\"#✅-Вывод:\" data-toc-modified-id=\"✅-Вывод:-2.6\"><span class=\"toc-item-num\">2.6&nbsp;&nbsp;</span>✅ Вывод:</a></span></li></ul></li><li><span><a href=\"#Исследование-задачи\" data-toc-modified-id=\"Исследование-задачи-3\"><span class=\"toc-item-num\">3&nbsp;&nbsp;</span>Исследование задачи</a></span><ul class=\"toc-item\"><li><span><a href=\"#Решающее-дерево-без-учёта-дисбаланса\" data-toc-modified-id=\"Решающее-дерево-без-учёта-дисбаланса-3.1\"><span class=\"toc-item-num\">3.1&nbsp;&nbsp;</span>Решающее дерево без учёта дисбаланса</a></span></li><li><span><a href=\"#Случайный-лес-без-учёта-дисбаланса\" data-toc-modified-id=\"Случайный-лес-без-учёта-дисбаланса-3.2\"><span class=\"toc-item-num\">3.2&nbsp;&nbsp;</span>Случайный лес без учёта дисбаланса</a></span></li><li><span><a href=\"#Логистическая-регрессия-без-учёта-дисбаланса\" data-toc-modified-id=\"Логистическая-регрессия-без-учёта-дисбаланса-3.3\"><span class=\"toc-item-num\">3.3&nbsp;&nbsp;</span>Логистическая регрессия без учёта дисбаланса</a></span></li><li><span><a href=\"#✅-Вывод:\" data-toc-modified-id=\"✅-Вывод:-3.4\"><span class=\"toc-item-num\">3.4&nbsp;&nbsp;</span>✅ Вывод:</a></span></li></ul></li><li><span><a href=\"#Борьба-с-дисбалансом\" data-toc-modified-id=\"Борьба-с-дисбалансом-4\"><span class=\"toc-item-num\">4&nbsp;&nbsp;</span>Борьба с дисбалансом</a></span><ul class=\"toc-item\"><li><span><a href=\"#Логистическая-регрессия-с-параметром-class_weight\" data-toc-modified-id=\"Логистическая-регрессия-с-параметром-class_weight-4.1\"><span class=\"toc-item-num\">4.1&nbsp;&nbsp;</span>Логистическая регрессия с параметром class_weight</a></span></li><li><span><a href=\"#Уменьшение-выборки\" data-toc-modified-id=\"Уменьшение-выборки-4.2\"><span class=\"toc-item-num\">4.2&nbsp;&nbsp;</span>Уменьшение выборки</a></span></li><li><span><a href=\"#Логистическая-регрессия-с-учётом-дисбаланса-Downsampling\" data-toc-modified-id=\"Логистическая-регрессия-с-учётом-дисбаланса-Downsampling-4.3\"><span class=\"toc-item-num\">4.3&nbsp;&nbsp;</span>Логистическая регрессия с учётом дисбаланса Downsampling</a></span></li><li><span><a href=\"#Решающее-дерево-с-учётом-дисбаланса-Downsampling\" data-toc-modified-id=\"Решающее-дерево-с-учётом-дисбаланса-Downsampling-4.4\"><span class=\"toc-item-num\">4.4&nbsp;&nbsp;</span>Решающее дерево с учётом дисбаланса Downsampling</a></span></li><li><span><a href=\"#Случайный-лес-с-учётом-дисбаланса-Downsampling\" data-toc-modified-id=\"Случайный-лес-с-учётом-дисбаланса-Downsampling-4.5\"><span class=\"toc-item-num\">4.5&nbsp;&nbsp;</span>Случайный лес с учётом дисбаланса Downsampling</a></span></li><li><span><a href=\"#Увеличение-выборки\" data-toc-modified-id=\"Увеличение-выборки-4.6\"><span class=\"toc-item-num\">4.6&nbsp;&nbsp;</span>Увеличение выборки</a></span></li><li><span><a href=\"#Логистическая-регрессия-с-учётом-дисбаланса-Upsampling\" data-toc-modified-id=\"Логистическая-регрессия-с-учётом-дисбаланса-Upsampling-4.7\"><span class=\"toc-item-num\">4.7&nbsp;&nbsp;</span>Логистическая регрессия с учётом дисбаланса Upsampling</a></span></li><li><span><a href=\"#Решающее-дерево-с-учётом-дисбаланса-Upsampling\" data-toc-modified-id=\"Решающее-дерево-с-учётом-дисбаланса-Upsampling-4.8\"><span class=\"toc-item-num\">4.8&nbsp;&nbsp;</span>Решающее дерево с учётом дисбаланса Upsampling</a></span></li><li><span><a href=\"#Случайный-лес-с-учётом-дисбаланса-Upsampling\" data-toc-modified-id=\"Случайный-лес-с-учётом-дисбаланса-Upsampling-4.9\"><span class=\"toc-item-num\">4.9&nbsp;&nbsp;</span>Случайный лес с учётом дисбаланса Upsampling</a></span></li><li><span><a href=\"#✅-Вывод:\" data-toc-modified-id=\"✅-Вывод:-4.10\"><span class=\"toc-item-num\">4.10&nbsp;&nbsp;</span>✅ Вывод:</a></span></li></ul></li><li><span><a href=\"#Тестирование-модели\" data-toc-modified-id=\"Тестирование-модели-5\"><span class=\"toc-item-num\">5&nbsp;&nbsp;</span>Тестирование модели</a></span><ul class=\"toc-item\"><li><span><a href=\"#✅-Вывод:\" data-toc-modified-id=\"✅-Вывод:-5.1\"><span class=\"toc-item-num\">5.1&nbsp;&nbsp;</span>✅ Вывод:</a></span></li></ul></li><li><span><a href=\"#Общий-вывод\" data-toc-modified-id=\"Общий-вывод-6\"><span class=\"toc-item-num\">6&nbsp;&nbsp;</span>Общий вывод</a></span></li><li><span><a href=\"#Чек-лист-готовности-проекта\" data-toc-modified-id=\"Чек-лист-готовности-проекта-7\"><span class=\"toc-item-num\">7&nbsp;&nbsp;</span>Чек-лист готовности проекта</a></span></li></ul></div>"
   ]
  },
  {
   "cell_type": "markdown",
   "metadata": {},
   "source": [
    "# Отток клиентов"
   ]
  },
  {
   "cell_type": "markdown",
   "metadata": {},
   "source": [
    "Из «Бета-Банка» стали уходить клиенты. Каждый месяц. Немного, но заметно. Банковские маркетологи посчитали: сохранять текущих клиентов дешевле, чем привлекать новых.\n",
    "\n",
    "Нужно спрогнозировать, уйдёт клиент из банка в ближайшее время или нет. Вам предоставлены исторические данные о поведении клиентов и расторжении договоров с банком. \n",
    "\n",
    "Постройте модель с предельно большим значением *F1*-меры. Чтобы сдать проект успешно, нужно довести метрику до 0.59. Проверьте *F1*-меру на тестовой выборке самостоятельно.\n",
    "\n",
    "Дополнительно измеряйте *AUC-ROC*, сравнивайте её значение с *F1*-мерой.\n",
    "\n",
    "Источник данных: [https://www.kaggle.com/barelydedicated/bank-customer-churn-modeling](https://www.kaggle.com/barelydedicated/bank-customer-churn-modeling)"
   ]
  },
  {
   "cell_type": "markdown",
   "metadata": {},
   "source": [
    "# Подготовка данных"
   ]
  },
  {
   "cell_type": "markdown",
   "metadata": {},
   "source": [
    "## Импорт библиотек и изучение общей информации"
   ]
  },
  {
   "cell_type": "code",
   "execution_count": 1,
   "metadata": {},
   "outputs": [],
   "source": [
    "import pandas as pd\n",
    "import matplotlib.pyplot as plt\n",
    "import seaborn as sns\n",
    "import numpy as np\n",
    "\n",
    "from sklearn.model_selection import train_test_split\n",
    "from sklearn.preprocessing import StandardScaler\n",
    "\n",
    "# модели\n",
    "from sklearn.tree import DecisionTreeClassifier\n",
    "from sklearn.ensemble import RandomForestClassifier\n",
    "from sklearn.linear_model import LogisticRegression\n",
    "\n",
    "from sklearn.utils import shuffle\n",
    "\n",
    "# метрики\n",
    "from sklearn.metrics import(f1_score, roc_auc_score, roc_curve)\n",
    "\n",
    "\n",
    "\n",
    "import warnings\n",
    "warnings.simplefilter(action=\"ignore\", category=FutureWarning)"
   ]
  },
  {
   "cell_type": "code",
   "execution_count": 2,
   "metadata": {},
   "outputs": [],
   "source": [
    "data = pd.read_csv('/datasets/Churn.csv')"
   ]
  },
  {
   "cell_type": "code",
   "execution_count": 3,
   "metadata": {
    "scrolled": false
   },
   "outputs": [
    {
     "data": {
      "text/html": [
       "<div>\n",
       "<style scoped>\n",
       "    .dataframe tbody tr th:only-of-type {\n",
       "        vertical-align: middle;\n",
       "    }\n",
       "\n",
       "    .dataframe tbody tr th {\n",
       "        vertical-align: top;\n",
       "    }\n",
       "\n",
       "    .dataframe thead th {\n",
       "        text-align: right;\n",
       "    }\n",
       "</style>\n",
       "<table border=\"1\" class=\"dataframe\">\n",
       "  <thead>\n",
       "    <tr style=\"text-align: right;\">\n",
       "      <th></th>\n",
       "      <th>RowNumber</th>\n",
       "      <th>CustomerId</th>\n",
       "      <th>Surname</th>\n",
       "      <th>CreditScore</th>\n",
       "      <th>Geography</th>\n",
       "      <th>Gender</th>\n",
       "      <th>Age</th>\n",
       "      <th>Tenure</th>\n",
       "      <th>Balance</th>\n",
       "      <th>NumOfProducts</th>\n",
       "      <th>HasCrCard</th>\n",
       "      <th>IsActiveMember</th>\n",
       "      <th>EstimatedSalary</th>\n",
       "      <th>Exited</th>\n",
       "    </tr>\n",
       "  </thead>\n",
       "  <tbody>\n",
       "    <tr>\n",
       "      <th>0</th>\n",
       "      <td>1</td>\n",
       "      <td>15634602</td>\n",
       "      <td>Hargrave</td>\n",
       "      <td>619</td>\n",
       "      <td>France</td>\n",
       "      <td>Female</td>\n",
       "      <td>42</td>\n",
       "      <td>2.0</td>\n",
       "      <td>0.00</td>\n",
       "      <td>1</td>\n",
       "      <td>1</td>\n",
       "      <td>1</td>\n",
       "      <td>101348.88</td>\n",
       "      <td>1</td>\n",
       "    </tr>\n",
       "    <tr>\n",
       "      <th>1</th>\n",
       "      <td>2</td>\n",
       "      <td>15647311</td>\n",
       "      <td>Hill</td>\n",
       "      <td>608</td>\n",
       "      <td>Spain</td>\n",
       "      <td>Female</td>\n",
       "      <td>41</td>\n",
       "      <td>1.0</td>\n",
       "      <td>83807.86</td>\n",
       "      <td>1</td>\n",
       "      <td>0</td>\n",
       "      <td>1</td>\n",
       "      <td>112542.58</td>\n",
       "      <td>0</td>\n",
       "    </tr>\n",
       "    <tr>\n",
       "      <th>2</th>\n",
       "      <td>3</td>\n",
       "      <td>15619304</td>\n",
       "      <td>Onio</td>\n",
       "      <td>502</td>\n",
       "      <td>France</td>\n",
       "      <td>Female</td>\n",
       "      <td>42</td>\n",
       "      <td>8.0</td>\n",
       "      <td>159660.80</td>\n",
       "      <td>3</td>\n",
       "      <td>1</td>\n",
       "      <td>0</td>\n",
       "      <td>113931.57</td>\n",
       "      <td>1</td>\n",
       "    </tr>\n",
       "    <tr>\n",
       "      <th>3</th>\n",
       "      <td>4</td>\n",
       "      <td>15701354</td>\n",
       "      <td>Boni</td>\n",
       "      <td>699</td>\n",
       "      <td>France</td>\n",
       "      <td>Female</td>\n",
       "      <td>39</td>\n",
       "      <td>1.0</td>\n",
       "      <td>0.00</td>\n",
       "      <td>2</td>\n",
       "      <td>0</td>\n",
       "      <td>0</td>\n",
       "      <td>93826.63</td>\n",
       "      <td>0</td>\n",
       "    </tr>\n",
       "    <tr>\n",
       "      <th>4</th>\n",
       "      <td>5</td>\n",
       "      <td>15737888</td>\n",
       "      <td>Mitchell</td>\n",
       "      <td>850</td>\n",
       "      <td>Spain</td>\n",
       "      <td>Female</td>\n",
       "      <td>43</td>\n",
       "      <td>2.0</td>\n",
       "      <td>125510.82</td>\n",
       "      <td>1</td>\n",
       "      <td>1</td>\n",
       "      <td>1</td>\n",
       "      <td>79084.10</td>\n",
       "      <td>0</td>\n",
       "    </tr>\n",
       "    <tr>\n",
       "      <th>5</th>\n",
       "      <td>6</td>\n",
       "      <td>15574012</td>\n",
       "      <td>Chu</td>\n",
       "      <td>645</td>\n",
       "      <td>Spain</td>\n",
       "      <td>Male</td>\n",
       "      <td>44</td>\n",
       "      <td>8.0</td>\n",
       "      <td>113755.78</td>\n",
       "      <td>2</td>\n",
       "      <td>1</td>\n",
       "      <td>0</td>\n",
       "      <td>149756.71</td>\n",
       "      <td>1</td>\n",
       "    </tr>\n",
       "    <tr>\n",
       "      <th>6</th>\n",
       "      <td>7</td>\n",
       "      <td>15592531</td>\n",
       "      <td>Bartlett</td>\n",
       "      <td>822</td>\n",
       "      <td>France</td>\n",
       "      <td>Male</td>\n",
       "      <td>50</td>\n",
       "      <td>7.0</td>\n",
       "      <td>0.00</td>\n",
       "      <td>2</td>\n",
       "      <td>1</td>\n",
       "      <td>1</td>\n",
       "      <td>10062.80</td>\n",
       "      <td>0</td>\n",
       "    </tr>\n",
       "    <tr>\n",
       "      <th>7</th>\n",
       "      <td>8</td>\n",
       "      <td>15656148</td>\n",
       "      <td>Obinna</td>\n",
       "      <td>376</td>\n",
       "      <td>Germany</td>\n",
       "      <td>Female</td>\n",
       "      <td>29</td>\n",
       "      <td>4.0</td>\n",
       "      <td>115046.74</td>\n",
       "      <td>4</td>\n",
       "      <td>1</td>\n",
       "      <td>0</td>\n",
       "      <td>119346.88</td>\n",
       "      <td>1</td>\n",
       "    </tr>\n",
       "    <tr>\n",
       "      <th>8</th>\n",
       "      <td>9</td>\n",
       "      <td>15792365</td>\n",
       "      <td>He</td>\n",
       "      <td>501</td>\n",
       "      <td>France</td>\n",
       "      <td>Male</td>\n",
       "      <td>44</td>\n",
       "      <td>4.0</td>\n",
       "      <td>142051.07</td>\n",
       "      <td>2</td>\n",
       "      <td>0</td>\n",
       "      <td>1</td>\n",
       "      <td>74940.50</td>\n",
       "      <td>0</td>\n",
       "    </tr>\n",
       "    <tr>\n",
       "      <th>9</th>\n",
       "      <td>10</td>\n",
       "      <td>15592389</td>\n",
       "      <td>H?</td>\n",
       "      <td>684</td>\n",
       "      <td>France</td>\n",
       "      <td>Male</td>\n",
       "      <td>27</td>\n",
       "      <td>2.0</td>\n",
       "      <td>134603.88</td>\n",
       "      <td>1</td>\n",
       "      <td>1</td>\n",
       "      <td>1</td>\n",
       "      <td>71725.73</td>\n",
       "      <td>0</td>\n",
       "    </tr>\n",
       "  </tbody>\n",
       "</table>\n",
       "</div>"
      ],
      "text/plain": [
       "   RowNumber  CustomerId   Surname  CreditScore Geography  Gender  Age  \\\n",
       "0          1    15634602  Hargrave          619    France  Female   42   \n",
       "1          2    15647311      Hill          608     Spain  Female   41   \n",
       "2          3    15619304      Onio          502    France  Female   42   \n",
       "3          4    15701354      Boni          699    France  Female   39   \n",
       "4          5    15737888  Mitchell          850     Spain  Female   43   \n",
       "5          6    15574012       Chu          645     Spain    Male   44   \n",
       "6          7    15592531  Bartlett          822    France    Male   50   \n",
       "7          8    15656148    Obinna          376   Germany  Female   29   \n",
       "8          9    15792365        He          501    France    Male   44   \n",
       "9         10    15592389        H?          684    France    Male   27   \n",
       "\n",
       "   Tenure    Balance  NumOfProducts  HasCrCard  IsActiveMember  \\\n",
       "0     2.0       0.00              1          1               1   \n",
       "1     1.0   83807.86              1          0               1   \n",
       "2     8.0  159660.80              3          1               0   \n",
       "3     1.0       0.00              2          0               0   \n",
       "4     2.0  125510.82              1          1               1   \n",
       "5     8.0  113755.78              2          1               0   \n",
       "6     7.0       0.00              2          1               1   \n",
       "7     4.0  115046.74              4          1               0   \n",
       "8     4.0  142051.07              2          0               1   \n",
       "9     2.0  134603.88              1          1               1   \n",
       "\n",
       "   EstimatedSalary  Exited  \n",
       "0        101348.88       1  \n",
       "1        112542.58       0  \n",
       "2        113931.57       1  \n",
       "3         93826.63       0  \n",
       "4         79084.10       0  \n",
       "5        149756.71       1  \n",
       "6         10062.80       0  \n",
       "7        119346.88       1  \n",
       "8         74940.50       0  \n",
       "9         71725.73       0  "
      ]
     },
     "metadata": {},
     "output_type": "display_data"
    },
    {
     "name": "stdout",
     "output_type": "stream",
     "text": [
      "<class 'pandas.core.frame.DataFrame'>\n",
      "RangeIndex: 10000 entries, 0 to 9999\n",
      "Data columns (total 14 columns):\n",
      " #   Column           Non-Null Count  Dtype  \n",
      "---  ------           --------------  -----  \n",
      " 0   RowNumber        10000 non-null  int64  \n",
      " 1   CustomerId       10000 non-null  int64  \n",
      " 2   Surname          10000 non-null  object \n",
      " 3   CreditScore      10000 non-null  int64  \n",
      " 4   Geography        10000 non-null  object \n",
      " 5   Gender           10000 non-null  object \n",
      " 6   Age              10000 non-null  int64  \n",
      " 7   Tenure           9091 non-null   float64\n",
      " 8   Balance          10000 non-null  float64\n",
      " 9   NumOfProducts    10000 non-null  int64  \n",
      " 10  HasCrCard        10000 non-null  int64  \n",
      " 11  IsActiveMember   10000 non-null  int64  \n",
      " 12  EstimatedSalary  10000 non-null  float64\n",
      " 13  Exited           10000 non-null  int64  \n",
      "dtypes: float64(3), int64(8), object(3)\n",
      "memory usage: 1.1+ MB\n"
     ]
    },
    {
     "data": {
      "image/png": "[encoded data removed]",
      "text/plain": [
       "<Figure size 1080x1080 with 12 Axes>"
      ]
     },
     "metadata": {
      "needs_background": "light"
     },
     "output_type": "display_data"
    }
   ],
   "source": [
    "display(data.head(10))\n",
    "data.info()\n",
    "data.hist(bins=50, figsize=(15, 15));"
   ]
  },
  {
   "cell_type": "markdown",
   "metadata": {},
   "source": [
    "### ✅ Вывод:\n",
    "<div>\n",
    "    <br>🔸 Датасет содержит 10 000 строк и 14 колонок\n",
    "    <br>🔸 Наблюдается более 3500 клиентов с нулевым балансом\n",
    "    <br>🔸 Имена столбцов стоит привести к единому регистру\n",
    "    <br>🔸 Есть пропуски в столбце Tenure\n",
    "    <br>🔸 Столбцы <strong>RowNumber</strong>, <strong>CustomerId</strong> и <strong>Surname</strong> не влияют на факт ухода клиента, поэтому нужно будет от них избавиться и привести столбец к целочисленному типу данных\n",
    "    <br>🔸 Целевым признаком будет столбец <strong>Exited</strong>, в котором наблюдается дисбаланс: 4 действующих клиента к 1 ушедшему\n",
    "</div>"
   ]
  },
  {
   "cell_type": "markdown",
   "metadata": {},
   "source": [
    "## Предобработка данных"
   ]
  },
  {
   "cell_type": "markdown",
   "metadata": {},
   "source": [
    "### Удаление данных и приведение имен столбцов к единому стилю"
   ]
  },
  {
   "cell_type": "code",
   "execution_count": 4,
   "metadata": {},
   "outputs": [],
   "source": [
    "# сохраним в переменную первоначальное количество строк\n",
    "old_data_shape = data.shape[0]\n",
    "\n",
    "# удалим неинформативные столбцы\n",
    "data.drop(['RowNumber', 'CustomerId', 'Surname'], axis=1, inplace=True)"
   ]
  },
  {
   "cell_type": "code",
   "execution_count": 5,
   "metadata": {},
   "outputs": [],
   "source": [
    "# приведем названия столбцов к нижнему регистру\n",
    "data.columns = data.columns.str.lower()\n",
    "\n",
    "# приведем к змеиному регистру\n",
    "data.rename(columns = {'creditscore' : 'credit_score',\n",
    "                     'numofproducts' : 'num_of_products', \n",
    "                     'hascrcard' : 'has_cr_card',\n",
    "                     'isactivemember': 'is_active_member',\n",
    "                     'estimatedsalary': 'estimated_salary'}, \n",
    "          inplace = True)"
   ]
  },
  {
   "cell_type": "code",
   "execution_count": 6,
   "metadata": {},
   "outputs": [
    {
     "data": {
      "text/html": [
       "<div>\n",
       "<style scoped>\n",
       "    .dataframe tbody tr th:only-of-type {\n",
       "        vertical-align: middle;\n",
       "    }\n",
       "\n",
       "    .dataframe tbody tr th {\n",
       "        vertical-align: top;\n",
       "    }\n",
       "\n",
       "    .dataframe thead th {\n",
       "        text-align: right;\n",
       "    }\n",
       "</style>\n",
       "<table border=\"1\" class=\"dataframe\">\n",
       "  <thead>\n",
       "    <tr style=\"text-align: right;\">\n",
       "      <th></th>\n",
       "      <th>credit_score</th>\n",
       "      <th>geography</th>\n",
       "      <th>gender</th>\n",
       "      <th>age</th>\n",
       "      <th>tenure</th>\n",
       "      <th>balance</th>\n",
       "      <th>num_of_products</th>\n",
       "      <th>has_cr_card</th>\n",
       "      <th>is_active_member</th>\n",
       "      <th>estimated_salary</th>\n",
       "      <th>exited</th>\n",
       "    </tr>\n",
       "  </thead>\n",
       "  <tbody>\n",
       "    <tr>\n",
       "      <th>30</th>\n",
       "      <td>591</td>\n",
       "      <td>Spain</td>\n",
       "      <td>Female</td>\n",
       "      <td>39</td>\n",
       "      <td>NaN</td>\n",
       "      <td>0.00</td>\n",
       "      <td>3</td>\n",
       "      <td>1</td>\n",
       "      <td>0</td>\n",
       "      <td>140469.38</td>\n",
       "      <td>1</td>\n",
       "    </tr>\n",
       "    <tr>\n",
       "      <th>48</th>\n",
       "      <td>550</td>\n",
       "      <td>Germany</td>\n",
       "      <td>Male</td>\n",
       "      <td>38</td>\n",
       "      <td>NaN</td>\n",
       "      <td>103391.38</td>\n",
       "      <td>1</td>\n",
       "      <td>0</td>\n",
       "      <td>1</td>\n",
       "      <td>90878.13</td>\n",
       "      <td>0</td>\n",
       "    </tr>\n",
       "    <tr>\n",
       "      <th>51</th>\n",
       "      <td>585</td>\n",
       "      <td>Germany</td>\n",
       "      <td>Male</td>\n",
       "      <td>36</td>\n",
       "      <td>NaN</td>\n",
       "      <td>146050.97</td>\n",
       "      <td>2</td>\n",
       "      <td>0</td>\n",
       "      <td>0</td>\n",
       "      <td>86424.57</td>\n",
       "      <td>0</td>\n",
       "    </tr>\n",
       "    <tr>\n",
       "      <th>53</th>\n",
       "      <td>655</td>\n",
       "      <td>Germany</td>\n",
       "      <td>Male</td>\n",
       "      <td>41</td>\n",
       "      <td>NaN</td>\n",
       "      <td>125561.97</td>\n",
       "      <td>1</td>\n",
       "      <td>0</td>\n",
       "      <td>0</td>\n",
       "      <td>164040.94</td>\n",
       "      <td>1</td>\n",
       "    </tr>\n",
       "    <tr>\n",
       "      <th>60</th>\n",
       "      <td>742</td>\n",
       "      <td>Germany</td>\n",
       "      <td>Male</td>\n",
       "      <td>35</td>\n",
       "      <td>NaN</td>\n",
       "      <td>136857.00</td>\n",
       "      <td>1</td>\n",
       "      <td>0</td>\n",
       "      <td>0</td>\n",
       "      <td>84509.57</td>\n",
       "      <td>0</td>\n",
       "    </tr>\n",
       "    <tr>\n",
       "      <th>82</th>\n",
       "      <td>543</td>\n",
       "      <td>France</td>\n",
       "      <td>Female</td>\n",
       "      <td>36</td>\n",
       "      <td>NaN</td>\n",
       "      <td>0.00</td>\n",
       "      <td>2</td>\n",
       "      <td>0</td>\n",
       "      <td>0</td>\n",
       "      <td>26019.59</td>\n",
       "      <td>0</td>\n",
       "    </tr>\n",
       "    <tr>\n",
       "      <th>85</th>\n",
       "      <td>652</td>\n",
       "      <td>Spain</td>\n",
       "      <td>Female</td>\n",
       "      <td>75</td>\n",
       "      <td>NaN</td>\n",
       "      <td>0.00</td>\n",
       "      <td>2</td>\n",
       "      <td>1</td>\n",
       "      <td>1</td>\n",
       "      <td>114675.75</td>\n",
       "      <td>0</td>\n",
       "    </tr>\n",
       "    <tr>\n",
       "      <th>94</th>\n",
       "      <td>730</td>\n",
       "      <td>Spain</td>\n",
       "      <td>Male</td>\n",
       "      <td>42</td>\n",
       "      <td>NaN</td>\n",
       "      <td>0.00</td>\n",
       "      <td>2</td>\n",
       "      <td>0</td>\n",
       "      <td>1</td>\n",
       "      <td>85982.47</td>\n",
       "      <td>0</td>\n",
       "    </tr>\n",
       "    <tr>\n",
       "      <th>99</th>\n",
       "      <td>413</td>\n",
       "      <td>France</td>\n",
       "      <td>Male</td>\n",
       "      <td>34</td>\n",
       "      <td>NaN</td>\n",
       "      <td>0.00</td>\n",
       "      <td>2</td>\n",
       "      <td>0</td>\n",
       "      <td>0</td>\n",
       "      <td>6534.18</td>\n",
       "      <td>0</td>\n",
       "    </tr>\n",
       "    <tr>\n",
       "      <th>111</th>\n",
       "      <td>538</td>\n",
       "      <td>Germany</td>\n",
       "      <td>Male</td>\n",
       "      <td>39</td>\n",
       "      <td>NaN</td>\n",
       "      <td>108055.10</td>\n",
       "      <td>2</td>\n",
       "      <td>1</td>\n",
       "      <td>0</td>\n",
       "      <td>27231.26</td>\n",
       "      <td>0</td>\n",
       "    </tr>\n",
       "  </tbody>\n",
       "</table>\n",
       "</div>"
      ],
      "text/plain": [
       "     credit_score geography  gender  age  tenure    balance  num_of_products  \\\n",
       "30            591     Spain  Female   39     NaN       0.00                3   \n",
       "48            550   Germany    Male   38     NaN  103391.38                1   \n",
       "51            585   Germany    Male   36     NaN  146050.97                2   \n",
       "53            655   Germany    Male   41     NaN  125561.97                1   \n",
       "60            742   Germany    Male   35     NaN  136857.00                1   \n",
       "82            543    France  Female   36     NaN       0.00                2   \n",
       "85            652     Spain  Female   75     NaN       0.00                2   \n",
       "94            730     Spain    Male   42     NaN       0.00                2   \n",
       "99            413    France    Male   34     NaN       0.00                2   \n",
       "111           538   Germany    Male   39     NaN  108055.10                2   \n",
       "\n",
       "     has_cr_card  is_active_member  estimated_salary  exited  \n",
       "30             1                 0         140469.38       1  \n",
       "48             0                 1          90878.13       0  \n",
       "51             0                 0          86424.57       0  \n",
       "53             0                 0         164040.94       1  \n",
       "60             0                 0          84509.57       0  \n",
       "82             0                 0          26019.59       0  \n",
       "85             1                 1         114675.75       0  \n",
       "94             0                 1          85982.47       0  \n",
       "99             0                 0           6534.18       0  \n",
       "111            1                 0          27231.26       0  "
      ]
     },
     "execution_count": 6,
     "metadata": {},
     "output_type": "execute_result"
    }
   ],
   "source": [
    "# посмотрим первые 10 строк с пропусками в tenure\n",
    "data[data['tenure'].isna() == True].head(10)"
   ]
  },
  {
   "cell_type": "markdown",
   "metadata": {},
   "source": [
    "📌 Взаимосвязи у пропусков с остальными столбцами не наблюдается. Так как столбец <strong>Tenure</strong> содержит информацию сколько лет человек является клиентом банка, то заполнить пропуски каким-то определенным значением невозможно, поэтому, чтобы не терять почти 10% строк, заполним нулями, чтобы было примерно нормальное распределение. Так как из-за медианы или среднего получается существенный перевес в диапазоне 4-5 лет в два раза больше чем в остальных столбцах"
   ]
  },
  {
   "cell_type": "code",
   "execution_count": 7,
   "metadata": {},
   "outputs": [
    {
     "name": "stdout",
     "output_type": "stream",
     "text": [
      "0     1291\n",
      "1      952\n",
      "2      950\n",
      "8      933\n",
      "3      928\n",
      "5      927\n",
      "7      925\n",
      "4      885\n",
      "9      882\n",
      "6      881\n",
      "10     446\n",
      "Name: tenure, dtype: int64\n"
     ]
    }
   ],
   "source": [
    "# удалим пропуски\n",
    "data['tenure'] = data['tenure'].fillna(0)\n",
    "\n",
    "# преобразуем тип данных\n",
    "data['tenure'] = data['tenure'].astype(int)\n",
    "\n",
    "# проверим распределение\n",
    "print(data['tenure'].value_counts())"
   ]
  },
  {
   "cell_type": "markdown",
   "metadata": {},
   "source": [
    "### Поиск дубликатов и аномалий"
   ]
  },
  {
   "cell_type": "code",
   "execution_count": 8,
   "metadata": {},
   "outputs": [
    {
     "data": {
      "text/plain": [
       "0"
      ]
     },
     "metadata": {},
     "output_type": "display_data"
    },
    {
     "data": {
      "text/plain": [
       "credit_score        0\n",
       "geography           0\n",
       "gender              0\n",
       "age                 0\n",
       "tenure              0\n",
       "balance             0\n",
       "num_of_products     0\n",
       "has_cr_card         0\n",
       "is_active_member    0\n",
       "estimated_salary    0\n",
       "exited              0\n",
       "dtype: int64"
      ]
     },
     "metadata": {},
     "output_type": "display_data"
    }
   ],
   "source": [
    "# проверим наличие явных дубликатов\n",
    "display(data.duplicated().sum())\n",
    "\n",
    "# проверим наличие неявных дубликатов \n",
    "display(data[data.duplicated(keep='first')].count())"
   ]
  },
  {
   "cell_type": "code",
   "execution_count": 9,
   "metadata": {},
   "outputs": [
    {
     "data": {
      "text/plain": [
       "array(['France', 'Germany', 'Spain'], dtype=object)"
      ]
     },
     "metadata": {},
     "output_type": "display_data"
    },
    {
     "data": {
      "text/plain": [
       "array(['Female', 'Male'], dtype=object)"
      ]
     },
     "metadata": {},
     "output_type": "display_data"
    },
    {
     "data": {
      "text/plain": [
       "array([18, 19, 20, 21, 22, 23, 24, 25, 26, 27, 28, 29, 30, 31, 32, 33, 34,\n",
       "       35, 36, 37, 38, 39, 40, 41, 42, 43, 44, 45, 46, 47, 48, 49, 50, 51,\n",
       "       52, 53, 54, 55, 56, 57, 58, 59, 60, 61, 62, 63, 64, 65, 66, 67, 68,\n",
       "       69, 70, 71, 72, 73, 74, 75, 76, 77, 78, 79, 80, 81, 82, 83, 84, 85,\n",
       "       88, 92])"
      ]
     },
     "metadata": {},
     "output_type": "display_data"
    }
   ],
   "source": [
    "# проверим наличие аномалий\n",
    "display(data['geography'].sort_values().unique())\n",
    "\n",
    "display(data['gender'].sort_values().unique())\n",
    "\n",
    "display(data['age'].sort_values().unique())"
   ]
  },
  {
   "cell_type": "markdown",
   "metadata": {},
   "source": [
    "📌 Аномалий не наблюдается, значения стран, пола и возраста в норме"
   ]
  },
  {
   "cell_type": "markdown",
   "metadata": {},
   "source": [
    "### Определение взяимосвязи в переменных"
   ]
  },
  {
   "cell_type": "code",
   "execution_count": 10,
   "metadata": {},
   "outputs": [
    {
     "data": {
      "image/png": "[encoded data removed]",
      "text/plain": [
       "<Figure size 1080x720 with 2 Axes>"
      ]
     },
     "metadata": {
      "needs_background": "light"
     },
     "output_type": "display_data"
    }
   ],
   "source": [
    "# посмотрим на корреляцию признаков между собой и между целевым признаком\n",
    "fig, ax = plt.subplots(figsize=(15, 10))\n",
    "plt.title('Карта корреляций признаков', size=20)\n",
    "sns.heatmap(data.corr(), \n",
    "            annot=True, \n",
    "            cmap='BuPu', \n",
    "            vmin=-1, vmax=1, \n",
    "            center=0, fmt='.1g', \n",
    "            linewidths=3,\n",
    "            square=True);"
   ]
  },
  {
   "cell_type": "markdown",
   "metadata": {},
   "source": [
    "<div>\n",
    "    <br>📌 Мультиколлинеарность — это корреляция независимых переменных (когда они находятся между собой в линейной зависимости, если коэффициент корреляции более 0,7). В данном датасете она отсутствует\n",
    "    <br>📌 Также ничего не влияет и на целевой признак\n",
    "</div>"
   ]
  },
  {
   "cell_type": "markdown",
   "metadata": {},
   "source": [
    "### Кодирование данных"
   ]
  },
  {
   "cell_type": "markdown",
   "metadata": {},
   "source": [
    "В этом наборе данных есть два столбца с категориальными переменными – **geography** и **gender**. Чтобы модели логистической регрессии и случайного леса не выдавали ошибку, нужно такие значения преобразовать в фиктивные переменные (числовые). Для избежания дамми-ловушки будем действовать по формуле k-1"
   ]
  },
  {
   "cell_type": "code",
   "execution_count": 11,
   "metadata": {},
   "outputs": [
    {
     "data": {
      "text/html": [
       "<div>\n",
       "<style scoped>\n",
       "    .dataframe tbody tr th:only-of-type {\n",
       "        vertical-align: middle;\n",
       "    }\n",
       "\n",
       "    .dataframe tbody tr th {\n",
       "        vertical-align: top;\n",
       "    }\n",
       "\n",
       "    .dataframe thead th {\n",
       "        text-align: right;\n",
       "    }\n",
       "</style>\n",
       "<table border=\"1\" class=\"dataframe\">\n",
       "  <thead>\n",
       "    <tr style=\"text-align: right;\">\n",
       "      <th></th>\n",
       "      <th>credit_score</th>\n",
       "      <th>age</th>\n",
       "      <th>tenure</th>\n",
       "      <th>balance</th>\n",
       "      <th>num_of_products</th>\n",
       "      <th>has_cr_card</th>\n",
       "      <th>is_active_member</th>\n",
       "      <th>estimated_salary</th>\n",
       "      <th>exited</th>\n",
       "      <th>geography_germany</th>\n",
       "      <th>geography_spain</th>\n",
       "      <th>gender_male</th>\n",
       "    </tr>\n",
       "  </thead>\n",
       "  <tbody>\n",
       "    <tr>\n",
       "      <th>0</th>\n",
       "      <td>619</td>\n",
       "      <td>42</td>\n",
       "      <td>2</td>\n",
       "      <td>0.00</td>\n",
       "      <td>1</td>\n",
       "      <td>1</td>\n",
       "      <td>1</td>\n",
       "      <td>101348.88</td>\n",
       "      <td>1</td>\n",
       "      <td>0</td>\n",
       "      <td>0</td>\n",
       "      <td>0</td>\n",
       "    </tr>\n",
       "    <tr>\n",
       "      <th>1</th>\n",
       "      <td>608</td>\n",
       "      <td>41</td>\n",
       "      <td>1</td>\n",
       "      <td>83807.86</td>\n",
       "      <td>1</td>\n",
       "      <td>0</td>\n",
       "      <td>1</td>\n",
       "      <td>112542.58</td>\n",
       "      <td>0</td>\n",
       "      <td>0</td>\n",
       "      <td>1</td>\n",
       "      <td>0</td>\n",
       "    </tr>\n",
       "    <tr>\n",
       "      <th>2</th>\n",
       "      <td>502</td>\n",
       "      <td>42</td>\n",
       "      <td>8</td>\n",
       "      <td>159660.80</td>\n",
       "      <td>3</td>\n",
       "      <td>1</td>\n",
       "      <td>0</td>\n",
       "      <td>113931.57</td>\n",
       "      <td>1</td>\n",
       "      <td>0</td>\n",
       "      <td>0</td>\n",
       "      <td>0</td>\n",
       "    </tr>\n",
       "    <tr>\n",
       "      <th>3</th>\n",
       "      <td>699</td>\n",
       "      <td>39</td>\n",
       "      <td>1</td>\n",
       "      <td>0.00</td>\n",
       "      <td>2</td>\n",
       "      <td>0</td>\n",
       "      <td>0</td>\n",
       "      <td>93826.63</td>\n",
       "      <td>0</td>\n",
       "      <td>0</td>\n",
       "      <td>0</td>\n",
       "      <td>0</td>\n",
       "    </tr>\n",
       "    <tr>\n",
       "      <th>4</th>\n",
       "      <td>850</td>\n",
       "      <td>43</td>\n",
       "      <td>2</td>\n",
       "      <td>125510.82</td>\n",
       "      <td>1</td>\n",
       "      <td>1</td>\n",
       "      <td>1</td>\n",
       "      <td>79084.10</td>\n",
       "      <td>0</td>\n",
       "      <td>0</td>\n",
       "      <td>1</td>\n",
       "      <td>0</td>\n",
       "    </tr>\n",
       "    <tr>\n",
       "      <th>5</th>\n",
       "      <td>645</td>\n",
       "      <td>44</td>\n",
       "      <td>8</td>\n",
       "      <td>113755.78</td>\n",
       "      <td>2</td>\n",
       "      <td>1</td>\n",
       "      <td>0</td>\n",
       "      <td>149756.71</td>\n",
       "      <td>1</td>\n",
       "      <td>0</td>\n",
       "      <td>1</td>\n",
       "      <td>1</td>\n",
       "    </tr>\n",
       "  </tbody>\n",
       "</table>\n",
       "</div>"
      ],
      "text/plain": [
       "   credit_score  age  tenure    balance  num_of_products  has_cr_card  \\\n",
       "0           619   42       2       0.00                1            1   \n",
       "1           608   41       1   83807.86                1            0   \n",
       "2           502   42       8  159660.80                3            1   \n",
       "3           699   39       1       0.00                2            0   \n",
       "4           850   43       2  125510.82                1            1   \n",
       "5           645   44       8  113755.78                2            1   \n",
       "\n",
       "   is_active_member  estimated_salary  exited  geography_germany  \\\n",
       "0                 1         101348.88       1                  0   \n",
       "1                 1         112542.58       0                  0   \n",
       "2                 0         113931.57       1                  0   \n",
       "3                 0          93826.63       0                  0   \n",
       "4                 1          79084.10       0                  0   \n",
       "5                 0         149756.71       1                  0   \n",
       "\n",
       "   geography_spain  gender_male  \n",
       "0                0            0  \n",
       "1                1            0  \n",
       "2                0            0  \n",
       "3                0            0  \n",
       "4                1            0  \n",
       "5                1            1  "
      ]
     },
     "execution_count": 11,
     "metadata": {},
     "output_type": "execute_result"
    }
   ],
   "source": [
    "# используем прямое кодирование ко всему датасету с удалением первого столбца\n",
    "# метод сам определит категориальные переменные\n",
    "data_ohe = pd.get_dummies(data, drop_first=True)\n",
    "\n",
    "data_ohe.columns = data_ohe.columns.str.lower()\n",
    "\n",
    "data_ohe.head(6)"
   ]
  },
  {
   "cell_type": "markdown",
   "metadata": {},
   "source": [
    "###  Разделение данных на выборки и масштабирование"
   ]
  },
  {
   "cell_type": "markdown",
   "metadata": {},
   "source": [
    "* Выделим признаки и целевой признак для тренировочной и валидационной выборки"
   ]
  },
  {
   "cell_type": "code",
   "execution_count": 12,
   "metadata": {},
   "outputs": [],
   "source": [
    "# извлекаем признаки\n",
    "features = data_ohe.drop(['exited'], axis=1)\n",
    "\n",
    "# извлекаем целевой признак\n",
    "target = data_ohe['exited'] "
   ]
  },
  {
   "cell_type": "markdown",
   "metadata": {},
   "source": [
    "* Разделим датасет в соотношении 3:1:1"
   ]
  },
  {
   "cell_type": "code",
   "execution_count": 13,
   "metadata": {},
   "outputs": [
    {
     "data": {
      "text/plain": [
       "True"
      ]
     },
     "execution_count": 13,
     "metadata": {},
     "output_type": "execute_result"
    }
   ],
   "source": [
    "# разбиваем датасет на тренировочную и отдельную выборку в соотношении 60% / 40% \n",
    "features_train, features_other, target_train, target_other = train_test_split(features, \n",
    "                                                                            target, \n",
    "                                                                            test_size = 0.4, \n",
    "                                                                            random_state = 12345)\n",
    "\n",
    "# разбиваем отдельную выборку на валидационную и тестовую по 20%\n",
    "features_valid, features_test, target_valid, target_test = train_test_split(features_other, \n",
    "                                                                            target_other, \n",
    "                                                                            test_size = 0.5, \n",
    "                                                                            random_state = 12345)\n",
    "\n",
    "\n",
    "\n",
    "# проверим, что ничего не потеряли\n",
    "data_ohe.shape[0] == features_train.shape[0] + features_valid.shape[0] + features_test.shape[0]"
   ]
  },
  {
   "cell_type": "markdown",
   "metadata": {},
   "source": [
    "Численные признаки измеряются в разных единицах, а значит покрывают разные диапазоны, и чтобы алгоритм не решил, что какой-то признак важнее другого – приведем их к одному масштабу. Масштабирования не требует только случайный лес, но так как мы будем сравнивать несколько алгоритмов, то отсутствие стандартизации данных может исказить результаты их работы."
   ]
  },
  {
   "cell_type": "code",
   "execution_count": 14,
   "metadata": {},
   "outputs": [
    {
     "data": {
      "text/html": [
       "<div>\n",
       "<style scoped>\n",
       "    .dataframe tbody tr th:only-of-type {\n",
       "        vertical-align: middle;\n",
       "    }\n",
       "\n",
       "    .dataframe tbody tr th {\n",
       "        vertical-align: top;\n",
       "    }\n",
       "\n",
       "    .dataframe thead th {\n",
       "        text-align: right;\n",
       "    }\n",
       "</style>\n",
       "<table border=\"1\" class=\"dataframe\">\n",
       "  <thead>\n",
       "    <tr style=\"text-align: right;\">\n",
       "      <th></th>\n",
       "      <th>credit_score</th>\n",
       "      <th>age</th>\n",
       "      <th>tenure</th>\n",
       "      <th>balance</th>\n",
       "      <th>num_of_products</th>\n",
       "      <th>has_cr_card</th>\n",
       "      <th>is_active_member</th>\n",
       "      <th>estimated_salary</th>\n",
       "      <th>exited</th>\n",
       "      <th>geography_germany</th>\n",
       "      <th>geography_spain</th>\n",
       "      <th>gender_male</th>\n",
       "    </tr>\n",
       "  </thead>\n",
       "  <tbody>\n",
       "    <tr>\n",
       "      <th>0</th>\n",
       "      <td>619</td>\n",
       "      <td>42</td>\n",
       "      <td>2</td>\n",
       "      <td>0.00</td>\n",
       "      <td>1</td>\n",
       "      <td>1</td>\n",
       "      <td>1</td>\n",
       "      <td>101348.88</td>\n",
       "      <td>1</td>\n",
       "      <td>0</td>\n",
       "      <td>0</td>\n",
       "      <td>0</td>\n",
       "    </tr>\n",
       "    <tr>\n",
       "      <th>1</th>\n",
       "      <td>608</td>\n",
       "      <td>41</td>\n",
       "      <td>1</td>\n",
       "      <td>83807.86</td>\n",
       "      <td>1</td>\n",
       "      <td>0</td>\n",
       "      <td>1</td>\n",
       "      <td>112542.58</td>\n",
       "      <td>0</td>\n",
       "      <td>0</td>\n",
       "      <td>1</td>\n",
       "      <td>0</td>\n",
       "    </tr>\n",
       "  </tbody>\n",
       "</table>\n",
       "</div>"
      ],
      "text/plain": [
       "   credit_score  age  tenure   balance  num_of_products  has_cr_card  \\\n",
       "0           619   42       2      0.00                1            1   \n",
       "1           608   41       1  83807.86                1            0   \n",
       "\n",
       "   is_active_member  estimated_salary  exited  geography_germany  \\\n",
       "0                 1         101348.88       1                  0   \n",
       "1                 1         112542.58       0                  0   \n",
       "\n",
       "   geography_spain  gender_male  \n",
       "0                0            0  \n",
       "1                1            0  "
      ]
     },
     "execution_count": 14,
     "metadata": {},
     "output_type": "execute_result"
    }
   ],
   "source": [
    "# вспомним, какие столбцы нам нужно масштабировать\n",
    "data_ohe.head(2)"
   ]
  },
  {
   "cell_type": "code",
   "execution_count": 15,
   "metadata": {},
   "outputs": [
    {
     "data": {
      "text/html": [
       "<div>\n",
       "<style scoped>\n",
       "    .dataframe tbody tr th:only-of-type {\n",
       "        vertical-align: middle;\n",
       "    }\n",
       "\n",
       "    .dataframe tbody tr th {\n",
       "        vertical-align: top;\n",
       "    }\n",
       "\n",
       "    .dataframe thead th {\n",
       "        text-align: right;\n",
       "    }\n",
       "</style>\n",
       "<table border=\"1\" class=\"dataframe\">\n",
       "  <thead>\n",
       "    <tr style=\"text-align: right;\">\n",
       "      <th></th>\n",
       "      <th>credit_score</th>\n",
       "      <th>age</th>\n",
       "      <th>tenure</th>\n",
       "      <th>balance</th>\n",
       "      <th>num_of_products</th>\n",
       "      <th>has_cr_card</th>\n",
       "      <th>is_active_member</th>\n",
       "      <th>estimated_salary</th>\n",
       "      <th>geography_germany</th>\n",
       "      <th>geography_spain</th>\n",
       "      <th>gender_male</th>\n",
       "    </tr>\n",
       "  </thead>\n",
       "  <tbody>\n",
       "    <tr>\n",
       "      <th>7479</th>\n",
       "      <td>-0.886751</td>\n",
       "      <td>-0.373192</td>\n",
       "      <td>1.104696</td>\n",
       "      <td>1.232271</td>\n",
       "      <td>-0.89156</td>\n",
       "      <td>1</td>\n",
       "      <td>0</td>\n",
       "      <td>-0.187705</td>\n",
       "      <td>0</td>\n",
       "      <td>1</td>\n",
       "      <td>1</td>\n",
       "    </tr>\n",
       "    <tr>\n",
       "      <th>3411</th>\n",
       "      <td>0.608663</td>\n",
       "      <td>-0.183385</td>\n",
       "      <td>1.104696</td>\n",
       "      <td>0.600563</td>\n",
       "      <td>-0.89156</td>\n",
       "      <td>0</td>\n",
       "      <td>0</td>\n",
       "      <td>-0.333945</td>\n",
       "      <td>0</td>\n",
       "      <td>0</td>\n",
       "      <td>0</td>\n",
       "    </tr>\n",
       "  </tbody>\n",
       "</table>\n",
       "</div>"
      ],
      "text/plain": [
       "      credit_score       age    tenure   balance  num_of_products  \\\n",
       "7479     -0.886751 -0.373192  1.104696  1.232271         -0.89156   \n",
       "3411      0.608663 -0.183385  1.104696  0.600563         -0.89156   \n",
       "\n",
       "      has_cr_card  is_active_member  estimated_salary  geography_germany  \\\n",
       "7479            1                 0         -0.187705                  0   \n",
       "3411            0                 0         -0.333945                  0   \n",
       "\n",
       "      geography_spain  gender_male  \n",
       "7479                1            1  \n",
       "3411                0            0  "
      ]
     },
     "metadata": {},
     "output_type": "display_data"
    },
    {
     "data": {
      "text/html": [
       "<div>\n",
       "<style scoped>\n",
       "    .dataframe tbody tr th:only-of-type {\n",
       "        vertical-align: middle;\n",
       "    }\n",
       "\n",
       "    .dataframe tbody tr th {\n",
       "        vertical-align: top;\n",
       "    }\n",
       "\n",
       "    .dataframe thead th {\n",
       "        text-align: right;\n",
       "    }\n",
       "</style>\n",
       "<table border=\"1\" class=\"dataframe\">\n",
       "  <thead>\n",
       "    <tr style=\"text-align: right;\">\n",
       "      <th></th>\n",
       "      <th>credit_score</th>\n",
       "      <th>age</th>\n",
       "      <th>tenure</th>\n",
       "      <th>balance</th>\n",
       "      <th>num_of_products</th>\n",
       "      <th>has_cr_card</th>\n",
       "      <th>is_active_member</th>\n",
       "      <th>estimated_salary</th>\n",
       "      <th>geography_germany</th>\n",
       "      <th>geography_spain</th>\n",
       "      <th>gender_male</th>\n",
       "    </tr>\n",
       "  </thead>\n",
       "  <tbody>\n",
       "    <tr>\n",
       "      <th>8532</th>\n",
       "      <td>-0.699824</td>\n",
       "      <td>-0.373192</td>\n",
       "      <td>-0.825373</td>\n",
       "      <td>-1.233163</td>\n",
       "      <td>0.830152</td>\n",
       "      <td>1</td>\n",
       "      <td>0</td>\n",
       "      <td>-0.015173</td>\n",
       "      <td>0</td>\n",
       "      <td>0</td>\n",
       "      <td>0</td>\n",
       "    </tr>\n",
       "    <tr>\n",
       "      <th>5799</th>\n",
       "      <td>-0.284431</td>\n",
       "      <td>0.575842</td>\n",
       "      <td>-0.503694</td>\n",
       "      <td>-1.233163</td>\n",
       "      <td>-0.891560</td>\n",
       "      <td>1</td>\n",
       "      <td>1</td>\n",
       "      <td>1.471724</td>\n",
       "      <td>0</td>\n",
       "      <td>0</td>\n",
       "      <td>0</td>\n",
       "    </tr>\n",
       "  </tbody>\n",
       "</table>\n",
       "</div>"
      ],
      "text/plain": [
       "      credit_score       age    tenure   balance  num_of_products  \\\n",
       "8532     -0.699824 -0.373192 -0.825373 -1.233163         0.830152   \n",
       "5799     -0.284431  0.575842 -0.503694 -1.233163        -0.891560   \n",
       "\n",
       "      has_cr_card  is_active_member  estimated_salary  geography_germany  \\\n",
       "8532            1                 0         -0.015173                  0   \n",
       "5799            1                 1          1.471724                  0   \n",
       "\n",
       "      geography_spain  gender_male  \n",
       "8532                0            0  \n",
       "5799                0            0  "
      ]
     },
     "metadata": {},
     "output_type": "display_data"
    },
    {
     "data": {
      "text/html": [
       "<div>\n",
       "<style scoped>\n",
       "    .dataframe tbody tr th:only-of-type {\n",
       "        vertical-align: middle;\n",
       "    }\n",
       "\n",
       "    .dataframe tbody tr th {\n",
       "        vertical-align: top;\n",
       "    }\n",
       "\n",
       "    .dataframe thead th {\n",
       "        text-align: right;\n",
       "    }\n",
       "</style>\n",
       "<table border=\"1\" class=\"dataframe\">\n",
       "  <thead>\n",
       "    <tr style=\"text-align: right;\">\n",
       "      <th></th>\n",
       "      <th>credit_score</th>\n",
       "      <th>age</th>\n",
       "      <th>tenure</th>\n",
       "      <th>balance</th>\n",
       "      <th>num_of_products</th>\n",
       "      <th>has_cr_card</th>\n",
       "      <th>is_active_member</th>\n",
       "      <th>estimated_salary</th>\n",
       "      <th>geography_germany</th>\n",
       "      <th>geography_spain</th>\n",
       "      <th>gender_male</th>\n",
       "    </tr>\n",
       "  </thead>\n",
       "  <tbody>\n",
       "    <tr>\n",
       "      <th>7041</th>\n",
       "      <td>-2.226392</td>\n",
       "      <td>-0.088482</td>\n",
       "      <td>-0.825373</td>\n",
       "      <td>-1.233163</td>\n",
       "      <td>0.830152</td>\n",
       "      <td>1</td>\n",
       "      <td>0</td>\n",
       "      <td>0.647083</td>\n",
       "      <td>0</td>\n",
       "      <td>0</td>\n",
       "      <td>1</td>\n",
       "    </tr>\n",
       "    <tr>\n",
       "      <th>5709</th>\n",
       "      <td>-0.087120</td>\n",
       "      <td>0.006422</td>\n",
       "      <td>1.426375</td>\n",
       "      <td>-1.233163</td>\n",
       "      <td>-0.891560</td>\n",
       "      <td>1</td>\n",
       "      <td>0</td>\n",
       "      <td>-1.658410</td>\n",
       "      <td>0</td>\n",
       "      <td>0</td>\n",
       "      <td>0</td>\n",
       "    </tr>\n",
       "  </tbody>\n",
       "</table>\n",
       "</div>"
      ],
      "text/plain": [
       "      credit_score       age    tenure   balance  num_of_products  \\\n",
       "7041     -2.226392 -0.088482 -0.825373 -1.233163         0.830152   \n",
       "5709     -0.087120  0.006422  1.426375 -1.233163        -0.891560   \n",
       "\n",
       "      has_cr_card  is_active_member  estimated_salary  geography_germany  \\\n",
       "7041            1                 0          0.647083                  0   \n",
       "5709            1                 0         -1.658410                  0   \n",
       "\n",
       "      geography_spain  gender_male  \n",
       "7041                0            1  \n",
       "5709                0            0  "
      ]
     },
     "metadata": {},
     "output_type": "display_data"
    }
   ],
   "source": [
    "# поставим для игнорирования предупреждения SettingWithCopy\n",
    "pd.options.mode.chained_assignment = None\n",
    "\n",
    "# выберем численные признаки, которые нужно привести к единому масштабу\n",
    "# там, где значения 1 и 0 - не трогаем\n",
    "numeric = ['credit_score', 'age', 'tenure', 'balance', 'num_of_products', 'estimated_salary']\n",
    "\n",
    "# создаем объект этой структуры\n",
    "scaler = StandardScaler()\n",
    "\n",
    "# настроим на обучающих данных\n",
    "scaler.fit(features_train[numeric])\n",
    "\n",
    "# преобразуем\n",
    "features_train[numeric] = scaler.transform(features_train[numeric])\n",
    "features_valid[numeric] = scaler.transform(features_valid[numeric])\n",
    "features_test[numeric] = scaler.transform(features_test[numeric])\n",
    "\n",
    "# проверим\n",
    "display(features_train.head(2))\n",
    "display(features_valid.head(2))\n",
    "display(features_test.head(2))"
   ]
  },
  {
   "cell_type": "markdown",
   "metadata": {},
   "source": [
    "### ✅ Вывод:\n",
    "<div>\n",
    "    <br>🔸 Дубликатов и аномалий в данных не найдено\n",
    "    <br>🔸 Названия столбцов приведены к единому стилю\n",
    "    <br>🔸 Удалены не нужные для обучения столбцы, пропуски в столбце <strong>tenure</strong> заполнены средним зачением\n",
    "    <br>🔸 Отсутствует мультиколлинеарность\n",
    "    <br>🔸 Категориальные переменные преобразованы в численные\n",
    "    <br>🔸 Выделены признаки и целевой признак\n",
    "    <br>🔸 Данные приведены к одному масштабу\n",
    "    <br>🔸 Датасет разделен на необходимые выборки в соотношении 60% / 20% / 20%\n",
    "</div>"
   ]
  },
  {
   "cell_type": "markdown",
   "metadata": {},
   "source": [
    "## Исследование задачи"
   ]
  },
  {
   "cell_type": "markdown",
   "metadata": {},
   "source": [
    "* Так как целевой признак является категориальным и бинарным, то будем использовать алгоритмы классификации такие как: решающее дерево, случайный лес и логистическая регрессия\n",
    "* Хоть мы еще в самом начале определили, что у целевого признака есть дисбаланс, всё равно посмотрим еще раз"
   ]
  },
  {
   "cell_type": "code",
   "execution_count": 16,
   "metadata": {},
   "outputs": [
    {
     "data": {
      "text/plain": [
       "3.9091801669121256"
      ]
     },
     "metadata": {},
     "output_type": "display_data"
    },
    {
     "data": {
      "image/png": "[encoded data removed]",
      "text/plain": [
       "<Figure size 720x432 with 1 Axes>"
      ]
     },
     "metadata": {
      "needs_background": "light"
     },
     "output_type": "display_data"
    }
   ],
   "source": [
    "fig, ax = plt.subplots(figsize=(10, 6))\n",
    "plt.title('Соотношение значений целевого признака', size=20)\n",
    "sns.countplot(target, palette='pastel');\n",
    "\n",
    "display(target.value_counts()[0] / target.value_counts()[1])"
   ]
  },
  {
   "cell_type": "markdown",
   "metadata": {},
   "source": [
    "* Сохраняется сильный дисбаланс примерно 4 к 1\n",
    "* Для уравнения классов в четвертом шаге попробуем два способа: увеличение выборки и параметр class_weight='balanced' в логистической регрессии"
   ]
  },
  {
   "cell_type": "markdown",
   "metadata": {},
   "source": [
    "### Решающее дерево без учёта дисбаланса"
   ]
  },
  {
   "cell_type": "markdown",
   "metadata": {},
   "source": [
    "<div><br>📌 В дальнейшем будем обозначать все переменные с меткой _ib, что означает данные с имбалансом\n",
    "    <br>📌 Метка _b означает данные с учётом баланса\n",
    "    <br>📌 Сокращения: rf - случайный лес, lr - логистическая регрессия, tib - tree_imbalanced </div>"
   ]
  },
  {
   "cell_type": "code",
   "execution_count": 17,
   "metadata": {},
   "outputs": [
    {
     "name": "stdout",
     "output_type": "stream",
     "text": [
      "F1-мера лучшей модели: 0.5767045454545454\n",
      "auc_roc лучшей модели: 0.8058579171178146\n",
      "max_depth лучшей модели: 9\n",
      "min_samples_leaf лучшей модели: 2\n",
      "\n",
      "CPU times: user 3.25 s, sys: 14.6 ms, total: 3.27 s\n",
      "Wall time: 3.27 s\n"
     ]
    }
   ],
   "source": [
    "%%time\n",
    "\n",
    "best_model_tree_ib = None\n",
    "best_f1_tree_ib = 0\n",
    "best_depth = 0\n",
    "best_leaf = 0\n",
    "\n",
    "for depth in range(1, 16):\n",
    "    for leaf in range(2, 21, 2):\n",
    "        model_tree_ib = DecisionTreeClassifier(random_state=12345,\n",
    "                                               max_depth=depth,\n",
    "                                               min_samples_leaf=leaf)\n",
    "        # обучение и получение предсказаний модели\n",
    "        model_tree_ib.fit(features_train, target_train)\n",
    "        predicted_valid = model_tree_ib.predict(features_valid)\n",
    "        \n",
    "        # вычисление f1\n",
    "        f1_tree_ib = f1_score(target_valid, predicted_valid)\n",
    "        \n",
    "        # вычисление auc_roc\n",
    "        probabilities_valid = model_tree_ib.predict_proba(features_valid)\n",
    "        probabilities_one_valid_tib = probabilities_valid[:, 1]\n",
    "        \n",
    "        if f1_tree_ib > best_f1_tree_ib:\n",
    "            best_model_tree_ib = model_tree_ib\n",
    "            best_f1_tree_ib = f1_tree_ib\n",
    "            best_auc_roc_tree_ib = roc_auc_score(target_valid, probabilities_one_valid_tib)\n",
    "            best_depth = depth\n",
    "            best_leaf = leaf\n",
    "        \n",
    "print(\"F1-мера лучшей модели:\", best_f1_tree_ib)\n",
    "print(\"auc_roc лучшей модели:\", best_auc_roc_tree_ib)\n",
    "print(\"max_depth лучшей модели:\", best_depth)\n",
    "print(\"min_samples_leaf лучшей модели:\", best_leaf) \n",
    "print()"
   ]
  },
  {
   "cell_type": "markdown",
   "metadata": {},
   "source": [
    "### Случайный лес без учёта дисбаланса"
   ]
  },
  {
   "cell_type": "code",
   "execution_count": 18,
   "metadata": {},
   "outputs": [
    {
     "name": "stdout",
     "output_type": "stream",
     "text": [
      "F1-мера лучшей модели: 0.6182873730043542\n",
      "auc_roc лучшей модели: 0.8317933812810385\n",
      "n_estimators лучшей модели: 11\n",
      "max_depth лучшей модели: 15\n",
      "min_samples_split лучшей модели: 6\n"
     ]
    }
   ],
   "source": [
    "best_model_rf_ib = None\n",
    "best_f1_rf_ib = 0\n",
    "best_est = 0\n",
    "best_depth = 0 \n",
    "best_samples = 0\n",
    "\n",
    "for est in range(1, 21, 2):\n",
    "    for depth in range(1, 16):\n",
    "        for samples in range(2, 11):\n",
    "            model_rf_ib = RandomForestClassifier(random_state=12345,\n",
    "                                                 n_estimators=est,\n",
    "                                                 max_depth=depth,\n",
    "                                                 min_samples_split=samples)\n",
    "            # обучение и получение предсказаний модели\n",
    "            model_rf_ib.fit(features_train, target_train)\n",
    "            predicted_valid = model_rf_ib.predict(features_valid)\n",
    "            \n",
    "            # вычисление f1\n",
    "            f1_rf_ib = f1_score(target_valid, predicted_valid)\n",
    "            \n",
    "            # вычисление auc_roc\n",
    "            probabilities_valid = model_rf_ib.predict_proba(features_valid)\n",
    "            probabilities_one_valid_rf_ib = probabilities_valid[:, 1]\n",
    "            \n",
    "            if f1_rf_ib > best_f1_rf_ib:\n",
    "                best_model_rf_ib = model_rf_ib\n",
    "                best_f1_rf_ib = f1_rf_ib\n",
    "                best_auc_roc_rf_ib = roc_auc_score(target_valid, probabilities_one_valid_rf_ib)\n",
    "                best_est = est\n",
    "                best_depth = depth\n",
    "                best_samples = samples\n",
    "                    \n",
    "print(\"F1-мера лучшей модели:\", best_f1_rf_ib)\n",
    "print(\"auc_roc лучшей модели:\", best_auc_roc_rf_ib)\n",
    "print(\"n_estimators лучшей модели:\", best_est)\n",
    "print(\"max_depth лучшей модели:\", best_depth)\n",
    "print(\"min_samples_split лучшей модели:\", best_samples)"
   ]
  },
  {
   "cell_type": "markdown",
   "metadata": {},
   "source": [
    "### Логистическая регрессия без учёта дисбаланса"
   ]
  },
  {
   "cell_type": "code",
   "execution_count": 19,
   "metadata": {},
   "outputs": [
    {
     "name": "stdout",
     "output_type": "stream",
     "text": [
      "F1-мера равна 0.33389544688026984\n",
      "auc_roc равна 0.7586317967081824\n"
     ]
    }
   ],
   "source": [
    "model_lr_imbalanced = LogisticRegression(random_state=12345, solver='liblinear')\n",
    "\n",
    "# обучение и получение предсказаний модели\n",
    "model_lr_imbalanced.fit(features_train, target_train)\n",
    "predicted_valid = model_lr_imbalanced.predict(features_valid)\n",
    "\n",
    "# вычисление f1\n",
    "f1_lr_ib = f1_score(target_valid, predicted_valid)\n",
    "\n",
    "# вычисление auc_roc\n",
    "probabilities_valid = model_lr_imbalanced.predict_proba(features_valid)\n",
    "probabilities_one_valid_lr_ib = probabilities_valid[:, 1]\n",
    "auc_roc_lr_ib = roc_auc_score(target_valid, probabilities_one_valid_lr_ib)\n",
    "\n",
    "print('F1-мера равна', f1_lr_ib)\n",
    "print('auc_roc равна', auc_roc_lr_ib)"
   ]
  },
  {
   "cell_type": "code",
   "execution_count": 20,
   "metadata": {
    "scrolled": false
   },
   "outputs": [
    {
     "data": {
      "text/html": [
       "<div>\n",
       "<style scoped>\n",
       "    .dataframe tbody tr th:only-of-type {\n",
       "        vertical-align: middle;\n",
       "    }\n",
       "\n",
       "    .dataframe tbody tr th {\n",
       "        vertical-align: top;\n",
       "    }\n",
       "\n",
       "    .dataframe thead th {\n",
       "        text-align: right;\n",
       "    }\n",
       "</style>\n",
       "<table border=\"1\" class=\"dataframe\">\n",
       "  <thead>\n",
       "    <tr style=\"text-align: right;\">\n",
       "      <th></th>\n",
       "      <th>Тип модели</th>\n",
       "      <th>Значение F-1 меры</th>\n",
       "      <th>Значение auc_roc</th>\n",
       "    </tr>\n",
       "  </thead>\n",
       "  <tbody>\n",
       "    <tr>\n",
       "      <th>0</th>\n",
       "      <td>Решающее дерево</td>\n",
       "      <td>0.576705</td>\n",
       "      <td>0.805858</td>\n",
       "    </tr>\n",
       "    <tr>\n",
       "      <th>1</th>\n",
       "      <td>Случайный лес</td>\n",
       "      <td>0.618287</td>\n",
       "      <td>0.831793</td>\n",
       "    </tr>\n",
       "    <tr>\n",
       "      <th>2</th>\n",
       "      <td>Логистическая регрессия</td>\n",
       "      <td>0.333895</td>\n",
       "      <td>0.758632</td>\n",
       "    </tr>\n",
       "  </tbody>\n",
       "</table>\n",
       "</div>"
      ],
      "text/plain": [
       "                Тип модели  Значение F-1 меры  Значение auc_roc\n",
       "0          Решающее дерево           0.576705          0.805858\n",
       "1            Случайный лес           0.618287          0.831793\n",
       "2  Логистическая регрессия           0.333895          0.758632"
      ]
     },
     "metadata": {},
     "output_type": "display_data"
    }
   ],
   "source": [
    "imbalanced_compare = pd.DataFrame({\n",
    "    'Тип модели': ['Решающее дерево', 'Случайный лес', 'Логистическая регрессия'],\n",
    "    'Значение F-1 меры': [best_f1_tree_ib, best_f1_rf_ib, f1_lr_ib],\n",
    "    'Значение auc_roc': [best_auc_roc_tree_ib, best_auc_roc_rf_ib, auc_roc_lr_ib]})\n",
    "\n",
    "display(imbalanced_compare)"
   ]
  },
  {
   "cell_type": "markdown",
   "metadata": {},
   "source": [
    "### ✅ Вывод:\n",
    "<div>\n",
    "<br>🔸 Лучшей моделью на несбалансированных данных является случайный лес, решающее дерево тоже старается не отставать\n",
    "<br>🔸 Хуже всех себя показала логистическая регрессия, что не удивительно, так как она чувствительна к дисбалансу</div>"
   ]
  },
  {
   "cell_type": "markdown",
   "metadata": {},
   "source": [
    "## Борьба с дисбалансом"
   ]
  },
  {
   "cell_type": "markdown",
   "metadata": {},
   "source": [
    "### Логистическая регрессия с параметром class_weight"
   ]
  },
  {
   "cell_type": "markdown",
   "metadata": {},
   "source": [
    "📌 Используем сокращение cw, что означает class_weiht"
   ]
  },
  {
   "cell_type": "code",
   "execution_count": 21,
   "metadata": {},
   "outputs": [
    {
     "name": "stdout",
     "output_type": "stream",
     "text": [
      "F1-мера равна 0.4888888888888888\n",
      "auc_roc равна 0.7635798063138539\n",
      "CPU times: user 47.1 ms, sys: 36 ms, total: 83.1 ms\n",
      "Wall time: 29.9 ms\n"
     ]
    }
   ],
   "source": [
    "%%time\n",
    "\n",
    "model_lr_cw = LogisticRegression(random_state=12345, solver='liblinear', class_weight='balanced')\n",
    "\n",
    "# обучение и получение предсказаний модели\n",
    "model_lr_cw.fit(features_train, target_train)\n",
    "predicted_valid_lr_cw = model_lr_cw.predict(features_valid)\n",
    "\n",
    "# вычисление f1\n",
    "f1_lr_lr_cw = f1_score(target_valid, predicted_valid_lr_cw)\n",
    "\n",
    "# вычисление auc_roc\n",
    "probabilities_valid = model_lr_cw.predict_proba(features_valid)\n",
    "probabilities_one_valid_lr_cw = probabilities_valid[:, 1]\n",
    "auc_roc_lr_cw = roc_auc_score(target_valid, probabilities_one_valid_lr_cw)\n",
    "\n",
    "print('F1-мера равна', f1_lr_lr_cw)\n",
    "print('auc_roc равна', auc_roc_lr_cw)"
   ]
  },
  {
   "cell_type": "markdown",
   "metadata": {},
   "source": [
    "### Уменьшение выборки"
   ]
  },
  {
   "cell_type": "code",
   "execution_count": 22,
   "metadata": {},
   "outputs": [],
   "source": [
    "def downsample(features, target, fraction):\n",
    "    features_zeros = features[target == 0]\n",
    "    features_ones = features[target == 1]\n",
    "    target_zeros = target[target == 0]\n",
    "    target_ones = target[target == 1]\n",
    "    \n",
    "    \n",
    "    features_downsampled = pd.concat(\n",
    "        [features_zeros.sample(\n",
    "                        frac=fraction, random_state=12345)] + [features_ones])\n",
    "    \n",
    "    target_downsampled = pd.concat(\n",
    "        [target_zeros.sample(\n",
    "                      frac=fraction, random_state=12345)] + [target_ones])\n",
    "\n",
    "    features_downsampled, target_downsampled = shuffle(\n",
    "        features_downsampled, target_downsampled, random_state=12345)\n",
    "    \n",
    "    return features_downsampled, target_downsampled\n",
    "\n",
    "features_downsampled, target_downsampled = downsample(features_train, target_train, 0.25)"
   ]
  },
  {
   "cell_type": "markdown",
   "metadata": {},
   "source": [
    "### Логистическая регрессия с учётом дисбаланса Downsampling"
   ]
  },
  {
   "cell_type": "code",
   "execution_count": 23,
   "metadata": {},
   "outputs": [
    {
     "name": "stdout",
     "output_type": "stream",
     "text": [
      "F1-мера равна 0.4892703862660944\n",
      "auc_roc равна 0.762673981816972\n",
      "CPU times: user 44.9 ms, sys: 36.1 ms, total: 81 ms\n",
      "Wall time: 17.1 ms\n"
     ]
    }
   ],
   "source": [
    "%%time\n",
    "\n",
    "model_lr_d = LogisticRegression(random_state=12345, solver='liblinear')\n",
    "\n",
    "# обучение и получение предсказаний модели\n",
    "model_lr_d.fit(features_downsampled, target_downsampled)\n",
    "predicted_valid_lr_d = model_lr_d.predict(features_valid)\n",
    "\n",
    "# вычисление f1\n",
    "f1_lr_d = f1_score(target_valid, predicted_valid_lr_d)\n",
    "\n",
    "# вычисление auc_roc\n",
    "probabilities_valid = model_lr_d.predict_proba(features_valid)\n",
    "probabilities_one_valid_lr_d = probabilities_valid[:, 1]\n",
    "auc_roc_lr_d = roc_auc_score(target_valid, probabilities_one_valid_lr_d)\n",
    "\n",
    "print('F1-мера равна', f1_lr_d)\n",
    "print('auc_roc равна', auc_roc_lr_d)"
   ]
  },
  {
   "cell_type": "markdown",
   "metadata": {},
   "source": [
    "### Решающее дерево с учётом дисбаланса Downsampling"
   ]
  },
  {
   "cell_type": "code",
   "execution_count": 24,
   "metadata": {},
   "outputs": [
    {
     "name": "stdout",
     "output_type": "stream",
     "text": [
      "F1-мера лучшей модели: 0.5995934959349594\n",
      "auc_roc лучшей модели: 0.8350484517811021\n",
      "max_depth лучшей модели: 5\n",
      "min_samples_leaf лучшей модели: 10\n",
      "\n",
      "CPU times: user 1.78 s, sys: 16 ms, total: 1.8 s\n",
      "Wall time: 1.8 s\n"
     ]
    }
   ],
   "source": [
    "%%time\n",
    "\n",
    "best_model_tree_d = None\n",
    "best_f1_tree_d = 0\n",
    "best_auc_roc_tree_d = 0\n",
    "best_depth = 0\n",
    "best_leaf = 0\n",
    "\n",
    "for depth in range(1, 16):\n",
    "    for leaf in range(2, 21, 2):\n",
    "        model_tree_d = DecisionTreeClassifier(random_state=12345,\n",
    "                                              max_depth=depth,\n",
    "                                              min_samples_leaf=leaf)\n",
    "        # обучение и получение предсказаний модели\n",
    "        model_tree_d.fit(features_downsampled, target_downsampled)\n",
    "        predicted_valid = model_tree_d.predict(features_valid)\n",
    "        \n",
    "        # вычисление f1\n",
    "        f1_tree_d = f1_score(target_valid, predicted_valid)\n",
    "        \n",
    "        # вычисление auc_roc\n",
    "        probabilities_valid = model_tree_d.predict_proba(features_valid)\n",
    "        probabilities_one_valid_t_d = probabilities_valid[:, 1]\n",
    "        \n",
    "        if f1_tree_d > best_f1_tree_d:\n",
    "            best_model_tree_d = model_tree_d\n",
    "            best_f1_tree_d = f1_tree_d\n",
    "            best_auc_roc_tree_d = roc_auc_score(target_valid, probabilities_one_valid_t_d)\n",
    "            best_depth = depth\n",
    "            best_leaf = leaf\n",
    "        \n",
    "print(\"F1-мера лучшей модели:\", best_f1_tree_d)\n",
    "print(\"auc_roc лучшей модели:\", best_auc_roc_tree_d)\n",
    "print(\"max_depth лучшей модели:\", best_depth)\n",
    "print(\"min_samples_leaf лучшей модели:\", best_leaf) \n",
    "print()"
   ]
  },
  {
   "cell_type": "markdown",
   "metadata": {},
   "source": [
    "### Случайный лес с учётом дисбаланса Downsampling"
   ]
  },
  {
   "cell_type": "code",
   "execution_count": 25,
   "metadata": {},
   "outputs": [
    {
     "name": "stdout",
     "output_type": "stream",
     "text": [
      "F1-мера лучшей модели: 0.6097318768619662\n",
      "auc_roc лучшей модели: 0.8360835717612616\n",
      "n_estimators лучшей модели: 9\n",
      "max_depth лучшей модели: 4\n",
      "min_samples_split лучшей модели: 6\n",
      "CPU times: user 55.5 s, sys: 292 ms, total: 55.8 s\n",
      "Wall time: 55.8 s\n"
     ]
    }
   ],
   "source": [
    "%%time\n",
    "\n",
    "best_model_rf_d = None\n",
    "best_f1_rf_d = 0\n",
    "best_est = 0\n",
    "best_depth = 0 \n",
    "best_samples = 0\n",
    "\n",
    "for est in range(1, 21, 2):\n",
    "    for depth in range(1, 16):\n",
    "        for samples in range(2, 11):\n",
    "            model_rf_d = RandomForestClassifier(random_state=12345,\n",
    "                                                         n_estimators=est,\n",
    "                                                         max_depth=depth,\n",
    "                                                         min_samples_split=samples)\n",
    "            # обучение и получение предсказаний модели\n",
    "            model_rf_d.fit(features_downsampled, target_downsampled)\n",
    "            predicted_valid = model_rf_d.predict(features_valid)\n",
    "            \n",
    "            # вычисление f1\n",
    "            f1_rf_d = f1_score(target_valid, predicted_valid)\n",
    "            \n",
    "            # вычисление auc_roc\n",
    "            probabilities_valid = model_rf_d.predict_proba(features_valid)\n",
    "            probabilities_one_valid_rf_d = probabilities_valid[:, 1]\n",
    "            \n",
    "            if f1_rf_d > best_f1_rf_d:\n",
    "                best_model_rf_d = model_rf_d\n",
    "                best_f1_rf_d = f1_rf_d\n",
    "                best_auc_roc_rf_d = roc_auc_score(target_valid, probabilities_one_valid_rf_d)\n",
    "                best_est = est\n",
    "                best_depth = depth\n",
    "                best_samples = samples\n",
    "                    \n",
    "print(\"F1-мера лучшей модели:\", best_f1_rf_d)\n",
    "print(\"auc_roc лучшей модели:\", best_auc_roc_rf_d)\n",
    "print(\"n_estimators лучшей модели:\", best_est)\n",
    "print(\"max_depth лучшей модели:\", best_depth)\n",
    "print(\"min_samples_split лучшей модели:\", best_samples)"
   ]
  },
  {
   "cell_type": "code",
   "execution_count": 34,
   "metadata": {},
   "outputs": [
    {
     "data": {
      "text/html": [
       "<div>\n",
       "<style scoped>\n",
       "    .dataframe tbody tr th:only-of-type {\n",
       "        vertical-align: middle;\n",
       "    }\n",
       "\n",
       "    .dataframe tbody tr th {\n",
       "        vertical-align: top;\n",
       "    }\n",
       "\n",
       "    .dataframe thead th {\n",
       "        text-align: right;\n",
       "    }\n",
       "</style>\n",
       "<table border=\"1\" class=\"dataframe\">\n",
       "  <thead>\n",
       "    <tr style=\"text-align: right;\">\n",
       "      <th></th>\n",
       "      <th>Тип модели</th>\n",
       "      <th>Значение F-1 меры</th>\n",
       "      <th>Значение auc_roc</th>\n",
       "    </tr>\n",
       "  </thead>\n",
       "  <tbody>\n",
       "    <tr>\n",
       "      <th>0</th>\n",
       "      <td>Логистическая регрессия с учётом дисбаланса</td>\n",
       "      <td>0.489270</td>\n",
       "      <td>0.762674</td>\n",
       "    </tr>\n",
       "    <tr>\n",
       "      <th>1</th>\n",
       "      <td>Решающее дерево</td>\n",
       "      <td>0.599593</td>\n",
       "      <td>0.835048</td>\n",
       "    </tr>\n",
       "    <tr>\n",
       "      <th>2</th>\n",
       "      <td>Случайный лес</td>\n",
       "      <td>0.609732</td>\n",
       "      <td>0.836084</td>\n",
       "    </tr>\n",
       "  </tbody>\n",
       "</table>\n",
       "</div>"
      ],
      "text/plain": [
       "                                    Тип модели  Значение F-1 меры  \\\n",
       "0  Логистическая регрессия с учётом дисбаланса           0.489270   \n",
       "1                              Решающее дерево           0.599593   \n",
       "2                                Случайный лес           0.609732   \n",
       "\n",
       "   Значение auc_roc  \n",
       "0          0.762674  \n",
       "1          0.835048  \n",
       "2          0.836084  "
      ]
     },
     "metadata": {},
     "output_type": "display_data"
    }
   ],
   "source": [
    "downsampling_compare = pd.DataFrame({\n",
    "    'Тип модели': ['Логистическая регрессия с учётом дисбаланса', \n",
    "                   'Решающее дерево', \n",
    "                   'Случайный лес'],\n",
    "    'Значение F-1 меры': [f1_lr_d, best_f1_tree_d, best_f1_rf_d],\n",
    "    'Значение auc_roc': [auc_roc_lr_d, best_auc_roc_tree_d, best_auc_roc_rf_d]})\n",
    "\n",
    "display(downsampling_compare)"
   ]
  },
  {
   "cell_type": "markdown",
   "metadata": {},
   "source": [
    "Видим, что по сравнению с показателями до использования этого параметра метрики улучшились, но до нужного нам значения 0.59 всё равно не дотягивают"
   ]
  },
  {
   "cell_type": "markdown",
   "metadata": {},
   "source": [
    "### Увеличение выборки"
   ]
  },
  {
   "cell_type": "markdown",
   "metadata": {},
   "source": [
    "Используем только увеличение, так как для уменьшения выборки у нас мало данных и оно сработает не в лучшую сторону"
   ]
  },
  {
   "cell_type": "code",
   "execution_count": 27,
   "metadata": {},
   "outputs": [],
   "source": [
    "def upsample(features, target, repeat):\n",
    "    features_zeros = features[target == 0]\n",
    "    features_ones = features[target == 1]\n",
    "    target_zeros = target[target == 0]\n",
    "    target_ones = target[target == 1]\n",
    "    \n",
    "    features_upsampled = pd.concat([features_zeros] + [features_ones] * repeat)\n",
    "    target_upsampled = pd.concat([target_zeros] + [target_ones] * repeat)\n",
    "\n",
    "    features_upsampled, target_upsampled = shuffle(\n",
    "        features_upsampled, target_upsampled, random_state=12345)\n",
    "\n",
    "    return features_upsampled, target_upsampled\n",
    "\n",
    "features_upsampled, target_upsampled = upsample(features_train, target_train, 4)"
   ]
  },
  {
   "cell_type": "markdown",
   "metadata": {},
   "source": [
    "### Логистическая регрессия с учётом дисбаланса Upsampling"
   ]
  },
  {
   "cell_type": "code",
   "execution_count": 28,
   "metadata": {},
   "outputs": [
    {
     "name": "stdout",
     "output_type": "stream",
     "text": [
      "F1-мера равна 0.4888888888888888\n",
      "auc_roc равна 0.7634769748183815\n",
      "CPU times: user 44.8 ms, sys: 24.1 ms, total: 68.8 ms\n",
      "Wall time: 52.3 ms\n"
     ]
    }
   ],
   "source": [
    "%%time\n",
    "\n",
    "model_lr_b = LogisticRegression(random_state=12345, solver='liblinear')\n",
    "\n",
    "# обучение и получение предсказаний модели\n",
    "model_lr_b.fit(features_upsampled, target_upsampled)\n",
    "predicted_valid_lr_b = model_lr_b.predict(features_valid)\n",
    "\n",
    "# вычисление f1\n",
    "f1_lr_b = f1_score(target_valid, predicted_valid_lr_b)\n",
    "\n",
    "# вычисление auc_roc\n",
    "probabilities_valid = model_lr_b.predict_proba(features_valid)\n",
    "probabilities_one_valid_lr_b = probabilities_valid[:, 1]\n",
    "auc_roc_lr_b = roc_auc_score(target_valid, probabilities_one_valid_lr_b)\n",
    "\n",
    "print('F1-мера равна', f1_lr_b)\n",
    "print('auc_roc равна', auc_roc_lr_b)"
   ]
  },
  {
   "cell_type": "markdown",
   "metadata": {},
   "source": [
    "### Решающее дерево с учётом дисбаланса Upsampling"
   ]
  },
  {
   "cell_type": "markdown",
   "metadata": {},
   "source": [
    "Снова переберем и определим лучшие параметры решающего дерева и случайного леса перед тестом"
   ]
  },
  {
   "cell_type": "code",
   "execution_count": 29,
   "metadata": {
    "scrolled": true
   },
   "outputs": [
    {
     "name": "stdout",
     "output_type": "stream",
     "text": [
      "F1-мера лучшей модели: 0.6010471204188481\n",
      "auc_roc лучшей модели: 0.836795074976258\n",
      "max_depth лучшей модели: 5\n",
      "min_samples_leaf лучшей модели: 20\n",
      "\n",
      "CPU times: user 4.27 s, sys: 83.9 ms, total: 4.36 s\n",
      "Wall time: 4.42 s\n"
     ]
    }
   ],
   "source": [
    "%%time\n",
    "\n",
    "best_model_tree_b = None\n",
    "best_f1_tree_b = 0\n",
    "best_auc_roc_tree_b = 0\n",
    "best_depth = 0\n",
    "best_leaf = 0\n",
    "\n",
    "for depth in range(1, 16):\n",
    "    for leaf in range(2, 21, 2):\n",
    "        model_tree_b = DecisionTreeClassifier(random_state=12345,\n",
    "                                              max_depth=depth,\n",
    "                                              min_samples_leaf=leaf)\n",
    "        # обучение и получение предсказаний модели\n",
    "        model_tree_b.fit(features_upsampled, target_upsampled)\n",
    "        predicted_valid = model_tree_b.predict(features_valid)\n",
    "        \n",
    "        # вычисление f1\n",
    "        f1_tree_b = f1_score(target_valid, predicted_valid)\n",
    "        \n",
    "        # вычисление auc_roc\n",
    "        probabilities_valid = model_tree_b.predict_proba(features_valid)\n",
    "        probabilities_one_valid_t_b = probabilities_valid[:, 1]\n",
    "        \n",
    "        if f1_tree_b > best_f1_tree_b:\n",
    "            best_model_tree_b = model_tree_b\n",
    "            best_f1_tree_b = f1_tree_b\n",
    "            best_auc_roc_tree_b = roc_auc_score(target_valid, probabilities_one_valid_t_b)\n",
    "            best_depth = depth\n",
    "            best_leaf = leaf\n",
    "        \n",
    "print(\"F1-мера лучшей модели:\", best_f1_tree_b)\n",
    "print(\"auc_roc лучшей модели:\", best_auc_roc_tree_b)\n",
    "print(\"max_depth лучшей модели:\", best_depth)\n",
    "print(\"min_samples_leaf лучшей модели:\", best_leaf) \n",
    "print()"
   ]
  },
  {
   "cell_type": "markdown",
   "metadata": {},
   "source": [
    "### Случайный лес с учётом дисбаланса Upsampling"
   ]
  },
  {
   "cell_type": "code",
   "execution_count": 30,
   "metadata": {},
   "outputs": [
    {
     "name": "stdout",
     "output_type": "stream",
     "text": [
      "F1-мера лучшей модели: 0.631452581032413\n",
      "auc_roc лучшей модели: 0.839824823523007\n",
      "n_estimators лучшей модели: 17\n",
      "max_depth лучшей модели: 14\n",
      "min_samples_split лучшей модели: 6\n",
      "CPU times: user 1min 55s, sys: 475 ms, total: 1min 55s\n",
      "Wall time: 1min 58s\n"
     ]
    }
   ],
   "source": [
    "%%time\n",
    "\n",
    "best_model_rf_b = None\n",
    "best_f1_rf_b = 0\n",
    "best_est = 0\n",
    "best_depth = 0 \n",
    "best_samples = 0\n",
    "\n",
    "for est in range(1, 21, 2):\n",
    "    for depth in range(1, 16):\n",
    "        for samples in range(2, 11):\n",
    "            model_rf_b = RandomForestClassifier(random_state=12345,\n",
    "                                                         n_estimators=est,\n",
    "                                                         max_depth=depth,\n",
    "                                                         min_samples_split=samples)\n",
    "            # обучение и получение предсказаний модели\n",
    "            model_rf_b.fit(features_upsampled, target_upsampled)\n",
    "            predicted_valid = model_rf_b.predict(features_valid)\n",
    "            \n",
    "            # вычисление f1\n",
    "            f1_rf_b = f1_score(target_valid, predicted_valid)\n",
    "            \n",
    "            # вычисление auc_roc\n",
    "            probabilities_valid = model_rf_b.predict_proba(features_valid)\n",
    "            probabilities_one_valid_rf_b = probabilities_valid[:, 1]\n",
    "            \n",
    "            if f1_rf_b > best_f1_rf_b:\n",
    "                best_model_rf_b = model_rf_b\n",
    "                best_f1_rf_b = f1_rf_b\n",
    "                best_auc_roc_rf_b = roc_auc_score(target_valid, probabilities_one_valid_rf_b)\n",
    "                best_est = est\n",
    "                best_depth = depth\n",
    "                best_samples = samples\n",
    "                    \n",
    "print(\"F1-мера лучшей модели:\", best_f1_rf_b)\n",
    "print(\"auc_roc лучшей модели:\", best_auc_roc_rf_b)\n",
    "print(\"n_estimators лучшей модели:\", best_est)\n",
    "print(\"max_depth лучшей модели:\", best_depth)\n",
    "print(\"min_samples_split лучшей модели:\", best_samples)"
   ]
  },
  {
   "cell_type": "code",
   "execution_count": 35,
   "metadata": {},
   "outputs": [
    {
     "data": {
      "text/html": [
       "<div>\n",
       "<style scoped>\n",
       "    .dataframe tbody tr th:only-of-type {\n",
       "        vertical-align: middle;\n",
       "    }\n",
       "\n",
       "    .dataframe tbody tr th {\n",
       "        vertical-align: top;\n",
       "    }\n",
       "\n",
       "    .dataframe thead th {\n",
       "        text-align: right;\n",
       "    }\n",
       "</style>\n",
       "<table border=\"1\" class=\"dataframe\">\n",
       "  <thead>\n",
       "    <tr style=\"text-align: right;\">\n",
       "      <th></th>\n",
       "      <th>Тип модели</th>\n",
       "      <th>Значение F-1 меры</th>\n",
       "      <th>Значение auc_roc</th>\n",
       "    </tr>\n",
       "  </thead>\n",
       "  <tbody>\n",
       "    <tr>\n",
       "      <th>0</th>\n",
       "      <td>Логистическая регрессия c class_weight</td>\n",
       "      <td>0.488889</td>\n",
       "      <td>0.488889</td>\n",
       "    </tr>\n",
       "    <tr>\n",
       "      <th>1</th>\n",
       "      <td>Логистическая регрессия с учётом дисбаланса</td>\n",
       "      <td>0.488889</td>\n",
       "      <td>0.763477</td>\n",
       "    </tr>\n",
       "    <tr>\n",
       "      <th>2</th>\n",
       "      <td>Решающее дерево</td>\n",
       "      <td>0.601047</td>\n",
       "      <td>0.836795</td>\n",
       "    </tr>\n",
       "    <tr>\n",
       "      <th>3</th>\n",
       "      <td>Случайный лес</td>\n",
       "      <td>0.631453</td>\n",
       "      <td>0.839825</td>\n",
       "    </tr>\n",
       "  </tbody>\n",
       "</table>\n",
       "</div>"
      ],
      "text/plain": [
       "                                    Тип модели  Значение F-1 меры  \\\n",
       "0       Логистическая регрессия c class_weight           0.488889   \n",
       "1  Логистическая регрессия с учётом дисбаланса           0.488889   \n",
       "2                              Решающее дерево           0.601047   \n",
       "3                                Случайный лес           0.631453   \n",
       "\n",
       "   Значение auc_roc  \n",
       "0          0.488889  \n",
       "1          0.763477  \n",
       "2          0.836795  \n",
       "3          0.839825  "
      ]
     },
     "metadata": {},
     "output_type": "display_data"
    }
   ],
   "source": [
    "balanced_compare = pd.DataFrame({\n",
    "    'Тип модели': ['Логистическая регрессия c class_weight', \n",
    "                   'Логистическая регрессия с учётом дисбаланса', \n",
    "                   'Решающее дерево', \n",
    "                   'Случайный лес'],\n",
    "    'Значение F-1 меры': [f1_lr_lr_cw, f1_lr_b, best_f1_tree_b, best_f1_rf_b],\n",
    "    'Значение auc_roc': [f1_lr_lr_cw, auc_roc_lr_b, best_auc_roc_tree_b, best_auc_roc_rf_b]})\n",
    "\n",
    "display(balanced_compare)"
   ]
  },
  {
   "cell_type": "markdown",
   "metadata": {},
   "source": [
    "### ✅ Вывод:\n",
    "<div><br>🔸 Видим, что снова случайный лес показывает лучшие результаты\n",
    "    <br>🔸 Дерево же тоже превысило F1-меру, но на тестовой выборке значение немного просядет, поэтому в приоритете у нас остаётся лес\n",
    "    <br>🔸 Логистическая регрессия же одинаково повела себя в разных способах балансировки данных, до 0.59 ей еще далеко </div>"
   ]
  },
  {
   "cell_type": "markdown",
   "metadata": {},
   "source": [
    "## Тестирование модели"
   ]
  },
  {
   "cell_type": "code",
   "execution_count": 32,
   "metadata": {},
   "outputs": [
    {
     "name": "stdout",
     "output_type": "stream",
     "text": [
      "f1 = 0.5907990314769976\n",
      "auc_roc = 0.834132348730495\n"
     ]
    }
   ],
   "source": [
    "test_predictions = best_model_rf_b.predict(features_test)\n",
    "test_prob = best_model_rf_b.predict_proba(features_test)\n",
    "test_prob_one = test_prob[:, 1]\n",
    "\n",
    "print('f1 =', f1_score(target_test, test_predictions))\n",
    "print('auc_roc =', roc_auc_score(target_test, test_prob_one))"
   ]
  },
  {
   "cell_type": "markdown",
   "metadata": {},
   "source": [
    "### ✅ Вывод:\n",
    "* С помощью лучших параметров случайного леса, отобранных нами в предыдущих этапах, мы смогли добиться F1-меры 0.59"
   ]
  },
  {
   "cell_type": "markdown",
   "metadata": {},
   "source": [
    "## Общий вывод"
   ]
  },
  {
   "cell_type": "markdown",
   "metadata": {},
   "source": [
    "<div>\n",
    "    <br>🔸 Мы получили датасет, состоящий из 10 000 строк и 14 колонок\n",
    "    <br>🔸 Пропуски составляли примерно 10% от всех данных, мы заполнили их нулевыми значениями для нормального распределения, дубликатов и аномалий в данных не было\n",
    "    <br>🔸 Избавились от трех неинформативных столбцов\n",
    "    <br>🔸 Определили, что в целевом признаке имеется дисбаланс 4 к 1\n",
    "    <br>🔸 Выяснили, что мультиколлинеарность между признаками отсутствует\n",
    "    <br>🔸 Провели кодирование, масштабирование и разбитие данных на выборки в соотношении 60% / 20% / 20%\n",
    "    <br>🔸 Путем исследования моделей без учёта баланса выявили, что лучшая модель - случайный лес, худшая - логистическая регрессия\n",
    "    <br>🔸 После сбалансирования данных методом увеличения выборки убедились, что лучшей моделью всё еще остается модель случайного леса, которую мы отправили на тестовые данные\n",
    "    <br>🔸 На тестировании лучшей модели мы успешно получили показатель F1-меры 0.59 и auc_roc 0.83"
   ]
  },
  {
   "cell_type": "markdown",
   "metadata": {},
   "source": [
    "## Чек-лист готовности проекта"
   ]
  },
  {
   "cell_type": "markdown",
   "metadata": {},
   "source": [
    "Поставьте 'x' в выполненных пунктах. Далее нажмите Shift+Enter."
   ]
  },
  {
   "cell_type": "markdown",
   "metadata": {},
   "source": [
    "- [x]  Jupyter Notebook открыт\n",
    "- [x]  Весь код выполняется без ошибок\n",
    "- [x]  Ячейки с кодом расположены в порядке исполнения\n",
    "- [x]  Выполнен шаг 1: данные подготовлены\n",
    "- [x]  Выполнен шаг 2: задача исследована\n",
    "    - [x]  Исследован баланс классов\n",
    "    - [x]  Изучены модели без учёта дисбаланса\n",
    "    - [x]  Написаны выводы по результатам исследования\n",
    "- [x]  Выполнен шаг 3: учтён дисбаланс\n",
    "    - [x]  Применено несколько способов борьбы с дисбалансом\n",
    "    - [x]  Написаны выводы по результатам исследования\n",
    "- [x]  Выполнен шаг 4: проведено тестирование\n",
    "- [x]  Удалось достичь *F1*-меры не менее 0.59\n",
    "- [x]  Исследована метрика *AUC-ROC*"
   ]
  }
 ],
 "metadata": {
  "ExecuteTimeLog": [
   {
    "duration": 436,
    "start_time": "2022-12-04T09:41:17.000Z"
   },
   {
    "duration": 3,
    "start_time": "2022-12-04T09:46:44.908Z"
   },
   {
    "duration": 161,
    "start_time": "2022-12-04T09:46:45.936Z"
   },
   {
    "duration": 38,
    "start_time": "2022-12-04T09:46:51.152Z"
   },
   {
    "duration": 48,
    "start_time": "2022-12-04T15:21:40.040Z"
   },
   {
    "duration": 1138,
    "start_time": "2022-12-04T15:21:42.209Z"
   },
   {
    "duration": 121,
    "start_time": "2022-12-04T15:21:43.349Z"
   },
   {
    "duration": 13,
    "start_time": "2022-12-04T15:21:43.472Z"
   },
   {
    "duration": 25,
    "start_time": "2022-12-04T15:21:43.600Z"
   },
   {
    "duration": 68,
    "start_time": "2022-12-04T15:28:08.113Z"
   },
   {
    "duration": 6,
    "start_time": "2022-12-04T15:28:13.168Z"
   },
   {
    "duration": 17,
    "start_time": "2022-12-04T15:28:18.688Z"
   },
   {
    "duration": 9,
    "start_time": "2022-12-04T15:28:27.831Z"
   },
   {
    "duration": 22,
    "start_time": "2022-12-04T15:28:28.600Z"
   },
   {
    "duration": 4,
    "start_time": "2022-12-04T15:32:19.701Z"
   },
   {
    "duration": 18,
    "start_time": "2022-12-04T15:32:20.206Z"
   },
   {
    "duration": 44,
    "start_time": "2022-12-04T15:32:23.581Z"
   },
   {
    "duration": 13,
    "start_time": "2022-12-04T15:32:24.163Z"
   },
   {
    "duration": 11,
    "start_time": "2022-12-04T15:32:34.076Z"
   },
   {
    "duration": 14,
    "start_time": "2022-12-04T15:32:35.460Z"
   },
   {
    "duration": 11,
    "start_time": "2022-12-04T15:33:11.959Z"
   },
   {
    "duration": 21,
    "start_time": "2022-12-04T15:33:12.262Z"
   },
   {
    "duration": 34,
    "start_time": "2022-12-04T15:33:16.931Z"
   },
   {
    "duration": 13,
    "start_time": "2022-12-04T15:33:17.149Z"
   },
   {
    "duration": 23,
    "start_time": "2022-12-04T15:33:25.339Z"
   },
   {
    "duration": 13,
    "start_time": "2022-12-04T15:33:26.399Z"
   },
   {
    "duration": 1057,
    "start_time": "2022-12-04T15:33:32.917Z"
   },
   {
    "duration": 40,
    "start_time": "2022-12-04T15:33:33.976Z"
   },
   {
    "duration": 14,
    "start_time": "2022-12-04T15:33:34.018Z"
   },
   {
    "duration": 19,
    "start_time": "2022-12-04T15:33:34.034Z"
   },
   {
    "duration": 104,
    "start_time": "2022-12-04T15:33:34.056Z"
   },
   {
    "duration": 0,
    "start_time": "2022-12-04T15:33:34.161Z"
   },
   {
    "duration": 12,
    "start_time": "2022-12-04T15:33:47.593Z"
   },
   {
    "duration": 13,
    "start_time": "2022-12-04T15:34:13.106Z"
   },
   {
    "duration": 15,
    "start_time": "2022-12-04T15:34:15.800Z"
   },
   {
    "duration": 16,
    "start_time": "2022-12-04T15:34:16.284Z"
   },
   {
    "duration": 1080,
    "start_time": "2022-12-04T15:34:24.323Z"
   },
   {
    "duration": 41,
    "start_time": "2022-12-04T15:34:25.405Z"
   },
   {
    "duration": 14,
    "start_time": "2022-12-04T15:34:25.448Z"
   },
   {
    "duration": 22,
    "start_time": "2022-12-04T15:34:25.464Z"
   },
   {
    "duration": 11,
    "start_time": "2022-12-04T15:34:25.488Z"
   },
   {
    "duration": 19,
    "start_time": "2022-12-04T15:34:25.501Z"
   },
   {
    "duration": 4,
    "start_time": "2022-12-04T15:34:39.329Z"
   },
   {
    "duration": 13,
    "start_time": "2022-12-04T15:34:39.929Z"
   },
   {
    "duration": 44,
    "start_time": "2022-12-04T15:34:43.083Z"
   },
   {
    "duration": 13,
    "start_time": "2022-12-04T15:34:45.472Z"
   },
   {
    "duration": 60,
    "start_time": "2022-12-04T15:35:33.139Z"
   },
   {
    "duration": 13,
    "start_time": "2022-12-04T15:35:33.480Z"
   },
   {
    "duration": 1065,
    "start_time": "2022-12-04T15:35:56.995Z"
   },
   {
    "duration": 40,
    "start_time": "2022-12-04T15:35:58.062Z"
   },
   {
    "duration": 14,
    "start_time": "2022-12-04T15:35:58.104Z"
   },
   {
    "duration": 26,
    "start_time": "2022-12-04T15:35:58.119Z"
   },
   {
    "duration": 67,
    "start_time": "2022-12-04T15:35:58.147Z"
   },
   {
    "duration": 13,
    "start_time": "2022-12-04T15:35:58.216Z"
   },
   {
    "duration": 68,
    "start_time": "2022-12-04T15:36:16.177Z"
   },
   {
    "duration": 17,
    "start_time": "2022-12-04T15:36:16.910Z"
   },
   {
    "duration": 1096,
    "start_time": "2022-12-04T15:36:23.209Z"
   },
   {
    "duration": 46,
    "start_time": "2022-12-04T15:36:24.307Z"
   },
   {
    "duration": 17,
    "start_time": "2022-12-04T15:36:24.355Z"
   },
   {
    "duration": 25,
    "start_time": "2022-12-04T15:36:24.373Z"
   },
   {
    "duration": 57,
    "start_time": "2022-12-04T15:36:24.401Z"
   },
   {
    "duration": 13,
    "start_time": "2022-12-04T15:36:24.460Z"
   },
   {
    "duration": 3,
    "start_time": "2022-12-04T15:37:32.725Z"
   },
   {
    "duration": 13,
    "start_time": "2022-12-04T15:37:33.086Z"
   },
   {
    "duration": 17,
    "start_time": "2022-12-04T15:40:31.272Z"
   },
   {
    "duration": 18,
    "start_time": "2022-12-04T15:40:44.295Z"
   },
   {
    "duration": 13,
    "start_time": "2022-12-04T15:40:55.883Z"
   },
   {
    "duration": 62,
    "start_time": "2022-12-05T17:50:56.611Z"
   },
   {
    "duration": 1370,
    "start_time": "2022-12-05T17:51:07.932Z"
   },
   {
    "duration": 354,
    "start_time": "2022-12-05T17:51:09.305Z"
   },
   {
    "duration": 22,
    "start_time": "2022-12-05T17:51:09.662Z"
   },
   {
    "duration": 4,
    "start_time": "2022-12-05T17:51:09.686Z"
   },
   {
    "duration": 16,
    "start_time": "2022-12-05T17:51:09.692Z"
   },
   {
    "duration": 105,
    "start_time": "2022-12-05T17:55:41.966Z"
   },
   {
    "duration": 10,
    "start_time": "2022-12-05T17:55:44.039Z"
   },
   {
    "duration": 39,
    "start_time": "2022-12-05T17:55:44.251Z"
   },
   {
    "duration": 10,
    "start_time": "2022-12-05T17:55:44.523Z"
   },
   {
    "duration": 3,
    "start_time": "2022-12-05T17:56:05.451Z"
   },
   {
    "duration": 40,
    "start_time": "2022-12-05T17:56:05.653Z"
   },
   {
    "duration": 2543,
    "start_time": "2022-12-05T17:56:05.838Z"
   },
   {
    "duration": 5,
    "start_time": "2022-12-05T17:56:08.385Z"
   },
   {
    "duration": 28,
    "start_time": "2022-12-05T17:56:08.393Z"
   },
   {
    "duration": 5,
    "start_time": "2022-12-05T18:03:06.767Z"
   },
   {
    "duration": 19,
    "start_time": "2022-12-05T18:03:11.396Z"
   },
   {
    "duration": 28,
    "start_time": "2022-12-05T18:09:32.434Z"
   },
   {
    "duration": 5,
    "start_time": "2022-12-05T18:09:35.949Z"
   },
   {
    "duration": 19,
    "start_time": "2022-12-05T18:09:36.405Z"
   },
   {
    "duration": 6,
    "start_time": "2022-12-05T18:09:46.542Z"
   },
   {
    "duration": 13,
    "start_time": "2022-12-05T18:09:46.951Z"
   },
   {
    "duration": 5,
    "start_time": "2022-12-05T18:10:08.151Z"
   },
   {
    "duration": 20,
    "start_time": "2022-12-05T18:10:08.612Z"
   },
   {
    "duration": 5,
    "start_time": "2022-12-05T18:10:20.192Z"
   },
   {
    "duration": 12,
    "start_time": "2022-12-05T18:10:20.566Z"
   },
   {
    "duration": 2156,
    "start_time": "2022-12-05T18:13:34.915Z"
   },
   {
    "duration": 19,
    "start_time": "2022-12-05T18:21:25.783Z"
   },
   {
    "duration": 1151,
    "start_time": "2022-12-05T18:21:37.016Z"
   },
   {
    "duration": 43,
    "start_time": "2022-12-05T18:21:38.169Z"
   },
   {
    "duration": 2435,
    "start_time": "2022-12-05T18:21:38.213Z"
   },
   {
    "duration": 5,
    "start_time": "2022-12-05T18:21:40.652Z"
   },
   {
    "duration": 115,
    "start_time": "2022-12-05T18:21:40.659Z"
   },
   {
    "duration": 0,
    "start_time": "2022-12-05T18:21:40.776Z"
   },
   {
    "duration": 10,
    "start_time": "2022-12-05T18:22:18.803Z"
   },
   {
    "duration": 5,
    "start_time": "2022-12-05T18:22:25.301Z"
   },
   {
    "duration": 13,
    "start_time": "2022-12-05T18:22:30.351Z"
   },
   {
    "duration": 9,
    "start_time": "2022-12-05T18:27:31.879Z"
   },
   {
    "duration": 11,
    "start_time": "2022-12-05T18:27:53.833Z"
   },
   {
    "duration": 10,
    "start_time": "2022-12-05T18:27:54.347Z"
   },
   {
    "duration": 10,
    "start_time": "2022-12-05T18:28:00.419Z"
   },
   {
    "duration": 1319,
    "start_time": "2022-12-05T18:28:14.630Z"
   },
   {
    "duration": 44,
    "start_time": "2022-12-05T18:28:15.950Z"
   },
   {
    "duration": 2977,
    "start_time": "2022-12-05T18:28:15.996Z"
   },
   {
    "duration": 6,
    "start_time": "2022-12-05T18:28:18.975Z"
   },
   {
    "duration": 173,
    "start_time": "2022-12-05T18:28:18.984Z"
   },
   {
    "duration": 0,
    "start_time": "2022-12-05T18:28:19.159Z"
   },
   {
    "duration": 0,
    "start_time": "2022-12-05T18:28:19.160Z"
   },
   {
    "duration": 14,
    "start_time": "2022-12-05T18:29:05.623Z"
   },
   {
    "duration": 4,
    "start_time": "2022-12-05T18:29:08.566Z"
   },
   {
    "duration": 1153,
    "start_time": "2022-12-05T18:29:16.095Z"
   },
   {
    "duration": 43,
    "start_time": "2022-12-05T18:29:17.250Z"
   },
   {
    "duration": 3480,
    "start_time": "2022-12-05T18:29:17.295Z"
   },
   {
    "duration": 6,
    "start_time": "2022-12-05T18:29:20.777Z"
   },
   {
    "duration": 6,
    "start_time": "2022-12-05T18:29:20.785Z"
   },
   {
    "duration": 133,
    "start_time": "2022-12-05T18:29:20.793Z"
   },
   {
    "duration": 0,
    "start_time": "2022-12-05T18:29:20.928Z"
   },
   {
    "duration": 17,
    "start_time": "2022-12-05T18:29:49.091Z"
   },
   {
    "duration": 7,
    "start_time": "2022-12-05T18:30:12.290Z"
   },
   {
    "duration": 6,
    "start_time": "2022-12-05T18:30:33.780Z"
   },
   {
    "duration": 18,
    "start_time": "2022-12-05T18:30:48.998Z"
   },
   {
    "duration": 15,
    "start_time": "2022-12-05T18:30:55.923Z"
   },
   {
    "duration": 7,
    "start_time": "2022-12-05T18:30:56.170Z"
   },
   {
    "duration": 1298,
    "start_time": "2022-12-05T18:31:13.451Z"
   },
   {
    "duration": 42,
    "start_time": "2022-12-05T18:31:14.751Z"
   },
   {
    "duration": 2981,
    "start_time": "2022-12-05T18:31:14.838Z"
   },
   {
    "duration": 15,
    "start_time": "2022-12-05T18:31:17.822Z"
   },
   {
    "duration": 11,
    "start_time": "2022-12-05T18:31:17.839Z"
   },
   {
    "duration": 4,
    "start_time": "2022-12-05T18:31:20.294Z"
   },
   {
    "duration": 4,
    "start_time": "2022-12-05T18:31:25.979Z"
   },
   {
    "duration": 1524,
    "start_time": "2022-12-05T18:31:31.614Z"
   },
   {
    "duration": 40,
    "start_time": "2022-12-05T18:31:33.140Z"
   },
   {
    "duration": 2780,
    "start_time": "2022-12-05T18:31:33.181Z"
   },
   {
    "duration": 5,
    "start_time": "2022-12-05T18:31:35.963Z"
   },
   {
    "duration": 7,
    "start_time": "2022-12-05T18:31:35.970Z"
   },
   {
    "duration": 9,
    "start_time": "2022-12-05T18:31:35.979Z"
   },
   {
    "duration": 6,
    "start_time": "2022-12-05T18:31:35.989Z"
   },
   {
    "duration": 8,
    "start_time": "2022-12-05T18:40:34.733Z"
   },
   {
    "duration": 7,
    "start_time": "2022-12-05T18:41:29.146Z"
   },
   {
    "duration": 17,
    "start_time": "2022-12-05T18:47:22.032Z"
   },
   {
    "duration": 16,
    "start_time": "2022-12-05T18:47:32.205Z"
   },
   {
    "duration": 15,
    "start_time": "2022-12-05T18:48:19.457Z"
   },
   {
    "duration": 7,
    "start_time": "2022-12-05T18:49:33.757Z"
   },
   {
    "duration": 4,
    "start_time": "2022-12-05T18:49:47.283Z"
   },
   {
    "duration": 118,
    "start_time": "2022-12-05T18:52:52.106Z"
   },
   {
    "duration": 3,
    "start_time": "2022-12-05T18:52:52.290Z"
   },
   {
    "duration": 30,
    "start_time": "2022-12-05T18:53:47.506Z"
   },
   {
    "duration": 32,
    "start_time": "2022-12-05T18:54:40.304Z"
   },
   {
    "duration": 49,
    "start_time": "2022-12-05T18:54:48.052Z"
   },
   {
    "duration": 31,
    "start_time": "2022-12-05T18:55:14.738Z"
   },
   {
    "duration": 21,
    "start_time": "2022-12-05T18:56:20.489Z"
   },
   {
    "duration": 20,
    "start_time": "2022-12-05T18:56:27.941Z"
   },
   {
    "duration": 19,
    "start_time": "2022-12-05T18:56:36.030Z"
   },
   {
    "duration": 10,
    "start_time": "2022-12-05T18:57:04.210Z"
   },
   {
    "duration": 22,
    "start_time": "2022-12-05T18:57:27.614Z"
   },
   {
    "duration": 20,
    "start_time": "2022-12-05T18:57:41.669Z"
   },
   {
    "duration": 22,
    "start_time": "2022-12-05T18:57:54.430Z"
   },
   {
    "duration": 22,
    "start_time": "2022-12-05T18:58:15.349Z"
   },
   {
    "duration": 22,
    "start_time": "2022-12-05T18:58:26.762Z"
   },
   {
    "duration": 1466,
    "start_time": "2022-12-05T18:59:08.712Z"
   },
   {
    "duration": 74,
    "start_time": "2022-12-05T18:59:10.180Z"
   },
   {
    "duration": 2867,
    "start_time": "2022-12-05T18:59:10.256Z"
   },
   {
    "duration": 13,
    "start_time": "2022-12-05T18:59:13.125Z"
   },
   {
    "duration": 4,
    "start_time": "2022-12-05T18:59:13.140Z"
   },
   {
    "duration": 8,
    "start_time": "2022-12-05T18:59:13.145Z"
   },
   {
    "duration": 22,
    "start_time": "2022-12-05T18:59:13.154Z"
   },
   {
    "duration": 6,
    "start_time": "2022-12-05T18:59:13.177Z"
   },
   {
    "duration": 13,
    "start_time": "2022-12-05T18:59:13.184Z"
   },
   {
    "duration": 139,
    "start_time": "2022-12-05T18:59:13.198Z"
   },
   {
    "duration": 0,
    "start_time": "2022-12-05T18:59:13.339Z"
   },
   {
    "duration": 12,
    "start_time": "2022-12-05T18:59:28.323Z"
   },
   {
    "duration": 1147,
    "start_time": "2022-12-05T18:59:34.922Z"
   },
   {
    "duration": 42,
    "start_time": "2022-12-05T18:59:36.071Z"
   },
   {
    "duration": 3475,
    "start_time": "2022-12-05T18:59:36.115Z"
   },
   {
    "duration": 5,
    "start_time": "2022-12-05T18:59:39.592Z"
   },
   {
    "duration": 34,
    "start_time": "2022-12-05T18:59:39.600Z"
   },
   {
    "duration": 24,
    "start_time": "2022-12-05T18:59:39.636Z"
   },
   {
    "duration": 59,
    "start_time": "2022-12-05T18:59:39.662Z"
   },
   {
    "duration": 13,
    "start_time": "2022-12-05T18:59:39.722Z"
   },
   {
    "duration": 40,
    "start_time": "2022-12-05T18:59:39.737Z"
   },
   {
    "duration": 149,
    "start_time": "2022-12-05T18:59:39.779Z"
   },
   {
    "duration": 0,
    "start_time": "2022-12-05T18:59:39.930Z"
   },
   {
    "duration": 10,
    "start_time": "2022-12-05T18:59:56.728Z"
   },
   {
    "duration": 1889,
    "start_time": "2022-12-05T19:00:02.571Z"
   },
   {
    "duration": 83,
    "start_time": "2022-12-05T19:00:04.462Z"
   },
   {
    "duration": 3358,
    "start_time": "2022-12-05T19:00:04.640Z"
   },
   {
    "duration": 6,
    "start_time": "2022-12-05T19:00:08.000Z"
   },
   {
    "duration": 37,
    "start_time": "2022-12-05T19:00:08.008Z"
   },
   {
    "duration": 8,
    "start_time": "2022-12-05T19:00:08.048Z"
   },
   {
    "duration": 22,
    "start_time": "2022-12-05T19:00:08.057Z"
   },
   {
    "duration": 6,
    "start_time": "2022-12-05T19:00:08.081Z"
   },
   {
    "duration": 13,
    "start_time": "2022-12-05T19:00:08.089Z"
   },
   {
    "duration": 35,
    "start_time": "2022-12-05T19:00:08.103Z"
   },
   {
    "duration": 19,
    "start_time": "2022-12-05T19:00:08.140Z"
   },
   {
    "duration": 14,
    "start_time": "2022-12-05T19:00:19.110Z"
   },
   {
    "duration": 10,
    "start_time": "2022-12-05T19:00:23.757Z"
   },
   {
    "duration": 1115,
    "start_time": "2022-12-05T19:00:28.379Z"
   },
   {
    "duration": 42,
    "start_time": "2022-12-05T19:00:29.496Z"
   },
   {
    "duration": 3201,
    "start_time": "2022-12-05T19:00:29.539Z"
   },
   {
    "duration": 5,
    "start_time": "2022-12-05T19:00:32.742Z"
   },
   {
    "duration": 8,
    "start_time": "2022-12-05T19:00:32.749Z"
   },
   {
    "duration": 10,
    "start_time": "2022-12-05T19:00:32.759Z"
   },
   {
    "duration": 19,
    "start_time": "2022-12-05T19:00:32.771Z"
   },
   {
    "duration": 6,
    "start_time": "2022-12-05T19:00:32.792Z"
   },
   {
    "duration": 38,
    "start_time": "2022-12-05T19:00:32.799Z"
   },
   {
    "duration": 10,
    "start_time": "2022-12-05T19:00:32.839Z"
   },
   {
    "duration": 17,
    "start_time": "2022-12-05T19:00:32.851Z"
   },
   {
    "duration": 10,
    "start_time": "2022-12-05T19:01:09.989Z"
   },
   {
    "duration": 1838,
    "start_time": "2022-12-05T19:01:15.700Z"
   },
   {
    "duration": 41,
    "start_time": "2022-12-05T19:01:17.540Z"
   },
   {
    "duration": 3456,
    "start_time": "2022-12-05T19:01:17.583Z"
   },
   {
    "duration": 6,
    "start_time": "2022-12-05T19:01:21.041Z"
   },
   {
    "duration": 17,
    "start_time": "2022-12-05T19:01:21.049Z"
   },
   {
    "duration": 26,
    "start_time": "2022-12-05T19:01:21.068Z"
   },
   {
    "duration": 33,
    "start_time": "2022-12-05T19:01:21.096Z"
   },
   {
    "duration": 10,
    "start_time": "2022-12-05T19:01:21.131Z"
   },
   {
    "duration": 16,
    "start_time": "2022-12-05T19:01:21.143Z"
   },
   {
    "duration": 20,
    "start_time": "2022-12-05T19:01:21.162Z"
   },
   {
    "duration": 23,
    "start_time": "2022-12-05T19:01:21.184Z"
   },
   {
    "duration": 21,
    "start_time": "2022-12-05T19:01:45.473Z"
   },
   {
    "duration": 13,
    "start_time": "2022-12-05T19:02:31.369Z"
   },
   {
    "duration": 1875,
    "start_time": "2022-12-05T19:02:38.771Z"
   },
   {
    "duration": 40,
    "start_time": "2022-12-05T19:02:40.649Z"
   },
   {
    "duration": 2391,
    "start_time": "2022-12-05T19:02:40.691Z"
   },
   {
    "duration": 5,
    "start_time": "2022-12-05T19:02:43.084Z"
   },
   {
    "duration": 6,
    "start_time": "2022-12-05T19:02:43.091Z"
   },
   {
    "duration": 8,
    "start_time": "2022-12-05T19:02:43.098Z"
   },
   {
    "duration": 36,
    "start_time": "2022-12-05T19:02:43.107Z"
   },
   {
    "duration": 6,
    "start_time": "2022-12-05T19:02:43.144Z"
   },
   {
    "duration": 15,
    "start_time": "2022-12-05T19:02:43.151Z"
   },
   {
    "duration": 13,
    "start_time": "2022-12-05T19:02:43.168Z"
   },
   {
    "duration": 19,
    "start_time": "2022-12-05T19:02:43.183Z"
   },
   {
    "duration": 25,
    "start_time": "2022-12-05T19:03:08.929Z"
   },
   {
    "duration": 9,
    "start_time": "2022-12-05T19:03:17.341Z"
   },
   {
    "duration": 7,
    "start_time": "2022-12-05T19:03:52.855Z"
   },
   {
    "duration": 1049,
    "start_time": "2022-12-05T19:04:01.982Z"
   },
   {
    "duration": 41,
    "start_time": "2022-12-05T19:04:03.033Z"
   },
   {
    "duration": 3394,
    "start_time": "2022-12-05T19:04:03.076Z"
   },
   {
    "duration": 6,
    "start_time": "2022-12-05T19:04:06.473Z"
   },
   {
    "duration": 7,
    "start_time": "2022-12-05T19:04:06.481Z"
   },
   {
    "duration": 13,
    "start_time": "2022-12-05T19:04:06.489Z"
   },
   {
    "duration": 34,
    "start_time": "2022-12-05T19:04:06.504Z"
   },
   {
    "duration": 6,
    "start_time": "2022-12-05T19:04:06.540Z"
   },
   {
    "duration": 23,
    "start_time": "2022-12-05T19:04:06.548Z"
   },
   {
    "duration": 17,
    "start_time": "2022-12-05T19:04:06.573Z"
   },
   {
    "duration": 4,
    "start_time": "2022-12-05T19:04:30.358Z"
   },
   {
    "duration": 10,
    "start_time": "2022-12-05T19:04:38.696Z"
   },
   {
    "duration": 8,
    "start_time": "2022-12-05T19:04:46.458Z"
   },
   {
    "duration": 5,
    "start_time": "2022-12-05T19:04:47.831Z"
   },
   {
    "duration": 8,
    "start_time": "2022-12-05T19:04:48.054Z"
   },
   {
    "duration": 6,
    "start_time": "2022-12-05T19:04:48.763Z"
   },
   {
    "duration": 8,
    "start_time": "2022-12-05T19:10:57.300Z"
   },
   {
    "duration": 14,
    "start_time": "2022-12-05T19:11:04.480Z"
   },
   {
    "duration": 7,
    "start_time": "2022-12-05T19:11:46.372Z"
   },
   {
    "duration": 4,
    "start_time": "2022-12-05T19:13:44.941Z"
   },
   {
    "duration": 4,
    "start_time": "2022-12-05T19:13:50.792Z"
   },
   {
    "duration": 4,
    "start_time": "2022-12-05T19:13:58.449Z"
   },
   {
    "duration": 1107,
    "start_time": "2022-12-05T19:14:23.329Z"
   },
   {
    "duration": 39,
    "start_time": "2022-12-05T19:14:24.438Z"
   },
   {
    "duration": 3239,
    "start_time": "2022-12-05T19:14:24.479Z"
   },
   {
    "duration": 5,
    "start_time": "2022-12-05T19:14:27.719Z"
   },
   {
    "duration": 18,
    "start_time": "2022-12-05T19:14:27.726Z"
   },
   {
    "duration": 18,
    "start_time": "2022-12-05T19:14:27.746Z"
   },
   {
    "duration": 6,
    "start_time": "2022-12-05T19:14:27.766Z"
   },
   {
    "duration": 22,
    "start_time": "2022-12-05T19:14:27.773Z"
   },
   {
    "duration": 43,
    "start_time": "2022-12-05T19:14:27.797Z"
   },
   {
    "duration": 5,
    "start_time": "2022-12-05T19:14:27.842Z"
   },
   {
    "duration": 3,
    "start_time": "2022-12-05T19:15:12.711Z"
   },
   {
    "duration": 38,
    "start_time": "2022-12-05T19:15:12.922Z"
   },
   {
    "duration": 175,
    "start_time": "2022-12-05T19:16:38.708Z"
   },
   {
    "duration": 13,
    "start_time": "2022-12-05T19:16:50.326Z"
   },
   {
    "duration": 1162,
    "start_time": "2022-12-05T19:16:58.216Z"
   },
   {
    "duration": 1101,
    "start_time": "2022-12-05T19:17:04.872Z"
   },
   {
    "duration": 21,
    "start_time": "2022-12-05T19:17:35.563Z"
   },
   {
    "duration": 11,
    "start_time": "2022-12-05T19:20:38.273Z"
   },
   {
    "duration": 16,
    "start_time": "2022-12-05T19:21:04.039Z"
   },
   {
    "duration": 7,
    "start_time": "2022-12-05T19:21:07.998Z"
   },
   {
    "duration": 6434,
    "start_time": "2022-12-05T19:21:54.409Z"
   },
   {
    "duration": 17,
    "start_time": "2022-12-05T19:22:47.290Z"
   },
   {
    "duration": 13,
    "start_time": "2022-12-05T19:23:10.721Z"
   },
   {
    "duration": 19,
    "start_time": "2022-12-05T19:23:17.827Z"
   },
   {
    "duration": 14,
    "start_time": "2022-12-05T19:23:27.064Z"
   },
   {
    "duration": 1080,
    "start_time": "2022-12-05T19:23:32.843Z"
   },
   {
    "duration": 450,
    "start_time": "2022-12-05T19:23:38.573Z"
   },
   {
    "duration": 1087,
    "start_time": "2022-12-05T19:23:44.394Z"
   },
   {
    "duration": 1127,
    "start_time": "2022-12-05T19:23:49.439Z"
   },
   {
    "duration": 1044,
    "start_time": "2022-12-05T19:24:45.815Z"
   },
   {
    "duration": 1143,
    "start_time": "2022-12-05T19:25:03.248Z"
   },
   {
    "duration": 1199,
    "start_time": "2022-12-05T19:25:15.330Z"
   },
   {
    "duration": 16,
    "start_time": "2022-12-05T19:25:51.440Z"
   },
   {
    "duration": 3,
    "start_time": "2022-12-05T19:27:05.424Z"
   },
   {
    "duration": 1185,
    "start_time": "2022-12-05T19:27:27.949Z"
   },
   {
    "duration": 1656,
    "start_time": "2022-12-05T19:27:42.205Z"
   },
   {
    "duration": 1118,
    "start_time": "2022-12-05T19:27:52.049Z"
   },
   {
    "duration": 1159,
    "start_time": "2022-12-05T19:27:56.737Z"
   },
   {
    "duration": 987,
    "start_time": "2022-12-05T19:28:33.375Z"
   },
   {
    "duration": 1188,
    "start_time": "2022-12-05T19:28:41.955Z"
   },
   {
    "duration": 1314,
    "start_time": "2022-12-05T19:29:08.759Z"
   },
   {
    "duration": 1123,
    "start_time": "2022-12-05T19:29:26.457Z"
   },
   {
    "duration": 1109,
    "start_time": "2022-12-05T19:29:31.741Z"
   },
   {
    "duration": 1155,
    "start_time": "2022-12-05T19:29:41.588Z"
   },
   {
    "duration": 81,
    "start_time": "2022-12-05T19:29:51.515Z"
   },
   {
    "duration": 1161,
    "start_time": "2022-12-05T19:29:54.338Z"
   },
   {
    "duration": 1183,
    "start_time": "2022-12-05T19:30:02.710Z"
   },
   {
    "duration": 1334,
    "start_time": "2022-12-05T19:30:06.984Z"
   },
   {
    "duration": 1045,
    "start_time": "2022-12-05T19:30:12.374Z"
   },
   {
    "duration": 1068,
    "start_time": "2022-12-05T19:32:25.155Z"
   },
   {
    "duration": 1157,
    "start_time": "2022-12-05T19:32:31.438Z"
   },
   {
    "duration": 1054,
    "start_time": "2022-12-05T19:33:14.358Z"
   },
   {
    "duration": 1270,
    "start_time": "2022-12-05T19:33:34.310Z"
   },
   {
    "duration": 1120,
    "start_time": "2022-12-05T19:33:39.076Z"
   },
   {
    "duration": 1114,
    "start_time": "2022-12-05T19:33:55.771Z"
   },
   {
    "duration": 1109,
    "start_time": "2022-12-05T19:34:00.519Z"
   },
   {
    "duration": 1101,
    "start_time": "2022-12-05T19:34:05.883Z"
   },
   {
    "duration": 1162,
    "start_time": "2022-12-05T19:34:15.208Z"
   },
   {
    "duration": 1290,
    "start_time": "2022-12-05T19:34:23.118Z"
   },
   {
    "duration": 1171,
    "start_time": "2022-12-05T19:35:15.902Z"
   },
   {
    "duration": 1093,
    "start_time": "2022-12-05T19:35:21.027Z"
   },
   {
    "duration": 1144,
    "start_time": "2022-12-05T19:35:23.396Z"
   },
   {
    "duration": 1100,
    "start_time": "2022-12-05T19:35:57.410Z"
   },
   {
    "duration": 1210,
    "start_time": "2022-12-05T19:36:14.082Z"
   },
   {
    "duration": 1154,
    "start_time": "2022-12-05T19:36:26.818Z"
   },
   {
    "duration": 1086,
    "start_time": "2022-12-05T19:36:33.123Z"
   },
   {
    "duration": 1143,
    "start_time": "2022-12-05T19:36:38.628Z"
   },
   {
    "duration": 1077,
    "start_time": "2022-12-05T19:36:48.946Z"
   },
   {
    "duration": 1120,
    "start_time": "2022-12-05T19:37:01.481Z"
   },
   {
    "duration": 1190,
    "start_time": "2022-12-05T19:37:06.230Z"
   },
   {
    "duration": 1175,
    "start_time": "2022-12-05T19:37:09.292Z"
   },
   {
    "duration": 1055,
    "start_time": "2022-12-05T19:37:41.965Z"
   },
   {
    "duration": 1131,
    "start_time": "2022-12-05T19:37:50.320Z"
   },
   {
    "duration": 1098,
    "start_time": "2022-12-05T19:38:01.220Z"
   },
   {
    "duration": 1417,
    "start_time": "2022-12-05T19:38:43.090Z"
   },
   {
    "duration": 41,
    "start_time": "2022-12-05T19:38:44.509Z"
   },
   {
    "duration": 2057,
    "start_time": "2022-12-05T19:38:44.552Z"
   },
   {
    "duration": 6,
    "start_time": "2022-12-05T19:38:46.611Z"
   },
   {
    "duration": 20,
    "start_time": "2022-12-05T19:38:46.620Z"
   },
   {
    "duration": 24,
    "start_time": "2022-12-05T19:38:46.642Z"
   },
   {
    "duration": 9,
    "start_time": "2022-12-05T19:38:46.667Z"
   },
   {
    "duration": 19,
    "start_time": "2022-12-05T19:38:46.678Z"
   },
   {
    "duration": 48,
    "start_time": "2022-12-05T19:38:46.699Z"
   },
   {
    "duration": 5,
    "start_time": "2022-12-05T19:38:46.750Z"
   },
   {
    "duration": 921,
    "start_time": "2022-12-05T19:38:46.757Z"
   },
   {
    "duration": 1489,
    "start_time": "2022-12-05T19:43:26.729Z"
   },
   {
    "duration": 41,
    "start_time": "2022-12-05T19:43:28.220Z"
   },
   {
    "duration": 3085,
    "start_time": "2022-12-05T19:43:28.263Z"
   },
   {
    "duration": 7,
    "start_time": "2022-12-05T19:43:31.356Z"
   },
   {
    "duration": 13,
    "start_time": "2022-12-05T19:43:31.365Z"
   },
   {
    "duration": 24,
    "start_time": "2022-12-05T19:43:31.381Z"
   },
   {
    "duration": 7,
    "start_time": "2022-12-05T19:43:31.407Z"
   },
   {
    "duration": 38,
    "start_time": "2022-12-05T19:43:31.417Z"
   },
   {
    "duration": 20,
    "start_time": "2022-12-05T19:43:31.457Z"
   },
   {
    "duration": 4,
    "start_time": "2022-12-05T19:43:31.479Z"
   },
   {
    "duration": 929,
    "start_time": "2022-12-05T19:43:31.485Z"
   },
   {
    "duration": 910,
    "start_time": "2022-12-05T19:44:15.996Z"
   },
   {
    "duration": 1087,
    "start_time": "2022-12-05T19:44:37.295Z"
   },
   {
    "duration": 822,
    "start_time": "2022-12-05T19:45:02.731Z"
   },
   {
    "duration": 895,
    "start_time": "2022-12-05T19:45:31.619Z"
   },
   {
    "duration": 952,
    "start_time": "2022-12-05T19:45:36.622Z"
   },
   {
    "duration": 814,
    "start_time": "2022-12-05T19:45:41.571Z"
   },
   {
    "duration": 882,
    "start_time": "2022-12-05T19:45:45.619Z"
   },
   {
    "duration": 897,
    "start_time": "2022-12-05T19:45:52.690Z"
   },
   {
    "duration": 864,
    "start_time": "2022-12-05T19:46:00.019Z"
   },
   {
    "duration": 890,
    "start_time": "2022-12-05T19:46:37.403Z"
   },
   {
    "duration": 4,
    "start_time": "2022-12-05T19:46:47.114Z"
   },
   {
    "duration": 4,
    "start_time": "2022-12-05T19:47:13.755Z"
   },
   {
    "duration": 1443,
    "start_time": "2022-12-05T19:50:26.100Z"
   },
   {
    "duration": 41,
    "start_time": "2022-12-05T19:50:27.545Z"
   },
   {
    "duration": 3057,
    "start_time": "2022-12-05T19:50:27.588Z"
   },
   {
    "duration": 6,
    "start_time": "2022-12-05T19:50:30.647Z"
   },
   {
    "duration": 14,
    "start_time": "2022-12-05T19:50:30.654Z"
   },
   {
    "duration": 28,
    "start_time": "2022-12-05T19:50:30.670Z"
   },
   {
    "duration": 12,
    "start_time": "2022-12-05T19:50:30.700Z"
   },
   {
    "duration": 31,
    "start_time": "2022-12-05T19:50:30.713Z"
   },
   {
    "duration": 18,
    "start_time": "2022-12-05T19:50:30.746Z"
   },
   {
    "duration": 904,
    "start_time": "2022-12-05T19:50:30.766Z"
   },
   {
    "duration": 4,
    "start_time": "2022-12-05T19:50:31.672Z"
   },
   {
    "duration": 1009,
    "start_time": "2022-12-05T19:53:08.292Z"
   },
   {
    "duration": 1000,
    "start_time": "2022-12-05T19:53:17.371Z"
   },
   {
    "duration": 1423,
    "start_time": "2022-12-05T19:53:26.081Z"
   },
   {
    "duration": 41,
    "start_time": "2022-12-05T19:53:27.506Z"
   },
   {
    "duration": 2190,
    "start_time": "2022-12-05T19:53:27.549Z"
   },
   {
    "duration": 7,
    "start_time": "2022-12-05T19:53:29.741Z"
   },
   {
    "duration": 7,
    "start_time": "2022-12-05T19:53:29.751Z"
   },
   {
    "duration": 30,
    "start_time": "2022-12-05T19:53:29.760Z"
   },
   {
    "duration": 7,
    "start_time": "2022-12-05T19:53:29.792Z"
   },
   {
    "duration": 46,
    "start_time": "2022-12-05T19:53:29.801Z"
   },
   {
    "duration": 20,
    "start_time": "2022-12-05T19:53:29.849Z"
   },
   {
    "duration": 1000,
    "start_time": "2022-12-05T19:53:29.870Z"
   },
   {
    "duration": 5,
    "start_time": "2022-12-05T19:53:30.872Z"
   },
   {
    "duration": 55,
    "start_time": "2022-12-06T17:15:49.576Z"
   },
   {
    "duration": 2054,
    "start_time": "2022-12-06T17:15:54.394Z"
   },
   {
    "duration": 200,
    "start_time": "2022-12-06T17:15:56.451Z"
   },
   {
    "duration": 2659,
    "start_time": "2022-12-06T17:15:56.653Z"
   },
   {
    "duration": 5,
    "start_time": "2022-12-06T17:15:59.314Z"
   },
   {
    "duration": 32,
    "start_time": "2022-12-06T17:15:59.321Z"
   },
   {
    "duration": 18,
    "start_time": "2022-12-06T17:15:59.355Z"
   },
   {
    "duration": 7,
    "start_time": "2022-12-06T17:15:59.374Z"
   },
   {
    "duration": 18,
    "start_time": "2022-12-06T17:15:59.383Z"
   },
   {
    "duration": 46,
    "start_time": "2022-12-06T17:15:59.402Z"
   },
   {
    "duration": 965,
    "start_time": "2022-12-06T17:15:59.450Z"
   },
   {
    "duration": 5,
    "start_time": "2022-12-06T17:16:00.418Z"
   },
   {
    "duration": 965,
    "start_time": "2022-12-06T17:16:08.296Z"
   },
   {
    "duration": 1078,
    "start_time": "2022-12-06T17:16:22.594Z"
   },
   {
    "duration": 852,
    "start_time": "2022-12-06T17:16:33.568Z"
   },
   {
    "duration": 80,
    "start_time": "2022-12-06T17:16:53.398Z"
   },
   {
    "duration": 916,
    "start_time": "2022-12-06T17:17:00.005Z"
   },
   {
    "duration": 935,
    "start_time": "2022-12-06T17:17:18.291Z"
   },
   {
    "duration": 913,
    "start_time": "2022-12-06T17:17:26.806Z"
   },
   {
    "duration": 1010,
    "start_time": "2022-12-06T17:18:49.605Z"
   },
   {
    "duration": 1053,
    "start_time": "2022-12-06T17:19:20.053Z"
   },
   {
    "duration": 1089,
    "start_time": "2022-12-06T17:19:25.262Z"
   },
   {
    "duration": 965,
    "start_time": "2022-12-06T17:19:40.080Z"
   },
   {
    "duration": 994,
    "start_time": "2022-12-06T17:19:59.386Z"
   },
   {
    "duration": 1001,
    "start_time": "2022-12-06T17:20:03.761Z"
   },
   {
    "duration": 1046,
    "start_time": "2022-12-06T17:20:22.541Z"
   },
   {
    "duration": 14,
    "start_time": "2022-12-06T17:31:23.431Z"
   },
   {
    "duration": 13,
    "start_time": "2022-12-06T17:31:50.169Z"
   },
   {
    "duration": 1374,
    "start_time": "2022-12-06T17:32:01.383Z"
   },
   {
    "duration": 15,
    "start_time": "2022-12-06T17:33:54.096Z"
   },
   {
    "duration": 1000,
    "start_time": "2022-12-06T17:34:00.947Z"
   },
   {
    "duration": 22,
    "start_time": "2022-12-06T17:36:42.985Z"
   },
   {
    "duration": 12,
    "start_time": "2022-12-06T17:38:38.492Z"
   },
   {
    "duration": 16,
    "start_time": "2022-12-06T17:38:38.855Z"
   },
   {
    "duration": 21,
    "start_time": "2022-12-06T17:39:00.674Z"
   },
   {
    "duration": 5,
    "start_time": "2022-12-06T17:40:40.987Z"
   },
   {
    "duration": 24,
    "start_time": "2022-12-06T17:41:38.624Z"
   },
   {
    "duration": 27,
    "start_time": "2022-12-06T17:44:16.033Z"
   },
   {
    "duration": 18,
    "start_time": "2022-12-06T17:47:50.601Z"
   },
   {
    "duration": 5,
    "start_time": "2022-12-06T17:48:05.395Z"
   },
   {
    "duration": 2256,
    "start_time": "2022-12-06T17:49:35.005Z"
   },
   {
    "duration": 155,
    "start_time": "2022-12-06T17:49:37.263Z"
   },
   {
    "duration": 2741,
    "start_time": "2022-12-06T17:49:37.439Z"
   },
   {
    "duration": 5,
    "start_time": "2022-12-06T17:49:40.183Z"
   },
   {
    "duration": 7,
    "start_time": "2022-12-06T17:49:40.190Z"
   },
   {
    "duration": 22,
    "start_time": "2022-12-06T17:49:40.199Z"
   },
   {
    "duration": 19,
    "start_time": "2022-12-06T17:49:40.236Z"
   },
   {
    "duration": 32,
    "start_time": "2022-12-06T17:49:40.258Z"
   },
   {
    "duration": 22,
    "start_time": "2022-12-06T17:49:40.299Z"
   },
   {
    "duration": 17,
    "start_time": "2022-12-06T17:49:40.324Z"
   },
   {
    "duration": 966,
    "start_time": "2022-12-06T17:49:40.344Z"
   },
   {
    "duration": 24,
    "start_time": "2022-12-06T17:49:41.312Z"
   },
   {
    "duration": 6,
    "start_time": "2022-12-06T17:54:33.886Z"
   },
   {
    "duration": 5,
    "start_time": "2022-12-06T17:55:19.210Z"
   },
   {
    "duration": 5,
    "start_time": "2022-12-06T17:55:34.493Z"
   },
   {
    "duration": 12,
    "start_time": "2022-12-06T18:10:10.313Z"
   },
   {
    "duration": 4,
    "start_time": "2022-12-06T18:10:23.393Z"
   },
   {
    "duration": 4,
    "start_time": "2022-12-06T18:10:29.633Z"
   },
   {
    "duration": 4,
    "start_time": "2022-12-06T18:10:37.015Z"
   },
   {
    "duration": 3,
    "start_time": "2022-12-06T18:10:58.297Z"
   },
   {
    "duration": 110,
    "start_time": "2022-12-06T18:12:08.588Z"
   },
   {
    "duration": 6,
    "start_time": "2022-12-06T18:12:09.485Z"
   },
   {
    "duration": 10,
    "start_time": "2022-12-06T18:12:18.091Z"
   },
   {
    "duration": 6,
    "start_time": "2022-12-06T18:12:18.623Z"
   },
   {
    "duration": 11,
    "start_time": "2022-12-06T18:13:12.403Z"
   },
   {
    "duration": 7,
    "start_time": "2022-12-06T18:13:12.711Z"
   },
   {
    "duration": 3,
    "start_time": "2022-12-06T18:18:32.261Z"
   },
   {
    "duration": 7,
    "start_time": "2022-12-06T18:32:59.841Z"
   },
   {
    "duration": 19,
    "start_time": "2022-12-06T18:33:04.654Z"
   },
   {
    "duration": 8,
    "start_time": "2022-12-06T18:43:10.079Z"
   },
   {
    "duration": 8,
    "start_time": "2022-12-06T18:43:25.493Z"
   },
   {
    "duration": 11,
    "start_time": "2022-12-06T18:45:25.121Z"
   },
   {
    "duration": 8,
    "start_time": "2022-12-06T18:45:27.063Z"
   },
   {
    "duration": 10,
    "start_time": "2022-12-06T18:45:27.336Z"
   },
   {
    "duration": 12,
    "start_time": "2022-12-06T18:46:05.785Z"
   },
   {
    "duration": 10,
    "start_time": "2022-12-06T18:47:30.024Z"
   },
   {
    "duration": 5,
    "start_time": "2022-12-06T18:47:30.323Z"
   },
   {
    "duration": 1122,
    "start_time": "2022-12-06T18:47:58.648Z"
   },
   {
    "duration": 13,
    "start_time": "2022-12-06T18:50:43.045Z"
   },
   {
    "duration": 18,
    "start_time": "2022-12-06T18:52:57.027Z"
   },
   {
    "duration": 10,
    "start_time": "2022-12-06T18:53:14.246Z"
   },
   {
    "duration": 1191,
    "start_time": "2022-12-06T18:53:15.626Z"
   },
   {
    "duration": 5,
    "start_time": "2022-12-06T18:53:22.844Z"
   },
   {
    "duration": 4,
    "start_time": "2022-12-06T18:53:30.616Z"
   },
   {
    "duration": 4,
    "start_time": "2022-12-06T18:53:34.050Z"
   },
   {
    "duration": 6,
    "start_time": "2022-12-06T18:53:38.028Z"
   },
   {
    "duration": 11,
    "start_time": "2022-12-06T18:53:50.971Z"
   },
   {
    "duration": 8,
    "start_time": "2022-12-06T18:54:28.371Z"
   },
   {
    "duration": 4,
    "start_time": "2022-12-06T18:54:33.623Z"
   },
   {
    "duration": 11,
    "start_time": "2022-12-06T18:56:06.690Z"
   },
   {
    "duration": 3,
    "start_time": "2022-12-06T18:57:08.111Z"
   },
   {
    "duration": 1691,
    "start_time": "2022-12-06T18:57:13.454Z"
   },
   {
    "duration": 90,
    "start_time": "2022-12-06T18:57:15.148Z"
   },
   {
    "duration": 2638,
    "start_time": "2022-12-06T18:57:15.240Z"
   },
   {
    "duration": 5,
    "start_time": "2022-12-06T18:57:17.880Z"
   },
   {
    "duration": 7,
    "start_time": "2022-12-06T18:57:17.888Z"
   },
   {
    "duration": 19,
    "start_time": "2022-12-06T18:57:17.897Z"
   },
   {
    "duration": 23,
    "start_time": "2022-12-06T18:57:17.918Z"
   },
   {
    "duration": 21,
    "start_time": "2022-12-06T18:57:17.943Z"
   },
   {
    "duration": 20,
    "start_time": "2022-12-06T18:57:17.966Z"
   },
   {
    "duration": 5,
    "start_time": "2022-12-06T18:57:17.987Z"
   },
   {
    "duration": 909,
    "start_time": "2022-12-06T18:57:17.993Z"
   },
   {
    "duration": 22,
    "start_time": "2022-12-06T18:57:18.905Z"
   },
   {
    "duration": 126,
    "start_time": "2022-12-06T18:57:18.930Z"
   },
   {
    "duration": 0,
    "start_time": "2022-12-06T18:57:19.058Z"
   },
   {
    "duration": 0,
    "start_time": "2022-12-06T18:57:19.059Z"
   },
   {
    "duration": 0,
    "start_time": "2022-12-06T18:57:19.061Z"
   },
   {
    "duration": 0,
    "start_time": "2022-12-06T18:57:19.062Z"
   },
   {
    "duration": 11,
    "start_time": "2022-12-06T18:57:35.819Z"
   },
   {
    "duration": 7,
    "start_time": "2022-12-06T18:57:36.902Z"
   },
   {
    "duration": 11,
    "start_time": "2022-12-06T18:57:37.453Z"
   },
   {
    "duration": 33,
    "start_time": "2022-12-06T18:57:37.618Z"
   },
   {
    "duration": 1098,
    "start_time": "2022-12-06T18:57:37.790Z"
   },
   {
    "duration": 12,
    "start_time": "2022-12-06T18:57:49.360Z"
   },
   {
    "duration": 12,
    "start_time": "2022-12-06T18:57:51.762Z"
   },
   {
    "duration": 13,
    "start_time": "2022-12-06T18:57:57.481Z"
   },
   {
    "duration": 32,
    "start_time": "2022-12-06T19:01:51.961Z"
   },
   {
    "duration": 28,
    "start_time": "2022-12-06T19:02:01.092Z"
   },
   {
    "duration": 54,
    "start_time": "2022-12-06T19:02:18.605Z"
   },
   {
    "duration": 10,
    "start_time": "2022-12-06T19:05:26.141Z"
   },
   {
    "duration": 18,
    "start_time": "2022-12-06T19:05:31.092Z"
   },
   {
    "duration": 17,
    "start_time": "2022-12-06T19:07:39.062Z"
   },
   {
    "duration": 1544,
    "start_time": "2022-12-07T17:14:51.414Z"
   },
   {
    "duration": 88,
    "start_time": "2022-12-07T17:14:52.960Z"
   },
   {
    "duration": 1863,
    "start_time": "2022-12-07T17:14:53.052Z"
   },
   {
    "duration": 7,
    "start_time": "2022-12-07T17:14:54.917Z"
   },
   {
    "duration": 24,
    "start_time": "2022-12-07T17:14:54.925Z"
   },
   {
    "duration": 22,
    "start_time": "2022-12-07T17:14:54.951Z"
   },
   {
    "duration": 6,
    "start_time": "2022-12-07T17:14:54.974Z"
   },
   {
    "duration": 21,
    "start_time": "2022-12-07T17:14:54.981Z"
   },
   {
    "duration": 20,
    "start_time": "2022-12-07T17:14:55.004Z"
   },
   {
    "duration": 3,
    "start_time": "2022-12-07T17:14:55.025Z"
   },
   {
    "duration": 914,
    "start_time": "2022-12-07T17:14:55.030Z"
   },
   {
    "duration": 18,
    "start_time": "2022-12-07T17:14:55.946Z"
   },
   {
    "duration": 10,
    "start_time": "2022-12-07T17:14:55.965Z"
   },
   {
    "duration": 6,
    "start_time": "2022-12-07T17:14:55.976Z"
   },
   {
    "duration": 18,
    "start_time": "2022-12-07T17:14:55.983Z"
   },
   {
    "duration": 49,
    "start_time": "2022-12-07T17:14:56.003Z"
   },
   {
    "duration": 109,
    "start_time": "2022-12-07T17:22:09.216Z"
   },
   {
    "duration": 1657,
    "start_time": "2022-12-07T17:22:15.409Z"
   },
   {
    "duration": 90,
    "start_time": "2022-12-07T17:22:17.069Z"
   },
   {
    "duration": 2222,
    "start_time": "2022-12-07T17:22:17.160Z"
   },
   {
    "duration": 5,
    "start_time": "2022-12-07T17:22:19.384Z"
   },
   {
    "duration": 10,
    "start_time": "2022-12-07T17:22:19.390Z"
   },
   {
    "duration": 29,
    "start_time": "2022-12-07T17:22:19.401Z"
   },
   {
    "duration": 7,
    "start_time": "2022-12-07T17:22:19.431Z"
   },
   {
    "duration": 25,
    "start_time": "2022-12-07T17:22:19.440Z"
   },
   {
    "duration": 17,
    "start_time": "2022-12-07T17:22:19.466Z"
   },
   {
    "duration": 17,
    "start_time": "2022-12-07T17:22:19.485Z"
   },
   {
    "duration": 873,
    "start_time": "2022-12-07T17:22:19.503Z"
   },
   {
    "duration": 19,
    "start_time": "2022-12-07T17:22:20.377Z"
   },
   {
    "duration": 113,
    "start_time": "2022-12-07T17:22:20.397Z"
   },
   {
    "duration": 0,
    "start_time": "2022-12-07T17:22:20.512Z"
   },
   {
    "duration": 0,
    "start_time": "2022-12-07T17:22:20.513Z"
   },
   {
    "duration": 0,
    "start_time": "2022-12-07T17:22:20.514Z"
   },
   {
    "duration": 0,
    "start_time": "2022-12-07T17:22:20.515Z"
   },
   {
    "duration": 5,
    "start_time": "2022-12-07T17:22:34.944Z"
   },
   {
    "duration": 2198,
    "start_time": "2022-12-07T17:22:38.553Z"
   },
   {
    "duration": 44,
    "start_time": "2022-12-07T17:22:40.754Z"
   },
   {
    "duration": 1985,
    "start_time": "2022-12-07T17:22:40.802Z"
   },
   {
    "duration": 5,
    "start_time": "2022-12-07T17:22:42.790Z"
   },
   {
    "duration": 15,
    "start_time": "2022-12-07T17:22:42.797Z"
   },
   {
    "duration": 24,
    "start_time": "2022-12-07T17:22:42.814Z"
   },
   {
    "duration": 21,
    "start_time": "2022-12-07T17:22:42.843Z"
   },
   {
    "duration": 29,
    "start_time": "2022-12-07T17:22:42.867Z"
   },
   {
    "duration": 32,
    "start_time": "2022-12-07T17:22:42.898Z"
   },
   {
    "duration": 5,
    "start_time": "2022-12-07T17:22:42.932Z"
   },
   {
    "duration": 850,
    "start_time": "2022-12-07T17:22:42.938Z"
   },
   {
    "duration": 17,
    "start_time": "2022-12-07T17:22:43.790Z"
   },
   {
    "duration": 5,
    "start_time": "2022-12-07T17:22:43.809Z"
   },
   {
    "duration": 11,
    "start_time": "2022-12-07T17:22:43.815Z"
   },
   {
    "duration": 25,
    "start_time": "2022-12-07T17:22:43.827Z"
   },
   {
    "duration": 9,
    "start_time": "2022-12-07T17:22:43.854Z"
   },
   {
    "duration": 8,
    "start_time": "2022-12-07T17:22:43.864Z"
   },
   {
    "duration": 11,
    "start_time": "2022-12-07T17:24:24.707Z"
   },
   {
    "duration": 10,
    "start_time": "2022-12-07T17:28:10.900Z"
   },
   {
    "duration": 7,
    "start_time": "2022-12-07T17:32:04.779Z"
   },
   {
    "duration": 119,
    "start_time": "2022-12-07T17:32:50.830Z"
   },
   {
    "duration": 108,
    "start_time": "2022-12-07T17:32:55.778Z"
   },
   {
    "duration": 104,
    "start_time": "2022-12-07T17:33:00.852Z"
   },
   {
    "duration": 7,
    "start_time": "2022-12-07T17:33:07.445Z"
   },
   {
    "duration": 16,
    "start_time": "2022-12-07T17:33:23.405Z"
   },
   {
    "duration": 42,
    "start_time": "2022-12-07T17:33:34.008Z"
   },
   {
    "duration": 16,
    "start_time": "2022-12-07T17:33:42.586Z"
   },
   {
    "duration": 20,
    "start_time": "2022-12-07T17:33:48.473Z"
   },
   {
    "duration": 15,
    "start_time": "2022-12-07T17:34:09.625Z"
   },
   {
    "duration": 20,
    "start_time": "2022-12-07T17:34:17.019Z"
   },
   {
    "duration": 19,
    "start_time": "2022-12-07T17:34:42.398Z"
   },
   {
    "duration": 10,
    "start_time": "2022-12-07T17:35:41.333Z"
   },
   {
    "duration": 8,
    "start_time": "2022-12-07T17:35:56.657Z"
   },
   {
    "duration": 8,
    "start_time": "2022-12-07T17:40:51.324Z"
   },
   {
    "duration": 110,
    "start_time": "2022-12-07T17:47:34.206Z"
   },
   {
    "duration": 202,
    "start_time": "2022-12-07T17:47:56.613Z"
   },
   {
    "duration": 89,
    "start_time": "2022-12-07T17:48:21.049Z"
   },
   {
    "duration": 84,
    "start_time": "2022-12-07T17:48:24.476Z"
   },
   {
    "duration": 90,
    "start_time": "2022-12-07T17:48:32.619Z"
   },
   {
    "duration": 92,
    "start_time": "2022-12-07T17:48:40.311Z"
   },
   {
    "duration": 1696,
    "start_time": "2022-12-07T17:48:46.346Z"
   },
   {
    "duration": 80,
    "start_time": "2022-12-07T17:48:48.044Z"
   },
   {
    "duration": 2217,
    "start_time": "2022-12-07T17:48:48.125Z"
   },
   {
    "duration": 4,
    "start_time": "2022-12-07T17:48:50.344Z"
   },
   {
    "duration": 11,
    "start_time": "2022-12-07T17:48:50.351Z"
   },
   {
    "duration": 18,
    "start_time": "2022-12-07T17:48:50.364Z"
   },
   {
    "duration": 6,
    "start_time": "2022-12-07T17:48:50.384Z"
   },
   {
    "duration": 34,
    "start_time": "2022-12-07T17:48:50.392Z"
   },
   {
    "duration": 17,
    "start_time": "2022-12-07T17:48:50.428Z"
   },
   {
    "duration": 3,
    "start_time": "2022-12-07T17:48:50.446Z"
   },
   {
    "duration": 789,
    "start_time": "2022-12-07T17:48:50.451Z"
   },
   {
    "duration": 20,
    "start_time": "2022-12-07T17:48:51.242Z"
   },
   {
    "duration": 5,
    "start_time": "2022-12-07T17:48:51.263Z"
   },
   {
    "duration": 19,
    "start_time": "2022-12-07T17:48:51.271Z"
   },
   {
    "duration": 45,
    "start_time": "2022-12-07T17:48:51.292Z"
   },
   {
    "duration": 11,
    "start_time": "2022-12-07T17:48:51.338Z"
   },
   {
    "duration": 109,
    "start_time": "2022-12-07T17:48:51.351Z"
   },
   {
    "duration": 4,
    "start_time": "2022-12-07T17:50:14.403Z"
   },
   {
    "duration": 1342,
    "start_time": "2022-12-07T17:50:21.574Z"
   },
   {
    "duration": 44,
    "start_time": "2022-12-07T17:50:22.917Z"
   },
   {
    "duration": 2918,
    "start_time": "2022-12-07T17:50:22.963Z"
   },
   {
    "duration": 5,
    "start_time": "2022-12-07T17:50:25.883Z"
   },
   {
    "duration": 11,
    "start_time": "2022-12-07T17:50:25.890Z"
   },
   {
    "duration": 26,
    "start_time": "2022-12-07T17:50:25.903Z"
   },
   {
    "duration": 6,
    "start_time": "2022-12-07T17:50:25.931Z"
   },
   {
    "duration": 20,
    "start_time": "2022-12-07T17:50:25.938Z"
   },
   {
    "duration": 17,
    "start_time": "2022-12-07T17:50:25.959Z"
   },
   {
    "duration": 15,
    "start_time": "2022-12-07T17:50:25.977Z"
   },
   {
    "duration": 878,
    "start_time": "2022-12-07T17:50:25.994Z"
   },
   {
    "duration": 18,
    "start_time": "2022-12-07T17:50:26.873Z"
   },
   {
    "duration": 5,
    "start_time": "2022-12-07T17:50:26.893Z"
   },
   {
    "duration": 16,
    "start_time": "2022-12-07T17:50:26.900Z"
   },
   {
    "duration": 42,
    "start_time": "2022-12-07T17:50:26.920Z"
   },
   {
    "duration": 13,
    "start_time": "2022-12-07T17:50:26.964Z"
   },
   {
    "duration": 132,
    "start_time": "2022-12-07T17:50:26.979Z"
   },
   {
    "duration": 3,
    "start_time": "2022-12-07T17:51:56.372Z"
   },
   {
    "duration": 6,
    "start_time": "2022-12-07T17:52:00.053Z"
   },
   {
    "duration": 6,
    "start_time": "2022-12-07T17:52:05.379Z"
   },
   {
    "duration": 1304,
    "start_time": "2022-12-07T17:54:05.787Z"
   },
   {
    "duration": 39,
    "start_time": "2022-12-07T17:54:07.093Z"
   },
   {
    "duration": 2764,
    "start_time": "2022-12-07T17:54:07.134Z"
   },
   {
    "duration": 5,
    "start_time": "2022-12-07T17:54:09.900Z"
   },
   {
    "duration": 15,
    "start_time": "2022-12-07T17:54:09.906Z"
   },
   {
    "duration": 16,
    "start_time": "2022-12-07T17:54:09.922Z"
   },
   {
    "duration": 7,
    "start_time": "2022-12-07T17:54:09.939Z"
   },
   {
    "duration": 21,
    "start_time": "2022-12-07T17:54:09.948Z"
   },
   {
    "duration": 18,
    "start_time": "2022-12-07T17:54:09.971Z"
   },
   {
    "duration": 4,
    "start_time": "2022-12-07T17:54:10.021Z"
   },
   {
    "duration": 846,
    "start_time": "2022-12-07T17:54:10.026Z"
   },
   {
    "duration": 19,
    "start_time": "2022-12-07T17:54:10.874Z"
   },
   {
    "duration": 4,
    "start_time": "2022-12-07T17:54:10.895Z"
   },
   {
    "duration": 11,
    "start_time": "2022-12-07T17:54:10.901Z"
   },
   {
    "duration": 29,
    "start_time": "2022-12-07T17:54:10.913Z"
   },
   {
    "duration": 10,
    "start_time": "2022-12-07T17:54:10.943Z"
   },
   {
    "duration": 159,
    "start_time": "2022-12-07T17:54:10.954Z"
   },
   {
    "duration": 129,
    "start_time": "2022-12-07T17:54:18.912Z"
   },
   {
    "duration": 112,
    "start_time": "2022-12-07T17:54:24.035Z"
   },
   {
    "duration": 226,
    "start_time": "2022-12-07T17:54:31.640Z"
   },
   {
    "duration": 116,
    "start_time": "2022-12-07T17:55:01.852Z"
   },
   {
    "duration": 125,
    "start_time": "2022-12-07T18:09:24.023Z"
   },
   {
    "duration": 113,
    "start_time": "2022-12-07T18:09:46.669Z"
   },
   {
    "duration": 112,
    "start_time": "2022-12-07T18:10:04.754Z"
   },
   {
    "duration": 221,
    "start_time": "2022-12-07T18:10:19.250Z"
   },
   {
    "duration": 128,
    "start_time": "2022-12-07T18:10:41.456Z"
   },
   {
    "duration": 113,
    "start_time": "2022-12-07T18:11:56.326Z"
   },
   {
    "duration": 43,
    "start_time": "2022-12-07T18:28:44.778Z"
   },
   {
    "duration": 1264,
    "start_time": "2022-12-07T18:28:50.283Z"
   },
   {
    "duration": 41,
    "start_time": "2022-12-07T18:28:51.549Z"
   },
   {
    "duration": 1868,
    "start_time": "2022-12-07T18:28:51.592Z"
   },
   {
    "duration": 5,
    "start_time": "2022-12-07T18:28:53.462Z"
   },
   {
    "duration": 12,
    "start_time": "2022-12-07T18:28:53.468Z"
   },
   {
    "duration": 26,
    "start_time": "2022-12-07T18:28:53.482Z"
   },
   {
    "duration": 11,
    "start_time": "2022-12-07T18:28:53.510Z"
   },
   {
    "duration": 14,
    "start_time": "2022-12-07T18:28:53.523Z"
   },
   {
    "duration": 15,
    "start_time": "2022-12-07T18:28:53.539Z"
   },
   {
    "duration": 3,
    "start_time": "2022-12-07T18:28:53.557Z"
   },
   {
    "duration": 854,
    "start_time": "2022-12-07T18:28:53.562Z"
   },
   {
    "duration": 17,
    "start_time": "2022-12-07T18:28:54.418Z"
   },
   {
    "duration": 4,
    "start_time": "2022-12-07T18:28:54.437Z"
   },
   {
    "duration": 10,
    "start_time": "2022-12-07T18:28:54.443Z"
   },
   {
    "duration": 27,
    "start_time": "2022-12-07T18:28:54.455Z"
   },
   {
    "duration": 9,
    "start_time": "2022-12-07T18:28:54.484Z"
   },
   {
    "duration": 140,
    "start_time": "2022-12-07T18:28:54.494Z"
   },
   {
    "duration": 2,
    "start_time": "2022-12-07T18:28:54.636Z"
   },
   {
    "duration": 108943,
    "start_time": "2022-12-07T18:33:10.143Z"
   },
   {
    "duration": 130807,
    "start_time": "2022-12-07T18:37:16.541Z"
   },
   {
    "duration": 4,
    "start_time": "2022-12-07T18:45:36.754Z"
   },
   {
    "duration": 1701,
    "start_time": "2022-12-07T18:47:31.454Z"
   },
   {
    "duration": 79,
    "start_time": "2022-12-07T18:47:33.156Z"
   },
   {
    "duration": 2124,
    "start_time": "2022-12-07T18:47:33.237Z"
   },
   {
    "duration": 4,
    "start_time": "2022-12-07T18:47:35.363Z"
   },
   {
    "duration": 14,
    "start_time": "2022-12-07T18:47:35.369Z"
   },
   {
    "duration": 41,
    "start_time": "2022-12-07T18:47:35.385Z"
   },
   {
    "duration": 10,
    "start_time": "2022-12-07T18:47:35.427Z"
   },
   {
    "duration": 20,
    "start_time": "2022-12-07T18:47:35.438Z"
   },
   {
    "duration": 17,
    "start_time": "2022-12-07T18:47:35.460Z"
   },
   {
    "duration": 3,
    "start_time": "2022-12-07T18:47:35.479Z"
   },
   {
    "duration": 900,
    "start_time": "2022-12-07T18:47:35.484Z"
   },
   {
    "duration": 18,
    "start_time": "2022-12-07T18:47:36.385Z"
   },
   {
    "duration": 4,
    "start_time": "2022-12-07T18:47:36.405Z"
   },
   {
    "duration": 11,
    "start_time": "2022-12-07T18:47:36.410Z"
   },
   {
    "duration": 26,
    "start_time": "2022-12-07T18:47:36.423Z"
   },
   {
    "duration": 9,
    "start_time": "2022-12-07T18:47:36.450Z"
   },
   {
    "duration": 127,
    "start_time": "2022-12-07T18:47:36.460Z"
   },
   {
    "duration": 131376,
    "start_time": "2022-12-07T18:47:36.589Z"
   },
   {
    "duration": 2507,
    "start_time": "2022-12-07T18:49:47.966Z"
   },
   {
    "duration": 5562,
    "start_time": "2022-12-07T18:53:31.905Z"
   },
   {
    "duration": 5348,
    "start_time": "2022-12-07T18:53:55.660Z"
   },
   {
    "duration": 3109,
    "start_time": "2022-12-07T18:54:05.473Z"
   },
   {
    "duration": 5394,
    "start_time": "2022-12-07T18:54:40.882Z"
   },
   {
    "duration": 4963,
    "start_time": "2022-12-07T18:55:00.842Z"
   },
   {
    "duration": 5282,
    "start_time": "2022-12-07T18:55:29.577Z"
   },
   {
    "duration": 5322,
    "start_time": "2022-12-07T18:55:46.222Z"
   },
   {
    "duration": 5955,
    "start_time": "2022-12-07T18:56:55.617Z"
   },
   {
    "duration": 3371,
    "start_time": "2022-12-07T18:57:17.620Z"
   },
   {
    "duration": 1305,
    "start_time": "2022-12-07T19:10:03.352Z"
   },
   {
    "duration": 41,
    "start_time": "2022-12-07T19:10:04.659Z"
   },
   {
    "duration": 3063,
    "start_time": "2022-12-07T19:10:04.702Z"
   },
   {
    "duration": 56,
    "start_time": "2022-12-07T19:10:07.767Z"
   },
   {
    "duration": 9,
    "start_time": "2022-12-07T19:10:07.825Z"
   },
   {
    "duration": 37,
    "start_time": "2022-12-07T19:10:07.835Z"
   },
   {
    "duration": 49,
    "start_time": "2022-12-07T19:10:07.873Z"
   },
   {
    "duration": 16,
    "start_time": "2022-12-07T19:10:07.924Z"
   },
   {
    "duration": 15,
    "start_time": "2022-12-07T19:10:07.942Z"
   },
   {
    "duration": 3,
    "start_time": "2022-12-07T19:10:07.958Z"
   },
   {
    "duration": 1350,
    "start_time": "2022-12-07T19:10:07.962Z"
   },
   {
    "duration": 19,
    "start_time": "2022-12-07T19:10:09.314Z"
   },
   {
    "duration": 6,
    "start_time": "2022-12-07T19:10:09.334Z"
   },
   {
    "duration": 10,
    "start_time": "2022-12-07T19:10:09.342Z"
   },
   {
    "duration": 27,
    "start_time": "2022-12-07T19:10:09.353Z"
   },
   {
    "duration": 8,
    "start_time": "2022-12-07T19:10:09.382Z"
   },
   {
    "duration": 150,
    "start_time": "2022-12-07T19:10:09.391Z"
   },
   {
    "duration": 5298,
    "start_time": "2022-12-07T19:10:09.543Z"
   },
   {
    "duration": 1993,
    "start_time": "2022-12-07T19:16:56.659Z"
   },
   {
    "duration": 79,
    "start_time": "2022-12-07T19:16:58.653Z"
   },
   {
    "duration": 1840,
    "start_time": "2022-12-07T19:16:58.733Z"
   },
   {
    "duration": 6,
    "start_time": "2022-12-07T19:17:00.574Z"
   },
   {
    "duration": 24,
    "start_time": "2022-12-07T19:17:00.582Z"
   },
   {
    "duration": 40,
    "start_time": "2022-12-07T19:17:00.607Z"
   },
   {
    "duration": 8,
    "start_time": "2022-12-07T19:17:00.649Z"
   },
   {
    "duration": 29,
    "start_time": "2022-12-07T19:17:00.659Z"
   },
   {
    "duration": 27,
    "start_time": "2022-12-07T19:17:00.690Z"
   },
   {
    "duration": 13,
    "start_time": "2022-12-07T19:17:00.718Z"
   },
   {
    "duration": 872,
    "start_time": "2022-12-07T19:17:00.732Z"
   },
   {
    "duration": 19,
    "start_time": "2022-12-07T19:17:01.605Z"
   },
   {
    "duration": 20,
    "start_time": "2022-12-07T19:17:01.625Z"
   },
   {
    "duration": 18,
    "start_time": "2022-12-07T19:17:01.647Z"
   },
   {
    "duration": 31,
    "start_time": "2022-12-07T19:17:01.667Z"
   },
   {
    "duration": 11,
    "start_time": "2022-12-07T19:17:01.699Z"
   },
   {
    "duration": 130,
    "start_time": "2022-12-07T19:17:01.712Z"
   },
   {
    "duration": 4144,
    "start_time": "2022-12-07T19:17:01.844Z"
   },
   {
    "duration": 149790,
    "start_time": "2022-12-07T19:17:05.990Z"
   },
   {
    "duration": 6026,
    "start_time": "2022-12-07T19:19:35.781Z"
   },
   {
    "duration": 12,
    "start_time": "2022-12-07T19:19:41.809Z"
   },
   {
    "duration": 122,
    "start_time": "2022-12-07T19:19:41.823Z"
   },
   {
    "duration": 0,
    "start_time": "2022-12-07T19:19:41.946Z"
   },
   {
    "duration": 220692,
    "start_time": "2022-12-07T19:20:17.498Z"
   },
   {
    "duration": 4,
    "start_time": "2022-12-07T19:23:58.191Z"
   },
   {
    "duration": 12286,
    "start_time": "2022-12-07T19:23:58.197Z"
   },
   {
    "duration": 4,
    "start_time": "2022-12-07T19:24:10.486Z"
   },
   {
    "duration": 51,
    "start_time": "2022-12-07T19:24:10.492Z"
   },
   {
    "duration": 16,
    "start_time": "2022-12-07T19:24:10.544Z"
   },
   {
    "duration": 16433,
    "start_time": "2022-12-07T19:26:13.431Z"
   },
   {
    "duration": 9,
    "start_time": "2022-12-07T19:26:48.812Z"
   },
   {
    "duration": 63,
    "start_time": "2022-12-07T19:34:40.491Z"
   },
   {
    "duration": 44,
    "start_time": "2022-12-07T19:37:26.976Z"
   },
   {
    "duration": 53,
    "start_time": "2022-12-07T19:37:35.550Z"
   },
   {
    "duration": 56,
    "start_time": "2022-12-07T19:37:39.002Z"
   },
   {
    "duration": 9,
    "start_time": "2022-12-07T19:39:25.838Z"
   },
   {
    "duration": 9,
    "start_time": "2022-12-07T19:39:29.765Z"
   },
   {
    "duration": 2187,
    "start_time": "2022-12-07T19:39:42.044Z"
   },
   {
    "duration": 41,
    "start_time": "2022-12-07T19:39:44.233Z"
   },
   {
    "duration": 2110,
    "start_time": "2022-12-07T19:39:44.275Z"
   },
   {
    "duration": 5,
    "start_time": "2022-12-07T19:39:46.388Z"
   },
   {
    "duration": 8,
    "start_time": "2022-12-07T19:39:46.395Z"
   },
   {
    "duration": 29,
    "start_time": "2022-12-07T19:39:46.405Z"
   },
   {
    "duration": 7,
    "start_time": "2022-12-07T19:39:46.436Z"
   },
   {
    "duration": 26,
    "start_time": "2022-12-07T19:39:46.445Z"
   },
   {
    "duration": 17,
    "start_time": "2022-12-07T19:39:46.473Z"
   },
   {
    "duration": 30,
    "start_time": "2022-12-07T19:39:46.492Z"
   },
   {
    "duration": 896,
    "start_time": "2022-12-07T19:39:46.524Z"
   },
   {
    "duration": 19,
    "start_time": "2022-12-07T19:39:47.422Z"
   },
   {
    "duration": 5,
    "start_time": "2022-12-07T19:39:47.443Z"
   },
   {
    "duration": 19,
    "start_time": "2022-12-07T19:39:47.450Z"
   },
   {
    "duration": 32,
    "start_time": "2022-12-07T19:39:47.471Z"
   },
   {
    "duration": 10,
    "start_time": "2022-12-07T19:39:47.521Z"
   },
   {
    "duration": 128,
    "start_time": "2022-12-07T19:39:47.532Z"
   },
   {
    "duration": 3927,
    "start_time": "2022-12-07T19:39:47.661Z"
   },
   {
    "duration": 1399,
    "start_time": "2022-12-07T19:41:22.029Z"
   },
   {
    "duration": 39,
    "start_time": "2022-12-07T19:41:23.430Z"
   },
   {
    "duration": 2141,
    "start_time": "2022-12-07T19:41:23.471Z"
   },
   {
    "duration": 8,
    "start_time": "2022-12-07T19:41:25.615Z"
   },
   {
    "duration": 34,
    "start_time": "2022-12-07T19:41:25.625Z"
   },
   {
    "duration": 31,
    "start_time": "2022-12-07T19:41:25.661Z"
   },
   {
    "duration": 10,
    "start_time": "2022-12-07T19:41:25.694Z"
   },
   {
    "duration": 25,
    "start_time": "2022-12-07T19:41:25.706Z"
   },
   {
    "duration": 21,
    "start_time": "2022-12-07T19:41:25.733Z"
   },
   {
    "duration": 7,
    "start_time": "2022-12-07T19:41:25.757Z"
   },
   {
    "duration": 966,
    "start_time": "2022-12-07T19:41:25.766Z"
   },
   {
    "duration": 18,
    "start_time": "2022-12-07T19:41:26.734Z"
   },
   {
    "duration": 11,
    "start_time": "2022-12-07T19:41:26.754Z"
   },
   {
    "duration": 18,
    "start_time": "2022-12-07T19:41:26.766Z"
   },
   {
    "duration": 36,
    "start_time": "2022-12-07T19:41:26.785Z"
   },
   {
    "duration": 11,
    "start_time": "2022-12-07T19:41:26.822Z"
   },
   {
    "duration": 146,
    "start_time": "2022-12-07T19:41:26.835Z"
   },
   {
    "duration": 18133,
    "start_time": "2022-12-07T19:41:26.983Z"
   },
   {
    "duration": 4920,
    "start_time": "2022-12-07T19:41:45.122Z"
   },
   {
    "duration": 260904,
    "start_time": "2022-12-07T19:41:50.045Z"
   },
   {
    "duration": 43,
    "start_time": "2022-12-07T19:46:10.951Z"
   },
   {
    "duration": 0,
    "start_time": "2022-12-07T19:46:10.996Z"
   },
   {
    "duration": 0,
    "start_time": "2022-12-07T19:46:10.997Z"
   },
   {
    "duration": 0,
    "start_time": "2022-12-07T19:46:10.998Z"
   },
   {
    "duration": 0,
    "start_time": "2022-12-07T19:46:11.000Z"
   },
   {
    "duration": 8,
    "start_time": "2022-12-07T19:47:48.578Z"
   },
   {
    "duration": 2030,
    "start_time": "2022-12-07T19:48:05.673Z"
   },
   {
    "duration": 7,
    "start_time": "2022-12-07T19:48:12.300Z"
   },
   {
    "duration": 8,
    "start_time": "2022-12-07T19:53:47.245Z"
   },
   {
    "duration": 8,
    "start_time": "2022-12-07T19:54:03.621Z"
   },
   {
    "duration": 18322,
    "start_time": "2022-12-07T19:59:02.067Z"
   },
   {
    "duration": 1966,
    "start_time": "2022-12-07T19:59:20.391Z"
   },
   {
    "duration": 227538,
    "start_time": "2022-12-07T19:59:22.359Z"
   },
   {
    "duration": 8,
    "start_time": "2022-12-07T20:03:09.899Z"
   },
   {
    "duration": 122,
    "start_time": "2022-12-07T20:04:04.149Z"
   },
   {
    "duration": 4,
    "start_time": "2022-12-07T20:04:41.451Z"
   },
   {
    "duration": 17,
    "start_time": "2022-12-07T20:04:48.093Z"
   },
   {
    "duration": 7,
    "start_time": "2022-12-07T20:05:16.323Z"
   },
   {
    "duration": 8,
    "start_time": "2022-12-07T20:05:28.441Z"
   },
   {
    "duration": 4,
    "start_time": "2022-12-07T20:05:47.381Z"
   },
   {
    "duration": 9,
    "start_time": "2022-12-07T20:05:47.888Z"
   },
   {
    "duration": 12,
    "start_time": "2022-12-07T20:05:48.453Z"
   },
   {
    "duration": 7959,
    "start_time": "2022-12-07T20:06:51.433Z"
   },
   {
    "duration": 42426,
    "start_time": "2022-12-07T20:09:37.422Z"
   },
   {
    "duration": 7678,
    "start_time": "2022-12-07T20:10:44.191Z"
   },
   {
    "duration": 2065,
    "start_time": "2022-12-07T20:11:22.750Z"
   },
   {
    "duration": 8594,
    "start_time": "2022-12-07T20:12:43.040Z"
   },
   {
    "duration": 361153,
    "start_time": "2022-12-07T20:15:39.055Z"
   },
   {
    "duration": 12,
    "start_time": "2022-12-07T20:21:40.210Z"
   },
   {
    "duration": 84,
    "start_time": "2022-12-08T18:48:46.105Z"
   },
   {
    "duration": 48,
    "start_time": "2022-12-08T18:48:52.183Z"
   },
   {
    "duration": 2400,
    "start_time": "2022-12-08T18:48:57.770Z"
   },
   {
    "duration": 155,
    "start_time": "2022-12-08T18:49:00.173Z"
   },
   {
    "duration": 2286,
    "start_time": "2022-12-08T18:49:00.352Z"
   },
   {
    "duration": 5,
    "start_time": "2022-12-08T18:49:02.640Z"
   },
   {
    "duration": 5,
    "start_time": "2022-12-08T18:49:02.651Z"
   },
   {
    "duration": 19,
    "start_time": "2022-12-08T18:49:02.657Z"
   },
   {
    "duration": 436,
    "start_time": "2022-12-08T18:49:02.678Z"
   },
   {
    "duration": 0,
    "start_time": "2022-12-08T18:49:03.116Z"
   },
   {
    "duration": 0,
    "start_time": "2022-12-08T18:49:03.117Z"
   },
   {
    "duration": 0,
    "start_time": "2022-12-08T18:49:03.118Z"
   },
   {
    "duration": 0,
    "start_time": "2022-12-08T18:49:03.120Z"
   },
   {
    "duration": 0,
    "start_time": "2022-12-08T18:49:03.121Z"
   },
   {
    "duration": 0,
    "start_time": "2022-12-08T18:49:03.122Z"
   },
   {
    "duration": 0,
    "start_time": "2022-12-08T18:49:03.123Z"
   },
   {
    "duration": 0,
    "start_time": "2022-12-08T18:49:03.124Z"
   },
   {
    "duration": 0,
    "start_time": "2022-12-08T18:49:03.126Z"
   },
   {
    "duration": 0,
    "start_time": "2022-12-08T18:49:03.127Z"
   },
   {
    "duration": 0,
    "start_time": "2022-12-08T18:49:03.129Z"
   },
   {
    "duration": 0,
    "start_time": "2022-12-08T18:49:03.129Z"
   },
   {
    "duration": 0,
    "start_time": "2022-12-08T18:49:03.131Z"
   },
   {
    "duration": 0,
    "start_time": "2022-12-08T18:49:03.132Z"
   },
   {
    "duration": 0,
    "start_time": "2022-12-08T18:49:03.133Z"
   },
   {
    "duration": 0,
    "start_time": "2022-12-08T18:49:03.134Z"
   },
   {
    "duration": 6,
    "start_time": "2022-12-08T18:49:16.518Z"
   },
   {
    "duration": 7,
    "start_time": "2022-12-08T18:49:21.076Z"
   },
   {
    "duration": 14,
    "start_time": "2022-12-08T18:49:31.457Z"
   },
   {
    "duration": 6,
    "start_time": "2022-12-08T18:50:08.659Z"
   },
   {
    "duration": 17,
    "start_time": "2022-12-08T18:50:09.811Z"
   },
   {
    "duration": 9,
    "start_time": "2022-12-08T18:50:15.162Z"
   },
   {
    "duration": 14,
    "start_time": "2022-12-08T18:50:16.804Z"
   },
   {
    "duration": 1583,
    "start_time": "2022-12-08T18:50:38.076Z"
   },
   {
    "duration": 49,
    "start_time": "2022-12-08T18:50:39.662Z"
   },
   {
    "duration": 3544,
    "start_time": "2022-12-08T18:50:39.714Z"
   },
   {
    "duration": 7,
    "start_time": "2022-12-08T18:50:43.261Z"
   },
   {
    "duration": 6,
    "start_time": "2022-12-08T18:50:43.270Z"
   },
   {
    "duration": 27,
    "start_time": "2022-12-08T18:50:43.278Z"
   },
   {
    "duration": 4,
    "start_time": "2022-12-08T18:50:43.307Z"
   },
   {
    "duration": 39,
    "start_time": "2022-12-08T18:50:43.313Z"
   },
   {
    "duration": 27,
    "start_time": "2022-12-08T18:50:43.354Z"
   },
   {
    "duration": 29,
    "start_time": "2022-12-08T18:50:43.384Z"
   },
   {
    "duration": 36,
    "start_time": "2022-12-08T18:50:43.415Z"
   },
   {
    "duration": 833,
    "start_time": "2022-12-08T18:50:43.453Z"
   },
   {
    "duration": 21,
    "start_time": "2022-12-08T18:50:44.289Z"
   },
   {
    "duration": 6,
    "start_time": "2022-12-08T18:50:44.313Z"
   },
   {
    "duration": 37,
    "start_time": "2022-12-08T18:50:44.320Z"
   },
   {
    "duration": 159,
    "start_time": "2022-12-08T18:50:44.359Z"
   },
   {
    "duration": 0,
    "start_time": "2022-12-08T18:50:44.520Z"
   },
   {
    "duration": 0,
    "start_time": "2022-12-08T18:50:44.522Z"
   },
   {
    "duration": 0,
    "start_time": "2022-12-08T18:50:44.524Z"
   },
   {
    "duration": 0,
    "start_time": "2022-12-08T18:50:44.525Z"
   },
   {
    "duration": 0,
    "start_time": "2022-12-08T18:50:44.527Z"
   },
   {
    "duration": 0,
    "start_time": "2022-12-08T18:50:44.528Z"
   },
   {
    "duration": 0,
    "start_time": "2022-12-08T18:50:44.530Z"
   },
   {
    "duration": 0,
    "start_time": "2022-12-08T18:50:44.531Z"
   },
   {
    "duration": 8,
    "start_time": "2022-12-08T18:50:52.143Z"
   },
   {
    "duration": 13,
    "start_time": "2022-12-08T18:50:52.444Z"
   },
   {
    "duration": 6,
    "start_time": "2022-12-08T18:50:56.853Z"
   },
   {
    "duration": 13,
    "start_time": "2022-12-08T18:50:57.307Z"
   },
   {
    "duration": 4,
    "start_time": "2022-12-08T18:51:44.950Z"
   },
   {
    "duration": 14,
    "start_time": "2022-12-08T18:51:45.260Z"
   },
   {
    "duration": 15,
    "start_time": "2022-12-08T18:51:54.791Z"
   },
   {
    "duration": 1570,
    "start_time": "2022-12-08T18:52:10.639Z"
   },
   {
    "duration": 53,
    "start_time": "2022-12-08T18:52:12.211Z"
   },
   {
    "duration": 4474,
    "start_time": "2022-12-08T18:52:12.266Z"
   },
   {
    "duration": 8,
    "start_time": "2022-12-08T18:52:16.742Z"
   },
   {
    "duration": 15,
    "start_time": "2022-12-08T18:52:16.757Z"
   },
   {
    "duration": 25,
    "start_time": "2022-12-08T18:52:16.775Z"
   },
   {
    "duration": 5,
    "start_time": "2022-12-08T18:52:16.801Z"
   },
   {
    "duration": 14,
    "start_time": "2022-12-08T18:52:16.808Z"
   },
   {
    "duration": 43,
    "start_time": "2022-12-08T18:52:16.824Z"
   },
   {
    "duration": 20,
    "start_time": "2022-12-08T18:52:16.869Z"
   },
   {
    "duration": 4,
    "start_time": "2022-12-08T18:52:16.891Z"
   },
   {
    "duration": 988,
    "start_time": "2022-12-08T18:52:16.897Z"
   },
   {
    "duration": 21,
    "start_time": "2022-12-08T18:52:17.886Z"
   },
   {
    "duration": 5,
    "start_time": "2022-12-08T18:52:17.910Z"
   },
   {
    "duration": 36,
    "start_time": "2022-12-08T18:52:17.916Z"
   },
   {
    "duration": 30,
    "start_time": "2022-12-08T18:52:17.954Z"
   },
   {
    "duration": 11,
    "start_time": "2022-12-08T18:52:17.986Z"
   },
   {
    "duration": 167,
    "start_time": "2022-12-08T18:52:17.998Z"
   },
   {
    "duration": 21628,
    "start_time": "2022-12-08T18:52:18.167Z"
   },
   {
    "duration": 15206,
    "start_time": "2022-12-08T18:52:39.797Z"
   },
   {
    "duration": 2606,
    "start_time": "2022-12-08T18:53:19.245Z"
   },
   {
    "duration": 45,
    "start_time": "2022-12-08T18:53:21.853Z"
   },
   {
    "duration": 2671,
    "start_time": "2022-12-08T18:53:21.900Z"
   },
   {
    "duration": 6,
    "start_time": "2022-12-08T18:53:24.573Z"
   },
   {
    "duration": 13,
    "start_time": "2022-12-08T18:53:24.581Z"
   },
   {
    "duration": 22,
    "start_time": "2022-12-08T18:53:24.595Z"
   },
   {
    "duration": 5,
    "start_time": "2022-12-08T18:53:24.619Z"
   },
   {
    "duration": 14,
    "start_time": "2022-12-08T18:53:24.652Z"
   },
   {
    "duration": 23,
    "start_time": "2022-12-08T18:53:24.668Z"
   },
   {
    "duration": 20,
    "start_time": "2022-12-08T18:53:24.694Z"
   },
   {
    "duration": 5,
    "start_time": "2022-12-08T18:53:24.752Z"
   },
   {
    "duration": 938,
    "start_time": "2022-12-08T18:53:24.759Z"
   },
   {
    "duration": 22,
    "start_time": "2022-12-08T18:53:25.698Z"
   },
   {
    "duration": 5,
    "start_time": "2022-12-08T18:53:25.722Z"
   },
   {
    "duration": 15,
    "start_time": "2022-12-08T18:53:25.729Z"
   },
   {
    "duration": 34,
    "start_time": "2022-12-08T18:53:25.746Z"
   },
   {
    "duration": 12,
    "start_time": "2022-12-08T18:53:25.782Z"
   },
   {
    "duration": 179,
    "start_time": "2022-12-08T18:53:25.797Z"
   },
   {
    "duration": 22496,
    "start_time": "2022-12-08T18:53:25.978Z"
   },
   {
    "duration": 11046,
    "start_time": "2022-12-08T18:53:48.476Z"
   },
   {
    "duration": 2307,
    "start_time": "2022-12-08T18:57:09.549Z"
   },
   {
    "duration": 49,
    "start_time": "2022-12-08T18:57:11.860Z"
   },
   {
    "duration": 2665,
    "start_time": "2022-12-08T18:57:11.911Z"
   },
   {
    "duration": 6,
    "start_time": "2022-12-08T18:57:14.578Z"
   },
   {
    "duration": 7,
    "start_time": "2022-12-08T18:57:14.587Z"
   },
   {
    "duration": 20,
    "start_time": "2022-12-08T18:57:14.596Z"
   },
   {
    "duration": 39,
    "start_time": "2022-12-08T18:57:14.617Z"
   },
   {
    "duration": 36,
    "start_time": "2022-12-08T18:57:14.660Z"
   },
   {
    "duration": 20,
    "start_time": "2022-12-08T18:57:14.697Z"
   },
   {
    "duration": 6,
    "start_time": "2022-12-08T18:57:14.719Z"
   },
   {
    "duration": 1014,
    "start_time": "2022-12-08T18:57:14.727Z"
   },
   {
    "duration": 27,
    "start_time": "2022-12-08T18:57:15.743Z"
   },
   {
    "duration": 6,
    "start_time": "2022-12-08T18:57:15.772Z"
   },
   {
    "duration": 13,
    "start_time": "2022-12-08T18:57:15.780Z"
   },
   {
    "duration": 33,
    "start_time": "2022-12-08T18:57:15.795Z"
   },
   {
    "duration": 21,
    "start_time": "2022-12-08T18:57:15.850Z"
   },
   {
    "duration": 151,
    "start_time": "2022-12-08T18:57:15.873Z"
   },
   {
    "duration": 22510,
    "start_time": "2022-12-08T18:57:16.025Z"
   },
   {
    "duration": 13935,
    "start_time": "2022-12-08T18:57:38.538Z"
   },
   {
    "duration": 1743,
    "start_time": "2022-12-08T19:00:08.139Z"
   },
   {
    "duration": 46,
    "start_time": "2022-12-08T19:00:09.885Z"
   },
   {
    "duration": 4242,
    "start_time": "2022-12-08T19:00:09.933Z"
   },
   {
    "duration": 8,
    "start_time": "2022-12-08T19:00:14.181Z"
   },
   {
    "duration": 20,
    "start_time": "2022-12-08T19:00:14.191Z"
   },
   {
    "duration": 28,
    "start_time": "2022-12-08T19:00:14.214Z"
   },
   {
    "duration": 5,
    "start_time": "2022-12-08T19:00:14.245Z"
   },
   {
    "duration": 32,
    "start_time": "2022-12-08T19:00:14.252Z"
   },
   {
    "duration": 22,
    "start_time": "2022-12-08T19:00:14.286Z"
   },
   {
    "duration": 6,
    "start_time": "2022-12-08T19:00:14.311Z"
   },
   {
    "duration": 1047,
    "start_time": "2022-12-08T19:00:14.319Z"
   },
   {
    "duration": 35,
    "start_time": "2022-12-08T19:00:15.367Z"
   },
   {
    "duration": 7,
    "start_time": "2022-12-08T19:00:15.405Z"
   },
   {
    "duration": 19,
    "start_time": "2022-12-08T19:00:15.414Z"
   },
   {
    "duration": 52,
    "start_time": "2022-12-08T19:00:15.435Z"
   },
   {
    "duration": 14,
    "start_time": "2022-12-08T19:00:15.489Z"
   },
   {
    "duration": 176,
    "start_time": "2022-12-08T19:00:15.505Z"
   },
   {
    "duration": 151,
    "start_time": "2022-12-08T19:00:15.683Z"
   },
   {
    "duration": 5,
    "start_time": "2022-12-08T19:00:15.837Z"
   },
   {
    "duration": 22,
    "start_time": "2022-12-08T19:00:15.856Z"
   },
   {
    "duration": 9,
    "start_time": "2022-12-08T19:00:15.881Z"
   },
   {
    "duration": 135,
    "start_time": "2022-12-08T19:00:15.892Z"
   },
   {
    "duration": 0,
    "start_time": "2022-12-08T19:00:16.029Z"
   },
   {
    "duration": 0,
    "start_time": "2022-12-08T19:00:16.031Z"
   },
   {
    "duration": 375,
    "start_time": "2022-12-08T19:01:25.129Z"
   },
   {
    "duration": 203,
    "start_time": "2022-12-08T19:01:45.874Z"
   },
   {
    "duration": 71,
    "start_time": "2022-12-08T19:03:38.413Z"
   },
   {
    "duration": 11474,
    "start_time": "2022-12-08T19:03:47.073Z"
   },
   {
    "duration": 11261,
    "start_time": "2022-12-08T19:05:17.136Z"
   },
   {
    "duration": 9606,
    "start_time": "2022-12-08T19:05:40.583Z"
   },
   {
    "duration": 9939,
    "start_time": "2022-12-08T19:06:27.697Z"
   },
   {
    "duration": 9175,
    "start_time": "2022-12-08T19:06:47.369Z"
   },
   {
    "duration": 9207,
    "start_time": "2022-12-08T19:07:08.521Z"
   },
   {
    "duration": 10100,
    "start_time": "2022-12-08T19:07:40.480Z"
   },
   {
    "duration": 6774,
    "start_time": "2022-12-08T19:08:16.429Z"
   },
   {
    "duration": 14351,
    "start_time": "2022-12-08T19:08:43.908Z"
   },
   {
    "duration": 49625,
    "start_time": "2022-12-08T19:09:13.316Z"
   },
   {
    "duration": 2425,
    "start_time": "2022-12-08T19:18:06.432Z"
   },
   {
    "duration": 94,
    "start_time": "2022-12-08T19:18:08.860Z"
   },
   {
    "duration": 2934,
    "start_time": "2022-12-08T19:18:08.957Z"
   },
   {
    "duration": 6,
    "start_time": "2022-12-08T19:18:11.894Z"
   },
   {
    "duration": 16,
    "start_time": "2022-12-08T19:18:11.902Z"
   },
   {
    "duration": 39,
    "start_time": "2022-12-08T19:18:11.921Z"
   },
   {
    "duration": 4,
    "start_time": "2022-12-08T19:18:11.962Z"
   },
   {
    "duration": 31,
    "start_time": "2022-12-08T19:18:11.970Z"
   },
   {
    "duration": 24,
    "start_time": "2022-12-08T19:18:12.003Z"
   },
   {
    "duration": 26,
    "start_time": "2022-12-08T19:18:12.030Z"
   },
   {
    "duration": 989,
    "start_time": "2022-12-08T19:18:12.060Z"
   },
   {
    "duration": 30,
    "start_time": "2022-12-08T19:18:13.050Z"
   },
   {
    "duration": 7,
    "start_time": "2022-12-08T19:18:13.082Z"
   },
   {
    "duration": 16,
    "start_time": "2022-12-08T19:18:13.091Z"
   },
   {
    "duration": 64,
    "start_time": "2022-12-08T19:18:13.109Z"
   },
   {
    "duration": 12,
    "start_time": "2022-12-08T19:18:13.174Z"
   },
   {
    "duration": 171,
    "start_time": "2022-12-08T19:18:13.188Z"
   },
   {
    "duration": 48023,
    "start_time": "2022-12-08T19:18:13.365Z"
   },
   {
    "duration": 214,
    "start_time": "2022-12-08T19:19:01.390Z"
   },
   {
    "duration": 294473,
    "start_time": "2022-12-08T19:19:01.606Z"
   },
   {
    "duration": 12,
    "start_time": "2022-12-08T19:23:56.081Z"
   },
   {
    "duration": 0,
    "start_time": "2022-12-08T19:23:56.095Z"
   },
   {
    "duration": 0,
    "start_time": "2022-12-08T19:23:56.096Z"
   },
   {
    "duration": 0,
    "start_time": "2022-12-08T19:23:56.097Z"
   },
   {
    "duration": 8973,
    "start_time": "2022-12-08T19:24:39.901Z"
   },
   {
    "duration": 10,
    "start_time": "2022-12-08T19:24:54.399Z"
   },
   {
    "duration": 4,
    "start_time": "2022-12-08T19:25:45.963Z"
   },
   {
    "duration": 12,
    "start_time": "2022-12-08T19:25:46.225Z"
   },
   {
    "duration": 11,
    "start_time": "2022-12-08T19:28:26.962Z"
   },
   {
    "duration": 34,
    "start_time": "2022-12-08T19:28:36.492Z"
   },
   {
    "duration": 10564,
    "start_time": "2022-12-08T19:29:17.473Z"
   },
   {
    "duration": 21,
    "start_time": "2022-12-08T19:34:22.303Z"
   },
   {
    "duration": 178,
    "start_time": "2022-12-08T19:51:33.136Z"
   },
   {
    "duration": 399,
    "start_time": "2022-12-08T19:51:49.429Z"
   },
   {
    "duration": 357,
    "start_time": "2022-12-08T19:51:54.857Z"
   },
   {
    "duration": 11226,
    "start_time": "2022-12-08T19:52:09.840Z"
   },
   {
    "duration": 733,
    "start_time": "2022-12-08T19:53:36.030Z"
   },
   {
    "duration": 747,
    "start_time": "2022-12-08T19:53:52.055Z"
   },
   {
    "duration": 807,
    "start_time": "2022-12-08T19:54:30.108Z"
   },
   {
    "duration": 1920,
    "start_time": "2022-12-08T19:54:35.677Z"
   },
   {
    "duration": 1915,
    "start_time": "2022-12-08T19:54:45.259Z"
   },
   {
    "duration": 4,
    "start_time": "2022-12-08T19:55:38.795Z"
   },
   {
    "duration": 32653,
    "start_time": "2022-12-08T19:56:01.144Z"
   },
   {
    "duration": 33087,
    "start_time": "2022-12-08T19:57:26.543Z"
   },
   {
    "duration": 19435,
    "start_time": "2022-12-08T19:58:13.428Z"
   },
   {
    "duration": 10438,
    "start_time": "2022-12-08T19:59:07.657Z"
   },
   {
    "duration": 10538,
    "start_time": "2022-12-08T20:01:47.058Z"
   },
   {
    "duration": 13,
    "start_time": "2022-12-08T20:03:13.217Z"
   },
   {
    "duration": 7380,
    "start_time": "2022-12-08T20:03:21.821Z"
   },
   {
    "duration": 11559,
    "start_time": "2022-12-08T20:03:58.475Z"
   },
   {
    "duration": 7574,
    "start_time": "2022-12-08T20:04:23.635Z"
   },
   {
    "duration": 7269,
    "start_time": "2022-12-08T20:04:48.465Z"
   },
   {
    "duration": 9111,
    "start_time": "2022-12-08T20:05:17.968Z"
   },
   {
    "duration": 9344,
    "start_time": "2022-12-08T20:05:32.270Z"
   },
   {
    "duration": 5427,
    "start_time": "2022-12-08T20:06:24.012Z"
   },
   {
    "duration": 5370,
    "start_time": "2022-12-08T20:07:21.716Z"
   },
   {
    "duration": 73,
    "start_time": "2022-12-08T20:10:29.450Z"
   },
   {
    "duration": 76,
    "start_time": "2022-12-08T20:10:38.474Z"
   },
   {
    "duration": 72,
    "start_time": "2022-12-08T20:10:45.632Z"
   },
   {
    "duration": 5470,
    "start_time": "2022-12-08T20:10:56.682Z"
   },
   {
    "duration": 2630,
    "start_time": "2022-12-08T20:11:28.876Z"
   },
   {
    "duration": 44,
    "start_time": "2022-12-08T20:11:31.508Z"
   },
   {
    "duration": 2225,
    "start_time": "2022-12-08T20:11:31.554Z"
   },
   {
    "duration": 5,
    "start_time": "2022-12-08T20:11:33.781Z"
   },
   {
    "duration": 14,
    "start_time": "2022-12-08T20:11:33.789Z"
   },
   {
    "duration": 27,
    "start_time": "2022-12-08T20:11:33.805Z"
   },
   {
    "duration": 4,
    "start_time": "2022-12-08T20:11:33.834Z"
   },
   {
    "duration": 24,
    "start_time": "2022-12-08T20:11:33.851Z"
   },
   {
    "duration": 27,
    "start_time": "2022-12-08T20:11:33.877Z"
   },
   {
    "duration": 5,
    "start_time": "2022-12-08T20:11:33.906Z"
   },
   {
    "duration": 983,
    "start_time": "2022-12-08T20:11:33.913Z"
   },
   {
    "duration": 28,
    "start_time": "2022-12-08T20:11:34.898Z"
   },
   {
    "duration": 6,
    "start_time": "2022-12-08T20:11:34.928Z"
   },
   {
    "duration": 13,
    "start_time": "2022-12-08T20:11:34.937Z"
   },
   {
    "duration": 36,
    "start_time": "2022-12-08T20:11:34.952Z"
   },
   {
    "duration": 11,
    "start_time": "2022-12-08T20:11:34.990Z"
   },
   {
    "duration": 158,
    "start_time": "2022-12-08T20:11:35.003Z"
   },
   {
    "duration": 47000,
    "start_time": "2022-12-08T20:11:35.163Z"
   },
   {
    "duration": 11016,
    "start_time": "2022-12-08T20:12:22.165Z"
   },
   {
    "duration": 270391,
    "start_time": "2022-12-08T20:12:33.183Z"
   },
   {
    "duration": 8,
    "start_time": "2022-12-08T20:17:03.576Z"
   },
   {
    "duration": 11,
    "start_time": "2022-12-08T20:17:03.586Z"
   },
   {
    "duration": 13,
    "start_time": "2022-12-08T20:17:03.599Z"
   },
   {
    "duration": 54,
    "start_time": "2022-12-08T20:17:03.614Z"
   },
   {
    "duration": 4,
    "start_time": "2022-12-08T20:17:03.669Z"
   },
   {
    "duration": 0,
    "start_time": "2022-12-08T20:17:03.808Z"
   },
   {
    "duration": 92,
    "start_time": "2022-12-08T20:17:58.181Z"
   },
   {
    "duration": 4098,
    "start_time": "2022-12-08T20:19:04.458Z"
   },
   {
    "duration": 29601,
    "start_time": "2022-12-08T20:19:08.558Z"
   },
   {
    "duration": 36640,
    "start_time": "2022-12-08T20:19:38.161Z"
   },
   {
    "duration": 26612,
    "start_time": "2022-12-08T20:20:14.803Z"
   },
   {
    "duration": 4182,
    "start_time": "2022-12-08T20:23:28.405Z"
   },
   {
    "duration": 4276,
    "start_time": "2022-12-08T20:24:49.379Z"
   },
   {
    "duration": 4111,
    "start_time": "2022-12-08T20:25:15.784Z"
   },
   {
    "duration": 26,
    "start_time": "2022-12-08T20:25:33.614Z"
   },
   {
    "duration": 93449,
    "start_time": "2022-12-08T20:25:53.297Z"
   },
   {
    "duration": 4155,
    "start_time": "2022-12-08T20:27:26.751Z"
   },
   {
    "duration": 90,
    "start_time": "2022-12-08T20:29:54.838Z"
   },
   {
    "duration": 105,
    "start_time": "2022-12-08T20:35:43.548Z"
   },
   {
    "duration": 3613,
    "start_time": "2022-12-08T20:35:43.656Z"
   },
   {
    "duration": 63467,
    "start_time": "2022-12-08T20:35:57.786Z"
   },
   {
    "duration": 147382,
    "start_time": "2022-12-08T20:37:15.649Z"
   },
   {
    "duration": 32,
    "start_time": "2022-12-08T20:39:43.033Z"
   },
   {
    "duration": 9,
    "start_time": "2022-12-08T20:40:13.996Z"
   },
   {
    "duration": 7,
    "start_time": "2022-12-08T20:40:44.664Z"
   },
   {
    "duration": 9,
    "start_time": "2022-12-08T20:40:48.762Z"
   },
   {
    "duration": 48797,
    "start_time": "2022-12-08T20:43:28.503Z"
   },
   {
    "duration": 12,
    "start_time": "2022-12-08T20:44:28.503Z"
   },
   {
    "duration": 7,
    "start_time": "2022-12-08T20:48:04.033Z"
   },
   {
    "duration": 9,
    "start_time": "2022-12-08T20:48:24.795Z"
   },
   {
    "duration": 136,
    "start_time": "2022-12-08T20:48:32.913Z"
   },
   {
    "duration": 14763,
    "start_time": "2022-12-08T20:48:40.866Z"
   },
   {
    "duration": 85,
    "start_time": "2022-12-08T20:50:35.233Z"
   },
   {
    "duration": 7,
    "start_time": "2022-12-08T20:51:00.753Z"
   },
   {
    "duration": 15,
    "start_time": "2022-12-08T20:51:08.639Z"
   },
   {
    "duration": 722,
    "start_time": "2022-12-08T20:51:25.729Z"
   },
   {
    "duration": 517,
    "start_time": "2022-12-08T20:56:06.039Z"
   },
   {
    "duration": 468,
    "start_time": "2022-12-08T20:56:08.298Z"
   },
   {
    "duration": 89,
    "start_time": "2022-12-08T20:56:08.864Z"
   },
   {
    "duration": 67,
    "start_time": "2022-12-08T20:56:08.956Z"
   },
   {
    "duration": 42,
    "start_time": "2022-12-08T20:56:09.026Z"
   },
   {
    "duration": 5,
    "start_time": "2022-12-08T20:56:09.069Z"
   },
   {
    "duration": 5278,
    "start_time": "2022-12-08T20:56:09.076Z"
   },
   {
    "duration": 58482,
    "start_time": "2022-12-08T20:56:14.356Z"
   },
   {
    "duration": 120,
    "start_time": "2022-12-08T20:57:12.839Z"
   },
   {
    "duration": 99,
    "start_time": "2022-12-08T20:57:12.963Z"
   },
   {
    "duration": 5,
    "start_time": "2022-12-08T20:57:13.064Z"
   },
   {
    "duration": 43,
    "start_time": "2022-12-08T21:16:34.996Z"
   },
   {
    "duration": 67785,
    "start_time": "2022-12-08T21:16:42.547Z"
   },
   {
    "duration": 5539,
    "start_time": "2022-12-08T21:18:28.093Z"
   },
   {
    "duration": 2401,
    "start_time": "2022-12-08T21:18:45.666Z"
   },
   {
    "duration": 42,
    "start_time": "2022-12-08T21:18:48.070Z"
   },
   {
    "duration": 2777,
    "start_time": "2022-12-08T21:18:48.152Z"
   },
   {
    "duration": 5,
    "start_time": "2022-12-08T21:18:50.931Z"
   },
   {
    "duration": 18,
    "start_time": "2022-12-08T21:18:50.939Z"
   },
   {
    "duration": 26,
    "start_time": "2022-12-08T21:18:50.960Z"
   },
   {
    "duration": 4,
    "start_time": "2022-12-08T21:18:50.988Z"
   },
   {
    "duration": 21,
    "start_time": "2022-12-08T21:18:50.993Z"
   },
   {
    "duration": 50,
    "start_time": "2022-12-08T21:18:51.016Z"
   },
   {
    "duration": 4,
    "start_time": "2022-12-08T21:18:51.068Z"
   },
   {
    "duration": 970,
    "start_time": "2022-12-08T21:18:51.074Z"
   },
   {
    "duration": 28,
    "start_time": "2022-12-08T21:18:52.047Z"
   },
   {
    "duration": 5,
    "start_time": "2022-12-08T21:18:52.077Z"
   },
   {
    "duration": 11,
    "start_time": "2022-12-08T21:18:52.085Z"
   },
   {
    "duration": 58,
    "start_time": "2022-12-08T21:18:52.098Z"
   },
   {
    "duration": 14,
    "start_time": "2022-12-08T21:18:52.158Z"
   },
   {
    "duration": 165,
    "start_time": "2022-12-08T21:18:52.174Z"
   },
   {
    "duration": 13551,
    "start_time": "2022-12-08T21:18:52.341Z"
   },
   {
    "duration": 11521,
    "start_time": "2022-12-08T21:19:05.894Z"
   },
   {
    "duration": 44,
    "start_time": "2022-12-08T21:19:17.417Z"
   },
   {
    "duration": 0,
    "start_time": "2022-12-08T21:19:17.464Z"
   },
   {
    "duration": 0,
    "start_time": "2022-12-08T21:19:17.466Z"
   },
   {
    "duration": 0,
    "start_time": "2022-12-08T21:19:17.468Z"
   },
   {
    "duration": 0,
    "start_time": "2022-12-08T21:19:17.470Z"
   },
   {
    "duration": 0,
    "start_time": "2022-12-08T21:19:17.472Z"
   },
   {
    "duration": 0,
    "start_time": "2022-12-08T21:19:17.474Z"
   },
   {
    "duration": 0,
    "start_time": "2022-12-08T21:19:17.476Z"
   },
   {
    "duration": 0,
    "start_time": "2022-12-08T21:19:17.477Z"
   },
   {
    "duration": 0,
    "start_time": "2022-12-08T21:19:17.479Z"
   },
   {
    "duration": 0,
    "start_time": "2022-12-08T21:19:17.480Z"
   },
   {
    "duration": 65434,
    "start_time": "2022-12-08T21:20:04.321Z"
   },
   {
    "duration": 17,
    "start_time": "2022-12-08T21:21:09.757Z"
   },
   {
    "duration": 486,
    "start_time": "2022-12-08T21:21:09.777Z"
   },
   {
    "duration": 85,
    "start_time": "2022-12-08T21:21:10.267Z"
   },
   {
    "duration": 129,
    "start_time": "2022-12-08T21:21:10.354Z"
   },
   {
    "duration": 158,
    "start_time": "2022-12-08T21:21:10.485Z"
   },
   {
    "duration": 0,
    "start_time": "2022-12-08T21:21:10.645Z"
   },
   {
    "duration": 0,
    "start_time": "2022-12-08T21:21:10.651Z"
   },
   {
    "duration": 0,
    "start_time": "2022-12-08T21:21:10.652Z"
   },
   {
    "duration": 0,
    "start_time": "2022-12-08T21:21:10.654Z"
   },
   {
    "duration": 0,
    "start_time": "2022-12-08T21:21:10.655Z"
   },
   {
    "duration": 64693,
    "start_time": "2022-12-08T21:23:43.625Z"
   },
   {
    "duration": 63237,
    "start_time": "2022-12-08T21:25:57.238Z"
   },
   {
    "duration": 62,
    "start_time": "2022-12-09T06:19:07.797Z"
   },
   {
    "duration": 1672,
    "start_time": "2022-12-09T06:20:27.280Z"
   },
   {
    "duration": 116,
    "start_time": "2022-12-09T06:20:28.953Z"
   },
   {
    "duration": 2121,
    "start_time": "2022-12-09T06:20:29.071Z"
   },
   {
    "duration": 5,
    "start_time": "2022-12-09T06:20:31.194Z"
   },
   {
    "duration": 59,
    "start_time": "2022-12-09T06:20:31.201Z"
   },
   {
    "duration": 37,
    "start_time": "2022-12-09T06:20:31.262Z"
   },
   {
    "duration": 13,
    "start_time": "2022-12-09T06:20:31.301Z"
   },
   {
    "duration": 74,
    "start_time": "2022-12-09T06:20:31.315Z"
   },
   {
    "duration": 17,
    "start_time": "2022-12-09T06:20:31.390Z"
   },
   {
    "duration": 967,
    "start_time": "2022-12-09T06:20:31.409Z"
   },
   {
    "duration": 19,
    "start_time": "2022-12-09T06:20:32.378Z"
   },
   {
    "duration": 4,
    "start_time": "2022-12-09T06:20:32.399Z"
   },
   {
    "duration": 15,
    "start_time": "2022-12-09T06:20:32.404Z"
   },
   {
    "duration": 54,
    "start_time": "2022-12-09T06:20:32.424Z"
   },
   {
    "duration": 9,
    "start_time": "2022-12-09T06:20:32.480Z"
   },
   {
    "duration": 149,
    "start_time": "2022-12-09T06:20:32.492Z"
   },
   {
    "duration": 4,
    "start_time": "2022-12-09T06:20:32.643Z"
   },
   {
    "duration": 12095,
    "start_time": "2022-12-09T06:20:32.649Z"
   },
   {
    "duration": 4,
    "start_time": "2022-12-09T06:20:44.749Z"
   },
   {
    "duration": 9,
    "start_time": "2022-12-09T06:20:44.754Z"
   },
   {
    "duration": 487,
    "start_time": "2022-12-09T06:20:44.765Z"
   },
   {
    "duration": 5,
    "start_time": "2022-12-09T06:20:45.255Z"
   },
   {
    "duration": 25,
    "start_time": "2022-12-09T06:20:45.316Z"
   },
   {
    "duration": 258,
    "start_time": "2022-12-09T06:20:45.343Z"
   },
   {
    "duration": 0,
    "start_time": "2022-12-09T06:20:45.603Z"
   },
   {
    "duration": 0,
    "start_time": "2022-12-09T06:20:45.604Z"
   },
   {
    "duration": 0,
    "start_time": "2022-12-09T06:20:45.605Z"
   },
   {
    "duration": 0,
    "start_time": "2022-12-09T06:20:45.606Z"
   },
   {
    "duration": 0,
    "start_time": "2022-12-09T06:20:45.616Z"
   },
   {
    "duration": 0,
    "start_time": "2022-12-09T06:20:45.617Z"
   },
   {
    "duration": 95,
    "start_time": "2022-12-09T06:21:05.863Z"
   },
   {
    "duration": 14334,
    "start_time": "2022-12-09T06:22:16.943Z"
   },
   {
    "duration": 16498,
    "start_time": "2022-12-09T06:27:06.851Z"
   },
   {
    "duration": 12819,
    "start_time": "2022-12-09T06:27:42.751Z"
   },
   {
    "duration": 383,
    "start_time": "2022-12-09T06:33:10.591Z"
   },
   {
    "duration": 2454,
    "start_time": "2022-12-09T06:33:24.186Z"
   },
   {
    "duration": 85,
    "start_time": "2022-12-09T06:33:26.643Z"
   },
   {
    "duration": 2560,
    "start_time": "2022-12-09T06:33:26.733Z"
   },
   {
    "duration": 6,
    "start_time": "2022-12-09T06:33:29.295Z"
   },
   {
    "duration": 12,
    "start_time": "2022-12-09T06:33:29.302Z"
   },
   {
    "duration": 46,
    "start_time": "2022-12-09T06:33:29.316Z"
   },
   {
    "duration": 4,
    "start_time": "2022-12-09T06:33:29.364Z"
   },
   {
    "duration": 26,
    "start_time": "2022-12-09T06:33:29.370Z"
   },
   {
    "duration": 31,
    "start_time": "2022-12-09T06:33:29.398Z"
   },
   {
    "duration": 976,
    "start_time": "2022-12-09T06:33:29.436Z"
   },
   {
    "duration": 24,
    "start_time": "2022-12-09T06:33:30.414Z"
   },
   {
    "duration": 24,
    "start_time": "2022-12-09T06:33:30.440Z"
   },
   {
    "duration": 30,
    "start_time": "2022-12-09T06:33:30.466Z"
   },
   {
    "duration": 53,
    "start_time": "2022-12-09T06:33:30.498Z"
   },
   {
    "duration": 8,
    "start_time": "2022-12-09T06:33:30.552Z"
   },
   {
    "duration": 140,
    "start_time": "2022-12-09T06:33:30.562Z"
   },
   {
    "duration": 4,
    "start_time": "2022-12-09T06:33:30.704Z"
   },
   {
    "duration": 10335,
    "start_time": "2022-12-09T06:33:30.710Z"
   },
   {
    "duration": 5,
    "start_time": "2022-12-09T06:33:41.047Z"
   },
   {
    "duration": 8,
    "start_time": "2022-12-09T06:33:41.054Z"
   },
   {
    "duration": 266,
    "start_time": "2022-12-09T06:33:41.064Z"
   },
   {
    "duration": 9,
    "start_time": "2022-12-09T06:33:41.332Z"
   },
   {
    "duration": 118,
    "start_time": "2022-12-09T06:33:41.344Z"
   },
   {
    "duration": 8,
    "start_time": "2022-12-09T06:33:41.464Z"
   },
   {
    "duration": 16639,
    "start_time": "2022-12-09T06:33:41.474Z"
   },
   {
    "duration": 7,
    "start_time": "2022-12-09T06:33:58.117Z"
   },
   {
    "duration": 54,
    "start_time": "2022-12-09T06:33:58.126Z"
   },
   {
    "duration": 24,
    "start_time": "2022-12-09T06:33:58.183Z"
   },
   {
    "duration": 212,
    "start_time": "2022-12-09T06:33:58.208Z"
   },
   {
    "duration": 0,
    "start_time": "2022-12-09T06:33:58.422Z"
   },
   {
    "duration": 0,
    "start_time": "2022-12-09T06:33:58.426Z"
   },
   {
    "duration": 0,
    "start_time": "2022-12-09T06:33:58.427Z"
   },
   {
    "duration": 13,
    "start_time": "2022-12-09T06:36:12.615Z"
   },
   {
    "duration": 47,
    "start_time": "2022-12-09T06:36:23.338Z"
   },
   {
    "duration": 12,
    "start_time": "2022-12-09T06:49:52.892Z"
   },
   {
    "duration": 3147,
    "start_time": "2022-12-09T06:53:25.638Z"
   },
   {
    "duration": 36,
    "start_time": "2022-12-09T06:54:45.994Z"
   },
   {
    "duration": 50198,
    "start_time": "2022-12-09T06:54:57.441Z"
   },
   {
    "duration": 3323,
    "start_time": "2022-12-09T06:59:04.644Z"
   },
   {
    "duration": 2909,
    "start_time": "2022-12-09T07:00:35.136Z"
   },
   {
    "duration": 35197,
    "start_time": "2022-12-09T07:00:49.288Z"
   },
   {
    "duration": 2893,
    "start_time": "2022-12-09T07:01:32.568Z"
   },
   {
    "duration": 2913,
    "start_time": "2022-12-09T07:01:47.279Z"
   },
   {
    "duration": 2919,
    "start_time": "2022-12-09T07:02:31.218Z"
   },
   {
    "duration": 45477,
    "start_time": "2022-12-09T07:02:42.534Z"
   },
   {
    "duration": 63,
    "start_time": "2022-12-09T07:04:49.162Z"
   },
   {
    "duration": 23,
    "start_time": "2022-12-09T07:04:55.234Z"
   },
   {
    "duration": 30,
    "start_time": "2022-12-09T07:07:04.026Z"
   },
   {
    "duration": 27,
    "start_time": "2022-12-09T07:07:31.091Z"
   },
   {
    "duration": 121,
    "start_time": "2022-12-09T07:07:55.404Z"
   },
   {
    "duration": 895,
    "start_time": "2022-12-09T07:09:31.095Z"
   },
   {
    "duration": 8,
    "start_time": "2022-12-09T07:09:38.662Z"
   },
   {
    "duration": 7,
    "start_time": "2022-12-09T07:10:07.646Z"
   },
   {
    "duration": 7,
    "start_time": "2022-12-09T07:10:13.493Z"
   },
   {
    "duration": 1468,
    "start_time": "2022-12-09T07:10:26.887Z"
   },
   {
    "duration": 41,
    "start_time": "2022-12-09T07:10:28.357Z"
   },
   {
    "duration": 2222,
    "start_time": "2022-12-09T07:10:28.400Z"
   },
   {
    "duration": 6,
    "start_time": "2022-12-09T07:10:30.626Z"
   },
   {
    "duration": 43,
    "start_time": "2022-12-09T07:10:30.634Z"
   },
   {
    "duration": 79,
    "start_time": "2022-12-09T07:10:30.678Z"
   },
   {
    "duration": 35,
    "start_time": "2022-12-09T07:10:30.760Z"
   },
   {
    "duration": 7,
    "start_time": "2022-12-09T07:10:54.644Z"
   },
   {
    "duration": 1564,
    "start_time": "2022-12-09T07:11:03.647Z"
   },
   {
    "duration": 55,
    "start_time": "2022-12-09T07:11:05.213Z"
   },
   {
    "duration": 2193,
    "start_time": "2022-12-09T07:11:05.270Z"
   },
   {
    "duration": 5,
    "start_time": "2022-12-09T07:11:07.465Z"
   },
   {
    "duration": 8,
    "start_time": "2022-12-09T07:11:07.471Z"
   },
   {
    "duration": 20,
    "start_time": "2022-12-09T07:11:07.480Z"
   },
   {
    "duration": 19,
    "start_time": "2022-12-09T07:11:07.502Z"
   },
   {
    "duration": 129,
    "start_time": "2022-12-09T07:13:39.760Z"
   },
   {
    "duration": 11,
    "start_time": "2022-12-09T07:13:43.751Z"
   },
   {
    "duration": 1514,
    "start_time": "2022-12-09T07:14:36.246Z"
   },
   {
    "duration": 40,
    "start_time": "2022-12-09T07:14:37.762Z"
   },
   {
    "duration": 3623,
    "start_time": "2022-12-09T07:14:37.804Z"
   },
   {
    "duration": 8,
    "start_time": "2022-12-09T07:14:41.429Z"
   },
   {
    "duration": 20,
    "start_time": "2022-12-09T07:14:41.440Z"
   },
   {
    "duration": 20,
    "start_time": "2022-12-09T07:14:41.462Z"
   },
   {
    "duration": 6,
    "start_time": "2022-12-09T07:14:41.484Z"
   },
   {
    "duration": 70,
    "start_time": "2022-12-09T07:14:41.492Z"
   },
   {
    "duration": 19,
    "start_time": "2022-12-09T07:14:41.564Z"
   },
   {
    "duration": 967,
    "start_time": "2022-12-09T07:14:41.585Z"
   },
   {
    "duration": 21,
    "start_time": "2022-12-09T07:14:42.555Z"
   },
   {
    "duration": 5,
    "start_time": "2022-12-09T07:14:42.577Z"
   },
   {
    "duration": 12,
    "start_time": "2022-12-09T07:14:42.584Z"
   },
   {
    "duration": 41,
    "start_time": "2022-12-09T07:14:42.621Z"
   },
   {
    "duration": 9,
    "start_time": "2022-12-09T07:14:42.664Z"
   },
   {
    "duration": 150,
    "start_time": "2022-12-09T07:14:42.674Z"
   },
   {
    "duration": 3140,
    "start_time": "2022-12-09T07:14:42.826Z"
   },
   {
    "duration": 49828,
    "start_time": "2022-12-09T07:14:45.967Z"
   },
   {
    "duration": 42,
    "start_time": "2022-12-09T07:15:35.797Z"
   },
   {
    "duration": 8,
    "start_time": "2022-12-09T07:15:35.841Z"
   },
   {
    "duration": 611,
    "start_time": "2022-12-09T07:15:35.915Z"
   },
   {
    "duration": 16,
    "start_time": "2022-12-09T07:15:36.545Z"
   },
   {
    "duration": 18,
    "start_time": "2022-12-09T07:15:36.621Z"
   },
   {
    "duration": 10,
    "start_time": "2022-12-09T07:15:36.645Z"
   },
   {
    "duration": 14029,
    "start_time": "2022-12-09T07:15:36.656Z"
   },
   {
    "duration": 4,
    "start_time": "2022-12-09T07:15:50.687Z"
   },
   {
    "duration": 38,
    "start_time": "2022-12-09T07:15:50.692Z"
   },
   {
    "duration": 237,
    "start_time": "2022-12-09T07:15:50.732Z"
   },
   {
    "duration": 4,
    "start_time": "2022-12-09T07:15:50.972Z"
   },
   {
    "duration": 12,
    "start_time": "2022-12-09T07:15:50.977Z"
   },
   {
    "duration": 146,
    "start_time": "2022-12-09T07:29:48.382Z"
   },
   {
    "duration": 44,
    "start_time": "2022-12-09T07:30:11.694Z"
   },
   {
    "duration": 23,
    "start_time": "2022-12-09T07:30:47.791Z"
   },
   {
    "duration": 715,
    "start_time": "2022-12-09T07:30:55.631Z"
   },
   {
    "duration": 42,
    "start_time": "2022-12-09T07:30:58.839Z"
   },
   {
    "duration": 22,
    "start_time": "2022-12-09T07:31:04.351Z"
   },
   {
    "duration": 2732,
    "start_time": "2022-12-09T07:31:13.143Z"
   },
   {
    "duration": 75,
    "start_time": "2022-12-09T07:31:15.921Z"
   },
   {
    "duration": 2413,
    "start_time": "2022-12-09T07:31:15.998Z"
   },
   {
    "duration": 12,
    "start_time": "2022-12-09T07:31:18.413Z"
   },
   {
    "duration": 42,
    "start_time": "2022-12-09T07:31:18.428Z"
   },
   {
    "duration": 24,
    "start_time": "2022-12-09T07:31:18.471Z"
   },
   {
    "duration": 6,
    "start_time": "2022-12-09T07:31:18.496Z"
   },
   {
    "duration": 29,
    "start_time": "2022-12-09T07:31:18.504Z"
   },
   {
    "duration": 53,
    "start_time": "2022-12-09T07:31:18.534Z"
   },
   {
    "duration": 982,
    "start_time": "2022-12-09T07:31:18.588Z"
   },
   {
    "duration": 21,
    "start_time": "2022-12-09T07:31:19.571Z"
   },
   {
    "duration": 5,
    "start_time": "2022-12-09T07:31:19.593Z"
   },
   {
    "duration": 39,
    "start_time": "2022-12-09T07:31:19.628Z"
   },
   {
    "duration": 38,
    "start_time": "2022-12-09T07:31:19.670Z"
   },
   {
    "duration": 15,
    "start_time": "2022-12-09T07:31:19.709Z"
   },
   {
    "duration": 175,
    "start_time": "2022-12-09T07:31:19.725Z"
   },
   {
    "duration": 3279,
    "start_time": "2022-12-09T07:31:19.902Z"
   },
   {
    "duration": 53342,
    "start_time": "2022-12-09T07:31:23.182Z"
   },
   {
    "duration": 85,
    "start_time": "2022-12-09T07:32:16.536Z"
   },
   {
    "duration": 147,
    "start_time": "2022-12-09T07:32:16.629Z"
   },
   {
    "duration": 55,
    "start_time": "2022-12-09T07:32:16.782Z"
   },
   {
    "duration": 338,
    "start_time": "2022-12-09T07:32:16.848Z"
   },
   {
    "duration": 4,
    "start_time": "2022-12-09T07:32:17.188Z"
   },
   {
    "duration": 15,
    "start_time": "2022-12-09T07:32:17.194Z"
   },
   {
    "duration": 28,
    "start_time": "2022-12-09T07:32:17.211Z"
   },
   {
    "duration": 160,
    "start_time": "2022-12-09T07:32:17.244Z"
   },
   {
    "duration": 5,
    "start_time": "2022-12-09T07:32:17.406Z"
   },
   {
    "duration": 131,
    "start_time": "2022-12-09T07:32:17.413Z"
   },
   {
    "duration": 155,
    "start_time": "2022-12-09T07:32:17.552Z"
   },
   {
    "duration": 4,
    "start_time": "2022-12-09T07:32:17.709Z"
   },
   {
    "duration": 71,
    "start_time": "2022-12-09T07:32:17.718Z"
   },
   {
    "duration": 15,
    "start_time": "2022-12-09T07:34:12.343Z"
   },
   {
    "duration": 9,
    "start_time": "2022-12-09T07:34:41.607Z"
   },
   {
    "duration": 4,
    "start_time": "2022-12-09T07:35:05.711Z"
   },
   {
    "duration": 49,
    "start_time": "2022-12-09T07:35:40.071Z"
   },
   {
    "duration": 30,
    "start_time": "2022-12-09T07:35:40.452Z"
   },
   {
    "duration": 40,
    "start_time": "2022-12-09T07:35:41.140Z"
   },
   {
    "duration": 131,
    "start_time": "2022-12-09T07:36:26.298Z"
   },
   {
    "duration": 34,
    "start_time": "2022-12-09T07:37:01.335Z"
   },
   {
    "duration": 28,
    "start_time": "2022-12-09T07:37:24.397Z"
   },
   {
    "duration": 61,
    "start_time": "2022-12-09T07:38:05.844Z"
   },
   {
    "duration": 32,
    "start_time": "2022-12-09T07:38:10.642Z"
   },
   {
    "duration": 8,
    "start_time": "2022-12-09T07:38:30.645Z"
   },
   {
    "duration": 21,
    "start_time": "2022-12-09T07:38:37.143Z"
   },
   {
    "duration": 12,
    "start_time": "2022-12-09T07:39:01.059Z"
   },
   {
    "duration": 16,
    "start_time": "2022-12-09T07:39:31.647Z"
   },
   {
    "duration": 131,
    "start_time": "2022-12-09T07:42:41.714Z"
   },
   {
    "duration": 217,
    "start_time": "2022-12-09T07:43:09.379Z"
   },
   {
    "duration": 59,
    "start_time": "2022-12-09T07:43:14.060Z"
   },
   {
    "duration": 3055,
    "start_time": "2022-12-09T07:43:40.178Z"
   },
   {
    "duration": 114,
    "start_time": "2022-12-09T07:43:43.235Z"
   },
   {
    "duration": 3796,
    "start_time": "2022-12-09T07:43:43.352Z"
   },
   {
    "duration": 8,
    "start_time": "2022-12-09T07:43:47.150Z"
   },
   {
    "duration": 27,
    "start_time": "2022-12-09T07:43:47.159Z"
   },
   {
    "duration": 18,
    "start_time": "2022-12-09T07:43:47.188Z"
   },
   {
    "duration": 6,
    "start_time": "2022-12-09T07:43:47.208Z"
   },
   {
    "duration": 66,
    "start_time": "2022-12-09T07:43:47.216Z"
   },
   {
    "duration": 19,
    "start_time": "2022-12-09T07:43:47.283Z"
   },
   {
    "duration": 1024,
    "start_time": "2022-12-09T07:43:47.304Z"
   },
   {
    "duration": 26,
    "start_time": "2022-12-09T07:43:48.330Z"
   },
   {
    "duration": 32,
    "start_time": "2022-12-09T07:43:48.358Z"
   },
   {
    "duration": 14,
    "start_time": "2022-12-09T07:43:48.393Z"
   },
   {
    "duration": 78,
    "start_time": "2022-12-09T07:43:48.408Z"
   },
   {
    "duration": 20,
    "start_time": "2022-12-09T07:43:48.488Z"
   },
   {
    "duration": 217,
    "start_time": "2022-12-09T07:43:48.510Z"
   },
   {
    "duration": 3483,
    "start_time": "2022-12-09T07:43:48.729Z"
   },
   {
    "duration": 55026,
    "start_time": "2022-12-09T07:43:52.216Z"
   },
   {
    "duration": 118,
    "start_time": "2022-12-09T07:44:47.249Z"
   },
   {
    "duration": 62,
    "start_time": "2022-12-09T07:44:47.419Z"
   },
   {
    "duration": 136,
    "start_time": "2022-12-09T07:44:47.483Z"
   },
   {
    "duration": 15,
    "start_time": "2022-12-09T07:44:47.624Z"
   },
   {
    "duration": 46,
    "start_time": "2022-12-09T07:44:47.643Z"
   },
   {
    "duration": 5,
    "start_time": "2022-12-09T07:44:47.691Z"
   },
   {
    "duration": 289,
    "start_time": "2022-12-09T07:44:47.698Z"
   },
   {
    "duration": 100,
    "start_time": "2022-12-09T07:44:47.989Z"
   },
   {
    "duration": 6,
    "start_time": "2022-12-09T07:44:48.091Z"
   },
   {
    "duration": 9,
    "start_time": "2022-12-09T07:44:48.100Z"
   },
   {
    "duration": 11,
    "start_time": "2022-12-09T07:44:48.110Z"
   },
   {
    "duration": 31,
    "start_time": "2022-12-09T07:46:05.543Z"
   },
   {
    "duration": 3401,
    "start_time": "2022-12-09T07:47:34.090Z"
   },
   {
    "duration": 3376,
    "start_time": "2022-12-09T07:47:43.082Z"
   },
   {
    "duration": 90,
    "start_time": "2022-12-09T07:51:10.877Z"
   },
   {
    "duration": 73,
    "start_time": "2022-12-09T07:51:18.347Z"
   },
   {
    "duration": 101,
    "start_time": "2022-12-09T07:51:27.272Z"
   },
   {
    "duration": 102,
    "start_time": "2022-12-09T07:51:36.073Z"
   },
   {
    "duration": 3562,
    "start_time": "2022-12-09T07:51:50.732Z"
   },
   {
    "duration": 3500,
    "start_time": "2022-12-09T07:52:28.064Z"
   },
   {
    "duration": 3526,
    "start_time": "2022-12-09T07:52:37.956Z"
   },
   {
    "duration": 3723,
    "start_time": "2022-12-09T07:52:53.257Z"
   },
   {
    "duration": 3525,
    "start_time": "2022-12-09T07:53:23.747Z"
   },
   {
    "duration": 3526,
    "start_time": "2022-12-09T07:53:40.164Z"
   },
   {
    "duration": 3613,
    "start_time": "2022-12-09T07:54:21.275Z"
   },
   {
    "duration": 20,
    "start_time": "2022-12-09T07:55:57.085Z"
   },
   {
    "duration": 14,
    "start_time": "2022-12-09T07:55:57.868Z"
   },
   {
    "duration": 17,
    "start_time": "2022-12-09T07:56:13.115Z"
   },
   {
    "duration": 3574,
    "start_time": "2022-12-09T07:56:17.161Z"
   },
   {
    "duration": 4185,
    "start_time": "2022-12-09T07:56:35.245Z"
   },
   {
    "duration": 9,
    "start_time": "2022-12-09T07:56:43.464Z"
   },
   {
    "duration": 53,
    "start_time": "2022-12-09T07:57:10.259Z"
   },
   {
    "duration": 18,
    "start_time": "2022-12-09T07:57:19.264Z"
   },
   {
    "duration": 4150,
    "start_time": "2022-12-09T07:57:42.273Z"
   },
   {
    "duration": 12,
    "start_time": "2022-12-09T07:57:55.475Z"
   },
   {
    "duration": 52024,
    "start_time": "2022-12-09T08:00:19.090Z"
   },
   {
    "duration": 24,
    "start_time": "2022-12-09T08:01:11.123Z"
   },
   {
    "duration": 37,
    "start_time": "2022-12-09T08:02:19.166Z"
   },
   {
    "duration": 18,
    "start_time": "2022-12-09T08:02:28.060Z"
   },
   {
    "duration": 1821,
    "start_time": "2022-12-09T08:03:01.776Z"
   },
   {
    "duration": 65,
    "start_time": "2022-12-09T08:03:03.599Z"
   },
   {
    "duration": 2406,
    "start_time": "2022-12-09T08:03:03.667Z"
   },
   {
    "duration": 11,
    "start_time": "2022-12-09T08:03:06.075Z"
   },
   {
    "duration": 16,
    "start_time": "2022-12-09T08:03:06.088Z"
   },
   {
    "duration": 55,
    "start_time": "2022-12-09T08:03:06.106Z"
   },
   {
    "duration": 29,
    "start_time": "2022-12-09T08:03:06.168Z"
   },
   {
    "duration": 26,
    "start_time": "2022-12-09T08:03:06.199Z"
   },
   {
    "duration": 114,
    "start_time": "2022-12-09T08:03:06.227Z"
   },
   {
    "duration": 1094,
    "start_time": "2022-12-09T08:03:06.345Z"
   },
   {
    "duration": 36,
    "start_time": "2022-12-09T08:03:07.442Z"
   },
   {
    "duration": 10,
    "start_time": "2022-12-09T08:03:07.480Z"
   },
   {
    "duration": 29,
    "start_time": "2022-12-09T08:03:07.492Z"
   },
   {
    "duration": 89,
    "start_time": "2022-12-09T08:03:07.523Z"
   },
   {
    "duration": 21,
    "start_time": "2022-12-09T08:03:07.614Z"
   },
   {
    "duration": 245,
    "start_time": "2022-12-09T08:03:07.637Z"
   },
   {
    "duration": 3666,
    "start_time": "2022-12-09T08:03:07.884Z"
   },
   {
    "duration": 59669,
    "start_time": "2022-12-09T08:03:11.559Z"
   },
   {
    "duration": 88,
    "start_time": "2022-12-09T08:04:11.233Z"
   },
   {
    "duration": 269,
    "start_time": "2022-12-09T08:04:11.330Z"
   },
   {
    "duration": 0,
    "start_time": "2022-12-09T08:04:11.601Z"
   },
   {
    "duration": 0,
    "start_time": "2022-12-09T08:04:11.602Z"
   },
   {
    "duration": 0,
    "start_time": "2022-12-09T08:04:11.606Z"
   },
   {
    "duration": 0,
    "start_time": "2022-12-09T08:04:11.608Z"
   },
   {
    "duration": 0,
    "start_time": "2022-12-09T08:04:11.610Z"
   },
   {
    "duration": 0,
    "start_time": "2022-12-09T08:04:11.611Z"
   },
   {
    "duration": 0,
    "start_time": "2022-12-09T08:04:11.613Z"
   },
   {
    "duration": 0,
    "start_time": "2022-12-09T08:04:11.613Z"
   },
   {
    "duration": 0,
    "start_time": "2022-12-09T08:04:11.615Z"
   },
   {
    "duration": 18,
    "start_time": "2022-12-09T08:05:20.758Z"
   },
   {
    "duration": 216,
    "start_time": "2022-12-09T08:05:23.179Z"
   },
   {
    "duration": 56,
    "start_time": "2022-12-09T08:05:39.685Z"
   },
   {
    "duration": 17,
    "start_time": "2022-12-09T08:05:50.044Z"
   },
   {
    "duration": 11,
    "start_time": "2022-12-09T08:05:50.401Z"
   },
   {
    "duration": 4,
    "start_time": "2022-12-09T08:05:51.199Z"
   },
   {
    "duration": 66768,
    "start_time": "2022-12-09T08:06:27.963Z"
   },
   {
    "duration": 92,
    "start_time": "2022-12-09T08:07:34.742Z"
   },
   {
    "duration": 115,
    "start_time": "2022-12-09T08:07:34.843Z"
   },
   {
    "duration": 5428,
    "start_time": "2022-12-09T08:08:56.456Z"
   },
   {
    "duration": 5797,
    "start_time": "2022-12-09T08:09:55.380Z"
   },
   {
    "duration": 5339,
    "start_time": "2022-12-09T08:10:25.191Z"
   },
   {
    "duration": 2125,
    "start_time": "2022-12-09T08:11:15.781Z"
   },
   {
    "duration": 66,
    "start_time": "2022-12-09T08:11:17.909Z"
   },
   {
    "duration": 3052,
    "start_time": "2022-12-09T08:11:17.982Z"
   },
   {
    "duration": 13,
    "start_time": "2022-12-09T08:11:21.036Z"
   },
   {
    "duration": 33,
    "start_time": "2022-12-09T08:11:21.052Z"
   },
   {
    "duration": 17,
    "start_time": "2022-12-09T08:11:21.087Z"
   },
   {
    "duration": 7,
    "start_time": "2022-12-09T08:11:21.106Z"
   },
   {
    "duration": 90,
    "start_time": "2022-12-09T08:11:21.115Z"
   },
   {
    "duration": 63,
    "start_time": "2022-12-09T08:11:21.207Z"
   },
   {
    "duration": 1122,
    "start_time": "2022-12-09T08:11:21.275Z"
   },
   {
    "duration": 41,
    "start_time": "2022-12-09T08:11:22.399Z"
   },
   {
    "duration": 58,
    "start_time": "2022-12-09T08:11:22.443Z"
   },
   {
    "duration": 14,
    "start_time": "2022-12-09T08:11:22.503Z"
   },
   {
    "duration": 124,
    "start_time": "2022-12-09T08:11:22.526Z"
   },
   {
    "duration": 16,
    "start_time": "2022-12-09T08:11:22.652Z"
   },
   {
    "duration": 201,
    "start_time": "2022-12-09T08:11:22.670Z"
   },
   {
    "duration": 4327,
    "start_time": "2022-12-09T08:11:22.873Z"
   },
   {
    "duration": 69454,
    "start_time": "2022-12-09T08:11:27.202Z"
   },
   {
    "duration": 105,
    "start_time": "2022-12-09T08:12:36.657Z"
   },
   {
    "duration": 92,
    "start_time": "2022-12-09T08:12:36.764Z"
   },
   {
    "duration": 175,
    "start_time": "2022-12-09T08:12:36.862Z"
   },
   {
    "duration": 29,
    "start_time": "2022-12-09T08:12:37.053Z"
   },
   {
    "duration": 128,
    "start_time": "2022-12-09T08:12:37.099Z"
   },
   {
    "duration": 86,
    "start_time": "2022-12-09T08:12:37.237Z"
   },
   {
    "duration": 5260,
    "start_time": "2022-12-09T08:12:37.325Z"
   },
   {
    "duration": 69,
    "start_time": "2022-12-09T08:12:42.591Z"
   },
   {
    "duration": 24,
    "start_time": "2022-12-09T08:12:42.662Z"
   },
   {
    "duration": 19,
    "start_time": "2022-12-09T08:12:42.691Z"
   },
   {
    "duration": 58,
    "start_time": "2022-12-09T08:12:42.712Z"
   },
   {
    "duration": 63,
    "start_time": "2022-12-09T08:18:22.010Z"
   },
   {
    "duration": 4852,
    "start_time": "2022-12-09T08:22:25.456Z"
   },
   {
    "duration": 4729,
    "start_time": "2022-12-09T08:22:52.531Z"
   },
   {
    "duration": 78,
    "start_time": "2022-12-09T08:25:12.942Z"
   },
   {
    "duration": 4591,
    "start_time": "2022-12-09T08:29:28.563Z"
   },
   {
    "duration": 4690,
    "start_time": "2022-12-09T08:29:59.691Z"
   },
   {
    "duration": 10,
    "start_time": "2022-12-09T08:30:59.566Z"
   },
   {
    "duration": 14,
    "start_time": "2022-12-09T08:31:10.072Z"
   },
   {
    "duration": 2394,
    "start_time": "2022-12-09T08:32:32.180Z"
   },
   {
    "duration": 4794,
    "start_time": "2022-12-09T08:32:41.343Z"
   },
   {
    "duration": 77426,
    "start_time": "2022-12-09T08:36:40.383Z"
   },
   {
    "duration": 9,
    "start_time": "2022-12-09T08:38:33.776Z"
   },
   {
    "duration": 3760,
    "start_time": "2022-12-09T08:40:51.009Z"
   },
   {
    "duration": 52,
    "start_time": "2022-12-09T08:48:12.785Z"
   },
   {
    "duration": 13,
    "start_time": "2022-12-09T08:49:21.946Z"
   },
   {
    "duration": 147,
    "start_time": "2022-12-09T08:50:23.347Z"
   },
   {
    "duration": 70269,
    "start_time": "2022-12-09T08:50:34.444Z"
   },
   {
    "duration": 14,
    "start_time": "2022-12-09T08:51:44.719Z"
   },
   {
    "duration": 24,
    "start_time": "2022-12-09T08:52:02.784Z"
   },
   {
    "duration": 238632,
    "start_time": "2022-12-09T08:52:22.360Z"
   },
   {
    "duration": 148643,
    "start_time": "2022-12-09T08:56:24.035Z"
   },
   {
    "duration": 10,
    "start_time": "2022-12-09T08:58:52.680Z"
   },
   {
    "duration": 47,
    "start_time": "2022-12-09T08:58:52.692Z"
   },
   {
    "duration": 881,
    "start_time": "2022-12-09T09:12:33.666Z"
   },
   {
    "duration": 89,
    "start_time": "2022-12-09T09:14:26.842Z"
   },
   {
    "duration": 881,
    "start_time": "2022-12-09T09:14:39.676Z"
   },
   {
    "duration": 922,
    "start_time": "2022-12-09T09:14:54.443Z"
   },
   {
    "duration": 927,
    "start_time": "2022-12-09T09:15:29.860Z"
   },
   {
    "duration": 839,
    "start_time": "2022-12-09T09:15:37.759Z"
   },
   {
    "duration": 920,
    "start_time": "2022-12-09T09:15:55.269Z"
   },
   {
    "duration": 900,
    "start_time": "2022-12-09T09:16:01.109Z"
   },
   {
    "duration": 901,
    "start_time": "2022-12-09T09:16:07.996Z"
   },
   {
    "duration": 1030,
    "start_time": "2022-12-09T09:16:17.150Z"
   },
   {
    "duration": 874,
    "start_time": "2022-12-09T09:16:23.646Z"
   },
   {
    "duration": 903,
    "start_time": "2022-12-09T09:16:29.270Z"
   },
   {
    "duration": 902,
    "start_time": "2022-12-09T09:16:34.366Z"
   },
   {
    "duration": 31,
    "start_time": "2022-12-09T09:19:40.984Z"
   },
   {
    "duration": 1533,
    "start_time": "2022-12-09T09:22:07.343Z"
   },
   {
    "duration": 52,
    "start_time": "2022-12-09T09:22:08.877Z"
   },
   {
    "duration": 2127,
    "start_time": "2022-12-09T09:22:08.938Z"
   },
   {
    "duration": 6,
    "start_time": "2022-12-09T09:22:11.067Z"
   },
   {
    "duration": 7,
    "start_time": "2022-12-09T09:22:11.074Z"
   },
   {
    "duration": 17,
    "start_time": "2022-12-09T09:22:11.083Z"
   },
   {
    "duration": 20,
    "start_time": "2022-12-09T09:22:11.101Z"
   },
   {
    "duration": 41,
    "start_time": "2022-12-09T09:22:11.122Z"
   },
   {
    "duration": 17,
    "start_time": "2022-12-09T09:22:11.165Z"
   },
   {
    "duration": 969,
    "start_time": "2022-12-09T09:22:11.184Z"
   },
   {
    "duration": 25,
    "start_time": "2022-12-09T09:22:12.160Z"
   },
   {
    "duration": 6,
    "start_time": "2022-12-09T09:22:12.187Z"
   },
   {
    "duration": 43,
    "start_time": "2022-12-09T09:22:12.195Z"
   },
   {
    "duration": 10,
    "start_time": "2022-12-09T09:22:12.240Z"
   },
   {
    "duration": 38,
    "start_time": "2022-12-09T09:22:12.252Z"
   },
   {
    "duration": 166,
    "start_time": "2022-12-09T09:22:12.292Z"
   },
   {
    "duration": 3337,
    "start_time": "2022-12-09T09:22:12.460Z"
   },
   {
    "duration": 53688,
    "start_time": "2022-12-09T09:22:15.799Z"
   },
   {
    "duration": 34,
    "start_time": "2022-12-09T09:23:09.489Z"
   },
   {
    "duration": 124,
    "start_time": "2022-12-09T09:23:09.525Z"
   },
   {
    "duration": 81,
    "start_time": "2022-12-09T09:23:09.660Z"
   },
   {
    "duration": 107,
    "start_time": "2022-12-09T09:23:09.745Z"
   },
   {
    "duration": 4540,
    "start_time": "2022-12-09T09:23:09.856Z"
   },
   {
    "duration": 138637,
    "start_time": "2022-12-09T09:23:14.398Z"
   },
   {
    "duration": 85,
    "start_time": "2022-12-09T09:25:33.037Z"
   },
   {
    "duration": 90,
    "start_time": "2022-12-09T09:25:33.129Z"
   },
   {
    "duration": 41,
    "start_time": "2022-12-09T09:25:33.230Z"
   },
   {
    "duration": 5,
    "start_time": "2022-12-09T09:25:33.274Z"
   },
   {
    "duration": 15,
    "start_time": "2022-12-09T09:25:33.280Z"
   },
   {
    "duration": 33,
    "start_time": "2022-12-09T09:27:38.766Z"
   },
   {
    "duration": 1648,
    "start_time": "2022-12-09T09:27:48.566Z"
   },
   {
    "duration": 74,
    "start_time": "2022-12-09T09:27:50.217Z"
   },
   {
    "duration": 2273,
    "start_time": "2022-12-09T09:27:50.293Z"
   },
   {
    "duration": 7,
    "start_time": "2022-12-09T09:27:52.569Z"
   },
   {
    "duration": 13,
    "start_time": "2022-12-09T09:27:52.579Z"
   },
   {
    "duration": 41,
    "start_time": "2022-12-09T09:27:52.594Z"
   },
   {
    "duration": 26,
    "start_time": "2022-12-09T09:27:52.636Z"
   },
   {
    "duration": 19,
    "start_time": "2022-12-09T09:27:52.663Z"
   },
   {
    "duration": 17,
    "start_time": "2022-12-09T09:27:52.683Z"
   },
   {
    "duration": 887,
    "start_time": "2022-12-09T09:27:52.702Z"
   },
   {
    "duration": 18,
    "start_time": "2022-12-09T09:27:53.591Z"
   },
   {
    "duration": 9,
    "start_time": "2022-12-09T09:27:53.611Z"
   },
   {
    "duration": 43,
    "start_time": "2022-12-09T09:27:53.621Z"
   },
   {
    "duration": 40,
    "start_time": "2022-12-09T09:27:53.665Z"
   },
   {
    "duration": 15,
    "start_time": "2022-12-09T09:27:53.707Z"
   },
   {
    "duration": 182,
    "start_time": "2022-12-09T09:27:53.724Z"
   },
   {
    "duration": 3547,
    "start_time": "2022-12-09T09:27:53.908Z"
   },
   {
    "duration": 53299,
    "start_time": "2022-12-09T09:27:57.456Z"
   },
   {
    "duration": 68,
    "start_time": "2022-12-09T09:28:50.759Z"
   },
   {
    "duration": 125,
    "start_time": "2022-12-09T09:28:50.829Z"
   },
   {
    "duration": 64,
    "start_time": "2022-12-09T09:28:50.955Z"
   },
   {
    "duration": 120,
    "start_time": "2022-12-09T09:28:51.022Z"
   },
   {
    "duration": 4643,
    "start_time": "2022-12-09T09:28:51.146Z"
   },
   {
    "duration": 141340,
    "start_time": "2022-12-09T09:28:55.791Z"
   },
   {
    "duration": 106,
    "start_time": "2022-12-09T09:31:17.133Z"
   },
   {
    "duration": 94,
    "start_time": "2022-12-09T09:31:17.244Z"
   },
   {
    "duration": 122,
    "start_time": "2022-12-09T09:31:17.348Z"
   },
   {
    "duration": 5,
    "start_time": "2022-12-09T09:31:17.474Z"
   },
   {
    "duration": 7,
    "start_time": "2022-12-09T09:31:17.480Z"
   },
   {
    "duration": 4146,
    "start_time": "2022-12-09T09:43:50.988Z"
   },
   {
    "duration": 23,
    "start_time": "2022-12-09T09:47:21.435Z"
   },
   {
    "duration": 60,
    "start_time": "2022-12-09T09:48:25.361Z"
   },
   {
    "duration": 39,
    "start_time": "2022-12-09T09:49:00.001Z"
   },
   {
    "duration": 27,
    "start_time": "2022-12-09T09:58:11.100Z"
   },
   {
    "duration": 9,
    "start_time": "2022-12-09T09:59:21.863Z"
   },
   {
    "duration": 1670,
    "start_time": "2022-12-09T09:59:41.667Z"
   },
   {
    "duration": 43,
    "start_time": "2022-12-09T09:59:43.340Z"
   },
   {
    "duration": 2127,
    "start_time": "2022-12-09T09:59:43.384Z"
   },
   {
    "duration": 6,
    "start_time": "2022-12-09T09:59:45.513Z"
   },
   {
    "duration": 22,
    "start_time": "2022-12-09T09:59:45.521Z"
   },
   {
    "duration": 24,
    "start_time": "2022-12-09T09:59:45.544Z"
   },
   {
    "duration": 6,
    "start_time": "2022-12-09T09:59:45.569Z"
   },
   {
    "duration": 19,
    "start_time": "2022-12-09T09:59:45.577Z"
   },
   {
    "duration": 37,
    "start_time": "2022-12-09T09:59:45.597Z"
   },
   {
    "duration": 1783,
    "start_time": "2022-12-09T09:59:45.638Z"
   },
   {
    "duration": 22,
    "start_time": "2022-12-09T09:59:47.430Z"
   },
   {
    "duration": 5,
    "start_time": "2022-12-09T09:59:47.454Z"
   },
   {
    "duration": 63,
    "start_time": "2022-12-09T09:59:47.460Z"
   },
   {
    "duration": 46,
    "start_time": "2022-12-09T09:59:47.524Z"
   },
   {
    "duration": 54,
    "start_time": "2022-12-09T09:59:47.572Z"
   },
   {
    "duration": 300,
    "start_time": "2022-12-09T09:59:47.627Z"
   },
   {
    "duration": 3545,
    "start_time": "2022-12-09T09:59:47.929Z"
   },
   {
    "duration": 138,
    "start_time": "2022-12-09T09:59:51.476Z"
   },
   {
    "duration": 0,
    "start_time": "2022-12-09T09:59:51.623Z"
   },
   {
    "duration": 0,
    "start_time": "2022-12-09T09:59:51.624Z"
   },
   {
    "duration": 0,
    "start_time": "2022-12-09T09:59:51.624Z"
   },
   {
    "duration": 0,
    "start_time": "2022-12-09T09:59:51.626Z"
   },
   {
    "duration": 0,
    "start_time": "2022-12-09T09:59:51.627Z"
   },
   {
    "duration": 0,
    "start_time": "2022-12-09T09:59:51.628Z"
   },
   {
    "duration": 0,
    "start_time": "2022-12-09T09:59:51.629Z"
   },
   {
    "duration": 0,
    "start_time": "2022-12-09T09:59:51.630Z"
   },
   {
    "duration": 0,
    "start_time": "2022-12-09T09:59:51.630Z"
   },
   {
    "duration": 0,
    "start_time": "2022-12-09T09:59:51.633Z"
   },
   {
    "duration": 1476,
    "start_time": "2022-12-09T10:00:43.614Z"
   },
   {
    "duration": 51,
    "start_time": "2022-12-09T10:00:45.092Z"
   },
   {
    "duration": 2236,
    "start_time": "2022-12-09T10:00:45.145Z"
   },
   {
    "duration": 6,
    "start_time": "2022-12-09T10:00:47.384Z"
   },
   {
    "duration": 19,
    "start_time": "2022-12-09T10:00:47.392Z"
   },
   {
    "duration": 54,
    "start_time": "2022-12-09T10:00:47.413Z"
   },
   {
    "duration": 7,
    "start_time": "2022-12-09T10:00:47.470Z"
   },
   {
    "duration": 34,
    "start_time": "2022-12-09T10:00:47.479Z"
   },
   {
    "duration": 36,
    "start_time": "2022-12-09T10:00:47.515Z"
   },
   {
    "duration": 992,
    "start_time": "2022-12-09T10:00:47.555Z"
   },
   {
    "duration": 21,
    "start_time": "2022-12-09T10:00:48.551Z"
   },
   {
    "duration": 5,
    "start_time": "2022-12-09T10:00:48.574Z"
   },
   {
    "duration": 12,
    "start_time": "2022-12-09T10:00:48.581Z"
   },
   {
    "duration": 46,
    "start_time": "2022-12-09T10:00:48.619Z"
   },
   {
    "duration": 13,
    "start_time": "2022-12-09T10:00:48.668Z"
   },
   {
    "duration": 178,
    "start_time": "2022-12-09T10:00:48.683Z"
   },
   {
    "duration": 3572,
    "start_time": "2022-12-09T10:00:48.863Z"
   },
   {
    "duration": 52093,
    "start_time": "2022-12-09T10:00:52.442Z"
   },
   {
    "duration": 82,
    "start_time": "2022-12-09T10:01:44.537Z"
   },
   {
    "duration": 95,
    "start_time": "2022-12-09T10:01:44.626Z"
   },
   {
    "duration": 346,
    "start_time": "2022-12-09T10:01:44.723Z"
   },
   {
    "duration": 13,
    "start_time": "2022-12-09T10:01:45.071Z"
   },
   {
    "duration": 46,
    "start_time": "2022-12-09T10:01:45.086Z"
   },
   {
    "duration": 4406,
    "start_time": "2022-12-09T10:01:45.133Z"
   },
   {
    "duration": 142851,
    "start_time": "2022-12-09T10:01:49.541Z"
   },
   {
    "duration": 18,
    "start_time": "2022-12-09T10:04:12.394Z"
   },
   {
    "duration": 0,
    "start_time": "2022-12-09T10:04:12.417Z"
   },
   {
    "duration": 0,
    "start_time": "2022-12-09T10:04:12.419Z"
   },
   {
    "duration": 0,
    "start_time": "2022-12-09T10:04:12.421Z"
   },
   {
    "duration": 119,
    "start_time": "2022-12-09T10:04:30.912Z"
   },
   {
    "duration": 12,
    "start_time": "2022-12-09T10:04:38.532Z"
   },
   {
    "duration": 10,
    "start_time": "2022-12-09T10:05:39.339Z"
   },
   {
    "duration": 26,
    "start_time": "2022-12-09T10:10:10.815Z"
   },
   {
    "duration": 508,
    "start_time": "2022-12-09T10:32:23.336Z"
   },
   {
    "duration": 378,
    "start_time": "2022-12-09T10:32:32.863Z"
   },
   {
    "duration": 69,
    "start_time": "2022-12-09T10:32:36.647Z"
   },
   {
    "duration": 10,
    "start_time": "2022-12-09T10:33:18.049Z"
   },
   {
    "duration": 5,
    "start_time": "2022-12-09T10:33:37.464Z"
   },
   {
    "duration": 134,
    "start_time": "2022-12-09T10:36:38.164Z"
   },
   {
    "duration": 4260,
    "start_time": "2022-12-09T10:40:24.693Z"
   },
   {
    "duration": 4336,
    "start_time": "2022-12-09T10:40:36.606Z"
   },
   {
    "duration": 5428,
    "start_time": "2022-12-09T10:40:48.238Z"
   },
   {
    "duration": 4144,
    "start_time": "2022-12-09T10:41:06.709Z"
   },
   {
    "duration": 190,
    "start_time": "2022-12-09T10:43:43.737Z"
   },
   {
    "duration": 107,
    "start_time": "2022-12-09T10:43:56.512Z"
   },
   {
    "duration": 88,
    "start_time": "2022-12-09T10:43:59.827Z"
   },
   {
    "duration": 102,
    "start_time": "2022-12-09T10:46:12.713Z"
   },
   {
    "duration": 6,
    "start_time": "2022-12-09T10:46:22.041Z"
   },
   {
    "duration": 56,
    "start_time": "2022-12-09T10:46:30.570Z"
   },
   {
    "duration": 271,
    "start_time": "2022-12-09T10:46:39.250Z"
   },
   {
    "duration": 44,
    "start_time": "2022-12-09T10:46:51.299Z"
   },
   {
    "duration": 34,
    "start_time": "2022-12-09T11:04:43.892Z"
   },
   {
    "duration": 93,
    "start_time": "2022-12-09T11:04:46.542Z"
   },
   {
    "duration": 5,
    "start_time": "2022-12-09T11:34:37.969Z"
   },
   {
    "duration": 50,
    "start_time": "2022-12-10T15:20:23.213Z"
   },
   {
    "duration": 13,
    "start_time": "2022-12-10T15:22:47.853Z"
   },
   {
    "duration": 1761,
    "start_time": "2022-12-10T15:23:08.099Z"
   },
   {
    "duration": 138,
    "start_time": "2022-12-10T15:23:09.864Z"
   },
   {
    "duration": 3106,
    "start_time": "2022-12-10T15:23:10.008Z"
   },
   {
    "duration": 5,
    "start_time": "2022-12-10T15:23:13.116Z"
   },
   {
    "duration": 9,
    "start_time": "2022-12-10T15:23:13.123Z"
   },
   {
    "duration": 31,
    "start_time": "2022-12-10T15:23:13.134Z"
   },
   {
    "duration": 8,
    "start_time": "2022-12-10T15:23:13.168Z"
   },
   {
    "duration": 23,
    "start_time": "2022-12-10T15:23:13.179Z"
   },
   {
    "duration": 53,
    "start_time": "2022-12-10T15:23:13.205Z"
   },
   {
    "duration": 970,
    "start_time": "2022-12-10T15:23:13.260Z"
   },
   {
    "duration": 30,
    "start_time": "2022-12-10T15:23:14.233Z"
   },
   {
    "duration": 7,
    "start_time": "2022-12-10T15:23:14.266Z"
   },
   {
    "duration": 17,
    "start_time": "2022-12-10T15:23:14.276Z"
   },
   {
    "duration": 10,
    "start_time": "2022-12-10T15:23:14.295Z"
   },
   {
    "duration": 93,
    "start_time": "2022-12-10T15:23:14.307Z"
   },
   {
    "duration": 165,
    "start_time": "2022-12-10T15:23:14.402Z"
   },
   {
    "duration": 3303,
    "start_time": "2022-12-10T15:23:14.569Z"
   },
   {
    "duration": 54468,
    "start_time": "2022-12-10T15:23:17.874Z"
   },
   {
    "duration": 36,
    "start_time": "2022-12-10T15:24:12.343Z"
   },
   {
    "duration": 173,
    "start_time": "2022-12-10T15:24:12.382Z"
   },
   {
    "duration": 328,
    "start_time": "2022-12-10T15:24:12.558Z"
   },
   {
    "duration": 13,
    "start_time": "2022-12-10T15:24:12.888Z"
   },
   {
    "duration": 162,
    "start_time": "2022-12-10T15:24:12.903Z"
   },
   {
    "duration": 4552,
    "start_time": "2022-12-10T15:24:13.070Z"
   },
   {
    "duration": 137942,
    "start_time": "2022-12-10T15:24:17.624Z"
   },
   {
    "duration": 9,
    "start_time": "2022-12-10T15:26:35.568Z"
   },
   {
    "duration": 27,
    "start_time": "2022-12-10T15:26:35.580Z"
   },
   {
    "duration": 4,
    "start_time": "2022-12-10T15:26:35.609Z"
   },
   {
    "duration": 108505,
    "start_time": "2022-12-10T15:27:53.488Z"
   },
   {
    "duration": 59,
    "start_time": "2022-12-10T15:31:00.371Z"
   },
   {
    "duration": 107,
    "start_time": "2022-12-10T15:33:12.606Z"
   },
   {
    "duration": 15,
    "start_time": "2022-12-10T15:33:18.056Z"
   },
   {
    "duration": 1441,
    "start_time": "2022-12-10T15:33:24.594Z"
   },
   {
    "duration": 42,
    "start_time": "2022-12-10T15:33:26.037Z"
   },
   {
    "duration": 2283,
    "start_time": "2022-12-10T15:33:26.081Z"
   },
   {
    "duration": 5,
    "start_time": "2022-12-10T15:33:28.366Z"
   },
   {
    "duration": 7,
    "start_time": "2022-12-10T15:33:28.373Z"
   },
   {
    "duration": 18,
    "start_time": "2022-12-10T15:33:28.381Z"
   },
   {
    "duration": 7,
    "start_time": "2022-12-10T15:33:28.401Z"
   },
   {
    "duration": 50,
    "start_time": "2022-12-10T15:33:28.410Z"
   },
   {
    "duration": 28,
    "start_time": "2022-12-10T15:33:28.462Z"
   },
   {
    "duration": 948,
    "start_time": "2022-12-10T15:33:28.494Z"
   },
   {
    "duration": 25,
    "start_time": "2022-12-10T15:33:29.444Z"
   },
   {
    "duration": 6,
    "start_time": "2022-12-10T15:33:29.472Z"
   },
   {
    "duration": 10,
    "start_time": "2022-12-10T15:33:29.480Z"
   },
   {
    "duration": 17,
    "start_time": "2022-12-10T15:33:29.492Z"
   },
   {
    "duration": 80,
    "start_time": "2022-12-10T15:33:29.510Z"
   },
   {
    "duration": 152,
    "start_time": "2022-12-10T15:33:29.592Z"
   },
   {
    "duration": 3259,
    "start_time": "2022-12-10T15:33:29.746Z"
   },
   {
    "duration": 84791,
    "start_time": "2022-12-10T15:33:33.007Z"
   },
   {
    "duration": 67,
    "start_time": "2022-12-10T15:34:57.800Z"
   },
   {
    "duration": 14,
    "start_time": "2022-12-10T15:34:57.954Z"
   },
   {
    "duration": 334,
    "start_time": "2022-12-10T15:34:58.056Z"
   },
   {
    "duration": 12,
    "start_time": "2022-12-10T15:34:58.391Z"
   },
   {
    "duration": 164,
    "start_time": "2022-12-10T15:34:58.406Z"
   },
   {
    "duration": 4346,
    "start_time": "2022-12-10T15:34:58.657Z"
   },
   {
    "duration": 108785,
    "start_time": "2022-12-10T15:35:03.005Z"
   },
   {
    "duration": 12,
    "start_time": "2022-12-10T15:36:51.793Z"
   },
   {
    "duration": 51,
    "start_time": "2022-12-10T15:36:51.807Z"
   },
   {
    "duration": 6,
    "start_time": "2022-12-10T15:36:51.862Z"
   },
   {
    "duration": 3595,
    "start_time": "2022-12-10T16:10:30.298Z"
   },
   {
    "duration": 19,
    "start_time": "2022-12-10T16:22:29.153Z"
   },
   {
    "duration": 9,
    "start_time": "2022-12-10T16:22:32.822Z"
   },
   {
    "duration": 12,
    "start_time": "2022-12-10T16:22:43.195Z"
   },
   {
    "duration": 15,
    "start_time": "2022-12-10T16:22:51.743Z"
   },
   {
    "duration": 7,
    "start_time": "2022-12-10T16:23:06.204Z"
   },
   {
    "duration": 5,
    "start_time": "2022-12-10T16:23:06.517Z"
   },
   {
    "duration": 5,
    "start_time": "2022-12-10T16:23:07.011Z"
   },
   {
    "duration": 8,
    "start_time": "2022-12-10T16:23:21.555Z"
   },
   {
    "duration": 5,
    "start_time": "2022-12-10T16:23:21.791Z"
   },
   {
    "duration": 4,
    "start_time": "2022-12-10T16:23:22.202Z"
   },
   {
    "duration": 13,
    "start_time": "2022-12-10T16:23:25.253Z"
   },
   {
    "duration": 12,
    "start_time": "2022-12-10T16:23:28.083Z"
   },
   {
    "duration": 27,
    "start_time": "2022-12-10T16:23:28.371Z"
   },
   {
    "duration": 10,
    "start_time": "2022-12-10T16:23:28.856Z"
   },
   {
    "duration": 4,
    "start_time": "2022-12-10T16:23:29.342Z"
   },
   {
    "duration": 17,
    "start_time": "2022-12-10T16:23:32.772Z"
   },
   {
    "duration": 14,
    "start_time": "2022-12-10T16:23:33.070Z"
   },
   {
    "duration": 4,
    "start_time": "2022-12-10T16:23:33.423Z"
   },
   {
    "duration": 3,
    "start_time": "2022-12-10T16:23:33.848Z"
   },
   {
    "duration": 12,
    "start_time": "2022-12-10T16:23:45.875Z"
   },
   {
    "duration": 10,
    "start_time": "2022-12-10T16:23:46.184Z"
   },
   {
    "duration": 6,
    "start_time": "2022-12-10T16:23:46.578Z"
   },
   {
    "duration": 4,
    "start_time": "2022-12-10T16:23:47.083Z"
   },
   {
    "duration": 8,
    "start_time": "2022-12-10T16:23:51.298Z"
   },
   {
    "duration": 8,
    "start_time": "2022-12-10T16:23:51.589Z"
   },
   {
    "duration": 18,
    "start_time": "2022-12-10T16:23:51.853Z"
   },
   {
    "duration": 4,
    "start_time": "2022-12-10T16:23:52.281Z"
   },
   {
    "duration": 2005,
    "start_time": "2022-12-10T16:23:59.884Z"
   },
   {
    "duration": 87,
    "start_time": "2022-12-10T16:24:01.891Z"
   },
   {
    "duration": 2913,
    "start_time": "2022-12-10T16:24:01.979Z"
   },
   {
    "duration": 5,
    "start_time": "2022-12-10T16:24:04.894Z"
   },
   {
    "duration": 10,
    "start_time": "2022-12-10T16:24:04.901Z"
   },
   {
    "duration": 19,
    "start_time": "2022-12-10T16:24:04.913Z"
   },
   {
    "duration": 23,
    "start_time": "2022-12-10T16:24:04.934Z"
   },
   {
    "duration": 35,
    "start_time": "2022-12-10T16:24:04.960Z"
   },
   {
    "duration": 25,
    "start_time": "2022-12-10T16:24:04.997Z"
   },
   {
    "duration": 965,
    "start_time": "2022-12-10T16:24:05.024Z"
   },
   {
    "duration": 19,
    "start_time": "2022-12-10T16:24:05.991Z"
   },
   {
    "duration": 4,
    "start_time": "2022-12-10T16:24:06.012Z"
   },
   {
    "duration": 9,
    "start_time": "2022-12-10T16:24:06.018Z"
   },
   {
    "duration": 44,
    "start_time": "2022-12-10T16:24:06.030Z"
   },
   {
    "duration": 59,
    "start_time": "2022-12-10T16:24:06.076Z"
   },
   {
    "duration": 159,
    "start_time": "2022-12-10T16:24:06.137Z"
   },
   {
    "duration": 3401,
    "start_time": "2022-12-10T16:24:06.297Z"
   },
   {
    "duration": 89890,
    "start_time": "2022-12-10T16:24:09.699Z"
   },
   {
    "duration": 73,
    "start_time": "2022-12-10T16:25:39.590Z"
   },
   {
    "duration": 99,
    "start_time": "2022-12-10T16:25:39.666Z"
   },
   {
    "duration": 326,
    "start_time": "2022-12-10T16:25:39.767Z"
   },
   {
    "duration": 14,
    "start_time": "2022-12-10T16:25:40.095Z"
   },
   {
    "duration": 0,
    "start_time": "2022-12-10T16:25:40.111Z"
   },
   {
    "duration": 0,
    "start_time": "2022-12-10T16:25:40.112Z"
   },
   {
    "duration": 0,
    "start_time": "2022-12-10T16:25:40.113Z"
   },
   {
    "duration": 0,
    "start_time": "2022-12-10T16:25:40.114Z"
   },
   {
    "duration": 0,
    "start_time": "2022-12-10T16:25:40.115Z"
   },
   {
    "duration": 0,
    "start_time": "2022-12-10T16:25:40.116Z"
   },
   {
    "duration": 0,
    "start_time": "2022-12-10T16:25:40.117Z"
   },
   {
    "duration": 0,
    "start_time": "2022-12-10T16:25:40.118Z"
   },
   {
    "duration": 0,
    "start_time": "2022-12-10T16:25:40.119Z"
   },
   {
    "duration": 0,
    "start_time": "2022-12-10T16:25:40.120Z"
   },
   {
    "duration": 11,
    "start_time": "2022-12-10T16:26:28.793Z"
   },
   {
    "duration": 8,
    "start_time": "2022-12-10T16:26:29.676Z"
   },
   {
    "duration": 4,
    "start_time": "2022-12-10T16:26:30.067Z"
   },
   {
    "duration": 4,
    "start_time": "2022-12-10T16:26:30.580Z"
   },
   {
    "duration": 216,
    "start_time": "2022-12-10T16:27:01.477Z"
   },
   {
    "duration": 29,
    "start_time": "2022-12-10T16:27:23.463Z"
   },
   {
    "duration": 11,
    "start_time": "2022-12-10T16:27:43.235Z"
   },
   {
    "duration": 15,
    "start_time": "2022-12-10T16:28:21.471Z"
   },
   {
    "duration": 5,
    "start_time": "2022-12-10T16:28:26.587Z"
   },
   {
    "duration": 1407,
    "start_time": "2022-12-10T16:28:37.628Z"
   },
   {
    "duration": 47,
    "start_time": "2022-12-10T16:28:39.037Z"
   },
   {
    "duration": 3180,
    "start_time": "2022-12-10T16:28:39.086Z"
   },
   {
    "duration": 5,
    "start_time": "2022-12-10T16:28:42.268Z"
   },
   {
    "duration": 10,
    "start_time": "2022-12-10T16:28:42.274Z"
   },
   {
    "duration": 16,
    "start_time": "2022-12-10T16:28:42.285Z"
   },
   {
    "duration": 5,
    "start_time": "2022-12-10T16:28:42.303Z"
   },
   {
    "duration": 19,
    "start_time": "2022-12-10T16:28:42.309Z"
   },
   {
    "duration": 43,
    "start_time": "2022-12-10T16:28:42.329Z"
   },
   {
    "duration": 869,
    "start_time": "2022-12-10T16:28:42.374Z"
   },
   {
    "duration": 36,
    "start_time": "2022-12-10T16:28:43.245Z"
   },
   {
    "duration": 5,
    "start_time": "2022-12-10T16:28:43.282Z"
   },
   {
    "duration": 11,
    "start_time": "2022-12-10T16:28:43.289Z"
   },
   {
    "duration": 10,
    "start_time": "2022-12-10T16:28:43.302Z"
   },
   {
    "duration": 66,
    "start_time": "2022-12-10T16:28:43.314Z"
   },
   {
    "duration": 139,
    "start_time": "2022-12-10T16:28:43.382Z"
   },
   {
    "duration": 4,
    "start_time": "2022-12-10T16:28:43.523Z"
   },
   {
    "duration": 8,
    "start_time": "2022-12-10T16:28:43.529Z"
   },
   {
    "duration": 42,
    "start_time": "2022-12-10T16:28:43.539Z"
   },
   {
    "duration": 214,
    "start_time": "2022-12-10T16:28:43.666Z"
   },
   {
    "duration": 0,
    "start_time": "2022-12-10T16:28:43.882Z"
   },
   {
    "duration": 0,
    "start_time": "2022-12-10T16:28:43.883Z"
   },
   {
    "duration": 0,
    "start_time": "2022-12-10T16:28:43.884Z"
   },
   {
    "duration": 0,
    "start_time": "2022-12-10T16:28:43.885Z"
   },
   {
    "duration": 0,
    "start_time": "2022-12-10T16:28:43.886Z"
   },
   {
    "duration": 0,
    "start_time": "2022-12-10T16:28:43.887Z"
   },
   {
    "duration": 0,
    "start_time": "2022-12-10T16:28:43.889Z"
   },
   {
    "duration": 0,
    "start_time": "2022-12-10T16:28:43.890Z"
   },
   {
    "duration": 0,
    "start_time": "2022-12-10T16:28:43.891Z"
   },
   {
    "duration": 0,
    "start_time": "2022-12-10T16:28:43.892Z"
   },
   {
    "duration": 0,
    "start_time": "2022-12-10T16:28:43.893Z"
   },
   {
    "duration": 0,
    "start_time": "2022-12-10T16:28:43.894Z"
   },
   {
    "duration": 13,
    "start_time": "2022-12-10T16:29:05.835Z"
   },
   {
    "duration": 7,
    "start_time": "2022-12-10T16:29:06.226Z"
   },
   {
    "duration": 4,
    "start_time": "2022-12-10T16:29:06.640Z"
   },
   {
    "duration": 3,
    "start_time": "2022-12-10T16:29:08.299Z"
   },
   {
    "duration": 2222,
    "start_time": "2022-12-10T16:31:10.880Z"
   },
   {
    "duration": 83,
    "start_time": "2022-12-10T16:31:13.104Z"
   },
   {
    "duration": 2884,
    "start_time": "2022-12-10T16:31:13.189Z"
   },
   {
    "duration": 5,
    "start_time": "2022-12-10T16:31:16.085Z"
   },
   {
    "duration": 13,
    "start_time": "2022-12-10T16:31:16.092Z"
   },
   {
    "duration": 20,
    "start_time": "2022-12-10T16:31:16.106Z"
   },
   {
    "duration": 6,
    "start_time": "2022-12-10T16:31:16.128Z"
   },
   {
    "duration": 33,
    "start_time": "2022-12-10T16:31:16.135Z"
   },
   {
    "duration": 31,
    "start_time": "2022-12-10T16:31:16.172Z"
   },
   {
    "duration": 982,
    "start_time": "2022-12-10T16:31:16.205Z"
   },
   {
    "duration": 19,
    "start_time": "2022-12-10T16:31:17.189Z"
   },
   {
    "duration": 4,
    "start_time": "2022-12-10T16:31:17.210Z"
   },
   {
    "duration": 10,
    "start_time": "2022-12-10T16:31:17.215Z"
   },
   {
    "duration": 37,
    "start_time": "2022-12-10T16:31:17.227Z"
   },
   {
    "duration": 60,
    "start_time": "2022-12-10T16:31:17.268Z"
   },
   {
    "duration": 172,
    "start_time": "2022-12-10T16:31:17.330Z"
   },
   {
    "duration": 5,
    "start_time": "2022-12-10T16:31:17.503Z"
   },
   {
    "duration": 10,
    "start_time": "2022-12-10T16:31:17.510Z"
   },
   {
    "duration": 65,
    "start_time": "2022-12-10T16:31:17.522Z"
   },
   {
    "duration": 209,
    "start_time": "2022-12-10T16:31:17.657Z"
   },
   {
    "duration": 0,
    "start_time": "2022-12-10T16:31:17.868Z"
   },
   {
    "duration": 0,
    "start_time": "2022-12-10T16:31:17.869Z"
   },
   {
    "duration": 0,
    "start_time": "2022-12-10T16:31:17.871Z"
   },
   {
    "duration": 0,
    "start_time": "2022-12-10T16:31:17.872Z"
   },
   {
    "duration": 0,
    "start_time": "2022-12-10T16:31:17.874Z"
   },
   {
    "duration": 0,
    "start_time": "2022-12-10T16:31:17.875Z"
   },
   {
    "duration": 0,
    "start_time": "2022-12-10T16:31:17.876Z"
   },
   {
    "duration": 0,
    "start_time": "2022-12-10T16:31:17.878Z"
   },
   {
    "duration": 0,
    "start_time": "2022-12-10T16:31:17.878Z"
   },
   {
    "duration": 0,
    "start_time": "2022-12-10T16:31:17.882Z"
   },
   {
    "duration": 0,
    "start_time": "2022-12-10T16:31:17.884Z"
   },
   {
    "duration": 0,
    "start_time": "2022-12-10T16:31:17.886Z"
   },
   {
    "duration": 12,
    "start_time": "2022-12-10T16:31:18.608Z"
   },
   {
    "duration": 7,
    "start_time": "2022-12-10T16:31:18.892Z"
   },
   {
    "duration": 4,
    "start_time": "2022-12-10T16:31:19.226Z"
   },
   {
    "duration": 5,
    "start_time": "2022-12-10T16:31:19.579Z"
   },
   {
    "duration": 31,
    "start_time": "2022-12-10T16:36:52.258Z"
   },
   {
    "duration": 94,
    "start_time": "2022-12-10T16:40:06.002Z"
   },
   {
    "duration": 81,
    "start_time": "2022-12-10T16:40:29.048Z"
   },
   {
    "duration": 2126,
    "start_time": "2022-12-10T16:40:42.100Z"
   },
   {
    "duration": 2015,
    "start_time": "2022-12-10T16:40:50.909Z"
   },
   {
    "duration": 2093,
    "start_time": "2022-12-10T16:41:12.513Z"
   },
   {
    "duration": 80,
    "start_time": "2022-12-10T16:41:18.447Z"
   },
   {
    "duration": 62,
    "start_time": "2022-12-10T16:41:30.710Z"
   },
   {
    "duration": 1582,
    "start_time": "2022-12-10T16:41:42.809Z"
   },
   {
    "duration": 42,
    "start_time": "2022-12-10T16:41:44.393Z"
   },
   {
    "duration": 3854,
    "start_time": "2022-12-10T16:41:44.437Z"
   },
   {
    "duration": 6,
    "start_time": "2022-12-10T16:41:48.294Z"
   },
   {
    "duration": 7,
    "start_time": "2022-12-10T16:41:48.301Z"
   },
   {
    "duration": 21,
    "start_time": "2022-12-10T16:41:48.310Z"
   },
   {
    "duration": 7,
    "start_time": "2022-12-10T16:41:48.333Z"
   },
   {
    "duration": 25,
    "start_time": "2022-12-10T16:41:48.355Z"
   },
   {
    "duration": 31,
    "start_time": "2022-12-10T16:41:48.382Z"
   },
   {
    "duration": 1048,
    "start_time": "2022-12-10T16:41:48.417Z"
   },
   {
    "duration": 35,
    "start_time": "2022-12-10T16:41:49.467Z"
   },
   {
    "duration": 5,
    "start_time": "2022-12-10T16:41:49.505Z"
   },
   {
    "duration": 14,
    "start_time": "2022-12-10T16:41:49.511Z"
   },
   {
    "duration": 10,
    "start_time": "2022-12-10T16:41:49.526Z"
   },
   {
    "duration": 84,
    "start_time": "2022-12-10T16:41:49.538Z"
   },
   {
    "duration": 188,
    "start_time": "2022-12-10T16:41:49.624Z"
   },
   {
    "duration": 5,
    "start_time": "2022-12-10T16:41:49.813Z"
   },
   {
    "duration": 10,
    "start_time": "2022-12-10T16:41:49.820Z"
   },
   {
    "duration": 140,
    "start_time": "2022-12-10T16:41:49.831Z"
   },
   {
    "duration": 235,
    "start_time": "2022-12-10T16:41:49.975Z"
   },
   {
    "duration": 0,
    "start_time": "2022-12-10T16:41:50.212Z"
   },
   {
    "duration": 0,
    "start_time": "2022-12-10T16:41:50.213Z"
   },
   {
    "duration": 0,
    "start_time": "2022-12-10T16:41:50.215Z"
   },
   {
    "duration": 0,
    "start_time": "2022-12-10T16:41:50.216Z"
   },
   {
    "duration": 0,
    "start_time": "2022-12-10T16:41:50.218Z"
   },
   {
    "duration": 0,
    "start_time": "2022-12-10T16:41:50.220Z"
   },
   {
    "duration": 0,
    "start_time": "2022-12-10T16:41:50.221Z"
   },
   {
    "duration": 0,
    "start_time": "2022-12-10T16:41:50.222Z"
   },
   {
    "duration": 0,
    "start_time": "2022-12-10T16:41:50.224Z"
   },
   {
    "duration": 0,
    "start_time": "2022-12-10T16:41:50.225Z"
   },
   {
    "duration": 17,
    "start_time": "2022-12-10T16:41:55.015Z"
   },
   {
    "duration": 1952,
    "start_time": "2022-12-10T16:41:56.149Z"
   },
   {
    "duration": 14,
    "start_time": "2022-12-10T16:41:58.693Z"
   },
   {
    "duration": 5324,
    "start_time": "2022-12-10T16:42:01.369Z"
   },
   {
    "duration": 1984,
    "start_time": "2022-12-10T16:42:32.040Z"
   },
   {
    "duration": 12,
    "start_time": "2022-12-10T16:43:37.233Z"
   },
   {
    "duration": 12,
    "start_time": "2022-12-10T16:43:42.671Z"
   },
   {
    "duration": 115,
    "start_time": "2022-12-10T16:45:15.542Z"
   },
   {
    "duration": 12,
    "start_time": "2022-12-10T16:45:51.440Z"
   },
   {
    "duration": 55954,
    "start_time": "2022-12-10T16:46:56.398Z"
   },
   {
    "duration": 17,
    "start_time": "2022-12-10T16:47:52.355Z"
   },
   {
    "duration": 10,
    "start_time": "2022-12-10T16:48:00.841Z"
   },
   {
    "duration": 104,
    "start_time": "2022-12-10T16:48:42.025Z"
   },
   {
    "duration": 10,
    "start_time": "2022-12-10T16:48:47.967Z"
   },
   {
    "duration": 1421,
    "start_time": "2022-12-10T16:48:56.402Z"
   },
   {
    "duration": 45,
    "start_time": "2022-12-10T16:48:57.825Z"
   },
   {
    "duration": 2055,
    "start_time": "2022-12-10T16:48:57.872Z"
   },
   {
    "duration": 5,
    "start_time": "2022-12-10T16:48:59.929Z"
   },
   {
    "duration": 7,
    "start_time": "2022-12-10T16:48:59.936Z"
   },
   {
    "duration": 26,
    "start_time": "2022-12-10T16:48:59.944Z"
   },
   {
    "duration": 5,
    "start_time": "2022-12-10T16:48:59.972Z"
   },
   {
    "duration": 15,
    "start_time": "2022-12-10T16:48:59.979Z"
   },
   {
    "duration": 20,
    "start_time": "2022-12-10T16:48:59.995Z"
   },
   {
    "duration": 935,
    "start_time": "2022-12-10T16:49:00.018Z"
   },
   {
    "duration": 27,
    "start_time": "2022-12-10T16:49:00.956Z"
   },
   {
    "duration": 5,
    "start_time": "2022-12-10T16:49:00.985Z"
   },
   {
    "duration": 11,
    "start_time": "2022-12-10T16:49:00.992Z"
   },
   {
    "duration": 17,
    "start_time": "2022-12-10T16:49:01.005Z"
   },
   {
    "duration": 81,
    "start_time": "2022-12-10T16:49:01.024Z"
   },
   {
    "duration": 156,
    "start_time": "2022-12-10T16:49:01.106Z"
   },
   {
    "duration": 3274,
    "start_time": "2022-12-10T16:49:01.265Z"
   },
   {
    "duration": 85558,
    "start_time": "2022-12-10T16:49:04.541Z"
   },
   {
    "duration": 68,
    "start_time": "2022-12-10T16:50:30.101Z"
   },
   {
    "duration": 93,
    "start_time": "2022-12-10T16:50:30.173Z"
   },
   {
    "duration": 190,
    "start_time": "2022-12-10T16:50:30.268Z"
   },
   {
    "duration": 98,
    "start_time": "2022-12-10T16:50:30.459Z"
   },
   {
    "duration": 107,
    "start_time": "2022-12-10T16:50:30.558Z"
   },
   {
    "duration": 1900,
    "start_time": "2022-12-10T16:50:30.667Z"
   },
   {
    "duration": 55791,
    "start_time": "2022-12-10T16:50:32.569Z"
   },
   {
    "duration": 13,
    "start_time": "2022-12-10T16:51:28.368Z"
   },
   {
    "duration": 18,
    "start_time": "2022-12-10T16:51:28.383Z"
   },
   {
    "duration": 56,
    "start_time": "2022-12-10T16:51:28.404Z"
   },
   {
    "duration": 4431,
    "start_time": "2022-12-10T16:51:28.462Z"
   },
   {
    "duration": 118444,
    "start_time": "2022-12-10T16:51:32.894Z"
   },
   {
    "duration": 69,
    "start_time": "2022-12-10T16:53:31.358Z"
   },
   {
    "duration": 4,
    "start_time": "2022-12-10T16:53:31.429Z"
   },
   {
    "duration": 57,
    "start_time": "2022-12-10T16:53:31.435Z"
   },
   {
    "duration": 21,
    "start_time": "2022-12-10T16:53:31.494Z"
   }
  ],
  "kernelspec": {
   "display_name": "Python 3 (ipykernel)",
   "language": "python",
   "name": "python3"
  },
  "language_info": {
   "codemirror_mode": {
    "name": "ipython",
    "version": 3
   },
   "file_extension": ".py",
   "mimetype": "text/x-python",
   "name": "python",
   "nbconvert_exporter": "python",
   "pygments_lexer": "ipython3",
   "version": "3.9.12"
  },
  "toc": {
   "base_numbering": 1,
   "nav_menu": {},
   "number_sections": true,
   "sideBar": true,
   "skip_h1_title": true,
   "title_cell": "Содержание",
   "title_sidebar": "Contents",
   "toc_cell": true,
   "toc_position": {
    "height": "calc(100% - 180px)",
    "left": "10px",
    "top": "150px",
    "width": "246px"
   },
   "toc_section_display": true,
   "toc_window_display": true
  }
 },
 "nbformat": 4,
 "nbformat_minor": 2
}
