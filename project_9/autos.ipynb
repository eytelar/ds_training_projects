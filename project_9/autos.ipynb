{
 "cells": [
  {
   "cell_type": "markdown",
   "metadata": {},
   "source": [
    "<div style=\"border:solid silver 2px; padding: 30px\">\n",
    "    <h2>Определение стоимости автомобилей<a class=\"tocSkip\"> </h2> \n",
    "    \n",
    "Сервис по продаже автомобилей с пробегом «Не бит, не крашен» разрабатывает приложение для привлечения новых клиентов. В нём можно быстро узнать рыночную стоимость своего автомобиля. В вашем распоряжении исторические данные: технические характеристики, комплектации и цены автомобилей. Вам нужно построить модель для определения стоимости. \n",
    "\n",
    "Заказчику важны:\n",
    "\n",
    "- качество предсказания;\n",
    "- скорость предсказания;\n",
    "- время обучения.\n",
    "\n",
    "---\n",
    "        \n",
    "**Признаки:**\n",
    "* DateCrawled — дата скачивания анкеты из базы\n",
    "* VehicleType — тип автомобильного кузова\n",
    "* RegistrationYear — год регистрации автомобиля\n",
    "* Gearbox — тип коробки передач\n",
    "* Power — мощность (л. с.)\n",
    "* Model — модель автомобиля\n",
    "* Kilometer — пробег (км)\n",
    "* RegistrationMonth — месяц регистрации автомобиля\n",
    "* FuelType — тип топлива\n",
    "* Brand — марка автомобиля\n",
    "* Repaired — была машина в ремонте или нет\n",
    "* DateCreated — дата создания анкеты\n",
    "* NumberOfPictures — количество фотографий автомобиля\n",
    "* PostalCode — почтовый индекс владельца анкеты (пользователя)\n",
    "* LastSeen — дата последней активности пользователя\n",
    "\n",
    "**Целевой признак**\n",
    "* Price — цена (евро)\n",
    "        \n",
    "---\n",
    "        \n",
    "**Цель**\n",
    "* Построить модель, которая позволит клиентам определять рыночную стоимость своего автомобиля. "
   ]
  },
  {
   "cell_type": "markdown",
   "metadata": {},
   "source": [
    "# Подготовка данных"
   ]
  },
  {
   "cell_type": "markdown",
   "metadata": {},
   "source": [
    "## Импорт библиотек и изучение общей информации"
   ]
  },
  {
   "cell_type": "code",
   "execution_count": 1,
   "metadata": {},
   "outputs": [],
   "source": [
    "import pandas as pd\n",
    "import time\n",
    "\n",
    "# библиотека sklearn\n",
    "from sklearn.model_selection import train_test_split\n",
    "from sklearn.model_selection import RandomizedSearchCV\n",
    "from sklearn.preprocessing import OneHotEncoder\n",
    "from sklearn.preprocessing import OrdinalEncoder\n",
    "from sklearn.metrics import mean_squared_error\n",
    "\n",
    "# модели\n",
    "from sklearn.ensemble import RandomForestRegressor\n",
    "from sklearn.linear_model import LinearRegression\n",
    "from lightgbm import LGBMRegressor\n",
    "from sklearn.dummy import DummyRegressor\n",
    "\n",
    "# отключение предупреждений\n",
    "import warnings\n",
    "warnings.filterwarnings(action='ignore')"
   ]
  },
  {
   "cell_type": "code",
   "execution_count": 2,
   "metadata": {},
   "outputs": [],
   "source": [
    "data = pd.read_csv('/datasets/autos.csv')"
   ]
  },
  {
   "cell_type": "code",
   "execution_count": 3,
   "metadata": {
    "scrolled": false
   },
   "outputs": [
    {
     "data": {
      "text/html": [
       "<div>\n",
       "<style scoped>\n",
       "    .dataframe tbody tr th:only-of-type {\n",
       "        vertical-align: middle;\n",
       "    }\n",
       "\n",
       "    .dataframe tbody tr th {\n",
       "        vertical-align: top;\n",
       "    }\n",
       "\n",
       "    .dataframe thead th {\n",
       "        text-align: right;\n",
       "    }\n",
       "</style>\n",
       "<table border=\"1\" class=\"dataframe\">\n",
       "  <thead>\n",
       "    <tr style=\"text-align: right;\">\n",
       "      <th></th>\n",
       "      <th>DateCrawled</th>\n",
       "      <th>Price</th>\n",
       "      <th>VehicleType</th>\n",
       "      <th>RegistrationYear</th>\n",
       "      <th>Gearbox</th>\n",
       "      <th>Power</th>\n",
       "      <th>Model</th>\n",
       "      <th>Kilometer</th>\n",
       "      <th>RegistrationMonth</th>\n",
       "      <th>FuelType</th>\n",
       "      <th>Brand</th>\n",
       "      <th>Repaired</th>\n",
       "      <th>DateCreated</th>\n",
       "      <th>NumberOfPictures</th>\n",
       "      <th>PostalCode</th>\n",
       "      <th>LastSeen</th>\n",
       "    </tr>\n",
       "  </thead>\n",
       "  <tbody>\n",
       "    <tr>\n",
       "      <th>0</th>\n",
       "      <td>2016-03-24 11:52:17</td>\n",
       "      <td>480</td>\n",
       "      <td>NaN</td>\n",
       "      <td>1993</td>\n",
       "      <td>manual</td>\n",
       "      <td>0</td>\n",
       "      <td>golf</td>\n",
       "      <td>150000</td>\n",
       "      <td>0</td>\n",
       "      <td>petrol</td>\n",
       "      <td>volkswagen</td>\n",
       "      <td>NaN</td>\n",
       "      <td>2016-03-24 00:00:00</td>\n",
       "      <td>0</td>\n",
       "      <td>70435</td>\n",
       "      <td>2016-04-07 03:16:57</td>\n",
       "    </tr>\n",
       "    <tr>\n",
       "      <th>1</th>\n",
       "      <td>2016-03-24 10:58:45</td>\n",
       "      <td>18300</td>\n",
       "      <td>coupe</td>\n",
       "      <td>2011</td>\n",
       "      <td>manual</td>\n",
       "      <td>190</td>\n",
       "      <td>NaN</td>\n",
       "      <td>125000</td>\n",
       "      <td>5</td>\n",
       "      <td>gasoline</td>\n",
       "      <td>audi</td>\n",
       "      <td>yes</td>\n",
       "      <td>2016-03-24 00:00:00</td>\n",
       "      <td>0</td>\n",
       "      <td>66954</td>\n",
       "      <td>2016-04-07 01:46:50</td>\n",
       "    </tr>\n",
       "    <tr>\n",
       "      <th>2</th>\n",
       "      <td>2016-03-14 12:52:21</td>\n",
       "      <td>9800</td>\n",
       "      <td>suv</td>\n",
       "      <td>2004</td>\n",
       "      <td>auto</td>\n",
       "      <td>163</td>\n",
       "      <td>grand</td>\n",
       "      <td>125000</td>\n",
       "      <td>8</td>\n",
       "      <td>gasoline</td>\n",
       "      <td>jeep</td>\n",
       "      <td>NaN</td>\n",
       "      <td>2016-03-14 00:00:00</td>\n",
       "      <td>0</td>\n",
       "      <td>90480</td>\n",
       "      <td>2016-04-05 12:47:46</td>\n",
       "    </tr>\n",
       "    <tr>\n",
       "      <th>3</th>\n",
       "      <td>2016-03-17 16:54:04</td>\n",
       "      <td>1500</td>\n",
       "      <td>small</td>\n",
       "      <td>2001</td>\n",
       "      <td>manual</td>\n",
       "      <td>75</td>\n",
       "      <td>golf</td>\n",
       "      <td>150000</td>\n",
       "      <td>6</td>\n",
       "      <td>petrol</td>\n",
       "      <td>volkswagen</td>\n",
       "      <td>no</td>\n",
       "      <td>2016-03-17 00:00:00</td>\n",
       "      <td>0</td>\n",
       "      <td>91074</td>\n",
       "      <td>2016-03-17 17:40:17</td>\n",
       "    </tr>\n",
       "    <tr>\n",
       "      <th>4</th>\n",
       "      <td>2016-03-31 17:25:20</td>\n",
       "      <td>3600</td>\n",
       "      <td>small</td>\n",
       "      <td>2008</td>\n",
       "      <td>manual</td>\n",
       "      <td>69</td>\n",
       "      <td>fabia</td>\n",
       "      <td>90000</td>\n",
       "      <td>7</td>\n",
       "      <td>gasoline</td>\n",
       "      <td>skoda</td>\n",
       "      <td>no</td>\n",
       "      <td>2016-03-31 00:00:00</td>\n",
       "      <td>0</td>\n",
       "      <td>60437</td>\n",
       "      <td>2016-04-06 10:17:21</td>\n",
       "    </tr>\n",
       "  </tbody>\n",
       "</table>\n",
       "</div>"
      ],
      "text/plain": [
       "           DateCrawled  Price VehicleType  RegistrationYear Gearbox  Power  \\\n",
       "0  2016-03-24 11:52:17    480         NaN              1993  manual      0   \n",
       "1  2016-03-24 10:58:45  18300       coupe              2011  manual    190   \n",
       "2  2016-03-14 12:52:21   9800         suv              2004    auto    163   \n",
       "3  2016-03-17 16:54:04   1500       small              2001  manual     75   \n",
       "4  2016-03-31 17:25:20   3600       small              2008  manual     69   \n",
       "\n",
       "   Model  Kilometer  RegistrationMonth  FuelType       Brand Repaired  \\\n",
       "0   golf     150000                  0    petrol  volkswagen      NaN   \n",
       "1    NaN     125000                  5  gasoline        audi      yes   \n",
       "2  grand     125000                  8  gasoline        jeep      NaN   \n",
       "3   golf     150000                  6    petrol  volkswagen       no   \n",
       "4  fabia      90000                  7  gasoline       skoda       no   \n",
       "\n",
       "           DateCreated  NumberOfPictures  PostalCode             LastSeen  \n",
       "0  2016-03-24 00:00:00                 0       70435  2016-04-07 03:16:57  \n",
       "1  2016-03-24 00:00:00                 0       66954  2016-04-07 01:46:50  \n",
       "2  2016-03-14 00:00:00                 0       90480  2016-04-05 12:47:46  \n",
       "3  2016-03-17 00:00:00                 0       91074  2016-03-17 17:40:17  \n",
       "4  2016-03-31 00:00:00                 0       60437  2016-04-06 10:17:21  "
      ]
     },
     "metadata": {},
     "output_type": "display_data"
    },
    {
     "name": "stdout",
     "output_type": "stream",
     "text": [
      "<class 'pandas.core.frame.DataFrame'>\n",
      "RangeIndex: 354369 entries, 0 to 354368\n",
      "Data columns (total 16 columns):\n",
      " #   Column             Non-Null Count   Dtype \n",
      "---  ------             --------------   ----- \n",
      " 0   DateCrawled        354369 non-null  object\n",
      " 1   Price              354369 non-null  int64 \n",
      " 2   VehicleType        316879 non-null  object\n",
      " 3   RegistrationYear   354369 non-null  int64 \n",
      " 4   Gearbox            334536 non-null  object\n",
      " 5   Power              354369 non-null  int64 \n",
      " 6   Model              334664 non-null  object\n",
      " 7   Kilometer          354369 non-null  int64 \n",
      " 8   RegistrationMonth  354369 non-null  int64 \n",
      " 9   FuelType           321474 non-null  object\n",
      " 10  Brand              354369 non-null  object\n",
      " 11  Repaired           283215 non-null  object\n",
      " 12  DateCreated        354369 non-null  object\n",
      " 13  NumberOfPictures   354369 non-null  int64 \n",
      " 14  PostalCode         354369 non-null  int64 \n",
      " 15  LastSeen           354369 non-null  object\n",
      "dtypes: int64(7), object(9)\n",
      "memory usage: 43.3+ MB\n"
     ]
    },
    {
     "data": {
      "text/plain": [
       "None"
      ]
     },
     "metadata": {},
     "output_type": "display_data"
    },
    {
     "data": {
      "text/plain": [
       "DateCrawled              0\n",
       "Price                    0\n",
       "VehicleType          37490\n",
       "RegistrationYear         0\n",
       "Gearbox              19833\n",
       "Power                    0\n",
       "Model                19705\n",
       "Kilometer                0\n",
       "RegistrationMonth        0\n",
       "FuelType             32895\n",
       "Brand                    0\n",
       "Repaired             71154\n",
       "DateCreated              0\n",
       "NumberOfPictures         0\n",
       "PostalCode               0\n",
       "LastSeen                 0\n",
       "dtype: int64"
      ]
     },
     "metadata": {},
     "output_type": "display_data"
    },
    {
     "data": {
      "text/html": [
       "<div>\n",
       "<style scoped>\n",
       "    .dataframe tbody tr th:only-of-type {\n",
       "        vertical-align: middle;\n",
       "    }\n",
       "\n",
       "    .dataframe tbody tr th {\n",
       "        vertical-align: top;\n",
       "    }\n",
       "\n",
       "    .dataframe thead th {\n",
       "        text-align: right;\n",
       "    }\n",
       "</style>\n",
       "<table border=\"1\" class=\"dataframe\">\n",
       "  <thead>\n",
       "    <tr style=\"text-align: right;\">\n",
       "      <th></th>\n",
       "      <th>Price</th>\n",
       "      <th>RegistrationYear</th>\n",
       "      <th>Power</th>\n",
       "      <th>Kilometer</th>\n",
       "      <th>RegistrationMonth</th>\n",
       "      <th>NumberOfPictures</th>\n",
       "      <th>PostalCode</th>\n",
       "    </tr>\n",
       "  </thead>\n",
       "  <tbody>\n",
       "    <tr>\n",
       "      <th>count</th>\n",
       "      <td>354369.000000</td>\n",
       "      <td>354369.000000</td>\n",
       "      <td>354369.000000</td>\n",
       "      <td>354369.000000</td>\n",
       "      <td>354369.000000</td>\n",
       "      <td>354369.0</td>\n",
       "      <td>354369.000000</td>\n",
       "    </tr>\n",
       "    <tr>\n",
       "      <th>mean</th>\n",
       "      <td>4416.656776</td>\n",
       "      <td>2004.234448</td>\n",
       "      <td>110.094337</td>\n",
       "      <td>128211.172535</td>\n",
       "      <td>5.714645</td>\n",
       "      <td>0.0</td>\n",
       "      <td>50508.689087</td>\n",
       "    </tr>\n",
       "    <tr>\n",
       "      <th>std</th>\n",
       "      <td>4514.158514</td>\n",
       "      <td>90.227958</td>\n",
       "      <td>189.850405</td>\n",
       "      <td>37905.341530</td>\n",
       "      <td>3.726421</td>\n",
       "      <td>0.0</td>\n",
       "      <td>25783.096248</td>\n",
       "    </tr>\n",
       "    <tr>\n",
       "      <th>min</th>\n",
       "      <td>0.000000</td>\n",
       "      <td>1000.000000</td>\n",
       "      <td>0.000000</td>\n",
       "      <td>5000.000000</td>\n",
       "      <td>0.000000</td>\n",
       "      <td>0.0</td>\n",
       "      <td>1067.000000</td>\n",
       "    </tr>\n",
       "    <tr>\n",
       "      <th>25%</th>\n",
       "      <td>1050.000000</td>\n",
       "      <td>1999.000000</td>\n",
       "      <td>69.000000</td>\n",
       "      <td>125000.000000</td>\n",
       "      <td>3.000000</td>\n",
       "      <td>0.0</td>\n",
       "      <td>30165.000000</td>\n",
       "    </tr>\n",
       "    <tr>\n",
       "      <th>50%</th>\n",
       "      <td>2700.000000</td>\n",
       "      <td>2003.000000</td>\n",
       "      <td>105.000000</td>\n",
       "      <td>150000.000000</td>\n",
       "      <td>6.000000</td>\n",
       "      <td>0.0</td>\n",
       "      <td>49413.000000</td>\n",
       "    </tr>\n",
       "    <tr>\n",
       "      <th>75%</th>\n",
       "      <td>6400.000000</td>\n",
       "      <td>2008.000000</td>\n",
       "      <td>143.000000</td>\n",
       "      <td>150000.000000</td>\n",
       "      <td>9.000000</td>\n",
       "      <td>0.0</td>\n",
       "      <td>71083.000000</td>\n",
       "    </tr>\n",
       "    <tr>\n",
       "      <th>max</th>\n",
       "      <td>20000.000000</td>\n",
       "      <td>9999.000000</td>\n",
       "      <td>20000.000000</td>\n",
       "      <td>150000.000000</td>\n",
       "      <td>12.000000</td>\n",
       "      <td>0.0</td>\n",
       "      <td>99998.000000</td>\n",
       "    </tr>\n",
       "  </tbody>\n",
       "</table>\n",
       "</div>"
      ],
      "text/plain": [
       "               Price  RegistrationYear          Power      Kilometer  \\\n",
       "count  354369.000000     354369.000000  354369.000000  354369.000000   \n",
       "mean     4416.656776       2004.234448     110.094337  128211.172535   \n",
       "std      4514.158514         90.227958     189.850405   37905.341530   \n",
       "min         0.000000       1000.000000       0.000000    5000.000000   \n",
       "25%      1050.000000       1999.000000      69.000000  125000.000000   \n",
       "50%      2700.000000       2003.000000     105.000000  150000.000000   \n",
       "75%      6400.000000       2008.000000     143.000000  150000.000000   \n",
       "max     20000.000000       9999.000000   20000.000000  150000.000000   \n",
       "\n",
       "       RegistrationMonth  NumberOfPictures     PostalCode  \n",
       "count      354369.000000          354369.0  354369.000000  \n",
       "mean            5.714645               0.0   50508.689087  \n",
       "std             3.726421               0.0   25783.096248  \n",
       "min             0.000000               0.0    1067.000000  \n",
       "25%             3.000000               0.0   30165.000000  \n",
       "50%             6.000000               0.0   49413.000000  \n",
       "75%             9.000000               0.0   71083.000000  \n",
       "max            12.000000               0.0   99998.000000  "
      ]
     },
     "metadata": {},
     "output_type": "display_data"
    }
   ],
   "source": [
    "display(data.head())\n",
    "display(data.info())\n",
    "display(data.isna().sum())\n",
    "display(data.describe())"
   ]
  },
  {
   "cell_type": "markdown",
   "metadata": {},
   "source": [
    "### Вывод"
   ]
  },
  {
   "cell_type": "markdown",
   "metadata": {},
   "source": [
    "<div style=\"border:solid silver 2px; padding: 30px\">\n",
    "\n",
    "* Всего в датасете 16 колонок и 354369 наблюдений \n",
    "* Первая проблема, которая бросается в глаза и которую нужно исправить, - это названия столбцов в стиле, отличном от snake_case\n",
    "* Что касается типов данных, то нужно будет изменить их в следующих столбцах: **DateCrawled**, **DateCreated** и **LastSeen** с object на datetime, если решим их оставить для обучения модели\n",
    "* Также наблюдаются пропуски в пяти столбцах: **VehicleType**, **Gearbox**, **Model**, **FuelType** и **Repaired**, каждый из которых стоит рассмотреть подробнее\n",
    "* В данных имеются аномалии, например:\n",
    "    - Год регистрации автомобиля имеет минимальное значение 1000 и максимальное 9999, поэтому нужно будет определить допустимый диапазон дат, а остальные значения удалить. \n",
    "    - В столбце **Price** минимальная цена равна 0, поэтому нужно определить допустимую минимальную стоимость. Стоит проверить и остальные столбцы с численными значениями\n",
    "* Столбец **NumberOfPictures** не содержит иных значений кроме 0, никакой полезной информации он не несет, поэтому его нужно удалить"
   ]
  },
  {
   "cell_type": "markdown",
   "metadata": {},
   "source": [
    "## Предобработка данных"
   ]
  },
  {
   "cell_type": "markdown",
   "metadata": {},
   "source": [
    "### Первичная предобработка данных"
   ]
  },
  {
   "cell_type": "markdown",
   "metadata": {},
   "source": [
    "Прежде чем вносить какие-либо изменения, предварительно сохраним копию оригинального датасета и показатели размерности"
   ]
  },
  {
   "cell_type": "code",
   "execution_count": 4,
   "metadata": {},
   "outputs": [],
   "source": [
    "original_data = data.copy()\n",
    "original_data_shape = data.shape"
   ]
  },
  {
   "cell_type": "markdown",
   "metadata": {},
   "source": [
    "Проверим наличие дубликатов"
   ]
  },
  {
   "cell_type": "code",
   "execution_count": 5,
   "metadata": {},
   "outputs": [
    {
     "data": {
      "text/plain": [
       "4"
      ]
     },
     "execution_count": 5,
     "metadata": {},
     "output_type": "execute_result"
    }
   ],
   "source": [
    "data.duplicated().sum()"
   ]
  },
  {
   "cell_type": "code",
   "execution_count": 6,
   "metadata": {},
   "outputs": [
    {
     "data": {
      "text/plain": [
       "0"
      ]
     },
     "execution_count": 6,
     "metadata": {},
     "output_type": "execute_result"
    }
   ],
   "source": [
    "# дублей мало, поэтому просто удалим их\n",
    "data.drop_duplicates(inplace=True)\n",
    "# проверяем, что всё удалилось\n",
    "data.duplicated().sum()"
   ]
  },
  {
   "cell_type": "markdown",
   "metadata": {},
   "source": [
    "Определим признаки, которые не важны для определения цены на автомобиль и удалим их:\n",
    "\n",
    "1. DateCrawled — дата скачивания анкеты из базы – не влияет на стоимость авто, но перед тем, как удалить данный признак проверим крайнюю дату скачивания для определения правой границы в диапазоне года регистрации авто\n",
    "2. RegistrationMonth — месяц регистрации автомобиля - месяц не даёт никакого веса при выборе автомобиля, важен только год регистрации\n",
    "3. DateCreated — дата создания анкеты – не влияет на стоимость авто\n",
    "4. NumberOfPictures — количество фотографий автомобиля - как мы уже определили выше, в этом столбце только нулевые значения и пользы не несут\n",
    "5. PostalCode — почтовый индекс владельца анкеты (пользователя) – не влияет на стоимость авто\n",
    "6. LastSeen — дата последней активности пользователя – не влияет на стоимость авто"
   ]
  },
  {
   "cell_type": "code",
   "execution_count": 7,
   "metadata": {},
   "outputs": [
    {
     "data": {
      "text/plain": [
       "'2016-04-07 14:36:58'"
      ]
     },
     "execution_count": 7,
     "metadata": {},
     "output_type": "execute_result"
    }
   ],
   "source": [
    "data['DateCrawled'].max()"
   ]
  },
  {
   "cell_type": "markdown",
   "metadata": {},
   "source": [
    "Последняя дата скачивания анкеты из базы произошла в 2016 году, поэтому все данные позже 2016 года будем убирать"
   ]
  },
  {
   "cell_type": "code",
   "execution_count": 8,
   "metadata": {},
   "outputs": [
    {
     "name": "stdout",
     "output_type": "stream",
     "text": [
      "Количество столбцов до удаления: 16\n"
     ]
    },
    {
     "data": {
      "text/plain": [
       "Index(['Price', 'VehicleType', 'RegistrationYear', 'Gearbox', 'Power', 'Model',\n",
       "       'Kilometer', 'FuelType', 'Brand', 'Repaired'],\n",
       "      dtype='object')"
      ]
     },
     "metadata": {},
     "output_type": "display_data"
    },
    {
     "name": "stdout",
     "output_type": "stream",
     "text": [
      "Количество столбцов после удаления: 10\n"
     ]
    }
   ],
   "source": [
    "print(f'Количество столбцов до удаления: {original_data_shape[1]}')\n",
    "# отбираем не информативные столбцы\n",
    "columns_to_drop = ['DateCrawled', 'RegistrationMonth', 'DateCreated', 'NumberOfPictures', 'PostalCode', 'LastSeen']\n",
    "# удаляем\n",
    "data.drop(columns=columns_to_drop, inplace=True)\n",
    "# проверяем, что всё удалилось\n",
    "display(data.columns)\n",
    "print(f'Количество столбцов после удаления: {data.shape[1]}')"
   ]
  },
  {
   "cell_type": "markdown",
   "metadata": {},
   "source": [
    "Приведем названия столбцов к единому стилю"
   ]
  },
  {
   "cell_type": "code",
   "execution_count": 9,
   "metadata": {},
   "outputs": [
    {
     "data": {
      "text/plain": [
       "Index(['price', 'vehicle_type', 'registration_year', 'gearbox', 'power',\n",
       "       'model', 'kilometer', 'fuel_type', 'brand', 'repaired'],\n",
       "      dtype='object')"
      ]
     },
     "execution_count": 9,
     "metadata": {},
     "output_type": "execute_result"
    }
   ],
   "source": [
    "# приводим все названия к нижнему регистру\n",
    "data.columns = data.columns.str.lower()\n",
    "# редактируем столбцы, где больше одного слова\n",
    "data.rename(columns = {'vehicletype': 'vehicle_type',\n",
    "                       'registrationyear': 'registration_year',\n",
    "                       'fueltype': 'fuel_type'}, \n",
    "            inplace=True)\n",
    "# проверяем\n",
    "data.columns"
   ]
  },
  {
   "cell_type": "markdown",
   "metadata": {},
   "source": [
    "### Работа с пропусками"
   ]
  },
  {
   "cell_type": "markdown",
   "metadata": {},
   "source": [
    "Теперь займемся пропусками:"
   ]
  },
  {
   "cell_type": "code",
   "execution_count": 10,
   "metadata": {},
   "outputs": [
    {
     "data": {
      "text/plain": [
       "price                    0\n",
       "vehicle_type         37490\n",
       "registration_year        0\n",
       "gearbox              19833\n",
       "power                    0\n",
       "model                19705\n",
       "kilometer                0\n",
       "fuel_type            32895\n",
       "brand                    0\n",
       "repaired             71154\n",
       "dtype: int64"
      ]
     },
     "execution_count": 10,
     "metadata": {},
     "output_type": "execute_result"
    }
   ],
   "source": [
    "data.isna().sum()"
   ]
  },
  {
   "cell_type": "markdown",
   "metadata": {},
   "source": [
    "Больше всего пропусков наблюдается у признака **repaired — была машина в ремонте или нет**. Проверим содержимое всех признаков, имеющих пропущенные значения:"
   ]
  },
  {
   "cell_type": "code",
   "execution_count": 11,
   "metadata": {
    "scrolled": false
   },
   "outputs": [
    {
     "name": "stdout",
     "output_type": "stream",
     "text": [
      "vehicle_type\n"
     ]
    },
    {
     "data": {
      "text/plain": [
       "array(['bus', 'convertible', 'coupe', 'other', 'sedan', 'small', 'suv',\n",
       "       'wagon', nan], dtype=object)"
      ]
     },
     "metadata": {},
     "output_type": "display_data"
    },
    {
     "name": "stdout",
     "output_type": "stream",
     "text": [
      "---------------------------------------------------------------------------\n",
      "gearbox\n"
     ]
    },
    {
     "data": {
      "text/plain": [
       "array(['auto', 'manual', nan], dtype=object)"
      ]
     },
     "metadata": {},
     "output_type": "display_data"
    },
    {
     "name": "stdout",
     "output_type": "stream",
     "text": [
      "---------------------------------------------------------------------------\n",
      "model\n"
     ]
    },
    {
     "data": {
      "text/plain": [
       "array(['100', '145', '147', '156', '159', '1_reihe', '1er', '200',\n",
       "       '2_reihe', '300c', '3_reihe', '3er', '4_reihe', '500', '5_reihe',\n",
       "       '5er', '601', '6_reihe', '6er', '7er', '80', '850', '90', '900',\n",
       "       '9000', '911', 'a1', 'a2', 'a3', 'a4', 'a5', 'a6', 'a8',\n",
       "       'a_klasse', 'accord', 'agila', 'alhambra', 'almera', 'altea',\n",
       "       'amarok', 'antara', 'arosa', 'astra', 'auris', 'avensis', 'aveo',\n",
       "       'aygo', 'b_klasse', 'b_max', 'beetle', 'berlingo', 'bora',\n",
       "       'boxster', 'bravo', 'c1', 'c2', 'c3', 'c4', 'c5', 'c_klasse',\n",
       "       'c_max', 'c_reihe', 'caddy', 'calibra', 'captiva', 'carisma',\n",
       "       'carnival', 'cayenne', 'cc', 'ceed', 'charade', 'cherokee',\n",
       "       'citigo', 'civic', 'cl', 'clio', 'clk', 'clubman', 'colt', 'combo',\n",
       "       'cooper', 'cordoba', 'corolla', 'corsa', 'cr_reihe', 'croma',\n",
       "       'crossfire', 'cuore', 'cx_reihe', 'defender', 'delta', 'discovery',\n",
       "       'doblo', 'ducato', 'duster', 'e_klasse', 'elefantino', 'eos',\n",
       "       'escort', 'espace', 'exeo', 'fabia', 'fiesta', 'focus', 'forester',\n",
       "       'forfour', 'fortwo', 'fox', 'freelander', 'fusion', 'g_klasse',\n",
       "       'galant', 'galaxy', 'getz', 'gl', 'glk', 'golf', 'grand', 'i3',\n",
       "       'i_reihe', 'ibiza', 'impreza', 'insignia', 'jazz', 'jetta',\n",
       "       'jimny', 'juke', 'justy', 'ka', 'kadett', 'kaefer', 'kalina',\n",
       "       'kalos', 'kangoo', 'kappa', 'kuga', 'laguna', 'lancer', 'lanos',\n",
       "       'legacy', 'leon', 'lodgy', 'logan', 'lupo', 'lybra', 'm_klasse',\n",
       "       'm_reihe', 'materia', 'matiz', 'megane', 'meriva', 'micra', 'mii',\n",
       "       'modus', 'mondeo', 'move', 'musa', 'mustang', 'mx_reihe', 'navara',\n",
       "       'niva', 'note', 'nubira', 'octavia', 'omega', 'one', 'other',\n",
       "       'outlander', 'pajero', 'panda', 'passat', 'phaeton', 'picanto',\n",
       "       'polo', 'primera', 'ptcruiser', 'punto', 'q3', 'q5', 'q7',\n",
       "       'qashqai', 'r19', 'range_rover', 'range_rover_evoque',\n",
       "       'range_rover_sport', 'rangerover', 'rav', 'rio', 'roadster',\n",
       "       'roomster', 'rx_reihe', 's60', 's_klasse', 's_max', 's_type',\n",
       "       'samara', 'sandero', 'santa', 'scenic', 'scirocco', 'seicento',\n",
       "       'serie_1', 'serie_2', 'serie_3', 'sharan', 'signum', 'sirion',\n",
       "       'sl', 'slk', 'sorento', 'spark', 'spider', 'sportage', 'sprinter',\n",
       "       'stilo', 'superb', 'swift', 'terios', 'tigra', 'tiguan', 'toledo',\n",
       "       'touareg', 'touran', 'transit', 'transporter', 'tt', 'tucson',\n",
       "       'twingo', 'up', 'v40', 'v50', 'v60', 'v70', 'v_klasse', 'vectra',\n",
       "       'verso', 'viano', 'vito', 'vivaro', 'voyager', 'wrangler',\n",
       "       'x_reihe', 'x_trail', 'x_type', 'xc_reihe', 'yaris', 'yeti',\n",
       "       'ypsilon', 'z_reihe', 'zafira', nan], dtype=object)"
      ]
     },
     "metadata": {},
     "output_type": "display_data"
    },
    {
     "name": "stdout",
     "output_type": "stream",
     "text": [
      "---------------------------------------------------------------------------\n",
      "fuel_type\n"
     ]
    },
    {
     "data": {
      "text/plain": [
       "array(['cng', 'electric', 'gasoline', 'hybrid', 'lpg', 'other', 'petrol',\n",
       "       nan], dtype=object)"
      ]
     },
     "metadata": {},
     "output_type": "display_data"
    },
    {
     "name": "stdout",
     "output_type": "stream",
     "text": [
      "---------------------------------------------------------------------------\n",
      "repaired\n"
     ]
    },
    {
     "data": {
      "text/plain": [
       "array(['no', 'yes', nan], dtype=object)"
      ]
     },
     "metadata": {},
     "output_type": "display_data"
    },
    {
     "name": "stdout",
     "output_type": "stream",
     "text": [
      "---------------------------------------------------------------------------\n"
     ]
    }
   ],
   "source": [
    "# отбираем нужные колонки\n",
    "columns = ['vehicle_type', 'gearbox', 'model', 'fuel_type', 'repaired']\n",
    "\n",
    "# выводим уникальные значения в алфавитном порядке\n",
    "for column in columns:\n",
    "    print(column)\n",
    "    display(data[column].sort_values().unique())\n",
    "    print('-' * 75)"
   ]
  },
  {
   "cell_type": "markdown",
   "metadata": {},
   "source": [
    "Признаки **vehicle_type — тип автомобильного кузова**, **gearbox — тип коробки передач** и **repaired — была машина в ремонте или нет** самостоятельно лучше не заполнять модой или средним, чтобы не искажать наблюдения. \n",
    "\n",
    "Удалять столько строк тоже не хочется, поэтому лучшим решением будет заполнить пропуски заглушкой *not filled* – *не заполнено*\n",
    "\n",
    "Бензин повторяется дважды под названием **gasoline** и **petrol**, это похоже на неявные дубли, поэтому стоит объединить данные под одним значением, а пропуски заполнить заглушкой"
   ]
  },
  {
   "cell_type": "code",
   "execution_count": 12,
   "metadata": {},
   "outputs": [],
   "source": [
    "# заменяем все petrol на gasoline\n",
    "data['fuel_type'].replace('petrol', 'gasoline', inplace=True)\n",
    "\n",
    "# отбираем нужные колонки\n",
    "columns = ['vehicle_type', 'gearbox', 'fuel_type', 'repaired']\n",
    "\n",
    "# заполняем пропуски заглушкой\n",
    "for column in columns:\n",
    "    data[column].fillna('not filled', inplace=True)"
   ]
  },
  {
   "cell_type": "markdown",
   "metadata": {},
   "source": [
    "А вот признак **model — модель автомобиля** рассмотрим чуть подробнее:\n",
    "\n",
    "Модель Range Rover дублируется как **range_rover** и **rangerover**, поэтому объединим в одну категорию. \n",
    "\n",
    "Пропуски в этом признаке скорее всего появились из-за невозможности выбора нужной модели из выпадающего списка, но, так как это важный признак, без указания которого невозможно корректно определить стоимость авто, то лучше удалить все пропущенные значения"
   ]
  },
  {
   "cell_type": "code",
   "execution_count": 13,
   "metadata": {},
   "outputs": [
    {
     "data": {
      "text/plain": [
       "price                0\n",
       "vehicle_type         0\n",
       "registration_year    0\n",
       "gearbox              0\n",
       "power                0\n",
       "model                0\n",
       "kilometer            0\n",
       "fuel_type            0\n",
       "brand                0\n",
       "repaired             0\n",
       "dtype: int64"
      ]
     },
     "execution_count": 13,
     "metadata": {},
     "output_type": "execute_result"
    }
   ],
   "source": [
    "# заменяем на range_rover\n",
    "data['model'].replace('rangerover', 'range_rover', inplace=True)\n",
    "\n",
    "# заполняем пропуски\n",
    "data.dropna(subset=['model'], inplace=True)\n",
    "\n",
    "# проверяем\n",
    "data.isna().sum()"
   ]
  },
  {
   "cell_type": "markdown",
   "metadata": {},
   "source": [
    "### Работа с аномалиями / выбросами"
   ]
  },
  {
   "cell_type": "markdown",
   "metadata": {},
   "source": [
    "Проверим содержимое численных признаков и подберем допустимые диапазоны значений в случае аномалий / выбросов"
   ]
  },
  {
   "cell_type": "code",
   "execution_count": 14,
   "metadata": {
    "scrolled": false
   },
   "outputs": [
    {
     "name": "stdout",
     "output_type": "stream",
     "text": [
      "price\n"
     ]
    },
    {
     "data": {
      "text/plain": [
       "array([    0,     1,     2, ..., 19998, 19999, 20000])"
      ]
     },
     "metadata": {},
     "output_type": "display_data"
    },
    {
     "name": "stdout",
     "output_type": "stream",
     "text": [
      "---------------------------------------------------------------------------\n",
      "registration_year\n"
     ]
    },
    {
     "data": {
      "text/plain": [
       "array([1000, 1001, 1111, 1200, 1234, 1300, 1400, 1500, 1600, 1602, 1800,\n",
       "       1910, 1919, 1923, 1927, 1928, 1929, 1930, 1931, 1932, 1933, 1934,\n",
       "       1935, 1936, 1937, 1938, 1941, 1942, 1943, 1945, 1947, 1949, 1950,\n",
       "       1951, 1952, 1953, 1954, 1955, 1956, 1957, 1958, 1959, 1960, 1961,\n",
       "       1962, 1963, 1964, 1965, 1966, 1967, 1968, 1969, 1970, 1971, 1972,\n",
       "       1973, 1974, 1975, 1976, 1977, 1978, 1979, 1980, 1981, 1982, 1983,\n",
       "       1984, 1985, 1986, 1987, 1988, 1989, 1990, 1991, 1992, 1993, 1994,\n",
       "       1995, 1996, 1997, 1998, 1999, 2000, 2001, 2002, 2003, 2004, 2005,\n",
       "       2006, 2007, 2008, 2009, 2010, 2011, 2012, 2013, 2014, 2015, 2016,\n",
       "       2017, 2018, 2019, 2066, 2200, 2290, 2500, 2900, 3000, 3700, 4000,\n",
       "       4500, 5000, 5555, 5900, 5911, 6000, 6500, 7000, 7100, 7500, 7800,\n",
       "       8000, 8200, 8500, 9000, 9999])"
      ]
     },
     "metadata": {},
     "output_type": "display_data"
    },
    {
     "name": "stdout",
     "output_type": "stream",
     "text": [
      "---------------------------------------------------------------------------\n",
      "power\n"
     ]
    },
    {
     "data": {
      "text/plain": [
       "array([    0,     1,     2,     3,     4,     5,     6,     7,     8,\n",
       "           9,    10,    11,    12,    13,    14,    15,    16,    17,\n",
       "          18,    19,    20,    21,    22,    23,    24,    25,    26,\n",
       "          27,    28,    29,    30,    31,    32,    33,    34,    35,\n",
       "          36,    37,    38,    39,    40,    41,    42,    43,    44,\n",
       "          45,    46,    47,    48,    49,    50,    51,    52,    53,\n",
       "          54,    55,    56,    57,    58,    59,    60,    61,    62,\n",
       "          63,    64,    65,    66,    67,    68,    69,    70,    71,\n",
       "          72,    73,    74,    75,    76,    77,    78,    79,    80,\n",
       "          81,    82,    83,    84,    85,    86,    87,    88,    89,\n",
       "          90,    91,    92,    93,    94,    95,    96,    97,    98,\n",
       "          99,   100,   101,   102,   103,   104,   105,   106,   107,\n",
       "         108,   109,   110,   111,   112,   113,   114,   115,   116,\n",
       "         117,   118,   119,   120,   121,   122,   123,   124,   125,\n",
       "         126,   127,   128,   129,   130,   131,   132,   133,   134,\n",
       "         135,   136,   137,   138,   139,   140,   141,   142,   143,\n",
       "         144,   145,   146,   147,   148,   149,   150,   151,   152,\n",
       "         153,   154,   155,   156,   157,   158,   159,   160,   161,\n",
       "         162,   163,   164,   165,   166,   167,   168,   169,   170,\n",
       "         171,   172,   173,   174,   175,   176,   177,   178,   179,\n",
       "         180,   181,   182,   183,   184,   185,   186,   187,   188,\n",
       "         189,   190,   191,   192,   193,   194,   195,   196,   197,\n",
       "         198,   199,   200,   201,   202,   203,   204,   205,   206,\n",
       "         207,   208,   209,   210,   211,   212,   213,   214,   215,\n",
       "         216,   217,   218,   219,   220,   221,   222,   223,   224,\n",
       "         225,   226,   227,   228,   229,   230,   231,   232,   233,\n",
       "         234,   235,   236,   237,   238,   239,   240,   241,   242,\n",
       "         243,   244,   245,   246,   247,   248,   249,   250,   251,\n",
       "         252,   253,   254,   255,   256,   257,   258,   259,   260,\n",
       "         261,   262,   264,   265,   266,   267,   268,   269,   270,\n",
       "         271,   272,   273,   274,   275,   276,   277,   278,   279,\n",
       "         280,   281,   282,   283,   284,   285,   286,   287,   288,\n",
       "         289,   290,   292,   293,   294,   295,   296,   298,   299,\n",
       "         300,   301,   303,   304,   305,   306,   307,   308,   309,\n",
       "         310,   311,   313,   314,   315,   316,   317,   318,   320,\n",
       "         321,   322,   323,   324,   325,   326,   327,   328,   329,\n",
       "         330,   331,   332,   333,   334,   335,   336,   337,   338,\n",
       "         339,   340,   341,   343,   344,   345,   346,   347,   348,\n",
       "         349,   350,   351,   352,   353,   354,   355,   356,   357,\n",
       "         358,   360,   361,   362,   363,   364,   365,   367,   368,\n",
       "         370,   371,   374,   375,   376,   377,   379,   380,   381,\n",
       "         382,   385,   386,   387,   388,   390,   392,   394,   396,\n",
       "         398,   399,   400,   401,   405,   408,   409,   411,   416,\n",
       "         420,   421,   425,   426,   428,   430,   431,   435,   440,\n",
       "         445,   449,   450,   454,   457,   459,   460,   475,   476,\n",
       "         485,   487,   489,   490,   500,   504,   505,   507,   508,\n",
       "         510,   514,   515,   517,   519,   520,   521,   525,   530,\n",
       "         540,   541,   544,   550,   551,   560,   572,   574,   579,\n",
       "         580,   584,   585,   599,   600,   601,   603,   604,   606,\n",
       "         607,   610,   612,   620,   640,   645,   650,   651,   671,\n",
       "         678,   685,   696,   700,   702,   703,   743,   750,   751,\n",
       "         754,   771,   776,   800,   805,   808,   850,   871,   900,\n",
       "         901,   902,   903,   907,   909,   923,   950,   952,   953,\n",
       "         960,   998,   999,  1000,  1001,  1003,  1004,  1005,  1011,\n",
       "        1012,  1016,  1017,  1021,  1024,  1054,  1055,  1056,  1062,\n",
       "        1079,  1082,  1090,  1100,  1103,  1105,  1111,  1115,  1149,\n",
       "        1151,  1158,  1160,  1162,  1164,  1199,  1200,  1202,  1221,\n",
       "        1223,  1230,  1239,  1240,  1241,  1250,  1252,  1275,  1288,\n",
       "        1299,  1300,  1312,  1339,  1360,  1362,  1363,  1367,  1390,\n",
       "        1394,  1398,  1399,  1400,  1401,  1403,  1405,  1416,  1432,\n",
       "        1433,  1436,  1500,  1501,  1502,  1503,  1506,  1521,  1548,\n",
       "        1595,  1597,  1598,  1600,  1625,  1631,  1653,  1659,  1689,\n",
       "        1700,  1701,  1703,  1704,  1707,  1753,  1771,  1779,  1780,\n",
       "        1781,  1783,  1793,  1796,  1799,  1800,  1870,  1895,  1896,\n",
       "        1900,  1910,  1920,  1933,  1937,  1968,  1986,  1988,  1992,\n",
       "        1993,  1995,  1998,  1999,  2000,  2005,  2007,  2009,  2016,\n",
       "        2017,  2018,  2172,  2200,  2201,  2331,  2402,  2461,  2598,\n",
       "        2729,  2789,  2792,  2799,  3000,  3199,  3454,  3500,  3750,\n",
       "        4400,  4507,  4700,  5000,  5411,  5420,  5575,  5809,  5815,\n",
       "        5867,  6006,  6010,  6011,  6012,  6018,  6045,  6062,  6226,\n",
       "        6512,  6920,  7508,  7511,  7512,  7515,  7518,  7529,  7544,\n",
       "        8011,  8259,  8404,  8500,  9000,  9007,  9011,  9012,  9013,\n",
       "        9710, 10110, 10218, 10311, 10317, 10520, 10522, 10710, 11011,\n",
       "       11025, 11111, 11509, 11530, 11635, 12012, 12510, 12512, 13616,\n",
       "       13636, 15001, 15016, 15017, 15020, 15033, 16011, 16311, 16312,\n",
       "       17011, 17019, 17410, 17700, 17932, 19208, 19211, 19312, 20000])"
      ]
     },
     "metadata": {},
     "output_type": "display_data"
    },
    {
     "name": "stdout",
     "output_type": "stream",
     "text": [
      "---------------------------------------------------------------------------\n",
      "kilometer\n"
     ]
    },
    {
     "data": {
      "text/plain": [
       "array([  5000,  10000,  20000,  30000,  40000,  50000,  60000,  70000,\n",
       "        80000,  90000, 100000, 125000, 150000])"
      ]
     },
     "metadata": {},
     "output_type": "display_data"
    },
    {
     "name": "stdout",
     "output_type": "stream",
     "text": [
      "---------------------------------------------------------------------------\n"
     ]
    }
   ],
   "source": [
    "# отбираем нужные колонки\n",
    "columns = ['price', 'registration_year', 'power', 'kilometer']\n",
    "\n",
    "for column in columns:\n",
    "    print(column)\n",
    "    display(data[column].sort_values().unique())\n",
    "    print('-' * 75)"
   ]
  },
  {
   "cell_type": "markdown",
   "metadata": {},
   "source": [
    "1. Похоже, что поля **мощность (л. с.)** и **цена (евро)** просто не хотели заполнять и поставили 0. В таком случае стоит дать рекомендацию разработчикам ввести минимальное допустимое значение для заполнения. Некоторые значения мощности скорее всего, являются ошибочными значениями, где поставили или же не доставили одну цифру\n",
    "2. В признаке **год регистрации автомобиля** много некорректных значений, здесь тоже стоит ввести нужный диапазон для заполнения\n",
    "3. С **пробегом** всё в порядке"
   ]
  },
  {
   "cell_type": "markdown",
   "metadata": {},
   "source": [
    "Минимальную стоимость назначим 200 евро\n",
    "\n",
    "Год поставим с 1980 по 2016 год включительно\n",
    "\n",
    "Мощность отберем от 30 л.с. до 1000 л.с. Например, 1000 л.с. есть у Теслы. Данные более 1000 л.с. примем за выброс, который будет только мешать в обучении модели\n",
    "\n",
    "Посмотрим, сколько наблюдений содержится вне выбранных диапазонов:"
   ]
  },
  {
   "cell_type": "code",
   "execution_count": 15,
   "metadata": {
    "scrolled": false
   },
   "outputs": [
    {
     "name": "stdout",
     "output_type": "stream",
     "text": [
      "price\n",
      "Количество наблюдений меньше 200: 14331\n",
      "Количество больше больше 20000: 0\n",
      "\n",
      "power\n",
      "Количество наблюдений меньше 30: 34562\n",
      "Количество больше больше 1000: 265\n",
      "\n",
      "registration_year\n",
      "Количество наблюдений меньше 1980: 2576\n",
      "Количество больше больше 2016: 12483\n",
      "\n"
     ]
    }
   ],
   "source": [
    "def get_range(column, x, y):\n",
    "    print(column.name)\n",
    "    print(f'Количество наблюдений меньше {x}: {(data[column < x]).shape[0]}')\n",
    "    print(f'Количество больше больше {y}: {(data[column > y]).shape[0]}')\n",
    "    print()\n",
    "\n",
    "get_range(data['price'], 200, 20000)\n",
    "get_range(data['power'], 30, 1000)\n",
    "get_range(data['registration_year'], 1980, 2016)"
   ]
  },
  {
   "cell_type": "markdown",
   "metadata": {},
   "source": [
    "Такие значения лучше удалить, так как даже у одних и тех же моделей одного года выпуска мощность может отличаться из-за разных двигателей, которые владельцы заменяли самостоятельно, а стоимость зависит от совокупности различных факторов и является целевым признаком, поэтому самостоятельно мы такие значения заполнить не сможем"
   ]
  },
  {
   "cell_type": "code",
   "execution_count": 16,
   "metadata": {},
   "outputs": [],
   "source": [
    "data = data.query('(200 <= price) & (1980 <= registration_year <= 2016) & (30 <= power <= 1000)')"
   ]
  },
  {
   "cell_type": "markdown",
   "metadata": {},
   "source": [
    "Проверим содержимое оставшегося признака **brand**"
   ]
  },
  {
   "cell_type": "code",
   "execution_count": 17,
   "metadata": {},
   "outputs": [
    {
     "data": {
      "text/plain": [
       "array(['alfa_romeo', 'audi', 'bmw', 'chevrolet', 'chrysler', 'citroen',\n",
       "       'dacia', 'daewoo', 'daihatsu', 'fiat', 'ford', 'honda', 'hyundai',\n",
       "       'jaguar', 'jeep', 'kia', 'lada', 'lancia', 'land_rover', 'mazda',\n",
       "       'mercedes_benz', 'mini', 'mitsubishi', 'nissan', 'opel', 'peugeot',\n",
       "       'porsche', 'renault', 'rover', 'saab', 'seat', 'skoda', 'smart',\n",
       "       'subaru', 'suzuki', 'toyota', 'trabant', 'volkswagen', 'volvo'],\n",
       "      dtype=object)"
      ]
     },
     "execution_count": 17,
     "metadata": {},
     "output_type": "execute_result"
    }
   ],
   "source": [
    "data['brand'].sort_values().unique()"
   ]
  },
  {
   "cell_type": "markdown",
   "metadata": {},
   "source": [
    "Всё в порядке, можем завершать работу с аномалиями / выбросами"
   ]
  },
  {
   "cell_type": "code",
   "execution_count": 18,
   "metadata": {
    "scrolled": true
   },
   "outputs": [
    {
     "name": "stdout",
     "output_type": "stream",
     "text": [
      "Всего удалено строк: 74583\n",
      "Это 21% от первоначального датасета\n"
     ]
    }
   ],
   "source": [
    "print(f'Всего удалено строк: {original_data_shape[0] - data.shape[0]}')\n",
    "print(f'Это {round((original_data_shape[0] - data.shape[0]) * 100 / original_data_shape[0])}% от первоначального датасета')"
   ]
  },
  {
   "cell_type": "markdown",
   "metadata": {},
   "source": [
    "### Кодирование и разделение и  данных"
   ]
  },
  {
   "cell_type": "markdown",
   "metadata": {},
   "source": [
    "Для обучения моделей нам будут нужны два типа данных: закодированные и нет, потому что градиентный бустинг прекрасно справляется и на оригинальных данных"
   ]
  },
  {
   "cell_type": "code",
   "execution_count": 19,
   "metadata": {},
   "outputs": [],
   "source": [
    "# зафиксируем значение random_state\n",
    "SEED = 12345"
   ]
  },
  {
   "cell_type": "markdown",
   "metadata": {},
   "source": [
    "#### Подготовка данных для модели LightGBM"
   ]
  },
  {
   "cell_type": "code",
   "execution_count": 20,
   "metadata": {},
   "outputs": [
    {
     "data": {
      "text/plain": [
       "True"
      ]
     },
     "execution_count": 20,
     "metadata": {},
     "output_type": "execute_result"
    }
   ],
   "source": [
    "features = data.drop('price', axis=1)\n",
    "target = data['price']\n",
    "\n",
    "# разделим данные на обучающую и временную выборки в соотношении 70%:30%\n",
    "features_train, features_sample, target_train, target_sample = train_test_split(features,\n",
    "                                                                                target,\n",
    "                                                                                test_size=0.3,\n",
    "                                                                                random_state=SEED)\n",
    "\n",
    "# разделим данные на валидационную и тестовую выборки в соотношении 15%:15%\n",
    "features_valid, features_test, target_valid, target_test = train_test_split(features_sample,\n",
    "                                                                            target_sample,\n",
    "                                                                            test_size=0.5,\n",
    "                                                                            random_state=SEED)\n",
    "\n",
    "\n",
    "# проверим, что ничего не потеряли\n",
    "data.shape[0] == features_train.shape[0] + features_valid.shape[0] + features_test.shape[0]"
   ]
  },
  {
   "cell_type": "markdown",
   "metadata": {},
   "source": [
    "Для повышения производительности и ускорения обучения модели LightGBM преобразуем категориальные признаки из *object* в *category*"
   ]
  },
  {
   "cell_type": "code",
   "execution_count": 21,
   "metadata": {},
   "outputs": [
    {
     "name": "stdout",
     "output_type": "stream",
     "text": [
      "vehicle_type         category\n",
      "registration_year       int64\n",
      "gearbox              category\n",
      "power                   int64\n",
      "model                category\n",
      "kilometer               int64\n",
      "fuel_type            category\n",
      "brand                category\n",
      "repaired             category\n",
      "dtype: object\n",
      "--------------------------------------------------\n",
      "vehicle_type         category\n",
      "registration_year       int64\n",
      "gearbox              category\n",
      "power                   int64\n",
      "model                category\n",
      "kilometer               int64\n",
      "fuel_type            category\n",
      "brand                category\n",
      "repaired             category\n",
      "dtype: object\n",
      "--------------------------------------------------\n",
      "vehicle_type         category\n",
      "registration_year       int64\n",
      "gearbox              category\n",
      "power                   int64\n",
      "model                category\n",
      "kilometer               int64\n",
      "fuel_type            category\n",
      "brand                category\n",
      "repaired             category\n",
      "dtype: object\n"
     ]
    }
   ],
   "source": [
    "# отбираем категориальные признаки\n",
    "categorical = features_train.dtypes[features_train.dtypes=='object'].index\n",
    "\n",
    "# преобразовываем в тип 'category'\n",
    "features_train[categorical] = (features_train[categorical].astype('category'))\n",
    "features_valid[categorical] = (features_valid[categorical].astype('category'))\n",
    "features_test[categorical] = (features_test[categorical].astype('category'))\n",
    "\n",
    "# проверяем\n",
    "print(features_train.dtypes)\n",
    "print('-' * 50)\n",
    "print(features_valid.dtypes)\n",
    "print('-' * 50)\n",
    "print(features_test.dtypes)"
   ]
  },
  {
   "cell_type": "markdown",
   "metadata": {},
   "source": [
    "#### Подготовка данных для линейной регрессии"
   ]
  },
  {
   "cell_type": "code",
   "execution_count": 22,
   "metadata": {},
   "outputs": [
    {
     "data": {
      "text/html": [
       "<div>\n",
       "<style scoped>\n",
       "    .dataframe tbody tr th:only-of-type {\n",
       "        vertical-align: middle;\n",
       "    }\n",
       "\n",
       "    .dataframe tbody tr th {\n",
       "        vertical-align: top;\n",
       "    }\n",
       "\n",
       "    .dataframe thead th {\n",
       "        text-align: right;\n",
       "    }\n",
       "</style>\n",
       "<table border=\"1\" class=\"dataframe\">\n",
       "  <thead>\n",
       "    <tr style=\"text-align: right;\">\n",
       "      <th></th>\n",
       "      <th>registration_year</th>\n",
       "      <th>power</th>\n",
       "      <th>kilometer</th>\n",
       "      <th>vehicle_type_convertible</th>\n",
       "      <th>vehicle_type_coupe</th>\n",
       "      <th>vehicle_type_not filled</th>\n",
       "      <th>vehicle_type_other</th>\n",
       "      <th>vehicle_type_sedan</th>\n",
       "      <th>vehicle_type_small</th>\n",
       "      <th>vehicle_type_suv</th>\n",
       "      <th>...</th>\n",
       "      <th>brand_skoda</th>\n",
       "      <th>brand_smart</th>\n",
       "      <th>brand_subaru</th>\n",
       "      <th>brand_suzuki</th>\n",
       "      <th>brand_toyota</th>\n",
       "      <th>brand_trabant</th>\n",
       "      <th>brand_volkswagen</th>\n",
       "      <th>brand_volvo</th>\n",
       "      <th>repaired_not filled</th>\n",
       "      <th>repaired_yes</th>\n",
       "    </tr>\n",
       "  </thead>\n",
       "  <tbody>\n",
       "    <tr>\n",
       "      <th>2</th>\n",
       "      <td>2004</td>\n",
       "      <td>163</td>\n",
       "      <td>125000</td>\n",
       "      <td>0</td>\n",
       "      <td>0</td>\n",
       "      <td>0</td>\n",
       "      <td>0</td>\n",
       "      <td>0</td>\n",
       "      <td>0</td>\n",
       "      <td>1</td>\n",
       "      <td>...</td>\n",
       "      <td>0</td>\n",
       "      <td>0</td>\n",
       "      <td>0</td>\n",
       "      <td>0</td>\n",
       "      <td>0</td>\n",
       "      <td>0</td>\n",
       "      <td>0</td>\n",
       "      <td>0</td>\n",
       "      <td>1</td>\n",
       "      <td>0</td>\n",
       "    </tr>\n",
       "    <tr>\n",
       "      <th>3</th>\n",
       "      <td>2001</td>\n",
       "      <td>75</td>\n",
       "      <td>150000</td>\n",
       "      <td>0</td>\n",
       "      <td>0</td>\n",
       "      <td>0</td>\n",
       "      <td>0</td>\n",
       "      <td>0</td>\n",
       "      <td>1</td>\n",
       "      <td>0</td>\n",
       "      <td>...</td>\n",
       "      <td>0</td>\n",
       "      <td>0</td>\n",
       "      <td>0</td>\n",
       "      <td>0</td>\n",
       "      <td>0</td>\n",
       "      <td>0</td>\n",
       "      <td>1</td>\n",
       "      <td>0</td>\n",
       "      <td>0</td>\n",
       "      <td>0</td>\n",
       "    </tr>\n",
       "    <tr>\n",
       "      <th>4</th>\n",
       "      <td>2008</td>\n",
       "      <td>69</td>\n",
       "      <td>90000</td>\n",
       "      <td>0</td>\n",
       "      <td>0</td>\n",
       "      <td>0</td>\n",
       "      <td>0</td>\n",
       "      <td>0</td>\n",
       "      <td>1</td>\n",
       "      <td>0</td>\n",
       "      <td>...</td>\n",
       "      <td>1</td>\n",
       "      <td>0</td>\n",
       "      <td>0</td>\n",
       "      <td>0</td>\n",
       "      <td>0</td>\n",
       "      <td>0</td>\n",
       "      <td>0</td>\n",
       "      <td>0</td>\n",
       "      <td>0</td>\n",
       "      <td>0</td>\n",
       "    </tr>\n",
       "    <tr>\n",
       "      <th>5</th>\n",
       "      <td>1995</td>\n",
       "      <td>102</td>\n",
       "      <td>150000</td>\n",
       "      <td>0</td>\n",
       "      <td>0</td>\n",
       "      <td>0</td>\n",
       "      <td>0</td>\n",
       "      <td>1</td>\n",
       "      <td>0</td>\n",
       "      <td>0</td>\n",
       "      <td>...</td>\n",
       "      <td>0</td>\n",
       "      <td>0</td>\n",
       "      <td>0</td>\n",
       "      <td>0</td>\n",
       "      <td>0</td>\n",
       "      <td>0</td>\n",
       "      <td>0</td>\n",
       "      <td>0</td>\n",
       "      <td>0</td>\n",
       "      <td>1</td>\n",
       "    </tr>\n",
       "    <tr>\n",
       "      <th>6</th>\n",
       "      <td>2004</td>\n",
       "      <td>109</td>\n",
       "      <td>150000</td>\n",
       "      <td>1</td>\n",
       "      <td>0</td>\n",
       "      <td>0</td>\n",
       "      <td>0</td>\n",
       "      <td>0</td>\n",
       "      <td>0</td>\n",
       "      <td>0</td>\n",
       "      <td>...</td>\n",
       "      <td>0</td>\n",
       "      <td>0</td>\n",
       "      <td>0</td>\n",
       "      <td>0</td>\n",
       "      <td>0</td>\n",
       "      <td>0</td>\n",
       "      <td>0</td>\n",
       "      <td>0</td>\n",
       "      <td>0</td>\n",
       "      <td>0</td>\n",
       "    </tr>\n",
       "  </tbody>\n",
       "</table>\n",
       "<p>5 rows × 305 columns</p>\n",
       "</div>"
      ],
      "text/plain": [
       "   registration_year  power  kilometer  vehicle_type_convertible  \\\n",
       "2               2004    163     125000                         0   \n",
       "3               2001     75     150000                         0   \n",
       "4               2008     69      90000                         0   \n",
       "5               1995    102     150000                         0   \n",
       "6               2004    109     150000                         1   \n",
       "\n",
       "   vehicle_type_coupe  vehicle_type_not filled  vehicle_type_other  \\\n",
       "2                   0                        0                   0   \n",
       "3                   0                        0                   0   \n",
       "4                   0                        0                   0   \n",
       "5                   0                        0                   0   \n",
       "6                   0                        0                   0   \n",
       "\n",
       "   vehicle_type_sedan  vehicle_type_small  vehicle_type_suv  ...  brand_skoda  \\\n",
       "2                   0                   0                 1  ...            0   \n",
       "3                   0                   1                 0  ...            0   \n",
       "4                   0                   1                 0  ...            1   \n",
       "5                   1                   0                 0  ...            0   \n",
       "6                   0                   0                 0  ...            0   \n",
       "\n",
       "   brand_smart  brand_subaru  brand_suzuki  brand_toyota  brand_trabant  \\\n",
       "2            0             0             0             0              0   \n",
       "3            0             0             0             0              0   \n",
       "4            0             0             0             0              0   \n",
       "5            0             0             0             0              0   \n",
       "6            0             0             0             0              0   \n",
       "\n",
       "   brand_volkswagen  brand_volvo  repaired_not filled  repaired_yes  \n",
       "2                 0            0                    1             0  \n",
       "3                 1            0                    0             0  \n",
       "4                 0            0                    0             0  \n",
       "5                 0            0                    0             1  \n",
       "6                 0            0                    0             0  \n",
       "\n",
       "[5 rows x 305 columns]"
      ]
     },
     "execution_count": 22,
     "metadata": {},
     "output_type": "execute_result"
    }
   ],
   "source": [
    "# закодируем все категориальные признаки\n",
    "features_ohe = pd.get_dummies(features, drop_first=True)\n",
    "# проверим\n",
    "features_ohe.head()"
   ]
  },
  {
   "cell_type": "code",
   "execution_count": 23,
   "metadata": {},
   "outputs": [
    {
     "data": {
      "text/plain": [
       "True"
      ]
     },
     "execution_count": 23,
     "metadata": {},
     "output_type": "execute_result"
    }
   ],
   "source": [
    "# разделим данные на обучающую и временную выборки в соотношении 70%:30%\n",
    "features_train_ohe, features_temp_ohe, \\\n",
    "target_train_ohe, target_target_ohe = train_test_split(features_ohe,\n",
    "                                                       target,\n",
    "                                                       test_size=0.3,\n",
    "                                                       random_state=SEED)\n",
    "\n",
    "# разделим данные на валидационную и тестовую выборки в соотношении 15%:15%\n",
    "features_valid_ohe, features_test_ohe, \\\n",
    "target_valid_ohe, target_test_ohe = train_test_split(features_temp_ohe,\n",
    "                                                     target_target_ohe,\n",
    "                                                     test_size=0.5,\n",
    "                                                     random_state=SEED)\n",
    "\n",
    "\n",
    "# проверим, что ничего не потеряли\n",
    "data.shape[0] == features_train_ohe.shape[0] + features_valid_ohe.shape[0] + features_test_ohe.shape[0]"
   ]
  },
  {
   "cell_type": "markdown",
   "metadata": {},
   "source": [
    "#### Подготовка данных для случайного леса"
   ]
  },
  {
   "cell_type": "code",
   "execution_count": 24,
   "metadata": {},
   "outputs": [
    {
     "data": {
      "text/html": [
       "<div>\n",
       "<style scoped>\n",
       "    .dataframe tbody tr th:only-of-type {\n",
       "        vertical-align: middle;\n",
       "    }\n",
       "\n",
       "    .dataframe tbody tr th {\n",
       "        vertical-align: top;\n",
       "    }\n",
       "\n",
       "    .dataframe thead th {\n",
       "        text-align: right;\n",
       "    }\n",
       "</style>\n",
       "<table border=\"1\" class=\"dataframe\">\n",
       "  <thead>\n",
       "    <tr style=\"text-align: right;\">\n",
       "      <th></th>\n",
       "      <th>vehicle_type</th>\n",
       "      <th>registration_year</th>\n",
       "      <th>gearbox</th>\n",
       "      <th>power</th>\n",
       "      <th>model</th>\n",
       "      <th>kilometer</th>\n",
       "      <th>fuel_type</th>\n",
       "      <th>brand</th>\n",
       "      <th>repaired</th>\n",
       "    </tr>\n",
       "  </thead>\n",
       "  <tbody>\n",
       "    <tr>\n",
       "      <th>2</th>\n",
       "      <td>7.0</td>\n",
       "      <td>2004</td>\n",
       "      <td>0.0</td>\n",
       "      <td>163</td>\n",
       "      <td>117.0</td>\n",
       "      <td>125000</td>\n",
       "      <td>2.0</td>\n",
       "      <td>14.0</td>\n",
       "      <td>1.0</td>\n",
       "    </tr>\n",
       "    <tr>\n",
       "      <th>3</th>\n",
       "      <td>6.0</td>\n",
       "      <td>2001</td>\n",
       "      <td>1.0</td>\n",
       "      <td>75</td>\n",
       "      <td>116.0</td>\n",
       "      <td>150000</td>\n",
       "      <td>2.0</td>\n",
       "      <td>37.0</td>\n",
       "      <td>0.0</td>\n",
       "    </tr>\n",
       "    <tr>\n",
       "      <th>4</th>\n",
       "      <td>6.0</td>\n",
       "      <td>2008</td>\n",
       "      <td>1.0</td>\n",
       "      <td>69</td>\n",
       "      <td>101.0</td>\n",
       "      <td>90000</td>\n",
       "      <td>2.0</td>\n",
       "      <td>31.0</td>\n",
       "      <td>0.0</td>\n",
       "    </tr>\n",
       "    <tr>\n",
       "      <th>5</th>\n",
       "      <td>5.0</td>\n",
       "      <td>1995</td>\n",
       "      <td>1.0</td>\n",
       "      <td>102</td>\n",
       "      <td>11.0</td>\n",
       "      <td>150000</td>\n",
       "      <td>2.0</td>\n",
       "      <td>2.0</td>\n",
       "      <td>2.0</td>\n",
       "    </tr>\n",
       "    <tr>\n",
       "      <th>6</th>\n",
       "      <td>1.0</td>\n",
       "      <td>2004</td>\n",
       "      <td>1.0</td>\n",
       "      <td>109</td>\n",
       "      <td>8.0</td>\n",
       "      <td>150000</td>\n",
       "      <td>2.0</td>\n",
       "      <td>25.0</td>\n",
       "      <td>0.0</td>\n",
       "    </tr>\n",
       "  </tbody>\n",
       "</table>\n",
       "</div>"
      ],
      "text/plain": [
       "   vehicle_type  registration_year  gearbox  power  model  kilometer  \\\n",
       "2           7.0               2004      0.0    163  117.0     125000   \n",
       "3           6.0               2001      1.0     75  116.0     150000   \n",
       "4           6.0               2008      1.0     69  101.0      90000   \n",
       "5           5.0               1995      1.0    102   11.0     150000   \n",
       "6           1.0               2004      1.0    109    8.0     150000   \n",
       "\n",
       "   fuel_type  brand  repaired  \n",
       "2        2.0   14.0       1.0  \n",
       "3        2.0   37.0       0.0  \n",
       "4        2.0   31.0       0.0  \n",
       "5        2.0    2.0       2.0  \n",
       "6        2.0   25.0       0.0  "
      ]
     },
     "execution_count": 24,
     "metadata": {},
     "output_type": "execute_result"
    }
   ],
   "source": [
    "# сохраняем копию\n",
    "features_oe = features.copy()\n",
    "# инициализируем OrdinalEncoder\n",
    "encoder = OrdinalEncoder()\n",
    "# отбираем категориальные признаки\n",
    "cat_columns = features_oe.columns[features_oe.dtypes == 'object'].tolist()\n",
    "# кодируем\n",
    "features_oe[cat_columns] = encoder.fit_transform(features_oe[cat_columns])\n",
    "# проверим\n",
    "features_oe.head()"
   ]
  },
  {
   "cell_type": "code",
   "execution_count": 25,
   "metadata": {},
   "outputs": [
    {
     "data": {
      "text/plain": [
       "True"
      ]
     },
     "execution_count": 25,
     "metadata": {},
     "output_type": "execute_result"
    }
   ],
   "source": [
    "# разделим данные на обучающую и временную выборки в соотношении 70%:30%\n",
    "features_train_oe, features_temp_oe, \\\n",
    "target_train_oe, target_temp_oe = train_test_split(features_oe,\n",
    "                                                   target,\n",
    "                                                   test_size=0.3,\n",
    "                                                   random_state=SEED)\n",
    "\n",
    "# разделим данные на валидационную и тестовую выборки в соотношении 15%:15%\n",
    "features_valid_oe, features_test_oe, \\\n",
    "target_valid_oe, target_test_oe = train_test_split(features_temp_oe, \n",
    "                                                    target_temp_oe,\n",
    "                                                    test_size=0.5,\n",
    "                                                    random_state=SEED)\n",
    "\n",
    "# проверим, что ничего не потеряли\n",
    "data.shape[0] == features_train_oe.shape[0] + features_valid_oe.shape[0] + features_test_oe.shape[0]"
   ]
  },
  {
   "cell_type": "markdown",
   "metadata": {},
   "source": [
    "## Обучение моделей"
   ]
  },
  {
   "cell_type": "markdown",
   "metadata": {},
   "source": [
    "### Линейная регрессия"
   ]
  },
  {
   "cell_type": "code",
   "execution_count": 26,
   "metadata": {},
   "outputs": [
    {
     "name": "stdout",
     "output_type": "stream",
     "text": [
      "Время обучения: 22.34 сек.\n",
      "\n",
      "CPU times: user 13.8 s, sys: 8.56 s, total: 22.4 s\n",
      "Wall time: 22.3 s\n"
     ]
    }
   ],
   "source": [
    "%%time\n",
    "\n",
    "# обучаем и замеряем время обучения\n",
    "start = time.time()\n",
    "model_lr = LinearRegression()\n",
    "model_lr.fit(features_train_ohe, target_train_ohe)\n",
    "train_time_lr = round(time.time() - start, 2)\n",
    "\n",
    "print(f'Время обучения: {train_time_lr} сек.')\n",
    "print()"
   ]
  },
  {
   "cell_type": "code",
   "execution_count": 27,
   "metadata": {},
   "outputs": [
    {
     "name": "stdout",
     "output_type": "stream",
     "text": [
      "Время предсказания: 0.22 сек.\n",
      "RMSE: 2401.660031951627\n",
      "\n",
      "CPU times: user 91.9 ms, sys: 74.7 ms, total: 167 ms\n",
      "Wall time: 221 ms\n"
     ]
    }
   ],
   "source": [
    "%%time\n",
    "\n",
    "# замеряем время предсказания\n",
    "start = time.time()\n",
    "predictions_lr = model_lr.predict(features_valid_ohe)\n",
    "pred_time_lr = round(time.time() - start, 2)\n",
    "\n",
    "# вычисляем RMSE\n",
    "rmse_lr = mean_squared_error(target_valid_ohe, predictions_lr)**0.5\n",
    "\n",
    "print(f'Время предсказания: {pred_time_lr} сек.')\n",
    "print(f'RMSE: {rmse_lr}')\n",
    "print()"
   ]
  },
  {
   "cell_type": "markdown",
   "metadata": {},
   "source": [
    "### Случайный лес"
   ]
  },
  {
   "cell_type": "code",
   "execution_count": 28,
   "metadata": {},
   "outputs": [
    {
     "name": "stdout",
     "output_type": "stream",
     "text": [
      "{'n_estimators': 20, 'max_depth': 6}\n",
      "\n",
      "CPU times: user 52.2 s, sys: 112 ms, total: 52.3 s\n",
      "Wall time: 52.6 s\n"
     ]
    }
   ],
   "source": [
    "%%time\n",
    "\n",
    "parameters = {\n",
    "    'max_depth': [2, 6],\n",
    "    'n_estimators': range(10, 100, 10)\n",
    "}\n",
    "\n",
    "# подбираем лучшие параметры\n",
    "model_rf = RandomizedSearchCV(RandomForestRegressor(random_state=SEED),\n",
    "                              parameters,\n",
    "                              random_state=SEED,\n",
    "                              cv=2, \n",
    "                              scoring='neg_root_mean_squared_error',\n",
    "                              n_jobs=-1)\n",
    "\n",
    "model_rf.fit(features_train_oe, target_train_oe)\n",
    "\n",
    "print(model_rf.best_params_)\n",
    "print()"
   ]
  },
  {
   "cell_type": "code",
   "execution_count": 29,
   "metadata": {},
   "outputs": [
    {
     "name": "stdout",
     "output_type": "stream",
     "text": [
      "Время обучения: 14.94 сек.\n",
      "\n",
      "CPU times: user 14.9 s, sys: 23.8 ms, total: 14.9 s\n",
      "Wall time: 14.9 s\n"
     ]
    }
   ],
   "source": [
    "%%time\n",
    "\n",
    "# обучаем и замеряем время обучения\n",
    "start = time.time()\n",
    "model_rf = RandomForestRegressor(random_state=SEED, max_depth=6)\n",
    "model_rf.fit(features_train_oe, target_train_oe)\n",
    "train_time_rf = round(time.time() - start, 2)\n",
    "\n",
    "print(f'Время обучения: {train_time_rf} сек.')\n",
    "print()"
   ]
  },
  {
   "cell_type": "code",
   "execution_count": 30,
   "metadata": {},
   "outputs": [
    {
     "name": "stdout",
     "output_type": "stream",
     "text": [
      "Время предсказания: 0.19 сек.\n",
      "RMSE: 2158.4947633445527\n",
      "\n",
      "CPU times: user 185 ms, sys: 0 ns, total: 185 ms\n",
      "Wall time: 192 ms\n"
     ]
    }
   ],
   "source": [
    "%%time\n",
    "\n",
    "# замеряем время предсказания\n",
    "start = time.time()\n",
    "predictions_rf = model_rf.predict(features_valid_oe)\n",
    "pred_time_rf = round(time.time() - start, 2)\n",
    "\n",
    "# вычисляем RMSE\n",
    "rmse_rf = mean_squared_error(target_valid_oe, predictions_rf)**0.5\n",
    "\n",
    "print(f'Время предсказания: {pred_time_rf} сек.')\n",
    "print(f'RMSE: {rmse_rf}')\n",
    "print()"
   ]
  },
  {
   "cell_type": "markdown",
   "metadata": {},
   "source": [
    "### LightGBM"
   ]
  },
  {
   "cell_type": "code",
   "execution_count": 31,
   "metadata": {},
   "outputs": [
    {
     "name": "stdout",
     "output_type": "stream",
     "text": [
      "{'max_depth': 6}\n",
      "\n",
      "CPU times: user 27.3 s, sys: 57.7 ms, total: 27.3 s\n",
      "Wall time: 27.5 s\n"
     ]
    }
   ],
   "source": [
    "%%time\n",
    "\n",
    "parameters = {'max_depth': [2, 6]}\n",
    "\n",
    "# подбираем параметры\n",
    "model_lgbm = RandomizedSearchCV(LGBMRegressor(random_state=SEED),\n",
    "                                parameters,\n",
    "                                random_state=SEED,\n",
    "                                cv=2,\n",
    "                                scoring='neg_root_mean_squared_error',\n",
    "                                n_jobs=-1)\n",
    "\n",
    "model_lgbm.fit(features_train, target_train)\n",
    "\n",
    "print(model_lgbm.best_params_)\n",
    "print()"
   ]
  },
  {
   "cell_type": "code",
   "execution_count": 32,
   "metadata": {},
   "outputs": [
    {
     "name": "stdout",
     "output_type": "stream",
     "text": [
      "Время обучения: 3.6 сек.\n",
      "\n",
      "CPU times: user 3.6 s, sys: 13.2 ms, total: 3.61 s\n",
      "Wall time: 3.6 s\n"
     ]
    }
   ],
   "source": [
    "%%time\n",
    "\n",
    "# обучаем и замеряем время обучения\n",
    "start = time.time()\n",
    "model_lgbm = LGBMRegressor(random_state=SEED, max_depth=6, learning_rate=1.0)\n",
    "model_lgbm.fit(features_train, target_train)\n",
    "train_time_lgbm = round(time.time() - start, 2)\n",
    "\n",
    "print(f'Время обучения: {train_time_lgbm} сек.')\n",
    "print()"
   ]
  },
  {
   "cell_type": "code",
   "execution_count": 33,
   "metadata": {},
   "outputs": [
    {
     "name": "stdout",
     "output_type": "stream",
     "text": [
      "Время предсказания: 0.31 сек.\n",
      "RMSE: 1589.2580926011983\n",
      "\n",
      "CPU times: user 366 ms, sys: 0 ns, total: 366 ms\n",
      "Wall time: 392 ms\n"
     ]
    }
   ],
   "source": [
    "%%time\n",
    "\n",
    "# замеряем время предсказания\n",
    "start = time.time()\n",
    "predictions_lgbm = model_lgbm.predict(features_valid)\n",
    "pred_time_lgbm = round(time.time() - start, 2)\n",
    "\n",
    "# вычисляем RMSE\n",
    "rmse_lgbm = mean_squared_error(target_valid, predictions_lgbm)**0.5\n",
    "\n",
    "print(f'Время предсказания: {pred_time_lgbm} сек.')\n",
    "print(f'RMSE: {rmse_lgbm}')\n",
    "print()"
   ]
  },
  {
   "cell_type": "markdown",
   "metadata": {},
   "source": [
    "### Константная модель"
   ]
  },
  {
   "cell_type": "code",
   "execution_count": 34,
   "metadata": {},
   "outputs": [
    {
     "name": "stdout",
     "output_type": "stream",
     "text": [
      "Время обучения: 0.001 сек.\n",
      "\n",
      "CPU times: user 2.6 ms, sys: 0 ns, total: 2.6 ms\n",
      "Wall time: 1.47 ms\n"
     ]
    }
   ],
   "source": [
    "%%time\n",
    "\n",
    "# обучаем и замеряем время обучения\n",
    "start = time.time()\n",
    "constant_model = DummyRegressor(strategy='mean')\n",
    "constant_model.fit(features_train, target_train)\n",
    "train_time_cm = round(time.time() - start, 3)\n",
    "\n",
    "print(f'Время обучения: {train_time_cm} сек.')\n",
    "print()"
   ]
  },
  {
   "cell_type": "code",
   "execution_count": 35,
   "metadata": {},
   "outputs": [
    {
     "name": "stdout",
     "output_type": "stream",
     "text": [
      "Время предсказания: 0.0 сек.\n",
      "RMSE: 4614.730863581237\n",
      "\n",
      "CPU times: user 1.41 ms, sys: 0 ns, total: 1.41 ms\n",
      "Wall time: 1.07 ms\n"
     ]
    }
   ],
   "source": [
    "%%time\n",
    "\n",
    "# замеряем время предсказания\n",
    "start = time.time()\n",
    "predictions_cm = constant_model.predict(features_valid)\n",
    "pred_time_cm = round(time.time() - start, 3)\n",
    "\n",
    "# вычисляем RMSE\n",
    "rmse_cm = mean_squared_error(target_valid, predictions_cm)**0.5\n",
    "\n",
    "print(f'Время предсказания: {pred_time_cm} сек.')\n",
    "print(f'RMSE: {rmse_cm}')\n",
    "print()"
   ]
  },
  {
   "cell_type": "markdown",
   "metadata": {},
   "source": [
    "## Анализ моделей"
   ]
  },
  {
   "cell_type": "code",
   "execution_count": 36,
   "metadata": {},
   "outputs": [
    {
     "data": {
      "text/html": [
       "<div>\n",
       "<style scoped>\n",
       "    .dataframe tbody tr th:only-of-type {\n",
       "        vertical-align: middle;\n",
       "    }\n",
       "\n",
       "    .dataframe tbody tr th {\n",
       "        vertical-align: top;\n",
       "    }\n",
       "\n",
       "    .dataframe thead th {\n",
       "        text-align: right;\n",
       "    }\n",
       "</style>\n",
       "<table border=\"1\" class=\"dataframe\">\n",
       "  <thead>\n",
       "    <tr style=\"text-align: right;\">\n",
       "      <th></th>\n",
       "      <th>Модель</th>\n",
       "      <th>Значение RMSE</th>\n",
       "      <th>Время обучения</th>\n",
       "      <th>Время предсказания</th>\n",
       "    </tr>\n",
       "  </thead>\n",
       "  <tbody>\n",
       "    <tr>\n",
       "      <th>0</th>\n",
       "      <td>Линейная регрессия</td>\n",
       "      <td>2401.660032</td>\n",
       "      <td>22.340</td>\n",
       "      <td>0.22</td>\n",
       "    </tr>\n",
       "    <tr>\n",
       "      <th>1</th>\n",
       "      <td>Случайный лес</td>\n",
       "      <td>2158.494763</td>\n",
       "      <td>14.940</td>\n",
       "      <td>0.19</td>\n",
       "    </tr>\n",
       "    <tr>\n",
       "      <th>2</th>\n",
       "      <td>LightGBM</td>\n",
       "      <td>1589.258093</td>\n",
       "      <td>3.600</td>\n",
       "      <td>0.31</td>\n",
       "    </tr>\n",
       "    <tr>\n",
       "      <th>3</th>\n",
       "      <td>Константная модель</td>\n",
       "      <td>4614.730864</td>\n",
       "      <td>0.001</td>\n",
       "      <td>0.00</td>\n",
       "    </tr>\n",
       "  </tbody>\n",
       "</table>\n",
       "</div>"
      ],
      "text/plain": [
       "               Модель  Значение RMSE  Время обучения  Время предсказания\n",
       "0  Линейная регрессия    2401.660032          22.340                0.22\n",
       "1       Случайный лес    2158.494763          14.940                0.19\n",
       "2            LightGBM    1589.258093           3.600                0.31\n",
       "3  Константная модель    4614.730864           0.001                0.00"
      ]
     },
     "execution_count": 36,
     "metadata": {},
     "output_type": "execute_result"
    }
   ],
   "source": [
    "compare = pd.DataFrame({\n",
    "    'Модель': ['Линейная регрессия', 'Случайный лес', 'LightGBM', 'Константная модель'],\n",
    "    'Значение RMSE': [rmse_lr, rmse_rf, rmse_lgbm, rmse_cm],\n",
    "    'Время обучения': [train_time_lr, train_time_rf, train_time_lgbm, train_time_cm],\n",
    "    'Время предсказания': [pred_time_lr, pred_time_rf, pred_time_lgbm, pred_time_cm]\n",
    "})\n",
    "\n",
    "compare"
   ]
  },
  {
   "cell_type": "markdown",
   "metadata": {},
   "source": [
    "Лучшую скорость обучения и значение RMSE показала модель градиентного бустинга LightGBM. Во время предсказания немного подкачала по скорости в сравнении со всеми моделями, но учитывая такую высокую скорость обучения на большом объеме данных при двух гиперпараметрах в то время, когда у случайного леса только один – на это можно закрыть глаза и считать данную модель лучшей\n",
    "\n",
    "Также наблюдается высокая скорость обучения и предсказания константной модели, но низкое качество перебивает такие плюсы – RMSE составляет более 4к, а это очень плохой показатель\n",
    "\n",
    "Проверим теперь LightGBM на тестовой выборке"
   ]
  },
  {
   "cell_type": "code",
   "execution_count": 37,
   "metadata": {},
   "outputs": [
    {
     "name": "stdout",
     "output_type": "stream",
     "text": [
      "Время предсказания: 0.36 сек.\n",
      "RMSE: 1604.7741959498553\n",
      "\n",
      "CPU times: user 353 ms, sys: 0 ns, total: 353 ms\n",
      "Wall time: 362 ms\n"
     ]
    }
   ],
   "source": [
    "%%time\n",
    "\n",
    "# замеряем время предсказания на тестовой выборке\n",
    "start = time.time()\n",
    "predictions_lgbm = model_lgbm.predict(features_test)\n",
    "pred_time_lgbm = round(time.time() - start, 2)\n",
    "\n",
    "# вычисляем RMSE\n",
    "rmse_lgbm = mean_squared_error(target_test, predictions_lgbm)**0.5\n",
    "\n",
    "print(f'Время предсказания: {pred_time_lgbm} сек.')\n",
    "print(f'RMSE: {rmse_lgbm}')\n",
    "print()"
   ]
  },
  {
   "cell_type": "markdown",
   "metadata": {},
   "source": [
    "### Вывод"
   ]
  },
  {
   "cell_type": "markdown",
   "metadata": {},
   "source": [
    "<div style=\"border:solid silver 2px; padding: 30px\">\n",
    "    \n",
    "LightGBM и на тестовой выборке не подкачала и показывает адекватные результаты"
   ]
  },
  {
   "cell_type": "markdown",
   "metadata": {},
   "source": [
    "##  Общий вывод"
   ]
  },
  {
   "cell_type": "markdown",
   "metadata": {},
   "source": [
    "На основании исследования, сервису по продаже автомобилей с пробегом «Не бит, не крашен» стоит порекомендовать модель градиентного бустинга LightGBM с параметром max_depth=6"
   ]
  },
  {
   "cell_type": "markdown",
   "metadata": {},
   "source": [
    "## Чек-лист проверки"
   ]
  },
  {
   "cell_type": "markdown",
   "metadata": {},
   "source": [
    "Поставьте 'x' в выполненных пунктах. Далее нажмите Shift+Enter."
   ]
  },
  {
   "cell_type": "markdown",
   "metadata": {},
   "source": [
    "- [x]  Jupyter Notebook открыт\n",
    "- [x]  Весь код выполняется без ошибок\n",
    "- [x]  Ячейки с кодом расположены в порядке исполнения\n",
    "- [x]  Выполнена загрузка и подготовка данных\n",
    "- [x]  Выполнено обучение моделей\n",
    "- [x]  Есть анализ скорости работы и качества моделей"
   ]
  }
 ],
 "metadata": {
  "ExecuteTimeLog": [
   {
    "duration": 435,
    "start_time": "2023-02-06T06:42:26.862Z"
   },
   {
    "duration": 2896,
    "start_time": "2023-02-06T06:42:46.032Z"
   },
   {
    "duration": 747,
    "start_time": "2023-02-06T06:45:32.929Z"
   },
   {
    "duration": 1755,
    "start_time": "2023-02-06T06:45:33.677Z"
   },
   {
    "duration": 1281,
    "start_time": "2023-02-06T06:46:36.055Z"
   },
   {
    "duration": 1103,
    "start_time": "2023-02-06T07:13:58.912Z"
   },
   {
    "duration": 6,
    "start_time": "2023-02-06T07:14:38.233Z"
   },
   {
    "duration": 6,
    "start_time": "2023-02-06T07:18:02.565Z"
   },
   {
    "duration": 79,
    "start_time": "2023-02-06T07:18:13.532Z"
   },
   {
    "duration": 28,
    "start_time": "2023-02-06T07:18:17.446Z"
   },
   {
    "duration": 104,
    "start_time": "2023-02-06T07:56:41.844Z"
   },
   {
    "duration": 125,
    "start_time": "2023-02-06T07:56:45.885Z"
   },
   {
    "duration": 1412,
    "start_time": "2023-02-06T07:57:00.389Z"
   },
   {
    "duration": 1205,
    "start_time": "2023-02-06T07:57:09.545Z"
   },
   {
    "duration": 8,
    "start_time": "2023-02-06T08:08:36.275Z"
   },
   {
    "duration": 8,
    "start_time": "2023-02-06T08:08:39.600Z"
   },
   {
    "duration": 39,
    "start_time": "2023-02-06T08:08:52.597Z"
   },
   {
    "duration": 43,
    "start_time": "2023-02-06T08:09:06.331Z"
   },
   {
    "duration": 193,
    "start_time": "2023-02-06T08:09:50.264Z"
   },
   {
    "duration": 203,
    "start_time": "2023-02-06T08:11:51.413Z"
   },
   {
    "duration": 234,
    "start_time": "2023-02-06T08:11:59.835Z"
   },
   {
    "duration": 204,
    "start_time": "2023-02-06T08:12:14.043Z"
   },
   {
    "duration": 205,
    "start_time": "2023-02-06T08:12:26.444Z"
   },
   {
    "duration": 203,
    "start_time": "2023-02-06T08:12:29.603Z"
   },
   {
    "duration": 234,
    "start_time": "2023-02-06T08:12:33.405Z"
   },
   {
    "duration": 210,
    "start_time": "2023-02-06T08:12:41.934Z"
   },
   {
    "duration": 213,
    "start_time": "2023-02-06T08:12:44.902Z"
   },
   {
    "duration": 5,
    "start_time": "2023-02-06T08:13:33.784Z"
   },
   {
    "duration": 32,
    "start_time": "2023-02-06T08:13:42.116Z"
   },
   {
    "duration": 9,
    "start_time": "2023-02-06T08:14:21.330Z"
   },
   {
    "duration": 4,
    "start_time": "2023-02-06T08:14:25.835Z"
   },
   {
    "duration": 11,
    "start_time": "2023-02-06T08:14:53.236Z"
   },
   {
    "duration": 4,
    "start_time": "2023-02-06T08:15:08.045Z"
   },
   {
    "duration": 169,
    "start_time": "2023-02-06T08:15:43.694Z"
   },
   {
    "duration": 153,
    "start_time": "2023-02-06T08:16:10.775Z"
   },
   {
    "duration": 28,
    "start_time": "2023-02-06T08:16:35.925Z"
   },
   {
    "duration": 169,
    "start_time": "2023-02-06T08:17:37.570Z"
   },
   {
    "duration": 25,
    "start_time": "2023-02-06T08:17:40.061Z"
   },
   {
    "duration": 8,
    "start_time": "2023-02-06T08:18:04.698Z"
   },
   {
    "duration": 10,
    "start_time": "2023-02-06T08:18:07.552Z"
   },
   {
    "duration": 7,
    "start_time": "2023-02-06T08:18:10.923Z"
   },
   {
    "duration": 33,
    "start_time": "2023-02-06T08:18:21.701Z"
   },
   {
    "duration": 9,
    "start_time": "2023-02-06T08:19:14.246Z"
   },
   {
    "duration": 9,
    "start_time": "2023-02-06T08:19:17.610Z"
   },
   {
    "duration": 7,
    "start_time": "2023-02-06T08:19:51.263Z"
   },
   {
    "duration": 8,
    "start_time": "2023-02-06T08:20:47.555Z"
   },
   {
    "duration": 7,
    "start_time": "2023-02-06T08:20:51.707Z"
   },
   {
    "duration": 9,
    "start_time": "2023-02-06T08:20:53.889Z"
   },
   {
    "duration": 8,
    "start_time": "2023-02-06T08:21:00.703Z"
   },
   {
    "duration": 3,
    "start_time": "2023-02-06T08:41:46.426Z"
   },
   {
    "duration": 133,
    "start_time": "2023-02-06T08:41:49.900Z"
   },
   {
    "duration": 149,
    "start_time": "2023-02-06T08:42:13.001Z"
   },
   {
    "duration": 8,
    "start_time": "2023-02-06T08:42:47.089Z"
   },
   {
    "duration": 10,
    "start_time": "2023-02-06T08:43:04.323Z"
   },
   {
    "duration": 5,
    "start_time": "2023-02-06T08:43:07.978Z"
   },
   {
    "duration": 7,
    "start_time": "2023-02-06T08:43:42.302Z"
   },
   {
    "duration": 6,
    "start_time": "2023-02-06T08:43:45.150Z"
   },
   {
    "duration": 76,
    "start_time": "2023-02-06T08:47:45.294Z"
   },
   {
    "duration": 11,
    "start_time": "2023-02-06T08:47:53.148Z"
   },
   {
    "duration": 493,
    "start_time": "2023-02-06T08:48:14.260Z"
   },
   {
    "duration": 964,
    "start_time": "2023-02-06T08:48:14.755Z"
   },
   {
    "duration": 1968,
    "start_time": "2023-02-06T08:48:15.720Z"
   },
   {
    "duration": 241,
    "start_time": "2023-02-06T08:48:17.691Z"
   },
   {
    "duration": 8,
    "start_time": "2023-02-06T08:48:17.934Z"
   },
   {
    "duration": 115,
    "start_time": "2023-02-06T08:48:17.943Z"
   },
   {
    "duration": 0,
    "start_time": "2023-02-06T08:48:18.060Z"
   },
   {
    "duration": 0,
    "start_time": "2023-02-06T08:48:18.061Z"
   },
   {
    "duration": 0,
    "start_time": "2023-02-06T08:48:18.062Z"
   },
   {
    "duration": 0,
    "start_time": "2023-02-06T08:48:18.139Z"
   },
   {
    "duration": 5,
    "start_time": "2023-02-06T08:48:32.153Z"
   },
   {
    "duration": 10,
    "start_time": "2023-02-06T08:51:46.194Z"
   },
   {
    "duration": 11,
    "start_time": "2023-02-06T08:51:51.097Z"
   },
   {
    "duration": 5,
    "start_time": "2023-02-06T08:51:59.237Z"
   },
   {
    "duration": 226,
    "start_time": "2023-02-06T08:52:03.093Z"
   },
   {
    "duration": 4,
    "start_time": "2023-02-06T08:52:07.168Z"
   },
   {
    "duration": 112,
    "start_time": "2023-02-06T08:52:08.386Z"
   },
   {
    "duration": 5,
    "start_time": "2023-02-06T08:52:16.105Z"
   },
   {
    "duration": 156,
    "start_time": "2023-02-06T08:52:17.376Z"
   },
   {
    "duration": 4,
    "start_time": "2023-02-06T08:52:44.983Z"
   },
   {
    "duration": 4,
    "start_time": "2023-02-06T08:52:54.854Z"
   },
   {
    "duration": 161,
    "start_time": "2023-02-06T08:52:56.002Z"
   },
   {
    "duration": 444,
    "start_time": "2023-02-06T08:53:04.992Z"
   },
   {
    "duration": 903,
    "start_time": "2023-02-06T08:53:05.438Z"
   },
   {
    "duration": 1798,
    "start_time": "2023-02-06T08:53:06.343Z"
   },
   {
    "duration": 311,
    "start_time": "2023-02-06T08:53:08.144Z"
   },
   {
    "duration": 12,
    "start_time": "2023-02-06T08:53:08.457Z"
   },
   {
    "duration": 17,
    "start_time": "2023-02-06T08:53:08.471Z"
   },
   {
    "duration": 140,
    "start_time": "2023-02-06T08:53:08.492Z"
   },
   {
    "duration": 194,
    "start_time": "2023-02-06T08:53:08.635Z"
   },
   {
    "duration": 41,
    "start_time": "2023-02-06T08:53:08.830Z"
   },
   {
    "duration": 75,
    "start_time": "2023-02-06T08:53:08.891Z"
   },
   {
    "duration": 73,
    "start_time": "2023-02-06T09:06:00.708Z"
   },
   {
    "duration": 58,
    "start_time": "2023-02-06T09:06:07.491Z"
   },
   {
    "duration": 14,
    "start_time": "2023-02-06T09:06:12.809Z"
   },
   {
    "duration": 52,
    "start_time": "2023-02-06T09:07:50.726Z"
   },
   {
    "duration": 79,
    "start_time": "2023-02-06T09:30:34.299Z"
   },
   {
    "duration": 207,
    "start_time": "2023-02-06T09:30:37.441Z"
   },
   {
    "duration": 2,
    "start_time": "2023-02-06T09:41:21.319Z"
   },
   {
    "duration": 32,
    "start_time": "2023-02-06T09:43:16.948Z"
   },
   {
    "duration": 102,
    "start_time": "2023-02-06T09:43:22.963Z"
   },
   {
    "duration": 20,
    "start_time": "2023-02-06T09:49:47.173Z"
   },
   {
    "duration": 12,
    "start_time": "2023-02-06T09:50:01.296Z"
   },
   {
    "duration": 83,
    "start_time": "2023-02-06T09:50:11.332Z"
   },
   {
    "duration": 409,
    "start_time": "2023-02-06T09:50:16.767Z"
   },
   {
    "duration": 823,
    "start_time": "2023-02-06T09:50:17.178Z"
   },
   {
    "duration": 1553,
    "start_time": "2023-02-06T09:50:18.002Z"
   },
   {
    "duration": 52,
    "start_time": "2023-02-06T09:50:19.557Z"
   },
   {
    "duration": 36,
    "start_time": "2023-02-06T09:50:19.611Z"
   },
   {
    "duration": 93,
    "start_time": "2023-02-06T09:50:19.649Z"
   },
   {
    "duration": 2145,
    "start_time": "2023-02-06T09:50:19.744Z"
   },
   {
    "duration": 0,
    "start_time": "2023-02-06T09:50:21.890Z"
   },
   {
    "duration": 0,
    "start_time": "2023-02-06T09:50:21.892Z"
   },
   {
    "duration": 0,
    "start_time": "2023-02-06T09:50:21.893Z"
   },
   {
    "duration": 0,
    "start_time": "2023-02-06T09:50:21.894Z"
   },
   {
    "duration": 0,
    "start_time": "2023-02-06T09:50:21.895Z"
   },
   {
    "duration": 13,
    "start_time": "2023-02-06T09:50:58.141Z"
   },
   {
    "duration": 13,
    "start_time": "2023-02-06T09:51:00.096Z"
   },
   {
    "duration": 14,
    "start_time": "2023-02-06T09:51:02.266Z"
   },
   {
    "duration": 16,
    "start_time": "2023-02-06T09:51:04.364Z"
   },
   {
    "duration": 17,
    "start_time": "2023-02-06T09:51:06.546Z"
   },
   {
    "duration": 16,
    "start_time": "2023-02-06T09:51:26.086Z"
   },
   {
    "duration": 4,
    "start_time": "2023-02-06T09:51:28.944Z"
   },
   {
    "duration": 15,
    "start_time": "2023-02-06T09:52:11.441Z"
   },
   {
    "duration": 17,
    "start_time": "2023-02-06T09:52:21.833Z"
   },
   {
    "duration": 14,
    "start_time": "2023-02-06T09:52:28.258Z"
   },
   {
    "duration": 388,
    "start_time": "2023-02-06T09:52:37.154Z"
   },
   {
    "duration": 794,
    "start_time": "2023-02-06T09:52:37.544Z"
   },
   {
    "duration": 1598,
    "start_time": "2023-02-06T09:52:38.340Z"
   },
   {
    "duration": 59,
    "start_time": "2023-02-06T09:52:39.940Z"
   },
   {
    "duration": 40,
    "start_time": "2023-02-06T09:52:40.002Z"
   },
   {
    "duration": 1455,
    "start_time": "2023-02-06T09:52:40.044Z"
   },
   {
    "duration": 0,
    "start_time": "2023-02-06T09:52:41.501Z"
   },
   {
    "duration": 0,
    "start_time": "2023-02-06T09:52:41.502Z"
   },
   {
    "duration": 0,
    "start_time": "2023-02-06T09:52:41.503Z"
   },
   {
    "duration": 0,
    "start_time": "2023-02-06T09:52:41.505Z"
   },
   {
    "duration": 0,
    "start_time": "2023-02-06T09:52:41.506Z"
   },
   {
    "duration": 4,
    "start_time": "2023-02-06T09:53:15.932Z"
   },
   {
    "duration": 17,
    "start_time": "2023-02-06T09:54:17.634Z"
   },
   {
    "duration": 428,
    "start_time": "2023-02-06T09:54:22.168Z"
   },
   {
    "duration": 880,
    "start_time": "2023-02-06T09:54:22.598Z"
   },
   {
    "duration": 1662,
    "start_time": "2023-02-06T09:54:23.480Z"
   },
   {
    "duration": 67,
    "start_time": "2023-02-06T09:54:25.144Z"
   },
   {
    "duration": 51,
    "start_time": "2023-02-06T09:54:25.214Z"
   },
   {
    "duration": 1730,
    "start_time": "2023-02-06T09:54:25.268Z"
   },
   {
    "duration": 0,
    "start_time": "2023-02-06T09:54:27.000Z"
   },
   {
    "duration": 0,
    "start_time": "2023-02-06T09:54:27.001Z"
   },
   {
    "duration": 0,
    "start_time": "2023-02-06T09:54:27.002Z"
   },
   {
    "duration": 0,
    "start_time": "2023-02-06T09:54:27.004Z"
   },
   {
    "duration": 0,
    "start_time": "2023-02-06T09:54:27.005Z"
   },
   {
    "duration": 461,
    "start_time": "2023-02-06T09:54:41.935Z"
   },
   {
    "duration": 880,
    "start_time": "2023-02-06T09:54:42.399Z"
   },
   {
    "duration": 1906,
    "start_time": "2023-02-06T09:54:43.281Z"
   },
   {
    "duration": 65,
    "start_time": "2023-02-06T09:54:45.193Z"
   },
   {
    "duration": 56,
    "start_time": "2023-02-06T09:54:45.261Z"
   },
   {
    "duration": 1689,
    "start_time": "2023-02-06T09:54:45.319Z"
   },
   {
    "duration": 0,
    "start_time": "2023-02-06T09:54:47.010Z"
   },
   {
    "duration": 0,
    "start_time": "2023-02-06T09:54:47.011Z"
   },
   {
    "duration": 0,
    "start_time": "2023-02-06T09:54:47.012Z"
   },
   {
    "duration": 0,
    "start_time": "2023-02-06T09:54:47.013Z"
   },
   {
    "duration": 0,
    "start_time": "2023-02-06T09:54:47.015Z"
   },
   {
    "duration": 18,
    "start_time": "2023-02-06T09:55:55.962Z"
   },
   {
    "duration": 20,
    "start_time": "2023-02-06T09:56:03.353Z"
   },
   {
    "duration": 19,
    "start_time": "2023-02-06T09:56:24.691Z"
   },
   {
    "duration": 413,
    "start_time": "2023-02-06T09:56:28.790Z"
   },
   {
    "duration": 883,
    "start_time": "2023-02-06T09:56:29.205Z"
   },
   {
    "duration": 1759,
    "start_time": "2023-02-06T09:56:30.092Z"
   },
   {
    "duration": 67,
    "start_time": "2023-02-06T09:56:31.854Z"
   },
   {
    "duration": 37,
    "start_time": "2023-02-06T09:56:31.923Z"
   },
   {
    "duration": 1449,
    "start_time": "2023-02-06T09:56:31.962Z"
   },
   {
    "duration": 0,
    "start_time": "2023-02-06T09:56:33.413Z"
   },
   {
    "duration": 0,
    "start_time": "2023-02-06T09:56:33.415Z"
   },
   {
    "duration": 0,
    "start_time": "2023-02-06T09:56:33.417Z"
   },
   {
    "duration": 0,
    "start_time": "2023-02-06T09:56:33.418Z"
   },
   {
    "duration": 0,
    "start_time": "2023-02-06T09:56:33.419Z"
   },
   {
    "duration": 21,
    "start_time": "2023-02-06T09:59:55.383Z"
   },
   {
    "duration": 458,
    "start_time": "2023-02-06T10:00:00.265Z"
   },
   {
    "duration": 885,
    "start_time": "2023-02-06T10:00:00.725Z"
   },
   {
    "duration": 1752,
    "start_time": "2023-02-06T10:00:01.612Z"
   },
   {
    "duration": 66,
    "start_time": "2023-02-06T10:00:03.366Z"
   },
   {
    "duration": 41,
    "start_time": "2023-02-06T10:00:03.434Z"
   },
   {
    "duration": 1650,
    "start_time": "2023-02-06T10:00:03.477Z"
   },
   {
    "duration": 0,
    "start_time": "2023-02-06T10:00:05.129Z"
   },
   {
    "duration": 0,
    "start_time": "2023-02-06T10:00:05.130Z"
   },
   {
    "duration": 0,
    "start_time": "2023-02-06T10:00:05.132Z"
   },
   {
    "duration": 0,
    "start_time": "2023-02-06T10:00:05.133Z"
   },
   {
    "duration": 0,
    "start_time": "2023-02-06T10:00:05.136Z"
   },
   {
    "duration": 5,
    "start_time": "2023-02-06T10:03:16.420Z"
   },
   {
    "duration": 23,
    "start_time": "2023-02-06T10:03:19.234Z"
   },
   {
    "duration": 399,
    "start_time": "2023-02-06T10:03:23.920Z"
   },
   {
    "duration": 828,
    "start_time": "2023-02-06T10:03:24.322Z"
   },
   {
    "duration": 1852,
    "start_time": "2023-02-06T10:03:25.152Z"
   },
   {
    "duration": 50,
    "start_time": "2023-02-06T10:03:27.005Z"
   },
   {
    "duration": 54,
    "start_time": "2023-02-06T10:03:27.057Z"
   },
   {
    "duration": 1427,
    "start_time": "2023-02-06T10:03:27.114Z"
   },
   {
    "duration": 0,
    "start_time": "2023-02-06T10:03:28.544Z"
   },
   {
    "duration": 0,
    "start_time": "2023-02-06T10:03:28.546Z"
   },
   {
    "duration": 0,
    "start_time": "2023-02-06T10:03:28.548Z"
   },
   {
    "duration": 0,
    "start_time": "2023-02-06T10:03:28.549Z"
   },
   {
    "duration": 0,
    "start_time": "2023-02-06T10:03:28.551Z"
   },
   {
    "duration": 5,
    "start_time": "2023-02-06T10:04:35.750Z"
   },
   {
    "duration": 4,
    "start_time": "2023-02-06T10:07:03.678Z"
   },
   {
    "duration": 5,
    "start_time": "2023-02-06T10:07:08.531Z"
   },
   {
    "duration": 78,
    "start_time": "2023-02-06T10:07:25.350Z"
   },
   {
    "duration": 10,
    "start_time": "2023-02-06T10:08:06.955Z"
   },
   {
    "duration": 4,
    "start_time": "2023-02-06T10:08:18.825Z"
   },
   {
    "duration": 4,
    "start_time": "2023-02-06T10:08:20.654Z"
   },
   {
    "duration": 4,
    "start_time": "2023-02-06T10:08:23.188Z"
   },
   {
    "duration": 4,
    "start_time": "2023-02-06T10:08:23.444Z"
   },
   {
    "duration": 411,
    "start_time": "2023-02-06T10:08:32.692Z"
   },
   {
    "duration": 800,
    "start_time": "2023-02-06T10:08:33.105Z"
   },
   {
    "duration": 1733,
    "start_time": "2023-02-06T10:08:33.906Z"
   },
   {
    "duration": 68,
    "start_time": "2023-02-06T10:08:35.642Z"
   },
   {
    "duration": 37,
    "start_time": "2023-02-06T10:08:35.712Z"
   },
   {
    "duration": 5,
    "start_time": "2023-02-06T10:08:35.752Z"
   },
   {
    "duration": 15,
    "start_time": "2023-02-06T10:08:35.759Z"
   },
   {
    "duration": 10,
    "start_time": "2023-02-06T10:08:35.792Z"
   },
   {
    "duration": 1400,
    "start_time": "2023-02-06T10:08:35.804Z"
   },
   {
    "duration": 0,
    "start_time": "2023-02-06T10:08:37.206Z"
   },
   {
    "duration": 0,
    "start_time": "2023-02-06T10:08:37.208Z"
   },
   {
    "duration": 0,
    "start_time": "2023-02-06T10:08:37.209Z"
   },
   {
    "duration": 5,
    "start_time": "2023-02-06T10:11:09.236Z"
   },
   {
    "duration": 5,
    "start_time": "2023-02-06T10:11:09.583Z"
   },
   {
    "duration": 7,
    "start_time": "2023-02-06T10:11:17.269Z"
   },
   {
    "duration": 8,
    "start_time": "2023-02-06T10:12:14.141Z"
   },
   {
    "duration": 8,
    "start_time": "2023-02-06T10:12:52.480Z"
   },
   {
    "duration": 8,
    "start_time": "2023-02-06T10:13:09.536Z"
   },
   {
    "duration": 144,
    "start_time": "2023-02-06T11:41:35.591Z"
   },
   {
    "duration": 50,
    "start_time": "2023-02-06T14:53:19.913Z"
   },
   {
    "duration": 373,
    "start_time": "2023-02-06T14:53:25.692Z"
   },
   {
    "duration": 1023,
    "start_time": "2023-02-06T14:53:26.067Z"
   },
   {
    "duration": 1774,
    "start_time": "2023-02-06T14:53:27.092Z"
   },
   {
    "duration": 57,
    "start_time": "2023-02-06T14:53:28.869Z"
   },
   {
    "duration": 49,
    "start_time": "2023-02-06T14:53:28.928Z"
   },
   {
    "duration": 6,
    "start_time": "2023-02-06T14:53:28.979Z"
   },
   {
    "duration": 138,
    "start_time": "2023-02-06T14:53:28.987Z"
   },
   {
    "duration": 29,
    "start_time": "2023-02-06T14:53:29.127Z"
   },
   {
    "duration": 703,
    "start_time": "2023-02-06T14:53:29.158Z"
   },
   {
    "duration": 0,
    "start_time": "2023-02-06T14:53:29.863Z"
   },
   {
    "duration": 0,
    "start_time": "2023-02-06T14:53:29.864Z"
   },
   {
    "duration": 0,
    "start_time": "2023-02-06T14:53:29.865Z"
   },
   {
    "duration": 57,
    "start_time": "2023-02-06T14:53:56.999Z"
   },
   {
    "duration": 12,
    "start_time": "2023-02-06T14:54:14.908Z"
   },
   {
    "duration": 13,
    "start_time": "2023-02-06T14:54:27.315Z"
   },
   {
    "duration": 7,
    "start_time": "2023-02-06T14:54:49.990Z"
   },
   {
    "duration": 22,
    "start_time": "2023-02-06T14:55:01.266Z"
   },
   {
    "duration": 47,
    "start_time": "2023-02-06T14:55:34.706Z"
   },
   {
    "duration": 9,
    "start_time": "2023-02-06T14:55:37.638Z"
   },
   {
    "duration": 20,
    "start_time": "2023-02-06T14:55:50.463Z"
   },
   {
    "duration": 146,
    "start_time": "2023-02-06T14:56:12.729Z"
   },
   {
    "duration": 39,
    "start_time": "2023-02-06T15:04:07.958Z"
   },
   {
    "duration": 18,
    "start_time": "2023-02-06T15:04:19.477Z"
   },
   {
    "duration": 420,
    "start_time": "2023-02-06T15:04:23.758Z"
   },
   {
    "duration": 778,
    "start_time": "2023-02-06T15:04:24.179Z"
   },
   {
    "duration": 1646,
    "start_time": "2023-02-06T15:04:24.958Z"
   },
   {
    "duration": 56,
    "start_time": "2023-02-06T15:04:26.606Z"
   },
   {
    "duration": 32,
    "start_time": "2023-02-06T15:04:26.664Z"
   },
   {
    "duration": 5,
    "start_time": "2023-02-06T15:04:26.698Z"
   },
   {
    "duration": 214,
    "start_time": "2023-02-06T15:04:26.704Z"
   },
   {
    "duration": 94,
    "start_time": "2023-02-06T15:04:26.920Z"
   },
   {
    "duration": 92,
    "start_time": "2023-02-06T15:04:27.017Z"
   },
   {
    "duration": 808,
    "start_time": "2023-02-06T15:04:27.110Z"
   },
   {
    "duration": 9,
    "start_time": "2023-02-06T15:10:40.596Z"
   },
   {
    "duration": 8,
    "start_time": "2023-02-06T15:10:43.806Z"
   },
   {
    "duration": 8,
    "start_time": "2023-02-06T15:10:46.308Z"
   },
   {
    "duration": 37,
    "start_time": "2023-02-06T15:10:52.112Z"
   },
   {
    "duration": 35,
    "start_time": "2023-02-06T15:10:54.193Z"
   },
   {
    "duration": 30,
    "start_time": "2023-02-06T15:11:01.669Z"
   },
   {
    "duration": 53,
    "start_time": "2023-02-06T15:11:08.555Z"
   },
   {
    "duration": 46,
    "start_time": "2023-02-06T15:11:13.030Z"
   },
   {
    "duration": 43,
    "start_time": "2023-02-06T15:11:17.617Z"
   },
   {
    "duration": 36,
    "start_time": "2023-02-06T15:11:23.341Z"
   },
   {
    "duration": 30,
    "start_time": "2023-02-06T15:11:34.956Z"
   },
   {
    "duration": 73,
    "start_time": "2023-02-06T15:11:42.415Z"
   },
   {
    "duration": 64,
    "start_time": "2023-02-06T15:11:51.144Z"
   },
   {
    "duration": 63,
    "start_time": "2023-02-06T15:11:53.830Z"
   },
   {
    "duration": 59,
    "start_time": "2023-02-06T15:11:56.456Z"
   },
   {
    "duration": 51,
    "start_time": "2023-02-06T15:11:58.861Z"
   },
   {
    "duration": 25,
    "start_time": "2023-02-06T15:12:02.060Z"
   },
   {
    "duration": 22,
    "start_time": "2023-02-06T15:12:05.412Z"
   },
   {
    "duration": 19,
    "start_time": "2023-02-06T15:12:08.639Z"
   },
   {
    "duration": 16,
    "start_time": "2023-02-06T15:12:11.253Z"
   },
   {
    "duration": 8,
    "start_time": "2023-02-06T15:12:17.951Z"
   },
   {
    "duration": 15,
    "start_time": "2023-02-06T15:12:20.613Z"
   },
   {
    "duration": 21,
    "start_time": "2023-02-06T15:12:35.024Z"
   },
   {
    "duration": 8,
    "start_time": "2023-02-06T15:12:43.068Z"
   },
   {
    "duration": 15,
    "start_time": "2023-02-06T15:12:54.632Z"
   },
   {
    "duration": 11,
    "start_time": "2023-02-06T15:13:05.913Z"
   },
   {
    "duration": 11,
    "start_time": "2023-02-06T15:13:11.847Z"
   },
   {
    "duration": 11,
    "start_time": "2023-02-06T15:13:15.448Z"
   },
   {
    "duration": 11,
    "start_time": "2023-02-06T15:13:18.198Z"
   },
   {
    "duration": 30,
    "start_time": "2023-02-06T15:16:16.134Z"
   },
   {
    "duration": 30,
    "start_time": "2023-02-06T15:16:48.827Z"
   },
   {
    "duration": 8,
    "start_time": "2023-02-06T15:17:23.566Z"
   },
   {
    "duration": 8,
    "start_time": "2023-02-06T15:17:26.651Z"
   },
   {
    "duration": 8,
    "start_time": "2023-02-06T15:17:29.542Z"
   },
   {
    "duration": 166,
    "start_time": "2023-02-06T15:18:21.782Z"
   },
   {
    "duration": 136,
    "start_time": "2023-02-06T15:18:33.832Z"
   },
   {
    "duration": 142,
    "start_time": "2023-02-06T15:18:51.837Z"
   },
   {
    "duration": 8,
    "start_time": "2023-02-06T15:19:36.999Z"
   },
   {
    "duration": 8,
    "start_time": "2023-02-06T15:19:39.805Z"
   },
   {
    "duration": 8,
    "start_time": "2023-02-06T15:19:44.111Z"
   },
   {
    "duration": 7,
    "start_time": "2023-02-06T15:19:47.074Z"
   },
   {
    "duration": 146,
    "start_time": "2023-02-06T15:20:16.347Z"
   },
   {
    "duration": 141,
    "start_time": "2023-02-06T15:20:46.908Z"
   },
   {
    "duration": 273,
    "start_time": "2023-02-06T15:21:23.175Z"
   },
   {
    "duration": 441,
    "start_time": "2023-02-06T15:21:29.524Z"
   },
   {
    "duration": 830,
    "start_time": "2023-02-06T15:21:29.967Z"
   },
   {
    "duration": 1575,
    "start_time": "2023-02-06T15:21:30.799Z"
   },
   {
    "duration": 50,
    "start_time": "2023-02-06T15:21:32.376Z"
   },
   {
    "duration": 457,
    "start_time": "2023-02-06T15:21:32.428Z"
   },
   {
    "duration": 927,
    "start_time": "2023-02-06T15:21:32.886Z"
   },
   {
    "duration": 41,
    "start_time": "2023-02-06T15:21:33.814Z"
   },
   {
    "duration": 6,
    "start_time": "2023-02-06T15:21:33.856Z"
   },
   {
    "duration": 212,
    "start_time": "2023-02-06T15:21:33.863Z"
   },
   {
    "duration": 31,
    "start_time": "2023-02-06T15:21:34.076Z"
   },
   {
    "duration": 85,
    "start_time": "2023-02-06T15:21:34.109Z"
   },
   {
    "duration": 720,
    "start_time": "2023-02-06T15:21:34.196Z"
   },
   {
    "duration": 5,
    "start_time": "2023-02-06T15:21:40.672Z"
   },
   {
    "duration": 428,
    "start_time": "2023-02-06T15:22:04.337Z"
   },
   {
    "duration": 893,
    "start_time": "2023-02-06T15:22:04.768Z"
   },
   {
    "duration": 1585,
    "start_time": "2023-02-06T15:22:05.663Z"
   },
   {
    "duration": 53,
    "start_time": "2023-02-06T15:22:07.253Z"
   },
   {
    "duration": 547,
    "start_time": "2023-02-06T15:22:07.308Z"
   },
   {
    "duration": 957,
    "start_time": "2023-02-06T15:22:07.856Z"
   },
   {
    "duration": 42,
    "start_time": "2023-02-06T15:22:08.815Z"
   },
   {
    "duration": 6,
    "start_time": "2023-02-06T15:22:08.858Z"
   },
   {
    "duration": 226,
    "start_time": "2023-02-06T15:22:08.866Z"
   },
   {
    "duration": 32,
    "start_time": "2023-02-06T15:22:09.095Z"
   },
   {
    "duration": 25,
    "start_time": "2023-02-06T15:22:09.129Z"
   },
   {
    "duration": 71,
    "start_time": "2023-02-06T15:22:09.156Z"
   },
   {
    "duration": 874,
    "start_time": "2023-02-06T15:22:09.229Z"
   },
   {
    "duration": 359,
    "start_time": "2023-02-06T15:22:26.609Z"
   },
   {
    "duration": 907,
    "start_time": "2023-02-06T15:22:26.970Z"
   },
   {
    "duration": 1521,
    "start_time": "2023-02-06T15:22:27.879Z"
   },
   {
    "duration": 63,
    "start_time": "2023-02-06T15:22:29.401Z"
   },
   {
    "duration": 473,
    "start_time": "2023-02-06T15:22:29.466Z"
   },
   {
    "duration": 982,
    "start_time": "2023-02-06T15:22:29.941Z"
   },
   {
    "duration": 39,
    "start_time": "2023-02-06T15:22:30.924Z"
   },
   {
    "duration": 6,
    "start_time": "2023-02-06T15:22:30.964Z"
   },
   {
    "duration": 232,
    "start_time": "2023-02-06T15:22:30.971Z"
   },
   {
    "duration": 52,
    "start_time": "2023-02-06T15:22:31.205Z"
   },
   {
    "duration": 3,
    "start_time": "2023-02-06T15:22:31.259Z"
   },
   {
    "duration": 98,
    "start_time": "2023-02-06T15:22:31.264Z"
   },
   {
    "duration": 714,
    "start_time": "2023-02-06T15:22:31.363Z"
   },
   {
    "duration": 147,
    "start_time": "2023-02-06T15:22:39.820Z"
   },
   {
    "duration": 274,
    "start_time": "2023-02-06T15:23:17.754Z"
   },
   {
    "duration": 415,
    "start_time": "2023-02-06T15:23:22.938Z"
   },
   {
    "duration": 827,
    "start_time": "2023-02-06T15:23:23.355Z"
   },
   {
    "duration": 1552,
    "start_time": "2023-02-06T15:23:24.184Z"
   },
   {
    "duration": 56,
    "start_time": "2023-02-06T15:23:25.738Z"
   },
   {
    "duration": 475,
    "start_time": "2023-02-06T15:23:25.797Z"
   },
   {
    "duration": 949,
    "start_time": "2023-02-06T15:23:26.273Z"
   },
   {
    "duration": 39,
    "start_time": "2023-02-06T15:23:27.223Z"
   },
   {
    "duration": 6,
    "start_time": "2023-02-06T15:23:27.264Z"
   },
   {
    "duration": 286,
    "start_time": "2023-02-06T15:23:27.271Z"
   },
   {
    "duration": 44,
    "start_time": "2023-02-06T15:23:27.559Z"
   },
   {
    "duration": 8,
    "start_time": "2023-02-06T15:23:27.607Z"
   },
   {
    "duration": 90,
    "start_time": "2023-02-06T15:23:27.617Z"
   },
   {
    "duration": 838,
    "start_time": "2023-02-06T15:23:27.709Z"
   },
   {
    "duration": 148,
    "start_time": "2023-02-06T15:23:43.354Z"
   },
   {
    "duration": 298,
    "start_time": "2023-02-06T15:24:05.300Z"
   },
   {
    "duration": 404,
    "start_time": "2023-02-06T15:24:11.019Z"
   },
   {
    "duration": 829,
    "start_time": "2023-02-06T15:24:11.425Z"
   },
   {
    "duration": 1544,
    "start_time": "2023-02-06T15:24:12.255Z"
   },
   {
    "duration": 64,
    "start_time": "2023-02-06T15:24:13.801Z"
   },
   {
    "duration": 446,
    "start_time": "2023-02-06T15:24:13.867Z"
   },
   {
    "duration": 923,
    "start_time": "2023-02-06T15:24:14.315Z"
   },
   {
    "duration": 38,
    "start_time": "2023-02-06T15:24:15.240Z"
   },
   {
    "duration": 7,
    "start_time": "2023-02-06T15:24:15.280Z"
   },
   {
    "duration": 235,
    "start_time": "2023-02-06T15:24:15.289Z"
   },
   {
    "duration": 56,
    "start_time": "2023-02-06T15:24:15.526Z"
   },
   {
    "duration": 3,
    "start_time": "2023-02-06T15:24:15.584Z"
   },
   {
    "duration": 79,
    "start_time": "2023-02-06T15:24:15.589Z"
   },
   {
    "duration": 938,
    "start_time": "2023-02-06T15:24:15.670Z"
   },
   {
    "duration": 118,
    "start_time": "2023-02-06T15:32:02.814Z"
   },
   {
    "duration": 132,
    "start_time": "2023-02-06T15:33:37.307Z"
   },
   {
    "duration": 135,
    "start_time": "2023-02-06T15:33:40.515Z"
   },
   {
    "duration": 157,
    "start_time": "2023-02-06T15:33:43.443Z"
   },
   {
    "duration": 130,
    "start_time": "2023-02-06T15:33:52.181Z"
   },
   {
    "duration": 127,
    "start_time": "2023-02-06T15:33:54.570Z"
   },
   {
    "duration": 135,
    "start_time": "2023-02-06T15:33:57.655Z"
   },
   {
    "duration": 136,
    "start_time": "2023-02-06T15:34:00.747Z"
   },
   {
    "duration": 2,
    "start_time": "2023-02-06T15:34:13.556Z"
   },
   {
    "duration": 53,
    "start_time": "2023-02-06T15:34:57.565Z"
   },
   {
    "duration": 70,
    "start_time": "2023-02-06T15:35:03.159Z"
   },
   {
    "duration": 144,
    "start_time": "2023-02-06T15:35:11.806Z"
   },
   {
    "duration": 133,
    "start_time": "2023-02-06T15:35:14.844Z"
   },
   {
    "duration": 128,
    "start_time": "2023-02-06T15:35:30.834Z"
   },
   {
    "duration": 209,
    "start_time": "2023-02-06T15:35:37.457Z"
   },
   {
    "duration": 134,
    "start_time": "2023-02-06T15:35:40.419Z"
   },
   {
    "duration": 662,
    "start_time": "2023-02-06T15:35:56.832Z"
   },
   {
    "duration": 891,
    "start_time": "2023-02-06T15:35:57.497Z"
   },
   {
    "duration": 1366,
    "start_time": "2023-02-06T15:35:58.389Z"
   },
   {
    "duration": 54,
    "start_time": "2023-02-06T15:35:59.757Z"
   },
   {
    "duration": 514,
    "start_time": "2023-02-06T15:35:59.813Z"
   },
   {
    "duration": 995,
    "start_time": "2023-02-06T15:36:00.329Z"
   },
   {
    "duration": 42,
    "start_time": "2023-02-06T15:36:01.326Z"
   },
   {
    "duration": 8,
    "start_time": "2023-02-06T15:36:01.370Z"
   },
   {
    "duration": 244,
    "start_time": "2023-02-06T15:36:01.380Z"
   },
   {
    "duration": 54,
    "start_time": "2023-02-06T15:36:01.627Z"
   },
   {
    "duration": 4,
    "start_time": "2023-02-06T15:36:01.683Z"
   },
   {
    "duration": 166,
    "start_time": "2023-02-06T15:36:01.688Z"
   },
   {
    "duration": 74,
    "start_time": "2023-02-06T15:36:01.855Z"
   },
   {
    "duration": 119,
    "start_time": "2023-02-06T15:37:36.420Z"
   },
   {
    "duration": 129,
    "start_time": "2023-02-06T15:37:42.310Z"
   },
   {
    "duration": 138,
    "start_time": "2023-02-06T15:37:47.517Z"
   },
   {
    "duration": 24,
    "start_time": "2023-02-06T15:38:13.901Z"
   },
   {
    "duration": 28,
    "start_time": "2023-02-06T15:38:31.487Z"
   },
   {
    "duration": 129,
    "start_time": "2023-02-06T15:38:41.326Z"
   },
   {
    "duration": 24,
    "start_time": "2023-02-06T15:38:51.013Z"
   },
   {
    "duration": 130,
    "start_time": "2023-02-06T15:38:51.242Z"
   },
   {
    "duration": 22,
    "start_time": "2023-02-06T15:39:03.152Z"
   },
   {
    "duration": 123,
    "start_time": "2023-02-06T15:39:04.634Z"
   },
   {
    "duration": 611,
    "start_time": "2023-02-06T15:39:48.681Z"
   },
   {
    "duration": 847,
    "start_time": "2023-02-06T15:39:49.293Z"
   },
   {
    "duration": 1372,
    "start_time": "2023-02-06T15:39:50.142Z"
   },
   {
    "duration": 58,
    "start_time": "2023-02-06T15:39:51.516Z"
   },
   {
    "duration": 514,
    "start_time": "2023-02-06T15:39:51.576Z"
   },
   {
    "duration": 1000,
    "start_time": "2023-02-06T15:39:52.092Z"
   },
   {
    "duration": 32,
    "start_time": "2023-02-06T15:39:53.094Z"
   },
   {
    "duration": 6,
    "start_time": "2023-02-06T15:39:53.127Z"
   },
   {
    "duration": 220,
    "start_time": "2023-02-06T15:39:53.154Z"
   },
   {
    "duration": 3,
    "start_time": "2023-02-06T15:39:53.376Z"
   },
   {
    "duration": 48,
    "start_time": "2023-02-06T15:39:53.381Z"
   },
   {
    "duration": 0,
    "start_time": "2023-02-06T15:39:53.430Z"
   },
   {
    "duration": 0,
    "start_time": "2023-02-06T15:39:53.431Z"
   },
   {
    "duration": 0,
    "start_time": "2023-02-06T15:39:53.432Z"
   },
   {
    "duration": 134,
    "start_time": "2023-02-06T15:39:59.061Z"
   },
   {
    "duration": 149,
    "start_time": "2023-02-06T15:40:05.395Z"
   },
   {
    "duration": 137,
    "start_time": "2023-02-06T15:40:12.708Z"
   },
   {
    "duration": 129,
    "start_time": "2023-02-06T15:40:14.861Z"
   },
   {
    "duration": 620,
    "start_time": "2023-02-06T15:40:19.948Z"
   },
   {
    "duration": 813,
    "start_time": "2023-02-06T15:40:20.569Z"
   },
   {
    "duration": 1343,
    "start_time": "2023-02-06T15:40:21.383Z"
   },
   {
    "duration": 56,
    "start_time": "2023-02-06T15:40:22.729Z"
   },
   {
    "duration": 470,
    "start_time": "2023-02-06T15:40:22.786Z"
   },
   {
    "duration": 975,
    "start_time": "2023-02-06T15:40:23.258Z"
   },
   {
    "duration": 36,
    "start_time": "2023-02-06T15:40:24.235Z"
   },
   {
    "duration": 5,
    "start_time": "2023-02-06T15:40:24.273Z"
   },
   {
    "duration": 219,
    "start_time": "2023-02-06T15:40:24.280Z"
   },
   {
    "duration": 3,
    "start_time": "2023-02-06T15:40:24.502Z"
   },
   {
    "duration": 151,
    "start_time": "2023-02-06T15:40:24.506Z"
   },
   {
    "duration": 31,
    "start_time": "2023-02-06T15:40:24.658Z"
   },
   {
    "duration": 115,
    "start_time": "2023-02-06T15:40:24.690Z"
   },
   {
    "duration": 0,
    "start_time": "2023-02-06T15:40:24.807Z"
   },
   {
    "duration": 127,
    "start_time": "2023-02-06T15:40:31.731Z"
   },
   {
    "duration": 648,
    "start_time": "2023-02-06T15:41:57.387Z"
   },
   {
    "duration": 831,
    "start_time": "2023-02-06T15:41:58.037Z"
   },
   {
    "duration": 1384,
    "start_time": "2023-02-06T15:41:58.869Z"
   },
   {
    "duration": 50,
    "start_time": "2023-02-06T15:42:00.255Z"
   },
   {
    "duration": 488,
    "start_time": "2023-02-06T15:42:00.308Z"
   },
   {
    "duration": 967,
    "start_time": "2023-02-06T15:42:00.798Z"
   },
   {
    "duration": 34,
    "start_time": "2023-02-06T15:42:01.767Z"
   },
   {
    "duration": 6,
    "start_time": "2023-02-06T15:42:01.803Z"
   },
   {
    "duration": 248,
    "start_time": "2023-02-06T15:42:01.811Z"
   },
   {
    "duration": 3,
    "start_time": "2023-02-06T15:42:02.061Z"
   },
   {
    "duration": 159,
    "start_time": "2023-02-06T15:42:02.066Z"
   },
   {
    "duration": 36,
    "start_time": "2023-02-06T15:42:02.226Z"
   },
   {
    "duration": 49,
    "start_time": "2023-02-06T15:42:02.264Z"
   },
   {
    "duration": 0,
    "start_time": "2023-02-06T15:42:02.314Z"
   },
   {
    "duration": 26,
    "start_time": "2023-02-06T15:42:15.288Z"
   },
   {
    "duration": 131,
    "start_time": "2023-02-06T15:43:22.179Z"
   },
   {
    "duration": 128,
    "start_time": "2023-02-06T15:43:33.720Z"
   },
   {
    "duration": 111,
    "start_time": "2023-02-06T15:43:50.507Z"
   },
   {
    "duration": 110,
    "start_time": "2023-02-06T15:43:56.436Z"
   },
   {
    "duration": 103,
    "start_time": "2023-02-06T15:44:01.166Z"
   },
   {
    "duration": 127,
    "start_time": "2023-02-06T15:44:05.061Z"
   },
   {
    "duration": 145,
    "start_time": "2023-02-06T15:44:08.158Z"
   },
   {
    "duration": 109,
    "start_time": "2023-02-06T15:44:11.622Z"
   },
   {
    "duration": 131,
    "start_time": "2023-02-06T15:44:26.114Z"
   },
   {
    "duration": 120,
    "start_time": "2023-02-06T15:44:29.650Z"
   },
   {
    "duration": 170,
    "start_time": "2023-02-06T15:44:34.255Z"
   },
   {
    "duration": 112,
    "start_time": "2023-02-06T15:45:06.805Z"
   },
   {
    "duration": 170,
    "start_time": "2023-02-06T15:45:14.232Z"
   },
   {
    "duration": 26,
    "start_time": "2023-02-06T15:46:30.340Z"
   },
   {
    "duration": 25,
    "start_time": "2023-02-06T15:46:49.950Z"
   },
   {
    "duration": 24,
    "start_time": "2023-02-06T15:54:17.043Z"
   },
   {
    "duration": 24,
    "start_time": "2023-02-06T15:56:30.305Z"
   },
   {
    "duration": 4,
    "start_time": "2023-02-06T15:59:03.590Z"
   },
   {
    "duration": 579,
    "start_time": "2023-02-06T15:59:11.386Z"
   },
   {
    "duration": 772,
    "start_time": "2023-02-06T15:59:11.967Z"
   },
   {
    "duration": 1326,
    "start_time": "2023-02-06T15:59:12.742Z"
   },
   {
    "duration": 47,
    "start_time": "2023-02-06T15:59:14.071Z"
   },
   {
    "duration": 492,
    "start_time": "2023-02-06T15:59:14.120Z"
   },
   {
    "duration": 989,
    "start_time": "2023-02-06T15:59:14.614Z"
   },
   {
    "duration": 33,
    "start_time": "2023-02-06T15:59:15.605Z"
   },
   {
    "duration": 12,
    "start_time": "2023-02-06T15:59:15.654Z"
   },
   {
    "duration": 186,
    "start_time": "2023-02-06T15:59:15.667Z"
   },
   {
    "duration": 217,
    "start_time": "2023-02-06T15:59:15.855Z"
   },
   {
    "duration": 33,
    "start_time": "2023-02-06T15:59:16.073Z"
   },
   {
    "duration": 40,
    "start_time": "2023-02-06T15:59:16.107Z"
   },
   {
    "duration": 165,
    "start_time": "2023-02-06T15:59:16.149Z"
   },
   {
    "duration": 6,
    "start_time": "2023-02-06T16:04:35.808Z"
   },
   {
    "duration": 653,
    "start_time": "2023-02-06T16:04:42.923Z"
   },
   {
    "duration": 794,
    "start_time": "2023-02-06T16:04:43.578Z"
   },
   {
    "duration": 1307,
    "start_time": "2023-02-06T16:04:44.377Z"
   },
   {
    "duration": 48,
    "start_time": "2023-02-06T16:04:45.686Z"
   },
   {
    "duration": 480,
    "start_time": "2023-02-06T16:04:45.735Z"
   },
   {
    "duration": 921,
    "start_time": "2023-02-06T16:04:46.216Z"
   },
   {
    "duration": 35,
    "start_time": "2023-02-06T16:04:47.139Z"
   },
   {
    "duration": 6,
    "start_time": "2023-02-06T16:04:47.175Z"
   },
   {
    "duration": 190,
    "start_time": "2023-02-06T16:04:47.183Z"
   },
   {
    "duration": 254,
    "start_time": "2023-02-06T16:04:47.375Z"
   },
   {
    "duration": 7,
    "start_time": "2023-02-06T16:04:47.631Z"
   },
   {
    "duration": 40,
    "start_time": "2023-02-06T16:04:47.639Z"
   },
   {
    "duration": 3,
    "start_time": "2023-02-06T16:04:47.681Z"
   },
   {
    "duration": 74,
    "start_time": "2023-02-06T16:04:47.686Z"
   },
   {
    "duration": 4,
    "start_time": "2023-02-06T16:05:05.597Z"
   },
   {
    "duration": 614,
    "start_time": "2023-02-06T16:05:10.662Z"
   },
   {
    "duration": 801,
    "start_time": "2023-02-06T16:05:11.277Z"
   },
   {
    "duration": 1411,
    "start_time": "2023-02-06T16:05:12.080Z"
   },
   {
    "duration": 60,
    "start_time": "2023-02-06T16:05:13.494Z"
   },
   {
    "duration": 496,
    "start_time": "2023-02-06T16:05:13.558Z"
   },
   {
    "duration": 934,
    "start_time": "2023-02-06T16:05:14.055Z"
   },
   {
    "duration": 34,
    "start_time": "2023-02-06T16:05:14.990Z"
   },
   {
    "duration": 28,
    "start_time": "2023-02-06T16:05:15.026Z"
   },
   {
    "duration": 229,
    "start_time": "2023-02-06T16:05:15.056Z"
   },
   {
    "duration": 159,
    "start_time": "2023-02-06T16:05:15.287Z"
   },
   {
    "duration": 11,
    "start_time": "2023-02-06T16:05:15.448Z"
   },
   {
    "duration": 4,
    "start_time": "2023-02-06T16:05:15.461Z"
   },
   {
    "duration": 24,
    "start_time": "2023-02-06T16:05:15.467Z"
   },
   {
    "duration": 90,
    "start_time": "2023-02-06T16:05:15.494Z"
   },
   {
    "duration": 7,
    "start_time": "2023-02-06T16:05:24.776Z"
   },
   {
    "duration": 11,
    "start_time": "2023-02-06T16:05:36.083Z"
   },
   {
    "duration": 11,
    "start_time": "2023-02-06T16:05:39.805Z"
   },
   {
    "duration": 12,
    "start_time": "2023-02-06T16:05:42.266Z"
   },
   {
    "duration": 11,
    "start_time": "2023-02-06T16:05:45.193Z"
   },
   {
    "duration": 146,
    "start_time": "2023-02-06T16:08:03.972Z"
   },
   {
    "duration": 256,
    "start_time": "2023-02-06T16:08:26.758Z"
   },
   {
    "duration": 301,
    "start_time": "2023-02-06T16:08:32.077Z"
   },
   {
    "duration": 11,
    "start_time": "2023-02-06T16:09:40.016Z"
   },
   {
    "duration": 11,
    "start_time": "2023-02-06T16:09:46.291Z"
   },
   {
    "duration": 31,
    "start_time": "2023-02-06T16:11:19.235Z"
   },
   {
    "duration": 6,
    "start_time": "2023-02-06T16:11:29.264Z"
   },
   {
    "duration": 55,
    "start_time": "2023-02-06T16:11:40.587Z"
   },
   {
    "duration": 11,
    "start_time": "2023-02-06T16:11:53.467Z"
   },
   {
    "duration": 30,
    "start_time": "2023-02-06T16:12:04.510Z"
   },
   {
    "duration": 30,
    "start_time": "2023-02-06T16:12:19.274Z"
   },
   {
    "duration": 14,
    "start_time": "2023-02-06T16:12:23.630Z"
   },
   {
    "duration": 14,
    "start_time": "2023-02-06T16:12:26.757Z"
   },
   {
    "duration": 753,
    "start_time": "2023-02-06T16:16:24.310Z"
   },
   {
    "duration": 714,
    "start_time": "2023-02-06T16:16:28.927Z"
   },
   {
    "duration": 18,
    "start_time": "2023-02-06T16:16:37.867Z"
   },
   {
    "duration": 31,
    "start_time": "2023-02-06T16:17:33.684Z"
   },
   {
    "duration": 30,
    "start_time": "2023-02-06T16:17:41.908Z"
   },
   {
    "duration": 32,
    "start_time": "2023-02-06T16:17:45.288Z"
   },
   {
    "duration": 32,
    "start_time": "2023-02-06T16:17:50.980Z"
   },
   {
    "duration": 34,
    "start_time": "2023-02-06T16:17:53.773Z"
   },
   {
    "duration": 30,
    "start_time": "2023-02-06T16:17:56.565Z"
   },
   {
    "duration": 33,
    "start_time": "2023-02-06T16:18:02.486Z"
   },
   {
    "duration": 34,
    "start_time": "2023-02-06T16:18:09.250Z"
   },
   {
    "duration": 32,
    "start_time": "2023-02-06T16:18:13.062Z"
   },
   {
    "duration": 31,
    "start_time": "2023-02-06T16:18:54.905Z"
   },
   {
    "duration": 31,
    "start_time": "2023-02-06T16:19:06.878Z"
   },
   {
    "duration": 24,
    "start_time": "2023-02-06T16:19:51.169Z"
   },
   {
    "duration": 4,
    "start_time": "2023-02-06T16:19:51.465Z"
   },
   {
    "duration": 622,
    "start_time": "2023-02-06T16:19:59.438Z"
   },
   {
    "duration": 853,
    "start_time": "2023-02-06T16:20:00.062Z"
   },
   {
    "duration": 1446,
    "start_time": "2023-02-06T16:20:00.917Z"
   },
   {
    "duration": 48,
    "start_time": "2023-02-06T16:20:02.364Z"
   },
   {
    "duration": 477,
    "start_time": "2023-02-06T16:20:02.415Z"
   },
   {
    "duration": 932,
    "start_time": "2023-02-06T16:20:02.894Z"
   },
   {
    "duration": 37,
    "start_time": "2023-02-06T16:20:03.828Z"
   },
   {
    "duration": 6,
    "start_time": "2023-02-06T16:20:03.867Z"
   },
   {
    "duration": 225,
    "start_time": "2023-02-06T16:20:03.874Z"
   },
   {
    "duration": 149,
    "start_time": "2023-02-06T16:20:04.100Z"
   },
   {
    "duration": 34,
    "start_time": "2023-02-06T16:20:04.253Z"
   },
   {
    "duration": 31,
    "start_time": "2023-02-06T16:20:04.288Z"
   },
   {
    "duration": 4,
    "start_time": "2023-02-06T16:20:04.321Z"
   },
   {
    "duration": 63,
    "start_time": "2023-02-06T16:20:04.355Z"
   },
   {
    "duration": 66,
    "start_time": "2023-02-06T16:21:03.061Z"
   },
   {
    "duration": 625,
    "start_time": "2023-02-06T16:21:52.246Z"
   },
   {
    "duration": 816,
    "start_time": "2023-02-06T16:21:52.873Z"
   },
   {
    "duration": 1347,
    "start_time": "2023-02-06T16:21:53.694Z"
   },
   {
    "duration": 54,
    "start_time": "2023-02-06T16:21:55.042Z"
   },
   {
    "duration": 484,
    "start_time": "2023-02-06T16:21:55.098Z"
   },
   {
    "duration": 997,
    "start_time": "2023-02-06T16:21:55.584Z"
   },
   {
    "duration": 31,
    "start_time": "2023-02-06T16:21:56.582Z"
   },
   {
    "duration": 6,
    "start_time": "2023-02-06T16:21:56.614Z"
   },
   {
    "duration": 99,
    "start_time": "2023-02-06T16:21:56.622Z"
   },
   {
    "duration": 177,
    "start_time": "2023-02-06T16:21:56.723Z"
   },
   {
    "duration": 236,
    "start_time": "2023-02-06T16:21:56.902Z"
   },
   {
    "duration": 43,
    "start_time": "2023-02-06T16:21:57.140Z"
   },
   {
    "duration": 32,
    "start_time": "2023-02-06T16:21:57.184Z"
   },
   {
    "duration": 3,
    "start_time": "2023-02-06T16:21:57.218Z"
   },
   {
    "duration": 16,
    "start_time": "2023-02-06T16:26:19.765Z"
   },
   {
    "duration": 61,
    "start_time": "2023-02-06T16:26:25.360Z"
   },
   {
    "duration": 753,
    "start_time": "2023-02-07T09:00:52.749Z"
   },
   {
    "duration": 1008,
    "start_time": "2023-02-07T09:00:53.504Z"
   },
   {
    "duration": 1290,
    "start_time": "2023-02-07T09:00:54.513Z"
   },
   {
    "duration": 51,
    "start_time": "2023-02-07T09:00:55.805Z"
   },
   {
    "duration": 454,
    "start_time": "2023-02-07T09:00:55.857Z"
   },
   {
    "duration": 878,
    "start_time": "2023-02-07T09:00:56.313Z"
   },
   {
    "duration": 34,
    "start_time": "2023-02-07T09:00:57.193Z"
   },
   {
    "duration": 6,
    "start_time": "2023-02-07T09:00:57.228Z"
   },
   {
    "duration": 77,
    "start_time": "2023-02-07T09:00:57.236Z"
   },
   {
    "duration": 25,
    "start_time": "2023-02-07T09:00:57.315Z"
   },
   {
    "duration": 201,
    "start_time": "2023-02-07T09:00:57.341Z"
   },
   {
    "duration": 154,
    "start_time": "2023-02-07T09:00:57.543Z"
   },
   {
    "duration": 43,
    "start_time": "2023-02-07T09:00:57.699Z"
   },
   {
    "duration": 30,
    "start_time": "2023-02-07T09:00:57.744Z"
   },
   {
    "duration": 4,
    "start_time": "2023-02-07T09:00:57.775Z"
   },
   {
    "duration": 15,
    "start_time": "2023-02-07T09:05:44.116Z"
   },
   {
    "duration": 580,
    "start_time": "2023-02-07T09:05:49.348Z"
   },
   {
    "duration": 779,
    "start_time": "2023-02-07T09:05:49.929Z"
   },
   {
    "duration": 1319,
    "start_time": "2023-02-07T09:05:50.710Z"
   },
   {
    "duration": 44,
    "start_time": "2023-02-07T09:05:52.030Z"
   },
   {
    "duration": 419,
    "start_time": "2023-02-07T09:05:52.075Z"
   },
   {
    "duration": 882,
    "start_time": "2023-02-07T09:05:52.495Z"
   },
   {
    "duration": 29,
    "start_time": "2023-02-07T09:05:53.378Z"
   },
   {
    "duration": 19,
    "start_time": "2023-02-07T09:05:53.409Z"
   },
   {
    "duration": 71,
    "start_time": "2023-02-07T09:05:53.429Z"
   },
   {
    "duration": 34,
    "start_time": "2023-02-07T09:05:53.502Z"
   },
   {
    "duration": 203,
    "start_time": "2023-02-07T09:05:53.537Z"
   },
   {
    "duration": 150,
    "start_time": "2023-02-07T09:05:53.741Z"
   },
   {
    "duration": 47,
    "start_time": "2023-02-07T09:05:53.892Z"
   },
   {
    "duration": 29,
    "start_time": "2023-02-07T09:05:53.940Z"
   },
   {
    "duration": 4,
    "start_time": "2023-02-07T09:05:53.971Z"
   },
   {
    "duration": 21,
    "start_time": "2023-02-07T09:07:42.925Z"
   },
   {
    "duration": 592,
    "start_time": "2023-02-07T09:07:49.355Z"
   },
   {
    "duration": 809,
    "start_time": "2023-02-07T09:07:49.949Z"
   },
   {
    "duration": 1275,
    "start_time": "2023-02-07T09:07:50.760Z"
   },
   {
    "duration": 44,
    "start_time": "2023-02-07T09:07:52.037Z"
   },
   {
    "duration": 422,
    "start_time": "2023-02-07T09:07:52.083Z"
   },
   {
    "duration": 860,
    "start_time": "2023-02-07T09:07:52.507Z"
   },
   {
    "duration": 28,
    "start_time": "2023-02-07T09:07:53.368Z"
   },
   {
    "duration": 5,
    "start_time": "2023-02-07T09:07:53.398Z"
   },
   {
    "duration": 86,
    "start_time": "2023-02-07T09:07:53.404Z"
   },
   {
    "duration": 16,
    "start_time": "2023-02-07T09:07:53.492Z"
   },
   {
    "duration": 223,
    "start_time": "2023-02-07T09:07:53.510Z"
   },
   {
    "duration": 153,
    "start_time": "2023-02-07T09:07:53.735Z"
   },
   {
    "duration": 58,
    "start_time": "2023-02-07T09:07:53.890Z"
   },
   {
    "duration": 32,
    "start_time": "2023-02-07T09:07:53.950Z"
   },
   {
    "duration": 4,
    "start_time": "2023-02-07T09:07:53.984Z"
   },
   {
    "duration": 15,
    "start_time": "2023-02-07T09:11:10.882Z"
   },
   {
    "duration": 620,
    "start_time": "2023-02-07T09:11:15.637Z"
   },
   {
    "duration": 798,
    "start_time": "2023-02-07T09:11:16.260Z"
   },
   {
    "duration": 1303,
    "start_time": "2023-02-07T09:11:17.060Z"
   },
   {
    "duration": 47,
    "start_time": "2023-02-07T09:11:18.366Z"
   },
   {
    "duration": 431,
    "start_time": "2023-02-07T09:11:18.428Z"
   },
   {
    "duration": 870,
    "start_time": "2023-02-07T09:11:18.861Z"
   },
   {
    "duration": 28,
    "start_time": "2023-02-07T09:11:19.733Z"
   },
   {
    "duration": 6,
    "start_time": "2023-02-07T09:11:19.762Z"
   },
   {
    "duration": 87,
    "start_time": "2023-02-07T09:11:19.770Z"
   },
   {
    "duration": 22,
    "start_time": "2023-02-07T09:11:19.859Z"
   },
   {
    "duration": 254,
    "start_time": "2023-02-07T09:11:19.883Z"
   },
   {
    "duration": 166,
    "start_time": "2023-02-07T09:11:20.138Z"
   },
   {
    "duration": 101,
    "start_time": "2023-02-07T09:11:20.306Z"
   },
   {
    "duration": 0,
    "start_time": "2023-02-07T09:11:20.409Z"
   },
   {
    "duration": 0,
    "start_time": "2023-02-07T09:11:20.411Z"
   },
   {
    "duration": 38,
    "start_time": "2023-02-07T09:11:30.947Z"
   },
   {
    "duration": 626,
    "start_time": "2023-02-07T09:11:35.843Z"
   },
   {
    "duration": 799,
    "start_time": "2023-02-07T09:11:36.471Z"
   },
   {
    "duration": 1287,
    "start_time": "2023-02-07T09:11:37.272Z"
   },
   {
    "duration": 46,
    "start_time": "2023-02-07T09:11:38.561Z"
   },
   {
    "duration": 435,
    "start_time": "2023-02-07T09:11:38.608Z"
   },
   {
    "duration": 897,
    "start_time": "2023-02-07T09:11:39.045Z"
   },
   {
    "duration": 29,
    "start_time": "2023-02-07T09:11:39.944Z"
   },
   {
    "duration": 6,
    "start_time": "2023-02-07T09:11:39.975Z"
   },
   {
    "duration": 93,
    "start_time": "2023-02-07T09:11:39.983Z"
   },
   {
    "duration": 17,
    "start_time": "2023-02-07T09:11:40.079Z"
   },
   {
    "duration": 249,
    "start_time": "2023-02-07T09:11:40.098Z"
   },
   {
    "duration": 182,
    "start_time": "2023-02-07T09:11:40.350Z"
   },
   {
    "duration": 34,
    "start_time": "2023-02-07T09:11:40.534Z"
   },
   {
    "duration": 58,
    "start_time": "2023-02-07T09:11:40.569Z"
   },
   {
    "duration": 5,
    "start_time": "2023-02-07T09:11:40.629Z"
   },
   {
    "duration": 19,
    "start_time": "2023-02-07T09:12:10.373Z"
   },
   {
    "duration": 595,
    "start_time": "2023-02-07T09:14:57.478Z"
   },
   {
    "duration": 753,
    "start_time": "2023-02-07T09:14:58.075Z"
   },
   {
    "duration": 1299,
    "start_time": "2023-02-07T09:14:58.830Z"
   },
   {
    "duration": 46,
    "start_time": "2023-02-07T09:15:00.132Z"
   },
   {
    "duration": 511,
    "start_time": "2023-02-07T09:15:00.180Z"
   },
   {
    "duration": 908,
    "start_time": "2023-02-07T09:15:00.693Z"
   },
   {
    "duration": 36,
    "start_time": "2023-02-07T09:15:01.603Z"
   },
   {
    "duration": 8,
    "start_time": "2023-02-07T09:15:01.643Z"
   },
   {
    "duration": 101,
    "start_time": "2023-02-07T09:15:01.653Z"
   },
   {
    "duration": 51,
    "start_time": "2023-02-07T09:15:01.756Z"
   },
   {
    "duration": 254,
    "start_time": "2023-02-07T09:15:01.809Z"
   },
   {
    "duration": 150,
    "start_time": "2023-02-07T09:15:02.065Z"
   },
   {
    "duration": 35,
    "start_time": "2023-02-07T09:15:02.217Z"
   },
   {
    "duration": 29,
    "start_time": "2023-02-07T09:15:02.254Z"
   },
   {
    "duration": 4,
    "start_time": "2023-02-07T09:15:02.285Z"
   },
   {
    "duration": 129,
    "start_time": "2023-02-07T09:15:14.103Z"
   },
   {
    "duration": 123,
    "start_time": "2023-02-07T09:15:25.114Z"
   },
   {
    "duration": 124,
    "start_time": "2023-02-07T09:15:28.637Z"
   },
   {
    "duration": 18,
    "start_time": "2023-02-07T09:16:01.991Z"
   },
   {
    "duration": 17,
    "start_time": "2023-02-07T09:16:08.583Z"
   },
   {
    "duration": 19,
    "start_time": "2023-02-07T09:18:26.393Z"
   },
   {
    "duration": 621,
    "start_time": "2023-02-07T09:20:06.749Z"
   },
   {
    "duration": 812,
    "start_time": "2023-02-07T09:20:07.371Z"
   },
   {
    "duration": 1349,
    "start_time": "2023-02-07T09:20:08.185Z"
   },
   {
    "duration": 47,
    "start_time": "2023-02-07T09:20:09.536Z"
   },
   {
    "duration": 463,
    "start_time": "2023-02-07T09:20:09.584Z"
   },
   {
    "duration": 977,
    "start_time": "2023-02-07T09:20:10.048Z"
   },
   {
    "duration": 30,
    "start_time": "2023-02-07T09:20:11.027Z"
   },
   {
    "duration": 5,
    "start_time": "2023-02-07T09:20:11.059Z"
   },
   {
    "duration": 88,
    "start_time": "2023-02-07T09:20:11.066Z"
   },
   {
    "duration": 17,
    "start_time": "2023-02-07T09:20:11.156Z"
   },
   {
    "duration": 237,
    "start_time": "2023-02-07T09:20:11.175Z"
   },
   {
    "duration": 161,
    "start_time": "2023-02-07T09:20:11.414Z"
   },
   {
    "duration": 60,
    "start_time": "2023-02-07T09:20:11.577Z"
   },
   {
    "duration": 32,
    "start_time": "2023-02-07T09:20:11.639Z"
   },
   {
    "duration": 3,
    "start_time": "2023-02-07T09:20:11.673Z"
   },
   {
    "duration": 120,
    "start_time": "2023-02-07T09:24:03.906Z"
   },
   {
    "duration": 252,
    "start_time": "2023-02-07T09:24:04.910Z"
   },
   {
    "duration": 650,
    "start_time": "2023-02-07T09:24:31.897Z"
   },
   {
    "duration": 776,
    "start_time": "2023-02-07T09:24:32.549Z"
   },
   {
    "duration": 1287,
    "start_time": "2023-02-07T09:24:33.327Z"
   },
   {
    "duration": 56,
    "start_time": "2023-02-07T09:24:34.616Z"
   },
   {
    "duration": 38,
    "start_time": "2023-02-07T09:24:34.674Z"
   },
   {
    "duration": 8,
    "start_time": "2023-02-07T09:24:34.727Z"
   },
   {
    "duration": 175,
    "start_time": "2023-02-07T09:24:34.737Z"
   },
   {
    "duration": 315,
    "start_time": "2023-02-07T09:24:34.914Z"
   },
   {
    "duration": 62,
    "start_time": "2023-02-07T09:24:35.230Z"
   },
   {
    "duration": 32,
    "start_time": "2023-02-07T09:24:35.295Z"
   },
   {
    "duration": 201,
    "start_time": "2023-02-07T09:24:35.328Z"
   },
   {
    "duration": 153,
    "start_time": "2023-02-07T09:24:35.530Z"
   },
   {
    "duration": 50,
    "start_time": "2023-02-07T09:24:35.684Z"
   },
   {
    "duration": 29,
    "start_time": "2023-02-07T09:24:35.736Z"
   },
   {
    "duration": 4,
    "start_time": "2023-02-07T09:24:35.767Z"
   },
   {
    "duration": 598,
    "start_time": "2023-02-07T09:24:46.785Z"
   },
   {
    "duration": 811,
    "start_time": "2023-02-07T09:24:47.385Z"
   },
   {
    "duration": 1281,
    "start_time": "2023-02-07T09:24:48.197Z"
   },
   {
    "duration": 55,
    "start_time": "2023-02-07T09:24:49.480Z"
   },
   {
    "duration": 38,
    "start_time": "2023-02-07T09:24:49.537Z"
   },
   {
    "duration": 6,
    "start_time": "2023-02-07T09:24:49.576Z"
   },
   {
    "duration": 193,
    "start_time": "2023-02-07T09:24:49.584Z"
   },
   {
    "duration": 301,
    "start_time": "2023-02-07T09:24:49.778Z"
   },
   {
    "duration": 63,
    "start_time": "2023-02-07T09:24:50.080Z"
   },
   {
    "duration": 15,
    "start_time": "2023-02-07T09:24:50.145Z"
   },
   {
    "duration": 230,
    "start_time": "2023-02-07T09:24:50.162Z"
   },
   {
    "duration": 182,
    "start_time": "2023-02-07T09:24:50.394Z"
   },
   {
    "duration": 51,
    "start_time": "2023-02-07T09:24:50.577Z"
   },
   {
    "duration": 25,
    "start_time": "2023-02-07T09:24:50.630Z"
   },
   {
    "duration": 12,
    "start_time": "2023-02-07T09:24:50.657Z"
   },
   {
    "duration": 78,
    "start_time": "2023-02-07T09:25:32.167Z"
   },
   {
    "duration": 110,
    "start_time": "2023-02-07T09:25:32.357Z"
   },
   {
    "duration": 216,
    "start_time": "2023-02-07T09:25:33.052Z"
   },
   {
    "duration": 118,
    "start_time": "2023-02-07T09:25:36.375Z"
   },
   {
    "duration": 225,
    "start_time": "2023-02-07T09:25:36.622Z"
   },
   {
    "duration": 582,
    "start_time": "2023-02-07T09:25:45.366Z"
   },
   {
    "duration": 825,
    "start_time": "2023-02-07T09:25:45.950Z"
   },
   {
    "duration": 1326,
    "start_time": "2023-02-07T09:25:46.777Z"
   },
   {
    "duration": 56,
    "start_time": "2023-02-07T09:25:48.106Z"
   },
   {
    "duration": 453,
    "start_time": "2023-02-07T09:25:48.164Z"
   },
   {
    "duration": 871,
    "start_time": "2023-02-07T09:25:48.619Z"
   },
   {
    "duration": 36,
    "start_time": "2023-02-07T09:25:49.491Z"
   },
   {
    "duration": 5,
    "start_time": "2023-02-07T09:25:49.529Z"
   },
   {
    "duration": 71,
    "start_time": "2023-02-07T09:25:49.536Z"
   },
   {
    "duration": 31,
    "start_time": "2023-02-07T09:25:49.611Z"
   },
   {
    "duration": 224,
    "start_time": "2023-02-07T09:25:49.644Z"
   },
   {
    "duration": 151,
    "start_time": "2023-02-07T09:25:49.869Z"
   },
   {
    "duration": 38,
    "start_time": "2023-02-07T09:25:50.021Z"
   },
   {
    "duration": 30,
    "start_time": "2023-02-07T09:25:50.061Z"
   },
   {
    "duration": 3,
    "start_time": "2023-02-07T09:25:50.093Z"
   },
   {
    "duration": 12,
    "start_time": "2023-02-07T09:30:58.221Z"
   },
   {
    "duration": 78,
    "start_time": "2023-02-07T09:37:47.203Z"
   },
   {
    "duration": 9,
    "start_time": "2023-02-07T09:38:12.230Z"
   },
   {
    "duration": 50,
    "start_time": "2023-02-07T09:38:12.820Z"
   },
   {
    "duration": 29,
    "start_time": "2023-02-07T09:38:17.133Z"
   },
   {
    "duration": 54,
    "start_time": "2023-02-07T09:38:17.555Z"
   },
   {
    "duration": 603,
    "start_time": "2023-02-07T09:38:25.258Z"
   },
   {
    "duration": 805,
    "start_time": "2023-02-07T09:38:25.863Z"
   },
   {
    "duration": 1275,
    "start_time": "2023-02-07T09:38:26.669Z"
   },
   {
    "duration": 48,
    "start_time": "2023-02-07T09:38:27.946Z"
   },
   {
    "duration": 437,
    "start_time": "2023-02-07T09:38:27.996Z"
   },
   {
    "duration": 885,
    "start_time": "2023-02-07T09:38:28.435Z"
   },
   {
    "duration": 28,
    "start_time": "2023-02-07T09:38:29.322Z"
   },
   {
    "duration": 5,
    "start_time": "2023-02-07T09:38:29.352Z"
   },
   {
    "duration": 83,
    "start_time": "2023-02-07T09:38:29.359Z"
   },
   {
    "duration": 42,
    "start_time": "2023-02-07T09:38:29.444Z"
   },
   {
    "duration": 77,
    "start_time": "2023-02-07T09:38:29.488Z"
   },
   {
    "duration": 16,
    "start_time": "2023-02-07T09:38:29.567Z"
   },
   {
    "duration": 225,
    "start_time": "2023-02-07T09:38:29.584Z"
   },
   {
    "duration": 147,
    "start_time": "2023-02-07T09:38:29.827Z"
   },
   {
    "duration": 30,
    "start_time": "2023-02-07T09:38:29.976Z"
   },
   {
    "duration": 42,
    "start_time": "2023-02-07T09:38:30.007Z"
   },
   {
    "duration": 4,
    "start_time": "2023-02-07T09:38:30.051Z"
   },
   {
    "duration": 49,
    "start_time": "2023-02-07T09:38:41.580Z"
   },
   {
    "duration": 633,
    "start_time": "2023-02-07T09:39:03.234Z"
   },
   {
    "duration": 821,
    "start_time": "2023-02-07T09:39:03.869Z"
   },
   {
    "duration": 1309,
    "start_time": "2023-02-07T09:39:04.692Z"
   },
   {
    "duration": 57,
    "start_time": "2023-02-07T09:39:06.003Z"
   },
   {
    "duration": 480,
    "start_time": "2023-02-07T09:39:06.062Z"
   },
   {
    "duration": 913,
    "start_time": "2023-02-07T09:39:06.544Z"
   },
   {
    "duration": 30,
    "start_time": "2023-02-07T09:39:07.459Z"
   },
   {
    "duration": 6,
    "start_time": "2023-02-07T09:39:07.490Z"
   },
   {
    "duration": 88,
    "start_time": "2023-02-07T09:39:07.498Z"
   },
   {
    "duration": 51,
    "start_time": "2023-02-07T09:39:07.588Z"
   },
   {
    "duration": 63,
    "start_time": "2023-02-07T09:39:07.641Z"
   },
   {
    "duration": 28,
    "start_time": "2023-02-07T09:39:07.706Z"
   },
   {
    "duration": 67,
    "start_time": "2023-02-07T09:39:07.735Z"
   },
   {
    "duration": 225,
    "start_time": "2023-02-07T09:39:07.804Z"
   },
   {
    "duration": 153,
    "start_time": "2023-02-07T09:39:08.031Z"
   },
   {
    "duration": 53,
    "start_time": "2023-02-07T09:39:08.185Z"
   },
   {
    "duration": 26,
    "start_time": "2023-02-07T09:39:08.240Z"
   },
   {
    "duration": 5,
    "start_time": "2023-02-07T09:39:08.268Z"
   },
   {
    "duration": 15,
    "start_time": "2023-02-07T09:39:58.836Z"
   },
   {
    "duration": 173,
    "start_time": "2023-02-07T09:56:50.717Z"
   },
   {
    "duration": 20,
    "start_time": "2023-02-07T09:57:32.003Z"
   },
   {
    "duration": 17,
    "start_time": "2023-02-07T09:57:43.197Z"
   },
   {
    "duration": 19,
    "start_time": "2023-02-07T10:02:53.865Z"
   },
   {
    "duration": 183,
    "start_time": "2023-02-07T10:02:59.184Z"
   },
   {
    "duration": 211,
    "start_time": "2023-02-07T10:04:10.777Z"
   },
   {
    "duration": 166,
    "start_time": "2023-02-07T10:05:03.917Z"
   },
   {
    "duration": 12,
    "start_time": "2023-02-07T10:06:18.980Z"
   },
   {
    "duration": 12,
    "start_time": "2023-02-07T10:06:32.131Z"
   },
   {
    "duration": 50,
    "start_time": "2023-02-07T10:06:36.140Z"
   },
   {
    "duration": 679,
    "start_time": "2023-02-07T10:06:43.208Z"
   },
   {
    "duration": 817,
    "start_time": "2023-02-07T10:06:43.890Z"
   },
   {
    "duration": 1351,
    "start_time": "2023-02-07T10:06:44.708Z"
   },
   {
    "duration": 49,
    "start_time": "2023-02-07T10:06:46.061Z"
   },
   {
    "duration": 510,
    "start_time": "2023-02-07T10:06:46.112Z"
   },
   {
    "duration": 933,
    "start_time": "2023-02-07T10:06:46.627Z"
   },
   {
    "duration": 30,
    "start_time": "2023-02-07T10:06:47.562Z"
   },
   {
    "duration": 12,
    "start_time": "2023-02-07T10:06:47.594Z"
   },
   {
    "duration": 83,
    "start_time": "2023-02-07T10:06:47.607Z"
   },
   {
    "duration": 16,
    "start_time": "2023-02-07T10:06:47.692Z"
   },
   {
    "duration": 227,
    "start_time": "2023-02-07T10:06:47.710Z"
   },
   {
    "duration": 312,
    "start_time": "2023-02-07T10:06:47.939Z"
   },
   {
    "duration": 43,
    "start_time": "2023-02-07T10:06:48.253Z"
   },
   {
    "duration": 71,
    "start_time": "2023-02-07T10:06:48.298Z"
   },
   {
    "duration": 26,
    "start_time": "2023-02-07T10:06:48.370Z"
   },
   {
    "duration": 73,
    "start_time": "2023-02-07T10:06:48.397Z"
   },
   {
    "duration": 159,
    "start_time": "2023-02-07T10:06:48.471Z"
   },
   {
    "duration": 161,
    "start_time": "2023-02-07T10:06:48.632Z"
   },
   {
    "duration": 48,
    "start_time": "2023-02-07T10:06:48.796Z"
   },
   {
    "duration": 27,
    "start_time": "2023-02-07T10:06:48.845Z"
   },
   {
    "duration": 4,
    "start_time": "2023-02-07T10:06:48.874Z"
   },
   {
    "duration": 30,
    "start_time": "2023-02-07T10:32:55.157Z"
   },
   {
    "duration": 599,
    "start_time": "2023-02-07T10:33:14.377Z"
   },
   {
    "duration": 795,
    "start_time": "2023-02-07T10:33:14.978Z"
   },
   {
    "duration": 1381,
    "start_time": "2023-02-07T10:33:15.775Z"
   },
   {
    "duration": 47,
    "start_time": "2023-02-07T10:33:17.158Z"
   },
   {
    "duration": 448,
    "start_time": "2023-02-07T10:33:17.207Z"
   },
   {
    "duration": 936,
    "start_time": "2023-02-07T10:33:17.656Z"
   },
   {
    "duration": 43,
    "start_time": "2023-02-07T10:33:18.594Z"
   },
   {
    "duration": 8,
    "start_time": "2023-02-07T10:33:18.639Z"
   },
   {
    "duration": 83,
    "start_time": "2023-02-07T10:33:18.649Z"
   },
   {
    "duration": 42,
    "start_time": "2023-02-07T10:33:18.734Z"
   },
   {
    "duration": 217,
    "start_time": "2023-02-07T10:33:18.778Z"
   },
   {
    "duration": 302,
    "start_time": "2023-02-07T10:33:18.996Z"
   },
   {
    "duration": 43,
    "start_time": "2023-02-07T10:33:19.300Z"
   },
   {
    "duration": 61,
    "start_time": "2023-02-07T10:33:19.345Z"
   },
   {
    "duration": 25,
    "start_time": "2023-02-07T10:33:19.408Z"
   },
   {
    "duration": 64,
    "start_time": "2023-02-07T10:33:19.435Z"
   },
   {
    "duration": 153,
    "start_time": "2023-02-07T10:33:19.501Z"
   },
   {
    "duration": 145,
    "start_time": "2023-02-07T10:33:19.656Z"
   },
   {
    "duration": 41,
    "start_time": "2023-02-07T10:33:19.803Z"
   },
   {
    "duration": 30,
    "start_time": "2023-02-07T10:33:19.846Z"
   },
   {
    "duration": 4,
    "start_time": "2023-02-07T10:33:19.877Z"
   },
   {
    "duration": 34,
    "start_time": "2023-02-07T10:36:45.175Z"
   },
   {
    "duration": 111,
    "start_time": "2023-02-07T10:36:54.535Z"
   },
   {
    "duration": 171,
    "start_time": "2023-02-07T10:37:47.339Z"
   },
   {
    "duration": 155,
    "start_time": "2023-02-07T10:38:15.816Z"
   },
   {
    "duration": 836,
    "start_time": "2023-02-07T10:41:49.628Z"
   },
   {
    "duration": 777,
    "start_time": "2023-02-07T10:41:52.196Z"
   },
   {
    "duration": 786,
    "start_time": "2023-02-07T10:42:01.852Z"
   },
   {
    "duration": 816,
    "start_time": "2023-02-07T10:42:17.623Z"
   },
   {
    "duration": 124,
    "start_time": "2023-02-07T10:42:52.310Z"
   },
   {
    "duration": 846,
    "start_time": "2023-02-07T10:43:00.015Z"
   },
   {
    "duration": 598,
    "start_time": "2023-02-07T10:43:17.761Z"
   },
   {
    "duration": 784,
    "start_time": "2023-02-07T10:43:18.360Z"
   },
   {
    "duration": 1311,
    "start_time": "2023-02-07T10:43:19.146Z"
   },
   {
    "duration": 49,
    "start_time": "2023-02-07T10:43:20.459Z"
   },
   {
    "duration": 543,
    "start_time": "2023-02-07T10:43:20.510Z"
   },
   {
    "duration": 946,
    "start_time": "2023-02-07T10:43:21.054Z"
   },
   {
    "duration": 46,
    "start_time": "2023-02-07T10:43:22.002Z"
   },
   {
    "duration": 6,
    "start_time": "2023-02-07T10:43:22.050Z"
   },
   {
    "duration": 84,
    "start_time": "2023-02-07T10:43:22.058Z"
   },
   {
    "duration": 1146,
    "start_time": "2023-02-07T10:43:22.145Z"
   },
   {
    "duration": 60,
    "start_time": "2023-02-07T10:43:23.292Z"
   },
   {
    "duration": 320,
    "start_time": "2023-02-07T10:43:23.354Z"
   },
   {
    "duration": 42,
    "start_time": "2023-02-07T10:43:23.675Z"
   },
   {
    "duration": 75,
    "start_time": "2023-02-07T10:43:23.719Z"
   },
   {
    "duration": 14,
    "start_time": "2023-02-07T10:43:23.796Z"
   },
   {
    "duration": 81,
    "start_time": "2023-02-07T10:43:23.812Z"
   },
   {
    "duration": 169,
    "start_time": "2023-02-07T10:43:23.895Z"
   },
   {
    "duration": 155,
    "start_time": "2023-02-07T10:43:24.066Z"
   },
   {
    "duration": 33,
    "start_time": "2023-02-07T10:43:24.235Z"
   },
   {
    "duration": 26,
    "start_time": "2023-02-07T10:43:24.270Z"
   },
   {
    "duration": 4,
    "start_time": "2023-02-07T10:43:24.298Z"
   },
   {
    "duration": 826,
    "start_time": "2023-02-07T10:47:02.922Z"
   },
   {
    "duration": 28,
    "start_time": "2023-02-07T10:48:28.051Z"
   },
   {
    "duration": 177,
    "start_time": "2023-02-07T10:48:32.626Z"
   },
   {
    "duration": 110,
    "start_time": "2023-02-07T10:49:06.330Z"
   },
   {
    "duration": 168,
    "start_time": "2023-02-07T10:54:55.762Z"
   },
   {
    "duration": 617,
    "start_time": "2023-02-07T10:55:12.377Z"
   },
   {
    "duration": 1579,
    "start_time": "2023-02-07T10:55:12.996Z"
   },
   {
    "duration": 1774,
    "start_time": "2023-02-07T10:55:14.577Z"
   },
   {
    "duration": 54,
    "start_time": "2023-02-07T10:55:16.354Z"
   },
   {
    "duration": 496,
    "start_time": "2023-02-07T10:55:16.411Z"
   },
   {
    "duration": 935,
    "start_time": "2023-02-07T10:55:16.909Z"
   },
   {
    "duration": 30,
    "start_time": "2023-02-07T10:55:17.846Z"
   },
   {
    "duration": 6,
    "start_time": "2023-02-07T10:55:17.878Z"
   },
   {
    "duration": 99,
    "start_time": "2023-02-07T10:55:17.886Z"
   },
   {
    "duration": 1098,
    "start_time": "2023-02-07T10:55:17.987Z"
   },
   {
    "duration": 49,
    "start_time": "2023-02-07T10:55:19.087Z"
   },
   {
    "duration": 123,
    "start_time": "2023-02-07T10:55:19.138Z"
   },
   {
    "duration": 235,
    "start_time": "2023-02-07T10:55:19.263Z"
   },
   {
    "duration": 71,
    "start_time": "2023-02-07T10:55:19.500Z"
   },
   {
    "duration": 142,
    "start_time": "2023-02-07T10:55:19.572Z"
   },
   {
    "duration": 179,
    "start_time": "2023-02-07T10:55:19.727Z"
   },
   {
    "duration": 51,
    "start_time": "2023-02-07T10:55:19.908Z"
   },
   {
    "duration": 27,
    "start_time": "2023-02-07T10:55:19.961Z"
   },
   {
    "duration": 4,
    "start_time": "2023-02-07T10:55:19.990Z"
   },
   {
    "duration": 161,
    "start_time": "2023-02-07T10:56:26.068Z"
   },
   {
    "duration": 986,
    "start_time": "2023-02-07T10:56:35.980Z"
   },
   {
    "duration": 1622,
    "start_time": "2023-02-07T10:56:37.450Z"
   },
   {
    "duration": 1609,
    "start_time": "2023-02-07T10:56:39.074Z"
   },
   {
    "duration": 60,
    "start_time": "2023-02-07T10:56:40.685Z"
   },
   {
    "duration": 485,
    "start_time": "2023-02-07T10:56:40.747Z"
   },
   {
    "duration": 948,
    "start_time": "2023-02-07T10:56:41.235Z"
   },
   {
    "duration": 31,
    "start_time": "2023-02-07T10:56:42.185Z"
   },
   {
    "duration": 5,
    "start_time": "2023-02-07T10:56:42.227Z"
   },
   {
    "duration": 76,
    "start_time": "2023-02-07T10:56:42.234Z"
   },
   {
    "duration": 1216,
    "start_time": "2023-02-07T10:56:42.312Z"
   },
   {
    "duration": 44,
    "start_time": "2023-02-07T10:56:43.530Z"
   },
   {
    "duration": 58,
    "start_time": "2023-02-07T10:56:43.575Z"
   },
   {
    "duration": 229,
    "start_time": "2023-02-07T10:56:43.635Z"
   },
   {
    "duration": 71,
    "start_time": "2023-02-07T10:56:43.866Z"
   },
   {
    "duration": 130,
    "start_time": "2023-02-07T10:56:43.939Z"
   },
   {
    "duration": 160,
    "start_time": "2023-02-07T10:56:44.070Z"
   },
   {
    "duration": 37,
    "start_time": "2023-02-07T10:56:44.232Z"
   },
   {
    "duration": 57,
    "start_time": "2023-02-07T10:56:44.271Z"
   },
   {
    "duration": 5,
    "start_time": "2023-02-07T10:56:44.329Z"
   },
   {
    "duration": 204,
    "start_time": "2023-02-07T11:00:30.742Z"
   },
   {
    "duration": 51,
    "start_time": "2023-02-07T11:00:33.091Z"
   },
   {
    "duration": 19,
    "start_time": "2023-02-07T11:01:46.502Z"
   },
   {
    "duration": 828,
    "start_time": "2023-02-07T11:01:53.423Z"
   },
   {
    "duration": 1683,
    "start_time": "2023-02-07T11:01:54.253Z"
   },
   {
    "duration": 1390,
    "start_time": "2023-02-07T11:01:55.938Z"
   },
   {
    "duration": 51,
    "start_time": "2023-02-07T11:01:57.331Z"
   },
   {
    "duration": 478,
    "start_time": "2023-02-07T11:01:57.384Z"
   },
   {
    "duration": 942,
    "start_time": "2023-02-07T11:01:57.864Z"
   },
   {
    "duration": 38,
    "start_time": "2023-02-07T11:01:58.808Z"
   },
   {
    "duration": 6,
    "start_time": "2023-02-07T11:01:58.848Z"
   },
   {
    "duration": 83,
    "start_time": "2023-02-07T11:01:58.855Z"
   },
   {
    "duration": 1115,
    "start_time": "2023-02-07T11:01:58.941Z"
   },
   {
    "duration": 50,
    "start_time": "2023-02-07T11:02:00.058Z"
   },
   {
    "duration": 132,
    "start_time": "2023-02-07T11:02:00.110Z"
   },
   {
    "duration": 253,
    "start_time": "2023-02-07T11:02:00.243Z"
   },
   {
    "duration": 72,
    "start_time": "2023-02-07T11:02:00.498Z"
   },
   {
    "duration": 178,
    "start_time": "2023-02-07T11:02:00.572Z"
   },
   {
    "duration": 196,
    "start_time": "2023-02-07T11:02:00.753Z"
   },
   {
    "duration": 40,
    "start_time": "2023-02-07T11:02:00.953Z"
   },
   {
    "duration": 58,
    "start_time": "2023-02-07T11:02:00.995Z"
   },
   {
    "duration": 5,
    "start_time": "2023-02-07T11:02:01.055Z"
   },
   {
    "duration": 11,
    "start_time": "2023-02-07T11:04:03.601Z"
   },
   {
    "duration": 10,
    "start_time": "2023-02-07T11:04:09.882Z"
   },
   {
    "duration": 10,
    "start_time": "2023-02-07T11:04:39.097Z"
   },
   {
    "duration": 11,
    "start_time": "2023-02-07T11:05:10.924Z"
   },
   {
    "duration": 10,
    "start_time": "2023-02-07T11:05:19.179Z"
   },
   {
    "duration": 722,
    "start_time": "2023-02-07T11:05:33.947Z"
   },
   {
    "duration": 1891,
    "start_time": "2023-02-07T11:05:34.671Z"
   },
   {
    "duration": 1385,
    "start_time": "2023-02-07T11:05:36.563Z"
   },
   {
    "duration": 50,
    "start_time": "2023-02-07T11:05:37.951Z"
   },
   {
    "duration": 491,
    "start_time": "2023-02-07T11:05:38.003Z"
   },
   {
    "duration": 1012,
    "start_time": "2023-02-07T11:05:38.495Z"
   },
   {
    "duration": 43,
    "start_time": "2023-02-07T11:05:39.510Z"
   },
   {
    "duration": 5,
    "start_time": "2023-02-07T11:05:39.556Z"
   },
   {
    "duration": 105,
    "start_time": "2023-02-07T11:05:39.563Z"
   },
   {
    "duration": 1247,
    "start_time": "2023-02-07T11:05:39.670Z"
   },
   {
    "duration": 48,
    "start_time": "2023-02-07T11:05:40.919Z"
   },
   {
    "duration": 120,
    "start_time": "2023-02-07T11:05:40.969Z"
   },
   {
    "duration": 276,
    "start_time": "2023-02-07T11:05:41.091Z"
   },
   {
    "duration": 77,
    "start_time": "2023-02-07T11:05:41.368Z"
   },
   {
    "duration": 138,
    "start_time": "2023-02-07T11:05:41.447Z"
   },
   {
    "duration": 161,
    "start_time": "2023-02-07T11:05:41.587Z"
   },
   {
    "duration": 25,
    "start_time": "2023-02-07T11:05:41.750Z"
   },
   {
    "duration": 26,
    "start_time": "2023-02-07T11:05:41.777Z"
   },
   {
    "duration": 34,
    "start_time": "2023-02-07T11:05:41.804Z"
   },
   {
    "duration": 19,
    "start_time": "2023-02-07T11:06:37.745Z"
   },
   {
    "duration": 4,
    "start_time": "2023-02-07T11:06:47.964Z"
   },
   {
    "duration": 1057,
    "start_time": "2023-02-07T11:06:55.605Z"
   },
   {
    "duration": 1422,
    "start_time": "2023-02-07T11:06:56.664Z"
   },
   {
    "duration": 1311,
    "start_time": "2023-02-07T11:06:58.088Z"
   },
   {
    "duration": 54,
    "start_time": "2023-02-07T11:06:59.401Z"
   },
   {
    "duration": 468,
    "start_time": "2023-02-07T11:06:59.456Z"
   },
   {
    "duration": 1016,
    "start_time": "2023-02-07T11:06:59.925Z"
   },
   {
    "duration": 41,
    "start_time": "2023-02-07T11:07:00.943Z"
   },
   {
    "duration": 11,
    "start_time": "2023-02-07T11:07:00.986Z"
   },
   {
    "duration": 96,
    "start_time": "2023-02-07T11:07:01.001Z"
   },
   {
    "duration": 1110,
    "start_time": "2023-02-07T11:07:01.099Z"
   },
   {
    "duration": 50,
    "start_time": "2023-02-07T11:07:02.211Z"
   },
   {
    "duration": 118,
    "start_time": "2023-02-07T11:07:02.263Z"
   },
   {
    "duration": 253,
    "start_time": "2023-02-07T11:07:02.383Z"
   },
   {
    "duration": 68,
    "start_time": "2023-02-07T11:07:02.638Z"
   },
   {
    "duration": 146,
    "start_time": "2023-02-07T11:07:02.708Z"
   },
   {
    "duration": 150,
    "start_time": "2023-02-07T11:07:02.856Z"
   },
   {
    "duration": 44,
    "start_time": "2023-02-07T11:07:03.008Z"
   },
   {
    "duration": 4,
    "start_time": "2023-02-07T11:07:03.054Z"
   },
   {
    "duration": 9,
    "start_time": "2023-02-07T11:07:03.060Z"
   },
   {
    "duration": 36,
    "start_time": "2023-02-07T11:07:46.621Z"
   },
   {
    "duration": 28,
    "start_time": "2023-02-07T11:07:49.204Z"
   },
   {
    "duration": 28,
    "start_time": "2023-02-07T11:07:55.056Z"
   },
   {
    "duration": 27,
    "start_time": "2023-02-07T11:07:57.782Z"
   },
   {
    "duration": 27,
    "start_time": "2023-02-07T11:08:01.140Z"
   },
   {
    "duration": 35,
    "start_time": "2023-02-07T11:08:38.181Z"
   },
   {
    "duration": 31,
    "start_time": "2023-02-07T11:09:09.182Z"
   },
   {
    "duration": 29,
    "start_time": "2023-02-07T11:09:21.478Z"
   },
   {
    "duration": 29,
    "start_time": "2023-02-07T11:09:35.431Z"
   },
   {
    "duration": 34,
    "start_time": "2023-02-07T11:09:50.760Z"
   },
   {
    "duration": 27,
    "start_time": "2023-02-07T11:09:55.704Z"
   },
   {
    "duration": 29,
    "start_time": "2023-02-07T11:10:08.026Z"
   },
   {
    "duration": 602,
    "start_time": "2023-02-07T11:11:38.569Z"
   },
   {
    "duration": 836,
    "start_time": "2023-02-07T11:11:39.173Z"
   },
   {
    "duration": 1379,
    "start_time": "2023-02-07T11:11:40.011Z"
   },
   {
    "duration": 54,
    "start_time": "2023-02-07T11:11:41.392Z"
   },
   {
    "duration": 451,
    "start_time": "2023-02-07T11:11:41.448Z"
   },
   {
    "duration": 926,
    "start_time": "2023-02-07T11:11:41.900Z"
   },
   {
    "duration": 30,
    "start_time": "2023-02-07T11:11:42.827Z"
   },
   {
    "duration": 5,
    "start_time": "2023-02-07T11:11:42.859Z"
   },
   {
    "duration": 92,
    "start_time": "2023-02-07T11:11:42.868Z"
   },
   {
    "duration": 1166,
    "start_time": "2023-02-07T11:11:42.962Z"
   },
   {
    "duration": 43,
    "start_time": "2023-02-07T11:11:44.130Z"
   },
   {
    "duration": 61,
    "start_time": "2023-02-07T11:11:44.174Z"
   },
   {
    "duration": 241,
    "start_time": "2023-02-07T11:11:44.237Z"
   },
   {
    "duration": 65,
    "start_time": "2023-02-07T11:11:44.481Z"
   },
   {
    "duration": 128,
    "start_time": "2023-02-07T11:11:44.548Z"
   },
   {
    "duration": 157,
    "start_time": "2023-02-07T11:11:44.678Z"
   },
   {
    "duration": 30,
    "start_time": "2023-02-07T11:11:44.837Z"
   },
   {
    "duration": 4,
    "start_time": "2023-02-07T11:11:44.868Z"
   },
   {
    "duration": 9,
    "start_time": "2023-02-07T11:11:44.873Z"
   },
   {
    "duration": 29,
    "start_time": "2023-02-07T11:12:48.168Z"
   },
   {
    "duration": 3,
    "start_time": "2023-02-07T11:13:30.498Z"
   },
   {
    "duration": 29,
    "start_time": "2023-02-07T11:17:50.372Z"
   },
   {
    "duration": 4,
    "start_time": "2023-02-07T11:31:20.131Z"
   },
   {
    "duration": 23,
    "start_time": "2023-02-07T11:31:55.972Z"
   },
   {
    "duration": 12,
    "start_time": "2023-02-07T11:32:00.819Z"
   },
   {
    "duration": 1043,
    "start_time": "2023-02-07T11:32:22.816Z"
   },
   {
    "duration": 1679,
    "start_time": "2023-02-07T11:32:23.862Z"
   },
   {
    "duration": 1924,
    "start_time": "2023-02-07T11:32:25.543Z"
   },
   {
    "duration": 48,
    "start_time": "2023-02-07T11:32:27.469Z"
   },
   {
    "duration": 473,
    "start_time": "2023-02-07T11:32:27.526Z"
   },
   {
    "duration": 893,
    "start_time": "2023-02-07T11:32:28.001Z"
   },
   {
    "duration": 34,
    "start_time": "2023-02-07T11:32:28.896Z"
   },
   {
    "duration": 7,
    "start_time": "2023-02-07T11:32:28.932Z"
   },
   {
    "duration": 92,
    "start_time": "2023-02-07T11:32:28.940Z"
   },
   {
    "duration": 1147,
    "start_time": "2023-02-07T11:32:29.034Z"
   },
   {
    "duration": 52,
    "start_time": "2023-02-07T11:32:30.183Z"
   },
   {
    "duration": 47,
    "start_time": "2023-02-07T11:32:30.236Z"
   },
   {
    "duration": 283,
    "start_time": "2023-02-07T11:32:30.285Z"
   },
   {
    "duration": 91,
    "start_time": "2023-02-07T11:32:30.571Z"
   },
   {
    "duration": 180,
    "start_time": "2023-02-07T11:32:30.664Z"
   },
   {
    "duration": 5,
    "start_time": "2023-02-07T11:32:30.846Z"
   },
   {
    "duration": 59,
    "start_time": "2023-02-07T11:32:30.852Z"
   },
   {
    "duration": 41,
    "start_time": "2023-02-07T11:32:30.912Z"
   },
   {
    "duration": 13,
    "start_time": "2023-02-07T11:32:30.955Z"
   },
   {
    "duration": 119,
    "start_time": "2023-02-07T11:34:22.199Z"
   },
   {
    "duration": 4,
    "start_time": "2023-02-07T11:34:43.831Z"
   },
   {
    "duration": 273,
    "start_time": "2023-02-07T11:35:02.896Z"
   },
   {
    "duration": 214,
    "start_time": "2023-02-07T11:35:07.247Z"
   },
   {
    "duration": 205,
    "start_time": "2023-02-07T11:35:12.438Z"
   },
   {
    "duration": 250,
    "start_time": "2023-02-07T11:35:16.305Z"
   },
   {
    "duration": 261,
    "start_time": "2023-02-07T11:35:20.430Z"
   },
   {
    "duration": 214,
    "start_time": "2023-02-07T11:35:24.790Z"
   },
   {
    "duration": 229,
    "start_time": "2023-02-07T11:35:29.584Z"
   },
   {
    "duration": 190,
    "start_time": "2023-02-07T11:35:34.720Z"
   },
   {
    "duration": 4,
    "start_time": "2023-02-07T11:35:46.855Z"
   },
   {
    "duration": 638,
    "start_time": "2023-02-07T11:35:53.717Z"
   },
   {
    "duration": 981,
    "start_time": "2023-02-07T11:35:54.357Z"
   },
   {
    "duration": 2082,
    "start_time": "2023-02-07T11:35:55.340Z"
   },
   {
    "duration": 50,
    "start_time": "2023-02-07T11:35:57.424Z"
   },
   {
    "duration": 480,
    "start_time": "2023-02-07T11:35:57.475Z"
   },
   {
    "duration": 901,
    "start_time": "2023-02-07T11:35:57.957Z"
   },
   {
    "duration": 29,
    "start_time": "2023-02-07T11:35:58.859Z"
   },
   {
    "duration": 6,
    "start_time": "2023-02-07T11:35:58.890Z"
   },
   {
    "duration": 87,
    "start_time": "2023-02-07T11:35:58.897Z"
   },
   {
    "duration": 1072,
    "start_time": "2023-02-07T11:35:58.987Z"
   },
   {
    "duration": 41,
    "start_time": "2023-02-07T11:36:00.061Z"
   },
   {
    "duration": 127,
    "start_time": "2023-02-07T11:36:00.104Z"
   },
   {
    "duration": 241,
    "start_time": "2023-02-07T11:36:00.233Z"
   },
   {
    "duration": 65,
    "start_time": "2023-02-07T11:36:00.476Z"
   },
   {
    "duration": 158,
    "start_time": "2023-02-07T11:36:00.543Z"
   },
   {
    "duration": 5,
    "start_time": "2023-02-07T11:36:00.703Z"
   },
   {
    "duration": 220,
    "start_time": "2023-02-07T11:36:00.709Z"
   },
   {
    "duration": 29,
    "start_time": "2023-02-07T11:36:00.932Z"
   },
   {
    "duration": 4,
    "start_time": "2023-02-07T11:36:00.964Z"
   },
   {
    "duration": 25,
    "start_time": "2023-02-07T11:36:00.970Z"
   },
   {
    "duration": 591,
    "start_time": "2023-02-07T11:36:26.779Z"
   },
   {
    "duration": 1597,
    "start_time": "2023-02-07T11:36:27.372Z"
   },
   {
    "duration": 1536,
    "start_time": "2023-02-07T11:36:28.971Z"
   },
   {
    "duration": 65,
    "start_time": "2023-02-07T11:36:30.510Z"
   },
   {
    "duration": 489,
    "start_time": "2023-02-07T11:36:30.577Z"
   },
   {
    "duration": 917,
    "start_time": "2023-02-07T11:36:31.068Z"
   },
   {
    "duration": 29,
    "start_time": "2023-02-07T11:36:31.987Z"
   },
   {
    "duration": 6,
    "start_time": "2023-02-07T11:36:32.026Z"
   },
   {
    "duration": 69,
    "start_time": "2023-02-07T11:36:32.034Z"
   },
   {
    "duration": 1079,
    "start_time": "2023-02-07T11:36:32.106Z"
   },
   {
    "duration": 52,
    "start_time": "2023-02-07T11:36:33.187Z"
   },
   {
    "duration": 103,
    "start_time": "2023-02-07T11:36:33.240Z"
   },
   {
    "duration": 236,
    "start_time": "2023-02-07T11:36:33.344Z"
   },
   {
    "duration": 69,
    "start_time": "2023-02-07T11:36:33.581Z"
   },
   {
    "duration": 118,
    "start_time": "2023-02-07T11:36:33.651Z"
   },
   {
    "duration": 4,
    "start_time": "2023-02-07T11:36:33.771Z"
   },
   {
    "duration": 170,
    "start_time": "2023-02-07T11:36:33.776Z"
   },
   {
    "duration": 24,
    "start_time": "2023-02-07T11:36:33.948Z"
   },
   {
    "duration": 4,
    "start_time": "2023-02-07T11:36:33.973Z"
   },
   {
    "duration": 33,
    "start_time": "2023-02-07T11:36:33.979Z"
   },
   {
    "duration": 244,
    "start_time": "2023-02-07T11:36:45.897Z"
   },
   {
    "duration": 125,
    "start_time": "2023-02-07T11:37:02.824Z"
   },
   {
    "duration": 143,
    "start_time": "2023-02-07T11:37:05.871Z"
   },
   {
    "duration": 26,
    "start_time": "2023-02-07T11:38:19.913Z"
   },
   {
    "duration": 3,
    "start_time": "2023-02-07T11:38:21.314Z"
   },
   {
    "duration": 163,
    "start_time": "2023-02-07T11:38:25.298Z"
   },
   {
    "duration": 201,
    "start_time": "2023-02-07T11:40:05.666Z"
   },
   {
    "duration": 248,
    "start_time": "2023-02-07T11:40:10.508Z"
   },
   {
    "duration": 32,
    "start_time": "2023-02-07T11:45:35.738Z"
   },
   {
    "duration": 15,
    "start_time": "2023-02-07T11:48:40.099Z"
   },
   {
    "duration": 15,
    "start_time": "2023-02-07T11:49:00.988Z"
   },
   {
    "duration": 917,
    "start_time": "2023-02-07T11:49:10.737Z"
   },
   {
    "duration": 1409,
    "start_time": "2023-02-07T11:49:11.655Z"
   },
   {
    "duration": 1323,
    "start_time": "2023-02-07T11:49:13.066Z"
   },
   {
    "duration": 56,
    "start_time": "2023-02-07T11:49:14.391Z"
   },
   {
    "duration": 460,
    "start_time": "2023-02-07T11:49:14.449Z"
   },
   {
    "duration": 922,
    "start_time": "2023-02-07T11:49:14.911Z"
   },
   {
    "duration": 31,
    "start_time": "2023-02-07T11:49:15.835Z"
   },
   {
    "duration": 6,
    "start_time": "2023-02-07T11:49:15.868Z"
   },
   {
    "duration": 93,
    "start_time": "2023-02-07T11:49:15.876Z"
   },
   {
    "duration": 1117,
    "start_time": "2023-02-07T11:49:15.972Z"
   },
   {
    "duration": 56,
    "start_time": "2023-02-07T11:49:17.091Z"
   },
   {
    "duration": 22,
    "start_time": "2023-02-07T11:49:17.149Z"
   },
   {
    "duration": 329,
    "start_time": "2023-02-07T11:49:17.172Z"
   },
   {
    "duration": 65,
    "start_time": "2023-02-07T11:49:17.503Z"
   },
   {
    "duration": 129,
    "start_time": "2023-02-07T11:49:17.570Z"
   },
   {
    "duration": 4,
    "start_time": "2023-02-07T11:49:17.700Z"
   },
   {
    "duration": 44,
    "start_time": "2023-02-07T11:49:17.705Z"
   },
   {
    "duration": 31,
    "start_time": "2023-02-07T11:49:17.751Z"
   },
   {
    "duration": 3,
    "start_time": "2023-02-07T11:49:17.784Z"
   },
   {
    "duration": 47,
    "start_time": "2023-02-07T11:51:38.654Z"
   },
   {
    "duration": 18,
    "start_time": "2023-02-07T11:52:57.951Z"
   },
   {
    "duration": 232,
    "start_time": "2023-02-07T11:52:58.407Z"
   },
   {
    "duration": 293,
    "start_time": "2023-02-07T11:53:26.401Z"
   },
   {
    "duration": 279,
    "start_time": "2023-02-07T11:53:28.688Z"
   },
   {
    "duration": 303,
    "start_time": "2023-02-07T11:54:16.019Z"
   },
   {
    "duration": 112,
    "start_time": "2023-02-07T11:54:25.289Z"
   },
   {
    "duration": 644,
    "start_time": "2023-02-07T12:13:44.912Z"
   },
   {
    "duration": 3,
    "start_time": "2023-02-07T12:14:02.672Z"
   },
   {
    "duration": 42,
    "start_time": "2023-02-07T12:15:13.457Z"
   },
   {
    "duration": 39,
    "start_time": "2023-02-07T12:15:17.440Z"
   },
   {
    "duration": 5,
    "start_time": "2023-02-07T12:15:20.425Z"
   },
   {
    "duration": 62,
    "start_time": "2023-02-07T12:23:03.285Z"
   },
   {
    "duration": 1245,
    "start_time": "2023-02-07T12:23:26.252Z"
   },
   {
    "duration": 952,
    "start_time": "2023-02-07T12:24:02.883Z"
   },
   {
    "duration": 78,
    "start_time": "2023-02-07T12:27:20.434Z"
   },
   {
    "duration": 72,
    "start_time": "2023-02-07T12:27:21.133Z"
   },
   {
    "duration": 167,
    "start_time": "2023-02-07T12:30:02.926Z"
   },
   {
    "duration": 209,
    "start_time": "2023-02-07T12:30:08.113Z"
   },
   {
    "duration": 4,
    "start_time": "2023-02-07T12:30:39.961Z"
   },
   {
    "duration": 182,
    "start_time": "2023-02-07T12:32:17.085Z"
   },
   {
    "duration": 28,
    "start_time": "2023-02-07T12:39:22.845Z"
   },
   {
    "duration": 17,
    "start_time": "2023-02-07T12:54:05.281Z"
   },
   {
    "duration": 23,
    "start_time": "2023-02-07T12:55:59.544Z"
   },
   {
    "duration": 114,
    "start_time": "2023-02-07T12:56:34.734Z"
   },
   {
    "duration": 63,
    "start_time": "2023-02-07T12:56:39.428Z"
   },
   {
    "duration": 5,
    "start_time": "2023-02-07T12:57:08.355Z"
   },
   {
    "duration": 5,
    "start_time": "2023-02-07T12:57:16.963Z"
   },
   {
    "duration": 82,
    "start_time": "2023-02-07T12:57:33.356Z"
   },
   {
    "duration": 12,
    "start_time": "2023-02-07T13:00:47.956Z"
   },
   {
    "duration": 23,
    "start_time": "2023-02-07T13:00:53.032Z"
   },
   {
    "duration": 59,
    "start_time": "2023-02-07T13:00:53.243Z"
   },
   {
    "duration": 63,
    "start_time": "2023-02-07T13:28:35.635Z"
   },
   {
    "duration": 66,
    "start_time": "2023-02-08T07:20:23.603Z"
   },
   {
    "duration": 1674,
    "start_time": "2023-02-08T07:20:34.105Z"
   },
   {
    "duration": 2897,
    "start_time": "2023-02-08T07:20:35.781Z"
   },
   {
    "duration": 424,
    "start_time": "2023-02-08T07:20:38.680Z"
   },
   {
    "duration": 61,
    "start_time": "2023-02-08T07:20:39.106Z"
   },
   {
    "duration": 458,
    "start_time": "2023-02-08T07:20:39.169Z"
   },
   {
    "duration": 919,
    "start_time": "2023-02-08T07:20:39.628Z"
   },
   {
    "duration": 32,
    "start_time": "2023-02-08T07:20:40.548Z"
   },
   {
    "duration": 14,
    "start_time": "2023-02-08T07:20:40.582Z"
   },
   {
    "duration": 118,
    "start_time": "2023-02-08T07:20:40.598Z"
   },
   {
    "duration": 1327,
    "start_time": "2023-02-08T07:20:40.719Z"
   },
   {
    "duration": 105,
    "start_time": "2023-02-08T07:20:42.048Z"
   },
   {
    "duration": 171,
    "start_time": "2023-02-08T07:20:42.154Z"
   },
   {
    "duration": 166,
    "start_time": "2023-02-08T07:20:42.328Z"
   },
   {
    "duration": 5,
    "start_time": "2023-02-08T07:20:42.496Z"
   },
   {
    "duration": 47,
    "start_time": "2023-02-08T07:20:42.503Z"
   },
   {
    "duration": 42,
    "start_time": "2023-02-08T07:20:42.553Z"
   },
   {
    "duration": 341,
    "start_time": "2023-02-08T07:20:42.598Z"
   },
   {
    "duration": 4,
    "start_time": "2023-02-08T07:20:42.940Z"
   },
   {
    "duration": 25,
    "start_time": "2023-02-08T07:20:42.945Z"
   },
   {
    "duration": 68,
    "start_time": "2023-02-08T07:20:42.971Z"
   },
   {
    "duration": 119,
    "start_time": "2023-02-08T07:21:03.880Z"
   },
   {
    "duration": 164,
    "start_time": "2023-02-08T07:21:09.506Z"
   },
   {
    "duration": 1860,
    "start_time": "2023-02-08T08:03:56.081Z"
   },
   {
    "duration": 1462,
    "start_time": "2023-02-08T08:03:57.943Z"
   },
   {
    "duration": 448,
    "start_time": "2023-02-08T08:03:59.407Z"
   },
   {
    "duration": 48,
    "start_time": "2023-02-08T08:03:59.857Z"
   },
   {
    "duration": 532,
    "start_time": "2023-02-08T08:03:59.907Z"
   },
   {
    "duration": 1034,
    "start_time": "2023-02-08T08:04:00.441Z"
   },
   {
    "duration": 29,
    "start_time": "2023-02-08T08:04:01.477Z"
   },
   {
    "duration": 13,
    "start_time": "2023-02-08T08:04:01.508Z"
   },
   {
    "duration": 135,
    "start_time": "2023-02-08T08:04:01.523Z"
   },
   {
    "duration": 1375,
    "start_time": "2023-02-08T08:04:01.661Z"
   },
   {
    "duration": 110,
    "start_time": "2023-02-08T08:04:03.038Z"
   },
   {
    "duration": 163,
    "start_time": "2023-02-08T08:04:03.150Z"
   },
   {
    "duration": 143,
    "start_time": "2023-02-08T08:04:03.315Z"
   },
   {
    "duration": 4,
    "start_time": "2023-02-08T08:04:03.460Z"
   },
   {
    "duration": 34,
    "start_time": "2023-02-08T08:04:03.466Z"
   },
   {
    "duration": 52,
    "start_time": "2023-02-08T08:04:03.503Z"
   },
   {
    "duration": 268,
    "start_time": "2023-02-08T08:04:03.556Z"
   },
   {
    "duration": 3,
    "start_time": "2023-02-08T08:04:03.826Z"
   },
   {
    "duration": 18,
    "start_time": "2023-02-08T08:04:03.839Z"
   },
   {
    "duration": 65,
    "start_time": "2023-02-08T08:04:03.859Z"
   },
   {
    "duration": 126,
    "start_time": "2023-02-08T08:08:38.149Z"
   },
   {
    "duration": 1380,
    "start_time": "2023-02-08T08:08:45.567Z"
   },
   {
    "duration": 883,
    "start_time": "2023-02-08T08:08:46.950Z"
   },
   {
    "duration": 489,
    "start_time": "2023-02-08T08:08:47.837Z"
   },
   {
    "duration": 60,
    "start_time": "2023-02-08T08:08:48.328Z"
   },
   {
    "duration": 502,
    "start_time": "2023-02-08T08:08:48.390Z"
   },
   {
    "duration": 1075,
    "start_time": "2023-02-08T08:08:48.893Z"
   },
   {
    "duration": 30,
    "start_time": "2023-02-08T08:08:49.970Z"
   },
   {
    "duration": 15,
    "start_time": "2023-02-08T08:08:50.002Z"
   },
   {
    "duration": 110,
    "start_time": "2023-02-08T08:08:50.019Z"
   },
   {
    "duration": 1337,
    "start_time": "2023-02-08T08:08:50.131Z"
   },
   {
    "duration": 93,
    "start_time": "2023-02-08T08:08:51.470Z"
   },
   {
    "duration": 143,
    "start_time": "2023-02-08T08:08:51.565Z"
   },
   {
    "duration": 141,
    "start_time": "2023-02-08T08:08:51.710Z"
   },
   {
    "duration": 4,
    "start_time": "2023-02-08T08:08:51.855Z"
   },
   {
    "duration": 78,
    "start_time": "2023-02-08T08:08:51.861Z"
   },
   {
    "duration": 46,
    "start_time": "2023-02-08T08:08:51.941Z"
   },
   {
    "duration": 295,
    "start_time": "2023-02-08T08:08:51.989Z"
   },
   {
    "duration": 3,
    "start_time": "2023-02-08T08:08:52.287Z"
   },
   {
    "duration": 56,
    "start_time": "2023-02-08T08:08:52.292Z"
   },
   {
    "duration": 104,
    "start_time": "2023-02-08T08:08:52.349Z"
   },
   {
    "duration": 1596,
    "start_time": "2023-02-08T08:18:58.341Z"
   },
   {
    "duration": 15,
    "start_time": "2023-02-08T08:19:06.928Z"
   },
   {
    "duration": 1818,
    "start_time": "2023-02-08T08:19:41.959Z"
   },
   {
    "duration": 86,
    "start_time": "2023-02-08T08:20:06.575Z"
   },
   {
    "duration": 3,
    "start_time": "2023-02-08T08:20:09.263Z"
   },
   {
    "duration": 13,
    "start_time": "2023-02-08T08:20:25.152Z"
   },
   {
    "duration": 769,
    "start_time": "2023-02-08T08:20:31.867Z"
   },
   {
    "duration": 893,
    "start_time": "2023-02-08T08:20:36.999Z"
   },
   {
    "duration": 752,
    "start_time": "2023-02-08T08:20:44.047Z"
   },
   {
    "duration": 949,
    "start_time": "2023-02-08T08:21:11.089Z"
   },
   {
    "duration": 67,
    "start_time": "2023-02-08T08:22:16.817Z"
   },
   {
    "duration": 890,
    "start_time": "2023-02-08T08:22:18.464Z"
   },
   {
    "duration": 738,
    "start_time": "2023-02-08T08:24:04.914Z"
   },
   {
    "duration": 3,
    "start_time": "2023-02-08T08:25:07.522Z"
   },
   {
    "duration": 953,
    "start_time": "2023-02-08T08:30:24.390Z"
   },
   {
    "duration": 864,
    "start_time": "2023-02-08T08:30:29.125Z"
   },
   {
    "duration": 69,
    "start_time": "2023-02-08T08:32:54.251Z"
   },
   {
    "duration": 4,
    "start_time": "2023-02-08T08:34:47.157Z"
   },
   {
    "duration": 3,
    "start_time": "2023-02-08T08:41:41.094Z"
   },
   {
    "duration": 3,
    "start_time": "2023-02-08T08:41:48.612Z"
   },
   {
    "duration": 4,
    "start_time": "2023-02-08T08:42:33.308Z"
   },
   {
    "duration": 4,
    "start_time": "2023-02-08T08:42:37.451Z"
   },
   {
    "duration": 3,
    "start_time": "2023-02-08T08:42:43.860Z"
   },
   {
    "duration": 4,
    "start_time": "2023-02-08T08:43:17.309Z"
   },
   {
    "duration": 3,
    "start_time": "2023-02-08T08:43:50.029Z"
   },
   {
    "duration": 4,
    "start_time": "2023-02-08T08:44:10.994Z"
   },
   {
    "duration": 5,
    "start_time": "2023-02-08T08:44:17.878Z"
   },
   {
    "duration": 4,
    "start_time": "2023-02-08T08:44:39.389Z"
   },
   {
    "duration": 4,
    "start_time": "2023-02-08T08:44:48.372Z"
   },
   {
    "duration": 4,
    "start_time": "2023-02-08T08:44:55.341Z"
   },
   {
    "duration": 227,
    "start_time": "2023-02-08T08:50:06.073Z"
   },
   {
    "duration": 3,
    "start_time": "2023-02-08T08:50:33.353Z"
   },
   {
    "duration": 87,
    "start_time": "2023-02-08T08:50:37.937Z"
   },
   {
    "duration": 221,
    "start_time": "2023-02-08T08:50:53.253Z"
   },
   {
    "duration": 123,
    "start_time": "2023-02-08T08:51:03.329Z"
   },
   {
    "duration": 2646,
    "start_time": "2023-02-08T08:51:19.356Z"
   },
   {
    "duration": 47,
    "start_time": "2023-02-09T11:46:40.516Z"
   },
   {
    "duration": 1605,
    "start_time": "2023-02-09T11:46:47.011Z"
   },
   {
    "duration": 3221,
    "start_time": "2023-02-09T11:46:48.668Z"
   },
   {
    "duration": 368,
    "start_time": "2023-02-09T11:46:51.891Z"
   },
   {
    "duration": 51,
    "start_time": "2023-02-09T11:46:52.261Z"
   },
   {
    "duration": 454,
    "start_time": "2023-02-09T11:46:52.314Z"
   },
   {
    "duration": 916,
    "start_time": "2023-02-09T11:46:52.773Z"
   },
   {
    "duration": 26,
    "start_time": "2023-02-09T11:46:53.690Z"
   },
   {
    "duration": 6,
    "start_time": "2023-02-09T11:46:53.718Z"
   },
   {
    "duration": 110,
    "start_time": "2023-02-09T11:46:53.726Z"
   },
   {
    "duration": 1325,
    "start_time": "2023-02-09T11:46:53.838Z"
   },
   {
    "duration": 120,
    "start_time": "2023-02-09T11:46:55.164Z"
   },
   {
    "duration": 178,
    "start_time": "2023-02-09T11:46:55.287Z"
   },
   {
    "duration": 117,
    "start_time": "2023-02-09T11:46:55.469Z"
   },
   {
    "duration": 4,
    "start_time": "2023-02-09T11:46:55.587Z"
   },
   {
    "duration": 26,
    "start_time": "2023-02-09T11:46:55.593Z"
   },
   {
    "duration": 24,
    "start_time": "2023-02-09T11:46:55.621Z"
   },
   {
    "duration": 268,
    "start_time": "2023-02-09T11:46:55.646Z"
   },
   {
    "duration": 3,
    "start_time": "2023-02-09T11:46:55.916Z"
   },
   {
    "duration": 6,
    "start_time": "2023-02-09T11:46:55.921Z"
   },
   {
    "duration": 87,
    "start_time": "2023-02-09T11:46:55.928Z"
   },
   {
    "duration": 537,
    "start_time": "2023-02-09T11:46:56.016Z"
   },
   {
    "duration": 459,
    "start_time": "2023-02-09T11:46:56.555Z"
   },
   {
    "duration": 2478,
    "start_time": "2023-02-09T11:46:57.016Z"
   },
   {
    "duration": 24,
    "start_time": "2023-02-09T11:47:01.194Z"
   },
   {
    "duration": 33,
    "start_time": "2023-02-09T11:47:03.781Z"
   },
   {
    "duration": 1987,
    "start_time": "2023-02-09T11:47:24.201Z"
   },
   {
    "duration": 1186,
    "start_time": "2023-02-09T11:47:26.192Z"
   },
   {
    "duration": 424,
    "start_time": "2023-02-09T11:47:27.380Z"
   },
   {
    "duration": 49,
    "start_time": "2023-02-09T11:47:27.805Z"
   },
   {
    "duration": 497,
    "start_time": "2023-02-09T11:47:27.856Z"
   },
   {
    "duration": 976,
    "start_time": "2023-02-09T11:47:28.356Z"
   },
   {
    "duration": 44,
    "start_time": "2023-02-09T11:47:29.334Z"
   },
   {
    "duration": 6,
    "start_time": "2023-02-09T11:47:29.380Z"
   },
   {
    "duration": 93,
    "start_time": "2023-02-09T11:47:29.387Z"
   },
   {
    "duration": 1272,
    "start_time": "2023-02-09T11:47:29.485Z"
   },
   {
    "duration": 92,
    "start_time": "2023-02-09T11:47:30.759Z"
   },
   {
    "duration": 163,
    "start_time": "2023-02-09T11:47:30.853Z"
   },
   {
    "duration": 133,
    "start_time": "2023-02-09T11:47:31.018Z"
   },
   {
    "duration": 4,
    "start_time": "2023-02-09T11:47:31.152Z"
   },
   {
    "duration": 54,
    "start_time": "2023-02-09T11:47:31.157Z"
   },
   {
    "duration": 27,
    "start_time": "2023-02-09T11:47:31.213Z"
   },
   {
    "duration": 241,
    "start_time": "2023-02-09T11:47:31.242Z"
   },
   {
    "duration": 3,
    "start_time": "2023-02-09T11:47:31.485Z"
   },
   {
    "duration": 18,
    "start_time": "2023-02-09T11:47:31.490Z"
   },
   {
    "duration": 75,
    "start_time": "2023-02-09T11:47:31.510Z"
   },
   {
    "duration": 567,
    "start_time": "2023-02-09T11:47:31.587Z"
   },
   {
    "duration": 427,
    "start_time": "2023-02-09T11:47:32.155Z"
   },
   {
    "duration": 2528,
    "start_time": "2023-02-09T11:47:32.584Z"
   },
   {
    "duration": 21,
    "start_time": "2023-02-09T11:50:05.432Z"
   },
   {
    "duration": 1593,
    "start_time": "2023-02-09T11:50:16.256Z"
   },
   {
    "duration": 932,
    "start_time": "2023-02-09T11:50:17.851Z"
   },
   {
    "duration": 1185,
    "start_time": "2023-02-09T11:50:18.792Z"
   },
   {
    "duration": 105,
    "start_time": "2023-02-09T11:50:19.979Z"
   },
   {
    "duration": 1175,
    "start_time": "2023-02-09T11:50:20.086Z"
   },
   {
    "duration": 1084,
    "start_time": "2023-02-09T11:50:21.263Z"
   },
   {
    "duration": 42,
    "start_time": "2023-02-09T11:50:22.349Z"
   },
   {
    "duration": 25,
    "start_time": "2023-02-09T11:50:22.393Z"
   },
   {
    "duration": 142,
    "start_time": "2023-02-09T11:50:22.419Z"
   },
   {
    "duration": 1576,
    "start_time": "2023-02-09T11:50:22.564Z"
   },
   {
    "duration": 137,
    "start_time": "2023-02-09T11:50:24.142Z"
   },
   {
    "duration": 195,
    "start_time": "2023-02-09T11:50:24.281Z"
   },
   {
    "duration": 143,
    "start_time": "2023-02-09T11:50:24.479Z"
   },
   {
    "duration": 7,
    "start_time": "2023-02-09T11:50:24.624Z"
   },
   {
    "duration": 65,
    "start_time": "2023-02-09T11:50:24.632Z"
   },
   {
    "duration": 52,
    "start_time": "2023-02-09T11:50:24.699Z"
   },
   {
    "duration": 415,
    "start_time": "2023-02-09T11:50:24.753Z"
   },
   {
    "duration": 10,
    "start_time": "2023-02-09T11:50:25.172Z"
   },
   {
    "duration": 35,
    "start_time": "2023-02-09T11:50:25.187Z"
   },
   {
    "duration": 124,
    "start_time": "2023-02-09T11:50:25.224Z"
   },
   {
    "duration": 722,
    "start_time": "2023-02-09T11:50:25.352Z"
   },
   {
    "duration": 435,
    "start_time": "2023-02-09T11:50:26.082Z"
   },
   {
    "duration": 2569,
    "start_time": "2023-02-09T11:50:26.519Z"
   },
   {
    "duration": 12,
    "start_time": "2023-02-09T11:50:44.776Z"
   },
   {
    "duration": 1363,
    "start_time": "2023-02-09T11:50:50.214Z"
   },
   {
    "duration": 913,
    "start_time": "2023-02-09T11:50:51.583Z"
   },
   {
    "duration": 978,
    "start_time": "2023-02-09T11:50:52.498Z"
   },
   {
    "duration": 104,
    "start_time": "2023-02-09T11:50:53.480Z"
   },
   {
    "duration": 1014,
    "start_time": "2023-02-09T11:50:53.586Z"
   },
   {
    "duration": 1155,
    "start_time": "2023-02-09T11:50:54.602Z"
   },
   {
    "duration": 36,
    "start_time": "2023-02-09T11:50:55.758Z"
   },
   {
    "duration": 7,
    "start_time": "2023-02-09T11:50:55.795Z"
   },
   {
    "duration": 118,
    "start_time": "2023-02-09T11:50:55.804Z"
   },
   {
    "duration": 1493,
    "start_time": "2023-02-09T11:50:55.925Z"
   },
   {
    "duration": 104,
    "start_time": "2023-02-09T11:50:57.420Z"
   },
   {
    "duration": 141,
    "start_time": "2023-02-09T11:50:57.526Z"
   },
   {
    "duration": 146,
    "start_time": "2023-02-09T11:50:57.674Z"
   },
   {
    "duration": 5,
    "start_time": "2023-02-09T11:50:57.822Z"
   },
   {
    "duration": 52,
    "start_time": "2023-02-09T11:50:57.829Z"
   },
   {
    "duration": 25,
    "start_time": "2023-02-09T11:50:57.887Z"
   },
   {
    "duration": 260,
    "start_time": "2023-02-09T11:50:57.914Z"
   },
   {
    "duration": 7,
    "start_time": "2023-02-09T11:50:58.179Z"
   },
   {
    "duration": 6,
    "start_time": "2023-02-09T11:50:58.188Z"
   },
   {
    "duration": 84,
    "start_time": "2023-02-09T11:50:58.196Z"
   },
   {
    "duration": 601,
    "start_time": "2023-02-09T11:50:58.287Z"
   },
   {
    "duration": 453,
    "start_time": "2023-02-09T11:50:58.890Z"
   },
   {
    "duration": 2614,
    "start_time": "2023-02-09T11:50:59.344Z"
   },
   {
    "duration": 14,
    "start_time": "2023-02-09T11:54:36.992Z"
   },
   {
    "duration": 2234,
    "start_time": "2023-02-09T11:54:45.940Z"
   },
   {
    "duration": 1416,
    "start_time": "2023-02-09T11:54:48.177Z"
   },
   {
    "duration": 50,
    "start_time": "2023-02-09T11:54:49.595Z"
   },
   {
    "duration": 547,
    "start_time": "2023-02-09T11:54:49.647Z"
   },
   {
    "duration": 52,
    "start_time": "2023-02-09T11:54:50.196Z"
   },
   {
    "duration": 498,
    "start_time": "2023-02-09T11:54:50.250Z"
   },
   {
    "duration": 1038,
    "start_time": "2023-02-09T11:54:50.750Z"
   },
   {
    "duration": 32,
    "start_time": "2023-02-09T11:54:51.790Z"
   },
   {
    "duration": 6,
    "start_time": "2023-02-09T11:54:51.824Z"
   },
   {
    "duration": 184,
    "start_time": "2023-02-09T11:54:51.832Z"
   },
   {
    "duration": 1630,
    "start_time": "2023-02-09T11:54:52.018Z"
   },
   {
    "duration": 111,
    "start_time": "2023-02-09T11:54:53.650Z"
   },
   {
    "duration": 173,
    "start_time": "2023-02-09T11:54:53.763Z"
   },
   {
    "duration": 141,
    "start_time": "2023-02-09T11:54:53.938Z"
   },
   {
    "duration": 12,
    "start_time": "2023-02-09T11:54:54.081Z"
   },
   {
    "duration": 32,
    "start_time": "2023-02-09T11:54:54.096Z"
   },
   {
    "duration": 24,
    "start_time": "2023-02-09T11:54:54.129Z"
   },
   {
    "duration": 293,
    "start_time": "2023-02-09T11:54:54.154Z"
   },
   {
    "duration": 4,
    "start_time": "2023-02-09T11:54:54.449Z"
   },
   {
    "duration": 3,
    "start_time": "2023-02-09T11:54:54.466Z"
   },
   {
    "duration": 104,
    "start_time": "2023-02-09T11:54:54.473Z"
   },
   {
    "duration": 725,
    "start_time": "2023-02-09T11:54:54.580Z"
   },
   {
    "duration": 476,
    "start_time": "2023-02-09T11:54:55.311Z"
   },
   {
    "duration": 2866,
    "start_time": "2023-02-09T11:54:55.790Z"
   },
   {
    "duration": 12,
    "start_time": "2023-02-09T11:55:12.447Z"
   },
   {
    "duration": 1650,
    "start_time": "2023-02-09T11:55:17.205Z"
   },
   {
    "duration": 1037,
    "start_time": "2023-02-09T11:55:18.858Z"
   },
   {
    "duration": 42,
    "start_time": "2023-02-09T11:55:19.897Z"
   },
   {
    "duration": 49,
    "start_time": "2023-02-09T11:55:19.941Z"
   },
   {
    "duration": 476,
    "start_time": "2023-02-09T11:55:19.992Z"
   },
   {
    "duration": 58,
    "start_time": "2023-02-09T11:55:20.470Z"
   },
   {
    "duration": 540,
    "start_time": "2023-02-09T11:55:20.529Z"
   },
   {
    "duration": 1042,
    "start_time": "2023-02-09T11:55:21.073Z"
   },
   {
    "duration": 32,
    "start_time": "2023-02-09T11:55:22.117Z"
   },
   {
    "duration": 26,
    "start_time": "2023-02-09T11:55:22.153Z"
   },
   {
    "duration": 126,
    "start_time": "2023-02-09T11:55:22.184Z"
   },
   {
    "duration": 1632,
    "start_time": "2023-02-09T11:55:22.313Z"
   },
   {
    "duration": 128,
    "start_time": "2023-02-09T11:55:23.947Z"
   },
   {
    "duration": 181,
    "start_time": "2023-02-09T11:55:24.077Z"
   },
   {
    "duration": 153,
    "start_time": "2023-02-09T11:55:24.260Z"
   },
   {
    "duration": 5,
    "start_time": "2023-02-09T11:55:24.416Z"
   },
   {
    "duration": 29,
    "start_time": "2023-02-09T11:55:24.422Z"
   },
   {
    "duration": 53,
    "start_time": "2023-02-09T11:55:24.453Z"
   },
   {
    "duration": 333,
    "start_time": "2023-02-09T11:55:24.512Z"
   },
   {
    "duration": 4,
    "start_time": "2023-02-09T11:55:24.847Z"
   },
   {
    "duration": 14,
    "start_time": "2023-02-09T11:55:24.853Z"
   },
   {
    "duration": 119,
    "start_time": "2023-02-09T11:55:24.869Z"
   },
   {
    "duration": 751,
    "start_time": "2023-02-09T11:55:24.991Z"
   },
   {
    "duration": 515,
    "start_time": "2023-02-09T11:55:25.745Z"
   },
   {
    "duration": 2882,
    "start_time": "2023-02-09T11:55:26.262Z"
   },
   {
    "duration": 1467,
    "start_time": "2023-02-09T12:02:56.277Z"
   },
   {
    "duration": 2555,
    "start_time": "2023-02-09T12:03:04.082Z"
   },
   {
    "duration": 919,
    "start_time": "2023-02-09T12:03:06.638Z"
   },
   {
    "duration": 398,
    "start_time": "2023-02-09T12:03:07.559Z"
   },
   {
    "duration": 53,
    "start_time": "2023-02-09T12:03:07.959Z"
   },
   {
    "duration": 496,
    "start_time": "2023-02-09T12:03:08.013Z"
   },
   {
    "duration": 1026,
    "start_time": "2023-02-09T12:03:08.512Z"
   },
   {
    "duration": 71,
    "start_time": "2023-02-09T12:03:09.540Z"
   },
   {
    "duration": 29,
    "start_time": "2023-02-09T12:03:09.613Z"
   },
   {
    "duration": 31,
    "start_time": "2023-02-09T12:03:09.644Z"
   },
   {
    "duration": 90,
    "start_time": "2023-02-09T12:03:09.678Z"
   },
   {
    "duration": 1468,
    "start_time": "2023-02-09T12:03:09.770Z"
   },
   {
    "duration": 99,
    "start_time": "2023-02-09T12:03:11.240Z"
   },
   {
    "duration": 141,
    "start_time": "2023-02-09T12:03:11.341Z"
   },
   {
    "duration": 129,
    "start_time": "2023-02-09T12:03:11.483Z"
   },
   {
    "duration": 4,
    "start_time": "2023-02-09T12:03:11.613Z"
   },
   {
    "duration": 27,
    "start_time": "2023-02-09T12:03:11.619Z"
   },
   {
    "duration": 41,
    "start_time": "2023-02-09T12:03:11.648Z"
   },
   {
    "duration": 283,
    "start_time": "2023-02-09T12:03:11.691Z"
   },
   {
    "duration": 9,
    "start_time": "2023-02-09T12:03:11.976Z"
   },
   {
    "duration": 7,
    "start_time": "2023-02-09T12:03:11.987Z"
   },
   {
    "duration": 91,
    "start_time": "2023-02-09T12:03:11.995Z"
   },
   {
    "duration": 600,
    "start_time": "2023-02-09T12:03:12.088Z"
   },
   {
    "duration": 452,
    "start_time": "2023-02-09T12:03:12.690Z"
   },
   {
    "duration": 2792,
    "start_time": "2023-02-09T12:03:13.144Z"
   },
   {
    "duration": 4,
    "start_time": "2023-02-09T12:24:42.151Z"
   },
   {
    "duration": 2604,
    "start_time": "2023-02-09T12:31:20.961Z"
   },
   {
    "duration": 4,
    "start_time": "2023-02-09T12:35:55.980Z"
   },
   {
    "duration": 47683,
    "start_time": "2023-02-09T12:37:11.688Z"
   },
   {
    "duration": 4,
    "start_time": "2023-02-09T12:46:31.459Z"
   },
   {
    "duration": 94,
    "start_time": "2023-02-09T12:50:24.569Z"
   },
   {
    "duration": 31,
    "start_time": "2023-02-09T12:51:05.661Z"
   },
   {
    "duration": 1589,
    "start_time": "2023-02-09T12:54:22.050Z"
   },
   {
    "duration": 2072,
    "start_time": "2023-02-09T12:54:23.641Z"
   },
   {
    "duration": 687,
    "start_time": "2023-02-09T12:54:25.715Z"
   },
   {
    "duration": 55,
    "start_time": "2023-02-09T12:54:26.406Z"
   },
   {
    "duration": 591,
    "start_time": "2023-02-09T12:54:26.463Z"
   },
   {
    "duration": 1034,
    "start_time": "2023-02-09T12:54:27.056Z"
   },
   {
    "duration": 29,
    "start_time": "2023-02-09T12:54:28.092Z"
   },
   {
    "duration": 7,
    "start_time": "2023-02-09T12:54:28.123Z"
   },
   {
    "duration": 124,
    "start_time": "2023-02-09T12:54:28.132Z"
   },
   {
    "duration": 2931,
    "start_time": "2023-02-09T12:54:28.259Z"
   },
   {
    "duration": 215,
    "start_time": "2023-02-09T12:54:31.193Z"
   },
   {
    "duration": 469,
    "start_time": "2023-02-09T12:54:31.410Z"
   },
   {
    "duration": 299,
    "start_time": "2023-02-09T12:54:31.883Z"
   },
   {
    "duration": 6,
    "start_time": "2023-02-09T12:54:32.188Z"
   },
   {
    "duration": 80,
    "start_time": "2023-02-09T12:54:32.196Z"
   },
   {
    "duration": 35,
    "start_time": "2023-02-09T12:54:32.279Z"
   },
   {
    "duration": 800,
    "start_time": "2023-02-09T12:54:32.370Z"
   },
   {
    "duration": 5,
    "start_time": "2023-02-09T12:54:33.180Z"
   },
   {
    "duration": 8,
    "start_time": "2023-02-09T12:54:33.188Z"
   },
   {
    "duration": 195,
    "start_time": "2023-02-09T12:54:33.197Z"
   },
   {
    "duration": 827,
    "start_time": "2023-02-09T12:54:33.394Z"
   },
   {
    "duration": 499,
    "start_time": "2023-02-09T12:54:34.223Z"
   },
   {
    "duration": 173648,
    "start_time": "2023-02-09T12:54:34.724Z"
   },
   {
    "duration": 7,
    "start_time": "2023-02-09T12:57:28.376Z"
   },
   {
    "duration": 15,
    "start_time": "2023-02-09T12:57:28.387Z"
   },
   {
    "duration": 1440,
    "start_time": "2023-02-09T13:06:12.754Z"
   },
   {
    "duration": 1218,
    "start_time": "2023-02-09T13:06:14.196Z"
   },
   {
    "duration": 843,
    "start_time": "2023-02-09T13:06:15.468Z"
   },
   {
    "duration": 165,
    "start_time": "2023-02-09T13:06:16.313Z"
   },
   {
    "duration": 651,
    "start_time": "2023-02-09T13:06:16.482Z"
   },
   {
    "duration": 958,
    "start_time": "2023-02-09T13:06:17.135Z"
   },
   {
    "duration": 28,
    "start_time": "2023-02-09T13:06:18.095Z"
   },
   {
    "duration": 7,
    "start_time": "2023-02-09T13:06:18.125Z"
   },
   {
    "duration": 122,
    "start_time": "2023-02-09T13:06:18.133Z"
   },
   {
    "duration": 1329,
    "start_time": "2023-02-09T13:06:18.258Z"
   },
   {
    "duration": 120,
    "start_time": "2023-02-09T13:06:19.589Z"
   },
   {
    "duration": 140,
    "start_time": "2023-02-09T13:06:19.710Z"
   },
   {
    "duration": 154,
    "start_time": "2023-02-09T13:06:19.852Z"
   },
   {
    "duration": 4,
    "start_time": "2023-02-09T13:06:20.007Z"
   },
   {
    "duration": 49,
    "start_time": "2023-02-09T13:06:20.012Z"
   },
   {
    "duration": 28,
    "start_time": "2023-02-09T13:06:20.062Z"
   },
   {
    "duration": 259,
    "start_time": "2023-02-09T13:06:20.092Z"
   },
   {
    "duration": 4,
    "start_time": "2023-02-09T13:06:20.353Z"
   },
   {
    "duration": 48,
    "start_time": "2023-02-09T13:06:20.358Z"
   },
   {
    "duration": 91,
    "start_time": "2023-02-09T13:06:20.408Z"
   },
   {
    "duration": 607,
    "start_time": "2023-02-09T13:06:20.501Z"
   },
   {
    "duration": 434,
    "start_time": "2023-02-09T13:06:21.110Z"
   },
   {
    "duration": 176379,
    "start_time": "2023-02-09T13:06:21.545Z"
   },
   {
    "duration": 4,
    "start_time": "2023-02-09T13:09:17.926Z"
   },
   {
    "duration": 6,
    "start_time": "2023-02-09T13:09:17.931Z"
   },
   {
    "duration": 167759,
    "start_time": "2023-02-09T13:12:21.323Z"
   },
   {
    "duration": 177986,
    "start_time": "2023-02-09T13:17:57.698Z"
   },
   {
    "duration": 18,
    "start_time": "2023-02-09T13:21:41.802Z"
   },
   {
    "duration": 4,
    "start_time": "2023-02-09T13:21:59.832Z"
   },
   {
    "duration": 179,
    "start_time": "2023-02-09T13:22:02.941Z"
   },
   {
    "duration": 2388,
    "start_time": "2023-02-09T13:22:12.808Z"
   },
   {
    "duration": 1520,
    "start_time": "2023-02-09T13:22:15.198Z"
   },
   {
    "duration": 541,
    "start_time": "2023-02-09T13:22:16.720Z"
   },
   {
    "duration": 58,
    "start_time": "2023-02-09T13:22:17.264Z"
   },
   {
    "duration": 597,
    "start_time": "2023-02-09T13:22:17.324Z"
   },
   {
    "duration": 1293,
    "start_time": "2023-02-09T13:22:17.927Z"
   },
   {
    "duration": 29,
    "start_time": "2023-02-09T13:22:19.222Z"
   },
   {
    "duration": 33,
    "start_time": "2023-02-09T13:22:19.253Z"
   },
   {
    "duration": 265,
    "start_time": "2023-02-09T13:22:19.288Z"
   },
   {
    "duration": 1930,
    "start_time": "2023-02-09T13:22:19.556Z"
   },
   {
    "duration": 165,
    "start_time": "2023-02-09T13:22:21.496Z"
   },
   {
    "duration": 200,
    "start_time": "2023-02-09T13:22:21.663Z"
   },
   {
    "duration": 172,
    "start_time": "2023-02-09T13:22:21.869Z"
   },
   {
    "duration": 5,
    "start_time": "2023-02-09T13:22:22.043Z"
   },
   {
    "duration": 64,
    "start_time": "2023-02-09T13:22:22.050Z"
   },
   {
    "duration": 46,
    "start_time": "2023-02-09T13:22:22.117Z"
   },
   {
    "duration": 403,
    "start_time": "2023-02-09T13:22:22.165Z"
   },
   {
    "duration": 4,
    "start_time": "2023-02-09T13:22:22.569Z"
   },
   {
    "duration": 8,
    "start_time": "2023-02-09T13:22:22.583Z"
   },
   {
    "duration": 139,
    "start_time": "2023-02-09T13:22:22.593Z"
   },
   {
    "duration": 723,
    "start_time": "2023-02-09T13:22:22.734Z"
   },
   {
    "duration": 484,
    "start_time": "2023-02-09T13:22:23.466Z"
   },
   {
    "duration": 130,
    "start_time": "2023-02-09T13:22:23.952Z"
   },
   {
    "duration": 266988,
    "start_time": "2023-02-09T13:22:24.084Z"
   },
   {
    "duration": 5,
    "start_time": "2023-02-09T13:26:51.074Z"
   },
   {
    "duration": 33,
    "start_time": "2023-02-09T13:26:51.084Z"
   },
   {
    "duration": 130,
    "start_time": "2023-02-09T13:26:51.121Z"
   },
   {
    "duration": 114,
    "start_time": "2023-02-09T13:28:32.433Z"
   },
   {
    "duration": 1403,
    "start_time": "2023-02-09T13:28:39.823Z"
   },
   {
    "duration": 2098,
    "start_time": "2023-02-09T13:28:41.228Z"
   },
   {
    "duration": 0,
    "start_time": "2023-02-09T13:28:43.329Z"
   },
   {
    "duration": 0,
    "start_time": "2023-02-09T13:28:43.330Z"
   },
   {
    "duration": 0,
    "start_time": "2023-02-09T13:28:43.331Z"
   },
   {
    "duration": 0,
    "start_time": "2023-02-09T13:28:43.332Z"
   },
   {
    "duration": 0,
    "start_time": "2023-02-09T13:28:43.333Z"
   },
   {
    "duration": 0,
    "start_time": "2023-02-09T13:28:43.334Z"
   },
   {
    "duration": 0,
    "start_time": "2023-02-09T13:28:43.335Z"
   },
   {
    "duration": 0,
    "start_time": "2023-02-09T13:28:43.336Z"
   },
   {
    "duration": 0,
    "start_time": "2023-02-09T13:28:43.337Z"
   },
   {
    "duration": 0,
    "start_time": "2023-02-09T13:28:43.338Z"
   },
   {
    "duration": 0,
    "start_time": "2023-02-09T13:28:43.339Z"
   },
   {
    "duration": 1433,
    "start_time": "2023-02-09T13:28:49.423Z"
   },
   {
    "duration": 1651,
    "start_time": "2023-02-09T13:28:50.857Z"
   },
   {
    "duration": 1211,
    "start_time": "2023-02-09T13:28:52.510Z"
   },
   {
    "duration": 64,
    "start_time": "2023-02-09T13:28:53.723Z"
   },
   {
    "duration": 484,
    "start_time": "2023-02-09T13:28:53.789Z"
   },
   {
    "duration": 1107,
    "start_time": "2023-02-09T13:28:54.276Z"
   },
   {
    "duration": 37,
    "start_time": "2023-02-09T13:28:55.387Z"
   },
   {
    "duration": 8,
    "start_time": "2023-02-09T13:28:55.426Z"
   },
   {
    "duration": 126,
    "start_time": "2023-02-09T13:28:55.435Z"
   },
   {
    "duration": 1448,
    "start_time": "2023-02-09T13:28:55.567Z"
   },
   {
    "duration": 109,
    "start_time": "2023-02-09T13:28:57.017Z"
   },
   {
    "duration": 167,
    "start_time": "2023-02-09T13:28:57.128Z"
   },
   {
    "duration": 128,
    "start_time": "2023-02-09T13:28:57.296Z"
   },
   {
    "duration": 5,
    "start_time": "2023-02-09T13:28:57.426Z"
   },
   {
    "duration": 49,
    "start_time": "2023-02-09T13:28:57.432Z"
   },
   {
    "duration": 35,
    "start_time": "2023-02-09T13:28:57.483Z"
   },
   {
    "duration": 305,
    "start_time": "2023-02-09T13:28:57.521Z"
   },
   {
    "duration": 5,
    "start_time": "2023-02-09T13:28:57.828Z"
   },
   {
    "duration": 6,
    "start_time": "2023-02-09T13:28:57.835Z"
   },
   {
    "duration": 94,
    "start_time": "2023-02-09T13:28:57.843Z"
   },
   {
    "duration": 597,
    "start_time": "2023-02-09T13:28:57.939Z"
   },
   {
    "duration": 431,
    "start_time": "2023-02-09T13:28:58.537Z"
   },
   {
    "duration": 164,
    "start_time": "2023-02-09T13:28:58.973Z"
   },
   {
    "duration": 255556,
    "start_time": "2023-02-09T13:28:59.140Z"
   },
   {
    "duration": 85,
    "start_time": "2023-02-09T13:33:14.699Z"
   },
   {
    "duration": 27,
    "start_time": "2023-02-09T13:33:14.790Z"
   },
   {
    "duration": 249166,
    "start_time": "2023-02-09T13:34:08.021Z"
   },
   {
    "duration": 122,
    "start_time": "2023-02-09T13:39:58.392Z"
   },
   {
    "duration": 166,
    "start_time": "2023-02-09T13:40:15.389Z"
   },
   {
    "duration": 217,
    "start_time": "2023-02-09T13:40:33.808Z"
   },
   {
    "duration": 274800,
    "start_time": "2023-02-09T13:40:36.490Z"
   },
   {
    "duration": 1596829,
    "start_time": "2023-02-09T13:47:42.197Z"
   },
   {
    "duration": 1595697,
    "start_time": "2023-02-09T14:14:30.232Z"
   },
   {
    "duration": 1492,
    "start_time": "2023-02-11T09:08:21.139Z"
   },
   {
    "duration": 1043,
    "start_time": "2023-02-11T09:08:22.633Z"
   },
   {
    "duration": 339,
    "start_time": "2023-02-11T09:08:23.678Z"
   },
   {
    "duration": 4,
    "start_time": "2023-02-11T09:57:36.534Z"
   },
   {
    "duration": 121,
    "start_time": "2023-02-11T10:01:15.235Z"
   },
   {
    "duration": 4,
    "start_time": "2023-02-11T10:01:39.180Z"
   },
   {
    "duration": 4,
    "start_time": "2023-02-11T10:01:40.462Z"
   },
   {
    "duration": 3,
    "start_time": "2023-02-11T10:01:42.022Z"
   },
   {
    "duration": 1667,
    "start_time": "2023-02-11T10:01:47.262Z"
   },
   {
    "duration": 1191,
    "start_time": "2023-02-11T10:01:48.931Z"
   },
   {
    "duration": 393,
    "start_time": "2023-02-11T10:01:50.123Z"
   },
   {
    "duration": 43,
    "start_time": "2023-02-11T10:01:50.518Z"
   },
   {
    "duration": 433,
    "start_time": "2023-02-11T10:01:50.563Z"
   },
   {
    "duration": 828,
    "start_time": "2023-02-11T10:01:50.998Z"
   },
   {
    "duration": 31,
    "start_time": "2023-02-11T10:01:51.828Z"
   },
   {
    "duration": 5,
    "start_time": "2023-02-11T10:01:51.860Z"
   },
   {
    "duration": 89,
    "start_time": "2023-02-11T10:01:51.867Z"
   },
   {
    "duration": 1152,
    "start_time": "2023-02-11T10:01:51.959Z"
   },
   {
    "duration": 70,
    "start_time": "2023-02-11T10:01:53.113Z"
   },
   {
    "duration": 125,
    "start_time": "2023-02-11T10:01:53.185Z"
   },
   {
    "duration": 116,
    "start_time": "2023-02-11T10:01:53.312Z"
   },
   {
    "duration": 4,
    "start_time": "2023-02-11T10:01:53.429Z"
   },
   {
    "duration": 20,
    "start_time": "2023-02-11T10:01:53.435Z"
   },
   {
    "duration": 25,
    "start_time": "2023-02-11T10:01:53.456Z"
   },
   {
    "duration": 240,
    "start_time": "2023-02-11T10:01:53.482Z"
   },
   {
    "duration": 3,
    "start_time": "2023-02-11T10:01:53.723Z"
   },
   {
    "duration": 5,
    "start_time": "2023-02-11T10:01:53.727Z"
   },
   {
    "duration": 68,
    "start_time": "2023-02-11T10:01:53.733Z"
   },
   {
    "duration": 135,
    "start_time": "2023-02-11T10:01:53.802Z"
   },
   {
    "duration": 0,
    "start_time": "2023-02-11T10:01:53.938Z"
   },
   {
    "duration": 0,
    "start_time": "2023-02-11T10:01:53.939Z"
   },
   {
    "duration": 0,
    "start_time": "2023-02-11T10:01:53.940Z"
   },
   {
    "duration": 0,
    "start_time": "2023-02-11T10:01:53.942Z"
   },
   {
    "duration": 0,
    "start_time": "2023-02-11T10:01:53.943Z"
   },
   {
    "duration": 0,
    "start_time": "2023-02-11T10:01:53.944Z"
   },
   {
    "duration": 0,
    "start_time": "2023-02-11T10:01:53.945Z"
   },
   {
    "duration": 17,
    "start_time": "2023-02-11T10:02:11.727Z"
   },
   {
    "duration": 27,
    "start_time": "2023-02-11T10:04:44.130Z"
   },
   {
    "duration": 24,
    "start_time": "2023-02-11T10:04:47.629Z"
   },
   {
    "duration": 62,
    "start_time": "2023-02-11T10:05:07.015Z"
   },
   {
    "duration": 12,
    "start_time": "2023-02-11T10:05:25.695Z"
   },
   {
    "duration": 371,
    "start_time": "2023-02-11T10:05:46.228Z"
   },
   {
    "duration": 1156,
    "start_time": "2023-02-11T10:07:43.508Z"
   },
   {
    "duration": 1204,
    "start_time": "2023-02-11T10:08:00.448Z"
   },
   {
    "duration": 1757,
    "start_time": "2023-02-11T10:08:09.884Z"
   },
   {
    "duration": 1147,
    "start_time": "2023-02-11T10:08:11.643Z"
   },
   {
    "duration": 377,
    "start_time": "2023-02-11T10:08:12.791Z"
   },
   {
    "duration": 60,
    "start_time": "2023-02-11T10:08:13.170Z"
   },
   {
    "duration": 449,
    "start_time": "2023-02-11T10:08:13.232Z"
   },
   {
    "duration": 892,
    "start_time": "2023-02-11T10:08:13.683Z"
   },
   {
    "duration": 36,
    "start_time": "2023-02-11T10:08:14.577Z"
   },
   {
    "duration": 5,
    "start_time": "2023-02-11T10:08:14.615Z"
   },
   {
    "duration": 75,
    "start_time": "2023-02-11T10:08:14.621Z"
   },
   {
    "duration": 1154,
    "start_time": "2023-02-11T10:08:14.709Z"
   },
   {
    "duration": 87,
    "start_time": "2023-02-11T10:08:15.864Z"
   },
   {
    "duration": 115,
    "start_time": "2023-02-11T10:08:15.952Z"
   },
   {
    "duration": 117,
    "start_time": "2023-02-11T10:08:16.068Z"
   },
   {
    "duration": 3,
    "start_time": "2023-02-11T10:08:16.188Z"
   },
   {
    "duration": 20,
    "start_time": "2023-02-11T10:08:16.210Z"
   },
   {
    "duration": 27,
    "start_time": "2023-02-11T10:08:16.231Z"
   },
   {
    "duration": 243,
    "start_time": "2023-02-11T10:08:16.260Z"
   },
   {
    "duration": 7,
    "start_time": "2023-02-11T10:08:16.504Z"
   },
   {
    "duration": 6,
    "start_time": "2023-02-11T10:08:16.512Z"
   },
   {
    "duration": 60,
    "start_time": "2023-02-11T10:08:16.519Z"
   },
   {
    "duration": 32,
    "start_time": "2023-02-11T10:08:16.580Z"
   },
   {
    "duration": 1225,
    "start_time": "2023-02-11T10:08:16.614Z"
   },
   {
    "duration": 473,
    "start_time": "2023-02-11T10:08:17.841Z"
   },
   {
    "duration": 315,
    "start_time": "2023-02-11T10:08:18.315Z"
   },
   {
    "duration": 62,
    "start_time": "2023-02-11T10:08:18.631Z"
   },
   {
    "duration": 17,
    "start_time": "2023-02-11T10:08:18.694Z"
   },
   {
    "duration": 5,
    "start_time": "2023-02-11T10:08:18.712Z"
   },
   {
    "duration": 7,
    "start_time": "2023-02-11T10:08:18.718Z"
   },
   {
    "duration": 9,
    "start_time": "2023-02-11T10:08:18.727Z"
   },
   {
    "duration": 17,
    "start_time": "2023-02-11T10:10:57.349Z"
   },
   {
    "duration": 25,
    "start_time": "2023-02-11T10:11:04.449Z"
   },
   {
    "duration": 12,
    "start_time": "2023-02-11T10:11:14.547Z"
   },
   {
    "duration": 1246,
    "start_time": "2023-02-11T10:54:57.345Z"
   },
   {
    "duration": 25,
    "start_time": "2023-02-11T11:22:33.641Z"
   },
   {
    "duration": 1153,
    "start_time": "2023-02-11T11:22:40.244Z"
   },
   {
    "duration": 1328,
    "start_time": "2023-02-11T11:22:58.491Z"
   },
   {
    "duration": 768,
    "start_time": "2023-02-11T11:22:59.821Z"
   },
   {
    "duration": 359,
    "start_time": "2023-02-11T11:23:00.591Z"
   },
   {
    "duration": 45,
    "start_time": "2023-02-11T11:23:00.952Z"
   },
   {
    "duration": 446,
    "start_time": "2023-02-11T11:23:00.999Z"
   },
   {
    "duration": 876,
    "start_time": "2023-02-11T11:23:01.447Z"
   },
   {
    "duration": 31,
    "start_time": "2023-02-11T11:23:02.325Z"
   },
   {
    "duration": 6,
    "start_time": "2023-02-11T11:23:02.357Z"
   },
   {
    "duration": 93,
    "start_time": "2023-02-11T11:23:02.364Z"
   },
   {
    "duration": 1203,
    "start_time": "2023-02-11T11:23:02.460Z"
   },
   {
    "duration": 78,
    "start_time": "2023-02-11T11:23:03.664Z"
   },
   {
    "duration": 121,
    "start_time": "2023-02-11T11:23:03.744Z"
   },
   {
    "duration": 112,
    "start_time": "2023-02-11T11:23:03.867Z"
   },
   {
    "duration": 4,
    "start_time": "2023-02-11T11:23:03.980Z"
   },
   {
    "duration": 36,
    "start_time": "2023-02-11T11:23:03.985Z"
   },
   {
    "duration": 26,
    "start_time": "2023-02-11T11:23:04.023Z"
   },
   {
    "duration": 221,
    "start_time": "2023-02-11T11:23:04.050Z"
   },
   {
    "duration": 3,
    "start_time": "2023-02-11T11:23:04.272Z"
   },
   {
    "duration": 5,
    "start_time": "2023-02-11T11:23:04.277Z"
   },
   {
    "duration": 68,
    "start_time": "2023-02-11T11:23:04.285Z"
   },
   {
    "duration": 45,
    "start_time": "2023-02-11T11:23:04.354Z"
   },
   {
    "duration": 1271,
    "start_time": "2023-02-11T11:23:04.405Z"
   },
   {
    "duration": 0,
    "start_time": "2023-02-11T11:23:05.678Z"
   },
   {
    "duration": 0,
    "start_time": "2023-02-11T11:23:05.679Z"
   },
   {
    "duration": 0,
    "start_time": "2023-02-11T11:23:05.680Z"
   },
   {
    "duration": 0,
    "start_time": "2023-02-11T11:23:05.681Z"
   },
   {
    "duration": 0,
    "start_time": "2023-02-11T11:23:05.682Z"
   },
   {
    "duration": 0,
    "start_time": "2023-02-11T11:23:05.683Z"
   },
   {
    "duration": 0,
    "start_time": "2023-02-11T11:23:05.684Z"
   },
   {
    "duration": 1106,
    "start_time": "2023-02-11T11:23:25.242Z"
   },
   {
    "duration": 1170,
    "start_time": "2023-02-11T11:23:53.370Z"
   },
   {
    "duration": 10,
    "start_time": "2023-02-11T11:31:15.544Z"
   },
   {
    "duration": 41,
    "start_time": "2023-02-11T11:31:15.798Z"
   },
   {
    "duration": 1183,
    "start_time": "2023-02-11T11:31:21.109Z"
   },
   {
    "duration": 10,
    "start_time": "2023-02-11T11:32:13.780Z"
   },
   {
    "duration": 8,
    "start_time": "2023-02-11T11:33:06.085Z"
   },
   {
    "duration": 1128,
    "start_time": "2023-02-11T11:33:08.824Z"
   },
   {
    "duration": 1115,
    "start_time": "2023-02-11T11:33:09.954Z"
   },
   {
    "duration": 130,
    "start_time": "2023-02-11T11:33:17.432Z"
   },
   {
    "duration": 15,
    "start_time": "2023-02-11T11:33:55.113Z"
   },
   {
    "duration": 13,
    "start_time": "2023-02-11T11:34:19.236Z"
   },
   {
    "duration": 23,
    "start_time": "2023-02-11T11:34:56.464Z"
   },
   {
    "duration": 1527,
    "start_time": "2023-02-11T11:35:08.612Z"
   },
   {
    "duration": 793,
    "start_time": "2023-02-11T11:35:10.141Z"
   },
   {
    "duration": 340,
    "start_time": "2023-02-11T11:35:10.936Z"
   },
   {
    "duration": 59,
    "start_time": "2023-02-11T11:35:11.279Z"
   },
   {
    "duration": 409,
    "start_time": "2023-02-11T11:35:11.339Z"
   },
   {
    "duration": 865,
    "start_time": "2023-02-11T11:35:11.750Z"
   },
   {
    "duration": 31,
    "start_time": "2023-02-11T11:35:12.617Z"
   },
   {
    "duration": 6,
    "start_time": "2023-02-11T11:35:12.649Z"
   },
   {
    "duration": 88,
    "start_time": "2023-02-11T11:35:12.657Z"
   },
   {
    "duration": 1239,
    "start_time": "2023-02-11T11:35:12.748Z"
   },
   {
    "duration": 79,
    "start_time": "2023-02-11T11:35:13.989Z"
   },
   {
    "duration": 124,
    "start_time": "2023-02-11T11:35:14.069Z"
   },
   {
    "duration": 125,
    "start_time": "2023-02-11T11:35:14.194Z"
   },
   {
    "duration": 4,
    "start_time": "2023-02-11T11:35:14.320Z"
   },
   {
    "duration": 20,
    "start_time": "2023-02-11T11:35:14.325Z"
   },
   {
    "duration": 25,
    "start_time": "2023-02-11T11:35:14.347Z"
   },
   {
    "duration": 258,
    "start_time": "2023-02-11T11:35:14.374Z"
   },
   {
    "duration": 4,
    "start_time": "2023-02-11T11:35:14.633Z"
   },
   {
    "duration": 4,
    "start_time": "2023-02-11T11:35:14.638Z"
   },
   {
    "duration": 71,
    "start_time": "2023-02-11T11:35:14.644Z"
   },
   {
    "duration": 25,
    "start_time": "2023-02-11T11:35:14.716Z"
   },
   {
    "duration": 2160,
    "start_time": "2023-02-11T11:35:14.743Z"
   },
   {
    "duration": 146,
    "start_time": "2023-02-11T11:35:16.904Z"
   },
   {
    "duration": 0,
    "start_time": "2023-02-11T11:35:17.052Z"
   },
   {
    "duration": 0,
    "start_time": "2023-02-11T11:35:17.053Z"
   },
   {
    "duration": 0,
    "start_time": "2023-02-11T11:35:17.055Z"
   },
   {
    "duration": 0,
    "start_time": "2023-02-11T11:35:17.056Z"
   },
   {
    "duration": 0,
    "start_time": "2023-02-11T11:35:17.058Z"
   },
   {
    "duration": 0,
    "start_time": "2023-02-11T11:35:17.059Z"
   },
   {
    "duration": 0,
    "start_time": "2023-02-11T11:35:17.060Z"
   },
   {
    "duration": 23,
    "start_time": "2023-02-11T11:35:27.993Z"
   },
   {
    "duration": 13,
    "start_time": "2023-02-11T11:35:50.085Z"
   },
   {
    "duration": 1784,
    "start_time": "2023-02-11T11:35:56.849Z"
   },
   {
    "duration": 1247,
    "start_time": "2023-02-11T11:35:58.635Z"
   },
   {
    "duration": 340,
    "start_time": "2023-02-11T11:35:59.884Z"
   },
   {
    "duration": 47,
    "start_time": "2023-02-11T11:36:00.225Z"
   },
   {
    "duration": 401,
    "start_time": "2023-02-11T11:36:00.275Z"
   },
   {
    "duration": 863,
    "start_time": "2023-02-11T11:36:00.678Z"
   },
   {
    "duration": 29,
    "start_time": "2023-02-11T11:36:01.542Z"
   },
   {
    "duration": 33,
    "start_time": "2023-02-11T11:36:01.573Z"
   },
   {
    "duration": 97,
    "start_time": "2023-02-11T11:36:01.609Z"
   },
   {
    "duration": 1228,
    "start_time": "2023-02-11T11:36:01.708Z"
   },
   {
    "duration": 93,
    "start_time": "2023-02-11T11:36:02.937Z"
   },
   {
    "duration": 133,
    "start_time": "2023-02-11T11:36:03.033Z"
   },
   {
    "duration": 114,
    "start_time": "2023-02-11T11:36:03.168Z"
   },
   {
    "duration": 10,
    "start_time": "2023-02-11T11:36:03.285Z"
   },
   {
    "duration": 21,
    "start_time": "2023-02-11T11:36:03.311Z"
   },
   {
    "duration": 27,
    "start_time": "2023-02-11T11:36:03.334Z"
   },
   {
    "duration": 239,
    "start_time": "2023-02-11T11:36:03.363Z"
   },
   {
    "duration": 8,
    "start_time": "2023-02-11T11:36:03.604Z"
   },
   {
    "duration": 6,
    "start_time": "2023-02-11T11:36:03.613Z"
   },
   {
    "duration": 61,
    "start_time": "2023-02-11T11:36:03.620Z"
   },
   {
    "duration": 41,
    "start_time": "2023-02-11T11:36:03.682Z"
   },
   {
    "duration": 2246,
    "start_time": "2023-02-11T11:36:03.725Z"
   },
   {
    "duration": 22,
    "start_time": "2023-02-11T11:36:05.972Z"
   },
   {
    "duration": 797,
    "start_time": "2023-02-11T11:36:05.996Z"
   },
   {
    "duration": 551,
    "start_time": "2023-02-11T11:36:06.795Z"
   },
   {
    "duration": 561,
    "start_time": "2023-02-11T11:36:07.348Z"
   },
   {
    "duration": 66,
    "start_time": "2023-02-11T11:36:07.911Z"
   },
   {
    "duration": 4,
    "start_time": "2023-02-11T11:36:07.978Z"
   },
   {
    "duration": 6,
    "start_time": "2023-02-11T11:36:07.983Z"
   },
   {
    "duration": 27,
    "start_time": "2023-02-11T11:36:07.990Z"
   },
   {
    "duration": 7,
    "start_time": "2023-02-11T11:36:08.019Z"
   },
   {
    "duration": 60219,
    "start_time": "2023-02-11T11:44:23.815Z"
   },
   {
    "duration": 63913,
    "start_time": "2023-02-11T11:49:04.097Z"
   },
   {
    "duration": 4,
    "start_time": "2023-02-11T11:53:02.884Z"
   },
   {
    "duration": 120,
    "start_time": "2023-02-11T11:55:36.988Z"
   },
   {
    "duration": 4,
    "start_time": "2023-02-11T11:55:58.100Z"
   },
   {
    "duration": 23337,
    "start_time": "2023-02-11T11:56:21.574Z"
   },
   {
    "duration": 49,
    "start_time": "2023-02-11T11:57:18.218Z"
   },
   {
    "duration": 2004,
    "start_time": "2023-02-11T11:57:22.274Z"
   },
   {
    "duration": 967,
    "start_time": "2023-02-11T11:57:24.309Z"
   },
   {
    "duration": 355,
    "start_time": "2023-02-11T11:57:25.277Z"
   },
   {
    "duration": 46,
    "start_time": "2023-02-11T11:57:25.634Z"
   },
   {
    "duration": 400,
    "start_time": "2023-02-11T11:57:25.681Z"
   },
   {
    "duration": 813,
    "start_time": "2023-02-11T11:57:26.082Z"
   },
   {
    "duration": 35,
    "start_time": "2023-02-11T11:57:26.896Z"
   },
   {
    "duration": 5,
    "start_time": "2023-02-11T11:57:26.932Z"
   },
   {
    "duration": 87,
    "start_time": "2023-02-11T11:57:26.939Z"
   },
   {
    "duration": 1252,
    "start_time": "2023-02-11T11:57:27.028Z"
   },
   {
    "duration": 75,
    "start_time": "2023-02-11T11:57:28.282Z"
   },
   {
    "duration": 114,
    "start_time": "2023-02-11T11:57:28.359Z"
   },
   {
    "duration": 117,
    "start_time": "2023-02-11T11:57:28.474Z"
   },
   {
    "duration": 4,
    "start_time": "2023-02-11T11:57:28.610Z"
   },
   {
    "duration": 19,
    "start_time": "2023-02-11T11:57:28.615Z"
   },
   {
    "duration": 24,
    "start_time": "2023-02-11T11:57:28.636Z"
   },
   {
    "duration": 229,
    "start_time": "2023-02-11T11:57:28.661Z"
   },
   {
    "duration": 3,
    "start_time": "2023-02-11T11:57:28.892Z"
   },
   {
    "duration": 2,
    "start_time": "2023-02-11T11:57:28.909Z"
   },
   {
    "duration": 56,
    "start_time": "2023-02-11T11:57:28.913Z"
   },
   {
    "duration": 456,
    "start_time": "2023-02-11T11:57:28.971Z"
   },
   {
    "duration": 310,
    "start_time": "2023-02-11T11:57:29.428Z"
   },
   {
    "duration": 3,
    "start_time": "2023-02-11T11:57:29.740Z"
   },
   {
    "duration": 8,
    "start_time": "2023-02-11T11:57:29.744Z"
   },
   {
    "duration": 14703,
    "start_time": "2023-02-11T11:57:29.753Z"
   },
   {
    "duration": 0,
    "start_time": "2023-02-11T11:57:44.457Z"
   },
   {
    "duration": 0,
    "start_time": "2023-02-11T11:57:44.458Z"
   },
   {
    "duration": 15360,
    "start_time": "2023-02-11T11:58:11.656Z"
   },
   {
    "duration": 18684,
    "start_time": "2023-02-11T11:58:49.931Z"
   },
   {
    "duration": 93,
    "start_time": "2023-02-11T11:59:08.617Z"
   },
   {
    "duration": 0,
    "start_time": "2023-02-11T11:59:47.716Z"
   },
   {
    "duration": 16373,
    "start_time": "2023-02-11T11:59:54.144Z"
   },
   {
    "duration": 18780,
    "start_time": "2023-02-11T12:00:25.837Z"
   },
   {
    "duration": 129,
    "start_time": "2023-02-11T12:02:21.711Z"
   },
   {
    "duration": 16501,
    "start_time": "2023-02-11T12:02:23.820Z"
   },
   {
    "duration": 3,
    "start_time": "2023-02-11T12:03:11.546Z"
   },
   {
    "duration": 14679,
    "start_time": "2023-02-11T12:03:31.032Z"
   },
   {
    "duration": 5,
    "start_time": "2023-02-11T12:04:38.109Z"
   },
   {
    "duration": 4,
    "start_time": "2023-02-11T12:05:43.657Z"
   },
   {
    "duration": 3,
    "start_time": "2023-02-11T12:05:43.871Z"
   },
   {
    "duration": 4,
    "start_time": "2023-02-11T12:05:44.140Z"
   },
   {
    "duration": 10,
    "start_time": "2023-02-11T12:06:53.139Z"
   },
   {
    "duration": 10,
    "start_time": "2023-02-11T12:07:06.454Z"
   },
   {
    "duration": 1470,
    "start_time": "2023-02-11T12:07:50.678Z"
   },
   {
    "duration": 1485,
    "start_time": "2023-02-11T12:07:52.150Z"
   },
   {
    "duration": 348,
    "start_time": "2023-02-11T12:07:53.636Z"
   },
   {
    "duration": 50,
    "start_time": "2023-02-11T12:07:53.985Z"
   },
   {
    "duration": 403,
    "start_time": "2023-02-11T12:07:54.037Z"
   },
   {
    "duration": 831,
    "start_time": "2023-02-11T12:07:54.441Z"
   },
   {
    "duration": 37,
    "start_time": "2023-02-11T12:07:55.274Z"
   },
   {
    "duration": 18,
    "start_time": "2023-02-11T12:07:55.313Z"
   },
   {
    "duration": 81,
    "start_time": "2023-02-11T12:07:55.332Z"
   },
   {
    "duration": 1133,
    "start_time": "2023-02-11T12:07:55.415Z"
   },
   {
    "duration": 76,
    "start_time": "2023-02-11T12:07:56.550Z"
   },
   {
    "duration": 136,
    "start_time": "2023-02-11T12:07:56.628Z"
   },
   {
    "duration": 125,
    "start_time": "2023-02-11T12:07:56.766Z"
   },
   {
    "duration": 19,
    "start_time": "2023-02-11T12:07:56.893Z"
   },
   {
    "duration": 23,
    "start_time": "2023-02-11T12:07:56.914Z"
   },
   {
    "duration": 27,
    "start_time": "2023-02-11T12:07:56.939Z"
   },
   {
    "duration": 239,
    "start_time": "2023-02-11T12:07:56.968Z"
   },
   {
    "duration": 3,
    "start_time": "2023-02-11T12:07:57.210Z"
   },
   {
    "duration": 6,
    "start_time": "2023-02-11T12:07:57.215Z"
   },
   {
    "duration": 76,
    "start_time": "2023-02-11T12:07:57.222Z"
   },
   {
    "duration": 445,
    "start_time": "2023-02-11T12:07:57.300Z"
   },
   {
    "duration": 304,
    "start_time": "2023-02-11T12:07:57.747Z"
   },
   {
    "duration": 15159,
    "start_time": "2023-02-11T12:07:58.052Z"
   },
   {
    "duration": 237543,
    "start_time": "2023-02-11T12:08:13.212Z"
   },
   {
    "duration": 4,
    "start_time": "2023-02-11T12:12:10.756Z"
   },
   {
    "duration": 6,
    "start_time": "2023-02-11T12:12:10.762Z"
   },
   {
    "duration": 4,
    "start_time": "2023-02-11T12:12:10.770Z"
   },
   {
    "duration": 50,
    "start_time": "2023-02-11T12:13:25.496Z"
   },
   {
    "duration": 1782,
    "start_time": "2023-02-11T12:13:31.537Z"
   },
   {
    "duration": 1126,
    "start_time": "2023-02-11T12:13:33.321Z"
   },
   {
    "duration": 335,
    "start_time": "2023-02-11T12:13:34.450Z"
   },
   {
    "duration": 54,
    "start_time": "2023-02-11T12:13:34.787Z"
   },
   {
    "duration": 424,
    "start_time": "2023-02-11T12:13:34.842Z"
   },
   {
    "duration": 828,
    "start_time": "2023-02-11T12:13:35.268Z"
   },
   {
    "duration": 31,
    "start_time": "2023-02-11T12:13:36.097Z"
   },
   {
    "duration": 6,
    "start_time": "2023-02-11T12:13:36.129Z"
   },
   {
    "duration": 90,
    "start_time": "2023-02-11T12:13:36.138Z"
   },
   {
    "duration": 1176,
    "start_time": "2023-02-11T12:13:36.229Z"
   },
   {
    "duration": 73,
    "start_time": "2023-02-11T12:13:37.407Z"
   },
   {
    "duration": 129,
    "start_time": "2023-02-11T12:13:37.482Z"
   },
   {
    "duration": 118,
    "start_time": "2023-02-11T12:13:37.612Z"
   },
   {
    "duration": 3,
    "start_time": "2023-02-11T12:13:37.732Z"
   },
   {
    "duration": 22,
    "start_time": "2023-02-11T12:13:37.737Z"
   },
   {
    "duration": 25,
    "start_time": "2023-02-11T12:13:37.761Z"
   },
   {
    "duration": 216,
    "start_time": "2023-02-11T12:13:37.809Z"
   },
   {
    "duration": 2,
    "start_time": "2023-02-11T12:13:38.027Z"
   },
   {
    "duration": 14,
    "start_time": "2023-02-11T12:13:38.031Z"
   },
   {
    "duration": 73,
    "start_time": "2023-02-11T12:13:38.047Z"
   },
   {
    "duration": 421,
    "start_time": "2023-02-11T12:13:38.121Z"
   },
   {
    "duration": 303,
    "start_time": "2023-02-11T12:13:38.543Z"
   },
   {
    "duration": 16172,
    "start_time": "2023-02-11T12:13:38.848Z"
   },
   {
    "duration": 342956,
    "start_time": "2023-02-11T12:13:55.110Z"
   },
   {
    "duration": 4,
    "start_time": "2023-02-11T12:19:38.068Z"
   },
   {
    "duration": 20,
    "start_time": "2023-02-11T12:19:38.073Z"
   },
   {
    "duration": 4,
    "start_time": "2023-02-11T12:19:38.097Z"
   },
   {
    "duration": 117,
    "start_time": "2023-02-11T12:23:04.093Z"
   },
   {
    "duration": 4,
    "start_time": "2023-02-11T12:23:18.590Z"
   },
   {
    "duration": 10,
    "start_time": "2023-02-11T12:23:21.238Z"
   },
   {
    "duration": 9,
    "start_time": "2023-02-11T12:23:38.067Z"
   },
   {
    "duration": 16236,
    "start_time": "2023-02-11T12:24:31.575Z"
   },
   {
    "duration": 19312,
    "start_time": "2023-02-11T12:25:39.501Z"
   },
   {
    "duration": 21744,
    "start_time": "2023-02-11T12:26:58.175Z"
   },
   {
    "duration": 15930,
    "start_time": "2023-02-11T12:44:32.787Z"
   },
   {
    "duration": 15377,
    "start_time": "2023-02-11T12:50:30.935Z"
   },
   {
    "duration": 381041,
    "start_time": "2023-02-11T12:50:46.313Z"
   },
   {
    "duration": 4,
    "start_time": "2023-02-11T13:44:40.544Z"
   },
   {
    "duration": 7,
    "start_time": "2023-02-11T13:45:10.909Z"
   },
   {
    "duration": 736,
    "start_time": "2023-02-11T13:45:10.917Z"
   },
   {
    "duration": 312,
    "start_time": "2023-02-11T13:45:11.654Z"
   },
   {
    "duration": 44,
    "start_time": "2023-02-11T13:45:11.968Z"
   },
   {
    "duration": 373,
    "start_time": "2023-02-11T13:45:12.014Z"
   },
   {
    "duration": 755,
    "start_time": "2023-02-11T13:45:12.389Z"
   },
   {
    "duration": 34,
    "start_time": "2023-02-11T13:45:13.146Z"
   },
   {
    "duration": 5,
    "start_time": "2023-02-11T13:45:13.182Z"
   },
   {
    "duration": 84,
    "start_time": "2023-02-11T13:45:13.189Z"
   },
   {
    "duration": 1142,
    "start_time": "2023-02-11T13:45:13.275Z"
   },
   {
    "duration": 74,
    "start_time": "2023-02-11T13:45:14.418Z"
   },
   {
    "duration": 128,
    "start_time": "2023-02-11T13:45:14.494Z"
   },
   {
    "duration": 122,
    "start_time": "2023-02-11T13:45:14.624Z"
   },
   {
    "duration": 3,
    "start_time": "2023-02-11T13:45:14.748Z"
   },
   {
    "duration": 24,
    "start_time": "2023-02-11T13:45:14.752Z"
   },
   {
    "duration": 45,
    "start_time": "2023-02-11T13:45:14.778Z"
   },
   {
    "duration": 217,
    "start_time": "2023-02-11T13:45:14.824Z"
   },
   {
    "duration": 3,
    "start_time": "2023-02-11T13:45:15.043Z"
   },
   {
    "duration": 4,
    "start_time": "2023-02-11T13:45:15.048Z"
   },
   {
    "duration": 83,
    "start_time": "2023-02-11T13:45:15.054Z"
   },
   {
    "duration": 441,
    "start_time": "2023-02-11T13:45:15.138Z"
   },
   {
    "duration": 307,
    "start_time": "2023-02-11T13:45:15.580Z"
   },
   {
    "duration": 14551,
    "start_time": "2023-02-11T13:45:15.888Z"
   },
   {
    "duration": 5,
    "start_time": "2023-02-11T13:45:30.441Z"
   },
   {
    "duration": 44,
    "start_time": "2023-02-11T13:45:30.448Z"
   },
   {
    "duration": 33,
    "start_time": "2023-02-11T13:45:30.493Z"
   },
   {
    "duration": 27,
    "start_time": "2023-02-11T13:45:30.527Z"
   },
   {
    "duration": 15910,
    "start_time": "2023-02-11T13:49:49.305Z"
   },
   {
    "duration": 426,
    "start_time": "2023-02-11T13:53:29.185Z"
   },
   {
    "duration": 432,
    "start_time": "2023-02-11T13:54:08.536Z"
   },
   {
    "duration": 3,
    "start_time": "2023-02-11T13:54:39.011Z"
   },
   {
    "duration": 240,
    "start_time": "2023-02-11T13:55:24.529Z"
   },
   {
    "duration": 42,
    "start_time": "2023-02-11T13:55:51.630Z"
   },
   {
    "duration": 56,
    "start_time": "2023-02-11T13:56:06.548Z"
   },
   {
    "duration": 151,
    "start_time": "2023-02-11T13:59:53.360Z"
   },
   {
    "duration": 8,
    "start_time": "2023-02-11T14:00:21.862Z"
   },
   {
    "duration": 8,
    "start_time": "2023-02-11T14:00:30.125Z"
   },
   {
    "duration": 7,
    "start_time": "2023-02-11T14:00:49.271Z"
   },
   {
    "duration": 7,
    "start_time": "2023-02-11T14:00:53.622Z"
   },
   {
    "duration": 7,
    "start_time": "2023-02-11T14:01:09.552Z"
   },
   {
    "duration": 7,
    "start_time": "2023-02-11T14:01:14.428Z"
   },
   {
    "duration": 8,
    "start_time": "2023-02-11T14:02:38.639Z"
   },
   {
    "duration": 11,
    "start_time": "2023-02-11T14:03:12.668Z"
   },
   {
    "duration": 23,
    "start_time": "2023-02-11T14:03:14.417Z"
   },
   {
    "duration": 8,
    "start_time": "2023-02-11T14:04:23.555Z"
   },
   {
    "duration": 691,
    "start_time": "2023-02-11T14:14:03.730Z"
   },
   {
    "duration": 1781,
    "start_time": "2023-02-11T14:14:11.077Z"
   },
   {
    "duration": 1119,
    "start_time": "2023-02-11T14:14:12.909Z"
   },
   {
    "duration": 357,
    "start_time": "2023-02-11T14:14:14.029Z"
   },
   {
    "duration": 49,
    "start_time": "2023-02-11T14:14:14.387Z"
   },
   {
    "duration": 406,
    "start_time": "2023-02-11T14:14:14.438Z"
   },
   {
    "duration": 862,
    "start_time": "2023-02-11T14:14:14.845Z"
   },
   {
    "duration": 23,
    "start_time": "2023-02-11T14:14:15.709Z"
   },
   {
    "duration": 31,
    "start_time": "2023-02-11T14:14:15.734Z"
   },
   {
    "duration": 6,
    "start_time": "2023-02-11T14:14:15.767Z"
   },
   {
    "duration": 106,
    "start_time": "2023-02-11T14:14:15.776Z"
   },
   {
    "duration": 1161,
    "start_time": "2023-02-11T14:14:15.884Z"
   },
   {
    "duration": 102,
    "start_time": "2023-02-11T14:14:17.047Z"
   },
   {
    "duration": 163,
    "start_time": "2023-02-11T14:14:17.152Z"
   },
   {
    "duration": 126,
    "start_time": "2023-02-11T14:14:17.317Z"
   },
   {
    "duration": 21,
    "start_time": "2023-02-11T14:14:17.444Z"
   },
   {
    "duration": 44,
    "start_time": "2023-02-11T14:14:17.466Z"
   },
   {
    "duration": 205,
    "start_time": "2023-02-11T14:14:17.511Z"
   },
   {
    "duration": 3,
    "start_time": "2023-02-11T14:14:17.718Z"
   },
   {
    "duration": 5,
    "start_time": "2023-02-11T14:14:17.723Z"
   },
   {
    "duration": 57,
    "start_time": "2023-02-11T14:14:17.730Z"
   },
   {
    "duration": 151,
    "start_time": "2023-02-11T14:14:17.809Z"
   },
   {
    "duration": 402,
    "start_time": "2023-02-11T14:14:17.961Z"
   },
   {
    "duration": 243,
    "start_time": "2023-02-11T14:14:18.365Z"
   },
   {
    "duration": 299,
    "start_time": "2023-02-11T14:14:18.610Z"
   },
   {
    "duration": 4,
    "start_time": "2023-02-11T14:14:18.911Z"
   },
   {
    "duration": 6,
    "start_time": "2023-02-11T14:14:18.917Z"
   },
   {
    "duration": 4,
    "start_time": "2023-02-11T14:14:18.925Z"
   },
   {
    "duration": 4,
    "start_time": "2023-02-11T14:14:18.932Z"
   },
   {
    "duration": 3,
    "start_time": "2023-02-11T14:16:57.531Z"
   },
   {
    "duration": 66,
    "start_time": "2023-02-11T14:31:41.485Z"
   },
   {
    "duration": 57960,
    "start_time": "2023-02-11T14:32:47.955Z"
   },
   {
    "duration": 14796,
    "start_time": "2023-02-11T14:33:45.916Z"
   },
   {
    "duration": 60687,
    "start_time": "2023-02-11T14:34:03.843Z"
   },
   {
    "duration": 3,
    "start_time": "2023-02-11T14:38:00.488Z"
   },
   {
    "duration": 49,
    "start_time": "2023-02-11T14:41:14.013Z"
   },
   {
    "duration": 61250,
    "start_time": "2023-02-11T14:50:13.343Z"
   },
   {
    "duration": 1911,
    "start_time": "2023-02-11T14:51:22.531Z"
   },
   {
    "duration": 1194,
    "start_time": "2023-02-11T14:51:24.444Z"
   },
   {
    "duration": 339,
    "start_time": "2023-02-11T14:51:25.640Z"
   },
   {
    "duration": 58,
    "start_time": "2023-02-11T14:51:25.981Z"
   },
   {
    "duration": 413,
    "start_time": "2023-02-11T14:51:26.040Z"
   },
   {
    "duration": 822,
    "start_time": "2023-02-11T14:51:26.455Z"
   },
   {
    "duration": 33,
    "start_time": "2023-02-11T14:51:27.279Z"
   },
   {
    "duration": 30,
    "start_time": "2023-02-11T14:51:27.314Z"
   },
   {
    "duration": 6,
    "start_time": "2023-02-11T14:51:27.345Z"
   },
   {
    "duration": 87,
    "start_time": "2023-02-11T14:51:27.353Z"
   },
   {
    "duration": 1195,
    "start_time": "2023-02-11T14:51:27.441Z"
   },
   {
    "duration": 82,
    "start_time": "2023-02-11T14:51:28.637Z"
   },
   {
    "duration": 122,
    "start_time": "2023-02-11T14:51:28.721Z"
   },
   {
    "duration": 120,
    "start_time": "2023-02-11T14:51:28.845Z"
   },
   {
    "duration": 43,
    "start_time": "2023-02-11T14:51:28.967Z"
   },
   {
    "duration": 26,
    "start_time": "2023-02-11T14:51:29.011Z"
   },
   {
    "duration": 223,
    "start_time": "2023-02-11T14:51:29.039Z"
   },
   {
    "duration": 3,
    "start_time": "2023-02-11T14:51:29.264Z"
   },
   {
    "duration": 10,
    "start_time": "2023-02-11T14:51:29.268Z"
   },
   {
    "duration": 69,
    "start_time": "2023-02-11T14:51:29.279Z"
   },
   {
    "duration": 161,
    "start_time": "2023-02-11T14:51:29.350Z"
   },
   {
    "duration": 421,
    "start_time": "2023-02-11T14:51:29.512Z"
   },
   {
    "duration": 251,
    "start_time": "2023-02-11T14:51:29.935Z"
   },
   {
    "duration": 60323,
    "start_time": "2023-02-11T14:51:30.187Z"
   },
   {
    "duration": 269609,
    "start_time": "2023-02-11T14:52:30.513Z"
   },
   {
    "duration": 4,
    "start_time": "2023-02-11T14:57:00.124Z"
   },
   {
    "duration": 23,
    "start_time": "2023-02-11T14:57:00.130Z"
   },
   {
    "duration": 20,
    "start_time": "2023-02-11T14:57:00.155Z"
   },
   {
    "duration": 60383,
    "start_time": "2023-02-11T15:00:50.751Z"
   },
   {
    "duration": 272648,
    "start_time": "2023-02-11T15:01:51.210Z"
   },
   {
    "duration": 4,
    "start_time": "2023-02-11T15:06:23.860Z"
   },
   {
    "duration": 21525,
    "start_time": "2023-02-11T15:11:34.893Z"
   },
   {
    "duration": 32926,
    "start_time": "2023-02-11T15:12:27.488Z"
   },
   {
    "duration": 200773,
    "start_time": "2023-02-11T15:15:35.547Z"
   },
   {
    "duration": 64385,
    "start_time": "2023-02-11T15:21:45.727Z"
   },
   {
    "duration": 4,
    "start_time": "2023-02-11T15:24:35.264Z"
   },
   {
    "duration": 276128,
    "start_time": "2023-02-11T15:24:35.673Z"
   },
   {
    "duration": 274365,
    "start_time": "2023-02-11T15:29:11.803Z"
   },
   {
    "duration": 122,
    "start_time": "2023-02-11T15:56:42.869Z"
   },
   {
    "duration": 9,
    "start_time": "2023-02-11T15:56:54.119Z"
   },
   {
    "duration": 59839,
    "start_time": "2023-02-11T16:01:15.901Z"
   },
   {
    "duration": 102,
    "start_time": "2023-02-11T16:02:15.811Z"
   },
   {
    "duration": 59,
    "start_time": "2023-02-11T16:03:32.152Z"
   },
   {
    "duration": 47,
    "start_time": "2023-02-11T16:05:50.142Z"
   },
   {
    "duration": 63744,
    "start_time": "2023-02-11T16:06:46.171Z"
   },
   {
    "duration": 70809,
    "start_time": "2023-02-11T16:08:11.505Z"
   },
   {
    "duration": 4,
    "start_time": "2023-02-11T16:10:49.800Z"
   },
   {
    "duration": 24,
    "start_time": "2023-02-11T16:11:31.044Z"
   },
   {
    "duration": 14302,
    "start_time": "2023-02-11T16:12:00.811Z"
   },
   {
    "duration": 138,
    "start_time": "2023-02-11T16:12:58.318Z"
   },
   {
    "duration": 155,
    "start_time": "2023-02-11T16:13:19.556Z"
   },
   {
    "duration": 204,
    "start_time": "2023-02-11T16:13:29.505Z"
   },
   {
    "duration": 47,
    "start_time": "2023-02-11T16:14:16.986Z"
   },
   {
    "duration": 124371,
    "start_time": "2023-02-11T16:15:26.080Z"
   },
   {
    "duration": 14370,
    "start_time": "2023-02-11T16:22:37.049Z"
   },
   {
    "duration": 151,
    "start_time": "2023-02-11T16:23:04.166Z"
   },
   {
    "duration": 430,
    "start_time": "2023-02-11T16:23:13.263Z"
   },
   {
    "duration": 4813,
    "start_time": "2023-02-11T16:25:34.503Z"
   },
   {
    "duration": 791,
    "start_time": "2023-02-11T16:25:39.320Z"
   },
   {
    "duration": 1297,
    "start_time": "2023-02-11T16:27:03.034Z"
   },
   {
    "duration": 762,
    "start_time": "2023-02-11T16:27:04.333Z"
   },
   {
    "duration": 657,
    "start_time": "2023-02-11T16:27:05.097Z"
   },
   {
    "duration": 98,
    "start_time": "2023-02-11T16:27:05.756Z"
   },
   {
    "duration": 876,
    "start_time": "2023-02-11T16:27:05.856Z"
   },
   {
    "duration": 1789,
    "start_time": "2023-02-11T16:27:06.735Z"
   },
   {
    "duration": 24,
    "start_time": "2023-02-11T16:27:08.525Z"
   },
   {
    "duration": 84,
    "start_time": "2023-02-11T16:27:08.550Z"
   },
   {
    "duration": 6,
    "start_time": "2023-02-11T16:27:08.636Z"
   },
   {
    "duration": 175,
    "start_time": "2023-02-11T16:27:08.645Z"
   },
   {
    "duration": 1157,
    "start_time": "2023-02-11T16:27:08.821Z"
   },
   {
    "duration": 81,
    "start_time": "2023-02-11T16:27:09.980Z"
   },
   {
    "duration": 155,
    "start_time": "2023-02-11T16:27:10.063Z"
   },
   {
    "duration": 122,
    "start_time": "2023-02-11T16:27:10.220Z"
   },
   {
    "duration": 20,
    "start_time": "2023-02-11T16:27:10.343Z"
   },
   {
    "duration": 47,
    "start_time": "2023-02-11T16:27:10.365Z"
   },
   {
    "duration": 212,
    "start_time": "2023-02-11T16:27:10.414Z"
   },
   {
    "duration": 3,
    "start_time": "2023-02-11T16:27:10.628Z"
   },
   {
    "duration": 4,
    "start_time": "2023-02-11T16:27:10.633Z"
   },
   {
    "duration": 55,
    "start_time": "2023-02-11T16:27:10.638Z"
   },
   {
    "duration": 165,
    "start_time": "2023-02-11T16:27:10.709Z"
   },
   {
    "duration": 427,
    "start_time": "2023-02-11T16:27:10.876Z"
   },
   {
    "duration": 248,
    "start_time": "2023-02-11T16:27:11.304Z"
   },
   {
    "duration": 24163,
    "start_time": "2023-02-11T16:27:11.554Z"
   },
   {
    "duration": 403,
    "start_time": "2023-02-11T16:27:35.719Z"
   },
   {
    "duration": 277808,
    "start_time": "2023-02-11T16:27:36.124Z"
   },
   {
    "duration": 54295,
    "start_time": "2023-02-11T16:32:13.934Z"
   },
   {
    "duration": 53,
    "start_time": "2023-02-11T16:33:08.232Z"
   },
   {
    "duration": 55631,
    "start_time": "2023-02-11T16:33:08.287Z"
   },
   {
    "duration": 5100,
    "start_time": "2023-02-11T16:34:04.010Z"
   },
   {
    "duration": 606,
    "start_time": "2023-02-11T16:34:09.112Z"
   },
   {
    "duration": 83,
    "start_time": "2023-02-11T16:34:09.728Z"
   },
   {
    "duration": 3,
    "start_time": "2023-02-11T16:34:09.812Z"
   },
   {
    "duration": 9,
    "start_time": "2023-02-11T16:34:09.817Z"
   },
   {
    "duration": 125048,
    "start_time": "2023-02-11T16:34:09.829Z"
   },
   {
    "duration": 441,
    "start_time": "2023-02-11T16:36:14.878Z"
   },
   {
    "duration": 11,
    "start_time": "2023-02-11T16:36:15.321Z"
   },
   {
    "duration": 45,
    "start_time": "2023-02-11T16:41:18.899Z"
   },
   {
    "duration": 44,
    "start_time": "2023-02-11T16:41:21.829Z"
   },
   {
    "duration": 57,
    "start_time": "2023-02-11T16:41:32.158Z"
   },
   {
    "duration": 57,
    "start_time": "2023-02-11T16:41:35.909Z"
   },
   {
    "duration": 10,
    "start_time": "2023-02-11T16:41:53.657Z"
   },
   {
    "duration": 50,
    "start_time": "2023-02-11T16:53:15.753Z"
   },
   {
    "duration": 60,
    "start_time": "2023-02-11T16:53:15.929Z"
   },
   {
    "duration": 4,
    "start_time": "2023-02-11T16:53:50.665Z"
   },
   {
    "duration": 5,
    "start_time": "2023-02-11T16:53:54.428Z"
   },
   {
    "duration": 53,
    "start_time": "2023-02-11T16:53:54.793Z"
   },
   {
    "duration": 6,
    "start_time": "2023-02-11T16:54:05.127Z"
   },
   {
    "duration": 10,
    "start_time": "2023-02-11T16:54:52.490Z"
   },
   {
    "duration": 4,
    "start_time": "2023-02-11T16:55:19.245Z"
   },
   {
    "duration": 6,
    "start_time": "2023-02-11T16:55:19.452Z"
   },
   {
    "duration": 10,
    "start_time": "2023-02-11T16:55:22.228Z"
   },
   {
    "duration": 1084,
    "start_time": "2023-02-11T17:07:33.139Z"
   },
   {
    "duration": 1109,
    "start_time": "2023-02-11T17:08:01.832Z"
   },
   {
    "duration": 781,
    "start_time": "2023-02-11T17:08:02.942Z"
   },
   {
    "duration": 334,
    "start_time": "2023-02-11T17:08:03.725Z"
   },
   {
    "duration": 51,
    "start_time": "2023-02-11T17:08:04.060Z"
   },
   {
    "duration": 394,
    "start_time": "2023-02-11T17:08:04.114Z"
   },
   {
    "duration": 795,
    "start_time": "2023-02-11T17:08:04.509Z"
   },
   {
    "duration": 27,
    "start_time": "2023-02-11T17:08:05.306Z"
   },
   {
    "duration": 32,
    "start_time": "2023-02-11T17:08:05.335Z"
   },
   {
    "duration": 5,
    "start_time": "2023-02-11T17:08:05.368Z"
   },
   {
    "duration": 94,
    "start_time": "2023-02-11T17:08:05.375Z"
   },
   {
    "duration": 1148,
    "start_time": "2023-02-11T17:08:05.470Z"
   },
   {
    "duration": 151,
    "start_time": "2023-02-11T17:08:06.620Z"
   },
   {
    "duration": 128,
    "start_time": "2023-02-11T17:08:06.772Z"
   },
   {
    "duration": 120,
    "start_time": "2023-02-11T17:08:06.903Z"
   },
   {
    "duration": 20,
    "start_time": "2023-02-11T17:08:07.025Z"
   },
   {
    "duration": 26,
    "start_time": "2023-02-11T17:08:07.046Z"
   },
   {
    "duration": 247,
    "start_time": "2023-02-11T17:08:07.073Z"
   },
   {
    "duration": 4,
    "start_time": "2023-02-11T17:08:07.322Z"
   },
   {
    "duration": 6,
    "start_time": "2023-02-11T17:08:07.328Z"
   },
   {
    "duration": 57,
    "start_time": "2023-02-11T17:08:07.336Z"
   },
   {
    "duration": 161,
    "start_time": "2023-02-11T17:08:07.409Z"
   },
   {
    "duration": 406,
    "start_time": "2023-02-11T17:08:07.571Z"
   },
   {
    "duration": 232,
    "start_time": "2023-02-11T17:08:07.978Z"
   },
   {
    "duration": 17305,
    "start_time": "2023-02-11T17:08:08.212Z"
   },
   {
    "duration": 392,
    "start_time": "2023-02-11T17:08:25.519Z"
   },
   {
    "duration": 270643,
    "start_time": "2023-02-11T17:08:25.914Z"
   },
   {
    "duration": 124109,
    "start_time": "2023-02-11T17:12:56.558Z"
   },
   {
    "duration": 434,
    "start_time": "2023-02-11T17:15:00.669Z"
   },
   {
    "duration": 61213,
    "start_time": "2023-02-11T17:15:01.104Z"
   },
   {
    "duration": 4400,
    "start_time": "2023-02-11T17:16:02.319Z"
   },
   {
    "duration": 699,
    "start_time": "2023-02-11T17:16:06.813Z"
   },
   {
    "duration": 5,
    "start_time": "2023-02-11T17:16:07.513Z"
   },
   {
    "duration": 11,
    "start_time": "2023-02-11T17:16:07.520Z"
   },
   {
    "duration": 14,
    "start_time": "2023-02-11T17:16:07.533Z"
   },
   {
    "duration": 52,
    "start_time": "2023-02-12T11:40:40.664Z"
   },
   {
    "duration": 45,
    "start_time": "2023-02-12T12:10:22.752Z"
   },
   {
    "duration": 1643,
    "start_time": "2023-02-12T12:10:33.556Z"
   },
   {
    "duration": 1205,
    "start_time": "2023-02-12T12:10:35.200Z"
   },
   {
    "duration": 334,
    "start_time": "2023-02-12T12:10:36.406Z"
   },
   {
    "duration": 55,
    "start_time": "2023-02-12T12:10:36.741Z"
   },
   {
    "duration": 430,
    "start_time": "2023-02-12T12:10:36.799Z"
   },
   {
    "duration": 856,
    "start_time": "2023-02-12T12:10:37.230Z"
   },
   {
    "duration": 27,
    "start_time": "2023-02-12T12:10:38.088Z"
   },
   {
    "duration": 32,
    "start_time": "2023-02-12T12:10:38.116Z"
   },
   {
    "duration": 6,
    "start_time": "2023-02-12T12:10:38.149Z"
   },
   {
    "duration": 106,
    "start_time": "2023-02-12T12:10:38.156Z"
   },
   {
    "duration": 1257,
    "start_time": "2023-02-12T12:10:38.264Z"
   },
   {
    "duration": 77,
    "start_time": "2023-02-12T12:10:39.522Z"
   },
   {
    "duration": 121,
    "start_time": "2023-02-12T12:10:39.601Z"
   },
   {
    "duration": 111,
    "start_time": "2023-02-12T12:10:39.724Z"
   },
   {
    "duration": 25,
    "start_time": "2023-02-12T12:10:39.836Z"
   },
   {
    "duration": 46,
    "start_time": "2023-02-12T12:10:39.863Z"
   },
   {
    "duration": 219,
    "start_time": "2023-02-12T12:10:39.910Z"
   },
   {
    "duration": 3,
    "start_time": "2023-02-12T12:10:40.131Z"
   },
   {
    "duration": 12,
    "start_time": "2023-02-12T12:10:40.136Z"
   },
   {
    "duration": 69,
    "start_time": "2023-02-12T12:10:40.150Z"
   },
   {
    "duration": 140,
    "start_time": "2023-02-12T12:10:40.221Z"
   },
   {
    "duration": 567,
    "start_time": "2023-02-12T12:10:40.362Z"
   },
   {
    "duration": 2408,
    "start_time": "2023-02-12T12:10:40.930Z"
   },
   {
    "duration": 780,
    "start_time": "2023-02-12T12:10:43.340Z"
   },
   {
    "duration": 13,
    "start_time": "2023-02-12T12:11:03.779Z"
   },
   {
    "duration": 1563,
    "start_time": "2023-02-12T12:11:08.680Z"
   },
   {
    "duration": 1305,
    "start_time": "2023-02-12T12:11:10.245Z"
   },
   {
    "duration": 346,
    "start_time": "2023-02-12T12:11:11.552Z"
   },
   {
    "duration": 48,
    "start_time": "2023-02-12T12:11:11.901Z"
   },
   {
    "duration": 425,
    "start_time": "2023-02-12T12:11:11.951Z"
   },
   {
    "duration": 831,
    "start_time": "2023-02-12T12:11:12.378Z"
   },
   {
    "duration": 25,
    "start_time": "2023-02-12T12:11:13.211Z"
   },
   {
    "duration": 28,
    "start_time": "2023-02-12T12:11:13.238Z"
   },
   {
    "duration": 27,
    "start_time": "2023-02-12T12:11:13.268Z"
   },
   {
    "duration": 82,
    "start_time": "2023-02-12T12:11:13.297Z"
   },
   {
    "duration": 1312,
    "start_time": "2023-02-12T12:11:13.381Z"
   },
   {
    "duration": 72,
    "start_time": "2023-02-12T12:11:14.695Z"
   },
   {
    "duration": 133,
    "start_time": "2023-02-12T12:11:14.769Z"
   },
   {
    "duration": 121,
    "start_time": "2023-02-12T12:11:14.903Z"
   },
   {
    "duration": 25,
    "start_time": "2023-02-12T12:11:15.026Z"
   },
   {
    "duration": 49,
    "start_time": "2023-02-12T12:11:15.053Z"
   },
   {
    "duration": 214,
    "start_time": "2023-02-12T12:11:15.104Z"
   },
   {
    "duration": 3,
    "start_time": "2023-02-12T12:11:15.319Z"
   },
   {
    "duration": 5,
    "start_time": "2023-02-12T12:11:15.324Z"
   },
   {
    "duration": 73,
    "start_time": "2023-02-12T12:11:15.330Z"
   },
   {
    "duration": 146,
    "start_time": "2023-02-12T12:11:15.405Z"
   },
   {
    "duration": 4,
    "start_time": "2023-02-12T12:11:15.553Z"
   },
   {
    "duration": 2381,
    "start_time": "2023-02-12T12:11:15.558Z"
   },
   {
    "duration": 817,
    "start_time": "2023-02-12T12:11:17.940Z"
   },
   {
    "duration": 1200,
    "start_time": "2023-02-12T12:14:30.413Z"
   },
   {
    "duration": 1602,
    "start_time": "2023-02-12T12:14:31.614Z"
   },
   {
    "duration": 340,
    "start_time": "2023-02-12T12:14:33.218Z"
   },
   {
    "duration": 52,
    "start_time": "2023-02-12T12:14:33.560Z"
   },
   {
    "duration": 680,
    "start_time": "2023-02-12T12:14:33.614Z"
   },
   {
    "duration": 1574,
    "start_time": "2023-02-12T12:14:34.296Z"
   },
   {
    "duration": 31,
    "start_time": "2023-02-12T12:14:35.872Z"
   },
   {
    "duration": 28,
    "start_time": "2023-02-12T12:14:35.905Z"
   },
   {
    "duration": 5,
    "start_time": "2023-02-12T12:14:35.934Z"
   },
   {
    "duration": 94,
    "start_time": "2023-02-12T12:14:35.942Z"
   },
   {
    "duration": 1225,
    "start_time": "2023-02-12T12:14:36.038Z"
   },
   {
    "duration": 78,
    "start_time": "2023-02-12T12:14:37.265Z"
   },
   {
    "duration": 129,
    "start_time": "2023-02-12T12:14:37.344Z"
   },
   {
    "duration": 120,
    "start_time": "2023-02-12T12:14:37.475Z"
   },
   {
    "duration": 25,
    "start_time": "2023-02-12T12:14:37.597Z"
   },
   {
    "duration": 24,
    "start_time": "2023-02-12T12:14:37.624Z"
   },
   {
    "duration": 235,
    "start_time": "2023-02-12T12:14:37.649Z"
   },
   {
    "duration": 8,
    "start_time": "2023-02-12T12:14:37.885Z"
   },
   {
    "duration": 2,
    "start_time": "2023-02-12T12:14:37.895Z"
   },
   {
    "duration": 64,
    "start_time": "2023-02-12T12:14:37.899Z"
   },
   {
    "duration": 162,
    "start_time": "2023-02-12T12:14:37.965Z"
   },
   {
    "duration": 4,
    "start_time": "2023-02-12T12:14:38.129Z"
   },
   {
    "duration": 2398,
    "start_time": "2023-02-12T12:14:38.134Z"
   },
   {
    "duration": 781,
    "start_time": "2023-02-12T12:14:40.533Z"
   },
   {
    "duration": 94,
    "start_time": "2023-02-12T12:15:26.942Z"
   },
   {
    "duration": 1174,
    "start_time": "2023-02-12T12:15:39.574Z"
   },
   {
    "duration": 987,
    "start_time": "2023-02-12T12:15:41.792Z"
   },
   {
    "duration": 346,
    "start_time": "2023-02-12T12:15:42.781Z"
   },
   {
    "duration": 47,
    "start_time": "2023-02-12T12:15:43.128Z"
   },
   {
    "duration": 419,
    "start_time": "2023-02-12T12:15:43.177Z"
   },
   {
    "duration": 910,
    "start_time": "2023-02-12T12:15:43.598Z"
   },
   {
    "duration": 23,
    "start_time": "2023-02-12T12:15:44.510Z"
   },
   {
    "duration": 28,
    "start_time": "2023-02-12T12:15:44.534Z"
   },
   {
    "duration": 5,
    "start_time": "2023-02-12T12:15:44.563Z"
   },
   {
    "duration": 99,
    "start_time": "2023-02-12T12:15:44.569Z"
   },
   {
    "duration": 1180,
    "start_time": "2023-02-12T12:15:44.670Z"
   },
   {
    "duration": 78,
    "start_time": "2023-02-12T12:15:45.852Z"
   },
   {
    "duration": 170,
    "start_time": "2023-02-12T12:15:45.932Z"
   },
   {
    "duration": 103,
    "start_time": "2023-02-12T12:15:46.103Z"
   },
   {
    "duration": 21,
    "start_time": "2023-02-12T12:15:46.208Z"
   },
   {
    "duration": 23,
    "start_time": "2023-02-12T12:15:46.231Z"
   },
   {
    "duration": 232,
    "start_time": "2023-02-12T12:15:46.256Z"
   },
   {
    "duration": 4,
    "start_time": "2023-02-12T12:15:46.492Z"
   },
   {
    "duration": 2,
    "start_time": "2023-02-12T12:15:47.944Z"
   },
   {
    "duration": 60,
    "start_time": "2023-02-12T12:15:48.434Z"
   },
   {
    "duration": 133,
    "start_time": "2023-02-12T12:15:49.515Z"
   },
   {
    "duration": 4,
    "start_time": "2023-02-12T12:15:51.037Z"
   },
   {
    "duration": 2391,
    "start_time": "2023-02-12T12:15:52.006Z"
   },
   {
    "duration": 759,
    "start_time": "2023-02-12T12:15:56.587Z"
   },
   {
    "duration": 63,
    "start_time": "2023-02-12T12:40:04.396Z"
   },
   {
    "duration": 2255,
    "start_time": "2023-02-12T12:40:10.245Z"
   },
   {
    "duration": 1136,
    "start_time": "2023-02-12T12:40:12.502Z"
   },
   {
    "duration": 452,
    "start_time": "2023-02-12T12:40:13.641Z"
   },
   {
    "duration": 57,
    "start_time": "2023-02-12T12:40:14.101Z"
   },
   {
    "duration": 565,
    "start_time": "2023-02-12T12:40:14.160Z"
   },
   {
    "duration": 941,
    "start_time": "2023-02-12T12:40:14.727Z"
   },
   {
    "duration": 34,
    "start_time": "2023-02-12T12:40:15.670Z"
   },
   {
    "duration": 31,
    "start_time": "2023-02-12T12:40:15.711Z"
   },
   {
    "duration": 5,
    "start_time": "2023-02-12T12:40:15.744Z"
   },
   {
    "duration": 96,
    "start_time": "2023-02-12T12:40:15.750Z"
   },
   {
    "duration": 1323,
    "start_time": "2023-02-12T12:40:15.848Z"
   },
   {
    "duration": 94,
    "start_time": "2023-02-12T12:40:17.172Z"
   },
   {
    "duration": 156,
    "start_time": "2023-02-12T12:40:17.268Z"
   },
   {
    "duration": 124,
    "start_time": "2023-02-12T12:40:17.426Z"
   },
   {
    "duration": 47,
    "start_time": "2023-02-12T12:40:17.551Z"
   },
   {
    "duration": 32,
    "start_time": "2023-02-12T12:40:17.601Z"
   },
   {
    "duration": 257,
    "start_time": "2023-02-12T12:40:17.634Z"
   },
   {
    "duration": 8,
    "start_time": "2023-02-12T12:40:17.893Z"
   },
   {
    "duration": 25,
    "start_time": "2023-02-12T12:40:17.906Z"
   },
   {
    "duration": 94,
    "start_time": "2023-02-12T12:40:17.933Z"
   },
   {
    "duration": 166,
    "start_time": "2023-02-12T12:40:18.028Z"
   },
   {
    "duration": 6,
    "start_time": "2023-02-12T12:40:18.196Z"
   },
   {
    "duration": 146,
    "start_time": "2023-02-12T12:40:18.208Z"
   },
   {
    "duration": 0,
    "start_time": "2023-02-12T12:40:18.356Z"
   },
   {
    "duration": 0,
    "start_time": "2023-02-12T12:40:18.358Z"
   },
   {
    "duration": 0,
    "start_time": "2023-02-12T12:40:18.359Z"
   },
   {
    "duration": 0,
    "start_time": "2023-02-12T12:40:18.361Z"
   },
   {
    "duration": 0,
    "start_time": "2023-02-12T12:40:18.362Z"
   },
   {
    "duration": 0,
    "start_time": "2023-02-12T12:40:18.364Z"
   },
   {
    "duration": 0,
    "start_time": "2023-02-12T12:40:18.365Z"
   },
   {
    "duration": 0,
    "start_time": "2023-02-12T12:40:18.367Z"
   },
   {
    "duration": 0,
    "start_time": "2023-02-12T12:40:18.368Z"
   },
   {
    "duration": 0,
    "start_time": "2023-02-12T12:40:18.395Z"
   },
   {
    "duration": 0,
    "start_time": "2023-02-12T12:40:18.397Z"
   },
   {
    "duration": 0,
    "start_time": "2023-02-12T12:40:18.399Z"
   },
   {
    "duration": 0,
    "start_time": "2023-02-12T12:40:18.401Z"
   },
   {
    "duration": 3941,
    "start_time": "2023-02-12T12:41:53.942Z"
   },
   {
    "duration": 5228,
    "start_time": "2023-02-12T12:42:26.029Z"
   },
   {
    "duration": 1273,
    "start_time": "2023-02-12T12:42:54.262Z"
   },
   {
    "duration": 1281,
    "start_time": "2023-02-12T12:42:55.537Z"
   },
   {
    "duration": 780,
    "start_time": "2023-02-12T12:42:56.820Z"
   },
   {
    "duration": 122,
    "start_time": "2023-02-12T12:42:57.603Z"
   },
   {
    "duration": 876,
    "start_time": "2023-02-12T12:42:57.727Z"
   },
   {
    "duration": 930,
    "start_time": "2023-02-12T12:42:58.608Z"
   },
   {
    "duration": 24,
    "start_time": "2023-02-12T12:42:59.540Z"
   },
   {
    "duration": 46,
    "start_time": "2023-02-12T12:42:59.566Z"
   },
   {
    "duration": 8,
    "start_time": "2023-02-12T12:42:59.614Z"
   },
   {
    "duration": 108,
    "start_time": "2023-02-12T12:42:59.624Z"
   },
   {
    "duration": 1287,
    "start_time": "2023-02-12T12:42:59.734Z"
   },
   {
    "duration": 86,
    "start_time": "2023-02-12T12:43:01.023Z"
   },
   {
    "duration": 150,
    "start_time": "2023-02-12T12:43:01.112Z"
   },
   {
    "duration": 131,
    "start_time": "2023-02-12T12:43:01.264Z"
   },
   {
    "duration": 34,
    "start_time": "2023-02-12T12:43:01.398Z"
   },
   {
    "duration": 30,
    "start_time": "2023-02-12T12:43:01.434Z"
   },
   {
    "duration": 272,
    "start_time": "2023-02-12T12:43:01.466Z"
   },
   {
    "duration": 3,
    "start_time": "2023-02-12T12:43:01.740Z"
   },
   {
    "duration": 23,
    "start_time": "2023-02-12T12:43:01.745Z"
   },
   {
    "duration": 112,
    "start_time": "2023-02-12T12:43:01.770Z"
   },
   {
    "duration": 179,
    "start_time": "2023-02-12T12:43:01.884Z"
   },
   {
    "duration": 4,
    "start_time": "2023-02-12T12:43:02.065Z"
   },
   {
    "duration": 4094,
    "start_time": "2023-02-12T12:43:02.070Z"
   },
   {
    "duration": 3,
    "start_time": "2023-02-12T12:43:06.166Z"
   },
   {
    "duration": 142,
    "start_time": "2023-02-12T12:43:06.171Z"
   },
   {
    "duration": 0,
    "start_time": "2023-02-12T12:43:06.316Z"
   },
   {
    "duration": 0,
    "start_time": "2023-02-12T12:43:06.318Z"
   },
   {
    "duration": 0,
    "start_time": "2023-02-12T12:43:06.320Z"
   },
   {
    "duration": 0,
    "start_time": "2023-02-12T12:43:06.322Z"
   },
   {
    "duration": 0,
    "start_time": "2023-02-12T12:43:06.323Z"
   },
   {
    "duration": 0,
    "start_time": "2023-02-12T12:43:06.326Z"
   },
   {
    "duration": 0,
    "start_time": "2023-02-12T12:43:06.328Z"
   },
   {
    "duration": 0,
    "start_time": "2023-02-12T12:43:06.330Z"
   },
   {
    "duration": 0,
    "start_time": "2023-02-12T12:43:06.331Z"
   },
   {
    "duration": 0,
    "start_time": "2023-02-12T12:43:06.333Z"
   },
   {
    "duration": 0,
    "start_time": "2023-02-12T12:43:06.334Z"
   },
   {
    "duration": 22,
    "start_time": "2023-02-12T12:45:17.078Z"
   },
   {
    "duration": 4,
    "start_time": "2023-02-12T12:45:49.626Z"
   },
   {
    "duration": 4,
    "start_time": "2023-02-12T12:45:55.913Z"
   },
   {
    "duration": 5,
    "start_time": "2023-02-12T12:46:03.382Z"
   },
   {
    "duration": 3,
    "start_time": "2023-02-12T12:46:56.765Z"
   },
   {
    "duration": 1580,
    "start_time": "2023-02-12T12:47:05.140Z"
   },
   {
    "duration": 1671,
    "start_time": "2023-02-12T12:47:06.722Z"
   },
   {
    "duration": 421,
    "start_time": "2023-02-12T12:47:08.395Z"
   },
   {
    "duration": 58,
    "start_time": "2023-02-12T12:47:08.819Z"
   },
   {
    "duration": 548,
    "start_time": "2023-02-12T12:47:08.879Z"
   },
   {
    "duration": 1107,
    "start_time": "2023-02-12T12:47:09.431Z"
   },
   {
    "duration": 28,
    "start_time": "2023-02-12T12:47:10.540Z"
   },
   {
    "duration": 83,
    "start_time": "2023-02-12T12:47:10.569Z"
   },
   {
    "duration": 7,
    "start_time": "2023-02-12T12:47:10.654Z"
   },
   {
    "duration": 109,
    "start_time": "2023-02-12T12:47:10.664Z"
   },
   {
    "duration": 1395,
    "start_time": "2023-02-12T12:47:10.775Z"
   },
   {
    "duration": 91,
    "start_time": "2023-02-12T12:47:12.172Z"
   },
   {
    "duration": 168,
    "start_time": "2023-02-12T12:47:12.265Z"
   },
   {
    "duration": 122,
    "start_time": "2023-02-12T12:47:12.434Z"
   },
   {
    "duration": 49,
    "start_time": "2023-02-12T12:47:12.558Z"
   },
   {
    "duration": 27,
    "start_time": "2023-02-12T12:47:12.610Z"
   },
   {
    "duration": 264,
    "start_time": "2023-02-12T12:47:12.640Z"
   },
   {
    "duration": 5,
    "start_time": "2023-02-12T12:47:12.906Z"
   },
   {
    "duration": 12,
    "start_time": "2023-02-12T12:47:12.913Z"
   },
   {
    "duration": 93,
    "start_time": "2023-02-12T12:47:12.926Z"
   },
   {
    "duration": 165,
    "start_time": "2023-02-12T12:47:13.021Z"
   },
   {
    "duration": 8,
    "start_time": "2023-02-12T12:47:13.187Z"
   },
   {
    "duration": 9,
    "start_time": "2023-02-12T12:47:13.196Z"
   },
   {
    "duration": 4130,
    "start_time": "2023-02-12T12:47:13.207Z"
   },
   {
    "duration": 4,
    "start_time": "2023-02-12T12:47:17.339Z"
   },
   {
    "duration": 119,
    "start_time": "2023-02-12T12:47:17.345Z"
   },
   {
    "duration": 0,
    "start_time": "2023-02-12T12:47:17.467Z"
   },
   {
    "duration": 0,
    "start_time": "2023-02-12T12:47:17.468Z"
   },
   {
    "duration": 0,
    "start_time": "2023-02-12T12:47:17.469Z"
   },
   {
    "duration": 0,
    "start_time": "2023-02-12T12:47:17.471Z"
   },
   {
    "duration": 0,
    "start_time": "2023-02-12T12:47:17.472Z"
   },
   {
    "duration": 0,
    "start_time": "2023-02-12T12:47:17.473Z"
   },
   {
    "duration": 0,
    "start_time": "2023-02-12T12:47:17.474Z"
   },
   {
    "duration": 0,
    "start_time": "2023-02-12T12:47:17.493Z"
   },
   {
    "duration": 0,
    "start_time": "2023-02-12T12:47:17.496Z"
   },
   {
    "duration": 0,
    "start_time": "2023-02-12T12:47:17.497Z"
   },
   {
    "duration": 0,
    "start_time": "2023-02-12T12:47:17.499Z"
   },
   {
    "duration": 6,
    "start_time": "2023-02-12T12:47:32.505Z"
   },
   {
    "duration": 4765,
    "start_time": "2023-02-12T12:49:52.787Z"
   },
   {
    "duration": 2489,
    "start_time": "2023-02-12T12:50:03.015Z"
   },
   {
    "duration": 875,
    "start_time": "2023-02-12T12:50:05.506Z"
   },
   {
    "duration": 437,
    "start_time": "2023-02-12T12:50:06.383Z"
   },
   {
    "duration": 80,
    "start_time": "2023-02-12T12:50:06.822Z"
   },
   {
    "duration": 509,
    "start_time": "2023-02-12T12:50:06.904Z"
   },
   {
    "duration": 1047,
    "start_time": "2023-02-12T12:50:07.416Z"
   },
   {
    "duration": 32,
    "start_time": "2023-02-12T12:50:08.465Z"
   },
   {
    "duration": 37,
    "start_time": "2023-02-12T12:50:08.500Z"
   },
   {
    "duration": 6,
    "start_time": "2023-02-12T12:50:08.539Z"
   },
   {
    "duration": 117,
    "start_time": "2023-02-12T12:50:08.548Z"
   },
   {
    "duration": 1329,
    "start_time": "2023-02-12T12:50:08.666Z"
   },
   {
    "duration": 77,
    "start_time": "2023-02-12T12:50:09.997Z"
   },
   {
    "duration": 185,
    "start_time": "2023-02-12T12:50:10.076Z"
   },
   {
    "duration": 159,
    "start_time": "2023-02-12T12:50:10.264Z"
   },
   {
    "duration": 37,
    "start_time": "2023-02-12T12:50:10.425Z"
   },
   {
    "duration": 58,
    "start_time": "2023-02-12T12:50:10.464Z"
   },
   {
    "duration": 234,
    "start_time": "2023-02-12T12:50:10.525Z"
   },
   {
    "duration": 4,
    "start_time": "2023-02-12T12:50:10.761Z"
   },
   {
    "duration": 7,
    "start_time": "2023-02-12T12:50:10.767Z"
   },
   {
    "duration": 78,
    "start_time": "2023-02-12T12:50:10.776Z"
   },
   {
    "duration": 162,
    "start_time": "2023-02-12T12:50:10.856Z"
   },
   {
    "duration": 4,
    "start_time": "2023-02-12T12:50:11.020Z"
   },
   {
    "duration": 5,
    "start_time": "2023-02-12T12:50:11.026Z"
   },
   {
    "duration": 129,
    "start_time": "2023-02-12T12:50:11.033Z"
   },
   {
    "duration": 0,
    "start_time": "2023-02-12T12:50:11.164Z"
   },
   {
    "duration": 0,
    "start_time": "2023-02-12T12:50:11.165Z"
   },
   {
    "duration": 0,
    "start_time": "2023-02-12T12:50:11.166Z"
   },
   {
    "duration": 0,
    "start_time": "2023-02-12T12:50:11.167Z"
   },
   {
    "duration": 0,
    "start_time": "2023-02-12T12:50:11.168Z"
   },
   {
    "duration": 0,
    "start_time": "2023-02-12T12:50:11.169Z"
   },
   {
    "duration": 0,
    "start_time": "2023-02-12T12:50:11.171Z"
   },
   {
    "duration": 0,
    "start_time": "2023-02-12T12:50:11.172Z"
   },
   {
    "duration": 0,
    "start_time": "2023-02-12T12:50:11.193Z"
   },
   {
    "duration": 0,
    "start_time": "2023-02-12T12:50:11.195Z"
   },
   {
    "duration": 0,
    "start_time": "2023-02-12T12:50:11.196Z"
   },
   {
    "duration": 0,
    "start_time": "2023-02-12T12:50:11.197Z"
   },
   {
    "duration": 0,
    "start_time": "2023-02-12T12:50:11.198Z"
   },
   {
    "duration": 0,
    "start_time": "2023-02-12T12:50:11.199Z"
   },
   {
    "duration": 4211,
    "start_time": "2023-02-12T12:50:43.047Z"
   },
   {
    "duration": 1597,
    "start_time": "2023-02-12T12:50:49.196Z"
   },
   {
    "duration": 1314,
    "start_time": "2023-02-12T12:50:50.795Z"
   },
   {
    "duration": 376,
    "start_time": "2023-02-12T12:50:52.111Z"
   },
   {
    "duration": 56,
    "start_time": "2023-02-12T12:50:52.489Z"
   },
   {
    "duration": 478,
    "start_time": "2023-02-12T12:50:52.548Z"
   },
   {
    "duration": 977,
    "start_time": "2023-02-12T12:50:53.028Z"
   },
   {
    "duration": 39,
    "start_time": "2023-02-12T12:50:54.007Z"
   },
   {
    "duration": 61,
    "start_time": "2023-02-12T12:50:54.048Z"
   },
   {
    "duration": 7,
    "start_time": "2023-02-12T12:50:54.111Z"
   },
   {
    "duration": 124,
    "start_time": "2023-02-12T12:50:54.120Z"
   },
   {
    "duration": 1355,
    "start_time": "2023-02-12T12:50:54.246Z"
   },
   {
    "duration": 74,
    "start_time": "2023-02-12T12:50:55.603Z"
   },
   {
    "duration": 146,
    "start_time": "2023-02-12T12:50:55.679Z"
   },
   {
    "duration": 125,
    "start_time": "2023-02-12T12:50:55.829Z"
   },
   {
    "duration": 59,
    "start_time": "2023-02-12T12:50:55.956Z"
   },
   {
    "duration": 29,
    "start_time": "2023-02-12T12:50:56.018Z"
   },
   {
    "duration": 224,
    "start_time": "2023-02-12T12:50:56.049Z"
   },
   {
    "duration": 3,
    "start_time": "2023-02-12T12:50:56.275Z"
   },
   {
    "duration": 5,
    "start_time": "2023-02-12T12:50:56.280Z"
   },
   {
    "duration": 68,
    "start_time": "2023-02-12T12:50:56.293Z"
   },
   {
    "duration": 168,
    "start_time": "2023-02-12T12:50:56.363Z"
   },
   {
    "duration": 3,
    "start_time": "2023-02-12T12:50:56.533Z"
   },
   {
    "duration": 11,
    "start_time": "2023-02-12T12:50:56.537Z"
   },
   {
    "duration": 4004,
    "start_time": "2023-02-12T12:50:56.549Z"
   },
   {
    "duration": 4,
    "start_time": "2023-02-12T12:51:00.555Z"
   },
   {
    "duration": 32,
    "start_time": "2023-02-12T12:51:00.560Z"
   },
   {
    "duration": 132,
    "start_time": "2023-02-12T12:51:00.593Z"
   },
   {
    "duration": 0,
    "start_time": "2023-02-12T12:51:00.727Z"
   },
   {
    "duration": 0,
    "start_time": "2023-02-12T12:51:00.728Z"
   },
   {
    "duration": 0,
    "start_time": "2023-02-12T12:51:00.729Z"
   },
   {
    "duration": 0,
    "start_time": "2023-02-12T12:51:00.730Z"
   },
   {
    "duration": 0,
    "start_time": "2023-02-12T12:51:00.731Z"
   },
   {
    "duration": 0,
    "start_time": "2023-02-12T12:51:00.733Z"
   },
   {
    "duration": 0,
    "start_time": "2023-02-12T12:51:00.734Z"
   },
   {
    "duration": 0,
    "start_time": "2023-02-12T12:51:00.734Z"
   },
   {
    "duration": 0,
    "start_time": "2023-02-12T12:51:00.736Z"
   },
   {
    "duration": 0,
    "start_time": "2023-02-12T12:51:00.736Z"
   },
   {
    "duration": 0,
    "start_time": "2023-02-12T12:51:00.737Z"
   },
   {
    "duration": 11,
    "start_time": "2023-02-12T13:00:16.307Z"
   },
   {
    "duration": 4,
    "start_time": "2023-02-12T13:00:20.856Z"
   },
   {
    "duration": 4765,
    "start_time": "2023-02-12T13:01:54.569Z"
   },
   {
    "duration": 4,
    "start_time": "2023-02-12T13:04:02.859Z"
   },
   {
    "duration": 2047,
    "start_time": "2023-02-12T13:04:14.991Z"
   },
   {
    "duration": 1073,
    "start_time": "2023-02-12T13:04:17.040Z"
   },
   {
    "duration": 371,
    "start_time": "2023-02-12T13:04:18.114Z"
   },
   {
    "duration": 60,
    "start_time": "2023-02-12T13:04:18.487Z"
   },
   {
    "duration": 484,
    "start_time": "2023-02-12T13:04:18.549Z"
   },
   {
    "duration": 977,
    "start_time": "2023-02-12T13:04:19.035Z"
   },
   {
    "duration": 25,
    "start_time": "2023-02-12T13:04:20.014Z"
   },
   {
    "duration": 38,
    "start_time": "2023-02-12T13:04:20.041Z"
   },
   {
    "duration": 15,
    "start_time": "2023-02-12T13:04:20.081Z"
   },
   {
    "duration": 83,
    "start_time": "2023-02-12T13:04:20.098Z"
   },
   {
    "duration": 1275,
    "start_time": "2023-02-12T13:04:20.192Z"
   },
   {
    "duration": 87,
    "start_time": "2023-02-12T13:04:21.468Z"
   },
   {
    "duration": 149,
    "start_time": "2023-02-12T13:04:21.557Z"
   },
   {
    "duration": 137,
    "start_time": "2023-02-12T13:04:21.708Z"
   },
   {
    "duration": 51,
    "start_time": "2023-02-12T13:04:21.847Z"
   },
   {
    "duration": 28,
    "start_time": "2023-02-12T13:04:21.900Z"
   },
   {
    "duration": 247,
    "start_time": "2023-02-12T13:04:21.930Z"
   },
   {
    "duration": 4,
    "start_time": "2023-02-12T13:04:22.179Z"
   },
   {
    "duration": 16,
    "start_time": "2023-02-12T13:04:22.184Z"
   },
   {
    "duration": 72,
    "start_time": "2023-02-12T13:04:22.201Z"
   },
   {
    "duration": 170,
    "start_time": "2023-02-12T13:04:22.274Z"
   },
   {
    "duration": 4,
    "start_time": "2023-02-12T13:04:22.445Z"
   },
   {
    "duration": 7,
    "start_time": "2023-02-12T13:04:22.451Z"
   },
   {
    "duration": 11,
    "start_time": "2023-02-12T13:04:22.460Z"
   },
   {
    "duration": 3956,
    "start_time": "2023-02-12T13:04:22.474Z"
   },
   {
    "duration": 4,
    "start_time": "2023-02-12T13:04:26.432Z"
   },
   {
    "duration": 7,
    "start_time": "2023-02-12T13:04:26.438Z"
   },
   {
    "duration": 111,
    "start_time": "2023-02-12T13:04:26.448Z"
   },
   {
    "duration": 0,
    "start_time": "2023-02-12T13:04:26.561Z"
   },
   {
    "duration": 0,
    "start_time": "2023-02-12T13:04:26.563Z"
   },
   {
    "duration": 0,
    "start_time": "2023-02-12T13:04:26.564Z"
   },
   {
    "duration": 0,
    "start_time": "2023-02-12T13:04:26.566Z"
   },
   {
    "duration": 0,
    "start_time": "2023-02-12T13:04:26.567Z"
   },
   {
    "duration": 0,
    "start_time": "2023-02-12T13:04:26.568Z"
   },
   {
    "duration": 0,
    "start_time": "2023-02-12T13:04:26.570Z"
   },
   {
    "duration": 0,
    "start_time": "2023-02-12T13:04:26.571Z"
   },
   {
    "duration": 0,
    "start_time": "2023-02-12T13:04:26.594Z"
   },
   {
    "duration": 0,
    "start_time": "2023-02-12T13:04:26.596Z"
   },
   {
    "duration": 0,
    "start_time": "2023-02-12T13:04:26.597Z"
   },
   {
    "duration": 1359,
    "start_time": "2023-02-12T13:13:02.953Z"
   },
   {
    "duration": 1472,
    "start_time": "2023-02-12T13:13:04.314Z"
   },
   {
    "duration": 351,
    "start_time": "2023-02-12T13:13:05.787Z"
   },
   {
    "duration": 63,
    "start_time": "2023-02-12T13:13:06.139Z"
   },
   {
    "duration": 456,
    "start_time": "2023-02-12T13:13:06.204Z"
   },
   {
    "duration": 954,
    "start_time": "2023-02-12T13:13:06.661Z"
   },
   {
    "duration": 29,
    "start_time": "2023-02-12T13:13:07.617Z"
   },
   {
    "duration": 48,
    "start_time": "2023-02-12T13:13:07.648Z"
   },
   {
    "duration": 6,
    "start_time": "2023-02-12T13:13:07.698Z"
   },
   {
    "duration": 92,
    "start_time": "2023-02-12T13:13:07.705Z"
   },
   {
    "duration": 1292,
    "start_time": "2023-02-12T13:13:07.798Z"
   },
   {
    "duration": 71,
    "start_time": "2023-02-12T13:13:09.093Z"
   },
   {
    "duration": 129,
    "start_time": "2023-02-12T13:13:09.165Z"
   },
   {
    "duration": 125,
    "start_time": "2023-02-12T13:13:09.298Z"
   },
   {
    "duration": 25,
    "start_time": "2023-02-12T13:13:09.425Z"
   },
   {
    "duration": 51,
    "start_time": "2023-02-12T13:13:09.452Z"
   },
   {
    "duration": 213,
    "start_time": "2023-02-12T13:13:09.505Z"
   },
   {
    "duration": 4,
    "start_time": "2023-02-12T13:13:09.720Z"
   },
   {
    "duration": 7,
    "start_time": "2023-02-12T13:13:09.725Z"
   },
   {
    "duration": 78,
    "start_time": "2023-02-12T13:13:09.734Z"
   },
   {
    "duration": 166,
    "start_time": "2023-02-12T13:13:09.814Z"
   },
   {
    "duration": 3,
    "start_time": "2023-02-12T13:13:09.982Z"
   },
   {
    "duration": 4,
    "start_time": "2023-02-12T13:13:09.993Z"
   },
   {
    "duration": 10,
    "start_time": "2023-02-12T13:13:09.999Z"
   },
   {
    "duration": 129,
    "start_time": "2023-02-12T13:13:10.011Z"
   },
   {
    "duration": 0,
    "start_time": "2023-02-12T13:13:10.141Z"
   },
   {
    "duration": 0,
    "start_time": "2023-02-12T13:13:10.143Z"
   },
   {
    "duration": 0,
    "start_time": "2023-02-12T13:13:10.144Z"
   },
   {
    "duration": 0,
    "start_time": "2023-02-12T13:13:10.145Z"
   },
   {
    "duration": 0,
    "start_time": "2023-02-12T13:13:10.147Z"
   },
   {
    "duration": 0,
    "start_time": "2023-02-12T13:13:10.148Z"
   },
   {
    "duration": 0,
    "start_time": "2023-02-12T13:13:10.149Z"
   },
   {
    "duration": 0,
    "start_time": "2023-02-12T13:13:10.150Z"
   },
   {
    "duration": 0,
    "start_time": "2023-02-12T13:13:10.151Z"
   },
   {
    "duration": 1,
    "start_time": "2023-02-12T13:13:10.152Z"
   },
   {
    "duration": 0,
    "start_time": "2023-02-12T13:13:10.153Z"
   },
   {
    "duration": 0,
    "start_time": "2023-02-12T13:13:10.154Z"
   },
   {
    "duration": 0,
    "start_time": "2023-02-12T13:13:10.155Z"
   },
   {
    "duration": 0,
    "start_time": "2023-02-12T13:13:10.157Z"
   },
   {
    "duration": 55,
    "start_time": "2023-02-12T13:13:19.656Z"
   },
   {
    "duration": 3859,
    "start_time": "2023-02-12T13:13:20.487Z"
   },
   {
    "duration": 4,
    "start_time": "2023-02-12T13:13:33.884Z"
   },
   {
    "duration": 4,
    "start_time": "2023-02-12T13:13:39.886Z"
   },
   {
    "duration": 103,
    "start_time": "2023-02-12T13:13:47.686Z"
   },
   {
    "duration": 84,
    "start_time": "2023-02-12T13:27:12.834Z"
   },
   {
    "duration": 154,
    "start_time": "2023-02-12T13:27:46.747Z"
   },
   {
    "duration": 64,
    "start_time": "2023-02-12T13:30:28.025Z"
   },
   {
    "duration": 76,
    "start_time": "2023-02-12T13:32:36.359Z"
   },
   {
    "duration": 3616,
    "start_time": "2023-02-12T13:34:04.246Z"
   },
   {
    "duration": 1546,
    "start_time": "2023-02-12T13:34:19.094Z"
   },
   {
    "duration": 1497,
    "start_time": "2023-02-12T13:34:20.642Z"
   },
   {
    "duration": 407,
    "start_time": "2023-02-12T13:34:22.140Z"
   },
   {
    "duration": 69,
    "start_time": "2023-02-12T13:34:22.548Z"
   },
   {
    "duration": 459,
    "start_time": "2023-02-12T13:34:22.619Z"
   },
   {
    "duration": 939,
    "start_time": "2023-02-12T13:34:23.080Z"
   },
   {
    "duration": 31,
    "start_time": "2023-02-12T13:34:24.023Z"
   },
   {
    "duration": 63,
    "start_time": "2023-02-12T13:34:24.056Z"
   },
   {
    "duration": 7,
    "start_time": "2023-02-12T13:34:24.122Z"
   },
   {
    "duration": 120,
    "start_time": "2023-02-12T13:34:24.131Z"
   },
   {
    "duration": 1408,
    "start_time": "2023-02-12T13:34:24.254Z"
   },
   {
    "duration": 83,
    "start_time": "2023-02-12T13:34:25.663Z"
   },
   {
    "duration": 156,
    "start_time": "2023-02-12T13:34:25.748Z"
   },
   {
    "duration": 128,
    "start_time": "2023-02-12T13:34:25.907Z"
   },
   {
    "duration": 25,
    "start_time": "2023-02-12T13:34:26.037Z"
   },
   {
    "duration": 48,
    "start_time": "2023-02-12T13:34:26.064Z"
   },
   {
    "duration": 219,
    "start_time": "2023-02-12T13:34:26.114Z"
   },
   {
    "duration": 3,
    "start_time": "2023-02-12T13:34:26.335Z"
   },
   {
    "duration": 7,
    "start_time": "2023-02-12T13:34:26.340Z"
   },
   {
    "duration": 103,
    "start_time": "2023-02-12T13:34:26.348Z"
   },
   {
    "duration": 192,
    "start_time": "2023-02-12T13:34:26.453Z"
   },
   {
    "duration": 82,
    "start_time": "2023-02-12T13:34:26.647Z"
   },
   {
    "duration": 1293,
    "start_time": "2023-02-12T13:34:26.731Z"
   },
   {
    "duration": 0,
    "start_time": "2023-02-12T13:34:28.025Z"
   },
   {
    "duration": 0,
    "start_time": "2023-02-12T13:34:28.027Z"
   },
   {
    "duration": 0,
    "start_time": "2023-02-12T13:34:28.028Z"
   },
   {
    "duration": 0,
    "start_time": "2023-02-12T13:34:28.029Z"
   },
   {
    "duration": 0,
    "start_time": "2023-02-12T13:34:28.030Z"
   },
   {
    "duration": 0,
    "start_time": "2023-02-12T13:34:28.031Z"
   },
   {
    "duration": 0,
    "start_time": "2023-02-12T13:34:28.032Z"
   },
   {
    "duration": 0,
    "start_time": "2023-02-12T13:34:28.033Z"
   },
   {
    "duration": 0,
    "start_time": "2023-02-12T13:34:28.034Z"
   },
   {
    "duration": 0,
    "start_time": "2023-02-12T13:34:28.035Z"
   },
   {
    "duration": 0,
    "start_time": "2023-02-12T13:34:28.036Z"
   },
   {
    "duration": 0,
    "start_time": "2023-02-12T13:34:28.037Z"
   },
   {
    "duration": 0,
    "start_time": "2023-02-12T13:34:28.037Z"
   },
   {
    "duration": 5229,
    "start_time": "2023-02-12T13:34:51.558Z"
   },
   {
    "duration": 5240,
    "start_time": "2023-02-12T13:35:25.574Z"
   },
   {
    "duration": 10,
    "start_time": "2023-02-12T13:35:30.816Z"
   },
   {
    "duration": 0,
    "start_time": "2023-02-12T13:35:30.827Z"
   },
   {
    "duration": 4,
    "start_time": "2023-02-12T13:35:36.313Z"
   },
   {
    "duration": 4,
    "start_time": "2023-02-12T13:35:40.889Z"
   },
   {
    "duration": 3,
    "start_time": "2023-02-12T13:35:49.156Z"
   },
   {
    "duration": 5253,
    "start_time": "2023-02-12T13:36:12.161Z"
   },
   {
    "duration": 5404,
    "start_time": "2023-02-12T13:36:23.939Z"
   },
   {
    "duration": 64,
    "start_time": "2023-02-12T13:36:35.674Z"
   },
   {
    "duration": 79,
    "start_time": "2023-02-12T13:37:02.857Z"
   },
   {
    "duration": 836,
    "start_time": "2023-02-12T13:37:05.435Z"
   },
   {
    "duration": 49,
    "start_time": "2023-02-12T13:50:35.598Z"
   },
   {
    "duration": 53,
    "start_time": "2023-02-12T13:50:46.139Z"
   },
   {
    "duration": 377,
    "start_time": "2023-02-12T13:50:51.374Z"
   },
   {
    "duration": 53,
    "start_time": "2023-02-12T13:51:50.310Z"
   },
   {
    "duration": 152,
    "start_time": "2023-02-12T13:51:54.891Z"
   },
   {
    "duration": 28,
    "start_time": "2023-02-12T13:53:44.503Z"
   },
   {
    "duration": 290,
    "start_time": "2023-02-12T13:53:53.380Z"
   },
   {
    "duration": 9,
    "start_time": "2023-02-12T13:54:05.609Z"
   },
   {
    "duration": 18,
    "start_time": "2023-02-12T13:54:18.148Z"
   },
   {
    "duration": 320,
    "start_time": "2023-02-12T13:54:22.428Z"
   },
   {
    "duration": 4435,
    "start_time": "2023-02-12T13:57:21.990Z"
   },
   {
    "duration": 184,
    "start_time": "2023-02-12T13:57:26.427Z"
   },
   {
    "duration": 49,
    "start_time": "2023-02-12T13:57:38.916Z"
   },
   {
    "duration": 47,
    "start_time": "2023-02-12T13:57:43.139Z"
   },
   {
    "duration": 27,
    "start_time": "2023-02-12T14:08:06.205Z"
   },
   {
    "duration": 565,
    "start_time": "2023-02-12T14:09:21.481Z"
   },
   {
    "duration": 388,
    "start_time": "2023-02-12T14:09:22.048Z"
   },
   {
    "duration": 321,
    "start_time": "2023-02-12T14:10:07.291Z"
   },
   {
    "duration": 4,
    "start_time": "2023-02-12T14:11:40.021Z"
   },
   {
    "duration": 936,
    "start_time": "2023-02-12T14:14:53.310Z"
   },
   {
    "duration": 4,
    "start_time": "2023-02-12T14:15:01.730Z"
   },
   {
    "duration": 913,
    "start_time": "2023-02-12T14:15:50.758Z"
   },
   {
    "duration": 10,
    "start_time": "2023-02-12T14:21:31.086Z"
   },
   {
    "duration": 889,
    "start_time": "2023-02-12T14:22:13.857Z"
   },
   {
    "duration": 55,
    "start_time": "2023-02-12T14:22:15.157Z"
   },
   {
    "duration": 25245,
    "start_time": "2023-02-12T14:26:05.755Z"
   },
   {
    "duration": 115,
    "start_time": "2023-02-12T14:26:31.093Z"
   },
   {
    "duration": 36707,
    "start_time": "2023-02-12T14:27:54.048Z"
   },
   {
    "duration": 16195,
    "start_time": "2023-02-12T14:28:30.757Z"
   },
   {
    "duration": 189,
    "start_time": "2023-02-12T14:28:46.953Z"
   },
   {
    "duration": 1269,
    "start_time": "2023-02-12T14:32:07.258Z"
   },
   {
    "duration": 844,
    "start_time": "2023-02-12T14:32:08.529Z"
   },
   {
    "duration": 379,
    "start_time": "2023-02-12T14:32:09.374Z"
   },
   {
    "duration": 61,
    "start_time": "2023-02-12T14:32:09.755Z"
   },
   {
    "duration": 479,
    "start_time": "2023-02-12T14:32:09.818Z"
   },
   {
    "duration": 1906,
    "start_time": "2023-02-12T14:32:10.299Z"
   },
   {
    "duration": 93,
    "start_time": "2023-02-12T14:32:12.207Z"
   },
   {
    "duration": 32,
    "start_time": "2023-02-12T14:32:12.302Z"
   },
   {
    "duration": 7,
    "start_time": "2023-02-12T14:32:12.336Z"
   },
   {
    "duration": 156,
    "start_time": "2023-02-12T14:32:12.346Z"
   },
   {
    "duration": 1380,
    "start_time": "2023-02-12T14:32:12.503Z"
   },
   {
    "duration": 107,
    "start_time": "2023-02-12T14:32:13.893Z"
   },
   {
    "duration": 217,
    "start_time": "2023-02-12T14:32:14.002Z"
   },
   {
    "duration": 146,
    "start_time": "2023-02-12T14:32:14.222Z"
   },
   {
    "duration": 43,
    "start_time": "2023-02-12T14:32:14.370Z"
   },
   {
    "duration": 25,
    "start_time": "2023-02-12T14:32:14.415Z"
   },
   {
    "duration": 236,
    "start_time": "2023-02-12T14:32:14.441Z"
   },
   {
    "duration": 4,
    "start_time": "2023-02-12T14:32:14.678Z"
   },
   {
    "duration": 4,
    "start_time": "2023-02-12T14:32:14.693Z"
   },
   {
    "duration": 87,
    "start_time": "2023-02-12T14:32:14.698Z"
   },
   {
    "duration": 163,
    "start_time": "2023-02-12T14:32:14.793Z"
   },
   {
    "duration": 612,
    "start_time": "2023-02-12T14:32:14.958Z"
   },
   {
    "duration": 432,
    "start_time": "2023-02-12T14:32:15.572Z"
   },
   {
    "duration": 0,
    "start_time": "2023-02-12T14:32:16.006Z"
   },
   {
    "duration": 0,
    "start_time": "2023-02-12T14:32:16.008Z"
   },
   {
    "duration": 0,
    "start_time": "2023-02-12T14:32:16.009Z"
   },
   {
    "duration": 0,
    "start_time": "2023-02-12T14:32:16.011Z"
   },
   {
    "duration": 0,
    "start_time": "2023-02-12T14:32:16.012Z"
   },
   {
    "duration": 0,
    "start_time": "2023-02-12T14:32:16.013Z"
   },
   {
    "duration": 0,
    "start_time": "2023-02-12T14:32:16.016Z"
   },
   {
    "duration": 0,
    "start_time": "2023-02-12T14:32:16.017Z"
   },
   {
    "duration": 0,
    "start_time": "2023-02-12T14:32:16.019Z"
   },
   {
    "duration": 0,
    "start_time": "2023-02-12T14:32:16.021Z"
   },
   {
    "duration": 0,
    "start_time": "2023-02-12T14:32:16.023Z"
   },
   {
    "duration": 0,
    "start_time": "2023-02-12T14:32:16.024Z"
   },
   {
    "duration": 0,
    "start_time": "2023-02-12T14:32:16.026Z"
   },
   {
    "duration": 335,
    "start_time": "2023-02-12T14:33:38.202Z"
   },
   {
    "duration": 1193,
    "start_time": "2023-02-12T14:33:49.515Z"
   },
   {
    "duration": 1635,
    "start_time": "2023-02-12T14:33:50.710Z"
   },
   {
    "duration": 418,
    "start_time": "2023-02-12T14:33:52.346Z"
   },
   {
    "duration": 63,
    "start_time": "2023-02-12T14:33:52.767Z"
   },
   {
    "duration": 466,
    "start_time": "2023-02-12T14:33:52.832Z"
   },
   {
    "duration": 1072,
    "start_time": "2023-02-12T14:33:53.299Z"
   },
   {
    "duration": 27,
    "start_time": "2023-02-12T14:33:54.372Z"
   },
   {
    "duration": 36,
    "start_time": "2023-02-12T14:33:54.401Z"
   },
   {
    "duration": 6,
    "start_time": "2023-02-12T14:33:54.438Z"
   },
   {
    "duration": 98,
    "start_time": "2023-02-12T14:33:54.446Z"
   },
   {
    "duration": 1278,
    "start_time": "2023-02-12T14:33:54.545Z"
   },
   {
    "duration": 83,
    "start_time": "2023-02-12T14:33:55.825Z"
   },
   {
    "duration": 203,
    "start_time": "2023-02-12T14:33:55.910Z"
   },
   {
    "duration": 124,
    "start_time": "2023-02-12T14:33:56.115Z"
   },
   {
    "duration": 25,
    "start_time": "2023-02-12T14:33:56.241Z"
   },
   {
    "duration": 49,
    "start_time": "2023-02-12T14:33:56.268Z"
   },
   {
    "duration": 243,
    "start_time": "2023-02-12T14:33:56.318Z"
   },
   {
    "duration": 3,
    "start_time": "2023-02-12T14:33:56.563Z"
   },
   {
    "duration": 8,
    "start_time": "2023-02-12T14:33:56.568Z"
   },
   {
    "duration": 98,
    "start_time": "2023-02-12T14:33:56.577Z"
   },
   {
    "duration": 164,
    "start_time": "2023-02-12T14:33:56.677Z"
   },
   {
    "duration": 617,
    "start_time": "2023-02-12T14:33:56.843Z"
   },
   {
    "duration": 389,
    "start_time": "2023-02-12T14:33:57.461Z"
   },
   {
    "duration": 883,
    "start_time": "2023-02-12T14:33:57.852Z"
   },
   {
    "duration": 86,
    "start_time": "2023-02-12T14:33:58.737Z"
   },
   {
    "duration": 23575,
    "start_time": "2023-02-12T14:33:58.825Z"
   },
   {
    "duration": 298,
    "start_time": "2023-02-12T14:34:22.402Z"
   },
   {
    "duration": 56808,
    "start_time": "2023-02-12T14:34:22.710Z"
   },
   {
    "duration": 18884,
    "start_time": "2023-02-12T14:35:19.520Z"
   },
   {
    "duration": 209,
    "start_time": "2023-02-12T14:35:38.406Z"
   },
   {
    "duration": 1179,
    "start_time": "2023-02-12T14:37:50.371Z"
   },
   {
    "duration": 860,
    "start_time": "2023-02-12T14:37:51.552Z"
   },
   {
    "duration": 481,
    "start_time": "2023-02-12T14:37:52.414Z"
   },
   {
    "duration": 58,
    "start_time": "2023-02-12T14:37:52.897Z"
   },
   {
    "duration": 470,
    "start_time": "2023-02-12T14:37:52.958Z"
   },
   {
    "duration": 991,
    "start_time": "2023-02-12T14:37:53.430Z"
   },
   {
    "duration": 25,
    "start_time": "2023-02-12T14:37:54.422Z"
   },
   {
    "duration": 45,
    "start_time": "2023-02-12T14:37:54.448Z"
   },
   {
    "duration": 6,
    "start_time": "2023-02-12T14:37:54.496Z"
   },
   {
    "duration": 94,
    "start_time": "2023-02-12T14:37:54.504Z"
   },
   {
    "duration": 1284,
    "start_time": "2023-02-12T14:37:54.600Z"
   },
   {
    "duration": 131,
    "start_time": "2023-02-12T14:37:55.894Z"
   },
   {
    "duration": 131,
    "start_time": "2023-02-12T14:37:56.027Z"
   },
   {
    "duration": 115,
    "start_time": "2023-02-12T14:37:56.161Z"
   },
   {
    "duration": 26,
    "start_time": "2023-02-12T14:37:56.294Z"
   },
   {
    "duration": 37,
    "start_time": "2023-02-12T14:37:56.321Z"
   },
   {
    "duration": 277,
    "start_time": "2023-02-12T14:37:56.360Z"
   },
   {
    "duration": 4,
    "start_time": "2023-02-12T14:37:56.638Z"
   },
   {
    "duration": 5,
    "start_time": "2023-02-12T14:37:56.643Z"
   },
   {
    "duration": 105,
    "start_time": "2023-02-12T14:37:56.650Z"
   },
   {
    "duration": 277,
    "start_time": "2023-02-12T14:37:56.756Z"
   },
   {
    "duration": 1599,
    "start_time": "2023-02-12T14:37:57.035Z"
   },
   {
    "duration": 478,
    "start_time": "2023-02-12T14:37:58.635Z"
   },
   {
    "duration": 903,
    "start_time": "2023-02-12T14:37:59.114Z"
   },
   {
    "duration": 54,
    "start_time": "2023-02-12T14:38:00.019Z"
   },
   {
    "duration": 19629,
    "start_time": "2023-02-12T14:38:00.075Z"
   },
   {
    "duration": 389,
    "start_time": "2023-02-12T14:38:19.706Z"
   },
   {
    "duration": 55173,
    "start_time": "2023-02-12T14:38:20.097Z"
   },
   {
    "duration": 17546,
    "start_time": "2023-02-12T14:39:15.272Z"
   },
   {
    "duration": 203,
    "start_time": "2023-02-12T14:39:32.821Z"
   },
   {
    "duration": 1555,
    "start_time": "2023-02-12T14:42:55.059Z"
   },
   {
    "duration": 1295,
    "start_time": "2023-02-12T14:42:56.616Z"
   },
   {
    "duration": 356,
    "start_time": "2023-02-12T14:42:57.913Z"
   },
   {
    "duration": 56,
    "start_time": "2023-02-12T14:42:58.271Z"
   },
   {
    "duration": 458,
    "start_time": "2023-02-12T14:42:58.329Z"
   },
   {
    "duration": 917,
    "start_time": "2023-02-12T14:42:58.788Z"
   },
   {
    "duration": 25,
    "start_time": "2023-02-12T14:42:59.706Z"
   },
   {
    "duration": 32,
    "start_time": "2023-02-12T14:42:59.732Z"
   },
   {
    "duration": 6,
    "start_time": "2023-02-12T14:42:59.765Z"
   },
   {
    "duration": 78,
    "start_time": "2023-02-12T14:42:59.795Z"
   },
   {
    "duration": 1307,
    "start_time": "2023-02-12T14:42:59.874Z"
   },
   {
    "duration": 81,
    "start_time": "2023-02-12T14:43:01.182Z"
   },
   {
    "duration": 137,
    "start_time": "2023-02-12T14:43:01.265Z"
   },
   {
    "duration": 125,
    "start_time": "2023-02-12T14:43:01.404Z"
   },
   {
    "duration": 27,
    "start_time": "2023-02-12T14:43:01.531Z"
   },
   {
    "duration": 52,
    "start_time": "2023-02-12T14:43:01.561Z"
   },
   {
    "duration": 235,
    "start_time": "2023-02-12T14:43:01.615Z"
   },
   {
    "duration": 4,
    "start_time": "2023-02-12T14:43:01.851Z"
   },
   {
    "duration": 22,
    "start_time": "2023-02-12T14:43:01.856Z"
   },
   {
    "duration": 100,
    "start_time": "2023-02-12T14:43:01.880Z"
   },
   {
    "duration": 172,
    "start_time": "2023-02-12T14:43:01.981Z"
   },
   {
    "duration": 683,
    "start_time": "2023-02-12T14:43:02.154Z"
   },
   {
    "duration": 384,
    "start_time": "2023-02-12T14:43:02.839Z"
   },
   {
    "duration": 860,
    "start_time": "2023-02-12T14:43:03.225Z"
   },
   {
    "duration": 76,
    "start_time": "2023-02-12T14:43:04.088Z"
   },
   {
    "duration": 21737,
    "start_time": "2023-02-12T14:43:04.166Z"
   },
   {
    "duration": 199,
    "start_time": "2023-02-12T14:43:25.994Z"
   },
   {
    "duration": 54661,
    "start_time": "2023-02-12T14:43:26.198Z"
   },
   {
    "duration": 15909,
    "start_time": "2023-02-12T14:44:20.861Z"
   },
   {
    "duration": 200,
    "start_time": "2023-02-12T14:44:36.772Z"
   },
   {
    "duration": 1132,
    "start_time": "2023-02-12T14:47:19.795Z"
   },
   {
    "duration": 827,
    "start_time": "2023-02-12T14:47:20.929Z"
   },
   {
    "duration": 385,
    "start_time": "2023-02-12T14:47:21.758Z"
   },
   {
    "duration": 61,
    "start_time": "2023-02-12T14:47:22.145Z"
   },
   {
    "duration": 469,
    "start_time": "2023-02-12T14:47:22.209Z"
   },
   {
    "duration": 909,
    "start_time": "2023-02-12T14:47:22.679Z"
   },
   {
    "duration": 24,
    "start_time": "2023-02-12T14:47:23.594Z"
   },
   {
    "duration": 41,
    "start_time": "2023-02-12T14:47:23.620Z"
   },
   {
    "duration": 6,
    "start_time": "2023-02-12T14:47:23.662Z"
   },
   {
    "duration": 105,
    "start_time": "2023-02-12T14:47:23.670Z"
   },
   {
    "duration": 1346,
    "start_time": "2023-02-12T14:47:23.777Z"
   },
   {
    "duration": 91,
    "start_time": "2023-02-12T14:47:25.125Z"
   },
   {
    "duration": 128,
    "start_time": "2023-02-12T14:47:25.218Z"
   },
   {
    "duration": 118,
    "start_time": "2023-02-12T14:47:25.349Z"
   },
   {
    "duration": 44,
    "start_time": "2023-02-12T14:47:25.469Z"
   },
   {
    "duration": 26,
    "start_time": "2023-02-12T14:47:25.514Z"
   },
   {
    "duration": 234,
    "start_time": "2023-02-12T14:47:25.541Z"
   },
   {
    "duration": 4,
    "start_time": "2023-02-12T14:47:25.776Z"
   },
   {
    "duration": 13,
    "start_time": "2023-02-12T14:47:25.781Z"
   },
   {
    "duration": 85,
    "start_time": "2023-02-12T14:47:25.796Z"
   },
   {
    "duration": 166,
    "start_time": "2023-02-12T14:47:25.883Z"
   },
   {
    "duration": 605,
    "start_time": "2023-02-12T14:47:26.051Z"
   },
   {
    "duration": 382,
    "start_time": "2023-02-12T14:47:26.658Z"
   },
   {
    "duration": 840,
    "start_time": "2023-02-12T14:47:27.042Z"
   },
   {
    "duration": 55,
    "start_time": "2023-02-12T14:47:27.883Z"
   },
   {
    "duration": 22664,
    "start_time": "2023-02-12T14:47:27.939Z"
   },
   {
    "duration": 201,
    "start_time": "2023-02-12T14:47:50.694Z"
   },
   {
    "duration": 55818,
    "start_time": "2023-02-12T14:47:50.897Z"
   },
   {
    "duration": 16856,
    "start_time": "2023-02-12T14:48:46.717Z"
   },
   {
    "duration": 199,
    "start_time": "2023-02-12T14:49:03.575Z"
   },
   {
    "duration": 283983,
    "start_time": "2023-02-12T14:49:03.776Z"
   },
   {
    "duration": 5,
    "start_time": "2023-02-12T14:54:34.205Z"
   },
   {
    "duration": 9,
    "start_time": "2023-02-12T14:54:34.211Z"
   },
   {
    "duration": 16,
    "start_time": "2023-02-12T14:54:34.221Z"
   },
   {
    "duration": 32504,
    "start_time": "2023-02-12T14:54:34.298Z"
   },
   {
    "duration": 3407,
    "start_time": "2023-02-12T14:55:06.804Z"
   },
   {
    "duration": 395,
    "start_time": "2023-02-12T14:55:10.213Z"
   },
   {
    "duration": 5,
    "start_time": "2023-02-12T14:55:13.759Z"
   },
   {
    "duration": 5,
    "start_time": "2023-02-12T14:55:14.265Z"
   },
   {
    "duration": 10,
    "start_time": "2023-02-12T14:55:14.331Z"
   },
   {
    "duration": 389,
    "start_time": "2023-02-12T14:59:42.510Z"
   },
   {
    "duration": 315,
    "start_time": "2023-02-12T15:00:20.991Z"
   },
   {
    "duration": 302,
    "start_time": "2023-02-12T15:00:35.706Z"
   },
   {
    "duration": 1180,
    "start_time": "2023-02-12T15:04:26.486Z"
   },
   {
    "duration": 798,
    "start_time": "2023-02-12T15:04:27.668Z"
   },
   {
    "duration": 367,
    "start_time": "2023-02-12T15:04:28.468Z"
   },
   {
    "duration": 56,
    "start_time": "2023-02-12T15:04:28.837Z"
   },
   {
    "duration": 458,
    "start_time": "2023-02-12T15:04:28.895Z"
   },
   {
    "duration": 889,
    "start_time": "2023-02-12T15:04:29.354Z"
   },
   {
    "duration": 28,
    "start_time": "2023-02-12T15:04:30.245Z"
   },
   {
    "duration": 46,
    "start_time": "2023-02-12T15:04:30.274Z"
   },
   {
    "duration": 6,
    "start_time": "2023-02-12T15:04:30.321Z"
   },
   {
    "duration": 111,
    "start_time": "2023-02-12T15:04:30.330Z"
   },
   {
    "duration": 1261,
    "start_time": "2023-02-12T15:04:30.442Z"
   },
   {
    "duration": 96,
    "start_time": "2023-02-12T15:04:31.705Z"
   },
   {
    "duration": 124,
    "start_time": "2023-02-12T15:04:31.803Z"
   },
   {
    "duration": 112,
    "start_time": "2023-02-12T15:04:31.929Z"
   },
   {
    "duration": 26,
    "start_time": "2023-02-12T15:04:32.043Z"
   },
   {
    "duration": 46,
    "start_time": "2023-02-12T15:04:32.071Z"
   },
   {
    "duration": 224,
    "start_time": "2023-02-12T15:04:32.118Z"
   },
   {
    "duration": 3,
    "start_time": "2023-02-12T15:04:32.344Z"
   },
   {
    "duration": 7,
    "start_time": "2023-02-12T15:04:32.349Z"
   },
   {
    "duration": 102,
    "start_time": "2023-02-12T15:04:32.358Z"
   },
   {
    "duration": 171,
    "start_time": "2023-02-12T15:04:32.462Z"
   },
   {
    "duration": 549,
    "start_time": "2023-02-12T15:04:32.635Z"
   },
   {
    "duration": 372,
    "start_time": "2023-02-12T15:04:33.185Z"
   },
   {
    "duration": 947,
    "start_time": "2023-02-12T15:04:33.558Z"
   },
   {
    "duration": 51,
    "start_time": "2023-02-12T15:04:34.507Z"
   },
   {
    "duration": 22343,
    "start_time": "2023-02-12T15:04:34.560Z"
   },
   {
    "duration": 289,
    "start_time": "2023-02-12T15:04:56.904Z"
   },
   {
    "duration": 52573,
    "start_time": "2023-02-12T15:04:57.202Z"
   },
   {
    "duration": 14941,
    "start_time": "2023-02-12T15:05:49.777Z"
   },
   {
    "duration": 196,
    "start_time": "2023-02-12T15:06:04.720Z"
   },
   {
    "duration": 27577,
    "start_time": "2023-02-12T15:06:04.917Z"
   },
   {
    "duration": 3601,
    "start_time": "2023-02-12T15:06:32.496Z"
   },
   {
    "duration": 396,
    "start_time": "2023-02-12T15:06:36.099Z"
   },
   {
    "duration": 6,
    "start_time": "2023-02-12T15:06:36.496Z"
   },
   {
    "duration": 10,
    "start_time": "2023-02-12T15:06:36.503Z"
   },
   {
    "duration": 13,
    "start_time": "2023-02-12T15:06:36.514Z"
   },
   {
    "duration": 370,
    "start_time": "2023-02-12T15:06:36.529Z"
   }
  ],
  "kernelspec": {
   "display_name": "Python 3 (ipykernel)",
   "language": "python",
   "name": "python3"
  },
  "language_info": {
   "codemirror_mode": {
    "name": "ipython",
    "version": 3
   },
   "file_extension": ".py",
   "mimetype": "text/x-python",
   "name": "python",
   "nbconvert_exporter": "python",
   "pygments_lexer": "ipython3",
   "version": "3.9.12"
  },
  "toc": {
   "base_numbering": 1,
   "nav_menu": {},
   "number_sections": true,
   "sideBar": true,
   "skip_h1_title": true,
   "title_cell": "Table of Contents",
   "title_sidebar": "Contents",
   "toc_cell": false,
   "toc_position": {
    "height": "calc(100% - 180px)",
    "left": "10px",
    "top": "150px",
    "width": "426.641px"
   },
   "toc_section_display": true,
   "toc_window_display": true
  }
 },
 "nbformat": 4,
 "nbformat_minor": 2
}
