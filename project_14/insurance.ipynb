{
 "cells": [
  {
   "cell_type": "markdown",
   "metadata": {
    "toc": true
   },
   "source": [
    "<h1>Содержание<span class=\"tocSkip\"></span></h1>\n",
    "<div class=\"toc\"><ul class=\"toc-item\"><li><span><a href=\"#Загрузка-данных\" data-toc-modified-id=\"Загрузка-данных-1\"><span class=\"toc-item-num\">1&nbsp;&nbsp;</span>Загрузка данных</a></span></li><li><span><a href=\"#Умножение-матриц\" data-toc-modified-id=\"Умножение-матриц-2\"><span class=\"toc-item-num\">2&nbsp;&nbsp;</span>Умножение матриц</a></span></li><li><span><a href=\"#Алгоритм-преобразования\" data-toc-modified-id=\"Алгоритм-преобразования-3\"><span class=\"toc-item-num\">3&nbsp;&nbsp;</span>Алгоритм преобразования</a></span></li><li><span><a href=\"#Проверка-алгоритма\" data-toc-modified-id=\"Проверка-алгоритма-4\"><span class=\"toc-item-num\">4&nbsp;&nbsp;</span>Проверка алгоритма</a></span><ul class=\"toc-item\"><li><span><a href=\"#Линейная-регрессия-на-исходных-данных\" data-toc-modified-id=\"Линейная-регрессия-на-исходных-данных-4.1\"><span class=\"toc-item-num\">4.1&nbsp;&nbsp;</span>Линейная регрессия на исходных данных</a></span></li><li><span><a href=\"#Линейная-регрессия-на-преобразованных-данных\" data-toc-modified-id=\"Линейная-регрессия-на-преобразованных-данных-4.2\"><span class=\"toc-item-num\">4.2&nbsp;&nbsp;</span>Линейная регрессия на преобразованных данных</a></span></li></ul></li><li><span><a href=\"#Чек-лист-проверки\" data-toc-modified-id=\"Чек-лист-проверки-5\"><span class=\"toc-item-num\">5&nbsp;&nbsp;</span>Чек-лист проверки</a></span></li></ul></div>"
   ]
  },
  {
   "cell_type": "markdown",
   "metadata": {},
   "source": [
    "<div style=\"border:solid silver 2px; padding: 30px\">\n",
    "\n",
    "<h2>Защита персональных данных клиентов <a class=\"tocSkip\"> </h2> \n",
    "    \n",
    "Защита персональных данных клиентовВам нужно защитить данные клиентов страховой компании «Хоть потоп». Разработайте такой метод преобразования данных, чтобы по ним было сложно восстановить персональную информацию. Обоснуйте корректность его работы.\n",
    "\n",
    "Нужно защитить данные, чтобы при преобразовании качество моделей машинного обучения не ухудшилось. Подбирать наилучшую модель не требуется.\n",
    "    \n",
    "<strong>Цель исследования:</strong> Создание метода преобразования данных, чтобы по ним было сложно восстановить персональную информацию"
   ]
  },
  {
   "cell_type": "markdown",
   "metadata": {},
   "source": [
    "## Загрузка данных"
   ]
  },
  {
   "cell_type": "code",
   "execution_count": 1,
   "metadata": {},
   "outputs": [],
   "source": [
    "import pandas as pd\n",
    "import numpy as np\n",
    "\n",
    "# методы и метрики\n",
    "from sklearn.model_selection import train_test_split\n",
    "from sklearn.preprocessing import StandardScaler\n",
    "from sklearn.metrics import r2_score\n",
    "\n",
    "# модель\n",
    "from sklearn.linear_model import LinearRegression"
   ]
  },
  {
   "cell_type": "code",
   "execution_count": 2,
   "metadata": {},
   "outputs": [],
   "source": [
    "data = pd.read_csv('/datasets/insurance.csv')"
   ]
  },
  {
   "cell_type": "code",
   "execution_count": 3,
   "metadata": {},
   "outputs": [
    {
     "data": {
      "text/html": [
       "<div>\n",
       "<style scoped>\n",
       "    .dataframe tbody tr th:only-of-type {\n",
       "        vertical-align: middle;\n",
       "    }\n",
       "\n",
       "    .dataframe tbody tr th {\n",
       "        vertical-align: top;\n",
       "    }\n",
       "\n",
       "    .dataframe thead th {\n",
       "        text-align: right;\n",
       "    }\n",
       "</style>\n",
       "<table border=\"1\" class=\"dataframe\">\n",
       "  <thead>\n",
       "    <tr style=\"text-align: right;\">\n",
       "      <th></th>\n",
       "      <th>Пол</th>\n",
       "      <th>Возраст</th>\n",
       "      <th>Зарплата</th>\n",
       "      <th>Члены семьи</th>\n",
       "      <th>Страховые выплаты</th>\n",
       "    </tr>\n",
       "  </thead>\n",
       "  <tbody>\n",
       "    <tr>\n",
       "      <th>0</th>\n",
       "      <td>1</td>\n",
       "      <td>41.0</td>\n",
       "      <td>49600.0</td>\n",
       "      <td>1</td>\n",
       "      <td>0</td>\n",
       "    </tr>\n",
       "    <tr>\n",
       "      <th>1</th>\n",
       "      <td>0</td>\n",
       "      <td>46.0</td>\n",
       "      <td>38000.0</td>\n",
       "      <td>1</td>\n",
       "      <td>1</td>\n",
       "    </tr>\n",
       "    <tr>\n",
       "      <th>2</th>\n",
       "      <td>0</td>\n",
       "      <td>29.0</td>\n",
       "      <td>21000.0</td>\n",
       "      <td>0</td>\n",
       "      <td>0</td>\n",
       "    </tr>\n",
       "    <tr>\n",
       "      <th>3</th>\n",
       "      <td>0</td>\n",
       "      <td>21.0</td>\n",
       "      <td>41700.0</td>\n",
       "      <td>2</td>\n",
       "      <td>0</td>\n",
       "    </tr>\n",
       "    <tr>\n",
       "      <th>4</th>\n",
       "      <td>1</td>\n",
       "      <td>28.0</td>\n",
       "      <td>26100.0</td>\n",
       "      <td>0</td>\n",
       "      <td>0</td>\n",
       "    </tr>\n",
       "    <tr>\n",
       "      <th>5</th>\n",
       "      <td>1</td>\n",
       "      <td>43.0</td>\n",
       "      <td>41000.0</td>\n",
       "      <td>2</td>\n",
       "      <td>1</td>\n",
       "    </tr>\n",
       "    <tr>\n",
       "      <th>6</th>\n",
       "      <td>1</td>\n",
       "      <td>39.0</td>\n",
       "      <td>39700.0</td>\n",
       "      <td>2</td>\n",
       "      <td>0</td>\n",
       "    </tr>\n",
       "    <tr>\n",
       "      <th>7</th>\n",
       "      <td>1</td>\n",
       "      <td>25.0</td>\n",
       "      <td>38600.0</td>\n",
       "      <td>4</td>\n",
       "      <td>0</td>\n",
       "    </tr>\n",
       "    <tr>\n",
       "      <th>8</th>\n",
       "      <td>1</td>\n",
       "      <td>36.0</td>\n",
       "      <td>49700.0</td>\n",
       "      <td>1</td>\n",
       "      <td>0</td>\n",
       "    </tr>\n",
       "    <tr>\n",
       "      <th>9</th>\n",
       "      <td>1</td>\n",
       "      <td>32.0</td>\n",
       "      <td>51700.0</td>\n",
       "      <td>1</td>\n",
       "      <td>0</td>\n",
       "    </tr>\n",
       "  </tbody>\n",
       "</table>\n",
       "</div>"
      ],
      "text/plain": [
       "   Пол  Возраст  Зарплата  Члены семьи  Страховые выплаты\n",
       "0    1     41.0   49600.0            1                  0\n",
       "1    0     46.0   38000.0            1                  1\n",
       "2    0     29.0   21000.0            0                  0\n",
       "3    0     21.0   41700.0            2                  0\n",
       "4    1     28.0   26100.0            0                  0\n",
       "5    1     43.0   41000.0            2                  1\n",
       "6    1     39.0   39700.0            2                  0\n",
       "7    1     25.0   38600.0            4                  0\n",
       "8    1     36.0   49700.0            1                  0\n",
       "9    1     32.0   51700.0            1                  0"
      ]
     },
     "metadata": {},
     "output_type": "display_data"
    },
    {
     "name": "stdout",
     "output_type": "stream",
     "text": [
      "<class 'pandas.core.frame.DataFrame'>\n",
      "RangeIndex: 5000 entries, 0 to 4999\n",
      "Data columns (total 5 columns):\n",
      " #   Column             Non-Null Count  Dtype  \n",
      "---  ------             --------------  -----  \n",
      " 0   Пол                5000 non-null   int64  \n",
      " 1   Возраст            5000 non-null   float64\n",
      " 2   Зарплата           5000 non-null   float64\n",
      " 3   Члены семьи        5000 non-null   int64  \n",
      " 4   Страховые выплаты  5000 non-null   int64  \n",
      "dtypes: float64(2), int64(3)\n",
      "memory usage: 195.4 KB\n"
     ]
    },
    {
     "data": {
      "text/plain": [
       "None"
      ]
     },
     "metadata": {},
     "output_type": "display_data"
    },
    {
     "data": {
      "text/html": [
       "<div>\n",
       "<style scoped>\n",
       "    .dataframe tbody tr th:only-of-type {\n",
       "        vertical-align: middle;\n",
       "    }\n",
       "\n",
       "    .dataframe tbody tr th {\n",
       "        vertical-align: top;\n",
       "    }\n",
       "\n",
       "    .dataframe thead th {\n",
       "        text-align: right;\n",
       "    }\n",
       "</style>\n",
       "<table border=\"1\" class=\"dataframe\">\n",
       "  <thead>\n",
       "    <tr style=\"text-align: right;\">\n",
       "      <th></th>\n",
       "      <th>Пол</th>\n",
       "      <th>Возраст</th>\n",
       "      <th>Зарплата</th>\n",
       "      <th>Члены семьи</th>\n",
       "      <th>Страховые выплаты</th>\n",
       "    </tr>\n",
       "  </thead>\n",
       "  <tbody>\n",
       "    <tr>\n",
       "      <th>count</th>\n",
       "      <td>5000.000000</td>\n",
       "      <td>5000.000000</td>\n",
       "      <td>5000.000000</td>\n",
       "      <td>5000.000000</td>\n",
       "      <td>5000.000000</td>\n",
       "    </tr>\n",
       "    <tr>\n",
       "      <th>mean</th>\n",
       "      <td>0.499000</td>\n",
       "      <td>30.952800</td>\n",
       "      <td>39916.360000</td>\n",
       "      <td>1.194200</td>\n",
       "      <td>0.148000</td>\n",
       "    </tr>\n",
       "    <tr>\n",
       "      <th>std</th>\n",
       "      <td>0.500049</td>\n",
       "      <td>8.440807</td>\n",
       "      <td>9900.083569</td>\n",
       "      <td>1.091387</td>\n",
       "      <td>0.463183</td>\n",
       "    </tr>\n",
       "    <tr>\n",
       "      <th>min</th>\n",
       "      <td>0.000000</td>\n",
       "      <td>18.000000</td>\n",
       "      <td>5300.000000</td>\n",
       "      <td>0.000000</td>\n",
       "      <td>0.000000</td>\n",
       "    </tr>\n",
       "    <tr>\n",
       "      <th>25%</th>\n",
       "      <td>0.000000</td>\n",
       "      <td>24.000000</td>\n",
       "      <td>33300.000000</td>\n",
       "      <td>0.000000</td>\n",
       "      <td>0.000000</td>\n",
       "    </tr>\n",
       "    <tr>\n",
       "      <th>50%</th>\n",
       "      <td>0.000000</td>\n",
       "      <td>30.000000</td>\n",
       "      <td>40200.000000</td>\n",
       "      <td>1.000000</td>\n",
       "      <td>0.000000</td>\n",
       "    </tr>\n",
       "    <tr>\n",
       "      <th>75%</th>\n",
       "      <td>1.000000</td>\n",
       "      <td>37.000000</td>\n",
       "      <td>46600.000000</td>\n",
       "      <td>2.000000</td>\n",
       "      <td>0.000000</td>\n",
       "    </tr>\n",
       "    <tr>\n",
       "      <th>max</th>\n",
       "      <td>1.000000</td>\n",
       "      <td>65.000000</td>\n",
       "      <td>79000.000000</td>\n",
       "      <td>6.000000</td>\n",
       "      <td>5.000000</td>\n",
       "    </tr>\n",
       "  </tbody>\n",
       "</table>\n",
       "</div>"
      ],
      "text/plain": [
       "               Пол      Возраст      Зарплата  Члены семьи  Страховые выплаты\n",
       "count  5000.000000  5000.000000   5000.000000  5000.000000        5000.000000\n",
       "mean      0.499000    30.952800  39916.360000     1.194200           0.148000\n",
       "std       0.500049     8.440807   9900.083569     1.091387           0.463183\n",
       "min       0.000000    18.000000   5300.000000     0.000000           0.000000\n",
       "25%       0.000000    24.000000  33300.000000     0.000000           0.000000\n",
       "50%       0.000000    30.000000  40200.000000     1.000000           0.000000\n",
       "75%       1.000000    37.000000  46600.000000     2.000000           0.000000\n",
       "max       1.000000    65.000000  79000.000000     6.000000           5.000000"
      ]
     },
     "metadata": {},
     "output_type": "display_data"
    },
    {
     "data": {
      "image/png": "[encoded data removed]",
      "text/plain": [
       "<Figure size 1080x1080 with 6 Axes>"
      ]
     },
     "metadata": {
      "needs_background": "light"
     },
     "output_type": "display_data"
    }
   ],
   "source": [
    "display(data.head(10))\n",
    "display(data.info())\n",
    "display(data.describe())\n",
    "data.hist(bins=20, figsize=(15, 15));"
   ]
  },
  {
   "cell_type": "markdown",
   "metadata": {},
   "source": [
    "<div style=\"border:solid silver 2px; padding: 30px\">\n",
    "\n",
    "<h2>Вывод: <a class=\"tocSkip\"> </h2> \n",
    "    \n",
    "* Всего в датасете 5 колонок и 5000 наблюдений\n",
    "* Данные выглядят качественно, пропусков и выбросов не наблюдается, названия столбцов обозначены в едином стиле. Единственное, что нужно исправить - это тип данных с дробного на целочисленный\n",
    "* Пол обозначен как 0 - женский и 1 - мужской, данные распределены равномерно\n",
    "* Минимальный возраст клиента – 18 лет, максимальный – 65. Средний возраст - 31 год\n",
    "* Средняя зарплата ~ 40 тысяч\n",
    "* Минимальное количество членов семьи 0 означает, что застрахованный проживает один, максимальное – 6\n",
    "* В целевом признаке, который содержит количество страховых выплат клиенту за последние 5 лет, минимальное значение 0 выплат, максимальное – 5 выплат, что скорее всего означает 1 выплату в год. Большинство клиентов еще не получило ни одной выплаты"
   ]
  },
  {
   "cell_type": "code",
   "execution_count": 4,
   "metadata": {},
   "outputs": [
    {
     "data": {
      "text/plain": [
       "Пол                  int64\n",
       "Возраст              int64\n",
       "Зарплата             int64\n",
       "Члены семьи          int64\n",
       "Страховые выплаты    int64\n",
       "dtype: object"
      ]
     },
     "execution_count": 4,
     "metadata": {},
     "output_type": "execute_result"
    }
   ],
   "source": [
    "# преобразуем тип данных\n",
    "data = data.astype('int')\n",
    "data.dtypes"
   ]
  },
  {
   "cell_type": "code",
   "execution_count": 5,
   "metadata": {},
   "outputs": [
    {
     "data": {
      "text/plain": [
       "153"
      ]
     },
     "execution_count": 5,
     "metadata": {},
     "output_type": "execute_result"
    }
   ],
   "source": [
    "# проверим наличие дубликатов\n",
    "data.duplicated().sum()"
   ]
  },
  {
   "cell_type": "code",
   "execution_count": 6,
   "metadata": {},
   "outputs": [
    {
     "data": {
      "text/html": [
       "<div>\n",
       "<style scoped>\n",
       "    .dataframe tbody tr th:only-of-type {\n",
       "        vertical-align: middle;\n",
       "    }\n",
       "\n",
       "    .dataframe tbody tr th {\n",
       "        vertical-align: top;\n",
       "    }\n",
       "\n",
       "    .dataframe thead th {\n",
       "        text-align: right;\n",
       "    }\n",
       "</style>\n",
       "<table border=\"1\" class=\"dataframe\">\n",
       "  <thead>\n",
       "    <tr style=\"text-align: right;\">\n",
       "      <th></th>\n",
       "      <th>Пол</th>\n",
       "      <th>Возраст</th>\n",
       "      <th>Зарплата</th>\n",
       "      <th>Члены семьи</th>\n",
       "      <th>Страховые выплаты</th>\n",
       "    </tr>\n",
       "  </thead>\n",
       "  <tbody>\n",
       "    <tr>\n",
       "      <th>1566</th>\n",
       "      <td>1</td>\n",
       "      <td>18</td>\n",
       "      <td>39800</td>\n",
       "      <td>2</td>\n",
       "      <td>0</td>\n",
       "    </tr>\n",
       "    <tr>\n",
       "      <th>2429</th>\n",
       "      <td>1</td>\n",
       "      <td>18</td>\n",
       "      <td>39800</td>\n",
       "      <td>2</td>\n",
       "      <td>0</td>\n",
       "    </tr>\n",
       "    <tr>\n",
       "      <th>2694</th>\n",
       "      <td>1</td>\n",
       "      <td>19</td>\n",
       "      <td>52600</td>\n",
       "      <td>0</td>\n",
       "      <td>0</td>\n",
       "    </tr>\n",
       "    <tr>\n",
       "      <th>712</th>\n",
       "      <td>1</td>\n",
       "      <td>19</td>\n",
       "      <td>52600</td>\n",
       "      <td>0</td>\n",
       "      <td>0</td>\n",
       "    </tr>\n",
       "    <tr>\n",
       "      <th>851</th>\n",
       "      <td>0</td>\n",
       "      <td>19</td>\n",
       "      <td>51700</td>\n",
       "      <td>0</td>\n",
       "      <td>0</td>\n",
       "    </tr>\n",
       "  </tbody>\n",
       "</table>\n",
       "</div>"
      ],
      "text/plain": [
       "      Пол  Возраст  Зарплата  Члены семьи  Страховые выплаты\n",
       "1566    1       18     39800            2                  0\n",
       "2429    1       18     39800            2                  0\n",
       "2694    1       19     52600            0                  0\n",
       "712     1       19     52600            0                  0\n",
       "851     0       19     51700            0                  0"
      ]
     },
     "execution_count": 6,
     "metadata": {},
     "output_type": "execute_result"
    }
   ],
   "source": [
    "data[data.duplicated(keep=False)].sort_values(by='Возраст').head()"
   ]
  },
  {
   "cell_type": "markdown",
   "metadata": {},
   "source": [
    "📌 Такие совпадения вполне вероятны, поэтому считать их дублями не будем и оставим как есть"
   ]
  },
  {
   "cell_type": "markdown",
   "metadata": {},
   "source": [
    "## Умножение матриц"
   ]
  },
  {
   "cell_type": "markdown",
   "metadata": {},
   "source": [
    "В этом задании вы можете записывать формулы в *Jupyter Notebook.*\n",
    "\n",
    "Чтобы записать формулу внутри текста, окружите её символами доллара \\\\$; если снаружи —  двойными символами \\\\$\\\\$. Эти формулы записываются на языке вёрстки *LaTeX.* \n",
    "\n",
    "Для примера мы записали формулы линейной регрессии. Можете их скопировать и отредактировать, чтобы решить задачу.\n",
    "\n",
    "Работать в *LaTeX* необязательно."
   ]
  },
  {
   "cell_type": "markdown",
   "metadata": {},
   "source": [
    "Обозначения:\n",
    "\n",
    "- $X$ — матрица признаков (нулевой столбец состоит из единиц)\n",
    "\n",
    "- $y$ — вектор целевого признака\n",
    "\n",
    "- $P$ — матрица, на которую умножаются признаки\n",
    "\n",
    "- $w$ — вектор весов линейной регрессии (нулевой элемент равен сдвигу)"
   ]
  },
  {
   "cell_type": "markdown",
   "metadata": {},
   "source": [
    "Предсказания:\n",
    "\n",
    "$$\n",
    "a = Xw\n",
    "$$\n",
    "\n",
    "Задача обучения:\n",
    "\n",
    "$$\n",
    "w = \\arg\\min_w MSE(Xw, y)\n",
    "$$\n",
    "\n",
    "Формула обучения:\n",
    "\n",
    "$$\n",
    "w = (X^T X)^{-1} X^T y\n",
    "$$"
   ]
  },
  {
   "cell_type": "markdown",
   "metadata": {},
   "source": [
    "**Вопрос:** Признаки $X$ умножают на обратимую матрицу $P$. Изменится ли качество линейной регрессии? (Её можно обучить заново)\n",
    "\n",
    "**Ответ:** Если матрица, на которую умножаются признаки, является обратимой, то качество линейной регрессии не изменится\n",
    "\n",
    "**Обоснование:** Чтобы преобразования данные матрицы признаков $X$ мы должны умножить ее на матрицу $P$, результат сохраним в матрице с обозначением $C$ (от слова \"cipher\"):\n",
    "$$\n",
    "C = XP\n",
    "$$\n",
    "\n",
    "Тогда формулы предсказания и обучения будут выглядеть следующим образом:\n",
    "\n",
    "$$\n",
    "a_c = C w_c\n",
    "$$\n",
    "\n",
    "$$\n",
    "w_c = (C^T C)^{-1} C^T y\n",
    "$$\n",
    "\n",
    "Подставим в формулу значение $C$:\n",
    "\n",
    "$$\n",
    "w_c = (XP^T XP)^{-1} XP^T y\n",
    "$$\n",
    "\n",
    "Раскроем скобки согласно теореме:\n",
    "\n",
    "📌 **Транспонированное произведение матриц равно произведению транспонированных матриц, взятых в обратном порядке**:\n",
    "\n",
    "$$\n",
    "(AB)^T = B^T A^T\n",
    "$$\n",
    "\n",
    "Тогда:\n",
    "\n",
    "$$\n",
    "w_c = (P^T X^T XP)^{-1} P^T X^T y\n",
    "$$\n",
    "\n",
    "📌 **Применим свойство обратной матрицы и порядка матричного умножения – обратное значение произведения обратимых матриц A и B с одинаковым числом строк и столбцов будет равно значению, полученному при умножении матриц, обратных исходным, то есть:**\n",
    "\n",
    "$$\n",
    "(AB)^{-1} = B^{-1} A^{-1}\n",
    "$$\n",
    "\n",
    "Тогда:\n",
    "\n",
    "$$\n",
    "w_c = P^{-1} (P^T X^T X)^{-1} P^T X^T y\n",
    "$$\n",
    "\n",
    "$$\n",
    "w_c = P^{-1} (X^T X)^{-1} (P^T)^{-1} P^TX^T y\n",
    "$$\n",
    "\n",
    "$P$ - матрица, на которую умножаются признаки, а $P^{-1}$ обратная к $P$ матрица, значит $P P^{-1} = P^{-1} P = E$, поэтому упростим полученное выражение:\n",
    "\n",
    "$$\n",
    "w_c = P^{-1} (X^T X)^{-1} E X^T y\n",
    "$$\n",
    "\n",
    "📌 **При умножении матрицы на согласованную по размерам единичную матрицу матрица не изменяется. Это означает, что в матричной алгебре единичная матрица играет роль единицы обычной алгебры.**\n",
    "\n",
    "Выражение после $P^{-1}$ равняется $w$ - исходному значению вектора весов линейной регрессии, поэтому заменим на более короткий вариант:\n",
    "\n",
    "$$\n",
    "w_c = P^{-1} w\n",
    "$$\n",
    "\n",
    "Согласно исходной формуле предсказания $a = Xw$ получим выражение:\n",
    "\n",
    "$$\n",
    "a_c = С w_c\n",
    "$$\n",
    "\n",
    "В которое подставим полученные нами выше значения:\n",
    "\n",
    "$$\n",
    "a_c = XP P^{-1} w\n",
    "$$\n",
    "\n",
    "Так как $P P^{-1} = E$:\n",
    "\n",
    "$$\n",
    "a_c = XE w\n",
    "$$\n",
    "\n",
    "Так как при умножении матрицы на согласованную по размерам единичную матрицу матрица не изменяется, то:\n",
    "\n",
    "$$\n",
    "a_c = X w\n",
    "$$\n",
    "\n",
    "Следовательно, $a = a_c$"
   ]
  },
  {
   "cell_type": "markdown",
   "metadata": {},
   "source": [
    "<div style=\"border:solid silver 2px; padding: 30px\">\n",
    "\n",
    "<h2>Вывод: <a class=\"tocSkip\"> </h2> \n",
    "    \n",
    "* Если матрица, на которую умножаются признаки, является обратимой, то качество линейной регрессии не изменится"
   ]
  },
  {
   "cell_type": "markdown",
   "metadata": {},
   "source": [
    "## Алгоритм преобразования"
   ]
  },
  {
   "cell_type": "markdown",
   "metadata": {},
   "source": [
    "**Алгоритм**\n",
    "\n",
    "1. Разбивка данных\n",
    "2. Обучение, получение предсказания и результата метрики r2_score модели линейной регрессии на исходных данных\n",
    "3. Создание случайной квадратной матрицы $C$ размера $nхn$, где $n$ - это количество признаков за исключением целевого\n",
    "4. Проверка матрицы $C$ на обратимость\n",
    "5. Умножение матрицы признаков на матрицу $C$\n",
    "6. Обучение, получение предсказания и результата метрики r2_score модели линейной регрессии на преобразованных данных\n",
    "7. Сравнение результатов метрики r2_score"
   ]
  },
  {
   "cell_type": "markdown",
   "metadata": {},
   "source": [
    "**Обоснование**\n",
    "\n",
    "Если матрица, на которую умножаются признаки, является обратимой, то качество линейной регрессии не изменится"
   ]
  },
  {
   "cell_type": "markdown",
   "metadata": {},
   "source": [
    "## Проверка алгоритма"
   ]
  },
  {
   "cell_type": "code",
   "execution_count": 7,
   "metadata": {},
   "outputs": [
    {
     "data": {
      "text/plain": [
       "True"
      ]
     },
     "execution_count": 7,
     "metadata": {},
     "output_type": "execute_result"
    }
   ],
   "source": [
    "features = data.drop(['Страховые выплаты'], axis=1)\n",
    "target = data['Страховые выплаты']\n",
    "\n",
    "# зафиксируем случайное значение для random_state\n",
    "SEED = 12345\n",
    "\n",
    "# разбиваем данные на обучающие и тестовые в пропорциях 75% / 25%\n",
    "features_train, features_test, target_train, target_test = train_test_split(features,\n",
    "                                                                            target,\n",
    "                                                                            test_size = 0.25,\n",
    "                                                                            random_state = SEED)\n",
    "# проверяем, что ничего не потеряли\n",
    "data.shape[0] == features_train.shape[0] + features_test.shape[0]"
   ]
  },
  {
   "cell_type": "markdown",
   "metadata": {},
   "source": [
    "###  Линейная регрессия на исходных данных"
   ]
  },
  {
   "cell_type": "code",
   "execution_count": 8,
   "metadata": {},
   "outputs": [],
   "source": [
    "model = LinearRegression()\n",
    "model.fit(features_train, target_train)\n",
    "prediction = model.predict(features_test)\n",
    "result = r2_score(target_test, prediction)"
   ]
  },
  {
   "cell_type": "markdown",
   "metadata": {},
   "source": [
    "### Линейная регрессия на преобразованных данных"
   ]
  },
  {
   "cell_type": "code",
   "execution_count": 9,
   "metadata": {},
   "outputs": [
    {
     "data": {
      "text/plain": [
       "array([[ 1.,  2.,  0., -1.],\n",
       "       [ 1., -1.,  1., -1.],\n",
       "       [-0., -1., -1., -2.],\n",
       "       [-0., -1.,  3., -2.]])"
      ]
     },
     "execution_count": 9,
     "metadata": {},
     "output_type": "execute_result"
    }
   ],
   "source": [
    "# из n вычтем целевой признак\n",
    "n = data.shape[1] - 1\n",
    "# создаем случайную матрицу размера nхn\n",
    "c = np.round(np.random.normal(size=(n, n)))\n",
    "c"
   ]
  },
  {
   "cell_type": "markdown",
   "metadata": {},
   "source": [
    "Теперь проверим созданную случайную матрицу на обратимость двумя способами:\n",
    "\n",
    "1. Если матрица $C$ обратима, то результат умножения должен быть равен единичной матрице\n",
    "2. Квадратная матрица обратима тогда и только тогда, когда она невырождена, то есть её определитель не равен нулю"
   ]
  },
  {
   "cell_type": "code",
   "execution_count": 10,
   "metadata": {},
   "outputs": [
    {
     "name": "stdout",
     "output_type": "stream",
     "text": [
      "Матрица обратима. Произведение случайной матрицы и ее инверсии равно: \n",
      "\n",
      " [[ 1. -0.  0.  0.]\n",
      " [ 0.  1.  0.  0.]\n",
      " [ 0.  0.  1.  0.]\n",
      " [ 0.  0.  0.  1.]]\n"
     ]
    }
   ],
   "source": [
    "# вычисляем определитель матрицы\n",
    "det = np.linalg.det(c)\n",
    "\n",
    "if det == 0:\n",
    "    print(\"Матрица не является обратимой\")\n",
    "else:\n",
    "    print(\"Матрица обратима. Произведение случайной матрицы и ее инверсии равно: \\n\\n\",\n",
    "          np.round(c @ np.linalg.inv(c)))"
   ]
  },
  {
   "cell_type": "markdown",
   "metadata": {},
   "source": [
    "Мы получили единичную матрицу, значит матрицу $C$ можно использовать для проверки алгоритма"
   ]
  },
  {
   "cell_type": "code",
   "execution_count": 11,
   "metadata": {},
   "outputs": [
    {
     "data": {
      "text/plain": [
       "True"
      ]
     },
     "execution_count": 11,
     "metadata": {},
     "output_type": "execute_result"
    }
   ],
   "source": [
    "# умножим матрицу признаков на случайную матрицу\n",
    "features_train_c = features_train @ c\n",
    "features_test_c = features_test @ c\n",
    "\n",
    "# сравним размеры матриц\n",
    "features_train.shape[0] + features_test.shape[0] == features_train_c.shape[0] + features_test_c.shape[0]"
   ]
  },
  {
   "cell_type": "markdown",
   "metadata": {},
   "source": [
    "Для декодирования данных нужно использовать матрицу, обратную $C$"
   ]
  },
  {
   "cell_type": "code",
   "execution_count": 42,
   "metadata": {
    "scrolled": false
   },
   "outputs": [
    {
     "data": {
      "text/html": [
       "<div>\n",
       "<style scoped>\n",
       "    .dataframe tbody tr th:only-of-type {\n",
       "        vertical-align: middle;\n",
       "    }\n",
       "\n",
       "    .dataframe tbody tr th {\n",
       "        vertical-align: top;\n",
       "    }\n",
       "\n",
       "    .dataframe thead th {\n",
       "        text-align: right;\n",
       "    }\n",
       "</style>\n",
       "<table border=\"1\" class=\"dataframe\">\n",
       "  <thead>\n",
       "    <tr style=\"text-align: right;\">\n",
       "      <th></th>\n",
       "      <th>0</th>\n",
       "      <th>1</th>\n",
       "      <th>2</th>\n",
       "      <th>3</th>\n",
       "    </tr>\n",
       "  </thead>\n",
       "  <tbody>\n",
       "    <tr>\n",
       "      <th>3369</th>\n",
       "      <td>1</td>\n",
       "      <td>42</td>\n",
       "      <td>36200</td>\n",
       "      <td>1</td>\n",
       "    </tr>\n",
       "    <tr>\n",
       "      <th>1441</th>\n",
       "      <td>1</td>\n",
       "      <td>33</td>\n",
       "      <td>57600</td>\n",
       "      <td>0</td>\n",
       "    </tr>\n",
       "    <tr>\n",
       "      <th>571</th>\n",
       "      <td>0</td>\n",
       "      <td>32</td>\n",
       "      <td>41100</td>\n",
       "      <td>0</td>\n",
       "    </tr>\n",
       "  </tbody>\n",
       "</table>\n",
       "</div>"
      ],
      "text/plain": [
       "      0   1      2  3\n",
       "3369  1  42  36200  1\n",
       "1441  1  33  57600  0\n",
       "571   0  32  41100  0"
      ]
     },
     "metadata": {},
     "output_type": "display_data"
    },
    {
     "data": {
      "text/html": [
       "<div>\n",
       "<style scoped>\n",
       "    .dataframe tbody tr th:only-of-type {\n",
       "        vertical-align: middle;\n",
       "    }\n",
       "\n",
       "    .dataframe tbody tr th {\n",
       "        vertical-align: top;\n",
       "    }\n",
       "\n",
       "    .dataframe thead th {\n",
       "        text-align: right;\n",
       "    }\n",
       "</style>\n",
       "<table border=\"1\" class=\"dataframe\">\n",
       "  <thead>\n",
       "    <tr style=\"text-align: right;\">\n",
       "      <th></th>\n",
       "      <th>0</th>\n",
       "      <th>1</th>\n",
       "      <th>2</th>\n",
       "      <th>3</th>\n",
       "    </tr>\n",
       "  </thead>\n",
       "  <tbody>\n",
       "    <tr>\n",
       "      <th>3183</th>\n",
       "      <td>0</td>\n",
       "      <td>32</td>\n",
       "      <td>39000</td>\n",
       "      <td>4</td>\n",
       "    </tr>\n",
       "    <tr>\n",
       "      <th>1071</th>\n",
       "      <td>0</td>\n",
       "      <td>50</td>\n",
       "      <td>43100</td>\n",
       "      <td>1</td>\n",
       "    </tr>\n",
       "    <tr>\n",
       "      <th>2640</th>\n",
       "      <td>0</td>\n",
       "      <td>39</td>\n",
       "      <td>42100</td>\n",
       "      <td>0</td>\n",
       "    </tr>\n",
       "  </tbody>\n",
       "</table>\n",
       "</div>"
      ],
      "text/plain": [
       "      0   1      2  3\n",
       "3183  0  32  39000  4\n",
       "1071  0  50  43100  1\n",
       "2640  0  39  42100  0"
      ]
     },
     "metadata": {},
     "output_type": "display_data"
    }
   ],
   "source": [
    "# декодируем путем умножения матрицы признаков на матрицу, обратную 𝐶\n",
    "features_train_decoded = features_train_c @ np.linalg.inv(c)\n",
    "features_test_decoded = features_test_c @ np.linalg.inv(c)\n",
    "\n",
    "# проверяем данные\n",
    "display(features_train_decoded.astype(int).head(3))\n",
    "display(features_test_decoded.astype(int).head(3))"
   ]
  },
  {
   "cell_type": "code",
   "execution_count": 13,
   "metadata": {},
   "outputs": [],
   "source": [
    "model_с = LinearRegression()\n",
    "model.fit(features_train_c, target_train)\n",
    "prediction = model.predict(features_test_c)\n",
    "result_с = r2_score(target_test, prediction)"
   ]
  },
  {
   "cell_type": "code",
   "execution_count": 14,
   "metadata": {},
   "outputs": [
    {
     "data": {
      "text/html": [
       "<div>\n",
       "<style scoped>\n",
       "    .dataframe tbody tr th:only-of-type {\n",
       "        vertical-align: middle;\n",
       "    }\n",
       "\n",
       "    .dataframe tbody tr th {\n",
       "        vertical-align: top;\n",
       "    }\n",
       "\n",
       "    .dataframe thead th {\n",
       "        text-align: right;\n",
       "    }\n",
       "</style>\n",
       "<table border=\"1\" class=\"dataframe\">\n",
       "  <thead>\n",
       "    <tr style=\"text-align: right;\">\n",
       "      <th></th>\n",
       "      <th>r2_score на исходных данных</th>\n",
       "      <th>r2_score на преобразованных данных</th>\n",
       "    </tr>\n",
       "  </thead>\n",
       "  <tbody>\n",
       "    <tr>\n",
       "      <th>0</th>\n",
       "      <td>0.435228</td>\n",
       "      <td>0.435228</td>\n",
       "    </tr>\n",
       "  </tbody>\n",
       "</table>\n",
       "</div>"
      ],
      "text/plain": [
       "   r2_score на исходных данных  r2_score на преобразованных данных\n",
       "0                     0.435228                            0.435228"
      ]
     },
     "execution_count": 14,
     "metadata": {},
     "output_type": "execute_result"
    }
   ],
   "source": [
    "table = pd.DataFrame({\n",
    "    'r2_score на исходных данных': [result],\n",
    "    'r2_score на преобразованных данных': [result_с]\n",
    "})\n",
    "\n",
    "table"
   ]
  },
  {
   "cell_type": "markdown",
   "metadata": {},
   "source": [
    "<div style=\"border:solid silver 2px; padding: 30px\">\n",
    "\n",
    "<h2>Вывод: <a class=\"tocSkip\"> </h2>\n",
    "    \n",
    "Качество модели на исходных данных и на преобразованных осталось неизменным, что подтверждает полученный ранее вывод о том, что если матрица, на которую умножаются признаки, является обратимой, то качество линейной регрессии не изменится"
   ]
  },
  {
   "cell_type": "markdown",
   "metadata": {},
   "source": [
    "<div style=\"border:solid green 2px; padding: 30px\">\n",
    "\n",
    "<h2>Общий вывод: <a class=\"tocSkip\"> </h2>\n",
    "    \n",
    "* Определили, что всего в датасете 5 колонок и 5000 наблюдений, в котором данные выглядят качественно, пропусков и выбросов не наблюдается, названия столбцов обозначены в едином стиле. Единственное, что исправили - это тип данных с дробного на целочисленный\n",
    "* Получили ответ на вопрос об умножении матриц\n",
    "* Определили алгоритм преобразования данных\n",
    "* Мы доказали, что если матрица, на которую умножаются признаки, является обратимой, то качество линейной регрессии не изменится и проверили данный вывод на результатах метрики R2 модели линейной регрессии, обученной на исходных и преобразованных данных\n",
    "* Исходя из вышеизложенного, можем порекомендовать страховой компании «Хоть потоп» воспользоваться полученным методом преобразования данных, по которым будет сложно восстановить персональную информацию, суть которого заключается в умножении матрицы признаков на квадратную обратимую матрицу. При использовании данного метода не нужно будет передавать личные данные в незащищенном виде"
   ]
  },
  {
   "cell_type": "markdown",
   "metadata": {},
   "source": [
    "## Чек-лист проверки"
   ]
  },
  {
   "cell_type": "markdown",
   "metadata": {},
   "source": [
    "Поставьте 'x' в выполненных пунктах. Далее нажмите Shift+Enter."
   ]
  },
  {
   "cell_type": "markdown",
   "metadata": {},
   "source": [
    "- [x]  Jupyter Notebook открыт\n",
    "- [x]  Весь код выполняется без ошибок\n",
    "- [x]  Ячейки с кодом расположены в порядке исполнения\n",
    "- [x]  Выполнен шаг 1: данные загружены\n",
    "- [x]  Выполнен шаг 2: получен ответ на вопрос об умножении матриц\n",
    "    - [x]  Указан правильный вариант ответа\n",
    "    - [x]  Вариант обоснован\n",
    "- [x]  Выполнен шаг 3: предложен алгоритм преобразования\n",
    "    - [x]  Алгоритм описан\n",
    "    - [x]  Алгоритм обоснован\n",
    "- [x]  Выполнен шаг 4: алгоритм проверен\n",
    "    - [x]  Алгоритм реализован\n",
    "    - [x]  Проведено сравнение качества моделей до и после преобразования"
   ]
  }
 ],
 "metadata": {
  "ExecuteTimeLog": [
   {
    "duration": 350,
    "start_time": "2023-01-21T08:19:59.896Z"
   },
   {
    "duration": 88,
    "start_time": "2023-01-21T08:20:26.381Z"
   },
   {
    "duration": 42,
    "start_time": "2023-01-21T08:21:04.022Z"
   },
   {
    "duration": 637,
    "start_time": "2023-01-21T08:33:27.068Z"
   },
   {
    "duration": 3,
    "start_time": "2023-01-21T08:33:42.737Z"
   },
   {
    "duration": 3,
    "start_time": "2023-01-21T08:33:58.393Z"
   },
   {
    "duration": 3,
    "start_time": "2023-01-21T08:34:32.048Z"
   },
   {
    "duration": 11,
    "start_time": "2023-01-21T08:34:36.601Z"
   },
   {
    "duration": 91,
    "start_time": "2023-01-21T08:35:23.437Z"
   },
   {
    "duration": 6,
    "start_time": "2023-01-21T08:35:26.957Z"
   },
   {
    "duration": 5,
    "start_time": "2023-01-21T08:35:31.545Z"
   },
   {
    "duration": 34,
    "start_time": "2023-01-21T08:43:29.357Z"
   },
   {
    "duration": 32,
    "start_time": "2023-01-21T08:45:51.174Z"
   },
   {
    "duration": 31,
    "start_time": "2023-01-21T08:45:54.952Z"
   },
   {
    "duration": 6,
    "start_time": "2023-01-21T09:03:14.150Z"
   },
   {
    "duration": 10,
    "start_time": "2023-01-21T09:03:24.648Z"
   },
   {
    "duration": 291,
    "start_time": "2023-01-21T09:03:28.935Z"
   },
   {
    "duration": 6,
    "start_time": "2023-01-21T09:03:33.297Z"
   },
   {
    "duration": 6,
    "start_time": "2023-01-21T09:03:54.643Z"
   },
   {
    "duration": 5,
    "start_time": "2023-01-21T09:05:08.813Z"
   },
   {
    "duration": 6,
    "start_time": "2023-01-21T09:10:12.856Z"
   },
   {
    "duration": 5,
    "start_time": "2023-01-21T09:10:22.908Z"
   },
   {
    "duration": 673,
    "start_time": "2023-01-21T09:11:47.197Z"
   },
   {
    "duration": 51,
    "start_time": "2023-01-21T09:11:55.978Z"
   },
   {
    "duration": 869,
    "start_time": "2023-01-21T09:12:50.483Z"
   },
   {
    "duration": 533,
    "start_time": "2023-01-21T09:13:09.982Z"
   },
   {
    "duration": 577,
    "start_time": "2023-01-21T09:13:16.153Z"
   },
   {
    "duration": 775,
    "start_time": "2023-01-21T09:13:22.488Z"
   },
   {
    "duration": 666,
    "start_time": "2023-01-21T09:15:44.788Z"
   },
   {
    "duration": 657,
    "start_time": "2023-01-21T09:16:00.805Z"
   },
   {
    "duration": 8,
    "start_time": "2023-01-21T09:18:12.263Z"
   },
   {
    "duration": 6,
    "start_time": "2023-01-21T09:18:16.406Z"
   },
   {
    "duration": 7,
    "start_time": "2023-01-21T09:20:47.033Z"
   },
   {
    "duration": 6,
    "start_time": "2023-01-21T09:20:49.767Z"
   },
   {
    "duration": 7,
    "start_time": "2023-01-21T09:20:50.007Z"
   },
   {
    "duration": 7,
    "start_time": "2023-01-21T09:20:53.996Z"
   },
   {
    "duration": 7,
    "start_time": "2023-01-21T09:21:30.801Z"
   },
   {
    "duration": 10,
    "start_time": "2023-01-21T09:21:41.549Z"
   },
   {
    "duration": 9,
    "start_time": "2023-01-21T09:23:17.925Z"
   },
   {
    "duration": 1237,
    "start_time": "2023-01-21T09:23:29.513Z"
   },
   {
    "duration": 27,
    "start_time": "2023-01-21T09:23:30.752Z"
   },
   {
    "duration": 1452,
    "start_time": "2023-01-21T09:23:30.780Z"
   },
   {
    "duration": 6,
    "start_time": "2023-01-21T09:23:32.234Z"
   },
   {
    "duration": 13,
    "start_time": "2023-01-21T09:23:32.242Z"
   },
   {
    "duration": 20,
    "start_time": "2023-01-21T09:23:32.256Z"
   },
   {
    "duration": 11,
    "start_time": "2023-01-21T09:23:40.258Z"
   },
   {
    "duration": 9,
    "start_time": "2023-01-21T09:23:48.254Z"
   },
   {
    "duration": 8,
    "start_time": "2023-01-21T09:25:49.908Z"
   },
   {
    "duration": 7,
    "start_time": "2023-01-21T09:25:58.638Z"
   },
   {
    "duration": 1273,
    "start_time": "2023-01-21T09:26:03.297Z"
   },
   {
    "duration": 67,
    "start_time": "2023-01-21T09:26:04.572Z"
   },
   {
    "duration": 1284,
    "start_time": "2023-01-21T09:26:04.641Z"
   },
   {
    "duration": 12,
    "start_time": "2023-01-21T09:26:05.926Z"
   },
   {
    "duration": 8,
    "start_time": "2023-01-21T09:26:05.940Z"
   },
   {
    "duration": 19,
    "start_time": "2023-01-21T09:26:05.949Z"
   },
   {
    "duration": 9,
    "start_time": "2023-01-21T09:26:05.970Z"
   },
   {
    "duration": 75,
    "start_time": "2023-01-21T09:26:45.422Z"
   },
   {
    "duration": 100,
    "start_time": "2023-01-21T09:26:54.472Z"
   },
   {
    "duration": 8,
    "start_time": "2023-01-21T09:27:05.842Z"
   },
   {
    "duration": 1488,
    "start_time": "2023-01-21T09:27:10.471Z"
   },
   {
    "duration": 24,
    "start_time": "2023-01-21T09:27:11.961Z"
   },
   {
    "duration": 1361,
    "start_time": "2023-01-21T09:27:11.987Z"
   },
   {
    "duration": 6,
    "start_time": "2023-01-21T09:27:13.350Z"
   },
   {
    "duration": 29,
    "start_time": "2023-01-21T09:27:13.357Z"
   },
   {
    "duration": 10,
    "start_time": "2023-01-21T09:27:13.388Z"
   },
   {
    "duration": 7,
    "start_time": "2023-01-21T09:27:13.399Z"
   },
   {
    "duration": 9,
    "start_time": "2023-01-21T09:27:45.703Z"
   },
   {
    "duration": 3,
    "start_time": "2023-01-21T09:27:55.287Z"
   },
   {
    "duration": 1633,
    "start_time": "2023-01-21T09:27:59.626Z"
   },
   {
    "duration": 25,
    "start_time": "2023-01-21T09:28:01.261Z"
   },
   {
    "duration": 1888,
    "start_time": "2023-01-21T09:28:01.288Z"
   },
   {
    "duration": 60,
    "start_time": "2023-01-21T09:28:03.177Z"
   },
   {
    "duration": 12,
    "start_time": "2023-01-21T09:28:03.239Z"
   },
   {
    "duration": 16,
    "start_time": "2023-01-21T09:28:03.252Z"
   },
   {
    "duration": 4,
    "start_time": "2023-01-21T09:28:03.270Z"
   },
   {
    "duration": 12,
    "start_time": "2023-01-21T09:28:55.650Z"
   },
   {
    "duration": 13,
    "start_time": "2023-01-21T09:29:02.231Z"
   },
   {
    "duration": 12,
    "start_time": "2023-01-21T09:29:11.832Z"
   },
   {
    "duration": 10,
    "start_time": "2023-01-21T09:29:23.905Z"
   },
   {
    "duration": 10,
    "start_time": "2023-01-21T09:29:30.956Z"
   },
   {
    "duration": 9,
    "start_time": "2023-01-21T09:29:34.539Z"
   },
   {
    "duration": 10,
    "start_time": "2023-01-21T09:31:02.598Z"
   },
   {
    "duration": 101,
    "start_time": "2023-01-21T09:35:58.452Z"
   },
   {
    "duration": 3,
    "start_time": "2023-01-21T09:36:15.778Z"
   },
   {
    "duration": 5,
    "start_time": "2023-01-21T09:37:28.787Z"
   },
   {
    "duration": 8,
    "start_time": "2023-01-21T09:37:35.712Z"
   },
   {
    "duration": 10,
    "start_time": "2023-01-21T09:38:09.946Z"
   },
   {
    "duration": 9,
    "start_time": "2023-01-21T09:38:45.679Z"
   },
   {
    "duration": 6,
    "start_time": "2023-01-21T09:42:54.436Z"
   },
   {
    "duration": 9,
    "start_time": "2023-01-21T09:42:56.618Z"
   },
   {
    "duration": 11,
    "start_time": "2023-01-21T09:43:16.415Z"
   },
   {
    "duration": 10,
    "start_time": "2023-01-21T09:43:44.863Z"
   },
   {
    "duration": 986,
    "start_time": "2023-01-21T09:43:57.576Z"
   },
   {
    "duration": 24,
    "start_time": "2023-01-21T09:43:58.564Z"
   },
   {
    "duration": 1701,
    "start_time": "2023-01-21T09:43:58.589Z"
   },
   {
    "duration": 5,
    "start_time": "2023-01-21T09:44:00.292Z"
   },
   {
    "duration": 27,
    "start_time": "2023-01-21T09:44:00.299Z"
   },
   {
    "duration": 42,
    "start_time": "2023-01-21T09:44:00.328Z"
   },
   {
    "duration": 26,
    "start_time": "2023-01-21T09:44:00.371Z"
   },
   {
    "duration": 31,
    "start_time": "2023-01-21T09:44:00.399Z"
   },
   {
    "duration": 7,
    "start_time": "2023-01-21T09:45:15.210Z"
   },
   {
    "duration": 3,
    "start_time": "2023-01-21T12:04:25.682Z"
   },
   {
    "duration": 3,
    "start_time": "2023-01-21T12:23:51.140Z"
   },
   {
    "duration": 4,
    "start_time": "2023-01-21T12:23:51.397Z"
   },
   {
    "duration": 5,
    "start_time": "2023-01-21T12:24:01.905Z"
   },
   {
    "duration": 5,
    "start_time": "2023-01-21T12:24:13.964Z"
   },
   {
    "duration": 230,
    "start_time": "2023-01-21T12:25:11.861Z"
   },
   {
    "duration": 4,
    "start_time": "2023-01-21T12:25:17.647Z"
   },
   {
    "duration": 4,
    "start_time": "2023-01-21T12:25:25.722Z"
   },
   {
    "duration": 73,
    "start_time": "2023-01-21T12:25:57.913Z"
   },
   {
    "duration": 12,
    "start_time": "2023-01-21T12:26:00.630Z"
   },
   {
    "duration": 10,
    "start_time": "2023-01-21T12:26:13.682Z"
   },
   {
    "duration": 5,
    "start_time": "2023-01-21T12:26:23.681Z"
   },
   {
    "duration": 4,
    "start_time": "2023-01-21T12:27:30.442Z"
   },
   {
    "duration": 4,
    "start_time": "2023-01-21T12:28:07.102Z"
   },
   {
    "duration": 5,
    "start_time": "2023-01-21T12:28:12.660Z"
   },
   {
    "duration": 5,
    "start_time": "2023-01-21T12:32:17.249Z"
   },
   {
    "duration": 5,
    "start_time": "2023-01-21T12:32:17.973Z"
   },
   {
    "duration": 5,
    "start_time": "2023-01-21T12:33:55.535Z"
   },
   {
    "duration": 5,
    "start_time": "2023-01-21T12:34:58.900Z"
   },
   {
    "duration": 5,
    "start_time": "2023-01-21T12:35:01.547Z"
   },
   {
    "duration": 5,
    "start_time": "2023-01-21T12:36:25.057Z"
   },
   {
    "duration": 10,
    "start_time": "2023-01-21T12:44:30.275Z"
   },
   {
    "duration": 4,
    "start_time": "2023-01-21T12:44:39.726Z"
   },
   {
    "duration": 4,
    "start_time": "2023-01-21T12:44:40.008Z"
   },
   {
    "duration": 4,
    "start_time": "2023-01-21T12:44:48.166Z"
   },
   {
    "duration": 4,
    "start_time": "2023-01-21T12:45:10.276Z"
   },
   {
    "duration": 5,
    "start_time": "2023-01-21T12:45:49.833Z"
   },
   {
    "duration": 4,
    "start_time": "2023-01-21T12:46:02.898Z"
   },
   {
    "duration": 4,
    "start_time": "2023-01-21T12:46:07.154Z"
   },
   {
    "duration": 5,
    "start_time": "2023-01-21T12:46:28.052Z"
   },
   {
    "duration": 5,
    "start_time": "2023-01-21T12:48:29.351Z"
   },
   {
    "duration": 4,
    "start_time": "2023-01-21T12:48:55.839Z"
   },
   {
    "duration": 5,
    "start_time": "2023-01-21T12:48:58.757Z"
   },
   {
    "duration": 5,
    "start_time": "2023-01-21T12:49:01.694Z"
   },
   {
    "duration": 5,
    "start_time": "2023-01-21T12:49:07.630Z"
   },
   {
    "duration": 4,
    "start_time": "2023-01-21T12:49:16.957Z"
   },
   {
    "duration": 7,
    "start_time": "2023-01-21T12:49:22.408Z"
   },
   {
    "duration": 5,
    "start_time": "2023-01-21T12:49:28.835Z"
   },
   {
    "duration": 4,
    "start_time": "2023-01-21T12:50:14.884Z"
   },
   {
    "duration": 5,
    "start_time": "2023-01-21T12:50:17.737Z"
   },
   {
    "duration": 4,
    "start_time": "2023-01-21T12:50:29.543Z"
   },
   {
    "duration": 5,
    "start_time": "2023-01-21T12:50:32.681Z"
   },
   {
    "duration": 5,
    "start_time": "2023-01-21T12:50:34.601Z"
   },
   {
    "duration": 5,
    "start_time": "2023-01-21T12:50:39.039Z"
   },
   {
    "duration": 4,
    "start_time": "2023-01-21T12:50:53.909Z"
   },
   {
    "duration": 1494,
    "start_time": "2023-01-21T12:51:01.458Z"
   },
   {
    "duration": 28,
    "start_time": "2023-01-21T12:51:02.954Z"
   },
   {
    "duration": 1325,
    "start_time": "2023-01-21T12:51:02.984Z"
   },
   {
    "duration": 5,
    "start_time": "2023-01-21T12:51:04.311Z"
   },
   {
    "duration": 20,
    "start_time": "2023-01-21T12:51:04.318Z"
   },
   {
    "duration": 16,
    "start_time": "2023-01-21T12:51:04.340Z"
   },
   {
    "duration": 3,
    "start_time": "2023-01-21T12:51:04.358Z"
   },
   {
    "duration": 11,
    "start_time": "2023-01-21T12:51:04.364Z"
   },
   {
    "duration": 5,
    "start_time": "2023-01-21T12:51:04.377Z"
   },
   {
    "duration": 5,
    "start_time": "2023-01-21T12:51:04.385Z"
   },
   {
    "duration": 5,
    "start_time": "2023-01-21T12:51:25.252Z"
   },
   {
    "duration": 7,
    "start_time": "2023-01-21T12:56:18.960Z"
   },
   {
    "duration": 3,
    "start_time": "2023-01-21T13:00:49.863Z"
   },
   {
    "duration": 161,
    "start_time": "2023-01-21T13:01:53.215Z"
   },
   {
    "duration": 9,
    "start_time": "2023-01-21T13:03:44.626Z"
   },
   {
    "duration": 6,
    "start_time": "2023-01-21T13:09:34.331Z"
   },
   {
    "duration": 4,
    "start_time": "2023-01-21T13:09:37.655Z"
   },
   {
    "duration": 10,
    "start_time": "2023-01-21T13:09:41.306Z"
   },
   {
    "duration": 5,
    "start_time": "2023-01-21T13:09:50.293Z"
   },
   {
    "duration": 5,
    "start_time": "2023-01-21T13:09:52.629Z"
   },
   {
    "duration": 5,
    "start_time": "2023-01-21T13:09:54.841Z"
   },
   {
    "duration": 4,
    "start_time": "2023-01-21T13:10:05.343Z"
   },
   {
    "duration": 4,
    "start_time": "2023-01-21T13:10:10.128Z"
   },
   {
    "duration": 4,
    "start_time": "2023-01-21T13:10:31.595Z"
   },
   {
    "duration": 4,
    "start_time": "2023-01-21T13:10:33.444Z"
   },
   {
    "duration": 4,
    "start_time": "2023-01-21T13:10:46.661Z"
   },
   {
    "duration": 4,
    "start_time": "2023-01-21T13:10:51.514Z"
   },
   {
    "duration": 5,
    "start_time": "2023-01-21T13:11:46.931Z"
   },
   {
    "duration": 5,
    "start_time": "2023-01-21T13:12:54.487Z"
   },
   {
    "duration": 4,
    "start_time": "2023-01-21T13:13:41.935Z"
   },
   {
    "duration": 4,
    "start_time": "2023-01-21T13:13:48.822Z"
   },
   {
    "duration": 1342,
    "start_time": "2023-01-21T13:14:00.719Z"
   },
   {
    "duration": 27,
    "start_time": "2023-01-21T13:14:02.063Z"
   },
   {
    "duration": 1397,
    "start_time": "2023-01-21T13:14:02.092Z"
   },
   {
    "duration": 6,
    "start_time": "2023-01-21T13:14:03.490Z"
   },
   {
    "duration": 12,
    "start_time": "2023-01-21T13:14:03.498Z"
   },
   {
    "duration": 9,
    "start_time": "2023-01-21T13:14:03.512Z"
   },
   {
    "duration": 16,
    "start_time": "2023-01-21T13:14:03.523Z"
   },
   {
    "duration": 8,
    "start_time": "2023-01-21T13:14:03.541Z"
   },
   {
    "duration": 92,
    "start_time": "2023-01-21T13:14:03.551Z"
   },
   {
    "duration": 11,
    "start_time": "2023-01-21T13:14:03.645Z"
   },
   {
    "duration": 6,
    "start_time": "2023-01-21T13:14:28.316Z"
   },
   {
    "duration": 4,
    "start_time": "2023-01-21T13:14:47.091Z"
   },
   {
    "duration": 8,
    "start_time": "2023-01-21T13:15:17.778Z"
   },
   {
    "duration": 3,
    "start_time": "2023-01-21T13:17:33.256Z"
   },
   {
    "duration": 4,
    "start_time": "2023-01-21T13:18:02.467Z"
   },
   {
    "duration": 4,
    "start_time": "2023-01-21T13:18:16.337Z"
   },
   {
    "duration": 5,
    "start_time": "2023-01-21T13:18:24.047Z"
   },
   {
    "duration": 5,
    "start_time": "2023-01-21T13:18:28.047Z"
   },
   {
    "duration": 8,
    "start_time": "2023-01-21T13:19:08.682Z"
   },
   {
    "duration": 95,
    "start_time": "2023-01-21T13:20:56.005Z"
   },
   {
    "duration": 8,
    "start_time": "2023-01-21T13:21:00.998Z"
   },
   {
    "duration": 13,
    "start_time": "2023-01-21T13:21:03.002Z"
   },
   {
    "duration": 9,
    "start_time": "2023-01-21T13:21:03.231Z"
   },
   {
    "duration": 13,
    "start_time": "2023-01-21T13:21:33.138Z"
   },
   {
    "duration": 12,
    "start_time": "2023-01-21T13:21:37.959Z"
   },
   {
    "duration": 12,
    "start_time": "2023-01-21T13:23:25.625Z"
   },
   {
    "duration": 1623,
    "start_time": "2023-01-21T13:23:40.042Z"
   },
   {
    "duration": 70,
    "start_time": "2023-01-21T13:23:41.667Z"
   },
   {
    "duration": 1901,
    "start_time": "2023-01-21T13:23:41.739Z"
   },
   {
    "duration": 5,
    "start_time": "2023-01-21T13:23:43.642Z"
   },
   {
    "duration": 7,
    "start_time": "2023-01-21T13:23:43.649Z"
   },
   {
    "duration": 12,
    "start_time": "2023-01-21T13:23:43.658Z"
   },
   {
    "duration": 10,
    "start_time": "2023-01-21T13:23:43.671Z"
   },
   {
    "duration": 8,
    "start_time": "2023-01-21T13:23:43.683Z"
   },
   {
    "duration": 49,
    "start_time": "2023-01-21T13:23:43.693Z"
   },
   {
    "duration": 10,
    "start_time": "2023-01-21T13:23:43.744Z"
   },
   {
    "duration": 89,
    "start_time": "2023-01-21T13:23:43.756Z"
   },
   {
    "duration": 9,
    "start_time": "2023-01-21T13:23:43.847Z"
   },
   {
    "duration": 103,
    "start_time": "2023-01-21T13:23:43.857Z"
   },
   {
    "duration": 8,
    "start_time": "2023-01-21T13:23:58.976Z"
   },
   {
    "duration": 7,
    "start_time": "2023-01-21T13:24:08.727Z"
   },
   {
    "duration": 5,
    "start_time": "2023-01-21T13:24:28.562Z"
   },
   {
    "duration": 8,
    "start_time": "2023-01-21T13:24:31.671Z"
   },
   {
    "duration": 9,
    "start_time": "2023-01-21T13:24:58.700Z"
   },
   {
    "duration": 7,
    "start_time": "2023-01-21T13:25:23.039Z"
   },
   {
    "duration": 10,
    "start_time": "2023-01-21T13:25:58.451Z"
   },
   {
    "duration": 10,
    "start_time": "2023-01-21T13:26:18.598Z"
   },
   {
    "duration": 7,
    "start_time": "2023-01-21T13:33:58.244Z"
   },
   {
    "duration": 6,
    "start_time": "2023-01-21T13:39:18.650Z"
   },
   {
    "duration": 8,
    "start_time": "2023-01-21T13:40:13.017Z"
   },
   {
    "duration": 5,
    "start_time": "2023-01-21T13:40:26.225Z"
   },
   {
    "duration": 8,
    "start_time": "2023-01-21T13:41:02.725Z"
   },
   {
    "duration": 7,
    "start_time": "2023-01-21T13:57:16.388Z"
   },
   {
    "duration": 8,
    "start_time": "2023-01-21T13:57:19.204Z"
   },
   {
    "duration": 5,
    "start_time": "2023-01-21T13:57:20.088Z"
   },
   {
    "duration": 5,
    "start_time": "2023-01-21T13:57:20.429Z"
   },
   {
    "duration": 5,
    "start_time": "2023-01-21T13:57:20.889Z"
   },
   {
    "duration": 8,
    "start_time": "2023-01-21T13:57:21.054Z"
   },
   {
    "duration": 8,
    "start_time": "2023-01-21T13:57:21.593Z"
   },
   {
    "duration": 10,
    "start_time": "2023-01-21T13:58:35.992Z"
   },
   {
    "duration": 7,
    "start_time": "2023-01-21T13:59:39.104Z"
   },
   {
    "duration": 1090,
    "start_time": "2023-01-21T14:14:22.308Z"
   },
   {
    "duration": 25,
    "start_time": "2023-01-21T14:14:23.399Z"
   },
   {
    "duration": 1000,
    "start_time": "2023-01-21T14:14:23.426Z"
   },
   {
    "duration": 10,
    "start_time": "2023-01-21T14:14:24.428Z"
   },
   {
    "duration": 22,
    "start_time": "2023-01-21T14:14:24.441Z"
   },
   {
    "duration": 24,
    "start_time": "2023-01-21T14:14:24.465Z"
   },
   {
    "duration": 15,
    "start_time": "2023-01-21T14:14:24.491Z"
   },
   {
    "duration": 21,
    "start_time": "2023-01-21T14:14:24.508Z"
   },
   {
    "duration": 14,
    "start_time": "2023-01-21T14:14:24.531Z"
   },
   {
    "duration": 21,
    "start_time": "2023-01-21T14:14:24.547Z"
   },
   {
    "duration": 8,
    "start_time": "2023-01-21T14:14:24.570Z"
   },
   {
    "duration": 157,
    "start_time": "2023-01-21T14:14:24.580Z"
   },
   {
    "duration": 23,
    "start_time": "2023-01-21T14:14:24.739Z"
   },
   {
    "duration": 46,
    "start_time": "2023-01-21T16:43:18.353Z"
   },
   {
    "duration": 1465,
    "start_time": "2023-01-21T16:43:25.506Z"
   },
   {
    "duration": 113,
    "start_time": "2023-01-21T16:43:26.973Z"
   },
   {
    "duration": 1604,
    "start_time": "2023-01-21T16:43:27.088Z"
   },
   {
    "duration": 6,
    "start_time": "2023-01-21T16:43:28.695Z"
   },
   {
    "duration": 7,
    "start_time": "2023-01-21T16:43:28.703Z"
   },
   {
    "duration": 10,
    "start_time": "2023-01-21T16:43:28.712Z"
   },
   {
    "duration": 31,
    "start_time": "2023-01-21T16:43:28.723Z"
   },
   {
    "duration": 10,
    "start_time": "2023-01-21T16:43:28.755Z"
   },
   {
    "duration": 191,
    "start_time": "2023-01-21T16:43:28.768Z"
   },
   {
    "duration": 18,
    "start_time": "2023-01-21T16:43:28.961Z"
   },
   {
    "duration": 208,
    "start_time": "2023-01-21T16:43:28.981Z"
   },
   {
    "duration": 36,
    "start_time": "2023-01-21T16:43:29.191Z"
   },
   {
    "duration": 124,
    "start_time": "2023-01-21T16:43:29.229Z"
   },
   {
    "duration": 20,
    "start_time": "2023-01-21T16:43:29.355Z"
   },
   {
    "duration": 10,
    "start_time": "2023-01-21T16:43:55.007Z"
   },
   {
    "duration": 8,
    "start_time": "2023-01-21T16:44:09.137Z"
   },
   {
    "duration": 1255,
    "start_time": "2023-01-21T16:45:15.945Z"
   },
   {
    "duration": 7,
    "start_time": "2023-01-21T16:45:20.605Z"
   },
   {
    "duration": 5,
    "start_time": "2023-01-21T16:49:03.612Z"
   },
   {
    "duration": 10,
    "start_time": "2023-01-21T16:49:15.572Z"
   },
   {
    "duration": 21,
    "start_time": "2023-01-21T16:49:50.311Z"
   },
   {
    "duration": 25,
    "start_time": "2023-01-21T16:49:57.945Z"
   },
   {
    "duration": 18,
    "start_time": "2023-01-21T16:50:09.355Z"
   },
   {
    "duration": 17,
    "start_time": "2023-01-21T16:53:47.045Z"
   },
   {
    "duration": 15,
    "start_time": "2023-01-21T16:56:10.512Z"
   },
   {
    "duration": 17,
    "start_time": "2023-01-21T16:56:31.333Z"
   },
   {
    "duration": 21,
    "start_time": "2023-01-21T16:56:43.121Z"
   },
   {
    "duration": 104,
    "start_time": "2023-01-21T16:56:58.052Z"
   },
   {
    "duration": 21,
    "start_time": "2023-01-21T16:57:11.573Z"
   },
   {
    "duration": 21,
    "start_time": "2023-01-21T16:57:19.442Z"
   },
   {
    "duration": 15,
    "start_time": "2023-01-21T16:57:34.458Z"
   },
   {
    "duration": 20,
    "start_time": "2023-01-21T16:57:45.928Z"
   },
   {
    "duration": 13,
    "start_time": "2023-01-21T16:59:33.048Z"
   },
   {
    "duration": 15,
    "start_time": "2023-01-21T16:59:55.233Z"
   },
   {
    "duration": 14,
    "start_time": "2023-01-21T17:00:04.294Z"
   },
   {
    "duration": 19,
    "start_time": "2023-01-21T17:00:09.829Z"
   },
   {
    "duration": 20,
    "start_time": "2023-01-21T17:00:37.529Z"
   },
   {
    "duration": 15,
    "start_time": "2023-01-21T17:00:56.255Z"
   },
   {
    "duration": 14,
    "start_time": "2023-01-21T17:01:12.085Z"
   },
   {
    "duration": 23,
    "start_time": "2023-01-21T17:01:23.027Z"
   },
   {
    "duration": 17,
    "start_time": "2023-01-21T17:02:39.885Z"
   },
   {
    "duration": 16,
    "start_time": "2023-01-21T17:02:45.576Z"
   }
  ],
  "kernelspec": {
   "display_name": "Python 3 (ipykernel)",
   "language": "python",
   "name": "python3"
  },
  "language_info": {
   "codemirror_mode": {
    "name": "ipython",
    "version": 3
   },
   "file_extension": ".py",
   "mimetype": "text/x-python",
   "name": "python",
   "nbconvert_exporter": "python",
   "pygments_lexer": "ipython3",
   "version": "3.9.12"
  },
  "toc": {
   "base_numbering": 1,
   "nav_menu": {},
   "number_sections": true,
   "sideBar": true,
   "skip_h1_title": true,
   "title_cell": "Содержание",
   "title_sidebar": "Contents",
   "toc_cell": true,
   "toc_position": {
    "height": "calc(100% - 180px)",
    "left": "10px",
    "top": "150px",
    "width": "312.889px"
   },
   "toc_section_display": true,
   "toc_window_display": true
  }
 },
 "nbformat": 4,
 "nbformat_minor": 2
}
