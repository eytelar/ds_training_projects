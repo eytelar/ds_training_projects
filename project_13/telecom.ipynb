{
 "cells": [
  {
   "cell_type": "markdown",
   "id": "38d82126",
   "metadata": {},
   "source": [
    "### Телеком — задача проекта\n",
    "\n",
    "Оператор связи «Ниединогоразрыва.ком» хочет научиться прогнозировать отток клиентов. Если выяснится, что пользователь планирует уйти, ему будут предложены промокоды и специальные условия. Команда оператора собрала персональные данные о некоторых клиентах, информацию об их тарифах и договорах.\n",
    "\n",
    "### Описание услуг\n",
    "\n",
    "Оператор предоставляет два основных типа услуг: \n",
    "\n",
    "1. Стационарную телефонную связь. Возможно подключение телефонного аппарата к нескольким линиям одновременно.\n",
    "2. Интернет. Подключение может быть двух типов: через телефонную линию (DSL*,* от англ. *digital subscriber line*, «цифровая абонентская линия») или оптоволоконный кабель (*Fiber optic*).\n",
    "\n",
    "Также доступны такие услуги:\n",
    "\n",
    "- Интернет-безопасность: антивирус (*DeviceProtection*) и блокировка небезопасных сайтов (*OnlineSecurity*);\n",
    "- Выделенная линия технической поддержки (*TechSupport*);\n",
    "- Облачное хранилище файлов для резервного копирования данных (*OnlineBackup*);\n",
    "- Стриминговое телевидение (*StreamingTV*) и каталог фильмов (*StreamingMovies*).\n",
    "\n",
    "За услуги клиенты могут платить каждый месяц или заключить договор на 1–2 года. Доступны различные способы расчёта и возможность получения электронного чека.\n",
    "\n",
    "### Описание данных\n",
    "\n",
    "Данные состоят из файлов, полученных из разных источников:\n",
    "\n",
    "- `contract_new.csv` — информация о договоре;\n",
    "- `personal_new.csv` — персональные данные клиента;\n",
    "- `internet_new.csv` — информация об интернет-услугах;\n",
    "- `phone_new.csv` — информация об услугах телефонии.\n",
    "\n",
    "Во всех файлах столбец `customerID` содержит код клиента.\n",
    "\n",
    "Информация о договорах актуальна на 1 февраля 2020.\n",
    "\n",
    "### Обозначения признаков\n",
    "\n",
    "* BeginDate – дата начала пользования услугами,\n",
    "* EndDate – дата окончания пользования услугами,\n",
    "* Type – тип оплаты: ежемесячный, годовой и тд,\n",
    "* PaperlessBilling – безналичный расчет,\n",
    "* PaymentMethod – способ оплаты,\n",
    "* MonthlyCharges – ежемесячные траты на услуги,\n",
    "* TotalCharges – всего потрачено денег на услуги\n",
    "* Dependents – наличие иждивенцев\n",
    "* Senior Citizen – наличие пенсионного статуса по возрасту\n",
    "* Partner – наличие супруга(и)\n",
    "* MultipleLines – наличие возможности ведения параллельных линий во время\n",
    "звонка"
   ]
  },
  {
   "cell_type": "markdown",
   "id": "773cf15f",
   "metadata": {},
   "source": [
    "### Цель проекта\n",
    "Выбрать модель для прогнозирования оттока клиентов, у которой AUC-ROC >= 0.85 и наибольшая accuracy.\n",
    "\n",
    "### План проекта\n",
    "#### 1. Загрузка библиотек и разведывательный анализ данных\n",
    "- Импорт библиотек\n",
    "- Просмотр краткой информации по датасетам\n",
    "- Проверка соблюдения единого стиля в наименованиях столбцов\n",
    "- Проверка соответствия типов данных реальным значениям\n",
    "- Выявление наличия / отсутствия пропусков и явных дубликатов в данных\n",
    "\n",
    "#### 2. Предобработка и исследовательский анализ данных\n",
    "- Приведение названий столбцов к стилю snake_case\n",
    "- Объединение таблиц в одну общую по столбцу customerID и обработка появившихся пропусков\n",
    "- Генерация новых признаков и добавление целевого признака на основе EndDate\n",
    "- Корректировка типов данных\n",
    "- Исследовательский анализ данных по лояльным и ушедшим клиентам\n",
    "- Проверка признаков на мультиколлинеарность\n",
    "- Определение константы RANDOM_STATE = 240423\n",
    "- Определение целевого признака и разделение данных на обучающую и тестовую выборки в соотношении 75% / 25%\n",
    "- Кодирование данных с помощью OneHotEncoder для избежания утечки\n",
    "\n",
    "#### 3. Обучение и выбор лучшей модели\n",
    "- Обучение и подбор оптимальных гиперпараметров на кросс-валидации для логистической регрессии, случайного леса и градиентного бустинга\n",
    "- Сравнение полученных результатов AUC-ROC и accuracy\n",
    "- Выбор модели по лучшим показателям\n",
    "\n",
    "#### 4. Проверка выбранной модели на тестовом наборе данных\n",
    "- Проверка качества модели на тестовом наборе данных\n",
    "- Проверка на адекватность с помощью константной модели\n",
    "\n",
    "#### 5. Итоговый вывод\n",
    "- Описание проделанной работы\n",
    "- Рекомендация для оператора связи «Ниединогоразрыва.ком»"
   ]
  },
  {
   "cell_type": "markdown",
   "id": "07e0c770",
   "metadata": {},
   "source": [
    "## Загрузка библиотек и разведывательный анализ данных"
   ]
  },
  {
   "cell_type": "code",
   "execution_count": 1,
   "id": "d5802076",
   "metadata": {},
   "outputs": [
    {
     "name": "stdout",
     "output_type": "stream",
     "text": [
      "Collecting phik\n",
      "  Downloading phik-0.12.3-cp39-cp39-manylinux_2_17_x86_64.manylinux2014_x86_64.whl (679 kB)\n",
      "\u001b[K     |████████████████████████████████| 679 kB 1.9 MB/s eta 0:00:01\n",
      "\u001b[?25hRequirement already satisfied: scipy>=1.5.2 in /opt/conda/lib/python3.9/site-packages (from phik) (1.9.1)\n",
      "Requirement already satisfied: joblib>=0.14.1 in /opt/conda/lib/python3.9/site-packages (from phik) (1.1.0)\n",
      "Requirement already satisfied: matplotlib>=2.2.3 in /opt/conda/lib/python3.9/site-packages (from phik) (3.3.4)\n",
      "Requirement already satisfied: numpy>=1.18.0 in /opt/conda/lib/python3.9/site-packages (from phik) (1.21.1)\n",
      "Requirement already satisfied: pandas>=0.25.1 in /opt/conda/lib/python3.9/site-packages (from phik) (1.2.4)\n",
      "Requirement already satisfied: kiwisolver>=1.0.1 in /opt/conda/lib/python3.9/site-packages (from matplotlib>=2.2.3->phik) (1.4.4)\n",
      "Requirement already satisfied: pyparsing!=2.0.4,!=2.1.2,!=2.1.6,>=2.0.3 in /opt/conda/lib/python3.9/site-packages (from matplotlib>=2.2.3->phik) (2.4.7)\n",
      "Requirement already satisfied: pillow>=6.2.0 in /opt/conda/lib/python3.9/site-packages (from matplotlib>=2.2.3->phik) (8.4.0)\n",
      "Requirement already satisfied: cycler>=0.10 in /opt/conda/lib/python3.9/site-packages (from matplotlib>=2.2.3->phik) (0.11.0)\n",
      "Requirement already satisfied: python-dateutil>=2.1 in /opt/conda/lib/python3.9/site-packages (from matplotlib>=2.2.3->phik) (2.8.1)\n",
      "Requirement already satisfied: pytz>=2017.3 in /opt/conda/lib/python3.9/site-packages (from pandas>=0.25.1->phik) (2021.1)\n",
      "Requirement already satisfied: six>=1.5 in /opt/conda/lib/python3.9/site-packages (from python-dateutil>=2.1->matplotlib>=2.2.3->phik) (1.16.0)\n",
      "Installing collected packages: phik\n",
      "Successfully installed phik-0.12.3\n",
      "Note: you may need to restart the kernel to use updated packages.\n"
     ]
    }
   ],
   "source": [
    "pip install phik"
   ]
  },
  {
   "cell_type": "code",
   "execution_count": 2,
   "id": "496e7a2d",
   "metadata": {},
   "outputs": [],
   "source": [
    "# общие библиотеки\n",
    "import pandas as pd\n",
    "import re\n",
    "import matplotlib.pyplot as plt\n",
    "import seaborn as sns\n",
    "import warnings\n",
    "import time\n",
    "from phik.report import plot_correlation_matrix\n",
    "\n",
    "# метрики и методы sklearn\n",
    "from sklearn.model_selection import train_test_split\n",
    "from sklearn.preprocessing import OneHotEncoder\n",
    "from sklearn.preprocessing import OrdinalEncoder\n",
    "from sklearn.model_selection import RandomizedSearchCV\n",
    "from sklearn.metrics import roc_auc_score, roc_curve, accuracy_score, confusion_matrix\n",
    "\n",
    "# модели sklearn\n",
    "from sklearn.linear_model import LogisticRegression\n",
    "import lightgbm as lgb\n",
    "from lightgbm import LGBMClassifier, plot_importance\n",
    "from sklearn.ensemble import RandomForestClassifier\n",
    "from sklearn.dummy import DummyClassifier\n",
    "\n",
    "warnings.filterwarnings('ignore')"
   ]
  },
  {
   "cell_type": "code",
   "execution_count": 3,
   "id": "888b8fa8",
   "metadata": {},
   "outputs": [],
   "source": [
    "try:\n",
    "    contract = pd.read_csv('/datasets/contract_new.csv')\n",
    "    personal = pd.read_csv('/datasets/personal_new.csv')\n",
    "    internet = pd.read_csv('/datasets/internet_new.csv')\n",
    "    phone = pd.read_csv('/datasets/phone_new.csv')\n",
    "except:\n",
    "    contract = pd.read_csv('https://code.s3.yandex.net/datasets/contract_new.csv')\n",
    "    personal = pd.read_csv('https://code.s3.yandex.net/datasets/personal_new.csv')\n",
    "    internet = pd.read_csv('https://code.s3.yandex.net/datasets/internet_new.csv')\n",
    "    phone = pd.read_csv('https://code.s3.yandex.net/datasets/phone_new.csv')"
   ]
  },
  {
   "cell_type": "code",
   "execution_count": 4,
   "id": "a3bd80a4",
   "metadata": {
    "scrolled": false
   },
   "outputs": [
    {
     "name": "stdout",
     "output_type": "stream",
     "text": [
      "Таблица contract\n",
      "\n",
      "<class 'pandas.core.frame.DataFrame'>\n",
      "RangeIndex: 7043 entries, 0 to 7042\n",
      "Data columns (total 8 columns):\n",
      " #   Column            Non-Null Count  Dtype  \n",
      "---  ------            --------------  -----  \n",
      " 0   customerID        7043 non-null   object \n",
      " 1   BeginDate         7043 non-null   object \n",
      " 2   EndDate           7043 non-null   object \n",
      " 3   Type              7043 non-null   object \n",
      " 4   PaperlessBilling  7043 non-null   object \n",
      " 5   PaymentMethod     7043 non-null   object \n",
      " 6   MonthlyCharges    7043 non-null   float64\n",
      " 7   TotalCharges      7043 non-null   object \n",
      "dtypes: float64(1), object(7)\n",
      "memory usage: 440.3+ KB\n"
     ]
    },
    {
     "data": {
      "text/plain": [
       "None"
      ]
     },
     "metadata": {},
     "output_type": "display_data"
    },
    {
     "data": {
      "text/plain": [
       "0"
      ]
     },
     "metadata": {},
     "output_type": "display_data"
    },
    {
     "data": {
      "text/html": [
       "<div>\n",
       "<style scoped>\n",
       "    .dataframe tbody tr th:only-of-type {\n",
       "        vertical-align: middle;\n",
       "    }\n",
       "\n",
       "    .dataframe tbody tr th {\n",
       "        vertical-align: top;\n",
       "    }\n",
       "\n",
       "    .dataframe thead th {\n",
       "        text-align: right;\n",
       "    }\n",
       "</style>\n",
       "<table border=\"1\" class=\"dataframe\">\n",
       "  <thead>\n",
       "    <tr style=\"text-align: right;\">\n",
       "      <th></th>\n",
       "      <th>customerID</th>\n",
       "      <th>BeginDate</th>\n",
       "      <th>EndDate</th>\n",
       "      <th>Type</th>\n",
       "      <th>PaperlessBilling</th>\n",
       "      <th>PaymentMethod</th>\n",
       "      <th>MonthlyCharges</th>\n",
       "      <th>TotalCharges</th>\n",
       "    </tr>\n",
       "  </thead>\n",
       "  <tbody>\n",
       "    <tr>\n",
       "      <th>0</th>\n",
       "      <td>7590-VHVEG</td>\n",
       "      <td>2020-01-01</td>\n",
       "      <td>No</td>\n",
       "      <td>Month-to-month</td>\n",
       "      <td>Yes</td>\n",
       "      <td>Electronic check</td>\n",
       "      <td>29.85</td>\n",
       "      <td>31.04</td>\n",
       "    </tr>\n",
       "    <tr>\n",
       "      <th>1</th>\n",
       "      <td>5575-GNVDE</td>\n",
       "      <td>2017-04-01</td>\n",
       "      <td>No</td>\n",
       "      <td>One year</td>\n",
       "      <td>No</td>\n",
       "      <td>Mailed check</td>\n",
       "      <td>56.95</td>\n",
       "      <td>2071.84</td>\n",
       "    </tr>\n",
       "    <tr>\n",
       "      <th>2</th>\n",
       "      <td>3668-QPYBK</td>\n",
       "      <td>2019-10-01</td>\n",
       "      <td>No</td>\n",
       "      <td>Month-to-month</td>\n",
       "      <td>Yes</td>\n",
       "      <td>Mailed check</td>\n",
       "      <td>53.85</td>\n",
       "      <td>226.17</td>\n",
       "    </tr>\n",
       "    <tr>\n",
       "      <th>3</th>\n",
       "      <td>7795-CFOCW</td>\n",
       "      <td>2016-05-01</td>\n",
       "      <td>No</td>\n",
       "      <td>One year</td>\n",
       "      <td>No</td>\n",
       "      <td>Bank transfer (automatic)</td>\n",
       "      <td>42.30</td>\n",
       "      <td>1960.6</td>\n",
       "    </tr>\n",
       "    <tr>\n",
       "      <th>4</th>\n",
       "      <td>9237-HQITU</td>\n",
       "      <td>2019-09-01</td>\n",
       "      <td>No</td>\n",
       "      <td>Month-to-month</td>\n",
       "      <td>Yes</td>\n",
       "      <td>Electronic check</td>\n",
       "      <td>70.70</td>\n",
       "      <td>353.5</td>\n",
       "    </tr>\n",
       "  </tbody>\n",
       "</table>\n",
       "</div>"
      ],
      "text/plain": [
       "   customerID   BeginDate EndDate            Type PaperlessBilling  \\\n",
       "0  7590-VHVEG  2020-01-01      No  Month-to-month              Yes   \n",
       "1  5575-GNVDE  2017-04-01      No        One year               No   \n",
       "2  3668-QPYBK  2019-10-01      No  Month-to-month              Yes   \n",
       "3  7795-CFOCW  2016-05-01      No        One year               No   \n",
       "4  9237-HQITU  2019-09-01      No  Month-to-month              Yes   \n",
       "\n",
       "               PaymentMethod  MonthlyCharges TotalCharges  \n",
       "0           Electronic check           29.85        31.04  \n",
       "1               Mailed check           56.95      2071.84  \n",
       "2               Mailed check           53.85       226.17  \n",
       "3  Bank transfer (automatic)           42.30       1960.6  \n",
       "4           Electronic check           70.70        353.5  "
      ]
     },
     "metadata": {},
     "output_type": "display_data"
    },
    {
     "data": {
      "text/html": [
       "<div>\n",
       "<style scoped>\n",
       "    .dataframe tbody tr th:only-of-type {\n",
       "        vertical-align: middle;\n",
       "    }\n",
       "\n",
       "    .dataframe tbody tr th {\n",
       "        vertical-align: top;\n",
       "    }\n",
       "\n",
       "    .dataframe thead th {\n",
       "        text-align: right;\n",
       "    }\n",
       "</style>\n",
       "<table border=\"1\" class=\"dataframe\">\n",
       "  <thead>\n",
       "    <tr style=\"text-align: right;\">\n",
       "      <th></th>\n",
       "      <th>count</th>\n",
       "      <th>unique</th>\n",
       "      <th>top</th>\n",
       "      <th>freq</th>\n",
       "      <th>mean</th>\n",
       "      <th>std</th>\n",
       "      <th>min</th>\n",
       "      <th>25%</th>\n",
       "      <th>50%</th>\n",
       "      <th>75%</th>\n",
       "      <th>max</th>\n",
       "    </tr>\n",
       "  </thead>\n",
       "  <tbody>\n",
       "    <tr>\n",
       "      <th>customerID</th>\n",
       "      <td>7043</td>\n",
       "      <td>7043</td>\n",
       "      <td>6185-TASNN</td>\n",
       "      <td>1</td>\n",
       "      <td>NaN</td>\n",
       "      <td>NaN</td>\n",
       "      <td>NaN</td>\n",
       "      <td>NaN</td>\n",
       "      <td>NaN</td>\n",
       "      <td>NaN</td>\n",
       "      <td>NaN</td>\n",
       "    </tr>\n",
       "    <tr>\n",
       "      <th>BeginDate</th>\n",
       "      <td>7043</td>\n",
       "      <td>77</td>\n",
       "      <td>2014-02-01</td>\n",
       "      <td>366</td>\n",
       "      <td>NaN</td>\n",
       "      <td>NaN</td>\n",
       "      <td>NaN</td>\n",
       "      <td>NaN</td>\n",
       "      <td>NaN</td>\n",
       "      <td>NaN</td>\n",
       "      <td>NaN</td>\n",
       "    </tr>\n",
       "    <tr>\n",
       "      <th>EndDate</th>\n",
       "      <td>7043</td>\n",
       "      <td>67</td>\n",
       "      <td>No</td>\n",
       "      <td>5942</td>\n",
       "      <td>NaN</td>\n",
       "      <td>NaN</td>\n",
       "      <td>NaN</td>\n",
       "      <td>NaN</td>\n",
       "      <td>NaN</td>\n",
       "      <td>NaN</td>\n",
       "      <td>NaN</td>\n",
       "    </tr>\n",
       "    <tr>\n",
       "      <th>Type</th>\n",
       "      <td>7043</td>\n",
       "      <td>3</td>\n",
       "      <td>Month-to-month</td>\n",
       "      <td>3875</td>\n",
       "      <td>NaN</td>\n",
       "      <td>NaN</td>\n",
       "      <td>NaN</td>\n",
       "      <td>NaN</td>\n",
       "      <td>NaN</td>\n",
       "      <td>NaN</td>\n",
       "      <td>NaN</td>\n",
       "    </tr>\n",
       "    <tr>\n",
       "      <th>PaperlessBilling</th>\n",
       "      <td>7043</td>\n",
       "      <td>2</td>\n",
       "      <td>Yes</td>\n",
       "      <td>4171</td>\n",
       "      <td>NaN</td>\n",
       "      <td>NaN</td>\n",
       "      <td>NaN</td>\n",
       "      <td>NaN</td>\n",
       "      <td>NaN</td>\n",
       "      <td>NaN</td>\n",
       "      <td>NaN</td>\n",
       "    </tr>\n",
       "    <tr>\n",
       "      <th>PaymentMethod</th>\n",
       "      <td>7043</td>\n",
       "      <td>4</td>\n",
       "      <td>Electronic check</td>\n",
       "      <td>2365</td>\n",
       "      <td>NaN</td>\n",
       "      <td>NaN</td>\n",
       "      <td>NaN</td>\n",
       "      <td>NaN</td>\n",
       "      <td>NaN</td>\n",
       "      <td>NaN</td>\n",
       "      <td>NaN</td>\n",
       "    </tr>\n",
       "    <tr>\n",
       "      <th>MonthlyCharges</th>\n",
       "      <td>7043.0</td>\n",
       "      <td>NaN</td>\n",
       "      <td>NaN</td>\n",
       "      <td>NaN</td>\n",
       "      <td>64.761692</td>\n",
       "      <td>30.090047</td>\n",
       "      <td>18.25</td>\n",
       "      <td>35.5</td>\n",
       "      <td>70.35</td>\n",
       "      <td>89.85</td>\n",
       "      <td>118.75</td>\n",
       "    </tr>\n",
       "    <tr>\n",
       "      <th>TotalCharges</th>\n",
       "      <td>7043</td>\n",
       "      <td>6658</td>\n",
       "      <td></td>\n",
       "      <td>11</td>\n",
       "      <td>NaN</td>\n",
       "      <td>NaN</td>\n",
       "      <td>NaN</td>\n",
       "      <td>NaN</td>\n",
       "      <td>NaN</td>\n",
       "      <td>NaN</td>\n",
       "      <td>NaN</td>\n",
       "    </tr>\n",
       "  </tbody>\n",
       "</table>\n",
       "</div>"
      ],
      "text/plain": [
       "                   count unique               top  freq       mean        std  \\\n",
       "customerID          7043   7043        6185-TASNN     1        NaN        NaN   \n",
       "BeginDate           7043     77        2014-02-01   366        NaN        NaN   \n",
       "EndDate             7043     67                No  5942        NaN        NaN   \n",
       "Type                7043      3    Month-to-month  3875        NaN        NaN   \n",
       "PaperlessBilling    7043      2               Yes  4171        NaN        NaN   \n",
       "PaymentMethod       7043      4  Electronic check  2365        NaN        NaN   \n",
       "MonthlyCharges    7043.0    NaN               NaN   NaN  64.761692  30.090047   \n",
       "TotalCharges        7043   6658                      11        NaN        NaN   \n",
       "\n",
       "                    min   25%    50%    75%     max  \n",
       "customerID          NaN   NaN    NaN    NaN     NaN  \n",
       "BeginDate           NaN   NaN    NaN    NaN     NaN  \n",
       "EndDate             NaN   NaN    NaN    NaN     NaN  \n",
       "Type                NaN   NaN    NaN    NaN     NaN  \n",
       "PaperlessBilling    NaN   NaN    NaN    NaN     NaN  \n",
       "PaymentMethod       NaN   NaN    NaN    NaN     NaN  \n",
       "MonthlyCharges    18.25  35.5  70.35  89.85  118.75  \n",
       "TotalCharges        NaN   NaN    NaN    NaN     NaN  "
      ]
     },
     "metadata": {},
     "output_type": "display_data"
    },
    {
     "name": "stdout",
     "output_type": "stream",
     "text": [
      "\n",
      "____________________________________________________________________________________________________\n",
      "\n",
      "Таблица personal\n",
      "\n",
      "<class 'pandas.core.frame.DataFrame'>\n",
      "RangeIndex: 7043 entries, 0 to 7042\n",
      "Data columns (total 5 columns):\n",
      " #   Column         Non-Null Count  Dtype \n",
      "---  ------         --------------  ----- \n",
      " 0   customerID     7043 non-null   object\n",
      " 1   gender         7043 non-null   object\n",
      " 2   SeniorCitizen  7043 non-null   int64 \n",
      " 3   Partner        7043 non-null   object\n",
      " 4   Dependents     7043 non-null   object\n",
      "dtypes: int64(1), object(4)\n",
      "memory usage: 275.2+ KB\n"
     ]
    },
    {
     "data": {
      "text/plain": [
       "None"
      ]
     },
     "metadata": {},
     "output_type": "display_data"
    },
    {
     "data": {
      "text/plain": [
       "0"
      ]
     },
     "metadata": {},
     "output_type": "display_data"
    },
    {
     "data": {
      "text/html": [
       "<div>\n",
       "<style scoped>\n",
       "    .dataframe tbody tr th:only-of-type {\n",
       "        vertical-align: middle;\n",
       "    }\n",
       "\n",
       "    .dataframe tbody tr th {\n",
       "        vertical-align: top;\n",
       "    }\n",
       "\n",
       "    .dataframe thead th {\n",
       "        text-align: right;\n",
       "    }\n",
       "</style>\n",
       "<table border=\"1\" class=\"dataframe\">\n",
       "  <thead>\n",
       "    <tr style=\"text-align: right;\">\n",
       "      <th></th>\n",
       "      <th>customerID</th>\n",
       "      <th>gender</th>\n",
       "      <th>SeniorCitizen</th>\n",
       "      <th>Partner</th>\n",
       "      <th>Dependents</th>\n",
       "    </tr>\n",
       "  </thead>\n",
       "  <tbody>\n",
       "    <tr>\n",
       "      <th>0</th>\n",
       "      <td>7590-VHVEG</td>\n",
       "      <td>Female</td>\n",
       "      <td>0</td>\n",
       "      <td>Yes</td>\n",
       "      <td>No</td>\n",
       "    </tr>\n",
       "    <tr>\n",
       "      <th>1</th>\n",
       "      <td>5575-GNVDE</td>\n",
       "      <td>Male</td>\n",
       "      <td>0</td>\n",
       "      <td>No</td>\n",
       "      <td>No</td>\n",
       "    </tr>\n",
       "    <tr>\n",
       "      <th>2</th>\n",
       "      <td>3668-QPYBK</td>\n",
       "      <td>Male</td>\n",
       "      <td>0</td>\n",
       "      <td>No</td>\n",
       "      <td>No</td>\n",
       "    </tr>\n",
       "    <tr>\n",
       "      <th>3</th>\n",
       "      <td>7795-CFOCW</td>\n",
       "      <td>Male</td>\n",
       "      <td>0</td>\n",
       "      <td>No</td>\n",
       "      <td>No</td>\n",
       "    </tr>\n",
       "    <tr>\n",
       "      <th>4</th>\n",
       "      <td>9237-HQITU</td>\n",
       "      <td>Female</td>\n",
       "      <td>0</td>\n",
       "      <td>No</td>\n",
       "      <td>No</td>\n",
       "    </tr>\n",
       "  </tbody>\n",
       "</table>\n",
       "</div>"
      ],
      "text/plain": [
       "   customerID  gender  SeniorCitizen Partner Dependents\n",
       "0  7590-VHVEG  Female              0     Yes         No\n",
       "1  5575-GNVDE    Male              0      No         No\n",
       "2  3668-QPYBK    Male              0      No         No\n",
       "3  7795-CFOCW    Male              0      No         No\n",
       "4  9237-HQITU  Female              0      No         No"
      ]
     },
     "metadata": {},
     "output_type": "display_data"
    },
    {
     "data": {
      "text/html": [
       "<div>\n",
       "<style scoped>\n",
       "    .dataframe tbody tr th:only-of-type {\n",
       "        vertical-align: middle;\n",
       "    }\n",
       "\n",
       "    .dataframe tbody tr th {\n",
       "        vertical-align: top;\n",
       "    }\n",
       "\n",
       "    .dataframe thead th {\n",
       "        text-align: right;\n",
       "    }\n",
       "</style>\n",
       "<table border=\"1\" class=\"dataframe\">\n",
       "  <thead>\n",
       "    <tr style=\"text-align: right;\">\n",
       "      <th></th>\n",
       "      <th>count</th>\n",
       "      <th>unique</th>\n",
       "      <th>top</th>\n",
       "      <th>freq</th>\n",
       "      <th>mean</th>\n",
       "      <th>std</th>\n",
       "      <th>min</th>\n",
       "      <th>25%</th>\n",
       "      <th>50%</th>\n",
       "      <th>75%</th>\n",
       "      <th>max</th>\n",
       "    </tr>\n",
       "  </thead>\n",
       "  <tbody>\n",
       "    <tr>\n",
       "      <th>customerID</th>\n",
       "      <td>7043</td>\n",
       "      <td>7043</td>\n",
       "      <td>6185-TASNN</td>\n",
       "      <td>1</td>\n",
       "      <td>NaN</td>\n",
       "      <td>NaN</td>\n",
       "      <td>NaN</td>\n",
       "      <td>NaN</td>\n",
       "      <td>NaN</td>\n",
       "      <td>NaN</td>\n",
       "      <td>NaN</td>\n",
       "    </tr>\n",
       "    <tr>\n",
       "      <th>gender</th>\n",
       "      <td>7043</td>\n",
       "      <td>2</td>\n",
       "      <td>Male</td>\n",
       "      <td>3555</td>\n",
       "      <td>NaN</td>\n",
       "      <td>NaN</td>\n",
       "      <td>NaN</td>\n",
       "      <td>NaN</td>\n",
       "      <td>NaN</td>\n",
       "      <td>NaN</td>\n",
       "      <td>NaN</td>\n",
       "    </tr>\n",
       "    <tr>\n",
       "      <th>SeniorCitizen</th>\n",
       "      <td>7043.0</td>\n",
       "      <td>NaN</td>\n",
       "      <td>NaN</td>\n",
       "      <td>NaN</td>\n",
       "      <td>0.162147</td>\n",
       "      <td>0.368612</td>\n",
       "      <td>0.0</td>\n",
       "      <td>0.0</td>\n",
       "      <td>0.0</td>\n",
       "      <td>0.0</td>\n",
       "      <td>1.0</td>\n",
       "    </tr>\n",
       "    <tr>\n",
       "      <th>Partner</th>\n",
       "      <td>7043</td>\n",
       "      <td>2</td>\n",
       "      <td>No</td>\n",
       "      <td>3641</td>\n",
       "      <td>NaN</td>\n",
       "      <td>NaN</td>\n",
       "      <td>NaN</td>\n",
       "      <td>NaN</td>\n",
       "      <td>NaN</td>\n",
       "      <td>NaN</td>\n",
       "      <td>NaN</td>\n",
       "    </tr>\n",
       "    <tr>\n",
       "      <th>Dependents</th>\n",
       "      <td>7043</td>\n",
       "      <td>2</td>\n",
       "      <td>No</td>\n",
       "      <td>4933</td>\n",
       "      <td>NaN</td>\n",
       "      <td>NaN</td>\n",
       "      <td>NaN</td>\n",
       "      <td>NaN</td>\n",
       "      <td>NaN</td>\n",
       "      <td>NaN</td>\n",
       "      <td>NaN</td>\n",
       "    </tr>\n",
       "  </tbody>\n",
       "</table>\n",
       "</div>"
      ],
      "text/plain": [
       "                count unique         top  freq      mean       std  min  25%  \\\n",
       "customerID       7043   7043  6185-TASNN     1       NaN       NaN  NaN  NaN   \n",
       "gender           7043      2        Male  3555       NaN       NaN  NaN  NaN   \n",
       "SeniorCitizen  7043.0    NaN         NaN   NaN  0.162147  0.368612  0.0  0.0   \n",
       "Partner          7043      2          No  3641       NaN       NaN  NaN  NaN   \n",
       "Dependents       7043      2          No  4933       NaN       NaN  NaN  NaN   \n",
       "\n",
       "               50%  75%  max  \n",
       "customerID     NaN  NaN  NaN  \n",
       "gender         NaN  NaN  NaN  \n",
       "SeniorCitizen  0.0  0.0  1.0  \n",
       "Partner        NaN  NaN  NaN  \n",
       "Dependents     NaN  NaN  NaN  "
      ]
     },
     "metadata": {},
     "output_type": "display_data"
    },
    {
     "name": "stdout",
     "output_type": "stream",
     "text": [
      "\n",
      "____________________________________________________________________________________________________\n",
      "\n",
      "Таблица internet\n",
      "\n",
      "<class 'pandas.core.frame.DataFrame'>\n",
      "RangeIndex: 5517 entries, 0 to 5516\n",
      "Data columns (total 8 columns):\n",
      " #   Column            Non-Null Count  Dtype \n",
      "---  ------            --------------  ----- \n",
      " 0   customerID        5517 non-null   object\n",
      " 1   InternetService   5517 non-null   object\n",
      " 2   OnlineSecurity    5517 non-null   object\n",
      " 3   OnlineBackup      5517 non-null   object\n",
      " 4   DeviceProtection  5517 non-null   object\n",
      " 5   TechSupport       5517 non-null   object\n",
      " 6   StreamingTV       5517 non-null   object\n",
      " 7   StreamingMovies   5517 non-null   object\n",
      "dtypes: object(8)\n",
      "memory usage: 344.9+ KB\n"
     ]
    },
    {
     "data": {
      "text/plain": [
       "None"
      ]
     },
     "metadata": {},
     "output_type": "display_data"
    },
    {
     "data": {
      "text/plain": [
       "0"
      ]
     },
     "metadata": {},
     "output_type": "display_data"
    },
    {
     "data": {
      "text/html": [
       "<div>\n",
       "<style scoped>\n",
       "    .dataframe tbody tr th:only-of-type {\n",
       "        vertical-align: middle;\n",
       "    }\n",
       "\n",
       "    .dataframe tbody tr th {\n",
       "        vertical-align: top;\n",
       "    }\n",
       "\n",
       "    .dataframe thead th {\n",
       "        text-align: right;\n",
       "    }\n",
       "</style>\n",
       "<table border=\"1\" class=\"dataframe\">\n",
       "  <thead>\n",
       "    <tr style=\"text-align: right;\">\n",
       "      <th></th>\n",
       "      <th>customerID</th>\n",
       "      <th>InternetService</th>\n",
       "      <th>OnlineSecurity</th>\n",
       "      <th>OnlineBackup</th>\n",
       "      <th>DeviceProtection</th>\n",
       "      <th>TechSupport</th>\n",
       "      <th>StreamingTV</th>\n",
       "      <th>StreamingMovies</th>\n",
       "    </tr>\n",
       "  </thead>\n",
       "  <tbody>\n",
       "    <tr>\n",
       "      <th>0</th>\n",
       "      <td>7590-VHVEG</td>\n",
       "      <td>DSL</td>\n",
       "      <td>No</td>\n",
       "      <td>Yes</td>\n",
       "      <td>No</td>\n",
       "      <td>No</td>\n",
       "      <td>No</td>\n",
       "      <td>No</td>\n",
       "    </tr>\n",
       "    <tr>\n",
       "      <th>1</th>\n",
       "      <td>5575-GNVDE</td>\n",
       "      <td>DSL</td>\n",
       "      <td>Yes</td>\n",
       "      <td>No</td>\n",
       "      <td>Yes</td>\n",
       "      <td>No</td>\n",
       "      <td>No</td>\n",
       "      <td>No</td>\n",
       "    </tr>\n",
       "    <tr>\n",
       "      <th>2</th>\n",
       "      <td>3668-QPYBK</td>\n",
       "      <td>DSL</td>\n",
       "      <td>Yes</td>\n",
       "      <td>Yes</td>\n",
       "      <td>No</td>\n",
       "      <td>No</td>\n",
       "      <td>No</td>\n",
       "      <td>No</td>\n",
       "    </tr>\n",
       "    <tr>\n",
       "      <th>3</th>\n",
       "      <td>7795-CFOCW</td>\n",
       "      <td>DSL</td>\n",
       "      <td>Yes</td>\n",
       "      <td>No</td>\n",
       "      <td>Yes</td>\n",
       "      <td>Yes</td>\n",
       "      <td>No</td>\n",
       "      <td>No</td>\n",
       "    </tr>\n",
       "    <tr>\n",
       "      <th>4</th>\n",
       "      <td>9237-HQITU</td>\n",
       "      <td>Fiber optic</td>\n",
       "      <td>No</td>\n",
       "      <td>No</td>\n",
       "      <td>No</td>\n",
       "      <td>No</td>\n",
       "      <td>No</td>\n",
       "      <td>No</td>\n",
       "    </tr>\n",
       "  </tbody>\n",
       "</table>\n",
       "</div>"
      ],
      "text/plain": [
       "   customerID InternetService OnlineSecurity OnlineBackup DeviceProtection  \\\n",
       "0  7590-VHVEG             DSL             No          Yes               No   \n",
       "1  5575-GNVDE             DSL            Yes           No              Yes   \n",
       "2  3668-QPYBK             DSL            Yes          Yes               No   \n",
       "3  7795-CFOCW             DSL            Yes           No              Yes   \n",
       "4  9237-HQITU     Fiber optic             No           No               No   \n",
       "\n",
       "  TechSupport StreamingTV StreamingMovies  \n",
       "0          No          No              No  \n",
       "1          No          No              No  \n",
       "2          No          No              No  \n",
       "3         Yes          No              No  \n",
       "4          No          No              No  "
      ]
     },
     "metadata": {},
     "output_type": "display_data"
    },
    {
     "data": {
      "text/html": [
       "<div>\n",
       "<style scoped>\n",
       "    .dataframe tbody tr th:only-of-type {\n",
       "        vertical-align: middle;\n",
       "    }\n",
       "\n",
       "    .dataframe tbody tr th {\n",
       "        vertical-align: top;\n",
       "    }\n",
       "\n",
       "    .dataframe thead th {\n",
       "        text-align: right;\n",
       "    }\n",
       "</style>\n",
       "<table border=\"1\" class=\"dataframe\">\n",
       "  <thead>\n",
       "    <tr style=\"text-align: right;\">\n",
       "      <th></th>\n",
       "      <th>count</th>\n",
       "      <th>unique</th>\n",
       "      <th>top</th>\n",
       "      <th>freq</th>\n",
       "    </tr>\n",
       "  </thead>\n",
       "  <tbody>\n",
       "    <tr>\n",
       "      <th>customerID</th>\n",
       "      <td>5517</td>\n",
       "      <td>5517</td>\n",
       "      <td>6185-TASNN</td>\n",
       "      <td>1</td>\n",
       "    </tr>\n",
       "    <tr>\n",
       "      <th>InternetService</th>\n",
       "      <td>5517</td>\n",
       "      <td>2</td>\n",
       "      <td>Fiber optic</td>\n",
       "      <td>3096</td>\n",
       "    </tr>\n",
       "    <tr>\n",
       "      <th>OnlineSecurity</th>\n",
       "      <td>5517</td>\n",
       "      <td>2</td>\n",
       "      <td>No</td>\n",
       "      <td>3498</td>\n",
       "    </tr>\n",
       "    <tr>\n",
       "      <th>OnlineBackup</th>\n",
       "      <td>5517</td>\n",
       "      <td>2</td>\n",
       "      <td>No</td>\n",
       "      <td>3088</td>\n",
       "    </tr>\n",
       "    <tr>\n",
       "      <th>DeviceProtection</th>\n",
       "      <td>5517</td>\n",
       "      <td>2</td>\n",
       "      <td>No</td>\n",
       "      <td>3095</td>\n",
       "    </tr>\n",
       "    <tr>\n",
       "      <th>TechSupport</th>\n",
       "      <td>5517</td>\n",
       "      <td>2</td>\n",
       "      <td>No</td>\n",
       "      <td>3473</td>\n",
       "    </tr>\n",
       "    <tr>\n",
       "      <th>StreamingTV</th>\n",
       "      <td>5517</td>\n",
       "      <td>2</td>\n",
       "      <td>No</td>\n",
       "      <td>2810</td>\n",
       "    </tr>\n",
       "    <tr>\n",
       "      <th>StreamingMovies</th>\n",
       "      <td>5517</td>\n",
       "      <td>2</td>\n",
       "      <td>No</td>\n",
       "      <td>2785</td>\n",
       "    </tr>\n",
       "  </tbody>\n",
       "</table>\n",
       "</div>"
      ],
      "text/plain": [
       "                 count unique          top  freq\n",
       "customerID        5517   5517   6185-TASNN     1\n",
       "InternetService   5517      2  Fiber optic  3096\n",
       "OnlineSecurity    5517      2           No  3498\n",
       "OnlineBackup      5517      2           No  3088\n",
       "DeviceProtection  5517      2           No  3095\n",
       "TechSupport       5517      2           No  3473\n",
       "StreamingTV       5517      2           No  2810\n",
       "StreamingMovies   5517      2           No  2785"
      ]
     },
     "metadata": {},
     "output_type": "display_data"
    },
    {
     "name": "stdout",
     "output_type": "stream",
     "text": [
      "\n",
      "____________________________________________________________________________________________________\n",
      "\n",
      "Таблица phone\n",
      "\n",
      "<class 'pandas.core.frame.DataFrame'>\n",
      "RangeIndex: 6361 entries, 0 to 6360\n",
      "Data columns (total 2 columns):\n",
      " #   Column         Non-Null Count  Dtype \n",
      "---  ------         --------------  ----- \n",
      " 0   customerID     6361 non-null   object\n",
      " 1   MultipleLines  6361 non-null   object\n",
      "dtypes: object(2)\n",
      "memory usage: 99.5+ KB\n"
     ]
    },
    {
     "data": {
      "text/plain": [
       "None"
      ]
     },
     "metadata": {},
     "output_type": "display_data"
    },
    {
     "data": {
      "text/plain": [
       "0"
      ]
     },
     "metadata": {},
     "output_type": "display_data"
    },
    {
     "data": {
      "text/html": [
       "<div>\n",
       "<style scoped>\n",
       "    .dataframe tbody tr th:only-of-type {\n",
       "        vertical-align: middle;\n",
       "    }\n",
       "\n",
       "    .dataframe tbody tr th {\n",
       "        vertical-align: top;\n",
       "    }\n",
       "\n",
       "    .dataframe thead th {\n",
       "        text-align: right;\n",
       "    }\n",
       "</style>\n",
       "<table border=\"1\" class=\"dataframe\">\n",
       "  <thead>\n",
       "    <tr style=\"text-align: right;\">\n",
       "      <th></th>\n",
       "      <th>customerID</th>\n",
       "      <th>MultipleLines</th>\n",
       "    </tr>\n",
       "  </thead>\n",
       "  <tbody>\n",
       "    <tr>\n",
       "      <th>0</th>\n",
       "      <td>5575-GNVDE</td>\n",
       "      <td>No</td>\n",
       "    </tr>\n",
       "    <tr>\n",
       "      <th>1</th>\n",
       "      <td>3668-QPYBK</td>\n",
       "      <td>No</td>\n",
       "    </tr>\n",
       "    <tr>\n",
       "      <th>2</th>\n",
       "      <td>9237-HQITU</td>\n",
       "      <td>No</td>\n",
       "    </tr>\n",
       "    <tr>\n",
       "      <th>3</th>\n",
       "      <td>9305-CDSKC</td>\n",
       "      <td>Yes</td>\n",
       "    </tr>\n",
       "    <tr>\n",
       "      <th>4</th>\n",
       "      <td>1452-KIOVK</td>\n",
       "      <td>Yes</td>\n",
       "    </tr>\n",
       "  </tbody>\n",
       "</table>\n",
       "</div>"
      ],
      "text/plain": [
       "   customerID MultipleLines\n",
       "0  5575-GNVDE            No\n",
       "1  3668-QPYBK            No\n",
       "2  9237-HQITU            No\n",
       "3  9305-CDSKC           Yes\n",
       "4  1452-KIOVK           Yes"
      ]
     },
     "metadata": {},
     "output_type": "display_data"
    },
    {
     "data": {
      "text/html": [
       "<div>\n",
       "<style scoped>\n",
       "    .dataframe tbody tr th:only-of-type {\n",
       "        vertical-align: middle;\n",
       "    }\n",
       "\n",
       "    .dataframe tbody tr th {\n",
       "        vertical-align: top;\n",
       "    }\n",
       "\n",
       "    .dataframe thead th {\n",
       "        text-align: right;\n",
       "    }\n",
       "</style>\n",
       "<table border=\"1\" class=\"dataframe\">\n",
       "  <thead>\n",
       "    <tr style=\"text-align: right;\">\n",
       "      <th></th>\n",
       "      <th>count</th>\n",
       "      <th>unique</th>\n",
       "      <th>top</th>\n",
       "      <th>freq</th>\n",
       "    </tr>\n",
       "  </thead>\n",
       "  <tbody>\n",
       "    <tr>\n",
       "      <th>customerID</th>\n",
       "      <td>6361</td>\n",
       "      <td>6361</td>\n",
       "      <td>6185-TASNN</td>\n",
       "      <td>1</td>\n",
       "    </tr>\n",
       "    <tr>\n",
       "      <th>MultipleLines</th>\n",
       "      <td>6361</td>\n",
       "      <td>2</td>\n",
       "      <td>No</td>\n",
       "      <td>3390</td>\n",
       "    </tr>\n",
       "  </tbody>\n",
       "</table>\n",
       "</div>"
      ],
      "text/plain": [
       "              count unique         top  freq\n",
       "customerID     6361   6361  6185-TASNN     1\n",
       "MultipleLines  6361      2          No  3390"
      ]
     },
     "metadata": {},
     "output_type": "display_data"
    },
    {
     "name": "stdout",
     "output_type": "stream",
     "text": [
      "\n"
     ]
    }
   ],
   "source": [
    "data_list = [contract, personal, internet, phone]\n",
    "names_list = ['contract', 'personal', 'internet', 'phone']\n",
    "\n",
    "for i, df in enumerate(data_list):\n",
    "    print(f'Таблица {names_list[i]}')\n",
    "    print()\n",
    "    display(df.info())\n",
    "    display(df.duplicated().sum())\n",
    "    display(df.head())\n",
    "    display(df.describe(include='all').T)\n",
    "    print()\n",
    "    if i < len(data_list) - 1:\n",
    "        print('_' * 100)\n",
    "        print()"
   ]
  },
  {
   "cell_type": "code",
   "execution_count": 5,
   "id": "f2e304ae",
   "metadata": {},
   "outputs": [
    {
     "data": {
      "text/plain": [
       "'2020-02-01'"
      ]
     },
     "metadata": {},
     "output_type": "display_data"
    }
   ],
   "source": [
    "display(max(contract['BeginDate']))"
   ]
  },
  {
   "cell_type": "markdown",
   "id": "d44ac159",
   "metadata": {},
   "source": [
    "### ✅ Вывод:\n",
    "* Мы получили 7043 наблюдений, из которых можно отметить, что 5517 пользователей пользуется интернет-услугами и 6361 телефонией\n",
    "* Более половины признаков с бинарными данными\n",
    "* Названия столбцов записаны в разных стилях, в основном CamelCase, нужно привести к единому стилю snake_case\n",
    "* Наблюдаются неявные пропуски\n",
    "* Явные дубликаты отсутствуют\n",
    "* В таблице contract поле BeginDate стоит привести к типу datetime, поле TotalCharges заполнить заглушкой и привести к типу float\n",
    "* Последней датой начала договора является 2020-02-01, значит датасет был выгружен в данный день"
   ]
  },
  {
   "cell_type": "markdown",
   "id": "2f3a14d4",
   "metadata": {},
   "source": [
    "## Предобработка и исследовательский анализ данных"
   ]
  },
  {
   "cell_type": "markdown",
   "id": "9aeb6754",
   "metadata": {},
   "source": [
    "### Приведение названий столбцов к стилю snake_case"
   ]
  },
  {
   "cell_type": "code",
   "execution_count": 6,
   "id": "04dd730f",
   "metadata": {},
   "outputs": [
    {
     "data": {
      "text/plain": [
       "Index(['customer_id', 'begin_date', 'end_date', 'type', 'paperless_billing',\n",
       "       'payment_method', 'monthly_charges', 'total_charges'],\n",
       "      dtype='object')"
      ]
     },
     "metadata": {},
     "output_type": "display_data"
    },
    {
     "data": {
      "text/plain": [
       "Index(['customer_id', 'gender', 'senior_citizen', 'partner', 'dependents'], dtype='object')"
      ]
     },
     "metadata": {},
     "output_type": "display_data"
    },
    {
     "data": {
      "text/plain": [
       "Index(['customer_id', 'internet_service', 'online_security', 'online_backup',\n",
       "       'device_protection', 'tech_support', 'streaming_tv',\n",
       "       'streaming_movies'],\n",
       "      dtype='object')"
      ]
     },
     "metadata": {},
     "output_type": "display_data"
    },
    {
     "data": {
      "text/plain": [
       "Index(['customer_id', 'multiple_lines'], dtype='object')"
      ]
     },
     "metadata": {},
     "output_type": "display_data"
    }
   ],
   "source": [
    "def camel_to_snake(column_name):\n",
    "    ''' приводит строки к стилю snake_case и добавляет перед большой буквой символ подчеркивания\n",
    "    (?<!^) проверка на начало строки\n",
    "    (?=[A-Z]) находит любую большую букву '''\n",
    "    return re.sub(r'(?<!^)(?=[A-Z])', '_', column_name).lower()\n",
    "\n",
    "for df in data_list:\n",
    "    df.columns = [camel_to_snake(col) for col in df.columns]\n",
    "    df.rename(columns={'customer_i_d': 'customer_id'}, inplace=True)\n",
    "    if df.equals(internet):\n",
    "        df.rename(columns={'streaming_t_v': 'streaming_tv'}, inplace=True)\n",
    "    display(df.columns)"
   ]
  },
  {
   "cell_type": "markdown",
   "id": "051ee68a",
   "metadata": {},
   "source": [
    "Столбцы во всех таблицах переименовались корректно. Теперь сделаем одну общую таблицу с помощью последовательного левого соединения по столбцу customer_id, начиная с таблицы contract, для того, чтобы упростить дальнейшую предобработку и анализ"
   ]
  },
  {
   "cell_type": "markdown",
   "id": "c23fab1d",
   "metadata": {},
   "source": [
    "### Объединение таблиц в одну и обработка пропусков"
   ]
  },
  {
   "cell_type": "code",
   "execution_count": 7,
   "id": "7ce5f04f",
   "metadata": {
    "scrolled": false
   },
   "outputs": [
    {
     "data": {
      "text/plain": [
       "True"
      ]
     },
     "metadata": {},
     "output_type": "display_data"
    },
    {
     "data": {
      "text/plain": [
       "True"
      ]
     },
     "metadata": {},
     "output_type": "display_data"
    },
    {
     "data": {
      "text/html": [
       "<div>\n",
       "<style scoped>\n",
       "    .dataframe tbody tr th:only-of-type {\n",
       "        vertical-align: middle;\n",
       "    }\n",
       "\n",
       "    .dataframe tbody tr th {\n",
       "        vertical-align: top;\n",
       "    }\n",
       "\n",
       "    .dataframe thead th {\n",
       "        text-align: right;\n",
       "    }\n",
       "</style>\n",
       "<table border=\"1\" class=\"dataframe\">\n",
       "  <thead>\n",
       "    <tr style=\"text-align: right;\">\n",
       "      <th></th>\n",
       "      <th>customer_id</th>\n",
       "      <th>begin_date</th>\n",
       "      <th>end_date</th>\n",
       "      <th>type</th>\n",
       "      <th>paperless_billing</th>\n",
       "      <th>payment_method</th>\n",
       "      <th>monthly_charges</th>\n",
       "      <th>total_charges</th>\n",
       "      <th>gender</th>\n",
       "      <th>senior_citizen</th>\n",
       "      <th>partner</th>\n",
       "      <th>dependents</th>\n",
       "      <th>internet_service</th>\n",
       "      <th>online_security</th>\n",
       "      <th>online_backup</th>\n",
       "      <th>device_protection</th>\n",
       "      <th>tech_support</th>\n",
       "      <th>streaming_tv</th>\n",
       "      <th>streaming_movies</th>\n",
       "      <th>multiple_lines</th>\n",
       "    </tr>\n",
       "  </thead>\n",
       "  <tbody>\n",
       "    <tr>\n",
       "      <th>0</th>\n",
       "      <td>7590-VHVEG</td>\n",
       "      <td>2020-01-01</td>\n",
       "      <td>No</td>\n",
       "      <td>Month-to-month</td>\n",
       "      <td>Yes</td>\n",
       "      <td>Electronic check</td>\n",
       "      <td>29.85</td>\n",
       "      <td>31.04</td>\n",
       "      <td>Female</td>\n",
       "      <td>0</td>\n",
       "      <td>Yes</td>\n",
       "      <td>No</td>\n",
       "      <td>DSL</td>\n",
       "      <td>No</td>\n",
       "      <td>Yes</td>\n",
       "      <td>No</td>\n",
       "      <td>No</td>\n",
       "      <td>No</td>\n",
       "      <td>No</td>\n",
       "      <td>NaN</td>\n",
       "    </tr>\n",
       "    <tr>\n",
       "      <th>1</th>\n",
       "      <td>5575-GNVDE</td>\n",
       "      <td>2017-04-01</td>\n",
       "      <td>No</td>\n",
       "      <td>One year</td>\n",
       "      <td>No</td>\n",
       "      <td>Mailed check</td>\n",
       "      <td>56.95</td>\n",
       "      <td>2071.84</td>\n",
       "      <td>Male</td>\n",
       "      <td>0</td>\n",
       "      <td>No</td>\n",
       "      <td>No</td>\n",
       "      <td>DSL</td>\n",
       "      <td>Yes</td>\n",
       "      <td>No</td>\n",
       "      <td>Yes</td>\n",
       "      <td>No</td>\n",
       "      <td>No</td>\n",
       "      <td>No</td>\n",
       "      <td>No</td>\n",
       "    </tr>\n",
       "    <tr>\n",
       "      <th>2</th>\n",
       "      <td>3668-QPYBK</td>\n",
       "      <td>2019-10-01</td>\n",
       "      <td>No</td>\n",
       "      <td>Month-to-month</td>\n",
       "      <td>Yes</td>\n",
       "      <td>Mailed check</td>\n",
       "      <td>53.85</td>\n",
       "      <td>226.17</td>\n",
       "      <td>Male</td>\n",
       "      <td>0</td>\n",
       "      <td>No</td>\n",
       "      <td>No</td>\n",
       "      <td>DSL</td>\n",
       "      <td>Yes</td>\n",
       "      <td>Yes</td>\n",
       "      <td>No</td>\n",
       "      <td>No</td>\n",
       "      <td>No</td>\n",
       "      <td>No</td>\n",
       "      <td>No</td>\n",
       "    </tr>\n",
       "    <tr>\n",
       "      <th>3</th>\n",
       "      <td>7795-CFOCW</td>\n",
       "      <td>2016-05-01</td>\n",
       "      <td>No</td>\n",
       "      <td>One year</td>\n",
       "      <td>No</td>\n",
       "      <td>Bank transfer (automatic)</td>\n",
       "      <td>42.30</td>\n",
       "      <td>1960.6</td>\n",
       "      <td>Male</td>\n",
       "      <td>0</td>\n",
       "      <td>No</td>\n",
       "      <td>No</td>\n",
       "      <td>DSL</td>\n",
       "      <td>Yes</td>\n",
       "      <td>No</td>\n",
       "      <td>Yes</td>\n",
       "      <td>Yes</td>\n",
       "      <td>No</td>\n",
       "      <td>No</td>\n",
       "      <td>NaN</td>\n",
       "    </tr>\n",
       "    <tr>\n",
       "      <th>4</th>\n",
       "      <td>9237-HQITU</td>\n",
       "      <td>2019-09-01</td>\n",
       "      <td>No</td>\n",
       "      <td>Month-to-month</td>\n",
       "      <td>Yes</td>\n",
       "      <td>Electronic check</td>\n",
       "      <td>70.70</td>\n",
       "      <td>353.5</td>\n",
       "      <td>Female</td>\n",
       "      <td>0</td>\n",
       "      <td>No</td>\n",
       "      <td>No</td>\n",
       "      <td>Fiber optic</td>\n",
       "      <td>No</td>\n",
       "      <td>No</td>\n",
       "      <td>No</td>\n",
       "      <td>No</td>\n",
       "      <td>No</td>\n",
       "      <td>No</td>\n",
       "      <td>No</td>\n",
       "    </tr>\n",
       "  </tbody>\n",
       "</table>\n",
       "</div>"
      ],
      "text/plain": [
       "  customer_id  begin_date end_date            type paperless_billing  \\\n",
       "0  7590-VHVEG  2020-01-01       No  Month-to-month               Yes   \n",
       "1  5575-GNVDE  2017-04-01       No        One year                No   \n",
       "2  3668-QPYBK  2019-10-01       No  Month-to-month               Yes   \n",
       "3  7795-CFOCW  2016-05-01       No        One year                No   \n",
       "4  9237-HQITU  2019-09-01       No  Month-to-month               Yes   \n",
       "\n",
       "              payment_method  monthly_charges total_charges  gender  \\\n",
       "0           Electronic check            29.85         31.04  Female   \n",
       "1               Mailed check            56.95       2071.84    Male   \n",
       "2               Mailed check            53.85        226.17    Male   \n",
       "3  Bank transfer (automatic)            42.30        1960.6    Male   \n",
       "4           Electronic check            70.70         353.5  Female   \n",
       "\n",
       "   senior_citizen partner dependents internet_service online_security  \\\n",
       "0               0     Yes         No              DSL              No   \n",
       "1               0      No         No              DSL             Yes   \n",
       "2               0      No         No              DSL             Yes   \n",
       "3               0      No         No              DSL             Yes   \n",
       "4               0      No         No      Fiber optic              No   \n",
       "\n",
       "  online_backup device_protection tech_support streaming_tv streaming_movies  \\\n",
       "0           Yes                No           No           No               No   \n",
       "1            No               Yes           No           No               No   \n",
       "2           Yes                No           No           No               No   \n",
       "3            No               Yes          Yes           No               No   \n",
       "4            No                No           No           No               No   \n",
       "\n",
       "  multiple_lines  \n",
       "0            NaN  \n",
       "1             No  \n",
       "2             No  \n",
       "3            NaN  \n",
       "4             No  "
      ]
     },
     "metadata": {},
     "output_type": "display_data"
    }
   ],
   "source": [
    "data = contract.merge(personal, how='left', on='customer_id')\n",
    "data = data.merge(internet, how='left', on='customer_id')\n",
    "data = data.merge(phone, how='left', on='customer_id')\n",
    "\n",
    "# проверим, что никакие столбцы не потерялись за вычетом customer_id из трех таблиц\n",
    "display(data.shape[1] == contract.shape[1] + personal.shape[1] - 1 + internet.shape[1] - 1 + phone.shape[1] - 1)\n",
    "\n",
    "# убедимся, что все контракты отобразятся в новой таблице\n",
    "display(data.shape[0] == contract.shape[0])\n",
    "\n",
    "# посмотрим информацию по объединенной таблице\n",
    "display(data.head())"
   ]
  },
  {
   "cell_type": "markdown",
   "id": "6750fe32",
   "metadata": {},
   "source": [
    "Объединение прошло успешно. Видно, что появились пропуски, проверим где именно и выясним причину их появления"
   ]
  },
  {
   "cell_type": "code",
   "execution_count": 8,
   "id": "3b4ffd5a",
   "metadata": {},
   "outputs": [
    {
     "data": {
      "text/plain": [
       "customer_id             0\n",
       "begin_date              0\n",
       "end_date                0\n",
       "type                    0\n",
       "paperless_billing       0\n",
       "payment_method          0\n",
       "monthly_charges         0\n",
       "total_charges           0\n",
       "gender                  0\n",
       "senior_citizen          0\n",
       "partner                 0\n",
       "dependents              0\n",
       "internet_service     1526\n",
       "online_security      1526\n",
       "online_backup        1526\n",
       "device_protection    1526\n",
       "tech_support         1526\n",
       "streaming_tv         1526\n",
       "streaming_movies     1526\n",
       "multiple_lines        682\n",
       "dtype: int64"
      ]
     },
     "execution_count": 8,
     "metadata": {},
     "output_type": "execute_result"
    }
   ],
   "source": [
    "data.isna().sum()"
   ]
  },
  {
   "cell_type": "code",
   "execution_count": 9,
   "id": "3ef07e51",
   "metadata": {},
   "outputs": [
    {
     "name": "stdout",
     "output_type": "stream",
     "text": [
      "Пропусков в столбцах с информацией об интернет-услугах: 1526\n",
      "Пропусков в столбцах с информацией о телефонии: 682\n"
     ]
    }
   ],
   "source": [
    "print(f'Пропусков в столбцах с информацией об интернет-услугах: {data.shape[0] - internet.shape[0]}')\n",
    "print(f'Пропусков в столбцах с информацией о телефонии: {data.shape[0] - phone.shape[0]}')"
   ]
  },
  {
   "cell_type": "markdown",
   "id": "6e014829",
   "metadata": {},
   "source": [
    "Видим, что пропуски после объединения таблиц появились только в колонках с информацией о дополнительных услугах. Как мы уже отмечали выше, из 7043 контрактов только 5517 пользователей пользуется интернет-услугами и 6361 телефонией, что соответствует образовавшимся пропускам\n",
    "\n",
    "Все столбцы с информацией о доп.услугах бинарные, содержат значения Yes или No, поэтому пропущенные значения можно заполнить значением **No**, то есть отсутствие доп.услуги\n",
    "\n",
    "Дополнительно рассмотрим содержимое столбцов  **internet_service** и **multiple_lines**"
   ]
  },
  {
   "cell_type": "code",
   "execution_count": 10,
   "id": "971ccba7",
   "metadata": {},
   "outputs": [
    {
     "data": {
      "text/plain": [
       "Fiber optic    3096\n",
       "DSL            2421\n",
       "Name: internet_service, dtype: int64"
      ]
     },
     "metadata": {},
     "output_type": "display_data"
    },
    {
     "data": {
      "text/plain": [
       "No     3390\n",
       "Yes    2971\n",
       "Name: multiple_lines, dtype: int64"
      ]
     },
     "metadata": {},
     "output_type": "display_data"
    }
   ],
   "source": [
    "display(data['internet_service'].value_counts())\n",
    "display(data['multiple_lines'].value_counts())"
   ]
  },
  {
   "cell_type": "markdown",
   "id": "4d874f03",
   "metadata": {},
   "source": [
    "Наблюдаем два типа подключения к интернету: через телефонную линию (DSL) и оптоволоконный кабель (Fiber optic). Поэтому пропуски также можем заполнить заполнить значением **No**, что будет означать отсутствие подключения\n",
    "\n",
    "Особое внимание стоит обратить на столбец с пропусками **multiple_lines** – наличие возможности ведения параллельных линий во время звонка. Если клиент не воспользовался услугой телефонии, значит у него по умолчанию нет никаких звонков, поэтому стоит заменить пропущенные значения заглушкой, отличной от Yes или No"
   ]
  },
  {
   "cell_type": "code",
   "execution_count": 11,
   "id": "7071f922",
   "metadata": {
    "scrolled": false
   },
   "outputs": [],
   "source": [
    "columns_miss = ['internet_service', 'online_security', 'online_backup', 'device_protection',\n",
    "                'tech_support', 'streaming_tv', 'streaming_movies']\n",
    "\n",
    "for column in columns_miss:\n",
    "    data[column] = data[column].fillna('No')\n",
    "    \n",
    "data['multiple_lines'] = data['multiple_lines'].fillna('Miss')"
   ]
  },
  {
   "cell_type": "markdown",
   "id": "fde1ed31",
   "metadata": {},
   "source": [
    "Теперь перейдем к столбцу total_charges и посмотрим содержимое"
   ]
  },
  {
   "cell_type": "code",
   "execution_count": 12,
   "id": "a356fb63",
   "metadata": {},
   "outputs": [
    {
     "data": {
      "text/plain": [
       "           11\n",
       "20.45       6\n",
       "101.0       5\n",
       "1007.5      4\n",
       "21.53       4\n",
       "           ..\n",
       "245.0       1\n",
       "1643.54     1\n",
       "551.57      1\n",
       "4906.0      1\n",
       "6181.03     1\n",
       "Name: total_charges, Length: 6658, dtype: int64"
      ]
     },
     "metadata": {},
     "output_type": "display_data"
    }
   ],
   "source": [
    "display(data['total_charges'].value_counts())"
   ]
  },
  {
   "cell_type": "code",
   "execution_count": 13,
   "id": "240b3206",
   "metadata": {},
   "outputs": [
    {
     "data": {
      "text/html": [
       "<div>\n",
       "<style scoped>\n",
       "    .dataframe tbody tr th:only-of-type {\n",
       "        vertical-align: middle;\n",
       "    }\n",
       "\n",
       "    .dataframe tbody tr th {\n",
       "        vertical-align: top;\n",
       "    }\n",
       "\n",
       "    .dataframe thead th {\n",
       "        text-align: right;\n",
       "    }\n",
       "</style>\n",
       "<table border=\"1\" class=\"dataframe\">\n",
       "  <thead>\n",
       "    <tr style=\"text-align: right;\">\n",
       "      <th></th>\n",
       "      <th>customer_id</th>\n",
       "      <th>begin_date</th>\n",
       "      <th>end_date</th>\n",
       "      <th>type</th>\n",
       "      <th>paperless_billing</th>\n",
       "      <th>payment_method</th>\n",
       "      <th>monthly_charges</th>\n",
       "      <th>total_charges</th>\n",
       "      <th>gender</th>\n",
       "      <th>senior_citizen</th>\n",
       "      <th>partner</th>\n",
       "      <th>dependents</th>\n",
       "      <th>internet_service</th>\n",
       "      <th>online_security</th>\n",
       "      <th>online_backup</th>\n",
       "      <th>device_protection</th>\n",
       "      <th>tech_support</th>\n",
       "      <th>streaming_tv</th>\n",
       "      <th>streaming_movies</th>\n",
       "      <th>multiple_lines</th>\n",
       "    </tr>\n",
       "  </thead>\n",
       "  <tbody>\n",
       "    <tr>\n",
       "      <th>488</th>\n",
       "      <td>4472-LVYGI</td>\n",
       "      <td>2020-02-01</td>\n",
       "      <td>No</td>\n",
       "      <td>Two year</td>\n",
       "      <td>Yes</td>\n",
       "      <td>Bank transfer (automatic)</td>\n",
       "      <td>52.55</td>\n",
       "      <td></td>\n",
       "      <td>Female</td>\n",
       "      <td>0</td>\n",
       "      <td>Yes</td>\n",
       "      <td>Yes</td>\n",
       "      <td>DSL</td>\n",
       "      <td>Yes</td>\n",
       "      <td>No</td>\n",
       "      <td>Yes</td>\n",
       "      <td>Yes</td>\n",
       "      <td>Yes</td>\n",
       "      <td>No</td>\n",
       "      <td>Miss</td>\n",
       "    </tr>\n",
       "    <tr>\n",
       "      <th>753</th>\n",
       "      <td>3115-CZMZD</td>\n",
       "      <td>2020-02-01</td>\n",
       "      <td>No</td>\n",
       "      <td>Two year</td>\n",
       "      <td>No</td>\n",
       "      <td>Mailed check</td>\n",
       "      <td>20.25</td>\n",
       "      <td></td>\n",
       "      <td>Male</td>\n",
       "      <td>0</td>\n",
       "      <td>No</td>\n",
       "      <td>Yes</td>\n",
       "      <td>No</td>\n",
       "      <td>No</td>\n",
       "      <td>No</td>\n",
       "      <td>No</td>\n",
       "      <td>No</td>\n",
       "      <td>No</td>\n",
       "      <td>No</td>\n",
       "      <td>No</td>\n",
       "    </tr>\n",
       "    <tr>\n",
       "      <th>936</th>\n",
       "      <td>5709-LVOEQ</td>\n",
       "      <td>2020-02-01</td>\n",
       "      <td>No</td>\n",
       "      <td>Two year</td>\n",
       "      <td>No</td>\n",
       "      <td>Mailed check</td>\n",
       "      <td>80.85</td>\n",
       "      <td></td>\n",
       "      <td>Female</td>\n",
       "      <td>0</td>\n",
       "      <td>Yes</td>\n",
       "      <td>Yes</td>\n",
       "      <td>DSL</td>\n",
       "      <td>Yes</td>\n",
       "      <td>Yes</td>\n",
       "      <td>Yes</td>\n",
       "      <td>No</td>\n",
       "      <td>Yes</td>\n",
       "      <td>Yes</td>\n",
       "      <td>No</td>\n",
       "    </tr>\n",
       "    <tr>\n",
       "      <th>1082</th>\n",
       "      <td>4367-NUYAO</td>\n",
       "      <td>2020-02-01</td>\n",
       "      <td>No</td>\n",
       "      <td>Two year</td>\n",
       "      <td>No</td>\n",
       "      <td>Mailed check</td>\n",
       "      <td>25.75</td>\n",
       "      <td></td>\n",
       "      <td>Male</td>\n",
       "      <td>0</td>\n",
       "      <td>Yes</td>\n",
       "      <td>Yes</td>\n",
       "      <td>No</td>\n",
       "      <td>No</td>\n",
       "      <td>No</td>\n",
       "      <td>No</td>\n",
       "      <td>No</td>\n",
       "      <td>No</td>\n",
       "      <td>No</td>\n",
       "      <td>Yes</td>\n",
       "    </tr>\n",
       "    <tr>\n",
       "      <th>1340</th>\n",
       "      <td>1371-DWPAZ</td>\n",
       "      <td>2020-02-01</td>\n",
       "      <td>No</td>\n",
       "      <td>Two year</td>\n",
       "      <td>No</td>\n",
       "      <td>Credit card (automatic)</td>\n",
       "      <td>56.05</td>\n",
       "      <td></td>\n",
       "      <td>Female</td>\n",
       "      <td>0</td>\n",
       "      <td>Yes</td>\n",
       "      <td>Yes</td>\n",
       "      <td>DSL</td>\n",
       "      <td>Yes</td>\n",
       "      <td>Yes</td>\n",
       "      <td>Yes</td>\n",
       "      <td>Yes</td>\n",
       "      <td>Yes</td>\n",
       "      <td>No</td>\n",
       "      <td>Miss</td>\n",
       "    </tr>\n",
       "    <tr>\n",
       "      <th>3331</th>\n",
       "      <td>7644-OMVMY</td>\n",
       "      <td>2020-02-01</td>\n",
       "      <td>No</td>\n",
       "      <td>Two year</td>\n",
       "      <td>No</td>\n",
       "      <td>Mailed check</td>\n",
       "      <td>19.85</td>\n",
       "      <td></td>\n",
       "      <td>Male</td>\n",
       "      <td>0</td>\n",
       "      <td>Yes</td>\n",
       "      <td>Yes</td>\n",
       "      <td>No</td>\n",
       "      <td>No</td>\n",
       "      <td>No</td>\n",
       "      <td>No</td>\n",
       "      <td>No</td>\n",
       "      <td>No</td>\n",
       "      <td>No</td>\n",
       "      <td>No</td>\n",
       "    </tr>\n",
       "    <tr>\n",
       "      <th>3826</th>\n",
       "      <td>3213-VVOLG</td>\n",
       "      <td>2020-02-01</td>\n",
       "      <td>No</td>\n",
       "      <td>Two year</td>\n",
       "      <td>No</td>\n",
       "      <td>Mailed check</td>\n",
       "      <td>25.35</td>\n",
       "      <td></td>\n",
       "      <td>Male</td>\n",
       "      <td>0</td>\n",
       "      <td>Yes</td>\n",
       "      <td>Yes</td>\n",
       "      <td>No</td>\n",
       "      <td>No</td>\n",
       "      <td>No</td>\n",
       "      <td>No</td>\n",
       "      <td>No</td>\n",
       "      <td>No</td>\n",
       "      <td>No</td>\n",
       "      <td>Yes</td>\n",
       "    </tr>\n",
       "    <tr>\n",
       "      <th>4380</th>\n",
       "      <td>2520-SGTTA</td>\n",
       "      <td>2020-02-01</td>\n",
       "      <td>No</td>\n",
       "      <td>Two year</td>\n",
       "      <td>No</td>\n",
       "      <td>Mailed check</td>\n",
       "      <td>20.00</td>\n",
       "      <td></td>\n",
       "      <td>Female</td>\n",
       "      <td>0</td>\n",
       "      <td>Yes</td>\n",
       "      <td>Yes</td>\n",
       "      <td>No</td>\n",
       "      <td>No</td>\n",
       "      <td>No</td>\n",
       "      <td>No</td>\n",
       "      <td>No</td>\n",
       "      <td>No</td>\n",
       "      <td>No</td>\n",
       "      <td>No</td>\n",
       "    </tr>\n",
       "    <tr>\n",
       "      <th>5218</th>\n",
       "      <td>2923-ARZLG</td>\n",
       "      <td>2020-02-01</td>\n",
       "      <td>No</td>\n",
       "      <td>One year</td>\n",
       "      <td>Yes</td>\n",
       "      <td>Mailed check</td>\n",
       "      <td>19.70</td>\n",
       "      <td></td>\n",
       "      <td>Male</td>\n",
       "      <td>0</td>\n",
       "      <td>Yes</td>\n",
       "      <td>Yes</td>\n",
       "      <td>No</td>\n",
       "      <td>No</td>\n",
       "      <td>No</td>\n",
       "      <td>No</td>\n",
       "      <td>No</td>\n",
       "      <td>No</td>\n",
       "      <td>No</td>\n",
       "      <td>No</td>\n",
       "    </tr>\n",
       "    <tr>\n",
       "      <th>6670</th>\n",
       "      <td>4075-WKNIU</td>\n",
       "      <td>2020-02-01</td>\n",
       "      <td>No</td>\n",
       "      <td>Two year</td>\n",
       "      <td>No</td>\n",
       "      <td>Mailed check</td>\n",
       "      <td>73.35</td>\n",
       "      <td></td>\n",
       "      <td>Female</td>\n",
       "      <td>0</td>\n",
       "      <td>Yes</td>\n",
       "      <td>Yes</td>\n",
       "      <td>DSL</td>\n",
       "      <td>No</td>\n",
       "      <td>Yes</td>\n",
       "      <td>Yes</td>\n",
       "      <td>Yes</td>\n",
       "      <td>Yes</td>\n",
       "      <td>No</td>\n",
       "      <td>Yes</td>\n",
       "    </tr>\n",
       "    <tr>\n",
       "      <th>6754</th>\n",
       "      <td>2775-SEFEE</td>\n",
       "      <td>2020-02-01</td>\n",
       "      <td>No</td>\n",
       "      <td>Two year</td>\n",
       "      <td>Yes</td>\n",
       "      <td>Bank transfer (automatic)</td>\n",
       "      <td>61.90</td>\n",
       "      <td></td>\n",
       "      <td>Male</td>\n",
       "      <td>0</td>\n",
       "      <td>No</td>\n",
       "      <td>Yes</td>\n",
       "      <td>DSL</td>\n",
       "      <td>Yes</td>\n",
       "      <td>Yes</td>\n",
       "      <td>No</td>\n",
       "      <td>Yes</td>\n",
       "      <td>No</td>\n",
       "      <td>No</td>\n",
       "      <td>Yes</td>\n",
       "    </tr>\n",
       "  </tbody>\n",
       "</table>\n",
       "</div>"
      ],
      "text/plain": [
       "     customer_id  begin_date end_date      type paperless_billing  \\\n",
       "488   4472-LVYGI  2020-02-01       No  Two year               Yes   \n",
       "753   3115-CZMZD  2020-02-01       No  Two year                No   \n",
       "936   5709-LVOEQ  2020-02-01       No  Two year                No   \n",
       "1082  4367-NUYAO  2020-02-01       No  Two year                No   \n",
       "1340  1371-DWPAZ  2020-02-01       No  Two year                No   \n",
       "3331  7644-OMVMY  2020-02-01       No  Two year                No   \n",
       "3826  3213-VVOLG  2020-02-01       No  Two year                No   \n",
       "4380  2520-SGTTA  2020-02-01       No  Two year                No   \n",
       "5218  2923-ARZLG  2020-02-01       No  One year               Yes   \n",
       "6670  4075-WKNIU  2020-02-01       No  Two year                No   \n",
       "6754  2775-SEFEE  2020-02-01       No  Two year               Yes   \n",
       "\n",
       "                 payment_method  monthly_charges total_charges  gender  \\\n",
       "488   Bank transfer (automatic)            52.55                Female   \n",
       "753                Mailed check            20.25                  Male   \n",
       "936                Mailed check            80.85                Female   \n",
       "1082               Mailed check            25.75                  Male   \n",
       "1340    Credit card (automatic)            56.05                Female   \n",
       "3331               Mailed check            19.85                  Male   \n",
       "3826               Mailed check            25.35                  Male   \n",
       "4380               Mailed check            20.00                Female   \n",
       "5218               Mailed check            19.70                  Male   \n",
       "6670               Mailed check            73.35                Female   \n",
       "6754  Bank transfer (automatic)            61.90                  Male   \n",
       "\n",
       "      senior_citizen partner dependents internet_service online_security  \\\n",
       "488                0     Yes        Yes              DSL             Yes   \n",
       "753                0      No        Yes               No              No   \n",
       "936                0     Yes        Yes              DSL             Yes   \n",
       "1082               0     Yes        Yes               No              No   \n",
       "1340               0     Yes        Yes              DSL             Yes   \n",
       "3331               0     Yes        Yes               No              No   \n",
       "3826               0     Yes        Yes               No              No   \n",
       "4380               0     Yes        Yes               No              No   \n",
       "5218               0     Yes        Yes               No              No   \n",
       "6670               0     Yes        Yes              DSL              No   \n",
       "6754               0      No        Yes              DSL             Yes   \n",
       "\n",
       "     online_backup device_protection tech_support streaming_tv  \\\n",
       "488             No               Yes          Yes          Yes   \n",
       "753             No                No           No           No   \n",
       "936            Yes               Yes           No          Yes   \n",
       "1082            No                No           No           No   \n",
       "1340           Yes               Yes          Yes          Yes   \n",
       "3331            No                No           No           No   \n",
       "3826            No                No           No           No   \n",
       "4380            No                No           No           No   \n",
       "5218            No                No           No           No   \n",
       "6670           Yes               Yes          Yes          Yes   \n",
       "6754           Yes                No          Yes           No   \n",
       "\n",
       "     streaming_movies multiple_lines  \n",
       "488                No           Miss  \n",
       "753                No             No  \n",
       "936               Yes             No  \n",
       "1082               No            Yes  \n",
       "1340               No           Miss  \n",
       "3331               No             No  \n",
       "3826               No            Yes  \n",
       "4380               No             No  \n",
       "5218               No             No  \n",
       "6670               No            Yes  \n",
       "6754               No            Yes  "
      ]
     },
     "execution_count": 13,
     "metadata": {},
     "output_type": "execute_result"
    }
   ],
   "source": [
    "data[data['total_charges'] == ' ']"
   ]
  },
  {
   "cell_type": "markdown",
   "id": "75bbc48c",
   "metadata": {},
   "source": [
    "11 значений с пробелом вместо суммы, все 11 договоров были заключены 2020-02-01, то есть в день выгрузки датасета, поэтому логично, что никаких трат еще не было. Заменим пробелы на 0"
   ]
  },
  {
   "cell_type": "code",
   "execution_count": 14,
   "id": "ddc399fa",
   "metadata": {},
   "outputs": [
    {
     "data": {
      "text/plain": [
       "20      40\n",
       "19      31\n",
       "21      21\n",
       "40      20\n",
       "44      16\n",
       "        ..\n",
       "5858     1\n",
       "6649     1\n",
       "1764     1\n",
       "4596     1\n",
       "8182     1\n",
       "Name: total_charges, Length: 3739, dtype: int64"
      ]
     },
     "metadata": {},
     "output_type": "display_data"
    }
   ],
   "source": [
    "data['total_charges'] = data['total_charges'].replace([' '], [0])\n",
    "data['total_charges'] = data['total_charges'].astype(float)\n",
    "data['total_charges'] = data['total_charges'].astype(int)\n",
    "display(data['total_charges'].value_counts())"
   ]
  },
  {
   "cell_type": "code",
   "execution_count": 15,
   "id": "7874fdda",
   "metadata": {},
   "outputs": [
    {
     "name": "stdout",
     "output_type": "stream",
     "text": [
      "<class 'pandas.core.frame.DataFrame'>\n",
      "Int64Index: 7043 entries, 0 to 7042\n",
      "Data columns (total 20 columns):\n",
      " #   Column             Non-Null Count  Dtype  \n",
      "---  ------             --------------  -----  \n",
      " 0   customer_id        7043 non-null   object \n",
      " 1   begin_date         7043 non-null   object \n",
      " 2   end_date           7043 non-null   object \n",
      " 3   type               7043 non-null   object \n",
      " 4   paperless_billing  7043 non-null   object \n",
      " 5   payment_method     7043 non-null   object \n",
      " 6   monthly_charges    7043 non-null   float64\n",
      " 7   total_charges      7043 non-null   int64  \n",
      " 8   gender             7043 non-null   object \n",
      " 9   senior_citizen     7043 non-null   int64  \n",
      " 10  partner            7043 non-null   object \n",
      " 11  dependents         7043 non-null   object \n",
      " 12  internet_service   7043 non-null   object \n",
      " 13  online_security    7043 non-null   object \n",
      " 14  online_backup      7043 non-null   object \n",
      " 15  device_protection  7043 non-null   object \n",
      " 16  tech_support       7043 non-null   object \n",
      " 17  streaming_tv       7043 non-null   object \n",
      " 18  streaming_movies   7043 non-null   object \n",
      " 19  multiple_lines     7043 non-null   object \n",
      "dtypes: float64(1), int64(2), object(17)\n",
      "memory usage: 1.1+ MB\n"
     ]
    }
   ],
   "source": [
    "data.info()"
   ]
  },
  {
   "cell_type": "markdown",
   "id": "154a8816",
   "metadata": {},
   "source": [
    "Все пропущенные значения успешно устранены"
   ]
  },
  {
   "cell_type": "markdown",
   "id": "8a7349b9",
   "metadata": {},
   "source": [
    "### Преобразование бинарных признаков в числовой формат"
   ]
  },
  {
   "cell_type": "markdown",
   "id": "0cb018ce",
   "metadata": {},
   "source": [
    "Теперь для удобства заменим все бинарные признаки на 1 и 0 вместо No / Yes. Оставшиеся категориальные столбцы преобразуем уже после разделения данных"
   ]
  },
  {
   "cell_type": "code",
   "execution_count": 16,
   "id": "1f9de84b",
   "metadata": {},
   "outputs": [
    {
     "data": {
      "text/html": [
       "<div>\n",
       "<style scoped>\n",
       "    .dataframe tbody tr th:only-of-type {\n",
       "        vertical-align: middle;\n",
       "    }\n",
       "\n",
       "    .dataframe tbody tr th {\n",
       "        vertical-align: top;\n",
       "    }\n",
       "\n",
       "    .dataframe thead th {\n",
       "        text-align: right;\n",
       "    }\n",
       "</style>\n",
       "<table border=\"1\" class=\"dataframe\">\n",
       "  <thead>\n",
       "    <tr style=\"text-align: right;\">\n",
       "      <th></th>\n",
       "      <th>customer_id</th>\n",
       "      <th>begin_date</th>\n",
       "      <th>end_date</th>\n",
       "      <th>type</th>\n",
       "      <th>paperless_billing</th>\n",
       "      <th>payment_method</th>\n",
       "      <th>monthly_charges</th>\n",
       "      <th>total_charges</th>\n",
       "      <th>gender</th>\n",
       "      <th>senior_citizen</th>\n",
       "      <th>partner</th>\n",
       "      <th>dependents</th>\n",
       "      <th>internet_service</th>\n",
       "      <th>online_security</th>\n",
       "      <th>online_backup</th>\n",
       "      <th>device_protection</th>\n",
       "      <th>tech_support</th>\n",
       "      <th>streaming_tv</th>\n",
       "      <th>streaming_movies</th>\n",
       "      <th>multiple_lines</th>\n",
       "    </tr>\n",
       "  </thead>\n",
       "  <tbody>\n",
       "    <tr>\n",
       "      <th>0</th>\n",
       "      <td>7590-VHVEG</td>\n",
       "      <td>2020-01-01</td>\n",
       "      <td>No</td>\n",
       "      <td>Month-to-month</td>\n",
       "      <td>1</td>\n",
       "      <td>Electronic check</td>\n",
       "      <td>29.85</td>\n",
       "      <td>31</td>\n",
       "      <td>1</td>\n",
       "      <td>0</td>\n",
       "      <td>1</td>\n",
       "      <td>0</td>\n",
       "      <td>DSL</td>\n",
       "      <td>0</td>\n",
       "      <td>1</td>\n",
       "      <td>0</td>\n",
       "      <td>0</td>\n",
       "      <td>0</td>\n",
       "      <td>0</td>\n",
       "      <td>Miss</td>\n",
       "    </tr>\n",
       "    <tr>\n",
       "      <th>1</th>\n",
       "      <td>5575-GNVDE</td>\n",
       "      <td>2017-04-01</td>\n",
       "      <td>No</td>\n",
       "      <td>One year</td>\n",
       "      <td>0</td>\n",
       "      <td>Mailed check</td>\n",
       "      <td>56.95</td>\n",
       "      <td>2071</td>\n",
       "      <td>0</td>\n",
       "      <td>0</td>\n",
       "      <td>0</td>\n",
       "      <td>0</td>\n",
       "      <td>DSL</td>\n",
       "      <td>1</td>\n",
       "      <td>0</td>\n",
       "      <td>1</td>\n",
       "      <td>0</td>\n",
       "      <td>0</td>\n",
       "      <td>0</td>\n",
       "      <td>No</td>\n",
       "    </tr>\n",
       "    <tr>\n",
       "      <th>2</th>\n",
       "      <td>3668-QPYBK</td>\n",
       "      <td>2019-10-01</td>\n",
       "      <td>No</td>\n",
       "      <td>Month-to-month</td>\n",
       "      <td>1</td>\n",
       "      <td>Mailed check</td>\n",
       "      <td>53.85</td>\n",
       "      <td>226</td>\n",
       "      <td>0</td>\n",
       "      <td>0</td>\n",
       "      <td>0</td>\n",
       "      <td>0</td>\n",
       "      <td>DSL</td>\n",
       "      <td>1</td>\n",
       "      <td>1</td>\n",
       "      <td>0</td>\n",
       "      <td>0</td>\n",
       "      <td>0</td>\n",
       "      <td>0</td>\n",
       "      <td>No</td>\n",
       "    </tr>\n",
       "    <tr>\n",
       "      <th>3</th>\n",
       "      <td>7795-CFOCW</td>\n",
       "      <td>2016-05-01</td>\n",
       "      <td>No</td>\n",
       "      <td>One year</td>\n",
       "      <td>0</td>\n",
       "      <td>Bank transfer (automatic)</td>\n",
       "      <td>42.30</td>\n",
       "      <td>1960</td>\n",
       "      <td>0</td>\n",
       "      <td>0</td>\n",
       "      <td>0</td>\n",
       "      <td>0</td>\n",
       "      <td>DSL</td>\n",
       "      <td>1</td>\n",
       "      <td>0</td>\n",
       "      <td>1</td>\n",
       "      <td>1</td>\n",
       "      <td>0</td>\n",
       "      <td>0</td>\n",
       "      <td>Miss</td>\n",
       "    </tr>\n",
       "    <tr>\n",
       "      <th>4</th>\n",
       "      <td>9237-HQITU</td>\n",
       "      <td>2019-09-01</td>\n",
       "      <td>No</td>\n",
       "      <td>Month-to-month</td>\n",
       "      <td>1</td>\n",
       "      <td>Electronic check</td>\n",
       "      <td>70.70</td>\n",
       "      <td>353</td>\n",
       "      <td>1</td>\n",
       "      <td>0</td>\n",
       "      <td>0</td>\n",
       "      <td>0</td>\n",
       "      <td>Fiber optic</td>\n",
       "      <td>0</td>\n",
       "      <td>0</td>\n",
       "      <td>0</td>\n",
       "      <td>0</td>\n",
       "      <td>0</td>\n",
       "      <td>0</td>\n",
       "      <td>No</td>\n",
       "    </tr>\n",
       "  </tbody>\n",
       "</table>\n",
       "</div>"
      ],
      "text/plain": [
       "  customer_id  begin_date end_date            type  paperless_billing  \\\n",
       "0  7590-VHVEG  2020-01-01       No  Month-to-month                  1   \n",
       "1  5575-GNVDE  2017-04-01       No        One year                  0   \n",
       "2  3668-QPYBK  2019-10-01       No  Month-to-month                  1   \n",
       "3  7795-CFOCW  2016-05-01       No        One year                  0   \n",
       "4  9237-HQITU  2019-09-01       No  Month-to-month                  1   \n",
       "\n",
       "              payment_method  monthly_charges  total_charges  gender  \\\n",
       "0           Electronic check            29.85             31       1   \n",
       "1               Mailed check            56.95           2071       0   \n",
       "2               Mailed check            53.85            226       0   \n",
       "3  Bank transfer (automatic)            42.30           1960       0   \n",
       "4           Electronic check            70.70            353       1   \n",
       "\n",
       "   senior_citizen  partner  dependents internet_service  online_security  \\\n",
       "0               0        1           0              DSL                0   \n",
       "1               0        0           0              DSL                1   \n",
       "2               0        0           0              DSL                1   \n",
       "3               0        0           0              DSL                1   \n",
       "4               0        0           0      Fiber optic                0   \n",
       "\n",
       "   online_backup  device_protection  tech_support  streaming_tv  \\\n",
       "0              1                  0             0             0   \n",
       "1              0                  1             0             0   \n",
       "2              1                  0             0             0   \n",
       "3              0                  1             1             0   \n",
       "4              0                  0             0             0   \n",
       "\n",
       "   streaming_movies multiple_lines  \n",
       "0                 0           Miss  \n",
       "1                 0             No  \n",
       "2                 0             No  \n",
       "3                 0           Miss  \n",
       "4                 0             No  "
      ]
     },
     "execution_count": 16,
     "metadata": {},
     "output_type": "execute_result"
    }
   ],
   "source": [
    "binary_columns = ['paperless_billing', 'partner', 'dependents',\n",
    "                 'online_security', 'online_backup', 'device_protection',\n",
    "                 'tech_support', 'streaming_tv', 'streaming_movies']\n",
    "\n",
    "for column in binary_columns:\n",
    "    data[column] = data[column].replace(['Yes', 'No'], [1, 0])\n",
    "    \n",
    "data['gender'] = data['gender'].replace(['Female', 'Male'], [1, 0])\n",
    "\n",
    "data.head()"
   ]
  },
  {
   "cell_type": "markdown",
   "id": "a90b5cfd",
   "metadata": {},
   "source": [
    "### Добавление новых признаков"
   ]
  },
  {
   "cell_type": "markdown",
   "id": "a7e27827",
   "metadata": {},
   "source": [
    "Для избежания утечки данных во время обучения алгоритмов нужно избавиться от признаков с датами начала и окончания договора, но сначала сделаем с их помощью новые признаки\n",
    "\n",
    "Посмотрим последнюю загруженную дату начала договора и содержимое признака **end_date**, чтобы определить, что должно быть в будущем целевом признаке"
   ]
  },
  {
   "cell_type": "code",
   "execution_count": 17,
   "id": "77a4dccd",
   "metadata": {},
   "outputs": [
    {
     "data": {
      "text/plain": [
       "No            5942\n",
       "2020-01-01      39\n",
       "2019-12-01      38\n",
       "2018-11-01      35\n",
       "2019-09-01      32\n",
       "              ... \n",
       "2015-04-01       2\n",
       "2014-09-01       2\n",
       "2014-06-01       1\n",
       "2014-10-01       1\n",
       "2014-11-01       1\n",
       "Name: end_date, Length: 67, dtype: int64"
      ]
     },
     "metadata": {},
     "output_type": "display_data"
    }
   ],
   "source": [
    "display(data['end_date'].value_counts())"
   ]
  },
  {
   "cell_type": "markdown",
   "id": "ddcaf53c",
   "metadata": {},
   "source": [
    "На основе указанных столбцов с датами сделаем два новых признака: целевой признак и длительность договора в днях.\n",
    "\n",
    "Так как мы будем решать задачу классификации, а целевым признаком будем информация об актуальности договора, то сделаем следующее:\n",
    "- В столбце end_date заменим **No** на заглушку-дату 2020-02-01, т.е. дату выгрузки датасета\n",
    "- Если в столбце end_date стоит дата окончания пользования услугами – значит клиент ушёл (True), заменим даты цифрой 1\n",
    "- Если же стоит заглушка, то есть отсутствие даты окончания, значит договор еще действующий (False), и вместо заглушки поставим 0"
   ]
  },
  {
   "cell_type": "code",
   "execution_count": 18,
   "id": "875046c2",
   "metadata": {
    "scrolled": false
   },
   "outputs": [
    {
     "data": {
      "text/plain": [
       "2020-02-01    5942\n",
       "2020-01-01      39\n",
       "2019-12-01      38\n",
       "2018-11-01      35\n",
       "2019-09-01      32\n",
       "              ... \n",
       "2014-09-01       2\n",
       "2014-12-01       2\n",
       "2014-06-01       1\n",
       "2014-10-01       1\n",
       "2014-11-01       1\n",
       "Name: end_date, Length: 67, dtype: int64"
      ]
     },
     "execution_count": 18,
     "metadata": {},
     "output_type": "execute_result"
    }
   ],
   "source": [
    "# меняем No на заглушку-дату\n",
    "data['end_date'] = data['end_date'].replace(['No'], ['2020-02-01']) \n",
    "data['end_date'].value_counts()"
   ]
  },
  {
   "cell_type": "code",
   "execution_count": 19,
   "id": "25731fc8",
   "metadata": {},
   "outputs": [
    {
     "data": {
      "text/plain": [
       "0    5942\n",
       "1    1101\n",
       "Name: target, dtype: int64"
      ]
     },
     "execution_count": 19,
     "metadata": {},
     "output_type": "execute_result"
    }
   ],
   "source": [
    "''' все строки, которые True (не равны заглушке и означают, что договор расторгнут) \n",
    "будут иметь значение 1, а False (действующие договоры) будут равны 0 '''\n",
    "data['target'] = (data['end_date'] != '2020-02-01') * 1\n",
    "data['target'].value_counts()"
   ]
  },
  {
   "cell_type": "markdown",
   "id": "78175be6",
   "metadata": {},
   "source": [
    "Чтобы рассчитать длительность договора, нужно привести оба столбца к формату datetime64 и затем создать новый столбец на основе разницы между датой окончания и датой начала договора"
   ]
  },
  {
   "cell_type": "code",
   "execution_count": 20,
   "id": "2261b0d6",
   "metadata": {},
   "outputs": [
    {
     "name": "stdout",
     "output_type": "stream",
     "text": [
      "datetime64[ns]\n",
      "datetime64[ns]\n"
     ]
    }
   ],
   "source": [
    "date_column = ['begin_date', 'end_date']\n",
    "# приводим столбцы к формату datetime64\n",
    "for col in date_column:\n",
    "    data[col] = pd.to_datetime(data[col], format = '%Y-%m-%d')\n",
    "    print(data[col].dtypes)"
   ]
  },
  {
   "cell_type": "code",
   "execution_count": 21,
   "id": "21524e2e",
   "metadata": {},
   "outputs": [
    {
     "data": {
      "text/plain": [
       "2191    265\n",
       "153     249\n",
       "92      243\n",
       "31      236\n",
       "123     236\n",
       "       ... \n",
       "121       1\n",
       "2253      1\n",
       "424       1\n",
       "1309      1\n",
       "547       1\n",
       "Name: contract_duration, Length: 251, dtype: int64"
      ]
     },
     "execution_count": 21,
     "metadata": {},
     "output_type": "execute_result"
    }
   ],
   "source": [
    "# используем abs, тк длительность договора не может быть отрицательной\n",
    "# и преобразуем столбец в int\n",
    "data['contract_duration'] = abs(data['end_date'] - data['begin_date']).dt.days\n",
    "data['contract_duration'].value_counts()"
   ]
  },
  {
   "cell_type": "code",
   "execution_count": 22,
   "id": "fd7acb03",
   "metadata": {},
   "outputs": [
    {
     "data": {
      "image/png": "[encoded data removed]",
      "text/plain": [
       "<Figure size 576x432 with 1 Axes>"
      ]
     },
     "metadata": {},
     "output_type": "display_data"
    }
   ],
   "source": [
    "sns.set_style('darkgrid')\n",
    "fig, ax = plt.subplots(figsize = (8, 6))\n",
    "sns.countplot(x = 'target', data = data, ax = ax)\n",
    "\n",
    "ax.set_title('Распределение целевой переменной', fontsize = 18)\n",
    "ax.set_xlabel('Классы', fontsize = 15)\n",
    "ax.set_ylabel('Количество наблюдений', fontsize = 15)\n",
    "\n",
    "plt.show();"
   ]
  },
  {
   "cell_type": "markdown",
   "id": "23608c9b",
   "metadata": {},
   "source": [
    "Наблюдается дисбаланс классов с перевесом в пользу действующих договоров. При обучении алгоритмов решим проблему дисбаланса с помощью параметра **class_weight='balanced'**, который автоматически вычисляет веса классов, пропорциональных количеству наблюдений в каждом классе. Таким образом, класс с меньшим количеством наблюдений, в нашем случае класс 1, будут иметь больший вес, что поможет сбалансировать данные и улучшить качество модели на несбалансированных данных.\n",
    "\n",
    "С датами разобрались, поэтому можем удалить столбцы begin_date и end_date. Заодно уберем customer_id – при обучении и анализе мультиколлинеарности он ничего нам не даст"
   ]
  },
  {
   "cell_type": "code",
   "execution_count": 23,
   "id": "eda1ccee",
   "metadata": {},
   "outputs": [
    {
     "data": {
      "text/plain": [
       "Index(['type', 'paperless_billing', 'payment_method', 'monthly_charges',\n",
       "       'total_charges', 'gender', 'senior_citizen', 'partner', 'dependents',\n",
       "       'internet_service', 'online_security', 'online_backup',\n",
       "       'device_protection', 'tech_support', 'streaming_tv', 'streaming_movies',\n",
       "       'multiple_lines', 'target', 'contract_duration'],\n",
       "      dtype='object')"
      ]
     },
     "execution_count": 23,
     "metadata": {},
     "output_type": "execute_result"
    }
   ],
   "source": [
    "data = data.drop(['begin_date', 'end_date', 'customer_id'], axis = 1)\n",
    "data.columns"
   ]
  },
  {
   "cell_type": "markdown",
   "id": "1d1826b0",
   "metadata": {},
   "source": [
    "### Исследовательский анализ по действующим и ушедшим клиентам"
   ]
  },
  {
   "cell_type": "markdown",
   "id": "cb6f5964",
   "metadata": {},
   "source": [
    "Совместим на каждом графике две группы: ушедшие (класс 1) и действующие (класс 0) клиенты, чтобы рассмотреть распределение признаков, возможно, выявить закономерность почему уходили клиенты"
   ]
  },
  {
   "cell_type": "code",
   "execution_count": 24,
   "id": "e8d25c59",
   "metadata": {},
   "outputs": [],
   "source": [
    "def make_histplot(column, title, xlabel):\n",
    "    plt.figure(figsize=(15, 7))\n",
    "    sns.histplot(data, x = column, hue = 'target', multiple = 'stack', bins=25)\n",
    "    plt.title(title, fontsize=18)\n",
    "    plt.xlabel(xlabel, fontsize=15)\n",
    "    plt.ylabel('Количество клиентов', fontsize=15)\n",
    "    plt.show();"
   ]
  },
  {
   "cell_type": "code",
   "execution_count": 25,
   "id": "40908049",
   "metadata": {},
   "outputs": [
    {
     "data": {
      "image/png": "[encoded data removed]",
      "text/plain": [
       "<Figure size 1080x504 with 1 Axes>"
      ]
     },
     "metadata": {},
     "output_type": "display_data"
    }
   ],
   "source": [
    "make_histplot('monthly_charges', \n",
    "              'Распределение клиентов по размеру ежемесячных трат', \n",
    "              'Размер ежемесячных трат')"
   ]
  },
  {
   "cell_type": "markdown",
   "id": "dbf95f54",
   "metadata": {},
   "source": [
    "- Выделяются ушедшие клиенты, которые потратили от 80 до 105 y.e. Возможно они не знали о каких-либо выгодных условиях, и ушли к другому оператору с более дешевыми услугами\n",
    "- Большое количество действующих клиентов потратили на услуги оператора связи не более 20 y.e., но в целом распределение затрат среди действующих клиентов находится в диапазоне от 40 до 100 y.e."
   ]
  },
  {
   "cell_type": "code",
   "execution_count": 26,
   "id": "21e5249c",
   "metadata": {},
   "outputs": [
    {
     "data": {
      "image/png": "[encoded data removed]",
      "text/plain": [
       "<Figure size 1080x504 with 1 Axes>"
      ]
     },
     "metadata": {},
     "output_type": "display_data"
    }
   ],
   "source": [
    "make_histplot('total_charges', \n",
    "              'Распределение клиентов по размеру итоговых трат', \n",
    "              'Размер итоговых трат')"
   ]
  },
  {
   "cell_type": "markdown",
   "id": "53c9c7cc",
   "metadata": {},
   "source": [
    "- Наблюдается пик среди действующих клиентов, скорее всего это недавно заключенные договора, по которым еще не производилась оплата"
   ]
  },
  {
   "cell_type": "code",
   "execution_count": 27,
   "id": "d40c1721",
   "metadata": {},
   "outputs": [
    {
     "data": {
      "image/png": "[encoded data removed]",
      "text/plain": [
       "<Figure size 1080x504 with 1 Axes>"
      ]
     },
     "metadata": {},
     "output_type": "display_data"
    }
   ],
   "source": [
    "make_histplot('type', \n",
    "              'Распределение клиентов по типу оплаты', \n",
    "              'Тип оплаты')"
   ]
  },
  {
   "cell_type": "markdown",
   "id": "20506688",
   "metadata": {},
   "source": [
    "- Ушедшие клиенты равномерно распределились по каждой группе, поэтому сказать, что их не устраивал какой-то конкретный тип оплаты нельзя\n",
    "- Действующие клиенты больше предпочитают ежемесячный тип оплаты"
   ]
  },
  {
   "cell_type": "code",
   "execution_count": 28,
   "id": "14d0cc65",
   "metadata": {},
   "outputs": [
    {
     "data": {
      "image/png": "[encoded data removed]",
      "text/plain": [
       "<Figure size 1080x504 with 1 Axes>"
      ]
     },
     "metadata": {},
     "output_type": "display_data"
    }
   ],
   "source": [
    "make_histplot('payment_method', \n",
    "              'Распределение клиентов по способу оплаты', \n",
    "              'Способ оплаты')"
   ]
  },
  {
   "cell_type": "markdown",
   "id": "3b44623a",
   "metadata": {},
   "source": [
    "- Ушедшие клиенты меньше всего пользовались бумажными чеками, направленными по почте, и в равной мере предпочитали остальные способы\n",
    "- Действующие клиенты больше предпочитают электронный чек"
   ]
  },
  {
   "cell_type": "code",
   "execution_count": 29,
   "id": "d18ed3df",
   "metadata": {},
   "outputs": [
    {
     "data": {
      "image/png": "[encoded data removed]",
      "text/plain": [
       "<Figure size 1080x504 with 1 Axes>"
      ]
     },
     "metadata": {},
     "output_type": "display_data"
    }
   ],
   "source": [
    "make_histplot('internet_service', \n",
    "              'Распределение клиентов по типу подключения интернета', \n",
    "              'Тип подключения интернета')"
   ]
  },
  {
   "cell_type": "markdown",
   "id": "b1bf12c3",
   "metadata": {},
   "source": [
    "- Большая доля и действующих, и ушедших клиентов предпочитает оптоволоконный кабель, и чуть меньше цифровую линию\n",
    "- 1500 действующих клиентов не подключали интернет"
   ]
  },
  {
   "cell_type": "code",
   "execution_count": 30,
   "id": "e47cebf3",
   "metadata": {},
   "outputs": [
    {
     "data": {
      "image/png": "[encoded data removed]",
      "text/plain": [
       "<Figure size 1080x504 with 1 Axes>"
      ]
     },
     "metadata": {},
     "output_type": "display_data"
    }
   ],
   "source": [
    "make_histplot('contract_duration', \n",
    "              'Распределение клиентов по длительности договора', \n",
    "              'Длительность договора')"
   ]
  },
  {
   "cell_type": "markdown",
   "id": "9e69171e",
   "metadata": {},
   "source": [
    "- Большая часть клиентов уходила в диапазоне с 500 по 1300 дней. Это не маленький срок, скорее всего, клиенты находили более выгодные для себя варианты, которые текущий оператор не предлагал\n",
    "- Отмечается резкий пик среди новых действующих клиентов, и среди старожилов (более 2000 дней)"
   ]
  },
  {
   "cell_type": "markdown",
   "id": "855736b0",
   "metadata": {},
   "source": [
    "### Проверка признаков на мультиколлинеарность"
   ]
  },
  {
   "cell_type": "code",
   "execution_count": 31,
   "id": "33e08ac0",
   "metadata": {
    "scrolled": false
   },
   "outputs": [
    {
     "data": {
      "text/html": [
       "<div>\n",
       "<style scoped>\n",
       "    .dataframe tbody tr th:only-of-type {\n",
       "        vertical-align: middle;\n",
       "    }\n",
       "\n",
       "    .dataframe tbody tr th {\n",
       "        vertical-align: top;\n",
       "    }\n",
       "\n",
       "    .dataframe thead th {\n",
       "        text-align: right;\n",
       "    }\n",
       "</style>\n",
       "<table border=\"1\" class=\"dataframe\">\n",
       "  <thead>\n",
       "    <tr style=\"text-align: right;\">\n",
       "      <th></th>\n",
       "      <th>type</th>\n",
       "      <th>paperless_billing</th>\n",
       "      <th>payment_method</th>\n",
       "      <th>monthly_charges</th>\n",
       "      <th>total_charges</th>\n",
       "      <th>gender</th>\n",
       "      <th>senior_citizen</th>\n",
       "      <th>partner</th>\n",
       "      <th>dependents</th>\n",
       "      <th>internet_service</th>\n",
       "      <th>online_security</th>\n",
       "      <th>online_backup</th>\n",
       "      <th>device_protection</th>\n",
       "      <th>tech_support</th>\n",
       "      <th>streaming_tv</th>\n",
       "      <th>streaming_movies</th>\n",
       "      <th>multiple_lines</th>\n",
       "      <th>target</th>\n",
       "      <th>contract_duration</th>\n",
       "    </tr>\n",
       "  </thead>\n",
       "  <tbody>\n",
       "    <tr>\n",
       "      <th>type</th>\n",
       "      <td>1.00</td>\n",
       "      <td>0.11</td>\n",
       "      <td>0.28</td>\n",
       "      <td>0.39</td>\n",
       "      <td>0.74</td>\n",
       "      <td>0.00</td>\n",
       "      <td>0.09</td>\n",
       "      <td>0.18</td>\n",
       "      <td>0.15</td>\n",
       "      <td>0.51</td>\n",
       "      <td>0.15</td>\n",
       "      <td>0.10</td>\n",
       "      <td>0.14</td>\n",
       "      <td>0.18</td>\n",
       "      <td>0.07</td>\n",
       "      <td>0.07</td>\n",
       "      <td>0.24</td>\n",
       "      <td>0.09</td>\n",
       "      <td>0.63</td>\n",
       "    </tr>\n",
       "    <tr>\n",
       "      <th>paperless_billing</th>\n",
       "      <td>0.11</td>\n",
       "      <td>1.00</td>\n",
       "      <td>0.37</td>\n",
       "      <td>0.47</td>\n",
       "      <td>0.16</td>\n",
       "      <td>0.00</td>\n",
       "      <td>0.24</td>\n",
       "      <td>0.01</td>\n",
       "      <td>0.17</td>\n",
       "      <td>0.23</td>\n",
       "      <td>0.00</td>\n",
       "      <td>0.20</td>\n",
       "      <td>0.16</td>\n",
       "      <td>0.06</td>\n",
       "      <td>0.34</td>\n",
       "      <td>0.33</td>\n",
       "      <td>0.10</td>\n",
       "      <td>0.08</td>\n",
       "      <td>0.03</td>\n",
       "    </tr>\n",
       "    <tr>\n",
       "      <th>payment_method</th>\n",
       "      <td>0.28</td>\n",
       "      <td>0.37</td>\n",
       "      <td>1.00</td>\n",
       "      <td>0.40</td>\n",
       "      <td>0.50</td>\n",
       "      <td>0.00</td>\n",
       "      <td>0.29</td>\n",
       "      <td>0.24</td>\n",
       "      <td>0.22</td>\n",
       "      <td>0.32</td>\n",
       "      <td>0.26</td>\n",
       "      <td>0.28</td>\n",
       "      <td>0.31</td>\n",
       "      <td>0.27</td>\n",
       "      <td>0.38</td>\n",
       "      <td>0.38</td>\n",
       "      <td>0.17</td>\n",
       "      <td>0.21</td>\n",
       "      <td>0.35</td>\n",
       "    </tr>\n",
       "    <tr>\n",
       "      <th>monthly_charges</th>\n",
       "      <td>0.39</td>\n",
       "      <td>0.47</td>\n",
       "      <td>0.40</td>\n",
       "      <td>1.00</td>\n",
       "      <td>0.82</td>\n",
       "      <td>0.01</td>\n",
       "      <td>0.30</td>\n",
       "      <td>0.20</td>\n",
       "      <td>0.18</td>\n",
       "      <td>0.92</td>\n",
       "      <td>0.55</td>\n",
       "      <td>0.63</td>\n",
       "      <td>0.67</td>\n",
       "      <td>0.58</td>\n",
       "      <td>0.84</td>\n",
       "      <td>0.83</td>\n",
       "      <td>0.71</td>\n",
       "      <td>0.23</td>\n",
       "      <td>0.39</td>\n",
       "    </tr>\n",
       "    <tr>\n",
       "      <th>total_charges</th>\n",
       "      <td>0.74</td>\n",
       "      <td>0.16</td>\n",
       "      <td>0.50</td>\n",
       "      <td>0.82</td>\n",
       "      <td>1.00</td>\n",
       "      <td>0.01</td>\n",
       "      <td>0.47</td>\n",
       "      <td>0.42</td>\n",
       "      <td>0.26</td>\n",
       "      <td>0.56</td>\n",
       "      <td>0.70</td>\n",
       "      <td>0.72</td>\n",
       "      <td>0.75</td>\n",
       "      <td>0.71</td>\n",
       "      <td>0.70</td>\n",
       "      <td>0.72</td>\n",
       "      <td>0.58</td>\n",
       "      <td>0.57</td>\n",
       "      <td>0.93</td>\n",
       "    </tr>\n",
       "    <tr>\n",
       "      <th>gender</th>\n",
       "      <td>0.00</td>\n",
       "      <td>0.00</td>\n",
       "      <td>0.00</td>\n",
       "      <td>0.01</td>\n",
       "      <td>0.01</td>\n",
       "      <td>1.00</td>\n",
       "      <td>0.00</td>\n",
       "      <td>0.00</td>\n",
       "      <td>0.00</td>\n",
       "      <td>0.00</td>\n",
       "      <td>0.02</td>\n",
       "      <td>0.01</td>\n",
       "      <td>0.00</td>\n",
       "      <td>0.00</td>\n",
       "      <td>0.00</td>\n",
       "      <td>0.00</td>\n",
       "      <td>0.00</td>\n",
       "      <td>0.01</td>\n",
       "      <td>0.00</td>\n",
       "    </tr>\n",
       "    <tr>\n",
       "      <th>senior_citizen</th>\n",
       "      <td>0.09</td>\n",
       "      <td>0.24</td>\n",
       "      <td>0.29</td>\n",
       "      <td>0.30</td>\n",
       "      <td>0.47</td>\n",
       "      <td>0.00</td>\n",
       "      <td>1.00</td>\n",
       "      <td>0.02</td>\n",
       "      <td>0.32</td>\n",
       "      <td>0.16</td>\n",
       "      <td>0.06</td>\n",
       "      <td>0.10</td>\n",
       "      <td>0.09</td>\n",
       "      <td>0.09</td>\n",
       "      <td>0.16</td>\n",
       "      <td>0.19</td>\n",
       "      <td>0.09</td>\n",
       "      <td>0.09</td>\n",
       "      <td>0.06</td>\n",
       "    </tr>\n",
       "    <tr>\n",
       "      <th>partner</th>\n",
       "      <td>0.18</td>\n",
       "      <td>0.01</td>\n",
       "      <td>0.24</td>\n",
       "      <td>0.20</td>\n",
       "      <td>0.42</td>\n",
       "      <td>0.00</td>\n",
       "      <td>0.02</td>\n",
       "      <td>1.00</td>\n",
       "      <td>0.65</td>\n",
       "      <td>0.00</td>\n",
       "      <td>0.22</td>\n",
       "      <td>0.22</td>\n",
       "      <td>0.24</td>\n",
       "      <td>0.19</td>\n",
       "      <td>0.19</td>\n",
       "      <td>0.18</td>\n",
       "      <td>0.09</td>\n",
       "      <td>0.23</td>\n",
       "      <td>0.45</td>\n",
       "    </tr>\n",
       "    <tr>\n",
       "      <th>dependents</th>\n",
       "      <td>0.15</td>\n",
       "      <td>0.17</td>\n",
       "      <td>0.22</td>\n",
       "      <td>0.18</td>\n",
       "      <td>0.26</td>\n",
       "      <td>0.00</td>\n",
       "      <td>0.32</td>\n",
       "      <td>0.65</td>\n",
       "      <td>1.00</td>\n",
       "      <td>0.11</td>\n",
       "      <td>0.12</td>\n",
       "      <td>0.03</td>\n",
       "      <td>0.01</td>\n",
       "      <td>0.10</td>\n",
       "      <td>0.02</td>\n",
       "      <td>0.06</td>\n",
       "      <td>0.01</td>\n",
       "      <td>0.05</td>\n",
       "      <td>0.20</td>\n",
       "    </tr>\n",
       "    <tr>\n",
       "      <th>internet_service</th>\n",
       "      <td>0.51</td>\n",
       "      <td>0.23</td>\n",
       "      <td>0.32</td>\n",
       "      <td>0.92</td>\n",
       "      <td>0.56</td>\n",
       "      <td>0.00</td>\n",
       "      <td>0.16</td>\n",
       "      <td>0.00</td>\n",
       "      <td>0.11</td>\n",
       "      <td>1.00</td>\n",
       "      <td>0.24</td>\n",
       "      <td>0.23</td>\n",
       "      <td>0.23</td>\n",
       "      <td>0.24</td>\n",
       "      <td>0.27</td>\n",
       "      <td>0.27</td>\n",
       "      <td>0.74</td>\n",
       "      <td>0.06</td>\n",
       "      <td>0.06</td>\n",
       "    </tr>\n",
       "    <tr>\n",
       "      <th>online_security</th>\n",
       "      <td>0.15</td>\n",
       "      <td>0.00</td>\n",
       "      <td>0.26</td>\n",
       "      <td>0.55</td>\n",
       "      <td>0.70</td>\n",
       "      <td>0.02</td>\n",
       "      <td>0.06</td>\n",
       "      <td>0.22</td>\n",
       "      <td>0.12</td>\n",
       "      <td>0.24</td>\n",
       "      <td>1.00</td>\n",
       "      <td>0.43</td>\n",
       "      <td>0.42</td>\n",
       "      <td>0.53</td>\n",
       "      <td>0.27</td>\n",
       "      <td>0.29</td>\n",
       "      <td>0.10</td>\n",
       "      <td>0.13</td>\n",
       "      <td>0.40</td>\n",
       "    </tr>\n",
       "    <tr>\n",
       "      <th>online_backup</th>\n",
       "      <td>0.10</td>\n",
       "      <td>0.20</td>\n",
       "      <td>0.28</td>\n",
       "      <td>0.63</td>\n",
       "      <td>0.72</td>\n",
       "      <td>0.01</td>\n",
       "      <td>0.10</td>\n",
       "      <td>0.22</td>\n",
       "      <td>0.03</td>\n",
       "      <td>0.23</td>\n",
       "      <td>0.43</td>\n",
       "      <td>1.00</td>\n",
       "      <td>0.46</td>\n",
       "      <td>0.45</td>\n",
       "      <td>0.43</td>\n",
       "      <td>0.42</td>\n",
       "      <td>0.14</td>\n",
       "      <td>0.23</td>\n",
       "      <td>0.41</td>\n",
       "    </tr>\n",
       "    <tr>\n",
       "      <th>device_protection</th>\n",
       "      <td>0.14</td>\n",
       "      <td>0.16</td>\n",
       "      <td>0.31</td>\n",
       "      <td>0.67</td>\n",
       "      <td>0.75</td>\n",
       "      <td>0.00</td>\n",
       "      <td>0.09</td>\n",
       "      <td>0.24</td>\n",
       "      <td>0.01</td>\n",
       "      <td>0.23</td>\n",
       "      <td>0.42</td>\n",
       "      <td>0.46</td>\n",
       "      <td>1.00</td>\n",
       "      <td>0.50</td>\n",
       "      <td>0.58</td>\n",
       "      <td>0.59</td>\n",
       "      <td>0.15</td>\n",
       "      <td>0.22</td>\n",
       "      <td>0.43</td>\n",
       "    </tr>\n",
       "    <tr>\n",
       "      <th>tech_support</th>\n",
       "      <td>0.18</td>\n",
       "      <td>0.06</td>\n",
       "      <td>0.27</td>\n",
       "      <td>0.58</td>\n",
       "      <td>0.71</td>\n",
       "      <td>0.00</td>\n",
       "      <td>0.09</td>\n",
       "      <td>0.19</td>\n",
       "      <td>0.10</td>\n",
       "      <td>0.24</td>\n",
       "      <td>0.53</td>\n",
       "      <td>0.45</td>\n",
       "      <td>0.50</td>\n",
       "      <td>1.00</td>\n",
       "      <td>0.42</td>\n",
       "      <td>0.42</td>\n",
       "      <td>0.10</td>\n",
       "      <td>0.10</td>\n",
       "      <td>0.40</td>\n",
       "    </tr>\n",
       "    <tr>\n",
       "      <th>streaming_tv</th>\n",
       "      <td>0.07</td>\n",
       "      <td>0.34</td>\n",
       "      <td>0.38</td>\n",
       "      <td>0.84</td>\n",
       "      <td>0.70</td>\n",
       "      <td>0.00</td>\n",
       "      <td>0.16</td>\n",
       "      <td>0.19</td>\n",
       "      <td>0.02</td>\n",
       "      <td>0.27</td>\n",
       "      <td>0.27</td>\n",
       "      <td>0.43</td>\n",
       "      <td>0.58</td>\n",
       "      <td>0.42</td>\n",
       "      <td>1.00</td>\n",
       "      <td>0.74</td>\n",
       "      <td>0.17</td>\n",
       "      <td>0.20</td>\n",
       "      <td>0.34</td>\n",
       "    </tr>\n",
       "    <tr>\n",
       "      <th>streaming_movies</th>\n",
       "      <td>0.07</td>\n",
       "      <td>0.33</td>\n",
       "      <td>0.38</td>\n",
       "      <td>0.83</td>\n",
       "      <td>0.72</td>\n",
       "      <td>0.00</td>\n",
       "      <td>0.19</td>\n",
       "      <td>0.18</td>\n",
       "      <td>0.06</td>\n",
       "      <td>0.27</td>\n",
       "      <td>0.29</td>\n",
       "      <td>0.42</td>\n",
       "      <td>0.59</td>\n",
       "      <td>0.42</td>\n",
       "      <td>0.74</td>\n",
       "      <td>1.00</td>\n",
       "      <td>0.17</td>\n",
       "      <td>0.22</td>\n",
       "      <td>0.34</td>\n",
       "    </tr>\n",
       "    <tr>\n",
       "      <th>multiple_lines</th>\n",
       "      <td>0.24</td>\n",
       "      <td>0.10</td>\n",
       "      <td>0.17</td>\n",
       "      <td>0.71</td>\n",
       "      <td>0.58</td>\n",
       "      <td>0.00</td>\n",
       "      <td>0.09</td>\n",
       "      <td>0.09</td>\n",
       "      <td>0.01</td>\n",
       "      <td>0.74</td>\n",
       "      <td>0.10</td>\n",
       "      <td>0.14</td>\n",
       "      <td>0.15</td>\n",
       "      <td>0.10</td>\n",
       "      <td>0.17</td>\n",
       "      <td>0.17</td>\n",
       "      <td>1.00</td>\n",
       "      <td>0.11</td>\n",
       "      <td>0.35</td>\n",
       "    </tr>\n",
       "    <tr>\n",
       "      <th>target</th>\n",
       "      <td>0.09</td>\n",
       "      <td>0.08</td>\n",
       "      <td>0.21</td>\n",
       "      <td>0.23</td>\n",
       "      <td>0.57</td>\n",
       "      <td>0.01</td>\n",
       "      <td>0.09</td>\n",
       "      <td>0.23</td>\n",
       "      <td>0.05</td>\n",
       "      <td>0.06</td>\n",
       "      <td>0.13</td>\n",
       "      <td>0.23</td>\n",
       "      <td>0.22</td>\n",
       "      <td>0.10</td>\n",
       "      <td>0.20</td>\n",
       "      <td>0.22</td>\n",
       "      <td>0.11</td>\n",
       "      <td>1.00</td>\n",
       "      <td>0.37</td>\n",
       "    </tr>\n",
       "    <tr>\n",
       "      <th>contract_duration</th>\n",
       "      <td>0.63</td>\n",
       "      <td>0.03</td>\n",
       "      <td>0.35</td>\n",
       "      <td>0.39</td>\n",
       "      <td>0.93</td>\n",
       "      <td>0.00</td>\n",
       "      <td>0.06</td>\n",
       "      <td>0.45</td>\n",
       "      <td>0.20</td>\n",
       "      <td>0.06</td>\n",
       "      <td>0.40</td>\n",
       "      <td>0.41</td>\n",
       "      <td>0.43</td>\n",
       "      <td>0.40</td>\n",
       "      <td>0.34</td>\n",
       "      <td>0.34</td>\n",
       "      <td>0.35</td>\n",
       "      <td>0.37</td>\n",
       "      <td>1.00</td>\n",
       "    </tr>\n",
       "  </tbody>\n",
       "</table>\n",
       "</div>"
      ],
      "text/plain": [
       "                   type  paperless_billing  payment_method  monthly_charges  \\\n",
       "type               1.00               0.11            0.28             0.39   \n",
       "paperless_billing  0.11               1.00            0.37             0.47   \n",
       "payment_method     0.28               0.37            1.00             0.40   \n",
       "monthly_charges    0.39               0.47            0.40             1.00   \n",
       "total_charges      0.74               0.16            0.50             0.82   \n",
       "gender             0.00               0.00            0.00             0.01   \n",
       "senior_citizen     0.09               0.24            0.29             0.30   \n",
       "partner            0.18               0.01            0.24             0.20   \n",
       "dependents         0.15               0.17            0.22             0.18   \n",
       "internet_service   0.51               0.23            0.32             0.92   \n",
       "online_security    0.15               0.00            0.26             0.55   \n",
       "online_backup      0.10               0.20            0.28             0.63   \n",
       "device_protection  0.14               0.16            0.31             0.67   \n",
       "tech_support       0.18               0.06            0.27             0.58   \n",
       "streaming_tv       0.07               0.34            0.38             0.84   \n",
       "streaming_movies   0.07               0.33            0.38             0.83   \n",
       "multiple_lines     0.24               0.10            0.17             0.71   \n",
       "target             0.09               0.08            0.21             0.23   \n",
       "contract_duration  0.63               0.03            0.35             0.39   \n",
       "\n",
       "                   total_charges  gender  senior_citizen  partner  dependents  \\\n",
       "type                        0.74    0.00            0.09     0.18        0.15   \n",
       "paperless_billing           0.16    0.00            0.24     0.01        0.17   \n",
       "payment_method              0.50    0.00            0.29     0.24        0.22   \n",
       "monthly_charges             0.82    0.01            0.30     0.20        0.18   \n",
       "total_charges               1.00    0.01            0.47     0.42        0.26   \n",
       "gender                      0.01    1.00            0.00     0.00        0.00   \n",
       "senior_citizen              0.47    0.00            1.00     0.02        0.32   \n",
       "partner                     0.42    0.00            0.02     1.00        0.65   \n",
       "dependents                  0.26    0.00            0.32     0.65        1.00   \n",
       "internet_service            0.56    0.00            0.16     0.00        0.11   \n",
       "online_security             0.70    0.02            0.06     0.22        0.12   \n",
       "online_backup               0.72    0.01            0.10     0.22        0.03   \n",
       "device_protection           0.75    0.00            0.09     0.24        0.01   \n",
       "tech_support                0.71    0.00            0.09     0.19        0.10   \n",
       "streaming_tv                0.70    0.00            0.16     0.19        0.02   \n",
       "streaming_movies            0.72    0.00            0.19     0.18        0.06   \n",
       "multiple_lines              0.58    0.00            0.09     0.09        0.01   \n",
       "target                      0.57    0.01            0.09     0.23        0.05   \n",
       "contract_duration           0.93    0.00            0.06     0.45        0.20   \n",
       "\n",
       "                   internet_service  online_security  online_backup  \\\n",
       "type                           0.51             0.15           0.10   \n",
       "paperless_billing              0.23             0.00           0.20   \n",
       "payment_method                 0.32             0.26           0.28   \n",
       "monthly_charges                0.92             0.55           0.63   \n",
       "total_charges                  0.56             0.70           0.72   \n",
       "gender                         0.00             0.02           0.01   \n",
       "senior_citizen                 0.16             0.06           0.10   \n",
       "partner                        0.00             0.22           0.22   \n",
       "dependents                     0.11             0.12           0.03   \n",
       "internet_service               1.00             0.24           0.23   \n",
       "online_security                0.24             1.00           0.43   \n",
       "online_backup                  0.23             0.43           1.00   \n",
       "device_protection              0.23             0.42           0.46   \n",
       "tech_support                   0.24             0.53           0.45   \n",
       "streaming_tv                   0.27             0.27           0.43   \n",
       "streaming_movies               0.27             0.29           0.42   \n",
       "multiple_lines                 0.74             0.10           0.14   \n",
       "target                         0.06             0.13           0.23   \n",
       "contract_duration              0.06             0.40           0.41   \n",
       "\n",
       "                   device_protection  tech_support  streaming_tv  \\\n",
       "type                            0.14          0.18          0.07   \n",
       "paperless_billing               0.16          0.06          0.34   \n",
       "payment_method                  0.31          0.27          0.38   \n",
       "monthly_charges                 0.67          0.58          0.84   \n",
       "total_charges                   0.75          0.71          0.70   \n",
       "gender                          0.00          0.00          0.00   \n",
       "senior_citizen                  0.09          0.09          0.16   \n",
       "partner                         0.24          0.19          0.19   \n",
       "dependents                      0.01          0.10          0.02   \n",
       "internet_service                0.23          0.24          0.27   \n",
       "online_security                 0.42          0.53          0.27   \n",
       "online_backup                   0.46          0.45          0.43   \n",
       "device_protection               1.00          0.50          0.58   \n",
       "tech_support                    0.50          1.00          0.42   \n",
       "streaming_tv                    0.58          0.42          1.00   \n",
       "streaming_movies                0.59          0.42          0.74   \n",
       "multiple_lines                  0.15          0.10          0.17   \n",
       "target                          0.22          0.10          0.20   \n",
       "contract_duration               0.43          0.40          0.34   \n",
       "\n",
       "                   streaming_movies  multiple_lines  target  contract_duration  \n",
       "type                           0.07            0.24    0.09               0.63  \n",
       "paperless_billing              0.33            0.10    0.08               0.03  \n",
       "payment_method                 0.38            0.17    0.21               0.35  \n",
       "monthly_charges                0.83            0.71    0.23               0.39  \n",
       "total_charges                  0.72            0.58    0.57               0.93  \n",
       "gender                         0.00            0.00    0.01               0.00  \n",
       "senior_citizen                 0.19            0.09    0.09               0.06  \n",
       "partner                        0.18            0.09    0.23               0.45  \n",
       "dependents                     0.06            0.01    0.05               0.20  \n",
       "internet_service               0.27            0.74    0.06               0.06  \n",
       "online_security                0.29            0.10    0.13               0.40  \n",
       "online_backup                  0.42            0.14    0.23               0.41  \n",
       "device_protection              0.59            0.15    0.22               0.43  \n",
       "tech_support                   0.42            0.10    0.10               0.40  \n",
       "streaming_tv                   0.74            0.17    0.20               0.34  \n",
       "streaming_movies               1.00            0.17    0.22               0.34  \n",
       "multiple_lines                 0.17            1.00    0.11               0.35  \n",
       "target                         0.22            0.11    1.00               0.37  \n",
       "contract_duration              0.34            0.35    0.37               1.00  "
      ]
     },
     "execution_count": 31,
     "metadata": {},
     "output_type": "execute_result"
    }
   ],
   "source": [
    "interval_cols = ['monthly_charges', 'contract_duration']\n",
    "\n",
    "phik_overview = data.phik_matrix(interval_cols=interval_cols)\n",
    "phik_overview.round(2)"
   ]
  },
  {
   "cell_type": "code",
   "execution_count": 32,
   "id": "638292fe",
   "metadata": {},
   "outputs": [
    {
     "data": {
      "image/png": "[encoded data removed]",
      "text/plain": [
       "<Figure size 1080x720 with 2 Axes>"
      ]
     },
     "metadata": {},
     "output_type": "display_data"
    }
   ],
   "source": [
    "plot_correlation_matrix(phik_overview.values, \n",
    "                        x_labels = phik_overview.columns, \n",
    "                        y_labels = phik_overview.index, \n",
    "                        vmin = 0, vmax = 1, color_map = 'Purples', \n",
    "                        title = r\"Матрица $\\phi$-корреляции\", \n",
    "                        fontsize_factor = 1.5, \n",
    "                        figsize = (15, 10))\n",
    "plt.tight_layout()"
   ]
  },
  {
   "cell_type": "markdown",
   "id": "0a6cd487",
   "metadata": {},
   "source": [
    "- С целевым признаком больше всех коррелирует новый признак длительность договора (contract_duration)\n",
    "- Заметна коррелляция у monthly_charges (ежемесячные траты на услуги) и total_charges (всего потрачено денег на услуги) с различными дополнительными услугами, что вполне логично, есть траты на доп.услуги – есть зависимость\n",
    "- Можно также отметить 0.65 корреляции при наличии супруга (partner) с наличием иждивенцев (dependents) – у многих людей в браке есть дети, которые являются иждивенцами\n",
    "- Признаки monthly_charges и total_charges также коррелируют между собой (0.71), что тоже объяснимо: растут ежемесячные траты – растет и общее количество расходов. Для обучения стоит оставить только один признак, оставим ежемесячные траты"
   ]
  },
  {
   "cell_type": "code",
   "execution_count": 33,
   "id": "01d3e685",
   "metadata": {},
   "outputs": [
    {
     "data": {
      "text/plain": [
       "Index(['type', 'paperless_billing', 'payment_method', 'monthly_charges',\n",
       "       'gender', 'senior_citizen', 'partner', 'dependents', 'internet_service',\n",
       "       'online_security', 'online_backup', 'device_protection', 'tech_support',\n",
       "       'streaming_tv', 'streaming_movies', 'multiple_lines', 'target',\n",
       "       'contract_duration'],\n",
       "      dtype='object')"
      ]
     },
     "execution_count": 33,
     "metadata": {},
     "output_type": "execute_result"
    }
   ],
   "source": [
    "data = data.drop(['total_charges'], axis = 1)\n",
    "data.columns"
   ]
  },
  {
   "cell_type": "markdown",
   "id": "be768267",
   "metadata": {},
   "source": [
    "### Разделение и кодирование данных"
   ]
  },
  {
   "cell_type": "code",
   "execution_count": 34,
   "id": "7276185d",
   "metadata": {},
   "outputs": [],
   "source": [
    "RANDOM_STATE = 240423"
   ]
  },
  {
   "cell_type": "code",
   "execution_count": 35,
   "id": "cbb90afb",
   "metadata": {},
   "outputs": [
    {
     "data": {
      "text/plain": [
       "True"
      ]
     },
     "execution_count": 35,
     "metadata": {},
     "output_type": "execute_result"
    }
   ],
   "source": [
    "features = data.drop('target', axis=1)\n",
    "target = data['target']\n",
    "\n",
    "features_train, features_test, target_train, target_test = train_test_split(features, \n",
    "                                                                            target, \n",
    "                                                                            test_size = 0.25,\n",
    "                                                                            random_state = RANDOM_STATE,\n",
    "                                                                            stratify = target)\n",
    "\n",
    "# проверим, что ничего не потеряли\n",
    "data.shape[0] == features_train.shape[0] + features_test.shape[0]"
   ]
  },
  {
   "cell_type": "markdown",
   "id": "6aa2808a",
   "metadata": {},
   "source": [
    "#### Подготовка данных для логистической регрессии и случайного леса"
   ]
  },
  {
   "cell_type": "markdown",
   "id": "efd693c4",
   "metadata": {},
   "source": [
    "Применим прямое кодирование get_dummies, так как у нас осталось мало категориальных признаков"
   ]
  },
  {
   "cell_type": "code",
   "execution_count": 36,
   "id": "e96ff977",
   "metadata": {
    "scrolled": false
   },
   "outputs": [
    {
     "data": {
      "text/plain": [
       "True"
      ]
     },
     "metadata": {},
     "output_type": "display_data"
    },
    {
     "data": {
      "text/plain": [
       "array([ True,  True,  True,  True,  True,  True,  True,  True,  True,\n",
       "        True,  True,  True,  True,  True,  True,  True,  True,  True,\n",
       "        True,  True,  True,  True])"
      ]
     },
     "metadata": {},
     "output_type": "display_data"
    },
    {
     "data": {
      "text/html": [
       "<div>\n",
       "<style scoped>\n",
       "    .dataframe tbody tr th:only-of-type {\n",
       "        vertical-align: middle;\n",
       "    }\n",
       "\n",
       "    .dataframe tbody tr th {\n",
       "        vertical-align: top;\n",
       "    }\n",
       "\n",
       "    .dataframe thead th {\n",
       "        text-align: right;\n",
       "    }\n",
       "</style>\n",
       "<table border=\"1\" class=\"dataframe\">\n",
       "  <thead>\n",
       "    <tr style=\"text-align: right;\">\n",
       "      <th></th>\n",
       "      <th>paperless_billing</th>\n",
       "      <th>monthly_charges</th>\n",
       "      <th>gender</th>\n",
       "      <th>senior_citizen</th>\n",
       "      <th>partner</th>\n",
       "      <th>dependents</th>\n",
       "      <th>online_security</th>\n",
       "      <th>online_backup</th>\n",
       "      <th>device_protection</th>\n",
       "      <th>tech_support</th>\n",
       "      <th>...</th>\n",
       "      <th>contract_duration</th>\n",
       "      <th>type_One year</th>\n",
       "      <th>type_Two year</th>\n",
       "      <th>payment_method_Credit card (automatic)</th>\n",
       "      <th>payment_method_Electronic check</th>\n",
       "      <th>payment_method_Mailed check</th>\n",
       "      <th>internet_service_Fiber optic</th>\n",
       "      <th>internet_service_No</th>\n",
       "      <th>multiple_lines_No</th>\n",
       "      <th>multiple_lines_Yes</th>\n",
       "    </tr>\n",
       "  </thead>\n",
       "  <tbody>\n",
       "    <tr>\n",
       "      <th>288</th>\n",
       "      <td>1</td>\n",
       "      <td>74.50</td>\n",
       "      <td>0</td>\n",
       "      <td>1</td>\n",
       "      <td>0</td>\n",
       "      <td>0</td>\n",
       "      <td>0</td>\n",
       "      <td>1</td>\n",
       "      <td>0</td>\n",
       "      <td>0</td>\n",
       "      <td>...</td>\n",
       "      <td>365</td>\n",
       "      <td>0</td>\n",
       "      <td>0</td>\n",
       "      <td>0</td>\n",
       "      <td>1</td>\n",
       "      <td>0</td>\n",
       "      <td>1</td>\n",
       "      <td>0</td>\n",
       "      <td>1</td>\n",
       "      <td>0</td>\n",
       "    </tr>\n",
       "    <tr>\n",
       "      <th>199</th>\n",
       "      <td>0</td>\n",
       "      <td>20.75</td>\n",
       "      <td>0</td>\n",
       "      <td>0</td>\n",
       "      <td>0</td>\n",
       "      <td>1</td>\n",
       "      <td>0</td>\n",
       "      <td>0</td>\n",
       "      <td>0</td>\n",
       "      <td>0</td>\n",
       "      <td>...</td>\n",
       "      <td>31</td>\n",
       "      <td>0</td>\n",
       "      <td>0</td>\n",
       "      <td>0</td>\n",
       "      <td>0</td>\n",
       "      <td>1</td>\n",
       "      <td>0</td>\n",
       "      <td>1</td>\n",
       "      <td>1</td>\n",
       "      <td>0</td>\n",
       "    </tr>\n",
       "  </tbody>\n",
       "</table>\n",
       "<p>2 rows × 22 columns</p>\n",
       "</div>"
      ],
      "text/plain": [
       "     paperless_billing  monthly_charges  gender  senior_citizen  partner  \\\n",
       "288                  1            74.50       0               1        0   \n",
       "199                  0            20.75       0               0        0   \n",
       "\n",
       "     dependents  online_security  online_backup  device_protection  \\\n",
       "288           0                0              1                  0   \n",
       "199           1                0              0                  0   \n",
       "\n",
       "     tech_support  ...  contract_duration  type_One year  type_Two year  \\\n",
       "288             0  ...                365              0              0   \n",
       "199             0  ...                 31              0              0   \n",
       "\n",
       "     payment_method_Credit card (automatic)  payment_method_Electronic check  \\\n",
       "288                                       0                                1   \n",
       "199                                       0                                0   \n",
       "\n",
       "     payment_method_Mailed check  internet_service_Fiber optic  \\\n",
       "288                            0                             1   \n",
       "199                            1                             0   \n",
       "\n",
       "     internet_service_No  multiple_lines_No  multiple_lines_Yes  \n",
       "288                    0                  1                   0  \n",
       "199                    1                  1                   0  \n",
       "\n",
       "[2 rows x 22 columns]"
      ]
     },
     "metadata": {},
     "output_type": "display_data"
    },
    {
     "data": {
      "text/html": [
       "<div>\n",
       "<style scoped>\n",
       "    .dataframe tbody tr th:only-of-type {\n",
       "        vertical-align: middle;\n",
       "    }\n",
       "\n",
       "    .dataframe tbody tr th {\n",
       "        vertical-align: top;\n",
       "    }\n",
       "\n",
       "    .dataframe thead th {\n",
       "        text-align: right;\n",
       "    }\n",
       "</style>\n",
       "<table border=\"1\" class=\"dataframe\">\n",
       "  <thead>\n",
       "    <tr style=\"text-align: right;\">\n",
       "      <th></th>\n",
       "      <th>paperless_billing</th>\n",
       "      <th>monthly_charges</th>\n",
       "      <th>gender</th>\n",
       "      <th>senior_citizen</th>\n",
       "      <th>partner</th>\n",
       "      <th>dependents</th>\n",
       "      <th>online_security</th>\n",
       "      <th>online_backup</th>\n",
       "      <th>device_protection</th>\n",
       "      <th>tech_support</th>\n",
       "      <th>...</th>\n",
       "      <th>contract_duration</th>\n",
       "      <th>type_One year</th>\n",
       "      <th>type_Two year</th>\n",
       "      <th>payment_method_Credit card (automatic)</th>\n",
       "      <th>payment_method_Electronic check</th>\n",
       "      <th>payment_method_Mailed check</th>\n",
       "      <th>internet_service_Fiber optic</th>\n",
       "      <th>internet_service_No</th>\n",
       "      <th>multiple_lines_No</th>\n",
       "      <th>multiple_lines_Yes</th>\n",
       "    </tr>\n",
       "  </thead>\n",
       "  <tbody>\n",
       "    <tr>\n",
       "      <th>5454</th>\n",
       "      <td>1</td>\n",
       "      <td>69.55</td>\n",
       "      <td>1</td>\n",
       "      <td>1</td>\n",
       "      <td>1</td>\n",
       "      <td>0</td>\n",
       "      <td>0</td>\n",
       "      <td>0</td>\n",
       "      <td>0</td>\n",
       "      <td>0</td>\n",
       "      <td>...</td>\n",
       "      <td>123</td>\n",
       "      <td>0</td>\n",
       "      <td>0</td>\n",
       "      <td>0</td>\n",
       "      <td>1</td>\n",
       "      <td>0</td>\n",
       "      <td>1</td>\n",
       "      <td>0</td>\n",
       "      <td>1</td>\n",
       "      <td>0</td>\n",
       "    </tr>\n",
       "    <tr>\n",
       "      <th>4489</th>\n",
       "      <td>1</td>\n",
       "      <td>53.85</td>\n",
       "      <td>1</td>\n",
       "      <td>0</td>\n",
       "      <td>1</td>\n",
       "      <td>1</td>\n",
       "      <td>0</td>\n",
       "      <td>1</td>\n",
       "      <td>0</td>\n",
       "      <td>0</td>\n",
       "      <td>...</td>\n",
       "      <td>1949</td>\n",
       "      <td>1</td>\n",
       "      <td>0</td>\n",
       "      <td>0</td>\n",
       "      <td>0</td>\n",
       "      <td>0</td>\n",
       "      <td>0</td>\n",
       "      <td>0</td>\n",
       "      <td>0</td>\n",
       "      <td>1</td>\n",
       "    </tr>\n",
       "  </tbody>\n",
       "</table>\n",
       "<p>2 rows × 22 columns</p>\n",
       "</div>"
      ],
      "text/plain": [
       "      paperless_billing  monthly_charges  gender  senior_citizen  partner  \\\n",
       "5454                  1            69.55       1               1        1   \n",
       "4489                  1            53.85       1               0        1   \n",
       "\n",
       "      dependents  online_security  online_backup  device_protection  \\\n",
       "5454           0                0              0                  0   \n",
       "4489           1                0              1                  0   \n",
       "\n",
       "      tech_support  ...  contract_duration  type_One year  type_Two year  \\\n",
       "5454             0  ...                123              0              0   \n",
       "4489             0  ...               1949              1              0   \n",
       "\n",
       "      payment_method_Credit card (automatic)  payment_method_Electronic check  \\\n",
       "5454                                       0                                1   \n",
       "4489                                       0                                0   \n",
       "\n",
       "      payment_method_Mailed check  internet_service_Fiber optic  \\\n",
       "5454                            0                             1   \n",
       "4489                            0                             0   \n",
       "\n",
       "      internet_service_No  multiple_lines_No  multiple_lines_Yes  \n",
       "5454                    0                  1                   0  \n",
       "4489                    0                  0                   1  \n",
       "\n",
       "[2 rows x 22 columns]"
      ]
     },
     "metadata": {},
     "output_type": "display_data"
    }
   ],
   "source": [
    "# закодируем категориальные признаки\n",
    "features_train_ohe = pd.get_dummies(features_train, drop_first = True)\n",
    "features_test_ohe = pd.get_dummies(features_test, drop_first = True)\n",
    "\n",
    "# проверим, что ничего не потеряли\n",
    "display(data.shape[0] == features_train_ohe.shape[0] + features_test_ohe.shape[0])\n",
    "display(features_train_ohe.columns == features_test_ohe.columns)\n",
    "\n",
    "display(features_train_ohe.head(2))\n",
    "display(features_test_ohe.head(2))"
   ]
  },
  {
   "cell_type": "markdown",
   "id": "772caa3d",
   "metadata": {},
   "source": [
    "#### Подготовка данных для модели LightGBM"
   ]
  },
  {
   "cell_type": "markdown",
   "id": "4dc17682",
   "metadata": {},
   "source": [
    "Для повышения производительности и ускорения обучения модели LightGBM преобразуем категориальные признаки из object в category"
   ]
  },
  {
   "cell_type": "code",
   "execution_count": 37,
   "id": "bcd6cb2f",
   "metadata": {
    "scrolled": false
   },
   "outputs": [
    {
     "name": "stdout",
     "output_type": "stream",
     "text": [
      "type                 category\n",
      "paperless_billing       int64\n",
      "payment_method       category\n",
      "monthly_charges       float64\n",
      "gender                  int64\n",
      "senior_citizen          int64\n",
      "partner                 int64\n",
      "dependents              int64\n",
      "internet_service     category\n",
      "online_security         int64\n",
      "online_backup           int64\n",
      "device_protection       int64\n",
      "tech_support            int64\n",
      "streaming_tv            int64\n",
      "streaming_movies        int64\n",
      "multiple_lines       category\n",
      "contract_duration       int64\n",
      "dtype: object\n",
      "--------------------------------------------------\n",
      "type                 category\n",
      "paperless_billing       int64\n",
      "payment_method       category\n",
      "monthly_charges       float64\n",
      "gender                  int64\n",
      "senior_citizen          int64\n",
      "partner                 int64\n",
      "dependents              int64\n",
      "internet_service     category\n",
      "online_security         int64\n",
      "online_backup           int64\n",
      "device_protection       int64\n",
      "tech_support            int64\n",
      "streaming_tv            int64\n",
      "streaming_movies        int64\n",
      "multiple_lines       category\n",
      "contract_duration       int64\n",
      "dtype: object\n"
     ]
    }
   ],
   "source": [
    "# отбираем категориальные признаки\n",
    "categorical = features_train.dtypes[features_train.dtypes == 'object'].index\n",
    "\n",
    "# преобразовываем в тип 'category'\n",
    "features_train[categorical] = (features_train[categorical].astype('category'))\n",
    "features_test[categorical] = (features_test[categorical].astype('category'))\n",
    "\n",
    "# проверяем\n",
    "print(features_train.dtypes)\n",
    "print('-' * 50)\n",
    "print(features_test.dtypes)"
   ]
  },
  {
   "cell_type": "markdown",
   "id": "e16ac5e7",
   "metadata": {},
   "source": [
    "## Обучение моделей"
   ]
  },
  {
   "cell_type": "code",
   "execution_count": 38,
   "id": "bde658e2",
   "metadata": {},
   "outputs": [],
   "source": [
    "CV = 5"
   ]
  },
  {
   "cell_type": "code",
   "execution_count": 39,
   "id": "b689e16b",
   "metadata": {},
   "outputs": [],
   "source": [
    "# создадим функцию для кросс-валидации\n",
    "\n",
    "roc_auc_list = []\n",
    "accuracy_list = []\n",
    "models_list = []\n",
    "\n",
    "def make_rs(model, parameters, features_train, target_train):\n",
    "    \n",
    "    scoring = {'roc_auc': 'roc_auc', 'accuracy': 'accuracy'}\n",
    "    \n",
    "    model = RandomizedSearchCV(model,\n",
    "                               parameters,\n",
    "                               random_state = RANDOM_STATE,\n",
    "                               cv = CV,\n",
    "                               scoring = scoring,\n",
    "                               refit = 'roc_auc',\n",
    "                               n_jobs = -1)\n",
    "    \n",
    "    model.fit(features_train, target_train)\n",
    "    \n",
    "    roc_auc_value = round(model.cv_results_['mean_test_roc_auc'][model.best_index_], 2)\n",
    "    accuracy_value = round(model.cv_results_['mean_test_accuracy'][model.best_index_], 2)\n",
    "    \n",
    "    roc_auc_list.append(roc_auc_value)\n",
    "    accuracy_list.append(accuracy_value)\n",
    "    models_list.append(model.best_estimator_)\n",
    "    \n",
    "    print(model.best_params_)\n",
    "    print(f'ROC-AUC: {roc_auc_value:.2f}')\n",
    "    print(f'Accuracy: {accuracy_value:.2f}')\n",
    "    print()"
   ]
  },
  {
   "cell_type": "markdown",
   "id": "ac492c17",
   "metadata": {},
   "source": [
    "### Логистическая регрессия"
   ]
  },
  {
   "cell_type": "code",
   "execution_count": 40,
   "id": "c4cc6239",
   "metadata": {},
   "outputs": [
    {
     "name": "stdout",
     "output_type": "stream",
     "text": [
      "{'solver': 'liblinear', 'penalty': 'l1', 'fit_intercept': True, 'C': 10}\n",
      "ROC-AUC: 0.76\n",
      "Accuracy: 0.70\n",
      "\n",
      "CPU times: user 15.1 s, sys: 8 s, total: 23.1 s\n",
      "Wall time: 23.2 s\n"
     ]
    }
   ],
   "source": [
    "%%time\n",
    "\n",
    "model_lr = LogisticRegression(random_state = RANDOM_STATE, class_weight = 'balanced')\n",
    "\n",
    "parameters = {\n",
    "    'penalty': ['l1', 'l2', 'elasticnet', 'none'],\n",
    "    'C': [0.1, 1, 10],\n",
    "    'fit_intercept': [True, False],\n",
    "    'solver': ['newton-cg', 'lbfgs', 'liblinear', 'sag', 'saga']\n",
    "}\n",
    "\n",
    "make_rs(model_lr, parameters, features_train_ohe, target_train)"
   ]
  },
  {
   "cell_type": "markdown",
   "id": "9ff3e848",
   "metadata": {},
   "source": [
    "### Случайный лес"
   ]
  },
  {
   "cell_type": "code",
   "execution_count": 41,
   "id": "788c98cb",
   "metadata": {},
   "outputs": [
    {
     "name": "stdout",
     "output_type": "stream",
     "text": [
      "{'n_estimators': 450, 'min_samples_split': 3, 'min_samples_leaf': 4, 'max_features': 9, 'max_depth': 7, 'criterion': 'entropy'}\n",
      "ROC-AUC: 0.83\n",
      "Accuracy: 0.77\n",
      "\n",
      "CPU times: user 53 s, sys: 22.7 ms, total: 53 s\n",
      "Wall time: 53 s\n"
     ]
    }
   ],
   "source": [
    "%%time\n",
    "\n",
    "model_rf = RandomForestClassifier(random_state = RANDOM_STATE, class_weight = 'balanced')\n",
    "\n",
    "parameters = {\n",
    "    'max_depth': [2, 7],\n",
    "    'n_estimators': [150, 300, 450, 500],\n",
    "    'max_features': [5, 7, 9],\n",
    "    'min_samples_leaf': [3, 4, 6],\n",
    "    'min_samples_split': [2, 3, 4],\n",
    "    'criterion': ['gini','entropy']\n",
    "}\n",
    "\n",
    "make_rs(model_rf, parameters, features_train_ohe, target_train)"
   ]
  },
  {
   "cell_type": "markdown",
   "id": "d0d91329",
   "metadata": {},
   "source": [
    "### LightGBM"
   ]
  },
  {
   "cell_type": "code",
   "execution_count": null,
   "id": "88c3defe",
   "metadata": {
    "scrolled": false
   },
   "outputs": [
    {
     "name": "stdout",
     "output_type": "stream",
     "text": [
      "[LightGBM] [Warning] Unknown parameter: gamma\n"
     ]
    }
   ],
   "source": [
    "%%time\n",
    "\n",
    "model_lgbm = LGBMClassifier(random_state = RANDOM_STATE, class_weight = 'balanced')\n",
    "\n",
    "parameters = {\n",
    "    'boosting_type': ['gbdt', 'goss', 'dart'],\n",
    "    'learning_rate': [0.05, 0.01, 0.1, 0.5],\n",
    "    'max_depth': [10, 20, 50, 100],\n",
    "    'gamma': [0, 0.1, 0.2],\n",
    "    'reg_lambda': [0, 0.1, 0.5]\n",
    "}\n",
    "\n",
    "make_rs(model_lgbm, parameters, features_train, target_train)"
   ]
  },
  {
   "cell_type": "markdown",
   "id": "66c0005d",
   "metadata": {},
   "source": [
    "### Сравнение полученных результатов AUC-ROC и accuracy, выбор лучшей модели"
   ]
  },
  {
   "cell_type": "code",
   "execution_count": null,
   "id": "5ceb3df6",
   "metadata": {},
   "outputs": [],
   "source": [
    "# проверим, что лучшие параметры моделей сохранились корректно\n",
    "models_list"
   ]
  },
  {
   "cell_type": "code",
   "execution_count": null,
   "id": "78f423ad",
   "metadata": {},
   "outputs": [],
   "source": [
    "compare = pd.DataFrame(\n",
    "    {'Значение ROC auc': roc_auc_list,\n",
    "     'Значение accuracy': accuracy_list},\n",
    "    index = ['Логистическая регрессия', 'Случайный лес', 'LightGBM']\n",
    ")\n",
    "\n",
    "compare"
   ]
  },
  {
   "cell_type": "markdown",
   "id": "2be96964",
   "metadata": {},
   "source": [
    "Лучшие показатели по всем фронтам показала модель градиентного бустинга LightGBM"
   ]
  },
  {
   "cell_type": "markdown",
   "id": "2ff37ce8",
   "metadata": {},
   "source": [
    "## Проверка качества модели на тестовом наборе данных"
   ]
  },
  {
   "cell_type": "code",
   "execution_count": null,
   "id": "7be2de82",
   "metadata": {},
   "outputs": [],
   "source": [
    "test_model_lgbm = models_list[2]\n",
    "\n",
    "test_model_lgbm.fit(features_train, target_train)\n",
    "predictions = test_model_lgbm.predict(features_test)\n",
    "\n",
    "probabilities = test_model_lgbm.predict_proba(features_test)[:, 1]  # вероятности для класса 1\n",
    "\n",
    "roc_auc = roc_auc_score(target_test, probabilities)\n",
    "accuracy = accuracy_score(target_test, predictions)\n",
    "\n",
    "print(f'ROC-AUC: {roc_auc:.2f}')\n",
    "print(f'Accuracy: {accuracy:.2f}')"
   ]
  },
  {
   "cell_type": "markdown",
   "id": "98061f0a",
   "metadata": {},
   "source": [
    "Точность предсказаний и AUC-ROC равны 0.89 – мы смогли перейти обозначенную границу AUC-ROC >= 0.85 и добились указанной цели"
   ]
  },
  {
   "cell_type": "markdown",
   "id": "a7dafc33",
   "metadata": {},
   "source": [
    "Рассмотрим график ROC-кривой, который поможет оценить качество бинарной классификации"
   ]
  },
  {
   "cell_type": "code",
   "execution_count": null,
   "id": "46686cc5",
   "metadata": {},
   "outputs": [],
   "source": [
    "fpr, tpr, thresholds = roc_curve(target_test, probabilities)\n",
    "\n",
    "plt.figure(figsize=(7, 6))\n",
    "plt.plot(fpr, tpr, linewidth=2)\n",
    "plt.plot([0, 1], [0, 1], 'k--', linewidth=2)\n",
    "plt.title('Визуализация ROC-кривой', fontsize=18)\n",
    "plt.xlabel('False Positive Rate', fontsize=15)\n",
    "plt.ylabel('True Positive Rate', fontsize=15)\n",
    "plt.show();"
   ]
  },
  {
   "cell_type": "markdown",
   "id": "d4d1cd3a",
   "metadata": {},
   "source": [
    "Чем больше кривая ROC охватывает верхний левый угол графика и чем больше площадь под кривой, тем лучше модель классифицирует данные по категориям. У нашей модели AUC-ROC получился 0.89, а сама кривая близко к левому верхнему углу, что говорит о хорошей способности к различению 1 и 0 классов"
   ]
  },
  {
   "cell_type": "code",
   "execution_count": null,
   "id": "45911407",
   "metadata": {},
   "outputs": [],
   "source": [
    "c_matrix = confusion_matrix(target_test, predictions)\n",
    "\n",
    "plt.figure(figsize=(10, 7))\n",
    "sns.heatmap(c_matrix,\n",
    "            annot=True,\n",
    "            cmap='gist_earth',\n",
    "            fmt='d')\n",
    "plt.title('Матрица ошибок', fontsize=16)\n",
    "plt.show();"
   ]
  },
  {
   "cell_type": "markdown",
   "id": "9d3ad49d",
   "metadata": {},
   "source": [
    "Модель LightGBM сделала 1407 правильных предсказаний для класса 0 и 164 для класса 1. Это прекрасный результат с учетом того, что данных для 1 класса у нас не хватает\n",
    "\n",
    "Проверим какие признаки были полезны для выбранной модели и помогли добиться хороших показателей:"
   ]
  },
  {
   "cell_type": "code",
   "execution_count": null,
   "id": "087151c9",
   "metadata": {},
   "outputs": [],
   "source": [
    "fig, ax = plt.subplots(figsize=(7, 7), dpi=100)\n",
    "plot_importance(test_model_lgbm, ax=ax)\n",
    "plt.show();"
   ]
  },
  {
   "cell_type": "markdown",
   "id": "48d64d30",
   "metadata": {},
   "source": [
    "Двумя основными признаками, влияющими на отток клиентов являются длительность договора и ежемесячные траты. Чем дольше клиент пользуется выбранным оператором связи и больше тратит денежных средств на его услуги, тем меньше вероятность того, что он уйдет\n",
    "\n",
    "Также больше остальных имеет значение признак тип оплаты: если тип оплаты не подходит – клиенты ищут что-то более удобное\n",
    "\n",
    "Можно сделать вывод, что остальные признаки не внесли большего вклада в предсказания модели, и без них в дальнейшем можно обойтись, оставив их для статистики"
   ]
  },
  {
   "cell_type": "markdown",
   "id": "2cc663b5",
   "metadata": {},
   "source": [
    "## Проверка на адекватность с помощью константной модели"
   ]
  },
  {
   "cell_type": "code",
   "execution_count": null,
   "id": "8f404406",
   "metadata": {},
   "outputs": [],
   "source": [
    "dummy_model = DummyClassifier(strategy='stratified')\n",
    "dummy_model.fit(features_train, target_train)\n",
    "dummy_pred = dummy_model.predict(features_test)\n",
    "\n",
    "dummy_roc_auc = roc_auc_score(target_test, dummy_pred)\n",
    "dummy_accuracy = accuracy_score(target_test, dummy_pred)\n",
    "\n",
    "print(f'ROC-AUC: {dummy_roc_auc:.2f}')\n",
    "print(f'Accuracy: {dummy_accuracy:.2f}')"
   ]
  },
  {
   "cell_type": "markdown",
   "id": "1556910f",
   "metadata": {},
   "source": [
    "У константной модели показатели значительно хуже. ROC-AUC: 0.51 означает, что модель плохо различает классы и практически ничем не отличается от случайного классификатора. Поэтому выбранная нами модель LightGBM успешно прошла проверку"
   ]
  },
  {
   "cell_type": "markdown",
   "id": "57271f2c",
   "metadata": {},
   "source": [
    "## Итоговый вывод"
   ]
  },
  {
   "cell_type": "markdown",
   "id": "f97dfa02",
   "metadata": {},
   "source": [
    "На рассмотрение было предложено 4 датасета с информацией, полученной из разных источников:\n",
    "информация о договоре, персональные данные клиента, информация об интернет-услугах и информация об услугах телефонии. Нами было принято решение объединить все данные в одну таблицу для упрощения проведения предобработки данных и анализа.\n",
    "На этапе предобработки мы: \n",
    "- Привели названия стобцов к единому стилю\n",
    "- Добавили два новых признака: целевой и длительность договора\n",
    "- Проверили данные на мультиколлинеарность и приняли решение избавиться от столбцов с датами и убрать один столбец с тратами\n",
    "- Разделили данные на обучающие и тестовые, и подготовили наборы индивидуально для каждого алгоритма\n",
    "- Обучили и подобрали оптимальные гиперпараметры с помощью кросс-валидации для логистической регрессии, случайного леса и градиентного бустинга, сравнили полученные метрики\n",
    "- Проверили лучшую модель на качество при работе с тестовыми данными и адекватность при сравнении с константной моделью\n",
    "\n",
    "Выбранная модель LightGBM смогла получить AUC-ROC >= 0.85 и наибольшую accuracy на обучающих и тестовых данных\n",
    "\n",
    "📌 По итогам проведенной работы, оператору связи «Ниединогоразрыва.ком» для прогнозирования оттока клиентов стоит порекомендовать модель градиентного бустинга LightGBM с гиперпараметрами class_weight='balanced', gamma=0.1, learning_rate=0.5, max_depth=50, random_state=240423, reg_lambda=0.5\n",
    "\n",
    "📌 Большая часть клиентов уходила в диапазоне с 500 по 1300 дней. На них стоит обратить внимание и предлагать какие-либо акции и скидки на доп.услуги\n",
    "\n",
    "📌 Также компании «Ниединогоразрыва.ком» стоит провести опрос среди лояльных и будущих клиентов по типу оплаты, так как текущий выбор подходит не всем клиентам, и, возможно, будет полезным добавить новый тип или оптимизировать текущие"
   ]
  },
  {
   "cell_type": "markdown",
   "id": "adb053eb",
   "metadata": {},
   "source": [
    "## Отчет"
   ]
  },
  {
   "cell_type": "markdown",
   "id": "2ba3e325",
   "metadata": {},
   "source": [
    "Перед тем как приступить к исследованию, мы составили пошаговый план действий для каждого этапа. План состоит из 5 пунктов и большого количества подпунктов.\n",
    "\n",
    "↪ Первым делом мы импортировали все необходимые библиотеки и провели первичный (разведывательный) анализ данных, чтобы понять какие данные мы получили на вход и какую полезную информацию мы из них можем извлечь. В ходе первого этапа мы определили, что у нас есть 4 таблицы с информацией из разных источников с актуальностью на 2020-02-01: информация о договоре, персональные данные клиента, информация об интернет-услугах и информация об услугах телефонии. Всего получено 7043 уникальных наблюдений-договоров. От заказчика мы получили подробное описание столбцов в указанных таблицах, поэтому никаких проблем с идентификацией данных на текущем этапе не возникло. На этом этапе мы определили необходимые действия для второго этапа.\n",
    "\n",
    "↪ Второй этап стал самым объемным в нашем исследовании, были проделаны следующие ключевые мероприятия:\n",
    "- предобработка данных и объединение таблиц в одну общую по столбцу customer_id\n",
    "- создание нового признака длительность договора contract_duration, который в последствии оказал большое влияние на обучение и качество модели, и целевой признак target\n",
    "- проведение исследовательского анализа данных по лояльным и ушедшим клиентам\n",
    "- проверка признаков на мультиколлинеарность, в ходе которой было принято решение избавиться от одного из признаков с тратами (total_charges) из-за корреляции с другим признаком\n",
    "- обозначение константы RANDOM_STATE = 240423 и разделение данных на обучающую и тестовую выборки в соотношении 75% / 25% и кодирование данных OHE для избежания утечки\n",
    "\n",
    "В ходе работы с данными трудностей не возникало. Все этапы были одинаково полезны, без какого либо из них мы бы не смогли добиться поставленной цели. Нам удалось придерживаться первоначального плана без отклонений\n",
    "\n",
    "📌 По итогам третьего и четвертого этапа была выявлена лучшая модель: LightGBM, которая смогла получить AUC-ROC >= 0.85 и наибольшую accuracy на обучающих и тестовых данных, а именно ROC AUC – 0.89 на тесте, с гиперпараметрами class_weight='balanced', gamma=0.1, learning_rate=0.5, max_depth=50, random_state=240423, reg_lambda=0.5, которая обучалась на всех признаках, кроме: begin_date, end_date, customer_id и  total_charges. Подробнее список признаков, на которых обучалась модель можно рассмотреть ниже:"
   ]
  },
  {
   "cell_type": "code",
   "execution_count": null,
   "id": "970cb882",
   "metadata": {
    "scrolled": false
   },
   "outputs": [],
   "source": [
    "features_train.columns"
   ]
  }
 ],
 "metadata": {
  "ExecuteTimeLog": [
   {
    "duration": 53,
    "start_time": "2023-05-03T19:37:36.174Z"
   },
   {
    "duration": 3474,
    "start_time": "2023-05-03T19:37:43.666Z"
   },
   {
    "duration": 1808,
    "start_time": "2023-05-03T19:37:47.142Z"
   },
   {
    "duration": 312,
    "start_time": "2023-05-03T19:37:48.952Z"
   },
   {
    "duration": 206,
    "start_time": "2023-05-03T19:37:49.267Z"
   },
   {
    "duration": 5,
    "start_time": "2023-05-03T19:37:49.475Z"
   },
   {
    "duration": 49,
    "start_time": "2023-05-03T19:37:49.482Z"
   },
   {
    "duration": 43,
    "start_time": "2023-05-03T19:37:49.534Z"
   },
   {
    "duration": 44,
    "start_time": "2023-05-03T19:37:49.578Z"
   },
   {
    "duration": 7,
    "start_time": "2023-05-03T19:37:49.624Z"
   },
   {
    "duration": 13,
    "start_time": "2023-05-03T19:37:49.635Z"
   },
   {
    "duration": 14,
    "start_time": "2023-05-03T19:37:49.650Z"
   },
   {
    "duration": 18,
    "start_time": "2023-05-03T19:37:49.666Z"
   },
   {
    "duration": 59,
    "start_time": "2023-05-03T19:37:49.686Z"
   },
   {
    "duration": 15,
    "start_time": "2023-05-03T19:37:49.747Z"
   },
   {
    "duration": 15,
    "start_time": "2023-05-03T19:37:49.764Z"
   },
   {
    "duration": 110,
    "start_time": "2023-05-03T19:37:49.781Z"
   },
   {
    "duration": 7,
    "start_time": "2023-05-03T19:37:49.892Z"
   },
   {
    "duration": 23,
    "start_time": "2023-05-03T19:37:49.902Z"
   },
   {
    "duration": 8,
    "start_time": "2023-05-03T19:37:49.927Z"
   },
   {
    "duration": 14,
    "start_time": "2023-05-03T19:37:49.937Z"
   },
   {
    "duration": 10,
    "start_time": "2023-05-03T19:37:49.953Z"
   },
   {
    "duration": 185,
    "start_time": "2023-05-03T19:37:49.964Z"
   },
   {
    "duration": 9,
    "start_time": "2023-05-03T19:37:50.152Z"
   },
   {
    "duration": 6,
    "start_time": "2023-05-03T19:37:50.163Z"
   },
   {
    "duration": 341,
    "start_time": "2023-05-03T19:37:50.171Z"
   },
   {
    "duration": 378,
    "start_time": "2023-05-03T19:37:50.513Z"
   },
   {
    "duration": 271,
    "start_time": "2023-05-03T19:37:50.892Z"
   },
   {
    "duration": 230,
    "start_time": "2023-05-03T19:37:51.168Z"
   },
   {
    "duration": 232,
    "start_time": "2023-05-03T19:37:51.400Z"
   },
   {
    "duration": 315,
    "start_time": "2023-05-03T19:37:51.634Z"
   },
   {
    "duration": 11119,
    "start_time": "2023-05-03T19:37:51.950Z"
   },
   {
    "duration": 3506,
    "start_time": "2023-05-03T19:38:03.070Z"
   },
   {
    "duration": 8,
    "start_time": "2023-05-03T19:38:06.578Z"
   },
   {
    "duration": 8,
    "start_time": "2023-05-03T19:38:06.588Z"
   },
   {
    "duration": 20,
    "start_time": "2023-05-03T19:38:06.598Z"
   },
   {
    "duration": 61,
    "start_time": "2023-05-03T19:38:06.620Z"
   },
   {
    "duration": 48,
    "start_time": "2023-05-03T19:38:06.683Z"
   },
   {
    "duration": 3,
    "start_time": "2023-05-03T19:38:06.733Z"
   },
   {
    "duration": 20,
    "start_time": "2023-05-03T19:38:06.738Z"
   },
   {
    "duration": 19949,
    "start_time": "2023-05-03T19:38:06.760Z"
   },
   {
    "duration": 62002,
    "start_time": "2023-05-03T19:38:26.712Z"
   },
   {
    "duration": 4604,
    "start_time": "2023-05-04T18:00:28.025Z"
   },
   {
    "duration": 1761,
    "start_time": "2023-05-04T18:00:32.631Z"
   },
   {
    "duration": 600,
    "start_time": "2023-05-04T18:00:34.393Z"
   },
   {
    "duration": 189,
    "start_time": "2023-05-04T18:00:34.995Z"
   },
   {
    "duration": 4,
    "start_time": "2023-05-04T18:00:35.185Z"
   },
   {
    "duration": 45,
    "start_time": "2023-05-04T18:00:35.191Z"
   },
   {
    "duration": 41,
    "start_time": "2023-05-04T18:00:35.237Z"
   },
   {
    "duration": 12,
    "start_time": "2023-05-04T18:00:35.280Z"
   },
   {
    "duration": 5,
    "start_time": "2023-05-04T18:00:35.293Z"
   },
   {
    "duration": 38,
    "start_time": "2023-05-04T18:00:35.300Z"
   },
   {
    "duration": 23,
    "start_time": "2023-05-04T18:00:35.339Z"
   },
   {
    "duration": 40,
    "start_time": "2023-05-04T18:00:35.364Z"
   },
   {
    "duration": 48,
    "start_time": "2023-05-04T18:00:35.405Z"
   },
   {
    "duration": 28,
    "start_time": "2023-05-04T18:00:35.454Z"
   },
   {
    "duration": 23,
    "start_time": "2023-05-04T18:00:35.484Z"
   },
   {
    "duration": 48,
    "start_time": "2023-05-04T18:00:35.509Z"
   },
   {
    "duration": 6,
    "start_time": "2023-05-04T18:00:35.558Z"
   },
   {
    "duration": 14,
    "start_time": "2023-05-04T18:00:35.565Z"
   },
   {
    "duration": 6,
    "start_time": "2023-05-04T18:00:35.580Z"
   },
   {
    "duration": 15,
    "start_time": "2023-05-04T18:00:35.588Z"
   },
   {
    "duration": 14,
    "start_time": "2023-05-04T18:00:35.605Z"
   },
   {
    "duration": 141,
    "start_time": "2023-05-04T18:00:35.621Z"
   },
   {
    "duration": 7,
    "start_time": "2023-05-04T18:00:35.763Z"
   },
   {
    "duration": 7,
    "start_time": "2023-05-04T18:00:35.772Z"
   },
   {
    "duration": 316,
    "start_time": "2023-05-04T18:00:35.781Z"
   },
   {
    "duration": 384,
    "start_time": "2023-05-04T18:00:36.099Z"
   },
   {
    "duration": 227,
    "start_time": "2023-05-04T18:00:36.484Z"
   },
   {
    "duration": 262,
    "start_time": "2023-05-04T18:00:36.715Z"
   },
   {
    "duration": 204,
    "start_time": "2023-05-04T18:00:36.979Z"
   },
   {
    "duration": 301,
    "start_time": "2023-05-04T18:00:37.184Z"
   },
   {
    "duration": 9614,
    "start_time": "2023-05-04T18:00:37.486Z"
   },
   {
    "duration": 3311,
    "start_time": "2023-05-04T18:00:47.102Z"
   },
   {
    "duration": 5,
    "start_time": "2023-05-04T18:00:50.415Z"
   },
   {
    "duration": 11,
    "start_time": "2023-05-04T18:00:50.422Z"
   },
   {
    "duration": 10,
    "start_time": "2023-05-04T18:00:50.435Z"
   },
   {
    "duration": 46,
    "start_time": "2023-05-04T18:00:50.446Z"
   },
   {
    "duration": 15,
    "start_time": "2023-05-04T18:00:50.493Z"
   },
   {
    "duration": 2,
    "start_time": "2023-05-04T18:00:50.510Z"
   },
   {
    "duration": 26,
    "start_time": "2023-05-04T18:00:50.513Z"
   },
   {
    "duration": 23166,
    "start_time": "2023-05-04T18:00:50.541Z"
   },
   {
    "duration": 53018,
    "start_time": "2023-05-04T18:01:13.709Z"
   }
  ],
  "kernelspec": {
   "display_name": "Python 3 (ipykernel)",
   "language": "python",
   "name": "python3"
  },
  "language_info": {
   "codemirror_mode": {
    "name": "ipython",
    "version": 3
   },
   "file_extension": ".py",
   "mimetype": "text/x-python",
   "name": "python",
   "nbconvert_exporter": "python",
   "pygments_lexer": "ipython3",
   "version": "3.9.12"
  },
  "toc": {
   "base_numbering": 1,
   "nav_menu": {},
   "number_sections": true,
   "sideBar": true,
   "skip_h1_title": true,
   "title_cell": "Table of Contents",
   "title_sidebar": "Contents",
   "toc_cell": false,
   "toc_position": {},
   "toc_section_display": true,
   "toc_window_display": false
  }
 },
 "nbformat": 4,
 "nbformat_minor": 5
}
