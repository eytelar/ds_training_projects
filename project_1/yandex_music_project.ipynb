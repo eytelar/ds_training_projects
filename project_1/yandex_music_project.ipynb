{
 "cells": [
  {
   "cell_type": "markdown",
   "metadata": {
    "deletable": false,
    "editable": false,
    "id": "E0vqbgi9ay0H"
   },
   "source": [
    "# Яндекс Музыка"
   ]
  },
  {
   "cell_type": "markdown",
   "metadata": {
    "deletable": false,
    "editable": false,
    "id": "VUC88oWjTJw2"
   },
   "source": [
    "Сравнение Москвы и Петербурга окружено мифами. Например:\n",
    " * Москва — мегаполис, подчинённый жёсткому ритму рабочей недели;\n",
    " * Петербург — культурная столица, со своими вкусами.\n",
    "\n",
    "На данных Яндекс Музыки вы сравните поведение пользователей двух столиц.\n",
    "\n",
    "**Цель исследования** — проверьте три гипотезы:\n",
    "1. Активность пользователей зависит от дня недели. Причём в Москве и Петербурге это проявляется по-разному.\n",
    "2. В понедельник утром в Москве преобладают одни жанры, а в Петербурге — другие. Так же и вечером пятницы преобладают разные жанры — в зависимости от города. \n",
    "3. Москва и Петербург предпочитают разные жанры музыки. В Москве чаще слушают поп-музыку, в Петербурге — русский рэп.\n",
    "\n",
    "**Ход исследования**\n",
    "\n",
    "Данные о поведении пользователей вы получите из файла `yandex_music_project.csv`. О качестве данных ничего не известно. Поэтому перед проверкой гипотез понадобится обзор данных. \n",
    "\n",
    "Вы проверите данные на ошибки и оцените их влияние на исследование. Затем, на этапе предобработки вы поищете возможность исправить самые критичные ошибки данных.\n",
    " \n",
    "Таким образом, исследование пройдёт в три этапа:\n",
    " 1. Обзор данных.\n",
    " 2. Предобработка данных.\n",
    " 3. Проверка гипотез.\n",
    "\n"
   ]
  },
  {
   "cell_type": "markdown",
   "metadata": {
    "deletable": false,
    "editable": false,
    "id": "Ml1hmfXC_Zcs"
   },
   "source": [
    "## Обзор данных\n",
    "\n",
    "Составьте первое представление о данных Яндекс Музыки.\n",
    "\n",
    "\n"
   ]
  },
  {
   "cell_type": "markdown",
   "metadata": {
    "deletable": false,
    "editable": false,
    "id": "57eAOGIz_Zcs",
    "tags": [
     "start_task"
    ]
   },
   "source": [
    "**Задание 1**\n",
    "\n",
    "Основной инструмент аналитика — `pandas`. Импортируйте эту библиотеку."
   ]
  },
  {
   "cell_type": "code",
   "execution_count": 1,
   "metadata": {
    "deletable": false,
    "id": "AXN7PHPN_Zcs"
   },
   "outputs": [],
   "source": [
    "import pandas as pd"
   ]
  },
  {
   "cell_type": "markdown",
   "metadata": {
    "deletable": false,
    "editable": false,
    "id": "SG23P8tt_Zcs",
    "tags": [
     "start_task"
    ]
   },
   "source": [
    "**Задание 2**\n",
    "\n",
    "Прочитайте файл `yandex_music_project.csv` из папки `/datasets` и сохраните его в переменной `df`:"
   ]
  },
  {
   "cell_type": "code",
   "execution_count": 2,
   "metadata": {
    "deletable": false,
    "id": "fFVu7vqh_Zct"
   },
   "outputs": [],
   "source": [
    "df = pd.read_csv('/datasets/yandex_music_project.csv')"
   ]
  },
  {
   "cell_type": "markdown",
   "metadata": {
    "deletable": false,
    "editable": false,
    "id": "rDoOMd3uTqnZ",
    "tags": [
     "start_task"
    ]
   },
   "source": [
    "**Задание 3**\n",
    "\n",
    "\n",
    "Выведите на экран первые десять строк таблицы:"
   ]
  },
  {
   "cell_type": "code",
   "execution_count": 3,
   "metadata": {
    "deletable": false,
    "id": "oWTVX3gW_Zct",
    "scrolled": true
   },
   "outputs": [
    {
     "data": {
      "text/html": [
       "<div>\n",
       "<style scoped>\n",
       "    .dataframe tbody tr th:only-of-type {\n",
       "        vertical-align: middle;\n",
       "    }\n",
       "\n",
       "    .dataframe tbody tr th {\n",
       "        vertical-align: top;\n",
       "    }\n",
       "\n",
       "    .dataframe thead th {\n",
       "        text-align: right;\n",
       "    }\n",
       "</style>\n",
       "<table border=\"1\" class=\"dataframe\">\n",
       "  <thead>\n",
       "    <tr style=\"text-align: right;\">\n",
       "      <th></th>\n",
       "      <th>userID</th>\n",
       "      <th>Track</th>\n",
       "      <th>artist</th>\n",
       "      <th>genre</th>\n",
       "      <th>City</th>\n",
       "      <th>time</th>\n",
       "      <th>Day</th>\n",
       "    </tr>\n",
       "  </thead>\n",
       "  <tbody>\n",
       "    <tr>\n",
       "      <th>0</th>\n",
       "      <td>FFB692EC</td>\n",
       "      <td>Kamigata To Boots</td>\n",
       "      <td>The Mass Missile</td>\n",
       "      <td>rock</td>\n",
       "      <td>Saint-Petersburg</td>\n",
       "      <td>20:28:33</td>\n",
       "      <td>Wednesday</td>\n",
       "    </tr>\n",
       "    <tr>\n",
       "      <th>1</th>\n",
       "      <td>55204538</td>\n",
       "      <td>Delayed Because of Accident</td>\n",
       "      <td>Andreas Rönnberg</td>\n",
       "      <td>rock</td>\n",
       "      <td>Moscow</td>\n",
       "      <td>14:07:09</td>\n",
       "      <td>Friday</td>\n",
       "    </tr>\n",
       "    <tr>\n",
       "      <th>2</th>\n",
       "      <td>20EC38</td>\n",
       "      <td>Funiculì funiculà</td>\n",
       "      <td>Mario Lanza</td>\n",
       "      <td>pop</td>\n",
       "      <td>Saint-Petersburg</td>\n",
       "      <td>20:58:07</td>\n",
       "      <td>Wednesday</td>\n",
       "    </tr>\n",
       "    <tr>\n",
       "      <th>3</th>\n",
       "      <td>A3DD03C9</td>\n",
       "      <td>Dragons in the Sunset</td>\n",
       "      <td>Fire + Ice</td>\n",
       "      <td>folk</td>\n",
       "      <td>Saint-Petersburg</td>\n",
       "      <td>08:37:09</td>\n",
       "      <td>Monday</td>\n",
       "    </tr>\n",
       "    <tr>\n",
       "      <th>4</th>\n",
       "      <td>E2DC1FAE</td>\n",
       "      <td>Soul People</td>\n",
       "      <td>Space Echo</td>\n",
       "      <td>dance</td>\n",
       "      <td>Moscow</td>\n",
       "      <td>08:34:34</td>\n",
       "      <td>Monday</td>\n",
       "    </tr>\n",
       "    <tr>\n",
       "      <th>5</th>\n",
       "      <td>842029A1</td>\n",
       "      <td>Преданная</td>\n",
       "      <td>IMPERVTOR</td>\n",
       "      <td>rusrap</td>\n",
       "      <td>Saint-Petersburg</td>\n",
       "      <td>13:09:41</td>\n",
       "      <td>Friday</td>\n",
       "    </tr>\n",
       "    <tr>\n",
       "      <th>6</th>\n",
       "      <td>4CB90AA5</td>\n",
       "      <td>True</td>\n",
       "      <td>Roman Messer</td>\n",
       "      <td>dance</td>\n",
       "      <td>Moscow</td>\n",
       "      <td>13:00:07</td>\n",
       "      <td>Wednesday</td>\n",
       "    </tr>\n",
       "    <tr>\n",
       "      <th>7</th>\n",
       "      <td>F03E1C1F</td>\n",
       "      <td>Feeling This Way</td>\n",
       "      <td>Polina Griffith</td>\n",
       "      <td>dance</td>\n",
       "      <td>Moscow</td>\n",
       "      <td>20:47:49</td>\n",
       "      <td>Wednesday</td>\n",
       "    </tr>\n",
       "    <tr>\n",
       "      <th>8</th>\n",
       "      <td>8FA1D3BE</td>\n",
       "      <td>И вновь продолжается бой</td>\n",
       "      <td>NaN</td>\n",
       "      <td>ruspop</td>\n",
       "      <td>Moscow</td>\n",
       "      <td>09:17:40</td>\n",
       "      <td>Friday</td>\n",
       "    </tr>\n",
       "    <tr>\n",
       "      <th>9</th>\n",
       "      <td>E772D5C0</td>\n",
       "      <td>Pessimist</td>\n",
       "      <td>NaN</td>\n",
       "      <td>dance</td>\n",
       "      <td>Saint-Petersburg</td>\n",
       "      <td>21:20:49</td>\n",
       "      <td>Wednesday</td>\n",
       "    </tr>\n",
       "  </tbody>\n",
       "</table>\n",
       "</div>"
      ],
      "text/plain": [
       "     userID                        Track            artist   genre  \\\n",
       "0  FFB692EC            Kamigata To Boots  The Mass Missile    rock   \n",
       "1  55204538  Delayed Because of Accident  Andreas Rönnberg    rock   \n",
       "2    20EC38            Funiculì funiculà       Mario Lanza     pop   \n",
       "3  A3DD03C9        Dragons in the Sunset        Fire + Ice    folk   \n",
       "4  E2DC1FAE                  Soul People        Space Echo   dance   \n",
       "5  842029A1                    Преданная         IMPERVTOR  rusrap   \n",
       "6  4CB90AA5                         True      Roman Messer   dance   \n",
       "7  F03E1C1F             Feeling This Way   Polina Griffith   dance   \n",
       "8  8FA1D3BE     И вновь продолжается бой               NaN  ruspop   \n",
       "9  E772D5C0                    Pessimist               NaN   dance   \n",
       "\n",
       "             City        time        Day  \n",
       "0  Saint-Petersburg  20:28:33  Wednesday  \n",
       "1            Moscow  14:07:09     Friday  \n",
       "2  Saint-Petersburg  20:58:07  Wednesday  \n",
       "3  Saint-Petersburg  08:37:09     Monday  \n",
       "4            Moscow  08:34:34     Monday  \n",
       "5  Saint-Petersburg  13:09:41     Friday  \n",
       "6            Moscow  13:00:07  Wednesday  \n",
       "7            Moscow  20:47:49  Wednesday  \n",
       "8            Moscow  09:17:40     Friday  \n",
       "9  Saint-Petersburg  21:20:49  Wednesday  "
      ]
     },
     "execution_count": 3,
     "metadata": {},
     "output_type": "execute_result"
    }
   ],
   "source": [
    "df.head(10)"
   ]
  },
  {
   "cell_type": "markdown",
   "metadata": {
    "deletable": false,
    "editable": false,
    "id": "EO73Kwic_Zct",
    "tags": [
     "start_task"
    ]
   },
   "source": [
    "**Задание 4**\n",
    "\n",
    "\n",
    "Одной командой получить общую информацию о таблице c помощью метода `info()`:"
   ]
  },
  {
   "cell_type": "code",
   "execution_count": 4,
   "metadata": {
    "deletable": false,
    "id": "DSf2kIb-_Zct"
   },
   "outputs": [
    {
     "name": "stdout",
     "output_type": "stream",
     "text": [
      "<class 'pandas.core.frame.DataFrame'>\n",
      "RangeIndex: 65079 entries, 0 to 65078\n",
      "Data columns (total 7 columns):\n",
      " #   Column    Non-Null Count  Dtype \n",
      "---  ------    --------------  ----- \n",
      " 0     userID  65079 non-null  object\n",
      " 1   Track     63848 non-null  object\n",
      " 2   artist    57876 non-null  object\n",
      " 3   genre     63881 non-null  object\n",
      " 4     City    65079 non-null  object\n",
      " 5   time      65079 non-null  object\n",
      " 6   Day       65079 non-null  object\n",
      "dtypes: object(7)\n",
      "memory usage: 3.5+ MB\n"
     ]
    }
   ],
   "source": [
    "df.info()"
   ]
  },
  {
   "cell_type": "markdown",
   "metadata": {
    "deletable": false,
    "editable": false,
    "id": "TaQ2Iwbr_Zct"
   },
   "source": [
    "Итак, в таблице семь столбцов. Тип данных во всех столбцах — `object`.\n",
    "\n",
    "Согласно документации к данным:\n",
    "* `userID` — идентификатор пользователя;\n",
    "* `Track` — название трека;  \n",
    "* `artist` — имя исполнителя;\n",
    "* `genre` — название жанра;\n",
    "* `City` — город пользователя;\n",
    "* `time` — время начала прослушивания;\n",
    "* `Day` — день недели.\n",
    "\n",
    "Количество значений в столбцах различается. Значит, в данных есть пропущенные значения."
   ]
  },
  {
   "cell_type": "markdown",
   "metadata": {
    "deletable": false,
    "editable": false,
    "id": "rAfziTBDmf2h",
    "tags": [
     "start_task"
    ]
   },
   "source": [
    "**Задание 5**\n",
    "\n",
    "**Вопрос со свободной формой ответа**\n",
    "\n",
    "В названиях колонок видны нарушения стиля:\n",
    "* Строчные буквы сочетаются с прописными.\n",
    "* Встречаются пробелы.\n",
    "\n",
    "Какое третье нарушение?"
   ]
  },
  {
   "cell_type": "code",
   "execution_count": 5,
   "metadata": {
    "id": "jD8EXEIvmf2h"
   },
   "outputs": [],
   "source": [
    "# В колонке userID не использован snake_case"
   ]
  },
  {
   "cell_type": "markdown",
   "metadata": {
    "deletable": false,
    "editable": false,
    "id": "MCB6-dXG_Zct"
   },
   "source": [
    "**Выводы**\n",
    "\n",
    "В каждой строке таблицы — данные о прослушанном треке. Часть колонок описывает саму композицию: название, исполнителя и жанр. Остальные данные рассказывают о пользователе: из какого он города, когда он слушал музыку. \n",
    "\n",
    "Предварительно можно утверждать, что данных достаточно для проверки гипотез. Но встречаются пропуски в данных, а в названиях колонок — расхождения с хорошим стилем.\n",
    "\n",
    "Чтобы двигаться дальше, нужно устранить проблемы в данных."
   ]
  },
  {
   "cell_type": "markdown",
   "metadata": {
    "deletable": false,
    "editable": false,
    "id": "SjYF6Ub9_Zct"
   },
   "source": [
    "## Предобработка данных\n",
    "Исправьте стиль в заголовках столбцов, исключите пропуски. Затем проверьте данные на дубликаты."
   ]
  },
  {
   "cell_type": "markdown",
   "metadata": {
    "deletable": false,
    "editable": false,
    "id": "dIaKXr29_Zct",
    "tags": [
     "start_task"
    ]
   },
   "source": [
    "### Стиль заголовков\n",
    "\n",
    "**Задание 6**\n",
    "\n",
    "Выведите на экран названия столбцов:"
   ]
  },
  {
   "cell_type": "code",
   "execution_count": 6,
   "metadata": {
    "deletable": false,
    "id": "oKOTdF_Q_Zct"
   },
   "outputs": [
    {
     "data": {
      "text/plain": [
       "Index(['  userID', 'Track', 'artist', 'genre', '  City  ', 'time', 'Day'], dtype='object')"
      ]
     },
     "execution_count": 6,
     "metadata": {},
     "output_type": "execute_result"
    }
   ],
   "source": [
    "df.columns"
   ]
  },
  {
   "cell_type": "markdown",
   "metadata": {
    "deletable": false,
    "editable": false,
    "id": "zj5534cv_Zct",
    "tags": [
     "start_task"
    ]
   },
   "source": [
    "**Задание 7**\n",
    "\n",
    "\n",
    "Приведите названия в соответствие с хорошим стилем:\n",
    "* несколько слов в названии запишите в «змеином_регистре»,\n",
    "* все символы сделайте строчными,\n",
    "* устраните пробелы.\n",
    "\n",
    "Для этого переименуйте колонки так:\n",
    "* `'  userID'` → `'user_id'`;\n",
    "* `'Track'` → `'track'`;\n",
    "* `'  City  '` → `'city'`;\n",
    "* `'Day'` → `'day'`."
   ]
  },
  {
   "cell_type": "code",
   "execution_count": 7,
   "metadata": {
    "deletable": false,
    "id": "ISlFqs5y_Zct"
   },
   "outputs": [],
   "source": [
    "df.rename(columns = {\n",
    "    '  userID': 'user_id',\n",
    "    'Track': 'track',\n",
    "    '  City  ': 'city',\n",
    "    'Day': 'day'}, inplace = True)"
   ]
  },
  {
   "cell_type": "markdown",
   "metadata": {
    "deletable": false,
    "editable": false,
    "id": "1dqbh00J_Zct",
    "tags": [
     "start_task"
    ]
   },
   "source": [
    "**Задание 8**\n",
    "\n",
    "\n",
    "Проверьте результат. Для этого ещё раз выведите на экран названия столбцов:"
   ]
  },
  {
   "cell_type": "code",
   "execution_count": 8,
   "metadata": {
    "deletable": false,
    "id": "d4NOAmTW_Zct"
   },
   "outputs": [
    {
     "data": {
      "text/plain": [
       "Index(['user_id', 'track', 'artist', 'genre', 'city', 'time', 'day'], dtype='object')"
      ]
     },
     "execution_count": 8,
     "metadata": {},
     "output_type": "execute_result"
    }
   ],
   "source": [
    "df.columns"
   ]
  },
  {
   "cell_type": "markdown",
   "metadata": {
    "deletable": false,
    "editable": false,
    "id": "5ISfbcfY_Zct",
    "tags": [
     "start_task"
    ]
   },
   "source": [
    "### Пропуски значений\n",
    "\n",
    "**Задание 9**\n",
    "\n",
    "Сначала посчитайте, сколько в таблице пропущенных значений. Для этого достаточно двух методов `pandas`:"
   ]
  },
  {
   "cell_type": "code",
   "execution_count": 9,
   "metadata": {
    "deletable": false,
    "id": "RskX29qr_Zct"
   },
   "outputs": [
    {
     "data": {
      "text/plain": [
       "user_id       0\n",
       "track      1231\n",
       "artist     7203\n",
       "genre      1198\n",
       "city          0\n",
       "time          0\n",
       "day           0\n",
       "dtype: int64"
      ]
     },
     "execution_count": 9,
     "metadata": {},
     "output_type": "execute_result"
    }
   ],
   "source": [
    "df.isna().sum()"
   ]
  },
  {
   "cell_type": "markdown",
   "metadata": {
    "deletable": false,
    "editable": false,
    "id": "qubhgnlO_Zct"
   },
   "source": [
    "Не все пропущенные значения влияют на исследование. Так в `track` и `artist` пропуски не важны для вашей работы. Достаточно заменить их явными обозначениями.\n",
    "\n",
    "Но пропуски в `genre` могут помешать сравнению музыкальных вкусов в Москве и Санкт-Петербурге. На практике было бы правильно установить причину пропусков и восстановить данные. Такой возможности нет в учебном проекте. Придётся:\n",
    "* заполнить и эти пропуски явными обозначениями;\n",
    "* оценить, насколько они повредят расчётам. "
   ]
  },
  {
   "cell_type": "markdown",
   "metadata": {
    "deletable": false,
    "editable": false,
    "id": "fSv2laPA_Zct",
    "tags": [
     "start_task"
    ]
   },
   "source": [
    "**Задание 10**\n",
    "\n",
    "Замените пропущенные значения в столбцах `track`, `artist` и `genre` на строку `'unknown'`. Для этого создайте список `columns_to_replace`, переберите его элементы циклом `for` и для каждого столбца выполните замену пропущенных значений:"
   ]
  },
  {
   "cell_type": "code",
   "execution_count": 10,
   "metadata": {
    "deletable": false,
    "id": "KplB5qWs_Zct"
   },
   "outputs": [],
   "source": [
    "columns_to_replace = ['track', 'artist', 'genre']\n",
    "\n",
    "for column in columns_to_replace:\n",
    "    df[column] = df[column].fillna('unknown')"
   ]
  },
  {
   "cell_type": "markdown",
   "metadata": {
    "deletable": false,
    "editable": false,
    "id": "Ilsm-MZo_Zct",
    "tags": [
     "start_task"
    ]
   },
   "source": [
    "**Задание 11**\n",
    "\n",
    "Убедитесь, что в таблице не осталось пропусков. Для этого ещё раз посчитайте пропущенные значения."
   ]
  },
  {
   "cell_type": "code",
   "execution_count": 11,
   "metadata": {
    "deletable": false,
    "id": "Tq4nYRX4_Zct"
   },
   "outputs": [
    {
     "data": {
      "text/plain": [
       "user_id    0\n",
       "track      0\n",
       "artist     0\n",
       "genre      0\n",
       "city       0\n",
       "time       0\n",
       "day        0\n",
       "dtype: int64"
      ]
     },
     "execution_count": 11,
     "metadata": {},
     "output_type": "execute_result"
    }
   ],
   "source": [
    "df.isna().sum()"
   ]
  },
  {
   "cell_type": "markdown",
   "metadata": {
    "deletable": false,
    "editable": false,
    "id": "BWKRtBJ3_Zct",
    "tags": [
     "start_task"
    ]
   },
   "source": [
    "### Дубликаты\n",
    "\n",
    "**Задание 12**\n",
    "\n",
    "Посчитайте явные дубликаты в таблице одной командой:"
   ]
  },
  {
   "cell_type": "code",
   "execution_count": 12,
   "metadata": {
    "deletable": false,
    "id": "36eES_S0_Zct"
   },
   "outputs": [
    {
     "data": {
      "text/plain": [
       "3826"
      ]
     },
     "execution_count": 12,
     "metadata": {},
     "output_type": "execute_result"
    }
   ],
   "source": [
    "df.duplicated().sum()"
   ]
  },
  {
   "cell_type": "markdown",
   "metadata": {
    "deletable": false,
    "editable": false,
    "id": "Ot25h6XR_Zct",
    "tags": [
     "start_task"
    ]
   },
   "source": [
    "**Задание 13**\n",
    "\n",
    "Вызовите специальный метод `pandas`, чтобы удалить явные дубликаты:"
   ]
  },
  {
   "cell_type": "code",
   "execution_count": 13,
   "metadata": {
    "deletable": false,
    "id": "exFHq6tt_Zct"
   },
   "outputs": [],
   "source": [
    "df = df.drop_duplicates().reset_index(drop=True)"
   ]
  },
  {
   "cell_type": "markdown",
   "metadata": {
    "deletable": false,
    "editable": false,
    "id": "Im2YwBEG_Zct",
    "tags": [
     "start_task"
    ]
   },
   "source": [
    "**Задание 14**\n",
    "\n",
    "Ещё раз посчитайте явные дубликаты в таблице — убедитесь, что полностью от них избавились:"
   ]
  },
  {
   "cell_type": "code",
   "execution_count": 14,
   "metadata": {
    "deletable": false,
    "id": "-8PuNWQ0_Zct"
   },
   "outputs": [
    {
     "data": {
      "text/plain": [
       "0"
      ]
     },
     "execution_count": 14,
     "metadata": {},
     "output_type": "execute_result"
    }
   ],
   "source": [
    "df.duplicated().sum()"
   ]
  },
  {
   "cell_type": "markdown",
   "metadata": {
    "deletable": false,
    "editable": false,
    "id": "QlFBsxAr_Zct"
   },
   "source": [
    "Теперь избавьтесь от неявных дубликатов в колонке `genre`. Например, название одного и того же жанра может быть записано немного по-разному. Такие ошибки тоже повлияют на результат исследования."
   ]
  },
  {
   "cell_type": "markdown",
   "metadata": {
    "deletable": false,
    "editable": false,
    "id": "eSjWwsOh_Zct",
    "tags": [
     "start_task"
    ]
   },
   "source": [
    "**Задание 15**\n",
    "\n",
    "Выведите на экран список уникальных названий жанров, отсортированный в алфавитном порядке. Для этого:\n",
    "1. извлеките нужный столбец датафрейма; \n",
    "2. примените к нему метод сортировки;\n",
    "3. для отсортированного столбца вызовите метод, который вернёт уникальные значения из столбца."
   ]
  },
  {
   "cell_type": "code",
   "execution_count": 15,
   "metadata": {
    "deletable": false,
    "id": "JIUcqzZN_Zct"
   },
   "outputs": [
    {
     "data": {
      "text/plain": [
       "array(['acid', 'acoustic', 'action', 'adult', 'africa', 'afrikaans',\n",
       "       'alternative', 'alternativepunk', 'ambient', 'americana',\n",
       "       'animated', 'anime', 'arabesk', 'arabic', 'arena',\n",
       "       'argentinetango', 'art', 'audiobook', 'author', 'avantgarde',\n",
       "       'axé', 'baile', 'balkan', 'beats', 'bigroom', 'black', 'bluegrass',\n",
       "       'blues', 'bollywood', 'bossa', 'brazilian', 'breakbeat', 'breaks',\n",
       "       'broadway', 'cantautori', 'cantopop', 'canzone', 'caribbean',\n",
       "       'caucasian', 'celtic', 'chamber', 'chanson', 'children', 'chill',\n",
       "       'chinese', 'choral', 'christian', 'christmas', 'classical',\n",
       "       'classicmetal', 'club', 'colombian', 'comedy', 'conjazz',\n",
       "       'contemporary', 'country', 'cuban', 'dance', 'dancehall',\n",
       "       'dancepop', 'dark', 'death', 'deep', 'deutschrock', 'deutschspr',\n",
       "       'dirty', 'disco', 'dnb', 'documentary', 'downbeat', 'downtempo',\n",
       "       'drum', 'dub', 'dubstep', 'eastern', 'easy', 'electronic',\n",
       "       'electropop', 'emo', 'entehno', 'epicmetal', 'estrada', 'ethnic',\n",
       "       'eurofolk', 'european', 'experimental', 'extrememetal', 'fado',\n",
       "       'fairytail', 'film', 'fitness', 'flamenco', 'folk', 'folklore',\n",
       "       'folkmetal', 'folkrock', 'folktronica', 'forró', 'frankreich',\n",
       "       'französisch', 'french', 'funk', 'future', 'gangsta', 'garage',\n",
       "       'german', 'ghazal', 'gitarre', 'glitch', 'gospel', 'gothic',\n",
       "       'grime', 'grunge', 'gypsy', 'handsup', \"hard'n'heavy\", 'hardcore',\n",
       "       'hardstyle', 'hardtechno', 'hip', 'hip-hop', 'hiphop',\n",
       "       'historisch', 'holiday', 'hop', 'horror', 'house', 'hymn', 'idm',\n",
       "       'independent', 'indian', 'indie', 'indipop', 'industrial',\n",
       "       'inspirational', 'instrumental', 'international', 'irish', 'jam',\n",
       "       'japanese', 'jazz', 'jewish', 'jpop', 'jungle', 'k-pop',\n",
       "       'karadeniz', 'karaoke', 'kayokyoku', 'korean', 'laiko', 'latin',\n",
       "       'latino', 'leftfield', 'local', 'lounge', 'loungeelectronic',\n",
       "       'lovers', 'malaysian', 'mandopop', 'marschmusik', 'meditative',\n",
       "       'mediterranean', 'melodic', 'metal', 'metalcore', 'mexican',\n",
       "       'middle', 'minimal', 'miscellaneous', 'modern', 'mood', 'mpb',\n",
       "       'muslim', 'native', 'neoklassik', 'neue', 'new', 'newage',\n",
       "       'newwave', 'nu', 'nujazz', 'numetal', 'oceania', 'old', 'opera',\n",
       "       'orchestral', 'other', 'piano', 'podcasts', 'pop', 'popdance',\n",
       "       'popelectronic', 'popeurodance', 'poprussian', 'post',\n",
       "       'posthardcore', 'postrock', 'power', 'progmetal', 'progressive',\n",
       "       'psychedelic', 'punjabi', 'punk', 'quebecois', 'ragga', 'ram',\n",
       "       'rancheras', 'rap', 'rave', 'reggae', 'reggaeton', 'regional',\n",
       "       'relax', 'religious', 'retro', 'rhythm', 'rnb', 'rnr', 'rock',\n",
       "       'rockabilly', 'rockalternative', 'rockindie', 'rockother',\n",
       "       'romance', 'roots', 'ruspop', 'rusrap', 'rusrock', 'russian',\n",
       "       'salsa', 'samba', 'scenic', 'schlager', 'self', 'sertanejo',\n",
       "       'shanson', 'shoegazing', 'showtunes', 'singer', 'ska', 'skarock',\n",
       "       'slow', 'smooth', 'soft', 'soul', 'soulful', 'sound', 'soundtrack',\n",
       "       'southern', 'specialty', 'speech', 'spiritual', 'sport',\n",
       "       'stonerrock', 'surf', 'swing', 'synthpop', 'synthrock',\n",
       "       'sängerportrait', 'tango', 'tanzorchester', 'taraftar', 'tatar',\n",
       "       'tech', 'techno', 'teen', 'thrash', 'top', 'traditional',\n",
       "       'tradjazz', 'trance', 'tribal', 'trip', 'triphop', 'tropical',\n",
       "       'türk', 'türkçe', 'ukrrock', 'unknown', 'urban', 'uzbek',\n",
       "       'variété', 'vi', 'videogame', 'vocal', 'western', 'world',\n",
       "       'worldbeat', 'ïîï', 'электроника'], dtype=object)"
      ]
     },
     "execution_count": 15,
     "metadata": {},
     "output_type": "execute_result"
    }
   ],
   "source": [
    "df['genre'].sort_values().unique()"
   ]
  },
  {
   "cell_type": "markdown",
   "metadata": {
    "deletable": false,
    "editable": false,
    "id": "qej-Qmuo_Zct",
    "tags": [
     "start_task"
    ]
   },
   "source": [
    "**Задание 16**\n",
    "\n",
    "Просмотрите список и найдите неявные дубликаты названия `hiphop`. Это могут быть названия с ошибками или альтернативные названия того же жанра.\n",
    "\n",
    "Вы увидите следующие неявные дубликаты:\n",
    "* *hip*,\n",
    "* *hop*,\n",
    "* *hip-hop*.\n",
    "\n",
    "Чтобы очистить от них таблицу используйте метод `replace()` с двумя аргументами: списком строк-дубликатов (включащий *hip*, *hop* и *hip-hop*) и строкой с правильным значением. Вам нужно исправить колонку `genre` в таблице `df`: заменить каждое значение из списка дубликатов на верное. Вместо `hip`, `hop` и `hip-hop` в таблице должно быть значение `hiphop`:"
   ]
  },
  {
   "cell_type": "code",
   "execution_count": 16,
   "metadata": {
    "deletable": false,
    "id": "ErNDkmns_Zct"
   },
   "outputs": [],
   "source": [
    "duplicates = ['hip', 'hop', 'hip-hop']\n",
    "correct_name = 'hiphop'\n",
    "df['genre'] = df['genre'].replace(duplicates, correct_name)"
   ]
  },
  {
   "cell_type": "markdown",
   "metadata": {
    "deletable": false,
    "editable": false,
    "id": "zQKF16_RG15m",
    "tags": [
     "start_task"
    ]
   },
   "source": [
    "**Задание 17**\n",
    "\n",
    "Проверьте, что заменили неправильные названия:\n",
    "\n",
    "*   hip,\n",
    "*   hop,\n",
    "*   hip-hop.\n",
    "\n",
    "Выведите отсортированный список уникальных значений столбца `genre`:"
   ]
  },
  {
   "cell_type": "code",
   "execution_count": 17,
   "metadata": {
    "deletable": false,
    "id": "wvixALnFG15m"
   },
   "outputs": [
    {
     "data": {
      "text/plain": [
       "array(['acid', 'acoustic', 'action', 'adult', 'africa', 'afrikaans',\n",
       "       'alternative', 'alternativepunk', 'ambient', 'americana',\n",
       "       'animated', 'anime', 'arabesk', 'arabic', 'arena',\n",
       "       'argentinetango', 'art', 'audiobook', 'author', 'avantgarde',\n",
       "       'axé', 'baile', 'balkan', 'beats', 'bigroom', 'black', 'bluegrass',\n",
       "       'blues', 'bollywood', 'bossa', 'brazilian', 'breakbeat', 'breaks',\n",
       "       'broadway', 'cantautori', 'cantopop', 'canzone', 'caribbean',\n",
       "       'caucasian', 'celtic', 'chamber', 'chanson', 'children', 'chill',\n",
       "       'chinese', 'choral', 'christian', 'christmas', 'classical',\n",
       "       'classicmetal', 'club', 'colombian', 'comedy', 'conjazz',\n",
       "       'contemporary', 'country', 'cuban', 'dance', 'dancehall',\n",
       "       'dancepop', 'dark', 'death', 'deep', 'deutschrock', 'deutschspr',\n",
       "       'dirty', 'disco', 'dnb', 'documentary', 'downbeat', 'downtempo',\n",
       "       'drum', 'dub', 'dubstep', 'eastern', 'easy', 'electronic',\n",
       "       'electropop', 'emo', 'entehno', 'epicmetal', 'estrada', 'ethnic',\n",
       "       'eurofolk', 'european', 'experimental', 'extrememetal', 'fado',\n",
       "       'fairytail', 'film', 'fitness', 'flamenco', 'folk', 'folklore',\n",
       "       'folkmetal', 'folkrock', 'folktronica', 'forró', 'frankreich',\n",
       "       'französisch', 'french', 'funk', 'future', 'gangsta', 'garage',\n",
       "       'german', 'ghazal', 'gitarre', 'glitch', 'gospel', 'gothic',\n",
       "       'grime', 'grunge', 'gypsy', 'handsup', \"hard'n'heavy\", 'hardcore',\n",
       "       'hardstyle', 'hardtechno', 'hiphop', 'historisch', 'holiday',\n",
       "       'horror', 'house', 'hymn', 'idm', 'independent', 'indian', 'indie',\n",
       "       'indipop', 'industrial', 'inspirational', 'instrumental',\n",
       "       'international', 'irish', 'jam', 'japanese', 'jazz', 'jewish',\n",
       "       'jpop', 'jungle', 'k-pop', 'karadeniz', 'karaoke', 'kayokyoku',\n",
       "       'korean', 'laiko', 'latin', 'latino', 'leftfield', 'local',\n",
       "       'lounge', 'loungeelectronic', 'lovers', 'malaysian', 'mandopop',\n",
       "       'marschmusik', 'meditative', 'mediterranean', 'melodic', 'metal',\n",
       "       'metalcore', 'mexican', 'middle', 'minimal', 'miscellaneous',\n",
       "       'modern', 'mood', 'mpb', 'muslim', 'native', 'neoklassik', 'neue',\n",
       "       'new', 'newage', 'newwave', 'nu', 'nujazz', 'numetal', 'oceania',\n",
       "       'old', 'opera', 'orchestral', 'other', 'piano', 'podcasts', 'pop',\n",
       "       'popdance', 'popelectronic', 'popeurodance', 'poprussian', 'post',\n",
       "       'posthardcore', 'postrock', 'power', 'progmetal', 'progressive',\n",
       "       'psychedelic', 'punjabi', 'punk', 'quebecois', 'ragga', 'ram',\n",
       "       'rancheras', 'rap', 'rave', 'reggae', 'reggaeton', 'regional',\n",
       "       'relax', 'religious', 'retro', 'rhythm', 'rnb', 'rnr', 'rock',\n",
       "       'rockabilly', 'rockalternative', 'rockindie', 'rockother',\n",
       "       'romance', 'roots', 'ruspop', 'rusrap', 'rusrock', 'russian',\n",
       "       'salsa', 'samba', 'scenic', 'schlager', 'self', 'sertanejo',\n",
       "       'shanson', 'shoegazing', 'showtunes', 'singer', 'ska', 'skarock',\n",
       "       'slow', 'smooth', 'soft', 'soul', 'soulful', 'sound', 'soundtrack',\n",
       "       'southern', 'specialty', 'speech', 'spiritual', 'sport',\n",
       "       'stonerrock', 'surf', 'swing', 'synthpop', 'synthrock',\n",
       "       'sängerportrait', 'tango', 'tanzorchester', 'taraftar', 'tatar',\n",
       "       'tech', 'techno', 'teen', 'thrash', 'top', 'traditional',\n",
       "       'tradjazz', 'trance', 'tribal', 'trip', 'triphop', 'tropical',\n",
       "       'türk', 'türkçe', 'ukrrock', 'unknown', 'urban', 'uzbek',\n",
       "       'variété', 'vi', 'videogame', 'vocal', 'western', 'world',\n",
       "       'worldbeat', 'ïîï', 'электроника'], dtype=object)"
      ]
     },
     "execution_count": 17,
     "metadata": {},
     "output_type": "execute_result"
    }
   ],
   "source": [
    "df['genre'].sort_values().unique()"
   ]
  },
  {
   "cell_type": "markdown",
   "metadata": {
    "deletable": false,
    "editable": false,
    "id": "jz6a9-7HQUDd"
   },
   "source": [
    "**Выводы**\n",
    "\n",
    "Предобработка обнаружила три проблемы в данных:\n",
    "\n",
    "- нарушения в стиле заголовков,\n",
    "- пропущенные значения,\n",
    "- дубликаты — явные и неявные.\n",
    "\n",
    "Вы исправили заголовки, чтобы упростить работу с таблицей. Без дубликатов исследование станет более точным.\n",
    "\n",
    "Пропущенные значения вы заменили на `'unknown'`. Ещё предстоит увидеть, не повредят ли исследованию пропуски в колонке `genre`.\n",
    "\n",
    "Теперь можно перейти к проверке гипотез. "
   ]
  },
  {
   "cell_type": "markdown",
   "metadata": {
    "deletable": false,
    "editable": false,
    "id": "WttZHXH0SqKk"
   },
   "source": [
    "## Проверка гипотез"
   ]
  },
  {
   "cell_type": "markdown",
   "metadata": {
    "deletable": false,
    "editable": false,
    "id": "Im936VVi_Zcu"
   },
   "source": [
    "### Сравнение поведения пользователей двух столиц"
   ]
  },
  {
   "cell_type": "markdown",
   "metadata": {
    "deletable": false,
    "editable": false,
    "id": "nwt_MuaL_Zcu"
   },
   "source": [
    "Первая гипотеза утверждает, что пользователи по-разному слушают музыку в Москве и Санкт-Петербурге. Проверьте это предположение по данным о трёх днях недели — понедельнике, среде и пятнице. Для этого:\n",
    "\n",
    "* Разделите пользователей Москвы и Санкт-Петербурга.\n",
    "* Сравните, сколько треков послушала каждая группа пользователей в понедельник, среду и пятницу.\n"
   ]
  },
  {
   "cell_type": "markdown",
   "metadata": {
    "deletable": false,
    "editable": false,
    "id": "8Dw_YMmT_Zcu",
    "tags": [
     "start_task"
    ]
   },
   "source": [
    "**Задание 18**\n",
    "\n",
    "Для тренировки сначала выполните каждый из расчётов по отдельности. \n",
    "\n",
    "Оцените активность пользователей в каждом городе. Сгруппируйте данные по городу и посчитайте прослушивания в каждой группе.\n",
    "\n"
   ]
  },
  {
   "cell_type": "code",
   "execution_count": 18,
   "metadata": {
    "deletable": false,
    "id": "0_Qs96oh_Zcu"
   },
   "outputs": [
    {
     "data": {
      "text/plain": [
       "city\n",
       "Moscow              42741\n",
       "Saint-Petersburg    18512\n",
       "Name: time, dtype: int64"
      ]
     },
     "execution_count": 18,
     "metadata": {},
     "output_type": "execute_result"
    }
   ],
   "source": [
    "df.groupby('city')['time'].count()\n"
   ]
  },
  {
   "cell_type": "markdown",
   "metadata": {
    "deletable": false,
    "editable": false,
    "id": "dzli3w8o_Zcu",
    "tags": [
     "start_task"
    ]
   },
   "source": [
    "В Москве прослушиваний больше, чем в Петербурге. Из этого не следует, что московские пользователи чаще слушают музыку. Просто самих пользователей в Москве больше.\n",
    "\n",
    "**Задание 19**\n",
    "\n",
    "Теперь сгруппируйте данные по дню недели и посчитайте прослушивания в понедельник, среду и пятницу. Учтите, что в данных есть информация о прослушиваниях только за эти дни.\n"
   ]
  },
  {
   "cell_type": "code",
   "execution_count": 19,
   "metadata": {
    "deletable": false,
    "id": "uZMKjiJz_Zcu"
   },
   "outputs": [
    {
     "data": {
      "text/plain": [
       "day\n",
       "Friday       21840\n",
       "Monday       21354\n",
       "Wednesday    18059\n",
       "Name: time, dtype: int64"
      ]
     },
     "execution_count": 19,
     "metadata": {},
     "output_type": "execute_result"
    }
   ],
   "source": [
    "df.groupby('day')['time'].count()"
   ]
  },
  {
   "cell_type": "markdown",
   "metadata": {
    "deletable": false,
    "editable": false,
    "id": "cC2tNrlL_Zcu"
   },
   "source": [
    "В среднем пользователи из двух городов менее активны по средам. Но картина может измениться, если рассмотреть каждый город в отдельности."
   ]
  },
  {
   "cell_type": "markdown",
   "metadata": {
    "deletable": false,
    "editable": false,
    "id": "POzs8bGa_Zcu",
    "tags": [
     "start_task"
    ]
   },
   "source": [
    "**Задание 20**\n",
    "\n",
    "\n",
    "Вы видели, как работает группировка по городу и по дням недели. Теперь напишите функцию, которая объединит два эти расчёта.\n",
    "\n",
    "Создайте функцию `number_tracks()`, которая посчитает прослушивания для заданного дня и города. Ей понадобятся два параметра:\n",
    "* день недели,\n",
    "* название города.\n",
    "\n",
    "В функции сохраните в переменную строки исходной таблицы, у которых значение:\n",
    "  * в колонке `day` равно параметру `day`,\n",
    "  * в колонке `city` равно параметру `city`.\n",
    "\n",
    "Для этого примените последовательную фильтрацию с логической индексацией (или сложные логические выражения в одну строку, если вы уже знакомы с ними).\n",
    "\n",
    "Затем посчитайте значения в столбце `user_id` получившейся таблицы. Результат сохраните в новую переменную. Верните эту переменную из функции."
   ]
  },
  {
   "cell_type": "code",
   "execution_count": 20,
   "metadata": {
    "deletable": false,
    "id": "Nz3GdQB1_Zcu"
   },
   "outputs": [],
   "source": [
    "# <создание функции number_tracks()>\n",
    "# Объявляется функция с двумя параметрами: day, city.\n",
    "# В переменной track_list сохраняются те строки таблицы df, для которых \n",
    "# значение в столбце 'day' равно параметру day и одновременно значение\n",
    "# в столбце 'city' равно параметру city (используйте последовательную фильтрацию\n",
    "# с помощью логической индексации или сложные логические выражения в одну строку, если вы уже знакомы с ними).\n",
    "# В переменной track_list_count сохраняется число значений столбца 'user_id',\n",
    "# рассчитанное методом count() для таблицы track_list.\n",
    "# Функция возвращает число - значение track_list_count.\n",
    "\n",
    "# Функция для подсчёта прослушиваний для конкретного города и дня.\n",
    "# С помощью последовательной фильтрации с логической индексацией она \n",
    "# сначала получит из исходной таблицы строки с нужным днём,\n",
    "# затем из результата отфильтрует строки с нужным городом,\n",
    "# методом count() посчитает количество значений в колонке user_id. \n",
    "# Это количество функция вернёт в качестве результата\n",
    "def number_tracks(day, city):\n",
    "    track_list = df[\n",
    "        (df['day'] == day) \n",
    "        & (df['city'] == city)\n",
    "    ]\n",
    "    track_list_count = track_list['user_id'].count()\n",
    "    return track_list_count"
   ]
  },
  {
   "cell_type": "markdown",
   "metadata": {
    "deletable": false,
    "editable": false,
    "id": "ytf7xFrFJQ2r",
    "tags": [
     "start_task"
    ]
   },
   "source": [
    "**Задание 21**\n",
    "\n",
    "Вызовите `number_tracks()` шесть раз, меняя значение параметров — так, чтобы получить данные для каждого города в каждый из трёх дней."
   ]
  },
  {
   "cell_type": "code",
   "execution_count": 21,
   "metadata": {
    "deletable": false,
    "id": "rJcRATNQ_Zcu"
   },
   "outputs": [
    {
     "data": {
      "text/plain": [
       "15740"
      ]
     },
     "execution_count": 21,
     "metadata": {},
     "output_type": "execute_result"
    }
   ],
   "source": [
    "# количество прослушиваний в Москве по понедельникам \n",
    "number_tracks('Monday', 'Moscow')"
   ]
  },
  {
   "cell_type": "code",
   "execution_count": 22,
   "metadata": {
    "deletable": false,
    "id": "hq_ncZ5T_Zcu"
   },
   "outputs": [
    {
     "data": {
      "text/plain": [
       "5614"
      ]
     },
     "execution_count": 22,
     "metadata": {},
     "output_type": "execute_result"
    }
   ],
   "source": [
    "# количество прослушиваний в Санкт-Петербурге по понедельникам \n",
    "number_tracks('Monday', 'Saint-Petersburg')"
   ]
  },
  {
   "cell_type": "code",
   "execution_count": 23,
   "metadata": {
    "deletable": false,
    "id": "_NTy2VPU_Zcu"
   },
   "outputs": [
    {
     "data": {
      "text/plain": [
       "11056"
      ]
     },
     "execution_count": 23,
     "metadata": {},
     "output_type": "execute_result"
    }
   ],
   "source": [
    "# количество прослушиваний в Москве по средам \n",
    "number_tracks('Wednesday', 'Moscow')"
   ]
  },
  {
   "cell_type": "code",
   "execution_count": 24,
   "metadata": {
    "deletable": false,
    "id": "j2y3TAwo_Zcu"
   },
   "outputs": [
    {
     "data": {
      "text/plain": [
       "7003"
      ]
     },
     "execution_count": 24,
     "metadata": {},
     "output_type": "execute_result"
    }
   ],
   "source": [
    "# количество прослушиваний в Санкт-Петербурге по средам \n",
    "number_tracks('Wednesday', 'Saint-Petersburg')"
   ]
  },
  {
   "cell_type": "code",
   "execution_count": 25,
   "metadata": {
    "deletable": false,
    "id": "vYDw5u_K_Zcu"
   },
   "outputs": [
    {
     "data": {
      "text/plain": [
       "15945"
      ]
     },
     "execution_count": 25,
     "metadata": {},
     "output_type": "execute_result"
    }
   ],
   "source": [
    "# количество прослушиваний в Москве по пятницам \n",
    "number_tracks('Friday', 'Moscow')"
   ]
  },
  {
   "cell_type": "code",
   "execution_count": 26,
   "metadata": {
    "deletable": false,
    "id": "8_yzFtW3_Zcu"
   },
   "outputs": [
    {
     "data": {
      "text/plain": [
       "5895"
      ]
     },
     "execution_count": 26,
     "metadata": {},
     "output_type": "execute_result"
    }
   ],
   "source": [
    "# количество прослушиваний в Санкт-Петербурге по пятницам \n",
    "number_tracks('Friday', 'Saint-Petersburg')"
   ]
  },
  {
   "cell_type": "markdown",
   "metadata": {
    "deletable": false,
    "editable": false,
    "id": "7QXffbO-_Zcu",
    "tags": [
     "start_task"
    ]
   },
   "source": [
    "**Задание 22**\n",
    "\n",
    "Создайте c помощью конструктора `pd.DataFrame` таблицу, где\n",
    "* названия колонок — `['city', 'monday', 'wednesday', 'friday']`;\n",
    "* данные — результаты, которые вы получили с помощью `number_tracks`."
   ]
  },
  {
   "cell_type": "code",
   "execution_count": 27,
   "metadata": {
    "deletable": false,
    "id": "APAcLpOr_Zcu"
   },
   "outputs": [
    {
     "data": {
      "text/html": [
       "<div>\n",
       "<style scoped>\n",
       "    .dataframe tbody tr th:only-of-type {\n",
       "        vertical-align: middle;\n",
       "    }\n",
       "\n",
       "    .dataframe tbody tr th {\n",
       "        vertical-align: top;\n",
       "    }\n",
       "\n",
       "    .dataframe thead th {\n",
       "        text-align: right;\n",
       "    }\n",
       "</style>\n",
       "<table border=\"1\" class=\"dataframe\">\n",
       "  <thead>\n",
       "    <tr style=\"text-align: right;\">\n",
       "      <th></th>\n",
       "      <th>city</th>\n",
       "      <th>monday</th>\n",
       "      <th>wednesday</th>\n",
       "      <th>friday</th>\n",
       "    </tr>\n",
       "  </thead>\n",
       "  <tbody>\n",
       "    <tr>\n",
       "      <th>0</th>\n",
       "      <td>Moscow</td>\n",
       "      <td>15740</td>\n",
       "      <td>11056</td>\n",
       "      <td>15945</td>\n",
       "    </tr>\n",
       "    <tr>\n",
       "      <th>1</th>\n",
       "      <td>Saint-Petersburg</td>\n",
       "      <td>5614</td>\n",
       "      <td>11056</td>\n",
       "      <td>5895</td>\n",
       "    </tr>\n",
       "  </tbody>\n",
       "</table>\n",
       "</div>"
      ],
      "text/plain": [
       "               city  monday  wednesday  friday\n",
       "0            Moscow   15740      11056   15945\n",
       "1  Saint-Petersburg    5614      11056    5895"
      ]
     },
     "execution_count": 27,
     "metadata": {},
     "output_type": "execute_result"
    }
   ],
   "source": [
    "# Таблица с результатами\n",
    "data = [\n",
    "    ['Moscow', 15740, 11056, 15945],\n",
    "    ['Saint-Petersburg', 5614, 11056, 5895]\n",
    "]\n",
    "columns = ['city', 'monday', 'wednesday', 'friday']\n",
    "pd.DataFrame(data=data, columns=columns)"
   ]
  },
  {
   "cell_type": "markdown",
   "metadata": {
    "deletable": false,
    "editable": false,
    "id": "-EgPIHYu_Zcu"
   },
   "source": [
    "**Выводы**\n",
    "\n",
    "Данные показывают разницу поведения пользователей:\n",
    "\n",
    "- В Москве пик прослушиваний приходится на понедельник и пятницу, а в среду заметен спад.\n",
    "- В Петербурге, наоборот, больше слушают музыку по средам. Активность в понедельник и пятницу здесь почти в равной мере уступает среде.\n",
    "\n",
    "Значит, данные говорят в пользу первой гипотезы."
   ]
  },
  {
   "cell_type": "markdown",
   "metadata": {
    "deletable": false,
    "editable": false,
    "id": "atZAxtq4_Zcu"
   },
   "source": [
    "### Музыка в начале и в конце недели"
   ]
  },
  {
   "cell_type": "markdown",
   "metadata": {
    "deletable": false,
    "editable": false,
    "id": "eXrQqXFH_Zcu"
   },
   "source": [
    "Согласно второй гипотезе, утром в понедельник в Москве преобладают одни жанры, а в Петербурге — другие. Так же и вечером пятницы преобладают разные жанры — в зависимости от города."
   ]
  },
  {
   "cell_type": "markdown",
   "metadata": {
    "deletable": false,
    "editable": false,
    "id": "S8UcW6Hw_Zcu",
    "tags": [
     "start_task"
    ]
   },
   "source": [
    "**Задание 23**\n",
    "\n",
    "Сохраните таблицы с данными в две переменные:\n",
    "* по Москве — в `moscow_general`;\n",
    "* по Санкт-Петербургу — в `spb_general`."
   ]
  },
  {
   "cell_type": "code",
   "execution_count": 28,
   "metadata": {
    "deletable": false,
    "id": "qeaFfM_P_Zcu"
   },
   "outputs": [],
   "source": [
    "# получение таблицы moscow_general из тех строк таблицы df, \n",
    "# для которых значение в столбце 'city' равно 'Moscow'\n",
    "\n",
    "moscow_general = df[df['city'] == 'Moscow']\n"
   ]
  },
  {
   "cell_type": "code",
   "execution_count": 29,
   "metadata": {
    "deletable": false,
    "id": "ORaVRKto_Zcu"
   },
   "outputs": [],
   "source": [
    "# получение таблицы spb_general из тех строк таблицы df,\n",
    "# для которых значение в столбце 'city' равно 'Saint-Petersburg'\n",
    "\n",
    "spb_general = df[df['city'] == 'Saint-Petersburg']"
   ]
  },
  {
   "cell_type": "markdown",
   "metadata": {
    "deletable": false,
    "editable": false,
    "id": "MEJV-CX2_Zcu",
    "tags": [
     "start_task"
    ]
   },
   "source": [
    "**Задание 24**\n",
    "\n",
    "Создайте функцию `genre_weekday()` с четырьмя параметрами:\n",
    "* таблица (датафрейм) с данными,\n",
    "* день недели,\n",
    "* начальная временная метка в формате 'hh:mm', \n",
    "* последняя временная метка в формате 'hh:mm'.\n",
    "\n",
    "Функция должна вернуть информацию о топ-10 жанров тех треков, которые прослушивали в указанный день, в промежутке между двумя отметками времени."
   ]
  },
  {
   "cell_type": "code",
   "execution_count": 30,
   "metadata": {
    "deletable": false,
    "id": "laJT9BYl_Zcu"
   },
   "outputs": [],
   "source": [
    "# Объявление функции genre_weekday() с параметрами table, day, time1, time2,\n",
    "# которая возвращает информацию о самых популярных жанрах в указанный день в\n",
    "# заданное время:\n",
    "# 1) в переменную genre_df сохраняются те строки переданного датафрейма table, для\n",
    "#    которых одновременно:\n",
    "#    - значение в столбце day равно значению аргумента day\n",
    "#    - значение в столбце time больше значения аргумента time1\n",
    "#    - значение в столбце time меньше значения аргумента time2\n",
    "#    Используйте последовательную фильтрацию с помощью логической индексации.\n",
    "# 2) сгруппировать датафрейм genre_df по столбцу genre, взять один из его\n",
    "#    столбцов и посчитать методом count() количество записей для каждого из\n",
    "#    присутствующих жанров, получившийся Series записать в переменную\n",
    "#    genre_df_count\n",
    "# 3) отсортировать genre_df_count по убыванию встречаемости и сохранить\n",
    "#    в переменную genre_df_sorted\n",
    "# 4) вернуть Series из 10 первых значений genre_df_sorted, это будут топ-10\n",
    "#    популярных жанров (в указанный день, в заданное время)\n",
    "\n",
    "def genre_weekday(df, day, time1, time2):\n",
    "    # последовательная фильтрация\n",
    "    # оставляем в genre_df только те строки df, у которых день равен day\n",
    "    genre_df = df[df['day'] == day] # ваш код здесь\n",
    "    # оставляем в genre_df только те строки genre_df, у которых время меньше time2\n",
    "    genre_df = genre_df[genre_df['time'] < time2] # ваш код здесь\n",
    "    # оставляем в genre_df только те строки genre_df, у которых время больше time1\n",
    "    genre_df = genre_df[genre_df['time'] > time1] # ваш код здесь\n",
    "    # сгруппируем отфильтрованный датафрейм по столбцу с названиями жанров, возьмём столбец genre и посчитаем кол-во строк для каждого жанра методом count()\n",
    "    genre_df_grouped = genre_df.groupby('genre')['genre'].count() # ваш код здесь\n",
    "    # отсортируем результат по убыванию (чтобы в начале Series оказались самые популярные жанры)\n",
    "    genre_df_sorted = genre_df_grouped.sort_values(ascending=False) # ваш код здесь\n",
    "    # вернём Series с 10 самыми популярными жанрами в указанный отрезок времени заданного дня\n",
    "    return genre_df_sorted[:10]"
   ]
  },
  {
   "cell_type": "markdown",
   "metadata": {
    "deletable": false,
    "editable": false,
    "id": "la2s2_PF_Zcu",
    "tags": [
     "start_task"
    ]
   },
   "source": [
    "**Задание 25**\n",
    "\n",
    "\n",
    "Cравните результаты функции `genre_weekday()` для Москвы и Санкт-Петербурга в понедельник утром (с 7:00 до 11:00) и в пятницу вечером (с 17:00 до 23:00):"
   ]
  },
  {
   "cell_type": "code",
   "execution_count": 31,
   "metadata": {
    "deletable": false,
    "id": "yz7itPUQ_Zcu"
   },
   "outputs": [
    {
     "data": {
      "text/plain": [
       "genre\n",
       "pop            781\n",
       "dance          549\n",
       "electronic     480\n",
       "rock           474\n",
       "hiphop         286\n",
       "ruspop         186\n",
       "world          181\n",
       "rusrap         175\n",
       "alternative    164\n",
       "unknown        161\n",
       "Name: genre, dtype: int64"
      ]
     },
     "execution_count": 31,
     "metadata": {},
     "output_type": "execute_result"
    }
   ],
   "source": [
    "# вызов функции для утра понедельника в Москве (вместо df — таблица moscow_general)\n",
    "# объекты, хранящие время, являются строками и сравниваются как строки\n",
    "# пример вызова: genre_weekday(moscow_general, 'Monday', '07:00', '11:00')\n",
    "genre_weekday(moscow_general, 'Monday', '07:00', '11:00')"
   ]
  },
  {
   "cell_type": "code",
   "execution_count": 32,
   "metadata": {
    "deletable": false,
    "id": "kwUcHPdy_Zcu"
   },
   "outputs": [
    {
     "data": {
      "text/plain": [
       "genre\n",
       "pop            218\n",
       "dance          182\n",
       "rock           162\n",
       "electronic     147\n",
       "hiphop          80\n",
       "ruspop          64\n",
       "alternative     58\n",
       "rusrap          55\n",
       "jazz            44\n",
       "classical       40\n",
       "Name: genre, dtype: int64"
      ]
     },
     "execution_count": 32,
     "metadata": {},
     "output_type": "execute_result"
    }
   ],
   "source": [
    "# вызов функции для утра понедельника в Петербурге (вместо df — таблица spb_general)\n",
    "genre_weekday(spb_general, 'Monday', '07:00', '11:00')"
   ]
  },
  {
   "cell_type": "code",
   "execution_count": 33,
   "metadata": {
    "deletable": false,
    "id": "EzXVRE1o_Zcu"
   },
   "outputs": [
    {
     "data": {
      "text/plain": [
       "genre\n",
       "pop            713\n",
       "rock           517\n",
       "dance          495\n",
       "electronic     482\n",
       "hiphop         273\n",
       "world          208\n",
       "ruspop         170\n",
       "alternative    163\n",
       "classical      163\n",
       "rusrap         142\n",
       "Name: genre, dtype: int64"
      ]
     },
     "execution_count": 33,
     "metadata": {},
     "output_type": "execute_result"
    }
   ],
   "source": [
    "# вызов функции для вечера пятницы в Москве\n",
    "genre_weekday(moscow_general, 'Friday', '17:00', '23:00')"
   ]
  },
  {
   "cell_type": "code",
   "execution_count": 34,
   "metadata": {
    "deletable": false,
    "id": "JZaEKu5v_Zcu"
   },
   "outputs": [
    {
     "data": {
      "text/plain": [
       "genre\n",
       "pop            256\n",
       "electronic     216\n",
       "rock           216\n",
       "dance          210\n",
       "hiphop          97\n",
       "alternative     63\n",
       "jazz            61\n",
       "classical       60\n",
       "rusrap          59\n",
       "world           54\n",
       "Name: genre, dtype: int64"
      ]
     },
     "execution_count": 34,
     "metadata": {},
     "output_type": "execute_result"
    }
   ],
   "source": [
    "# вызов функции для вечера пятницы в Петербурге\n",
    "genre_weekday(spb_general, 'Friday', '17:00', '23:00')"
   ]
  },
  {
   "cell_type": "markdown",
   "metadata": {
    "deletable": false,
    "editable": false,
    "id": "wrCe4MNX_Zcu"
   },
   "source": [
    "**Выводы**\n",
    "\n",
    "Если сравнить топ-10 жанров в понедельник утром, можно сделать такие выводы:\n",
    "\n",
    "1. В Москве и Петербурге слушают похожую музыку. Единственное отличие — в московский рейтинг вошёл жанр “world”, а в петербургский — джаз и классика.\n",
    "\n",
    "2. В Москве пропущенных значений оказалось так много, что значение `'unknown'` заняло десятое место среди самых популярных жанров. Значит, пропущенные значения занимают существенную долю в данных и угрожают достоверности исследования.\n",
    "\n",
    "Вечер пятницы не меняет эту картину. Некоторые жанры поднимаются немного выше, другие спускаются, но в целом топ-10 остаётся тем же самым.\n",
    "\n",
    "Таким образом, вторая гипотеза подтвердилась лишь частично:\n",
    "* Пользователи слушают похожую музыку в начале недели и в конце.\n",
    "* Разница между Москвой и Петербургом не слишком выражена. В Москве чаще слушают русскую популярную музыку, в Петербурге — джаз.\n",
    "\n",
    "Однако пропуски в данных ставят под сомнение этот результат. В Москве их так много, что рейтинг топ-10 мог бы выглядеть иначе, если бы не утерянные  данные о жанрах."
   ]
  },
  {
   "cell_type": "markdown",
   "metadata": {
    "deletable": false,
    "editable": false,
    "id": "JolODAqr_Zcu"
   },
   "source": [
    "### Жанровые предпочтения в Москве и Петербурге\n",
    "\n",
    "Гипотеза: Петербург — столица рэпа, музыку этого жанра там слушают чаще, чем в Москве.  А Москва — город контрастов, в котором, тем не менее, преобладает поп-музыка."
   ]
  },
  {
   "cell_type": "markdown",
   "metadata": {
    "deletable": false,
    "editable": false,
    "id": "DlegSvaT_Zcu",
    "tags": [
     "start_task"
    ]
   },
   "source": [
    "**Задание 26**\n",
    "\n",
    "Сгруппируйте таблицу `moscow_general` по жанру и посчитайте прослушивания треков каждого жанра методом `count()`. Затем отсортируйте результат в порядке убывания и сохраните его в таблице `moscow_genres`."
   ]
  },
  {
   "cell_type": "code",
   "execution_count": 35,
   "metadata": {
    "deletable": false,
    "id": "r19lIPke_Zcu"
   },
   "outputs": [],
   "source": [
    "# одной строкой: группировка таблицы moscow_general по столбцу 'genre', \n",
    "# подсчёт числа значений 'genre' в этой группировке методом count(), \n",
    "# сортировка получившегося Series в порядке убывания и сохранение в moscow_genres\n",
    "moscow_genres = moscow_general.groupby('genre')['genre'].count().sort_values(ascending=False)"
   ]
  },
  {
   "cell_type": "markdown",
   "metadata": {
    "deletable": false,
    "editable": false,
    "id": "6kMuomxTiIr8",
    "tags": [
     "start_task"
    ]
   },
   "source": [
    "**Задание 27**\n",
    "\n",
    "Выведите на экран первые десять строк `moscow_genres`:"
   ]
  },
  {
   "cell_type": "code",
   "execution_count": 36,
   "metadata": {
    "deletable": false,
    "id": "WhCSooF8_Zcv"
   },
   "outputs": [
    {
     "data": {
      "text/plain": [
       "genre\n",
       "pop            5892\n",
       "dance          4435\n",
       "rock           3965\n",
       "electronic     3786\n",
       "hiphop         2096\n",
       "classical      1616\n",
       "world          1432\n",
       "alternative    1379\n",
       "ruspop         1372\n",
       "rusrap         1161\n",
       "Name: genre, dtype: int64"
      ]
     },
     "execution_count": 36,
     "metadata": {},
     "output_type": "execute_result"
    }
   ],
   "source": [
    "# просмотр первых 10 строк moscow_genres\n",
    "moscow_genres.head(10)"
   ]
  },
  {
   "cell_type": "markdown",
   "metadata": {
    "deletable": false,
    "editable": false,
    "id": "cnPG2vnN_Zcv",
    "tags": [
     "start_task"
    ]
   },
   "source": [
    "**Задание 28**\n",
    "\n",
    "\n",
    "Теперь повторите то же и для Петербурга.\n",
    "\n",
    "Сгруппируйте таблицу `spb_general` по жанру. Посчитайте прослушивания треков каждого жанра. Результат отсортируйте в порядке убывания и сохраните в таблице `spb_genres`:\n"
   ]
  },
  {
   "cell_type": "code",
   "execution_count": 37,
   "metadata": {
    "deletable": false,
    "id": "gluLIpE7_Zcv"
   },
   "outputs": [],
   "source": [
    "# одной строкой: группировка таблицы spb_general по столбцу 'genre', \n",
    "# подсчёт числа значений 'genre' в этой группировке методом count(), \n",
    "# сортировка получившегося Series в порядке убывания и сохранение в spb_genres\n",
    "spb_genres = spb_general.groupby('genre')['genre'].count().sort_values(ascending=False)"
   ]
  },
  {
   "cell_type": "markdown",
   "metadata": {
    "deletable": false,
    "editable": false,
    "id": "5Doha_ODgyQ8",
    "tags": [
     "start_task"
    ]
   },
   "source": [
    "**Задание 29**\n",
    "\n",
    "Выведите на экран первые десять строк `spb_genres`:"
   ]
  },
  {
   "cell_type": "code",
   "execution_count": 38,
   "metadata": {
    "deletable": false,
    "id": "uaGJHjVU_Zcv"
   },
   "outputs": [
    {
     "data": {
      "text/plain": [
       "genre\n",
       "pop            2431\n",
       "dance          1932\n",
       "rock           1879\n",
       "electronic     1736\n",
       "hiphop          960\n",
       "alternative     649\n",
       "classical       646\n",
       "rusrap          564\n",
       "ruspop          538\n",
       "world           515\n",
       "Name: genre, dtype: int64"
      ]
     },
     "execution_count": 38,
     "metadata": {},
     "output_type": "execute_result"
    }
   ],
   "source": [
    "# просмотр первых 10 строк spb_genres\n",
    "spb_genres.head(10)"
   ]
  },
  {
   "cell_type": "markdown",
   "metadata": {
    "deletable": false,
    "editable": false,
    "id": "RY51YJYu_Zcv"
   },
   "source": [
    "**Выводы**"
   ]
  },
  {
   "cell_type": "markdown",
   "metadata": {
    "deletable": false,
    "editable": false,
    "id": "nVhnJEm__Zcv"
   },
   "source": [
    "Гипотеза частично подтвердилась:\n",
    "* Поп-музыка — самый популярный жанр в Москве, как и предполагала гипотеза. Более того, в топ-10 жанров встречается близкий жанр — русская популярная музыка.\n",
    "* Вопреки ожиданиям, рэп одинаково популярен в Москве и Петербурге. \n"
   ]
  },
  {
   "cell_type": "markdown",
   "metadata": {
    "deletable": false,
    "editable": false,
    "id": "ykKQ0N65_Zcv"
   },
   "source": [
    "## Итоги исследования"
   ]
  },
  {
   "cell_type": "markdown",
   "metadata": {
    "deletable": false,
    "editable": false,
    "id": "tjUwbHb3_Zcv"
   },
   "source": [
    "Вы проверили три гипотезы и установили:\n",
    "\n",
    "1. День недели по-разному влияет на активность пользователей в Москве и Петербурге. \n",
    "\n",
    "Первая гипотеза полностью подтвердилась.\n",
    "\n",
    "2. Музыкальные предпочтения не сильно меняются в течение недели — будь то Москва или Петербург. Небольшие различия заметны в начале недели, по понедельникам:\n",
    "* в Москве слушают музыку жанра “world”,\n",
    "* в Петербурге — джаз и классику.\n",
    "\n",
    "Таким образом, вторая гипотеза подтвердилась лишь отчасти. Этот результат мог оказаться иным, если бы не пропуски в данных.\n",
    "\n",
    "3. Во вкусах пользователей Москвы и Петербурга больше общего чем различий. Вопреки ожиданиям, предпочтения жанров в Петербурге напоминают московские.\n",
    "\n",
    "Третья гипотеза не подтвердилась. Если различия в предпочтениях и существуют, на основной массе пользователей они незаметны.\n",
    "\n",
    "**На практике исследования содержат проверки статистических гипотез.**\n",
    "Из данных одного сервиса не всегда можно сделать вывод о всех жителях города.\n",
    "Проверки статистических гипотез покажут, насколько они достоверны, исходя из имеющихся данных. \n",
    "С методами проверок гипотез вы ещё познакомитесь в следующих темах."
   ]
  }
 ],
 "metadata": {
  "ExecuteTimeLog": [
   {
    "duration": 3,
    "start_time": "2022-09-11T07:39:39.579Z"
   },
   {
    "duration": 384,
    "start_time": "2022-09-11T07:40:35.000Z"
   },
   {
    "duration": 239,
    "start_time": "2022-09-11T07:41:59.764Z"
   },
   {
    "duration": 18,
    "start_time": "2022-09-11T07:42:40.148Z"
   },
   {
    "duration": 7,
    "start_time": "2022-09-11T07:44:24.969Z"
   },
   {
    "duration": 10,
    "start_time": "2022-09-11T07:47:02.078Z"
   },
   {
    "duration": 10,
    "start_time": "2022-09-11T07:47:39.737Z"
   },
   {
    "duration": 410,
    "start_time": "2022-09-11T07:48:02.349Z"
   },
   {
    "duration": 183,
    "start_time": "2022-09-11T07:48:04.067Z"
   },
   {
    "duration": 23,
    "start_time": "2022-09-11T07:48:05.761Z"
   },
   {
    "duration": 30,
    "start_time": "2022-09-11T07:50:49.101Z"
   },
   {
    "duration": 62,
    "start_time": "2022-09-11T07:55:36.747Z"
   },
   {
    "duration": 4,
    "start_time": "2022-09-11T07:55:55.087Z"
   },
   {
    "duration": 3,
    "start_time": "2022-09-11T08:00:04.368Z"
   },
   {
    "duration": 5,
    "start_time": "2022-09-11T08:00:37.950Z"
   },
   {
    "duration": 24,
    "start_time": "2022-09-11T08:01:51.778Z"
   },
   {
    "duration": 91,
    "start_time": "2022-09-11T08:02:55.884Z"
   },
   {
    "duration": 6,
    "start_time": "2022-09-11T08:04:31.478Z"
   },
   {
    "duration": 365,
    "start_time": "2022-09-11T08:05:12.586Z"
   },
   {
    "duration": 165,
    "start_time": "2022-09-11T08:05:12.953Z"
   },
   {
    "duration": 25,
    "start_time": "2022-09-11T08:05:13.122Z"
   },
   {
    "duration": 30,
    "start_time": "2022-09-11T08:05:13.149Z"
   },
   {
    "duration": 6,
    "start_time": "2022-09-11T08:05:13.181Z"
   },
   {
    "duration": 7,
    "start_time": "2022-09-11T08:05:13.189Z"
   },
   {
    "duration": 12,
    "start_time": "2022-09-11T08:05:13.198Z"
   },
   {
    "duration": 9,
    "start_time": "2022-09-11T08:05:13.211Z"
   },
   {
    "duration": 45,
    "start_time": "2022-09-11T08:05:13.223Z"
   },
   {
    "duration": 64,
    "start_time": "2022-09-11T08:05:13.269Z"
   },
   {
    "duration": 0,
    "start_time": "2022-09-11T08:05:13.334Z"
   },
   {
    "duration": 0,
    "start_time": "2022-09-11T08:05:13.346Z"
   },
   {
    "duration": 0,
    "start_time": "2022-09-11T08:05:13.347Z"
   },
   {
    "duration": 0,
    "start_time": "2022-09-11T08:05:13.349Z"
   },
   {
    "duration": 0,
    "start_time": "2022-09-11T08:05:13.350Z"
   },
   {
    "duration": 0,
    "start_time": "2022-09-11T08:05:13.351Z"
   },
   {
    "duration": 0,
    "start_time": "2022-09-11T08:05:13.352Z"
   },
   {
    "duration": 0,
    "start_time": "2022-09-11T08:05:13.353Z"
   },
   {
    "duration": 0,
    "start_time": "2022-09-11T08:05:13.353Z"
   },
   {
    "duration": 0,
    "start_time": "2022-09-11T08:05:13.354Z"
   },
   {
    "duration": 0,
    "start_time": "2022-09-11T08:05:13.355Z"
   },
   {
    "duration": 0,
    "start_time": "2022-09-11T08:05:13.356Z"
   },
   {
    "duration": 0,
    "start_time": "2022-09-11T08:05:13.357Z"
   },
   {
    "duration": 0,
    "start_time": "2022-09-11T08:05:13.358Z"
   },
   {
    "duration": 0,
    "start_time": "2022-09-11T08:05:13.358Z"
   },
   {
    "duration": 0,
    "start_time": "2022-09-11T08:05:13.359Z"
   },
   {
    "duration": 0,
    "start_time": "2022-09-11T08:05:13.360Z"
   },
   {
    "duration": 0,
    "start_time": "2022-09-11T08:05:13.361Z"
   },
   {
    "duration": 0,
    "start_time": "2022-09-11T08:05:13.362Z"
   },
   {
    "duration": 0,
    "start_time": "2022-09-11T08:05:13.363Z"
   },
   {
    "duration": 0,
    "start_time": "2022-09-11T08:05:13.364Z"
   },
   {
    "duration": 0,
    "start_time": "2022-09-11T08:05:13.366Z"
   },
   {
    "duration": 0,
    "start_time": "2022-09-11T08:05:13.366Z"
   },
   {
    "duration": 0,
    "start_time": "2022-09-11T08:05:13.368Z"
   },
   {
    "duration": 0,
    "start_time": "2022-09-11T08:05:13.369Z"
   },
   {
    "duration": 0,
    "start_time": "2022-09-11T08:05:13.370Z"
   },
   {
    "duration": 0,
    "start_time": "2022-09-11T08:05:13.371Z"
   },
   {
    "duration": 0,
    "start_time": "2022-09-11T08:05:13.371Z"
   },
   {
    "duration": 18,
    "start_time": "2022-09-11T08:07:34.212Z"
   },
   {
    "duration": 25,
    "start_time": "2022-09-11T08:07:50.619Z"
   },
   {
    "duration": 63,
    "start_time": "2022-09-11T08:08:43.487Z"
   },
   {
    "duration": 13,
    "start_time": "2022-09-11T08:09:29.429Z"
   },
   {
    "duration": 82,
    "start_time": "2022-09-11T08:09:44.664Z"
   },
   {
    "duration": 60,
    "start_time": "2022-09-11T08:10:56.109Z"
   },
   {
    "duration": 80,
    "start_time": "2022-09-11T08:12:04.276Z"
   },
   {
    "duration": 75,
    "start_time": "2022-09-11T08:12:11.999Z"
   },
   {
    "duration": 55,
    "start_time": "2022-09-11T08:12:52.524Z"
   },
   {
    "duration": 416,
    "start_time": "2022-09-11T08:13:48.938Z"
   },
   {
    "duration": 162,
    "start_time": "2022-09-11T08:13:49.356Z"
   },
   {
    "duration": 18,
    "start_time": "2022-09-11T08:13:49.520Z"
   },
   {
    "duration": 34,
    "start_time": "2022-09-11T08:13:49.540Z"
   },
   {
    "duration": 3,
    "start_time": "2022-09-11T08:13:49.576Z"
   },
   {
    "duration": 8,
    "start_time": "2022-09-11T08:13:49.580Z"
   },
   {
    "duration": 8,
    "start_time": "2022-09-11T08:13:49.589Z"
   },
   {
    "duration": 13,
    "start_time": "2022-09-11T08:13:49.598Z"
   },
   {
    "duration": 36,
    "start_time": "2022-09-11T08:13:49.612Z"
   },
   {
    "duration": 19,
    "start_time": "2022-09-11T08:13:49.649Z"
   },
   {
    "duration": 24,
    "start_time": "2022-09-11T08:13:49.669Z"
   },
   {
    "duration": 77,
    "start_time": "2022-09-11T08:13:49.694Z"
   },
   {
    "duration": 84,
    "start_time": "2022-09-11T08:13:49.773Z"
   },
   {
    "duration": 58,
    "start_time": "2022-09-11T08:13:49.860Z"
   },
   {
    "duration": 2,
    "start_time": "2022-09-11T08:13:49.920Z"
   },
   {
    "duration": 6,
    "start_time": "2022-09-11T08:13:49.923Z"
   },
   {
    "duration": 2,
    "start_time": "2022-09-11T08:13:49.947Z"
   },
   {
    "duration": 6,
    "start_time": "2022-09-11T08:13:49.950Z"
   },
   {
    "duration": 5,
    "start_time": "2022-09-11T08:13:49.957Z"
   },
   {
    "duration": 5,
    "start_time": "2022-09-11T08:13:49.963Z"
   },
   {
    "duration": 6,
    "start_time": "2022-09-11T08:13:49.970Z"
   },
   {
    "duration": 5,
    "start_time": "2022-09-11T08:13:49.978Z"
   },
   {
    "duration": 6,
    "start_time": "2022-09-11T08:13:49.985Z"
   },
   {
    "duration": 9,
    "start_time": "2022-09-11T08:13:49.992Z"
   },
   {
    "duration": 18,
    "start_time": "2022-09-11T08:13:50.002Z"
   },
   {
    "duration": 7,
    "start_time": "2022-09-11T08:13:50.021Z"
   },
   {
    "duration": 9,
    "start_time": "2022-09-11T08:13:50.030Z"
   },
   {
    "duration": 13,
    "start_time": "2022-09-11T08:13:50.041Z"
   },
   {
    "duration": 8,
    "start_time": "2022-09-11T08:13:50.055Z"
   },
   {
    "duration": 52,
    "start_time": "2022-09-11T08:13:50.065Z"
   },
   {
    "duration": 0,
    "start_time": "2022-09-11T08:13:50.118Z"
   },
   {
    "duration": 0,
    "start_time": "2022-09-11T08:13:50.120Z"
   },
   {
    "duration": 0,
    "start_time": "2022-09-11T08:13:50.121Z"
   },
   {
    "duration": 0,
    "start_time": "2022-09-11T08:13:50.122Z"
   },
   {
    "duration": 0,
    "start_time": "2022-09-11T08:13:50.123Z"
   },
   {
    "duration": 0,
    "start_time": "2022-09-11T08:13:50.124Z"
   },
   {
    "duration": 0,
    "start_time": "2022-09-11T08:13:50.125Z"
   },
   {
    "duration": 0,
    "start_time": "2022-09-11T08:13:50.126Z"
   },
   {
    "duration": 61,
    "start_time": "2022-09-11T08:15:03.298Z"
   },
   {
    "duration": 68,
    "start_time": "2022-09-11T08:15:40.821Z"
   },
   {
    "duration": 62,
    "start_time": "2022-09-11T08:15:45.139Z"
   },
   {
    "duration": 52,
    "start_time": "2022-09-11T08:15:54.663Z"
   },
   {
    "duration": 384,
    "start_time": "2022-09-11T08:16:30.265Z"
   },
   {
    "duration": 162,
    "start_time": "2022-09-11T08:16:30.651Z"
   },
   {
    "duration": 17,
    "start_time": "2022-09-11T08:16:30.815Z"
   },
   {
    "duration": 40,
    "start_time": "2022-09-11T08:16:30.834Z"
   },
   {
    "duration": 20,
    "start_time": "2022-09-11T08:16:30.876Z"
   },
   {
    "duration": 28,
    "start_time": "2022-09-11T08:16:30.898Z"
   },
   {
    "duration": 18,
    "start_time": "2022-09-11T08:16:30.928Z"
   },
   {
    "duration": 35,
    "start_time": "2022-09-11T08:16:30.947Z"
   },
   {
    "duration": 80,
    "start_time": "2022-09-11T08:16:30.983Z"
   },
   {
    "duration": 78,
    "start_time": "2022-09-11T08:16:31.066Z"
   },
   {
    "duration": 34,
    "start_time": "2022-09-11T08:16:31.146Z"
   },
   {
    "duration": 79,
    "start_time": "2022-09-11T08:16:31.182Z"
   },
   {
    "duration": 84,
    "start_time": "2022-09-11T08:16:31.263Z"
   },
   {
    "duration": 72,
    "start_time": "2022-09-11T08:16:31.349Z"
   },
   {
    "duration": 3,
    "start_time": "2022-09-11T08:16:31.422Z"
   },
   {
    "duration": 10,
    "start_time": "2022-09-11T08:16:31.426Z"
   },
   {
    "duration": 12,
    "start_time": "2022-09-11T08:16:31.447Z"
   },
   {
    "duration": 35,
    "start_time": "2022-09-11T08:16:31.460Z"
   },
   {
    "duration": 9,
    "start_time": "2022-09-11T08:16:31.497Z"
   },
   {
    "duration": 21,
    "start_time": "2022-09-11T08:16:31.508Z"
   },
   {
    "duration": 26,
    "start_time": "2022-09-11T08:16:31.530Z"
   },
   {
    "duration": 22,
    "start_time": "2022-09-11T08:16:31.558Z"
   },
   {
    "duration": 31,
    "start_time": "2022-09-11T08:16:31.581Z"
   },
   {
    "duration": 35,
    "start_time": "2022-09-11T08:16:31.614Z"
   },
   {
    "duration": 36,
    "start_time": "2022-09-11T08:16:31.650Z"
   },
   {
    "duration": 32,
    "start_time": "2022-09-11T08:16:31.687Z"
   },
   {
    "duration": 16,
    "start_time": "2022-09-11T08:16:31.720Z"
   },
   {
    "duration": 16,
    "start_time": "2022-09-11T08:16:31.739Z"
   },
   {
    "duration": 10,
    "start_time": "2022-09-11T08:16:31.757Z"
   },
   {
    "duration": 45,
    "start_time": "2022-09-11T08:16:31.769Z"
   },
   {
    "duration": 0,
    "start_time": "2022-09-11T08:16:31.816Z"
   },
   {
    "duration": 0,
    "start_time": "2022-09-11T08:16:31.817Z"
   },
   {
    "duration": 0,
    "start_time": "2022-09-11T08:16:31.818Z"
   },
   {
    "duration": 0,
    "start_time": "2022-09-11T08:16:31.819Z"
   },
   {
    "duration": 0,
    "start_time": "2022-09-11T08:16:31.820Z"
   },
   {
    "duration": 0,
    "start_time": "2022-09-11T08:16:31.821Z"
   },
   {
    "duration": 0,
    "start_time": "2022-09-11T08:16:31.821Z"
   },
   {
    "duration": 1,
    "start_time": "2022-09-11T08:16:31.822Z"
   },
   {
    "duration": 100,
    "start_time": "2022-09-11T08:20:39.176Z"
   },
   {
    "duration": 52,
    "start_time": "2022-09-11T08:20:57.384Z"
   },
   {
    "duration": 51,
    "start_time": "2022-09-11T08:21:06.733Z"
   },
   {
    "duration": 45,
    "start_time": "2022-09-11T08:21:31.458Z"
   },
   {
    "duration": 47,
    "start_time": "2022-09-11T08:21:57.111Z"
   },
   {
    "duration": 431,
    "start_time": "2022-09-11T08:24:45.716Z"
   },
   {
    "duration": 188,
    "start_time": "2022-09-11T08:24:46.148Z"
   },
   {
    "duration": 21,
    "start_time": "2022-09-11T08:24:46.338Z"
   },
   {
    "duration": 47,
    "start_time": "2022-09-11T08:24:46.362Z"
   },
   {
    "duration": 3,
    "start_time": "2022-09-11T08:24:46.412Z"
   },
   {
    "duration": 16,
    "start_time": "2022-09-11T08:24:46.417Z"
   },
   {
    "duration": 16,
    "start_time": "2022-09-11T08:24:46.434Z"
   },
   {
    "duration": 19,
    "start_time": "2022-09-11T08:24:46.452Z"
   },
   {
    "duration": 36,
    "start_time": "2022-09-11T08:24:46.473Z"
   },
   {
    "duration": 18,
    "start_time": "2022-09-11T08:24:46.512Z"
   },
   {
    "duration": 37,
    "start_time": "2022-09-11T08:24:46.532Z"
   },
   {
    "duration": 63,
    "start_time": "2022-09-11T08:24:46.570Z"
   },
   {
    "duration": 69,
    "start_time": "2022-09-11T08:24:46.646Z"
   },
   {
    "duration": 63,
    "start_time": "2022-09-11T08:24:46.717Z"
   },
   {
    "duration": 47,
    "start_time": "2022-09-11T08:24:46.782Z"
   },
   {
    "duration": 15,
    "start_time": "2022-09-11T08:24:46.831Z"
   },
   {
    "duration": 2,
    "start_time": "2022-09-11T08:24:46.848Z"
   },
   {
    "duration": 10,
    "start_time": "2022-09-11T08:24:46.851Z"
   },
   {
    "duration": 5,
    "start_time": "2022-09-11T08:24:46.862Z"
   },
   {
    "duration": 10,
    "start_time": "2022-09-11T08:24:46.869Z"
   },
   {
    "duration": 9,
    "start_time": "2022-09-11T08:24:46.881Z"
   },
   {
    "duration": 7,
    "start_time": "2022-09-11T08:24:46.892Z"
   },
   {
    "duration": 4,
    "start_time": "2022-09-11T08:24:46.901Z"
   },
   {
    "duration": 5,
    "start_time": "2022-09-11T08:24:46.907Z"
   },
   {
    "duration": 8,
    "start_time": "2022-09-11T08:24:46.914Z"
   },
   {
    "duration": 11,
    "start_time": "2022-09-11T08:24:46.924Z"
   },
   {
    "duration": 8,
    "start_time": "2022-09-11T08:24:46.937Z"
   },
   {
    "duration": 4,
    "start_time": "2022-09-11T08:24:46.949Z"
   },
   {
    "duration": 7,
    "start_time": "2022-09-11T08:24:46.955Z"
   },
   {
    "duration": 58,
    "start_time": "2022-09-11T08:24:46.963Z"
   },
   {
    "duration": 0,
    "start_time": "2022-09-11T08:24:47.023Z"
   },
   {
    "duration": 0,
    "start_time": "2022-09-11T08:24:47.025Z"
   },
   {
    "duration": 0,
    "start_time": "2022-09-11T08:24:47.026Z"
   },
   {
    "duration": 0,
    "start_time": "2022-09-11T08:24:47.026Z"
   },
   {
    "duration": 0,
    "start_time": "2022-09-11T08:24:47.027Z"
   },
   {
    "duration": 0,
    "start_time": "2022-09-11T08:24:47.029Z"
   },
   {
    "duration": 0,
    "start_time": "2022-09-11T08:24:47.030Z"
   },
   {
    "duration": 0,
    "start_time": "2022-09-11T08:24:47.031Z"
   },
   {
    "duration": 34,
    "start_time": "2022-09-11T08:28:25.999Z"
   },
   {
    "duration": 40,
    "start_time": "2022-09-11T08:28:33.844Z"
   },
   {
    "duration": 40,
    "start_time": "2022-09-11T08:28:55.146Z"
   },
   {
    "duration": 40,
    "start_time": "2022-09-11T08:29:04.908Z"
   },
   {
    "duration": 49,
    "start_time": "2022-09-11T08:29:08.975Z"
   },
   {
    "duration": 39,
    "start_time": "2022-09-11T08:30:34.718Z"
   },
   {
    "duration": 358,
    "start_time": "2022-09-11T08:31:32.800Z"
   },
   {
    "duration": 172,
    "start_time": "2022-09-11T08:31:33.161Z"
   },
   {
    "duration": 20,
    "start_time": "2022-09-11T08:31:33.334Z"
   },
   {
    "duration": 31,
    "start_time": "2022-09-11T08:31:33.356Z"
   },
   {
    "duration": 2,
    "start_time": "2022-09-11T08:31:33.390Z"
   },
   {
    "duration": 10,
    "start_time": "2022-09-11T08:31:33.394Z"
   },
   {
    "duration": 7,
    "start_time": "2022-09-11T08:31:33.405Z"
   },
   {
    "duration": 10,
    "start_time": "2022-09-11T08:31:33.413Z"
   },
   {
    "duration": 48,
    "start_time": "2022-09-11T08:31:33.424Z"
   },
   {
    "duration": 21,
    "start_time": "2022-09-11T08:31:33.475Z"
   },
   {
    "duration": 24,
    "start_time": "2022-09-11T08:31:33.497Z"
   },
   {
    "duration": 85,
    "start_time": "2022-09-11T08:31:33.523Z"
   },
   {
    "duration": 85,
    "start_time": "2022-09-11T08:31:33.610Z"
   },
   {
    "duration": 65,
    "start_time": "2022-09-11T08:31:33.697Z"
   },
   {
    "duration": 39,
    "start_time": "2022-09-11T08:31:33.764Z"
   },
   {
    "duration": 3,
    "start_time": "2022-09-11T08:31:33.805Z"
   },
   {
    "duration": 7,
    "start_time": "2022-09-11T08:31:33.809Z"
   },
   {
    "duration": 7,
    "start_time": "2022-09-11T08:31:33.818Z"
   },
   {
    "duration": 20,
    "start_time": "2022-09-11T08:31:33.827Z"
   },
   {
    "duration": 7,
    "start_time": "2022-09-11T08:31:33.849Z"
   },
   {
    "duration": 9,
    "start_time": "2022-09-11T08:31:33.857Z"
   },
   {
    "duration": 11,
    "start_time": "2022-09-11T08:31:33.868Z"
   },
   {
    "duration": 8,
    "start_time": "2022-09-11T08:31:33.880Z"
   },
   {
    "duration": 6,
    "start_time": "2022-09-11T08:31:33.889Z"
   },
   {
    "duration": 7,
    "start_time": "2022-09-11T08:31:33.896Z"
   },
   {
    "duration": 10,
    "start_time": "2022-09-11T08:31:33.904Z"
   },
   {
    "duration": 5,
    "start_time": "2022-09-11T08:31:33.916Z"
   },
   {
    "duration": 4,
    "start_time": "2022-09-11T08:31:33.924Z"
   },
   {
    "duration": 7,
    "start_time": "2022-09-11T08:31:33.930Z"
   },
   {
    "duration": 79,
    "start_time": "2022-09-11T08:31:33.939Z"
   },
   {
    "duration": 0,
    "start_time": "2022-09-11T08:31:34.020Z"
   },
   {
    "duration": 0,
    "start_time": "2022-09-11T08:31:34.021Z"
   },
   {
    "duration": 0,
    "start_time": "2022-09-11T08:31:34.022Z"
   },
   {
    "duration": 0,
    "start_time": "2022-09-11T08:31:34.022Z"
   },
   {
    "duration": 0,
    "start_time": "2022-09-11T08:31:34.023Z"
   },
   {
    "duration": 0,
    "start_time": "2022-09-11T08:31:34.024Z"
   },
   {
    "duration": 0,
    "start_time": "2022-09-11T08:31:34.025Z"
   },
   {
    "duration": 0,
    "start_time": "2022-09-11T08:31:34.026Z"
   },
   {
    "duration": 5,
    "start_time": "2022-09-11T09:00:18.381Z"
   },
   {
    "duration": 13,
    "start_time": "2022-09-11T09:01:13.551Z"
   },
   {
    "duration": 39,
    "start_time": "2022-09-11T09:01:25.035Z"
   },
   {
    "duration": 367,
    "start_time": "2022-09-11T09:01:51.891Z"
   },
   {
    "duration": 160,
    "start_time": "2022-09-11T09:01:52.260Z"
   },
   {
    "duration": 16,
    "start_time": "2022-09-11T09:01:52.422Z"
   },
   {
    "duration": 34,
    "start_time": "2022-09-11T09:01:52.439Z"
   },
   {
    "duration": 3,
    "start_time": "2022-09-11T09:01:52.475Z"
   },
   {
    "duration": 7,
    "start_time": "2022-09-11T09:01:52.479Z"
   },
   {
    "duration": 5,
    "start_time": "2022-09-11T09:01:52.487Z"
   },
   {
    "duration": 10,
    "start_time": "2022-09-11T09:01:52.494Z"
   },
   {
    "duration": 49,
    "start_time": "2022-09-11T09:01:52.506Z"
   },
   {
    "duration": 20,
    "start_time": "2022-09-11T09:01:52.558Z"
   },
   {
    "duration": 21,
    "start_time": "2022-09-11T09:01:52.580Z"
   },
   {
    "duration": 77,
    "start_time": "2022-09-11T09:01:52.603Z"
   },
   {
    "duration": 79,
    "start_time": "2022-09-11T09:01:52.682Z"
   },
   {
    "duration": 55,
    "start_time": "2022-09-11T09:01:52.763Z"
   },
   {
    "duration": 52,
    "start_time": "2022-09-11T09:01:52.820Z"
   },
   {
    "duration": 10,
    "start_time": "2022-09-11T09:01:52.873Z"
   },
   {
    "duration": 36,
    "start_time": "2022-09-11T09:01:52.885Z"
   },
   {
    "duration": 1,
    "start_time": "2022-09-11T09:01:52.923Z"
   },
   {
    "duration": 22,
    "start_time": "2022-09-11T09:01:52.926Z"
   },
   {
    "duration": 6,
    "start_time": "2022-09-11T09:01:52.949Z"
   },
   {
    "duration": 7,
    "start_time": "2022-09-11T09:01:52.956Z"
   },
   {
    "duration": 5,
    "start_time": "2022-09-11T09:01:52.964Z"
   },
   {
    "duration": 6,
    "start_time": "2022-09-11T09:01:52.970Z"
   },
   {
    "duration": 5,
    "start_time": "2022-09-11T09:01:52.977Z"
   },
   {
    "duration": 8,
    "start_time": "2022-09-11T09:01:52.984Z"
   },
   {
    "duration": 5,
    "start_time": "2022-09-11T09:01:52.993Z"
   },
   {
    "duration": 17,
    "start_time": "2022-09-11T09:01:53.000Z"
   },
   {
    "duration": 17,
    "start_time": "2022-09-11T09:01:53.021Z"
   },
   {
    "duration": 19,
    "start_time": "2022-09-11T09:01:53.039Z"
   },
   {
    "duration": 58,
    "start_time": "2022-09-11T09:01:53.059Z"
   },
   {
    "duration": 0,
    "start_time": "2022-09-11T09:01:53.119Z"
   },
   {
    "duration": 0,
    "start_time": "2022-09-11T09:01:53.120Z"
   },
   {
    "duration": 0,
    "start_time": "2022-09-11T09:01:53.122Z"
   },
   {
    "duration": 0,
    "start_time": "2022-09-11T09:01:53.123Z"
   },
   {
    "duration": 0,
    "start_time": "2022-09-11T09:01:53.125Z"
   },
   {
    "duration": 0,
    "start_time": "2022-09-11T09:01:53.126Z"
   },
   {
    "duration": 0,
    "start_time": "2022-09-11T09:01:53.127Z"
   },
   {
    "duration": 0,
    "start_time": "2022-09-11T09:01:53.129Z"
   },
   {
    "duration": 13,
    "start_time": "2022-09-11T09:21:42.466Z"
   },
   {
    "duration": 13,
    "start_time": "2022-09-11T09:21:46.969Z"
   },
   {
    "duration": 33,
    "start_time": "2022-09-11T09:23:26.505Z"
   },
   {
    "duration": 27,
    "start_time": "2022-09-11T09:23:31.153Z"
   },
   {
    "duration": 30,
    "start_time": "2022-09-11T09:23:36.946Z"
   },
   {
    "duration": 11,
    "start_time": "2022-09-11T09:24:18.822Z"
   },
   {
    "duration": 373,
    "start_time": "2022-09-11T09:25:06.705Z"
   },
   {
    "duration": 169,
    "start_time": "2022-09-11T09:25:07.080Z"
   },
   {
    "duration": 18,
    "start_time": "2022-09-11T09:25:07.251Z"
   },
   {
    "duration": 29,
    "start_time": "2022-09-11T09:25:07.271Z"
   },
   {
    "duration": 2,
    "start_time": "2022-09-11T09:25:07.302Z"
   },
   {
    "duration": 7,
    "start_time": "2022-09-11T09:25:07.305Z"
   },
   {
    "duration": 5,
    "start_time": "2022-09-11T09:25:07.314Z"
   },
   {
    "duration": 27,
    "start_time": "2022-09-11T09:25:07.320Z"
   },
   {
    "duration": 35,
    "start_time": "2022-09-11T09:25:07.349Z"
   },
   {
    "duration": 43,
    "start_time": "2022-09-11T09:25:07.387Z"
   },
   {
    "duration": 24,
    "start_time": "2022-09-11T09:25:07.432Z"
   },
   {
    "duration": 69,
    "start_time": "2022-09-11T09:25:07.457Z"
   },
   {
    "duration": 86,
    "start_time": "2022-09-11T09:25:07.527Z"
   },
   {
    "duration": 64,
    "start_time": "2022-09-11T09:25:07.614Z"
   },
   {
    "duration": 38,
    "start_time": "2022-09-11T09:25:07.679Z"
   },
   {
    "duration": 29,
    "start_time": "2022-09-11T09:25:07.719Z"
   },
   {
    "duration": 40,
    "start_time": "2022-09-11T09:25:07.749Z"
   },
   {
    "duration": 13,
    "start_time": "2022-09-11T09:25:07.791Z"
   },
   {
    "duration": 4,
    "start_time": "2022-09-11T09:25:07.806Z"
   },
   {
    "duration": 5,
    "start_time": "2022-09-11T09:25:07.812Z"
   },
   {
    "duration": 28,
    "start_time": "2022-09-11T09:25:07.819Z"
   },
   {
    "duration": 4,
    "start_time": "2022-09-11T09:25:07.849Z"
   },
   {
    "duration": 5,
    "start_time": "2022-09-11T09:25:07.855Z"
   },
   {
    "duration": 6,
    "start_time": "2022-09-11T09:25:07.862Z"
   },
   {
    "duration": 7,
    "start_time": "2022-09-11T09:25:07.869Z"
   },
   {
    "duration": 4,
    "start_time": "2022-09-11T09:25:07.878Z"
   },
   {
    "duration": 6,
    "start_time": "2022-09-11T09:25:07.883Z"
   },
   {
    "duration": 4,
    "start_time": "2022-09-11T09:25:07.892Z"
   },
   {
    "duration": 5,
    "start_time": "2022-09-11T09:25:07.897Z"
   },
   {
    "duration": 107,
    "start_time": "2022-09-11T09:25:07.904Z"
   },
   {
    "duration": 0,
    "start_time": "2022-09-11T09:25:08.014Z"
   },
   {
    "duration": 0,
    "start_time": "2022-09-11T09:25:08.015Z"
   },
   {
    "duration": 0,
    "start_time": "2022-09-11T09:25:08.017Z"
   },
   {
    "duration": 0,
    "start_time": "2022-09-11T09:25:08.018Z"
   },
   {
    "duration": 0,
    "start_time": "2022-09-11T09:25:08.019Z"
   },
   {
    "duration": 0,
    "start_time": "2022-09-11T09:25:08.021Z"
   },
   {
    "duration": 0,
    "start_time": "2022-09-11T09:25:08.022Z"
   },
   {
    "duration": 0,
    "start_time": "2022-09-11T09:25:08.024Z"
   },
   {
    "duration": 64,
    "start_time": "2022-09-11T09:27:00.221Z"
   },
   {
    "duration": 34,
    "start_time": "2022-09-11T09:27:15.542Z"
   },
   {
    "duration": 12,
    "start_time": "2022-09-11T09:27:37.885Z"
   },
   {
    "duration": 10,
    "start_time": "2022-09-11T09:42:22.866Z"
   },
   {
    "duration": 6,
    "start_time": "2022-09-11T09:43:57.729Z"
   },
   {
    "duration": 388,
    "start_time": "2022-09-11T09:44:12.309Z"
   },
   {
    "duration": 164,
    "start_time": "2022-09-11T09:44:12.699Z"
   },
   {
    "duration": 18,
    "start_time": "2022-09-11T09:44:12.868Z"
   },
   {
    "duration": 31,
    "start_time": "2022-09-11T09:44:12.888Z"
   },
   {
    "duration": 2,
    "start_time": "2022-09-11T09:44:12.920Z"
   },
   {
    "duration": 26,
    "start_time": "2022-09-11T09:44:12.923Z"
   },
   {
    "duration": 10,
    "start_time": "2022-09-11T09:44:12.950Z"
   },
   {
    "duration": 6,
    "start_time": "2022-09-11T09:44:12.961Z"
   },
   {
    "duration": 28,
    "start_time": "2022-09-11T09:44:12.970Z"
   },
   {
    "duration": 19,
    "start_time": "2022-09-11T09:44:12.999Z"
   },
   {
    "duration": 42,
    "start_time": "2022-09-11T09:44:13.020Z"
   },
   {
    "duration": 62,
    "start_time": "2022-09-11T09:44:13.064Z"
   },
   {
    "duration": 89,
    "start_time": "2022-09-11T09:44:13.128Z"
   },
   {
    "duration": 67,
    "start_time": "2022-09-11T09:44:13.219Z"
   },
   {
    "duration": 38,
    "start_time": "2022-09-11T09:44:13.288Z"
   },
   {
    "duration": 24,
    "start_time": "2022-09-11T09:44:13.328Z"
   },
   {
    "duration": 56,
    "start_time": "2022-09-11T09:44:13.354Z"
   },
   {
    "duration": 11,
    "start_time": "2022-09-11T09:44:13.412Z"
   },
   {
    "duration": 41,
    "start_time": "2022-09-11T09:44:13.424Z"
   },
   {
    "duration": 17,
    "start_time": "2022-09-11T09:44:13.466Z"
   },
   {
    "duration": 64,
    "start_time": "2022-09-11T09:44:13.484Z"
   },
   {
    "duration": 30,
    "start_time": "2022-09-11T09:44:13.550Z"
   },
   {
    "duration": 48,
    "start_time": "2022-09-11T09:44:13.581Z"
   },
   {
    "duration": 39,
    "start_time": "2022-09-11T09:44:13.630Z"
   },
   {
    "duration": 27,
    "start_time": "2022-09-11T09:44:13.670Z"
   },
   {
    "duration": 19,
    "start_time": "2022-09-11T09:44:13.699Z"
   },
   {
    "duration": 77,
    "start_time": "2022-09-11T09:44:13.721Z"
   },
   {
    "duration": 0,
    "start_time": "2022-09-11T09:44:13.799Z"
   },
   {
    "duration": 0,
    "start_time": "2022-09-11T09:44:13.800Z"
   },
   {
    "duration": 0,
    "start_time": "2022-09-11T09:44:13.801Z"
   },
   {
    "duration": 1,
    "start_time": "2022-09-11T09:44:13.802Z"
   },
   {
    "duration": 0,
    "start_time": "2022-09-11T09:44:13.803Z"
   },
   {
    "duration": 0,
    "start_time": "2022-09-11T09:44:13.804Z"
   },
   {
    "duration": 0,
    "start_time": "2022-09-11T09:44:13.806Z"
   },
   {
    "duration": 0,
    "start_time": "2022-09-11T09:44:13.807Z"
   },
   {
    "duration": 0,
    "start_time": "2022-09-11T09:44:13.808Z"
   },
   {
    "duration": 0,
    "start_time": "2022-09-11T09:44:13.809Z"
   },
   {
    "duration": 0,
    "start_time": "2022-09-11T09:44:13.810Z"
   },
   {
    "duration": 8,
    "start_time": "2022-09-11T09:45:24.375Z"
   },
   {
    "duration": 9,
    "start_time": "2022-09-11T09:45:47.122Z"
   },
   {
    "duration": 8,
    "start_time": "2022-09-11T09:46:02.149Z"
   },
   {
    "duration": 385,
    "start_time": "2022-09-11T09:46:31.071Z"
   },
   {
    "duration": 163,
    "start_time": "2022-09-11T09:46:31.458Z"
   },
   {
    "duration": 17,
    "start_time": "2022-09-11T09:46:31.622Z"
   },
   {
    "duration": 50,
    "start_time": "2022-09-11T09:46:31.640Z"
   },
   {
    "duration": 10,
    "start_time": "2022-09-11T09:46:31.692Z"
   },
   {
    "duration": 14,
    "start_time": "2022-09-11T09:46:31.703Z"
   },
   {
    "duration": 10,
    "start_time": "2022-09-11T09:46:31.719Z"
   },
   {
    "duration": 47,
    "start_time": "2022-09-11T09:46:31.731Z"
   },
   {
    "duration": 32,
    "start_time": "2022-09-11T09:46:31.780Z"
   },
   {
    "duration": 25,
    "start_time": "2022-09-11T09:46:31.814Z"
   },
   {
    "duration": 38,
    "start_time": "2022-09-11T09:46:31.841Z"
   },
   {
    "duration": 68,
    "start_time": "2022-09-11T09:46:31.880Z"
   },
   {
    "duration": 69,
    "start_time": "2022-09-11T09:46:31.949Z"
   },
   {
    "duration": 68,
    "start_time": "2022-09-11T09:46:32.020Z"
   },
   {
    "duration": 38,
    "start_time": "2022-09-11T09:46:32.090Z"
   },
   {
    "duration": 20,
    "start_time": "2022-09-11T09:46:32.130Z"
   },
   {
    "duration": 38,
    "start_time": "2022-09-11T09:46:32.151Z"
   },
   {
    "duration": 11,
    "start_time": "2022-09-11T09:46:32.191Z"
   },
   {
    "duration": 12,
    "start_time": "2022-09-11T09:46:32.203Z"
   },
   {
    "duration": 4,
    "start_time": "2022-09-11T09:46:32.216Z"
   },
   {
    "duration": 16,
    "start_time": "2022-09-11T09:46:32.248Z"
   },
   {
    "duration": 14,
    "start_time": "2022-09-11T09:46:32.266Z"
   },
   {
    "duration": 23,
    "start_time": "2022-09-11T09:46:32.281Z"
   },
   {
    "duration": 15,
    "start_time": "2022-09-11T09:46:32.306Z"
   },
   {
    "duration": 29,
    "start_time": "2022-09-11T09:46:32.323Z"
   },
   {
    "duration": 14,
    "start_time": "2022-09-11T09:46:32.353Z"
   },
   {
    "duration": 13,
    "start_time": "2022-09-11T09:46:32.369Z"
   },
   {
    "duration": 5,
    "start_time": "2022-09-11T09:46:32.383Z"
   },
   {
    "duration": 8,
    "start_time": "2022-09-11T09:46:32.389Z"
   },
   {
    "duration": 48,
    "start_time": "2022-09-11T09:46:32.398Z"
   },
   {
    "duration": 0,
    "start_time": "2022-09-11T09:46:32.447Z"
   },
   {
    "duration": 0,
    "start_time": "2022-09-11T09:46:32.449Z"
   },
   {
    "duration": 0,
    "start_time": "2022-09-11T09:46:32.450Z"
   },
   {
    "duration": 0,
    "start_time": "2022-09-11T09:46:32.451Z"
   },
   {
    "duration": 0,
    "start_time": "2022-09-11T09:46:32.453Z"
   },
   {
    "duration": 0,
    "start_time": "2022-09-11T09:46:32.454Z"
   },
   {
    "duration": 0,
    "start_time": "2022-09-11T09:46:32.456Z"
   },
   {
    "duration": 0,
    "start_time": "2022-09-11T09:46:32.457Z"
   },
   {
    "duration": 11,
    "start_time": "2022-09-11T09:48:58.151Z"
   },
   {
    "duration": 10,
    "start_time": "2022-09-11T09:48:59.798Z"
   },
   {
    "duration": 418,
    "start_time": "2022-09-11T09:49:28.527Z"
   },
   {
    "duration": 167,
    "start_time": "2022-09-11T09:49:28.947Z"
   },
   {
    "duration": 16,
    "start_time": "2022-09-11T09:49:29.116Z"
   },
   {
    "duration": 29,
    "start_time": "2022-09-11T09:49:29.134Z"
   },
   {
    "duration": 3,
    "start_time": "2022-09-11T09:49:29.164Z"
   },
   {
    "duration": 6,
    "start_time": "2022-09-11T09:49:29.168Z"
   },
   {
    "duration": 5,
    "start_time": "2022-09-11T09:49:29.175Z"
   },
   {
    "duration": 7,
    "start_time": "2022-09-11T09:49:29.181Z"
   },
   {
    "duration": 27,
    "start_time": "2022-09-11T09:49:29.189Z"
   },
   {
    "duration": 41,
    "start_time": "2022-09-11T09:49:29.218Z"
   },
   {
    "duration": 22,
    "start_time": "2022-09-11T09:49:29.261Z"
   },
   {
    "duration": 80,
    "start_time": "2022-09-11T09:49:29.285Z"
   },
   {
    "duration": 82,
    "start_time": "2022-09-11T09:49:29.367Z"
   },
   {
    "duration": 56,
    "start_time": "2022-09-11T09:49:29.450Z"
   },
   {
    "duration": 56,
    "start_time": "2022-09-11T09:49:29.507Z"
   },
   {
    "duration": 10,
    "start_time": "2022-09-11T09:49:29.565Z"
   },
   {
    "duration": 38,
    "start_time": "2022-09-11T09:49:29.576Z"
   },
   {
    "duration": 11,
    "start_time": "2022-09-11T09:49:29.615Z"
   },
   {
    "duration": 11,
    "start_time": "2022-09-11T09:49:29.646Z"
   },
   {
    "duration": 3,
    "start_time": "2022-09-11T09:49:29.659Z"
   },
   {
    "duration": 22,
    "start_time": "2022-09-11T09:49:29.663Z"
   },
   {
    "duration": 14,
    "start_time": "2022-09-11T09:49:29.686Z"
   },
   {
    "duration": 15,
    "start_time": "2022-09-11T09:49:29.701Z"
   },
   {
    "duration": 30,
    "start_time": "2022-09-11T09:49:29.717Z"
   },
   {
    "duration": 15,
    "start_time": "2022-09-11T09:49:29.749Z"
   },
   {
    "duration": 12,
    "start_time": "2022-09-11T09:49:29.765Z"
   },
   {
    "duration": 8,
    "start_time": "2022-09-11T09:49:29.779Z"
   },
   {
    "duration": 15,
    "start_time": "2022-09-11T09:49:29.790Z"
   },
   {
    "duration": 11,
    "start_time": "2022-09-11T09:49:29.806Z"
   },
   {
    "duration": 49,
    "start_time": "2022-09-11T09:49:29.819Z"
   },
   {
    "duration": 0,
    "start_time": "2022-09-11T09:49:29.870Z"
   },
   {
    "duration": 0,
    "start_time": "2022-09-11T09:49:29.871Z"
   },
   {
    "duration": 0,
    "start_time": "2022-09-11T09:49:29.873Z"
   },
   {
    "duration": 0,
    "start_time": "2022-09-11T09:49:29.874Z"
   },
   {
    "duration": 0,
    "start_time": "2022-09-11T09:49:29.876Z"
   },
   {
    "duration": 0,
    "start_time": "2022-09-11T09:49:29.878Z"
   },
   {
    "duration": 0,
    "start_time": "2022-09-11T09:49:29.879Z"
   },
   {
    "duration": 0,
    "start_time": "2022-09-11T09:49:29.880Z"
   },
   {
    "duration": 4,
    "start_time": "2022-09-11T09:53:49.155Z"
   },
   {
    "duration": 77,
    "start_time": "2022-09-11T09:59:53.865Z"
   },
   {
    "duration": 422,
    "start_time": "2022-09-11T10:00:35.372Z"
   },
   {
    "duration": 164,
    "start_time": "2022-09-11T10:00:35.795Z"
   },
   {
    "duration": 16,
    "start_time": "2022-09-11T10:00:35.961Z"
   },
   {
    "duration": 28,
    "start_time": "2022-09-11T10:00:35.979Z"
   },
   {
    "duration": 5,
    "start_time": "2022-09-11T10:00:36.009Z"
   },
   {
    "duration": 22,
    "start_time": "2022-09-11T10:00:36.016Z"
   },
   {
    "duration": 17,
    "start_time": "2022-09-11T10:00:36.040Z"
   },
   {
    "duration": 7,
    "start_time": "2022-09-11T10:00:36.058Z"
   },
   {
    "duration": 29,
    "start_time": "2022-09-11T10:00:36.067Z"
   },
   {
    "duration": 22,
    "start_time": "2022-09-11T10:00:36.099Z"
   },
   {
    "duration": 29,
    "start_time": "2022-09-11T10:00:36.122Z"
   },
   {
    "duration": 95,
    "start_time": "2022-09-11T10:00:36.152Z"
   },
   {
    "duration": 102,
    "start_time": "2022-09-11T10:00:36.250Z"
   },
   {
    "duration": 78,
    "start_time": "2022-09-11T10:00:36.355Z"
   },
   {
    "duration": 38,
    "start_time": "2022-09-11T10:00:36.447Z"
   },
   {
    "duration": 10,
    "start_time": "2022-09-11T10:00:36.487Z"
   },
   {
    "duration": 58,
    "start_time": "2022-09-11T10:00:36.499Z"
   },
   {
    "duration": 12,
    "start_time": "2022-09-11T10:00:36.558Z"
   },
   {
    "duration": 12,
    "start_time": "2022-09-11T10:00:36.571Z"
   },
   {
    "duration": 4,
    "start_time": "2022-09-11T10:00:36.584Z"
   },
   {
    "duration": 23,
    "start_time": "2022-09-11T10:00:36.589Z"
   },
   {
    "duration": 39,
    "start_time": "2022-09-11T10:00:36.614Z"
   },
   {
    "duration": 18,
    "start_time": "2022-09-11T10:00:36.655Z"
   },
   {
    "duration": 14,
    "start_time": "2022-09-11T10:00:36.675Z"
   },
   {
    "duration": 32,
    "start_time": "2022-09-11T10:00:36.691Z"
   },
   {
    "duration": 36,
    "start_time": "2022-09-11T10:00:36.725Z"
   },
   {
    "duration": 12,
    "start_time": "2022-09-11T10:00:36.763Z"
   },
   {
    "duration": 13,
    "start_time": "2022-09-11T10:00:36.778Z"
   },
   {
    "duration": 10,
    "start_time": "2022-09-11T10:00:36.793Z"
   },
   {
    "duration": 9,
    "start_time": "2022-09-11T10:00:36.805Z"
   },
   {
    "duration": 32,
    "start_time": "2022-09-11T10:00:36.815Z"
   },
   {
    "duration": 10,
    "start_time": "2022-09-11T10:00:36.848Z"
   },
   {
    "duration": 16,
    "start_time": "2022-09-11T10:00:36.859Z"
   },
   {
    "duration": 10,
    "start_time": "2022-09-11T10:00:36.877Z"
   },
   {
    "duration": 3,
    "start_time": "2022-09-11T10:00:36.889Z"
   },
   {
    "duration": 7,
    "start_time": "2022-09-11T10:00:36.893Z"
   },
   {
    "duration": 5,
    "start_time": "2022-09-11T10:00:36.902Z"
   },
   {
    "duration": 6,
    "start_time": "2022-09-11T10:00:36.908Z"
   },
   {
    "duration": 81,
    "start_time": "2022-09-11T10:04:38.191Z"
   },
   {
    "duration": 7,
    "start_time": "2022-09-11T10:04:40.586Z"
   },
   {
    "duration": 8,
    "start_time": "2022-09-11T10:05:17.903Z"
   },
   {
    "duration": 4,
    "start_time": "2022-09-11T10:05:20.015Z"
   },
   {
    "duration": 6,
    "start_time": "2022-09-11T10:06:57.781Z"
   },
   {
    "duration": 368,
    "start_time": "2022-09-11T10:07:05.606Z"
   },
   {
    "duration": 177,
    "start_time": "2022-09-11T10:07:05.976Z"
   },
   {
    "duration": 17,
    "start_time": "2022-09-11T10:07:06.154Z"
   },
   {
    "duration": 51,
    "start_time": "2022-09-11T10:07:06.173Z"
   },
   {
    "duration": 3,
    "start_time": "2022-09-11T10:07:06.226Z"
   },
   {
    "duration": 15,
    "start_time": "2022-09-11T10:07:06.246Z"
   },
   {
    "duration": 9,
    "start_time": "2022-09-11T10:07:06.263Z"
   },
   {
    "duration": 15,
    "start_time": "2022-09-11T10:07:06.274Z"
   },
   {
    "duration": 37,
    "start_time": "2022-09-11T10:07:06.291Z"
   },
   {
    "duration": 43,
    "start_time": "2022-09-11T10:07:06.332Z"
   },
   {
    "duration": 33,
    "start_time": "2022-09-11T10:07:06.377Z"
   },
   {
    "duration": 89,
    "start_time": "2022-09-11T10:07:06.412Z"
   },
   {
    "duration": 82,
    "start_time": "2022-09-11T10:07:06.503Z"
   },
   {
    "duration": 70,
    "start_time": "2022-09-11T10:07:06.586Z"
   },
   {
    "duration": 42,
    "start_time": "2022-09-11T10:07:06.658Z"
   },
   {
    "duration": 12,
    "start_time": "2022-09-11T10:07:06.701Z"
   },
   {
    "duration": 60,
    "start_time": "2022-09-11T10:07:06.714Z"
   },
   {
    "duration": 12,
    "start_time": "2022-09-11T10:07:06.776Z"
   },
   {
    "duration": 12,
    "start_time": "2022-09-11T10:07:06.790Z"
   },
   {
    "duration": 4,
    "start_time": "2022-09-11T10:07:06.803Z"
   },
   {
    "duration": 39,
    "start_time": "2022-09-11T10:07:06.810Z"
   },
   {
    "duration": 19,
    "start_time": "2022-09-11T10:07:06.851Z"
   },
   {
    "duration": 16,
    "start_time": "2022-09-11T10:07:06.871Z"
   },
   {
    "duration": 18,
    "start_time": "2022-09-11T10:07:06.888Z"
   },
   {
    "duration": 40,
    "start_time": "2022-09-11T10:07:06.907Z"
   },
   {
    "duration": 16,
    "start_time": "2022-09-11T10:07:06.948Z"
   },
   {
    "duration": 14,
    "start_time": "2022-09-11T10:07:06.966Z"
   },
   {
    "duration": 14,
    "start_time": "2022-09-11T10:07:06.984Z"
   },
   {
    "duration": 10,
    "start_time": "2022-09-11T10:07:07.000Z"
   },
   {
    "duration": 6,
    "start_time": "2022-09-11T10:07:07.012Z"
   },
   {
    "duration": 48,
    "start_time": "2022-09-11T10:07:07.020Z"
   },
   {
    "duration": 12,
    "start_time": "2022-09-11T10:07:07.070Z"
   },
   {
    "duration": 26,
    "start_time": "2022-09-11T10:07:07.084Z"
   },
   {
    "duration": 14,
    "start_time": "2022-09-11T10:07:07.111Z"
   },
   {
    "duration": 26,
    "start_time": "2022-09-11T10:07:07.127Z"
   },
   {
    "duration": 5,
    "start_time": "2022-09-11T10:07:07.155Z"
   },
   {
    "duration": 9,
    "start_time": "2022-09-11T10:07:07.161Z"
   },
   {
    "duration": 6,
    "start_time": "2022-09-11T10:07:07.171Z"
   }
  ],
  "colab": {
   "collapsed_sections": [
    "E0vqbgi9ay0H",
    "VUC88oWjTJw2"
   ],
   "name": "automatization_template_upd4.ipynb",
   "provenance": []
  },
  "kernelspec": {
   "display_name": "Python 3 (ipykernel)",
   "language": "python",
   "name": "python3"
  },
  "language_info": {
   "codemirror_mode": {
    "name": "ipython",
    "version": 3
   },
   "file_extension": ".py",
   "mimetype": "text/x-python",
   "name": "python",
   "nbconvert_exporter": "python",
   "pygments_lexer": "ipython3",
   "version": "3.9.12"
  },
  "toc": {
   "base_numbering": 1,
   "nav_menu": {
    "height": "215px",
    "width": "403px"
   },
   "number_sections": true,
   "sideBar": true,
   "skip_h1_title": true,
   "title_cell": "Table of Contents",
   "title_sidebar": "Contents",
   "toc_cell": false,
   "toc_position": {
    "height": "calc(100% - 180px)",
    "left": "10px",
    "top": "150px",
    "width": "285.825px"
   },
   "toc_section_display": true,
   "toc_window_display": false
  }
 },
 "nbformat": 4,
 "nbformat_minor": 1
}
