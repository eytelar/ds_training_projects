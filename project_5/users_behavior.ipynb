{
 "cells": [
  {
   "cell_type": "markdown",
   "metadata": {},
   "source": [
    "# Рекомендация тарифов"
   ]
  },
  {
   "cell_type": "markdown",
   "metadata": {},
   "source": [
    "В вашем распоряжении данные о поведении клиентов, которые уже перешли на эти тарифы (из проекта курса «Статистический анализ данных»). Нужно построить модель для задачи классификации, которая выберет подходящий тариф. Предобработка данных не понадобится — вы её уже сделали.\n",
    "\n",
    "Постройте модель с максимально большим значением *accuracy*. Чтобы сдать проект успешно, нужно довести долю правильных ответов по крайней мере до 0.75. Проверьте *accuracy* на тестовой выборке самостоятельно."
   ]
  },
  {
   "cell_type": "markdown",
   "metadata": {},
   "source": [
    "# Описание данных"
   ]
  },
  {
   "cell_type": "markdown",
   "metadata": {},
   "source": [
    "<div> Каждый объект в наборе данных — это информация о поведении одного пользователя за месяц. Известно:\n",
    "<br> сalls — количество звонков,\n",
    "<br> minutes — суммарная длительность звонков в минутах,\n",
    "<br> messages — количество sms-сообщений,\n",
    "<br> mb_used — израсходованный интернет-трафик в Мб,\n",
    "<br> is_ultra — каким тарифом пользовался в течение месяца («Ультра» — 1, «Смарт» — 0). </div>"
   ]
  },
  {
   "cell_type": "markdown",
   "metadata": {},
   "source": [
    "# Цель исследования"
   ]
  },
  {
   "cell_type": "markdown",
   "metadata": {},
   "source": [
    "📌 Построить модель с максимально большим значением accuracy (минимум 0.75) для задачи классификации, которая выберет подходящий тариф. "
   ]
  },
  {
   "cell_type": "markdown",
   "metadata": {},
   "source": [
    "## Откройте и изучите файл"
   ]
  },
  {
   "cell_type": "code",
   "execution_count": 1,
   "metadata": {},
   "outputs": [],
   "source": [
    "import pandas as pd\n",
    "\n",
    "from sklearn.model_selection import train_test_split\n",
    "\n",
    "from sklearn.tree import DecisionTreeClassifier\n",
    "from sklearn.ensemble import RandomForestClassifier\n",
    "from sklearn.linear_model import LogisticRegression\n",
    "\n",
    "from sklearn.metrics import accuracy_score\n",
    "from sklearn.model_selection import GridSearchCV"
   ]
  },
  {
   "cell_type": "code",
   "execution_count": 2,
   "metadata": {},
   "outputs": [],
   "source": [
    "df = pd.read_csv('/datasets/users_behavior.csv')"
   ]
  },
  {
   "cell_type": "code",
   "execution_count": 3,
   "metadata": {},
   "outputs": [
    {
     "data": {
      "text/html": [
       "<div>\n",
       "<style scoped>\n",
       "    .dataframe tbody tr th:only-of-type {\n",
       "        vertical-align: middle;\n",
       "    }\n",
       "\n",
       "    .dataframe tbody tr th {\n",
       "        vertical-align: top;\n",
       "    }\n",
       "\n",
       "    .dataframe thead th {\n",
       "        text-align: right;\n",
       "    }\n",
       "</style>\n",
       "<table border=\"1\" class=\"dataframe\">\n",
       "  <thead>\n",
       "    <tr style=\"text-align: right;\">\n",
       "      <th></th>\n",
       "      <th>calls</th>\n",
       "      <th>minutes</th>\n",
       "      <th>messages</th>\n",
       "      <th>mb_used</th>\n",
       "      <th>is_ultra</th>\n",
       "    </tr>\n",
       "  </thead>\n",
       "  <tbody>\n",
       "    <tr>\n",
       "      <th>0</th>\n",
       "      <td>40.0</td>\n",
       "      <td>311.90</td>\n",
       "      <td>83.0</td>\n",
       "      <td>19915.42</td>\n",
       "      <td>0</td>\n",
       "    </tr>\n",
       "    <tr>\n",
       "      <th>1</th>\n",
       "      <td>85.0</td>\n",
       "      <td>516.75</td>\n",
       "      <td>56.0</td>\n",
       "      <td>22696.96</td>\n",
       "      <td>0</td>\n",
       "    </tr>\n",
       "    <tr>\n",
       "      <th>2</th>\n",
       "      <td>77.0</td>\n",
       "      <td>467.66</td>\n",
       "      <td>86.0</td>\n",
       "      <td>21060.45</td>\n",
       "      <td>0</td>\n",
       "    </tr>\n",
       "    <tr>\n",
       "      <th>3</th>\n",
       "      <td>106.0</td>\n",
       "      <td>745.53</td>\n",
       "      <td>81.0</td>\n",
       "      <td>8437.39</td>\n",
       "      <td>1</td>\n",
       "    </tr>\n",
       "    <tr>\n",
       "      <th>4</th>\n",
       "      <td>66.0</td>\n",
       "      <td>418.74</td>\n",
       "      <td>1.0</td>\n",
       "      <td>14502.75</td>\n",
       "      <td>0</td>\n",
       "    </tr>\n",
       "    <tr>\n",
       "      <th>5</th>\n",
       "      <td>58.0</td>\n",
       "      <td>344.56</td>\n",
       "      <td>21.0</td>\n",
       "      <td>15823.37</td>\n",
       "      <td>0</td>\n",
       "    </tr>\n",
       "    <tr>\n",
       "      <th>6</th>\n",
       "      <td>57.0</td>\n",
       "      <td>431.64</td>\n",
       "      <td>20.0</td>\n",
       "      <td>3738.90</td>\n",
       "      <td>1</td>\n",
       "    </tr>\n",
       "    <tr>\n",
       "      <th>7</th>\n",
       "      <td>15.0</td>\n",
       "      <td>132.40</td>\n",
       "      <td>6.0</td>\n",
       "      <td>21911.60</td>\n",
       "      <td>0</td>\n",
       "    </tr>\n",
       "    <tr>\n",
       "      <th>8</th>\n",
       "      <td>7.0</td>\n",
       "      <td>43.39</td>\n",
       "      <td>3.0</td>\n",
       "      <td>2538.67</td>\n",
       "      <td>1</td>\n",
       "    </tr>\n",
       "    <tr>\n",
       "      <th>9</th>\n",
       "      <td>90.0</td>\n",
       "      <td>665.41</td>\n",
       "      <td>38.0</td>\n",
       "      <td>17358.61</td>\n",
       "      <td>0</td>\n",
       "    </tr>\n",
       "  </tbody>\n",
       "</table>\n",
       "</div>"
      ],
      "text/plain": [
       "   calls  minutes  messages   mb_used  is_ultra\n",
       "0   40.0   311.90      83.0  19915.42         0\n",
       "1   85.0   516.75      56.0  22696.96         0\n",
       "2   77.0   467.66      86.0  21060.45         0\n",
       "3  106.0   745.53      81.0   8437.39         1\n",
       "4   66.0   418.74       1.0  14502.75         0\n",
       "5   58.0   344.56      21.0  15823.37         0\n",
       "6   57.0   431.64      20.0   3738.90         1\n",
       "7   15.0   132.40       6.0  21911.60         0\n",
       "8    7.0    43.39       3.0   2538.67         1\n",
       "9   90.0   665.41      38.0  17358.61         0"
      ]
     },
     "metadata": {},
     "output_type": "display_data"
    },
    {
     "name": "stdout",
     "output_type": "stream",
     "text": [
      "<class 'pandas.core.frame.DataFrame'>\n",
      "RangeIndex: 3214 entries, 0 to 3213\n",
      "Data columns (total 5 columns):\n",
      " #   Column    Non-Null Count  Dtype  \n",
      "---  ------    --------------  -----  \n",
      " 0   calls     3214 non-null   float64\n",
      " 1   minutes   3214 non-null   float64\n",
      " 2   messages  3214 non-null   float64\n",
      " 3   mb_used   3214 non-null   float64\n",
      " 4   is_ultra  3214 non-null   int64  \n",
      "dtypes: float64(4), int64(1)\n",
      "memory usage: 125.7 KB\n"
     ]
    },
    {
     "data": {
      "image/png": "[encoded data removed]",
      "text/plain": [
       "<Figure size 720x720 with 6 Axes>"
      ]
     },
     "metadata": {
      "needs_background": "light"
     },
     "output_type": "display_data"
    }
   ],
   "source": [
    "display(df.head(10))\n",
    "df.info()\n",
    "df.hist(bins=50, figsize=(10, 10));"
   ]
  },
  {
   "cell_type": "markdown",
   "metadata": {},
   "source": [
    "### ✅ Вывод:\n",
    "* Датасет содержит 3214 строк и 5 колонок\n",
    "* Целевым признаком будет столбец **is_ultra**\n",
    "* Тариф «Смарт» используется в два раза чаще, чем «Ультра»"
   ]
  },
  {
   "cell_type": "markdown",
   "metadata": {},
   "source": [
    "## Разбейте данные на выборки"
   ]
  },
  {
   "cell_type": "markdown",
   "metadata": {},
   "source": [
    "* Целевой признак является категориальным - тариф либо «Смарт», либо «Ультра», поэтому будем применять способы бинарной классификации: решающее дерево, случайный лес и логистическая регрессия\n",
    "* Разделим датасет в соотношении 3:1:1\n",
    "* Определим признаки и целевой признак для тренировочной и валидационной выборки"
   ]
  },
  {
   "cell_type": "code",
   "execution_count": 4,
   "metadata": {},
   "outputs": [],
   "source": [
    "# разбиваем датасет на тренировочную и отдельную выборку в соотношении 60% / 40% \n",
    "df_train, df_forty_percent = train_test_split(df, test_size=0.4, random_state=12345)\n",
    "\n",
    "# разбиваем получившуюся выше выборку на валидационную и тестовую по 20% на каждую\n",
    "df_valid, df_test = train_test_split(df_forty_percent, test_size=0.5, random_state=12345)"
   ]
  },
  {
   "cell_type": "code",
   "execution_count": 5,
   "metadata": {},
   "outputs": [
    {
     "data": {
      "text/plain": [
       "True"
      ]
     },
     "execution_count": 5,
     "metadata": {},
     "output_type": "execute_result"
    }
   ],
   "source": [
    "# проверим, что ничего не потеряли\n",
    "df.shape[0] == df_train.shape[0] + df_valid.shape[0] + df_test.shape[0]"
   ]
  },
  {
   "cell_type": "code",
   "execution_count": 6,
   "metadata": {},
   "outputs": [],
   "source": [
    "# извлекаем признаки и целевой признак для тренировочной выборки\n",
    "features_train = df_train.drop(['is_ultra'], axis=1)\n",
    "target_train = df_train['is_ultra'] \n",
    "\n",
    "# извлекаем признаки и целевой признак для валидационной выборки\n",
    "features_valid = df_valid.drop(['is_ultra'], axis=1)\n",
    "target_valid = df_valid['is_ultra'] "
   ]
  },
  {
   "cell_type": "markdown",
   "metadata": {},
   "source": [
    "### ✅ Вывод:\n",
    "* Датасет разделен на необходимые выборки"
   ]
  },
  {
   "cell_type": "markdown",
   "metadata": {},
   "source": [
    "## Исследуйте модели"
   ]
  },
  {
   "cell_type": "markdown",
   "metadata": {},
   "source": [
    "### Дерево решений"
   ]
  },
  {
   "cell_type": "code",
   "execution_count": 7,
   "metadata": {
    "scrolled": true
   },
   "outputs": [
    {
     "name": "stdout",
     "output_type": "stream",
     "text": [
      "Accuracy лучшей модели: 0.7853810264385692\n",
      "max_depth лучшей модели: 3\n"
     ]
    }
   ],
   "source": [
    "best_model_tree = None\n",
    "best_result = 0\n",
    "best_depth = 0\n",
    "\n",
    "for depth in range(1, 11):\n",
    "# обучаем модели с глубиной дерева от 1 до 15\n",
    "    model_tree = DecisionTreeClassifier(random_state=12345, max_depth=depth)\n",
    "    model_tree.fit(features_train, target_train)\n",
    "# получаем предсказания каждой модели\n",
    "    predictions = model_tree.predict(features_valid)\n",
    "# считаем долю правильных ответов каждой модели\n",
    "    result = accuracy_score(target_valid, predictions)\n",
    "# если текущая доля правильных ответов больше сохраненной в best_result, то перезаписать переменные\n",
    "# с моделью, долей правильных ответов и глубиной на текущие\n",
    "    if result > best_result:\n",
    "        best_model_tree = model_tree\n",
    "        best_result = result\n",
    "        best_depth = depth\n",
    "        \n",
    "print(\"Accuracy лучшей модели:\", best_result)\n",
    "print(\"max_depth лучшей модели:\", best_depth)"
   ]
  },
  {
   "cell_type": "markdown",
   "metadata": {},
   "source": [
    "В алгоритме решающего дерева получаем максимальную точность 79% при глубине дерева 3"
   ]
  },
  {
   "cell_type": "markdown",
   "metadata": {},
   "source": [
    "### Случайный лес"
   ]
  },
  {
   "cell_type": "code",
   "execution_count": 8,
   "metadata": {},
   "outputs": [
    {
     "name": "stdout",
     "output_type": "stream",
     "text": [
      "Accuracy лучшей модели: 0.807153965785381\n",
      "n_estimators лучшей модели: 13\n",
      "max_depth лучшей модели: 7\n",
      "min_samples_leaf лучшей модели: 9\n",
      "CPU times: user 15.4 s, sys: 125 ms, total: 15.6 s\n",
      "Wall time: 15.6 s\n"
     ]
    }
   ],
   "source": [
    "%%time\n",
    "\n",
    "best_model_forest = None\n",
    "best_result = 0\n",
    "best_est = 0\n",
    "best_depth = 0 \n",
    "best_leaf = 0\n",
    "\n",
    "for est in range(1, 16, 2):\n",
    "    for depth in range(1, 11):\n",
    "            for leaf in range(2, 11):\n",
    "                # обучаем модели с количеством деревьев от 1 до 15\n",
    "                # с глубиной дерева от 2 до 10\n",
    "                # и с минимальным числом объектов в листьях от 2 до 10\n",
    "                model_forest = RandomForestClassifier(random_state=12345,\n",
    "                                                      n_estimators=est,\n",
    "                                                      max_depth=depth,\n",
    "                                                      min_samples_leaf=leaf)\n",
    "                model_forest.fit(features_train, target_train)\n",
    "                # считаем долю правильных ответов каждой модели\n",
    "                result = model_forest.score(features_valid, target_valid)\n",
    "# если текущая доля правильных ответов больше сохраненной в best_result, то перезаписать переменные\n",
    "# с моделью, долей правильных ответов, количеством деревьев, глубиной деревьев и минимальным числом объектов\n",
    "# в листьях на текущие\n",
    "                if result > best_result:\n",
    "                    best_model_forest = model_forest\n",
    "                    best_result = result\n",
    "                    best_est = est\n",
    "                    best_depth = depth\n",
    "                    best_leaf = leaf\n",
    "                    \n",
    "print(\"Accuracy лучшей модели:\", best_result)\n",
    "print(\"n_estimators лучшей модели:\", best_est)\n",
    "print(\"max_depth лучшей модели:\", best_depth)\n",
    "print(\"min_samples_leaf лучшей модели:\", best_leaf)"
   ]
  },
  {
   "cell_type": "markdown",
   "metadata": {},
   "source": [
    "В алгоритме случайного леса получаем максимальную точность 81% при 13 деревьях, с глубиной дерева 7 и минимальным числом объектов в листьях 9"
   ]
  },
  {
   "cell_type": "markdown",
   "metadata": {},
   "source": [
    "### Логистическая регрессия"
   ]
  },
  {
   "cell_type": "code",
   "execution_count": 9,
   "metadata": {},
   "outputs": [
    {
     "name": "stdout",
     "output_type": "stream",
     "text": [
      "Accuracy модели: 0.7107309486780715\n"
     ]
    }
   ],
   "source": [
    "model_logistic_regression = LogisticRegression(random_state=12345)\n",
    "model_logistic_regression.fit(features_train, target_train)\n",
    "result = model_logistic_regression.score(features_valid, target_valid)\n",
    "print(\"Accuracy модели:\", result)"
   ]
  },
  {
   "cell_type": "markdown",
   "metadata": {},
   "source": [
    "В алгоритме логистической регрессии получаем максимальную точность 71%"
   ]
  },
  {
   "cell_type": "markdown",
   "metadata": {},
   "source": [
    "### ✅ Вывод:\n",
    "* Хуже всего показала точность логистическая регрессия. Скорее всего она подходит для более объемных данных\n",
    "* Самым точным алгоритмом для этих данных оказался случайный лес с 81% точностью\n",
    "* Дерево решений с глубиной 3 тоже дает неплохую точность - 79%"
   ]
  },
  {
   "cell_type": "markdown",
   "metadata": {},
   "source": [
    "## Проверьте модель на тестовой выборке"
   ]
  },
  {
   "cell_type": "markdown",
   "metadata": {},
   "source": [
    "Теперь проверим модель на тестовой выборке"
   ]
  },
  {
   "cell_type": "code",
   "execution_count": 10,
   "metadata": {},
   "outputs": [],
   "source": [
    "# извлекаем признаки и целевой признак для тестовой выборки\n",
    "features_test = df_test.drop(['is_ultra'], axis=1)\n",
    "target_test = df_test['is_ultra'] "
   ]
  },
  {
   "cell_type": "code",
   "execution_count": 15,
   "metadata": {},
   "outputs": [
    {
     "data": {
      "text/plain": [
       "0.7978227060653188"
      ]
     },
     "execution_count": 15,
     "metadata": {},
     "output_type": "execute_result"
    }
   ],
   "source": [
    "predictions_test_forest = best_model_forest.predict(features_test)\n",
    "result_test_forest = model_forest.score(features_test, target_test)\n",
    "result_test_forest"
   ]
  },
  {
   "cell_type": "markdown",
   "metadata": {},
   "source": [
    "### ✅ Вывод:\n",
    "* Точность на тестовой выборке у случайного леса, получается 80%"
   ]
  },
  {
   "cell_type": "markdown",
   "metadata": {},
   "source": [
    "## Чек-лист готовности проекта"
   ]
  },
  {
   "cell_type": "markdown",
   "metadata": {},
   "source": [
    "Поставьте 'x' в выполненных пунктах. Далее нажмите Shift+Enter."
   ]
  },
  {
   "cell_type": "markdown",
   "metadata": {},
   "source": [
    "- [x] Jupyter Notebook открыт\n",
    "- [x] Весь код исполняется без ошибок\n",
    "- [x] Ячейки с кодом расположены в порядке исполнения\n",
    "- [x] Выполнено задание 1: данные загружены и изучены\n",
    "- [x] Выполнено задание 2: данные разбиты на три выборки\n",
    "- [x] Выполнено задание 3: проведено исследование моделей\n",
    "    - [x] Рассмотрено больше одной модели\n",
    "    - [x] Рассмотрено хотя бы 3 значения гипепараметров для какой-нибудь модели\n",
    "    - [x] Написаны выводы по результатам исследования\n",
    "- [x] Выполнено задание 3: Проведено тестирование\n",
    "- [x] Удалось достичь accuracy не меньше 0.75\n"
   ]
  },
  {
   "cell_type": "markdown",
   "metadata": {},
   "source": [
    "## Общий вывод"
   ]
  },
  {
   "cell_type": "markdown",
   "metadata": {},
   "source": [
    "<div><br>🔹В ходе исследования мы проделали следующую работу:\n",
    "<br>1. При изучении файла определили, что целевой признак is_ultra является категориальным - тариф либо «Смарт», либо «Ультра», поэтому в проекте применяются способы бинарной классификации: решающее дерево, случайный лес и логистическая регрессия\n",
    "<br>2. Для инициализации моделей и их обучения разбили датасет на три выборки: тренировочную, валидационную и тестовую в пропорциях 3:1:1 - 60% / 20% / 20%\n",
    "<br>3. Для построения модели с максимально большим значением accuracy были использованы следующие алгоритмы: решающее дерево, случайный лес и логистическая регрессия    \n",
    "<br>\n",
    "<br>📌 Оператору мобильной связи «Мегалайн» для рекомендательной системы тарифов стоит выбрать модель случайного леса, которая показала себя лучше остальных в ходе обучения и тестирования</div>"
   ]
  }
 ],
 "metadata": {
  "ExecuteTimeLog": [
   {
    "duration": 442,
    "start_time": "2022-11-19T19:39:22.746Z"
   },
   {
    "duration": 88,
    "start_time": "2022-11-19T19:39:43.100Z"
   },
   {
    "duration": 46,
    "start_time": "2022-11-19T19:42:27.251Z"
   },
   {
    "duration": 380,
    "start_time": "2022-11-19T19:42:37.513Z"
   },
   {
    "duration": 52,
    "start_time": "2022-11-19T19:42:37.895Z"
   },
   {
    "duration": 60,
    "start_time": "2022-11-19T19:42:55.478Z"
   },
   {
    "duration": 31,
    "start_time": "2022-11-19T19:44:36.189Z"
   },
   {
    "duration": 19,
    "start_time": "2022-11-19T19:44:37.762Z"
   },
   {
    "duration": 62,
    "start_time": "2022-11-20T06:31:11.993Z"
   },
   {
    "duration": 3,
    "start_time": "2022-11-20T06:34:29.078Z"
   },
   {
    "duration": 43,
    "start_time": "2022-11-20T06:37:20.433Z"
   },
   {
    "duration": 417,
    "start_time": "2022-11-20T06:37:23.211Z"
   },
   {
    "duration": 119,
    "start_time": "2022-11-20T06:37:23.631Z"
   },
   {
    "duration": 1196,
    "start_time": "2022-11-20T06:37:23.890Z"
   },
   {
    "duration": 711,
    "start_time": "2022-11-20T06:46:47.267Z"
   },
   {
    "duration": 4,
    "start_time": "2022-11-20T06:46:49.945Z"
   },
   {
    "duration": 30,
    "start_time": "2022-11-20T06:46:53.333Z"
   },
   {
    "duration": 780,
    "start_time": "2022-11-20T06:46:53.524Z"
   },
   {
    "duration": 4,
    "start_time": "2022-11-20T06:48:45.177Z"
   },
   {
    "duration": 10,
    "start_time": "2022-11-20T06:52:42.488Z"
   },
   {
    "duration": 9,
    "start_time": "2022-11-20T06:52:59.392Z"
   },
   {
    "duration": 10,
    "start_time": "2022-11-20T06:53:16.430Z"
   },
   {
    "duration": 8,
    "start_time": "2022-11-20T06:53:21.135Z"
   },
   {
    "duration": 9,
    "start_time": "2022-11-20T06:53:26.102Z"
   },
   {
    "duration": 9,
    "start_time": "2022-11-20T06:53:31.987Z"
   },
   {
    "duration": 9,
    "start_time": "2022-11-20T06:53:34.683Z"
   },
   {
    "duration": 9,
    "start_time": "2022-11-20T06:53:38.470Z"
   },
   {
    "duration": 7,
    "start_time": "2022-11-20T07:05:41.627Z"
   },
   {
    "duration": 71,
    "start_time": "2022-11-20T07:08:25.745Z"
   },
   {
    "duration": 4,
    "start_time": "2022-11-20T07:08:34.066Z"
   },
   {
    "duration": 8,
    "start_time": "2022-11-20T07:08:39.255Z"
   },
   {
    "duration": 4,
    "start_time": "2022-11-20T07:08:39.634Z"
   },
   {
    "duration": 8,
    "start_time": "2022-11-20T07:10:50.160Z"
   },
   {
    "duration": 4,
    "start_time": "2022-11-20T07:10:50.529Z"
   },
   {
    "duration": 882,
    "start_time": "2022-11-20T07:12:29.314Z"
   },
   {
    "duration": 7,
    "start_time": "2022-11-20T07:15:52.736Z"
   },
   {
    "duration": 5,
    "start_time": "2022-11-20T07:15:54.080Z"
   },
   {
    "duration": 6,
    "start_time": "2022-11-20T07:22:56.640Z"
   },
   {
    "duration": 4,
    "start_time": "2022-11-20T07:22:57.429Z"
   },
   {
    "duration": 6,
    "start_time": "2022-11-20T07:23:03.704Z"
   },
   {
    "duration": 3,
    "start_time": "2022-11-20T07:23:03.930Z"
   },
   {
    "duration": 8,
    "start_time": "2022-11-20T07:27:12.316Z"
   },
   {
    "duration": 5,
    "start_time": "2022-11-20T07:27:12.593Z"
   },
   {
    "duration": 1073,
    "start_time": "2022-11-20T07:27:20.638Z"
   },
   {
    "duration": 31,
    "start_time": "2022-11-20T07:27:21.713Z"
   },
   {
    "duration": 1181,
    "start_time": "2022-11-20T07:27:21.745Z"
   },
   {
    "duration": 4,
    "start_time": "2022-11-20T07:27:22.934Z"
   },
   {
    "duration": 17,
    "start_time": "2022-11-20T07:27:22.940Z"
   },
   {
    "duration": 13,
    "start_time": "2022-11-20T07:27:22.958Z"
   },
   {
    "duration": 7,
    "start_time": "2022-11-20T07:28:40.086Z"
   },
   {
    "duration": 6,
    "start_time": "2022-11-20T07:28:49.920Z"
   },
   {
    "duration": 107,
    "start_time": "2022-11-20T07:41:58.634Z"
   },
   {
    "duration": 9,
    "start_time": "2022-11-20T07:42:01.439Z"
   },
   {
    "duration": 29,
    "start_time": "2022-11-20T07:42:04.264Z"
   },
   {
    "duration": 837,
    "start_time": "2022-11-20T07:42:04.488Z"
   },
   {
    "duration": 7,
    "start_time": "2022-11-20T07:45:20.461Z"
   },
   {
    "duration": 7,
    "start_time": "2022-11-20T07:45:43.222Z"
   },
   {
    "duration": 4,
    "start_time": "2022-11-20T07:45:43.779Z"
   },
   {
    "duration": 7,
    "start_time": "2022-11-20T07:46:49.798Z"
   },
   {
    "duration": 4,
    "start_time": "2022-11-20T07:46:50.133Z"
   },
   {
    "duration": 1113,
    "start_time": "2022-11-20T07:46:55.018Z"
   },
   {
    "duration": 31,
    "start_time": "2022-11-20T07:46:56.134Z"
   },
   {
    "duration": 1154,
    "start_time": "2022-11-20T07:46:56.167Z"
   },
   {
    "duration": 13,
    "start_time": "2022-11-20T07:46:57.323Z"
   },
   {
    "duration": 114,
    "start_time": "2022-11-20T07:46:57.338Z"
   },
   {
    "duration": 0,
    "start_time": "2022-11-20T07:46:57.454Z"
   },
   {
    "duration": 10,
    "start_time": "2022-11-20T07:47:10.321Z"
   },
   {
    "duration": 4,
    "start_time": "2022-11-20T07:47:13.389Z"
   },
   {
    "duration": 1036,
    "start_time": "2022-11-20T07:47:20.773Z"
   },
   {
    "duration": 30,
    "start_time": "2022-11-20T07:47:21.811Z"
   },
   {
    "duration": 1170,
    "start_time": "2022-11-20T07:47:21.845Z"
   },
   {
    "duration": 6,
    "start_time": "2022-11-20T07:47:23.017Z"
   },
   {
    "duration": 15,
    "start_time": "2022-11-20T07:47:23.025Z"
   },
   {
    "duration": 11,
    "start_time": "2022-11-20T07:47:23.042Z"
   },
   {
    "duration": 4,
    "start_time": "2022-11-20T07:48:00.066Z"
   },
   {
    "duration": 5,
    "start_time": "2022-11-20T07:48:16.627Z"
   },
   {
    "duration": 6,
    "start_time": "2022-11-20T07:55:15.964Z"
   },
   {
    "duration": 7,
    "start_time": "2022-11-20T07:55:32.497Z"
   },
   {
    "duration": 4,
    "start_time": "2022-11-20T07:55:32.827Z"
   },
   {
    "duration": 7,
    "start_time": "2022-11-20T07:56:03.588Z"
   },
   {
    "duration": 4,
    "start_time": "2022-11-20T07:56:03.784Z"
   },
   {
    "duration": 6,
    "start_time": "2022-11-20T07:56:10.470Z"
   },
   {
    "duration": 5,
    "start_time": "2022-11-20T07:56:10.723Z"
   },
   {
    "duration": 3,
    "start_time": "2022-11-20T07:59:03.178Z"
   },
   {
    "duration": 4,
    "start_time": "2022-11-20T07:59:07.940Z"
   },
   {
    "duration": 113,
    "start_time": "2022-11-20T08:03:11.427Z"
   },
   {
    "duration": 4,
    "start_time": "2022-11-20T08:03:15.374Z"
   },
   {
    "duration": 14,
    "start_time": "2022-11-20T08:03:15.877Z"
   },
   {
    "duration": 5,
    "start_time": "2022-11-20T08:03:51.634Z"
   },
   {
    "duration": 12,
    "start_time": "2022-11-20T08:03:52.164Z"
   },
   {
    "duration": 1051,
    "start_time": "2022-11-20T08:04:04.650Z"
   },
   {
    "duration": 30,
    "start_time": "2022-11-20T08:04:05.704Z"
   },
   {
    "duration": 1059,
    "start_time": "2022-11-20T08:04:05.736Z"
   },
   {
    "duration": 7,
    "start_time": "2022-11-20T08:04:06.797Z"
   },
   {
    "duration": 10,
    "start_time": "2022-11-20T08:04:06.806Z"
   },
   {
    "duration": 22,
    "start_time": "2022-11-20T08:04:06.818Z"
   },
   {
    "duration": 128,
    "start_time": "2022-11-20T08:04:06.842Z"
   },
   {
    "duration": 12,
    "start_time": "2022-11-20T08:04:51.856Z"
   },
   {
    "duration": 38,
    "start_time": "2022-11-20T08:05:37.663Z"
   },
   {
    "duration": 16,
    "start_time": "2022-11-20T08:06:01.358Z"
   },
   {
    "duration": 37,
    "start_time": "2022-11-20T08:06:06.468Z"
   },
   {
    "duration": 50,
    "start_time": "2022-11-20T08:06:22.425Z"
   },
   {
    "duration": 6,
    "start_time": "2022-11-20T08:08:57.673Z"
   },
   {
    "duration": 4,
    "start_time": "2022-11-20T08:08:58.062Z"
   },
   {
    "duration": 5,
    "start_time": "2022-11-20T08:08:59.442Z"
   },
   {
    "duration": 43,
    "start_time": "2022-11-20T08:09:00.222Z"
   },
   {
    "duration": 996,
    "start_time": "2022-11-20T08:09:07.793Z"
   },
   {
    "duration": 30,
    "start_time": "2022-11-20T08:09:08.791Z"
   },
   {
    "duration": 1037,
    "start_time": "2022-11-20T08:09:08.822Z"
   },
   {
    "duration": 5,
    "start_time": "2022-11-20T08:09:09.861Z"
   },
   {
    "duration": 11,
    "start_time": "2022-11-20T08:09:09.868Z"
   },
   {
    "duration": 9,
    "start_time": "2022-11-20T08:09:09.881Z"
   },
   {
    "duration": 47,
    "start_time": "2022-11-20T08:09:09.891Z"
   },
   {
    "duration": 6,
    "start_time": "2022-11-20T08:09:17.021Z"
   },
   {
    "duration": 5,
    "start_time": "2022-11-20T08:09:17.315Z"
   },
   {
    "duration": 5,
    "start_time": "2022-11-20T08:09:18.220Z"
   },
   {
    "duration": 39,
    "start_time": "2022-11-20T08:09:18.804Z"
   },
   {
    "duration": 1025,
    "start_time": "2022-11-20T08:09:26.964Z"
   },
   {
    "duration": 41,
    "start_time": "2022-11-20T08:09:27.991Z"
   },
   {
    "duration": 1081,
    "start_time": "2022-11-20T08:09:28.034Z"
   },
   {
    "duration": 6,
    "start_time": "2022-11-20T08:09:29.117Z"
   },
   {
    "duration": 12,
    "start_time": "2022-11-20T08:09:29.125Z"
   },
   {
    "duration": 7,
    "start_time": "2022-11-20T08:09:29.138Z"
   },
   {
    "duration": 41,
    "start_time": "2022-11-20T08:09:29.146Z"
   },
   {
    "duration": 1154,
    "start_time": "2022-11-20T08:09:41.407Z"
   },
   {
    "duration": 33,
    "start_time": "2022-11-20T08:09:42.564Z"
   },
   {
    "duration": 1099,
    "start_time": "2022-11-20T08:09:42.599Z"
   },
   {
    "duration": 6,
    "start_time": "2022-11-20T08:09:43.699Z"
   },
   {
    "duration": 4,
    "start_time": "2022-11-20T08:09:43.707Z"
   },
   {
    "duration": 8,
    "start_time": "2022-11-20T08:09:43.712Z"
   },
   {
    "duration": 48,
    "start_time": "2022-11-20T08:09:43.721Z"
   },
   {
    "duration": 82,
    "start_time": "2022-11-20T08:09:48.208Z"
   },
   {
    "duration": 104,
    "start_time": "2022-11-20T08:09:56.032Z"
   },
   {
    "duration": 151,
    "start_time": "2022-11-20T08:10:07.470Z"
   },
   {
    "duration": 239,
    "start_time": "2022-11-20T08:10:15.360Z"
   },
   {
    "duration": 345,
    "start_time": "2022-11-20T08:10:37.438Z"
   },
   {
    "duration": 425,
    "start_time": "2022-11-20T08:10:40.842Z"
   },
   {
    "duration": 160,
    "start_time": "2022-11-20T08:10:49.383Z"
   },
   {
    "duration": 427,
    "start_time": "2022-11-20T08:13:06.389Z"
   },
   {
    "duration": 310,
    "start_time": "2022-11-20T08:13:11.254Z"
   },
   {
    "duration": 394,
    "start_time": "2022-11-20T08:13:13.632Z"
   },
   {
    "duration": 88,
    "start_time": "2022-11-20T08:13:52.671Z"
   },
   {
    "duration": 94,
    "start_time": "2022-11-20T08:13:59.573Z"
   },
   {
    "duration": 222,
    "start_time": "2022-11-20T08:14:33.557Z"
   },
   {
    "duration": 23,
    "start_time": "2022-11-20T08:24:46.848Z"
   },
   {
    "duration": 695,
    "start_time": "2022-11-20T08:27:18.621Z"
   },
   {
    "duration": 335,
    "start_time": "2022-11-20T08:28:22.910Z"
   },
   {
    "duration": 4,
    "start_time": "2022-11-20T08:29:28.319Z"
   },
   {
    "duration": 1103,
    "start_time": "2022-11-20T08:29:41.120Z"
   },
   {
    "duration": 31,
    "start_time": "2022-11-20T08:29:42.225Z"
   },
   {
    "duration": 1156,
    "start_time": "2022-11-20T08:29:42.257Z"
   },
   {
    "duration": 7,
    "start_time": "2022-11-20T08:29:43.414Z"
   },
   {
    "duration": 14,
    "start_time": "2022-11-20T08:29:43.422Z"
   },
   {
    "duration": 6,
    "start_time": "2022-11-20T08:29:43.437Z"
   },
   {
    "duration": 28,
    "start_time": "2022-11-20T08:29:43.445Z"
   },
   {
    "duration": 565,
    "start_time": "2022-11-20T08:29:43.474Z"
   },
   {
    "duration": 505,
    "start_time": "2022-11-20T08:29:44.041Z"
   },
   {
    "duration": 703,
    "start_time": "2022-11-20T08:29:44.638Z"
   },
   {
    "duration": 92,
    "start_time": "2022-11-20T08:29:45.343Z"
   },
   {
    "duration": 8,
    "start_time": "2022-11-20T08:30:00.760Z"
   },
   {
    "duration": 7,
    "start_time": "2022-11-20T08:30:05.131Z"
   },
   {
    "duration": 6,
    "start_time": "2022-11-20T08:35:34.502Z"
   },
   {
    "duration": 8,
    "start_time": "2022-11-20T08:35:38.711Z"
   },
   {
    "duration": 6,
    "start_time": "2022-11-20T08:35:41.566Z"
   },
   {
    "duration": 106,
    "start_time": "2022-11-20T08:36:14.191Z"
   },
   {
    "duration": 10,
    "start_time": "2022-11-20T08:36:50.342Z"
   },
   {
    "duration": 13,
    "start_time": "2022-11-20T08:37:03.543Z"
   },
   {
    "duration": 13,
    "start_time": "2022-11-20T08:37:50.677Z"
   },
   {
    "duration": 1670,
    "start_time": "2022-11-20T08:38:37.561Z"
   },
   {
    "duration": 3080,
    "start_time": "2022-11-20T08:39:26.288Z"
   },
   {
    "duration": 20556,
    "start_time": "2022-11-20T08:41:18.170Z"
   },
   {
    "duration": 3,
    "start_time": "2022-11-20T08:44:40.130Z"
   },
   {
    "duration": 1068,
    "start_time": "2022-11-20T08:44:46.937Z"
   },
   {
    "duration": 30,
    "start_time": "2022-11-20T08:44:48.007Z"
   },
   {
    "duration": 1070,
    "start_time": "2022-11-20T08:44:48.039Z"
   },
   {
    "duration": 7,
    "start_time": "2022-11-20T08:44:49.111Z"
   },
   {
    "duration": 15,
    "start_time": "2022-11-20T08:44:49.121Z"
   },
   {
    "duration": 12,
    "start_time": "2022-11-20T08:44:49.138Z"
   },
   {
    "duration": 16,
    "start_time": "2022-11-20T08:44:49.152Z"
   },
   {
    "duration": 5,
    "start_time": "2022-11-20T08:50:43.288Z"
   },
   {
    "duration": 1031,
    "start_time": "2022-11-20T08:50:52.589Z"
   },
   {
    "duration": 32,
    "start_time": "2022-11-20T08:50:53.622Z"
   },
   {
    "duration": 1101,
    "start_time": "2022-11-20T08:50:53.655Z"
   },
   {
    "duration": 6,
    "start_time": "2022-11-20T08:50:54.757Z"
   },
   {
    "duration": 55,
    "start_time": "2022-11-20T08:50:54.765Z"
   },
   {
    "duration": 29,
    "start_time": "2022-11-20T08:50:54.822Z"
   },
   {
    "duration": 21,
    "start_time": "2022-11-20T08:50:54.853Z"
   },
   {
    "duration": 4,
    "start_time": "2022-11-20T08:51:02.715Z"
   },
   {
    "duration": 109,
    "start_time": "2022-11-20T08:53:01.271Z"
   },
   {
    "duration": 17,
    "start_time": "2022-11-20T08:53:21.944Z"
   },
   {
    "duration": 15,
    "start_time": "2022-11-20T08:55:40.599Z"
   },
   {
    "duration": 11,
    "start_time": "2022-11-20T08:56:50.595Z"
   },
   {
    "duration": 482,
    "start_time": "2022-11-20T08:57:11.119Z"
   },
   {
    "duration": 141,
    "start_time": "2022-11-20T09:03:42.554Z"
   },
   {
    "duration": 134,
    "start_time": "2022-11-20T09:04:08.653Z"
   },
   {
    "duration": 134,
    "start_time": "2022-11-20T09:13:42.805Z"
   },
   {
    "duration": 134,
    "start_time": "2022-11-20T09:14:48.848Z"
   },
   {
    "duration": 125,
    "start_time": "2022-11-20T09:14:54.210Z"
   },
   {
    "duration": 143,
    "start_time": "2022-11-20T09:16:05.917Z"
   },
   {
    "duration": 134,
    "start_time": "2022-11-20T09:16:36.533Z"
   },
   {
    "duration": 253,
    "start_time": "2022-11-20T09:17:44.170Z"
   },
   {
    "duration": 188,
    "start_time": "2022-11-20T09:17:56.704Z"
   },
   {
    "duration": 57,
    "start_time": "2022-11-20T09:17:59.570Z"
   },
   {
    "duration": 29,
    "start_time": "2022-11-20T09:18:02.618Z"
   },
   {
    "duration": 67,
    "start_time": "2022-11-20T09:18:07.744Z"
   },
   {
    "duration": 1171,
    "start_time": "2022-11-20T09:18:14.831Z"
   },
   {
    "duration": 31,
    "start_time": "2022-11-20T09:18:16.004Z"
   },
   {
    "duration": 1222,
    "start_time": "2022-11-20T09:18:16.040Z"
   },
   {
    "duration": 7,
    "start_time": "2022-11-20T09:18:17.264Z"
   },
   {
    "duration": 17,
    "start_time": "2022-11-20T09:18:17.272Z"
   },
   {
    "duration": 11,
    "start_time": "2022-11-20T09:18:17.291Z"
   },
   {
    "duration": 120,
    "start_time": "2022-11-20T09:18:17.304Z"
   },
   {
    "duration": 0,
    "start_time": "2022-11-20T09:18:17.426Z"
   },
   {
    "duration": 59,
    "start_time": "2022-11-20T09:18:49.310Z"
   },
   {
    "duration": 109,
    "start_time": "2022-11-20T09:18:57.627Z"
   },
   {
    "duration": 25,
    "start_time": "2022-11-20T09:19:00.512Z"
   },
   {
    "duration": 74,
    "start_time": "2022-11-20T09:19:04.919Z"
   },
   {
    "duration": 1098,
    "start_time": "2022-11-20T09:19:12.048Z"
   },
   {
    "duration": 31,
    "start_time": "2022-11-20T09:19:13.148Z"
   },
   {
    "duration": 1179,
    "start_time": "2022-11-20T09:19:13.180Z"
   },
   {
    "duration": 8,
    "start_time": "2022-11-20T09:19:14.361Z"
   },
   {
    "duration": 8,
    "start_time": "2022-11-20T09:19:14.371Z"
   },
   {
    "duration": 19,
    "start_time": "2022-11-20T09:19:14.381Z"
   },
   {
    "duration": 79,
    "start_time": "2022-11-20T09:19:14.402Z"
   },
   {
    "duration": 4,
    "start_time": "2022-11-20T09:19:14.483Z"
   },
   {
    "duration": 198,
    "start_time": "2022-11-20T09:19:17.966Z"
   },
   {
    "duration": 129,
    "start_time": "2022-11-20T09:23:33.438Z"
   },
   {
    "duration": 106,
    "start_time": "2022-11-20T09:24:38.911Z"
   },
   {
    "duration": 105,
    "start_time": "2022-11-20T09:24:43.132Z"
   },
   {
    "duration": 51,
    "start_time": "2022-11-20T09:24:58.430Z"
   },
   {
    "duration": 137,
    "start_time": "2022-11-20T09:24:59.805Z"
   },
   {
    "duration": 102,
    "start_time": "2022-11-20T09:26:48.276Z"
   },
   {
    "duration": 109,
    "start_time": "2022-11-20T09:27:04.379Z"
   },
   {
    "duration": 104,
    "start_time": "2022-11-20T09:27:13.627Z"
   },
   {
    "duration": 108,
    "start_time": "2022-11-20T09:27:49.347Z"
   },
   {
    "duration": 127,
    "start_time": "2022-11-20T09:35:12.367Z"
   },
   {
    "duration": 110,
    "start_time": "2022-11-20T09:39:04.168Z"
   },
   {
    "duration": 1855,
    "start_time": "2022-11-20T09:39:09.200Z"
   },
   {
    "duration": 4,
    "start_time": "2022-11-20T09:39:40.624Z"
   },
   {
    "duration": 15,
    "start_time": "2022-11-20T09:40:09.376Z"
   },
   {
    "duration": 17,
    "start_time": "2022-11-20T09:40:35.433Z"
   },
   {
    "duration": 1263,
    "start_time": "2022-11-20T09:40:41.929Z"
   },
   {
    "duration": 16,
    "start_time": "2022-11-20T09:43:00.300Z"
   },
   {
    "duration": 1211,
    "start_time": "2022-11-20T09:43:06.483Z"
   },
   {
    "duration": 1272,
    "start_time": "2022-11-20T09:43:21.707Z"
   },
   {
    "duration": 2090,
    "start_time": "2022-11-20T09:43:33.583Z"
   },
   {
    "duration": 4230,
    "start_time": "2022-11-20T09:43:38.221Z"
   },
   {
    "duration": 132,
    "start_time": "2022-11-20T09:59:12.590Z"
   },
   {
    "duration": 1109,
    "start_time": "2022-11-20T09:59:21.914Z"
   },
   {
    "duration": 30,
    "start_time": "2022-11-20T09:59:23.025Z"
   },
   {
    "duration": 1130,
    "start_time": "2022-11-20T09:59:23.057Z"
   },
   {
    "duration": 6,
    "start_time": "2022-11-20T09:59:24.189Z"
   },
   {
    "duration": 15,
    "start_time": "2022-11-20T09:59:24.197Z"
   },
   {
    "duration": 21,
    "start_time": "2022-11-20T09:59:24.213Z"
   },
   {
    "duration": 123,
    "start_time": "2022-11-20T09:59:24.236Z"
   },
   {
    "duration": 4,
    "start_time": "2022-11-20T09:59:24.361Z"
   },
   {
    "duration": 2069,
    "start_time": "2022-11-20T10:00:44.785Z"
   },
   {
    "duration": 2054,
    "start_time": "2022-11-20T10:01:23.392Z"
   },
   {
    "duration": 2018,
    "start_time": "2022-11-20T10:01:34.602Z"
   },
   {
    "duration": 2048,
    "start_time": "2022-11-20T10:02:00.478Z"
   },
   {
    "duration": 113,
    "start_time": "2022-11-20T10:02:42.107Z"
   },
   {
    "duration": 122,
    "start_time": "2022-11-20T10:02:49.997Z"
   },
   {
    "duration": 260,
    "start_time": "2022-11-20T10:05:56.968Z"
   },
   {
    "duration": 252,
    "start_time": "2022-11-20T10:06:57.795Z"
   },
   {
    "duration": 267,
    "start_time": "2022-11-20T10:07:25.150Z"
   },
   {
    "duration": 111,
    "start_time": "2022-11-20T10:08:33.347Z"
   },
   {
    "duration": 9677,
    "start_time": "2022-11-20T10:09:29.977Z"
   },
   {
    "duration": 9242,
    "start_time": "2022-11-20T10:10:41.234Z"
   },
   {
    "duration": 60016,
    "start_time": "2022-11-20T10:11:13.688Z"
   },
   {
    "duration": 104561,
    "start_time": "2022-11-20T10:14:02.193Z"
   },
   {
    "duration": 1073,
    "start_time": "2022-11-20T10:31:12.929Z"
   },
   {
    "duration": 30,
    "start_time": "2022-11-20T10:31:14.004Z"
   },
   {
    "duration": 1039,
    "start_time": "2022-11-20T10:31:14.036Z"
   },
   {
    "duration": 6,
    "start_time": "2022-11-20T10:31:15.077Z"
   },
   {
    "duration": 22,
    "start_time": "2022-11-20T10:31:15.084Z"
   },
   {
    "duration": 16,
    "start_time": "2022-11-20T10:31:15.108Z"
   },
   {
    "duration": 122,
    "start_time": "2022-11-20T10:31:15.125Z"
   },
   {
    "duration": 1068,
    "start_time": "2022-11-20T10:32:43.153Z"
   },
   {
    "duration": 31,
    "start_time": "2022-11-20T10:32:44.223Z"
   },
   {
    "duration": 1079,
    "start_time": "2022-11-20T10:32:44.256Z"
   },
   {
    "duration": 7,
    "start_time": "2022-11-20T10:32:45.336Z"
   },
   {
    "duration": 13,
    "start_time": "2022-11-20T10:32:45.345Z"
   },
   {
    "duration": 34,
    "start_time": "2022-11-20T10:32:45.360Z"
   },
   {
    "duration": 124,
    "start_time": "2022-11-20T10:32:45.396Z"
   },
   {
    "duration": 40722,
    "start_time": "2022-11-20T10:32:45.522Z"
   },
   {
    "duration": 3,
    "start_time": "2022-11-20T10:33:26.246Z"
   },
   {
    "duration": 87171,
    "start_time": "2022-11-20T10:33:54.641Z"
   },
   {
    "duration": 62,
    "start_time": "2022-11-20T10:35:25.238Z"
   },
   {
    "duration": 16132,
    "start_time": "2022-11-20T10:36:31.583Z"
   },
   {
    "duration": 71,
    "start_time": "2022-11-20T10:43:48.057Z"
   },
   {
    "duration": 16966,
    "start_time": "2022-11-20T10:43:50.038Z"
   },
   {
    "duration": 25,
    "start_time": "2022-11-20T10:47:06.390Z"
   },
   {
    "duration": 39,
    "start_time": "2022-11-20T10:51:33.897Z"
   },
   {
    "duration": 36,
    "start_time": "2022-11-20T10:51:41.085Z"
   },
   {
    "duration": 64,
    "start_time": "2022-11-20T10:52:44.085Z"
   },
   {
    "duration": 24,
    "start_time": "2022-11-20T10:52:51.283Z"
   },
   {
    "duration": 121,
    "start_time": "2022-11-20T10:53:52.184Z"
   },
   {
    "duration": 11,
    "start_time": "2022-11-20T10:53:59.128Z"
   },
   {
    "duration": 36,
    "start_time": "2022-11-20T10:57:07.428Z"
   },
   {
    "duration": 11,
    "start_time": "2022-11-20T10:57:27.055Z"
   },
   {
    "duration": 70,
    "start_time": "2022-11-20T10:58:20.021Z"
   },
   {
    "duration": 78,
    "start_time": "2022-11-20T10:58:29.074Z"
   },
   {
    "duration": 66,
    "start_time": "2022-11-20T10:58:41.331Z"
   },
   {
    "duration": 16318,
    "start_time": "2022-11-20T10:59:01.521Z"
   },
   {
    "duration": 25,
    "start_time": "2022-11-20T10:59:17.841Z"
   },
   {
    "duration": 5,
    "start_time": "2022-11-20T11:04:04.408Z"
   },
   {
    "duration": 16,
    "start_time": "2022-11-20T11:06:23.826Z"
   },
   {
    "duration": 10,
    "start_time": "2022-11-20T11:06:57.282Z"
   },
   {
    "duration": 9,
    "start_time": "2022-11-20T11:07:05.907Z"
   },
   {
    "duration": 8,
    "start_time": "2022-11-20T11:07:27.309Z"
   },
   {
    "duration": 8,
    "start_time": "2022-11-20T11:13:08.964Z"
   },
   {
    "duration": 4,
    "start_time": "2022-11-20T11:13:47.615Z"
   },
   {
    "duration": 9,
    "start_time": "2022-11-20T11:13:48.013Z"
   },
   {
    "duration": 9,
    "start_time": "2022-11-20T11:14:24.873Z"
   },
   {
    "duration": 8,
    "start_time": "2022-11-20T11:15:20.392Z"
   },
   {
    "duration": 8,
    "start_time": "2022-11-20T11:15:22.128Z"
   },
   {
    "duration": 16,
    "start_time": "2022-11-20T11:15:22.685Z"
   },
   {
    "duration": 8,
    "start_time": "2022-11-20T11:15:23.044Z"
   },
   {
    "duration": 1094,
    "start_time": "2022-11-20T11:19:15.551Z"
   },
   {
    "duration": 33,
    "start_time": "2022-11-20T11:19:16.647Z"
   },
   {
    "duration": 1089,
    "start_time": "2022-11-20T11:19:16.683Z"
   },
   {
    "duration": 6,
    "start_time": "2022-11-20T11:19:17.774Z"
   },
   {
    "duration": 6,
    "start_time": "2022-11-20T11:19:17.782Z"
   },
   {
    "duration": 29,
    "start_time": "2022-11-20T11:19:17.790Z"
   },
   {
    "duration": 89,
    "start_time": "2022-11-20T11:19:17.821Z"
   },
   {
    "duration": 15999,
    "start_time": "2022-11-20T11:19:17.912Z"
   },
   {
    "duration": 31,
    "start_time": "2022-11-20T11:19:33.913Z"
   },
   {
    "duration": 4,
    "start_time": "2022-11-20T11:19:33.945Z"
   },
   {
    "duration": 13,
    "start_time": "2022-11-20T11:19:33.951Z"
   },
   {
    "duration": 15,
    "start_time": "2022-11-20T11:19:33.965Z"
   },
   {
    "duration": 10,
    "start_time": "2022-11-20T11:19:33.981Z"
   },
   {
    "duration": 4,
    "start_time": "2022-11-20T11:23:28.647Z"
   },
   {
    "duration": 1588,
    "start_time": "2022-11-20T11:56:43.664Z"
   },
   {
    "duration": 33,
    "start_time": "2022-11-20T11:56:45.254Z"
   },
   {
    "duration": 1068,
    "start_time": "2022-11-20T11:56:45.288Z"
   },
   {
    "duration": 6,
    "start_time": "2022-11-20T11:56:46.358Z"
   },
   {
    "duration": 5,
    "start_time": "2022-11-20T11:56:46.366Z"
   },
   {
    "duration": 5,
    "start_time": "2022-11-20T11:56:46.372Z"
   },
   {
    "duration": 83,
    "start_time": "2022-11-20T11:56:46.379Z"
   },
   {
    "duration": 1799,
    "start_time": "2022-11-20T11:57:01.379Z"
   },
   {
    "duration": 30,
    "start_time": "2022-11-20T11:57:03.180Z"
   },
   {
    "duration": 1109,
    "start_time": "2022-11-20T11:57:03.212Z"
   },
   {
    "duration": 6,
    "start_time": "2022-11-20T11:57:04.324Z"
   },
   {
    "duration": 6,
    "start_time": "2022-11-20T11:57:04.332Z"
   },
   {
    "duration": 5,
    "start_time": "2022-11-20T11:57:04.353Z"
   },
   {
    "duration": 72,
    "start_time": "2022-11-20T11:57:04.360Z"
   },
   {
    "duration": 15267,
    "start_time": "2022-11-20T11:57:04.434Z"
   },
   {
    "duration": 23,
    "start_time": "2022-11-20T11:57:19.702Z"
   },
   {
    "duration": 3,
    "start_time": "2022-11-20T11:57:19.727Z"
   },
   {
    "duration": 24,
    "start_time": "2022-11-20T11:57:19.732Z"
   },
   {
    "duration": 13,
    "start_time": "2022-11-20T11:57:19.757Z"
   },
   {
    "duration": 8,
    "start_time": "2022-11-20T11:57:19.771Z"
   },
   {
    "duration": 1241,
    "start_time": "2022-11-20T14:48:16.324Z"
   },
   {
    "duration": 1307,
    "start_time": "2022-11-20T14:48:21.742Z"
   },
   {
    "duration": 102,
    "start_time": "2022-11-20T14:48:23.051Z"
   },
   {
    "duration": 1383,
    "start_time": "2022-11-20T14:48:23.154Z"
   },
   {
    "duration": 6,
    "start_time": "2022-11-20T14:48:24.539Z"
   },
   {
    "duration": 4,
    "start_time": "2022-11-20T14:48:24.547Z"
   },
   {
    "duration": 7,
    "start_time": "2022-11-20T14:48:24.553Z"
   },
   {
    "duration": 87,
    "start_time": "2022-11-20T14:48:24.562Z"
   },
   {
    "duration": 16142,
    "start_time": "2022-11-20T14:48:24.651Z"
   },
   {
    "duration": 26,
    "start_time": "2022-11-20T14:48:40.795Z"
   },
   {
    "duration": 3,
    "start_time": "2022-11-20T14:48:40.823Z"
   },
   {
    "duration": 8,
    "start_time": "2022-11-20T14:48:40.828Z"
   },
   {
    "duration": 13,
    "start_time": "2022-11-20T14:48:40.837Z"
   },
   {
    "duration": 6,
    "start_time": "2022-11-20T14:48:40.852Z"
   },
   {
    "duration": 16136,
    "start_time": "2022-11-20T14:50:25.241Z"
   },
   {
    "duration": 111,
    "start_time": "2022-11-20T14:53:50.216Z"
   },
   {
    "duration": 14,
    "start_time": "2022-11-20T14:54:31.600Z"
   },
   {
    "duration": 10,
    "start_time": "2022-11-20T14:55:06.579Z"
   },
   {
    "duration": 1137,
    "start_time": "2022-11-20T14:58:07.776Z"
   },
   {
    "duration": 30,
    "start_time": "2022-11-20T14:58:08.915Z"
   },
   {
    "duration": 1106,
    "start_time": "2022-11-20T14:58:08.946Z"
   },
   {
    "duration": 6,
    "start_time": "2022-11-20T14:58:10.054Z"
   },
   {
    "duration": 10,
    "start_time": "2022-11-20T14:58:10.062Z"
   },
   {
    "duration": 8,
    "start_time": "2022-11-20T14:58:10.073Z"
   },
   {
    "duration": 75,
    "start_time": "2022-11-20T14:58:10.083Z"
   },
   {
    "duration": 176,
    "start_time": "2022-11-20T14:58:10.160Z"
   },
   {
    "duration": 25,
    "start_time": "2022-11-20T14:58:10.337Z"
   },
   {
    "duration": 4,
    "start_time": "2022-11-20T14:58:10.363Z"
   },
   {
    "duration": 13,
    "start_time": "2022-11-20T14:58:10.368Z"
   },
   {
    "duration": 12,
    "start_time": "2022-11-20T14:58:10.382Z"
   },
   {
    "duration": 0,
    "start_time": "2022-11-20T14:58:10.395Z"
   },
   {
    "duration": 3,
    "start_time": "2022-11-20T15:00:39.722Z"
   },
   {
    "duration": 1516,
    "start_time": "2022-11-20T15:02:03.408Z"
   },
   {
    "duration": 30,
    "start_time": "2022-11-20T15:02:04.926Z"
   },
   {
    "duration": 1427,
    "start_time": "2022-11-20T15:02:04.957Z"
   },
   {
    "duration": 6,
    "start_time": "2022-11-20T15:02:06.386Z"
   },
   {
    "duration": 13,
    "start_time": "2022-11-20T15:02:06.393Z"
   },
   {
    "duration": 8,
    "start_time": "2022-11-20T15:02:06.407Z"
   },
   {
    "duration": 69,
    "start_time": "2022-11-20T15:02:06.416Z"
   },
   {
    "duration": 1413,
    "start_time": "2022-11-20T15:03:20.204Z"
   },
   {
    "duration": 31,
    "start_time": "2022-11-20T15:03:21.618Z"
   },
   {
    "duration": 1506,
    "start_time": "2022-11-20T15:03:21.650Z"
   },
   {
    "duration": 6,
    "start_time": "2022-11-20T15:03:23.157Z"
   },
   {
    "duration": 19,
    "start_time": "2022-11-20T15:03:23.164Z"
   },
   {
    "duration": 12,
    "start_time": "2022-11-20T15:03:23.185Z"
   },
   {
    "duration": 92,
    "start_time": "2022-11-20T15:03:23.199Z"
   },
   {
    "duration": 270,
    "start_time": "2022-11-20T15:03:23.293Z"
   },
   {
    "duration": 24,
    "start_time": "2022-11-20T15:03:23.564Z"
   },
   {
    "duration": 4,
    "start_time": "2022-11-20T15:03:23.589Z"
   },
   {
    "duration": 13,
    "start_time": "2022-11-20T15:03:23.594Z"
   },
   {
    "duration": 10,
    "start_time": "2022-11-20T15:03:23.609Z"
   },
   {
    "duration": 0,
    "start_time": "2022-11-20T15:03:23.621Z"
   },
   {
    "duration": 1045,
    "start_time": "2022-11-20T15:05:28.860Z"
   },
   {
    "duration": 30,
    "start_time": "2022-11-20T15:05:29.907Z"
   },
   {
    "duration": 2069,
    "start_time": "2022-11-20T15:05:29.939Z"
   },
   {
    "duration": 6,
    "start_time": "2022-11-20T15:05:32.010Z"
   },
   {
    "duration": 8,
    "start_time": "2022-11-20T15:05:32.018Z"
   },
   {
    "duration": 8,
    "start_time": "2022-11-20T15:05:32.027Z"
   },
   {
    "duration": 73,
    "start_time": "2022-11-20T15:05:32.037Z"
   },
   {
    "duration": 278,
    "start_time": "2022-11-20T15:05:32.111Z"
   },
   {
    "duration": 25,
    "start_time": "2022-11-20T15:05:32.390Z"
   },
   {
    "duration": 4,
    "start_time": "2022-11-20T15:05:32.417Z"
   },
   {
    "duration": 14,
    "start_time": "2022-11-20T15:05:32.422Z"
   },
   {
    "duration": 13,
    "start_time": "2022-11-20T15:05:32.438Z"
   },
   {
    "duration": 0,
    "start_time": "2022-11-20T15:05:32.453Z"
   },
   {
    "duration": 1859,
    "start_time": "2022-11-20T15:07:22.491Z"
   },
   {
    "duration": 70,
    "start_time": "2022-11-20T15:07:24.352Z"
   },
   {
    "duration": 1262,
    "start_time": "2022-11-20T15:07:24.424Z"
   },
   {
    "duration": 6,
    "start_time": "2022-11-20T15:07:25.688Z"
   },
   {
    "duration": 4,
    "start_time": "2022-11-20T15:07:25.704Z"
   },
   {
    "duration": 6,
    "start_time": "2022-11-20T15:07:25.709Z"
   },
   {
    "duration": 68,
    "start_time": "2022-11-20T15:07:25.716Z"
   },
   {
    "duration": 15584,
    "start_time": "2022-11-20T15:07:25.786Z"
   },
   {
    "duration": 33,
    "start_time": "2022-11-20T15:07:41.372Z"
   },
   {
    "duration": 4,
    "start_time": "2022-11-20T15:07:41.408Z"
   },
   {
    "duration": 8,
    "start_time": "2022-11-20T15:07:41.414Z"
   },
   {
    "duration": 14,
    "start_time": "2022-11-20T15:07:41.424Z"
   },
   {
    "duration": 8,
    "start_time": "2022-11-20T15:07:41.439Z"
   },
   {
    "duration": 36,
    "start_time": "2022-11-20T15:15:07.878Z"
   },
   {
    "duration": 16,
    "start_time": "2022-11-20T15:17:16.152Z"
   }
  ],
  "kernelspec": {
   "display_name": "Python 3 (ipykernel)",
   "language": "python",
   "name": "python3"
  },
  "language_info": {
   "codemirror_mode": {
    "name": "ipython",
    "version": 3
   },
   "file_extension": ".py",
   "mimetype": "text/x-python",
   "name": "python",
   "nbconvert_exporter": "python",
   "pygments_lexer": "ipython3",
   "version": "3.9.12"
  },
  "toc": {
   "base_numbering": 1,
   "nav_menu": {},
   "number_sections": true,
   "sideBar": true,
   "skip_h1_title": true,
   "title_cell": "Table of Contents",
   "title_sidebar": "Contents",
   "toc_cell": false,
   "toc_position": {},
   "toc_section_display": true,
   "toc_window_display": true
  }
 },
 "nbformat": 4,
 "nbformat_minor": 2
}
