{
 "cells": [
  {
   "cell_type": "markdown",
   "metadata": {
    "toc": true
   },
   "source": [
    "<h1>Содержание<span class=\"tocSkip\"></span></h1>\n",
    "<div class=\"toc\"><ul class=\"toc-item\"><li><span><a href=\"#Подготовка\" data-toc-modified-id=\"Подготовка-1\"><span class=\"toc-item-num\">1&nbsp;&nbsp;</span>Подготовка</a></span></li><li><span><a href=\"#Анализ\" data-toc-modified-id=\"Анализ-2\"><span class=\"toc-item-num\">2&nbsp;&nbsp;</span>Анализ</a></span></li><li><span><a href=\"#Обучение\" data-toc-modified-id=\"Обучение-3\"><span class=\"toc-item-num\">3&nbsp;&nbsp;</span>Обучение</a></span><ul class=\"toc-item\"><li><span><a href=\"#Подготовка-и-разделение-данных\" data-toc-modified-id=\"Подготовка-и-разделение-данных-3.1\"><span class=\"toc-item-num\">3.1&nbsp;&nbsp;</span>Подготовка и разделение данных</a></span></li><li><span><a href=\"#Линейная-регрессия\" data-toc-modified-id=\"Линейная-регрессия-3.2\"><span class=\"toc-item-num\">3.2&nbsp;&nbsp;</span>Линейная регрессия</a></span></li><li><span><a href=\"#Случайный-лес\" data-toc-modified-id=\"Случайный-лес-3.3\"><span class=\"toc-item-num\">3.3&nbsp;&nbsp;</span>Случайный лес</a></span></li><li><span><a href=\"#LightGBM\" data-toc-modified-id=\"LightGBM-3.4\"><span class=\"toc-item-num\">3.4&nbsp;&nbsp;</span>LightGBM</a></span></li></ul></li><li><span><a href=\"#Тестирование\" data-toc-modified-id=\"Тестирование-4\"><span class=\"toc-item-num\">4&nbsp;&nbsp;</span>Тестирование</a></span><ul class=\"toc-item\"><li><span><a href=\"#Линейная-регрессия\" data-toc-modified-id=\"Линейная-регрессия-4.1\"><span class=\"toc-item-num\">4.1&nbsp;&nbsp;</span>Линейная регрессия</a></span></li><li><span><a href=\"#LightGBM\" data-toc-modified-id=\"LightGBM-4.2\"><span class=\"toc-item-num\">4.2&nbsp;&nbsp;</span>LightGBM</a></span></li><li><span><a href=\"#Константная-модель\" data-toc-modified-id=\"Константная-модель-4.3\"><span class=\"toc-item-num\">4.3&nbsp;&nbsp;</span>Константная модель</a></span></li></ul></li><li><span><a href=\"#Общий-вывод\" data-toc-modified-id=\"Общий-вывод-5\"><span class=\"toc-item-num\">5&nbsp;&nbsp;</span>Общий вывод</a></span></li><li><span><a href=\"#Чек-лист-проверки\" data-toc-modified-id=\"Чек-лист-проверки-6\"><span class=\"toc-item-num\">6&nbsp;&nbsp;</span>Чек-лист проверки</a></span></li></ul></div>"
   ]
  },
  {
   "cell_type": "markdown",
   "metadata": {},
   "source": [
    "#  Прогнозирование заказов такси"
   ]
  },
  {
   "cell_type": "markdown",
   "metadata": {},
   "source": [
    "Компания «Чётенькое такси» собрала исторические данные о заказах такси в аэропортах. Чтобы привлекать больше водителей в период пиковой нагрузки, нужно спрогнозировать количество заказов такси на следующий час. Постройте модель для такого предсказания.\n",
    "\n",
    "Значение метрики *RMSE* на тестовой выборке должно быть не больше 48.\n",
    "\n",
    "Вам нужно:\n",
    "\n",
    "1. Загрузить данные и выполнить их ресемплирование по одному часу.\n",
    "2. Проанализировать данные.\n",
    "3. Обучить разные модели с различными гиперпараметрами. Сделать тестовую выборку размером 10% от исходных данных.\n",
    "4. Проверить данные на тестовой выборке и сделать выводы.\n",
    "\n",
    "\n",
    "Данные лежат в файле `taxi.csv`. Количество заказов находится в столбце `num_orders` (от англ. *number of orders*, «число заказов»)."
   ]
  },
  {
   "cell_type": "markdown",
   "metadata": {},
   "source": [
    "## Подготовка"
   ]
  },
  {
   "cell_type": "code",
   "execution_count": 1,
   "metadata": {},
   "outputs": [],
   "source": [
    "import pandas as pd\n",
    "import matplotlib.pyplot as plt\n",
    "import lightgbm as lgb\n",
    "\n",
    "\n",
    "from statsmodels.tsa.seasonal import seasonal_decompose\n",
    "\n",
    "from sklearn.model_selection import train_test_split\n",
    "\n",
    "# метрики\n",
    "from sklearn.metrics import mean_squared_error\n",
    "\n",
    "# кросс-валидация\n",
    "from sklearn.model_selection import TimeSeriesSplit\n",
    "from sklearn.model_selection import RandomizedSearchCV\n",
    "\n",
    "# модели\n",
    "from sklearn.linear_model import LinearRegression\n",
    "from sklearn.ensemble import RandomForestRegressor\n",
    "from lightgbm import LGBMRegressor\n",
    "from sklearn.dummy import DummyRegressor\n",
    "\n",
    "# отключение предупреждений\n",
    "import warnings\n",
    "warnings.filterwarnings(action='ignore')"
   ]
  },
  {
   "cell_type": "code",
   "execution_count": 2,
   "metadata": {},
   "outputs": [],
   "source": [
    "# сделаем столбец 'datetime' индексом и переведем его в формат даты\n",
    "data = pd.read_csv('/datasets/taxi.csv', index_col=[0], parse_dates=[0])"
   ]
  },
  {
   "cell_type": "code",
   "execution_count": 3,
   "metadata": {},
   "outputs": [
    {
     "data": {
      "text/plain": [
       "True"
      ]
     },
     "metadata": {},
     "output_type": "display_data"
    },
    {
     "data": {
      "text/plain": [
       "True"
      ]
     },
     "metadata": {},
     "output_type": "display_data"
    }
   ],
   "source": [
    "# проверим временную последовательность на монотонность \n",
    "display(data.index.is_monotonic)\n",
    "\n",
    "# проверим временную последовательность на повторы\n",
    "display(data.index.is_unique)"
   ]
  },
  {
   "cell_type": "code",
   "execution_count": 4,
   "metadata": {
    "scrolled": false
   },
   "outputs": [
    {
     "data": {
      "text/html": [
       "<div>\n",
       "<style scoped>\n",
       "    .dataframe tbody tr th:only-of-type {\n",
       "        vertical-align: middle;\n",
       "    }\n",
       "\n",
       "    .dataframe tbody tr th {\n",
       "        vertical-align: top;\n",
       "    }\n",
       "\n",
       "    .dataframe thead th {\n",
       "        text-align: right;\n",
       "    }\n",
       "</style>\n",
       "<table border=\"1\" class=\"dataframe\">\n",
       "  <thead>\n",
       "    <tr style=\"text-align: right;\">\n",
       "      <th></th>\n",
       "      <th>num_orders</th>\n",
       "    </tr>\n",
       "    <tr>\n",
       "      <th>datetime</th>\n",
       "      <th></th>\n",
       "    </tr>\n",
       "  </thead>\n",
       "  <tbody>\n",
       "    <tr>\n",
       "      <th>2018-03-01 00:00:00</th>\n",
       "      <td>9</td>\n",
       "    </tr>\n",
       "    <tr>\n",
       "      <th>2018-03-01 00:10:00</th>\n",
       "      <td>14</td>\n",
       "    </tr>\n",
       "    <tr>\n",
       "      <th>2018-03-01 00:20:00</th>\n",
       "      <td>28</td>\n",
       "    </tr>\n",
       "    <tr>\n",
       "      <th>2018-03-01 00:30:00</th>\n",
       "      <td>20</td>\n",
       "    </tr>\n",
       "    <tr>\n",
       "      <th>2018-03-01 00:40:00</th>\n",
       "      <td>32</td>\n",
       "    </tr>\n",
       "  </tbody>\n",
       "</table>\n",
       "</div>"
      ],
      "text/plain": [
       "                     num_orders\n",
       "datetime                       \n",
       "2018-03-01 00:00:00           9\n",
       "2018-03-01 00:10:00          14\n",
       "2018-03-01 00:20:00          28\n",
       "2018-03-01 00:30:00          20\n",
       "2018-03-01 00:40:00          32"
      ]
     },
     "metadata": {},
     "output_type": "display_data"
    },
    {
     "data": {
      "text/html": [
       "<div>\n",
       "<style scoped>\n",
       "    .dataframe tbody tr th:only-of-type {\n",
       "        vertical-align: middle;\n",
       "    }\n",
       "\n",
       "    .dataframe tbody tr th {\n",
       "        vertical-align: top;\n",
       "    }\n",
       "\n",
       "    .dataframe thead th {\n",
       "        text-align: right;\n",
       "    }\n",
       "</style>\n",
       "<table border=\"1\" class=\"dataframe\">\n",
       "  <thead>\n",
       "    <tr style=\"text-align: right;\">\n",
       "      <th></th>\n",
       "      <th>count</th>\n",
       "      <th>mean</th>\n",
       "      <th>std</th>\n",
       "      <th>min</th>\n",
       "      <th>25%</th>\n",
       "      <th>50%</th>\n",
       "      <th>75%</th>\n",
       "      <th>max</th>\n",
       "    </tr>\n",
       "  </thead>\n",
       "  <tbody>\n",
       "    <tr>\n",
       "      <th>num_orders</th>\n",
       "      <td>26496.0</td>\n",
       "      <td>14.070463</td>\n",
       "      <td>9.21133</td>\n",
       "      <td>0.0</td>\n",
       "      <td>8.0</td>\n",
       "      <td>13.0</td>\n",
       "      <td>19.0</td>\n",
       "      <td>119.0</td>\n",
       "    </tr>\n",
       "  </tbody>\n",
       "</table>\n",
       "</div>"
      ],
      "text/plain": [
       "              count       mean      std  min  25%   50%   75%    max\n",
       "num_orders  26496.0  14.070463  9.21133  0.0  8.0  13.0  19.0  119.0"
      ]
     },
     "metadata": {},
     "output_type": "display_data"
    },
    {
     "name": "stdout",
     "output_type": "stream",
     "text": [
      "---------------------------------------------------------------------------\n",
      "<class 'pandas.core.frame.DataFrame'>\n",
      "DatetimeIndex: 26496 entries, 2018-03-01 00:00:00 to 2018-08-31 23:50:00\n",
      "Data columns (total 1 columns):\n",
      " #   Column      Non-Null Count  Dtype\n",
      "---  ------      --------------  -----\n",
      " 0   num_orders  26496 non-null  int64\n",
      "dtypes: int64(1)\n",
      "memory usage: 414.0 KB\n"
     ]
    },
    {
     "data": {
      "text/plain": [
       "None"
      ]
     },
     "metadata": {},
     "output_type": "display_data"
    },
    {
     "name": "stdout",
     "output_type": "stream",
     "text": [
      "---------------------------------------------------------------------------\n"
     ]
    },
    {
     "data": {
      "text/plain": [
       "array([[<AxesSubplot:title={'center':'num_orders'}>]], dtype=object)"
      ]
     },
     "metadata": {},
     "output_type": "display_data"
    },
    {
     "data": {
      "image/png": "[encoded data removed]",
      "text/plain": [
       "<Figure size 432x288 with 1 Axes>"
      ]
     },
     "metadata": {
      "needs_background": "light"
     },
     "output_type": "display_data"
    }
   ],
   "source": [
    "display(data.head())\n",
    "\n",
    "display(data.describe().T)\n",
    "print('-' * 75)\n",
    "\n",
    "display(data.info())\n",
    "print('-' * 75)\n",
    "\n",
    "display(data.hist(bins=35))"
   ]
  },
  {
   "cell_type": "markdown",
   "metadata": {},
   "source": [
    "<div style=\"border:solid silver 2px; padding: 30px\">\n",
    "    \n",
    "* Всего в датасете 26 496 наблюдений с 1 марта по 31 августа 2018 года и 1 колонка с информацией о числе заказов, которая является целевым признаком\n",
    "* Наблюдения загружены с периодичностью в 10 минут, нужно сделать ресемплирование по одному часу, а также суммировать количество заказов\n",
    "* Минимальное число заказов - 0, максимальное - 119, среднее - 14. Основная доля заказов, судя по графику, приходится на диапазон от 0 до 20, и далее идет на спад\n",
    "* Пропусков не наблюдается, столбец **num_orders** придерживается стиля snake_case, тип данных - целочисленный, все корректно"
   ]
  },
  {
   "cell_type": "code",
   "execution_count": 5,
   "metadata": {},
   "outputs": [
    {
     "name": "stdout",
     "output_type": "stream",
     "text": [
      "Количество строк сократилось в 6 раз\n"
     ]
    },
    {
     "data": {
      "text/html": [
       "<div>\n",
       "<style scoped>\n",
       "    .dataframe tbody tr th:only-of-type {\n",
       "        vertical-align: middle;\n",
       "    }\n",
       "\n",
       "    .dataframe tbody tr th {\n",
       "        vertical-align: top;\n",
       "    }\n",
       "\n",
       "    .dataframe thead th {\n",
       "        text-align: right;\n",
       "    }\n",
       "</style>\n",
       "<table border=\"1\" class=\"dataframe\">\n",
       "  <thead>\n",
       "    <tr style=\"text-align: right;\">\n",
       "      <th></th>\n",
       "      <th>num_orders</th>\n",
       "    </tr>\n",
       "    <tr>\n",
       "      <th>datetime</th>\n",
       "      <th></th>\n",
       "    </tr>\n",
       "  </thead>\n",
       "  <tbody>\n",
       "    <tr>\n",
       "      <th>2018-03-01 00:00:00</th>\n",
       "      <td>124</td>\n",
       "    </tr>\n",
       "    <tr>\n",
       "      <th>2018-03-01 01:00:00</th>\n",
       "      <td>85</td>\n",
       "    </tr>\n",
       "    <tr>\n",
       "      <th>2018-03-01 02:00:00</th>\n",
       "      <td>71</td>\n",
       "    </tr>\n",
       "    <tr>\n",
       "      <th>2018-03-01 03:00:00</th>\n",
       "      <td>66</td>\n",
       "    </tr>\n",
       "    <tr>\n",
       "      <th>2018-03-01 04:00:00</th>\n",
       "      <td>43</td>\n",
       "    </tr>\n",
       "  </tbody>\n",
       "</table>\n",
       "</div>"
      ],
      "text/plain": [
       "                     num_orders\n",
       "datetime                       \n",
       "2018-03-01 00:00:00         124\n",
       "2018-03-01 01:00:00          85\n",
       "2018-03-01 02:00:00          71\n",
       "2018-03-01 03:00:00          66\n",
       "2018-03-01 04:00:00          43"
      ]
     },
     "metadata": {},
     "output_type": "display_data"
    }
   ],
   "source": [
    "# сохраним кол-во строк до ресемплирования\n",
    "data_shape_before = data.shape[0]\n",
    "\n",
    "# делаем ресемплирование по 1 часу и суммируем заказы\n",
    "data = data.resample('1H').sum()\n",
    "\n",
    "# проверяем\n",
    "print(f'Количество строк сократилось в {data_shape_before // data.shape[0]} раз')\n",
    "display(data.head())"
   ]
  },
  {
   "cell_type": "markdown",
   "metadata": {},
   "source": [
    "## Анализ"
   ]
  },
  {
   "cell_type": "code",
   "execution_count": 6,
   "metadata": {},
   "outputs": [],
   "source": [
    "def make_plot(df, title, xlabel='', ylabel=''):\n",
    "    plt.rc('font', size=12)\n",
    "    df.plot(figsize=(16, 5), ax=plt.gca())\n",
    "    plt.grid()\n",
    "    plt.title(title)\n",
    "    plt.xlabel(xlabel)\n",
    "    plt.ylabel(ylabel);"
   ]
  },
  {
   "cell_type": "markdown",
   "metadata": {},
   "source": [
    "Теперь более подробно рассмотрим имеющиеся данные. Чтобы снизить колебания во временном ряду добавим скользящее среднее и стандартное отклонение и совместим их показатели на графике\n",
    "\n",
    "Размер окна будет 24*7, чтобы получить сглаженную линию"
   ]
  },
  {
   "cell_type": "code",
   "execution_count": 7,
   "metadata": {},
   "outputs": [
    {
     "data": {
      "image/png": "[encoded data removed]",
      "text/plain": [
       "<Figure size 1152x360 with 1 Axes>"
      ]
     },
     "metadata": {
      "needs_background": "light"
     },
     "output_type": "display_data"
    }
   ],
   "source": [
    "# скользящее среднее\n",
    "data['rolling_mean'] = data['num_orders'].rolling(24*7).mean()\n",
    "# скользящее стандартное отклонение\n",
    "data['std'] = data['num_orders'].rolling(24*7).std()\n",
    "\n",
    "make_plot(data, 'Скользящее среднее и стандартное отклонение',\n",
    "          'Дата заказа', 'Суммарное кол-во заказов')"
   ]
  },
  {
   "cell_type": "markdown",
   "metadata": {},
   "source": [
    "Ряд является стационарным, когда в течение времени количество событий изменяется равномерно. Например, ночью всегда поступает 10 заказов такси, а в полдень – 100.\n",
    "\n",
    "В данном случае временной ряд нестационарный – количество заказов постепенно растет\n",
    "\n",
    "Далее разложим временной ряд на три составляющие: тренд, сезонность и остаток и рассмотрим их на графиках"
   ]
  },
  {
   "cell_type": "code",
   "execution_count": 8,
   "metadata": {},
   "outputs": [],
   "source": [
    "decomposed = seasonal_decompose(data['num_orders'])"
   ]
  },
  {
   "cell_type": "code",
   "execution_count": 9,
   "metadata": {},
   "outputs": [
    {
     "data": {
      "image/png": "[encoded data removed]",
      "text/plain": [
       "<Figure size 1152x360 with 1 Axes>"
      ]
     },
     "metadata": {
      "needs_background": "light"
     },
     "output_type": "display_data"
    }
   ],
   "source": [
    "make_plot(decomposed.trend, 'Тренд за все время', 'Дата заказа', 'Кол-во заказов')"
   ]
  },
  {
   "cell_type": "code",
   "execution_count": 10,
   "metadata": {},
   "outputs": [
    {
     "data": {
      "image/png": "[encoded data removed]",
      "text/plain": [
       "<Figure size 1152x360 with 1 Axes>"
      ]
     },
     "metadata": {
      "needs_background": "light"
     },
     "output_type": "display_data"
    }
   ],
   "source": [
    "make_plot(decomposed.seasonal['2018-05-25'], 'Сезонность за 25.05.2018', 'Время заказа', 'Кол-во заказов')"
   ]
  },
  {
   "cell_type": "code",
   "execution_count": 11,
   "metadata": {},
   "outputs": [
    {
     "data": {
      "image/png": "[encoded data removed]",
      "text/plain": [
       "<Figure size 1152x360 with 1 Axes>"
      ]
     },
     "metadata": {
      "needs_background": "light"
     },
     "output_type": "display_data"
    }
   ],
   "source": [
    "make_plot(decomposed.seasonal.head(24*7), 'Сезонность за неделю', 'День недели', 'Кол-во заказов')"
   ]
  },
  {
   "cell_type": "code",
   "execution_count": 12,
   "metadata": {},
   "outputs": [
    {
     "data": {
      "image/png": "[encoded data removed]",
      "text/plain": [
       "<Figure size 1152x360 with 1 Axes>"
      ]
     },
     "metadata": {
      "needs_background": "light"
     },
     "output_type": "display_data"
    }
   ],
   "source": [
    "make_plot(decomposed.resid, 'Остаток декомпозиции') "
   ]
  },
  {
   "cell_type": "code",
   "execution_count": 13,
   "metadata": {},
   "outputs": [],
   "source": [
    "# убираем созданные столбцы\n",
    "data = data.drop(['rolling_mean', 'std'], axis=1)"
   ]
  },
  {
   "cell_type": "markdown",
   "metadata": {},
   "source": [
    "<div style=\"border:solid silver 2px; padding: 30px\">\n",
    "\n",
    "* Наблюдается суточная сезонность – ежедневно с утра начинается рост заказов, в течение дня и к вечеру кол-во заказов достигает пика и далее идет на спад\n",
    "* Тренд плавно растущий, похоже, что компания «Чётенькое такси» набирает популярность. С июля кол-во заказов растёт быстрее, возможно в это время проводилась рекламная кампания для привлечения новых пассажиров"
   ]
  },
  {
   "cell_type": "markdown",
   "metadata": {},
   "source": [
    "## Обучение"
   ]
  },
  {
   "cell_type": "markdown",
   "metadata": {},
   "source": [
    "### Подготовка и разделение данных"
   ]
  },
  {
   "cell_type": "code",
   "execution_count": 14,
   "metadata": {},
   "outputs": [],
   "source": [
    "# зафиксируем значение random state\n",
    "SEED = 12345"
   ]
  },
  {
   "cell_type": "code",
   "execution_count": 15,
   "metadata": {},
   "outputs": [],
   "source": [
    "def make_features(data, max_lag, rolling_mean_size):\n",
    "    data['day'] = data.index.day\n",
    "    data['dayofweek'] = data.index.dayofweek\n",
    "    data['hour'] = data.index.hour\n",
    "    \n",
    "    for lag in range(1, max_lag + 1):\n",
    "        data['lag_{}'.format(lag)] = data['num_orders'].shift(lag)\n",
    "        \n",
    "    data['rolling_mean'] = data['num_orders'].shift().rolling(rolling_mean_size).mean()"
   ]
  },
  {
   "cell_type": "markdown",
   "metadata": {},
   "source": [
    "Количество лагов и размер окна поставим 168, т.е. 24*7, чтобы модель учитывала сезонность в данных на уровне недели"
   ]
  },
  {
   "cell_type": "code",
   "execution_count": 16,
   "metadata": {},
   "outputs": [],
   "source": [
    "# создадим новые признаки\n",
    "make_features(data, 168, 168)"
   ]
  },
  {
   "cell_type": "code",
   "execution_count": 17,
   "metadata": {},
   "outputs": [
    {
     "name": "stdout",
     "output_type": "stream",
     "text": [
      "2018-08-13 13:00:00 2018-08-13 14:00:00\n"
     ]
    }
   ],
   "source": [
    "train, test = train_test_split(data, shuffle=False, test_size=0.1)\n",
    "\n",
    "# удалим пропущенные значения\n",
    "train = train.dropna()\n",
    "\n",
    "features_train = train.drop(['num_orders'], axis=1)\n",
    "features_test = test.drop(['num_orders'], axis=1)\n",
    "target_train = train['num_orders']\n",
    "target_test = test['num_orders']\n",
    "\n",
    "# проверим, что данные в обучающем и тестовом наборе не пересекаются\n",
    "print(target_train.index.max(), target_test.index.min())"
   ]
  },
  {
   "cell_type": "code",
   "execution_count": 18,
   "metadata": {},
   "outputs": [],
   "source": [
    "# зафиксируем кол-во сплитов\n",
    "TSCV = TimeSeriesSplit(n_splits=10)"
   ]
  },
  {
   "cell_type": "code",
   "execution_count": 19,
   "metadata": {},
   "outputs": [],
   "source": [
    "# создадим функцию для кросс-валидации\n",
    "\n",
    "rmse_model = []\n",
    "\n",
    "def make_randomizedsearch(model, parameters):\n",
    "    \n",
    "    model = RandomizedSearchCV(model,\n",
    "                               parameters,\n",
    "                               random_state=SEED,\n",
    "                               cv=TSCV,\n",
    "                               scoring='neg_root_mean_squared_error',\n",
    "                               n_jobs=-1)\n",
    "    \n",
    "    model.fit(features_train, target_train)\n",
    "    \n",
    "    rmse = round(abs(model.best_score_), 2)\n",
    "    \n",
    "    rmse_model.append(rmse)\n",
    "    \n",
    "    print(model.best_params_)\n",
    "    print(f'RMSE: {rmse}')\n",
    "    print()"
   ]
  },
  {
   "cell_type": "markdown",
   "metadata": {},
   "source": [
    "### Линейная регрессия"
   ]
  },
  {
   "cell_type": "code",
   "execution_count": 20,
   "metadata": {},
   "outputs": [
    {
     "name": "stdout",
     "output_type": "stream",
     "text": [
      "{'normalize': True, 'fit_intercept': False}\n",
      "RMSE: 23.26\n",
      "\n",
      "CPU times: user 7.92 s, sys: 9.13 s, total: 17.1 s\n",
      "Wall time: 17 s\n"
     ]
    }
   ],
   "source": [
    "%%time\n",
    "\n",
    "model_lr = LinearRegression()\n",
    "\n",
    "parameters = {\n",
    "    'fit_intercept': [True, False],\n",
    "    'normalize': [True, False]\n",
    "}\n",
    "\n",
    "make_randomizedsearch(model_lr, parameters)"
   ]
  },
  {
   "cell_type": "markdown",
   "metadata": {},
   "source": [
    "### Случайный лес"
   ]
  },
  {
   "cell_type": "code",
   "execution_count": 21,
   "metadata": {},
   "outputs": [
    {
     "name": "stdout",
     "output_type": "stream",
     "text": [
      "{'n_estimators': 100, 'min_samples_split': 2, 'min_samples_leaf': 3, 'max_features': 5, 'max_depth': 7}\n",
      "RMSE: 25.88\n",
      "\n",
      "CPU times: user 31.4 s, sys: 0 ns, total: 31.4 s\n",
      "Wall time: 31.5 s\n"
     ]
    }
   ],
   "source": [
    "%%time\n",
    "\n",
    "model_rf = RandomForestRegressor(random_state=SEED)\n",
    "\n",
    "parameters = {\n",
    "    'max_depth': [2, 7],\n",
    "    'n_estimators': [50, 100, 200, 250],\n",
    "    'max_features': [3, 5, 7],\n",
    "    'min_samples_leaf': [2, 3, 4],\n",
    "    'min_samples_split': [2, 3, 4]\n",
    "}\n",
    "\n",
    "make_randomizedsearch(model_rf, parameters)"
   ]
  },
  {
   "cell_type": "markdown",
   "metadata": {},
   "source": [
    "### LightGBM"
   ]
  },
  {
   "cell_type": "code",
   "execution_count": 22,
   "metadata": {},
   "outputs": [
    {
     "name": "stdout",
     "output_type": "stream",
     "text": [
      "{'n_estimators': 250, 'max_depth': 2, 'boosting_type': 'gbdt'}\n",
      "RMSE: 22.01\n",
      "\n",
      "CPU times: user 20min 11s, sys: 9.61 s, total: 20min 21s\n",
      "Wall time: 20min 30s\n"
     ]
    }
   ],
   "source": [
    "%%time\n",
    "\n",
    "model_lgbm = LGBMRegressor(random_state=SEED)\n",
    "\n",
    "parameters = {\n",
    "    'max_depth': [2, 7],\n",
    "    'n_estimators': [50, 100, 200, 250],\n",
    "    'boosting_type': ['gbdt', 'dart', 'goss']\n",
    "}\n",
    "\n",
    "make_randomizedsearch(model_lgbm, parameters)"
   ]
  },
  {
   "cell_type": "code",
   "execution_count": 23,
   "metadata": {},
   "outputs": [
    {
     "data": {
      "text/html": [
       "<div>\n",
       "<style scoped>\n",
       "    .dataframe tbody tr th:only-of-type {\n",
       "        vertical-align: middle;\n",
       "    }\n",
       "\n",
       "    .dataframe tbody tr th {\n",
       "        vertical-align: top;\n",
       "    }\n",
       "\n",
       "    .dataframe thead th {\n",
       "        text-align: right;\n",
       "    }\n",
       "</style>\n",
       "<table border=\"1\" class=\"dataframe\">\n",
       "  <thead>\n",
       "    <tr style=\"text-align: right;\">\n",
       "      <th></th>\n",
       "      <th>Значение RMSE</th>\n",
       "    </tr>\n",
       "  </thead>\n",
       "  <tbody>\n",
       "    <tr>\n",
       "      <th>Линейная регрессия</th>\n",
       "      <td>23.26</td>\n",
       "    </tr>\n",
       "    <tr>\n",
       "      <th>Случайный лес</th>\n",
       "      <td>25.88</td>\n",
       "    </tr>\n",
       "    <tr>\n",
       "      <th>LightGBM</th>\n",
       "      <td>22.01</td>\n",
       "    </tr>\n",
       "  </tbody>\n",
       "</table>\n",
       "</div>"
      ],
      "text/plain": [
       "                    Значение RMSE\n",
       "Линейная регрессия          23.26\n",
       "Случайный лес               25.88\n",
       "LightGBM                    22.01"
      ]
     },
     "execution_count": 23,
     "metadata": {},
     "output_type": "execute_result"
    }
   ],
   "source": [
    "compare = pd.DataFrame(\n",
    "    rmse_model,\n",
    "    index = ['Линейная регрессия', 'Случайный лес', 'LightGBM'],\n",
    "    columns =['Значение RMSE']\n",
    ")\n",
    "\n",
    "compare"
   ]
  },
  {
   "cell_type": "markdown",
   "metadata": {},
   "source": [
    "<div style=\"border:solid silver 2px; padding: 30px\">\n",
    "\n",
    "* На обучающих данных все модели хорошо себя показали и по значению RMSE идут практически наравне.\n",
    "* Модель LightGBM показала самую маленькую RMSE – 22.01, поэтому проверим её на тестовых данных и сравним с константной моделью\n",
    "* Также стоит проверить на тестовом наборе и линейную регрессию, она хоть и немного отстает по показателям от бустинга, но по скорости является победителем"
   ]
  },
  {
   "cell_type": "markdown",
   "metadata": {},
   "source": [
    "## Тестирование"
   ]
  },
  {
   "cell_type": "code",
   "execution_count": 24,
   "metadata": {},
   "outputs": [],
   "source": [
    "rmse_model = []"
   ]
  },
  {
   "cell_type": "markdown",
   "metadata": {},
   "source": [
    "### Линейная регрессия"
   ]
  },
  {
   "cell_type": "code",
   "execution_count": 1,
   "metadata": {},
   "outputs": [
    {
     "ename": "NameError",
     "evalue": "name 'LinearRegression' is not defined",
     "output_type": "error",
     "traceback": [
      "\u001b[0;31m---------------------------------------------------------------------------\u001b[0m",
      "\u001b[0;31mNameError\u001b[0m                                 Traceback (most recent call last)",
      "\u001b[0;32m<timed exec>\u001b[0m in \u001b[0;36m<module>\u001b[0;34m\u001b[0m\n",
      "\u001b[0;31mNameError\u001b[0m: name 'LinearRegression' is not defined"
     ]
    }
   ],
   "source": [
    "%%time\n",
    "\n",
    "model_lr = LinearRegression(normalize=True, fit_intercept=False)\n",
    "\n",
    "start = time.time()\n",
    "model_lr.fit(features_train, target_train)\n",
    "train_time_lr = round(time.time() - start, 2)\n",
    "\n",
    "start = time.time()\n",
    "predict_lr = model_lr.predict(features_test)\n",
    "pred_time_lr = round(time.time() - start, 2)\n",
    "\n",
    "# вычисляем RMSE\n",
    "rmse_lr = mean_squared_error(target_test, predict_lr)**0.5\n",
    "rmse_model.append(rmse_lr)\n",
    "\n",
    "print(f'RMSE: {rmse_lr}')\n",
    "print()"
   ]
  },
  {
   "cell_type": "markdown",
   "metadata": {},
   "source": [
    "### LightGBM"
   ]
  },
  {
   "cell_type": "code",
   "execution_count": 26,
   "metadata": {},
   "outputs": [
    {
     "name": "stdout",
     "output_type": "stream",
     "text": [
      "RMSE: 37.62556199873762\n",
      "\n",
      "CPU times: user 1.51 s, sys: 63.2 ms, total: 1.58 s\n",
      "Wall time: 1.6 s\n"
     ]
    }
   ],
   "source": [
    "%%time\n",
    "\n",
    "model_lgbm = LGBMRegressor(random_state=SEED, n_estimators=50, max_depth=7, boosting_type='goss')\n",
    "model_lgbm.fit(features_train, target_train)\n",
    "predict_lgbm = model_lgbm.predict(features_test)\n",
    "\n",
    "# вычисляем RMSE\n",
    "rmse_lgbm = mean_squared_error(target_test, predict_lgbm)**0.5\n",
    "rmse_model.append(rmse_lgbm)\n",
    "\n",
    "print(f'RMSE: {rmse_lgbm}')\n",
    "print()"
   ]
  },
  {
   "cell_type": "markdown",
   "metadata": {},
   "source": [
    "### Константная модель"
   ]
  },
  {
   "cell_type": "code",
   "execution_count": 27,
   "metadata": {},
   "outputs": [
    {
     "name": "stdout",
     "output_type": "stream",
     "text": [
      "RMSE: 58.856486242815066\n",
      "\n",
      "CPU times: user 1.9 ms, sys: 0 ns, total: 1.9 ms\n",
      "Wall time: 1.53 ms\n"
     ]
    }
   ],
   "source": [
    "%%time\n",
    "\n",
    "const_model = DummyRegressor(strategy='mean')\n",
    "const_model.fit(features_train, target_train)\n",
    "\n",
    "pred_previous = target_test.shift()\n",
    "pred_previous.iloc[0] = target_train.iloc[-1]\n",
    "\n",
    "# вычисляем RMSE\n",
    "rmse_cm = mean_squared_error(target_test, pred_previous)**0.5\n",
    "rmse_model.append(rmse_cm)\n",
    "\n",
    "print(f'RMSE: {rmse_cm}')\n",
    "print()"
   ]
  },
  {
   "cell_type": "code",
   "execution_count": 28,
   "metadata": {},
   "outputs": [
    {
     "data": {
      "text/html": [
       "<div>\n",
       "<style scoped>\n",
       "    .dataframe tbody tr th:only-of-type {\n",
       "        vertical-align: middle;\n",
       "    }\n",
       "\n",
       "    .dataframe tbody tr th {\n",
       "        vertical-align: top;\n",
       "    }\n",
       "\n",
       "    .dataframe thead th {\n",
       "        text-align: right;\n",
       "    }\n",
       "</style>\n",
       "<table border=\"1\" class=\"dataframe\">\n",
       "  <thead>\n",
       "    <tr style=\"text-align: right;\">\n",
       "      <th></th>\n",
       "      <th>Значение RMSE</th>\n",
       "    </tr>\n",
       "  </thead>\n",
       "  <tbody>\n",
       "    <tr>\n",
       "      <th>Линейная регрессия</th>\n",
       "      <td>34.396381</td>\n",
       "    </tr>\n",
       "    <tr>\n",
       "      <th>LightGBM</th>\n",
       "      <td>37.625562</td>\n",
       "    </tr>\n",
       "    <tr>\n",
       "      <th>Константная модель</th>\n",
       "      <td>58.856486</td>\n",
       "    </tr>\n",
       "  </tbody>\n",
       "</table>\n",
       "</div>"
      ],
      "text/plain": [
       "                    Значение RMSE\n",
       "Линейная регрессия      34.396381\n",
       "LightGBM                37.625562\n",
       "Константная модель      58.856486"
      ]
     },
     "execution_count": 28,
     "metadata": {},
     "output_type": "execute_result"
    }
   ],
   "source": [
    "compare = pd.DataFrame(\n",
    "    rmse_model,\n",
    "    index = ['Линейная регрессия', 'LightGBM', 'Константная модель'],\n",
    "    columns =['Значение RMSE']\n",
    ")\n",
    "\n",
    "compare"
   ]
  },
  {
   "cell_type": "markdown",
   "metadata": {},
   "source": [
    "<div style=\"border:solid silver 2px; padding: 30px\">\n",
    "    \n",
    "* Все модели успешно прошли проверку на адекватность\n",
    "* Здесь явным победителем оказалась линейная регрессия, но стоит отметить, что LightGBM с гиперпараметрами {'n_estimators': 250, 'max_depth': 2, 'boosting_type': 'gbdt'} тоже является достойным выбором"
   ]
  },
  {
   "cell_type": "markdown",
   "metadata": {},
   "source": [
    "## Общий вывод"
   ]
  },
  {
   "cell_type": "markdown",
   "metadata": {},
   "source": [
    "<div style=\"border:solid silver 2px; padding: 30px\">\n",
    "    \n",
    "* Компании «Чётенькое такси» можем порекомендовать модель линейной регрессии с гиперпараметрами {'normalize': True, 'fit_intercept': False}, которая показала себя лучше градиентного бустинга по значению RMSE на тестовой выборке, а также достигла значения RMSE не более 48 на тестовой выборке, а именно 34"
   ]
  },
  {
   "cell_type": "markdown",
   "metadata": {},
   "source": [
    "## Чек-лист проверки"
   ]
  },
  {
   "cell_type": "markdown",
   "metadata": {},
   "source": [
    "- [x]  Jupyter Notebook открыт\n",
    "- [x]  Весь код выполняется без ошибок\n",
    "- [x]  Ячейки с кодом расположены в порядке исполнения\n",
    "- [x]  Данные загружены и подготовлены\n",
    "- [x]  Данные проанализированы\n",
    "- [x]  Модель обучена, гиперпараметры подобраны\n",
    "- [x]  Качество моделей проверено, выводы сделаны\n",
    "- [x]  Значение *RMSE* на тестовой выборке не больше 48"
   ]
  }
 ],
 "metadata": {
  "ExecuteTimeLog": [
   {
    "duration": 349,
    "start_time": "2023-02-13T13:31:12.543Z"
   },
   {
    "duration": 270,
    "start_time": "2023-02-13T13:31:55.463Z"
   },
   {
    "duration": 4,
    "start_time": "2023-02-13T13:32:07.454Z"
   },
   {
    "duration": 10,
    "start_time": "2023-02-13T13:32:18.254Z"
   },
   {
    "duration": 9,
    "start_time": "2023-02-13T13:32:36.212Z"
   },
   {
    "duration": 13,
    "start_time": "2023-02-13T13:32:42.911Z"
   },
   {
    "duration": 44,
    "start_time": "2023-02-13T13:33:35.100Z"
   },
   {
    "duration": 44,
    "start_time": "2023-02-13T13:33:42.467Z"
   },
   {
    "duration": 4,
    "start_time": "2023-02-13T13:33:45.286Z"
   },
   {
    "duration": 4,
    "start_time": "2023-02-13T13:33:53.268Z"
   },
   {
    "duration": 10,
    "start_time": "2023-02-13T13:33:53.428Z"
   },
   {
    "duration": 6,
    "start_time": "2023-02-13T13:34:03.505Z"
   },
   {
    "duration": 7,
    "start_time": "2023-02-13T13:34:08.665Z"
   },
   {
    "duration": 1017,
    "start_time": "2023-02-13T13:34:50.063Z"
   },
   {
    "duration": 570,
    "start_time": "2023-02-13T13:34:55.771Z"
   },
   {
    "duration": 415,
    "start_time": "2023-02-13T13:35:04.863Z"
   },
   {
    "duration": 41,
    "start_time": "2023-02-13T13:35:05.280Z"
   },
   {
    "duration": 931,
    "start_time": "2023-02-13T13:35:05.323Z"
   },
   {
    "duration": 618,
    "start_time": "2023-02-13T13:35:06.255Z"
   },
   {
    "duration": 18,
    "start_time": "2023-02-13T13:35:06.875Z"
   },
   {
    "duration": 4,
    "start_time": "2023-02-13T13:35:22.422Z"
   },
   {
    "duration": 50,
    "start_time": "2023-02-13T13:35:26.650Z"
   },
   {
    "duration": 424,
    "start_time": "2023-02-13T13:35:33.578Z"
   },
   {
    "duration": 68,
    "start_time": "2023-02-13T13:35:34.005Z"
   },
   {
    "duration": 11,
    "start_time": "2023-02-13T13:35:34.075Z"
   },
   {
    "duration": 36,
    "start_time": "2023-02-13T13:35:34.089Z"
   },
   {
    "duration": 23,
    "start_time": "2023-02-13T13:35:34.128Z"
   },
   {
    "duration": 9,
    "start_time": "2023-02-13T13:36:00.409Z"
   },
   {
    "duration": 52,
    "start_time": "2023-02-13T13:36:02.293Z"
   },
   {
    "duration": 390,
    "start_time": "2023-02-13T13:36:08.209Z"
   },
   {
    "duration": 51,
    "start_time": "2023-02-13T13:36:08.602Z"
   },
   {
    "duration": 4,
    "start_time": "2023-02-13T13:36:08.655Z"
   },
   {
    "duration": 15,
    "start_time": "2023-02-13T13:36:08.661Z"
   },
   {
    "duration": 9,
    "start_time": "2023-02-13T13:36:08.677Z"
   },
   {
    "duration": 9,
    "start_time": "2023-02-13T13:38:56.669Z"
   },
   {
    "duration": 15,
    "start_time": "2023-02-13T13:39:44.872Z"
   },
   {
    "duration": 6,
    "start_time": "2023-02-13T13:39:45.224Z"
   },
   {
    "duration": 9,
    "start_time": "2023-02-13T13:39:45.425Z"
   },
   {
    "duration": 7,
    "start_time": "2023-02-13T13:39:51.306Z"
   },
   {
    "duration": 427,
    "start_time": "2023-02-13T13:39:56.886Z"
   },
   {
    "duration": 55,
    "start_time": "2023-02-13T13:39:57.316Z"
   },
   {
    "duration": 4,
    "start_time": "2023-02-13T13:39:57.373Z"
   },
   {
    "duration": 11,
    "start_time": "2023-02-13T13:39:57.378Z"
   },
   {
    "duration": 19,
    "start_time": "2023-02-13T13:39:57.391Z"
   },
   {
    "duration": 1209,
    "start_time": "2023-02-14T12:52:35.482Z"
   },
   {
    "duration": 146,
    "start_time": "2023-02-14T12:56:26.688Z"
   },
   {
    "duration": 3,
    "start_time": "2023-02-14T12:56:31.716Z"
   },
   {
    "duration": 3,
    "start_time": "2023-02-14T12:56:40.340Z"
   },
   {
    "duration": 3,
    "start_time": "2023-02-14T12:56:50.429Z"
   },
   {
    "duration": 127,
    "start_time": "2023-02-14T12:58:20.557Z"
   },
   {
    "duration": 162,
    "start_time": "2023-02-14T12:58:48.719Z"
   },
   {
    "duration": 577,
    "start_time": "2023-02-14T12:58:59.880Z"
   },
   {
    "duration": 167,
    "start_time": "2023-02-14T12:59:07.902Z"
   },
   {
    "duration": 157,
    "start_time": "2023-02-14T12:59:16.751Z"
   },
   {
    "duration": 165,
    "start_time": "2023-02-14T12:59:28.887Z"
   },
   {
    "duration": 247,
    "start_time": "2023-02-14T12:59:41.351Z"
   },
   {
    "duration": 173,
    "start_time": "2023-02-14T12:59:49.999Z"
   },
   {
    "duration": 165,
    "start_time": "2023-02-14T12:59:52.494Z"
   },
   {
    "duration": 170,
    "start_time": "2023-02-14T13:00:00.680Z"
   },
   {
    "duration": 219,
    "start_time": "2023-02-14T13:00:04.662Z"
   },
   {
    "duration": 188,
    "start_time": "2023-02-14T13:00:19.497Z"
   },
   {
    "duration": 184,
    "start_time": "2023-02-14T13:00:27.122Z"
   },
   {
    "duration": 170,
    "start_time": "2023-02-14T13:00:31.344Z"
   },
   {
    "duration": 208,
    "start_time": "2023-02-14T13:00:36.516Z"
   },
   {
    "duration": 191,
    "start_time": "2023-02-14T13:00:55.819Z"
   },
   {
    "duration": 186,
    "start_time": "2023-02-14T13:01:00.121Z"
   },
   {
    "duration": 188,
    "start_time": "2023-02-14T13:01:11.352Z"
   },
   {
    "duration": 278,
    "start_time": "2023-02-14T13:01:33.456Z"
   },
   {
    "duration": 57,
    "start_time": "2023-02-14T13:01:44.795Z"
   },
   {
    "duration": 168,
    "start_time": "2023-02-14T13:01:51.094Z"
   },
   {
    "duration": 4,
    "start_time": "2023-02-14T13:21:48.491Z"
   },
   {
    "duration": 54,
    "start_time": "2023-02-14T13:22:11.267Z"
   },
   {
    "duration": 229,
    "start_time": "2023-02-14T13:22:33.716Z"
   },
   {
    "duration": 14,
    "start_time": "2023-02-14T13:22:50.452Z"
   },
   {
    "duration": 50,
    "start_time": "2023-02-14T13:23:08.413Z"
   },
   {
    "duration": 1270,
    "start_time": "2023-02-14T13:23:10.169Z"
   },
   {
    "duration": 55,
    "start_time": "2023-02-14T13:23:11.442Z"
   },
   {
    "duration": 62,
    "start_time": "2023-02-14T13:23:44.488Z"
   },
   {
    "duration": 1242,
    "start_time": "2023-02-14T13:23:49.551Z"
   },
   {
    "duration": 52,
    "start_time": "2023-02-14T13:23:50.795Z"
   },
   {
    "duration": 9,
    "start_time": "2023-02-14T13:23:50.848Z"
   },
   {
    "duration": 449,
    "start_time": "2023-02-14T13:23:50.859Z"
   },
   {
    "duration": 18,
    "start_time": "2023-02-14T13:23:51.310Z"
   },
   {
    "duration": 5,
    "start_time": "2023-02-14T13:31:11.754Z"
   },
   {
    "duration": 7,
    "start_time": "2023-02-14T13:31:43.387Z"
   },
   {
    "duration": 1614,
    "start_time": "2023-02-14T13:32:13.783Z"
   },
   {
    "duration": 5,
    "start_time": "2023-02-14T13:32:37.669Z"
   },
   {
    "duration": 26,
    "start_time": "2023-02-14T13:34:30.486Z"
   },
   {
    "duration": 3,
    "start_time": "2023-02-14T13:39:57.826Z"
   },
   {
    "duration": 4,
    "start_time": "2023-02-14T13:41:08.844Z"
   },
   {
    "duration": 4,
    "start_time": "2023-02-14T13:48:47.297Z"
   },
   {
    "duration": 1231,
    "start_time": "2023-02-14T13:58:50.452Z"
   },
   {
    "duration": 15,
    "start_time": "2023-02-14T14:03:02.984Z"
   },
   {
    "duration": 198,
    "start_time": "2023-02-14T14:03:15.347Z"
   },
   {
    "duration": 32,
    "start_time": "2023-02-14T14:03:53.569Z"
   },
   {
    "duration": 32,
    "start_time": "2023-02-14T14:03:56.121Z"
   },
   {
    "duration": 20,
    "start_time": "2023-02-14T14:04:10.761Z"
   },
   {
    "duration": 209,
    "start_time": "2023-02-14T14:06:12.580Z"
   },
   {
    "duration": 37,
    "start_time": "2023-02-14T14:06:23.618Z"
   },
   {
    "duration": 11,
    "start_time": "2023-02-14T14:06:30.771Z"
   },
   {
    "duration": 1533,
    "start_time": "2023-02-14T14:06:37.903Z"
   },
   {
    "duration": 105,
    "start_time": "2023-02-14T14:06:39.439Z"
   },
   {
    "duration": 12,
    "start_time": "2023-02-14T14:06:39.547Z"
   },
   {
    "duration": 1081,
    "start_time": "2023-02-14T14:06:39.562Z"
   },
   {
    "duration": 18,
    "start_time": "2023-02-14T14:06:40.645Z"
   },
   {
    "duration": 61,
    "start_time": "2023-02-14T14:06:40.665Z"
   },
   {
    "duration": 337,
    "start_time": "2023-02-14T14:06:40.728Z"
   },
   {
    "duration": 0,
    "start_time": "2023-02-14T14:06:41.128Z"
   },
   {
    "duration": 0,
    "start_time": "2023-02-14T14:06:41.130Z"
   },
   {
    "duration": 14,
    "start_time": "2023-02-14T14:06:58.349Z"
   },
   {
    "duration": 3,
    "start_time": "2023-02-14T14:35:19.174Z"
   },
   {
    "duration": 6,
    "start_time": "2023-02-14T14:35:36.223Z"
   },
   {
    "duration": 7,
    "start_time": "2023-02-14T14:36:01.622Z"
   },
   {
    "duration": 4,
    "start_time": "2023-02-14T14:36:06.222Z"
   },
   {
    "duration": 8,
    "start_time": "2023-02-14T14:36:09.093Z"
   },
   {
    "duration": 12,
    "start_time": "2023-02-14T14:36:21.686Z"
   },
   {
    "duration": 1357,
    "start_time": "2023-02-14T14:36:51.530Z"
   },
   {
    "duration": 57,
    "start_time": "2023-02-14T14:36:52.889Z"
   },
   {
    "duration": 10,
    "start_time": "2023-02-14T14:36:52.948Z"
   },
   {
    "duration": 374,
    "start_time": "2023-02-14T14:36:52.960Z"
   },
   {
    "duration": 15,
    "start_time": "2023-02-14T14:36:53.336Z"
   },
   {
    "duration": 3,
    "start_time": "2023-02-14T14:36:53.352Z"
   },
   {
    "duration": 11,
    "start_time": "2023-02-14T14:36:53.357Z"
   },
   {
    "duration": 5,
    "start_time": "2023-02-14T14:36:53.369Z"
   },
   {
    "duration": 5,
    "start_time": "2023-02-14T14:36:53.376Z"
   },
   {
    "duration": 10,
    "start_time": "2023-02-14T14:36:53.383Z"
   },
   {
    "duration": 169,
    "start_time": "2023-02-14T14:36:53.395Z"
   },
   {
    "duration": 0,
    "start_time": "2023-02-14T14:36:53.566Z"
   },
   {
    "duration": 1275,
    "start_time": "2023-02-14T14:37:01.223Z"
   },
   {
    "duration": 6,
    "start_time": "2023-02-14T14:37:11.944Z"
   },
   {
    "duration": 4,
    "start_time": "2023-02-14T14:37:17.485Z"
   },
   {
    "duration": 1275,
    "start_time": "2023-02-14T14:37:45.734Z"
   },
   {
    "duration": 49,
    "start_time": "2023-02-14T14:37:47.011Z"
   },
   {
    "duration": 8,
    "start_time": "2023-02-14T14:37:47.062Z"
   },
   {
    "duration": 359,
    "start_time": "2023-02-14T14:37:47.072Z"
   },
   {
    "duration": 20,
    "start_time": "2023-02-14T14:37:47.433Z"
   },
   {
    "duration": 11,
    "start_time": "2023-02-14T14:37:47.454Z"
   },
   {
    "duration": 12,
    "start_time": "2023-02-14T14:37:47.467Z"
   },
   {
    "duration": 5,
    "start_time": "2023-02-14T14:37:47.481Z"
   },
   {
    "duration": 4,
    "start_time": "2023-02-14T14:37:47.488Z"
   },
   {
    "duration": 7,
    "start_time": "2023-02-14T14:37:47.495Z"
   },
   {
    "duration": 32,
    "start_time": "2023-02-14T14:37:47.503Z"
   },
   {
    "duration": 17,
    "start_time": "2023-02-14T14:37:47.537Z"
   },
   {
    "duration": 1479,
    "start_time": "2023-02-15T06:16:01.876Z"
   },
   {
    "duration": 238,
    "start_time": "2023-02-15T06:16:03.358Z"
   },
   {
    "duration": 27,
    "start_time": "2023-02-15T06:16:03.598Z"
   },
   {
    "duration": 648,
    "start_time": "2023-02-15T06:16:03.628Z"
   },
   {
    "duration": 19,
    "start_time": "2023-02-15T06:16:04.278Z"
   },
   {
    "duration": 14,
    "start_time": "2023-02-15T06:16:04.316Z"
   },
   {
    "duration": 23,
    "start_time": "2023-02-15T06:16:04.338Z"
   },
   {
    "duration": 4,
    "start_time": "2023-02-15T06:16:04.363Z"
   },
   {
    "duration": 6,
    "start_time": "2023-02-15T06:16:04.369Z"
   },
   {
    "duration": 4,
    "start_time": "2023-02-15T06:16:04.378Z"
   },
   {
    "duration": 20,
    "start_time": "2023-02-15T06:16:04.384Z"
   },
   {
    "duration": 45,
    "start_time": "2023-02-15T06:16:04.405Z"
   },
   {
    "duration": 4,
    "start_time": "2023-02-15T06:17:40.863Z"
   },
   {
    "duration": 5,
    "start_time": "2023-02-15T06:18:11.176Z"
   },
   {
    "duration": 289,
    "start_time": "2023-02-15T06:19:14.905Z"
   },
   {
    "duration": 1212,
    "start_time": "2023-02-15T06:22:19.346Z"
   },
   {
    "duration": 6,
    "start_time": "2023-02-15T06:22:41.540Z"
   },
   {
    "duration": 422,
    "start_time": "2023-02-15T06:23:12.738Z"
   },
   {
    "duration": 5,
    "start_time": "2023-02-15T06:23:24.458Z"
   },
   {
    "duration": 311,
    "start_time": "2023-02-15T06:23:25.983Z"
   },
   {
    "duration": 8,
    "start_time": "2023-02-15T06:23:34.786Z"
   },
   {
    "duration": 325,
    "start_time": "2023-02-15T06:23:36.354Z"
   },
   {
    "duration": 289,
    "start_time": "2023-02-15T06:23:57.331Z"
   },
   {
    "duration": 341,
    "start_time": "2023-02-15T06:24:42.638Z"
   },
   {
    "duration": 383,
    "start_time": "2023-02-15T06:24:47.867Z"
   },
   {
    "duration": 303,
    "start_time": "2023-02-15T06:24:51.090Z"
   },
   {
    "duration": 352,
    "start_time": "2023-02-15T06:25:02.976Z"
   },
   {
    "duration": 478,
    "start_time": "2023-02-15T06:25:06.718Z"
   },
   {
    "duration": 292,
    "start_time": "2023-02-15T06:25:12.051Z"
   },
   {
    "duration": 345,
    "start_time": "2023-02-15T06:25:14.779Z"
   },
   {
    "duration": 393,
    "start_time": "2023-02-15T06:25:22.099Z"
   },
   {
    "duration": 313,
    "start_time": "2023-02-15T06:25:26.283Z"
   },
   {
    "duration": 323,
    "start_time": "2023-02-15T06:25:30.525Z"
   },
   {
    "duration": 381,
    "start_time": "2023-02-15T06:26:08.684Z"
   },
   {
    "duration": 473,
    "start_time": "2023-02-15T06:26:24.821Z"
   },
   {
    "duration": 5,
    "start_time": "2023-02-15T06:43:00.464Z"
   },
   {
    "duration": 4,
    "start_time": "2023-02-15T06:43:14.977Z"
   },
   {
    "duration": 356,
    "start_time": "2023-02-15T06:43:31.977Z"
   },
   {
    "duration": 330,
    "start_time": "2023-02-15T06:43:40.627Z"
   },
   {
    "duration": 1456,
    "start_time": "2023-02-15T06:44:12.024Z"
   },
   {
    "duration": 48,
    "start_time": "2023-02-15T06:44:13.482Z"
   },
   {
    "duration": 6,
    "start_time": "2023-02-15T06:44:13.532Z"
   },
   {
    "duration": 237,
    "start_time": "2023-02-15T06:44:13.540Z"
   },
   {
    "duration": 13,
    "start_time": "2023-02-15T06:44:13.779Z"
   },
   {
    "duration": 482,
    "start_time": "2023-02-15T06:44:13.794Z"
   },
   {
    "duration": 2,
    "start_time": "2023-02-15T06:44:14.278Z"
   },
   {
    "duration": 133,
    "start_time": "2023-02-15T06:44:14.282Z"
   },
   {
    "duration": 0,
    "start_time": "2023-02-15T06:44:14.418Z"
   },
   {
    "duration": 0,
    "start_time": "2023-02-15T06:44:14.419Z"
   },
   {
    "duration": 0,
    "start_time": "2023-02-15T06:44:14.420Z"
   },
   {
    "duration": 0,
    "start_time": "2023-02-15T06:44:14.421Z"
   },
   {
    "duration": 0,
    "start_time": "2023-02-15T06:44:14.423Z"
   },
   {
    "duration": 5,
    "start_time": "2023-02-15T06:44:28.036Z"
   },
   {
    "duration": 4,
    "start_time": "2023-02-15T06:44:47.764Z"
   },
   {
    "duration": 5,
    "start_time": "2023-02-15T06:45:14.013Z"
   },
   {
    "duration": 56,
    "start_time": "2023-02-15T06:46:55.807Z"
   },
   {
    "duration": 50,
    "start_time": "2023-02-15T06:47:00.336Z"
   },
   {
    "duration": 44,
    "start_time": "2023-02-15T06:47:34.048Z"
   },
   {
    "duration": 56,
    "start_time": "2023-02-15T06:47:40.153Z"
   },
   {
    "duration": 58,
    "start_time": "2023-02-15T06:47:52.027Z"
   },
   {
    "duration": 44,
    "start_time": "2023-02-15T06:48:00.049Z"
   },
   {
    "duration": 65,
    "start_time": "2023-02-15T06:48:12.068Z"
   },
   {
    "duration": 56,
    "start_time": "2023-02-15T06:48:14.401Z"
   },
   {
    "duration": 53,
    "start_time": "2023-02-15T06:48:16.236Z"
   },
   {
    "duration": 50,
    "start_time": "2023-02-15T06:49:19.851Z"
   },
   {
    "duration": 49,
    "start_time": "2023-02-15T06:49:52.320Z"
   },
   {
    "duration": 6,
    "start_time": "2023-02-15T06:52:09.390Z"
   },
   {
    "duration": 11,
    "start_time": "2023-02-15T06:52:16.039Z"
   },
   {
    "duration": 15,
    "start_time": "2023-02-15T06:52:27.006Z"
   },
   {
    "duration": 241,
    "start_time": "2023-02-15T06:53:26.633Z"
   },
   {
    "duration": 198,
    "start_time": "2023-02-15T06:53:38.321Z"
   },
   {
    "duration": 274,
    "start_time": "2023-02-15T06:53:44.017Z"
   },
   {
    "duration": 192,
    "start_time": "2023-02-15T06:54:09.650Z"
   },
   {
    "duration": 248,
    "start_time": "2023-02-15T06:54:31.124Z"
   },
   {
    "duration": 245,
    "start_time": "2023-02-15T06:54:42.536Z"
   },
   {
    "duration": 23,
    "start_time": "2023-02-15T06:54:53.753Z"
   },
   {
    "duration": 2746,
    "start_time": "2023-02-15T06:55:02.095Z"
   },
   {
    "duration": 105,
    "start_time": "2023-02-15T06:55:04.844Z"
   },
   {
    "duration": 79,
    "start_time": "2023-02-15T06:55:04.952Z"
   },
   {
    "duration": 5,
    "start_time": "2023-02-15T06:55:05.034Z"
   },
   {
    "duration": 262,
    "start_time": "2023-02-15T06:55:05.041Z"
   },
   {
    "duration": 26,
    "start_time": "2023-02-15T06:55:05.319Z"
   },
   {
    "duration": 549,
    "start_time": "2023-02-15T06:55:05.347Z"
   },
   {
    "duration": 5,
    "start_time": "2023-02-15T06:55:05.898Z"
   },
   {
    "duration": 158,
    "start_time": "2023-02-15T06:55:05.905Z"
   },
   {
    "duration": 0,
    "start_time": "2023-02-15T06:55:06.066Z"
   },
   {
    "duration": 0,
    "start_time": "2023-02-15T06:55:06.067Z"
   },
   {
    "duration": 0,
    "start_time": "2023-02-15T06:55:06.068Z"
   },
   {
    "duration": 0,
    "start_time": "2023-02-15T06:55:06.069Z"
   },
   {
    "duration": 0,
    "start_time": "2023-02-15T06:55:06.070Z"
   },
   {
    "duration": 17,
    "start_time": "2023-02-15T06:55:31.636Z"
   },
   {
    "duration": 85,
    "start_time": "2023-02-15T06:59:44.805Z"
   },
   {
    "duration": 50,
    "start_time": "2023-02-15T06:59:53.734Z"
   },
   {
    "duration": 63,
    "start_time": "2023-02-15T06:59:57.701Z"
   },
   {
    "duration": 376,
    "start_time": "2023-02-15T07:00:30.295Z"
   },
   {
    "duration": 388,
    "start_time": "2023-02-15T07:00:42.040Z"
   },
   {
    "duration": 4,
    "start_time": "2023-02-15T07:10:38.368Z"
   },
   {
    "duration": 13,
    "start_time": "2023-02-15T07:11:09.960Z"
   },
   {
    "duration": 34,
    "start_time": "2023-02-15T07:20:52.959Z"
   },
   {
    "duration": 127,
    "start_time": "2023-02-15T07:20:53.235Z"
   },
   {
    "duration": 168,
    "start_time": "2023-02-15T07:21:09.327Z"
   },
   {
    "duration": 2559,
    "start_time": "2023-02-15T07:21:16.360Z"
   },
   {
    "duration": 100,
    "start_time": "2023-02-15T07:21:18.922Z"
   },
   {
    "duration": 92,
    "start_time": "2023-02-15T07:21:19.024Z"
   },
   {
    "duration": 12,
    "start_time": "2023-02-15T07:21:19.119Z"
   },
   {
    "duration": 330,
    "start_time": "2023-02-15T07:21:19.133Z"
   },
   {
    "duration": 15,
    "start_time": "2023-02-15T07:21:19.465Z"
   },
   {
    "duration": 487,
    "start_time": "2023-02-15T07:21:19.481Z"
   },
   {
    "duration": 133,
    "start_time": "2023-02-15T07:21:19.970Z"
   },
   {
    "duration": 0,
    "start_time": "2023-02-15T07:21:20.105Z"
   },
   {
    "duration": 0,
    "start_time": "2023-02-15T07:21:20.106Z"
   },
   {
    "duration": 0,
    "start_time": "2023-02-15T07:21:20.108Z"
   },
   {
    "duration": 0,
    "start_time": "2023-02-15T07:21:20.109Z"
   },
   {
    "duration": 0,
    "start_time": "2023-02-15T07:21:20.111Z"
   },
   {
    "duration": 0,
    "start_time": "2023-02-15T07:21:20.112Z"
   },
   {
    "duration": 0,
    "start_time": "2023-02-15T07:21:20.113Z"
   },
   {
    "duration": 348,
    "start_time": "2023-02-15T07:21:41.142Z"
   },
   {
    "duration": 32,
    "start_time": "2023-02-15T07:21:45.783Z"
   },
   {
    "duration": 137,
    "start_time": "2023-02-15T07:21:46.152Z"
   },
   {
    "duration": 8,
    "start_time": "2023-02-15T07:23:57.739Z"
   },
   {
    "duration": 246,
    "start_time": "2023-02-15T07:23:58.369Z"
   },
   {
    "duration": 208,
    "start_time": "2023-02-15T07:25:23.786Z"
   },
   {
    "duration": 139,
    "start_time": "2023-02-15T07:25:33.739Z"
   },
   {
    "duration": 205,
    "start_time": "2023-02-15T07:25:58.193Z"
   },
   {
    "duration": 199,
    "start_time": "2023-02-15T07:26:02.880Z"
   },
   {
    "duration": 280,
    "start_time": "2023-02-15T07:26:07.389Z"
   },
   {
    "duration": 173,
    "start_time": "2023-02-15T07:26:13.137Z"
   },
   {
    "duration": 272,
    "start_time": "2023-02-15T07:31:07.198Z"
   },
   {
    "duration": 349,
    "start_time": "2023-02-15T07:31:18.215Z"
   },
   {
    "duration": 212,
    "start_time": "2023-02-15T07:31:22.735Z"
   },
   {
    "duration": 172,
    "start_time": "2023-02-15T07:31:26.257Z"
   },
   {
    "duration": 206,
    "start_time": "2023-02-15T07:32:39.190Z"
   },
   {
    "duration": 171,
    "start_time": "2023-02-15T07:32:44.006Z"
   },
   {
    "duration": 19,
    "start_time": "2023-02-15T07:32:51.070Z"
   },
   {
    "duration": 192,
    "start_time": "2023-02-15T07:32:54.607Z"
   },
   {
    "duration": 149,
    "start_time": "2023-02-15T07:32:58.782Z"
   },
   {
    "duration": 227,
    "start_time": "2023-02-15T07:33:02.678Z"
   },
   {
    "duration": 186,
    "start_time": "2023-02-15T07:33:07.733Z"
   },
   {
    "duration": 256,
    "start_time": "2023-02-15T07:33:12.391Z"
   },
   {
    "duration": 172,
    "start_time": "2023-02-15T07:33:56.638Z"
   },
   {
    "duration": 23,
    "start_time": "2023-02-15T07:35:05.866Z"
   },
   {
    "duration": 45494,
    "start_time": "2023-02-15T07:35:48.244Z"
   },
   {
    "duration": 1263,
    "start_time": "2023-02-15T07:36:50.679Z"
   },
   {
    "duration": 208,
    "start_time": "2023-02-15T07:37:05.130Z"
   },
   {
    "duration": 868,
    "start_time": "2023-02-15T07:37:12.673Z"
   },
   {
    "duration": 42,
    "start_time": "2023-02-15T07:37:32.520Z"
   },
   {
    "duration": 767,
    "start_time": "2023-02-15T07:37:37.876Z"
   },
   {
    "duration": 772,
    "start_time": "2023-02-15T07:38:16.894Z"
   },
   {
    "duration": 12,
    "start_time": "2023-02-15T07:54:36.736Z"
   },
   {
    "duration": 971,
    "start_time": "2023-02-15T07:54:40.694Z"
   },
   {
    "duration": 339,
    "start_time": "2023-02-15T08:53:23.255Z"
   },
   {
    "duration": 179,
    "start_time": "2023-02-15T08:54:07.606Z"
   },
   {
    "duration": 204,
    "start_time": "2023-02-15T08:54:32.089Z"
   },
   {
    "duration": 189,
    "start_time": "2023-02-15T08:59:00.697Z"
   },
   {
    "duration": 190,
    "start_time": "2023-02-15T08:59:35.480Z"
   },
   {
    "duration": 1435,
    "start_time": "2023-02-15T09:00:30.234Z"
   },
   {
    "duration": 162,
    "start_time": "2023-02-15T09:00:44.334Z"
   },
   {
    "duration": 175,
    "start_time": "2023-02-15T09:00:51.948Z"
   },
   {
    "duration": 175,
    "start_time": "2023-02-15T09:00:57.395Z"
   },
   {
    "duration": 175,
    "start_time": "2023-02-15T09:01:06.153Z"
   },
   {
    "duration": 491,
    "start_time": "2023-02-15T09:06:03.700Z"
   },
   {
    "duration": 429,
    "start_time": "2023-02-15T09:06:10.556Z"
   },
   {
    "duration": 363,
    "start_time": "2023-02-15T09:06:24.604Z"
   },
   {
    "duration": 472,
    "start_time": "2023-02-15T09:06:36.982Z"
   },
   {
    "duration": 362,
    "start_time": "2023-02-15T09:06:50.301Z"
   },
   {
    "duration": 395,
    "start_time": "2023-02-15T09:07:04.844Z"
   },
   {
    "duration": 328,
    "start_time": "2023-02-15T09:07:10.652Z"
   },
   {
    "duration": 358,
    "start_time": "2023-02-15T09:07:18.005Z"
   },
   {
    "duration": 460,
    "start_time": "2023-02-15T09:07:25.976Z"
   },
   {
    "duration": 378,
    "start_time": "2023-02-15T09:07:34.223Z"
   },
   {
    "duration": 276,
    "start_time": "2023-02-15T09:26:48.899Z"
   },
   {
    "duration": 265,
    "start_time": "2023-02-15T09:26:59.107Z"
   },
   {
    "duration": 253,
    "start_time": "2023-02-15T09:27:05.891Z"
   },
   {
    "duration": 299,
    "start_time": "2023-02-15T09:27:27.776Z"
   },
   {
    "duration": 271,
    "start_time": "2023-02-15T09:27:33.870Z"
   },
   {
    "duration": 223,
    "start_time": "2023-02-15T09:27:40.762Z"
   },
   {
    "duration": 321,
    "start_time": "2023-02-15T09:27:49.077Z"
   },
   {
    "duration": 201,
    "start_time": "2023-02-15T09:27:58.283Z"
   },
   {
    "duration": 230,
    "start_time": "2023-02-15T09:28:15.244Z"
   },
   {
    "duration": 173,
    "start_time": "2023-02-15T09:28:15.847Z"
   },
   {
    "duration": 203,
    "start_time": "2023-02-15T12:23:46.625Z"
   },
   {
    "duration": 149,
    "start_time": "2023-02-15T12:24:32.035Z"
   },
   {
    "duration": 159,
    "start_time": "2023-02-15T12:25:16.453Z"
   },
   {
    "duration": 154,
    "start_time": "2023-02-15T12:25:25.214Z"
   },
   {
    "duration": 167,
    "start_time": "2023-02-15T12:25:31.098Z"
   },
   {
    "duration": 601,
    "start_time": "2023-02-15T12:25:37.647Z"
   },
   {
    "duration": 159,
    "start_time": "2023-02-15T12:25:44.954Z"
   },
   {
    "duration": 143,
    "start_time": "2023-02-15T12:25:58.989Z"
   },
   {
    "duration": 155,
    "start_time": "2023-02-15T12:26:22.211Z"
   },
   {
    "duration": 161,
    "start_time": "2023-02-15T12:26:31.124Z"
   },
   {
    "duration": 9,
    "start_time": "2023-02-16T06:32:09.228Z"
   },
   {
    "duration": 7,
    "start_time": "2023-02-16T06:32:13.575Z"
   },
   {
    "duration": 42,
    "start_time": "2023-02-16T06:35:39.840Z"
   },
   {
    "duration": 329,
    "start_time": "2023-02-16T06:44:19.567Z"
   },
   {
    "duration": 421,
    "start_time": "2023-02-16T06:44:48.738Z"
   },
   {
    "duration": 331,
    "start_time": "2023-02-16T06:44:52.327Z"
   },
   {
    "duration": 360,
    "start_time": "2023-02-16T06:44:58.039Z"
   },
   {
    "duration": 1423,
    "start_time": "2023-02-16T06:49:49.562Z"
   },
   {
    "duration": 42,
    "start_time": "2023-02-16T06:49:50.987Z"
   },
   {
    "duration": 27,
    "start_time": "2023-02-16T06:49:51.031Z"
   },
   {
    "duration": 5,
    "start_time": "2023-02-16T06:49:51.060Z"
   },
   {
    "duration": 233,
    "start_time": "2023-02-16T06:49:51.068Z"
   },
   {
    "duration": 15,
    "start_time": "2023-02-16T06:49:51.303Z"
   },
   {
    "duration": 472,
    "start_time": "2023-02-16T06:49:51.320Z"
   },
   {
    "duration": 171,
    "start_time": "2023-02-16T06:49:51.794Z"
   },
   {
    "duration": 0,
    "start_time": "2023-02-16T06:49:51.967Z"
   },
   {
    "duration": 0,
    "start_time": "2023-02-16T06:49:51.968Z"
   },
   {
    "duration": 0,
    "start_time": "2023-02-16T06:49:51.969Z"
   },
   {
    "duration": 0,
    "start_time": "2023-02-16T06:49:51.970Z"
   },
   {
    "duration": 0,
    "start_time": "2023-02-16T06:49:51.984Z"
   },
   {
    "duration": 0,
    "start_time": "2023-02-16T06:49:51.985Z"
   },
   {
    "duration": 0,
    "start_time": "2023-02-16T06:49:51.986Z"
   },
   {
    "duration": 0,
    "start_time": "2023-02-16T06:49:51.987Z"
   },
   {
    "duration": 1,
    "start_time": "2023-02-16T06:49:51.987Z"
   },
   {
    "duration": 1,
    "start_time": "2023-02-16T06:49:51.988Z"
   },
   {
    "duration": 0,
    "start_time": "2023-02-16T06:49:51.990Z"
   },
   {
    "duration": 0,
    "start_time": "2023-02-16T06:49:51.990Z"
   },
   {
    "duration": 0,
    "start_time": "2023-02-16T06:49:51.991Z"
   },
   {
    "duration": 0,
    "start_time": "2023-02-16T06:49:51.992Z"
   },
   {
    "duration": 0,
    "start_time": "2023-02-16T06:49:51.993Z"
   },
   {
    "duration": 0,
    "start_time": "2023-02-16T06:49:51.994Z"
   },
   {
    "duration": 3,
    "start_time": "2023-02-16T06:50:19.117Z"
   },
   {
    "duration": 364,
    "start_time": "2023-02-16T06:50:25.063Z"
   },
   {
    "duration": 1423,
    "start_time": "2023-02-16T06:50:33.363Z"
   },
   {
    "duration": 41,
    "start_time": "2023-02-16T06:50:34.788Z"
   },
   {
    "duration": 25,
    "start_time": "2023-02-16T06:50:34.830Z"
   },
   {
    "duration": 6,
    "start_time": "2023-02-16T06:50:34.856Z"
   },
   {
    "duration": 224,
    "start_time": "2023-02-16T06:50:34.864Z"
   },
   {
    "duration": 13,
    "start_time": "2023-02-16T06:50:35.090Z"
   },
   {
    "duration": 3,
    "start_time": "2023-02-16T06:50:35.105Z"
   },
   {
    "duration": 467,
    "start_time": "2023-02-16T06:50:35.109Z"
   },
   {
    "duration": 6,
    "start_time": "2023-02-16T06:50:35.578Z"
   },
   {
    "duration": 173,
    "start_time": "2023-02-16T06:50:35.587Z"
   },
   {
    "duration": 164,
    "start_time": "2023-02-16T06:50:35.762Z"
   },
   {
    "duration": 174,
    "start_time": "2023-02-16T06:50:35.927Z"
   },
   {
    "duration": 187,
    "start_time": "2023-02-16T06:50:36.103Z"
   },
   {
    "duration": 170,
    "start_time": "2023-02-16T06:50:36.292Z"
   },
   {
    "duration": 157,
    "start_time": "2023-02-16T06:50:36.464Z"
   },
   {
    "duration": 761,
    "start_time": "2023-02-16T06:50:36.623Z"
   },
   {
    "duration": 12,
    "start_time": "2023-02-16T06:50:37.385Z"
   },
   {
    "duration": 7,
    "start_time": "2023-02-16T06:50:37.398Z"
   },
   {
    "duration": 10,
    "start_time": "2023-02-16T06:50:37.406Z"
   },
   {
    "duration": 10,
    "start_time": "2023-02-16T06:50:37.417Z"
   },
   {
    "duration": 8,
    "start_time": "2023-02-16T06:50:37.429Z"
   },
   {
    "duration": 5,
    "start_time": "2023-02-16T06:50:37.439Z"
   },
   {
    "duration": 6,
    "start_time": "2023-02-16T06:50:37.445Z"
   },
   {
    "duration": 5,
    "start_time": "2023-02-16T06:50:37.452Z"
   },
   {
    "duration": 3,
    "start_time": "2023-02-16T06:53:13.768Z"
   },
   {
    "duration": 422,
    "start_time": "2023-02-16T06:53:14.358Z"
   },
   {
    "duration": 331,
    "start_time": "2023-02-16T06:53:33.999Z"
   },
   {
    "duration": 189,
    "start_time": "2023-02-16T06:56:42.385Z"
   },
   {
    "duration": 362,
    "start_time": "2023-02-16T06:57:34.305Z"
   },
   {
    "duration": 4,
    "start_time": "2023-02-16T06:58:02.960Z"
   },
   {
    "duration": 410,
    "start_time": "2023-02-16T06:58:03.471Z"
   },
   {
    "duration": 8,
    "start_time": "2023-02-16T06:58:05.320Z"
   },
   {
    "duration": 182,
    "start_time": "2023-02-16T06:58:05.641Z"
   },
   {
    "duration": 4,
    "start_time": "2023-02-16T06:58:11.360Z"
   },
   {
    "duration": 360,
    "start_time": "2023-02-16T06:58:11.830Z"
   },
   {
    "duration": 7,
    "start_time": "2023-02-16T06:58:13.090Z"
   },
   {
    "duration": 177,
    "start_time": "2023-02-16T06:58:13.479Z"
   },
   {
    "duration": 4,
    "start_time": "2023-02-16T07:30:36.271Z"
   },
   {
    "duration": 325,
    "start_time": "2023-02-16T07:30:44.156Z"
   },
   {
    "duration": 250,
    "start_time": "2023-02-16T07:30:59.494Z"
   },
   {
    "duration": 177,
    "start_time": "2023-02-16T07:30:59.834Z"
   },
   {
    "duration": 178,
    "start_time": "2023-02-16T07:31:00.098Z"
   },
   {
    "duration": 256,
    "start_time": "2023-02-16T07:31:00.498Z"
   },
   {
    "duration": 1435,
    "start_time": "2023-02-16T07:34:27.843Z"
   },
   {
    "duration": 42,
    "start_time": "2023-02-16T07:34:29.280Z"
   },
   {
    "duration": 25,
    "start_time": "2023-02-16T07:34:29.324Z"
   },
   {
    "duration": 17,
    "start_time": "2023-02-16T07:34:29.351Z"
   },
   {
    "duration": 227,
    "start_time": "2023-02-16T07:34:29.369Z"
   },
   {
    "duration": 15,
    "start_time": "2023-02-16T07:34:29.598Z"
   },
   {
    "duration": 3,
    "start_time": "2023-02-16T07:34:29.615Z"
   },
   {
    "duration": 464,
    "start_time": "2023-02-16T07:34:29.620Z"
   },
   {
    "duration": 6,
    "start_time": "2023-02-16T07:34:30.086Z"
   },
   {
    "duration": 278,
    "start_time": "2023-02-16T07:34:30.095Z"
   },
   {
    "duration": 195,
    "start_time": "2023-02-16T07:34:30.375Z"
   },
   {
    "duration": 193,
    "start_time": "2023-02-16T07:34:30.572Z"
   },
   {
    "duration": 278,
    "start_time": "2023-02-16T07:34:30.767Z"
   },
   {
    "duration": 3,
    "start_time": "2023-02-16T07:34:31.047Z"
   },
   {
    "duration": 52,
    "start_time": "2023-02-16T07:34:31.052Z"
   },
   {
    "duration": 25,
    "start_time": "2023-02-16T07:34:31.106Z"
   },
   {
    "duration": 44,
    "start_time": "2023-02-16T07:34:31.132Z"
   },
   {
    "duration": 32,
    "start_time": "2023-02-16T07:34:31.178Z"
   },
   {
    "duration": 1498,
    "start_time": "2023-02-16T07:37:08.268Z"
   },
   {
    "duration": 41,
    "start_time": "2023-02-16T07:37:09.768Z"
   },
   {
    "duration": 25,
    "start_time": "2023-02-16T07:37:09.810Z"
   },
   {
    "duration": 6,
    "start_time": "2023-02-16T07:37:09.837Z"
   },
   {
    "duration": 229,
    "start_time": "2023-02-16T07:37:09.844Z"
   },
   {
    "duration": 20,
    "start_time": "2023-02-16T07:37:10.075Z"
   },
   {
    "duration": 11,
    "start_time": "2023-02-16T07:37:10.097Z"
   },
   {
    "duration": 431,
    "start_time": "2023-02-16T07:37:10.109Z"
   },
   {
    "duration": 7,
    "start_time": "2023-02-16T07:37:10.542Z"
   },
   {
    "duration": 258,
    "start_time": "2023-02-16T07:37:10.552Z"
   },
   {
    "duration": 190,
    "start_time": "2023-02-16T07:37:10.812Z"
   },
   {
    "duration": 196,
    "start_time": "2023-02-16T07:37:11.004Z"
   },
   {
    "duration": 273,
    "start_time": "2023-02-16T07:37:11.202Z"
   },
   {
    "duration": 9,
    "start_time": "2023-02-16T07:37:11.477Z"
   },
   {
    "duration": 13,
    "start_time": "2023-02-16T07:37:11.488Z"
   },
   {
    "duration": 10,
    "start_time": "2023-02-16T07:37:11.502Z"
   },
   {
    "duration": 8,
    "start_time": "2023-02-16T07:37:11.514Z"
   },
   {
    "duration": 6,
    "start_time": "2023-02-16T07:37:11.524Z"
   },
   {
    "duration": 4,
    "start_time": "2023-02-16T07:46:13.864Z"
   },
   {
    "duration": 11,
    "start_time": "2023-02-16T07:46:20.544Z"
   },
   {
    "duration": 4,
    "start_time": "2023-02-16T07:47:11.554Z"
   },
   {
    "duration": 4,
    "start_time": "2023-02-16T07:47:13.289Z"
   },
   {
    "duration": 10,
    "start_time": "2023-02-16T07:47:13.680Z"
   },
   {
    "duration": 130,
    "start_time": "2023-02-16T07:47:57.966Z"
   },
   {
    "duration": 10,
    "start_time": "2023-02-16T07:48:11.953Z"
   },
   {
    "duration": 1417,
    "start_time": "2023-02-16T07:48:19.567Z"
   },
   {
    "duration": 43,
    "start_time": "2023-02-16T07:48:20.986Z"
   },
   {
    "duration": 25,
    "start_time": "2023-02-16T07:48:21.031Z"
   },
   {
    "duration": 6,
    "start_time": "2023-02-16T07:48:21.057Z"
   },
   {
    "duration": 231,
    "start_time": "2023-02-16T07:48:21.066Z"
   },
   {
    "duration": 15,
    "start_time": "2023-02-16T07:48:21.299Z"
   },
   {
    "duration": 25,
    "start_time": "2023-02-16T07:48:21.316Z"
   },
   {
    "duration": 441,
    "start_time": "2023-02-16T07:48:21.343Z"
   },
   {
    "duration": 8,
    "start_time": "2023-02-16T07:48:21.786Z"
   },
   {
    "duration": 290,
    "start_time": "2023-02-16T07:48:21.796Z"
   },
   {
    "duration": 189,
    "start_time": "2023-02-16T07:48:22.088Z"
   },
   {
    "duration": 190,
    "start_time": "2023-02-16T07:48:22.279Z"
   },
   {
    "duration": 269,
    "start_time": "2023-02-16T07:48:22.470Z"
   },
   {
    "duration": 4,
    "start_time": "2023-02-16T07:48:22.742Z"
   },
   {
    "duration": 7,
    "start_time": "2023-02-16T07:48:22.747Z"
   },
   {
    "duration": 16,
    "start_time": "2023-02-16T07:48:22.756Z"
   },
   {
    "duration": 15,
    "start_time": "2023-02-16T07:48:22.773Z"
   },
   {
    "duration": 7,
    "start_time": "2023-02-16T07:48:22.789Z"
   },
   {
    "duration": 9,
    "start_time": "2023-02-16T07:48:22.797Z"
   },
   {
    "duration": 8,
    "start_time": "2023-02-16T07:48:22.808Z"
   },
   {
    "duration": 18,
    "start_time": "2023-02-16T07:48:50.387Z"
   },
   {
    "duration": 802,
    "start_time": "2023-02-16T07:48:56.606Z"
   },
   {
    "duration": 4,
    "start_time": "2023-02-16T07:49:04.067Z"
   },
   {
    "duration": 11,
    "start_time": "2023-02-16T07:49:04.314Z"
   },
   {
    "duration": 2,
    "start_time": "2023-02-16T07:49:04.853Z"
   },
   {
    "duration": 721,
    "start_time": "2023-02-16T07:49:05.391Z"
   },
   {
    "duration": 9,
    "start_time": "2023-02-16T07:49:11.571Z"
   },
   {
    "duration": 4,
    "start_time": "2023-02-16T07:49:11.801Z"
   },
   {
    "duration": 683,
    "start_time": "2023-02-16T07:49:12.062Z"
   },
   {
    "duration": 4,
    "start_time": "2023-02-16T07:49:24.293Z"
   },
   {
    "duration": 5,
    "start_time": "2023-02-16T07:49:54.273Z"
   },
   {
    "duration": 7,
    "start_time": "2023-02-16T07:50:36.272Z"
   },
   {
    "duration": 710,
    "start_time": "2023-02-16T07:50:41.963Z"
   },
   {
    "duration": 14,
    "start_time": "2023-02-16T07:50:54.575Z"
   },
   {
    "duration": 3,
    "start_time": "2023-02-16T07:51:17.569Z"
   },
   {
    "duration": 13,
    "start_time": "2023-02-16T07:51:25.370Z"
   },
   {
    "duration": 1489,
    "start_time": "2023-02-16T07:51:32.095Z"
   },
   {
    "duration": 44,
    "start_time": "2023-02-16T07:51:33.586Z"
   },
   {
    "duration": 27,
    "start_time": "2023-02-16T07:51:33.631Z"
   },
   {
    "duration": 4,
    "start_time": "2023-02-16T07:51:33.660Z"
   },
   {
    "duration": 211,
    "start_time": "2023-02-16T07:51:33.666Z"
   },
   {
    "duration": 14,
    "start_time": "2023-02-16T07:51:33.883Z"
   },
   {
    "duration": 4,
    "start_time": "2023-02-16T07:51:33.899Z"
   },
   {
    "duration": 468,
    "start_time": "2023-02-16T07:51:33.904Z"
   },
   {
    "duration": 6,
    "start_time": "2023-02-16T07:51:34.374Z"
   },
   {
    "duration": 277,
    "start_time": "2023-02-16T07:51:34.382Z"
   },
   {
    "duration": 199,
    "start_time": "2023-02-16T07:51:34.661Z"
   },
   {
    "duration": 186,
    "start_time": "2023-02-16T07:51:34.862Z"
   },
   {
    "duration": 259,
    "start_time": "2023-02-16T07:51:35.050Z"
   },
   {
    "duration": 4,
    "start_time": "2023-02-16T07:51:35.312Z"
   },
   {
    "duration": 9,
    "start_time": "2023-02-16T07:51:35.318Z"
   },
   {
    "duration": 23,
    "start_time": "2023-02-16T07:51:35.329Z"
   },
   {
    "duration": 5,
    "start_time": "2023-02-16T07:51:35.353Z"
   },
   {
    "duration": 14,
    "start_time": "2023-02-16T07:51:35.360Z"
   },
   {
    "duration": 140,
    "start_time": "2023-02-16T07:51:35.375Z"
   },
   {
    "duration": 0,
    "start_time": "2023-02-16T07:51:35.517Z"
   },
   {
    "duration": 16,
    "start_time": "2023-02-16T07:51:43.280Z"
   },
   {
    "duration": 1487,
    "start_time": "2023-02-16T07:59:20.738Z"
   },
   {
    "duration": 75,
    "start_time": "2023-02-16T07:59:22.227Z"
   },
   {
    "duration": 25,
    "start_time": "2023-02-16T07:59:22.303Z"
   },
   {
    "duration": 60,
    "start_time": "2023-02-16T07:59:22.329Z"
   },
   {
    "duration": 433,
    "start_time": "2023-02-16T07:59:22.392Z"
   },
   {
    "duration": 64,
    "start_time": "2023-02-16T07:59:22.826Z"
   },
   {
    "duration": 4,
    "start_time": "2023-02-16T07:59:22.891Z"
   },
   {
    "duration": 923,
    "start_time": "2023-02-16T07:59:22.897Z"
   },
   {
    "duration": 6,
    "start_time": "2023-02-16T07:59:23.822Z"
   },
   {
    "duration": 367,
    "start_time": "2023-02-16T07:59:23.830Z"
   },
   {
    "duration": 201,
    "start_time": "2023-02-16T07:59:24.199Z"
   },
   {
    "duration": 199,
    "start_time": "2023-02-16T07:59:24.401Z"
   },
   {
    "duration": 259,
    "start_time": "2023-02-16T07:59:24.602Z"
   },
   {
    "duration": 4,
    "start_time": "2023-02-16T07:59:24.863Z"
   },
   {
    "duration": 16,
    "start_time": "2023-02-16T07:59:24.868Z"
   },
   {
    "duration": 20,
    "start_time": "2023-02-16T07:59:24.885Z"
   },
   {
    "duration": 2,
    "start_time": "2023-02-16T07:59:24.907Z"
   },
   {
    "duration": 10,
    "start_time": "2023-02-16T07:59:24.911Z"
   },
   {
    "duration": 136,
    "start_time": "2023-02-16T07:59:24.923Z"
   },
   {
    "duration": 0,
    "start_time": "2023-02-16T07:59:25.061Z"
   },
   {
    "duration": 4,
    "start_time": "2023-02-16T08:13:19.892Z"
   },
   {
    "duration": 49,
    "start_time": "2023-02-16T08:13:35.514Z"
   },
   {
    "duration": 17,
    "start_time": "2023-02-16T08:13:39.696Z"
   },
   {
    "duration": 9,
    "start_time": "2023-02-16T08:13:43.306Z"
   },
   {
    "duration": 4,
    "start_time": "2023-02-16T08:14:08.547Z"
   },
   {
    "duration": 11,
    "start_time": "2023-02-16T08:14:15.634Z"
   },
   {
    "duration": 12,
    "start_time": "2023-02-16T08:14:26.841Z"
   },
   {
    "duration": 11,
    "start_time": "2023-02-16T08:14:43.706Z"
   },
   {
    "duration": 12,
    "start_time": "2023-02-16T08:15:17.211Z"
   },
   {
    "duration": 10,
    "start_time": "2023-02-16T08:15:28.131Z"
   },
   {
    "duration": 14,
    "start_time": "2023-02-16T08:15:47.770Z"
   },
   {
    "duration": 1755,
    "start_time": "2023-02-16T08:15:54.358Z"
   },
   {
    "duration": 87,
    "start_time": "2023-02-16T08:15:56.116Z"
   },
   {
    "duration": 87,
    "start_time": "2023-02-16T08:15:56.205Z"
   },
   {
    "duration": 6,
    "start_time": "2023-02-16T08:15:56.295Z"
   },
   {
    "duration": 426,
    "start_time": "2023-02-16T08:15:56.302Z"
   },
   {
    "duration": 15,
    "start_time": "2023-02-16T08:15:56.785Z"
   },
   {
    "duration": 4,
    "start_time": "2023-02-16T08:15:56.802Z"
   },
   {
    "duration": 720,
    "start_time": "2023-02-16T08:15:56.808Z"
   },
   {
    "duration": 7,
    "start_time": "2023-02-16T08:15:57.529Z"
   },
   {
    "duration": 262,
    "start_time": "2023-02-16T08:15:57.538Z"
   },
   {
    "duration": 193,
    "start_time": "2023-02-16T08:15:57.801Z"
   },
   {
    "duration": 196,
    "start_time": "2023-02-16T08:15:57.995Z"
   },
   {
    "duration": 266,
    "start_time": "2023-02-16T08:15:58.193Z"
   },
   {
    "duration": 5,
    "start_time": "2023-02-16T08:15:58.461Z"
   },
   {
    "duration": 17,
    "start_time": "2023-02-16T08:15:58.467Z"
   },
   {
    "duration": 18,
    "start_time": "2023-02-16T08:15:58.486Z"
   },
   {
    "duration": 3,
    "start_time": "2023-02-16T08:15:58.505Z"
   },
   {
    "duration": 17,
    "start_time": "2023-02-16T08:15:58.510Z"
   },
   {
    "duration": 4,
    "start_time": "2023-02-16T08:15:58.530Z"
   },
   {
    "duration": 12,
    "start_time": "2023-02-16T08:16:09.299Z"
   },
   {
    "duration": 2087,
    "start_time": "2023-02-16T08:16:14.702Z"
   },
   {
    "duration": 55,
    "start_time": "2023-02-16T08:16:16.791Z"
   },
   {
    "duration": 61,
    "start_time": "2023-02-16T08:16:16.847Z"
   },
   {
    "duration": 5,
    "start_time": "2023-02-16T08:16:16.910Z"
   },
   {
    "duration": 468,
    "start_time": "2023-02-16T08:16:16.917Z"
   },
   {
    "duration": 16,
    "start_time": "2023-02-16T08:16:17.387Z"
   },
   {
    "duration": 4,
    "start_time": "2023-02-16T08:16:17.404Z"
   },
   {
    "duration": 462,
    "start_time": "2023-02-16T08:16:17.410Z"
   },
   {
    "duration": 8,
    "start_time": "2023-02-16T08:16:17.874Z"
   },
   {
    "duration": 263,
    "start_time": "2023-02-16T08:16:17.884Z"
   },
   {
    "duration": 199,
    "start_time": "2023-02-16T08:16:18.148Z"
   },
   {
    "duration": 205,
    "start_time": "2023-02-16T08:16:18.349Z"
   },
   {
    "duration": 268,
    "start_time": "2023-02-16T08:16:18.555Z"
   },
   {
    "duration": 4,
    "start_time": "2023-02-16T08:16:18.824Z"
   },
   {
    "duration": 8,
    "start_time": "2023-02-16T08:16:18.830Z"
   },
   {
    "duration": 17,
    "start_time": "2023-02-16T08:16:18.839Z"
   },
   {
    "duration": 4,
    "start_time": "2023-02-16T08:16:18.858Z"
   },
   {
    "duration": 28,
    "start_time": "2023-02-16T08:16:18.864Z"
   },
   {
    "duration": 4,
    "start_time": "2023-02-16T08:16:18.893Z"
   },
   {
    "duration": 14,
    "start_time": "2023-02-16T08:16:32.477Z"
   },
   {
    "duration": 2079,
    "start_time": "2023-02-16T08:16:38.423Z"
   },
   {
    "duration": 86,
    "start_time": "2023-02-16T08:16:40.504Z"
   },
   {
    "duration": 27,
    "start_time": "2023-02-16T08:16:40.591Z"
   },
   {
    "duration": 5,
    "start_time": "2023-02-16T08:16:40.620Z"
   },
   {
    "duration": 389,
    "start_time": "2023-02-16T08:16:40.627Z"
   },
   {
    "duration": 14,
    "start_time": "2023-02-16T08:16:41.017Z"
   },
   {
    "duration": 5,
    "start_time": "2023-02-16T08:16:41.032Z"
   },
   {
    "duration": 449,
    "start_time": "2023-02-16T08:16:41.039Z"
   },
   {
    "duration": 8,
    "start_time": "2023-02-16T08:16:41.490Z"
   },
   {
    "duration": 273,
    "start_time": "2023-02-16T08:16:41.501Z"
   },
   {
    "duration": 214,
    "start_time": "2023-02-16T08:16:41.777Z"
   },
   {
    "duration": 191,
    "start_time": "2023-02-16T08:16:41.993Z"
   },
   {
    "duration": 265,
    "start_time": "2023-02-16T08:16:42.185Z"
   },
   {
    "duration": 5,
    "start_time": "2023-02-16T08:16:42.451Z"
   },
   {
    "duration": 15,
    "start_time": "2023-02-16T08:16:42.458Z"
   },
   {
    "duration": 27,
    "start_time": "2023-02-16T08:16:42.475Z"
   },
   {
    "duration": 2,
    "start_time": "2023-02-16T08:16:42.504Z"
   },
   {
    "duration": 16,
    "start_time": "2023-02-16T08:16:42.508Z"
   },
   {
    "duration": 4,
    "start_time": "2023-02-16T08:16:42.526Z"
   },
   {
    "duration": 127,
    "start_time": "2023-02-16T08:16:54.925Z"
   },
   {
    "duration": 15,
    "start_time": "2023-02-16T08:17:02.469Z"
   },
   {
    "duration": 4,
    "start_time": "2023-02-16T08:18:58.663Z"
   },
   {
    "duration": 3,
    "start_time": "2023-02-16T08:19:30.092Z"
   },
   {
    "duration": 11,
    "start_time": "2023-02-16T08:19:30.454Z"
   },
   {
    "duration": 9,
    "start_time": "2023-02-16T08:19:33.126Z"
   },
   {
    "duration": 1433,
    "start_time": "2023-02-16T08:19:42.399Z"
   },
   {
    "duration": 46,
    "start_time": "2023-02-16T08:19:43.834Z"
   },
   {
    "duration": 25,
    "start_time": "2023-02-16T08:19:43.882Z"
   },
   {
    "duration": 5,
    "start_time": "2023-02-16T08:19:43.909Z"
   },
   {
    "duration": 233,
    "start_time": "2023-02-16T08:19:43.916Z"
   },
   {
    "duration": 13,
    "start_time": "2023-02-16T08:19:44.151Z"
   },
   {
    "duration": 6,
    "start_time": "2023-02-16T08:19:44.166Z"
   },
   {
    "duration": 459,
    "start_time": "2023-02-16T08:19:44.185Z"
   },
   {
    "duration": 6,
    "start_time": "2023-02-16T08:19:44.646Z"
   },
   {
    "duration": 264,
    "start_time": "2023-02-16T08:19:44.655Z"
   },
   {
    "duration": 197,
    "start_time": "2023-02-16T08:19:44.922Z"
   },
   {
    "duration": 203,
    "start_time": "2023-02-16T08:19:45.121Z"
   },
   {
    "duration": 265,
    "start_time": "2023-02-16T08:19:45.325Z"
   },
   {
    "duration": 4,
    "start_time": "2023-02-16T08:19:45.592Z"
   },
   {
    "duration": 9,
    "start_time": "2023-02-16T08:19:45.597Z"
   },
   {
    "duration": 23,
    "start_time": "2023-02-16T08:19:45.607Z"
   },
   {
    "duration": 2,
    "start_time": "2023-02-16T08:19:45.632Z"
   },
   {
    "duration": 14,
    "start_time": "2023-02-16T08:19:45.635Z"
   },
   {
    "duration": 8,
    "start_time": "2023-02-16T08:20:06.096Z"
   },
   {
    "duration": 4,
    "start_time": "2023-02-16T08:22:20.394Z"
   },
   {
    "duration": 629,
    "start_time": "2023-02-16T08:24:41.364Z"
   },
   {
    "duration": 576,
    "start_time": "2023-02-16T08:24:51.515Z"
   },
   {
    "duration": 4,
    "start_time": "2023-02-16T08:28:31.831Z"
   },
   {
    "duration": 12,
    "start_time": "2023-02-16T08:28:44.609Z"
   },
   {
    "duration": 1687,
    "start_time": "2023-02-16T08:28:51.736Z"
   },
   {
    "duration": 80,
    "start_time": "2023-02-16T08:28:53.425Z"
   },
   {
    "duration": 79,
    "start_time": "2023-02-16T08:28:53.506Z"
   },
   {
    "duration": 4,
    "start_time": "2023-02-16T08:28:53.588Z"
   },
   {
    "duration": 426,
    "start_time": "2023-02-16T08:28:53.594Z"
   },
   {
    "duration": 70,
    "start_time": "2023-02-16T08:28:54.022Z"
   },
   {
    "duration": 4,
    "start_time": "2023-02-16T08:28:54.094Z"
   },
   {
    "duration": 721,
    "start_time": "2023-02-16T08:28:54.099Z"
   },
   {
    "duration": 7,
    "start_time": "2023-02-16T08:28:54.821Z"
   },
   {
    "duration": 299,
    "start_time": "2023-02-16T08:28:54.831Z"
   },
   {
    "duration": 217,
    "start_time": "2023-02-16T08:28:55.131Z"
   },
   {
    "duration": 194,
    "start_time": "2023-02-16T08:28:55.350Z"
   },
   {
    "duration": 269,
    "start_time": "2023-02-16T08:28:55.547Z"
   },
   {
    "duration": 5,
    "start_time": "2023-02-16T08:28:55.818Z"
   },
   {
    "duration": 7,
    "start_time": "2023-02-16T08:28:55.824Z"
   },
   {
    "duration": 24,
    "start_time": "2023-02-16T08:28:55.833Z"
   },
   {
    "duration": 3,
    "start_time": "2023-02-16T08:28:55.859Z"
   },
   {
    "duration": 27,
    "start_time": "2023-02-16T08:28:55.864Z"
   },
   {
    "duration": 294,
    "start_time": "2023-02-16T08:28:55.893Z"
   },
   {
    "duration": 4,
    "start_time": "2023-02-16T08:29:06.566Z"
   },
   {
    "duration": 8,
    "start_time": "2023-02-16T08:29:06.806Z"
   },
   {
    "duration": 2,
    "start_time": "2023-02-16T08:29:06.974Z"
   },
   {
    "duration": 11,
    "start_time": "2023-02-16T08:29:07.142Z"
   },
   {
    "duration": 288,
    "start_time": "2023-02-16T08:29:07.302Z"
   },
   {
    "duration": 9,
    "start_time": "2023-02-16T08:29:29.752Z"
   },
   {
    "duration": 2,
    "start_time": "2023-02-16T08:29:29.993Z"
   },
   {
    "duration": 12,
    "start_time": "2023-02-16T08:29:30.214Z"
   },
   {
    "duration": 811,
    "start_time": "2023-02-16T08:29:30.474Z"
   },
   {
    "duration": 14,
    "start_time": "2023-02-16T08:29:36.887Z"
   },
   {
    "duration": 2,
    "start_time": "2023-02-16T08:29:37.120Z"
   },
   {
    "duration": 12,
    "start_time": "2023-02-16T08:29:37.295Z"
   },
   {
    "duration": 396,
    "start_time": "2023-02-16T08:29:37.494Z"
   },
   {
    "duration": 28,
    "start_time": "2023-02-16T08:29:42.312Z"
   },
   {
    "duration": 2,
    "start_time": "2023-02-16T08:29:42.526Z"
   },
   {
    "duration": 15,
    "start_time": "2023-02-16T08:29:42.727Z"
   },
   {
    "duration": 887,
    "start_time": "2023-02-16T08:29:42.903Z"
   },
   {
    "duration": 8,
    "start_time": "2023-02-16T08:29:47.232Z"
   },
   {
    "duration": 2,
    "start_time": "2023-02-16T08:29:47.443Z"
   },
   {
    "duration": 11,
    "start_time": "2023-02-16T08:29:47.607Z"
   },
   {
    "duration": 799,
    "start_time": "2023-02-16T08:29:47.791Z"
   },
   {
    "duration": 1452,
    "start_time": "2023-02-16T08:29:53.645Z"
   },
   {
    "duration": 44,
    "start_time": "2023-02-16T08:29:55.099Z"
   },
   {
    "duration": 25,
    "start_time": "2023-02-16T08:29:55.145Z"
   },
   {
    "duration": 5,
    "start_time": "2023-02-16T08:29:55.172Z"
   },
   {
    "duration": 220,
    "start_time": "2023-02-16T08:29:55.178Z"
   },
   {
    "duration": 15,
    "start_time": "2023-02-16T08:29:55.400Z"
   },
   {
    "duration": 8,
    "start_time": "2023-02-16T08:29:55.416Z"
   },
   {
    "duration": 454,
    "start_time": "2023-02-16T08:29:55.426Z"
   },
   {
    "duration": 7,
    "start_time": "2023-02-16T08:29:55.881Z"
   },
   {
    "duration": 282,
    "start_time": "2023-02-16T08:29:55.890Z"
   },
   {
    "duration": 199,
    "start_time": "2023-02-16T08:29:56.174Z"
   },
   {
    "duration": 196,
    "start_time": "2023-02-16T08:29:56.375Z"
   },
   {
    "duration": 266,
    "start_time": "2023-02-16T08:29:56.573Z"
   },
   {
    "duration": 4,
    "start_time": "2023-02-16T08:29:56.840Z"
   },
   {
    "duration": 6,
    "start_time": "2023-02-16T08:29:56.845Z"
   },
   {
    "duration": 19,
    "start_time": "2023-02-16T08:29:56.853Z"
   },
   {
    "duration": 10,
    "start_time": "2023-02-16T08:29:56.874Z"
   },
   {
    "duration": 20,
    "start_time": "2023-02-16T08:29:56.886Z"
   },
   {
    "duration": 279,
    "start_time": "2023-02-16T08:29:56.907Z"
   },
   {
    "duration": 8,
    "start_time": "2023-02-16T08:31:08.369Z"
   },
   {
    "duration": 3,
    "start_time": "2023-02-16T08:31:11.928Z"
   },
   {
    "duration": 2,
    "start_time": "2023-02-16T08:31:14.858Z"
   },
   {
    "duration": 4,
    "start_time": "2023-02-16T08:31:15.088Z"
   },
   {
    "duration": 9,
    "start_time": "2023-02-16T08:31:15.360Z"
   },
   {
    "duration": 1482,
    "start_time": "2023-02-16T08:31:20.089Z"
   },
   {
    "duration": 43,
    "start_time": "2023-02-16T08:31:21.573Z"
   },
   {
    "duration": 26,
    "start_time": "2023-02-16T08:31:21.618Z"
   },
   {
    "duration": 6,
    "start_time": "2023-02-16T08:31:21.646Z"
   },
   {
    "duration": 254,
    "start_time": "2023-02-16T08:31:21.653Z"
   },
   {
    "duration": 15,
    "start_time": "2023-02-16T08:31:21.908Z"
   },
   {
    "duration": 13,
    "start_time": "2023-02-16T08:31:21.924Z"
   },
   {
    "duration": 441,
    "start_time": "2023-02-16T08:31:21.939Z"
   },
   {
    "duration": 8,
    "start_time": "2023-02-16T08:31:22.382Z"
   },
   {
    "duration": 262,
    "start_time": "2023-02-16T08:31:22.393Z"
   },
   {
    "duration": 193,
    "start_time": "2023-02-16T08:31:22.657Z"
   },
   {
    "duration": 189,
    "start_time": "2023-02-16T08:31:22.852Z"
   },
   {
    "duration": 262,
    "start_time": "2023-02-16T08:31:23.043Z"
   },
   {
    "duration": 4,
    "start_time": "2023-02-16T08:31:23.307Z"
   },
   {
    "duration": 7,
    "start_time": "2023-02-16T08:31:23.312Z"
   },
   {
    "duration": 6,
    "start_time": "2023-02-16T08:31:23.321Z"
   },
   {
    "duration": 20,
    "start_time": "2023-02-16T08:31:23.328Z"
   },
   {
    "duration": 11,
    "start_time": "2023-02-16T08:31:23.350Z"
   },
   {
    "duration": 324,
    "start_time": "2023-02-16T08:31:23.363Z"
   },
   {
    "duration": 4,
    "start_time": "2023-02-16T08:31:26.110Z"
   },
   {
    "duration": 499,
    "start_time": "2023-02-16T08:32:19.187Z"
   },
   {
    "duration": 12489,
    "start_time": "2023-02-16T08:32:29.830Z"
   },
   {
    "duration": 12237,
    "start_time": "2023-02-16T08:34:29.060Z"
   },
   {
    "duration": 5425,
    "start_time": "2023-02-16T08:34:57.902Z"
   },
   {
    "duration": 5406,
    "start_time": "2023-02-16T08:36:42.215Z"
   },
   {
    "duration": 5498,
    "start_time": "2023-02-16T08:37:08.088Z"
   },
   {
    "duration": 18917,
    "start_time": "2023-02-16T08:37:20.688Z"
   },
   {
    "duration": 35443,
    "start_time": "2023-02-16T08:37:53.984Z"
   },
   {
    "duration": 272,
    "start_time": "2023-02-16T08:38:42.013Z"
   },
   {
    "duration": 4585,
    "start_time": "2023-02-16T08:39:42.990Z"
   },
   {
    "duration": 11050,
    "start_time": "2023-02-16T08:40:28.740Z"
   },
   {
    "duration": 3,
    "start_time": "2023-02-16T09:10:14.502Z"
   },
   {
    "duration": 28,
    "start_time": "2023-02-16T09:11:02.734Z"
   },
   {
    "duration": 19407,
    "start_time": "2023-02-16T09:11:23.567Z"
   },
   {
    "duration": 50518,
    "start_time": "2023-02-16T09:11:42.976Z"
   },
   {
    "duration": 8,
    "start_time": "2023-02-16T09:12:33.585Z"
   },
   {
    "duration": 1420,
    "start_time": "2023-02-16T09:12:36.358Z"
   },
   {
    "duration": 41,
    "start_time": "2023-02-16T09:12:37.779Z"
   },
   {
    "duration": 28,
    "start_time": "2023-02-16T09:12:37.822Z"
   },
   {
    "duration": 6,
    "start_time": "2023-02-16T09:12:37.853Z"
   },
   {
    "duration": 225,
    "start_time": "2023-02-16T09:12:37.860Z"
   },
   {
    "duration": 16,
    "start_time": "2023-02-16T09:12:38.087Z"
   },
   {
    "duration": 4,
    "start_time": "2023-02-16T09:12:38.105Z"
   },
   {
    "duration": 465,
    "start_time": "2023-02-16T09:12:38.111Z"
   },
   {
    "duration": 7,
    "start_time": "2023-02-16T09:12:38.578Z"
   },
   {
    "duration": 257,
    "start_time": "2023-02-16T09:12:38.588Z"
   },
   {
    "duration": 192,
    "start_time": "2023-02-16T09:12:38.848Z"
   },
   {
    "duration": 186,
    "start_time": "2023-02-16T09:12:39.041Z"
   },
   {
    "duration": 269,
    "start_time": "2023-02-16T09:12:39.229Z"
   },
   {
    "duration": 4,
    "start_time": "2023-02-16T09:12:39.499Z"
   },
   {
    "duration": 5,
    "start_time": "2023-02-16T09:12:39.505Z"
   },
   {
    "duration": 7,
    "start_time": "2023-02-16T09:12:39.512Z"
   },
   {
    "duration": 18,
    "start_time": "2023-02-16T09:12:39.521Z"
   },
   {
    "duration": 11,
    "start_time": "2023-02-16T09:12:39.540Z"
   },
   {
    "duration": 333,
    "start_time": "2023-02-16T09:12:39.552Z"
   },
   {
    "duration": 19441,
    "start_time": "2023-02-16T09:12:39.887Z"
   },
   {
    "duration": 49362,
    "start_time": "2023-02-16T09:12:59.330Z"
   },
   {
    "duration": 8,
    "start_time": "2023-02-16T09:13:48.694Z"
   },
   {
    "duration": 119,
    "start_time": "2023-02-16T09:18:27.922Z"
   },
   {
    "duration": 5,
    "start_time": "2023-02-16T09:18:45.775Z"
   },
   {
    "duration": 3,
    "start_time": "2023-02-16T09:19:50.440Z"
   },
   {
    "duration": 4,
    "start_time": "2023-02-16T09:19:58.847Z"
   },
   {
    "duration": 4,
    "start_time": "2023-02-16T09:25:10.132Z"
   },
   {
    "duration": 4,
    "start_time": "2023-02-16T09:25:21.747Z"
   },
   {
    "duration": 19290,
    "start_time": "2023-02-16T09:25:24.259Z"
   },
   {
    "duration": 51807,
    "start_time": "2023-02-16T09:26:18.286Z"
   },
   {
    "duration": 9,
    "start_time": "2023-02-16T09:27:16.451Z"
   },
   {
    "duration": 4,
    "start_time": "2023-02-16T09:27:43.468Z"
   },
   {
    "duration": 4,
    "start_time": "2023-02-16T09:29:16.990Z"
   },
   {
    "duration": 19320,
    "start_time": "2023-02-16T09:29:19.861Z"
   },
   {
    "duration": 48709,
    "start_time": "2023-02-16T09:29:39.183Z"
   },
   {
    "duration": 8,
    "start_time": "2023-02-16T09:30:27.894Z"
   },
   {
    "duration": 4,
    "start_time": "2023-02-16T09:37:40.881Z"
   },
   {
    "duration": 3,
    "start_time": "2023-02-16T09:38:59.943Z"
   },
   {
    "duration": 4,
    "start_time": "2023-02-16T09:39:10.769Z"
   },
   {
    "duration": 3,
    "start_time": "2023-02-16T09:39:18.940Z"
   },
   {
    "duration": 4,
    "start_time": "2023-02-16T09:39:30.833Z"
   },
   {
    "duration": 525,
    "start_time": "2023-02-16T09:39:31.264Z"
   },
   {
    "duration": 228,
    "start_time": "2023-02-16T09:39:31.791Z"
   },
   {
    "duration": 59,
    "start_time": "2023-02-16T09:39:32.167Z"
   },
   {
    "duration": 8,
    "start_time": "2023-02-16T09:39:32.472Z"
   },
   {
    "duration": 1489,
    "start_time": "2023-02-16T09:40:42.234Z"
   },
   {
    "duration": 42,
    "start_time": "2023-02-16T09:40:43.725Z"
   },
   {
    "duration": 25,
    "start_time": "2023-02-16T09:40:43.768Z"
   },
   {
    "duration": 5,
    "start_time": "2023-02-16T09:40:43.795Z"
   },
   {
    "duration": 220,
    "start_time": "2023-02-16T09:40:43.802Z"
   },
   {
    "duration": 14,
    "start_time": "2023-02-16T09:40:44.023Z"
   },
   {
    "duration": 22,
    "start_time": "2023-02-16T09:40:44.038Z"
   },
   {
    "duration": 451,
    "start_time": "2023-02-16T09:40:44.061Z"
   },
   {
    "duration": 7,
    "start_time": "2023-02-16T09:40:44.513Z"
   },
   {
    "duration": 258,
    "start_time": "2023-02-16T09:40:44.522Z"
   },
   {
    "duration": 186,
    "start_time": "2023-02-16T09:40:44.782Z"
   },
   {
    "duration": 195,
    "start_time": "2023-02-16T09:40:44.970Z"
   },
   {
    "duration": 267,
    "start_time": "2023-02-16T09:40:45.167Z"
   },
   {
    "duration": 5,
    "start_time": "2023-02-16T09:40:45.437Z"
   },
   {
    "duration": 7,
    "start_time": "2023-02-16T09:40:45.444Z"
   },
   {
    "duration": 35,
    "start_time": "2023-02-16T09:40:45.452Z"
   },
   {
    "duration": 11,
    "start_time": "2023-02-16T09:40:45.489Z"
   },
   {
    "duration": 3,
    "start_time": "2023-02-16T09:40:45.502Z"
   },
   {
    "duration": 10,
    "start_time": "2023-02-16T09:40:45.507Z"
   },
   {
    "duration": 666,
    "start_time": "2023-02-16T09:40:45.519Z"
   },
   {
    "duration": 241,
    "start_time": "2023-02-16T09:40:46.187Z"
   },
   {
    "duration": 70,
    "start_time": "2023-02-16T09:40:46.430Z"
   },
   {
    "duration": 11,
    "start_time": "2023-02-16T09:40:46.501Z"
   },
   {
    "duration": 0,
    "start_time": "2023-02-16T09:40:46.513Z"
   },
   {
    "duration": 4,
    "start_time": "2023-02-16T09:40:52.235Z"
   },
   {
    "duration": 225,
    "start_time": "2023-02-16T09:40:52.760Z"
   },
   {
    "duration": 127,
    "start_time": "2023-02-16T09:40:52.987Z"
   },
   {
    "duration": 61,
    "start_time": "2023-02-16T09:40:53.115Z"
   },
   {
    "duration": 10,
    "start_time": "2023-02-16T09:40:53.177Z"
   },
   {
    "duration": 0,
    "start_time": "2023-02-16T09:40:53.188Z"
   },
   {
    "duration": 4,
    "start_time": "2023-02-16T09:41:05.562Z"
   },
   {
    "duration": 492,
    "start_time": "2023-02-16T09:41:19.193Z"
   },
   {
    "duration": 59,
    "start_time": "2023-02-16T09:41:20.173Z"
   },
   {
    "duration": 54,
    "start_time": "2023-02-16T09:41:21.098Z"
   },
   {
    "duration": 10,
    "start_time": "2023-02-16T09:41:21.395Z"
   },
   {
    "duration": 49,
    "start_time": "2023-02-16T09:42:03.629Z"
   },
   {
    "duration": 4,
    "start_time": "2023-02-16T09:42:21.931Z"
   },
   {
    "duration": 4,
    "start_time": "2023-02-16T09:42:29.531Z"
   },
   {
    "duration": 49,
    "start_time": "2023-02-16T09:42:42.491Z"
   },
   {
    "duration": 9460,
    "start_time": "2023-02-16T09:42:50.233Z"
   },
   {
    "duration": 9405,
    "start_time": "2023-02-16T09:43:06.924Z"
   },
   {
    "duration": 4,
    "start_time": "2023-02-16T09:44:25.702Z"
   },
   {
    "duration": 9433,
    "start_time": "2023-02-16T09:44:31.020Z"
   },
   {
    "duration": 3,
    "start_time": "2023-02-16T09:44:48.986Z"
   },
   {
    "duration": 4,
    "start_time": "2023-02-16T09:44:49.244Z"
   },
   {
    "duration": 225,
    "start_time": "2023-02-16T09:44:49.764Z"
   },
   {
    "duration": 15376,
    "start_time": "2023-02-16T09:44:50.528Z"
   },
   {
    "duration": 50,
    "start_time": "2023-02-16T09:45:20.328Z"
   },
   {
    "duration": 40602,
    "start_time": "2023-02-16T09:45:23.893Z"
   },
   {
    "duration": 343,
    "start_time": "2023-02-16T09:46:14.945Z"
   },
   {
    "duration": 72,
    "start_time": "2023-02-16T09:46:30.276Z"
   },
   {
    "duration": 335,
    "start_time": "2023-02-16T09:46:36.049Z"
   },
   {
    "duration": 3,
    "start_time": "2023-02-16T09:46:57.932Z"
   },
   {
    "duration": 4,
    "start_time": "2023-02-16T09:46:58.281Z"
   },
   {
    "duration": 240,
    "start_time": "2023-02-16T09:47:01.049Z"
   },
   {
    "duration": 6471,
    "start_time": "2023-02-16T09:47:02.089Z"
   },
   {
    "duration": 15,
    "start_time": "2023-02-16T09:47:37.624Z"
   },
   {
    "duration": 12,
    "start_time": "2023-02-16T09:47:37.836Z"
   },
   {
    "duration": 3,
    "start_time": "2023-02-16T09:47:38.036Z"
   },
   {
    "duration": 4,
    "start_time": "2023-02-16T09:47:38.190Z"
   },
   {
    "duration": 395,
    "start_time": "2023-02-16T09:47:38.595Z"
   },
   {
    "duration": 6455,
    "start_time": "2023-02-16T09:47:39.085Z"
   },
   {
    "duration": 3,
    "start_time": "2023-02-16T09:47:57.450Z"
   },
   {
    "duration": 3,
    "start_time": "2023-02-16T09:47:57.804Z"
   },
   {
    "duration": 634,
    "start_time": "2023-02-16T09:47:58.750Z"
   },
   {
    "duration": 2,
    "start_time": "2023-02-16T09:48:07.077Z"
   },
   {
    "duration": 6,
    "start_time": "2023-02-16T09:48:07.276Z"
   },
   {
    "duration": 389,
    "start_time": "2023-02-16T09:48:07.901Z"
   },
   {
    "duration": 1369,
    "start_time": "2023-02-16T09:48:29.336Z"
   },
   {
    "duration": 43,
    "start_time": "2023-02-16T09:48:30.707Z"
   },
   {
    "duration": 26,
    "start_time": "2023-02-16T09:48:30.752Z"
   },
   {
    "duration": 5,
    "start_time": "2023-02-16T09:48:30.780Z"
   },
   {
    "duration": 224,
    "start_time": "2023-02-16T09:48:30.787Z"
   },
   {
    "duration": 13,
    "start_time": "2023-02-16T09:48:31.013Z"
   },
   {
    "duration": 33,
    "start_time": "2023-02-16T09:48:31.028Z"
   },
   {
    "duration": 454,
    "start_time": "2023-02-16T09:48:31.062Z"
   },
   {
    "duration": 7,
    "start_time": "2023-02-16T09:48:31.517Z"
   },
   {
    "duration": 282,
    "start_time": "2023-02-16T09:48:31.525Z"
   },
   {
    "duration": 200,
    "start_time": "2023-02-16T09:48:31.809Z"
   },
   {
    "duration": 194,
    "start_time": "2023-02-16T09:48:32.011Z"
   },
   {
    "duration": 272,
    "start_time": "2023-02-16T09:48:32.206Z"
   },
   {
    "duration": 4,
    "start_time": "2023-02-16T09:48:32.486Z"
   },
   {
    "duration": 8,
    "start_time": "2023-02-16T09:48:32.492Z"
   },
   {
    "duration": 29,
    "start_time": "2023-02-16T09:48:32.501Z"
   },
   {
    "duration": 13,
    "start_time": "2023-02-16T09:48:32.532Z"
   },
   {
    "duration": 3,
    "start_time": "2023-02-16T09:48:32.547Z"
   },
   {
    "duration": 9,
    "start_time": "2023-02-16T09:48:32.552Z"
   },
   {
    "duration": 902,
    "start_time": "2023-02-16T09:48:32.584Z"
   },
   {
    "duration": 19955,
    "start_time": "2023-02-16T09:48:33.488Z"
   },
   {
    "duration": 1428,
    "start_time": "2023-02-16T09:50:02.163Z"
   },
   {
    "duration": 42,
    "start_time": "2023-02-16T09:50:03.593Z"
   },
   {
    "duration": 25,
    "start_time": "2023-02-16T09:50:03.637Z"
   },
   {
    "duration": 6,
    "start_time": "2023-02-16T09:50:03.664Z"
   },
   {
    "duration": 240,
    "start_time": "2023-02-16T09:50:03.671Z"
   },
   {
    "duration": 14,
    "start_time": "2023-02-16T09:50:03.914Z"
   },
   {
    "duration": 14,
    "start_time": "2023-02-16T09:50:03.929Z"
   },
   {
    "duration": 436,
    "start_time": "2023-02-16T09:50:03.944Z"
   },
   {
    "duration": 8,
    "start_time": "2023-02-16T09:50:04.381Z"
   },
   {
    "duration": 268,
    "start_time": "2023-02-16T09:50:04.393Z"
   },
   {
    "duration": 198,
    "start_time": "2023-02-16T09:50:04.662Z"
   },
   {
    "duration": 196,
    "start_time": "2023-02-16T09:50:04.861Z"
   },
   {
    "duration": 259,
    "start_time": "2023-02-16T09:50:05.058Z"
   },
   {
    "duration": 4,
    "start_time": "2023-02-16T09:50:05.319Z"
   },
   {
    "duration": 8,
    "start_time": "2023-02-16T09:50:05.325Z"
   },
   {
    "duration": 32,
    "start_time": "2023-02-16T09:50:05.335Z"
   },
   {
    "duration": 22,
    "start_time": "2023-02-16T09:50:05.369Z"
   },
   {
    "duration": 3,
    "start_time": "2023-02-16T09:50:05.393Z"
   },
   {
    "duration": 14,
    "start_time": "2023-02-16T09:50:05.398Z"
   },
   {
    "duration": 377,
    "start_time": "2023-02-16T09:50:05.413Z"
   },
   {
    "duration": 19856,
    "start_time": "2023-02-16T09:50:05.792Z"
   },
   {
    "duration": 1402,
    "start_time": "2023-02-16T09:51:25.929Z"
   },
   {
    "duration": 42,
    "start_time": "2023-02-16T09:51:27.333Z"
   },
   {
    "duration": 28,
    "start_time": "2023-02-16T09:51:27.376Z"
   },
   {
    "duration": 6,
    "start_time": "2023-02-16T09:51:27.405Z"
   },
   {
    "duration": 221,
    "start_time": "2023-02-16T09:51:27.412Z"
   },
   {
    "duration": 14,
    "start_time": "2023-02-16T09:51:27.634Z"
   },
   {
    "duration": 3,
    "start_time": "2023-02-16T09:51:27.650Z"
   },
   {
    "duration": 461,
    "start_time": "2023-02-16T09:51:27.655Z"
   },
   {
    "duration": 8,
    "start_time": "2023-02-16T09:51:28.117Z"
   },
   {
    "duration": 255,
    "start_time": "2023-02-16T09:51:28.126Z"
   },
   {
    "duration": 204,
    "start_time": "2023-02-16T09:51:28.382Z"
   },
   {
    "duration": 196,
    "start_time": "2023-02-16T09:51:28.588Z"
   },
   {
    "duration": 256,
    "start_time": "2023-02-16T09:51:28.785Z"
   },
   {
    "duration": 4,
    "start_time": "2023-02-16T09:51:29.044Z"
   },
   {
    "duration": 13,
    "start_time": "2023-02-16T09:51:29.050Z"
   },
   {
    "duration": 31,
    "start_time": "2023-02-16T09:51:29.065Z"
   },
   {
    "duration": 12,
    "start_time": "2023-02-16T09:51:29.098Z"
   },
   {
    "duration": 3,
    "start_time": "2023-02-16T09:51:29.111Z"
   },
   {
    "duration": 9,
    "start_time": "2023-02-16T09:51:29.116Z"
   },
   {
    "duration": 364,
    "start_time": "2023-02-16T09:51:29.127Z"
   },
   {
    "duration": 19923,
    "start_time": "2023-02-16T09:51:29.493Z"
   },
   {
    "duration": 59470,
    "start_time": "2023-02-16T09:51:49.418Z"
   },
   {
    "duration": 169,
    "start_time": "2023-02-16T09:52:48.890Z"
   },
   {
    "duration": 0,
    "start_time": "2023-02-16T09:52:49.061Z"
   },
   {
    "duration": 0,
    "start_time": "2023-02-16T09:52:49.062Z"
   },
   {
    "duration": 440,
    "start_time": "2023-02-16T09:52:53.144Z"
   },
   {
    "duration": 84,
    "start_time": "2023-02-16T09:52:53.586Z"
   },
   {
    "duration": 5,
    "start_time": "2023-02-16T09:53:07.495Z"
   },
   {
    "duration": 453,
    "start_time": "2023-02-16T09:53:16.431Z"
   },
   {
    "duration": 11,
    "start_time": "2023-02-16T09:53:36.288Z"
   },
   {
    "duration": 2,
    "start_time": "2023-02-16T09:54:08.673Z"
   },
   {
    "duration": 10,
    "start_time": "2023-02-16T10:02:11.777Z"
   },
   {
    "duration": 4,
    "start_time": "2023-02-16T10:02:30.552Z"
   },
   {
    "duration": 1428,
    "start_time": "2023-02-16T10:02:35.945Z"
   },
   {
    "duration": 43,
    "start_time": "2023-02-16T10:02:37.375Z"
   },
   {
    "duration": 25,
    "start_time": "2023-02-16T10:02:37.420Z"
   },
   {
    "duration": 5,
    "start_time": "2023-02-16T10:02:37.447Z"
   },
   {
    "duration": 217,
    "start_time": "2023-02-16T10:02:37.454Z"
   },
   {
    "duration": 23,
    "start_time": "2023-02-16T10:02:37.673Z"
   },
   {
    "duration": 4,
    "start_time": "2023-02-16T10:02:37.697Z"
   },
   {
    "duration": 462,
    "start_time": "2023-02-16T10:02:37.702Z"
   },
   {
    "duration": 7,
    "start_time": "2023-02-16T10:02:38.165Z"
   },
   {
    "duration": 252,
    "start_time": "2023-02-16T10:02:38.174Z"
   },
   {
    "duration": 209,
    "start_time": "2023-02-16T10:02:38.427Z"
   },
   {
    "duration": 187,
    "start_time": "2023-02-16T10:02:38.638Z"
   },
   {
    "duration": 260,
    "start_time": "2023-02-16T10:02:38.826Z"
   },
   {
    "duration": 5,
    "start_time": "2023-02-16T10:02:39.088Z"
   },
   {
    "duration": 14,
    "start_time": "2023-02-16T10:02:39.094Z"
   },
   {
    "duration": 9,
    "start_time": "2023-02-16T10:02:39.109Z"
   },
   {
    "duration": 24,
    "start_time": "2023-02-16T10:02:39.120Z"
   },
   {
    "duration": 13,
    "start_time": "2023-02-16T10:02:39.147Z"
   },
   {
    "duration": 23,
    "start_time": "2023-02-16T10:02:39.161Z"
   },
   {
    "duration": 899,
    "start_time": "2023-02-16T10:02:39.186Z"
   },
   {
    "duration": 19857,
    "start_time": "2023-02-16T10:02:40.087Z"
   },
   {
    "duration": 57139,
    "start_time": "2023-02-16T10:02:59.945Z"
   },
   {
    "duration": 8,
    "start_time": "2023-02-16T10:03:57.086Z"
   },
   {
    "duration": 593,
    "start_time": "2023-02-16T10:03:57.095Z"
   },
   {
    "duration": 6,
    "start_time": "2023-02-16T10:03:57.690Z"
   },
   {
    "duration": 56996,
    "start_time": "2023-02-16T10:04:15.498Z"
   },
   {
    "duration": 204,
    "start_time": "2023-02-16T10:05:12.496Z"
   },
   {
    "duration": 7,
    "start_time": "2023-02-16T10:26:37.064Z"
   },
   {
    "duration": 1494,
    "start_time": "2023-02-16T10:26:43.965Z"
   },
   {
    "duration": 53,
    "start_time": "2023-02-16T10:26:45.461Z"
   },
   {
    "duration": 26,
    "start_time": "2023-02-16T10:26:45.516Z"
   },
   {
    "duration": 5,
    "start_time": "2023-02-16T10:26:45.544Z"
   },
   {
    "duration": 227,
    "start_time": "2023-02-16T10:26:45.551Z"
   },
   {
    "duration": 14,
    "start_time": "2023-02-16T10:26:45.783Z"
   },
   {
    "duration": 3,
    "start_time": "2023-02-16T10:26:45.799Z"
   },
   {
    "duration": 445,
    "start_time": "2023-02-16T10:26:45.803Z"
   },
   {
    "duration": 6,
    "start_time": "2023-02-16T10:26:46.250Z"
   },
   {
    "duration": 256,
    "start_time": "2023-02-16T10:26:46.259Z"
   },
   {
    "duration": 188,
    "start_time": "2023-02-16T10:26:46.517Z"
   },
   {
    "duration": 192,
    "start_time": "2023-02-16T10:26:46.707Z"
   },
   {
    "duration": 259,
    "start_time": "2023-02-16T10:26:46.901Z"
   },
   {
    "duration": 4,
    "start_time": "2023-02-16T10:26:47.162Z"
   },
   {
    "duration": 6,
    "start_time": "2023-02-16T10:26:47.167Z"
   },
   {
    "duration": 4,
    "start_time": "2023-02-16T10:26:47.184Z"
   },
   {
    "duration": 25,
    "start_time": "2023-02-16T10:26:47.189Z"
   },
   {
    "duration": 11,
    "start_time": "2023-02-16T10:26:47.216Z"
   },
   {
    "duration": 7,
    "start_time": "2023-02-16T10:26:47.229Z"
   },
   {
    "duration": 454,
    "start_time": "2023-02-16T10:26:47.237Z"
   },
   {
    "duration": 19921,
    "start_time": "2023-02-16T10:26:47.692Z"
   },
   {
    "duration": 57378,
    "start_time": "2023-02-16T10:27:07.614Z"
   },
   {
    "duration": 187,
    "start_time": "2023-02-16T10:28:04.994Z"
   },
   {
    "duration": 0,
    "start_time": "2023-02-16T10:28:05.184Z"
   },
   {
    "duration": 0,
    "start_time": "2023-02-16T10:28:05.185Z"
   },
   {
    "duration": 8,
    "start_time": "2023-02-16T10:29:52.700Z"
   },
   {
    "duration": 4,
    "start_time": "2023-02-16T10:30:33.141Z"
   },
   {
    "duration": 1439,
    "start_time": "2023-02-16T10:30:37.253Z"
   },
   {
    "duration": 43,
    "start_time": "2023-02-16T10:30:38.694Z"
   },
   {
    "duration": 25,
    "start_time": "2023-02-16T10:30:38.738Z"
   },
   {
    "duration": 4,
    "start_time": "2023-02-16T10:30:38.765Z"
   },
   {
    "duration": 213,
    "start_time": "2023-02-16T10:30:38.771Z"
   },
   {
    "duration": 15,
    "start_time": "2023-02-16T10:30:38.985Z"
   },
   {
    "duration": 4,
    "start_time": "2023-02-16T10:30:39.001Z"
   },
   {
    "duration": 441,
    "start_time": "2023-02-16T10:30:39.007Z"
   },
   {
    "duration": 6,
    "start_time": "2023-02-16T10:30:39.450Z"
   },
   {
    "duration": 262,
    "start_time": "2023-02-16T10:30:39.458Z"
   },
   {
    "duration": 194,
    "start_time": "2023-02-16T10:30:39.721Z"
   },
   {
    "duration": 194,
    "start_time": "2023-02-16T10:30:39.917Z"
   },
   {
    "duration": 261,
    "start_time": "2023-02-16T10:30:40.113Z"
   },
   {
    "duration": 10,
    "start_time": "2023-02-16T10:30:40.376Z"
   },
   {
    "duration": 9,
    "start_time": "2023-02-16T10:30:40.387Z"
   },
   {
    "duration": 13,
    "start_time": "2023-02-16T10:30:40.398Z"
   },
   {
    "duration": 27,
    "start_time": "2023-02-16T10:30:40.413Z"
   },
   {
    "duration": 12,
    "start_time": "2023-02-16T10:30:40.442Z"
   },
   {
    "duration": 4,
    "start_time": "2023-02-16T10:30:40.455Z"
   },
   {
    "duration": 430,
    "start_time": "2023-02-16T10:30:40.460Z"
   },
   {
    "duration": 19862,
    "start_time": "2023-02-16T10:30:40.892Z"
   },
   {
    "duration": 71133,
    "start_time": "2023-02-16T10:31:00.756Z"
   },
   {
    "duration": 8,
    "start_time": "2023-02-16T10:32:11.890Z"
   },
   {
    "duration": 686,
    "start_time": "2023-02-16T10:32:11.899Z"
   },
   {
    "duration": 5,
    "start_time": "2023-02-16T10:32:12.587Z"
   },
   {
    "duration": 2005,
    "start_time": "2023-02-16T10:47:01.284Z"
   },
   {
    "duration": 4,
    "start_time": "2023-02-16T10:47:07.581Z"
   },
   {
    "duration": 1571,
    "start_time": "2023-02-16T10:47:19.742Z"
   },
   {
    "duration": 43,
    "start_time": "2023-02-16T10:47:21.316Z"
   },
   {
    "duration": 27,
    "start_time": "2023-02-16T10:47:21.360Z"
   },
   {
    "duration": 7,
    "start_time": "2023-02-16T10:47:21.388Z"
   },
   {
    "duration": 228,
    "start_time": "2023-02-16T10:47:21.397Z"
   },
   {
    "duration": 15,
    "start_time": "2023-02-16T10:47:21.628Z"
   },
   {
    "duration": 4,
    "start_time": "2023-02-16T10:47:21.645Z"
   },
   {
    "duration": 457,
    "start_time": "2023-02-16T10:47:21.651Z"
   },
   {
    "duration": 9,
    "start_time": "2023-02-16T10:47:22.110Z"
   },
   {
    "duration": 261,
    "start_time": "2023-02-16T10:47:22.120Z"
   },
   {
    "duration": 197,
    "start_time": "2023-02-16T10:47:22.383Z"
   },
   {
    "duration": 190,
    "start_time": "2023-02-16T10:47:22.581Z"
   },
   {
    "duration": 267,
    "start_time": "2023-02-16T10:47:22.773Z"
   },
   {
    "duration": 4,
    "start_time": "2023-02-16T10:47:23.043Z"
   },
   {
    "duration": 33,
    "start_time": "2023-02-16T10:47:23.049Z"
   },
   {
    "duration": 13,
    "start_time": "2023-02-16T10:47:23.083Z"
   },
   {
    "duration": 32,
    "start_time": "2023-02-16T10:47:23.098Z"
   },
   {
    "duration": 11,
    "start_time": "2023-02-16T10:47:23.132Z"
   },
   {
    "duration": 4,
    "start_time": "2023-02-16T10:47:23.144Z"
   },
   {
    "duration": 2841,
    "start_time": "2023-02-16T10:47:23.150Z"
   },
   {
    "duration": 19740,
    "start_time": "2023-02-16T10:47:25.993Z"
   },
   {
    "duration": 55855,
    "start_time": "2023-02-16T10:47:45.735Z"
   },
   {
    "duration": 188,
    "start_time": "2023-02-16T10:48:41.592Z"
   },
   {
    "duration": 0,
    "start_time": "2023-02-16T10:48:41.783Z"
   },
   {
    "duration": 0,
    "start_time": "2023-02-16T10:48:41.785Z"
   },
   {
    "duration": 8,
    "start_time": "2023-02-16T10:50:57.072Z"
   },
   {
    "duration": 429,
    "start_time": "2023-02-16T10:51:15.656Z"
   },
   {
    "duration": 6,
    "start_time": "2023-02-16T10:51:16.087Z"
   },
   {
    "duration": 12,
    "start_time": "2023-02-16T10:56:23.952Z"
   },
   {
    "duration": 11,
    "start_time": "2023-02-16T10:56:32.043Z"
   },
   {
    "duration": 13,
    "start_time": "2023-02-16T10:56:38.453Z"
   },
   {
    "duration": 4,
    "start_time": "2023-02-16T10:56:42.662Z"
   },
   {
    "duration": 26,
    "start_time": "2023-02-16T10:57:42.440Z"
   },
   {
    "duration": 42,
    "start_time": "2023-02-16T10:57:52.488Z"
   },
   {
    "duration": 10,
    "start_time": "2023-02-16T10:58:01.046Z"
   },
   {
    "duration": 4,
    "start_time": "2023-02-16T10:58:19.551Z"
   },
   {
    "duration": 4,
    "start_time": "2023-02-16T10:58:25.175Z"
   },
   {
    "duration": 1343,
    "start_time": "2023-02-16T11:01:52.936Z"
   },
   {
    "duration": 44,
    "start_time": "2023-02-16T11:01:54.281Z"
   },
   {
    "duration": 27,
    "start_time": "2023-02-16T11:01:54.327Z"
   },
   {
    "duration": 6,
    "start_time": "2023-02-16T11:01:54.357Z"
   },
   {
    "duration": 239,
    "start_time": "2023-02-16T11:01:54.366Z"
   },
   {
    "duration": 15,
    "start_time": "2023-02-16T11:01:54.607Z"
   },
   {
    "duration": 4,
    "start_time": "2023-02-16T11:01:54.624Z"
   },
   {
    "duration": 445,
    "start_time": "2023-02-16T11:01:54.631Z"
   },
   {
    "duration": 7,
    "start_time": "2023-02-16T11:01:55.078Z"
   },
   {
    "duration": 256,
    "start_time": "2023-02-16T11:01:55.087Z"
   },
   {
    "duration": 193,
    "start_time": "2023-02-16T11:01:55.345Z"
   },
   {
    "duration": 185,
    "start_time": "2023-02-16T11:01:55.540Z"
   },
   {
    "duration": 268,
    "start_time": "2023-02-16T11:01:55.727Z"
   },
   {
    "duration": 4,
    "start_time": "2023-02-16T11:01:55.997Z"
   },
   {
    "duration": 5,
    "start_time": "2023-02-16T11:01:56.003Z"
   },
   {
    "duration": 8,
    "start_time": "2023-02-16T11:01:56.009Z"
   },
   {
    "duration": 33,
    "start_time": "2023-02-16T11:01:56.019Z"
   },
   {
    "duration": 11,
    "start_time": "2023-02-16T11:01:56.054Z"
   },
   {
    "duration": 11,
    "start_time": "2023-02-16T11:01:56.067Z"
   },
   {
    "duration": 2201,
    "start_time": "2023-02-16T11:01:56.084Z"
   },
   {
    "duration": 20999,
    "start_time": "2023-02-16T11:01:58.288Z"
   },
   {
    "duration": 1379,
    "start_time": "2023-02-16T11:02:27.959Z"
   },
   {
    "duration": 44,
    "start_time": "2023-02-16T11:02:29.340Z"
   },
   {
    "duration": 27,
    "start_time": "2023-02-16T11:02:29.385Z"
   },
   {
    "duration": 5,
    "start_time": "2023-02-16T11:02:29.414Z"
   },
   {
    "duration": 233,
    "start_time": "2023-02-16T11:02:29.420Z"
   },
   {
    "duration": 14,
    "start_time": "2023-02-16T11:02:29.654Z"
   },
   {
    "duration": 17,
    "start_time": "2023-02-16T11:02:29.669Z"
   },
   {
    "duration": 429,
    "start_time": "2023-02-16T11:02:29.687Z"
   },
   {
    "duration": 7,
    "start_time": "2023-02-16T11:02:30.118Z"
   },
   {
    "duration": 267,
    "start_time": "2023-02-16T11:02:30.127Z"
   },
   {
    "duration": 198,
    "start_time": "2023-02-16T11:02:30.396Z"
   },
   {
    "duration": 190,
    "start_time": "2023-02-16T11:02:30.596Z"
   },
   {
    "duration": 262,
    "start_time": "2023-02-16T11:02:30.788Z"
   },
   {
    "duration": 4,
    "start_time": "2023-02-16T11:02:31.052Z"
   },
   {
    "duration": 29,
    "start_time": "2023-02-16T11:02:31.057Z"
   },
   {
    "duration": 22,
    "start_time": "2023-02-16T11:02:31.088Z"
   },
   {
    "duration": 47,
    "start_time": "2023-02-16T11:02:31.112Z"
   },
   {
    "duration": 11,
    "start_time": "2023-02-16T11:02:31.161Z"
   },
   {
    "duration": 13,
    "start_time": "2023-02-16T11:02:31.174Z"
   },
   {
    "duration": 1804,
    "start_time": "2023-02-16T11:02:31.189Z"
   },
   {
    "duration": 21491,
    "start_time": "2023-02-16T11:02:33.084Z"
   },
   {
    "duration": 1297,
    "start_time": "2023-02-16T11:03:15.241Z"
   },
   {
    "duration": 50,
    "start_time": "2023-02-16T11:03:16.540Z"
   },
   {
    "duration": 26,
    "start_time": "2023-02-16T11:03:16.592Z"
   },
   {
    "duration": 6,
    "start_time": "2023-02-16T11:03:16.619Z"
   },
   {
    "duration": 241,
    "start_time": "2023-02-16T11:03:16.628Z"
   },
   {
    "duration": 21,
    "start_time": "2023-02-16T11:03:16.871Z"
   },
   {
    "duration": 4,
    "start_time": "2023-02-16T11:03:16.895Z"
   },
   {
    "duration": 439,
    "start_time": "2023-02-16T11:03:16.901Z"
   },
   {
    "duration": 8,
    "start_time": "2023-02-16T11:03:17.342Z"
   },
   {
    "duration": 260,
    "start_time": "2023-02-16T11:03:17.351Z"
   },
   {
    "duration": 192,
    "start_time": "2023-02-16T11:03:17.613Z"
   },
   {
    "duration": 197,
    "start_time": "2023-02-16T11:03:17.806Z"
   },
   {
    "duration": 273,
    "start_time": "2023-02-16T11:03:18.006Z"
   },
   {
    "duration": 5,
    "start_time": "2023-02-16T11:03:18.283Z"
   },
   {
    "duration": 5,
    "start_time": "2023-02-16T11:03:18.289Z"
   },
   {
    "duration": 8,
    "start_time": "2023-02-16T11:03:18.296Z"
   },
   {
    "duration": 24,
    "start_time": "2023-02-16T11:03:18.306Z"
   },
   {
    "duration": 20,
    "start_time": "2023-02-16T11:03:18.333Z"
   },
   {
    "duration": 5,
    "start_time": "2023-02-16T11:03:18.355Z"
   },
   {
    "duration": 3825,
    "start_time": "2023-02-16T11:03:18.361Z"
   },
   {
    "duration": 1406,
    "start_time": "2023-02-16T11:03:43.547Z"
   },
   {
    "duration": 1339,
    "start_time": "2023-02-16T11:03:47.627Z"
   },
   {
    "duration": 43,
    "start_time": "2023-02-16T11:03:48.968Z"
   },
   {
    "duration": 27,
    "start_time": "2023-02-16T11:03:49.013Z"
   },
   {
    "duration": 5,
    "start_time": "2023-02-16T11:03:49.042Z"
   },
   {
    "duration": 227,
    "start_time": "2023-02-16T11:03:49.049Z"
   },
   {
    "duration": 19,
    "start_time": "2023-02-16T11:03:49.277Z"
   },
   {
    "duration": 4,
    "start_time": "2023-02-16T11:03:49.298Z"
   },
   {
    "duration": 457,
    "start_time": "2023-02-16T11:03:49.303Z"
   },
   {
    "duration": 7,
    "start_time": "2023-02-16T11:03:49.761Z"
   },
   {
    "duration": 262,
    "start_time": "2023-02-16T11:03:49.770Z"
   },
   {
    "duration": 185,
    "start_time": "2023-02-16T11:03:50.034Z"
   },
   {
    "duration": 186,
    "start_time": "2023-02-16T11:03:50.221Z"
   },
   {
    "duration": 261,
    "start_time": "2023-02-16T11:03:50.409Z"
   },
   {
    "duration": 12,
    "start_time": "2023-02-16T11:03:50.672Z"
   },
   {
    "duration": 3,
    "start_time": "2023-02-16T11:03:50.685Z"
   },
   {
    "duration": 6,
    "start_time": "2023-02-16T11:03:50.689Z"
   },
   {
    "duration": 31,
    "start_time": "2023-02-16T11:03:50.697Z"
   },
   {
    "duration": 12,
    "start_time": "2023-02-16T11:03:50.729Z"
   },
   {
    "duration": 13,
    "start_time": "2023-02-16T11:03:50.743Z"
   },
   {
    "duration": 3629,
    "start_time": "2023-02-16T11:03:50.758Z"
   },
   {
    "duration": 20788,
    "start_time": "2023-02-16T11:03:54.389Z"
   },
   {
    "duration": 4,
    "start_time": "2023-02-16T11:13:02.329Z"
   },
   {
    "duration": 1372,
    "start_time": "2023-02-16T11:14:03.136Z"
   },
   {
    "duration": 43,
    "start_time": "2023-02-16T11:14:04.510Z"
   },
   {
    "duration": 27,
    "start_time": "2023-02-16T11:14:04.554Z"
   },
   {
    "duration": 6,
    "start_time": "2023-02-16T11:14:04.582Z"
   },
   {
    "duration": 236,
    "start_time": "2023-02-16T11:14:04.590Z"
   },
   {
    "duration": 14,
    "start_time": "2023-02-16T11:14:04.828Z"
   },
   {
    "duration": 4,
    "start_time": "2023-02-16T11:14:04.844Z"
   },
   {
    "duration": 463,
    "start_time": "2023-02-16T11:14:04.849Z"
   },
   {
    "duration": 6,
    "start_time": "2023-02-16T11:14:05.314Z"
   },
   {
    "duration": 259,
    "start_time": "2023-02-16T11:14:05.321Z"
   },
   {
    "duration": 186,
    "start_time": "2023-02-16T11:14:05.582Z"
   },
   {
    "duration": 187,
    "start_time": "2023-02-16T11:14:05.770Z"
   },
   {
    "duration": 259,
    "start_time": "2023-02-16T11:14:05.959Z"
   },
   {
    "duration": 4,
    "start_time": "2023-02-16T11:14:06.221Z"
   },
   {
    "duration": 7,
    "start_time": "2023-02-16T11:14:06.227Z"
   },
   {
    "duration": 5,
    "start_time": "2023-02-16T11:14:06.236Z"
   },
   {
    "duration": 30,
    "start_time": "2023-02-16T11:14:06.242Z"
   },
   {
    "duration": 18,
    "start_time": "2023-02-16T11:14:06.274Z"
   },
   {
    "duration": 4,
    "start_time": "2023-02-16T11:14:06.294Z"
   },
   {
    "duration": 1985,
    "start_time": "2023-02-16T11:14:06.300Z"
   },
   {
    "duration": 19594,
    "start_time": "2023-02-16T11:14:08.287Z"
   },
   {
    "duration": 56405,
    "start_time": "2023-02-16T11:14:27.884Z"
   },
   {
    "duration": 8,
    "start_time": "2023-02-16T11:15:24.291Z"
   },
   {
    "duration": 492,
    "start_time": "2023-02-16T11:15:24.301Z"
   },
   {
    "duration": 6,
    "start_time": "2023-02-16T11:15:24.795Z"
   },
   {
    "duration": 5,
    "start_time": "2023-02-16T12:10:23.957Z"
   },
   {
    "duration": 4,
    "start_time": "2023-02-16T12:19:22.237Z"
   },
   {
    "duration": 4,
    "start_time": "2023-02-16T12:20:03.875Z"
   },
   {
    "duration": 2,
    "start_time": "2023-02-16T12:20:26.586Z"
   },
   {
    "duration": 1321,
    "start_time": "2023-02-16T12:20:36.718Z"
   },
   {
    "duration": 52,
    "start_time": "2023-02-16T12:20:38.041Z"
   },
   {
    "duration": 6,
    "start_time": "2023-02-16T12:20:38.095Z"
   },
   {
    "duration": 224,
    "start_time": "2023-02-16T12:20:38.103Z"
   },
   {
    "duration": 14,
    "start_time": "2023-02-16T12:20:38.328Z"
   },
   {
    "duration": 7,
    "start_time": "2023-02-16T12:20:38.343Z"
   },
   {
    "duration": 461,
    "start_time": "2023-02-16T12:20:38.351Z"
   },
   {
    "duration": 8,
    "start_time": "2023-02-16T12:20:38.813Z"
   },
   {
    "duration": 262,
    "start_time": "2023-02-16T12:20:38.822Z"
   },
   {
    "duration": 183,
    "start_time": "2023-02-16T12:20:39.087Z"
   },
   {
    "duration": 192,
    "start_time": "2023-02-16T12:20:39.272Z"
   },
   {
    "duration": 273,
    "start_time": "2023-02-16T12:20:39.466Z"
   },
   {
    "duration": 5,
    "start_time": "2023-02-16T12:20:39.741Z"
   },
   {
    "duration": 15,
    "start_time": "2023-02-16T12:20:39.748Z"
   },
   {
    "duration": 6,
    "start_time": "2023-02-16T12:20:39.765Z"
   },
   {
    "duration": 29,
    "start_time": "2023-02-16T12:20:39.772Z"
   },
   {
    "duration": 11,
    "start_time": "2023-02-16T12:20:39.803Z"
   },
   {
    "duration": 3,
    "start_time": "2023-02-16T12:20:39.816Z"
   },
   {
    "duration": 7,
    "start_time": "2023-02-16T12:20:39.821Z"
   },
   {
    "duration": 2161,
    "start_time": "2023-02-16T12:20:39.830Z"
   },
   {
    "duration": 15438,
    "start_time": "2023-02-16T12:20:41.993Z"
   },
   {
    "duration": 47264,
    "start_time": "2023-02-16T12:20:57.432Z"
   },
   {
    "duration": 90,
    "start_time": "2023-02-16T12:21:44.697Z"
   },
   {
    "duration": 499,
    "start_time": "2023-02-16T12:21:44.788Z"
   },
   {
    "duration": 5,
    "start_time": "2023-02-16T12:21:45.288Z"
   },
   {
    "duration": 16,
    "start_time": "2023-02-16T12:23:16.725Z"
   },
   {
    "duration": 56,
    "start_time": "2023-02-16T12:24:03.532Z"
   },
   {
    "duration": 3,
    "start_time": "2023-02-16T12:24:06.805Z"
   },
   {
    "duration": 1377,
    "start_time": "2023-02-16T12:24:19.576Z"
   },
   {
    "duration": 45,
    "start_time": "2023-02-16T12:24:20.956Z"
   },
   {
    "duration": 7,
    "start_time": "2023-02-16T12:24:21.002Z"
   },
   {
    "duration": 228,
    "start_time": "2023-02-16T12:24:21.011Z"
   },
   {
    "duration": 15,
    "start_time": "2023-02-16T12:24:21.240Z"
   },
   {
    "duration": 5,
    "start_time": "2023-02-16T12:24:21.256Z"
   },
   {
    "duration": 458,
    "start_time": "2023-02-16T12:24:21.262Z"
   },
   {
    "duration": 6,
    "start_time": "2023-02-16T12:24:21.722Z"
   },
   {
    "duration": 286,
    "start_time": "2023-02-16T12:24:21.730Z"
   },
   {
    "duration": 196,
    "start_time": "2023-02-16T12:24:22.019Z"
   },
   {
    "duration": 194,
    "start_time": "2023-02-16T12:24:22.217Z"
   },
   {
    "duration": 267,
    "start_time": "2023-02-16T12:24:22.413Z"
   },
   {
    "duration": 4,
    "start_time": "2023-02-16T12:24:22.682Z"
   },
   {
    "duration": 27,
    "start_time": "2023-02-16T12:24:22.688Z"
   },
   {
    "duration": 14,
    "start_time": "2023-02-16T12:24:22.717Z"
   },
   {
    "duration": 23,
    "start_time": "2023-02-16T12:24:22.733Z"
   },
   {
    "duration": 12,
    "start_time": "2023-02-16T12:24:22.758Z"
   },
   {
    "duration": 10,
    "start_time": "2023-02-16T12:24:22.772Z"
   },
   {
    "duration": 19,
    "start_time": "2023-02-16T12:24:22.784Z"
   },
   {
    "duration": 3882,
    "start_time": "2023-02-16T12:24:22.805Z"
   },
   {
    "duration": 30586,
    "start_time": "2023-02-16T12:24:26.689Z"
   },
   {
    "duration": 93713,
    "start_time": "2023-02-16T12:24:57.277Z"
   },
   {
    "duration": 8,
    "start_time": "2023-02-16T12:26:30.992Z"
   },
   {
    "duration": 181,
    "start_time": "2023-02-16T12:26:31.002Z"
   },
   {
    "duration": 702,
    "start_time": "2023-02-16T12:26:31.185Z"
   },
   {
    "duration": 5,
    "start_time": "2023-02-16T12:26:31.889Z"
   },
   {
    "duration": 3,
    "start_time": "2023-02-16T12:27:38.137Z"
   },
   {
    "duration": 518,
    "start_time": "2023-02-16T12:32:00.366Z"
   },
   {
    "duration": 4,
    "start_time": "2023-02-16T12:32:15.460Z"
   },
   {
    "duration": 6,
    "start_time": "2023-02-16T12:36:30.273Z"
   },
   {
    "duration": 3,
    "start_time": "2023-02-16T12:40:53.326Z"
   },
   {
    "duration": 5,
    "start_time": "2023-02-16T12:40:53.673Z"
   },
   {
    "duration": 1359,
    "start_time": "2023-02-16T12:41:02.183Z"
   },
   {
    "duration": 44,
    "start_time": "2023-02-16T12:41:03.544Z"
   },
   {
    "duration": 10,
    "start_time": "2023-02-16T12:41:03.590Z"
   },
   {
    "duration": 225,
    "start_time": "2023-02-16T12:41:03.603Z"
   },
   {
    "duration": 14,
    "start_time": "2023-02-16T12:41:03.830Z"
   },
   {
    "duration": 6,
    "start_time": "2023-02-16T12:41:03.846Z"
   },
   {
    "duration": 446,
    "start_time": "2023-02-16T12:41:03.854Z"
   },
   {
    "duration": 7,
    "start_time": "2023-02-16T12:41:04.302Z"
   },
   {
    "duration": 314,
    "start_time": "2023-02-16T12:41:04.310Z"
   },
   {
    "duration": 261,
    "start_time": "2023-02-16T12:41:04.627Z"
   },
   {
    "duration": 218,
    "start_time": "2023-02-16T12:41:04.890Z"
   },
   {
    "duration": 270,
    "start_time": "2023-02-16T12:41:05.110Z"
   },
   {
    "duration": 6,
    "start_time": "2023-02-16T12:41:05.381Z"
   },
   {
    "duration": 13,
    "start_time": "2023-02-16T12:41:05.388Z"
   },
   {
    "duration": 10,
    "start_time": "2023-02-16T12:41:05.403Z"
   },
   {
    "duration": 26,
    "start_time": "2023-02-16T12:41:05.415Z"
   },
   {
    "duration": 14,
    "start_time": "2023-02-16T12:41:05.443Z"
   },
   {
    "duration": 3,
    "start_time": "2023-02-16T12:41:05.458Z"
   },
   {
    "duration": 21,
    "start_time": "2023-02-16T12:41:05.463Z"
   },
   {
    "duration": 1007,
    "start_time": "2023-02-16T12:41:05.486Z"
   },
   {
    "duration": 9868,
    "start_time": "2023-02-16T12:41:06.585Z"
   },
   {
    "duration": 29334,
    "start_time": "2023-02-16T12:41:16.455Z"
   },
   {
    "duration": 8,
    "start_time": "2023-02-16T12:41:45.791Z"
   },
   {
    "duration": 92,
    "start_time": "2023-02-16T12:41:45.800Z"
   },
   {
    "duration": 690,
    "start_time": "2023-02-16T12:41:45.894Z"
   },
   {
    "duration": 6,
    "start_time": "2023-02-16T12:41:46.586Z"
   },
   {
    "duration": 2,
    "start_time": "2023-02-16T12:41:51.454Z"
   },
   {
    "duration": 1371,
    "start_time": "2023-02-16T12:42:01.575Z"
   },
   {
    "duration": 47,
    "start_time": "2023-02-16T12:42:02.948Z"
   },
   {
    "duration": 7,
    "start_time": "2023-02-16T12:42:02.996Z"
   },
   {
    "duration": 244,
    "start_time": "2023-02-16T12:42:03.005Z"
   },
   {
    "duration": 14,
    "start_time": "2023-02-16T12:42:03.250Z"
   },
   {
    "duration": 17,
    "start_time": "2023-02-16T12:42:03.266Z"
   },
   {
    "duration": 431,
    "start_time": "2023-02-16T12:42:03.285Z"
   },
   {
    "duration": 6,
    "start_time": "2023-02-16T12:42:03.718Z"
   },
   {
    "duration": 249,
    "start_time": "2023-02-16T12:42:03.726Z"
   },
   {
    "duration": 188,
    "start_time": "2023-02-16T12:42:03.978Z"
   },
   {
    "duration": 193,
    "start_time": "2023-02-16T12:42:04.168Z"
   },
   {
    "duration": 278,
    "start_time": "2023-02-16T12:42:04.363Z"
   },
   {
    "duration": 4,
    "start_time": "2023-02-16T12:42:04.642Z"
   },
   {
    "duration": 6,
    "start_time": "2023-02-16T12:42:04.648Z"
   },
   {
    "duration": 7,
    "start_time": "2023-02-16T12:42:04.656Z"
   },
   {
    "duration": 34,
    "start_time": "2023-02-16T12:42:04.665Z"
   },
   {
    "duration": 13,
    "start_time": "2023-02-16T12:42:04.701Z"
   },
   {
    "duration": 3,
    "start_time": "2023-02-16T12:42:04.715Z"
   },
   {
    "duration": 5,
    "start_time": "2023-02-16T12:42:04.720Z"
   },
   {
    "duration": 6458,
    "start_time": "2023-02-16T12:42:04.727Z"
   },
   {
    "duration": 31012,
    "start_time": "2023-02-16T12:42:11.187Z"
   },
   {
    "duration": 90793,
    "start_time": "2023-02-16T12:42:42.200Z"
   },
   {
    "duration": 8,
    "start_time": "2023-02-16T12:44:12.995Z"
   },
   {
    "duration": 179,
    "start_time": "2023-02-16T12:44:13.004Z"
   },
   {
    "duration": 800,
    "start_time": "2023-02-16T12:44:13.187Z"
   },
   {
    "duration": 7,
    "start_time": "2023-02-16T12:44:13.988Z"
   },
   {
    "duration": 104,
    "start_time": "2023-02-16T12:47:44.652Z"
   },
   {
    "duration": 1345,
    "start_time": "2023-02-16T12:47:48.899Z"
   },
   {
    "duration": 47,
    "start_time": "2023-02-16T12:47:50.246Z"
   },
   {
    "duration": 6,
    "start_time": "2023-02-16T12:47:50.295Z"
   },
   {
    "duration": 237,
    "start_time": "2023-02-16T12:47:50.304Z"
   },
   {
    "duration": 14,
    "start_time": "2023-02-16T12:47:50.543Z"
   },
   {
    "duration": 4,
    "start_time": "2023-02-16T12:47:50.558Z"
   },
   {
    "duration": 448,
    "start_time": "2023-02-16T12:47:50.564Z"
   },
   {
    "duration": 7,
    "start_time": "2023-02-16T12:47:51.014Z"
   },
   {
    "duration": 261,
    "start_time": "2023-02-16T12:47:51.023Z"
   },
   {
    "duration": 194,
    "start_time": "2023-02-16T12:47:51.286Z"
   },
   {
    "duration": 184,
    "start_time": "2023-02-16T12:47:51.484Z"
   },
   {
    "duration": 286,
    "start_time": "2023-02-16T12:47:51.670Z"
   },
   {
    "duration": 4,
    "start_time": "2023-02-16T12:47:51.958Z"
   },
   {
    "duration": 10,
    "start_time": "2023-02-16T12:47:51.963Z"
   },
   {
    "duration": 10,
    "start_time": "2023-02-16T12:47:51.974Z"
   },
   {
    "duration": 116,
    "start_time": "2023-02-16T12:47:51.985Z"
   },
   {
    "duration": 26,
    "start_time": "2023-02-16T12:47:52.103Z"
   },
   {
    "duration": 3,
    "start_time": "2023-02-16T12:47:52.131Z"
   },
   {
    "duration": 9,
    "start_time": "2023-02-16T12:47:52.135Z"
   },
   {
    "duration": 14148,
    "start_time": "2023-02-16T12:47:52.145Z"
   },
   {
    "duration": 31059,
    "start_time": "2023-02-16T12:48:06.385Z"
   },
   {
    "duration": 203452,
    "start_time": "2023-02-16T12:48:37.445Z"
   },
   {
    "duration": 9,
    "start_time": "2023-02-16T12:52:00.986Z"
   },
   {
    "duration": 290,
    "start_time": "2023-02-16T12:52:00.997Z"
   },
   {
    "duration": 1612,
    "start_time": "2023-02-16T12:52:01.289Z"
   },
   {
    "duration": 6,
    "start_time": "2023-02-16T12:52:02.903Z"
   },
   {
    "duration": 1321,
    "start_time": "2023-02-16T13:02:21.735Z"
   },
   {
    "duration": 57,
    "start_time": "2023-02-16T13:02:23.058Z"
   },
   {
    "duration": 7,
    "start_time": "2023-02-16T13:02:23.117Z"
   },
   {
    "duration": 273,
    "start_time": "2023-02-16T13:02:23.126Z"
   },
   {
    "duration": 15,
    "start_time": "2023-02-16T13:02:23.400Z"
   },
   {
    "duration": 16,
    "start_time": "2023-02-16T13:02:23.416Z"
   },
   {
    "duration": 458,
    "start_time": "2023-02-16T13:02:23.434Z"
   },
   {
    "duration": 7,
    "start_time": "2023-02-16T13:02:23.893Z"
   },
   {
    "duration": 275,
    "start_time": "2023-02-16T13:02:23.902Z"
   },
   {
    "duration": 200,
    "start_time": "2023-02-16T13:02:24.180Z"
   },
   {
    "duration": 202,
    "start_time": "2023-02-16T13:02:24.384Z"
   },
   {
    "duration": 274,
    "start_time": "2023-02-16T13:02:24.588Z"
   },
   {
    "duration": 4,
    "start_time": "2023-02-16T13:02:24.864Z"
   },
   {
    "duration": 26,
    "start_time": "2023-02-16T13:02:24.869Z"
   },
   {
    "duration": 30,
    "start_time": "2023-02-16T13:02:24.897Z"
   },
   {
    "duration": 132,
    "start_time": "2023-02-16T13:02:24.928Z"
   },
   {
    "duration": 33,
    "start_time": "2023-02-16T13:02:25.062Z"
   },
   {
    "duration": 3,
    "start_time": "2023-02-16T13:02:25.097Z"
   },
   {
    "duration": 13,
    "start_time": "2023-02-16T13:02:25.101Z"
   },
   {
    "duration": 14077,
    "start_time": "2023-02-16T13:02:25.116Z"
   },
   {
    "duration": 31322,
    "start_time": "2023-02-16T13:02:39.283Z"
   },
   {
    "duration": 206986,
    "start_time": "2023-02-16T13:03:10.607Z"
   },
   {
    "duration": 8,
    "start_time": "2023-02-16T13:06:37.595Z"
   },
   {
    "duration": 283,
    "start_time": "2023-02-16T13:06:37.605Z"
   },
   {
    "duration": 1895,
    "start_time": "2023-02-16T13:06:37.889Z"
   },
   {
    "duration": 6,
    "start_time": "2023-02-16T13:06:39.786Z"
   },
   {
    "duration": 7,
    "start_time": "2023-02-16T16:23:34.876Z"
   },
   {
    "duration": 153,
    "start_time": "2023-02-16T16:23:47.917Z"
   },
   {
    "duration": 73,
    "start_time": "2023-02-16T16:23:57.776Z"
   },
   {
    "duration": 83,
    "start_time": "2023-02-16T16:24:06.724Z"
   },
   {
    "duration": 8,
    "start_time": "2023-02-16T16:24:39.729Z"
   },
   {
    "duration": 1601,
    "start_time": "2023-02-16T16:24:47.880Z"
   },
   {
    "duration": 127,
    "start_time": "2023-02-16T16:24:49.483Z"
   },
   {
    "duration": 8,
    "start_time": "2023-02-16T16:24:49.612Z"
   },
   {
    "duration": 237,
    "start_time": "2023-02-16T16:24:49.623Z"
   },
   {
    "duration": 14,
    "start_time": "2023-02-16T16:24:49.861Z"
   },
   {
    "duration": 13,
    "start_time": "2023-02-16T16:24:49.877Z"
   },
   {
    "duration": 495,
    "start_time": "2023-02-16T16:24:49.894Z"
   },
   {
    "duration": 7,
    "start_time": "2023-02-16T16:24:50.391Z"
   },
   {
    "duration": 255,
    "start_time": "2023-02-16T16:24:50.400Z"
   },
   {
    "duration": 202,
    "start_time": "2023-02-16T16:24:50.657Z"
   },
   {
    "duration": 213,
    "start_time": "2023-02-16T16:24:50.860Z"
   },
   {
    "duration": 277,
    "start_time": "2023-02-16T16:24:51.075Z"
   },
   {
    "duration": 5,
    "start_time": "2023-02-16T16:24:51.354Z"
   },
   {
    "duration": 24,
    "start_time": "2023-02-16T16:24:51.361Z"
   },
   {
    "duration": 26,
    "start_time": "2023-02-16T16:24:51.387Z"
   },
   {
    "duration": 130,
    "start_time": "2023-02-16T16:24:51.415Z"
   },
   {
    "duration": 27,
    "start_time": "2023-02-16T16:24:51.547Z"
   },
   {
    "duration": 3,
    "start_time": "2023-02-16T16:24:51.575Z"
   },
   {
    "duration": 7,
    "start_time": "2023-02-16T16:24:51.580Z"
   },
   {
    "duration": 17064,
    "start_time": "2023-02-16T16:24:51.589Z"
   },
   {
    "duration": 31461,
    "start_time": "2023-02-16T16:25:08.656Z"
   },
   {
    "duration": 1230538,
    "start_time": "2023-02-16T16:25:40.119Z"
   },
   {
    "duration": 8,
    "start_time": "2023-02-16T16:46:10.659Z"
   },
   {
    "duration": 3,
    "start_time": "2023-02-16T16:46:10.669Z"
   },
   {
    "duration": 377,
    "start_time": "2023-02-16T16:46:10.674Z"
   },
   {
    "duration": 1606,
    "start_time": "2023-02-16T16:46:11.053Z"
   },
   {
    "duration": 6,
    "start_time": "2023-02-16T16:46:12.661Z"
   },
   {
    "duration": 8,
    "start_time": "2023-02-16T16:46:12.751Z"
   },
   {
    "duration": 101,
    "start_time": "2023-02-26T13:25:29.110Z"
   }
  ],
  "kernelspec": {
   "display_name": "Python 3 (ipykernel)",
   "language": "python",
   "name": "python3"
  },
  "language_info": {
   "codemirror_mode": {
    "name": "ipython",
    "version": 3
   },
   "file_extension": ".py",
   "mimetype": "text/x-python",
   "name": "python",
   "nbconvert_exporter": "python",
   "pygments_lexer": "ipython3",
   "version": "3.9.12"
  },
  "toc": {
   "base_numbering": 1,
   "nav_menu": {},
   "number_sections": true,
   "sideBar": true,
   "skip_h1_title": true,
   "title_cell": "Содержание",
   "title_sidebar": "Contents",
   "toc_cell": true,
   "toc_position": {},
   "toc_section_display": true,
   "toc_window_display": false
  }
 },
 "nbformat": 4,
 "nbformat_minor": 2
}
