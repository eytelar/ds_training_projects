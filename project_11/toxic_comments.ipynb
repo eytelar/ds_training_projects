{
 "cells": [
  {
   "cell_type": "markdown",
   "metadata": {
    "toc": true
   },
   "source": [
    "<h1>Содержание<span class=\"tocSkip\"></span></h1>\n",
    "<div class=\"toc\"><ul class=\"toc-item\"><li><ul class=\"toc-item\"><li><span><a href=\"#Общее-впечатление\" data-toc-modified-id=\"Общее-впечатление-0.1\"><span class=\"toc-item-num\">0.1&nbsp;&nbsp;</span><font color=\"orange\">Общее впечатление</font></a></span></li><li><span><a href=\"#Общее-впечатление-(ревью-2)\" data-toc-modified-id=\"Общее-впечатление-(ревью-2)-0.2\"><span class=\"toc-item-num\">0.2&nbsp;&nbsp;</span><font color=\"orange\">Общее впечатление (ревью 2)</font></a></span></li></ul></li><li><span><a href=\"#Подготовка\" data-toc-modified-id=\"Подготовка-1\"><span class=\"toc-item-num\">1&nbsp;&nbsp;</span>Подготовка</a></span></li><li><span><a href=\"#Обучение\" data-toc-modified-id=\"Обучение-2\"><span class=\"toc-item-num\">2&nbsp;&nbsp;</span>Обучение</a></span><ul class=\"toc-item\"><li><span><a href=\"#Логистическая-регрессия\" data-toc-modified-id=\"Логистическая-регрессия-2.1\"><span class=\"toc-item-num\">2.1&nbsp;&nbsp;</span>Логистическая регрессия</a></span></li><li><span><a href=\"#Метод-опорных-векторов-LinearSVC\" data-toc-modified-id=\"Метод-опорных-векторов-LinearSVC-2.2\"><span class=\"toc-item-num\">2.2&nbsp;&nbsp;</span>Метод опорных векторов LinearSVC</a></span></li><li><span><a href=\"#Наивные-методы-Байеса-MultinomialNB\" data-toc-modified-id=\"Наивные-методы-Байеса-MultinomialNB-2.3\"><span class=\"toc-item-num\">2.3&nbsp;&nbsp;</span>Наивные методы Байеса MultinomialNB</a></span></li><li><span><a href=\"#Проверка-LinearSVC-на-тестовой-выборке\" data-toc-modified-id=\"Проверка-LinearSVC-на-тестовой-выборке-2.4\"><span class=\"toc-item-num\">2.4&nbsp;&nbsp;</span>Проверка LinearSVC на тестовой выборке</a></span></li></ul></li><li><span><a href=\"#Выводы\" data-toc-modified-id=\"Выводы-3\"><span class=\"toc-item-num\">3&nbsp;&nbsp;</span>Выводы</a></span></li><li><span><a href=\"#Чек-лист-проверки\" data-toc-modified-id=\"Чек-лист-проверки-4\"><span class=\"toc-item-num\">4&nbsp;&nbsp;</span>Чек-лист проверки</a></span></li></ul></div>"
   ]
  },
  {
   "cell_type": "markdown",
   "metadata": {},
   "source": [
    "# Проект для «Викишоп»"
   ]
  },
  {
   "cell_type": "markdown",
   "metadata": {},
   "source": [
    "Интернет-магазин «Викишоп» запускает новый сервис. Теперь пользователи могут редактировать и дополнять описания товаров, как в вики-сообществах. То есть клиенты предлагают свои правки и комментируют изменения других. Магазину нужен инструмент, который будет искать токсичные комментарии и отправлять их на модерацию. \n",
    "\n",
    "Обучите модель классифицировать комментарии на позитивные и негативные. В вашем распоряжении набор данных с разметкой о токсичности правок.\n",
    "\n",
    "Постройте модель со значением метрики качества *F1* не меньше 0.75. \n",
    "\n",
    "**Инструкция по выполнению проекта**\n",
    "\n",
    "1. Загрузите и подготовьте данные.\n",
    "2. Обучите разные модели. \n",
    "3. Сделайте выводы.\n",
    "\n",
    "Для выполнения проекта применять *BERT* необязательно, но вы можете попробовать.\n",
    "\n",
    "**Описание данных**\n",
    "\n",
    "Данные находятся в файле `toxic_comments.csv`. Столбец *text* в нём содержит текст комментария, а *toxic* — целевой признак."
   ]
  },
  {
   "cell_type": "markdown",
   "metadata": {},
   "source": [
    "## Подготовка"
   ]
  },
  {
   "cell_type": "code",
   "execution_count": 1,
   "metadata": {},
   "outputs": [
    {
     "name": "stderr",
     "output_type": "stream",
     "text": [
      "[nltk_data] Downloading package punkt to /home/jovyan/nltk_data...\n",
      "[nltk_data]   Package punkt is already up-to-date!\n",
      "[nltk_data] Downloading package wordnet to /home/jovyan/nltk_data...\n",
      "[nltk_data]   Package wordnet is already up-to-date!\n",
      "[nltk_data] Downloading package averaged_perceptron_tagger to\n",
      "[nltk_data]     /home/jovyan/nltk_data...\n",
      "[nltk_data]   Package averaged_perceptron_tagger is already up-to-\n",
      "[nltk_data]       date!\n"
     ]
    }
   ],
   "source": [
    "import pandas as pd\n",
    "import seaborn as sns\n",
    "import re\n",
    "from tqdm import notebook\n",
    "from tqdm import tqdm\n",
    "import time\n",
    "\n",
    "# библиотека nltk\n",
    "import nltk\n",
    "from nltk.stem import WordNetLemmatizer\n",
    "from nltk.corpus import wordnet\n",
    "nltk.download('punkt')\n",
    "nltk.download('wordnet')\n",
    "nltk.download('averaged_perceptron_tagger')\n",
    "from nltk.corpus import stopwords as nltk_stopwords\n",
    "\n",
    "# методы и метрики библиотеки sklearn\n",
    "from sklearn.pipeline import Pipeline\n",
    "from sklearn.feature_extraction.text import TfidfVectorizer\n",
    "from sklearn.model_selection import RandomizedSearchCV\n",
    "from sklearn.model_selection import train_test_split\n",
    "from sklearn.metrics import f1_score\n",
    "\n",
    "# модели\n",
    "from sklearn.linear_model import LogisticRegression\n",
    "from sklearn.svm import LinearSVC\n",
    "from sklearn.naive_bayes import MultinomialNB\n",
    "\n",
    "# отключаем предупреждения\n",
    "import warnings\n",
    "warnings.filterwarnings('ignore')"
   ]
  },
  {
   "cell_type": "code",
   "execution_count": 2,
   "metadata": {},
   "outputs": [],
   "source": [
    "data = pd.read_csv('/datasets/toxic_comments.csv')"
   ]
  },
  {
   "cell_type": "code",
   "execution_count": 3,
   "metadata": {},
   "outputs": [
    {
     "data": {
      "text/html": [
       "<div>\n",
       "<style scoped>\n",
       "    .dataframe tbody tr th:only-of-type {\n",
       "        vertical-align: middle;\n",
       "    }\n",
       "\n",
       "    .dataframe tbody tr th {\n",
       "        vertical-align: top;\n",
       "    }\n",
       "\n",
       "    .dataframe thead th {\n",
       "        text-align: right;\n",
       "    }\n",
       "</style>\n",
       "<table border=\"1\" class=\"dataframe\">\n",
       "  <thead>\n",
       "    <tr style=\"text-align: right;\">\n",
       "      <th></th>\n",
       "      <th>Unnamed: 0</th>\n",
       "      <th>text</th>\n",
       "      <th>toxic</th>\n",
       "    </tr>\n",
       "  </thead>\n",
       "  <tbody>\n",
       "    <tr>\n",
       "      <th>159282</th>\n",
       "      <td>159441</td>\n",
       "      <td>\"\\nNo he did not, read it again (I would have ...</td>\n",
       "      <td>0</td>\n",
       "    </tr>\n",
       "    <tr>\n",
       "      <th>159283</th>\n",
       "      <td>159442</td>\n",
       "      <td>\"\\n Auto guides and the motoring press are not...</td>\n",
       "      <td>0</td>\n",
       "    </tr>\n",
       "    <tr>\n",
       "      <th>159284</th>\n",
       "      <td>159443</td>\n",
       "      <td>\"\\nplease identify what part of BLP applies be...</td>\n",
       "      <td>0</td>\n",
       "    </tr>\n",
       "    <tr>\n",
       "      <th>159285</th>\n",
       "      <td>159444</td>\n",
       "      <td>Catalan independentism is the social movement ...</td>\n",
       "      <td>0</td>\n",
       "    </tr>\n",
       "    <tr>\n",
       "      <th>159286</th>\n",
       "      <td>159445</td>\n",
       "      <td>The numbers in parentheses are the additional ...</td>\n",
       "      <td>0</td>\n",
       "    </tr>\n",
       "    <tr>\n",
       "      <th>159287</th>\n",
       "      <td>159446</td>\n",
       "      <td>\":::::And for the second time of asking, when ...</td>\n",
       "      <td>0</td>\n",
       "    </tr>\n",
       "    <tr>\n",
       "      <th>159288</th>\n",
       "      <td>159447</td>\n",
       "      <td>You should be ashamed of yourself \\n\\nThat is ...</td>\n",
       "      <td>0</td>\n",
       "    </tr>\n",
       "    <tr>\n",
       "      <th>159289</th>\n",
       "      <td>159448</td>\n",
       "      <td>Spitzer \\n\\nUmm, theres no actual article for ...</td>\n",
       "      <td>0</td>\n",
       "    </tr>\n",
       "    <tr>\n",
       "      <th>159290</th>\n",
       "      <td>159449</td>\n",
       "      <td>And it looks like it was actually you who put ...</td>\n",
       "      <td>0</td>\n",
       "    </tr>\n",
       "    <tr>\n",
       "      <th>159291</th>\n",
       "      <td>159450</td>\n",
       "      <td>\"\\nAnd ... I really don't think you understand...</td>\n",
       "      <td>0</td>\n",
       "    </tr>\n",
       "  </tbody>\n",
       "</table>\n",
       "</div>"
      ],
      "text/plain": [
       "        Unnamed: 0                                               text  toxic\n",
       "159282      159441  \"\\nNo he did not, read it again (I would have ...      0\n",
       "159283      159442  \"\\n Auto guides and the motoring press are not...      0\n",
       "159284      159443  \"\\nplease identify what part of BLP applies be...      0\n",
       "159285      159444  Catalan independentism is the social movement ...      0\n",
       "159286      159445  The numbers in parentheses are the additional ...      0\n",
       "159287      159446  \":::::And for the second time of asking, when ...      0\n",
       "159288      159447  You should be ashamed of yourself \\n\\nThat is ...      0\n",
       "159289      159448  Spitzer \\n\\nUmm, theres no actual article for ...      0\n",
       "159290      159449  And it looks like it was actually you who put ...      0\n",
       "159291      159450  \"\\nAnd ... I really don't think you understand...      0"
      ]
     },
     "metadata": {},
     "output_type": "display_data"
    },
    {
     "name": "stdout",
     "output_type": "stream",
     "text": [
      "<class 'pandas.core.frame.DataFrame'>\n",
      "RangeIndex: 159292 entries, 0 to 159291\n",
      "Data columns (total 3 columns):\n",
      " #   Column      Non-Null Count   Dtype \n",
      "---  ------      --------------   ----- \n",
      " 0   Unnamed: 0  159292 non-null  int64 \n",
      " 1   text        159292 non-null  object\n",
      " 2   toxic       159292 non-null  int64 \n",
      "dtypes: int64(2), object(1)\n",
      "memory usage: 3.6+ MB\n"
     ]
    },
    {
     "data": {
      "text/plain": [
       "None"
      ]
     },
     "metadata": {},
     "output_type": "display_data"
    }
   ],
   "source": [
    "display(data.tail(10))\n",
    "display(data.info())"
   ]
  },
  {
   "cell_type": "markdown",
   "metadata": {},
   "source": [
    "* В данном датасете 159 292 наблюдения и 3 столбца\n",
    "* Столбец **Unnamed: 0** не несет какой либо смысловой нагрузки для обучения моделей и не соответствует реальному порядку по индексам, поэтому его в обучении использовать не будем\n",
    "* Пропусков в данных не наблюдается\n",
    "* Тест содержит комментарии на английском, в которых есть различные символы "
   ]
  },
  {
   "cell_type": "code",
   "execution_count": 4,
   "metadata": {
    "scrolled": true
   },
   "outputs": [
    {
     "name": "stdout",
     "output_type": "stream",
     "text": [
      "Всего комментариев: 159292\n",
      "Позитивных комментариев: 143106 - 89.8%\n",
      "Негативных комментариев: 10.2%\n"
     ]
    },
    {
     "data": {
      "image/png": "[encoded data removed]",
      "text/plain": [
       "<Figure size 432x288 with 1 Axes>"
      ]
     },
     "metadata": {
      "needs_background": "light"
     },
     "output_type": "display_data"
    }
   ],
   "source": [
    "positive = (data[data['toxic'] == 0]).shape[0]\n",
    "negative = (data[data['toxic'] == 1]).shape[0]\n",
    "\n",
    "print(f'Всего комментариев: {data.shape[0]}')\n",
    "print(f'Позитивных комментариев: {positive} - {round(positive / data.shape[0], 3) * 100}%')\n",
    "print(f'Негативных комментариев: {round(negative / data.shape[0], 3) * 100}%')\n",
    "\n",
    "sns.countplot(x='toxic', data=data);"
   ]
  },
  {
   "cell_type": "code",
   "execution_count": 5,
   "metadata": {},
   "outputs": [],
   "source": [
    "lemmatizer = WordNetLemmatizer()"
   ]
  },
  {
   "cell_type": "code",
   "execution_count": 6,
   "metadata": {},
   "outputs": [],
   "source": [
    "tqdm.pandas()\n",
    "\n",
    "def clear_lemm_text(text):\n",
    "    \n",
    "    # удалим все символы, кроме букв английского алфавита\n",
    "    clear_text = re.sub(r'[^a-zA-Z]', ' ', text)\n",
    "    # удалим лишние пробелы между словами\n",
    "    clear_text = ' '.join(clear_text.split())\n",
    "    \n",
    "    # разобьем очищенный от символов текст на отдельные токены\n",
    "    tokens = nltk.word_tokenize(clear_text)\n",
    "    # лемматизируем каждый токен и объединяем леммы в строку\n",
    "    lemm_text = ' '.join([lemmatizer.lemmatize(token) for token in tokens])\n",
    "    \n",
    "    return lemm_text"
   ]
  },
  {
   "cell_type": "code",
   "execution_count": 7,
   "metadata": {},
   "outputs": [
    {
     "name": "stderr",
     "output_type": "stream",
     "text": [
      "100%|██████████| 159292/159292 [01:39<00:00, 1599.39it/s]\n"
     ]
    },
    {
     "data": {
      "text/html": [
       "<div>\n",
       "<style scoped>\n",
       "    .dataframe tbody tr th:only-of-type {\n",
       "        vertical-align: middle;\n",
       "    }\n",
       "\n",
       "    .dataframe tbody tr th {\n",
       "        vertical-align: top;\n",
       "    }\n",
       "\n",
       "    .dataframe thead th {\n",
       "        text-align: right;\n",
       "    }\n",
       "</style>\n",
       "<table border=\"1\" class=\"dataframe\">\n",
       "  <thead>\n",
       "    <tr style=\"text-align: right;\">\n",
       "      <th></th>\n",
       "      <th>Unnamed: 0</th>\n",
       "      <th>text</th>\n",
       "      <th>toxic</th>\n",
       "      <th>lemm_text</th>\n",
       "    </tr>\n",
       "  </thead>\n",
       "  <tbody>\n",
       "    <tr>\n",
       "      <th>0</th>\n",
       "      <td>0</td>\n",
       "      <td>Explanation\\nWhy the edits made under my usern...</td>\n",
       "      <td>0</td>\n",
       "      <td>Explanation Why the edits made under my userna...</td>\n",
       "    </tr>\n",
       "    <tr>\n",
       "      <th>1</th>\n",
       "      <td>1</td>\n",
       "      <td>D'aww! He matches this background colour I'm s...</td>\n",
       "      <td>0</td>\n",
       "      <td>D aww He match this background colour I m seem...</td>\n",
       "    </tr>\n",
       "    <tr>\n",
       "      <th>2</th>\n",
       "      <td>2</td>\n",
       "      <td>Hey man, I'm really not trying to edit war. It...</td>\n",
       "      <td>0</td>\n",
       "      <td>Hey man I m really not trying to edit war It s...</td>\n",
       "    </tr>\n",
       "    <tr>\n",
       "      <th>3</th>\n",
       "      <td>3</td>\n",
       "      <td>\"\\nMore\\nI can't make any real suggestions on ...</td>\n",
       "      <td>0</td>\n",
       "      <td>More I can t make any real suggestion on impro...</td>\n",
       "    </tr>\n",
       "    <tr>\n",
       "      <th>4</th>\n",
       "      <td>4</td>\n",
       "      <td>You, sir, are my hero. Any chance you remember...</td>\n",
       "      <td>0</td>\n",
       "      <td>You sir are my hero Any chance you remember wh...</td>\n",
       "    </tr>\n",
       "  </tbody>\n",
       "</table>\n",
       "</div>"
      ],
      "text/plain": [
       "   Unnamed: 0                                               text  toxic  \\\n",
       "0           0  Explanation\\nWhy the edits made under my usern...      0   \n",
       "1           1  D'aww! He matches this background colour I'm s...      0   \n",
       "2           2  Hey man, I'm really not trying to edit war. It...      0   \n",
       "3           3  \"\\nMore\\nI can't make any real suggestions on ...      0   \n",
       "4           4  You, sir, are my hero. Any chance you remember...      0   \n",
       "\n",
       "                                           lemm_text  \n",
       "0  Explanation Why the edits made under my userna...  \n",
       "1  D aww He match this background colour I m seem...  \n",
       "2  Hey man I m really not trying to edit war It s...  \n",
       "3  More I can t make any real suggestion on impro...  \n",
       "4  You sir are my hero Any chance you remember wh...  "
      ]
     },
     "execution_count": 7,
     "metadata": {},
     "output_type": "execute_result"
    }
   ],
   "source": [
    "data['lemm_text'] = data['text'].progress_apply(clear_lemm_text)\n",
    "data.head()"
   ]
  },
  {
   "cell_type": "code",
   "execution_count": 8,
   "metadata": {},
   "outputs": [],
   "source": [
    "features = data['lemm_text']\n",
    "target = data['toxic']\n",
    "\n",
    "SEED = 12345\n",
    "CV = 2"
   ]
  },
  {
   "cell_type": "code",
   "execution_count": 9,
   "metadata": {},
   "outputs": [
    {
     "data": {
      "text/plain": [
       "True"
      ]
     },
     "execution_count": 9,
     "metadata": {},
     "output_type": "execute_result"
    }
   ],
   "source": [
    "# делим данные на обучающую и общую выборку в соотношении 70%:30%\n",
    "features_train, features_sample, target_train, target_sample = train_test_split(features,\n",
    "                                                                                target,\n",
    "                                                                                test_size=0.3,\n",
    "                                                                                random_state=SEED)\n",
    "\n",
    "# делим данные на валидационную и тестовую выборку по 15%\n",
    "features_valid, features_test, target_valid, target_test = train_test_split(features_sample,\n",
    "                                                                            target_sample,\n",
    "                                                                            test_size=0.5,\n",
    "                                                                            random_state=SEED)\n",
    "\n",
    "# проверяем, что ничего не потерялось\n",
    "data.shape[0] == features_train.shape[0] + features_valid.shape[0] + features_test.shape[0]"
   ]
  },
  {
   "cell_type": "code",
   "execution_count": 10,
   "metadata": {},
   "outputs": [
    {
     "name": "stderr",
     "output_type": "stream",
     "text": [
      "[nltk_data] Downloading package stopwords to /home/jovyan/nltk_data...\n",
      "[nltk_data]   Package stopwords is already up-to-date!\n"
     ]
    }
   ],
   "source": [
    "nltk.download('stopwords')\n",
    "stopwords = set(nltk_stopwords.words('english'))\n",
    "\n",
    "# инициализируем векторайзер со стоп-словами\n",
    "tf_idf = TfidfVectorizer(stop_words=stopwords)\n",
    "\n",
    "# преобразуем текст в числовые вектора\n",
    "features_train_tfidf = tf_idf.fit_transform(features_train)\n",
    "features_valid_tfidf = tf_idf.transform(features_valid)\n",
    "features_test_tfidf = tf_idf.transform(features_test)"
   ]
  },
  {
   "cell_type": "markdown",
   "metadata": {},
   "source": [
    "## Обучение"
   ]
  },
  {
   "cell_type": "markdown",
   "metadata": {},
   "source": [
    "### Логистическая регрессия"
   ]
  },
  {
   "cell_type": "code",
   "execution_count": 17,
   "metadata": {},
   "outputs": [
    {
     "name": "stdout",
     "output_type": "stream",
     "text": [
      "Метрика F1 = 0.735939468513962\n",
      "Наилучшие гиперпараметры модели: {'lr__solver': 'newton-cg'}\n",
      "\n",
      "CPU times: user 1min 52s, sys: 1min 8s, total: 3min\n",
      "Wall time: 3min 1s\n"
     ]
    }
   ],
   "source": [
    "%%time\n",
    "\n",
    "lr_pipeline = Pipeline([\n",
    "    ('tfidf', TfidfVectorizer(stop_words=stopwords)),\n",
    "    ('lr', LogisticRegression(random_state=SEED, class_weight='balanced'))\n",
    "])\n",
    "\n",
    "parameters = {\n",
    "    'lr__solver': ['newton-cg', 'lbfgs', 'liblinear', 'sag', 'saga']\n",
    "}\n",
    "\n",
    "# выполняем кросс-валидацию с подбором гиперпараметров\n",
    "model_lr = RandomizedSearchCV(lr_pipeline,\n",
    "                              parameters,\n",
    "                              cv=2,\n",
    "                              scoring='f1',\n",
    "                              random_state=SEED,\n",
    "                              n_jobs=-1)\n",
    "\n",
    "# замеряем время обучения\n",
    "start = time.time()\n",
    "model_lr.fit(features_train, target_train)\n",
    "train_time_lr = round(time.time() - start, 2)\n",
    "\n",
    "f1_lr = model_lr.best_score_\n",
    "\n",
    "# выводим наилучшее значение метрики и гиперпараметры модели\n",
    "print(f'Метрика F1 = {f1_lr}')\n",
    "print(f'Наилучшие гиперпараметры модели: {model_lr.best_params_}')\n",
    "print()"
   ]
  },
  {
   "cell_type": "markdown",
   "metadata": {},
   "source": [
    "### Метод опорных векторов LinearSVC"
   ]
  },
  {
   "cell_type": "code",
   "execution_count": 18,
   "metadata": {},
   "outputs": [
    {
     "name": "stdout",
     "output_type": "stream",
     "text": [
      "Метрика F1 равна 0.79\n",
      "\n"
     ]
    }
   ],
   "source": [
    "model_svc = LinearSVC(random_state=SEED)\n",
    "\n",
    "# замеряем время обучения\n",
    "start = time.time()\n",
    "model_svc.fit(features_train_tfidf, target_train)\n",
    "train_time_svc = round(time.time() - start, 2)\n",
    "\n",
    "predictions = model_svc.predict(features_valid_tfidf)\n",
    "    \n",
    "f1_svc = round(f1_score(target_valid, predictions), 2)\n",
    "\n",
    "print(f'Метрика F1 равна {f1_svc}')\n",
    "print()"
   ]
  },
  {
   "cell_type": "markdown",
   "metadata": {},
   "source": [
    "### Наивные методы Байеса MultinomialNB"
   ]
  },
  {
   "cell_type": "code",
   "execution_count": 19,
   "metadata": {},
   "outputs": [
    {
     "name": "stdout",
     "output_type": "stream",
     "text": [
      "Метрика F1 равна 0.62\n",
      "\n",
      "CPU times: user 56.5 ms, sys: 286 µs, total: 56.8 ms\n",
      "Wall time: 54.1 ms\n"
     ]
    }
   ],
   "source": [
    "%%time\n",
    "\n",
    "model_nb = MultinomialNB(fit_prior=False)\n",
    "\n",
    "# замеряем время обучения\n",
    "start = time.time()\n",
    "model_nb.fit(features_train_tfidf, target_train)\n",
    "train_time_nb = round(time.time() - start, 2)\n",
    "\n",
    "predictions = model_nb.predict(features_valid_tfidf)\n",
    "    \n",
    "f1_nb = round(f1_score(target_valid, predictions), 2)\n",
    "\n",
    "print(f'Метрика F1 равна {f1_nb}')\n",
    "print()"
   ]
  },
  {
   "cell_type": "code",
   "execution_count": 20,
   "metadata": {},
   "outputs": [
    {
     "data": {
      "text/html": [
       "<div>\n",
       "<style scoped>\n",
       "    .dataframe tbody tr th:only-of-type {\n",
       "        vertical-align: middle;\n",
       "    }\n",
       "\n",
       "    .dataframe tbody tr th {\n",
       "        vertical-align: top;\n",
       "    }\n",
       "\n",
       "    .dataframe thead th {\n",
       "        text-align: right;\n",
       "    }\n",
       "</style>\n",
       "<table border=\"1\" class=\"dataframe\">\n",
       "  <thead>\n",
       "    <tr style=\"text-align: right;\">\n",
       "      <th></th>\n",
       "      <th>Модель</th>\n",
       "      <th>Значение F1</th>\n",
       "      <th>Время обучения</th>\n",
       "    </tr>\n",
       "  </thead>\n",
       "  <tbody>\n",
       "    <tr>\n",
       "      <th>0</th>\n",
       "      <td>Логистическая регрессия</td>\n",
       "      <td>0.735939</td>\n",
       "      <td>181.03</td>\n",
       "    </tr>\n",
       "    <tr>\n",
       "      <th>1</th>\n",
       "      <td>LinearSVC</td>\n",
       "      <td>0.790000</td>\n",
       "      <td>1.24</td>\n",
       "    </tr>\n",
       "    <tr>\n",
       "      <th>2</th>\n",
       "      <td>MultinomialNB</td>\n",
       "      <td>0.620000</td>\n",
       "      <td>0.04</td>\n",
       "    </tr>\n",
       "  </tbody>\n",
       "</table>\n",
       "</div>"
      ],
      "text/plain": [
       "                    Модель  Значение F1  Время обучения\n",
       "0  Логистическая регрессия     0.735939          181.03\n",
       "1                LinearSVC     0.790000            1.24\n",
       "2            MultinomialNB     0.620000            0.04"
      ]
     },
     "execution_count": 20,
     "metadata": {},
     "output_type": "execute_result"
    }
   ],
   "source": [
    "compare = pd.DataFrame({\n",
    "    'Модель': ['Логистическая регрессия', 'LinearSVC', 'MultinomialNB'],\n",
    "    'Значение F1': [f1_lr, f1_svc, f1_nb],\n",
    "    'Время обучения': [train_time_lr, train_time_svc, train_time_nb]\n",
    "})\n",
    "\n",
    "compare"
   ]
  },
  {
   "cell_type": "markdown",
   "metadata": {},
   "source": [
    "<div style=\"border:solid silver 2px; padding: 30px\">\n",
    "    \n",
    "* Лучшей моделью по показателям метрики f1-меры оказалась LinearSVC, поэтому проверим её на тестовых данных. По скорости обучения без дополнительных гиперпараметров она оказалась на втором месте, что является хорошим результатом\n",
    "* MultinomialNB хоть и быстро обучается, но выдает результаты хуже остальных моделей и даже не дошла до границы метрики качества в 0.75"
   ]
  },
  {
   "cell_type": "markdown",
   "metadata": {},
   "source": [
    "### Проверка LinearSVC на тестовой выборке"
   ]
  },
  {
   "cell_type": "code",
   "execution_count": 16,
   "metadata": {},
   "outputs": [
    {
     "name": "stdout",
     "output_type": "stream",
     "text": [
      "Метрика F1 на тестовой выборке равна 0.77\n",
      "\n"
     ]
    }
   ],
   "source": [
    "model_svc = LinearSVC(random_state=SEED)\n",
    "\n",
    "model_svc.fit(features_train_tfidf, target_train)\n",
    "predictions = model_svc.predict(features_test_tfidf)\n",
    "    \n",
    "f1_svc = round(f1_score(target_test, predictions), 2)\n",
    "\n",
    "print(f'Метрика F1 на тестовой выборке равна {f1_svc}')\n",
    "print()"
   ]
  },
  {
   "cell_type": "markdown",
   "metadata": {},
   "source": [
    "## Выводы"
   ]
  },
  {
   "cell_type": "markdown",
   "metadata": {},
   "source": [
    "<div style=\"border:solid silver 2px; padding: 30px\">\n",
    "    \n",
    "* Интернет-магазину «Викишоп» для поиска токсичных комментариев стоит порекомендовать модель метода опорных векторов LinearSVC, которая показала F1-меру 0.77 на тестовом наборе данных"
   ]
  },
  {
   "cell_type": "markdown",
   "metadata": {},
   "source": [
    "## Чек-лист проверки"
   ]
  },
  {
   "cell_type": "markdown",
   "metadata": {},
   "source": [
    "- [x]  Jupyter Notebook открыт\n",
    "- [x]  Весь код выполняется без ошибок\n",
    "- [x]  Ячейки с кодом расположены в порядке исполнения\n",
    "- [x]  Данные загружены и подготовлены\n",
    "- [x]  Модели обучены\n",
    "- [x]  Значение метрики *F1* не меньше 0.75\n",
    "- [x]  Выводы написаны"
   ]
  }
 ],
 "metadata": {
  "ExecuteTimeLog": [
   {
    "duration": 443,
    "start_time": "2023-02-21T12:59:02.712Z"
   },
   {
    "duration": 125,
    "start_time": "2023-02-21T12:59:23.395Z"
   },
   {
    "duration": 3716,
    "start_time": "2023-02-21T12:59:43.141Z"
   },
   {
    "duration": 50,
    "start_time": "2023-02-21T13:01:26.394Z"
   },
   {
    "duration": 35,
    "start_time": "2023-02-21T13:01:32.719Z"
   },
   {
    "duration": 5,
    "start_time": "2023-02-21T13:01:58.661Z"
   },
   {
    "duration": 10,
    "start_time": "2023-02-21T13:07:09.235Z"
   },
   {
    "duration": 8,
    "start_time": "2023-02-21T13:07:11.745Z"
   },
   {
    "duration": 34,
    "start_time": "2023-02-21T13:07:49.259Z"
   },
   {
    "duration": 12,
    "start_time": "2023-02-21T13:07:58.541Z"
   },
   {
    "duration": 12,
    "start_time": "2023-02-21T13:08:04.111Z"
   },
   {
    "duration": 10,
    "start_time": "2023-02-21T13:08:09.518Z"
   },
   {
    "duration": 415,
    "start_time": "2023-02-21T13:08:21.407Z"
   },
   {
    "duration": 1045,
    "start_time": "2023-02-21T13:08:21.824Z"
   },
   {
    "duration": 53,
    "start_time": "2023-02-21T13:08:22.871Z"
   },
   {
    "duration": 42,
    "start_time": "2023-02-21T13:08:22.926Z"
   },
   {
    "duration": 55,
    "start_time": "2023-02-21T13:08:35.193Z"
   },
   {
    "duration": 401,
    "start_time": "2023-02-21T13:08:50.316Z"
   },
   {
    "duration": 1056,
    "start_time": "2023-02-21T13:08:50.720Z"
   },
   {
    "duration": 57,
    "start_time": "2023-02-21T13:08:51.778Z"
   },
   {
    "duration": 69,
    "start_time": "2023-02-21T13:08:51.837Z"
   },
   {
    "duration": 44,
    "start_time": "2023-02-21T13:09:32.851Z"
   },
   {
    "duration": 402,
    "start_time": "2023-02-21T13:09:40.919Z"
   },
   {
    "duration": 995,
    "start_time": "2023-02-21T13:09:41.323Z"
   },
   {
    "duration": 51,
    "start_time": "2023-02-21T13:09:42.320Z"
   },
   {
    "duration": 46,
    "start_time": "2023-02-21T13:09:42.373Z"
   },
   {
    "duration": 1034,
    "start_time": "2023-02-21T13:20:11.495Z"
   },
   {
    "duration": 1359,
    "start_time": "2023-02-21T13:20:16.294Z"
   },
   {
    "duration": 1472,
    "start_time": "2023-02-21T13:20:22.045Z"
   },
   {
    "duration": 134,
    "start_time": "2023-02-21T13:21:03.806Z"
   },
   {
    "duration": 59,
    "start_time": "2023-02-21T13:21:12.247Z"
   },
   {
    "duration": 33,
    "start_time": "2023-02-21T13:21:16.207Z"
   },
   {
    "duration": 1395,
    "start_time": "2023-02-21T13:21:22.555Z"
   },
   {
    "duration": 132,
    "start_time": "2023-02-21T13:21:36.095Z"
   },
   {
    "duration": 134,
    "start_time": "2023-02-21T13:21:41.595Z"
   },
   {
    "duration": 46,
    "start_time": "2023-02-21T13:21:57.650Z"
   },
   {
    "duration": 5,
    "start_time": "2023-02-21T13:22:05.342Z"
   },
   {
    "duration": 1171,
    "start_time": "2023-02-21T13:22:13.994Z"
   },
   {
    "duration": 947,
    "start_time": "2023-02-21T13:22:15.167Z"
   },
   {
    "duration": 38,
    "start_time": "2023-02-21T13:22:16.116Z"
   },
   {
    "duration": 24,
    "start_time": "2023-02-21T13:22:16.156Z"
   },
   {
    "duration": 148,
    "start_time": "2023-02-21T13:22:16.182Z"
   },
   {
    "duration": 4,
    "start_time": "2023-02-21T13:23:46.824Z"
   },
   {
    "duration": 3,
    "start_time": "2023-02-21T13:23:53.152Z"
   },
   {
    "duration": 130,
    "start_time": "2023-02-21T13:24:40.070Z"
   },
   {
    "duration": 129,
    "start_time": "2023-02-21T13:25:03.604Z"
   },
   {
    "duration": 106,
    "start_time": "2023-02-21T13:25:13.225Z"
   },
   {
    "duration": 19,
    "start_time": "2023-02-21T13:25:17.592Z"
   },
   {
    "duration": 75,
    "start_time": "2023-02-21T13:25:22.896Z"
   },
   {
    "duration": 116,
    "start_time": "2023-02-21T13:25:31.745Z"
   },
   {
    "duration": 13,
    "start_time": "2023-02-21T13:25:40.122Z"
   },
   {
    "duration": 67,
    "start_time": "2023-02-21T13:25:51.790Z"
   },
   {
    "duration": 30,
    "start_time": "2023-02-21T13:27:03.492Z"
   },
   {
    "duration": 152,
    "start_time": "2023-02-21T13:27:17.581Z"
   },
   {
    "duration": 51,
    "start_time": "2023-02-21T13:27:21.861Z"
   },
   {
    "duration": 18,
    "start_time": "2023-02-21T13:27:41.508Z"
   },
   {
    "duration": 21,
    "start_time": "2023-02-21T13:27:50.283Z"
   },
   {
    "duration": 4,
    "start_time": "2023-02-21T13:27:50.576Z"
   },
   {
    "duration": 8,
    "start_time": "2023-02-21T13:28:04.822Z"
   },
   {
    "duration": 5,
    "start_time": "2023-02-21T13:28:09.856Z"
   },
   {
    "duration": 5,
    "start_time": "2023-02-21T13:28:16.939Z"
   },
   {
    "duration": 15,
    "start_time": "2023-02-21T13:28:36.837Z"
   },
   {
    "duration": 4,
    "start_time": "2023-02-21T13:28:43.621Z"
   },
   {
    "duration": 10,
    "start_time": "2023-02-21T13:29:04.896Z"
   },
   {
    "duration": 22,
    "start_time": "2023-02-21T13:29:13.918Z"
   },
   {
    "duration": 150,
    "start_time": "2023-02-21T13:29:19.614Z"
   },
   {
    "duration": 175,
    "start_time": "2023-02-21T13:29:22.647Z"
   },
   {
    "duration": 163,
    "start_time": "2023-02-21T13:29:42.664Z"
   },
   {
    "duration": 133,
    "start_time": "2023-02-21T13:29:47.727Z"
   },
   {
    "duration": 181,
    "start_time": "2023-02-21T13:29:57.701Z"
   },
   {
    "duration": 192,
    "start_time": "2023-02-21T13:30:05.322Z"
   },
   {
    "duration": 7,
    "start_time": "2023-02-21T13:35:06.601Z"
   },
   {
    "duration": 60,
    "start_time": "2023-02-21T13:36:36.882Z"
   },
   {
    "duration": 46,
    "start_time": "2023-02-21T13:37:46.246Z"
   },
   {
    "duration": 5,
    "start_time": "2023-02-21T13:42:58.783Z"
   },
   {
    "duration": 13,
    "start_time": "2023-02-21T13:43:23.034Z"
   },
   {
    "duration": 4,
    "start_time": "2023-02-21T13:43:40.694Z"
   },
   {
    "duration": 3,
    "start_time": "2023-02-21T13:43:43.936Z"
   },
   {
    "duration": 18,
    "start_time": "2023-02-21T13:43:44.299Z"
   },
   {
    "duration": 11,
    "start_time": "2023-02-21T13:44:46.726Z"
   },
   {
    "duration": 37,
    "start_time": "2023-02-21T13:44:49.330Z"
   },
   {
    "duration": 7,
    "start_time": "2023-02-21T13:44:49.648Z"
   },
   {
    "duration": 5,
    "start_time": "2023-02-21T13:45:00.210Z"
   },
   {
    "duration": 20,
    "start_time": "2023-02-21T13:45:14.762Z"
   },
   {
    "duration": 4,
    "start_time": "2023-02-21T13:45:19.905Z"
   },
   {
    "duration": 8,
    "start_time": "2023-02-21T13:45:26.002Z"
   },
   {
    "duration": 5,
    "start_time": "2023-02-21T13:45:26.225Z"
   },
   {
    "duration": 737,
    "start_time": "2023-02-21T13:54:50.827Z"
   },
   {
    "duration": 4,
    "start_time": "2023-02-21T13:55:00.546Z"
   },
   {
    "duration": 16,
    "start_time": "2023-02-26T09:58:59.319Z"
   },
   {
    "duration": 3,
    "start_time": "2023-02-26T09:59:06.272Z"
   },
   {
    "duration": 4,
    "start_time": "2023-02-26T09:59:10.113Z"
   },
   {
    "duration": 4,
    "start_time": "2023-02-26T09:59:17.714Z"
   },
   {
    "duration": 1484,
    "start_time": "2023-02-26T09:59:45.527Z"
   },
   {
    "duration": 3540,
    "start_time": "2023-02-26T09:59:47.013Z"
   },
   {
    "duration": 2063,
    "start_time": "2023-02-26T10:01:00.270Z"
   },
   {
    "duration": 4,
    "start_time": "2023-02-26T10:01:02.335Z"
   },
   {
    "duration": 11,
    "start_time": "2023-02-26T10:01:02.342Z"
   },
   {
    "duration": 6,
    "start_time": "2023-02-26T10:01:02.356Z"
   },
   {
    "duration": 7,
    "start_time": "2023-02-26T10:01:02.365Z"
   },
   {
    "duration": 156,
    "start_time": "2023-02-26T10:01:02.373Z"
   },
   {
    "duration": 0,
    "start_time": "2023-02-26T10:01:02.530Z"
   },
   {
    "duration": 0,
    "start_time": "2023-02-26T10:01:02.532Z"
   },
   {
    "duration": 0,
    "start_time": "2023-02-26T10:01:02.532Z"
   },
   {
    "duration": 0,
    "start_time": "2023-02-26T10:01:02.534Z"
   },
   {
    "duration": 0,
    "start_time": "2023-02-26T10:01:02.535Z"
   },
   {
    "duration": 0,
    "start_time": "2023-02-26T10:01:02.536Z"
   },
   {
    "duration": 0,
    "start_time": "2023-02-26T10:01:02.537Z"
   },
   {
    "duration": 0,
    "start_time": "2023-02-26T10:01:02.538Z"
   },
   {
    "duration": 0,
    "start_time": "2023-02-26T10:01:02.539Z"
   },
   {
    "duration": 4,
    "start_time": "2023-02-26T10:01:15.607Z"
   },
   {
    "duration": 19,
    "start_time": "2023-02-26T10:01:22.732Z"
   },
   {
    "duration": 6,
    "start_time": "2023-02-26T10:01:22.753Z"
   },
   {
    "duration": 8,
    "start_time": "2023-02-26T10:01:22.760Z"
   },
   {
    "duration": 5,
    "start_time": "2023-02-26T10:01:22.771Z"
   },
   {
    "duration": 12,
    "start_time": "2023-02-26T10:01:22.778Z"
   },
   {
    "duration": 38,
    "start_time": "2023-02-26T10:01:22.791Z"
   },
   {
    "duration": 6,
    "start_time": "2023-02-26T10:01:22.831Z"
   },
   {
    "duration": 5,
    "start_time": "2023-02-26T10:01:22.839Z"
   },
   {
    "duration": 1317,
    "start_time": "2023-02-26T10:01:22.846Z"
   },
   {
    "duration": 865,
    "start_time": "2023-02-26T10:01:24.166Z"
   },
   {
    "duration": 59677,
    "start_time": "2023-02-26T10:01:25.033Z"
   },
   {
    "duration": 64,
    "start_time": "2023-02-26T10:02:24.712Z"
   },
   {
    "duration": 158,
    "start_time": "2023-02-26T10:02:24.778Z"
   },
   {
    "duration": 0,
    "start_time": "2023-02-26T10:02:24.937Z"
   },
   {
    "duration": 0,
    "start_time": "2023-02-26T10:02:24.939Z"
   },
   {
    "duration": 71,
    "start_time": "2023-02-26T10:04:01.353Z"
   },
   {
    "duration": 28,
    "start_time": "2023-02-26T10:04:01.847Z"
   },
   {
    "duration": 15,
    "start_time": "2023-02-26T10:04:16.102Z"
   },
   {
    "duration": 15,
    "start_time": "2023-02-26T10:04:16.119Z"
   },
   {
    "duration": 26,
    "start_time": "2023-02-26T10:04:16.136Z"
   },
   {
    "duration": 7,
    "start_time": "2023-02-26T10:04:16.164Z"
   },
   {
    "duration": 9,
    "start_time": "2023-02-26T10:04:16.173Z"
   },
   {
    "duration": 35,
    "start_time": "2023-02-26T10:04:16.183Z"
   },
   {
    "duration": 25,
    "start_time": "2023-02-26T10:04:16.220Z"
   },
   {
    "duration": 18,
    "start_time": "2023-02-26T10:04:16.248Z"
   },
   {
    "duration": 1306,
    "start_time": "2023-02-26T10:04:16.268Z"
   },
   {
    "duration": 863,
    "start_time": "2023-02-26T10:04:17.576Z"
   },
   {
    "duration": 58597,
    "start_time": "2023-02-26T10:04:18.441Z"
   },
   {
    "duration": 165,
    "start_time": "2023-02-26T10:05:17.040Z"
   },
   {
    "duration": 0,
    "start_time": "2023-02-26T10:05:17.208Z"
   },
   {
    "duration": 0,
    "start_time": "2023-02-26T10:05:17.209Z"
   },
   {
    "duration": 0,
    "start_time": "2023-02-26T10:05:17.211Z"
   },
   {
    "duration": 328,
    "start_time": "2023-02-26T10:09:15.757Z"
   },
   {
    "duration": 8,
    "start_time": "2023-02-26T10:09:30.880Z"
   },
   {
    "duration": 872,
    "start_time": "2023-02-26T10:09:40.020Z"
   },
   {
    "duration": 53,
    "start_time": "2023-02-26T10:09:40.896Z"
   },
   {
    "duration": 6,
    "start_time": "2023-02-26T10:09:58.109Z"
   },
   {
    "duration": 7,
    "start_time": "2023-02-26T10:10:02.560Z"
   },
   {
    "duration": 5,
    "start_time": "2023-02-26T10:15:09.484Z"
   },
   {
    "duration": 4,
    "start_time": "2023-02-26T10:18:00.296Z"
   },
   {
    "duration": 4,
    "start_time": "2023-02-26T10:20:33.714Z"
   },
   {
    "duration": 9,
    "start_time": "2023-02-26T10:22:12.706Z"
   },
   {
    "duration": 3,
    "start_time": "2023-02-26T10:27:30.368Z"
   },
   {
    "duration": 4,
    "start_time": "2023-02-26T10:28:14.790Z"
   },
   {
    "duration": 14,
    "start_time": "2023-02-26T10:29:43.711Z"
   },
   {
    "duration": 4,
    "start_time": "2023-02-26T10:42:00.968Z"
   },
   {
    "duration": 6,
    "start_time": "2023-02-26T10:49:36.644Z"
   },
   {
    "duration": 5,
    "start_time": "2023-02-26T10:49:55.266Z"
   },
   {
    "duration": 1839,
    "start_time": "2023-02-26T10:52:39.343Z"
   },
   {
    "duration": 805,
    "start_time": "2023-02-26T10:52:41.184Z"
   },
   {
    "duration": 52,
    "start_time": "2023-02-26T10:52:41.991Z"
   },
   {
    "duration": 38,
    "start_time": "2023-02-26T10:52:42.044Z"
   },
   {
    "duration": 156,
    "start_time": "2023-02-26T10:52:42.084Z"
   },
   {
    "duration": 4,
    "start_time": "2023-02-26T10:52:42.243Z"
   },
   {
    "duration": 14,
    "start_time": "2023-02-26T10:52:42.249Z"
   },
   {
    "duration": 6,
    "start_time": "2023-02-26T10:52:42.265Z"
   },
   {
    "duration": 1836,
    "start_time": "2023-02-26T10:53:01.250Z"
   },
   {
    "duration": 790,
    "start_time": "2023-02-26T10:53:03.088Z"
   },
   {
    "duration": 41,
    "start_time": "2023-02-26T10:53:03.879Z"
   },
   {
    "duration": 38,
    "start_time": "2023-02-26T10:53:03.927Z"
   },
   {
    "duration": 168,
    "start_time": "2023-02-26T10:53:03.968Z"
   },
   {
    "duration": 7,
    "start_time": "2023-02-26T10:53:04.140Z"
   },
   {
    "duration": 5,
    "start_time": "2023-02-26T10:53:04.149Z"
   },
   {
    "duration": 9,
    "start_time": "2023-02-26T10:53:04.156Z"
   },
   {
    "duration": 143,
    "start_time": "2023-02-26T10:53:04.167Z"
   },
   {
    "duration": 0,
    "start_time": "2023-02-26T10:53:04.311Z"
   },
   {
    "duration": 0,
    "start_time": "2023-02-26T10:53:04.313Z"
   },
   {
    "duration": 0,
    "start_time": "2023-02-26T10:53:04.314Z"
   },
   {
    "duration": 0,
    "start_time": "2023-02-26T10:53:04.328Z"
   },
   {
    "duration": 0,
    "start_time": "2023-02-26T10:53:04.329Z"
   },
   {
    "duration": 0,
    "start_time": "2023-02-26T10:53:04.330Z"
   },
   {
    "duration": 10,
    "start_time": "2023-02-26T10:53:14.332Z"
   },
   {
    "duration": 1727,
    "start_time": "2023-02-26T10:53:21.946Z"
   },
   {
    "duration": 793,
    "start_time": "2023-02-26T10:53:23.675Z"
   },
   {
    "duration": 42,
    "start_time": "2023-02-26T10:53:24.470Z"
   },
   {
    "duration": 41,
    "start_time": "2023-02-26T10:53:24.526Z"
   },
   {
    "duration": 176,
    "start_time": "2023-02-26T10:53:24.569Z"
   },
   {
    "duration": 4,
    "start_time": "2023-02-26T10:53:24.747Z"
   },
   {
    "duration": 7,
    "start_time": "2023-02-26T10:53:24.752Z"
   },
   {
    "duration": 17,
    "start_time": "2023-02-26T10:53:24.761Z"
   },
   {
    "duration": 96538,
    "start_time": "2023-02-26T10:53:24.779Z"
   },
   {
    "duration": 787,
    "start_time": "2023-02-26T10:55:01.319Z"
   },
   {
    "duration": 149,
    "start_time": "2023-02-26T10:55:02.107Z"
   },
   {
    "duration": 0,
    "start_time": "2023-02-26T10:55:02.258Z"
   },
   {
    "duration": 0,
    "start_time": "2023-02-26T10:55:02.260Z"
   },
   {
    "duration": 0,
    "start_time": "2023-02-26T10:55:02.261Z"
   },
   {
    "duration": 0,
    "start_time": "2023-02-26T10:55:02.263Z"
   },
   {
    "duration": 6,
    "start_time": "2023-02-26T10:55:52.566Z"
   },
   {
    "duration": 9,
    "start_time": "2023-02-26T10:56:13.445Z"
   },
   {
    "duration": 94014,
    "start_time": "2023-02-26T10:57:40.806Z"
   },
   {
    "duration": 935,
    "start_time": "2023-02-26T11:02:01.808Z"
   },
   {
    "duration": 1869,
    "start_time": "2023-02-26T11:03:34.180Z"
   },
   {
    "duration": 842,
    "start_time": "2023-02-26T11:03:36.052Z"
   },
   {
    "duration": 51,
    "start_time": "2023-02-26T11:03:36.895Z"
   },
   {
    "duration": 40,
    "start_time": "2023-02-26T11:03:36.948Z"
   },
   {
    "duration": 174,
    "start_time": "2023-02-26T11:03:36.990Z"
   },
   {
    "duration": 82,
    "start_time": "2023-02-26T11:03:37.166Z"
   },
   {
    "duration": 5,
    "start_time": "2023-02-26T11:03:37.250Z"
   },
   {
    "duration": 96181,
    "start_time": "2023-02-26T11:03:37.257Z"
   },
   {
    "duration": 796,
    "start_time": "2023-02-26T11:05:13.446Z"
   },
   {
    "duration": 148,
    "start_time": "2023-02-26T11:05:14.246Z"
   },
   {
    "duration": 0,
    "start_time": "2023-02-26T11:05:14.396Z"
   },
   {
    "duration": 0,
    "start_time": "2023-02-26T11:05:14.397Z"
   },
   {
    "duration": 0,
    "start_time": "2023-02-26T11:05:14.398Z"
   },
   {
    "duration": 0,
    "start_time": "2023-02-26T11:05:14.399Z"
   },
   {
    "duration": 5,
    "start_time": "2023-02-26T11:10:10.379Z"
   },
   {
    "duration": 12,
    "start_time": "2023-02-26T11:12:24.223Z"
   },
   {
    "duration": 11,
    "start_time": "2023-02-26T11:13:42.226Z"
   },
   {
    "duration": 1805,
    "start_time": "2023-02-26T11:17:03.253Z"
   },
   {
    "duration": 827,
    "start_time": "2023-02-26T11:17:05.060Z"
   },
   {
    "duration": 55,
    "start_time": "2023-02-26T11:17:05.889Z"
   },
   {
    "duration": 42,
    "start_time": "2023-02-26T11:17:05.946Z"
   },
   {
    "duration": 170,
    "start_time": "2023-02-26T11:17:05.989Z"
   },
   {
    "duration": 58,
    "start_time": "2023-02-26T11:17:06.161Z"
   },
   {
    "duration": 10,
    "start_time": "2023-02-26T11:17:06.232Z"
   },
   {
    "duration": 7,
    "start_time": "2023-02-26T11:17:06.244Z"
   },
   {
    "duration": 601,
    "start_time": "2023-02-26T11:17:06.252Z"
   },
   {
    "duration": 0,
    "start_time": "2023-02-26T11:17:06.855Z"
   },
   {
    "duration": 0,
    "start_time": "2023-02-26T11:17:06.857Z"
   },
   {
    "duration": 0,
    "start_time": "2023-02-26T11:17:06.858Z"
   },
   {
    "duration": 0,
    "start_time": "2023-02-26T11:17:06.859Z"
   },
   {
    "duration": 0,
    "start_time": "2023-02-26T11:17:06.860Z"
   },
   {
    "duration": 0,
    "start_time": "2023-02-26T11:17:06.861Z"
   },
   {
    "duration": 0,
    "start_time": "2023-02-26T11:17:06.862Z"
   },
   {
    "duration": 6,
    "start_time": "2023-02-26T11:17:41.665Z"
   },
   {
    "duration": 1832,
    "start_time": "2023-02-26T11:17:49.452Z"
   },
   {
    "duration": 800,
    "start_time": "2023-02-26T11:17:51.285Z"
   },
   {
    "duration": 56,
    "start_time": "2023-02-26T11:17:52.087Z"
   },
   {
    "duration": 41,
    "start_time": "2023-02-26T11:17:52.146Z"
   },
   {
    "duration": 193,
    "start_time": "2023-02-26T11:17:52.190Z"
   },
   {
    "duration": 67,
    "start_time": "2023-02-26T11:17:52.385Z"
   },
   {
    "duration": 5,
    "start_time": "2023-02-26T11:17:52.454Z"
   },
   {
    "duration": 11,
    "start_time": "2023-02-26T11:17:52.461Z"
   },
   {
    "duration": 2247785,
    "start_time": "2023-02-26T11:17:52.474Z"
   },
   {
    "duration": 5,
    "start_time": "2023-02-26T11:55:20.262Z"
   },
   {
    "duration": 919,
    "start_time": "2023-02-26T11:55:20.269Z"
   },
   {
    "duration": 0,
    "start_time": "2023-02-26T11:55:21.335Z"
   },
   {
    "duration": 0,
    "start_time": "2023-02-26T11:55:21.337Z"
   },
   {
    "duration": 0,
    "start_time": "2023-02-26T11:55:21.338Z"
   },
   {
    "duration": 0,
    "start_time": "2023-02-26T11:55:21.339Z"
   },
   {
    "duration": 0,
    "start_time": "2023-02-26T11:55:21.340Z"
   },
   {
    "duration": 0,
    "start_time": "2023-02-26T11:55:21.355Z"
   },
   {
    "duration": 0,
    "start_time": "2023-02-26T11:55:21.363Z"
   },
   {
    "duration": 0,
    "start_time": "2023-02-26T11:55:21.372Z"
   },
   {
    "duration": 0,
    "start_time": "2023-02-26T11:55:21.373Z"
   },
   {
    "duration": 0,
    "start_time": "2023-02-26T11:55:21.374Z"
   },
   {
    "duration": 0,
    "start_time": "2023-02-26T11:55:21.375Z"
   },
   {
    "duration": 0,
    "start_time": "2023-02-26T11:55:21.429Z"
   },
   {
    "duration": 23,
    "start_time": "2023-02-26T11:55:36.622Z"
   },
   {
    "duration": 27,
    "start_time": "2023-02-26T11:55:37.535Z"
   },
   {
    "duration": 814,
    "start_time": "2023-02-26T11:55:37.885Z"
   },
   {
    "duration": 0,
    "start_time": "2023-02-26T11:55:38.701Z"
   },
   {
    "duration": 11,
    "start_time": "2023-02-26T11:55:38.844Z"
   },
   {
    "duration": 14,
    "start_time": "2023-02-26T11:55:46.835Z"
   },
   {
    "duration": 4,
    "start_time": "2023-02-26T11:55:52.510Z"
   },
   {
    "duration": 10,
    "start_time": "2023-02-26T11:55:54.487Z"
   },
   {
    "duration": 141,
    "start_time": "2023-02-26T11:56:16.644Z"
   },
   {
    "duration": 4,
    "start_time": "2023-02-26T11:56:17.492Z"
   },
   {
    "duration": 812,
    "start_time": "2023-02-26T11:56:18.044Z"
   },
   {
    "duration": 890,
    "start_time": "2023-02-26T11:56:20.042Z"
   },
   {
    "duration": 11,
    "start_time": "2023-02-26T11:56:58.492Z"
   },
   {
    "duration": 11,
    "start_time": "2023-02-26T11:58:28.456Z"
   },
   {
    "duration": 91,
    "start_time": "2023-02-26T11:59:22.858Z"
   },
   {
    "duration": 56,
    "start_time": "2023-02-26T11:59:52.414Z"
   },
   {
    "duration": 50,
    "start_time": "2023-02-26T11:59:54.671Z"
   },
   {
    "duration": 12,
    "start_time": "2023-02-26T12:00:03.475Z"
   },
   {
    "duration": 162,
    "start_time": "2023-02-26T12:00:18.873Z"
   },
   {
    "duration": 14,
    "start_time": "2023-02-26T12:00:30.358Z"
   },
   {
    "duration": 6,
    "start_time": "2023-02-26T12:01:18.847Z"
   },
   {
    "duration": 11838,
    "start_time": "2023-02-26T12:01:20.646Z"
   },
   {
    "duration": 5,
    "start_time": "2023-02-26T12:12:05.043Z"
   },
   {
    "duration": 6,
    "start_time": "2023-02-26T12:15:30.798Z"
   },
   {
    "duration": 249,
    "start_time": "2023-02-26T12:15:30.991Z"
   },
   {
    "duration": 2,
    "start_time": "2023-02-26T12:16:23.681Z"
   },
   {
    "duration": 5,
    "start_time": "2023-02-26T12:16:24.315Z"
   },
   {
    "duration": 97400,
    "start_time": "2023-02-26T12:16:25.005Z"
   },
   {
    "duration": 281,
    "start_time": "2023-02-26T12:18:02.407Z"
   },
   {
    "duration": 3,
    "start_time": "2023-02-26T12:18:02.690Z"
   },
   {
    "duration": 5,
    "start_time": "2023-02-26T12:18:06.276Z"
   },
   {
    "duration": 9,
    "start_time": "2023-02-26T12:18:14.812Z"
   },
   {
    "duration": 45,
    "start_time": "2023-02-26T12:18:46.602Z"
   },
   {
    "duration": 37,
    "start_time": "2023-02-26T12:18:47.047Z"
   },
   {
    "duration": 132,
    "start_time": "2023-02-26T12:18:47.976Z"
   },
   {
    "duration": 4,
    "start_time": "2023-02-26T12:18:49.445Z"
   },
   {
    "duration": 881,
    "start_time": "2023-02-26T12:18:49.676Z"
   },
   {
    "duration": 10,
    "start_time": "2023-02-26T12:18:50.559Z"
   },
   {
    "duration": 57,
    "start_time": "2023-02-26T12:18:56.780Z"
   },
   {
    "duration": 6,
    "start_time": "2023-02-26T12:19:46.996Z"
   },
   {
    "duration": 11,
    "start_time": "2023-02-26T12:20:26.862Z"
   },
   {
    "duration": 348,
    "start_time": "2023-02-26T12:21:50.847Z"
   },
   {
    "duration": 6,
    "start_time": "2023-02-26T12:21:57.404Z"
   },
   {
    "duration": 7,
    "start_time": "2023-02-26T12:22:03.527Z"
   },
   {
    "duration": 15,
    "start_time": "2023-02-26T12:23:07.653Z"
   },
   {
    "duration": 1860,
    "start_time": "2023-02-26T12:23:17.379Z"
   },
   {
    "duration": 867,
    "start_time": "2023-02-26T12:23:19.245Z"
   },
   {
    "duration": 56,
    "start_time": "2023-02-26T12:23:20.113Z"
   },
   {
    "duration": 65,
    "start_time": "2023-02-26T12:23:20.171Z"
   },
   {
    "duration": 204,
    "start_time": "2023-02-26T12:23:20.239Z"
   },
   {
    "duration": 3,
    "start_time": "2023-02-26T12:23:20.445Z"
   },
   {
    "duration": 39,
    "start_time": "2023-02-26T12:23:20.456Z"
   },
   {
    "duration": 96896,
    "start_time": "2023-02-26T12:23:20.498Z"
   },
   {
    "duration": 3,
    "start_time": "2023-02-26T12:24:57.395Z"
   },
   {
    "duration": 63,
    "start_time": "2023-02-26T12:24:57.400Z"
   },
   {
    "duration": 24,
    "start_time": "2023-02-26T12:24:57.465Z"
   },
   {
    "duration": 6,
    "start_time": "2023-02-26T12:24:57.491Z"
   },
   {
    "duration": 14,
    "start_time": "2023-02-26T12:24:57.499Z"
   },
   {
    "duration": 7372,
    "start_time": "2023-02-26T12:24:57.515Z"
   },
   {
    "duration": 153,
    "start_time": "2023-02-26T12:25:04.889Z"
   },
   {
    "duration": 0,
    "start_time": "2023-02-26T12:25:05.043Z"
   },
   {
    "duration": 0,
    "start_time": "2023-02-26T12:25:05.045Z"
   },
   {
    "duration": 94,
    "start_time": "2023-02-26T12:26:37.024Z"
   },
   {
    "duration": 1705,
    "start_time": "2023-02-26T12:26:40.855Z"
   },
   {
    "duration": 765,
    "start_time": "2023-02-26T12:26:42.562Z"
   },
   {
    "duration": 40,
    "start_time": "2023-02-26T12:26:43.329Z"
   },
   {
    "duration": 38,
    "start_time": "2023-02-26T12:26:43.371Z"
   },
   {
    "duration": 144,
    "start_time": "2023-02-26T12:26:43.426Z"
   },
   {
    "duration": 3,
    "start_time": "2023-02-26T12:26:43.572Z"
   },
   {
    "duration": 11,
    "start_time": "2023-02-26T12:26:43.576Z"
   },
   {
    "duration": 86159,
    "start_time": "2023-02-26T12:26:43.588Z"
   },
   {
    "duration": 3,
    "start_time": "2023-02-26T12:28:09.748Z"
   },
   {
    "duration": 56,
    "start_time": "2023-02-26T12:28:09.754Z"
   },
   {
    "duration": 34,
    "start_time": "2023-02-26T12:28:09.812Z"
   },
   {
    "duration": 23,
    "start_time": "2023-02-26T12:28:09.848Z"
   },
   {
    "duration": 8,
    "start_time": "2023-02-26T12:28:09.872Z"
   },
   {
    "duration": 6952,
    "start_time": "2023-02-26T12:28:09.882Z"
   },
   {
    "duration": 43191,
    "start_time": "2023-02-26T12:28:16.836Z"
   },
   {
    "duration": 4,
    "start_time": "2023-02-26T12:29:00.029Z"
   },
   {
    "duration": 29,
    "start_time": "2023-02-26T12:29:00.035Z"
   },
   {
    "duration": 4,
    "start_time": "2023-02-26T12:29:07.581Z"
   },
   {
    "duration": 179,
    "start_time": "2023-02-26T12:35:01.668Z"
   },
   {
    "duration": 1788,
    "start_time": "2023-02-26T12:35:12.134Z"
   },
   {
    "duration": 814,
    "start_time": "2023-02-26T12:35:13.923Z"
   },
   {
    "duration": 46,
    "start_time": "2023-02-26T12:35:14.739Z"
   },
   {
    "duration": 58,
    "start_time": "2023-02-26T12:35:14.787Z"
   },
   {
    "duration": 162,
    "start_time": "2023-02-26T12:35:14.849Z"
   },
   {
    "duration": 3,
    "start_time": "2023-02-26T12:35:15.013Z"
   },
   {
    "duration": 48,
    "start_time": "2023-02-26T12:35:15.018Z"
   },
   {
    "duration": 88096,
    "start_time": "2023-02-26T12:35:15.068Z"
   },
   {
    "duration": 3,
    "start_time": "2023-02-26T12:36:43.166Z"
   },
   {
    "duration": 56,
    "start_time": "2023-02-26T12:36:43.171Z"
   },
   {
    "duration": 23,
    "start_time": "2023-02-26T12:36:43.229Z"
   },
   {
    "duration": 6822,
    "start_time": "2023-02-26T12:36:43.254Z"
   },
   {
    "duration": 46457,
    "start_time": "2023-02-26T12:36:50.078Z"
   },
   {
    "duration": 240,
    "start_time": "2023-02-26T12:37:36.537Z"
   },
   {
    "duration": 0,
    "start_time": "2023-02-26T12:37:36.778Z"
   },
   {
    "duration": 0,
    "start_time": "2023-02-26T12:37:36.780Z"
   },
   {
    "duration": 46061,
    "start_time": "2023-02-26T12:38:52.770Z"
   },
   {
    "duration": 3579,
    "start_time": "2023-02-26T12:39:38.833Z"
   },
   {
    "duration": 6828,
    "start_time": "2023-02-26T12:39:49.213Z"
   },
   {
    "duration": 47192,
    "start_time": "2023-02-26T12:39:56.042Z"
   },
   {
    "duration": 13862,
    "start_time": "2023-02-26T12:43:02.688Z"
   },
   {
    "duration": 13687,
    "start_time": "2023-02-26T12:44:56.066Z"
   },
   {
    "duration": 52,
    "start_time": "2023-02-26T12:46:17.340Z"
   },
   {
    "duration": 84,
    "start_time": "2023-02-26T12:46:53.371Z"
   },
   {
    "duration": 54,
    "start_time": "2023-02-26T12:47:02.212Z"
   },
   {
    "duration": 52,
    "start_time": "2023-02-26T12:47:05.928Z"
   },
   {
    "duration": 893,
    "start_time": "2023-02-26T12:48:46.291Z"
   },
   {
    "duration": 931,
    "start_time": "2023-02-26T12:50:08.905Z"
   },
   {
    "duration": 2,
    "start_time": "2023-02-26T12:51:17.536Z"
   },
   {
    "duration": 11,
    "start_time": "2023-02-26T12:54:34.220Z"
   },
   {
    "duration": 7,
    "start_time": "2023-02-26T12:54:57.764Z"
   },
   {
    "duration": 465,
    "start_time": "2023-02-26T12:55:01.429Z"
   },
   {
    "duration": 44379,
    "start_time": "2023-02-26T12:56:50.485Z"
   },
   {
    "duration": 119508,
    "start_time": "2023-02-26T12:58:02.826Z"
   },
   {
    "duration": 65,
    "start_time": "2023-02-26T13:00:59.726Z"
   },
   {
    "duration": 3,
    "start_time": "2023-02-26T13:01:03.779Z"
   },
   {
    "duration": 5,
    "start_time": "2023-02-26T13:01:32.153Z"
   },
   {
    "duration": 6,
    "start_time": "2023-02-26T13:01:42.533Z"
   },
   {
    "duration": 6,
    "start_time": "2023-02-26T13:02:27.422Z"
   },
   {
    "duration": 6,
    "start_time": "2023-02-26T13:02:45.231Z"
   },
   {
    "duration": 61,
    "start_time": "2023-02-26T13:02:59.350Z"
   },
   {
    "duration": 1011,
    "start_time": "2023-02-26T13:04:08.731Z"
   },
   {
    "duration": 57,
    "start_time": "2023-02-26T13:04:09.744Z"
   },
   {
    "duration": 52,
    "start_time": "2023-02-26T13:04:15.713Z"
   },
   {
    "duration": 6,
    "start_time": "2023-02-26T13:08:18.341Z"
   },
   {
    "duration": 11,
    "start_time": "2023-02-26T13:08:30.289Z"
   },
   {
    "duration": 14,
    "start_time": "2023-02-26T13:08:40.347Z"
   },
   {
    "duration": 1751,
    "start_time": "2023-02-26T13:12:13.385Z"
   },
   {
    "duration": 803,
    "start_time": "2023-02-26T13:12:15.137Z"
   },
   {
    "duration": 44,
    "start_time": "2023-02-26T13:12:15.942Z"
   },
   {
    "duration": 146,
    "start_time": "2023-02-26T13:12:15.988Z"
   },
   {
    "duration": 3,
    "start_time": "2023-02-26T13:12:16.137Z"
   },
   {
    "duration": 7,
    "start_time": "2023-02-26T13:12:16.141Z"
   },
   {
    "duration": 85346,
    "start_time": "2023-02-26T13:12:16.150Z"
   },
   {
    "duration": 3,
    "start_time": "2023-02-26T13:13:41.498Z"
   },
   {
    "duration": 56,
    "start_time": "2023-02-26T13:13:41.503Z"
   },
   {
    "duration": 22,
    "start_time": "2023-02-26T13:13:41.561Z"
   },
   {
    "duration": 6592,
    "start_time": "2023-02-26T13:13:41.584Z"
   },
   {
    "duration": 1737,
    "start_time": "2023-02-26T13:14:38.174Z"
   },
   {
    "duration": 817,
    "start_time": "2023-02-26T13:14:39.913Z"
   },
   {
    "duration": 42,
    "start_time": "2023-02-26T13:14:40.732Z"
   },
   {
    "duration": 162,
    "start_time": "2023-02-26T13:14:40.776Z"
   },
   {
    "duration": 3,
    "start_time": "2023-02-26T13:14:40.941Z"
   },
   {
    "duration": 10,
    "start_time": "2023-02-26T13:14:40.945Z"
   },
   {
    "duration": 84720,
    "start_time": "2023-02-26T13:14:40.956Z"
   },
   {
    "duration": 4,
    "start_time": "2023-02-26T13:16:05.677Z"
   },
   {
    "duration": 61,
    "start_time": "2023-02-26T13:16:05.684Z"
   },
   {
    "duration": 23,
    "start_time": "2023-02-26T13:16:05.747Z"
   },
   {
    "duration": 6690,
    "start_time": "2023-02-26T13:16:05.771Z"
   },
   {
    "duration": 0,
    "start_time": "2023-02-26T13:17:23.272Z"
   },
   {
    "duration": 0,
    "start_time": "2023-02-26T13:17:23.274Z"
   },
   {
    "duration": 0,
    "start_time": "2023-02-26T13:17:23.275Z"
   },
   {
    "duration": 0,
    "start_time": "2023-02-26T13:17:23.278Z"
   },
   {
    "duration": 22883,
    "start_time": "2023-02-26T13:17:32.012Z"
   },
   {
    "duration": 44787,
    "start_time": "2023-02-26T13:18:02.840Z"
   },
   {
    "duration": 4753,
    "start_time": "2023-02-26T13:18:53.472Z"
   },
   {
    "duration": 44221,
    "start_time": "2023-02-26T13:19:06.301Z"
   },
   {
    "duration": 13864,
    "start_time": "2023-02-26T13:20:05.085Z"
   },
   {
    "duration": 935,
    "start_time": "2023-02-26T13:20:18.951Z"
   },
   {
    "duration": 54,
    "start_time": "2023-02-26T13:20:19.888Z"
   },
   {
    "duration": 43,
    "start_time": "2023-02-26T13:22:42.147Z"
   },
   {
    "duration": 13,
    "start_time": "2023-02-26T13:22:46.236Z"
   },
   {
    "duration": 890,
    "start_time": "2023-02-26T13:22:50.852Z"
   },
   {
    "duration": 10,
    "start_time": "2023-02-26T13:22:52.548Z"
   },
   {
    "duration": 42,
    "start_time": "2023-02-26T13:23:29.912Z"
   },
   {
    "duration": 11,
    "start_time": "2023-02-26T13:23:39.359Z"
   },
   {
    "duration": 9,
    "start_time": "2023-02-26T13:23:52.284Z"
   },
   {
    "duration": 7,
    "start_time": "2023-02-26T13:25:52.306Z"
   },
   {
    "duration": 13788,
    "start_time": "2023-02-26T13:27:29.660Z"
   },
   {
    "duration": 11,
    "start_time": "2023-02-26T13:29:01.579Z"
   },
   {
    "duration": 14009,
    "start_time": "2023-02-26T13:29:03.835Z"
   },
   {
    "duration": 846,
    "start_time": "2023-02-26T13:29:17.846Z"
   },
   {
    "duration": 56,
    "start_time": "2023-02-26T13:29:18.694Z"
   },
   {
    "duration": 10,
    "start_time": "2023-02-26T13:29:18.752Z"
   },
   {
    "duration": 13995,
    "start_time": "2023-02-26T13:30:37.162Z"
   },
   {
    "duration": 931,
    "start_time": "2023-02-26T13:30:51.159Z"
   },
   {
    "duration": 55,
    "start_time": "2023-02-26T13:30:52.092Z"
   },
   {
    "duration": 37,
    "start_time": "2023-02-26T13:30:52.149Z"
   },
   {
    "duration": 944,
    "start_time": "2023-02-26T13:31:12.414Z"
   },
   {
    "duration": 879,
    "start_time": "2023-02-26T13:31:24.134Z"
   },
   {
    "duration": 14002,
    "start_time": "2023-02-26T13:31:43.271Z"
   },
   {
    "duration": 1003,
    "start_time": "2023-02-26T13:33:59.923Z"
   },
   {
    "duration": 1766,
    "start_time": "2023-02-26T13:36:51.245Z"
   },
   {
    "duration": 736,
    "start_time": "2023-02-26T13:36:53.014Z"
   },
   {
    "duration": 42,
    "start_time": "2023-02-26T13:36:53.754Z"
   },
   {
    "duration": 150,
    "start_time": "2023-02-26T13:36:53.798Z"
   },
   {
    "duration": 3,
    "start_time": "2023-02-26T13:36:53.950Z"
   },
   {
    "duration": 7,
    "start_time": "2023-02-26T13:36:53.955Z"
   },
   {
    "duration": 47,
    "start_time": "2023-02-26T13:37:42.453Z"
   },
   {
    "duration": 1822,
    "start_time": "2023-02-26T13:37:54.622Z"
   },
   {
    "duration": 785,
    "start_time": "2023-02-26T13:37:56.446Z"
   },
   {
    "duration": 43,
    "start_time": "2023-02-26T13:37:57.232Z"
   },
   {
    "duration": 144,
    "start_time": "2023-02-26T13:37:57.277Z"
   },
   {
    "duration": 5,
    "start_time": "2023-02-26T13:37:57.423Z"
   },
   {
    "duration": 11,
    "start_time": "2023-02-26T13:37:57.429Z"
   },
   {
    "duration": 84413,
    "start_time": "2023-02-26T13:37:57.442Z"
   },
   {
    "duration": 3,
    "start_time": "2023-02-26T13:39:21.857Z"
   },
   {
    "duration": 47,
    "start_time": "2023-02-26T13:39:21.862Z"
   },
   {
    "duration": 23,
    "start_time": "2023-02-26T13:39:21.927Z"
   },
   {
    "duration": 6678,
    "start_time": "2023-02-26T13:39:21.952Z"
   },
   {
    "duration": 14026,
    "start_time": "2023-02-26T13:39:28.632Z"
   },
   {
    "duration": 1068,
    "start_time": "2023-02-26T13:39:42.660Z"
   },
   {
    "duration": 53,
    "start_time": "2023-02-26T13:39:43.731Z"
   },
   {
    "duration": 10,
    "start_time": "2023-02-26T13:39:43.786Z"
   },
   {
    "duration": 1068,
    "start_time": "2023-02-26T13:39:43.798Z"
   },
   {
    "duration": 42,
    "start_time": "2023-02-26T13:40:14.820Z"
   },
   {
    "duration": 1794,
    "start_time": "2023-02-26T13:40:24.256Z"
   },
   {
    "duration": 773,
    "start_time": "2023-02-26T13:40:26.051Z"
   },
   {
    "duration": 43,
    "start_time": "2023-02-26T13:40:26.826Z"
   },
   {
    "duration": 149,
    "start_time": "2023-02-26T13:40:26.871Z"
   },
   {
    "duration": 4,
    "start_time": "2023-02-26T13:40:27.023Z"
   },
   {
    "duration": 12,
    "start_time": "2023-02-26T13:40:27.028Z"
   },
   {
    "duration": 85853,
    "start_time": "2023-02-26T13:40:27.041Z"
   },
   {
    "duration": 3,
    "start_time": "2023-02-26T13:41:52.896Z"
   },
   {
    "duration": 57,
    "start_time": "2023-02-26T13:41:52.901Z"
   },
   {
    "duration": 21,
    "start_time": "2023-02-26T13:41:52.959Z"
   },
   {
    "duration": 6657,
    "start_time": "2023-02-26T13:41:52.982Z"
   },
   {
    "duration": 13912,
    "start_time": "2023-02-26T13:41:59.641Z"
   },
   {
    "duration": 1055,
    "start_time": "2023-02-26T13:42:13.555Z"
   },
   {
    "duration": 65,
    "start_time": "2023-02-26T13:42:14.613Z"
   },
   {
    "duration": 12,
    "start_time": "2023-02-26T13:42:14.680Z"
   },
   {
    "duration": 1005,
    "start_time": "2023-02-26T13:42:14.693Z"
   },
   {
    "duration": 49,
    "start_time": "2023-02-26T13:43:32.829Z"
   },
   {
    "duration": 1752,
    "start_time": "2023-02-26T13:43:40.834Z"
   },
   {
    "duration": 778,
    "start_time": "2023-02-26T13:43:42.588Z"
   },
   {
    "duration": 39,
    "start_time": "2023-02-26T13:43:43.368Z"
   },
   {
    "duration": 164,
    "start_time": "2023-02-26T13:43:43.410Z"
   },
   {
    "duration": 3,
    "start_time": "2023-02-26T13:43:43.575Z"
   },
   {
    "duration": 7,
    "start_time": "2023-02-26T13:43:43.580Z"
   },
   {
    "duration": 87475,
    "start_time": "2023-02-26T13:43:43.589Z"
   },
   {
    "duration": 3,
    "start_time": "2023-02-26T13:45:11.066Z"
   },
   {
    "duration": 47,
    "start_time": "2023-02-26T13:45:11.070Z"
   },
   {
    "duration": 31,
    "start_time": "2023-02-26T13:45:11.119Z"
   },
   {
    "duration": 6823,
    "start_time": "2023-02-26T13:45:11.152Z"
   },
   {
    "duration": 14069,
    "start_time": "2023-02-26T13:45:17.977Z"
   },
   {
    "duration": 830,
    "start_time": "2023-02-26T13:45:32.048Z"
   },
   {
    "duration": 56,
    "start_time": "2023-02-26T13:45:32.879Z"
   },
   {
    "duration": 11,
    "start_time": "2023-02-26T13:45:32.937Z"
   },
   {
    "duration": 897,
    "start_time": "2023-02-26T13:45:32.950Z"
   },
   {
    "duration": 2613,
    "start_time": "2023-02-28T08:13:58.880Z"
   },
   {
    "duration": 3508,
    "start_time": "2023-02-28T08:14:01.495Z"
   },
   {
    "duration": 37,
    "start_time": "2023-02-28T08:14:05.005Z"
   },
   {
    "duration": 121,
    "start_time": "2023-02-28T08:14:05.043Z"
   },
   {
    "duration": 2,
    "start_time": "2023-02-28T08:14:05.166Z"
   },
   {
    "duration": 22,
    "start_time": "2023-02-28T08:14:05.170Z"
   },
   {
    "duration": 83568,
    "start_time": "2023-02-28T08:14:05.194Z"
   },
   {
    "duration": 3,
    "start_time": "2023-02-28T08:15:28.763Z"
   },
   {
    "duration": 42,
    "start_time": "2023-02-28T08:15:28.769Z"
   },
   {
    "duration": 145,
    "start_time": "2023-02-28T08:15:28.813Z"
   },
   {
    "duration": 0,
    "start_time": "2023-02-28T08:15:28.959Z"
   },
   {
    "duration": 0,
    "start_time": "2023-02-28T08:15:28.960Z"
   },
   {
    "duration": 0,
    "start_time": "2023-02-28T08:15:28.962Z"
   },
   {
    "duration": 0,
    "start_time": "2023-02-28T08:15:28.963Z"
   },
   {
    "duration": 0,
    "start_time": "2023-02-28T08:15:28.964Z"
   },
   {
    "duration": 6609,
    "start_time": "2023-02-28T08:16:03.487Z"
   },
   {
    "duration": 4,
    "start_time": "2023-02-28T08:16:12.001Z"
   },
   {
    "duration": 51,
    "start_time": "2023-02-28T08:16:12.045Z"
   },
   {
    "duration": 13946,
    "start_time": "2023-02-28T08:16:28.634Z"
   },
   {
    "duration": 850,
    "start_time": "2023-02-28T08:16:42.582Z"
   },
   {
    "duration": 51,
    "start_time": "2023-02-28T08:16:43.436Z"
   },
   {
    "duration": 12,
    "start_time": "2023-02-28T08:16:43.489Z"
   },
   {
    "duration": 911,
    "start_time": "2023-02-28T08:16:43.504Z"
   },
   {
    "duration": 15,
    "start_time": "2023-02-28T08:16:58.417Z"
   },
   {
    "duration": 8,
    "start_time": "2023-02-28T08:19:03.762Z"
   },
   {
    "duration": 3,
    "start_time": "2023-02-28T08:19:24.546Z"
   },
   {
    "duration": 3,
    "start_time": "2023-02-28T08:25:23.882Z"
   },
   {
    "duration": 4,
    "start_time": "2023-02-28T08:25:26.130Z"
   },
   {
    "duration": 3,
    "start_time": "2023-02-28T08:25:28.591Z"
   },
   {
    "duration": 49,
    "start_time": "2023-02-28T08:25:29.275Z"
   },
   {
    "duration": 47,
    "start_time": "2023-02-28T08:25:48.695Z"
   },
   {
    "duration": 54,
    "start_time": "2023-02-28T08:25:52.639Z"
   },
   {
    "duration": 53,
    "start_time": "2023-02-28T08:26:04.399Z"
   },
   {
    "duration": 3,
    "start_time": "2023-02-28T08:26:22.859Z"
   },
   {
    "duration": 3,
    "start_time": "2023-02-28T08:26:23.297Z"
   },
   {
    "duration": 48,
    "start_time": "2023-02-28T08:26:23.984Z"
   },
   {
    "duration": 8,
    "start_time": "2023-02-28T08:27:36.765Z"
   },
   {
    "duration": 28,
    "start_time": "2023-02-28T08:27:49.497Z"
   },
   {
    "duration": 3,
    "start_time": "2023-02-28T08:28:20.795Z"
   },
   {
    "duration": 2,
    "start_time": "2023-02-28T08:28:22.650Z"
   },
   {
    "duration": 49,
    "start_time": "2023-02-28T08:28:23.300Z"
   },
   {
    "duration": 42,
    "start_time": "2023-02-28T08:28:47.884Z"
   },
   {
    "duration": 9,
    "start_time": "2023-02-28T08:28:51.874Z"
   },
   {
    "duration": 14,
    "start_time": "2023-02-28T08:28:57.490Z"
   },
   {
    "duration": 13,
    "start_time": "2023-02-28T08:29:23.938Z"
   },
   {
    "duration": 11,
    "start_time": "2023-02-28T08:29:48.627Z"
   },
   {
    "duration": 10,
    "start_time": "2023-02-28T08:30:13.947Z"
   },
   {
    "duration": 9,
    "start_time": "2023-02-28T08:31:05.901Z"
   },
   {
    "duration": 10,
    "start_time": "2023-02-28T08:31:56.412Z"
   },
   {
    "duration": 10,
    "start_time": "2023-02-28T08:32:09.672Z"
   },
   {
    "duration": 15,
    "start_time": "2023-02-28T08:32:50.303Z"
   },
   {
    "duration": 16,
    "start_time": "2023-02-28T08:34:08.609Z"
   },
   {
    "duration": 46,
    "start_time": "2023-02-28T08:34:12.434Z"
   },
   {
    "duration": 2,
    "start_time": "2023-02-28T08:35:07.488Z"
   },
   {
    "duration": 37,
    "start_time": "2023-02-28T08:35:09.186Z"
   },
   {
    "duration": 2,
    "start_time": "2023-02-28T08:36:22.818Z"
   },
   {
    "duration": 37,
    "start_time": "2023-02-28T08:36:22.925Z"
   },
   {
    "duration": 6,
    "start_time": "2023-02-28T08:43:03.832Z"
   },
   {
    "duration": 52,
    "start_time": "2023-02-28T08:59:49.383Z"
   },
   {
    "duration": 42,
    "start_time": "2023-02-28T08:59:57.887Z"
   },
   {
    "duration": 43,
    "start_time": "2023-02-28T09:01:34.744Z"
   },
   {
    "duration": 3,
    "start_time": "2023-02-28T09:01:38.865Z"
   },
   {
    "duration": 11,
    "start_time": "2023-02-28T09:04:06.439Z"
   },
   {
    "duration": 3,
    "start_time": "2023-02-28T09:04:09.227Z"
   },
   {
    "duration": 3,
    "start_time": "2023-02-28T09:04:09.581Z"
   },
   {
    "duration": 39,
    "start_time": "2023-02-28T09:04:09.979Z"
   },
   {
    "duration": 36,
    "start_time": "2023-02-28T09:04:50.931Z"
   },
   {
    "duration": 270,
    "start_time": "2023-02-28T09:06:22.774Z"
   },
   {
    "duration": 45,
    "start_time": "2023-02-28T09:07:28.041Z"
   },
   {
    "duration": 35,
    "start_time": "2023-02-28T09:07:36.633Z"
   },
   {
    "duration": 36,
    "start_time": "2023-02-28T09:08:34.355Z"
   },
   {
    "duration": 241,
    "start_time": "2023-02-28T09:08:39.378Z"
   },
   {
    "duration": 71,
    "start_time": "2023-03-02T17:39:03.547Z"
   },
   {
    "duration": 2657,
    "start_time": "2023-03-02T17:39:20.740Z"
   },
   {
    "duration": 151,
    "start_time": "2023-03-02T17:39:28.343Z"
   },
   {
    "duration": 1814,
    "start_time": "2023-03-02T17:39:37.949Z"
   },
   {
    "duration": 4237,
    "start_time": "2023-03-02T17:39:39.765Z"
   },
   {
    "duration": 57,
    "start_time": "2023-03-02T17:39:44.003Z"
   },
   {
    "duration": 141,
    "start_time": "2023-03-02T17:39:44.062Z"
   },
   {
    "duration": 2,
    "start_time": "2023-03-02T17:39:44.205Z"
   },
   {
    "duration": 15,
    "start_time": "2023-03-02T17:39:44.209Z"
   },
   {
    "duration": 99623,
    "start_time": "2023-03-02T17:39:44.226Z"
   },
   {
    "duration": 4,
    "start_time": "2023-03-02T17:41:23.851Z"
   },
   {
    "duration": 70,
    "start_time": "2023-03-02T17:41:23.857Z"
   },
   {
    "duration": 7738,
    "start_time": "2023-03-02T17:41:23.938Z"
   },
   {
    "duration": 4,
    "start_time": "2023-03-02T17:41:31.679Z"
   },
   {
    "duration": 209,
    "start_time": "2023-03-02T17:41:31.685Z"
   },
   {
    "duration": 282,
    "start_time": "2023-03-02T17:41:31.895Z"
   },
   {
    "duration": 0,
    "start_time": "2023-03-02T17:41:32.179Z"
   },
   {
    "duration": 0,
    "start_time": "2023-03-02T17:41:32.181Z"
   },
   {
    "duration": 0,
    "start_time": "2023-03-02T17:41:32.182Z"
   },
   {
    "duration": 0,
    "start_time": "2023-03-02T17:41:32.186Z"
   },
   {
    "duration": 0,
    "start_time": "2023-03-02T17:41:32.187Z"
   },
   {
    "duration": 0,
    "start_time": "2023-03-02T17:41:32.188Z"
   },
   {
    "duration": 59531,
    "start_time": "2023-03-02T17:41:43.064Z"
   },
   {
    "duration": 257682,
    "start_time": "2023-03-02T17:42:44.309Z"
   },
   {
    "duration": 178597,
    "start_time": "2023-03-02T17:49:03.201Z"
   },
   {
    "duration": 899,
    "start_time": "2023-03-02T17:57:07.058Z"
   },
   {
    "duration": 52,
    "start_time": "2023-03-02T17:57:07.959Z"
   },
   {
    "duration": 15,
    "start_time": "2023-03-02T17:57:08.023Z"
   },
   {
    "duration": 1812,
    "start_time": "2023-03-02T17:58:10.747Z"
   },
   {
    "duration": 816,
    "start_time": "2023-03-02T17:58:12.561Z"
   },
   {
    "duration": 52,
    "start_time": "2023-03-02T17:58:13.379Z"
   },
   {
    "duration": 150,
    "start_time": "2023-03-02T17:58:13.433Z"
   },
   {
    "duration": 2,
    "start_time": "2023-03-02T17:58:13.585Z"
   },
   {
    "duration": 6,
    "start_time": "2023-03-02T17:58:13.588Z"
   },
   {
    "duration": 99616,
    "start_time": "2023-03-02T17:58:13.595Z"
   },
   {
    "duration": 4,
    "start_time": "2023-03-02T17:59:53.212Z"
   },
   {
    "duration": 66,
    "start_time": "2023-03-02T17:59:53.221Z"
   },
   {
    "duration": 7618,
    "start_time": "2023-03-02T17:59:53.288Z"
   },
   {
    "duration": 4,
    "start_time": "2023-03-02T18:00:00.908Z"
   },
   {
    "duration": 179583,
    "start_time": "2023-03-02T18:00:00.913Z"
   },
   {
    "duration": 1208,
    "start_time": "2023-03-02T18:03:00.498Z"
   },
   {
    "duration": 64,
    "start_time": "2023-03-02T18:03:01.708Z"
   },
   {
    "duration": 11,
    "start_time": "2023-03-02T18:03:01.774Z"
   },
   {
    "duration": 1101,
    "start_time": "2023-03-02T18:03:01.786Z"
   },
   {
    "duration": 181057,
    "start_time": "2023-03-02T18:05:04.439Z"
   },
   {
    "duration": 1254,
    "start_time": "2023-03-02T18:08:05.499Z"
   },
   {
    "duration": 73,
    "start_time": "2023-03-02T18:08:06.755Z"
   },
   {
    "duration": 13,
    "start_time": "2023-03-02T18:08:06.836Z"
   }
  ],
  "kernelspec": {
   "display_name": "Python 3 (ipykernel)",
   "language": "python",
   "name": "python3"
  },
  "language_info": {
   "codemirror_mode": {
    "name": "ipython",
    "version": 3
   },
   "file_extension": ".py",
   "mimetype": "text/x-python",
   "name": "python",
   "nbconvert_exporter": "python",
   "pygments_lexer": "ipython3",
   "version": "3.9.12"
  },
  "toc": {
   "base_numbering": 1,
   "nav_menu": {},
   "number_sections": true,
   "sideBar": true,
   "skip_h1_title": true,
   "title_cell": "Содержание",
   "title_sidebar": "Contents",
   "toc_cell": true,
   "toc_position": {
    "height": "calc(100% - 180px)",
    "left": "10px",
    "top": "150px",
    "width": "302.391px"
   },
   "toc_section_display": true,
   "toc_window_display": false
  }
 },
 "nbformat": 4,
 "nbformat_minor": 2
}
